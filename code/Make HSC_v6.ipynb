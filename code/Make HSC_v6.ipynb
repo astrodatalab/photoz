{
 "cells": [
  {
   "cell_type": "code",
   "execution_count": 5,
   "id": "ffb16591",
   "metadata": {},
   "outputs": [],
   "source": [
    "import make_data"
   ]
  },
  {
   "cell_type": "code",
   "execution_count": 6,
   "id": "46fa7cf5",
   "metadata": {},
   "outputs": [
    {
     "name": "stdout",
     "output_type": "stream",
     "text": [
      "Index(['object_id', 'specz_redshift_err', 'specz_redshift', 'specz_mag_i',\n",
      "       'specz_name', 'specz_ra', 'specz_dec', 'specz_flag_homogeneous', 'ra',\n",
      "       'dec', 'coord', 'skymap_id', 'g_cmodel_mag', 'r_cmodel_mag',\n",
      "       'i_cmodel_mag', 'z_cmodel_mag', 'y_cmodel_mag', 'g_cmodel_magsigma',\n",
      "       'r_cmodel_magsigma', 'i_cmodel_magsigma', 'z_cmodel_magsigma',\n",
      "       'y_cmodel_magsigma'],\n",
      "      dtype='object')\n",
      "number of duplicate specz_name galaxies:  562736\n",
      "number of unique specz_name galaxies:  289518\n",
      "number of duplicate obj_id galaxies:  3117\n",
      "number of unique obj_id galaxies:  287949\n",
      "number of galaxies to output 286401\n",
      "outputfile: /mnt/data/HSC/HSC_v6/HSC_v6.csv\n"
     ]
    }
   ],
   "source": [
    "make_data.make_hsc_v6()"
   ]
  },
  {
   "cell_type": "code",
   "execution_count": null,
   "id": "cda701a8",
   "metadata": {},
   "outputs": [],
   "source": []
  }
 ],
 "metadata": {
  "kernelspec": {
   "display_name": "Python 3",
   "language": "python",
   "name": "python3"
  },
  "language_info": {
   "codemirror_mode": {
    "name": "ipython",
    "version": 3
   },
   "file_extension": ".py",
   "mimetype": "text/x-python",
   "name": "python",
   "nbconvert_exporter": "python",
   "pygments_lexer": "ipython3",
   "version": "3.8.10"
  }
 },
 "nbformat": 4,
 "nbformat_minor": 5
}
