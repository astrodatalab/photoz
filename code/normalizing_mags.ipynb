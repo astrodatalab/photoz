{
 "cells": [
  {
   "cell_type": "code",
   "execution_count": 9,
   "id": "dd0c96c3",
   "metadata": {},
   "outputs": [],
   "source": [
    "import h5py\n",
    "import pandas as pd\n",
    "import numpy as np\n",
    "import shutil\n",
    "import tensorflow as tf\n",
    "from sklearn.preprocessing import StandardScaler"
   ]
  },
  {
   "cell_type": "code",
   "execution_count": 2,
   "id": "dd4ffeba",
   "metadata": {},
   "outputs": [
    {
     "name": "stdout",
     "output_type": "stream",
     "text": [
      "1 Physical GPUs, 1 Logical GPUs\n"
     ]
    }
   ],
   "source": [
    "gpus = tf.config.list_physical_devices('GPU')\n",
    "if gpus:\n",
    "    try:\n",
    "        tf.config.experimental.set_virtual_device_configuration(\n",
    "            gpus[0],\n",
    "            [tf.config.experimental.VirtualDeviceConfiguration(10*1000)])\n",
    "        logical_gpus = tf.config.experimental.list_logical_devices('GPU')\n",
    "        print(len(gpus), \"Physical GPUs,\", len(logical_gpus), \"Logical GPUs\")\n",
    "    except RuntimeError as e:\n",
    "        print(e)"
   ]
  },
  {
   "cell_type": "code",
   "execution_count": 4,
   "id": "e10bda01",
   "metadata": {},
   "outputs": [],
   "source": [
    "TRAIN_OLD = f'/data/HSC/HSC_v6/step2A/127x127/5x127x127_training.hdf5'\n",
    "VAL_OLD = f'/data/HSC/HSC_v6/step2A/127x127/5x127x127_validation.hdf5'\n",
    "TEST_OLD = f'/data/HSC/HSC_v6/step2A/127x127/5x127x127_testing.hdf5'\n",
    "TRAIN_NEW = f'/data/HSC/HSC_v6/step2A/127x127/5x127x127_training_with_mags_normalized.hdf5'\n",
    "VAL_NEW = f'/data/HSC/HSC_v6/step2A/127x127/5x127x127_validation_with_mags_normalized.hdf5'\n",
    "TEST_NEW = f'/data/HSC/HSC_v6/step2A/127x127/5x127x127_testing_with_mags_normalized.hdf5'\n",
    "with h5py.File(TRAIN_OLD, 'r') as f:\n",
    "    shutil.copyfile(TRAIN_OLD, TRAIN_NEW)\n",
    "with h5py.File(VAL_OLD, 'r') as f:\n",
    "    shutil.copyfile(VAL_OLD, VAL_NEW)\n",
    "with h5py.File(TEST_OLD, 'r') as f:\n",
    "    shutil.copyfile(TEST_OLD, TEST_NEW)"
   ]
  },
  {
   "cell_type": "code",
   "execution_count": 5,
   "id": "b770364a",
   "metadata": {},
   "outputs": [],
   "source": [
    "with h5py.File(TRAIN_OLD, 'r') as f:\n",
    "    train_len = len(f['object_id'])\n",
    "with h5py.File(VAL_OLD, 'r') as f:\n",
    "    val_len = len(f['object_id'])\n",
    "with h5py.File(TEST_OLD, 'r') as f:\n",
    "    test_len = len(f['object_id'])"
   ]
  },
  {
   "cell_type": "code",
   "execution_count": 6,
   "id": "0a1cd0f5",
   "metadata": {},
   "outputs": [
    {
     "data": {
      "text/plain": [
       "200481"
      ]
     },
     "execution_count": 6,
     "metadata": {},
     "output_type": "execute_result"
    }
   ],
   "source": [
    "train_len"
   ]
  },
  {
   "cell_type": "code",
   "execution_count": 7,
   "id": "45bf9277",
   "metadata": {},
   "outputs": [],
   "source": [
    "scaler = StandardScaler()"
   ]
  },
  {
   "cell_type": "code",
   "execution_count": 19,
   "id": "6834f990",
   "metadata": {},
   "outputs": [],
   "source": [
    "with h5py.File(TRAIN_NEW, 'a') as f:\n",
    "    mags_train = np.transpose(np.array([f['g_cmodel_mag'][:], f['r_cmodel_mag'][:], f['i_cmodel_mag'][:], f['z_cmodel_mag'][:], f['y_cmodel_mag'][:]]))\n",
    "    scaler.fit(mags_train)\n",
    "    f['g_cmodel_mag_normalized'] = scaler.transform(mags_train)[:, 0]\n",
    "    f['r_cmodel_mag_normalized'] = scaler.transform(mags_train)[:, 1]\n",
    "    f['i_cmodel_mag_normalized'] = scaler.transform(mags_train)[:, 2]\n",
    "    f['z_cmodel_mag_normalized'] = scaler.transform(mags_train)[:, 3]\n",
    "    f['y_cmodel_mag_normalized'] = scaler.transform(mags_train)[:, 4]\n",
    "  "
   ]
  },
  {
   "cell_type": "code",
   "execution_count": 20,
   "id": "07320fd8",
   "metadata": {},
   "outputs": [],
   "source": [
    "with h5py.File(VAL_NEW, 'a') as f:\n",
    "    mags_val = np.transpose(np.array([f['g_cmodel_mag'][:], f['r_cmodel_mag'][:], f['i_cmodel_mag'][:], f['z_cmodel_mag'][:], f['y_cmodel_mag'][:]]))\n",
    "    f['g_cmodel_mag_normalized'] = scaler.transform(mags_val)[:, 0]\n",
    "    f['r_cmodel_mag_normalized'] = scaler.transform(mags_val)[:, 1]\n",
    "    f['i_cmodel_mag_normalized'] = scaler.transform(mags_val)[:, 2]\n",
    "    f['z_cmodel_mag_normalized'] = scaler.transform(mags_val)[:, 3]\n",
    "    f['y_cmodel_mag_normalized'] = scaler.transform(mags_val)[:, 4]\n",
    "  "
   ]
  },
  {
   "cell_type": "code",
   "execution_count": 22,
   "id": "3f5a6fe0",
   "metadata": {},
   "outputs": [],
   "source": [
    "with h5py.File(TEST_NEW, 'a') as f:\n",
    "    mags_test = np.transpose(np.array([f['g_cmodel_mag'][:], f['r_cmodel_mag'][:], f['i_cmodel_mag'][:], f['z_cmodel_mag'][:], f['y_cmodel_mag'][:]]))\n",
    "    f['g_cmodel_mag_normalized'] = scaler.transform(mags_test)[:, 0]\n",
    "    f['r_cmodel_mag_normalized'] = scaler.transform(mags_test)[:, 1]\n",
    "    f['i_cmodel_mag_normalized'] = scaler.transform(mags_test)[:, 2]\n",
    "    f['z_cmodel_mag_normalized'] = scaler.transform(mags_test)[:, 3]\n",
    "    f['y_cmodel_mag_normalized'] = scaler.transform(mags_test)[:, 4]\n",
    "  "
   ]
  },
  {
   "cell_type": "code",
   "execution_count": 23,
   "id": "5f8add12",
   "metadata": {},
   "outputs": [
    {
     "name": "stdout",
     "output_type": "stream",
     "text": [
      "[-0.49655788 -0.93345986  0.1983927  ...  0.40052469  0.24482443\n",
      "  0.66267636]\n"
     ]
    }
   ],
   "source": [
    "with h5py.File(TEST_NEW, 'r') as f:\n",
    "    print(f['g_cmodel_mag_normalized'][:])"
   ]
  },
  {
   "cell_type": "code",
   "execution_count": null,
   "id": "0dbd3633",
   "metadata": {},
   "outputs": [],
   "source": []
  }
 ],
 "metadata": {
  "kernelspec": {
   "display_name": "Python 3 (ipykernel)",
   "language": "python",
   "name": "python3"
  },
  "language_info": {
   "codemirror_mode": {
    "name": "ipython",
    "version": 3
   },
   "file_extension": ".py",
   "mimetype": "text/x-python",
   "name": "python",
   "nbconvert_exporter": "python",
   "pygments_lexer": "ipython3",
   "version": "3.10.10"
  }
 },
 "nbformat": 4,
 "nbformat_minor": 5
}
