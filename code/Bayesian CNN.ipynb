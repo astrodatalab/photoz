{
 "cells": [
  {
   "cell_type": "code",
   "execution_count": 21,
   "id": "31257f8c",
   "metadata": {},
   "outputs": [],
   "source": [
    "import os\n",
    "import tensorflow as tf\n",
    "import tensorflow_probability as tfp\n",
    "import numpy as np\n",
    "import matplotlib.pyplot as plt\n",
    "import h5py\n",
    "from sklearn.model_selection import train_test_split"
   ]
  },
  {
   "cell_type": "code",
   "execution_count": 3,
   "id": "f8ff7e41",
   "metadata": {},
   "outputs": [],
   "source": [
    "from tensorflow_probability.python.distributions import kl_divergence"
   ]
  },
  {
   "cell_type": "code",
   "execution_count": 4,
   "id": "381a84a3",
   "metadata": {},
   "outputs": [],
   "source": [
    "from tensorflow.keras.models import Sequential\n",
    "from tensorflow.keras.layers import Dense, Conv2D, MaxPooling2D, Flatten, Dropout"
   ]
  },
  {
   "cell_type": "code",
   "execution_count": 5,
   "id": "573827e2",
   "metadata": {},
   "outputs": [
    {
     "name": "stdout",
     "output_type": "stream",
     "text": [
      "1 Physical GPUs, 1 Logical GPUs\n"
     ]
    }
   ],
   "source": [
    "gpus = tf.config.list_physical_devices('GPU')\n",
    "\n",
    "if gpus:\n",
    "  # Restrict TensorFlow to only allocate 10GB of memory on the first GPU\n",
    "  try:\n",
    "    tf.config.experimental.set_virtual_device_configuration(\n",
    "        gpus[0],\n",
    "        [tf.config.experimental.VirtualDeviceConfiguration(memory_limit=5000)])\n",
    "    logical_gpus = tf.config.experimental.list_logical_devices('GPU')\n",
    "    print(len(gpus), \"Physical GPUs,\", len(logical_gpus), \"Logical GPUs\")\n",
    "  except RuntimeError as e:\n",
    "    # Virtual devices must be set before GPUs have been initialized\n",
    "    print(e)"
   ]
  },
  {
   "cell_type": "code",
   "execution_count": 114,
   "id": "7f0de21f",
   "metadata": {},
   "outputs": [],
   "source": [
    "hf = h5py.File('/mnt/data/HSC/HSC_v9/five_band_image120x120.hdf5', 'r')"
   ]
  },
  {
   "cell_type": "code",
   "execution_count": 115,
   "id": "0eae3aee",
   "metadata": {},
   "outputs": [],
   "source": [
    "n = 10000"
   ]
  },
  {
   "cell_type": "code",
   "execution_count": 116,
   "id": "5034220e",
   "metadata": {},
   "outputs": [],
   "source": [
    "x = hf[\"image\"][0:n]\n",
    "y = hf[\"specz\"][0:n]"
   ]
  },
  {
   "cell_type": "code",
   "execution_count": 117,
   "id": "5c6326b2",
   "metadata": {},
   "outputs": [
    {
     "data": {
      "text/plain": [
       "(10000, 5, 120, 120)"
      ]
     },
     "execution_count": 117,
     "metadata": {},
     "output_type": "execute_result"
    }
   ],
   "source": [
    "x.shape"
   ]
  },
  {
   "cell_type": "code",
   "execution_count": 127,
   "id": "44bf2b16",
   "metadata": {},
   "outputs": [],
   "source": [
    "x = np.transpose(x,(0,2,3,1))\n",
    "max_value = np.max(x)\n",
    "x_new = np.true_divide(x,max_value) # Convert to valid input tensor, normalize"
   ]
  },
  {
   "cell_type": "code",
   "execution_count": 128,
   "id": "0e19c203",
   "metadata": {},
   "outputs": [],
   "source": [
    "hf.close()"
   ]
  },
  {
   "cell_type": "code",
   "execution_count": 129,
   "id": "ac76c45a",
   "metadata": {},
   "outputs": [],
   "source": [
    "x_train, x_test, y_train, y_test = train_test_split(x_new,y,test_size=0.2)"
   ]
  },
  {
   "cell_type": "code",
   "execution_count": 130,
   "id": "45dc0386",
   "metadata": {},
   "outputs": [],
   "source": [
    "y_train = y_train[:,0]\n",
    "y_test = y_test[:,0]"
   ]
  },
  {
   "cell_type": "code",
   "execution_count": 131,
   "id": "5c8c5452",
   "metadata": {},
   "outputs": [],
   "source": [
    "kl_divergence_function = lambda q, p, _: kl_divergence(q, p) / n"
   ]
  },
  {
   "cell_type": "code",
   "execution_count": 147,
   "id": "1eb9778c",
   "metadata": {},
   "outputs": [
    {
     "name": "stdout",
     "output_type": "stream",
     "text": [
      "WARNING:tensorflow:Please add `keras.layers.InputLayer` instead of `keras.Input` to Sequential model. `keras.Input` is intended to be used by Functional model.\n"
     ]
    }
   ],
   "source": [
    "model_variational = Sequential([\n",
    "    tf.keras.Input(shape=(120,120,5),name=\"basket\"),\n",
    "    \n",
    "    tfp.layers.Convolution2DFlipout(100, kernel_size=5, strides=(3,3), data_format=\"channels_last\", \n",
    "                                    padding=\"same\", activation=tf.nn.relu, name=\"conv_tfp_1a\", \n",
    "                                    kernel_divergence_fn=kl_divergence_function),\n",
    "    tf.keras.layers.MaxPool2D(strides=(2,2), pool_size=(2,2), padding=\"same\"),\n",
    "    \n",
    "    tfp.layers.Convolution2DFlipout(100, kernel_size=5, strides=(3,3), data_format=\"channels_last\", \n",
    "                                    padding=\"same\", activation=tf.nn.relu, name=\"conv_tfp_1b\", \n",
    "                                    kernel_divergence_fn=kl_divergence_function),\n",
    "    tf.keras.layers.MaxPool2D(strides=(2,2), pool_size=(2,2), padding=\"same\"),\n",
    "    \n",
    "    tfp.layers.Convolution2DFlipout(100, kernel_size=5, strides=(3,3), data_format=\"channels_last\", \n",
    "                                    padding=\"same\", activation=tf.nn.relu, name=\"conv_tfp_1c\", \n",
    "                                    kernel_divergence_fn=kl_divergence_function),\n",
    "    tf.keras.layers.MaxPool2D(strides=(2,2), pool_size=(2,2), padding=\"same\"),\n",
    "    \n",
    "    tfp.layers.Convolution2DFlipout(100, kernel_size=5, strides=(3,3), data_format=\"channels_last\", \n",
    "                                    padding=\"same\", activation=tf.nn.relu, name=\"conv_tfp_1d\", \n",
    "                                    kernel_divergence_fn=kl_divergence_function),\n",
    "    tf.keras.layers.MaxPool2D(strides=(2,2), pool_size=(2,2), padding=\"same\"),\n",
    "    tf.keras.layers.Flatten(),\n",
    "    tfp.layers.DenseFlipout(1, kernel_divergence_fn=kl_divergence_function),\n",
    "])\n"
   ]
  },
  {
   "cell_type": "code",
   "execution_count": 148,
   "id": "1ad52575",
   "metadata": {},
   "outputs": [],
   "source": [
    "learning_rate = 1.0e-3\n",
    "model_variational.compile(loss='mse',\n",
    "              optimizer='Adam',\n",
    "              metrics=['mse'])"
   ]
  },
  {
   "cell_type": "code",
   "execution_count": 149,
   "id": "e298e7c3",
   "metadata": {},
   "outputs": [
    {
     "name": "stdout",
     "output_type": "stream",
     "text": [
      "Epoch 1/50\n",
      "16/16 [==============================] - 3s 63ms/step - loss: 193.0741 - mse: 0.6395\n",
      "Epoch 2/50\n",
      "16/16 [==============================] - 1s 58ms/step - loss: 191.7318 - mse: 0.4912\n",
      "Epoch 3/50\n",
      "16/16 [==============================] - 1s 57ms/step - loss: 190.5266 - mse: 0.4844\n",
      "Epoch 4/50\n",
      "16/16 [==============================] - 1s 54ms/step - loss: 189.3299 - mse: 0.4837\n",
      "Epoch 5/50\n",
      "16/16 [==============================] - 1s 55ms/step - loss: 188.1339 - mse: 0.4800\n",
      "Epoch 6/50\n",
      "16/16 [==============================] - 1s 57ms/step - loss: 186.9461 - mse: 0.4814\n",
      "Epoch 7/50\n",
      "16/16 [==============================] - 1s 58ms/step - loss: 185.7555 - mse: 0.4769\n",
      "Epoch 8/50\n",
      "16/16 [==============================] - 1s 57ms/step - loss: 184.5717 - mse: 0.4767\n",
      "Epoch 9/50\n",
      "16/16 [==============================] - 1s 58ms/step - loss: 183.3876 - mse: 0.4741\n",
      "Epoch 10/50\n",
      "16/16 [==============================] - 1s 56ms/step - loss: 182.2101 - mse: 0.4760\n",
      "Epoch 11/50\n",
      "16/16 [==============================] - 1s 60ms/step - loss: 181.0316 - mse: 0.4754\n",
      "Epoch 12/50\n",
      "16/16 [==============================] - 1s 57ms/step - loss: 179.8574 - mse: 0.4774\n",
      "Epoch 13/50\n",
      "16/16 [==============================] - 1s 57ms/step - loss: 178.6805 - mse: 0.4753\n",
      "Epoch 14/50\n",
      "16/16 [==============================] - 1s 56ms/step - loss: 177.5079 - mse: 0.4763\n",
      "Epoch 15/50\n",
      "16/16 [==============================] - 1s 56ms/step - loss: 176.3334 - mse: 0.4740\n",
      "Epoch 16/50\n",
      "16/16 [==============================] - 1s 57ms/step - loss: 175.1625 - mse: 0.4741\n",
      "Epoch 17/50\n",
      "16/16 [==============================] - 1s 57ms/step - loss: 173.9917 - mse: 0.4733\n",
      "Epoch 18/50\n",
      "16/16 [==============================] - 1s 58ms/step - loss: 172.8226 - mse: 0.4731\n",
      "Epoch 19/50\n",
      "16/16 [==============================] - 1s 57ms/step - loss: 171.6573 - mse: 0.4755\n",
      "Epoch 20/50\n",
      "16/16 [==============================] - 1s 57ms/step - loss: 170.4891 - mse: 0.4739\n",
      "Epoch 21/50\n",
      "16/16 [==============================] - 1s 56ms/step - loss: 169.3241 - mse: 0.4743\n",
      "Epoch 22/50\n",
      "16/16 [==============================] - 1s 59ms/step - loss: 168.1591 - mse: 0.4738\n",
      "Epoch 23/50\n",
      "16/16 [==============================] - 1s 57ms/step - loss: 166.9968 - mse: 0.4748\n",
      "Epoch 24/50\n",
      "16/16 [==============================] - 1s 57ms/step - loss: 165.8320 - mse: 0.4722\n",
      "Epoch 25/50\n",
      "16/16 [==============================] - 1s 56ms/step - loss: 164.6717 - mse: 0.4729\n",
      "Epoch 26/50\n",
      "16/16 [==============================] - 1s 58ms/step - loss: 163.5129 - mse: 0.4741\n",
      "Epoch 27/50\n",
      "16/16 [==============================] - 1s 57ms/step - loss: 162.3530 - mse: 0.4729\n",
      "Epoch 28/50\n",
      "16/16 [==============================] - 1s 59ms/step - loss: 161.1971 - mse: 0.4745\n",
      "Epoch 29/50\n",
      "16/16 [==============================] - 1s 56ms/step - loss: 160.0400 - mse: 0.4737\n",
      "Epoch 30/50\n",
      "16/16 [==============================] - 1s 59ms/step - loss: 158.8850 - mse: 0.4736\n",
      "Epoch 31/50\n",
      "16/16 [==============================] - 1s 59ms/step - loss: 157.7295 - mse: 0.4719\n",
      "Epoch 32/50\n",
      "16/16 [==============================] - 1s 57ms/step - loss: 156.5777 - mse: 0.4726\n",
      "Epoch 33/50\n",
      "16/16 [==============================] - 1s 58ms/step - loss: 155.4267 - mse: 0.4727\n",
      "Epoch 34/50\n",
      "16/16 [==============================] - 1s 57ms/step - loss: 154.2768 - mse: 0.4727\n",
      "Epoch 35/50\n",
      "16/16 [==============================] - 1s 57ms/step - loss: 153.1290 - mse: 0.4732\n",
      "Epoch 36/50\n",
      "16/16 [==============================] - 1s 58ms/step - loss: 151.9805 - mse: 0.4718\n",
      "Epoch 37/50\n",
      "16/16 [==============================] - 1s 56ms/step - loss: 150.8349 - mse: 0.4719\n",
      "Epoch 38/50\n",
      "16/16 [==============================] - 1s 57ms/step - loss: 149.6918 - mse: 0.4730\n",
      "Epoch 39/50\n",
      "16/16 [==============================] - 1s 60ms/step - loss: 148.5482 - mse: 0.4720\n",
      "Epoch 40/50\n",
      "16/16 [==============================] - 1s 59ms/step - loss: 147.4080 - mse: 0.4731\n",
      "Epoch 41/50\n",
      "16/16 [==============================] - 1s 58ms/step - loss: 146.2683 - mse: 0.4730\n",
      "Epoch 42/50\n",
      "16/16 [==============================] - 1s 58ms/step - loss: 145.1297 - mse: 0.4725\n",
      "Epoch 43/50\n",
      "16/16 [==============================] - 1s 57ms/step - loss: 143.9941 - mse: 0.4734\n",
      "Epoch 44/50\n",
      "16/16 [==============================] - 1s 58ms/step - loss: 142.8590 - mse: 0.4732\n",
      "Epoch 45/50\n",
      "16/16 [==============================] - 1s 59ms/step - loss: 141.7259 - mse: 0.4732\n",
      "Epoch 46/50\n",
      "16/16 [==============================] - 1s 58ms/step - loss: 140.5940 - mse: 0.4729\n",
      "Epoch 47/50\n",
      "16/16 [==============================] - 1s 57ms/step - loss: 139.4645 - mse: 0.4732\n",
      "Epoch 48/50\n",
      "16/16 [==============================] - 1s 59ms/step - loss: 138.3364 - mse: 0.4733\n",
      "Epoch 49/50\n",
      "16/16 [==============================] - 1s 52ms/step - loss: 137.2102 - mse: 0.4733\n",
      "Epoch 50/50\n",
      "16/16 [==============================] - 1s 52ms/step - loss: 136.0863 - mse: 0.4741\n"
     ]
    },
    {
     "data": {
      "text/plain": [
       "<tensorflow.python.keras.callbacks.History at 0x7f2b0449d8e0>"
      ]
     },
     "execution_count": 149,
     "metadata": {},
     "output_type": "execute_result"
    }
   ],
   "source": [
    "model_variational.fit(x = x_train, y = y_train, batch_size = 500, epochs = 50)"
   ]
  },
  {
   "cell_type": "code",
   "execution_count": 150,
   "id": "eb6f5683",
   "metadata": {},
   "outputs": [
    {
     "data": {
      "text/plain": [
       "array([[0.66387993],\n",
       "       [0.5815656 ]], dtype=float32)"
      ]
     },
     "execution_count": 150,
     "metadata": {},
     "output_type": "execute_result"
    }
   ],
   "source": [
    "model_variational.predict(np.array([x_test[0],x_test[1]]))"
   ]
  },
  {
   "cell_type": "code",
   "execution_count": 153,
   "id": "cd63d81c",
   "metadata": {},
   "outputs": [],
   "source": [
    "y_test_predict = model_variational.predict(x_test)\n",
    "y_test_prediction = []\n",
    "\n",
    "for i in range(len(y_test)):\n",
    "    y_test_prediction.append(y_test_predict[i][0])\n",
    "\n",
    "y_test_prediction = np.asarray(y_test_prediction)\n",
    "\n",
    "y_test_spectro = np.asarray(y_test)"
   ]
  },
  {
   "cell_type": "code",
   "execution_count": 154,
   "id": "ead84d86",
   "metadata": {},
   "outputs": [
    {
     "data": {
      "text/plain": [
       "array([0.43696001, 2.15862012, 0.50957   , ..., 0.72834003, 0.21884   ,\n",
       "       0.62910002])"
      ]
     },
     "execution_count": 154,
     "metadata": {},
     "output_type": "execute_result"
    }
   ],
   "source": [
    "y_test_spectro"
   ]
  },
  {
   "cell_type": "code",
   "execution_count": 155,
   "id": "3a729f3d",
   "metadata": {},
   "outputs": [
    {
     "data": {
      "text/plain": [
       "array([0.5496454 , 0.6170847 , 0.63680893, ..., 0.7542631 , 0.6289184 ,\n",
       "       0.549116  ], dtype=float32)"
      ]
     },
     "execution_count": 155,
     "metadata": {},
     "output_type": "execute_result"
    }
   ],
   "source": [
    "y_test_prediction"
   ]
  },
  {
   "cell_type": "code",
   "execution_count": 156,
   "id": "63bce799",
   "metadata": {},
   "outputs": [],
   "source": [
    "from scipy.stats import gaussian_kde\n",
    "xy = np.asarray(np.vstack([y_test_spectro,y_test_prediction])).astype('float32')\n",
    "z = gaussian_kde(xy)(xy)"
   ]
  },
  {
   "cell_type": "code",
   "execution_count": 157,
   "id": "5c3fa2cb",
   "metadata": {},
   "outputs": [
    {
     "data": {
      "text/plain": [
       "(0.0, 2.0)"
      ]
     },
     "execution_count": 157,
     "metadata": {},
     "output_type": "execute_result"
    },
    {
     "data": {
      "image/png": "[encoded data removed]",
      "text/plain": [
       "<Figure size 432x288 with 2 Axes>"
      ]
     },
     "metadata": {
      "needs_background": "light"
     },
     "output_type": "display_data"
    }
   ],
   "source": [
    "plt.rcParams.update({'font.size': 10})\n",
    "fig, ax = plt.subplots()\n",
    "scatter_plot = ax.scatter(y_test_spectro, y_test_prediction, c = z, s = 1, edgecolor = None)\n",
    "plt.colorbar(scatter_plot, label = 'Density')\n",
    "plt.title('Prediction, Ensemble')\n",
    "plt.xlabel('spectroscopic redshift')\n",
    "plt.ylabel('photo z')\n",
    "plt.plot([0, 2], [0, 2],color = 'black')\n",
    "plt.xlim([0, 2])\n",
    "plt.ylim([0, 2])"
   ]
  },
  {
   "cell_type": "code",
   "execution_count": null,
   "id": "384e7874",
   "metadata": {},
   "outputs": [],
   "source": []
  }
 ],
 "metadata": {
  "kernelspec": {
   "display_name": "Python 3",
   "language": "python",
   "name": "python3"
  },
  "language_info": {
   "codemirror_mode": {
    "name": "ipython",
    "version": 3
   },
   "file_extension": ".py",
   "mimetype": "text/x-python",
   "name": "python",
   "nbconvert_exporter": "python",
   "pygments_lexer": "ipython3",
   "version": "3.8.10"
  }
 },
 "nbformat": 4,
 "nbformat_minor": 5
}
