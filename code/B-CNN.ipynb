{
 "cells": [
  {
   "cell_type": "code",
   "execution_count": 1,
   "id": "1091fe3f",
   "metadata": {},
   "outputs": [],
   "source": [
    "import os\n",
    "import numpy as np\n",
    "import matplotlib.pyplot as plt\n",
    "from astropy.io import fits\n",
    "import tensorflow as tf\n",
    "import tensorflow_probability as tfp\n",
    "import h5py\n",
    "import random\n",
    "from sklearn.model_selection import train_test_split\n",
    "import pandas as pd"
   ]
  },
  {
   "cell_type": "code",
   "execution_count": 2,
   "id": "50b6b1d4",
   "metadata": {},
   "outputs": [],
   "source": [
    "tfpl = tfp.layers\n",
    "tf1 = tf.compat.v1\n",
    "tfd = tfp.distributions"
   ]
  },
  {
   "cell_type": "code",
   "execution_count": 3,
   "id": "3d2c3541",
   "metadata": {},
   "outputs": [],
   "source": [
    "from tensorflow_probability.python.distributions import kl_divergence"
   ]
  },
  {
   "cell_type": "code",
   "execution_count": 4,
   "id": "1d8bd5ba",
   "metadata": {},
   "outputs": [
    {
     "name": "stdout",
     "output_type": "stream",
     "text": [
      "1 Physical GPUs, 1 Logical GPUs\n"
     ]
    }
   ],
   "source": [
    "gpus = tf.config.list_physical_devices('GPU')\n",
    "\n",
    "if gpus:\n",
    "  # Restrict TensorFlow to only allocate 10GB of memory on the first GPU\n",
    "  try:\n",
    "    tf.config.experimental.set_virtual_device_configuration(\n",
    "        gpus[0],\n",
    "        [tf.config.experimental.VirtualDeviceConfiguration(memory_limit=5000)])\n",
    "    logical_gpus = tf.config.experimental.list_logical_devices('GPU')\n",
    "    print(len(gpus), \"Physical GPUs,\", len(logical_gpus), \"Logical GPUs\")\n",
    "  except RuntimeError as e:\n",
    "    # Virtual devices must be set before GPUs have been initialized\n",
    "    print(e)"
   ]
  },
  {
   "cell_type": "code",
   "execution_count": 5,
   "id": "28deb299",
   "metadata": {},
   "outputs": [],
   "source": [
    "n = 10000\n",
    "t = 2000\n",
    "v = 2000\n",
    "hf_train = h5py.File('/data/HSC/HSC_v6/step2A/127x127/five_band_image127x127_training_with_metadata_small.hdf5', 'r')\n",
    "hf_test = h5py.File('/data/HSC/HSC_v6/step2A/127x127/five_band_image127x127_testing_with_metadata_small.hdf5', 'r')\n",
    "hf_validation = h5py.File('/data/HSC/HSC_v6/step2A/127x127/five_band_image127x127_validation_with_metadata_small.hdf5', 'r')\n",
    "x_train = np.transpose(hf_train['image'][0:n],(0,2,3,1))\n",
    "x_test = np.transpose(hf_test['image'][0:t],(0,2,3,1))\n",
    "x_validation = np.transpose(hf_validation['image'][0:v],(0,2,3,1))\n",
    "y_train = hf_train['specz_redshift'][0:n]\n",
    "y_test = hf_test['specz_redshift'][0:t]\n",
    "y_validation = hf_validation['specz_redshift'][0:v]\n",
    "oid_train = hf_train['object_id'][0:n]\n",
    "oid_test = hf_test['object_id'][0:t]\n",
    "oid_validation = hf_validation['object_id'][0:v]\n",
    "hf_train.close()\n",
    "hf_test.close()\n",
    "hf_validation.close()"
   ]
  },
  {
   "cell_type": "code",
   "execution_count": 6,
   "id": "0f187c79",
   "metadata": {},
   "outputs": [],
   "source": [
    "def posterior_mean_field(kernel_size: int, bias_size: int, dtype: any) -> tf.keras.Model:\n",
    "    \"\"\"Specify the surrogate posterior over `keras.layers.Dense` `kernel` and `bias`.\"\"\"\n",
    "    n = kernel_size + bias_size\n",
    "    c = np.log(np.expm1(1.))\n",
    "\n",
    "    return tf.keras.Sequential([\n",
    "        tfp.layers.VariableLayer(2 * n, dtype=dtype, initializer=lambda shape, dtype: random_gaussian_initializer(shape, dtype), trainable=True),\n",
    "        tfp.layers.DistributionLambda(lambda t: tfd.Independent(\n",
    "            tfd.Normal(loc=t[..., :n],\n",
    "                       scale= 0 + tf.nn.softplus(c + t[..., n:])),\n",
    "            reinterpreted_batch_ndims=1)),\n",
    "    ])\n",
    "\n",
    "def prior_trainable(kernel_size: int, bias_size: int, dtype: any) -> tf.keras.Model:\n",
    "    \"\"\"Specify the prior over `keras.layers.Dense` `kernel` and `bias`.\"\"\"\n",
    "    n = kernel_size + bias_size\n",
    "\n",
    "    return tf.keras.Sequential([\n",
    "        tfp.layers.VariableLayer(n, dtype=dtype),  # Returns a trainable variable of shape n, regardless of input\n",
    "        tfp.layers.DistributionLambda(lambda t: tfd.Independent(\n",
    "            tfd.Normal(loc=t, scale=0.1),\n",
    "            reinterpreted_batch_ndims=1)),\n",
    "    ])\n",
    "\n",
    "def random_gaussian_initializer(shape, dtype):\n",
    "    n = int(shape / 2)\n",
    "    loc_norm = tf.random_normal_initializer(mean=0., stddev=0.1)\n",
    "    loc = tf.Variable(\n",
    "        initial_value=loc_norm(shape=(n,), dtype=dtype)\n",
    "    )\n",
    "    scale_norm = tf.random_normal_initializer(mean=-3., stddev=0.1)\n",
    "    scale = tf.Variable(\n",
    "        initial_value=scale_norm(shape=(n,), dtype=dtype)\n",
    "    )\n",
    "    return tf.concat([loc, scale], 0)\n",
    "\n",
    "def negative_loglikelihood(targets, estimated_distribution):\n",
    "    return -estimated_distribution.log_prob(targets)\n",
    "\n",
    "kl_divergence_function = lambda q, p, _: kl_divergence(q, p) / n"
   ]
  },
  {
   "cell_type": "code",
   "execution_count": 7,
   "id": "69ccd934",
   "metadata": {},
   "outputs": [],
   "source": [
    "import keras\n",
    "from keras.models import Model\n",
    "from tensorflow.keras.models import Sequential\n",
    "from keras.layers import Dense, Dropout, Flatten, Input, BatchNormalization\n",
    "from keras.layers import Conv2D, MaxPooling2D"
   ]
  },
  {
   "cell_type": "code",
   "execution_count": 8,
   "id": "2beada9e",
   "metadata": {},
   "outputs": [
    {
     "name": "stdout",
     "output_type": "stream",
     "text": [
      "WARNING:tensorflow:Please add `keras.layers.InputLayer` instead of `keras.Input` to Sequential model. `keras.Input` is intended to be used by Functional model.\n"
     ]
    },
    {
     "name": "stderr",
     "output_type": "stream",
     "text": [
      "/opt/anaconda3/envs/jupyterhub/lib/python3.8/site-packages/tensorflow/python/keras/engine/base_layer.py:2191: UserWarning: `layer.add_variable` is deprecated and will be removed in a future version. Please use `layer.add_weight` method instead.\n",
      "  warnings.warn('`layer.add_variable` is deprecated and '\n"
     ]
    },
    {
     "name": "stdout",
     "output_type": "stream",
     "text": [
      "Model: \"sequential\"\n",
      "_________________________________________________________________\n",
      "Layer (type)                 Output Shape              Param #   \n",
      "=================================================================\n",
      "conv2d_flipout (Conv2DFlipou (None, 126, 126, 32)      1312      \n",
      "_________________________________________________________________\n",
      "module_wrapper (ModuleWrappe (None, 63, 63, 32)        0         \n",
      "_________________________________________________________________\n",
      "module_wrapper_1 (ModuleWrap (None, 62, 62, 32)        4128      \n",
      "_________________________________________________________________\n",
      "module_wrapper_2 (ModuleWrap (None, 31, 31, 32)        0         \n",
      "_________________________________________________________________\n",
      "module_wrapper_3 (ModuleWrap (None, 30, 30, 32)        4128      \n",
      "_________________________________________________________________\n",
      "module_wrapper_4 (ModuleWrap (None, 29, 29, 32)        4128      \n",
      "_________________________________________________________________\n",
      "flatten (Flatten)            (None, 26912)             0         \n",
      "_________________________________________________________________\n",
      "module_wrapper_5 (ModuleWrap (None, 26912)             0         \n",
      "_________________________________________________________________\n",
      "dense_variational (DenseVari (None, 64)                5167296   \n",
      "_________________________________________________________________\n",
      "dense_variational_1 (DenseVa (None, 64)                12480     \n",
      "_________________________________________________________________\n",
      "module_wrapper_6 (ModuleWrap (None, 2)                 130       \n",
      "_________________________________________________________________\n",
      "independent_normal (Independ multiple                  0         \n",
      "=================================================================\n",
      "Total params: 5,193,602\n",
      "Trainable params: 5,193,602\n",
      "Non-trainable params: 0\n",
      "_________________________________________________________________\n"
     ]
    }
   ],
   "source": [
    "model_variational = Sequential([\n",
    "    tf.keras.layers.Input(shape=(127,127,5)),\n",
    "    tfp.layers.Convolution2DFlipout(32, kernel_size=(2,2), activation='tanh', kernel_divergence_fn=kl_divergence_function),\n",
    "    MaxPooling2D(2,2),\n",
    "    Conv2D(32, kernel_size=(2,2),activation='tanh'),\n",
    "    MaxPooling2D(2,2),\n",
    "    Conv2D(32, kernel_size=(2,2),activation='relu'),\n",
    "    #tfp.layers.Convolution2DFlipout(32, kernel_size=(2,2), activation='relu', kernel_divergence_fn=kl_divergence_function),\n",
    "    Conv2D(32, kernel_size=(2,2),activation='relu'),\n",
    "    #tfp.layers.Convolution2DFlipout(32, kernel_size=(2,2), activation='relu', kernel_divergence_fn=kl_divergence_function),\n",
    "    tf.keras.layers.Flatten(),\n",
    "    Dropout(0.2),\n",
    "    # tfp.layers.DenseVariational(512, activation='tanh', make_posterior_fn=posterior_mean_field, make_prior_fn=prior_trainable, kl_weight=1/n),\n",
    "    tfp.layers.DenseVariational(64, \n",
    "                                      make_posterior_fn=posterior_mean_field,\n",
    "                                      make_prior_fn=prior_trainable,\n",
    "                                      kl_weight=1/n),\n",
    "    # tfp.layers.DenseVariational(128, activation='tanh', make_posterior_fn=posterior_mean_field, make_prior_fn=prior_trainable, kl_weight=1/n),\n",
    "    tfp.layers.DenseVariational(64, \n",
    "                                      make_posterior_fn=posterior_mean_field,\n",
    "                                      make_prior_fn=prior_trainable,\n",
    "                                      kl_weight=1/n),\n",
    "    # Dense(2)\n",
    "    Dense(tfpl.IndependentNormal.params_size(1)),\n",
    "    tfpl.IndependentNormal(1)\n",
    "])\n",
    "\n",
    "model_variational.summary()"
   ]
  },
  {
   "cell_type": "code",
   "execution_count": 9,
   "id": "de5fcf3a",
   "metadata": {},
   "outputs": [],
   "source": [
    "def loss_function(targets, estimated_distribution):\n",
    "    return - estimated_distribution.log_prob(targets) * 1 / (1 + targets)\n",
    "\n",
    "model_variational.compile(optimizer = tf.keras.optimizers.Adam(learning_rate = 0.001), loss = loss_function, metrics = [keras.metrics.RootMeanSquaredError()])"
   ]
  },
  {
   "cell_type": "code",
   "execution_count": null,
   "id": "ed21918a",
   "metadata": {
    "scrolled": true
   },
   "outputs": [
    {
     "name": "stdout",
     "output_type": "stream",
     "text": [
      "WARNING:tensorflow:Model failed to serialize as JSON. Ignoring... Layer ModuleWrapper has arguments in `__init__` and therefore must override `get_config`.\n",
      "Epoch 1/900\n",
      "313/313 [==============================] - 490s 31ms/step - loss: 7912593.0000 - root_mean_squared_error: 20.5088 - val_loss: 8.3563 - val_root_mean_squared_error: 14.9206\n",
      "Epoch 2/900\n",
      "313/313 [==============================] - 6s 20ms/step - loss: 7.3866 - root_mean_squared_error: 12.1495 - val_loss: 6.9659 - val_root_mean_squared_error: 10.3500\n",
      "Epoch 3/900\n",
      "313/313 [==============================] - 8s 25ms/step - loss: 6.8112 - root_mean_squared_error: 9.2625 - val_loss: 6.7903 - val_root_mean_squared_error: 8.4120\n",
      "Epoch 4/900\n",
      "313/313 [==============================] - 6s 21ms/step - loss: 6.6475 - root_mean_squared_error: 7.7955 - val_loss: 6.6142 - val_root_mean_squared_error: 7.2769\n",
      "Epoch 5/900\n",
      "313/313 [==============================] - 5s 15ms/step - loss: 6.5776 - root_mean_squared_error: 6.8681 - val_loss: 6.6519 - val_root_mean_squared_error: 6.5108\n",
      "Epoch 6/900\n",
      "313/313 [==============================] - 6s 20ms/step - loss: 6.5204 - root_mean_squared_error: 6.2149 - val_loss: 6.4759 - val_root_mean_squared_error: 5.9490\n",
      "Epoch 7/900\n",
      "313/313 [==============================] - 5s 14ms/step - loss: 6.4546 - root_mean_squared_error: 5.7215 - val_loss: 6.4143 - val_root_mean_squared_error: 5.5138\n",
      "Epoch 8/900\n",
      "313/313 [==============================] - 6s 19ms/step - loss: 6.4517 - root_mean_squared_error: 5.3324 - val_loss: 6.4234 - val_root_mean_squared_error: 5.1652\n",
      "Epoch 9/900\n",
      "313/313 [==============================] - 5s 16ms/step - loss: 6.4190 - root_mean_squared_error: 5.0160 - val_loss: 6.4392 - val_root_mean_squared_error: 4.8773\n",
      "Epoch 10/900\n",
      "313/313 [==============================] - 5s 17ms/step - loss: 6.3916 - root_mean_squared_error: 4.7522 - val_loss: 6.3588 - val_root_mean_squared_error: 4.6345\n",
      "Epoch 11/900\n",
      "313/313 [==============================] - 7s 23ms/step - loss: 6.3791 - root_mean_squared_error: 4.5275 - val_loss: 6.3780 - val_root_mean_squared_error: 4.4264\n",
      "Epoch 12/900\n",
      "313/313 [==============================] - 8s 25ms/step - loss: 6.3654 - root_mean_squared_error: 4.3335 - val_loss: 6.3678 - val_root_mean_squared_error: 4.2455\n",
      "Epoch 13/900\n",
      "313/313 [==============================] - 8s 26ms/step - loss: 6.3437 - root_mean_squared_error: 4.1639 - val_loss: 6.3193 - val_root_mean_squared_error: 4.0861\n",
      "Epoch 14/900\n",
      "313/313 [==============================] - 7s 22ms/step - loss: 6.3446 - root_mean_squared_error: 4.0141 - val_loss: 6.3541 - val_root_mean_squared_error: 3.9451\n",
      "Epoch 15/900\n",
      "313/313 [==============================] - 6s 18ms/step - loss: 6.3402 - root_mean_squared_error: 3.8807 - val_loss: 6.3287 - val_root_mean_squared_error: 3.8189\n",
      "Epoch 16/900\n",
      "313/313 [==============================] - 6s 19ms/step - loss: 6.3160 - root_mean_squared_error: 3.7607 - val_loss: 6.2966 - val_root_mean_squared_error: 3.7046\n",
      "Epoch 17/900\n",
      "313/313 [==============================] - 5s 16ms/step - loss: 6.3105 - root_mean_squared_error: 3.6515 - val_loss: 6.3098 - val_root_mean_squared_error: 3.6004\n",
      "Epoch 18/900\n",
      "313/313 [==============================] - 5s 18ms/step - loss: 6.3393 - root_mean_squared_error: 3.5522 - val_loss: 6.3058 - val_root_mean_squared_error: 3.5057\n",
      "Epoch 19/900\n",
      "313/313 [==============================] - 5s 17ms/step - loss: 6.2987 - root_mean_squared_error: 3.4614 - val_loss: 6.3017 - val_root_mean_squared_error: 3.4185\n",
      "Epoch 20/900\n",
      "313/313 [==============================] - 7s 21ms/step - loss: 6.2895 - root_mean_squared_error: 3.3778 - val_loss: 6.3570 - val_root_mean_squared_error: 3.3382\n",
      "Epoch 21/900\n",
      "313/313 [==============================] - 8s 24ms/step - loss: 6.2758 - root_mean_squared_error: 3.3006 - val_loss: 6.3039 - val_root_mean_squared_error: 3.2640\n",
      "Epoch 22/900\n",
      "313/313 [==============================] - 4s 14ms/step - loss: 6.2794 - root_mean_squared_error: 3.2291 - val_loss: 6.2675 - val_root_mean_squared_error: 3.1950\n",
      "Epoch 23/900\n",
      "313/313 [==============================] - 7s 22ms/step - loss: 6.2687 - root_mean_squared_error: 3.1622 - val_loss: 6.2420 - val_root_mean_squared_error: 3.1304\n",
      "Epoch 24/900\n",
      "313/313 [==============================] - 7s 21ms/step - loss: 6.2557 - root_mean_squared_error: 3.0998 - val_loss: 6.2733 - val_root_mean_squared_error: 3.0701\n",
      "Epoch 25/900\n",
      "313/313 [==============================] - 5s 15ms/step - loss: 6.2755 - root_mean_squared_error: 3.0415 - val_loss: 6.2804 - val_root_mean_squared_error: 3.0139\n",
      "Epoch 26/900\n",
      "313/313 [==============================] - 8s 24ms/step - loss: 6.2310 - root_mean_squared_error: 2.9871 - val_loss: 6.2821 - val_root_mean_squared_error: 2.9609\n",
      "Epoch 27/900\n",
      "313/313 [==============================] - 5s 15ms/step - loss: 6.2288 - root_mean_squared_error: 2.9356 - val_loss: 6.2418 - val_root_mean_squared_error: 2.9108\n",
      "Epoch 28/900\n",
      "313/313 [==============================] - 6s 18ms/step - loss: 6.2149 - root_mean_squared_error: 2.8869 - val_loss: 6.2263 - val_root_mean_squared_error: 2.8634\n",
      "Epoch 29/900\n",
      "313/313 [==============================] - 5s 17ms/step - loss: 6.2234 - root_mean_squared_error: 2.8408 - val_loss: 6.2248 - val_root_mean_squared_error: 2.8188\n",
      "Epoch 30/900\n",
      "313/313 [==============================] - 5s 17ms/step - loss: 6.2000 - root_mean_squared_error: 2.7974 - val_loss: 6.2390 - val_root_mean_squared_error: 2.7765\n",
      "Epoch 31/900\n",
      "313/313 [==============================] - 6s 18ms/step - loss: 6.1942 - root_mean_squared_error: 2.7561 - val_loss: 6.2150 - val_root_mean_squared_error: 2.7362\n",
      "Epoch 32/900\n",
      "313/313 [==============================] - 5s 15ms/step - loss: 6.2007 - root_mean_squared_error: 2.7168 - val_loss: 6.2170 - val_root_mean_squared_error: 2.6980\n",
      "Epoch 33/900\n",
      "313/313 [==============================] - 7s 23ms/step - loss: 6.1732 - root_mean_squared_error: 2.6795 - val_loss: 6.2048 - val_root_mean_squared_error: 2.6614\n",
      "Epoch 34/900\n",
      "313/313 [==============================] - 5s 17ms/step - loss: 6.1674 - root_mean_squared_error: 2.6437 - val_loss: 6.1836 - val_root_mean_squared_error: 2.6264\n",
      "Epoch 35/900\n",
      "313/313 [==============================] - 7s 22ms/step - loss: 6.1639 - root_mean_squared_error: 2.6097 - val_loss: 6.1751 - val_root_mean_squared_error: 2.5932\n",
      "Epoch 36/900\n",
      "313/313 [==============================] - 6s 20ms/step - loss: 6.1540 - root_mean_squared_error: 2.5772 - val_loss: 6.2353 - val_root_mean_squared_error: 2.5616\n",
      "Epoch 37/900\n",
      "313/313 [==============================] - 5s 15ms/step - loss: 6.1597 - root_mean_squared_error: 2.5463 - val_loss: 6.1753 - val_root_mean_squared_error: 2.5312\n",
      "Epoch 38/900\n",
      "313/313 [==============================] - 7s 23ms/step - loss: 6.1354 - root_mean_squared_error: 2.5165 - val_loss: 6.1544 - val_root_mean_squared_error: 2.5019\n",
      "Epoch 39/900\n",
      "313/313 [==============================] - 6s 21ms/step - loss: 6.1410 - root_mean_squared_error: 2.4879 - val_loss: 6.1519 - val_root_mean_squared_error: 2.4740\n",
      "Epoch 40/900\n",
      "313/313 [==============================] - 8s 25ms/step - loss: 6.1299 - root_mean_squared_error: 2.4605 - val_loss: 6.1408 - val_root_mean_squared_error: 2.4472\n",
      "Epoch 41/900\n",
      "313/313 [==============================] - 6s 20ms/step - loss: 6.1137 - root_mean_squared_error: 2.4342 - val_loss: 6.1167 - val_root_mean_squared_error: 2.4214\n",
      "Epoch 42/900\n",
      "313/313 [==============================] - 4s 14ms/step - loss: 6.1018 - root_mean_squared_error: 2.4088 - val_loss: 6.1395 - val_root_mean_squared_error: 2.3964\n",
      "Epoch 43/900\n",
      "313/313 [==============================] - 6s 20ms/step - loss: 6.0885 - root_mean_squared_error: 2.3842 - val_loss: 6.1111 - val_root_mean_squared_error: 2.3723\n",
      "Epoch 44/900\n",
      "313/313 [==============================] - 5s 15ms/step - loss: 6.0790 - root_mean_squared_error: 2.3606 - val_loss: 6.1264 - val_root_mean_squared_error: 2.3492\n",
      "Epoch 45/900\n",
      "313/313 [==============================] - 6s 18ms/step - loss: 6.0770 - root_mean_squared_error: 2.3380 - val_loss: 6.1090 - val_root_mean_squared_error: 2.3269\n",
      "Epoch 46/900\n",
      "313/313 [==============================] - 5s 17ms/step - loss: 6.0608 - root_mean_squared_error: 2.3161 - val_loss: 6.0921 - val_root_mean_squared_error: 2.3053\n"
     ]
    },
    {
     "name": "stdout",
     "output_type": "stream",
     "text": [
      "Epoch 47/900\n",
      "313/313 [==============================] - 6s 19ms/step - loss: 6.0534 - root_mean_squared_error: 2.2948 - val_loss: 6.0947 - val_root_mean_squared_error: 2.2844\n",
      "Epoch 48/900\n",
      "313/313 [==============================] - 7s 24ms/step - loss: 6.0418 - root_mean_squared_error: 2.2742 - val_loss: 6.0834 - val_root_mean_squared_error: 2.2642\n",
      "Epoch 49/900\n",
      "313/313 [==============================] - 4s 14ms/step - loss: 6.0309 - root_mean_squared_error: 2.2544 - val_loss: 6.0414 - val_root_mean_squared_error: 2.2447\n",
      "Epoch 50/900\n",
      "313/313 [==============================] - 7s 22ms/step - loss: 6.0162 - root_mean_squared_error: 2.2352 - val_loss: 6.0637 - val_root_mean_squared_error: 2.2258\n",
      "Epoch 51/900\n",
      "313/313 [==============================] - 7s 21ms/step - loss: 6.0182 - root_mean_squared_error: 2.2165 - val_loss: 6.0351 - val_root_mean_squared_error: 2.2075\n",
      "Epoch 52/900\n",
      "313/313 [==============================] - 5s 15ms/step - loss: 6.0134 - root_mean_squared_error: 2.1986 - val_loss: 6.0299 - val_root_mean_squared_error: 2.1900\n",
      "Epoch 53/900\n",
      "313/313 [==============================] - 7s 23ms/step - loss: 5.9812 - root_mean_squared_error: 2.1813 - val_loss: 6.0391 - val_root_mean_squared_error: 2.1728\n",
      "Epoch 54/900\n",
      "313/313 [==============================] - 7s 21ms/step - loss: 5.9984 - root_mean_squared_error: 2.1644 - val_loss: 6.0932 - val_root_mean_squared_error: 2.1561\n",
      "Epoch 55/900\n",
      "313/313 [==============================] - 5s 16ms/step - loss: 5.9764 - root_mean_squared_error: 2.1481 - val_loss: 6.0150 - val_root_mean_squared_error: 2.1401\n",
      "Epoch 56/900\n",
      "313/313 [==============================] - 6s 19ms/step - loss: 5.9620 - root_mean_squared_error: 2.1322 - val_loss: 6.0115 - val_root_mean_squared_error: 2.1244\n",
      "Epoch 57/900\n",
      "313/313 [==============================] - 5s 15ms/step - loss: 5.9576 - root_mean_squared_error: 2.1167 - val_loss: 6.1992 - val_root_mean_squared_error: 2.1093\n",
      "Epoch 58/900\n",
      "313/313 [==============================] - 6s 20ms/step - loss: 5.9745 - root_mean_squared_error: 2.1022 - val_loss: 5.9556 - val_root_mean_squared_error: 2.0948\n",
      "Epoch 59/900\n",
      "313/313 [==============================] - 4s 14ms/step - loss: 5.9170 - root_mean_squared_error: 2.0876 - val_loss: 5.9504 - val_root_mean_squared_error: 2.0804\n",
      "Epoch 60/900\n",
      "313/313 [==============================] - 7s 23ms/step - loss: 5.9264 - root_mean_squared_error: 2.0733 - val_loss: 5.9775 - val_root_mean_squared_error: 2.0664\n",
      "Epoch 61/900\n",
      "313/313 [==============================] - 6s 19ms/step - loss: 5.9156 - root_mean_squared_error: 2.0596 - val_loss: 5.9371 - val_root_mean_squared_error: 2.0529\n",
      "Epoch 62/900\n",
      "313/313 [==============================] - 5s 17ms/step - loss: 5.9056 - root_mean_squared_error: 2.0463 - val_loss: 5.9591 - val_root_mean_squared_error: 2.0396\n",
      "Epoch 63/900\n",
      "313/313 [==============================] - 7s 24ms/step - loss: 5.8668 - root_mean_squared_error: 2.0331 - val_loss: 5.9207 - val_root_mean_squared_error: 2.0266\n",
      "Epoch 64/900\n",
      "313/313 [==============================] - 6s 20ms/step - loss: 5.8725 - root_mean_squared_error: 2.0202 - val_loss: 5.9342 - val_root_mean_squared_error: 2.0139\n",
      "Epoch 65/900\n",
      "313/313 [==============================] - 8s 25ms/step - loss: 5.8565 - root_mean_squared_error: 2.0077 - val_loss: 5.8937 - val_root_mean_squared_error: 2.0016\n",
      "Epoch 66/900\n",
      "313/313 [==============================] - 7s 24ms/step - loss: 5.8391 - root_mean_squared_error: 1.9955 - val_loss: 5.8916 - val_root_mean_squared_error: 1.9895\n",
      "Epoch 67/900\n",
      "313/313 [==============================] - 7s 23ms/step - loss: 5.8112 - root_mean_squared_error: 1.9835 - val_loss: 5.8966 - val_root_mean_squared_error: 1.9776\n",
      "Epoch 68/900\n",
      "313/313 [==============================] - 6s 20ms/step - loss: 5.8122 - root_mean_squared_error: 1.9717 - val_loss: 5.8466 - val_root_mean_squared_error: 1.9660\n",
      "Epoch 69/900\n",
      "313/313 [==============================] - 7s 21ms/step - loss: 5.7937 - root_mean_squared_error: 1.9604 - val_loss: 5.8413 - val_root_mean_squared_error: 1.9548\n",
      "Epoch 70/900\n",
      "313/313 [==============================] - 5s 16ms/step - loss: 5.7667 - root_mean_squared_error: 1.9493 - val_loss: 5.8043 - val_root_mean_squared_error: 1.9438\n",
      "Epoch 71/900\n",
      "313/313 [==============================] - 8s 24ms/step - loss: 5.7500 - root_mean_squared_error: 1.9384 - val_loss: 5.7907 - val_root_mean_squared_error: 1.9330\n",
      "Epoch 72/900\n",
      "313/313 [==============================] - 6s 20ms/step - loss: 5.7391 - root_mean_squared_error: 1.9277 - val_loss: 5.7699 - val_root_mean_squared_error: 1.9225\n",
      "Epoch 73/900\n",
      "313/313 [==============================] - 5s 17ms/step - loss: 5.7109 - root_mean_squared_error: 1.9173 - val_loss: 5.7925 - val_root_mean_squared_error: 1.9122\n",
      "Epoch 74/900\n",
      "313/313 [==============================] - 6s 20ms/step - loss: 5.6931 - root_mean_squared_error: 1.9072 - val_loss: 5.7454 - val_root_mean_squared_error: 1.9023\n",
      "Epoch 75/900\n",
      "313/313 [==============================] - 4s 14ms/step - loss: 5.6797 - root_mean_squared_error: 1.8973 - val_loss: 5.7604 - val_root_mean_squared_error: 1.8924\n",
      "Epoch 76/900\n",
      "313/313 [==============================] - 6s 20ms/step - loss: 5.6452 - root_mean_squared_error: 1.8876 - val_loss: 5.6829 - val_root_mean_squared_error: 1.8828\n",
      "Epoch 77/900\n",
      "313/313 [==============================] - 4s 14ms/step - loss: 5.6402 - root_mean_squared_error: 1.8780 - val_loss: 5.7632 - val_root_mean_squared_error: 1.8734\n",
      "Epoch 78/900\n",
      "313/313 [==============================] - 7s 24ms/step - loss: 5.6101 - root_mean_squared_error: 1.8688 - val_loss: 5.6377 - val_root_mean_squared_error: 1.8642\n",
      "Epoch 79/900\n",
      " 96/313 [========>.....................] - ETA: 2s - loss: 5.5602 - root_mean_squared_error: 1.8623"
     ]
    }
   ],
   "source": [
    "import tensorboard\n",
    "\n",
    "model_name = 'HSC_v6_BCNN_v1'\n",
    "\n",
    "checkpoint_filepath = os.path.join(\"/models/\", model_name) + \"/\" + model_name\n",
    "\n",
    "log_dir = os.path.join(\"/logs/\", model_name)\n",
    "\n",
    "cp_callback = tf.keras.callbacks.ModelCheckpoint(filepath = checkpoint_filepath, save_weights_only = True, verbose = 1, save_freq = 150*250)\n",
    "\n",
    "tensorboard_callback = tf.keras.callbacks.TensorBoard(log_dir = log_dir, histogram_freq = 1)\n",
    "\n",
    "model_variational.fit(x = x_train, y = y_train, epochs = 900, shuffle = True, verbose = 1, validation_data = (x_validation, y_validation), callbacks = [tensorboard_callback, cp_callback])"
   ]
  },
  {
   "cell_type": "code",
   "execution_count": null,
   "id": "3617d578",
   "metadata": {},
   "outputs": [],
   "source": [
    "model_variational.save(checkpoint_filepath, save_traces=False)"
   ]
  },
  {
   "cell_type": "code",
   "execution_count": null,
   "id": "9f5b1434",
   "metadata": {},
   "outputs": [],
   "source": [
    "y_test_prediction = []\n",
    "\n",
    "for i in range(t):\n",
    "    y_test_prediction.append(model_variational(np.array([x_test[i]])).mean()[0][0])\n",
    "\n",
    "y_test_prediction = np.asarray(y_test_prediction).astype('float32')"
   ]
  },
  {
   "cell_type": "code",
   "execution_count": null,
   "id": "5aaca9e4",
   "metadata": {},
   "outputs": [],
   "source": [
    "y_test_spectro = np.asarray(y_test)[:,0]"
   ]
  },
  {
   "cell_type": "code",
   "execution_count": null,
   "id": "c8f2d907",
   "metadata": {},
   "outputs": [],
   "source": [
    "y_test_std = []\n",
    "\n",
    "for i in range(t):\n",
    "    y_test_std.append(model_variational(np.array([x_test[i]])).stddev()[0][0])"
   ]
  },
  {
   "cell_type": "code",
   "execution_count": null,
   "id": "4aca0c11",
   "metadata": {},
   "outputs": [],
   "source": [
    "from scipy.stats import gaussian_kde\n",
    "xy = np.asarray(np.vstack([y_test_spectro, y_test_prediction])).astype('float32')\n",
    "z = gaussian_kde(xy)(xy)"
   ]
  },
  {
   "cell_type": "code",
   "execution_count": null,
   "id": "2d080369",
   "metadata": {},
   "outputs": [],
   "source": [
    "import seaborn as sns\n",
    "z_max = 4\n",
    "sns.set(rc={'figure.figsize':(10, 10), 'lines.markersize':20})\n",
    "plt.rcParams.update({'font.size': 40})\n",
    "fig, ax = plt.subplots()\n",
    "scatter_plot = ax.scatter(y_test_spectro, y_test_prediction, c = z, s = 1, edgecolor = None)\n",
    "plt.colorbar(scatter_plot, label = 'Density')\n",
    "plt.title('Prediction')\n",
    "plt.xlabel('spectroscopic redshift')\n",
    "plt.ylabel('photo z')\n",
    "plt.plot([0, z_max], [0, z_max],color = 'black')\n",
    "plt.xlim([0, z_max])\n",
    "plt.ylim([0, z_max])\n",
    "plt.show()"
   ]
  },
  {
   "cell_type": "code",
   "execution_count": null,
   "id": "2b34aa74",
   "metadata": {},
   "outputs": [],
   "source": [
    "overlap_variational = 0\n",
    "overlap_array_variational = []\n",
    "for i in range(0,t):\n",
    "    if np.abs(y_test_spectro[i]-y_test_prediction[i])<=y_test_std[i]:\n",
    "        overlap_variational += 1\n",
    "        overlap_array_variational.append(1)\n",
    "    else:\n",
    "        overlap_array_variational.append(0)"
   ]
  },
  {
   "cell_type": "code",
   "execution_count": null,
   "id": "ce4218c2",
   "metadata": {},
   "outputs": [],
   "source": [
    "fig, ax = plt.subplots()\n",
    "display_size = 1000\n",
    "scatter_plot = ax.scatter(y_test_spectro[:display_size], y_test_prediction[:display_size], c = z[:display_size], s = 4, edgecolor = None, zorder = 2)\n",
    "error_plot = ax.errorbar(y_test_spectro[:display_size], y_test_prediction[:display_size], yerr = y_test_std[:display_size], fmt=\"o\", markersize=0, color = 'blue', elinewidth = 1, zorder = 1)\n",
    "plt.title('Prediction with error, Bayesian')\n",
    "plt.xlabel('spectroscopic redshift')\n",
    "plt.ylabel('photo z')\n",
    "plt.plot([0, z_max], [0, z_max],color = 'black')\n",
    "plt.xlim([0, z_max])\n",
    "plt.ylim([0, z_max])\n",
    "print(\"Coverage: \"+str(overlap_variational/t))"
   ]
  },
  {
   "cell_type": "code",
   "execution_count": null,
   "id": "5c5eee06",
   "metadata": {},
   "outputs": [],
   "source": [
    "combined_array_variational = np.transpose(np.vstack((y_test_spectro, y_test_prediction, y_test_std, overlap_array_variational))) "
   ]
  },
  {
   "cell_type": "code",
   "execution_count": null,
   "id": "fb236386",
   "metadata": {},
   "outputs": [],
   "source": [
    "sorted_combined_array_variational = sorted(combined_array_variational, key=lambda x: x[0])"
   ]
  },
  {
   "cell_type": "code",
   "execution_count": null,
   "id": "ebecb5bb",
   "metadata": {},
   "outputs": [],
   "source": [
    "bins_variational = int(z_max*5)\n",
    "splitted_sorted_combined_array_variational = np.array_split(sorted_combined_array_variational, bins_variational)\n",
    "coverage_variational = []\n",
    "for i in range(0, bins_variational):\n",
    "    bins_count_variational = 0\n",
    "    for j in range(0,len(splitted_sorted_combined_array_variational[i])):\n",
    "        if splitted_sorted_combined_array_variational[i][j][3] == 1:\n",
    "            bins_count_variational += 1\n",
    "    coverage_variational.append(bins_count_variational/len(splitted_sorted_combined_array_variational[i])/0.6827)\n",
    "x_array = np.arange(0, z_max, z_max/bins_variational)"
   ]
  },
  {
   "cell_type": "code",
   "execution_count": null,
   "id": "f06c57bf",
   "metadata": {
    "scrolled": true
   },
   "outputs": [],
   "source": [
    "plt.plot(x_array, coverage_variational, c = 'red')\n",
    "plt.title('Coverage, Bayesian')\n",
    "plt.xlabel('spectroscopic redshift')\n",
    "plt.ylabel('coverage')\n",
    "plt.ylim([0, 1.5])\n",
    "print(\"Coverage: \"+str(overlap_variational/t))"
   ]
  },
  {
   "cell_type": "code",
   "execution_count": null,
   "id": "c7375ddb",
   "metadata": {},
   "outputs": [],
   "source": [
    "mean_array = []\n",
    "for i in range(0, bins_variational):\n",
    "    total = 0\n",
    "    for j in range(0, len(splitted_sorted_combined_array_variational[i])):\n",
    "        bias = (splitted_sorted_combined_array_variational[i][j][1]-splitted_sorted_combined_array_variational[i][j][0])\n",
    "        total += bias\n",
    "    mean_array.append(total/len(splitted_sorted_combined_array_variational[i]))\n",
    "x_array = np.arange(0, z_max, z_max/bins_variational)"
   ]
  },
  {
   "cell_type": "code",
   "execution_count": null,
   "id": "76b7ef6e",
   "metadata": {},
   "outputs": [],
   "source": [
    "error_array = []\n",
    "for i in range(0,bins_variational):\n",
    "    error_total = 0\n",
    "    for j in range(0,len(splitted_sorted_combined_array_variational[i])):\n",
    "        error_total += splitted_sorted_combined_array_variational[i][j][2]\n",
    "    error_array.append(error_total/len(splitted_sorted_combined_array_variational[i]))"
   ]
  },
  {
   "cell_type": "code",
   "execution_count": null,
   "id": "8652e4b9",
   "metadata": {},
   "outputs": [],
   "source": [
    "sns.set(rc={'figure.figsize':(5, 5), 'lines.markersize':40})\n",
    "plt.rcParams.update({'font.size': 40})\n",
    "plt.errorbar(x_array, mean_array, yerr = error_array, fmt = \"o\", color = 'blue', markersize = 4, elinewidth = 2)\n",
    "plt.title('Bias Plot for Probabilistic Model')\n",
    "plt.xlabel('True Redshift')\n",
    "plt.ylabel('Bias (Predicted - True)')\n",
    "plt.plot([0, z_max], [0, 0],color = 'black')\n",
    "plt.ylim([-1, 1])\n",
    "plt.show()"
   ]
  },
  {
   "cell_type": "code",
   "execution_count": null,
   "id": "16ee12a0",
   "metadata": {},
   "outputs": [],
   "source": [
    "combined_outlier_array = np.transpose(np.vstack((y_test_spectro,np.subtract(y_test_prediction, y_test_spectro))))\n",
    "sorted_combined_outlier_array = sorted(combined_outlier_array, key=lambda x: x[0])\n",
    "bins_outlier = int(z_max*10)\n",
    "splitted_sorted_combined_outlier_array = np.array_split(sorted_combined_outlier_array,bins_outlier)\n",
    "outlier_array = []\n",
    "outlier_count_total = 0\n",
    "for i in range(0,bins_outlier):\n",
    "    outlier_count = 0\n",
    "    for j in range(0,len(splitted_sorted_combined_outlier_array[i])):\n",
    "        if np.abs(splitted_sorted_combined_outlier_array[i][j][1]/(splitted_sorted_combined_outlier_array[i][j][0] + 1)) >= .15:\n",
    "            outlier_count += 1\n",
    "            outlier_count_total += 1\n",
    "    outlier_array.append(outlier_count/len(y_test_spectro)*bins_outlier)\n",
    "x_array_outlier = np.arange(0,z_max,z_max/bins_outlier)\n",
    "plt.plot(x_array_outlier, outlier_array, c = 'blue')\n",
    "plt.title('Outlier Rate')\n",
    "plt.xlabel('spec z')\n",
    "plt.ylabel('outlier rate')\n",
    "plt.xlim([0,z_max])\n",
    "plt.ylim([0,1/2])\n",
    "plt.show()\n",
    "\n",
    "print(\"Outlier Rate: \"+str(outlier_count_total/len(y_test_spectro)))"
   ]
  },
  {
   "cell_type": "code",
   "execution_count": null,
   "id": "938faefb",
   "metadata": {},
   "outputs": [],
   "source": [
    "predictions = np.transpose(np.vstack((oid_test, y_test_spectro, y_test_prediction, y_test_std)))"
   ]
  },
  {
   "cell_type": "code",
   "execution_count": null,
   "id": "9f1db087",
   "metadata": {},
   "outputs": [],
   "source": [
    "df = pd.DataFrame(predictions, columns=['object_id', 'specz', 'photoz', 'photoz_err'])\n",
    "df.to_csv('/predictions/HSC_v6_BCNN_v2/predictions_7_29.csv')"
   ]
  },
  {
   "cell_type": "code",
   "execution_count": null,
   "id": "8ec169d4",
   "metadata": {},
   "outputs": [],
   "source": [
    "# END"
   ]
  }
 ],
 "metadata": {
  "kernelspec": {
   "display_name": "Python 3",
   "language": "python",
   "name": "python3"
  },
  "language_info": {
   "codemirror_mode": {
    "name": "ipython",
    "version": 3
   },
   "file_extension": ".py",
   "mimetype": "text/x-python",
   "name": "python",
   "nbconvert_exporter": "python",
   "pygments_lexer": "ipython3",
   "version": "3.8.10"
  }
 },
 "nbformat": 4,
 "nbformat_minor": 5
}
