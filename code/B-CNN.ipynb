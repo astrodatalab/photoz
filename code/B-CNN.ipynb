{
 "cells": [
  {
   "cell_type": "code",
   "execution_count": 1,
   "id": "1091fe3f",
   "metadata": {},
   "outputs": [],
   "source": [
    "import os\n",
    "import numpy as np\n",
    "import matplotlib.pyplot as plt\n",
    "from astropy.io import fits\n",
    "import tensorflow as tf\n",
    "import tensorflow_probability as tfp\n",
    "import h5py\n",
    "import random\n",
    "from sklearn.model_selection import train_test_split\n",
    "import pandas as pd\n",
    "import photoz_utils"
   ]
  },
  {
   "cell_type": "code",
   "execution_count": 2,
   "id": "50b6b1d4",
   "metadata": {},
   "outputs": [],
   "source": [
    "tfpl = tfp.layers\n",
    "tf1 = tf.compat.v1\n",
    "tfd = tfp.distributions"
   ]
  },
  {
   "cell_type": "code",
   "execution_count": 3,
   "id": "3d2c3541",
   "metadata": {},
   "outputs": [],
   "source": [
    "from tensorflow_probability.python.distributions import kl_divergence"
   ]
  },
  {
   "cell_type": "code",
   "execution_count": 4,
   "id": "1d8bd5ba",
   "metadata": {},
   "outputs": [
    {
     "name": "stdout",
     "output_type": "stream",
     "text": [
      "1 Physical GPUs, 1 Logical GPUs\n"
     ]
    }
   ],
   "source": [
    "gpus = tf.config.list_physical_devices('GPU')\n",
    "\n",
    "if gpus:\n",
    "  # Restrict TensorFlow to only allocate 10GB of memory on the first GPU\n",
    "  try:\n",
    "    tf.config.experimental.set_virtual_device_configuration(\n",
    "        gpus[0],\n",
    "        [tf.config.experimental.VirtualDeviceConfiguration(memory_limit=5000)])\n",
    "    logical_gpus = tf.config.experimental.list_logical_devices('GPU')\n",
    "    print(len(gpus), \"Physical GPUs,\", len(logical_gpus), \"Logical GPUs\")\n",
    "  except RuntimeError as e:\n",
    "    # Virtual devices must be set before GPUs have been initialized\n",
    "    print(e)"
   ]
  },
  {
   "cell_type": "code",
   "execution_count": 5,
   "id": "3da0b6bc",
   "metadata": {},
   "outputs": [],
   "source": [
    "n = 10000\n",
    "t = 2000\n",
    "v = 2000"
   ]
  },
  {
   "cell_type": "code",
   "execution_count": 6,
   "id": "fa248053",
   "metadata": {},
   "outputs": [],
   "source": [
    "hf_train = h5py.File('/data/HSC/HSC_v6/step2A/127x127/five_band_image127x127_with_metadata_corrected_training_small.hdf5', 'r')\n",
    "hf_test = h5py.File('/data/HSC/HSC_v6/step2A/127x127/five_band_image127x127_with_metadata_corrected_testing_small.hdf5', 'r')\n",
    "hf_validation = h5py.File('/data/HSC/HSC_v6/step2A/127x127/five_band_image127x127_with_metadata_corrected_validation_small.hdf5', 'r')\n",
    "x_train = np.asarray(np.transpose(hf_train['image'][0:],(0,2,3,1)))\n",
    "x_test = np.asarray(np.transpose(hf_test['image'][0:],(0,2,3,1)))\n",
    "x_validation = np.asarray(np.transpose(hf_validation['image'][0:],(0,2,3,1)))\n",
    "max_value = 4.16\n",
    "x_train = np.true_divide(x_train,max_value)\n",
    "x_test = np.true_divide(x_test,max_value)\n",
    "x_validation = np.true_divide(x_validation,max_value)\n",
    "y_train = np.asarray(hf_train['specz_redshift'][0:])[..., None]\n",
    "y_test = np.asarray(hf_test['specz_redshift'][0:])[..., None]\n",
    "y_validation = np.asarray(hf_validation['specz_redshift'][0:])[..., None]\n",
    "object_id_train = np.asarray(hf_train['object_id'][0:])\n",
    "object_id = np.asarray(hf_test['object_id'][0:])\n",
    "object_id_validation = np.asarray(hf_validation['object_id'][0:])\n",
    "hf_train.close()\n",
    "hf_test.close()\n",
    "hf_validation.close()"
   ]
  },
  {
   "cell_type": "code",
   "execution_count": 7,
   "id": "0f187c79",
   "metadata": {},
   "outputs": [],
   "source": [
    "def posterior_mean_field(kernel_size: int, bias_size: int, dtype: any) -> tf.keras.Model:\n",
    "    \"\"\"Specify the surrogate posterior over `keras.layers.Dense` `kernel` and `bias`.\"\"\"\n",
    "    n = kernel_size + bias_size\n",
    "    c = np.log(np.expm1(1.))\n",
    "\n",
    "    return tf.keras.Sequential([\n",
    "        tfp.layers.VariableLayer(2 * n, dtype = dtype, initializer = lambda shape, dtype: random_gaussian_initializer(shape, dtype), trainable = True),\n",
    "        tfp.layers.DistributionLambda(lambda t: tfd.Independent(\n",
    "            tfd.Normal(loc = t[ ..., : n],\n",
    "                       scale = tf.nn.softplus(c + t[..., n:])),\n",
    "            reinterpreted_batch_ndims = 1)),\n",
    "    ])\n",
    "\n",
    "def prior_trainable(kernel_size: int, bias_size: int, dtype: any) -> tf.keras.Model:\n",
    "    \"\"\"Specify the prior over `keras.layers.Dense` `kernel` and `bias`.\"\"\"\n",
    "    n = kernel_size + bias_size\n",
    "\n",
    "    return tf.keras.Sequential([\n",
    "        tfp.layers.VariableLayer(n, dtype = dtype),  # Returns a trainable variable of shape n, regardless of input\n",
    "        tfp.layers.DistributionLambda(lambda t: tfd.Independent(\n",
    "            tfd.Normal(loc = t, scale = 0.01),\n",
    "            reinterpreted_batch_ndims = 1)),\n",
    "    ])\n",
    "\n",
    "def random_gaussian_initializer(shape, dtype):\n",
    "    n = int(shape / 2)\n",
    "    loc_norm = tf.random_normal_initializer(mean = 0., stddev = 0.1)\n",
    "    loc = tf.Variable(\n",
    "        initial_value = loc_norm(shape = (n, ), dtype = dtype)\n",
    "    )\n",
    "    scale_norm = tf.random_normal_initializer(mean = -3., stddev = 0.1)\n",
    "    scale = tf.Variable(\n",
    "        initial_value = scale_norm(shape = (n, ), dtype = dtype)\n",
    "    )\n",
    "    return tf.concat([loc, scale], 0)\n",
    "\n",
    "kl_divergence_function = lambda q, p, _: kl_divergence(q, p) / n"
   ]
  },
  {
   "cell_type": "code",
   "execution_count": 8,
   "id": "69ccd934",
   "metadata": {},
   "outputs": [],
   "source": [
    "import keras\n",
    "from keras.models import Model\n",
    "from tensorflow.keras.models import Sequential\n",
    "from keras.layers import Dense, Dropout, Flatten, InputLayer, BatchNormalization\n",
    "from keras.layers import Conv2D, MaxPooling2D"
   ]
  },
  {
   "cell_type": "code",
   "execution_count": 9,
   "id": "2beada9e",
   "metadata": {},
   "outputs": [
    {
     "name": "stderr",
     "output_type": "stream",
     "text": [
      "/opt/anaconda3/envs/jupyterhub/lib/python3.8/site-packages/tensorflow/python/keras/engine/base_layer.py:2191: UserWarning: `layer.add_variable` is deprecated and will be removed in a future version. Please use `layer.add_weight` method instead.\n",
      "  warnings.warn('`layer.add_variable` is deprecated and '\n"
     ]
    },
    {
     "name": "stdout",
     "output_type": "stream",
     "text": [
      "Model: \"sequential\"\n",
      "_________________________________________________________________\n",
      "Layer (type)                 Output Shape              Param #   \n",
      "=================================================================\n",
      "module_wrapper (ModuleWrappe (10000, 127, 127, 5)      0         \n",
      "_________________________________________________________________\n",
      "conv2d_flipout (Conv2DFlipou (10000, 126, 126, 32)     1312      \n",
      "_________________________________________________________________\n",
      "module_wrapper_1 (ModuleWrap (10000, 63, 63, 32)       0         \n",
      "_________________________________________________________________\n",
      "module_wrapper_2 (ModuleWrap (10000, 62, 62, 32)       4128      \n",
      "_________________________________________________________________\n",
      "module_wrapper_3 (ModuleWrap (10000, 31, 31, 32)       0         \n",
      "_________________________________________________________________\n",
      "module_wrapper_4 (ModuleWrap (10000, 30, 30, 32)       4128      \n",
      "_________________________________________________________________\n",
      "module_wrapper_5 (ModuleWrap (10000, 29, 29, 32)       4128      \n",
      "_________________________________________________________________\n",
      "module_wrapper_6 (ModuleWrap (10000, 26912)            0         \n",
      "_________________________________________________________________\n",
      "module_wrapper_7 (ModuleWrap (10000, 26912)            0         \n",
      "_________________________________________________________________\n",
      "dense_variational (DenseVari (10000, 64)               5167296   \n",
      "_________________________________________________________________\n",
      "dense_variational_1 (DenseVa (10000, 64)               12480     \n",
      "_________________________________________________________________\n",
      "module_wrapper_8 (ModuleWrap (10000, 2)                130       \n",
      "_________________________________________________________________\n",
      "independent_normal (Independ multiple                  0         \n",
      "=================================================================\n",
      "Total params: 5,193,602\n",
      "Trainable params: 5,193,602\n",
      "Non-trainable params: 0\n",
      "_________________________________________________________________\n"
     ]
    }
   ],
   "source": [
    "model_variational = Sequential([\n",
    "    InputLayer(input_shape = (127, 127, 5)),\n",
    "    tfpl.Convolution2DFlipout(32, kernel_size=(2, 2), activation = 'tanh', kernel_divergence_fn = kl_divergence_function),\n",
    "    MaxPooling2D(2, 2),\n",
    "    Conv2D(32, kernel_size = (2, 2), activation = 'tanh'),\n",
    "    MaxPooling2D(2, 2),\n",
    "    Conv2D(32, kernel_size = (2, 2), activation = 'relu'),\n",
    "    Conv2D(32, kernel_size = (2, 2), activation = 'relu'),\n",
    "    Flatten(),\n",
    "    Dropout(0.2),\n",
    "    tfpl.DenseVariational(64, \n",
    "                                      make_posterior_fn = posterior_mean_field,\n",
    "                                      make_prior_fn = prior_trainable,\n",
    "                                      kl_weight = 1 / n),\n",
    "    tfpl.DenseVariational(64, \n",
    "                                      make_posterior_fn = posterior_mean_field,\n",
    "                                      make_prior_fn = prior_trainable,\n",
    "                                      kl_weight = 1 / n),\n",
    "    Dense(tfpl.IndependentNormal.params_size(1)),\n",
    "    tfpl.IndependentNormal(1)\n",
    "])\n",
    "\n",
    "model_variational.build((10000, 127, 127, 5))\n",
    "\n",
    "model_variational.summary()"
   ]
  },
  {
   "cell_type": "code",
   "execution_count": 10,
   "id": "de5fcf3a",
   "metadata": {},
   "outputs": [],
   "source": [
    "def loss_function(targets, estimated_distribution):\n",
    "    return - estimated_distribution.log_prob(targets) / (1 + targets)\n",
    "\n",
    "model_variational.compile(optimizer = tf.keras.optimizers.Adam(learning_rate = 0.002), loss = loss_function, metrics = [keras.metrics.RootMeanSquaredError()])"
   ]
  },
  {
   "cell_type": "code",
   "execution_count": 11,
   "id": "42841133",
   "metadata": {},
   "outputs": [],
   "source": [
    "import tensorboard\n",
    "\n",
    "model_name = 'HSC_v6_BCNN_v5'\n",
    "\n",
    "checkpoint_filepath = os.path.join('/models/', model_name) + '/' + model_name\n",
    "\n",
    "weights_path = os.path.join('/models/', model_name) + '/weights'\n",
    "\n",
    "log_dir = os.path.join('/logs/', model_name)\n",
    "\n",
    "cp_callback = tf.keras.callbacks.ModelCheckpoint(filepath = checkpoint_filepath, save_weights_only = True, verbose = 1, save_freq = 150*250)\n",
    "\n",
    "tensorboard_callback = tf.keras.callbacks.TensorBoard(log_dir = log_dir, histogram_freq = 1)"
   ]
  },
  {
   "cell_type": "code",
   "execution_count": 12,
   "id": "ed21918a",
   "metadata": {
    "scrolled": true
   },
   "outputs": [
    {
     "name": "stdout",
     "output_type": "stream",
     "text": [
      "WARNING:tensorflow:Model failed to serialize as JSON. Ignoring... Layer ModuleWrapper has arguments in `__init__` and therefore must override `get_config`.\n",
      "Epoch 1/1800\n",
      "313/313 [==============================] - 419s 15ms/step - loss: 388073056.0000 - root_mean_squared_error: 286.3494 - val_loss: 4746.2803 - val_root_mean_squared_error: 630.7926\n",
      "Epoch 2/1800\n",
      "313/313 [==============================] - 4s 11ms/step - loss: 4560.7163 - root_mean_squared_error: 702.8666 - val_loss: 4411.9004 - val_root_mean_squared_error: 735.1372\n",
      "Epoch 3/1800\n",
      "313/313 [==============================] - 4s 11ms/step - loss: 4312.5454 - root_mean_squared_error: 748.7731 - val_loss: 4228.2041 - val_root_mean_squared_error: 741.2488\n",
      "Epoch 4/1800\n",
      "313/313 [==============================] - 4s 11ms/step - loss: 12148935753728.0000 - root_mean_squared_error: 13688.6953 - val_loss: 4145.6060 - val_root_mean_squared_error: 33147.8789\n",
      "Epoch 5/1800\n",
      "313/313 [==============================] - 4s 11ms/step - loss: 4115.3071 - root_mean_squared_error: 41835.2148 - val_loss: 4089.9214 - val_root_mean_squared_error: 48033.8906\n",
      "Epoch 6/1800\n",
      "313/313 [==============================] - 4s 11ms/step - loss: 4070.9009 - root_mean_squared_error: 52221.3594 - val_loss: 4052.0208 - val_root_mean_squared_error: 55621.1055\n",
      "Epoch 7/1800\n",
      "313/313 [==============================] - 4s 11ms/step - loss: 4038.1260 - root_mean_squared_error: 58272.3516 - val_loss: 4025.4019 - val_root_mean_squared_error: 60517.3906\n",
      "Epoch 8/1800\n",
      "313/313 [==============================] - 4s 11ms/step - loss: 4014.6191 - root_mean_squared_error: 62213.9023 - val_loss: 4005.0642 - val_root_mean_squared_error: 63783.3906\n",
      "Epoch 9/1800\n",
      "313/313 [==============================] - 4s 11ms/step - loss: 3996.2981 - root_mean_squared_error: 65157.4688 - val_loss: 3989.8813 - val_root_mean_squared_error: 66290.4219\n",
      "Epoch 10/1800\n",
      "313/313 [==============================] - 4s 11ms/step - loss: 3982.3591 - root_mean_squared_error: 67316.0156 - val_loss: 3975.7434 - val_root_mean_squared_error: 68253.3203\n",
      "Epoch 11/1800\n",
      "313/313 [==============================] - 4s 11ms/step - loss: 3970.4580 - root_mean_squared_error: 69055.7969 - val_loss: 3965.2949 - val_root_mean_squared_error: 69783.7891\n",
      "Epoch 12/1800\n",
      "313/313 [==============================] - 4s 11ms/step - loss: 3961.0872 - root_mean_squared_error: 70390.9531 - val_loss: 3956.0435 - val_root_mean_squared_error: 70980.1484\n",
      "Epoch 13/1800\n",
      "313/313 [==============================] - 4s 11ms/step - loss: 3952.3064 - root_mean_squared_error: 71464.7578 - val_loss: 3947.6284 - val_root_mean_squared_error: 71956.8516\n",
      "Epoch 14/1800\n",
      "313/313 [==============================] - 4s 11ms/step - loss: 3945.4551 - root_mean_squared_error: 72428.2656 - val_loss: 3940.2346 - val_root_mean_squared_error: 72847.4922\n",
      "Epoch 15/1800\n",
      "313/313 [==============================] - 4s 11ms/step - loss: 3938.1196 - root_mean_squared_error: 73263.1641 - val_loss: 3934.6436 - val_root_mean_squared_error: 73660.3672\n",
      "Epoch 16/1800\n",
      "313/313 [==============================] - 4s 11ms/step - loss: 3931.7493 - root_mean_squared_error: 73967.1797 - val_loss: 3928.8501 - val_root_mean_squared_error: 74249.8672\n",
      "Epoch 17/1800\n",
      "313/313 [==============================] - 4s 11ms/step - loss: 3925.6404 - root_mean_squared_error: 74538.9844 - val_loss: 3922.9971 - val_root_mean_squared_error: 74805.6641\n",
      "Epoch 18/1800\n",
      "313/313 [==============================] - 4s 11ms/step - loss: 3919.8213 - root_mean_squared_error: 75052.7422 - val_loss: 3916.4451 - val_root_mean_squared_error: 75272.6094\n",
      "Epoch 19/1800\n",
      "313/313 [==============================] - 4s 11ms/step - loss: 3913.4917 - root_mean_squared_error: 75515.2422 - val_loss: 3909.8269 - val_root_mean_squared_error: 75741.3984\n",
      "Epoch 20/1800\n",
      "313/313 [==============================] - 4s 11ms/step - loss: 3907.4441 - root_mean_squared_error: 75933.3984 - val_loss: 3903.8887 - val_root_mean_squared_error: 76122.8438\n",
      "Epoch 21/1800\n",
      "313/313 [==============================] - 4s 11ms/step - loss: 3901.1548 - root_mean_squared_error: 76280.8594 - val_loss: 3897.7468 - val_root_mean_squared_error: 76446.1875\n",
      "Epoch 22/1800\n",
      "313/313 [==============================] - 4s 12ms/step - loss: 3894.0840 - root_mean_squared_error: 76615.3203 - val_loss: 3890.6060 - val_root_mean_squared_error: 76776.7578\n",
      "Epoch 23/1800\n",
      "313/313 [==============================] - 4s 11ms/step - loss: 3887.3772 - root_mean_squared_error: 76963.4531 - val_loss: 3883.7485 - val_root_mean_squared_error: 77115.4609\n",
      "Epoch 24/1800\n",
      "313/313 [==============================] - 4s 11ms/step - loss: 3880.3252 - root_mean_squared_error: 77259.6016 - val_loss: 3878.0032 - val_root_mean_squared_error: 77374.9141\n",
      "Epoch 25/1800\n",
      "313/313 [==============================] - 4s 11ms/step - loss: 3872.1843 - root_mean_squared_error: 77522.6953 - val_loss: 3868.3618 - val_root_mean_squared_error: 77637.4062\n",
      "Epoch 26/1800\n",
      "313/313 [==============================] - 4s 11ms/step - loss: 3863.9836 - root_mean_squared_error: 77738.5547 - val_loss: 3860.1323 - val_root_mean_squared_error: 77849.5078\n",
      "Epoch 27/1800\n",
      "313/313 [==============================] - 4s 11ms/step - loss: 3855.4717 - root_mean_squared_error: 77949.3516 - val_loss: 3851.3726 - val_root_mean_squared_error: 78029.0859\n",
      "Epoch 28/1800\n",
      "313/313 [==============================] - 4s 11ms/step - loss: 3846.3347 - root_mean_squared_error: 78107.5547 - val_loss: 3842.8821 - val_root_mean_squared_error: 78203.0312\n",
      "Epoch 29/1800\n",
      "313/313 [==============================] - 4s 11ms/step - loss: 3837.1040 - root_mean_squared_error: 78296.6406 - val_loss: 3831.7576 - val_root_mean_squared_error: 78373.9219\n",
      "Epoch 30/1800\n",
      "313/313 [==============================] - 4s 11ms/step - loss: 3827.0195 - root_mean_squared_error: 78451.0156 - val_loss: 3821.4814 - val_root_mean_squared_error: 78502.0781\n",
      "Epoch 31/1800\n",
      "313/313 [==============================] - 4s 11ms/step - loss: 3815.6765 - root_mean_squared_error: 78589.4297 - val_loss: 3811.0820 - val_root_mean_squared_error: 78656.8750\n",
      "Epoch 32/1800\n",
      "313/313 [==============================] - 4s 11ms/step - loss: 3804.9832 - root_mean_squared_error: 78702.8203 - val_loss: 3799.0767 - val_root_mean_squared_error: 78765.2422\n",
      "Epoch 33/1800\n",
      "313/313 [==============================] - 4s 11ms/step - loss: 3792.5503 - root_mean_squared_error: 78840.2188 - val_loss: 3787.0840 - val_root_mean_squared_error: 78898.4531\n",
      "Epoch 34/1800\n",
      "313/313 [==============================] - 4s 11ms/step - loss: 3779.9072 - root_mean_squared_error: 78935.9219 - val_loss: 3773.2134 - val_root_mean_squared_error: 78986.9453\n",
      "Epoch 35/1800\n",
      "313/313 [==============================] - 4s 11ms/step - loss: 3766.0508 - root_mean_squared_error: 79045.3203 - val_loss: 3759.0366 - val_root_mean_squared_error: 79103.7109\n",
      "Epoch 36/1800\n",
      "313/313 [==============================] - 4s 11ms/step - loss: 3752.8833 - root_mean_squared_error: 79152.1797 - val_loss: 3745.8884 - val_root_mean_squared_error: 79205.5859\n",
      "Epoch 37/1800\n",
      "313/313 [==============================] - 4s 11ms/step - loss: 3737.5181 - root_mean_squared_error: 79245.4922 - val_loss: 3729.5757 - val_root_mean_squared_error: 79286.1094\n",
      "Epoch 38/1800\n",
      "313/313 [==============================] - 4s 11ms/step - loss: 3722.0757 - root_mean_squared_error: 79323.3125 - val_loss: 3713.7900 - val_root_mean_squared_error: 79355.7734\n",
      "Epoch 39/1800\n",
      "313/313 [==============================] - 4s 11ms/step - loss: 3705.9009 - root_mean_squared_error: 79399.8047 - val_loss: 3697.4927 - val_root_mean_squared_error: 79441.8984\n",
      "Epoch 40/1800\n",
      "313/313 [==============================] - 4s 11ms/step - loss: 3688.7144 - root_mean_squared_error: 79484.7109 - val_loss: 3680.5881 - val_root_mean_squared_error: 79522.3047\n",
      "Epoch 41/1800\n",
      "313/313 [==============================] - 4s 11ms/step - loss: 3671.3701 - root_mean_squared_error: 79547.9062 - val_loss: 3662.1707 - val_root_mean_squared_error: 79594.9219\n",
      "Epoch 42/1800\n",
      "313/313 [==============================] - 4s 11ms/step - loss: 3652.7913 - root_mean_squared_error: 79621.5234 - val_loss: 3643.0132 - val_root_mean_squared_error: 79653.2344\n",
      "Epoch 43/1800\n",
      "313/313 [==============================] - 4s 11ms/step - loss: 3633.5869 - root_mean_squared_error: 79669.7422 - val_loss: 3623.2380 - val_root_mean_squared_error: 79684.0234\n",
      "Epoch 44/1800\n",
      "313/313 [==============================] - 4s 11ms/step - loss: 3613.5952 - root_mean_squared_error: 79715.5703 - val_loss: 3603.3022 - val_root_mean_squared_error: 79748.8750\n",
      "Epoch 45/1800\n",
      "313/313 [==============================] - 4s 11ms/step - loss: 3592.1675 - root_mean_squared_error: 79768.5156 - val_loss: 3581.5786 - val_root_mean_squared_error: 79786.5703\n",
      "Epoch 46/1800\n",
      "313/313 [==============================] - 4s 11ms/step - loss: 3570.9883 - root_mean_squared_error: 79811.0234 - val_loss: 3559.2634 - val_root_mean_squared_error: 79831.2188\n",
      "Epoch 47/1800\n",
      "313/313 [==============================] - 4s 11ms/step - loss: 3548.4656 - root_mean_squared_error: 79852.2656 - val_loss: 3537.5493 - val_root_mean_squared_error: 79881.0469\n",
      "Epoch 48/1800\n",
      "313/313 [==============================] - 4s 11ms/step - loss: 3525.0808 - root_mean_squared_error: 79895.5781 - val_loss: 3513.3711 - val_root_mean_squared_error: 79919.4219\n",
      "Epoch 49/1800\n",
      "313/313 [==============================] - 4s 11ms/step - loss: 3500.8977 - root_mean_squared_error: 79936.0781 - val_loss: 3489.4490 - val_root_mean_squared_error: 79957.7734\n",
      "Epoch 50/1800\n",
      "313/313 [==============================] - 4s 12ms/step - loss: 3475.8127 - root_mean_squared_error: 79980.6953 - val_loss: 3463.9805 - val_root_mean_squared_error: 79995.3750\n",
      "Epoch 51/1800\n",
      "313/313 [==============================] - 4s 11ms/step - loss: 3450.8369 - root_mean_squared_error: 80008.7812 - val_loss: 3438.0222 - val_root_mean_squared_error: 80028.7344\n",
      "Epoch 52/1800\n",
      "313/313 [==============================] - 4s 11ms/step - loss: 3424.9912 - root_mean_squared_error: 80048.9375 - val_loss: 3410.7026 - val_root_mean_squared_error: 80075.1641\n",
      "Epoch 53/1800\n",
      "313/313 [==============================] - 4s 11ms/step - loss: 3398.0000 - root_mean_squared_error: 80088.1172 - val_loss: 3384.2800 - val_root_mean_squared_error: 80087.6953\n",
      "Epoch 54/1800\n",
      "313/313 [==============================] - 4s 11ms/step - loss: 3370.4487 - root_mean_squared_error: 80104.5781 - val_loss: 3356.0359 - val_root_mean_squared_error: 80118.2578\n",
      "Epoch 55/1800\n",
      "313/313 [==============================] - 4s 11ms/step - loss: 3342.6226 - root_mean_squared_error: 80127.2109 - val_loss: 3328.3481 - val_root_mean_squared_error: 80142.7031\n",
      "Epoch 56/1800\n",
      "313/313 [==============================] - 4s 11ms/step - loss: 3314.2356 - root_mean_squared_error: 80153.8750 - val_loss: 3298.9421 - val_root_mean_squared_error: 80165.4688\n",
      "Epoch 57/1800\n",
      "313/313 [==============================] - 4s 11ms/step - loss: 3285.1418 - root_mean_squared_error: 80179.1328 - val_loss: 3270.5671 - val_root_mean_squared_error: 80195.8750\n",
      "Epoch 58/1800\n",
      "313/313 [==============================] - 4s 11ms/step - loss: 3256.0828 - root_mean_squared_error: 80201.6562 - val_loss: 3240.4961 - val_root_mean_squared_error: 80206.8125\n",
      "Epoch 59/1800\n",
      "313/313 [==============================] - 4s 11ms/step - loss: 3225.9961 - root_mean_squared_error: 80212.8438 - val_loss: 3210.7378 - val_root_mean_squared_error: 80220.5469\n",
      "Epoch 60/1800\n",
      "313/313 [==============================] - 4s 11ms/step - loss: 3196.0957 - root_mean_squared_error: 80240.1641 - val_loss: 3181.1794 - val_root_mean_squared_error: 80252.4688\n",
      "Epoch 61/1800\n",
      "313/313 [==============================] - 4s 11ms/step - loss: 3165.8467 - root_mean_squared_error: 80264.7422 - val_loss: 3150.0732 - val_root_mean_squared_error: 80274.4766\n",
      "Epoch 62/1800\n",
      "313/313 [==============================] - 4s 11ms/step - loss: 3135.2815 - root_mean_squared_error: 80290.5781 - val_loss: 3119.5898 - val_root_mean_squared_error: 80293.4844\n",
      "Epoch 63/1800\n",
      "313/313 [==============================] - 4s 11ms/step - loss: 3104.9817 - root_mean_squared_error: 80305.1797 - val_loss: 3089.0527 - val_root_mean_squared_error: 80315.9141\n",
      "Epoch 64/1800\n",
      "313/313 [==============================] - 4s 11ms/step - loss: 3074.6267 - root_mean_squared_error: 80323.1797 - val_loss: 3059.3787 - val_root_mean_squared_error: 80325.3750\n",
      "Epoch 65/1800\n",
      "313/313 [==============================] - 4s 11ms/step - loss: 3044.2480 - root_mean_squared_error: 80336.0703 - val_loss: 3029.5225 - val_root_mean_squared_error: 80342.0469\n",
      "Epoch 66/1800\n",
      "313/313 [==============================] - 4s 11ms/step - loss: 3013.2812 - root_mean_squared_error: 80344.0547 - val_loss: 2998.5938 - val_root_mean_squared_error: 80340.8281\n",
      "Epoch 67/1800\n",
      "313/313 [==============================] - 4s 11ms/step - loss: 2983.4426 - root_mean_squared_error: 80352.2812 - val_loss: 2968.2327 - val_root_mean_squared_error: 80347.7344\n",
      "Epoch 68/1800\n",
      "313/313 [==============================] - 4s 11ms/step - loss: 2954.0239 - root_mean_squared_error: 80352.2109 - val_loss: 2938.8894 - val_root_mean_squared_error: 80355.6719\n",
      "Epoch 69/1800\n",
      "313/313 [==============================] - 4s 13ms/step - loss: 2924.7644 - root_mean_squared_error: 80356.2266 - val_loss: 2910.5488 - val_root_mean_squared_error: 80356.2266\n",
      "Epoch 70/1800\n",
      "313/313 [==============================] - 4s 13ms/step - loss: 2896.0217 - root_mean_squared_error: 80355.7031 - val_loss: 2881.7881 - val_root_mean_squared_error: 80352.7812\n",
      "Epoch 71/1800\n",
      "313/313 [==============================] - 4s 13ms/step - loss: 2867.4087 - root_mean_squared_error: 80359.5469 - val_loss: 2853.3257 - val_root_mean_squared_error: 80358.1406\n",
      "Epoch 72/1800\n",
      "313/313 [==============================] - 4s 13ms/step - loss: 2839.7622 - root_mean_squared_error: 80354.9062 - val_loss: 2825.4556 - val_root_mean_squared_error: 80353.5469\n",
      "Epoch 73/1800\n",
      "313/313 [==============================] - 4s 13ms/step - loss: 2812.5117 - root_mean_squared_error: 80352.5625 - val_loss: 2799.3735 - val_root_mean_squared_error: 80353.8984\n",
      "Epoch 74/1800\n",
      "313/313 [==============================] - 4s 13ms/step - loss: 2786.1570 - root_mean_squared_error: 80347.8438 - val_loss: 2773.7476 - val_root_mean_squared_error: 80347.5938\n",
      "Epoch 75/1800\n",
      "313/313 [==============================] - 4s 13ms/step - loss: 2760.1902 - root_mean_squared_error: 80338.2969 - val_loss: 2748.0151 - val_root_mean_squared_error: 80330.5312\n",
      "Epoch 76/1800\n",
      "313/313 [==============================] - 4s 13ms/step - loss: 2735.3831 - root_mean_squared_error: 80322.7188 - val_loss: 2723.7629 - val_root_mean_squared_error: 80317.1641\n",
      "Epoch 77/1800\n",
      "313/313 [==============================] - 4s 13ms/step - loss: 2711.0803 - root_mean_squared_error: 80308.7266 - val_loss: 2698.2422 - val_root_mean_squared_error: 80304.6094\n",
      "Epoch 78/1800\n",
      "313/313 [==============================] - 4s 13ms/step - loss: 2687.3208 - root_mean_squared_error: 80296.1094 - val_loss: 2676.0754 - val_root_mean_squared_error: 80293.2578\n",
      "Epoch 79/1800\n",
      "313/313 [==============================] - 4s 13ms/step - loss: 2664.4204 - root_mean_squared_error: 80287.3359 - val_loss: 2654.1453 - val_root_mean_squared_error: 80279.5938\n",
      "Epoch 80/1800\n",
      "313/313 [==============================] - 4s 13ms/step - loss: 2642.8374 - root_mean_squared_error: 80272.3125 - val_loss: 2632.6323 - val_root_mean_squared_error: 80274.9688\n",
      "Epoch 81/1800\n",
      "313/313 [==============================] - 4s 13ms/step - loss: 2620.8704 - root_mean_squared_error: 80273.2188 - val_loss: 2610.1804 - val_root_mean_squared_error: 80261.2812\n",
      "Epoch 82/1800\n",
      "313/313 [==============================] - 4s 13ms/step - loss: 2600.5801 - root_mean_squared_error: 80254.0859 - val_loss: 2589.7512 - val_root_mean_squared_error: 80249.0781\n",
      "Epoch 83/1800\n",
      "313/313 [==============================] - 4s 13ms/step - loss: 2580.0337 - root_mean_squared_error: 80244.3359 - val_loss: 2571.0015 - val_root_mean_squared_error: 80234.0547\n",
      "Epoch 84/1800\n",
      "313/313 [==============================] - 4s 11ms/step - loss: 2561.0032 - root_mean_squared_error: 80225.0938 - val_loss: 2550.2007 - val_root_mean_squared_error: 80217.8906\n",
      "Epoch 85/1800\n",
      "313/313 [==============================] - 4s 11ms/step - loss: 2541.1321 - root_mean_squared_error: 80213.0000 - val_loss: 2530.6404 - val_root_mean_squared_error: 80207.9766\n",
      "Epoch 86/1800\n"
     ]
    },
    {
     "name": "stdout",
     "output_type": "stream",
     "text": [
      "313/313 [==============================] - 4s 11ms/step - loss: 2522.9832 - root_mean_squared_error: 80197.2891 - val_loss: 2513.7063 - val_root_mean_squared_error: 80185.7969\n",
      "Epoch 87/1800\n",
      "313/313 [==============================] - 4s 11ms/step - loss: 2504.5986 - root_mean_squared_error: 80170.8750 - val_loss: 2495.5442 - val_root_mean_squared_error: 80160.4297\n",
      "Epoch 88/1800\n",
      "313/313 [==============================] - 4s 11ms/step - loss: 2486.7275 - root_mean_squared_error: 80147.5000 - val_loss: 2477.6211 - val_root_mean_squared_error: 80140.4453\n",
      "Epoch 89/1800\n",
      "313/313 [==============================] - 4s 11ms/step - loss: 2468.7559 - root_mean_squared_error: 80132.7656 - val_loss: 2460.1641 - val_root_mean_squared_error: 80120.9531\n",
      "Epoch 90/1800\n",
      "313/313 [==============================] - 4s 11ms/step - loss: 2451.2512 - root_mean_squared_error: 80110.8438 - val_loss: 2442.6814 - val_root_mean_squared_error: 80102.5469\n",
      "Epoch 91/1800\n",
      "313/313 [==============================] - 4s 11ms/step - loss: 2433.9075 - root_mean_squared_error: 80092.5234 - val_loss: 2425.0876 - val_root_mean_squared_error: 80079.1719\n",
      "Epoch 92/1800\n",
      "313/313 [==============================] - 4s 11ms/step - loss: 2416.6035 - root_mean_squared_error: 80066.1641 - val_loss: 2407.8267 - val_root_mean_squared_error: 80049.6953\n",
      "Epoch 93/1800\n",
      "313/313 [==============================] - 4s 11ms/step - loss: 2399.0967 - root_mean_squared_error: 80036.8438 - val_loss: 2390.6235 - val_root_mean_squared_error: 80020.5625\n",
      "Epoch 94/1800\n",
      "313/313 [==============================] - 4s 11ms/step - loss: 2381.6658 - root_mean_squared_error: 80002.0312 - val_loss: 2372.9255 - val_root_mean_squared_error: 79985.1328\n",
      "Epoch 95/1800\n",
      "313/313 [==============================] - 4s 11ms/step - loss: 2363.9580 - root_mean_squared_error: 79967.2578 - val_loss: 2356.0464 - val_root_mean_squared_error: 79948.1562\n",
      "Epoch 96/1800\n",
      "313/313 [==============================] - 4s 11ms/step - loss: 2345.8706 - root_mean_squared_error: 79932.7578 - val_loss: 2336.6738 - val_root_mean_squared_error: 79921.8906\n",
      "Epoch 97/1800\n",
      "313/313 [==============================] - 4s 11ms/step - loss: 2327.8704 - root_mean_squared_error: 79906.4844 - val_loss: 2319.3875 - val_root_mean_squared_error: 79890.2266\n",
      "Epoch 98/1800\n",
      "313/313 [==============================] - 4s 11ms/step - loss: 2309.8135 - root_mean_squared_error: 79868.7578 - val_loss: 2300.6975 - val_root_mean_squared_error: 79846.2578\n",
      "Epoch 99/1800\n",
      "313/313 [==============================] - 4s 11ms/step - loss: 2290.7751 - root_mean_squared_error: 79825.0156 - val_loss: 2282.2383 - val_root_mean_squared_error: 79799.2109\n",
      "Epoch 100/1800\n",
      "313/313 [==============================] - 4s 12ms/step - loss: 2272.3579 - root_mean_squared_error: 79777.0000 - val_loss: 2262.3967 - val_root_mean_squared_error: 79755.0547\n",
      "Epoch 101/1800\n",
      "313/313 [==============================] - 4s 12ms/step - loss: 2252.4463 - root_mean_squared_error: 79733.3438 - val_loss: 2243.2922 - val_root_mean_squared_error: 79710.5234\n",
      "Epoch 102/1800\n",
      "313/313 [==============================] - 4s 11ms/step - loss: 2232.6858 - root_mean_squared_error: 79685.5938 - val_loss: 2222.5193 - val_root_mean_squared_error: 79657.5859\n",
      "Epoch 103/1800\n",
      "313/313 [==============================] - 4s 11ms/step - loss: 2212.4290 - root_mean_squared_error: 79633.3281 - val_loss: 2200.9817 - val_root_mean_squared_error: 79603.2266\n",
      "Epoch 104/1800\n",
      "313/313 [==============================] - 4s 11ms/step - loss: 2191.7764 - root_mean_squared_error: 79570.4766 - val_loss: 2179.8184 - val_root_mean_squared_error: 79536.2578\n",
      "Epoch 105/1800\n",
      "313/313 [==============================] - 4s 11ms/step - loss: 2170.5000 - root_mean_squared_error: 79496.6641 - val_loss: 2159.8064 - val_root_mean_squared_error: 79454.6016\n",
      "Epoch 106/1800\n",
      "313/313 [==============================] - 4s 11ms/step - loss: 2148.0466 - root_mean_squared_error: 79413.9141 - val_loss: 2137.6794 - val_root_mean_squared_error: 79371.7422\n",
      "Epoch 107/1800\n",
      "313/313 [==============================] - 4s 11ms/step - loss: 2126.4397 - root_mean_squared_error: 79325.9531 - val_loss: 2115.1892 - val_root_mean_squared_error: 79279.2109\n",
      "Epoch 108/1800\n",
      "313/313 [==============================] - 4s 11ms/step - loss: 2103.2937 - root_mean_squared_error: 79226.6484 - val_loss: 2091.2800 - val_root_mean_squared_error: 79167.4141\n",
      "Epoch 109/1800\n",
      "313/313 [==============================] - 4s 11ms/step - loss: 2080.3047 - root_mean_squared_error: 79102.0156 - val_loss: 2068.9468 - val_root_mean_squared_error: 79031.4375\n",
      "Epoch 110/1800\n",
      "313/313 [==============================] - 4s 11ms/step - loss: 2056.2937 - root_mean_squared_error: 78941.7188 - val_loss: 2044.8207 - val_root_mean_squared_error: 78836.7891\n",
      "Epoch 111/1800\n",
      "313/313 [==============================] - 4s 11ms/step - loss: nan - root_mean_squared_error: nan - val_loss: nan - val_root_mean_squared_error: nan\n"
     ]
    },
    {
     "ename": "InvalidArgumentError",
     "evalue": "Nan in summary histogram for: conv2d_flipout/kernel_posterior_loc_0 [Op:WriteHistogramSummary]",
     "output_type": "error",
     "traceback": [
      "\u001b[0;31m---------------------------------------------------------------------------\u001b[0m",
      "\u001b[0;31mInvalidArgumentError\u001b[0m                      Traceback (most recent call last)",
      "\u001b[0;32m<ipython-input-12-ac88659d3024>\u001b[0m in \u001b[0;36m<module>\u001b[0;34m\u001b[0m\n\u001b[0;32m----> 1\u001b[0;31m \u001b[0mmodel_variational\u001b[0m\u001b[0;34m.\u001b[0m\u001b[0mfit\u001b[0m\u001b[0;34m(\u001b[0m\u001b[0mx\u001b[0m \u001b[0;34m=\u001b[0m \u001b[0mx_train\u001b[0m\u001b[0;34m,\u001b[0m \u001b[0my\u001b[0m \u001b[0;34m=\u001b[0m \u001b[0my_train\u001b[0m\u001b[0;34m,\u001b[0m \u001b[0mepochs\u001b[0m \u001b[0;34m=\u001b[0m \u001b[0;36m1800\u001b[0m\u001b[0;34m,\u001b[0m \u001b[0mshuffle\u001b[0m \u001b[0;34m=\u001b[0m \u001b[0;32mTrue\u001b[0m\u001b[0;34m,\u001b[0m \u001b[0mverbose\u001b[0m \u001b[0;34m=\u001b[0m \u001b[0;36m1\u001b[0m\u001b[0;34m,\u001b[0m \u001b[0mvalidation_data\u001b[0m \u001b[0;34m=\u001b[0m \u001b[0;34m(\u001b[0m\u001b[0mx_validation\u001b[0m\u001b[0;34m,\u001b[0m \u001b[0my_validation\u001b[0m\u001b[0;34m)\u001b[0m\u001b[0;34m,\u001b[0m \u001b[0mcallbacks\u001b[0m \u001b[0;34m=\u001b[0m \u001b[0;34m[\u001b[0m\u001b[0mtensorboard_callback\u001b[0m\u001b[0;34m,\u001b[0m \u001b[0mcp_callback\u001b[0m\u001b[0;34m]\u001b[0m\u001b[0;34m)\u001b[0m\u001b[0;34m\u001b[0m\u001b[0;34m\u001b[0m\u001b[0m\n\u001b[0m",
      "\u001b[0;32m/opt/anaconda3/envs/jupyterhub/lib/python3.8/site-packages/tensorflow/python/keras/engine/training.py\u001b[0m in \u001b[0;36mfit\u001b[0;34m(self, x, y, batch_size, epochs, verbose, callbacks, validation_split, validation_data, shuffle, class_weight, sample_weight, initial_epoch, steps_per_epoch, validation_steps, validation_batch_size, validation_freq, max_queue_size, workers, use_multiprocessing)\u001b[0m\n\u001b[1;32m   1227\u001b[0m           \u001b[0mepoch_logs\u001b[0m\u001b[0;34m.\u001b[0m\u001b[0mupdate\u001b[0m\u001b[0;34m(\u001b[0m\u001b[0mval_logs\u001b[0m\u001b[0;34m)\u001b[0m\u001b[0;34m\u001b[0m\u001b[0;34m\u001b[0m\u001b[0m\n\u001b[1;32m   1228\u001b[0m \u001b[0;34m\u001b[0m\u001b[0m\n\u001b[0;32m-> 1229\u001b[0;31m         \u001b[0mcallbacks\u001b[0m\u001b[0;34m.\u001b[0m\u001b[0mon_epoch_end\u001b[0m\u001b[0;34m(\u001b[0m\u001b[0mepoch\u001b[0m\u001b[0;34m,\u001b[0m \u001b[0mepoch_logs\u001b[0m\u001b[0;34m)\u001b[0m\u001b[0;34m\u001b[0m\u001b[0;34m\u001b[0m\u001b[0m\n\u001b[0m\u001b[1;32m   1230\u001b[0m         \u001b[0mtraining_logs\u001b[0m \u001b[0;34m=\u001b[0m \u001b[0mepoch_logs\u001b[0m\u001b[0;34m\u001b[0m\u001b[0;34m\u001b[0m\u001b[0m\n\u001b[1;32m   1231\u001b[0m         \u001b[0;32mif\u001b[0m \u001b[0mself\u001b[0m\u001b[0;34m.\u001b[0m\u001b[0mstop_training\u001b[0m\u001b[0;34m:\u001b[0m\u001b[0;34m\u001b[0m\u001b[0;34m\u001b[0m\u001b[0m\n",
      "\u001b[0;32m/opt/anaconda3/envs/jupyterhub/lib/python3.8/site-packages/tensorflow/python/keras/callbacks.py\u001b[0m in \u001b[0;36mon_epoch_end\u001b[0;34m(self, epoch, logs)\u001b[0m\n\u001b[1;32m    433\u001b[0m     \u001b[0mlogs\u001b[0m \u001b[0;34m=\u001b[0m \u001b[0mself\u001b[0m\u001b[0;34m.\u001b[0m\u001b[0m_process_logs\u001b[0m\u001b[0;34m(\u001b[0m\u001b[0mlogs\u001b[0m\u001b[0;34m)\u001b[0m\u001b[0;34m\u001b[0m\u001b[0;34m\u001b[0m\u001b[0m\n\u001b[1;32m    434\u001b[0m     \u001b[0;32mfor\u001b[0m \u001b[0mcallback\u001b[0m \u001b[0;32min\u001b[0m \u001b[0mself\u001b[0m\u001b[0;34m.\u001b[0m\u001b[0mcallbacks\u001b[0m\u001b[0;34m:\u001b[0m\u001b[0;34m\u001b[0m\u001b[0;34m\u001b[0m\u001b[0m\n\u001b[0;32m--> 435\u001b[0;31m       \u001b[0mcallback\u001b[0m\u001b[0;34m.\u001b[0m\u001b[0mon_epoch_end\u001b[0m\u001b[0;34m(\u001b[0m\u001b[0mepoch\u001b[0m\u001b[0;34m,\u001b[0m \u001b[0mlogs\u001b[0m\u001b[0;34m)\u001b[0m\u001b[0;34m\u001b[0m\u001b[0;34m\u001b[0m\u001b[0m\n\u001b[0m\u001b[1;32m    436\u001b[0m \u001b[0;34m\u001b[0m\u001b[0m\n\u001b[1;32m    437\u001b[0m   \u001b[0;32mdef\u001b[0m \u001b[0mon_train_batch_begin\u001b[0m\u001b[0;34m(\u001b[0m\u001b[0mself\u001b[0m\u001b[0;34m,\u001b[0m \u001b[0mbatch\u001b[0m\u001b[0;34m,\u001b[0m \u001b[0mlogs\u001b[0m\u001b[0;34m=\u001b[0m\u001b[0;32mNone\u001b[0m\u001b[0;34m)\u001b[0m\u001b[0;34m:\u001b[0m\u001b[0;34m\u001b[0m\u001b[0;34m\u001b[0m\u001b[0m\n",
      "\u001b[0;32m/opt/anaconda3/envs/jupyterhub/lib/python3.8/site-packages/tensorflow/python/keras/callbacks.py\u001b[0m in \u001b[0;36mon_epoch_end\u001b[0;34m(self, epoch, logs)\u001b[0m\n\u001b[1;32m   2437\u001b[0m \u001b[0;34m\u001b[0m\u001b[0m\n\u001b[1;32m   2438\u001b[0m     \u001b[0;32mif\u001b[0m \u001b[0mself\u001b[0m\u001b[0;34m.\u001b[0m\u001b[0mhistogram_freq\u001b[0m \u001b[0;32mand\u001b[0m \u001b[0mepoch\u001b[0m \u001b[0;34m%\u001b[0m \u001b[0mself\u001b[0m\u001b[0;34m.\u001b[0m\u001b[0mhistogram_freq\u001b[0m \u001b[0;34m==\u001b[0m \u001b[0;36m0\u001b[0m\u001b[0;34m:\u001b[0m\u001b[0;34m\u001b[0m\u001b[0;34m\u001b[0m\u001b[0m\n\u001b[0;32m-> 2439\u001b[0;31m       \u001b[0mself\u001b[0m\u001b[0;34m.\u001b[0m\u001b[0m_log_weights\u001b[0m\u001b[0;34m(\u001b[0m\u001b[0mepoch\u001b[0m\u001b[0;34m)\u001b[0m\u001b[0;34m\u001b[0m\u001b[0;34m\u001b[0m\u001b[0m\n\u001b[0m\u001b[1;32m   2440\u001b[0m \u001b[0;34m\u001b[0m\u001b[0m\n\u001b[1;32m   2441\u001b[0m     \u001b[0;32mif\u001b[0m \u001b[0mself\u001b[0m\u001b[0;34m.\u001b[0m\u001b[0membeddings_freq\u001b[0m \u001b[0;32mand\u001b[0m \u001b[0mepoch\u001b[0m \u001b[0;34m%\u001b[0m \u001b[0mself\u001b[0m\u001b[0;34m.\u001b[0m\u001b[0membeddings_freq\u001b[0m \u001b[0;34m==\u001b[0m \u001b[0;36m0\u001b[0m\u001b[0;34m:\u001b[0m\u001b[0;34m\u001b[0m\u001b[0;34m\u001b[0m\u001b[0m\n",
      "\u001b[0;32m/opt/anaconda3/envs/jupyterhub/lib/python3.8/site-packages/tensorflow/python/keras/callbacks.py\u001b[0m in \u001b[0;36m_log_weights\u001b[0;34m(self, epoch)\u001b[0m\n\u001b[1;32m   2504\u001b[0m           \u001b[0;32mfor\u001b[0m \u001b[0mweight\u001b[0m \u001b[0;32min\u001b[0m \u001b[0mlayer\u001b[0m\u001b[0;34m.\u001b[0m\u001b[0mweights\u001b[0m\u001b[0;34m:\u001b[0m\u001b[0;34m\u001b[0m\u001b[0;34m\u001b[0m\u001b[0m\n\u001b[1;32m   2505\u001b[0m             \u001b[0mweight_name\u001b[0m \u001b[0;34m=\u001b[0m \u001b[0mweight\u001b[0m\u001b[0;34m.\u001b[0m\u001b[0mname\u001b[0m\u001b[0;34m.\u001b[0m\u001b[0mreplace\u001b[0m\u001b[0;34m(\u001b[0m\u001b[0;34m':'\u001b[0m\u001b[0;34m,\u001b[0m \u001b[0;34m'_'\u001b[0m\u001b[0;34m)\u001b[0m\u001b[0;34m\u001b[0m\u001b[0;34m\u001b[0m\u001b[0m\n\u001b[0;32m-> 2506\u001b[0;31m             \u001b[0msummary_ops_v2\u001b[0m\u001b[0;34m.\u001b[0m\u001b[0mhistogram\u001b[0m\u001b[0;34m(\u001b[0m\u001b[0mweight_name\u001b[0m\u001b[0;34m,\u001b[0m \u001b[0mweight\u001b[0m\u001b[0;34m,\u001b[0m \u001b[0mstep\u001b[0m\u001b[0;34m=\u001b[0m\u001b[0mepoch\u001b[0m\u001b[0;34m)\u001b[0m\u001b[0;34m\u001b[0m\u001b[0;34m\u001b[0m\u001b[0m\n\u001b[0m\u001b[1;32m   2507\u001b[0m             \u001b[0;32mif\u001b[0m \u001b[0mself\u001b[0m\u001b[0;34m.\u001b[0m\u001b[0mwrite_images\u001b[0m\u001b[0;34m:\u001b[0m\u001b[0;34m\u001b[0m\u001b[0;34m\u001b[0m\u001b[0m\n\u001b[1;32m   2508\u001b[0m               \u001b[0mself\u001b[0m\u001b[0;34m.\u001b[0m\u001b[0m_log_weight_as_image\u001b[0m\u001b[0;34m(\u001b[0m\u001b[0mweight\u001b[0m\u001b[0;34m,\u001b[0m \u001b[0mweight_name\u001b[0m\u001b[0;34m,\u001b[0m \u001b[0mepoch\u001b[0m\u001b[0;34m)\u001b[0m\u001b[0;34m\u001b[0m\u001b[0;34m\u001b[0m\u001b[0m\n",
      "\u001b[0;32m/opt/anaconda3/envs/jupyterhub/lib/python3.8/site-packages/tensorflow/python/ops/summary_ops_v2.py\u001b[0m in \u001b[0;36mhistogram\u001b[0;34m(name, tensor, family, step)\u001b[0m\n\u001b[1;32m    877\u001b[0m         name=scope)\n\u001b[1;32m    878\u001b[0m \u001b[0;34m\u001b[0m\u001b[0m\n\u001b[0;32m--> 879\u001b[0;31m   \u001b[0;32mreturn\u001b[0m \u001b[0msummary_writer_function\u001b[0m\u001b[0;34m(\u001b[0m\u001b[0mname\u001b[0m\u001b[0;34m,\u001b[0m \u001b[0mtensor\u001b[0m\u001b[0;34m,\u001b[0m \u001b[0mfunction\u001b[0m\u001b[0;34m,\u001b[0m \u001b[0mfamily\u001b[0m\u001b[0;34m=\u001b[0m\u001b[0mfamily\u001b[0m\u001b[0;34m)\u001b[0m\u001b[0;34m\u001b[0m\u001b[0;34m\u001b[0m\u001b[0m\n\u001b[0m\u001b[1;32m    880\u001b[0m \u001b[0;34m\u001b[0m\u001b[0m\n\u001b[1;32m    881\u001b[0m \u001b[0;34m\u001b[0m\u001b[0m\n",
      "\u001b[0;32m/opt/anaconda3/envs/jupyterhub/lib/python3.8/site-packages/tensorflow/python/ops/summary_ops_v2.py\u001b[0m in \u001b[0;36msummary_writer_function\u001b[0;34m(name, tensor, function, family)\u001b[0m\n\u001b[1;32m    805\u001b[0m     \u001b[0;32mreturn\u001b[0m \u001b[0mcontrol_flow_ops\u001b[0m\u001b[0;34m.\u001b[0m\u001b[0mno_op\u001b[0m\u001b[0;34m(\u001b[0m\u001b[0;34m)\u001b[0m\u001b[0;34m\u001b[0m\u001b[0;34m\u001b[0m\u001b[0m\n\u001b[1;32m    806\u001b[0m   \u001b[0;32mwith\u001b[0m \u001b[0mops\u001b[0m\u001b[0;34m.\u001b[0m\u001b[0mdevice\u001b[0m\u001b[0;34m(\u001b[0m\u001b[0;34m\"cpu:0\"\u001b[0m\u001b[0;34m)\u001b[0m\u001b[0;34m:\u001b[0m\u001b[0;34m\u001b[0m\u001b[0;34m\u001b[0m\u001b[0m\n\u001b[0;32m--> 807\u001b[0;31m     op = smart_cond.smart_cond(\n\u001b[0m\u001b[1;32m    808\u001b[0m         should_record_summaries(), record, _nothing, name=\"\")\n\u001b[1;32m    809\u001b[0m     \u001b[0;32mif\u001b[0m \u001b[0;32mnot\u001b[0m \u001b[0mcontext\u001b[0m\u001b[0;34m.\u001b[0m\u001b[0mexecuting_eagerly\u001b[0m\u001b[0;34m(\u001b[0m\u001b[0;34m)\u001b[0m\u001b[0;34m:\u001b[0m\u001b[0;34m\u001b[0m\u001b[0;34m\u001b[0m\u001b[0m\n",
      "\u001b[0;32m/opt/anaconda3/envs/jupyterhub/lib/python3.8/site-packages/tensorflow/python/framework/smart_cond.py\u001b[0m in \u001b[0;36msmart_cond\u001b[0;34m(pred, true_fn, false_fn, name)\u001b[0m\n\u001b[1;32m     52\u001b[0m   \u001b[0;32mif\u001b[0m \u001b[0mpred_value\u001b[0m \u001b[0;32mis\u001b[0m \u001b[0;32mnot\u001b[0m \u001b[0;32mNone\u001b[0m\u001b[0;34m:\u001b[0m\u001b[0;34m\u001b[0m\u001b[0;34m\u001b[0m\u001b[0m\n\u001b[1;32m     53\u001b[0m     \u001b[0;32mif\u001b[0m \u001b[0mpred_value\u001b[0m\u001b[0;34m:\u001b[0m\u001b[0;34m\u001b[0m\u001b[0;34m\u001b[0m\u001b[0m\n\u001b[0;32m---> 54\u001b[0;31m       \u001b[0;32mreturn\u001b[0m \u001b[0mtrue_fn\u001b[0m\u001b[0;34m(\u001b[0m\u001b[0;34m)\u001b[0m\u001b[0;34m\u001b[0m\u001b[0;34m\u001b[0m\u001b[0m\n\u001b[0m\u001b[1;32m     55\u001b[0m     \u001b[0;32melse\u001b[0m\u001b[0;34m:\u001b[0m\u001b[0;34m\u001b[0m\u001b[0;34m\u001b[0m\u001b[0m\n\u001b[1;32m     56\u001b[0m       \u001b[0;32mreturn\u001b[0m \u001b[0mfalse_fn\u001b[0m\u001b[0;34m(\u001b[0m\u001b[0;34m)\u001b[0m\u001b[0;34m\u001b[0m\u001b[0;34m\u001b[0m\u001b[0m\n",
      "\u001b[0;32m/opt/anaconda3/envs/jupyterhub/lib/python3.8/site-packages/tensorflow/python/ops/summary_ops_v2.py\u001b[0m in \u001b[0;36mrecord\u001b[0;34m()\u001b[0m\n\u001b[1;32m    799\u001b[0m     with ops.name_scope(name_scope), summary_op_util.summary_scope(\n\u001b[1;32m    800\u001b[0m         name, family, values=[tensor]) as (tag, scope):\n\u001b[0;32m--> 801\u001b[0;31m       \u001b[0;32mwith\u001b[0m \u001b[0mops\u001b[0m\u001b[0;34m.\u001b[0m\u001b[0mcontrol_dependencies\u001b[0m\u001b[0;34m(\u001b[0m\u001b[0;34m[\u001b[0m\u001b[0mfunction\u001b[0m\u001b[0;34m(\u001b[0m\u001b[0mtag\u001b[0m\u001b[0;34m,\u001b[0m \u001b[0mscope\u001b[0m\u001b[0;34m)\u001b[0m\u001b[0;34m]\u001b[0m\u001b[0;34m)\u001b[0m\u001b[0;34m:\u001b[0m\u001b[0;34m\u001b[0m\u001b[0;34m\u001b[0m\u001b[0m\n\u001b[0m\u001b[1;32m    802\u001b[0m         \u001b[0;32mreturn\u001b[0m \u001b[0mconstant_op\u001b[0m\u001b[0;34m.\u001b[0m\u001b[0mconstant\u001b[0m\u001b[0;34m(\u001b[0m\u001b[0;32mTrue\u001b[0m\u001b[0;34m)\u001b[0m\u001b[0;34m\u001b[0m\u001b[0;34m\u001b[0m\u001b[0m\n\u001b[1;32m    803\u001b[0m \u001b[0;34m\u001b[0m\u001b[0m\n",
      "\u001b[0;32m/opt/anaconda3/envs/jupyterhub/lib/python3.8/site-packages/tensorflow/python/ops/summary_ops_v2.py\u001b[0m in \u001b[0;36mfunction\u001b[0;34m(tag, scope)\u001b[0m\n\u001b[1;32m    870\u001b[0m   \u001b[0;32mdef\u001b[0m \u001b[0mfunction\u001b[0m\u001b[0;34m(\u001b[0m\u001b[0mtag\u001b[0m\u001b[0;34m,\u001b[0m \u001b[0mscope\u001b[0m\u001b[0;34m)\u001b[0m\u001b[0;34m:\u001b[0m\u001b[0;34m\u001b[0m\u001b[0;34m\u001b[0m\u001b[0m\n\u001b[1;32m    871\u001b[0m     \u001b[0;31m# Note the identity to move the tensor to the CPU.\u001b[0m\u001b[0;34m\u001b[0m\u001b[0;34m\u001b[0m\u001b[0;34m\u001b[0m\u001b[0m\n\u001b[0;32m--> 872\u001b[0;31m     return gen_summary_ops.write_histogram_summary(\n\u001b[0m\u001b[1;32m    873\u001b[0m         \u001b[0m_summary_state\u001b[0m\u001b[0;34m.\u001b[0m\u001b[0mwriter\u001b[0m\u001b[0;34m.\u001b[0m\u001b[0m_resource\u001b[0m\u001b[0;34m,\u001b[0m  \u001b[0;31m# pylint: disable=protected-access\u001b[0m\u001b[0;34m\u001b[0m\u001b[0;34m\u001b[0m\u001b[0m\n\u001b[1;32m    874\u001b[0m         \u001b[0m_choose_step\u001b[0m\u001b[0;34m(\u001b[0m\u001b[0mstep\u001b[0m\u001b[0;34m)\u001b[0m\u001b[0;34m,\u001b[0m\u001b[0;34m\u001b[0m\u001b[0;34m\u001b[0m\u001b[0m\n",
      "\u001b[0;32m/opt/anaconda3/envs/jupyterhub/lib/python3.8/site-packages/tensorflow/python/ops/gen_summary_ops.py\u001b[0m in \u001b[0;36mwrite_histogram_summary\u001b[0;34m(writer, step, tag, values, name)\u001b[0m\n\u001b[1;32m    477\u001b[0m       \u001b[0;32mpass\u001b[0m\u001b[0;34m\u001b[0m\u001b[0;34m\u001b[0m\u001b[0m\n\u001b[1;32m    478\u001b[0m     \u001b[0;32mtry\u001b[0m\u001b[0;34m:\u001b[0m\u001b[0;34m\u001b[0m\u001b[0;34m\u001b[0m\u001b[0m\n\u001b[0;32m--> 479\u001b[0;31m       return write_histogram_summary_eager_fallback(\n\u001b[0m\u001b[1;32m    480\u001b[0m           writer, step, tag, values, name=name, ctx=_ctx)\n\u001b[1;32m    481\u001b[0m     \u001b[0;32mexcept\u001b[0m \u001b[0m_core\u001b[0m\u001b[0;34m.\u001b[0m\u001b[0m_SymbolicException\u001b[0m\u001b[0;34m:\u001b[0m\u001b[0;34m\u001b[0m\u001b[0;34m\u001b[0m\u001b[0m\n",
      "\u001b[0;32m/opt/anaconda3/envs/jupyterhub/lib/python3.8/site-packages/tensorflow/python/ops/gen_summary_ops.py\u001b[0m in \u001b[0;36mwrite_histogram_summary_eager_fallback\u001b[0;34m(writer, step, tag, values, name, ctx)\u001b[0m\n\u001b[1;32m    496\u001b[0m   \u001b[0m_inputs_flat\u001b[0m \u001b[0;34m=\u001b[0m \u001b[0;34m[\u001b[0m\u001b[0mwriter\u001b[0m\u001b[0;34m,\u001b[0m \u001b[0mstep\u001b[0m\u001b[0;34m,\u001b[0m \u001b[0mtag\u001b[0m\u001b[0;34m,\u001b[0m \u001b[0mvalues\u001b[0m\u001b[0;34m]\u001b[0m\u001b[0;34m\u001b[0m\u001b[0;34m\u001b[0m\u001b[0m\n\u001b[1;32m    497\u001b[0m   \u001b[0m_attrs\u001b[0m \u001b[0;34m=\u001b[0m \u001b[0;34m(\u001b[0m\u001b[0;34m\"T\"\u001b[0m\u001b[0;34m,\u001b[0m \u001b[0m_attr_T\u001b[0m\u001b[0;34m)\u001b[0m\u001b[0;34m\u001b[0m\u001b[0;34m\u001b[0m\u001b[0m\n\u001b[0;32m--> 498\u001b[0;31m   _result = _execute.execute(b\"WriteHistogramSummary\", 0, inputs=_inputs_flat,\n\u001b[0m\u001b[1;32m    499\u001b[0m                              attrs=_attrs, ctx=ctx, name=name)\n\u001b[1;32m    500\u001b[0m   \u001b[0m_result\u001b[0m \u001b[0;34m=\u001b[0m \u001b[0;32mNone\u001b[0m\u001b[0;34m\u001b[0m\u001b[0;34m\u001b[0m\u001b[0m\n",
      "\u001b[0;32m/opt/anaconda3/envs/jupyterhub/lib/python3.8/site-packages/tensorflow/python/eager/execute.py\u001b[0m in \u001b[0;36mquick_execute\u001b[0;34m(op_name, num_outputs, inputs, attrs, ctx, name)\u001b[0m\n\u001b[1;32m     57\u001b[0m   \u001b[0;32mtry\u001b[0m\u001b[0;34m:\u001b[0m\u001b[0;34m\u001b[0m\u001b[0;34m\u001b[0m\u001b[0m\n\u001b[1;32m     58\u001b[0m     \u001b[0mctx\u001b[0m\u001b[0;34m.\u001b[0m\u001b[0mensure_initialized\u001b[0m\u001b[0;34m(\u001b[0m\u001b[0;34m)\u001b[0m\u001b[0;34m\u001b[0m\u001b[0;34m\u001b[0m\u001b[0m\n\u001b[0;32m---> 59\u001b[0;31m     tensors = pywrap_tfe.TFE_Py_Execute(ctx._handle, device_name, op_name,\n\u001b[0m\u001b[1;32m     60\u001b[0m                                         inputs, attrs, num_outputs)\n\u001b[1;32m     61\u001b[0m   \u001b[0;32mexcept\u001b[0m \u001b[0mcore\u001b[0m\u001b[0;34m.\u001b[0m\u001b[0m_NotOkStatusException\u001b[0m \u001b[0;32mas\u001b[0m \u001b[0me\u001b[0m\u001b[0;34m:\u001b[0m\u001b[0;34m\u001b[0m\u001b[0;34m\u001b[0m\u001b[0m\n",
      "\u001b[0;31mInvalidArgumentError\u001b[0m: Nan in summary histogram for: conv2d_flipout/kernel_posterior_loc_0 [Op:WriteHistogramSummary]"
     ]
    }
   ],
   "source": [
    "model_variational.fit(x = x_train, y = y_train, epochs = 1800, shuffle = True, verbose = 1, validation_data = (x_validation, y_validation), callbacks = [tensorboard_callback, cp_callback])"
   ]
  },
  {
   "cell_type": "code",
   "execution_count": null,
   "id": "3617d578",
   "metadata": {},
   "outputs": [],
   "source": [
    "model_variational.save_weights(weights_path.format(epoch = 900))"
   ]
  },
  {
   "cell_type": "code",
   "execution_count": null,
   "id": "12bb7b83",
   "metadata": {},
   "outputs": [],
   "source": [
    "model_variational.load_weights(weights_path)"
   ]
  },
  {
   "cell_type": "code",
   "execution_count": null,
   "id": "9f5b1434",
   "metadata": {},
   "outputs": [],
   "source": [
    "photoz = []\n",
    "\n",
    "for i in range(t):\n",
    "    photoz.append(model_variational(np.array([x_test[i]])).mean()[0][0])\n",
    "\n",
    "photoz = np.asarray(photoz).astype('float32')"
   ]
  },
  {
   "cell_type": "code",
   "execution_count": null,
   "id": "d23ff899",
   "metadata": {},
   "outputs": [],
   "source": [
    "photoz_train = []\n",
    "\n",
    "for i in range(n):\n",
    "    photoz_train.append(model_variational(np.array([x_train[i]])).mean()[0][0])\n",
    "\n",
    "photoz_train = np.asarray(photoz_train).astype('float32')"
   ]
  },
  {
   "cell_type": "code",
   "execution_count": null,
   "id": "022d0463",
   "metadata": {},
   "outputs": [],
   "source": [
    "photoz_validation = []\n",
    "\n",
    "for i in range(v):\n",
    "    photoz_validation.append(model_variational(np.array([x_validation[i]])).mean()[0][0])\n",
    "\n",
    "photoz_validation = np.asarray(photoz_validation).astype('float32')"
   ]
  },
  {
   "cell_type": "code",
   "execution_count": null,
   "id": "5aaca9e4",
   "metadata": {},
   "outputs": [],
   "source": [
    "specz = np.asarray(y_test)[:,0]\n",
    "specz_train = np.asarray(y_train)[:,0]\n",
    "specz_validation = np.asarray(y_validation)[:,0]"
   ]
  },
  {
   "cell_type": "code",
   "execution_count": null,
   "id": "c8f2d907",
   "metadata": {},
   "outputs": [],
   "source": [
    "photoz_err = []\n",
    "\n",
    "for i in range(t):\n",
    "    photoz_err.append(2 * model_variational(np.array([x_test[i]])).stddev()[0][0])"
   ]
  },
  {
   "cell_type": "code",
   "execution_count": null,
   "id": "35308ebc",
   "metadata": {},
   "outputs": [],
   "source": [
    "photoz_err_train = []\n",
    "\n",
    "for i in range(n):\n",
    "    photoz_err_train.append(2 * model_variational(np.array([x_train[i]])).stddev()[0][0])"
   ]
  },
  {
   "cell_type": "code",
   "execution_count": null,
   "id": "74696dbb",
   "metadata": {},
   "outputs": [],
   "source": [
    "photoz_err_validation = []\n",
    "\n",
    "for i in range(v):\n",
    "    photoz_err_validation.append(2 * model_variational(np.array([x_validation[i]])).stddev()[0][0])"
   ]
  },
  {
   "cell_type": "code",
   "execution_count": null,
   "id": "4aca0c11",
   "metadata": {},
   "outputs": [],
   "source": [
    "from scipy.stats import gaussian_kde\n",
    "xy = np.asarray(np.vstack([specz, photoz])).astype('float32')\n",
    "z = gaussian_kde(xy)(xy)"
   ]
  },
  {
   "cell_type": "code",
   "execution_count": null,
   "id": "2d080369",
   "metadata": {},
   "outputs": [],
   "source": [
    "import seaborn as sns\n",
    "z_max = 4\n",
    "sns.set(rc={'figure.figsize': (10, 10), 'lines.markersize': 20})\n",
    "plt.rcParams.update({'font.size': 40})\n",
    "fig, ax = plt.subplots()\n",
    "scatter_plot = ax.scatter(specz, photoz, c = z, s = 1, edgecolor = None)\n",
    "plt.colorbar(scatter_plot, label = 'Density')\n",
    "plt.title('Prediction')\n",
    "plt.xlabel('spectroscopic redshift')\n",
    "plt.ylabel('photo z')\n",
    "plt.plot([0, z_max], [0, z_max],color = 'black')\n",
    "plt.xlim([0, z_max])\n",
    "plt.ylim([0, z_max])\n",
    "plt.show()"
   ]
  },
  {
   "cell_type": "markdown",
   "id": "258bc2ea",
   "metadata": {},
   "source": [
    "sns.set(rc={'figure.figsize':(10, 10), 'lines.markersize':20})\n",
    "plt.rcParams.update({'font.size': 100})\n",
    "sns.set(font_scale=3)\n",
    "\n",
    "data = {'BCNN':10.7, 'BNN':19.7, 'Mizuki':27.4,\n",
    "        'DEmP':25}\n",
    "models_list = list(data.keys())\n",
    "outlier_rates = list(data.values())\n",
    "\n",
    "plt.bar(models_list, outlier_rates, color=('blue', 'red', 'red', 'red'))\n",
    "plt.plot([-.5, 3.5], [15, 15], color = 'black', linestyle = 'dashed')\n",
    "plt.title(\"Outlier Rates\")\n",
    "plt.ylabel(\"% Outlier Rate\")\n",
    "plt.xlabel(\"Model Type\")\n",
    "plt.show()"
   ]
  },
  {
   "cell_type": "code",
   "execution_count": null,
   "id": "2b34aa74",
   "metadata": {},
   "outputs": [],
   "source": [
    "overlap_variational = 0\n",
    "overlap_array_variational = []\n",
    "for i in range(0,t):\n",
    "    if np.abs(specz[i]-photoz[i])<=photoz_err[i]:\n",
    "        overlap_variational += 1\n",
    "        overlap_array_variational.append(1)\n",
    "    else:\n",
    "        overlap_array_variational.append(0)"
   ]
  },
  {
   "cell_type": "code",
   "execution_count": null,
   "id": "ce4218c2",
   "metadata": {},
   "outputs": [],
   "source": [
    "fig, ax = plt.subplots()\n",
    "display_size = 1000\n",
    "scatter_plot = ax.scatter(specz[:display_size], photoz[:display_size], c = z[:display_size], s = 4, edgecolor = None, zorder = 2)\n",
    "error_plot = ax.errorbar(specz[:display_size], photoz[:display_size], yerr = photoz_err[:display_size], fmt = \"o\", markersize = 0, color = 'blue', elinewidth = 1, zorder = 1)\n",
    "plt.title('Prediction with error, Bayesian')\n",
    "plt.xlabel('spectroscopic redshift')\n",
    "plt.ylabel('photo z')\n",
    "plt.plot([0, z_max], [0, z_max], color = 'black')\n",
    "plt.xlim([0, z_max])\n",
    "plt.ylim([0, z_max])\n",
    "print(\"Coverage: \"+str(overlap_variational/t))"
   ]
  },
  {
   "cell_type": "code",
   "execution_count": null,
   "id": "5c5eee06",
   "metadata": {},
   "outputs": [],
   "source": [
    "combined_array_variational = np.transpose(np.vstack((specz, photoz, photoz_err, overlap_array_variational))) "
   ]
  },
  {
   "cell_type": "code",
   "execution_count": null,
   "id": "fb236386",
   "metadata": {},
   "outputs": [],
   "source": [
    "sorted_combined_array_variational = sorted(combined_array_variational, key=lambda x: x[0])"
   ]
  },
  {
   "cell_type": "code",
   "execution_count": null,
   "id": "ebecb5bb",
   "metadata": {},
   "outputs": [],
   "source": [
    "bins_variational = int(z_max*5)\n",
    "splitted_sorted_combined_array_variational = np.array_split(sorted_combined_array_variational, bins_variational)\n",
    "coverage_variational = []\n",
    "for i in range(0, bins_variational):\n",
    "    bins_count_variational = 0\n",
    "    for j in range(0,len(splitted_sorted_combined_array_variational[i])):\n",
    "        if splitted_sorted_combined_array_variational[i][j][3] == 1:\n",
    "            bins_count_variational += 1\n",
    "    coverage_variational.append(bins_count_variational/len(splitted_sorted_combined_array_variational[i])/0.6827)\n",
    "x_array = np.arange(0, z_max, z_max/bins_variational)"
   ]
  },
  {
   "cell_type": "code",
   "execution_count": null,
   "id": "f06c57bf",
   "metadata": {
    "scrolled": true
   },
   "outputs": [],
   "source": [
    "plt.plot(x_array, coverage_variational, c = 'red')\n",
    "plt.title('Coverage, Bayesian')\n",
    "plt.xlabel('spectroscopic redshift')\n",
    "plt.ylabel('coverage')\n",
    "plt.ylim([0, 1.5])\n",
    "plt.plot([0, 4], [1, 1], color = 'black', linestyle = 'dashed')\n",
    "print(\"Coverage: \"+str(overlap_variational/t))"
   ]
  },
  {
   "cell_type": "code",
   "execution_count": null,
   "id": "c7375ddb",
   "metadata": {},
   "outputs": [],
   "source": [
    "mean_array = []\n",
    "for i in range(0, bins_variational):\n",
    "    total = 0\n",
    "    for j in range(0, len(splitted_sorted_combined_array_variational[i])):\n",
    "        bias = (splitted_sorted_combined_array_variational[i][j][1]-splitted_sorted_combined_array_variational[i][j][0])\n",
    "        total += bias/(1 + splitted_sorted_combined_array_variational[i][j][0])\n",
    "    mean_array.append(total/len(splitted_sorted_combined_array_variational[i]))\n",
    "x_array = np.arange(0, z_max, z_max/bins_variational)"
   ]
  },
  {
   "cell_type": "code",
   "execution_count": null,
   "id": "76b7ef6e",
   "metadata": {},
   "outputs": [],
   "source": [
    "error_array = []\n",
    "for i in range(0,bins_variational):\n",
    "    error_total = 0\n",
    "    for j in range(0,len(splitted_sorted_combined_array_variational[i])):\n",
    "        error_total += splitted_sorted_combined_array_variational[i][j][2]\n",
    "    error_array.append(error_total/len(splitted_sorted_combined_array_variational[i]))"
   ]
  },
  {
   "cell_type": "code",
   "execution_count": null,
   "id": "8652e4b9",
   "metadata": {},
   "outputs": [],
   "source": [
    "sns.set(rc={'figure.figsize':(5, 5), 'lines.markersize':40})\n",
    "plt.rcParams.update({'font.size': 40})\n",
    "plt.errorbar(x_array, mean_array, yerr = error_array, fmt = \"o\", color = 'blue', markersize = 4, elinewidth = 2)\n",
    "plt.title('Bias Plot for Probabilistic Model')\n",
    "plt.xlabel('True Redshift')\n",
    "plt.ylabel('Bias (Predicted - True)')\n",
    "plt.plot([0, z_max], [0, 0], color = 'black')\n",
    "plt.plot([0, z_max], [0.02, 0.02], color = 'black', linestyle = 'dashed')\n",
    "plt.plot([0, z_max], [-0.02, -0.02], color = 'black', linestyle = 'dashed')\n",
    "plt.ylim([-0.5, 0.5])\n",
    "plt.show()"
   ]
  },
  {
   "cell_type": "code",
   "execution_count": null,
   "id": "83c7443e",
   "metadata": {},
   "outputs": [],
   "source": [
    "combined_outlier_array = np.transpose(np.vstack((specz, photoz, photoz_err)))\n",
    "sorted_combined_outlier_array = sorted(combined_outlier_array, key=lambda x: x[0])\n",
    "bins_outlier = int(z_max*20)\n",
    "splitted_sorted_combined_outlier_array = np.array_split(sorted_combined_outlier_array,bins_outlier)\n",
    "outlier_array = []\n",
    "outlier_count_total = 0\n",
    "for i in range(0,bins_outlier):\n",
    "    outlier_count = 0\n",
    "    for j in range(0,len(splitted_sorted_combined_outlier_array[i])):\n",
    "        if np.abs(splitted_sorted_combined_outlier_array[i][j][1] - splitted_sorted_combined_outlier_array[i][j][0]) >= 3 * splitted_sorted_combined_outlier_array[i][j][2]:\n",
    "            outlier_count += 1\n",
    "            outlier_count_total += 1\n",
    "    outlier_array.append(outlier_count/len(specz)*bins_outlier)\n",
    "x_array_outlier = np.arange(0,z_max,z_max/bins_outlier)\n",
    "plt.plot(x_array_outlier, outlier_array, c = 'blue')\n",
    "plt.title('Outlier Rate')\n",
    "plt.xlabel('spec z')\n",
    "plt.ylabel('outlier rate')\n",
    "plt.xlim([0,z_max])\n",
    "plt.ylim([0,1/2])\n",
    "plt.show()\n",
    "\n",
    "print(\"Outlier Rate: \"+str(outlier_count_total/len(specz)))"
   ]
  },
  {
   "cell_type": "code",
   "execution_count": null,
   "id": "16ee12a0",
   "metadata": {},
   "outputs": [],
   "source": [
    "combined_outlier_array = np.transpose(np.vstack((specz,np.subtract(photoz, specz))))\n",
    "sorted_combined_outlier_array = sorted(combined_outlier_array, key=lambda x: x[0])\n",
    "bins_outlier = int(z_max*10)\n",
    "splitted_sorted_combined_outlier_array = np.array_split(sorted_combined_outlier_array,bins_outlier)\n",
    "outlier_array = []\n",
    "outlier_count_total = 0\n",
    "for i in range(0,bins_outlier):\n",
    "    outlier_count = 0\n",
    "    for j in range(0,len(splitted_sorted_combined_outlier_array[i])):\n",
    "        if np.abs(splitted_sorted_combined_outlier_array[i][j][1]/(splitted_sorted_combined_outlier_array[i][j][0] + 1)) >= .15:\n",
    "            outlier_count += 1\n",
    "            outlier_count_total += 1\n",
    "    outlier_array.append(outlier_count/len(specz)*bins_outlier)\n",
    "x_array_outlier = np.arange(0,z_max,z_max/bins_outlier)\n",
    "plt.plot(x_array_outlier, outlier_array, c = 'blue')\n",
    "plt.title('Outlier Rate')\n",
    "plt.xlabel('spec z')\n",
    "plt.ylabel('outlier rate')\n",
    "plt.xlim([0,z_max])\n",
    "plt.ylim([0,1/2])\n",
    "plt.show()\n",
    "\n",
    "print(\"Outlier Rate: \"+str(outlier_count_total/len(specz)))"
   ]
  },
  {
   "cell_type": "code",
   "execution_count": null,
   "id": "938faefb",
   "metadata": {},
   "outputs": [],
   "source": [
    "photoz_utils.save_with_oid_std(model_name, object_id, specz, photoz, photoz_err)\n",
    "photoz_utils.save_train_with_oid_std(model_name, object_id_train, specz_train, photoz_train, photoz_err_train)\n",
    "photoz_utils.save_validation_with_oid_std(model_name, object_id_validation, specz_validation, photoz_validation, photoz_err_validation)"
   ]
  },
  {
   "cell_type": "code",
   "execution_count": null,
   "id": "d8ae84b8",
   "metadata": {},
   "outputs": [],
   "source": [
    "uncertains = []\n",
    "for i in range(0, len(photoz_err)):\n",
    "    if photoz_err[i].numpy() >= 1:\n",
    "        uncertains.append(i)\n",
    "        print(\"Object ID: \" + str(object_id[i]) + \", Spectro_z: \" + str(specz[i]) + \", Photo_z: \" + str(photoz[i]) + \", Photo_z_err: \" + str(photoz_err[i].numpy()))"
   ]
  },
  {
   "cell_type": "code",
   "execution_count": null,
   "id": "36c89c41",
   "metadata": {},
   "outputs": [],
   "source": [
    "check = 2\n",
    "current = uncertains[check]\n",
    "print(\"Object ID: \" + str(object_id[current]) + \", Spectro_z: \" + str(specz[current]) + \", Photo_z: \" + str(photoz[current]) + \", Photo_z_err: \" + str(photoz_err[current].numpy()))\n",
    "plt.imshow(x_test[current][:,:,0])\n",
    "plt.grid(False)"
   ]
  },
  {
   "cell_type": "code",
   "execution_count": null,
   "id": "54921336",
   "metadata": {},
   "outputs": [],
   "source": [
    "biases = []\n",
    "for i in range(0, len(photoz)):\n",
    "    if np.abs(photoz[i]-specz[i]) >= 1 and photoz_err[i].numpy() <= 0.5:\n",
    "        biases.append(i)\n",
    "        print(\"Object ID: \" + str(object_id[i]) + \", Spectro_z: \" + str(specz[i]) + \", Photo_z: \" + str(photoz[i]) + \", Photo_z_err: \" + str(photoz_err[i].numpy()))"
   ]
  },
  {
   "cell_type": "code",
   "execution_count": null,
   "id": "6d860045",
   "metadata": {},
   "outputs": [],
   "source": [
    "check_bias = 3\n",
    "current_bias = biases[check_bias]\n",
    "print(\"Object ID: \" + str(object_id[current_bias]) + \", Spectro_z: \" + str(specz[current_bias]) + \", Photo_z: \" + str(photoz[current_bias]) + \", Photo_z_err: \" + str(photoz_err[current_bias].numpy()))\n",
    "plt.imshow(x_test[current_bias][:,:,0])\n",
    "plt.grid(False)"
   ]
  },
  {
   "cell_type": "code",
   "execution_count": null,
   "id": "8ec169d4",
   "metadata": {},
   "outputs": [],
   "source": [
    "# END"
   ]
  }
 ],
 "metadata": {
  "kernelspec": {
   "display_name": "Python 3",
   "language": "python",
   "name": "python3"
  },
  "language_info": {
   "codemirror_mode": {
    "name": "ipython",
    "version": 3
   },
   "file_extension": ".py",
   "mimetype": "text/x-python",
   "name": "python",
   "nbconvert_exporter": "python",
   "pygments_lexer": "ipython3",
   "version": "3.8.10"
  }
 },
 "nbformat": 4,
 "nbformat_minor": 5
}
