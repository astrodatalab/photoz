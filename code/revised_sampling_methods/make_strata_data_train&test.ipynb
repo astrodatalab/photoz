{
 "cells": [
  {
   "cell_type": "code",
   "execution_count": 1,
   "id": "5eb1d7d9",
   "metadata": {},
   "outputs": [
    {
     "name": "stdout",
     "output_type": "stream",
     "text": [
      "Num GPUs Available:  1\n"
     ]
    }
   ],
   "source": [
    "import tensorflow as tf\n",
    "import pandas as pd\n",
    "import numpy as np\n",
    "import matplotlib.pyplot as plt\n",
    "import matplotlib.cm as cm\n",
    "import random\n",
    "print(\"Num GPUs Available: \", len(tf.config.list_physical_devices('GPU')))\n",
    "from datetime import datetime\n",
    "import os\n",
    "\n",
    "from sklearn.model_selection import train_test_split"
   ]
  },
  {
   "cell_type": "code",
   "execution_count": 2,
   "id": "177bd8c5",
   "metadata": {},
   "outputs": [
    {
     "name": "stdout",
     "output_type": "stream",
     "text": [
      "1 Physical GPUs, 1 Logical GPUs\n"
     ]
    }
   ],
   "source": [
    "gpus = tf.config.list_physical_devices('GPU')\n",
    "if gpus:\n",
    "  # Restrict TensorFlow to only allocate 1GB of memory on the first GPU\n",
    "  try:\n",
    "    tf.config.experimental.set_virtual_device_configuration(\n",
    "        gpus[0],\n",
    "        [tf.config.experimental.VirtualDeviceConfiguration(memory_limit=5000)])\n",
    "    logical_gpus = tf.config.experimental.list_logical_devices('GPU')\n",
    "    print(len(gpus), \"Physical GPUs,\", len(logical_gpus), \"Logical GPUs\")\n",
    "  except RuntimeError as e:\n",
    "    # Virtual devices must be set before GPUs have been initialized\n",
    "    print(e)"
   ]
  },
  {
   "cell_type": "code",
   "execution_count": 3,
   "id": "481ff0df",
   "metadata": {},
   "outputs": [],
   "source": [
    "photozdata = pd.read_csv('/mnt/data/HSC/HSC_v6/HSC_v6.csv')"
   ]
  },
  {
   "cell_type": "code",
   "execution_count": 4,
   "id": "c77d1d2a",
   "metadata": {},
   "outputs": [],
   "source": [
    "# filter & duplicate drop from HSC dataset\n",
    "z_max = 2.5\n",
    "filt = (photozdata['specz_redshift'] < z_max)\\\n",
    "& (photozdata['specz_redshift'] > 0.01)\\\n",
    "& (photozdata['specz_redshift_err'] > 0) \\\n",
    "& (photozdata['specz_redshift_err'] < 1)\\\n",
    "&(photozdata[\"specz_redshift_err\"]<0.005*(1+photozdata[\"specz_redshift\"]))\\\n",
    "&(photozdata['g_cmodel_mag'] >0)\\\n",
    "&(photozdata['r_cmodel_mag'] >0)\\\n",
    "&(photozdata['i_cmodel_mag'] >0)\\\n",
    "&(photozdata['z_cmodel_mag'] >0)\\\n",
    "&(photozdata['y_cmodel_mag'] >0)\\\n",
    "&(photozdata['g_cmodel_mag'] < 100)\\\n",
    "&(photozdata['r_cmodel_mag'] < 100)\\\n",
    "&(photozdata['i_cmodel_mag'] < 100)\\\n",
    "&(photozdata['z_cmodel_mag'] < 100)\\\n",
    "&(photozdata['y_cmodel_mag'] < 100)\\\n",
    "&(photozdata['specz_flag_homogeneous'] == True)\n",
    "photozdata.drop_duplicates(subset=['object_id'])\n",
    "photozdata_subset = photozdata[filt]"
   ]
  },
  {
   "cell_type": "code",
   "execution_count": 5,
   "id": "545abf32",
   "metadata": {},
   "outputs": [
    {
     "data": {
      "text/plain": [
       "Index(['object_id', 'specz_redshift_err', 'specz_redshift', 'specz_mag_i',\n",
       "       'specz_name', 'specz_ra', 'specz_dec', 'specz_flag_homogeneous', 'ra',\n",
       "       'dec', 'coord', 'skymap_id', 'g_cmodel_mag', 'r_cmodel_mag',\n",
       "       'i_cmodel_mag', 'z_cmodel_mag', 'y_cmodel_mag', 'g_cmodel_magsigma',\n",
       "       'r_cmodel_magsigma', 'i_cmodel_magsigma', 'z_cmodel_magsigma',\n",
       "       'y_cmodel_magsigma'],\n",
       "      dtype='object')"
      ]
     },
     "execution_count": 5,
     "metadata": {},
     "output_type": "execute_result"
    }
   ],
   "source": [
    "photozdata.columns"
   ]
  },
  {
   "cell_type": "code",
   "execution_count": 6,
   "id": "12c77c04",
   "metadata": {},
   "outputs": [],
   "source": [
    "photozdata_trainset, photozdata_testset = train_test_split(photozdata_subset, test_size=0.2, random_state=10) # Set random state"
   ]
  },
  {
   "cell_type": "code",
   "execution_count": 7,
   "id": "0ee5181d",
   "metadata": {},
   "outputs": [],
   "source": [
    "# photozdata_trainset.to_csv('/data/HSC/HSC_v6/3_model_comparison/training_'+str(z_max)+'z_.csv', index=False)\n",
    "# photozdata_testset.to_csv('/data/HSC/HSC_v6/3_model_comparison/testing_'+str(z_max)+'z_.csv', index=False)"
   ]
  },
  {
   "cell_type": "code",
   "execution_count": null,
   "id": "e05b09ea",
   "metadata": {},
   "outputs": [],
   "source": []
  }
 ],
 "metadata": {
  "kernelspec": {
   "display_name": "Python 3",
   "language": "python",
   "name": "python3"
  },
  "language_info": {
   "codemirror_mode": {
    "name": "ipython",
    "version": 3
   },
   "file_extension": ".py",
   "mimetype": "text/x-python",
   "name": "python",
   "nbconvert_exporter": "python",
   "pygments_lexer": "ipython3",
   "version": "3.8.10"
  }
 },
 "nbformat": 4,
 "nbformat_minor": 5
}
