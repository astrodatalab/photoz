{
 "cells": [
  {
   "cell_type": "code",
   "execution_count": 1,
   "id": "5eb1d7d9",
   "metadata": {},
   "outputs": [
    {
     "name": "stdout",
     "output_type": "stream",
     "text": [
      "Num GPUs Available:  1\n"
     ]
    }
   ],
   "source": [
    "import tensorflow as tf\n",
    "import pandas as pd\n",
    "import numpy as np\n",
    "import matplotlib.pyplot as plt\n",
    "import matplotlib.cm as cm\n",
    "import random\n",
    "print(\"Num GPUs Available: \", len(tf.config.list_physical_devices('GPU')))\n",
    "from datetime import datetime\n",
    "import os\n",
    "\n",
    "from sklearn.model_selection import train_test_split"
   ]
  },
  {
   "cell_type": "code",
   "execution_count": 2,
   "id": "177bd8c5",
   "metadata": {},
   "outputs": [
    {
     "name": "stdout",
     "output_type": "stream",
     "text": [
      "1 Physical GPUs, 1 Logical GPUs\n"
     ]
    }
   ],
   "source": [
    "gpus = tf.config.list_physical_devices('GPU')\n",
    "if gpus:\n",
    "  # Restrict TensorFlow to only allocate 1GB of memory on the first GPU\n",
    "  try:\n",
    "    tf.config.experimental.set_virtual_device_configuration(\n",
    "        gpus[0],\n",
    "        [tf.config.experimental.VirtualDeviceConfiguration(memory_limit=5000)])\n",
    "    logical_gpus = tf.config.experimental.list_logical_devices('GPU')\n",
    "    print(len(gpus), \"Physical GPUs,\", len(logical_gpus), \"Logical GPUs\")\n",
    "  except RuntimeError as e:\n",
    "    # Virtual devices must be set before GPUs have been initialized\n",
    "    print(e)"
   ]
  },
  {
   "cell_type": "code",
   "execution_count": 3,
   "id": "c77d1d2a",
   "metadata": {},
   "outputs": [],
   "source": [
    "z_max = 2.5"
   ]
  },
  {
   "cell_type": "code",
   "execution_count": 4,
   "id": "871bf6a5",
   "metadata": {},
   "outputs": [],
   "source": [
    "train_set = pd.read_csv('/data/HSC/HSC_v6/3_model_comparison/training_'+str(z_max)+'z_.csv')"
   ]
  },
  {
   "cell_type": "code",
   "execution_count": 5,
   "id": "a5bf61ce",
   "metadata": {},
   "outputs": [],
   "source": [
    "train_array = np.asarray(train_set)"
   ]
  },
  {
   "cell_type": "code",
   "execution_count": 6,
   "id": "5554ad62",
   "metadata": {},
   "outputs": [],
   "source": [
    "n = len(train_array) # number of galaxies"
   ]
  },
  {
   "cell_type": "code",
   "execution_count": 7,
   "id": "a74ee1c3",
   "metadata": {},
   "outputs": [],
   "source": [
    "train_sorted = sorted(train_array, key=lambda x: x[2]) # sorted by 'specz_redshift'"
   ]
  },
  {
   "cell_type": "code",
   "execution_count": 8,
   "id": "df1a3926",
   "metadata": {},
   "outputs": [
    {
     "data": {
      "text/plain": [
       "array([41601547150321034, 9.99999975e-06, 0.0100999996, 16.9960003,\n",
       "       'SDSS-DR12-1237656906348626261', 345.33543, -0.925957, True,\n",
       "       345.33555992089055, -0.9259759774764964,\n",
       "       '(199519.6875, -52210.6796875, -3333.368408203125)', 94590303,\n",
       "       22.2296257, 21.982687, 22.1828537, 23.84021, 23.0793934,\n",
       "       0.00695806509, 0.00607395219, 0.00986235403, 0.0989359617,\n",
       "       0.113840707], dtype=object)"
      ]
     },
     "execution_count": 8,
     "metadata": {},
     "output_type": "execute_result"
    }
   ],
   "source": [
    "train_sorted[0]"
   ]
  },
  {
   "cell_type": "code",
   "execution_count": 9,
   "id": "ef087fd2",
   "metadata": {},
   "outputs": [
    {
     "name": "stdout",
     "output_type": "stream",
     "text": [
      "[157485, 50981, 8241, 7430]\n"
     ]
    }
   ],
   "source": [
    "# stratification of training set\n",
    "nstrata = 4\n",
    "stratas = []\n",
    "cur = z_max/nstrata\n",
    "pre = 0\n",
    "for i in range(0, n):\n",
    "    if train_sorted[i][2] >= cur:\n",
    "        stratas.append(train_sorted[pre:i])\n",
    "        pre = i\n",
    "        cur += z_max/nstrata\n",
    "    if i == n - 1:\n",
    "        stratas.append(train_sorted[pre:i])\n",
    "strata_lengths = []\n",
    "# randomized to undo sorting\n",
    "for i in range(0,nstrata):\n",
    "    random.shuffle(stratas[i])\n",
    "    strata_lengths.append(len(stratas[i]))\n",
    "print(strata_lengths) # individual strata sizes"
   ]
  },
  {
   "cell_type": "code",
   "execution_count": 10,
   "id": "a2d5cf99",
   "metadata": {},
   "outputs": [],
   "source": [
    "nnetwork = 7 # networks in the ensemble minus 1 (6 networks)"
   ]
  },
  {
   "cell_type": "code",
   "execution_count": 11,
   "id": "4140e13d",
   "metadata": {},
   "outputs": [],
   "source": [
    "sample_array = [1, 1, 1, 1] # proportionality configuration\n",
    "training_set_size = 4 * min(strata_lengths) # total training size"
   ]
  },
  {
   "cell_type": "code",
   "execution_count": 12,
   "id": "02d08d82",
   "metadata": {},
   "outputs": [
    {
     "data": {
      "text/plain": [
       "29720"
      ]
     },
     "execution_count": 12,
     "metadata": {},
     "output_type": "execute_result"
    }
   ],
   "source": [
    "training_set_size"
   ]
  },
  {
   "cell_type": "code",
   "execution_count": 13,
   "id": "b567e7a5",
   "metadata": {},
   "outputs": [],
   "source": [
    "min_array = [int(training_set_size/sum(sample_array))] * nstrata\n",
    "\n",
    "# Sets an array where the elements are the modified strata sizes\n",
    "sample_size_array = [i*j for i,j in zip(sample_array, min_array)]"
   ]
  },
  {
   "cell_type": "code",
   "execution_count": 14,
   "id": "6aae5907",
   "metadata": {},
   "outputs": [
    {
     "data": {
      "text/plain": [
       "[7430, 7430, 7430, 7430]"
      ]
     },
     "execution_count": 14,
     "metadata": {},
     "output_type": "execute_result"
    }
   ],
   "source": [
    "sample_size_array"
   ]
  },
  {
   "cell_type": "code",
   "execution_count": 15,
   "id": "415c3027",
   "metadata": {},
   "outputs": [
    {
     "data": {
      "image/png": "[encoded data removed]",
      "text/plain": [
       "<Figure size 720x576 with 1 Axes>"
      ]
     },
     "metadata": {
      "needs_background": "light"
     },
     "output_type": "display_data"
    }
   ],
   "source": [
    "# Plot\n",
    "z_ranges = [1, 2, 3, 4]\n",
    "plt.figure(figsize=(10, 8))\n",
    "plt.rcParams.update({'font.size': 10})\n",
    "ax = plt.subplot(111)\n",
    "ax.bar([i-(z_max/nstrata/2) for i in z_ranges], strata_lengths, width = 0.4, color = 'royalblue', label = 'Total Sampling Population')\n",
    "ax.bar([i-(z_max/nstrata/2) for i in z_ranges], sample_size_array, width = 0.4, color = 'red', label = 'Sample Size')\n",
    "\n",
    "plt.title('Data Points in Each Strata')\n",
    "plt.xlabel('Spectroscopic z')\n",
    "plt.ylabel('Number of Data Points')\n",
    "ylim = 20000\n",
    "plt.ylim([0,ylim])\n",
    "plt.text(z_ranges[0]-(z_max/nstrata/2), 1*ylim/20, str(strata_lengths[0]), color = 'white', ha='center', va='center')\n",
    "plt.text(z_ranges[1]-(z_max/nstrata/2), 1*ylim/20, str(strata_lengths[1]), color = 'white', ha='center', va='center')\n",
    "plt.text(z_ranges[0]-(z_max/nstrata/2), 2*ylim/20, \"/\", color = 'white', ha='center', va='center')\n",
    "plt.text(z_ranges[1]-(z_max/nstrata/2), 2*ylim/20, \"/\", color = 'white', ha='center', va='center')\n",
    "plt.text(z_ranges[0]-(z_max/nstrata/2), 3*ylim/20, str(sample_size_array[0]), color = 'white', ha='center', va='center')\n",
    "plt.text(z_ranges[1]-(z_max/nstrata/2), 3*ylim/20, str(sample_size_array[1]), color = 'white', ha='center', va='center')\n",
    "handles, labels = plt.gca().get_legend_handles_labels()\n",
    "plt.legend()\n",
    "plt.axhline(y=0, color='black', linestyle='-')\n",
    "plt.show()"
   ]
  },
  {
   "cell_type": "code",
   "execution_count": 16,
   "id": "b49f9d2b",
   "metadata": {},
   "outputs": [],
   "source": [
    "# Sampling training data from each strata\n",
    "\n",
    "training_data = []\n",
    "\n",
    "for i in range(0, nnetwork):\n",
    "    sampled = random.sample(stratas[0][0:strata_lengths[0]], sample_size_array[0])\n",
    "    training_data_bin = sampled\n",
    "    for j in range(1, nstrata):\n",
    "        sampled = random.sample(stratas[j][0:strata_lengths[j]], sample_size_array[j])\n",
    "        training_data_bin = np.concatenate((training_data_bin, sampled), axis=0)\n",
    "    training_data.append(training_data_bin)"
   ]
  },
  {
   "cell_type": "code",
   "execution_count": 17,
   "id": "67d3efb0",
   "metadata": {},
   "outputs": [],
   "source": [
    "for i in range(1, nnetwork + 1):\n",
    "    df = pd.DataFrame(training_data[i - 1], columns=['object_id', 'specz_redshift_err', 'specz_redshift', 'specz_mag_i',\n",
    "       'specz_name', 'specz_ra', 'specz_dec', 'specz_flag_homogeneous', 'ra',\n",
    "       'dec', 'coord', 'skymap_id', 'g_cmodel_mag', 'r_cmodel_mag',\n",
    "       'i_cmodel_mag', 'z_cmodel_mag', 'y_cmodel_mag', 'g_cmodel_magsigma',\n",
    "       'r_cmodel_magsigma', 'i_cmodel_magsigma', 'z_cmodel_magsigma',\n",
    "       'y_cmodel_magsigma'])\n",
    "    #df.to_csv('/data/HSC/HSC_v6/3_model_comparison/undersampled_training_set_'+str(z_max)+'z_'+str(sample_array)+'#'+str(i)+'.csv', index=False)"
   ]
  },
  {
   "cell_type": "code",
   "execution_count": 18,
   "id": "19f449c0",
   "metadata": {},
   "outputs": [
    {
     "data": {
      "text/plain": [
       "29720"
      ]
     },
     "execution_count": 18,
     "metadata": {},
     "output_type": "execute_result"
    }
   ],
   "source": [
    "len(training_data[0])"
   ]
  },
  {
   "cell_type": "code",
   "execution_count": 19,
   "id": "239f6e0f",
   "metadata": {},
   "outputs": [],
   "source": [
    "# END"
   ]
  },
  {
   "cell_type": "code",
   "execution_count": 20,
   "id": "8eec1a92",
   "metadata": {},
   "outputs": [
    {
     "data": {
      "text/html": [
       "<div>\n",
       "<style scoped>\n",
       "    .dataframe tbody tr th:only-of-type {\n",
       "        vertical-align: middle;\n",
       "    }\n",
       "\n",
       "    .dataframe tbody tr th {\n",
       "        vertical-align: top;\n",
       "    }\n",
       "\n",
       "    .dataframe thead th {\n",
       "        text-align: right;\n",
       "    }\n",
       "</style>\n",
       "<table border=\"1\" class=\"dataframe\">\n",
       "  <thead>\n",
       "    <tr style=\"text-align: right;\">\n",
       "      <th></th>\n",
       "      <th>object_id</th>\n",
       "      <th>specz_redshift_err</th>\n",
       "      <th>specz_redshift</th>\n",
       "      <th>specz_mag_i</th>\n",
       "      <th>specz_name</th>\n",
       "      <th>specz_ra</th>\n",
       "      <th>specz_dec</th>\n",
       "      <th>specz_flag_homogeneous</th>\n",
       "      <th>ra</th>\n",
       "      <th>dec</th>\n",
       "      <th>...</th>\n",
       "      <th>g_cmodel_mag</th>\n",
       "      <th>r_cmodel_mag</th>\n",
       "      <th>i_cmodel_mag</th>\n",
       "      <th>z_cmodel_mag</th>\n",
       "      <th>y_cmodel_mag</th>\n",
       "      <th>g_cmodel_magsigma</th>\n",
       "      <th>r_cmodel_magsigma</th>\n",
       "      <th>i_cmodel_magsigma</th>\n",
       "      <th>z_cmodel_magsigma</th>\n",
       "      <th>y_cmodel_magsigma</th>\n",
       "    </tr>\n",
       "  </thead>\n",
       "  <tbody>\n",
       "    <tr>\n",
       "      <th>0</th>\n",
       "      <td>41223452589320133</td>\n",
       "      <td>0.00065</td>\n",
       "      <td>0.29622</td>\n",
       "      <td>18.816</td>\n",
       "      <td>GAMA-DR2-544975</td>\n",
       "      <td>217.77646</td>\n",
       "      <td>-0.96679</td>\n",
       "      <td>True</td>\n",
       "      <td>217.776473</td>\n",
       "      <td>-0.966794</td>\n",
       "      <td>...</td>\n",
       "      <td>21.37532</td>\n",
       "      <td>19.853359</td>\n",
       "      <td>19.213608</td>\n",
       "      <td>18.897217</td>\n",
       "      <td>18.622095</td>\n",
       "      <td>0.003129</td>\n",
       "      <td>0.001747</td>\n",
       "      <td>0.00077</td>\n",
       "      <td>0.001153</td>\n",
       "      <td>0.001653</td>\n",
       "    </tr>\n",
       "    <tr>\n",
       "      <th>1</th>\n",
       "      <td>40994754170744145</td>\n",
       "      <td>0.00053</td>\n",
       "      <td>0.06886</td>\n",
       "      <td>18.431</td>\n",
       "      <td>GAMA-DR2-527985</td>\n",
       "      <td>140.66246</td>\n",
       "      <td>-0.84889</td>\n",
       "      <td>True</td>\n",
       "      <td>140.662474</td>\n",
       "      <td>-0.848878</td>\n",
       "      <td>...</td>\n",
       "      <td>19.091679</td>\n",
       "      <td>18.735397</td>\n",
       "      <td>18.389282</td>\n",
       "      <td>18.279377</td>\n",
       "      <td>18.123701</td>\n",
       "      <td>0.000834</td>\n",
       "      <td>0.000727</td>\n",
       "      <td>0.000475</td>\n",
       "      <td>0.000956</td>\n",
       "      <td>0.001135</td>\n",
       "    </tr>\n",
       "    <tr>\n",
       "      <th>2</th>\n",
       "      <td>43096625266058992</td>\n",
       "      <td>0.00061</td>\n",
       "      <td>0.21029</td>\n",
       "      <td>17.947001</td>\n",
       "      <td>GAMA-DR2-521609</td>\n",
       "      <td>129.98546</td>\n",
       "      <td>2.82199</td>\n",
       "      <td>True</td>\n",
       "      <td>129.985437</td>\n",
       "      <td>2.822002</td>\n",
       "      <td>...</td>\n",
       "      <td>19.465019</td>\n",
       "      <td>18.328716</td>\n",
       "      <td>17.821526</td>\n",
       "      <td>17.497536</td>\n",
       "      <td>17.327042</td>\n",
       "      <td>0.001347</td>\n",
       "      <td>0.001921</td>\n",
       "      <td>0.000505</td>\n",
       "      <td>0.00073</td>\n",
       "      <td>0.001012</td>\n",
       "    </tr>\n",
       "    <tr>\n",
       "      <th>3</th>\n",
       "      <td>69555543659774458</td>\n",
       "      <td>0.00003</td>\n",
       "      <td>0.11115</td>\n",
       "      <td>16.51</td>\n",
       "      <td>SDSS-DR12-1237661852552003718</td>\n",
       "      <td>213.07879</td>\n",
       "      <td>42.692332</td>\n",
       "      <td>True</td>\n",
       "      <td>213.078837</td>\n",
       "      <td>42.692345</td>\n",
       "      <td>...</td>\n",
       "      <td>18.069195</td>\n",
       "      <td>17.115177</td>\n",
       "      <td>16.622797</td>\n",
       "      <td>16.331631</td>\n",
       "      <td>16.182812</td>\n",
       "      <td>0.000925</td>\n",
       "      <td>0.000434</td>\n",
       "      <td>0.000575</td>\n",
       "      <td>0.000396</td>\n",
       "      <td>0.001116</td>\n",
       "    </tr>\n",
       "    <tr>\n",
       "      <th>4</th>\n",
       "      <td>41219200571709924</td>\n",
       "      <td>0.00065</td>\n",
       "      <td>0.3018</td>\n",
       "      <td>18.740999</td>\n",
       "      <td>GAMA-DR2-568719</td>\n",
       "      <td>216.13675</td>\n",
       "      <td>-0.48383</td>\n",
       "      <td>True</td>\n",
       "      <td>216.136758</td>\n",
       "      <td>-0.483808</td>\n",
       "      <td>...</td>\n",
       "      <td>20.220421</td>\n",
       "      <td>19.162338</td>\n",
       "      <td>18.594019</td>\n",
       "      <td>18.2799</td>\n",
       "      <td>18.103745</td>\n",
       "      <td>0.00164</td>\n",
       "      <td>0.000968</td>\n",
       "      <td>0.000578</td>\n",
       "      <td>0.00075</td>\n",
       "      <td>0.001207</td>\n",
       "    </tr>\n",
       "    <tr>\n",
       "      <th>...</th>\n",
       "      <td>...</td>\n",
       "      <td>...</td>\n",
       "      <td>...</td>\n",
       "      <td>...</td>\n",
       "      <td>...</td>\n",
       "      <td>...</td>\n",
       "      <td>...</td>\n",
       "      <td>...</td>\n",
       "      <td>...</td>\n",
       "      <td>...</td>\n",
       "      <td>...</td>\n",
       "      <td>...</td>\n",
       "      <td>...</td>\n",
       "      <td>...</td>\n",
       "      <td>...</td>\n",
       "      <td>...</td>\n",
       "      <td>...</td>\n",
       "      <td>...</td>\n",
       "      <td>...</td>\n",
       "      <td>...</td>\n",
       "      <td>...</td>\n",
       "    </tr>\n",
       "    <tr>\n",
       "      <th>29715</th>\n",
       "      <td>41592768237143965</td>\n",
       "      <td>0.00048</td>\n",
       "      <td>2.2981</td>\n",
       "      <td>20.313999</td>\n",
       "      <td>SDSS-DR12-1237663478725935358</td>\n",
       "      <td>342.46859</td>\n",
       "      <td>-0.247912</td>\n",
       "      <td>True</td>\n",
       "      <td>342.468598</td>\n",
       "      <td>-0.247917</td>\n",
       "      <td>...</td>\n",
       "      <td>21.429459</td>\n",
       "      <td>21.259968</td>\n",
       "      <td>20.93734</td>\n",
       "      <td>20.595745</td>\n",
       "      <td>20.644394</td>\n",
       "      <td>0.0027</td>\n",
       "      <td>0.002655</td>\n",
       "      <td>0.001774</td>\n",
       "      <td>0.002413</td>\n",
       "      <td>0.004993</td>\n",
       "    </tr>\n",
       "    <tr>\n",
       "      <th>29716</th>\n",
       "      <td>40577098665954426</td>\n",
       "      <td>0.00041</td>\n",
       "      <td>2.36452</td>\n",
       "      <td>19.521999</td>\n",
       "      <td>SDSS-DR12-1237657190905151646</td>\n",
       "      <td>359.86318</td>\n",
       "      <td>-0.034698</td>\n",
       "      <td>True</td>\n",
       "      <td>359.863179</td>\n",
       "      <td>-0.034682</td>\n",
       "      <td>...</td>\n",
       "      <td>19.731751</td>\n",
       "      <td>19.663788</td>\n",
       "      <td>19.516369</td>\n",
       "      <td>19.379337</td>\n",
       "      <td>19.156746</td>\n",
       "      <td>0.001394</td>\n",
       "      <td>0.000947</td>\n",
       "      <td>0.001016</td>\n",
       "      <td>0.001194</td>\n",
       "      <td>0.00193</td>\n",
       "    </tr>\n",
       "    <tr>\n",
       "      <th>29717</th>\n",
       "      <td>69625487202217794</td>\n",
       "      <td>0.00046</td>\n",
       "      <td>2.35029</td>\n",
       "      <td>20.552999</td>\n",
       "      <td>SDSS-DR12-1237659327101862449</td>\n",
       "      <td>245.58134</td>\n",
       "      <td>42.231459</td>\n",
       "      <td>True</td>\n",
       "      <td>245.581343</td>\n",
       "      <td>42.231462</td>\n",
       "      <td>...</td>\n",
       "      <td>20.713573</td>\n",
       "      <td>20.758837</td>\n",
       "      <td>20.787865</td>\n",
       "      <td>20.651333</td>\n",
       "      <td>20.534716</td>\n",
       "      <td>0.002559</td>\n",
       "      <td>0.00226</td>\n",
       "      <td>0.00185</td>\n",
       "      <td>0.005426</td>\n",
       "      <td>0.006962</td>\n",
       "    </tr>\n",
       "    <tr>\n",
       "      <th>29718</th>\n",
       "      <td>42182106469656752</td>\n",
       "      <td>0.00045</td>\n",
       "      <td>2.15169</td>\n",
       "      <td>21.348</td>\n",
       "      <td>SDSS-DR12-1237648722841764169</td>\n",
       "      <td>180.90524</td>\n",
       "      <td>1.253403</td>\n",
       "      <td>True</td>\n",
       "      <td>180.90521</td>\n",
       "      <td>1.253422</td>\n",
       "      <td>...</td>\n",
       "      <td>22.062429</td>\n",
       "      <td>22.171951</td>\n",
       "      <td>22.043205</td>\n",
       "      <td>21.726603</td>\n",
       "      <td>21.909</td>\n",
       "      <td>0.003892</td>\n",
       "      <td>0.00484</td>\n",
       "      <td>0.004932</td>\n",
       "      <td>0.00725</td>\n",
       "      <td>0.021934</td>\n",
       "    </tr>\n",
       "    <tr>\n",
       "      <th>29719</th>\n",
       "      <td>42657224341853915</td>\n",
       "      <td>0.00029</td>\n",
       "      <td>2.25902</td>\n",
       "      <td>20.244</td>\n",
       "      <td>SDSS-DR12-1237663480335827278</td>\n",
       "      <td>340.8095</td>\n",
       "      <td>0.924509</td>\n",
       "      <td>True</td>\n",
       "      <td>340.80951</td>\n",
       "      <td>0.924515</td>\n",
       "      <td>...</td>\n",
       "      <td>20.164516</td>\n",
       "      <td>20.100044</td>\n",
       "      <td>20.00304</td>\n",
       "      <td>19.7171</td>\n",
       "      <td>19.865517</td>\n",
       "      <td>0.001432</td>\n",
       "      <td>0.001214</td>\n",
       "      <td>0.00088</td>\n",
       "      <td>0.001432</td>\n",
       "      <td>0.00327</td>\n",
       "    </tr>\n",
       "  </tbody>\n",
       "</table>\n",
       "<p>29720 rows × 22 columns</p>\n",
       "</div>"
      ],
      "text/plain": [
       "               object_id specz_redshift_err specz_redshift specz_mag_i  \\\n",
       "0      41223452589320133            0.00065        0.29622      18.816   \n",
       "1      40994754170744145            0.00053        0.06886      18.431   \n",
       "2      43096625266058992            0.00061        0.21029   17.947001   \n",
       "3      69555543659774458            0.00003        0.11115       16.51   \n",
       "4      41219200571709924            0.00065         0.3018   18.740999   \n",
       "...                  ...                ...            ...         ...   \n",
       "29715  41592768237143965            0.00048         2.2981   20.313999   \n",
       "29716  40577098665954426            0.00041        2.36452   19.521999   \n",
       "29717  69625487202217794            0.00046        2.35029   20.552999   \n",
       "29718  42182106469656752            0.00045        2.15169      21.348   \n",
       "29719  42657224341853915            0.00029        2.25902      20.244   \n",
       "\n",
       "                          specz_name   specz_ra  specz_dec  \\\n",
       "0                    GAMA-DR2-544975  217.77646   -0.96679   \n",
       "1                    GAMA-DR2-527985  140.66246   -0.84889   \n",
       "2                    GAMA-DR2-521609  129.98546    2.82199   \n",
       "3      SDSS-DR12-1237661852552003718  213.07879  42.692332   \n",
       "4                    GAMA-DR2-568719  216.13675   -0.48383   \n",
       "...                              ...        ...        ...   \n",
       "29715  SDSS-DR12-1237663478725935358  342.46859  -0.247912   \n",
       "29716  SDSS-DR12-1237657190905151646  359.86318  -0.034698   \n",
       "29717  SDSS-DR12-1237659327101862449  245.58134  42.231459   \n",
       "29718  SDSS-DR12-1237648722841764169  180.90524   1.253403   \n",
       "29719  SDSS-DR12-1237663480335827278   340.8095   0.924509   \n",
       "\n",
       "      specz_flag_homogeneous          ra        dec  ... g_cmodel_mag  \\\n",
       "0                       True  217.776473  -0.966794  ...     21.37532   \n",
       "1                       True  140.662474  -0.848878  ...    19.091679   \n",
       "2                       True  129.985437   2.822002  ...    19.465019   \n",
       "3                       True  213.078837  42.692345  ...    18.069195   \n",
       "4                       True  216.136758  -0.483808  ...    20.220421   \n",
       "...                      ...         ...        ...  ...          ...   \n",
       "29715                   True  342.468598  -0.247917  ...    21.429459   \n",
       "29716                   True  359.863179  -0.034682  ...    19.731751   \n",
       "29717                   True  245.581343  42.231462  ...    20.713573   \n",
       "29718                   True   180.90521   1.253422  ...    22.062429   \n",
       "29719                   True   340.80951   0.924515  ...    20.164516   \n",
       "\n",
       "      r_cmodel_mag i_cmodel_mag z_cmodel_mag y_cmodel_mag g_cmodel_magsigma  \\\n",
       "0        19.853359    19.213608    18.897217    18.622095          0.003129   \n",
       "1        18.735397    18.389282    18.279377    18.123701          0.000834   \n",
       "2        18.328716    17.821526    17.497536    17.327042          0.001347   \n",
       "3        17.115177    16.622797    16.331631    16.182812          0.000925   \n",
       "4        19.162338    18.594019      18.2799    18.103745           0.00164   \n",
       "...            ...          ...          ...          ...               ...   \n",
       "29715    21.259968     20.93734    20.595745    20.644394            0.0027   \n",
       "29716    19.663788    19.516369    19.379337    19.156746          0.001394   \n",
       "29717    20.758837    20.787865    20.651333    20.534716          0.002559   \n",
       "29718    22.171951    22.043205    21.726603       21.909          0.003892   \n",
       "29719    20.100044     20.00304      19.7171    19.865517          0.001432   \n",
       "\n",
       "      r_cmodel_magsigma i_cmodel_magsigma z_cmodel_magsigma y_cmodel_magsigma  \n",
       "0              0.001747           0.00077          0.001153          0.001653  \n",
       "1              0.000727          0.000475          0.000956          0.001135  \n",
       "2              0.001921          0.000505           0.00073          0.001012  \n",
       "3              0.000434          0.000575          0.000396          0.001116  \n",
       "4              0.000968          0.000578           0.00075          0.001207  \n",
       "...                 ...               ...               ...               ...  \n",
       "29715          0.002655          0.001774          0.002413          0.004993  \n",
       "29716          0.000947          0.001016          0.001194           0.00193  \n",
       "29717           0.00226           0.00185          0.005426          0.006962  \n",
       "29718           0.00484          0.004932           0.00725          0.021934  \n",
       "29719          0.001214           0.00088          0.001432           0.00327  \n",
       "\n",
       "[29720 rows x 22 columns]"
      ]
     },
     "execution_count": 20,
     "metadata": {},
     "output_type": "execute_result"
    }
   ],
   "source": [
    "df # TOTAL TRANING SIZE FOR UNDERSAMPLED"
   ]
  },
  {
   "cell_type": "code",
   "execution_count": null,
   "id": "fe63518f",
   "metadata": {},
   "outputs": [],
   "source": []
  }
 ],
 "metadata": {
  "kernelspec": {
   "display_name": "Python 3",
   "language": "python",
   "name": "python3"
  },
  "language_info": {
   "codemirror_mode": {
    "name": "ipython",
    "version": 3
   },
   "file_extension": ".py",
   "mimetype": "text/x-python",
   "name": "python",
   "nbconvert_exporter": "python",
   "pygments_lexer": "ipython3",
   "version": "3.8.10"
  }
 },
 "nbformat": 4,
 "nbformat_minor": 5
}
