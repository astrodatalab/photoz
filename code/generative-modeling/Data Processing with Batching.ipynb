{
 "cells": [
  {
   "cell_type": "markdown",
   "id": "5e422952",
   "metadata": {},
   "source": [
    "# Data Processing with Batching\n",
    "\n",
    "2022-07-13\n",
    "\n",
    "Zooey Nguyen\n",
    "\n",
    "IMPORTANT: We have to manually create a separate HDF5 file for validation and testing, the datagen doesn't do the split itself."
   ]
  },
  {
   "cell_type": "code",
   "execution_count": 1,
   "id": "d23f862b",
   "metadata": {},
   "outputs": [],
   "source": [
    "import h5py\n",
    "import numpy as np\n",
    "import tensorflow as tf\n",
    "from DataMaker import *\n",
    "\n",
    "IMAGE_SHAPE = (120,120,5)\n",
    "BATCH_SIZE = 128\n",
    "DATA_PATH = \"/data/HSC/HSC_v9/five_band_image120x120.hdf5\""
   ]
  },
  {
   "cell_type": "code",
   "execution_count": 2,
   "id": "5796575d",
   "metadata": {},
   "outputs": [
    {
     "name": "stdout",
     "output_type": "stream",
     "text": [
      "['image', 'specz']\n",
      "[0.06925]\n",
      "(1,)\n",
      "(5, 120, 120)\n"
     ]
    }
   ],
   "source": [
    "hf = h5py.File(DATA_PATH)\n",
    "print(list(hf.keys()))\n",
    "print(hf['specz'][0])\n",
    "print(hf['specz'][0].shape)\n",
    "print(hf['image'][0].shape)"
   ]
  },
  {
   "cell_type": "code",
   "execution_count": 3,
   "id": "d0b558e0",
   "metadata": {},
   "outputs": [
    {
     "data": {
      "text/plain": [
       "157272"
      ]
     },
     "execution_count": 3,
     "metadata": {},
     "output_type": "execute_result"
    }
   ],
   "source": [
    "dataset_size = hf['specz'].shape[0]\n",
    "train_size = int(dataset_size * 0.7)\n",
    "val_size = dataset_size - train_size\n",
    "train_size"
   ]
  },
  {
   "cell_type": "code",
   "execution_count": 4,
   "id": "61151c2b",
   "metadata": {},
   "outputs": [],
   "source": [
    "train_gen = HDF5ImageGenerator(\n",
    "    src=DATA_PATH,\n",
    "    X_key='image',\n",
    "    y_key='specz',\n",
    "    scaler=False,\n",
    "    labels_encoding=False,\n",
    "    batch_size=32,\n",
    "    mode='train'\n",
    ")"
   ]
  },
  {
   "cell_type": "markdown",
   "id": "d6b5762d",
   "metadata": {},
   "source": [
    "## example item from the generator"
   ]
  },
  {
   "cell_type": "code",
   "execution_count": 5,
   "id": "32031c04",
   "metadata": {},
   "outputs": [
    {
     "name": "stdout",
     "output_type": "stream",
     "text": [
      "(32, 5, 120, 120)\n",
      "(32, 1)\n"
     ]
    },
    {
     "data": {
      "text/plain": [
       "<matplotlib.image.AxesImage at 0x7f20b2ad4d60>"
      ]
     },
     "execution_count": 5,
     "metadata": {},
     "output_type": "execute_result"
    },
    {
     "data": {
      "image/png": "[encoded data removed]",
      "text/plain": [
       "<Figure size 432x288 with 1 Axes>"
      ]
     },
     "metadata": {
      "needs_background": "light"
     },
     "output_type": "display_data"
    }
   ],
   "source": [
    "import matplotlib.pyplot as plt\n",
    "\n",
    "print(train_gen.__getitem__(0)[0].shape)\n",
    "print(train_gen.__getitem__(0)[1].shape)\n",
    "plt.imshow(train_gen.__getitem__(0)[0][0][0])"
   ]
  },
  {
   "cell_type": "markdown",
   "id": "7c6800e2",
   "metadata": {},
   "source": [
    "## you can use the generator for training now here's a little dummy dum model that doesnt do anything"
   ]
  },
  {
   "cell_type": "code",
   "execution_count": 6,
   "id": "3a44e7a5",
   "metadata": {},
   "outputs": [
    {
     "name": "stdout",
     "output_type": "stream",
     "text": [
      "1 Physical GPUs, 1 Logical GPUs\n"
     ]
    }
   ],
   "source": [
    "gpus = tf.config.list_physical_devices('GPU')\n",
    "\n",
    "if gpus:\n",
    "  # Restrict TensorFlow to only allocate 10GB of memory on the first GPU\n",
    "  try:\n",
    "    tf.config.experimental.set_virtual_device_configuration(\n",
    "        gpus[0],\n",
    "        [tf.config.experimental.VirtualDeviceConfiguration(memory_limit=10000)])\n",
    "    logical_gpus = tf.config.experimental.list_logical_devices('GPU')\n",
    "    print(len(gpus), \"Physical GPUs,\", len(logical_gpus), \"Logical GPUs\")\n",
    "  except RuntimeError as e:\n",
    "    # Virtual devices must be set before GPUs have been initialized\n",
    "    print(e)"
   ]
  },
  {
   "cell_type": "code",
   "execution_count": 7,
   "id": "da123a76",
   "metadata": {},
   "outputs": [],
   "source": [
    "model = tf.keras.Sequential()\n",
    "model.add(tf.keras.layers.Flatten())\n",
    "model.add(tf.keras.layers.Dense(1))\n",
    "model.compile(optimizer='adam', loss='mse')"
   ]
  },
  {
   "cell_type": "code",
   "execution_count": 8,
   "id": "c65f61a3",
   "metadata": {},
   "outputs": [
    {
     "name": "stdout",
     "output_type": "stream",
     "text": [
      "7022/7022 [==============================] - 315s 45ms/step - loss: 140.6250\n"
     ]
    },
    {
     "data": {
      "text/plain": [
       "<tensorflow.python.keras.callbacks.History at 0x7f1fdc163940>"
      ]
     },
     "execution_count": 8,
     "metadata": {},
     "output_type": "execute_result"
    }
   ],
   "source": [
    "model.fit(train_gen)"
   ]
  },
  {
   "cell_type": "code",
   "execution_count": 24,
   "id": "bc48ec82",
   "metadata": {},
   "outputs": [
    {
     "data": {
      "text/plain": [
       "(-1.0, 3.0)"
      ]
     },
     "execution_count": 24,
     "metadata": {},
     "output_type": "execute_result"
    },
    {
     "data": {
      "image/png": "[encoded data removed]",
      "text/plain": [
       "<Figure size 432x288 with 1 Axes>"
      ]
     },
     "metadata": {
      "needs_background": "light"
     },
     "output_type": "display_data"
    }
   ],
   "source": [
    "from sklearn.metrics import mean_squared_error as mse\n",
    "# actually there are points wayyyy outside this but idc this is a dummy example\n",
    "# we can obscure a little fake results. as a treat\n",
    "preds = model.predict(train_gen.__getitem__(0)[0])\n",
    "y = train_gen.__getitem__(0)[1]\n",
    "mse(preds, y)\n",
    "plt.scatter(preds, y)\n",
    "plt.plot([-3, 4], [-3, 4], ls=\"--\")\n",
    "plt.xlim([-1,3])\n",
    "plt.ylim([-1,3])"
   ]
  },
  {
   "cell_type": "code",
   "execution_count": null,
   "id": "3beae6cb",
   "metadata": {},
   "outputs": [],
   "source": []
  }
 ],
 "metadata": {
  "kernelspec": {
   "display_name": "Python 3",
   "language": "python",
   "name": "python3"
  },
  "language_info": {
   "codemirror_mode": {
    "name": "ipython",
    "version": 3
   },
   "file_extension": ".py",
   "mimetype": "text/x-python",
   "name": "python",
   "nbconvert_exporter": "python",
   "pygments_lexer": "ipython3",
   "version": "3.8.10"
  }
 },
 "nbformat": 4,
 "nbformat_minor": 5
}
