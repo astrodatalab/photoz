{
 "cells": [
  {
   "cell_type": "markdown",
   "id": "c5928d00",
   "metadata": {},
   "source": [
    "# MNIST with Tensorboard\n",
    "\n",
    "Last update: 2022-07-21, Tuan Do\n",
    "\n",
    "Example of ML experiment with MNIST with tensorboard. We will assume that tensorboard is already running in the background or will be run after this notebook. See other instructions for how to create a local instance of tensorboard or upload to tensorboard dev.\n",
    "\n",
    "How to save checkpoints: https://keras.io/api/callbacks/model_checkpoint/\n"
   ]
  },
  {
   "cell_type": "code",
   "execution_count": 4,
   "id": "63594b96",
   "metadata": {},
   "outputs": [
    {
     "name": "stdout",
     "output_type": "stream",
     "text": [
      "2.5.0\n",
      "['/home/tdo/miniconda3/envs/jupyterhub3/lib/python3.8/site-packages/tensorboard']\n"
     ]
    }
   ],
   "source": [
    "import tensorflow as tf\n",
    "import datetime\n",
    "import tensorboard\n",
    "import os\n",
    "print(tensorboard.__version__)\n",
    "print(tensorboard.__path__)"
   ]
  },
  {
   "cell_type": "code",
   "execution_count": 2,
   "id": "6e64aee3",
   "metadata": {},
   "outputs": [],
   "source": [
    "mnist = tf.keras.datasets.mnist\n",
    "\n",
    "(x_train, y_train),(x_test, y_test) = mnist.load_data()\n",
    "x_train, x_test = x_train / 255.0, x_test / 255.0\n",
    "\n",
    "def create_model():\n",
    "  return tf.keras.models.Sequential([\n",
    "    tf.keras.layers.Flatten(input_shape=(28, 28)),\n",
    "    tf.keras.layers.Dense(512, activation='relu'),\n",
    "    tf.keras.layers.Dropout(0.2),\n",
    "    tf.keras.layers.Dense(10, activation='softmax')\n",
    "  ])\n",
    "\n",
    "\n"
   ]
  },
  {
   "cell_type": "code",
   "execution_count": 11,
   "id": "36bfa190",
   "metadata": {},
   "outputs": [],
   "source": [
    "model_name = 'mnist_cnn_v1'\n",
    "model = create_model()\n",
    "model.compile(optimizer='adam',\n",
    "              loss='sparse_categorical_crossentropy',\n",
    "              metrics=['accuracy'])\n",
    "\n",
    "# check points\n",
    "checkpoint_filepath = os.path.join(\"/models/\",model_name)+\"/\"+model_name\n",
    "\n",
    "model_checkpoint_callback = tf.keras.callbacks.ModelCheckpoint(\n",
    "    filepath=checkpoint_filepath,\n",
    "    save_weights_only=True,\n",
    "    monitor='val_accuracy',\n",
    "    mode='max',\n",
    "    save_freq='epoch',\n",
    "    save_best_only=True)\n",
    "\n",
    "# location where we will save our logs. This should also be the location that tensorboard watches. \n",
    "# In this case to not overwrite the logs, we will name our experiment after the date and time it was started\n",
    "log_dir = os.path.join(\"/logs/\",model_name)\n",
    "epochs = 10\n",
    "\n",
    "# use this to log into tensorboard and look at performance in real time\n",
    "tensorboard_callback = tf.keras.callbacks.TensorBoard(log_dir=log_dir, histogram_freq=1)\n",
    "\n"
   ]
  },
  {
   "cell_type": "code",
   "execution_count": 12,
   "id": "b20cd2db",
   "metadata": {},
   "outputs": [
    {
     "name": "stdout",
     "output_type": "stream",
     "text": [
      "Epoch 1/10\n",
      "1875/1875 [==============================] - 3s 1ms/step - loss: 0.2189 - accuracy: 0.9359 - val_loss: 0.0993 - val_accuracy: 0.9695\n",
      "Epoch 2/10\n",
      "1875/1875 [==============================] - 2s 1ms/step - loss: 0.0976 - accuracy: 0.9699 - val_loss: 0.0879 - val_accuracy: 0.9727\n",
      "Epoch 3/10\n",
      "1875/1875 [==============================] - 2s 1ms/step - loss: 0.0694 - accuracy: 0.9780 - val_loss: 0.0967 - val_accuracy: 0.9696\n",
      "Epoch 4/10\n",
      "1875/1875 [==============================] - 2s 1ms/step - loss: 0.0531 - accuracy: 0.9832 - val_loss: 0.0707 - val_accuracy: 0.9789\n",
      "Epoch 5/10\n",
      "1875/1875 [==============================] - 2s 1ms/step - loss: 0.0447 - accuracy: 0.9856 - val_loss: 0.0645 - val_accuracy: 0.9804\n",
      "Epoch 6/10\n",
      "1875/1875 [==============================] - 2s 1ms/step - loss: 0.0375 - accuracy: 0.9877 - val_loss: 0.0688 - val_accuracy: 0.9814\n",
      "Epoch 7/10\n",
      "1875/1875 [==============================] - 2s 1ms/step - loss: 0.0310 - accuracy: 0.9892 - val_loss: 0.0854 - val_accuracy: 0.9761\n",
      "Epoch 8/10\n",
      "1875/1875 [==============================] - 2s 1ms/step - loss: 0.0276 - accuracy: 0.9906 - val_loss: 0.0792 - val_accuracy: 0.9793\n",
      "Epoch 9/10\n",
      "1875/1875 [==============================] - 2s 1ms/step - loss: 0.0236 - accuracy: 0.9921 - val_loss: 0.0807 - val_accuracy: 0.9797\n",
      "Epoch 10/10\n",
      "1875/1875 [==============================] - 2s 1ms/step - loss: 0.0210 - accuracy: 0.9926 - val_loss: 0.0767 - val_accuracy: 0.9824\n",
      "INFO:tensorflow:Assets written to: /models/mnist_cnn_v1/mnist_cnn_v1/assets\n"
     ]
    }
   ],
   "source": [
    "model.fit(x=x_train, \n",
    "          y=y_train, \n",
    "          epochs=epochs, \n",
    "          validation_data=(x_test, y_test), \n",
    "          callbacks=[tensorboard_callback,model_checkpoint_callback])\n",
    "\n",
    "# save the model after fitting\n",
    "model.save(checkpoint_filepath)"
   ]
  },
  {
   "cell_type": "code",
   "execution_count": null,
   "id": "3aac4023",
   "metadata": {},
   "outputs": [],
   "source": []
  },
  {
   "cell_type": "code",
   "execution_count": 10,
   "id": "9d426fb9",
   "metadata": {},
   "outputs": [
    {
     "name": "stdout",
     "output_type": "stream",
     "text": [
      "train  validation\r\n"
     ]
    }
   ],
   "source": [
    "# list what is in the log files\n",
    "!ls $log_dir"
   ]
  },
  {
   "cell_type": "code",
   "execution_count": null,
   "id": "52513dd0",
   "metadata": {},
   "outputs": [],
   "source": []
  }
 ],
 "metadata": {
  "kernelspec": {
   "display_name": "Python [conda env:miniconda3-jupyterhub3]",
   "language": "python",
   "name": "conda-env-miniconda3-jupyterhub3-py"
  },
  "language_info": {
   "codemirror_mode": {
    "name": "ipython",
    "version": 3
   },
   "file_extension": ".py",
   "mimetype": "text/x-python",
   "name": "python",
   "nbconvert_exporter": "python",
   "pygments_lexer": "ipython3",
   "version": "3.8.10"
  }
 },
 "nbformat": 4,
 "nbformat_minor": 5
}
