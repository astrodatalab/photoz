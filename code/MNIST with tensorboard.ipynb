{
 "cells": [
  {
   "cell_type": "markdown",
   "id": "c5928d00",
   "metadata": {},
   "source": [
    "# MNIST with Tensorboard\n",
    "\n",
    "Last update: 2022-07-20, Tuan Do\n",
    "\n",
    "Example of ML experiment with MNIST with tensorboard. We will assume that tensorboard is already running in the background or will be run after this notebook. See other instructions for how to create a local instance of tensorboard or upload to tensorboard dev."
   ]
  },
  {
   "cell_type": "code",
   "execution_count": 7,
   "id": "63594b96",
   "metadata": {},
   "outputs": [
    {
     "name": "stdout",
     "output_type": "stream",
     "text": [
      "2.5.0\n",
      "['/home/tdo/miniconda3/envs/jupyterhub3/lib/python3.8/site-packages/tensorboard']\n"
     ]
    }
   ],
   "source": [
    "import tensorflow as tf\n",
    "import datetime\n",
    "import tensorboard\n",
    "print(tensorboard.__version__)\n",
    "print(tensorboard.__path__)"
   ]
  },
  {
   "cell_type": "code",
   "execution_count": 8,
   "id": "6e64aee3",
   "metadata": {},
   "outputs": [],
   "source": [
    "mnist = tf.keras.datasets.mnist\n",
    "\n",
    "(x_train, y_train),(x_test, y_test) = mnist.load_data()\n",
    "x_train, x_test = x_train / 255.0, x_test / 255.0\n",
    "\n",
    "def create_model():\n",
    "  return tf.keras.models.Sequential([\n",
    "    tf.keras.layers.Flatten(input_shape=(28, 28)),\n",
    "    tf.keras.layers.Dense(512, activation='relu'),\n",
    "    tf.keras.layers.Dropout(0.2),\n",
    "    tf.keras.layers.Dense(10, activation='softmax')\n",
    "  ])"
   ]
  },
  {
   "cell_type": "code",
   "execution_count": 9,
   "id": "36bfa190",
   "metadata": {},
   "outputs": [
    {
     "name": "stdout",
     "output_type": "stream",
     "text": [
      "Epoch 1/10\n",
      "1875/1875 [==============================] - 5s 3ms/step - loss: 0.2186 - accuracy: 0.9356 - val_loss: 0.1111 - val_accuracy: 0.9651\n",
      "Epoch 2/10\n",
      "1875/1875 [==============================] - 5s 3ms/step - loss: 0.0969 - accuracy: 0.9712 - val_loss: 0.0803 - val_accuracy: 0.9746\n",
      "Epoch 3/10\n",
      "1875/1875 [==============================] - 5s 3ms/step - loss: 0.0686 - accuracy: 0.9781 - val_loss: 0.0768 - val_accuracy: 0.9779\n",
      "Epoch 4/10\n",
      "1875/1875 [==============================] - 4s 2ms/step - loss: 0.0526 - accuracy: 0.9831 - val_loss: 0.0715 - val_accuracy: 0.9764\n",
      "Epoch 5/10\n",
      "1875/1875 [==============================] - 5s 2ms/step - loss: 0.0427 - accuracy: 0.9859 - val_loss: 0.0678 - val_accuracy: 0.9801\n",
      "Epoch 6/10\n",
      "1875/1875 [==============================] - 4s 2ms/step - loss: 0.0362 - accuracy: 0.9878 - val_loss: 0.0702 - val_accuracy: 0.9808\n",
      "Epoch 7/10\n",
      "1875/1875 [==============================] - 4s 2ms/step - loss: 0.0312 - accuracy: 0.9899 - val_loss: 0.0717 - val_accuracy: 0.9797\n",
      "Epoch 8/10\n",
      "1875/1875 [==============================] - 4s 2ms/step - loss: 0.0252 - accuracy: 0.9916 - val_loss: 0.0639 - val_accuracy: 0.9836\n",
      "Epoch 9/10\n",
      "1875/1875 [==============================] - 4s 2ms/step - loss: 0.0258 - accuracy: 0.9912 - val_loss: 0.0712 - val_accuracy: 0.9815\n",
      "Epoch 10/10\n",
      "1875/1875 [==============================] - 5s 3ms/step - loss: 0.0223 - accuracy: 0.9927 - val_loss: 0.0668 - val_accuracy: 0.9818\n"
     ]
    },
    {
     "data": {
      "text/plain": [
       "<tensorflow.python.keras.callbacks.History at 0x7fa60465a460>"
      ]
     },
     "execution_count": 9,
     "metadata": {},
     "output_type": "execute_result"
    }
   ],
   "source": [
    "model = create_model()\n",
    "model.compile(optimizer='adam',\n",
    "              loss='sparse_categorical_crossentropy',\n",
    "              metrics=['accuracy'])\n",
    "\n",
    "# location where we will save our logs. This should also be the location that tensorboard watches. \n",
    "# In this case to not overwrite the logs, we will name our experiment after the date and time it was started\n",
    "log_dir = \"/logs/mnist_cnn_v1/\"\n",
    "epochs = 10\n",
    "\n",
    "# use this to log into tensorboard and look at performance in real time\n",
    "tensorboard_callback = tf.keras.callbacks.TensorBoard(log_dir=log_dir, histogram_freq=1)\n",
    "\n",
    "model.fit(x=x_train, \n",
    "          y=y_train, \n",
    "          epochs=epochs, \n",
    "          validation_data=(x_test, y_test), \n",
    "          callbacks=[tensorboard_callback])"
   ]
  },
  {
   "cell_type": "code",
   "execution_count": 10,
   "id": "9d426fb9",
   "metadata": {},
   "outputs": [
    {
     "name": "stdout",
     "output_type": "stream",
     "text": [
      "train  validation\r\n"
     ]
    }
   ],
   "source": [
    "# list what is in the log files\n",
    "!ls $log_dir"
   ]
  },
  {
   "cell_type": "code",
   "execution_count": null,
   "id": "52513dd0",
   "metadata": {},
   "outputs": [],
   "source": []
  }
 ],
 "metadata": {
  "kernelspec": {
   "display_name": "Python [conda env:miniconda3-jupyterhub3]",
   "language": "python",
   "name": "conda-env-miniconda3-jupyterhub3-py"
  },
  "language_info": {
   "codemirror_mode": {
    "name": "ipython",
    "version": 3
   },
   "file_extension": ".py",
   "mimetype": "text/x-python",
   "name": "python",
   "nbconvert_exporter": "python",
   "pygments_lexer": "ipython3",
   "version": "3.8.10"
  }
 },
 "nbformat": 4,
 "nbformat_minor": 5
}
