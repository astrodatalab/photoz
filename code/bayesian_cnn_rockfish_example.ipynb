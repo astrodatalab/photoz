{
 "cells": [
  {
   "cell_type": "markdown",
   "id": "55dfc1a1-ea2a-41a6-b551-4327c88a0907",
   "metadata": {},
   "source": [
    "This is an example of running code on Rockfish. You need to do the setup first, which I have a tutorial written in \"Getting started with the lab\". - Billy"
   ]
  },
  {
   "cell_type": "code",
   "execution_count": 1,
   "id": "1091fe3f",
   "metadata": {},
   "outputs": [],
   "source": [
    "import sys, os\n",
    "import numpy as np\n",
    "import h5py\n",
    "import matplotlib.pyplot as plt\n",
    "import tensorflow as tf\n",
    "import tensorflow_probability as tfp\n",
    "\n",
    "from tensorflow import keras\n",
    "from tensorflow_probability import layers as tfpl\n",
    "from tensorflow_probability import distributions as tfd\n",
    "from tensorflow.keras import Sequential\n",
    "from tensorflow.keras.callbacks import TensorBoard, ModelCheckpoint, ReduceLROnPlateau\n",
    "from tensorflow.keras.layers import InputLayer, MaxPooling2D, Conv2D, Flatten, Dropout, Dense, BatchNormalization, Activation\n",
    "from tensorflow.keras.optimizers import Adam\n",
    "from tensorflow_probability.python.distributions import kl_divergence"
   ]
  },
  {
   "cell_type": "code",
   "execution_count": 2,
   "id": "5eabda23-62aa-4403-a4b7-74a6e75a827f",
   "metadata": {},
   "outputs": [
    {
     "name": "stdout",
     "output_type": "stream",
     "text": [
      "2 Physical GPUs, 2 Logical GPUs\n"
     ]
    }
   ],
   "source": [
    "gpus = tf.config.list_physical_devices('GPU')\n",
    "\n",
    "if gpus:\n",
    "  # Restrict TensorFlow to only allocate 10GB of memory on the first GPU\n",
    "  try:\n",
    "    tf.config.experimental.set_virtual_device_configuration(\n",
    "        gpus[0],\n",
    "        [tf.config.experimental.VirtualDeviceConfiguration(memory_limit = 30000)])\n",
    "    logical_gpus = tf.config.experimental.list_logical_devices('GPU')\n",
    "    print(len(gpus), \"Physical GPUs,\", len(logical_gpus), \"Logical GPUs\")\n",
    "  except RuntimeError as e:\n",
    "    # Virtual devices must be set before GPUs have been initialized\n",
    "    print(e)"
   ]
  },
  {
   "cell_type": "code",
   "execution_count": 2,
   "id": "f0049f02-ab3c-4f32-8e1b-3786d2d1c5c8",
   "metadata": {},
   "outputs": [
    {
     "name": "stdout",
     "output_type": "stream",
     "text": [
      "2.9.1\n"
     ]
    }
   ],
   "source": [
    "print(tf.__version__)"
   ]
  },
  {
   "cell_type": "code",
   "execution_count": 3,
   "id": "3da0b6bc",
   "metadata": {},
   "outputs": [],
   "source": [
    "n = 10000\n",
    "t = 2000\n",
    "v = 2000"
   ]
  },
  {
   "cell_type": "code",
   "execution_count": 4,
   "id": "fa248053",
   "metadata": {},
   "outputs": [],
   "source": [
    "hf_train = h5py.File('/data/tuando/data/HSC/HSC_v6/step3A/64x64/64x64_training_z_less_than_2_small.hdf5', 'r')\n",
    "hf_test = h5py.File('/data/tuando/data/HSC/HSC_v6/step3A/64x64/64x64_testing_z_less_than_2_small.hdf5', 'r')\n",
    "hf_validation = h5py.File('/data/tuando/data/HSC/HSC_v6/step3A/64x64/64x64_validation_z_less_than_2_small.hdf5', 'r')\n",
    "x_train = np.asarray(np.transpose(hf_train['image'][0 : ],(0, 2, 3, 1)))\n",
    "x_test = np.asarray(np.transpose(hf_test['image'][0 : ],(0, 2, 3, 1)))\n",
    "x_validation = np.asarray(np.transpose(hf_validation['image'][0 : ], (0, 2, 3, 1)))\n",
    "n = 10000\n",
    "t = 2000\n",
    "v = 2000\n",
    "max_value = 4.16\n",
    "x_train = np.true_divide(x_train, max_value)\n",
    "x_test = np.true_divide(x_test, max_value)\n",
    "x_validation = np.true_divide(x_validation, max_value)\n",
    "y_train = np.asarray(hf_train['specz_redshift'][0 : ])[..., None]\n",
    "y_test = np.asarray(hf_test['specz_redshift'][0 : ])[..., None]\n",
    "y_validation = np.asarray(hf_validation['specz_redshift'][0 : ])[..., None]\n",
    "hf_train.close()\n",
    "hf_test.close()\n",
    "hf_validation.close()"
   ]
  },
  {
   "cell_type": "code",
   "execution_count": 5,
   "id": "0f187c79",
   "metadata": {},
   "outputs": [],
   "source": [
    "def posterior_mean_field(kernel_size: int, bias_size: int, dtype: any) -> tf.keras.Model:\n",
    "    \"\"\"Specify the surrogate posterior over `keras.layers.Dense` `kernel` and `bias`.\"\"\"\n",
    "    n = kernel_size + bias_size\n",
    "    c = np.log(np.expm1(1.))\n",
    "\n",
    "    return tf.keras.Sequential([\n",
    "        tfp.layers.VariableLayer(2 * n, dtype = dtype, initializer = lambda shape, dtype: random_gaussian_initializer(shape, dtype), trainable = True),\n",
    "        tfp.layers.DistributionLambda(lambda t: tfd.Independent(\n",
    "            tfd.Normal(loc = t[ ..., : n],\n",
    "                       scale = tf.nn.softplus(c + t[..., n:])),\n",
    "            reinterpreted_batch_ndims = 1)),\n",
    "    ])\n",
    "\n",
    "def prior_trainable(kernel_size: int, bias_size: int, dtype: any) -> tf.keras.Model:\n",
    "    \"\"\"Specify the prior over `keras.layers.Dense` `kernel` and `bias`.\"\"\"\n",
    "    n = kernel_size + bias_size\n",
    "\n",
    "    return tf.keras.Sequential([\n",
    "        tfp.layers.VariableLayer(n, dtype = dtype),  # Returns a trainable variable of shape n, regardless of input\n",
    "        tfp.layers.DistributionLambda(lambda t: tfd.Independent(\n",
    "            tfd.Normal(loc = t, scale = 0.01),\n",
    "            reinterpreted_batch_ndims = 1)),\n",
    "    ])\n",
    "\n",
    "def random_gaussian_initializer(shape, dtype):\n",
    "    n = int(shape / 2)\n",
    "    loc_norm = tf.random_normal_initializer(mean = 0., stddev = 0.03)\n",
    "    loc = tf.Variable(\n",
    "        initial_value = loc_norm(shape = (n, ), dtype = dtype)\n",
    "    )\n",
    "    scale_norm = tf.random_normal_initializer(mean = -3., stddev = 0.1)\n",
    "    scale = tf.Variable(\n",
    "        initial_value = scale_norm(shape = (n, ), dtype = dtype)\n",
    "    )\n",
    "    return tf.concat([loc, scale], 0)\n",
    "\n",
    "kl_divergence_function = lambda q, p, _: kl_divergence(q, p) / n"
   ]
  },
  {
   "cell_type": "code",
   "execution_count": 6,
   "id": "2beada9e",
   "metadata": {},
   "outputs": [
    {
     "name": "stderr",
     "output_type": "stream",
     "text": [
      "/home/yli21/.conda/envs/photoz/lib/python3.10/site-packages/tensorflow_probability/python/layers/util.py:95: UserWarning: `layer.add_variable` is deprecated and will be removed in a future version. Please use the `layer.add_weight()` method instead.\n",
      "  loc = add_variable_fn(\n",
      "/home/yli21/.conda/envs/photoz/lib/python3.10/site-packages/tensorflow_probability/python/layers/util.py:105: UserWarning: `layer.add_variable` is deprecated and will be removed in a future version. Please use the `layer.add_weight()` method instead.\n",
      "  untransformed_scale = add_variable_fn(\n"
     ]
    },
    {
     "name": "stdout",
     "output_type": "stream",
     "text": [
      "Model: \"sequential\"\n",
      "_________________________________________________________________\n",
      " Layer (type)                Output Shape              Param #   \n",
      "=================================================================\n",
      " conv2d_flipout (Conv2DFlipo  (None, 62, 62, 32)       2912      \n",
      " ut)                                                             \n",
      "                                                                 \n",
      " batch_normalization (BatchN  (None, 62, 62, 32)       128       \n",
      " ormalization)                                                   \n",
      "                                                                 \n",
      " activation (Activation)     (None, 62, 62, 32)        0         \n",
      "                                                                 \n",
      " conv2d_flipout_1 (Conv2DFli  (None, 60, 60, 64)       36928     \n",
      " pout)                                                           \n",
      "                                                                 \n",
      " batch_normalization_1 (Batc  (None, 60, 60, 64)       256       \n",
      " hNormalization)                                                 \n",
      "                                                                 \n",
      " activation_1 (Activation)   (None, 60, 60, 64)        0         \n",
      "                                                                 \n",
      " max_pooling2d (MaxPooling2D  (None, 30, 30, 64)       0         \n",
      " )                                                               \n",
      "                                                                 \n",
      " conv2d_flipout_2 (Conv2DFli  (None, 28, 28, 128)      147584    \n",
      " pout)                                                           \n",
      "                                                                 \n",
      " batch_normalization_2 (Batc  (None, 28, 28, 128)      512       \n",
      " hNormalization)                                                 \n",
      "                                                                 \n",
      " activation_2 (Activation)   (None, 28, 28, 128)       0         \n",
      "                                                                 \n",
      " conv2d_flipout_3 (Conv2DFli  (None, 26, 26, 256)      590080    \n",
      " pout)                                                           \n",
      "                                                                 \n",
      " batch_normalization_3 (Batc  (None, 26, 26, 256)      1024      \n",
      " hNormalization)                                                 \n",
      "                                                                 \n",
      " activation_3 (Activation)   (None, 26, 26, 256)       0         \n",
      "                                                                 \n",
      " max_pooling2d_1 (MaxPooling  (None, 13, 13, 256)      0         \n",
      " 2D)                                                             \n",
      "                                                                 \n",
      " conv2d_flipout_4 (Conv2DFli  (None, 11, 11, 512)      2359808   \n",
      " pout)                                                           \n",
      "                                                                 \n",
      " batch_normalization_4 (Batc  (None, 11, 11, 512)      2048      \n",
      " hNormalization)                                                 \n",
      "                                                                 \n",
      " activation_4 (Activation)   (None, 11, 11, 512)       0         \n",
      "                                                                 \n",
      " max_pooling2d_2 (MaxPooling  (None, 5, 5, 512)        0         \n",
      " 2D)                                                             \n",
      "                                                                 \n",
      " flatten (Flatten)           (None, 12800)             0         \n",
      "                                                                 \n",
      " dropout (Dropout)           (None, 12800)             0         \n",
      "                                                                 \n",
      " dense_variational (DenseVar  (None, 128)              4915584   \n",
      " iational)                                                       \n",
      "                                                                 \n",
      " batch_normalization_5 (Batc  (None, 128)              512       \n",
      " hNormalization)                                                 \n",
      "                                                                 \n",
      " activation_5 (Activation)   (None, 128)               0         \n",
      "                                                                 \n",
      " dropout_1 (Dropout)         (None, 128)               0         \n",
      "                                                                 \n",
      " dense_variational_1 (DenseV  (None, 64)               24768     \n",
      " ariational)                                                     \n",
      "                                                                 \n",
      " batch_normalization_6 (Batc  (None, 64)               256       \n",
      " hNormalization)                                                 \n",
      "                                                                 \n",
      " activation_6 (Activation)   (None, 64)                0         \n",
      "                                                                 \n",
      " dropout_2 (Dropout)         (None, 64)                0         \n",
      "                                                                 \n",
      " dense (Dense)               (None, 2)                 130       \n",
      "                                                                 \n",
      " independent_normal (Indepen  ((None, 1),              0         \n",
      " dentNormal)                  (None, 1))                         \n",
      "                                                                 \n",
      "=================================================================\n",
      "Total params: 8,082,530\n",
      "Trainable params: 8,080,162\n",
      "Non-trainable params: 2,368\n",
      "_________________________________________________________________\n"
     ]
    }
   ],
   "source": [
    "model_variational = Sequential([\n",
    "    InputLayer(input_shape=(64, 64, 5)),\n",
    "    \n",
    "    # First Conv block\n",
    "    tfpl.Convolution2DFlipout(32, kernel_size=(3, 3), activation=None, kernel_divergence_fn=kl_divergence_function),\n",
    "    BatchNormalization(),\n",
    "    Activation('relu'),\n",
    "    tfpl.Convolution2DFlipout(64, kernel_size=(3, 3), activation=None, kernel_divergence_fn=kl_divergence_function),\n",
    "    BatchNormalization(),\n",
    "    Activation('relu'),\n",
    "    MaxPooling2D(2, 2),\n",
    "\n",
    "    # Second Conv block\n",
    "    tfpl.Convolution2DFlipout(128, kernel_size=(3, 3), activation=None, kernel_divergence_fn=kl_divergence_function),\n",
    "    BatchNormalization(),\n",
    "    Activation('relu'),\n",
    "    tfpl.Convolution2DFlipout(256, kernel_size=(3, 3), activation=None, kernel_divergence_fn=kl_divergence_function),\n",
    "    BatchNormalization(),\n",
    "    Activation('relu'),\n",
    "    MaxPooling2D(2, 2),\n",
    "\n",
    "    # Optional Third Conv block\n",
    "    tfpl.Convolution2DFlipout(512, kernel_size=(3, 3), activation=None, kernel_divergence_fn=kl_divergence_function),\n",
    "    BatchNormalization(),\n",
    "    Activation('relu'),\n",
    "    MaxPooling2D(2, 2),\n",
    "\n",
    "    Flatten(),\n",
    "    Dropout(0.2),\n",
    "\n",
    "    # Dense Variational layer\n",
    "    tfpl.DenseVariational(128,\n",
    "                          make_posterior_fn=posterior_mean_field,\n",
    "                          make_prior_fn=prior_trainable,\n",
    "                          kl_weight=1/n),\n",
    "    BatchNormalization(),\n",
    "    Activation('relu'),\n",
    "    Dropout(0.2),\n",
    "\n",
    "    tfpl.DenseVariational(64,\n",
    "                          make_posterior_fn=posterior_mean_field,\n",
    "                          make_prior_fn=prior_trainable,\n",
    "                          kl_weight=1/n),\n",
    "    BatchNormalization(),\n",
    "    Activation('relu'),\n",
    "    Dropout(0.2),\n",
    "\n",
    "    # Output layer\n",
    "    Dense(tfpl.IndependentNormal.params_size(1)),\n",
    "    tfpl.IndependentNormal(1)\n",
    "])\n",
    "\n",
    "model_variational.build((10000, 64, 64, 5))\n",
    "model_variational.summary()"
   ]
  },
  {
   "cell_type": "code",
   "execution_count": 7,
   "id": "de5fcf3a",
   "metadata": {},
   "outputs": [],
   "source": [
    "def loss_function(targets, estimated_distribution):\n",
    "    return -estimated_distribution.log_prob(targets)\n",
    "\n",
    "model_variational.compile(optimizer = Adam(learning_rate = 0.001), loss = loss_function, metrics = [keras.metrics.RootMeanSquaredError()])"
   ]
  },
  {
   "cell_type": "code",
   "execution_count": 8,
   "id": "42841133",
   "metadata": {},
   "outputs": [],
   "source": [
    "import tensorboard\n",
    "\n",
    "model_name = 'bayesian_cnn_rockfish_example'\n",
    "\n",
    "# checkpoint_filepath = os.path.join('/data/tuando/models/', model_name) + '/' + model_name\n",
    "\n",
    "weights_path = os.path.join('/data/tuando/models/', model_name) + '/weights'\n",
    "\n",
    "# log_dir = os.path.join('/data/tuando/logs/', model_name)\n",
    "\n",
    "# cp_callback = tf.keras.callbacks.ModelCheckpoint(filepath = checkpoint_filepath, save_weights_only = True, verbose = 1, save_freq = 150*250)\n",
    "\n",
    "# tensorboard_callback = tf.keras.callbacks.TensorBoard(log_dir = log_dir, histogram_freq = 1)\n",
    "\n",
    "LR_callback = ReduceLROnPlateau()"
   ]
  },
  {
   "cell_type": "code",
   "execution_count": null,
   "id": "ed21918a",
   "metadata": {
    "scrolled": true
   },
   "outputs": [
    {
     "name": "stdout",
     "output_type": "stream",
     "text": [
      "Epoch 1/60\n",
      "313/313 [==============================] - 12s 19ms/step - loss: 4875.5815 - root_mean_squared_error: 1.8901 - val_loss: 4106.1851 - val_root_mean_squared_error: 2.5607 - lr: 0.0010\n",
      "Epoch 2/60\n",
      "313/313 [==============================] - 4s 14ms/step - loss: 3573.6060 - root_mean_squared_error: 1.1995 - val_loss: 3102.7725 - val_root_mean_squared_error: 0.8645 - lr: 0.0010\n",
      "Epoch 3/60\n",
      "313/313 [==============================] - 4s 14ms/step - loss: 2740.4500 - root_mean_squared_error: 0.7284 - val_loss: 2413.7422 - val_root_mean_squared_error: 0.5929 - lr: 0.0010\n",
      "Epoch 4/60\n",
      "313/313 [==============================] - 4s 14ms/step - loss: 2152.9954 - root_mean_squared_error: 0.5779 - val_loss: 1914.8530 - val_root_mean_squared_error: 0.5888 - lr: 0.0010\n",
      "Epoch 5/60\n",
      "313/313 [==============================] - 5s 14ms/step - loss: 1719.9822 - root_mean_squared_error: 0.5125 - val_loss: 1542.0172 - val_root_mean_squared_error: 2.5660 - lr: 0.0010\n",
      "Epoch 6/60\n",
      "313/313 [==============================] - 5s 14ms/step - loss: 1390.2253 - root_mean_squared_error: 0.5324 - val_loss: 1250.4432 - val_root_mean_squared_error: 0.4048 - lr: 0.0010\n",
      "Epoch 7/60\n",
      "313/313 [==============================] - 4s 14ms/step - loss: 1132.5479 - root_mean_squared_error: 0.5007 - val_loss: 1022.0058 - val_root_mean_squared_error: 0.3887 - lr: 0.0010\n",
      "Epoch 8/60\n",
      "313/313 [==============================] - 4s 14ms/step - loss: 926.9772 - root_mean_squared_error: 0.4106 - val_loss: 837.7731 - val_root_mean_squared_error: 0.3910 - lr: 0.0010\n",
      "Epoch 9/60\n",
      "313/313 [==============================] - 4s 14ms/step - loss: 760.1003 - root_mean_squared_error: 0.3845 - val_loss: 686.7640 - val_root_mean_squared_error: 0.4641 - lr: 0.0010\n",
      "Epoch 10/60\n",
      "313/313 [==============================] - 4s 14ms/step - loss: 623.1363 - root_mean_squared_error: 0.3709 - val_loss: 562.6539 - val_root_mean_squared_error: 0.5292 - lr: 0.0010\n",
      "Epoch 11/60\n",
      "313/313 [==============================] - 4s 14ms/step - loss: 510.0838 - root_mean_squared_error: 0.3663 - val_loss: 459.9144 - val_root_mean_squared_error: 0.3843 - lr: 0.0010\n",
      "Epoch 12/60\n",
      "313/313 [==============================] - 5s 14ms/step - loss: 416.1354 - root_mean_squared_error: 0.3450 - val_loss: 374.4102 - val_root_mean_squared_error: 0.3501 - lr: 0.0010\n",
      "Epoch 13/60\n",
      "313/313 [==============================] - 4s 14ms/step - loss: 338.1323 - root_mean_squared_error: 0.3341 - val_loss: 303.5073 - val_root_mean_squared_error: 0.3180 - lr: 0.0010\n",
      "Epoch 14/60\n",
      "313/313 [==============================] - 4s 14ms/step - loss: 273.4206 - root_mean_squared_error: 0.3290 - val_loss: 244.8024 - val_root_mean_squared_error: 0.3284 - lr: 0.0010\n",
      "Epoch 15/60\n",
      "313/313 [==============================] - 4s 14ms/step - loss: 220.0134 - root_mean_squared_error: 0.3304 - val_loss: 196.3883 - val_root_mean_squared_error: 0.3443 - lr: 0.0010\n",
      "Epoch 16/60\n",
      "313/313 [==============================] - 4s 14ms/step - loss: 176.1523 - root_mean_squared_error: 0.3225 - val_loss: 157.2110 - val_root_mean_squared_error: 0.3823 - lr: 0.0010\n",
      "Epoch 17/60\n",
      "313/313 [==============================] - 4s 14ms/step - loss: 140.4346 - root_mean_squared_error: 0.3253 - val_loss: 124.7482 - val_root_mean_squared_error: 0.3490 - lr: 0.0010\n",
      "Epoch 18/60\n",
      "313/313 [==============================] - 5s 14ms/step - loss: 111.5155 - root_mean_squared_error: 0.3245 - val_loss: 98.8767 - val_root_mean_squared_error: 0.3127 - lr: 0.0010\n",
      "Epoch 19/60\n",
      "313/313 [==============================] - 4s 14ms/step - loss: 88.2978 - root_mean_squared_error: 0.3149 - val_loss: 78.1814 - val_root_mean_squared_error: 0.3159 - lr: 0.0010\n",
      "Epoch 20/60\n",
      "313/313 [==============================] - 4s 14ms/step - loss: 69.7516 - root_mean_squared_error: 0.3154 - val_loss: 61.7032 - val_root_mean_squared_error: 0.3127 - lr: 0.0010\n",
      "Epoch 21/60\n",
      "313/313 [==============================] - 4s 14ms/step - loss: 55.0556 - root_mean_squared_error: 0.3235 - val_loss: 48.6208 - val_root_mean_squared_error: 0.3052 - lr: 0.0010\n",
      "Epoch 22/60\n",
      "313/313 [==============================] - 4s 14ms/step - loss: 43.4591 - root_mean_squared_error: 0.3193 - val_loss: 38.4134 - val_root_mean_squared_error: 0.3080 - lr: 0.0010\n",
      "Epoch 23/60\n",
      "313/313 [==============================] - 4s 14ms/step - loss: 34.4819 - root_mean_squared_error: 0.3163 - val_loss: 30.6730 - val_root_mean_squared_error: 0.3222 - lr: 0.0010\n",
      "Epoch 24/60\n",
      "313/313 [==============================] - 4s 14ms/step - loss: 27.5695 - root_mean_squared_error: 0.3157 - val_loss: 24.5088 - val_root_mean_squared_error: 0.2952 - lr: 0.0010\n",
      "Epoch 25/60\n",
      "313/313 [==============================] - 4s 14ms/step - loss: 22.2468 - root_mean_squared_error: 0.3129 - val_loss: 19.9716 - val_root_mean_squared_error: 0.3148 - lr: 0.0010\n",
      "Epoch 26/60\n",
      "313/313 [==============================] - 4s 14ms/step - loss: 18.2712 - root_mean_squared_error: 0.3146 - val_loss: 16.5338 - val_root_mean_squared_error: 0.3092 - lr: 0.0010\n",
      "Epoch 27/60\n",
      "313/313 [==============================] - 4s 14ms/step - loss: 15.3027 - root_mean_squared_error: 0.3186 - val_loss: 13.9494 - val_root_mean_squared_error: 0.2898 - lr: 0.0010\n",
      "Epoch 28/60\n",
      "313/313 [==============================] - 4s 14ms/step - loss: 13.2050 - root_mean_squared_error: 0.3130 - val_loss: 12.1920 - val_root_mean_squared_error: 0.3019 - lr: 0.0010\n",
      "Epoch 29/60\n",
      "313/313 [==============================] - 4s 14ms/step - loss: 11.5768 - root_mean_squared_error: 0.3099 - val_loss: 10.8887 - val_root_mean_squared_error: 0.3040 - lr: 0.0010\n",
      "Epoch 30/60\n",
      "309/313 [============================>.] - ETA: 0s - loss: 10.4724 - root_mean_squared_error: 0.3102"
     ]
    }
   ],
   "source": [
    "model_variational.fit(x = x_train, y = y_train, epochs = 60, shuffle = True, verbose = 1, validation_data = (x_validation, y_validation), callbacks = [LR_callback])"
   ]
  },
  {
   "cell_type": "code",
   "execution_count": null,
   "id": "9eff26ea-8ba7-4f98-a41f-46f638117046",
   "metadata": {},
   "outputs": [],
   "source": [
    "model_variational.save_weights(weights_path)"
   ]
  },
  {
   "cell_type": "code",
   "execution_count": null,
   "id": "3aab1702-224a-4226-866d-63cae626b70f",
   "metadata": {},
   "outputs": [],
   "source": [
    "model_variational.load_weights(weights_path)"
   ]
  },
  {
   "cell_type": "code",
   "execution_count": null,
   "id": "9f5b1434",
   "metadata": {},
   "outputs": [],
   "source": [
    "photoz = []\n",
    "\n",
    "for i in range(t):\n",
    "    photoz.append(model_variational(np.array([x_test[i]])).mean()[0][0])\n",
    "\n",
    "photoz = np.asarray(photoz).astype('float32')"
   ]
  },
  {
   "cell_type": "code",
   "execution_count": null,
   "id": "5aaca9e4",
   "metadata": {},
   "outputs": [],
   "source": [
    "specz = np.asarray(y_test)[ : , 0]"
   ]
  },
  {
   "cell_type": "code",
   "execution_count": null,
   "id": "c8f2d907",
   "metadata": {},
   "outputs": [],
   "source": [
    "photoz_err = []\n",
    "\n",
    "for i in range(t):\n",
    "    photoz_err.append(model_variational(np.array([x_test[i]])).stddev()[0][0])"
   ]
  },
  {
   "cell_type": "code",
   "execution_count": null,
   "id": "4aca0c11",
   "metadata": {},
   "outputs": [],
   "source": [
    "from scipy.stats import gaussian_kde\n",
    "xy = np.asarray(np.vstack([specz, photoz])).astype('float32')\n",
    "z = gaussian_kde(xy)(xy)"
   ]
  },
  {
   "cell_type": "code",
   "execution_count": null,
   "id": "2d080369",
   "metadata": {},
   "outputs": [],
   "source": [
    "import seaborn as sns\n",
    "z_max = 2\n",
    "sns.set(rc = {'figure.figsize' : (10, 10), 'lines.markersize' : 20})\n",
    "plt.rcParams.update({'font.size' : 40})\n",
    "fig, ax = plt.subplots()\n",
    "scatter_plot = ax.scatter(specz, photoz, c = z, s = 1, edgecolor = None)\n",
    "plt.colorbar(scatter_plot, label = 'Density')\n",
    "plt.title('Prediction')\n",
    "plt.xlabel('spectroscopic redshift')\n",
    "plt.ylabel('photo z')\n",
    "plt.plot([0, z_max], [0, z_max],color = 'black')\n",
    "plt.xlim([0, z_max])\n",
    "plt.ylim([0, z_max])\n",
    "plt.show()"
   ]
  },
  {
   "cell_type": "code",
   "execution_count": null,
   "id": "2b34aa74",
   "metadata": {},
   "outputs": [],
   "source": [
    "overlap_variational = 0\n",
    "overlap_array_variational = []\n",
    "for i in range(0, t):\n",
    "    if np.abs(specz[i]-photoz[i]) <= photoz_err[i]:\n",
    "        overlap_variational += 1\n",
    "        overlap_array_variational.append(1)\n",
    "    else:\n",
    "        overlap_array_variational.append(0)"
   ]
  },
  {
   "cell_type": "code",
   "execution_count": null,
   "id": "ce4218c2",
   "metadata": {},
   "outputs": [],
   "source": [
    "sns.set(rc = {'figure.figsize' : (5, 5), 'lines.markersize' : 40})\n",
    "plt.rcParams.update({'font.size' : 40})\n",
    "fig, ax = plt.subplots()\n",
    "display_size = 1000\n",
    "scatter_plot = ax.scatter(specz[ : display_size], photoz[ : display_size], c = z[ : display_size], s = 4, edgecolor = None, zorder = 2)\n",
    "error_plot = ax.errorbar(specz[ : display_size], photoz[ : display_size], yerr = photoz_err[ : display_size], fmt = \"o\", markersize = 0, color = 'blue', elinewidth = 1, zorder = 1)\n",
    "plt.title('Prediction With Error')\n",
    "plt.xlabel('Spectroscopic Redshift')\n",
    "plt.ylabel('Photometric Redshift')\n",
    "plt.plot([0, z_max], [0, z_max], color = 'black')\n",
    "plt.xlim([0, z_max])\n",
    "plt.ylim([0, z_max])\n",
    "print(\"Coverage: \" + str(overlap_variational / t))"
   ]
  },
  {
   "cell_type": "code",
   "execution_count": null,
   "id": "5c5eee06",
   "metadata": {},
   "outputs": [],
   "source": [
    "combined_array_variational = np.transpose(np.vstack((specz, photoz, photoz_err, overlap_array_variational))) "
   ]
  },
  {
   "cell_type": "code",
   "execution_count": null,
   "id": "fb236386",
   "metadata": {},
   "outputs": [],
   "source": [
    "sorted_combined_array_variational = sorted(combined_array_variational, key=lambda x : x[0])"
   ]
  },
  {
   "cell_type": "code",
   "execution_count": null,
   "id": "ebecb5bb",
   "metadata": {},
   "outputs": [],
   "source": [
    "bins_variational = int(z_max * 5)\n",
    "splitted_sorted_combined_array_variational = np.array_split(sorted_combined_array_variational, bins_variational)\n",
    "coverage_variational = []\n",
    "for i in range(0, bins_variational):\n",
    "    bins_count_variational = 0\n",
    "    for j in range(0,len(splitted_sorted_combined_array_variational[i])):\n",
    "        if splitted_sorted_combined_array_variational[i][j][3] == 1:\n",
    "            bins_count_variational += 1\n",
    "    coverage_variational.append(bins_count_variational / len(splitted_sorted_combined_array_variational[i]) / 0.6827)\n",
    "x_array = np.arange(0, z_max, z_max / bins_variational)"
   ]
  },
  {
   "cell_type": "code",
   "execution_count": null,
   "id": "f06c57bf",
   "metadata": {
    "scrolled": true
   },
   "outputs": [],
   "source": [
    "plt.plot(x_array, coverage_variational, c = 'red')\n",
    "plt.title('Coverage')\n",
    "plt.xlabel('Spectroscopic Redshift')\n",
    "plt.ylabel('Coverage')\n",
    "plt.ylim([0, 1.5])\n",
    "plt.plot([0, 2], [1, 1], color = 'black', linestyle = 'dashed')\n",
    "plt.annotate(\"Underconfident\", xy = (0, 1.06), color = 'black', size = 12)\n",
    "plt.annotate(\"Overconfident\", xy = (0, 0.9), color = 'black', size = 12)\n",
    "print(\"Coverage: \"+str(overlap_variational / t))"
   ]
  },
  {
   "cell_type": "code",
   "execution_count": null,
   "id": "c7375ddb",
   "metadata": {},
   "outputs": [],
   "source": [
    "mean_array = []\n",
    "for i in range(0, bins_variational):\n",
    "    total = 0\n",
    "    for j in range(0, len(splitted_sorted_combined_array_variational[i])):\n",
    "        bias = (splitted_sorted_combined_array_variational[i][j][1] - splitted_sorted_combined_array_variational[i][j][0]) / (1 + splitted_sorted_combined_array_variational[i][j][0])\n",
    "        total += bias / (1 + splitted_sorted_combined_array_variational[i][j][0])\n",
    "    mean_array.append(total / len(splitted_sorted_combined_array_variational[i]))\n",
    "x_array = np.arange(0, z_max, z_max / bins_variational)"
   ]
  },
  {
   "cell_type": "code",
   "execution_count": null,
   "id": "76b7ef6e",
   "metadata": {},
   "outputs": [],
   "source": [
    "error_array = []\n",
    "for i in range(0, bins_variational):\n",
    "    error_total = 0\n",
    "    for j in range(0,len(splitted_sorted_combined_array_variational[i])):\n",
    "        error_total += splitted_sorted_combined_array_variational[i][j][2]\n",
    "    error_array.append(error_total / len(splitted_sorted_combined_array_variational[i]))"
   ]
  },
  {
   "cell_type": "code",
   "execution_count": null,
   "id": "8652e4b9",
   "metadata": {},
   "outputs": [],
   "source": [
    "sns.set(rc = {'figure.figsize' : (5, 5), 'lines.markersize' : 40})\n",
    "plt.rcParams.update({'font.size' : 40})\n",
    "plt.scatter(x_array, mean_array, marker = 'o', color = 'blue', s = 4)\n",
    "# plt.errorbar(x_array, mean_array, yerr = error_array, fmt = \"o\", color = 'blue', markersize = 4, elinewidth = 2)\n",
    "plt.title('Bias Plot for Probabilistic Model')\n",
    "plt.xlabel('True Redshift')\n",
    "plt.ylabel('Bias: (Predicted - True) / (1 + True)')\n",
    "plt.plot([0, z_max], [0, 0], color = 'black')\n",
    "plt.plot([0, z_max], [0.003, 0.003], color = 'black', linestyle = 'dashed')\n",
    "plt.plot([0, z_max], [-0.003, -0.003], color = 'black', linestyle = 'dashed')\n",
    "plt.ylim([-0.1, 0.1])\n",
    "plt.show()"
   ]
  },
  {
   "cell_type": "code",
   "execution_count": null,
   "id": "83c7443e",
   "metadata": {},
   "outputs": [],
   "source": [
    "combined_outlier_array = np.transpose(np.vstack((specz, photoz, photoz_err)))\n",
    "sorted_combined_outlier_array = sorted(combined_outlier_array, key = lambda x : x[0])\n",
    "bins_outlier = int(z_max * 20)\n",
    "splitted_sorted_combined_outlier_array = np.array_split(sorted_combined_outlier_array, bins_outlier)\n",
    "outlier_array = []\n",
    "outlier_count_total = 0\n",
    "for i in range(0, bins_outlier):\n",
    "    outlier_count = 0\n",
    "    for j in range(0,len(splitted_sorted_combined_outlier_array[i])):\n",
    "        if np.abs(splitted_sorted_combined_outlier_array[i][j][1] - splitted_sorted_combined_outlier_array[i][j][0]) >= 3 * splitted_sorted_combined_outlier_array[i][j][2]:\n",
    "            outlier_count += 1\n",
    "            outlier_count_total += 1\n",
    "    outlier_array.append(outlier_count / len(specz) * bins_outlier)\n",
    "x_array_outlier = np.arange(0, z_max, z_max / bins_outlier)\n",
    "plt.plot(x_array_outlier, outlier_array, c = 'blue')\n",
    "plt.title('Outlier Rate')\n",
    "plt.xlabel('spec z')\n",
    "plt.ylabel('outlier rate')\n",
    "plt.xlim([0, z_max])\n",
    "plt.ylim([0, 1/2])\n",
    "plt.show()"
   ]
  },
  {
   "cell_type": "code",
   "execution_count": null,
   "id": "16ee12a0",
   "metadata": {},
   "outputs": [],
   "source": [
    "combined_outlier_array = np.transpose(np.vstack((specz,np.subtract(photoz, specz))))\n",
    "sorted_combined_outlier_array = sorted(combined_outlier_array, key = lambda x : x[0])\n",
    "bins_outlier = int(z_max * 10)\n",
    "splitted_sorted_combined_outlier_array = np.array_split(sorted_combined_outlier_array, bins_outlier)\n",
    "outlier_array = []\n",
    "outlier_count_total = 0\n",
    "for i in range(0, bins_outlier):\n",
    "    outlier_count = 0\n",
    "    for j in range(0,len(splitted_sorted_combined_outlier_array[i])):\n",
    "        if np.abs(splitted_sorted_combined_outlier_array[i][j][1] / (splitted_sorted_combined_outlier_array[i][j][0] + 1)) >= .15:\n",
    "            outlier_count += 1\n",
    "            outlier_count_total += 1\n",
    "    outlier_array.append(outlier_count / len(specz) * bins_outlier)\n",
    "x_array_outlier = np.arange(0, z_max, z_max /bins_outlier)\n",
    "plt.plot(x_array_outlier, outlier_array, c = 'blue')\n",
    "plt.title('Outlier Rate')\n",
    "plt.xlabel('spec z')\n",
    "plt.ylabel('outlier rate')\n",
    "plt.xlim([0, z_max])\n",
    "plt.ylim([0, 1])\n",
    "plt.show()\n",
    "\n",
    "print(\"Outlier Rate: \"+str(outlier_count_total / len(specz)))"
   ]
  },
  {
   "cell_type": "code",
   "execution_count": null,
   "id": "8ec169d4",
   "metadata": {},
   "outputs": [],
   "source": [
    "# END"
   ]
  }
 ],
 "metadata": {
  "kernelspec": {
   "display_name": "Python (photoz)",
   "language": "python",
   "name": "photoz"
  },
  "language_info": {
   "codemirror_mode": {
    "name": "ipython",
    "version": 3
   },
   "file_extension": ".py",
   "mimetype": "text/x-python",
   "name": "python",
   "nbconvert_exporter": "python",
   "pygments_lexer": "ipython3",
   "version": "3.10.12"
  }
 },
 "nbformat": 4,
 "nbformat_minor": 5
}
