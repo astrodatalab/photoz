{
 "cells": [
  {
   "cell_type": "code",
   "execution_count": 1,
   "id": "826ceced",
   "metadata": {},
   "outputs": [
    {
     "name": "stderr",
     "output_type": "stream",
     "text": [
      "2023-05-14 16:10:53.720451: I tensorflow/core/platform/cpu_feature_guard.cc:193] This TensorFlow binary is optimized with oneAPI Deep Neural Network Library (oneDNN) to use the following CPU instructions in performance-critical operations:  AVX2 FMA\n",
      "To enable them in other operations, rebuild TensorFlow with the appropriate compiler flags.\n",
      "2023-05-14 16:10:54.623154: W tensorflow/compiler/xla/stream_executor/platform/default/dso_loader.cc:64] Could not load dynamic library 'libnvinfer.so.7'; dlerror: libnvinfer.so.7: cannot open shared object file: No such file or directory\n",
      "2023-05-14 16:10:54.623205: W tensorflow/compiler/xla/stream_executor/platform/default/dso_loader.cc:64] Could not load dynamic library 'libnvinfer_plugin.so.7'; dlerror: libnvinfer_plugin.so.7: cannot open shared object file: No such file or directory\n",
      "2023-05-14 16:10:54.623210: W tensorflow/compiler/tf2tensorrt/utils/py_utils.cc:38] TF-TRT Warning: Cannot dlopen some TensorRT libraries. If you would like to use Nvidia GPU with TensorRT, please make sure the missing libraries mentioned above are installed properly.\n"
     ]
    }
   ],
   "source": [
    "import tensorflow as tf\n",
    "import tensorflow_probability as tfp\n",
    "import pandas as pd\n",
    "import numpy as np\n",
    "import matplotlib.pyplot as plt\n",
    "import h5py\n",
    "import keras\n",
    "import os\n",
    "import tensorboard\n",
    "from tensorflow.keras.models import Sequential, Model\n",
    "from tensorflow.keras.layers import Dense, Conv2D, MaxPooling2D, Flatten, Dropout, Input, Concatenate\n",
    "from tensorflow.keras.optimizers import Adam\n",
    "from tensorboard.plugins.hparams import api as hp\n",
    "\n",
    "from photoz_utils import *\n",
    "from DataMakerPlus import *"
   ]
  },
  {
   "cell_type": "code",
   "execution_count": 2,
   "id": "2806c408",
   "metadata": {},
   "outputs": [],
   "source": [
    "IMAGE_SHAPE = (5, 127, 127)\n",
    "BATCH_SIZE = 256\n",
    "EPOCHS = 100\n",
    "GB_LIMIT = 10\n",
    "Z_MAX = 4\n",
    "LR = 0.0001\n",
    "\n",
    "hparams = {\n",
    "    'batch_size': BATCH_SIZE,\n",
    "    'num_epochs': EPOCHS,\n",
    "    'z_max': Z_MAX,\n",
    "    'learning_rate': LR\n",
    "}"
   ]
  },
  {
   "cell_type": "code",
   "execution_count": 3,
   "id": "1b30607a",
   "metadata": {},
   "outputs": [
    {
     "name": "stdout",
     "output_type": "stream",
     "text": [
      "1 Physical GPUs, 1 Logical GPUs\n"
     ]
    }
   ],
   "source": [
    "gpus = tf.config.list_physical_devices('GPU')\n",
    "if gpus:\n",
    "    try:\n",
    "        tf.config.experimental.set_virtual_device_configuration(\n",
    "            gpus[0],\n",
    "            [tf.config.experimental.VirtualDeviceConfiguration(GB_LIMIT*1000)])\n",
    "        logical_gpus = tf.config.experimental.list_logical_devices('GPU')\n",
    "        print(len(gpus), \"Physical GPUs,\", len(logical_gpus), \"Logical GPUs\")\n",
    "    except RuntimeError as e:\n",
    "        print(e)"
   ]
  },
  {
   "cell_type": "code",
   "execution_count": 4,
   "id": "fdd5936e",
   "metadata": {},
   "outputs": [],
   "source": [
    "args_gen = {'X_key': 'image',\n",
    "    'y_key': 'specz_redshift',\n",
    "    'scaler': True,\n",
    "    'labels_encoding': False,\n",
    "    'batch_size': BATCH_SIZE,\n",
    "    'mode': 'train',\n",
    "    'shuffle': False}\n",
    "\n",
    "TRAIN_PATH = f'/data/HSC/HSC_v6/step2A/127x127/5x127x127_training.hdf5'\n",
    "VAL_PATH = f'/data/HSC/HSC_v6/step2A/127x127/5x127x127_validation.hdf5'\n",
    "TEST_PATH = f'/data/HSC/HSC_v6/step2A/127x127/5x127x127_testing.hdf5'"
   ]
  },
  {
   "cell_type": "code",
   "execution_count": 5,
   "id": "3c8ac1b8",
   "metadata": {},
   "outputs": [],
   "source": [
    "train_gen = HDF5ImageGenerator(src=TRAIN_PATH, **args_gen)\n",
    "val_gen = HDF5ImageGenerator(src=VAL_PATH, **args_gen)\n",
    "test_gen = HDF5ImageGenerator(src=TEST_PATH, **args_gen)"
   ]
  },
  {
   "cell_type": "code",
   "execution_count": 6,
   "id": "91301947-c982-4ba7-ab9a-294bcd4d65da",
   "metadata": {},
   "outputs": [],
   "source": [
    "import keras.backend as K\n",
    "\n",
    "def calculate_loss(z_photo, z_spec):\n",
    "    \"\"\"\n",
    "    HSC METRIC. Returns an array. Loss is accuracy metric defined by HSC, meant\n",
    "    to capture the effects of bias, scatter, and outlier all in one. This has\n",
    "    uses for both point and density estimation.\n",
    "    z_photo: array\n",
    "        Photometric or predicted redshifts.\n",
    "    z_spec: array\n",
    "        Spectroscopic or actual redshifts.\n",
    "    \"\"\"\n",
    "    dz = delz(z_photo, z_spec)\n",
    "    gamma = 0.15\n",
    "    denominator = 1.0 + K.square(dz/gamma)\n",
    "    loss = 1 - 1.0 / denominator\n",
    "    return loss"
   ]
  },
  {
   "cell_type": "code",
   "execution_count": 7,
   "id": "105d3a3b",
   "metadata": {},
   "outputs": [
    {
     "name": "stdout",
     "output_type": "stream",
     "text": [
      "Model: \"model\"\n",
      "_________________________________________________________________\n",
      " Layer (type)                Output Shape              Param #   \n",
      "=================================================================\n",
      " input_1 (InputLayer)        [(None, 5, 127, 127)]     0         \n",
      "                                                                 \n",
      " conv2d (Conv2D)             (None, 32, 127, 127)      1472      \n",
      "                                                                 \n",
      " max_pooling2d (MaxPooling2D  (None, 32, 63, 63)       0         \n",
      " )                                                               \n",
      "                                                                 \n",
      " conv2d_1 (Conv2D)           (None, 64, 63, 63)        18496     \n",
      "                                                                 \n",
      " max_pooling2d_1 (MaxPooling  (None, 64, 31, 31)       0         \n",
      " 2D)                                                             \n",
      "                                                                 \n",
      " conv2d_2 (Conv2D)           (None, 128, 31, 31)       73856     \n",
      "                                                                 \n",
      " max_pooling2d_2 (MaxPooling  (None, 128, 15, 15)      0         \n",
      " 2D)                                                             \n",
      "                                                                 \n",
      " conv2d_3 (Conv2D)           (None, 256, 15, 15)       295168    \n",
      "                                                                 \n",
      " max_pooling2d_3 (MaxPooling  (None, 256, 7, 7)        0         \n",
      " 2D)                                                             \n",
      "                                                                 \n",
      " conv2d_4 (Conv2D)           (None, 256, 7, 7)         590080    \n",
      "                                                                 \n",
      " max_pooling2d_4 (MaxPooling  (None, 256, 3, 3)        0         \n",
      " 2D)                                                             \n",
      "                                                                 \n",
      " conv2d_5 (Conv2D)           (None, 512, 3, 3)         1180160   \n",
      "                                                                 \n",
      " conv2d_6 (Conv2D)           (None, 512, 3, 3)         2359808   \n",
      "                                                                 \n",
      " flatten (Flatten)           (None, 4608)              0         \n",
      "                                                                 \n",
      " dense (Dense)               (None, 512)               2359808   \n",
      "                                                                 \n",
      " dense_1 (Dense)             (None, 128)               65664     \n",
      "                                                                 \n",
      " dense_2 (Dense)             (None, 32)                4128      \n",
      "                                                                 \n",
      " dense_3 (Dense)             (None, 1)                 33        \n",
      "                                                                 \n",
      "=================================================================\n",
      "Total params: 6,948,673\n",
      "Trainable params: 6,948,673\n",
      "Non-trainable params: 0\n",
      "_________________________________________________________________\n"
     ]
    }
   ],
   "source": [
    "input_ = Input(shape=(5,127,127))\n",
    "conv1 = Conv2D(32, kernel_size=(3, 3), activation='tanh', padding='same', data_format='channels_first')(input_)\n",
    "pool1 = MaxPooling2D(pool_size = (2,2), data_format='channels_first')(conv1)\n",
    "conv2 = Conv2D(64, kernel_size=(3, 3), activation='tanh', padding='same', data_format='channels_first')(pool1)\n",
    "pool2 = MaxPooling2D(pool_size = (2,2), data_format='channels_first')(conv2)\n",
    "conv3 = Conv2D(128, kernel_size=(3, 3), activation='tanh', padding='same', data_format='channels_first')(pool2)\n",
    "pool3 = MaxPooling2D(pool_size = (2,2), data_format='channels_first')(conv3)\n",
    "conv4 = Conv2D(256, kernel_size=(3, 3), activation='tanh', padding='same', data_format='channels_first')(pool3)\n",
    "pool4 = MaxPooling2D(pool_size = (2,2), data_format='channels_first')(conv4)\n",
    "conv5 = Conv2D(256, kernel_size=(3, 3), activation='tanh', padding='same', data_format='channels_first')(pool4)\n",
    "pool5 = MaxPooling2D(pool_size = (2,2), data_format='channels_first')(conv5)\n",
    "conv6 = Conv2D(512, kernel_size=(3, 3),activation='relu', padding='same', data_format='channels_first')(pool5)\n",
    "conv7 = Conv2D(512, kernel_size=(3, 3),activation='relu', padding='same', data_format='channels_first')(conv6)\n",
    "flatten = Flatten()(conv7)\n",
    "dense1 = Dense(512, activation='tanh')(flatten)\n",
    "dense2 = Dense(128, activation='tanh')(dense1)\n",
    "dense3 = Dense(32, activation='tanh')(dense2)\n",
    "output = Dense(1)(dense3)\n",
    "model = Model(inputs=[input_], outputs=[output])\n",
    "model.summary()"
   ]
  },
  {
   "cell_type": "code",
   "execution_count": 8,
   "id": "5d8784a9",
   "metadata": {},
   "outputs": [],
   "source": [
    "model.compile(optimizer=Adam(learning_rate=hparams['learning_rate']), loss=calculate_loss, metrics='mse')"
   ]
  },
  {
   "cell_type": "code",
   "execution_count": 9,
   "id": "a2e575b6",
   "metadata": {},
   "outputs": [],
   "source": [
    "model_name = 'HSC_v6_CNN5pool_v4'\n",
    "\n",
    "checkpoint_filepath = f'/data2/models/{model_name}/checkpoints/cp.ckpt'\n",
    "checkpoint_dir = os.path.dirname(checkpoint_filepath)\n",
    "log_dir = os.path.join('/data2/logs/', model_name)\n",
    "\n",
    "model_checkpoint_callback = tf.keras.callbacks.ModelCheckpoint(\n",
    "    filepath=checkpoint_filepath,\n",
    "    save_weights_only=True,\n",
    "    monitor='loss',\n",
    "    mode='min',\n",
    "    save_freq='epoch',\n",
    "    save_best_only=True,\n",
    "    verbose=True)\n",
    "\n",
    "tensorboard_callback = tf.keras.callbacks.TensorBoard(log_dir=log_dir, histogram_freq=1)\n",
    "\n",
    "hparam_callback = hp.KerasCallback(log_dir, hparams)"
   ]
  },
  {
   "cell_type": "code",
   "execution_count": 10,
   "id": "0038609c",
   "metadata": {},
   "outputs": [
    {
     "name": "stdout",
     "output_type": "stream",
     "text": [
      "Epoch 1/100\n",
      "784/784 [==============================] - ETA: 0s - loss: 0.2515 - mse: 0.2626\n",
      "Epoch 1: loss improved from inf to 0.25147, saving model to /data2/models/HSC_v6_CNN5pool_v4/checkpoints/cp.ckpt\n",
      "784/784 [==============================] - 659s 834ms/step - loss: 0.2515 - mse: 0.2626 - val_loss: 0.1976 - val_mse: 0.1405\n",
      "Epoch 2/100\n",
      "784/784 [==============================] - ETA: 0s - loss: 0.1789 - mse: 0.1187\n",
      "Epoch 2: loss improved from 0.25147 to 0.17889, saving model to /data2/models/HSC_v6_CNN5pool_v4/checkpoints/cp.ckpt\n",
      "784/784 [==============================] - 537s 685ms/step - loss: 0.1789 - mse: 0.1187 - val_loss: 0.1558 - val_mse: 0.1074\n",
      "Epoch 3/100\n",
      "784/784 [==============================] - ETA: 0s - loss: 0.1461 - mse: 0.1080\n",
      "Epoch 3: loss improved from 0.17889 to 0.14607, saving model to /data2/models/HSC_v6_CNN5pool_v4/checkpoints/cp.ckpt\n",
      "784/784 [==============================] - 674s 860ms/step - loss: 0.1461 - mse: 0.1080 - val_loss: 0.1448 - val_mse: 0.1031\n",
      "Epoch 4/100\n",
      "784/784 [==============================] - ETA: 0s - loss: 0.1344 - mse: 0.0988\n",
      "Epoch 4: loss improved from 0.14607 to 0.13436, saving model to /data2/models/HSC_v6_CNN5pool_v4/checkpoints/cp.ckpt\n",
      "784/784 [==============================] - 604s 770ms/step - loss: 0.1344 - mse: 0.0988 - val_loss: 0.1166 - val_mse: 0.0908\n",
      "Epoch 5/100\n",
      "784/784 [==============================] - ETA: 0s - loss: 0.1223 - mse: 0.0937\n",
      "Epoch 5: loss improved from 0.13436 to 0.12231, saving model to /data2/models/HSC_v6_CNN5pool_v4/checkpoints/cp.ckpt\n",
      "784/784 [==============================] - 558s 711ms/step - loss: 0.1223 - mse: 0.0937 - val_loss: 0.1175 - val_mse: 0.0879\n",
      "Epoch 6/100\n",
      "784/784 [==============================] - ETA: 0s - loss: 0.1182 - mse: 0.0903\n",
      "Epoch 6: loss improved from 0.12231 to 0.11822, saving model to /data2/models/HSC_v6_CNN5pool_v4/checkpoints/cp.ckpt\n",
      "784/784 [==============================] - 404s 515ms/step - loss: 0.1182 - mse: 0.0903 - val_loss: 0.1209 - val_mse: 0.0933\n",
      "Epoch 7/100\n",
      "784/784 [==============================] - ETA: 0s - loss: 0.1082 - mse: 0.0863\n",
      "Epoch 7: loss improved from 0.11822 to 0.10819, saving model to /data2/models/HSC_v6_CNN5pool_v4/checkpoints/cp.ckpt\n",
      "784/784 [==============================] - 378s 482ms/step - loss: 0.1082 - mse: 0.0863 - val_loss: 0.1105 - val_mse: 0.0943\n",
      "Epoch 8/100\n",
      "784/784 [==============================] - ETA: 0s - loss: 0.1040 - mse: 0.0866\n",
      "Epoch 8: loss improved from 0.10819 to 0.10397, saving model to /data2/models/HSC_v6_CNN5pool_v4/checkpoints/cp.ckpt\n",
      "784/784 [==============================] - 370s 472ms/step - loss: 0.1040 - mse: 0.0866 - val_loss: 0.0986 - val_mse: 0.0820\n",
      "Epoch 9/100\n",
      "784/784 [==============================] - ETA: 0s - loss: 0.0836 - mse: 0.0806\n",
      "Epoch 13: loss improved from 0.08748 to 0.08356, saving model to /data2/models/HSC_v6_CNN5pool_v4/checkpoints/cp.ckpt\n",
      "784/784 [==============================] - 391s 498ms/step - loss: 0.0836 - mse: 0.0806 - val_loss: 0.1035 - val_mse: 0.0840\n",
      "Epoch 14/100\n",
      "784/784 [==============================] - ETA: 0s - loss: 0.0818 - mse: 0.0812\n",
      "Epoch 14: loss improved from 0.08356 to 0.08180, saving model to /data2/models/HSC_v6_CNN5pool_v4/checkpoints/cp.ckpt\n",
      "784/784 [==============================] - 391s 498ms/step - loss: 0.0818 - mse: 0.0812 - val_loss: 0.0822 - val_mse: 0.0794\n",
      "Epoch 15/100\n",
      "784/784 [==============================] - ETA: 0s - loss: 0.0807 - mse: 0.0821\n",
      "Epoch 15: loss improved from 0.08180 to 0.08070, saving model to /data2/models/HSC_v6_CNN5pool_v4/checkpoints/cp.ckpt\n",
      "784/784 [==============================] - 404s 514ms/step - loss: 0.0807 - mse: 0.0821 - val_loss: 0.0854 - val_mse: 0.0791\n",
      "Epoch 16/100\n",
      "784/784 [==============================] - ETA: 0s - loss: 0.0800 - mse: 0.0801\n",
      "Epoch 16: loss improved from 0.08070 to 0.07997, saving model to /data2/models/HSC_v6_CNN5pool_v4/checkpoints/cp.ckpt\n",
      "784/784 [==============================] - 405s 516ms/step - loss: 0.0800 - mse: 0.0801 - val_loss: 0.0879 - val_mse: 0.0753\n",
      "Epoch 17/100\n",
      "784/784 [==============================] - ETA: 0s - loss: 0.0758 - mse: 0.0793\n",
      "Epoch 17: loss improved from 0.07997 to 0.07577, saving model to /data2/models/HSC_v6_CNN5pool_v4/checkpoints/cp.ckpt\n",
      "784/784 [==============================] - 381s 486ms/step - loss: 0.0758 - mse: 0.0793 - val_loss: 0.0791 - val_mse: 0.0776\n",
      "Epoch 18/100\n",
      "784/784 [==============================] - ETA: 0s - loss: 0.0721 - mse: 0.0776\n",
      "Epoch 18: loss improved from 0.07577 to 0.07210, saving model to /data2/models/HSC_v6_CNN5pool_v4/checkpoints/cp.ckpt\n",
      "784/784 [==============================] - 390s 497ms/step - loss: 0.0721 - mse: 0.0776 - val_loss: 0.0805 - val_mse: 0.0777\n",
      "Epoch 19/100\n",
      "784/784 [==============================] - ETA: 0s - loss: 0.0761 - mse: 0.0791\n",
      "Epoch 19: loss did not improve from 0.07210\n",
      "784/784 [==============================] - 400s 510ms/step - loss: 0.0761 - mse: 0.0791 - val_loss: 0.0810 - val_mse: 0.0809\n",
      "Epoch 20/100\n",
      "784/784 [==============================] - ETA: 0s - loss: 0.0705 - mse: 0.0774\n",
      "Epoch 20: loss improved from 0.07210 to 0.07053, saving model to /data2/models/HSC_v6_CNN5pool_v4/checkpoints/cp.ckpt\n",
      "784/784 [==============================] - 389s 496ms/step - loss: 0.0705 - mse: 0.0774 - val_loss: 0.0763 - val_mse: 0.0758\n",
      "Epoch 21/100\n",
      "784/784 [==============================] - ETA: 0s - loss: 0.0708 - mse: 0.0761\n",
      "Epoch 21: loss did not improve from 0.07053\n",
      "784/784 [==============================] - 388s 495ms/step - loss: 0.0708 - mse: 0.0761 - val_loss: 0.0746 - val_mse: 0.0769\n",
      "Epoch 22/100\n",
      "784/784 [==============================] - ETA: 0s - loss: 0.0683 - mse: 0.0753\n",
      "Epoch 22: loss improved from 0.07053 to 0.06828, saving model to /data2/models/HSC_v6_CNN5pool_v4/checkpoints/cp.ckpt\n",
      "784/784 [==============================] - 376s 479ms/step - loss: 0.0683 - mse: 0.0753 - val_loss: 0.0725 - val_mse: 0.0707\n",
      "Epoch 23/100\n",
      "784/784 [==============================] - ETA: 0s - loss: 0.0675 - mse: 0.0736\n",
      "Epoch 23: loss improved from 0.06828 to 0.06747, saving model to /data2/models/HSC_v6_CNN5pool_v4/checkpoints/cp.ckpt\n",
      "784/784 [==============================] - 369s 471ms/step - loss: 0.0675 - mse: 0.0736 - val_loss: 0.0815 - val_mse: 0.0776\n",
      "Epoch 24/100\n",
      "784/784 [==============================] - ETA: 0s - loss: 0.0680 - mse: 0.0737\n",
      "Epoch 24: loss did not improve from 0.06747\n",
      "784/784 [==============================] - 372s 475ms/step - loss: 0.0680 - mse: 0.0737 - val_loss: 0.0740 - val_mse: 0.0734\n",
      "Epoch 25/100\n",
      "784/784 [==============================] - ETA: 0s - loss: 0.0637 - mse: 0.0722\n",
      "Epoch 25: loss improved from 0.06747 to 0.06372, saving model to /data2/models/HSC_v6_CNN5pool_v4/checkpoints/cp.ckpt\n",
      "784/784 [==============================] - 457s 583ms/step - loss: 0.0637 - mse: 0.0722 - val_loss: 0.0732 - val_mse: 0.0760\n",
      "Epoch 26/100\n",
      "784/784 [==============================] - ETA: 0s - loss: 0.0675 - mse: 0.0729\n",
      "Epoch 26: loss did not improve from 0.06372\n",
      "784/784 [==============================] - 529s 675ms/step - loss: 0.0675 - mse: 0.0729 - val_loss: 0.0732 - val_mse: 0.0765\n",
      "Epoch 27/100\n",
      "784/784 [==============================] - ETA: 0s - loss: 0.0604 - mse: 0.0706\n",
      "Epoch 27: loss improved from 0.06372 to 0.06038, saving model to /data2/models/HSC_v6_CNN5pool_v4/checkpoints/cp.ckpt\n",
      "784/784 [==============================] - 551s 702ms/step - loss: 0.0604 - mse: 0.0706 - val_loss: 0.0714 - val_mse: 0.0779\n",
      "Epoch 28/100\n",
      "784/784 [==============================] - ETA: 0s - loss: 0.0599 - mse: 0.0676\n",
      "Epoch 28: loss improved from 0.06038 to 0.05988, saving model to /data2/models/HSC_v6_CNN5pool_v4/checkpoints/cp.ckpt\n",
      "784/784 [==============================] - 631s 804ms/step - loss: 0.0599 - mse: 0.0676 - val_loss: 0.0696 - val_mse: 0.0675\n",
      "Epoch 29/100\n",
      "784/784 [==============================] - ETA: 0s - loss: 0.0602 - mse: 0.0684\n",
      "Epoch 29: loss did not improve from 0.05988\n",
      "784/784 [==============================] - 695s 887ms/step - loss: 0.0602 - mse: 0.0684 - val_loss: 0.0655 - val_mse: 0.0679\n",
      "Epoch 30/100\n",
      "784/784 [==============================] - ETA: 0s - loss: 0.0589 - mse: 0.0664\n",
      "Epoch 30: loss improved from 0.05988 to 0.05893, saving model to /data2/models/HSC_v6_CNN5pool_v4/checkpoints/cp.ckpt\n",
      "784/784 [==============================] - 734s 937ms/step - loss: 0.0589 - mse: 0.0664 - val_loss: 0.0706 - val_mse: 0.0675\n",
      "Epoch 31/100\n",
      "784/784 [==============================] - ETA: 0s - loss: 0.0567 - mse: 0.0661\n",
      "Epoch 31: loss improved from 0.05893 to 0.05666, saving model to /data2/models/HSC_v6_CNN5pool_v4/checkpoints/cp.ckpt\n",
      "784/784 [==============================] - 793s 1s/step - loss: 0.0567 - mse: 0.0661 - val_loss: 0.0685 - val_mse: 0.0723\n",
      "Epoch 32/100\n",
      "784/784 [==============================] - ETA: 0s - loss: 0.0554 - mse: 0.0638\n",
      "Epoch 32: loss improved from 0.05666 to 0.05542, saving model to /data2/models/HSC_v6_CNN5pool_v4/checkpoints/cp.ckpt\n",
      "784/784 [==============================] - 843s 1s/step - loss: 0.0554 - mse: 0.0638 - val_loss: 0.0705 - val_mse: 0.0687\n",
      "Epoch 33/100\n",
      "784/784 [==============================] - ETA: 0s - loss: 0.0550 - mse: 0.0662\n",
      "Epoch 33: loss improved from 0.05542 to 0.05504, saving model to /data2/models/HSC_v6_CNN5pool_v4/checkpoints/cp.ckpt\n",
      "784/784 [==============================] - 719s 917ms/step - loss: 0.0550 - mse: 0.0662 - val_loss: 0.0662 - val_mse: 0.0710\n",
      "Epoch 34/100\n",
      "784/784 [==============================] - ETA: 0s - loss: 0.0576 - mse: 0.0633\n",
      "Epoch 34: loss did not improve from 0.05504\n",
      "784/784 [==============================] - 928s 1s/step - loss: 0.0576 - mse: 0.0633 - val_loss: 0.0714 - val_mse: 0.0772\n",
      "Epoch 35/100\n",
      "784/784 [==============================] - ETA: 0s - loss: 0.0516 - mse: 0.0610\n",
      "Epoch 35: loss improved from 0.05504 to 0.05162, saving model to /data2/models/HSC_v6_CNN5pool_v4/checkpoints/cp.ckpt\n",
      "784/784 [==============================] - 774s 986ms/step - loss: 0.0516 - mse: 0.0610 - val_loss: 0.0633 - val_mse: 0.0667\n",
      "Epoch 36/100\n",
      "784/784 [==============================] - ETA: 0s - loss: 0.0528 - mse: 0.0607\n",
      "Epoch 36: loss did not improve from 0.05162\n",
      "784/784 [==============================] - 790s 1s/step - loss: 0.0528 - mse: 0.0607 - val_loss: 0.0627 - val_mse: 0.0640\n",
      "Epoch 37/100\n",
      "784/784 [==============================] - ETA: 0s - loss: 0.0527 - mse: 0.0612\n",
      "Epoch 37: loss did not improve from 0.05162\n",
      "784/784 [==============================] - 577s 736ms/step - loss: 0.0527 - mse: 0.0612 - val_loss: 0.0633 - val_mse: 0.0633\n",
      "Epoch 38/100\n",
      "784/784 [==============================] - ETA: 0s - loss: 0.0497 - mse: 0.0607\n",
      "Epoch 38: loss improved from 0.05162 to 0.04972, saving model to /data2/models/HSC_v6_CNN5pool_v4/checkpoints/cp.ckpt\n",
      "784/784 [==============================] - 649s 828ms/step - loss: 0.0497 - mse: 0.0607 - val_loss: 0.0617 - val_mse: 0.0659\n",
      "Epoch 39/100\n",
      "784/784 [==============================] - ETA: 0s - loss: 0.0476 - mse: 0.0587\n",
      "Epoch 39: loss improved from 0.04972 to 0.04759, saving model to /data2/models/HSC_v6_CNN5pool_v4/checkpoints/cp.ckpt\n",
      "784/784 [==============================] - 667s 850ms/step - loss: 0.0476 - mse: 0.0587 - val_loss: 0.0616 - val_mse: 0.0637\n",
      "Epoch 40/100\n",
      "784/784 [==============================] - ETA: 0s - loss: 0.0547 - mse: 0.0571\n",
      "Epoch 40: loss did not improve from 0.04759\n",
      "784/784 [==============================] - 703s 897ms/step - loss: 0.0547 - mse: 0.0571 - val_loss: 0.0610 - val_mse: 0.0606\n",
      "Epoch 41/100\n",
      "784/784 [==============================] - ETA: 0s - loss: 0.0463 - mse: 0.0519\n",
      "Epoch 41: loss improved from 0.04759 to 0.04625, saving model to /data2/models/HSC_v6_CNN5pool_v4/checkpoints/cp.ckpt\n",
      "784/784 [==============================] - 773s 986ms/step - loss: 0.0463 - mse: 0.0519 - val_loss: 0.0598 - val_mse: 0.0568\n",
      "Epoch 42/100\n",
      "784/784 [==============================] - ETA: 0s - loss: 0.0447 - mse: 0.0486\n",
      "Epoch 42: loss improved from 0.04625 to 0.04469, saving model to /data2/models/HSC_v6_CNN5pool_v4/checkpoints/cp.ckpt\n",
      "784/784 [==============================] - 768s 979ms/step - loss: 0.0447 - mse: 0.0486 - val_loss: 0.0673 - val_mse: 0.0697\n",
      "Epoch 43/100\n",
      "784/784 [==============================] - ETA: 0s - loss: 0.0530 - mse: 0.0540\n",
      "Epoch 43: loss did not improve from 0.04469\n",
      "784/784 [==============================] - 845s 1s/step - loss: 0.0530 - mse: 0.0540 - val_loss: 0.0606 - val_mse: 0.0560\n",
      "Epoch 44/100\n",
      "784/784 [==============================] - ETA: 0s - loss: 0.0449 - mse: 0.0490\n",
      "Epoch 44: loss did not improve from 0.04469\n",
      "784/784 [==============================] - 833s 1s/step - loss: 0.0449 - mse: 0.0490 - val_loss: 0.0627 - val_mse: 0.0612\n",
      "Epoch 45/100\n",
      "784/784 [==============================] - ETA: 0s - loss: 0.0443 - mse: 0.0511\n",
      "Epoch 45: loss improved from 0.04469 to 0.04434, saving model to /data2/models/HSC_v6_CNN5pool_v4/checkpoints/cp.ckpt\n",
      "784/784 [==============================] - 772s 984ms/step - loss: 0.0443 - mse: 0.0511 - val_loss: 0.0618 - val_mse: 0.0636\n",
      "Epoch 46/100\n",
      "784/784 [==============================] - ETA: 0s - loss: 0.0428 - mse: 0.0467\n",
      "Epoch 46: loss improved from 0.04434 to 0.04278, saving model to /data2/models/HSC_v6_CNN5pool_v4/checkpoints/cp.ckpt\n",
      "784/784 [==============================] - 713s 909ms/step - loss: 0.0428 - mse: 0.0467 - val_loss: 0.0590 - val_mse: 0.0552\n",
      "Epoch 47/100\n",
      "784/784 [==============================] - ETA: 0s - loss: 0.0439 - mse: 0.0476\n",
      "Epoch 47: loss did not improve from 0.04278\n",
      "784/784 [==============================] - 785s 1s/step - loss: 0.0439 - mse: 0.0476 - val_loss: 0.0649 - val_mse: 0.0571\n",
      "Epoch 48/100\n",
      "784/784 [==============================] - ETA: 0s - loss: 0.0448 - mse: 0.0488\n",
      "Epoch 48: loss did not improve from 0.04278\n",
      "784/784 [==============================] - 719s 916ms/step - loss: 0.0448 - mse: 0.0488 - val_loss: 0.0610 - val_mse: 0.0570\n",
      "Epoch 49/100\n",
      "784/784 [==============================] - ETA: 0s - loss: 0.0449 - mse: 0.0501\n",
      "Epoch 49: loss did not improve from 0.04278\n",
      "784/784 [==============================] - 812s 1s/step - loss: 0.0449 - mse: 0.0501 - val_loss: 0.0621 - val_mse: 0.0547\n",
      "Epoch 50/100\n",
      "639/784 [=======================>......] - ETA: 1:47 - loss: 0.0401 - mse: 0.0449"
     ]
    },
    {
     "name": "stderr",
     "output_type": "stream",
     "text": [
      "IOPub message rate exceeded.\n",
      "The Jupyter server will temporarily stop sending output\n",
      "to the client in order to avoid crashing it.\n",
      "To change this limit, set the config variable\n",
      "`--ServerApp.iopub_msg_rate_limit`.\n",
      "\n",
      "Current values:\n",
      "ServerApp.iopub_msg_rate_limit=1000.0 (msgs/sec)\n",
      "ServerApp.rate_limit_window=3.0 (secs)\n",
      "\n"
     ]
    },
    {
     "name": "stdout",
     "output_type": "stream",
     "text": [
      "784/784 [==============================] - ETA: 0s - loss: 0.0336 - mse: 0.0446\n",
      "Epoch 73: loss did not improve from 0.03064\n",
      "784/784 [==============================] - 760s 969ms/step - loss: 0.0336 - mse: 0.0446 - val_loss: 0.0579 - val_mse: 0.0547\n",
      "Epoch 74/100\n",
      "784/784 [==============================] - ETA: 0s - loss: 0.0312 - mse: 0.0371\n",
      "Epoch 74: loss did not improve from 0.03064\n",
      "784/784 [==============================] - 796s 1s/step - loss: 0.0312 - mse: 0.0371 - val_loss: 0.0579 - val_mse: 0.0543\n",
      "Epoch 75/100\n",
      "784/784 [==============================] - ETA: 0s - loss: 0.0300 - mse: 0.0358\n",
      "Epoch 75: loss improved from 0.03064 to 0.03001, saving model to /data2/models/HSC_v6_CNN5pool_v4/checkpoints/cp.ckpt\n",
      "784/784 [==============================] - 821s 1s/step - loss: 0.0300 - mse: 0.0358 - val_loss: 0.0581 - val_mse: 0.0519\n",
      "Epoch 76/100\n",
      "784/784 [==============================] - ETA: 0s - loss: 0.0288 - mse: 0.0345\n",
      "Epoch 76: loss improved from 0.03001 to 0.02882, saving model to /data2/models/HSC_v6_CNN5pool_v4/checkpoints/cp.ckpt\n",
      "784/784 [==============================] - 811s 1s/step - loss: 0.0288 - mse: 0.0345 - val_loss: 0.0582 - val_mse: 0.0542\n",
      "Epoch 77/100\n",
      "137/784 [====>.........................] - ETA: 11:17 - loss: 0.0279 - mse: 0.0314"
     ]
    },
    {
     "name": "stderr",
     "output_type": "stream",
     "text": [
      "IOPub message rate exceeded.\n",
      "The Jupyter server will temporarily stop sending output\n",
      "to the client in order to avoid crashing it.\n",
      "To change this limit, set the config variable\n",
      "`--ServerApp.iopub_msg_rate_limit`.\n",
      "\n",
      "Current values:\n",
      "ServerApp.iopub_msg_rate_limit=1000.0 (msgs/sec)\n",
      "ServerApp.rate_limit_window=3.0 (secs)\n",
      "\n"
     ]
    },
    {
     "name": "stdout",
     "output_type": "stream",
     "text": [
      "784/784 [==============================] - ETA: 0s - loss: 0.0258 - mse: 0.0326\n",
      "Epoch 89: loss did not improve from 0.02499\n",
      "784/784 [==============================] - 646s 823ms/step - loss: 0.0258 - mse: 0.0326 - val_loss: 0.0587 - val_mse: 0.0513\n",
      "Epoch 90/100\n",
      "784/784 [==============================] - ETA: 0s - loss: 0.0251 - mse: 0.0325\n",
      "Epoch 90: loss did not improve from 0.02499\n",
      "784/784 [==============================] - 609s 777ms/step - loss: 0.0251 - mse: 0.0325 - val_loss: 0.0588 - val_mse: 0.0526\n",
      "Epoch 91/100\n",
      "784/784 [==============================] - ETA: 0s - loss: 0.0263 - mse: 0.0327\n",
      "Epoch 91: loss did not improve from 0.02499\n",
      "784/784 [==============================] - 628s 801ms/step - loss: 0.0263 - mse: 0.0327 - val_loss: 0.0614 - val_mse: 0.0556\n",
      "Epoch 92/100\n",
      "784/784 [==============================] - ETA: 0s - loss: 0.0228 - mse: 0.0302\n",
      "Epoch 92: loss improved from 0.02499 to 0.02283, saving model to /data2/models/HSC_v6_CNN5pool_v4/checkpoints/cp.ckpt\n",
      "784/784 [==============================] - 661s 844ms/step - loss: 0.0228 - mse: 0.0302 - val_loss: 0.0598 - val_mse: 0.0512\n",
      "Epoch 93/100\n",
      "784/784 [==============================] - ETA: 0s - loss: 0.0218 - mse: 0.0288\n",
      "Epoch 93: loss improved from 0.02283 to 0.02181, saving model to /data2/models/HSC_v6_CNN5pool_v4/checkpoints/cp.ckpt\n",
      "784/784 [==============================] - 663s 846ms/step - loss: 0.0218 - mse: 0.0288 - val_loss: 0.0572 - val_mse: 0.0516\n",
      "Epoch 94/100\n",
      "784/784 [==============================] - ETA: 0s - loss: 0.0249 - mse: 0.0328\n",
      "Epoch 94: loss did not improve from 0.02181\n",
      "784/784 [==============================] - 736s 939ms/step - loss: 0.0249 - mse: 0.0328 - val_loss: 0.0604 - val_mse: 0.0533\n",
      "Epoch 95/100\n",
      "784/784 [==============================] - ETA: 0s - loss: 0.0235 - mse: 0.0310\n",
      "Epoch 95: loss did not improve from 0.02181\n",
      "784/784 [==============================] - 682s 870ms/step - loss: 0.0235 - mse: 0.0310 - val_loss: 0.0589 - val_mse: 0.0521\n",
      "Epoch 96/100\n",
      "784/784 [==============================] - ETA: 0s - loss: 0.0221 - mse: 0.0296\n",
      "Epoch 96: loss did not improve from 0.02181\n",
      "784/784 [==============================] - 621s 792ms/step - loss: 0.0221 - mse: 0.0296 - val_loss: 0.0592 - val_mse: 0.0530\n",
      "Epoch 97/100\n",
      "784/784 [==============================] - ETA: 0s - loss: 0.0231 - mse: 0.0310\n",
      "Epoch 97: loss did not improve from 0.02181\n",
      "784/784 [==============================] - 590s 753ms/step - loss: 0.0231 - mse: 0.0310 - val_loss: 0.0591 - val_mse: 0.0520\n",
      "Epoch 98/100\n",
      "784/784 [==============================] - ETA: 0s - loss: 0.0226 - mse: 0.0303\n",
      "Epoch 98: loss did not improve from 0.02181\n",
      "784/784 [==============================] - 598s 762ms/step - loss: 0.0226 - mse: 0.0303 - val_loss: 0.0596 - val_mse: 0.0512\n",
      "Epoch 99/100\n",
      "784/784 [==============================] - ETA: 0s - loss: 0.0210 - mse: 0.0275\n",
      "Epoch 99: loss improved from 0.02181 to 0.02097, saving model to /data2/models/HSC_v6_CNN5pool_v4/checkpoints/cp.ckpt\n",
      "784/784 [==============================] - 569s 725ms/step - loss: 0.0210 - mse: 0.0275 - val_loss: 0.0573 - val_mse: 0.0496\n",
      "Epoch 100/100\n",
      "784/784 [==============================] - ETA: 0s - loss: 0.0213 - mse: 0.0287\n",
      "Epoch 100: loss did not improve from 0.02097\n",
      "784/784 [==============================] - 587s 749ms/step - loss: 0.0213 - mse: 0.0287 - val_loss: 0.0599 - val_mse: 0.0532\n"
     ]
    },
    {
     "data": {
      "text/plain": [
       "<keras.callbacks.History at 0x7f1406994b20>"
      ]
     },
     "execution_count": 10,
     "metadata": {},
     "output_type": "execute_result"
    }
   ],
   "source": [
    "model.fit(train_gen, epochs=EPOCHS, shuffle=True, verbose=1, validation_data=val_gen, callbacks=[tensorboard_callback, model_checkpoint_callback, hparam_callback])"
   ]
  },
  {
   "cell_type": "code",
   "execution_count": 11,
   "id": "9b1cd1b4",
   "metadata": {},
   "outputs": [
    {
     "data": {
      "text/plain": [
       "<tensorflow.python.checkpoint.checkpoint.CheckpointLoadStatus at 0x7f14051a7f10>"
      ]
     },
     "execution_count": 11,
     "metadata": {},
     "output_type": "execute_result"
    }
   ],
   "source": [
    "model.load_weights(checkpoint_filepath)"
   ]
  },
  {
   "cell_type": "code",
   "execution_count": 12,
   "id": "16122695-fc68-42b7-b2c3-ac6f1451f421",
   "metadata": {},
   "outputs": [
    {
     "name": "stdout",
     "output_type": "stream",
     "text": [
      "168/168 [==============================] - 111s 659ms/step\n"
     ]
    }
   ],
   "source": [
    "pred = model.predict(test_gen)"
   ]
  },
  {
   "cell_type": "code",
   "execution_count": 13,
   "id": "05df134b-2473-4f3c-9628-c301da47609d",
   "metadata": {},
   "outputs": [],
   "source": [
    "with h5py.File(TEST_PATH, 'r') as file:\n",
    "    y_test = np.asarray(file['specz_redshift'][:])\n",
    "    oid_test = np.asarray(file['object_id'][:])"
   ]
  },
  {
   "cell_type": "code",
   "execution_count": 14,
   "id": "e4b2d239-48eb-40d9-8f7c-7a57b7e03bca",
   "metadata": {},
   "outputs": [
    {
     "data": {
      "image/png": "[encoded data removed]",
      "text/plain": [
       "<Figure size 1000x1000 with 2 Axes>"
      ]
     },
     "metadata": {},
     "output_type": "display_data"
    }
   ],
   "source": [
    "plot_predictions(np.ravel(pred), y_test)"
   ]
  },
  {
   "cell_type": "code",
   "execution_count": 15,
   "id": "5f2458f7-4bad-4afb-bb0b-2d3684f9c830",
   "metadata": {},
   "outputs": [],
   "source": [
    "metrics = get_point_metrics(pd.Series(np.ravel(pred)), pd.Series(y_test), binned=False)"
   ]
  },
  {
   "cell_type": "code",
   "execution_count": 16,
   "id": "30c41482-1770-44dc-a51d-0a30e7625a17",
   "metadata": {},
   "outputs": [
    {
     "data": {
      "text/html": [
       "<div>\n",
       "<style scoped>\n",
       "    .dataframe tbody tr th:only-of-type {\n",
       "        vertical-align: middle;\n",
       "    }\n",
       "\n",
       "    .dataframe tbody tr th {\n",
       "        vertical-align: top;\n",
       "    }\n",
       "\n",
       "    .dataframe thead th {\n",
       "        text-align: right;\n",
       "    }\n",
       "</style>\n",
       "<table border=\"1\" class=\"dataframe\">\n",
       "  <thead>\n",
       "    <tr style=\"text-align: right;\">\n",
       "      <th></th>\n",
       "      <th>zspec_bin</th>\n",
       "      <th>count</th>\n",
       "      <th>L</th>\n",
       "      <th>bias_bw</th>\n",
       "      <th>bias_conv</th>\n",
       "      <th>scatter_bw</th>\n",
       "      <th>scatter_conv</th>\n",
       "      <th>outlier_bw</th>\n",
       "      <th>outlier_conv</th>\n",
       "      <th>mse</th>\n",
       "    </tr>\n",
       "  </thead>\n",
       "  <tbody>\n",
       "    <tr>\n",
       "      <th>0</th>\n",
       "      <td>(0.0, 4.0]</td>\n",
       "      <td>42960</td>\n",
       "      <td>0.056821</td>\n",
       "      <td>0.002055</td>\n",
       "      <td>0.0024</td>\n",
       "      <td>0.020513</td>\n",
       "      <td>0.017445</td>\n",
       "      <td>0.137803</td>\n",
       "      <td>0.036778</td>\n",
       "      <td>0.048397</td>\n",
       "    </tr>\n",
       "  </tbody>\n",
       "</table>\n",
       "</div>"
      ],
      "text/plain": [
       "    zspec_bin  count         L   bias_bw  bias_conv  scatter_bw  scatter_conv  \\\n",
       "0  (0.0, 4.0]  42960  0.056821  0.002055     0.0024    0.020513      0.017445   \n",
       "\n",
       "   outlier_bw  outlier_conv       mse  \n",
       "0    0.137803      0.036778  0.048397  "
      ]
     },
     "execution_count": 16,
     "metadata": {},
     "output_type": "execute_result"
    }
   ],
   "source": [
    "metrics"
   ]
  },
  {
   "cell_type": "code",
   "execution_count": 17,
   "id": "f51fbd61-2a25-4e38-a5e5-7c4a54d57e53",
   "metadata": {},
   "outputs": [],
   "source": [
    "df = pd.DataFrame(pred, columns=['photoz'])\n",
    "df['specz'] = pd.Series(y_test)\n",
    "df['object_id'] = pd.Series(oid_test)\n",
    "os.makedirs(f'/data2/predictions/{model_name}', exist_ok=True)\n",
    "df.to_csv(f'/data2/predictions/{model_name}/testing_predictions.csv', index=False)\n",
    "metrics.to_csv(f'/data2/predictions/{model_name}/testing_metrics.csv', index=False)"
   ]
  }
 ],
 "metadata": {
  "kernelspec": {
   "display_name": "Python 3 (ipykernel)",
   "language": "python",
   "name": "python3"
  },
  "language_info": {
   "codemirror_mode": {
    "name": "ipython",
    "version": 3
   },
   "file_extension": ".py",
   "mimetype": "text/x-python",
   "name": "python",
   "nbconvert_exporter": "python",
   "pygments_lexer": "ipython3",
   "version": "3.10.10"
  }
 },
 "nbformat": 4,
 "nbformat_minor": 5
}
