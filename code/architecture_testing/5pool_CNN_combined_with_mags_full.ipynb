{
 "cells": [
  {
   "cell_type": "code",
   "execution_count": 1,
   "id": "8a9195a9",
   "metadata": {},
   "outputs": [],
   "source": [
    "import tensorflow as tf\n",
    "import tensorflow_probability as tfp\n",
    "import pandas as pd\n",
    "import numpy as np\n",
    "import matplotlib.pyplot as plt\n",
    "import h5py\n",
    "import keras\n",
    "import os\n",
    "import tensorboard\n",
    "from tensorflow.keras.models import Sequential, Model\n",
    "from tensorflow.keras.layers import Dense, Conv2D, MaxPooling2D, Flatten, Dropout, Input, Concatenate\n",
    "from tensorflow.keras.regularizers import L2\n",
    "from tensorflow.keras.optimizers import Adam\n",
    "from sklearn.preprocessing import StandardScaler\n",
    "from tensorboard.plugins.hparams import api as hp\n",
    "\n",
    "from photoz_utils import *\n",
    "from DataMakerPlus import *"
   ]
  },
  {
   "cell_type": "code",
   "execution_count": 2,
   "id": "1e0276b4",
   "metadata": {},
   "outputs": [],
   "source": [
    "GB_LIMIT = 10"
   ]
  },
  {
   "cell_type": "code",
   "execution_count": 3,
   "id": "399daa8b",
   "metadata": {},
   "outputs": [
    {
     "name": "stdout",
     "output_type": "stream",
     "text": [
      "1 Physical GPUs, 1 Logical GPUs\n"
     ]
    }
   ],
   "source": [
    "gpus = tf.config.list_physical_devices('GPU')\n",
    "if gpus:\n",
    "    try:\n",
    "        tf.config.experimental.set_virtual_device_configuration(\n",
    "            gpus[0],\n",
    "            [tf.config.experimental.VirtualDeviceConfiguration(GB_LIMIT*1000)])\n",
    "        logical_gpus = tf.config.experimental.list_logical_devices('GPU')\n",
    "        print(len(gpus), \"Physical GPUs,\", len(logical_gpus), \"Logical GPUs\")\n",
    "    except RuntimeError as e:\n",
    "        print(e)"
   ]
  },
  {
   "cell_type": "code",
   "execution_count": 4,
   "id": "c193e0a6",
   "metadata": {},
   "outputs": [],
   "source": [
    "IMAGE_SHAPE = (5, 127, 127)\n",
    "NUM_DENSE_UNITS = 200\n",
    "BATCH_SIZE = 256\n",
    "NUM_EPOCHS = 100\n",
    "LEARNING_RATE = 0.0001\n",
    "Z_MAX = 4\n",
    "hparams = {\n",
    "    'num_dense_units': NUM_DENSE_UNITS,\n",
    "    'batch_size': BATCH_SIZE,\n",
    "    'num_epochs': NUM_EPOCHS,\n",
    "    'learning_rate': LEARNING_RATE,\n",
    "    'z_max': Z_MAX\n",
    "}"
   ]
  },
  {
   "cell_type": "code",
   "execution_count": 5,
   "id": "ab5fe813",
   "metadata": {},
   "outputs": [],
   "source": [
    "TRAIN_PATH = f'/data/HSC/HSC_v6/step2A/127x127/five_band_image127x127_with_metadata_corrected_training.hdf5'\n",
    "VAL_PATH = f'/data/HSC/HSC_v6/step2A/127x127/five_band_image127x127_with_metadata_corrected_validation.hdf5'\n",
    "TEST_PATH = f'/data/HSC/HSC_v6/step2A/127x127/five_band_image127x127_with_metadata_corrected_testing.hdf5'"
   ]
  },
  {
   "cell_type": "code",
   "execution_count": 6,
   "id": "1334d95b",
   "metadata": {},
   "outputs": [],
   "source": [
    "args_gen = {\n",
    "    'scaler': True,\n",
    "    'labels_encoding': False,\n",
    "    'batch_size': BATCH_SIZE,\n",
    "    'mode': 'train',\n",
    "    'shuffle': False}"
   ]
  },
  {
   "cell_type": "code",
   "execution_count": 7,
   "id": "104ba46b",
   "metadata": {},
   "outputs": [],
   "source": [
    "train_images = HDF5DataGenerator(src=TRAIN_PATH, label_key='image', **args_gen)\n",
    "val_images = HDF5DataGenerator(src=VAL_PATH, label_key='image', **args_gen)\n",
    "test_images = HDF5DataGenerator(src=TEST_PATH, label_key='image', **args_gen)\n",
    "\n",
    "train_g = HDF5DataGenerator(src=TRAIN_PATH, label_key='g_cmodel_mag', **args_gen)\n",
    "val_g = HDF5DataGenerator(src=VAL_PATH, label_key='g_cmodel_mag', **args_gen)\n",
    "test_g = HDF5DataGenerator(src=TEST_PATH, label_key='g_cmodel_mag', **args_gen)\n",
    "\n",
    "train_r = HDF5DataGenerator(src=TRAIN_PATH, label_key='r_cmodel_mag', **args_gen)\n",
    "val_r = HDF5DataGenerator(src=VAL_PATH, label_key='r_cmodel_mag', **args_gen)\n",
    "test_r = HDF5DataGenerator(src=TEST_PATH, label_key='r_cmodel_mag', **args_gen)\n",
    "\n",
    "train_i = HDF5DataGenerator(src=TRAIN_PATH, label_key='i_cmodel_mag', **args_gen)\n",
    "val_i = HDF5DataGenerator(src=VAL_PATH, label_key='i_cmodel_mag', **args_gen)\n",
    "test_i = HDF5DataGenerator(src=TEST_PATH, label_key='i_cmodel_mag', **args_gen)\n",
    "\n",
    "train_z = HDF5DataGenerator(src=TRAIN_PATH, label_key='z_cmodel_mag', **args_gen)\n",
    "val_z = HDF5DataGenerator(src=VAL_PATH, label_key='z_cmodel_mag', **args_gen)\n",
    "test_z = HDF5DataGenerator(src=TEST_PATH, label_key='z_cmodel_mag', **args_gen)\n",
    "\n",
    "train_y = HDF5DataGenerator(src=TRAIN_PATH, label_key='y_cmodel_mag', **args_gen)\n",
    "val_y = HDF5DataGenerator(src=VAL_PATH, label_key='y_cmodel_mag', **args_gen)\n",
    "test_y = HDF5DataGenerator(src=TEST_PATH, label_key='y_cmodel_mag', **args_gen)\n",
    "\n",
    "train_specz = HDF5DataGenerator(src=TRAIN_PATH, label_key='specz_redshift', **args_gen)\n",
    "val_specz = HDF5DataGenerator(src=VAL_PATH, label_key='specz_redshift', **args_gen)\n",
    "test_specz = HDF5DataGenerator(src=TEST_PATH, label_key='specz_redshift', **args_gen)"
   ]
  },
  {
   "cell_type": "code",
   "execution_count": 8,
   "id": "2b5f4ea3",
   "metadata": {},
   "outputs": [],
   "source": [
    "train_mags = JoinedMags(train_g, train_r, train_i, train_z, train_y)\n",
    "val_mags = JoinedMags(val_g, val_r, val_i, val_z, val_y)\n",
    "test_mags = JoinedMags(test_g, test_r, test_i, test_z, test_y)"
   ]
  },
  {
   "cell_type": "code",
   "execution_count": 9,
   "id": "d398ea66",
   "metadata": {},
   "outputs": [],
   "source": [
    "train_gen = JoinedGen(train_images, train_mags, train_specz)\n",
    "val_gen = JoinedGen(val_images, val_mags, val_specz)\n",
    "test_gen = JoinedGen(test_images, test_mags, test_specz)"
   ]
  },
  {
   "cell_type": "code",
   "execution_count": 10,
   "id": "6053b02c",
   "metadata": {},
   "outputs": [],
   "source": [
    "import keras.backend as K\n",
    "\n",
    "def calculate_loss(z_photo, z_spec):\n",
    "    \"\"\"\n",
    "    HSC METRIC. Returns an array. Loss is accuracy metric defined by HSC, meant\n",
    "    to capture the effects of bias, scatter, and outlier all in one. This has\n",
    "    uses for both point and density estimation.\n",
    "    z_photo: array\n",
    "        Photometric or predicted redshifts.\n",
    "    z_spec: array\n",
    "        Spectroscopic or actual redshifts.\n",
    "    \"\"\"\n",
    "    dz = delz(z_photo, z_spec)\n",
    "    gamma = 0.15\n",
    "    denominator = 1.0 + K.square(dz/gamma)\n",
    "    loss = 1 - 1.0 / denominator\n",
    "    return loss"
   ]
  },
  {
   "cell_type": "code",
   "execution_count": 11,
   "id": "e1b768da",
   "metadata": {},
   "outputs": [],
   "source": [
    "input_cnn = Input(shape=(5,127,127))\n",
    "input_nn = Input(shape=(5,))\n",
    "\n",
    "# CNN\n",
    "conv1 = Conv2D(32, kernel_size=(3, 3), activation='tanh', padding='same', data_format='channels_first')(input_cnn)\n",
    "pool1 = MaxPooling2D(pool_size = (2,2), data_format='channels_first')(conv1)\n",
    "conv2 = Conv2D(64, kernel_size=(2,2), activation='tanh', padding='same', data_format='channels_first')(pool1)\n",
    "pool2 = MaxPooling2D(pool_size = (2,2), data_format='channels_first')(conv2)\n",
    "conv3 = Conv2D(128, kernel_size=(2,2), activation='tanh', padding='same', data_format='channels_first')(pool2)\n",
    "pool3 = MaxPooling2D(pool_size = (2,2), data_format='channels_first')(conv3)\n",
    "conv4 = Conv2D(256, kernel_size=(2,2), activation='tanh', padding='same', data_format='channels_first')(pool3)\n",
    "pool4 = MaxPooling2D(pool_size = (2,2), data_format='channels_first')(conv4)\n",
    "conv5 = Conv2D(256, kernel_size=(2,2), activation='tanh', padding='same', data_format='channels_first')(pool4)\n",
    "pool5 = MaxPooling2D(pool_size = (2,2), data_format='channels_first')(conv5)\n",
    "conv6 = Conv2D(512, kernel_size=(3,3),activation='relu', padding='same', data_format='channels_first')(pool5)\n",
    "conv7 = Conv2D(512, kernel_size=(2,2),activation='relu', padding='same', data_format='channels_first')(conv6)\n",
    "flatten = Flatten()(conv7)\n",
    "dense1 = Dense(512, activation='tanh')(flatten)\n",
    "dense2 = Dense(128, activation='tanh')(dense1)\n",
    "dense3 = Dense(32, activation='tanh')(dense2)\n",
    "\n",
    "# NN\n",
    "hidden1 = Dense(hparams['num_dense_units'], activation=\"relu\")(input_nn)\n",
    "hidden2 = Dense(hparams['num_dense_units'], activation=\"relu\")(hidden1)\n",
    "hidden3 = Dense(hparams['num_dense_units'], activation=\"relu\")(hidden2)\n",
    "hidden4 = Dense(hparams['num_dense_units'], activation=\"relu\")(hidden3)\n",
    "\n",
    "# Concat & Output\n",
    "concat = Concatenate()([dense3, hidden4])\n",
    "distribution_params = Dense(units=2)(concat)\n",
    "output = tfp.layers.IndependentNormal(1)(distribution_params)\n",
    "model = Model(inputs=[input_cnn, input_nn], outputs=[output])"
   ]
  },
  {
   "cell_type": "code",
   "execution_count": 12,
   "id": "51b40cc1",
   "metadata": {},
   "outputs": [
    {
     "name": "stdout",
     "output_type": "stream",
     "text": [
      "Model: \"model\"\n",
      "__________________________________________________________________________________________________\n",
      "Layer (type)                    Output Shape         Param #     Connected to                     \n",
      "==================================================================================================\n",
      "input_1 (InputLayer)            [(None, 5, 127, 127) 0                                            \n",
      "__________________________________________________________________________________________________\n",
      "conv2d (Conv2D)                 (None, 32, 127, 127) 1472        input_1[0][0]                    \n",
      "__________________________________________________________________________________________________\n",
      "max_pooling2d (MaxPooling2D)    (None, 32, 63, 63)   0           conv2d[0][0]                     \n",
      "__________________________________________________________________________________________________\n",
      "conv2d_1 (Conv2D)               (None, 64, 63, 63)   8256        max_pooling2d[0][0]              \n",
      "__________________________________________________________________________________________________\n",
      "max_pooling2d_1 (MaxPooling2D)  (None, 64, 31, 31)   0           conv2d_1[0][0]                   \n",
      "__________________________________________________________________________________________________\n",
      "conv2d_2 (Conv2D)               (None, 128, 31, 31)  32896       max_pooling2d_1[0][0]            \n",
      "__________________________________________________________________________________________________\n",
      "max_pooling2d_2 (MaxPooling2D)  (None, 128, 15, 15)  0           conv2d_2[0][0]                   \n",
      "__________________________________________________________________________________________________\n",
      "conv2d_3 (Conv2D)               (None, 256, 15, 15)  131328      max_pooling2d_2[0][0]            \n",
      "__________________________________________________________________________________________________\n",
      "max_pooling2d_3 (MaxPooling2D)  (None, 256, 7, 7)    0           conv2d_3[0][0]                   \n",
      "__________________________________________________________________________________________________\n",
      "conv2d_4 (Conv2D)               (None, 256, 7, 7)    262400      max_pooling2d_3[0][0]            \n",
      "__________________________________________________________________________________________________\n",
      "max_pooling2d_4 (MaxPooling2D)  (None, 256, 3, 3)    0           conv2d_4[0][0]                   \n",
      "__________________________________________________________________________________________________\n",
      "conv2d_5 (Conv2D)               (None, 512, 3, 3)    1180160     max_pooling2d_4[0][0]            \n",
      "__________________________________________________________________________________________________\n",
      "conv2d_6 (Conv2D)               (None, 512, 3, 3)    1049088     conv2d_5[0][0]                   \n",
      "__________________________________________________________________________________________________\n",
      "input_2 (InputLayer)            [(None, 5)]          0                                            \n",
      "__________________________________________________________________________________________________\n",
      "flatten (Flatten)               (None, 4608)         0           conv2d_6[0][0]                   \n",
      "__________________________________________________________________________________________________\n",
      "dense_3 (Dense)                 (None, 200)          1200        input_2[0][0]                    \n",
      "__________________________________________________________________________________________________\n",
      "dense (Dense)                   (None, 512)          2359808     flatten[0][0]                    \n",
      "__________________________________________________________________________________________________\n",
      "dense_4 (Dense)                 (None, 200)          40200       dense_3[0][0]                    \n",
      "__________________________________________________________________________________________________\n",
      "dense_1 (Dense)                 (None, 128)          65664       dense[0][0]                      \n",
      "__________________________________________________________________________________________________\n",
      "dense_5 (Dense)                 (None, 200)          40200       dense_4[0][0]                    \n",
      "__________________________________________________________________________________________________\n",
      "dense_2 (Dense)                 (None, 32)           4128        dense_1[0][0]                    \n",
      "__________________________________________________________________________________________________\n",
      "dense_6 (Dense)                 (None, 200)          40200       dense_5[0][0]                    \n",
      "__________________________________________________________________________________________________\n",
      "concatenate (Concatenate)       (None, 232)          0           dense_2[0][0]                    \n",
      "                                                                 dense_6[0][0]                    \n",
      "__________________________________________________________________________________________________\n",
      "dense_7 (Dense)                 (None, 2)            466         concatenate[0][0]                \n",
      "__________________________________________________________________________________________________\n",
      "independent_normal (Independent multiple             0           dense_7[0][0]                    \n",
      "==================================================================================================\n",
      "Total params: 5,217,466\n",
      "Trainable params: 5,217,466\n",
      "Non-trainable params: 0\n",
      "__________________________________________________________________________________________________\n"
     ]
    }
   ],
   "source": [
    "model.summary()"
   ]
  },
  {
   "cell_type": "code",
   "execution_count": 13,
   "id": "0f180343",
   "metadata": {},
   "outputs": [],
   "source": [
    "model.compile(optimizer=Adam(learning_rate=hparams['learning_rate']), loss=calculate_loss, metrics='mse')"
   ]
  },
  {
   "cell_type": "code",
   "execution_count": 14,
   "id": "83073425",
   "metadata": {},
   "outputs": [],
   "source": [
    "model_name = 'HSC_v6_NN_neurips_combined_with_5pool_v7'\n",
    "\n",
    "checkpoint_filepath = f'/models/{model_name}/checkpoints/cp.ckpt'\n",
    "checkpoint_dir = os.path.dirname(checkpoint_filepath)\n",
    "log_dir = os.path.join('/logs/', model_name)\n",
    "\n",
    "model_checkpoint_callback = tf.keras.callbacks.ModelCheckpoint(\n",
    "    filepath=checkpoint_filepath,\n",
    "    save_weights_only=True,\n",
    "    monitor='loss',\n",
    "    mode='min',\n",
    "    save_freq='epoch',\n",
    "    save_best_only=True,\n",
    "    verbose=True)\n",
    "\n",
    "tensorboard_callback = tf.keras.callbacks.TensorBoard(log_dir=log_dir, histogram_freq=1)\n",
    "\n",
    "hparam_callback = hp.KerasCallback(log_dir, hparams)"
   ]
  },
  {
   "cell_type": "code",
   "execution_count": 15,
   "id": "f9d84ce7",
   "metadata": {},
   "outputs": [
    {
     "name": "stdout",
     "output_type": "stream",
     "text": [
      "Epoch 1/100\n",
      "784/784 [==============================] - 859s 573ms/step - loss: 0.2607 - mse: 0.1750 - val_loss: 0.2008 - val_mse: 0.0940\n",
      "\n",
      "Epoch 00001: loss improved from inf to 0.26066, saving model to /models/HSC_v6_NN_neurips_combined_with_5pool_v7/checkpoints/cp.ckpt\n",
      "Epoch 2/100\n",
      "784/784 [==============================] - 447s 570ms/step - loss: 0.1643 - mse: 0.0942 - val_loss: 0.1554 - val_mse: 0.0818\n",
      "\n",
      "Epoch 00002: loss improved from 0.26066 to 0.16427, saving model to /models/HSC_v6_NN_neurips_combined_with_5pool_v7/checkpoints/cp.ckpt\n",
      "Epoch 3/100\n",
      "784/784 [==============================] - 443s 566ms/step - loss: 0.1411 - mse: 0.0866 - val_loss: 0.1071 - val_mse: 0.0761\n",
      "\n",
      "Epoch 00003: loss improved from 0.16427 to 0.14114, saving model to /models/HSC_v6_NN_neurips_combined_with_5pool_v7/checkpoints/cp.ckpt\n",
      "Epoch 4/100\n",
      "784/784 [==============================] - 447s 571ms/step - loss: 0.1193 - mse: 0.0800 - val_loss: 0.0942 - val_mse: 0.0711\n",
      "\n",
      "Epoch 00004: loss improved from 0.14114 to 0.11926, saving model to /models/HSC_v6_NN_neurips_combined_with_5pool_v7/checkpoints/cp.ckpt\n",
      "Epoch 5/100\n",
      "784/784 [==============================] - 438s 559ms/step - loss: 0.0973 - mse: 0.0734 - val_loss: 0.0856 - val_mse: 0.0668\n",
      "\n",
      "Epoch 00005: loss improved from 0.11926 to 0.09730, saving model to /models/HSC_v6_NN_neurips_combined_with_5pool_v7/checkpoints/cp.ckpt\n",
      "Epoch 6/100\n",
      "784/784 [==============================] - 475s 606ms/step - loss: 0.0922 - mse: 0.0706 - val_loss: 0.0796 - val_mse: 0.0666\n",
      "\n",
      "Epoch 00006: loss improved from 0.09730 to 0.09224, saving model to /models/HSC_v6_NN_neurips_combined_with_5pool_v7/checkpoints/cp.ckpt\n",
      "Epoch 7/100\n",
      "784/784 [==============================] - 500s 638ms/step - loss: 0.0867 - mse: 0.0705 - val_loss: 0.0855 - val_mse: 0.0722\n",
      "\n",
      "Epoch 00007: loss improved from 0.09224 to 0.08669, saving model to /models/HSC_v6_NN_neurips_combined_with_5pool_v7/checkpoints/cp.ckpt\n",
      "Epoch 8/100\n",
      "784/784 [==============================] - 492s 627ms/step - loss: 0.0795 - mse: 0.0669 - val_loss: 0.0799 - val_mse: 0.0650\n",
      "\n",
      "Epoch 00008: loss improved from 0.08669 to 0.07951, saving model to /models/HSC_v6_NN_neurips_combined_with_5pool_v7/checkpoints/cp.ckpt\n",
      "Epoch 9/100\n",
      "784/784 [==============================] - 450s 574ms/step - loss: 0.0728 - mse: 0.0663 - val_loss: 0.0750 - val_mse: 0.0722\n",
      "\n",
      "Epoch 00009: loss improved from 0.07951 to 0.07284, saving model to /models/HSC_v6_NN_neurips_combined_with_5pool_v7/checkpoints/cp.ckpt\n",
      "Epoch 10/100\n",
      "100/784 [==>...........................] - ETA: 5:42 - loss: 0.0612 - mse: 0.0557"
     ]
    },
    {
     "name": "stderr",
     "output_type": "stream",
     "text": [
      "IOPub message rate exceeded.\n",
      "The notebook server will temporarily stop sending output\n",
      "to the client in order to avoid crashing it.\n",
      "To change this limit, set the config variable\n",
      "`--NotebookApp.iopub_msg_rate_limit`.\n",
      "\n",
      "Current values:\n",
      "NotebookApp.iopub_msg_rate_limit=1000.0 (msgs/sec)\n",
      "NotebookApp.rate_limit_window=3.0 (secs)\n",
      "\n"
     ]
    },
    {
     "name": "stdout",
     "output_type": "stream",
     "text": [
      "784/784 [==============================] - 447s 570ms/step - loss: 0.0374 - mse: 0.0471 - val_loss: 0.0613 - val_mse: 0.0602\n",
      "\n",
      "Epoch 00024: loss improved from 0.03897 to 0.03736, saving model to /models/HSC_v6_NN_neurips_combined_with_5pool_v7/checkpoints/cp.ckpt\n",
      "Epoch 25/100\n",
      "784/784 [==============================] - 446s 568ms/step - loss: 0.0368 - mse: 0.0453 - val_loss: 0.0609 - val_mse: 0.0565\n",
      "\n",
      "Epoch 00025: loss improved from 0.03736 to 0.03685, saving model to /models/HSC_v6_NN_neurips_combined_with_5pool_v7/checkpoints/cp.ckpt\n",
      "Epoch 26/100\n",
      "784/784 [==============================] - 492s 628ms/step - loss: 0.0352 - mse: 0.0437 - val_loss: 0.0639 - val_mse: 0.0578\n",
      "\n",
      "Epoch 00026: loss improved from 0.03685 to 0.03518, saving model to /models/HSC_v6_NN_neurips_combined_with_5pool_v7/checkpoints/cp.ckpt\n",
      "Epoch 27/100\n",
      "784/784 [==============================] - 455s 580ms/step - loss: 0.0331 - mse: 0.0412 - val_loss: 0.0611 - val_mse: 0.0530\n",
      "\n",
      "Epoch 00027: loss improved from 0.03518 to 0.03308, saving model to /models/HSC_v6_NN_neurips_combined_with_5pool_v7/checkpoints/cp.ckpt\n",
      "Epoch 28/100\n",
      "212/784 [=======>......................] - ETA: 4:25 - loss: 0.0298 - mse: 0.0347"
     ]
    },
    {
     "name": "stderr",
     "output_type": "stream",
     "text": [
      "IOPub message rate exceeded.\n",
      "The notebook server will temporarily stop sending output\n",
      "to the client in order to avoid crashing it.\n",
      "To change this limit, set the config variable\n",
      "`--NotebookApp.iopub_msg_rate_limit`.\n",
      "\n",
      "Current values:\n",
      "NotebookApp.iopub_msg_rate_limit=1000.0 (msgs/sec)\n",
      "NotebookApp.rate_limit_window=3.0 (secs)\n",
      "\n"
     ]
    },
    {
     "name": "stdout",
     "output_type": "stream",
     "text": [
      "784/784 [==============================] - 444s 567ms/step - loss: 0.0260 - mse: 0.0290 - val_loss: 0.0596 - val_mse: 0.0480\n",
      "\n",
      "Epoch 00035: loss did not improve from 0.02594\n",
      "Epoch 36/100\n",
      "784/784 [==============================] - 453s 578ms/step - loss: 0.0235 - mse: 0.0270 - val_loss: 0.0608 - val_mse: 0.0481\n",
      "\n",
      "Epoch 00036: loss improved from 0.02594 to 0.02348, saving model to /models/HSC_v6_NN_neurips_combined_with_5pool_v7/checkpoints/cp.ckpt\n",
      "Epoch 37/100\n",
      "156/784 [====>.........................] - ETA: 4:59 - loss: 0.0226 - mse: 0.0249"
     ]
    },
    {
     "name": "stderr",
     "output_type": "stream",
     "text": [
      "IOPub message rate exceeded.\n",
      "The notebook server will temporarily stop sending output\n",
      "to the client in order to avoid crashing it.\n",
      "To change this limit, set the config variable\n",
      "`--NotebookApp.iopub_msg_rate_limit`.\n",
      "\n",
      "Current values:\n",
      "NotebookApp.iopub_msg_rate_limit=1000.0 (msgs/sec)\n",
      "NotebookApp.rate_limit_window=3.0 (secs)\n",
      "\n"
     ]
    },
    {
     "name": "stdout",
     "output_type": "stream",
     "text": [
      "784/784 [==============================] - 443s 565ms/step - loss: 0.0166 - mse: 0.0194 - val_loss: 0.0600 - val_mse: 0.0499\n",
      "\n",
      "Epoch 00048: loss improved from 0.01696 to 0.01665, saving model to /models/HSC_v6_NN_neurips_combined_with_5pool_v7/checkpoints/cp.ckpt\n",
      "Epoch 49/100\n",
      "784/784 [==============================] - 450s 574ms/step - loss: 0.0158 - mse: 0.0190 - val_loss: 0.0620 - val_mse: 0.0478\n",
      "\n",
      "Epoch 00049: loss improved from 0.01665 to 0.01582, saving model to /models/HSC_v6_NN_neurips_combined_with_5pool_v7/checkpoints/cp.ckpt\n",
      "Epoch 50/100\n",
      "400/784 [==============>...............] - ETA: 2:56 - loss: 0.0163 - mse: 0.0183"
     ]
    },
    {
     "name": "stderr",
     "output_type": "stream",
     "text": [
      "IOPub message rate exceeded.\n",
      "The notebook server will temporarily stop sending output\n",
      "to the client in order to avoid crashing it.\n",
      "To change this limit, set the config variable\n",
      "`--NotebookApp.iopub_msg_rate_limit`.\n",
      "\n",
      "Current values:\n",
      "NotebookApp.iopub_msg_rate_limit=1000.0 (msgs/sec)\n",
      "NotebookApp.rate_limit_window=3.0 (secs)\n",
      "\n"
     ]
    },
    {
     "name": "stdout",
     "output_type": "stream",
     "text": [
      "784/784 [==============================] - 529s 674ms/step - loss: 0.0136 - mse: 0.0159 - val_loss: 0.0636 - val_mse: 0.0481\n",
      "\n",
      "Epoch 00058: loss did not improve from 0.01318\n",
      "Epoch 59/100\n",
      "635/784 [=======================>......] - ETA: 1:29 - loss: 0.0130 - mse: 0.0154"
     ]
    },
    {
     "name": "stderr",
     "output_type": "stream",
     "text": [
      "IOPub message rate exceeded.\n",
      "The notebook server will temporarily stop sending output\n",
      "to the client in order to avoid crashing it.\n",
      "To change this limit, set the config variable\n",
      "`--NotebookApp.iopub_msg_rate_limit`.\n",
      "\n",
      "Current values:\n",
      "NotebookApp.iopub_msg_rate_limit=1000.0 (msgs/sec)\n",
      "NotebookApp.rate_limit_window=3.0 (secs)\n",
      "\n"
     ]
    },
    {
     "name": "stdout",
     "output_type": "stream",
     "text": [
      "784/784 [==============================] - 460s 587ms/step - loss: 0.0124 - mse: 0.0142 - val_loss: 0.0598 - val_mse: 0.0481\n",
      "\n",
      "Epoch 00063: loss did not improve from 0.01074\n",
      "Epoch 64/100\n",
      "784/784 [==============================] - 401s 512ms/step - loss: 0.0113 - mse: 0.0138 - val_loss: 0.0601 - val_mse: 0.0505\n",
      "\n",
      "Epoch 00064: loss did not improve from 0.01074\n",
      "Epoch 65/100\n",
      "784/784 [==============================] - 354s 452ms/step - loss: 0.0107 - mse: 0.0135 - val_loss: 0.0604 - val_mse: 0.0499\n",
      "\n",
      "Epoch 00065: loss improved from 0.01074 to 0.01074, saving model to /models/HSC_v6_NN_neurips_combined_with_5pool_v7/checkpoints/cp.ckpt\n",
      "Epoch 66/100\n",
      "784/784 [==============================] - 395s 504ms/step - loss: 0.0112 - mse: 0.0142 - val_loss: 0.0609 - val_mse: 0.0545\n",
      "\n",
      "Epoch 00066: loss did not improve from 0.01074\n",
      "Epoch 67/100\n",
      "784/784 [==============================] - 508s 648ms/step - loss: 0.0109 - mse: 0.0133 - val_loss: 0.0593 - val_mse: 0.0495\n",
      "\n",
      "Epoch 00067: loss did not improve from 0.01074\n",
      "Epoch 68/100\n",
      "784/784 [==============================] - 492s 628ms/step - loss: 0.0096 - mse: 0.0128 - val_loss: 0.0579 - val_mse: 0.0483\n",
      "\n",
      "Epoch 00068: loss improved from 0.01074 to 0.00959, saving model to /models/HSC_v6_NN_neurips_combined_with_5pool_v7/checkpoints/cp.ckpt\n",
      "Epoch 69/100\n",
      "784/784 [==============================] - 452s 576ms/step - loss: 0.0102 - mse: 0.0132 - val_loss: 0.0597 - val_mse: 0.0506\n",
      "\n",
      "Epoch 00069: loss did not improve from 0.00959\n",
      "Epoch 70/100\n",
      "784/784 [==============================] - 387s 494ms/step - loss: 0.0100 - mse: 0.0127 - val_loss: 0.0630 - val_mse: 0.0545\n",
      "\n",
      "Epoch 00070: loss did not improve from 0.00959\n",
      "Epoch 71/100\n",
      "784/784 [==============================] - 432s 551ms/step - loss: 0.0104 - mse: 0.0129 - val_loss: 0.0602 - val_mse: 0.0507\n",
      "\n",
      "Epoch 00071: loss did not improve from 0.00959\n",
      "Epoch 72/100\n",
      "784/784 [==============================] - 429s 547ms/step - loss: 0.0100 - mse: 0.0126 - val_loss: 0.0589 - val_mse: 0.0491\n",
      "\n",
      "Epoch 00072: loss did not improve from 0.00959\n",
      "Epoch 73/100\n",
      "784/784 [==============================] - 411s 524ms/step - loss: 0.0094 - mse: 0.0121 - val_loss: 0.0597 - val_mse: 0.0497\n",
      "\n",
      "Epoch 00073: loss improved from 0.00959 to 0.00944, saving model to /models/HSC_v6_NN_neurips_combined_with_5pool_v7/checkpoints/cp.ckpt\n",
      "Epoch 74/100\n",
      "784/784 [==============================] - 385s 491ms/step - loss: 0.0094 - mse: 0.0120 - val_loss: 0.0602 - val_mse: 0.0498\n",
      "\n",
      "Epoch 00074: loss improved from 0.00944 to 0.00938, saving model to /models/HSC_v6_NN_neurips_combined_with_5pool_v7/checkpoints/cp.ckpt\n",
      "Epoch 75/100\n",
      "784/784 [==============================] - 384s 491ms/step - loss: 0.0091 - mse: 0.0117 - val_loss: 0.0637 - val_mse: 0.0497\n",
      "\n",
      "Epoch 00075: loss improved from 0.00938 to 0.00913, saving model to /models/HSC_v6_NN_neurips_combined_with_5pool_v7/checkpoints/cp.ckpt\n",
      "Epoch 76/100\n",
      "784/784 [==============================] - 423s 539ms/step - loss: 0.0101 - mse: 0.0123 - val_loss: 0.0589 - val_mse: 0.0523\n",
      "\n",
      "Epoch 00076: loss did not improve from 0.00913\n",
      "Epoch 77/100\n",
      "784/784 [==============================] - 433s 553ms/step - loss: 0.0094 - mse: 0.0116 - val_loss: 0.0592 - val_mse: 0.0510\n",
      "\n",
      "Epoch 00077: loss did not improve from 0.00913\n",
      "Epoch 78/100\n",
      "714/784 [==========================>...] - ETA: 30s - loss: 0.0085 - mse: 0.0112"
     ]
    },
    {
     "name": "stderr",
     "output_type": "stream",
     "text": [
      "IOPub message rate exceeded.\n",
      "The notebook server will temporarily stop sending output\n",
      "to the client in order to avoid crashing it.\n",
      "To change this limit, set the config variable\n",
      "`--NotebookApp.iopub_msg_rate_limit`.\n",
      "\n",
      "Current values:\n",
      "NotebookApp.iopub_msg_rate_limit=1000.0 (msgs/sec)\n",
      "NotebookApp.rate_limit_window=3.0 (secs)\n",
      "\n"
     ]
    },
    {
     "name": "stdout",
     "output_type": "stream",
     "text": [
      "784/784 [==============================] - 420s 536ms/step - loss: 0.0079 - mse: 0.0101 - val_loss: 0.0615 - val_mse: 0.0529\n",
      "\n",
      "Epoch 00091: loss did not improve from 0.00704\n",
      "Epoch 92/100\n",
      "784/784 [==============================] - 430s 548ms/step - loss: 0.0083 - mse: 0.0104 - val_loss: 0.0589 - val_mse: 0.0509\n",
      "\n",
      "Epoch 00092: loss did not improve from 0.00704\n",
      "Epoch 93/100\n",
      " 89/784 [==>...........................] - ETA: 4:51 - loss: 0.0073 - mse: 0.0099"
     ]
    },
    {
     "name": "stderr",
     "output_type": "stream",
     "text": [
      "IOPub message rate exceeded.\n",
      "The notebook server will temporarily stop sending output\n",
      "to the client in order to avoid crashing it.\n",
      "To change this limit, set the config variable\n",
      "`--NotebookApp.iopub_msg_rate_limit`.\n",
      "\n",
      "Current values:\n",
      "NotebookApp.iopub_msg_rate_limit=1000.0 (msgs/sec)\n",
      "NotebookApp.rate_limit_window=3.0 (secs)\n",
      "\n"
     ]
    },
    {
     "name": "stdout",
     "output_type": "stream",
     "text": [
      "784/784 [==============================] - 426s 543ms/step - loss: 0.0083 - mse: 0.0101 - val_loss: 0.0590 - val_mse: 0.0505\n",
      "\n",
      "Epoch 00099: loss did not improve from 0.00685\n",
      "Epoch 100/100\n",
      "784/784 [==============================] - 424s 541ms/step - loss: 0.0073 - mse: 0.0093 - val_loss: 0.0587 - val_mse: 0.0502\n",
      "\n",
      "Epoch 00100: loss did not improve from 0.00685\n"
     ]
    },
    {
     "data": {
      "text/plain": [
       "<tensorflow.python.keras.callbacks.History at 0x7f0378139070>"
      ]
     },
     "execution_count": 15,
     "metadata": {},
     "output_type": "execute_result"
    }
   ],
   "source": [
    "model.fit(train_gen, batch_size=hparams['batch_size'], epochs=hparams['num_epochs'], shuffle=True, verbose=1, validation_data=val_gen, callbacks=[tensorboard_callback, model_checkpoint_callback, hparam_callback])"
   ]
  },
  {
   "cell_type": "code",
   "execution_count": 16,
   "id": "3519a288",
   "metadata": {},
   "outputs": [
    {
     "data": {
      "text/plain": [
       "<tensorflow.python.training.tracking.util.CheckpointLoadStatus at 0x7f03780a82b0>"
      ]
     },
     "execution_count": 16,
     "metadata": {},
     "output_type": "execute_result"
    }
   ],
   "source": [
    "model.load_weights(checkpoint_filepath)"
   ]
  },
  {
   "cell_type": "code",
   "execution_count": 17,
   "id": "91426254",
   "metadata": {},
   "outputs": [],
   "source": [
    "pred = model.predict(test_gen)"
   ]
  },
  {
   "cell_type": "code",
   "execution_count": 18,
   "id": "4a2de867",
   "metadata": {},
   "outputs": [],
   "source": [
    "with h5py.File(TEST_PATH, 'r') as file:\n",
    "    y_test = np.asarray(file['specz_redshift'][:])\n",
    "    oid_test = np.asarray(file['object_id'][:])"
   ]
  },
  {
   "cell_type": "code",
   "execution_count": 19,
   "id": "66950f70",
   "metadata": {},
   "outputs": [
    {
     "data": {
      "image/png": "[encoded data removed]",
      "text/plain": [
       "<Figure size 720x720 with 2 Axes>"
      ]
     },
     "metadata": {},
     "output_type": "display_data"
    }
   ],
   "source": [
    "plot_predictions(np.ravel(pred), y_test)"
   ]
  },
  {
   "cell_type": "code",
   "execution_count": 20,
   "id": "e70f4f0c",
   "metadata": {},
   "outputs": [],
   "source": [
    "metrics = get_point_metrics(pd.Series(np.ravel(pred)), pd.Series(y_test), binned=False)"
   ]
  },
  {
   "cell_type": "code",
   "execution_count": 21,
   "id": "0d7cf11f",
   "metadata": {},
   "outputs": [
    {
     "data": {
      "text/html": [
       "<div>\n",
       "<style scoped>\n",
       "    .dataframe tbody tr th:only-of-type {\n",
       "        vertical-align: middle;\n",
       "    }\n",
       "\n",
       "    .dataframe tbody tr th {\n",
       "        vertical-align: top;\n",
       "    }\n",
       "\n",
       "    .dataframe thead th {\n",
       "        text-align: right;\n",
       "    }\n",
       "</style>\n",
       "<table border=\"1\" class=\"dataframe\">\n",
       "  <thead>\n",
       "    <tr style=\"text-align: right;\">\n",
       "      <th></th>\n",
       "      <th>zspec_bin</th>\n",
       "      <th>count</th>\n",
       "      <th>L</th>\n",
       "      <th>bias_bw</th>\n",
       "      <th>bias_conv</th>\n",
       "      <th>scatter_bw</th>\n",
       "      <th>scatter_conv</th>\n",
       "      <th>outlier_bw</th>\n",
       "      <th>outlier_conv</th>\n",
       "      <th>mse</th>\n",
       "    </tr>\n",
       "  </thead>\n",
       "  <tbody>\n",
       "    <tr>\n",
       "      <th>0</th>\n",
       "      <td>(0.0, 4.0]</td>\n",
       "      <td>42960</td>\n",
       "      <td>0.056493</td>\n",
       "      <td>-0.003068</td>\n",
       "      <td>-0.002888</td>\n",
       "      <td>0.022439</td>\n",
       "      <td>0.019606</td>\n",
       "      <td>0.126397</td>\n",
       "      <td>0.033636</td>\n",
       "      <td>0.045957</td>\n",
       "    </tr>\n",
       "  </tbody>\n",
       "</table>\n",
       "</div>"
      ],
      "text/plain": [
       "    zspec_bin  count         L   bias_bw  bias_conv  scatter_bw  scatter_conv  \\\n",
       "0  (0.0, 4.0]  42960  0.056493 -0.003068  -0.002888    0.022439      0.019606   \n",
       "\n",
       "   outlier_bw  outlier_conv       mse  \n",
       "0    0.126397      0.033636  0.045957  "
      ]
     },
     "execution_count": 21,
     "metadata": {},
     "output_type": "execute_result"
    }
   ],
   "source": [
    "metrics"
   ]
  },
  {
   "cell_type": "code",
   "execution_count": 22,
   "id": "e4b14400",
   "metadata": {},
   "outputs": [],
   "source": [
    "df = pd.DataFrame(pred, columns=['photoz'])\n",
    "df['specz'] = pd.Series(y_test)\n",
    "df['object_id'] = pd.Series(oid_test)\n",
    "os.makedirs(f'/predictions/{model_name}', exist_ok=True)\n",
    "df.to_csv(f'/predictions/{model_name}/testing_predictions.csv', index=False)\n",
    "metrics.to_csv(f'/predictions/{model_name}/testing_metrics.csv', index=False)"
   ]
  },
  {
   "cell_type": "code",
   "execution_count": 23,
   "id": "ce077753",
   "metadata": {},
   "outputs": [],
   "source": [
    "# # load weights instead\n",
    "# evaluated_model = model([X_test, test_images])"
   ]
  },
  {
   "cell_type": "code",
   "execution_count": 24,
   "id": "1595951d",
   "metadata": {},
   "outputs": [],
   "source": [
    "# photoz = []\n",
    "# for i in range(0,len(X_test)):\n",
    "#     pred = model([X_test[i], test_images[i]])\n",
    "#     photoz.append(pred)"
   ]
  },
  {
   "cell_type": "code",
   "execution_count": 25,
   "id": "b895b472",
   "metadata": {},
   "outputs": [],
   "source": [
    "# mean_arr = evaluated_model.mean().numpy()\n",
    "# std_arr = evaluated_model.stddev().numpy()"
   ]
  },
  {
   "cell_type": "code",
   "execution_count": 26,
   "id": "84e76080",
   "metadata": {},
   "outputs": [],
   "source": [
    "# y_pred = np.ravel(mean_arr) # to make ndim = 1\n",
    "# y_pred"
   ]
  },
  {
   "cell_type": "code",
   "execution_count": 27,
   "id": "1d8e7244",
   "metadata": {},
   "outputs": [],
   "source": [
    "# plot_predictions(y_pred, y_test)"
   ]
  },
  {
   "cell_type": "code",
   "execution_count": 28,
   "id": "ae63ee1f",
   "metadata": {},
   "outputs": [],
   "source": [
    "# metrics = get_point_metrics(pd.Series(y_pred), pd.Series(y_test))"
   ]
  },
  {
   "cell_type": "code",
   "execution_count": 29,
   "id": "3548d01f",
   "metadata": {},
   "outputs": [],
   "source": [
    "# metrics"
   ]
  },
  {
   "cell_type": "code",
   "execution_count": 30,
   "id": "3e872876",
   "metadata": {},
   "outputs": [],
   "source": [
    "# df = pd.DataFrame(y_pred, columns=['photoz'])\n",
    "# df['photz_err'] = np.ravel(std_arr)\n",
    "# df['specz'] = y_test\n",
    "# df['object_id'] = OID_test\n",
    "# if os.path.exists(f'/predictions/{model_name}') == False:\n",
    "#     os.makedirs(f'/predictions/{model_name}')\n",
    "    \n",
    "# df.to_csv(f'/predictions/{model_name}/testing_predictions.csv', index=False)"
   ]
  },
  {
   "cell_type": "code",
   "execution_count": 31,
   "id": "69959e7d",
   "metadata": {},
   "outputs": [],
   "source": [
    "# if os.path.exists(f'predictions/{model_name}') ==  False:\n",
    "#     os.makedirs(f'predictions/{model_name}')\n",
    "    \n",
    "# metrics.to_csv(f'/predictions/{model_name}/testing_metrics.csv', index=False)"
   ]
  },
  {
   "cell_type": "code",
   "execution_count": 32,
   "id": "e6ed7a2d",
   "metadata": {},
   "outputs": [],
   "source": [
    "# y_train"
   ]
  },
  {
   "cell_type": "code",
   "execution_count": 33,
   "id": "8d522aa6",
   "metadata": {},
   "outputs": [],
   "source": [
    "# v1 batch_size = 256\n",
    "# v2 batch_size = None\n",
    "# v4 uses DataMaker+, batch size of 512, 10 epochs, dropout(0.3) model might be overfitting"
   ]
  }
 ],
 "metadata": {
  "kernelspec": {
   "display_name": "Python 3",
   "language": "python",
   "name": "python3"
  },
  "language_info": {
   "codemirror_mode": {
    "name": "ipython",
    "version": 3
   },
   "file_extension": ".py",
   "mimetype": "text/x-python",
   "name": "python",
   "nbconvert_exporter": "python",
   "pygments_lexer": "ipython3",
   "version": "3.8.10"
  }
 },
 "nbformat": 4,
 "nbformat_minor": 5
}
