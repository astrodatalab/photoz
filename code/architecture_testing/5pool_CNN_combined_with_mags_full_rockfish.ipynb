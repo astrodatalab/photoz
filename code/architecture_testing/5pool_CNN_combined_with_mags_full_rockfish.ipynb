{
 "cells": [
  {
   "cell_type": "code",
   "execution_count": 2,
   "id": "8a9195a9",
   "metadata": {},
   "outputs": [],
   "source": [
    "import tensorflow as tf\n",
    "import tensorflow_probability as tfp\n",
    "import pandas as pd\n",
    "import numpy as np\n",
    "import matplotlib.pyplot as plt\n",
    "import h5py\n",
    "import keras\n",
    "import os\n",
    "import tensorboard\n",
    "from tensorflow.keras.models import Sequential, Model\n",
    "from tensorflow.keras.layers import Dense, Conv2D, MaxPooling2D, Flatten, Dropout, Input, Concatenate\n",
    "from tensorflow.keras.regularizers import L2\n",
    "from tensorflow.keras.optimizers import Adam\n",
    "from sklearn.preprocessing import StandardScaler\n",
    "from tensorboard.plugins.hparams import api as hp\n",
    "\n",
    "from photoz_utils import *\n",
    "from DataMakerPlus import *"
   ]
  },
  {
   "cell_type": "code",
   "execution_count": 3,
   "id": "1e0276b4",
   "metadata": {},
   "outputs": [],
   "source": [
    "GB_LIMIT = 30"
   ]
  },
  {
   "cell_type": "code",
   "execution_count": 4,
   "id": "399daa8b",
   "metadata": {},
   "outputs": [
    {
     "name": "stdout",
     "output_type": "stream",
     "text": [
      "2 Physical GPUs, 2 Logical GPUs\n"
     ]
    }
   ],
   "source": [
    "gpus = tf.config.list_physical_devices('GPU')\n",
    "if gpus:\n",
    "    try:\n",
    "        tf.config.experimental.set_virtual_device_configuration(\n",
    "            gpus[0],\n",
    "            [tf.config.experimental.VirtualDeviceConfiguration(GB_LIMIT*1000)])\n",
    "        logical_gpus = tf.config.experimental.list_logical_devices('GPU')\n",
    "        print(len(gpus), \"Physical GPUs,\", len(logical_gpus), \"Logical GPUs\")\n",
    "    except RuntimeError as e:\n",
    "        print(e)"
   ]
  },
  {
   "cell_type": "code",
   "execution_count": 5,
   "id": "c193e0a6",
   "metadata": {},
   "outputs": [],
   "source": [
    "IMAGE_SHAPE = (5, 64, 64)\n",
    "NUM_DENSE_UNITS = 200\n",
    "BATCH_SIZE = 256\n",
    "NUM_EPOCHS = 100\n",
    "LEARNING_RATE = 0.0001\n",
    "Z_MAX = 4\n",
    "hparams = {\n",
    "    'num_dense_units': NUM_DENSE_UNITS,\n",
    "    'batch_size': BATCH_SIZE,\n",
    "    'num_epochs': NUM_EPOCHS,\n",
    "    'learning_rate': LEARNING_RATE,\n",
    "    'z_max': Z_MAX\n",
    "}"
   ]
  },
  {
   "cell_type": "code",
   "execution_count": 6,
   "id": "ab5fe813",
   "metadata": {},
   "outputs": [],
   "source": [
    "TRAIN_PATH = f'/data/tuando/data/HSC/HSC_v6/step3A/64x64/5x64x64_training.hdf5'\n",
    "VAL_PATH = f'/data/tuando/data/HSC/HSC_v6/step3A/64x64/5x64x64_validation.hdf5'\n",
    "TEST_PATH = f'/data/tuando/data/HSC/HSC_v6/step3A/64x64/5x64x64_testing.hdf5'"
   ]
  },
  {
   "cell_type": "code",
   "execution_count": 7,
   "id": "1334d95b",
   "metadata": {},
   "outputs": [],
   "source": [
    "args_gen = {\n",
    "    'scaler': True,\n",
    "    'labels_encoding': False,\n",
    "    'batch_size': BATCH_SIZE,\n",
    "    'shuffle': False}"
   ]
  },
  {
   "cell_type": "code",
   "execution_count": 8,
   "id": "104ba46b",
   "metadata": {},
   "outputs": [
    {
     "ename": "TypeError",
     "evalue": "HDF5DataGenerator.__init__() got an unexpected keyword argument 'label_key'",
     "output_type": "error",
     "traceback": [
      "\u001b[0;31m---------------------------------------------------------------------------\u001b[0m",
      "\u001b[0;31mTypeError\u001b[0m                                 Traceback (most recent call last)",
      "Cell \u001b[0;32mIn[8], line 1\u001b[0m\n\u001b[0;32m----> 1\u001b[0m train_images \u001b[38;5;241m=\u001b[39m \u001b[43mHDF5DataGenerator\u001b[49m\u001b[43m(\u001b[49m\u001b[43msrc\u001b[49m\u001b[38;5;241;43m=\u001b[39;49m\u001b[43mTRAIN_PATH\u001b[49m\u001b[43m,\u001b[49m\u001b[43m \u001b[49m\u001b[43mlabel_key\u001b[49m\u001b[38;5;241;43m=\u001b[39;49m\u001b[38;5;124;43m'\u001b[39;49m\u001b[38;5;124;43mimage\u001b[39;49m\u001b[38;5;124;43m'\u001b[39;49m\u001b[43m,\u001b[49m\u001b[43m \u001b[49m\u001b[38;5;241;43m*\u001b[39;49m\u001b[38;5;241;43m*\u001b[39;49m\u001b[43margs_gen\u001b[49m\u001b[43m)\u001b[49m\n\u001b[1;32m      2\u001b[0m val_images \u001b[38;5;241m=\u001b[39m HDF5DataGenerator(src\u001b[38;5;241m=\u001b[39mVAL_PATH, label_key\u001b[38;5;241m=\u001b[39m\u001b[38;5;124m'\u001b[39m\u001b[38;5;124mimage\u001b[39m\u001b[38;5;124m'\u001b[39m, \u001b[38;5;241m*\u001b[39m\u001b[38;5;241m*\u001b[39margs_gen)\n\u001b[1;32m      3\u001b[0m test_images \u001b[38;5;241m=\u001b[39m HDF5DataGenerator(src\u001b[38;5;241m=\u001b[39mTEST_PATH, label_key\u001b[38;5;241m=\u001b[39m\u001b[38;5;124m'\u001b[39m\u001b[38;5;124mimage\u001b[39m\u001b[38;5;124m'\u001b[39m, \u001b[38;5;241m*\u001b[39m\u001b[38;5;241m*\u001b[39margs_gen)\n",
      "\u001b[0;31mTypeError\u001b[0m: HDF5DataGenerator.__init__() got an unexpected keyword argument 'label_key'"
     ]
    }
   ],
   "source": [
    "train_images = HDF5DataGenerator(src=TRAIN_PATH, label_key='image', **args_gen)\n",
    "val_images = HDF5DataGenerator(src=VAL_PATH, label_key='image', **args_gen)\n",
    "test_images = HDF5DataGenerator(src=TEST_PATH, label_key='image', **args_gen)\n",
    "\n",
    "train_g = HDF5DataGenerator(src=TRAIN_PATH, label_key='g_cmodel_mag', **args_gen)\n",
    "val_g = HDF5DataGenerator(src=VAL_PATH, label_key='g_cmodel_mag', **args_gen)\n",
    "test_g = HDF5DataGenerator(src=TEST_PATH, label_key='g_cmodel_mag', **args_gen)\n",
    "\n",
    "train_r = HDF5DataGenerator(src=TRAIN_PATH, label_key='r_cmodel_mag', **args_gen)\n",
    "val_r = HDF5DataGenerator(src=VAL_PATH, label_key='r_cmodel_mag', **args_gen)\n",
    "test_r = HDF5DataGenerator(src=TEST_PATH, label_key='r_cmodel_mag', **args_gen)\n",
    "\n",
    "train_i = HDF5DataGenerator(src=TRAIN_PATH, label_key='i_cmodel_mag', **args_gen)\n",
    "val_i = HDF5DataGenerator(src=VAL_PATH, label_key='i_cmodel_mag', **args_gen)\n",
    "test_i = HDF5DataGenerator(src=TEST_PATH, label_key='i_cmodel_mag', **args_gen)\n",
    "\n",
    "train_z = HDF5DataGenerator(src=TRAIN_PATH, label_key='z_cmodel_mag', **args_gen)\n",
    "val_z = HDF5DataGenerator(src=VAL_PATH, label_key='z_cmodel_mag', **args_gen)\n",
    "test_z = HDF5DataGenerator(src=TEST_PATH, label_key='z_cmodel_mag', **args_gen)\n",
    "\n",
    "train_y = HDF5DataGenerator(src=TRAIN_PATH, label_key='y_cmodel_mag', **args_gen)\n",
    "val_y = HDF5DataGenerator(src=VAL_PATH, label_key='y_cmodel_mag', **args_gen)\n",
    "test_y = HDF5DataGenerator(src=TEST_PATH, label_key='y_cmodel_mag', **args_gen)\n",
    "\n",
    "train_specz = HDF5DataGenerator(src=TRAIN_PATH, label_key='specz_redshift', **args_gen)\n",
    "val_specz = HDF5DataGenerator(src=VAL_PATH, label_key='specz_redshift', **args_gen)\n",
    "test_specz = HDF5DataGenerator(src=TEST_PATH, label_key='specz_redshift', **args_gen)"
   ]
  },
  {
   "cell_type": "code",
   "execution_count": 8,
   "id": "2b5f4ea3",
   "metadata": {},
   "outputs": [],
   "source": [
    "train_mags = JoinedMags(train_g, train_r, train_i, train_z, train_y)\n",
    "val_mags = JoinedMags(val_g, val_r, val_i, val_z, val_y)\n",
    "test_mags = JoinedMags(test_g, test_r, test_i, test_z, test_y)"
   ]
  },
  {
   "cell_type": "code",
   "execution_count": 9,
   "id": "d398ea66",
   "metadata": {},
   "outputs": [],
   "source": [
    "train_gen = JoinedGen(train_images, train_mags, train_specz)\n",
    "val_gen = JoinedGen(val_images, val_mags, val_specz)\n",
    "test_gen = JoinedGen(test_images, test_mags, test_specz)"
   ]
  },
  {
   "cell_type": "code",
   "execution_count": 10,
   "id": "6053b02c",
   "metadata": {},
   "outputs": [],
   "source": [
    "import keras.backend as K\n",
    "\n",
    "def calculate_loss(z_photo, z_spec):\n",
    "    \"\"\"\n",
    "    HSC METRIC. Returns an array. Loss is accuracy metric defined by HSC, meant\n",
    "    to capture the effects of bias, scatter, and outlier all in one. This has\n",
    "    uses for both point and density estimation.\n",
    "    z_photo: array\n",
    "        Photometric or predicted redshifts.\n",
    "    z_spec: array\n",
    "        Spectroscopic or actual redshifts.\n",
    "    \"\"\"\n",
    "    dz = delz(z_photo, z_spec)\n",
    "    gamma = 0.15\n",
    "    denominator = 1.0 + K.square(dz/gamma)\n",
    "    loss = 1 - 1.0 / denominator\n",
    "    return loss"
   ]
  },
  {
   "cell_type": "code",
   "execution_count": 11,
   "id": "e1b768da",
   "metadata": {},
   "outputs": [],
   "source": [
    "input_cnn = Input(shape=(5,127,127))\n",
    "input_nn = Input(shape=(5,))\n",
    "\n",
    "# CNN\n",
    "conv1 = Conv2D(32, kernel_size=(3, 3), activation='tanh', padding='same', data_format='channels_first')(input_cnn)\n",
    "pool1 = MaxPooling2D(pool_size = (2,2), data_format='channels_first')(conv1)\n",
    "conv2 = Conv2D(64, kernel_size=(3, 3), activation='tanh', padding='same', data_format='channels_first')(pool1)\n",
    "pool2 = MaxPooling2D(pool_size = (2,2), data_format='channels_first')(conv2)\n",
    "conv3 = Conv2D(128, kernel_size=(3, 3), activation='tanh', padding='same', data_format='channels_first')(pool2)\n",
    "pool3 = MaxPooling2D(pool_size = (2,2), data_format='channels_first')(conv3)\n",
    "conv4 = Conv2D(256, kernel_size=(3, 3), activation='tanh', padding='same', data_format='channels_first')(pool3)\n",
    "pool4 = MaxPooling2D(pool_size = (2,2), data_format='channels_first')(conv4)\n",
    "conv5 = Conv2D(256, kernel_size=(3, 3), activation='tanh', padding='same', data_format='channels_first')(pool4)\n",
    "pool5 = MaxPooling2D(pool_size = (2,2), data_format='channels_first')(conv5)\n",
    "conv6 = Conv2D(512, kernel_size=(3, 3),activation='relu', padding='same', data_format='channels_first')(pool5)\n",
    "conv7 = Conv2D(512, kernel_size=(3, 3),activation='relu', padding='same', data_format='channels_first')(conv6)\n",
    "flatten = Flatten()(conv7)\n",
    "dense1 = Dense(512, activation='tanh')(flatten)\n",
    "dense2 = Dense(128, activation='tanh')(dense1)\n",
    "dense3 = Dense(32, activation='tanh')(dense2)\n",
    "\n",
    "# NN\n",
    "hidden1 = Dense(hparams['num_dense_units'], activation=\"relu\")(input_nn)\n",
    "hidden2 = Dense(hparams['num_dense_units'], activation=\"relu\")(hidden1)\n",
    "hidden3 = Dense(hparams['num_dense_units'], activation=\"relu\")(hidden2)\n",
    "hidden4 = Dense(hparams['num_dense_units'], activation=\"relu\")(hidden3)\n",
    "hidden5 = Dense(hparams['num_dense_units'], activation=\"relu\")(hidden4)\n",
    "hidden6 = Dense(hparams['num_dense_units'], activation=\"relu\")(hidden5)\n",
    "\n",
    "# Concat & Output\n",
    "concat = Concatenate()([dense3, hidden6])\n",
    "output = Dense(1)(concat)\n",
    "model = Model(inputs=[input_cnn, input_nn], outputs=[output])"
   ]
  },
  {
   "cell_type": "code",
   "execution_count": 12,
   "id": "51b40cc1",
   "metadata": {},
   "outputs": [
    {
     "name": "stdout",
     "output_type": "stream",
     "text": [
      "Model: \"model\"\n",
      "__________________________________________________________________________________________________\n",
      " Layer (type)                   Output Shape         Param #     Connected to                     \n",
      "==================================================================================================\n",
      " input_1 (InputLayer)           [(None, 5, 127, 127  0           []                               \n",
      "                                )]                                                                \n",
      "                                                                                                  \n",
      " conv2d (Conv2D)                (None, 32, 127, 127  1472        ['input_1[0][0]']                \n",
      "                                )                                                                 \n",
      "                                                                                                  \n",
      " max_pooling2d (MaxPooling2D)   (None, 32, 63, 63)   0           ['conv2d[0][0]']                 \n",
      "                                                                                                  \n",
      " conv2d_1 (Conv2D)              (None, 64, 63, 63)   18496       ['max_pooling2d[0][0]']          \n",
      "                                                                                                  \n",
      " max_pooling2d_1 (MaxPooling2D)  (None, 64, 31, 31)  0           ['conv2d_1[0][0]']               \n",
      "                                                                                                  \n",
      " conv2d_2 (Conv2D)              (None, 128, 31, 31)  73856       ['max_pooling2d_1[0][0]']        \n",
      "                                                                                                  \n",
      " max_pooling2d_2 (MaxPooling2D)  (None, 128, 15, 15)  0          ['conv2d_2[0][0]']               \n",
      "                                                                                                  \n",
      " conv2d_3 (Conv2D)              (None, 256, 15, 15)  295168      ['max_pooling2d_2[0][0]']        \n",
      "                                                                                                  \n",
      " max_pooling2d_3 (MaxPooling2D)  (None, 256, 7, 7)   0           ['conv2d_3[0][0]']               \n",
      "                                                                                                  \n",
      " conv2d_4 (Conv2D)              (None, 256, 7, 7)    590080      ['max_pooling2d_3[0][0]']        \n",
      "                                                                                                  \n",
      " max_pooling2d_4 (MaxPooling2D)  (None, 256, 3, 3)   0           ['conv2d_4[0][0]']               \n",
      "                                                                                                  \n",
      " input_2 (InputLayer)           [(None, 5)]          0           []                               \n",
      "                                                                                                  \n",
      " conv2d_5 (Conv2D)              (None, 512, 3, 3)    1180160     ['max_pooling2d_4[0][0]']        \n",
      "                                                                                                  \n",
      " dense_3 (Dense)                (None, 200)          1200        ['input_2[0][0]']                \n",
      "                                                                                                  \n",
      " conv2d_6 (Conv2D)              (None, 512, 3, 3)    2359808     ['conv2d_5[0][0]']               \n",
      "                                                                                                  \n",
      " dense_4 (Dense)                (None, 200)          40200       ['dense_3[0][0]']                \n",
      "                                                                                                  \n",
      " flatten (Flatten)              (None, 4608)         0           ['conv2d_6[0][0]']               \n",
      "                                                                                                  \n",
      " dense_5 (Dense)                (None, 200)          40200       ['dense_4[0][0]']                \n",
      "                                                                                                  \n",
      " dense (Dense)                  (None, 512)          2359808     ['flatten[0][0]']                \n",
      "                                                                                                  \n",
      " dense_6 (Dense)                (None, 200)          40200       ['dense_5[0][0]']                \n",
      "                                                                                                  \n",
      " dense_1 (Dense)                (None, 128)          65664       ['dense[0][0]']                  \n",
      "                                                                                                  \n",
      " dense_7 (Dense)                (None, 200)          40200       ['dense_6[0][0]']                \n",
      "                                                                                                  \n",
      " dense_2 (Dense)                (None, 32)           4128        ['dense_1[0][0]']                \n",
      "                                                                                                  \n",
      " dense_8 (Dense)                (None, 200)          40200       ['dense_7[0][0]']                \n",
      "                                                                                                  \n",
      " concatenate (Concatenate)      (None, 232)          0           ['dense_2[0][0]',                \n",
      "                                                                  'dense_8[0][0]']                \n",
      "                                                                                                  \n",
      " dense_9 (Dense)                (None, 1)            233         ['concatenate[0][0]']            \n",
      "                                                                                                  \n",
      "==================================================================================================\n",
      "Total params: 7,151,073\n",
      "Trainable params: 7,151,073\n",
      "Non-trainable params: 0\n",
      "__________________________________________________________________________________________________\n"
     ]
    }
   ],
   "source": [
    "model.summary()"
   ]
  },
  {
   "cell_type": "code",
   "execution_count": 13,
   "id": "0f180343",
   "metadata": {},
   "outputs": [],
   "source": [
    "model.compile(optimizer=Adam(learning_rate=hparams['learning_rate']), loss=calculate_loss, metrics='mse')"
   ]
  },
  {
   "cell_type": "code",
   "execution_count": 14,
   "id": "83073425",
   "metadata": {},
   "outputs": [],
   "source": [
    "model_name = 'HSC_v6_NN_neurips_combined_with_5pool_v15'\n",
    "\n",
    "checkpoint_filepath = f'/data2/models/{model_name}/checkpoints/cp.ckpt'\n",
    "checkpoint_dir = os.path.dirname(checkpoint_filepath)\n",
    "log_dir = os.path.join('/data2/logs/', model_name)\n",
    "\n",
    "model_checkpoint_callback = tf.keras.callbacks.ModelCheckpoint(\n",
    "    filepath=checkpoint_filepath,\n",
    "    save_weights_only=True,\n",
    "    monitor='loss',\n",
    "    mode='min',\n",
    "    save_freq='epoch',\n",
    "    save_best_only=True,\n",
    "    verbose=True)\n",
    "\n",
    "tensorboard_callback = tf.keras.callbacks.TensorBoard(log_dir=log_dir, histogram_freq=1)\n",
    "\n",
    "hparam_callback = hp.KerasCallback(log_dir, hparams)"
   ]
  },
  {
   "cell_type": "code",
   "execution_count": 15,
   "id": "f9d84ce7",
   "metadata": {},
   "outputs": [
    {
     "name": "stdout",
     "output_type": "stream",
     "text": [
      "Epoch 1/100\n",
      "784/784 [==============================] - ETA: 0s - loss: 0.2358 - mse: 0.2076"
     ]
    },
    {
     "name": "stderr",
     "output_type": "stream",
     "text": [
      "2023-05-15 18:23:26.556898: W tensorflow/tsl/framework/cpu_allocator_impl.cc:82] Allocation of 566231040 exceeds 10% of free system memory.\n",
      "2023-05-15 18:23:26.666118: W tensorflow/tsl/framework/cpu_allocator_impl.cc:82] Allocation of 566231040 exceeds 10% of free system memory.\n"
     ]
    },
    {
     "name": "stdout",
     "output_type": "stream",
     "text": [
      "\n",
      "Epoch 1: loss improved from inf to 0.23582, saving model to /data2/models/HSC_v6_NN_neurips_combined_with_5pool_v15/checkpoints/cp.ckpt\n",
      "784/784 [==============================] - 990s 1s/step - loss: 0.2358 - mse: 0.2076 - val_loss: 0.2037 - val_mse: 0.1183\n",
      "Epoch 2/100\n",
      "784/784 [==============================] - ETA: 0s - loss: 0.1464 - mse: 0.0974"
     ]
    },
    {
     "name": "stderr",
     "output_type": "stream",
     "text": [
      "2023-05-15 18:37:08.079251: W tensorflow/tsl/framework/cpu_allocator_impl.cc:82] Allocation of 566231040 exceeds 10% of free system memory.\n",
      "2023-05-15 18:37:08.230156: W tensorflow/tsl/framework/cpu_allocator_impl.cc:82] Allocation of 566231040 exceeds 10% of free system memory.\n"
     ]
    },
    {
     "name": "stdout",
     "output_type": "stream",
     "text": [
      "\n",
      "Epoch 2: loss improved from 0.23582 to 0.14639, saving model to /data2/models/HSC_v6_NN_neurips_combined_with_5pool_v15/checkpoints/cp.ckpt\n",
      "784/784 [==============================] - 822s 1s/step - loss: 0.1464 - mse: 0.0974 - val_loss: 0.1176 - val_mse: 0.0956\n",
      "Epoch 3/100\n",
      "784/784 [==============================] - ETA: 0s - loss: 0.1164 - mse: 0.0854"
     ]
    },
    {
     "name": "stderr",
     "output_type": "stream",
     "text": [
      "2023-05-15 18:53:12.931371: W tensorflow/tsl/framework/cpu_allocator_impl.cc:82] Allocation of 566231040 exceeds 10% of free system memory.\n"
     ]
    },
    {
     "name": "stdout",
     "output_type": "stream",
     "text": [
      "\n",
      "Epoch 3: loss improved from 0.14639 to 0.11638, saving model to /data2/models/HSC_v6_NN_neurips_combined_with_5pool_v15/checkpoints/cp.ckpt\n",
      "784/784 [==============================] - 965s 1s/step - loss: 0.1164 - mse: 0.0854 - val_loss: 0.1180 - val_mse: 0.0907\n",
      "Epoch 4/100\n",
      "784/784 [==============================] - ETA: 0s - loss: 0.0982 - mse: 0.0782\n",
      "Epoch 4: loss improved from 0.11638 to 0.09816, saving model to /data2/models/HSC_v6_NN_neurips_combined_with_5pool_v15/checkpoints/cp.ckpt\n",
      "784/784 [==============================] - 547s 698ms/step - loss: 0.0982 - mse: 0.0782 - val_loss: 0.0916 - val_mse: 0.0790\n",
      "Epoch 5/100\n",
      "784/784 [==============================] - ETA: 0s - loss: 0.0804 - mse: 0.0693\n",
      "Epoch 6: loss improved from 0.08465 to 0.08039, saving model to /data2/models/HSC_v6_NN_neurips_combined_with_5pool_v15/checkpoints/cp.ckpt\n",
      "784/784 [==============================] - 500s 638ms/step - loss: 0.0804 - mse: 0.0693 - val_loss: 0.0846 - val_mse: 0.0691\n",
      "Epoch 7/100\n",
      "784/784 [==============================] - ETA: 0s - loss: 0.0696 - mse: 0.0673\n",
      "Epoch 7: loss improved from 0.08039 to 0.06963, saving model to /data2/models/HSC_v6_NN_neurips_combined_with_5pool_v15/checkpoints/cp.ckpt\n",
      "784/784 [==============================] - 498s 636ms/step - loss: 0.0696 - mse: 0.0673 - val_loss: 0.0776 - val_mse: 0.0658\n",
      "Epoch 8/100\n",
      "784/784 [==============================] - ETA: 0s - loss: 0.0669 - mse: 0.0656\n",
      "Epoch 8: loss improved from 0.06963 to 0.06689, saving model to /data2/models/HSC_v6_NN_neurips_combined_with_5pool_v15/checkpoints/cp.ckpt\n",
      "784/784 [==============================] - 522s 666ms/step - loss: 0.0669 - mse: 0.0656 - val_loss: 0.0710 - val_mse: 0.0655\n",
      "Epoch 9/100\n",
      "784/784 [==============================] - ETA: 0s - loss: 0.0518 - mse: 0.0595\n",
      "Epoch 12: loss improved from 0.05446 to 0.05180, saving model to /data2/models/HSC_v6_NN_neurips_combined_with_5pool_v15/checkpoints/cp.ckpt\n",
      "784/784 [==============================] - 521s 664ms/step - loss: 0.0518 - mse: 0.0595 - val_loss: 0.0818 - val_mse: 0.0658\n",
      "Epoch 13/100\n",
      "784/784 [==============================] - ETA: 0s - loss: 0.0499 - mse: 0.0567\n",
      "Epoch 13: loss improved from 0.05180 to 0.04991, saving model to /data2/models/HSC_v6_NN_neurips_combined_with_5pool_v15/checkpoints/cp.ckpt\n",
      "784/784 [==============================] - 484s 617ms/step - loss: 0.0499 - mse: 0.0567 - val_loss: 0.0665 - val_mse: 0.0631\n",
      "Epoch 14/100\n",
      "784/784 [==============================] - ETA: 0s - loss: 0.0483 - mse: 0.0556\n",
      "Epoch 14: loss improved from 0.04991 to 0.04832, saving model to /data2/models/HSC_v6_NN_neurips_combined_with_5pool_v15/checkpoints/cp.ckpt\n",
      "784/784 [==============================] - 495s 631ms/step - loss: 0.0483 - mse: 0.0556 - val_loss: 0.0633 - val_mse: 0.0618\n",
      "Epoch 15/100\n",
      "784/784 [==============================] - ETA: 0s - loss: 0.0427 - mse: 0.0525\n",
      "Epoch 15: loss improved from 0.04832 to 0.04271, saving model to /data2/models/HSC_v6_NN_neurips_combined_with_5pool_v15/checkpoints/cp.ckpt\n",
      "784/784 [==============================] - 585s 746ms/step - loss: 0.0427 - mse: 0.0525 - val_loss: 0.0650 - val_mse: 0.0588\n",
      "Epoch 16/100\n",
      "784/784 [==============================] - ETA: 0s - loss: 0.0432 - mse: 0.0495\n",
      "Epoch 16: loss did not improve from 0.04271\n",
      "784/784 [==============================] - 489s 623ms/step - loss: 0.0432 - mse: 0.0495 - val_loss: 0.0628 - val_mse: 0.0567\n",
      "Epoch 17/100\n",
      "784/784 [==============================] - ETA: 0s - loss: 0.0405 - mse: 0.0440\n",
      "Epoch 17: loss improved from 0.04271 to 0.04049, saving model to /data2/models/HSC_v6_NN_neurips_combined_with_5pool_v15/checkpoints/cp.ckpt\n",
      "784/784 [==============================] - 540s 689ms/step - loss: 0.0405 - mse: 0.0440 - val_loss: 0.0630 - val_mse: 0.0523\n",
      "Epoch 18/100\n",
      "784/784 [==============================] - ETA: 0s - loss: 0.0374 - mse: 0.0390\n",
      "Epoch 18: loss improved from 0.04049 to 0.03740, saving model to /data2/models/HSC_v6_NN_neurips_combined_with_5pool_v15/checkpoints/cp.ckpt\n",
      "784/784 [==============================] - 658s 839ms/step - loss: 0.0374 - mse: 0.0390 - val_loss: 0.0619 - val_mse: 0.0579\n",
      "Epoch 19/100\n",
      "530/784 [===================>..........] - ETA: 2:09 - loss: 0.0357 - mse: 0.0388"
     ]
    },
    {
     "name": "stderr",
     "output_type": "stream",
     "text": [
      "IOPub message rate exceeded.\n",
      "The Jupyter server will temporarily stop sending output\n",
      "to the client in order to avoid crashing it.\n",
      "To change this limit, set the config variable\n",
      "`--ServerApp.iopub_msg_rate_limit`.\n",
      "\n",
      "Current values:\n",
      "ServerApp.iopub_msg_rate_limit=1000.0 (msgs/sec)\n",
      "ServerApp.rate_limit_window=3.0 (secs)\n",
      "\n"
     ]
    },
    {
     "name": "stdout",
     "output_type": "stream",
     "text": [
      "784/784 [==============================] - ETA: 0s - loss: 0.0357 - mse: 0.0383\n",
      "Epoch 20: loss improved from 0.03614 to 0.03569, saving model to /data2/models/HSC_v6_NN_neurips_combined_with_5pool_v15/checkpoints/cp.ckpt\n",
      "784/784 [==============================] - 478s 610ms/step - loss: 0.0357 - mse: 0.0383 - val_loss: 0.0662 - val_mse: 0.0578\n",
      "Epoch 21/100\n",
      "784/784 [==============================] - ETA: 0s - loss: 0.0353 - mse: 0.0379\n",
      "Epoch 21: loss improved from 0.03569 to 0.03532, saving model to /data2/models/HSC_v6_NN_neurips_combined_with_5pool_v15/checkpoints/cp.ckpt\n",
      "784/784 [==============================] - 475s 606ms/step - loss: 0.0353 - mse: 0.0379 - val_loss: 0.0596 - val_mse: 0.0535\n",
      "Epoch 22/100\n",
      "784/784 [==============================] - ETA: 0s - loss: 0.0321 - mse: 0.0370\n",
      "Epoch 22: loss improved from 0.03532 to 0.03214, saving model to /data2/models/HSC_v6_NN_neurips_combined_with_5pool_v15/checkpoints/cp.ckpt\n",
      "784/784 [==============================] - 552s 705ms/step - loss: 0.0321 - mse: 0.0370 - val_loss: 0.0667 - val_mse: 0.0597\n",
      "Epoch 23/100\n",
      "784/784 [==============================] - ETA: 0s - loss: 0.0307 - mse: 0.0340\n",
      "Epoch 23: loss improved from 0.03214 to 0.03066, saving model to /data2/models/HSC_v6_NN_neurips_combined_with_5pool_v15/checkpoints/cp.ckpt\n",
      "784/784 [==============================] - 468s 597ms/step - loss: 0.0307 - mse: 0.0340 - val_loss: 0.0657 - val_mse: 0.0544\n",
      "Epoch 24/100\n",
      "784/784 [==============================] - ETA: 0s - loss: 0.0281 - mse: 0.0327\n",
      "Epoch 24: loss improved from 0.03066 to 0.02812, saving model to /data2/models/HSC_v6_NN_neurips_combined_with_5pool_v15/checkpoints/cp.ckpt\n",
      "784/784 [==============================] - 553s 705ms/step - loss: 0.0281 - mse: 0.0327 - val_loss: 0.0611 - val_mse: 0.0538\n",
      "Epoch 25/100\n",
      "784/784 [==============================] - ETA: 0s - loss: 0.0292 - mse: 0.0327\n",
      "Epoch 25: loss did not improve from 0.02812\n",
      "784/784 [==============================] - 676s 862ms/step - loss: 0.0292 - mse: 0.0327 - val_loss: 0.0636 - val_mse: 0.0499\n",
      "Epoch 26/100\n",
      "784/784 [==============================] - ETA: 0s - loss: 0.0267 - mse: 0.0295\n",
      "Epoch 26: loss improved from 0.02812 to 0.02668, saving model to /data2/models/HSC_v6_NN_neurips_combined_with_5pool_v15/checkpoints/cp.ckpt\n",
      "784/784 [==============================] - 515s 656ms/step - loss: 0.0267 - mse: 0.0295 - val_loss: 0.0623 - val_mse: 0.0523\n",
      "Epoch 27/100\n",
      "784/784 [==============================] - ETA: 0s - loss: 0.0248 - mse: 0.0286\n",
      "Epoch 27: loss improved from 0.02668 to 0.02482, saving model to /data2/models/HSC_v6_NN_neurips_combined_with_5pool_v15/checkpoints/cp.ckpt\n",
      "784/784 [==============================] - 478s 610ms/step - loss: 0.0248 - mse: 0.0286 - val_loss: 0.0596 - val_mse: 0.0499\n",
      "Epoch 28/100\n",
      "784/784 [==============================] - ETA: 0s - loss: 0.0240 - mse: 0.0290\n",
      "Epoch 28: loss improved from 0.02482 to 0.02398, saving model to /data2/models/HSC_v6_NN_neurips_combined_with_5pool_v15/checkpoints/cp.ckpt\n",
      "784/784 [==============================] - 466s 595ms/step - loss: 0.0240 - mse: 0.0290 - val_loss: 0.0596 - val_mse: 0.0499\n",
      "Epoch 29/100\n",
      "784/784 [==============================] - ETA: 0s - loss: 0.0233 - mse: 0.0262\n",
      "Epoch 29: loss improved from 0.02398 to 0.02331, saving model to /data2/models/HSC_v6_NN_neurips_combined_with_5pool_v15/checkpoints/cp.ckpt\n",
      "784/784 [==============================] - 542s 692ms/step - loss: 0.0233 - mse: 0.0262 - val_loss: 0.0603 - val_mse: 0.0504\n",
      "Epoch 30/100\n",
      "784/784 [==============================] - ETA: 0s - loss: 0.0224 - mse: 0.0268\n",
      "Epoch 30: loss improved from 0.02331 to 0.02235, saving model to /data2/models/HSC_v6_NN_neurips_combined_with_5pool_v15/checkpoints/cp.ckpt\n",
      "784/784 [==============================] - 566s 722ms/step - loss: 0.0224 - mse: 0.0268 - val_loss: 0.0628 - val_mse: 0.0521\n",
      "Epoch 31/100\n",
      "784/784 [==============================] - ETA: 0s - loss: 0.0227 - mse: 0.0270\n",
      "Epoch 31: loss did not improve from 0.02235\n",
      "784/784 [==============================] - 442s 564ms/step - loss: 0.0227 - mse: 0.0270 - val_loss: 0.0617 - val_mse: 0.0492\n",
      "Epoch 32/100\n",
      "784/784 [==============================] - ETA: 0s - loss: 0.0206 - mse: 0.0238\n",
      "Epoch 32: loss improved from 0.02235 to 0.02063, saving model to /data2/models/HSC_v6_NN_neurips_combined_with_5pool_v15/checkpoints/cp.ckpt\n",
      "784/784 [==============================] - 696s 888ms/step - loss: 0.0206 - mse: 0.0238 - val_loss: 0.0634 - val_mse: 0.0573\n",
      "Epoch 33/100\n",
      "784/784 [==============================] - ETA: 0s - loss: 0.0211 - mse: 0.0252\n",
      "Epoch 33: loss did not improve from 0.02063\n",
      "784/784 [==============================] - 564s 720ms/step - loss: 0.0211 - mse: 0.0252 - val_loss: 0.0596 - val_mse: 0.0518\n",
      "Epoch 34/100\n",
      "784/784 [==============================] - ETA: 0s - loss: 0.0177 - mse: 0.0224\n",
      "Epoch 34: loss improved from 0.02063 to 0.01771, saving model to /data2/models/HSC_v6_NN_neurips_combined_with_5pool_v15/checkpoints/cp.ckpt\n",
      "784/784 [==============================] - 487s 621ms/step - loss: 0.0177 - mse: 0.0224 - val_loss: 0.0593 - val_mse: 0.0481\n",
      "Epoch 35/100\n",
      "784/784 [==============================] - ETA: 0s - loss: 0.0181 - mse: 0.0220\n",
      "Epoch 35: loss did not improve from 0.01771\n",
      "784/784 [==============================] - 454s 579ms/step - loss: 0.0181 - mse: 0.0220 - val_loss: 0.0645 - val_mse: 0.0511\n",
      "Epoch 36/100\n",
      "784/784 [==============================] - ETA: 0s - loss: 0.0178 - mse: 0.0214\n",
      "Epoch 36: loss did not improve from 0.01771\n",
      "784/784 [==============================] - 452s 576ms/step - loss: 0.0178 - mse: 0.0214 - val_loss: 0.0617 - val_mse: 0.0507\n",
      "Epoch 37/100\n",
      "784/784 [==============================] - ETA: 0s - loss: 0.0176 - mse: 0.0200\n",
      "Epoch 37: loss improved from 0.01771 to 0.01758, saving model to /data2/models/HSC_v6_NN_neurips_combined_with_5pool_v15/checkpoints/cp.ckpt\n",
      "784/784 [==============================] - 589s 751ms/step - loss: 0.0176 - mse: 0.0200 - val_loss: 0.0607 - val_mse: 0.0504\n",
      "Epoch 38/100\n",
      "784/784 [==============================] - ETA: 0s - loss: 0.0165 - mse: 0.0198\n",
      "Epoch 38: loss improved from 0.01758 to 0.01650, saving model to /data2/models/HSC_v6_NN_neurips_combined_with_5pool_v15/checkpoints/cp.ckpt\n",
      "784/784 [==============================] - 460s 587ms/step - loss: 0.0165 - mse: 0.0198 - val_loss: 0.0595 - val_mse: 0.0492\n",
      "Epoch 39/100\n",
      "784/784 [==============================] - ETA: 0s - loss: 0.0161 - mse: 0.0200\n",
      "Epoch 39: loss improved from 0.01650 to 0.01614, saving model to /data2/models/HSC_v6_NN_neurips_combined_with_5pool_v15/checkpoints/cp.ckpt\n",
      "784/784 [==============================] - 647s 826ms/step - loss: 0.0161 - mse: 0.0200 - val_loss: 0.0616 - val_mse: 0.0504\n",
      "Epoch 40/100\n",
      "784/784 [==============================] - ETA: 0s - loss: 0.0155 - mse: 0.0187\n",
      "Epoch 40: loss improved from 0.01614 to 0.01550, saving model to /data2/models/HSC_v6_NN_neurips_combined_with_5pool_v15/checkpoints/cp.ckpt\n",
      "784/784 [==============================] - 651s 832ms/step - loss: 0.0155 - mse: 0.0187 - val_loss: 0.0624 - val_mse: 0.0490\n",
      "Epoch 41/100\n",
      "784/784 [==============================] - ETA: 0s - loss: 0.0062 - mse: 0.0085\n",
      "Epoch 97: loss did not improve from 0.00539\n",
      "784/784 [==============================] - 450s 575ms/step - loss: 0.0062 - mse: 0.0085 - val_loss: 0.0573 - val_mse: 0.0523\n",
      "Epoch 98/100\n",
      "784/784 [==============================] - ETA: 0s - loss: 0.0067 - mse: 0.0090\n",
      "Epoch 100: loss did not improve from 0.00539\n",
      "784/784 [==============================] - 459s 586ms/step - loss: 0.0061 - mse: 0.0083 - val_loss: 0.0600 - val_mse: 0.0524\n"
     ]
    },
    {
     "data": {
      "text/plain": [
       "<keras.callbacks.History at 0x7feb523cec50>"
      ]
     },
     "execution_count": 15,
     "metadata": {},
     "output_type": "execute_result"
    }
   ],
   "source": [
    "model.fit(train_gen, batch_size=hparams['batch_size'], epochs=hparams['num_epochs'], shuffle=True, verbose=1, validation_data=val_gen, callbacks=[tensorboard_callback, model_checkpoint_callback, hparam_callback])"
   ]
  },
  {
   "cell_type": "code",
   "execution_count": 16,
   "id": "3519a288",
   "metadata": {},
   "outputs": [
    {
     "data": {
      "text/plain": [
       "<tensorflow.python.checkpoint.checkpoint.CheckpointLoadStatus at 0x7feb527bd030>"
      ]
     },
     "execution_count": 16,
     "metadata": {},
     "output_type": "execute_result"
    }
   ],
   "source": [
    "model.load_weights(checkpoint_filepath)"
   ]
  },
  {
   "cell_type": "code",
   "execution_count": 17,
   "id": "91426254",
   "metadata": {},
   "outputs": [
    {
     "name": "stdout",
     "output_type": "stream",
     "text": [
      "168/168 [==============================] - 75s 445ms/step\n"
     ]
    }
   ],
   "source": [
    "pred = model.predict(test_gen)"
   ]
  },
  {
   "cell_type": "code",
   "execution_count": 18,
   "id": "4a2de867",
   "metadata": {},
   "outputs": [],
   "source": [
    "with h5py.File(TEST_PATH, 'r') as file:\n",
    "    y_test = np.asarray(file['specz_redshift'][:])\n",
    "    oid_test = np.asarray(file['object_id'][:])"
   ]
  },
  {
   "cell_type": "code",
   "execution_count": 19,
   "id": "66950f70",
   "metadata": {},
   "outputs": [
    {
     "data": {
      "image/png": "[encoded data removed]",
      "text/plain": [
       "<Figure size 1000x1000 with 2 Axes>"
      ]
     },
     "metadata": {},
     "output_type": "display_data"
    }
   ],
   "source": [
    "plot_predictions(np.ravel(pred), y_test)"
   ]
  },
  {
   "cell_type": "code",
   "execution_count": 20,
   "id": "e70f4f0c",
   "metadata": {},
   "outputs": [],
   "source": [
    "metrics = get_point_metrics(pd.Series(np.ravel(pred)), pd.Series(y_test), binned=False)"
   ]
  },
  {
   "cell_type": "code",
   "execution_count": 21,
   "id": "0d7cf11f",
   "metadata": {},
   "outputs": [
    {
     "data": {
      "text/html": [
       "<div>\n",
       "<style scoped>\n",
       "    .dataframe tbody tr th:only-of-type {\n",
       "        vertical-align: middle;\n",
       "    }\n",
       "\n",
       "    .dataframe tbody tr th {\n",
       "        vertical-align: top;\n",
       "    }\n",
       "\n",
       "    .dataframe thead th {\n",
       "        text-align: right;\n",
       "    }\n",
       "</style>\n",
       "<table border=\"1\" class=\"dataframe\">\n",
       "  <thead>\n",
       "    <tr style=\"text-align: right;\">\n",
       "      <th></th>\n",
       "      <th>zspec_bin</th>\n",
       "      <th>count</th>\n",
       "      <th>L</th>\n",
       "      <th>bias_bw</th>\n",
       "      <th>bias_conv</th>\n",
       "      <th>scatter_bw</th>\n",
       "      <th>scatter_conv</th>\n",
       "      <th>outlier_bw</th>\n",
       "      <th>outlier_conv</th>\n",
       "      <th>mse</th>\n",
       "    </tr>\n",
       "  </thead>\n",
       "  <tbody>\n",
       "    <tr>\n",
       "      <th>0</th>\n",
       "      <td>(0.0, 4.0]</td>\n",
       "      <td>42960</td>\n",
       "      <td>0.057983</td>\n",
       "      <td>0.001557</td>\n",
       "      <td>0.001757</td>\n",
       "      <td>0.022596</td>\n",
       "      <td>0.019766</td>\n",
       "      <td>0.125652</td>\n",
       "      <td>0.035801</td>\n",
       "      <td>0.052974</td>\n",
       "    </tr>\n",
       "  </tbody>\n",
       "</table>\n",
       "</div>"
      ],
      "text/plain": [
       "    zspec_bin  count         L   bias_bw  bias_conv  scatter_bw  scatter_conv  \\\n",
       "0  (0.0, 4.0]  42960  0.057983  0.001557   0.001757    0.022596      0.019766   \n",
       "\n",
       "   outlier_bw  outlier_conv       mse  \n",
       "0    0.125652      0.035801  0.052974  "
      ]
     },
     "execution_count": 21,
     "metadata": {},
     "output_type": "execute_result"
    }
   ],
   "source": [
    "metrics"
   ]
  },
  {
   "cell_type": "code",
   "execution_count": 22,
   "id": "e4b14400",
   "metadata": {},
   "outputs": [],
   "source": [
    "df = pd.DataFrame(pred, columns=['photoz'])\n",
    "df['specz'] = pd.Series(y_test)\n",
    "df['object_id'] = pd.Series(oid_test)\n",
    "os.makedirs(f'/data2/predictions/{model_name}', exist_ok=True)\n",
    "df.to_csv(f'/data2/predictions/{model_name}/testing_predictions.csv', index=False)\n",
    "metrics.to_csv(f'/data2/predictions/{model_name}/testing_metrics.csv', index=False)"
   ]
  }
 ],
 "metadata": {
  "kernelspec": {
   "display_name": "Python (photoz)",
   "language": "python",
   "name": "photoz"
  },
  "language_info": {
   "codemirror_mode": {
    "name": "ipython",
    "version": 3
   },
   "file_extension": ".py",
   "mimetype": "text/x-python",
   "name": "python",
   "nbconvert_exporter": "python",
   "pygments_lexer": "ipython3",
   "version": "3.10.12"
  }
 },
 "nbformat": 4,
 "nbformat_minor": 5
}
