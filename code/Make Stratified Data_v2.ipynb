{
 "cells": [
  {
   "cell_type": "code",
   "execution_count": 54,
   "id": "5eb1d7d9",
   "metadata": {},
   "outputs": [
    {
     "name": "stdout",
     "output_type": "stream",
     "text": [
      "Num GPUs Available:  1\n"
     ]
    }
   ],
   "source": [
    "import tensorflow as tf\n",
    "import tensorflow_probability as tfp\n",
    "import pandas as pd\n",
    "import random\n",
    "print(\"Num GPUs Available: \", len(tf.config.list_physical_devices('GPU')))\n",
    "from sklearn.metrics import mean_squared_error\n",
    "import matplotlib.pyplot as plt\n",
    "import matplotlib.cm as cm\n",
    "from IPython.display import clear_output\n",
    "from scipy.interpolate import interp1d\n",
    "from datetime import datetime\n",
    "import os\n",
    "\n",
    "import numpy as np\n",
    "from tensorflow import keras\n",
    "from sklearn import preprocessing\n",
    "from sklearn.model_selection import train_test_split\n",
    "tfd = tfp.distributions\n",
    "\n",
    "import keras\n",
    "from keras.models import Sequential,Input,Model\n",
    "from keras.layers import Dense, Dropout, Flatten"
   ]
  },
  {
   "cell_type": "code",
   "execution_count": 55,
   "id": "177bd8c5",
   "metadata": {},
   "outputs": [
    {
     "name": "stdout",
     "output_type": "stream",
     "text": [
      "1 Physical GPUs, 1 Logical GPUs\n"
     ]
    }
   ],
   "source": [
    "gpus = tf.config.list_physical_devices('GPU')\n",
    "if gpus:\n",
    "  # Restrict TensorFlow to only allocate 1GB of memory on the first GPU\n",
    "  try:\n",
    "    tf.config.experimental.set_virtual_device_configuration(\n",
    "        gpus[0],\n",
    "        [tf.config.experimental.VirtualDeviceConfiguration(memory_limit=5000)])\n",
    "    logical_gpus = tf.config.experimental.list_logical_devices('GPU')\n",
    "    print(len(gpus), \"Physical GPUs,\", len(logical_gpus), \"Logical GPUs\")\n",
    "  except RuntimeError as e:\n",
    "    # Virtual devices must be set before GPUs have been initialized\n",
    "    print(e)"
   ]
  },
  {
   "cell_type": "code",
   "execution_count": 56,
   "id": "481ff0df",
   "metadata": {},
   "outputs": [],
   "source": [
    "photozdata = pd.read_csv('/mnt/data/HSC/HSC_v6/HSC_v6.csv')"
   ]
  },
  {
   "cell_type": "code",
   "execution_count": 57,
   "id": "c77d1d2a",
   "metadata": {},
   "outputs": [],
   "source": [
    "# filter & duplicate drop from bayesian_nn\n",
    "z_max = 4\n",
    "filt = (photozdata['specz_redshift'] < z_max)\\\n",
    "& (photozdata['specz_redshift'] > 0.01)\\\n",
    "& (photozdata['specz_redshift_err'] > 0) \\\n",
    "& (photozdata['specz_redshift_err'] < 1)\\\n",
    "&(photozdata[\"specz_redshift_err\"]<0.005*(1+photozdata[\"specz_redshift\"]))\\\n",
    "&(photozdata['g_cmodel_mag'] >0)\\\n",
    "&(photozdata['r_cmodel_mag'] >0)\\\n",
    "&(photozdata['i_cmodel_mag'] >0)\\\n",
    "&(photozdata['z_cmodel_mag'] >0)\\\n",
    "&(photozdata['y_cmodel_mag'] >0)\\\n",
    "&(photozdata['g_cmodel_mag'] < 100)\\\n",
    "&(photozdata['r_cmodel_mag'] < 100)\\\n",
    "&(photozdata['i_cmodel_mag'] < 100)\\\n",
    "&(photozdata['z_cmodel_mag'] < 100)\\\n",
    "&(photozdata['y_cmodel_mag'] < 100)\\\n",
    "&(photozdata['specz_flag_homogeneous'] == True)\n",
    "photozdata.drop_duplicates(subset=['object_id'])\n",
    "photozdata_subset = photozdata[filt]"
   ]
  },
  {
   "cell_type": "code",
   "execution_count": 58,
   "id": "545abf32",
   "metadata": {},
   "outputs": [
    {
     "data": {
      "text/plain": [
       "Index(['object_id', 'specz_redshift_err', 'specz_redshift', 'specz_mag_i',\n",
       "       'specz_name', 'specz_ra', 'specz_dec', 'specz_flag_homogeneous', 'ra',\n",
       "       'dec', 'coord', 'skymap_id', 'g_cmodel_mag', 'r_cmodel_mag',\n",
       "       'i_cmodel_mag', 'z_cmodel_mag', 'y_cmodel_mag', 'g_cmodel_magsigma',\n",
       "       'r_cmodel_magsigma', 'i_cmodel_magsigma', 'z_cmodel_magsigma',\n",
       "       'y_cmodel_magsigma'],\n",
       "      dtype='object')"
      ]
     },
     "execution_count": 58,
     "metadata": {},
     "output_type": "execute_result"
    }
   ],
   "source": [
    "photozdata.columns"
   ]
  },
  {
   "cell_type": "code",
   "execution_count": 59,
   "id": "12c77c04",
   "metadata": {},
   "outputs": [],
   "source": [
    "photozdata_trainset, photozdata_testset = train_test_split(photozdata_subset, test_size=0.2) # Already randomized"
   ]
  },
  {
   "cell_type": "code",
   "execution_count": 60,
   "id": "464bd08b",
   "metadata": {},
   "outputs": [],
   "source": [
    "photozdata_trainset.to_csv('/mnt/data/HSC/3_model_comparison/training_v2.csv')\n",
    "photozdata_testset.to_csv('/mnt/data/HSC/3_model_comparison/testing_v2.csv')"
   ]
  },
  {
   "cell_type": "code",
   "execution_count": 61,
   "id": "a5bf61ce",
   "metadata": {},
   "outputs": [],
   "source": [
    "train_array = np.asarray(photozdata_trainset)"
   ]
  },
  {
   "cell_type": "code",
   "execution_count": 62,
   "id": "5554ad62",
   "metadata": {},
   "outputs": [],
   "source": [
    "n = len(train_array)"
   ]
  },
  {
   "cell_type": "code",
   "execution_count": 63,
   "id": "a74ee1c3",
   "metadata": {},
   "outputs": [],
   "source": [
    "train_sorted = sorted(train_array, key=lambda x: x[2])"
   ]
  },
  {
   "cell_type": "code",
   "execution_count": 64,
   "id": "df1a3926",
   "metadata": {},
   "outputs": [
    {
     "data": {
      "text/plain": [
       "array([40963714442092434, 0.000509999983, 0.0101899998, 18.8309994,\n",
       "       'GAMA-DR2-208908', 130.73413, 0.01592, True, 130.73412701463883,\n",
       "       0.0159279465077812,\n",
       "       '(-134598.0625, 156296.28125, 57.340606689453125)', 93140208,\n",
       "       19.339283, 19.1545334, 19.1159019, 19.0424004, 18.9637146,\n",
       "       0.000972035457, 0.00120819651, 0.0013044175, 0.00208218838,\n",
       "       0.00373457535], dtype=object)"
      ]
     },
     "execution_count": 64,
     "metadata": {},
     "output_type": "execute_result"
    }
   ],
   "source": [
    "train_sorted[0]"
   ]
  },
  {
   "cell_type": "code",
   "execution_count": 65,
   "id": "ef087fd2",
   "metadata": {},
   "outputs": [],
   "source": [
    "nstrata = 4\n",
    "stratas = []\n",
    "cur = z_max/nstrata\n",
    "pre = 0\n",
    "for i in range(0,n):\n",
    "    if train_sorted[i][2] >= cur:\n",
    "        stratas.append(train_sorted[pre:i])\n",
    "        pre = i\n",
    "        cur += z_max/nstrata\n",
    "    if i == n - 1:\n",
    "        stratas.append(train_sorted[pre:i])\n",
    "strata_lengths = []\n",
    "for i in range(0,nstrata):\n",
    "    random.shuffle(stratas[i])\n",
    "    strata_lengths.append(len(stratas[i]))"
   ]
  },
  {
   "cell_type": "code",
   "execution_count": 66,
   "id": "a2d5cf99",
   "metadata": {},
   "outputs": [],
   "source": [
    "nnetwork = 8"
   ]
  },
  {
   "cell_type": "code",
   "execution_count": 67,
   "id": "4970cd30",
   "metadata": {},
   "outputs": [
    {
     "name": "stdout",
     "output_type": "stream",
     "text": [
      "[201418, 16559, 9431, 1711]\n"
     ]
    }
   ],
   "source": [
    "print(strata_lengths)"
   ]
  },
  {
   "cell_type": "code",
   "execution_count": 86,
   "id": "4140e13d",
   "metadata": {},
   "outputs": [],
   "source": [
    "# Manual\n",
    "\n",
    "sample_array = [6, 3, 2, 1]\n",
    "training_set_size = 4*min(strata_lengths)"
   ]
  },
  {
   "cell_type": "code",
   "execution_count": 87,
   "id": "b567e7a5",
   "metadata": {},
   "outputs": [],
   "source": [
    "training_data = []\n",
    "\n",
    "min_array = [int(training_set_size/sum(sample_array))] * nstrata\n",
    "sample_size_array = [i*j for i,j in zip(sample_array, min_array)]"
   ]
  },
  {
   "cell_type": "code",
   "execution_count": 88,
   "id": "415c3027",
   "metadata": {},
   "outputs": [
    {
     "data": {
      "image/png": "[encoded data removed]",
      "text/plain": [
       "<Figure size 720x576 with 1 Axes>"
      ]
     },
     "metadata": {
      "needs_background": "light"
     },
     "output_type": "display_data"
    }
   ],
   "source": [
    "# Plot\n",
    "z_ranges = [1, 2, 3, 4]\n",
    "plt.figure(figsize=(10, 8))\n",
    "plt.rcParams.update({'font.size': 10})\n",
    "ax = plt.subplot(111)\n",
    "ax.bar([i-(z_max/nstrata/2) for i in z_ranges], strata_lengths, width = 0.4, color = 'royalblue', label = 'Total Sampling Population')\n",
    "ax.bar([i-(z_max/nstrata/2) for i in z_ranges], sample_size_array, width = 0.4, color = 'red', label = 'Sample Size')\n",
    "\n",
    "plt.title('Data Points in Each Strata')\n",
    "plt.xlabel('Spectroscopic z')\n",
    "plt.ylabel('Number of Data Points')\n",
    "ylim = 20000\n",
    "plt.ylim([0,ylim])\n",
    "plt.text(z_ranges[0]-(z_max/nstrata/2), 1*ylim/20, str(strata_lengths[0]), color = 'white', ha='center', va='center')\n",
    "plt.text(z_ranges[1]-(z_max/nstrata/2), 1*ylim/20, str(strata_lengths[1]), color = 'white', ha='center', va='center')\n",
    "plt.text(z_ranges[0]-(z_max/nstrata/2), 2*ylim/20, \"/\", color = 'white', ha='center', va='center')\n",
    "plt.text(z_ranges[1]-(z_max/nstrata/2), 2*ylim/20, \"/\", color = 'white', ha='center', va='center')\n",
    "plt.text(z_ranges[0]-(z_max/nstrata/2), 3*ylim/20, str(sample_size_array[0]), color = 'white', ha='center', va='center')\n",
    "plt.text(z_ranges[1]-(z_max/nstrata/2), 3*ylim/20, str(sample_size_array[1]), color = 'white', ha='center', va='center')\n",
    "handles, labels = plt.gca().get_legend_handles_labels()\n",
    "plt.legend()\n",
    "plt.axhline(y=0, color='black', linestyle='-')\n",
    "plt.show()"
   ]
  },
  {
   "cell_type": "code",
   "execution_count": 89,
   "id": "b49f9d2b",
   "metadata": {},
   "outputs": [],
   "source": [
    "# Sampling training data from each strata\n",
    "\n",
    "for i in range(0, nnetwork):\n",
    "    sampled = random.sample(stratas[0][0:strata_lengths[0]], sample_size_array[0])\n",
    "    training_data_bin = sampled\n",
    "    for j in range(1, nstrata):\n",
    "        sampled = random.sample(stratas[j][0:strata_lengths[j]], sample_size_array[j])\n",
    "        training_data_bin = np.concatenate((training_data_bin, sampled), axis=0)\n",
    "    training_data.append(training_data_bin)"
   ]
  },
  {
   "cell_type": "code",
   "execution_count": 90,
   "id": "67d3efb0",
   "metadata": {},
   "outputs": [],
   "source": [
    "for i in range(1, nnetwork + 1):\n",
    "    df = pd.DataFrame(training_data[i - 1], columns=['object_id', 'specz_redshift_err', 'specz_redshift', 'specz_mag_i',\n",
    "       'specz_name', 'specz_ra', 'specz_dec', 'specz_flag_homogeneous', 'ra',\n",
    "       'dec', 'coord', 'skymap_id', 'g_cmodel_mag', 'r_cmodel_mag',\n",
    "       'i_cmodel_mag', 'z_cmodel_mag', 'y_cmodel_mag', 'g_cmodel_magsigma',\n",
    "       'r_cmodel_magsigma', 'i_cmodel_magsigma', 'z_cmodel_magsigma',\n",
    "       'y_cmodel_magsigma'])\n",
    "    df.to_csv('/mnt/data/HSC/3_model_comparison/training_set_'+str(sample_array)+'#'+str(i)+'.csv')"
   ]
  },
  {
   "cell_type": "code",
   "execution_count": 92,
   "id": "c3fbf40a",
   "metadata": {},
   "outputs": [],
   "source": [
    "training_data_control = []\n",
    "for i in range(0, nnetwork):\n",
    "    sampled = random.sample(list(train_array), training_set_size)\n",
    "    training_data_control.append(sampled)"
   ]
  },
  {
   "cell_type": "code",
   "execution_count": 93,
   "id": "40b65b93",
   "metadata": {},
   "outputs": [],
   "source": [
    "for i in range(1, nnetwork + 1):\n",
    "    df = pd.DataFrame(training_data[i - 1], columns=['object_id', 'specz_redshift_err', 'specz_redshift', 'specz_mag_i',\n",
    "       'specz_name', 'specz_ra', 'specz_dec', 'specz_flag_homogeneous', 'ra',\n",
    "       'dec', 'coord', 'skymap_id', 'g_cmodel_mag', 'r_cmodel_mag',\n",
    "       'i_cmodel_mag', 'z_cmodel_mag', 'y_cmodel_mag', 'g_cmodel_magsigma',\n",
    "       'r_cmodel_magsigma', 'i_cmodel_magsigma', 'z_cmodel_magsigma',\n",
    "       'y_cmodel_magsigma'])\n",
    "    df.to_csv('/mnt/data/HSC/3_model_comparison/training_set_control#'+str(i)+'.csv')"
   ]
  },
  {
   "cell_type": "code",
   "execution_count": null,
   "id": "239f6e0f",
   "metadata": {},
   "outputs": [],
   "source": [
    "# END"
   ]
  }
 ],
 "metadata": {
  "kernelspec": {
   "display_name": "Python 3",
   "language": "python",
   "name": "python3"
  },
  "language_info": {
   "codemirror_mode": {
    "name": "ipython",
    "version": 3
   },
   "file_extension": ".py",
   "mimetype": "text/x-python",
   "name": "python",
   "nbconvert_exporter": "python",
   "pygments_lexer": "ipython3",
   "version": "3.8.10"
  }
 },
 "nbformat": 4,
 "nbformat_minor": 5
}
