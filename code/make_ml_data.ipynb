{
 "cells": [
  {
   "cell_type": "code",
   "execution_count": 1,
   "id": "7e5d33a4-8bbb-4277-8bdf-17ab73605b15",
   "metadata": {},
   "outputs": [],
   "source": [
    "import sys, os\n",
    "import numpy as np\n",
    "import pandas as pd\n",
    "import photoz_utils\n",
    "import random\n",
    "import h5py\n",
    "import matplotlib.pyplot as plt\n",
    "from astropy.io import fits\n",
    "from tqdm import tqdm"
   ]
  },
  {
   "cell_type": "code",
   "execution_count": 2,
   "id": "b8040be2-6ea1-4fc1-be6b-1cd043453a52",
   "metadata": {},
   "outputs": [],
   "source": [
    "photozdata = pd.read_csv('/data/HSC/HSC_v6/HSC_v6.csv')\n",
    "photozdata.describe()\n",
    "\n",
    "b = np.argsort(photozdata['object_id'])\n",
    "sorted_photozdata = photozdata.iloc[b][:]\n",
    "photozdata = sorted_photozdata"
   ]
  },
  {
   "cell_type": "code",
   "execution_count": 3,
   "id": "133e192d-cb2d-43b3-8351-9877d1e40f25",
   "metadata": {},
   "outputs": [
    {
     "name": "stdout",
     "output_type": "stream",
     "text": [
      "object_id\n",
      "specz_redshift_err\n",
      "specz_redshift\n",
      "specz_mag_i\n",
      "specz_name\n",
      "specz_ra\n",
      "specz_dec\n",
      "specz_flag_homogeneous\n",
      "ra\n",
      "dec\n",
      "coord\n",
      "skymap_id\n",
      "g_cmodel_mag\n",
      "r_cmodel_mag\n",
      "i_cmodel_mag\n",
      "z_cmodel_mag\n",
      "y_cmodel_mag\n",
      "g_cmodel_magsigma\n",
      "r_cmodel_magsigma\n",
      "i_cmodel_magsigma\n",
      "z_cmodel_magsigma\n",
      "y_cmodel_magsigma\n"
     ]
    },
    {
     "name": "stderr",
     "output_type": "stream",
     "text": [
      "/tmp/ipykernel_2770193/3463937130.py:1: FutureWarning: iteritems is deprecated and will be removed in a future version. Use .items instead.\n",
      "  for (columnName, columnData) in photozdata.iteritems():\n"
     ]
    }
   ],
   "source": [
    "for (columnName, columnData) in photozdata.iteritems():\n",
    "    print(columnName)"
   ]
  },
  {
   "cell_type": "code",
   "execution_count": 4,
   "id": "717f3d93-dc1d-49ec-b80b-625a0265268c",
   "metadata": {},
   "outputs": [],
   "source": [
    "hf = h5py.File('/data/HSC/HSC_v6/temp/64x64/5x64x64.hdf5', 'a')"
   ]
  },
  {
   "cell_type": "code",
   "execution_count": 5,
   "id": "85988b92-736d-4dc7-8c9e-5e40f6c62fb5",
   "metadata": {},
   "outputs": [],
   "source": [
    "hf_original = h5py.File('/data/HSC/HSC_v6/step2A/127x127/legacy/five_band_image127x127_with_metadata_corrected.hdf5', 'r')\n",
    "object_id_train = np.asarray(hf_original['object_id'])[..., None]\n",
    "size = len(object_id_train)\n",
    "\n",
    "start_index = (127 - 64) // 2\n",
    "end_index = start_index + 64"
   ]
  },
  {
   "cell_type": "code",
   "execution_count": 5,
   "id": "992d00f6-69a1-4e2b-9323-3798a2b78c0a",
   "metadata": {},
   "outputs": [
    {
     "name": "stderr",
     "output_type": "stream",
     "text": [
      "  0%|          | 0/286401 [00:00<?, ?it/s]/tmp/ipykernel_2032709/3208781507.py:42: FutureWarning: iteritems is deprecated and will be removed in a future version. Use .items instead.\n",
      "  for (columnName, columnData) in photozdata.iteritems():\n",
      "  0%|          | 1/286401 [00:00<17:37:36,  4.51it/s]/tmp/ipykernel_2032709/3208781507.py:56: FutureWarning: iteritems is deprecated and will be removed in a future version. Use .items instead.\n",
      "  for (columnName, columnData) in photozdata.iteritems():\n",
      "100%|██████████| 286401/286401 [1:40:15<00:00, 47.61it/s]  \n"
     ]
    }
   ],
   "source": [
    "for i in tqdm(range(size)):\n",
    "\n",
    "    five_band_image = []\n",
    "    \n",
    "    image = np.asarray(hf_original['image'][i : i + 1])[0]\n",
    "\n",
    "    image_g = image[0]\n",
    "    image_r = image[1]\n",
    "    image_i = image[2]\n",
    "    image_z = image[3]\n",
    "    image_y = image[4]\n",
    "\n",
    "    im_g = image_g[start_index : end_index, start_index : end_index]\n",
    "    im_r = image_r[start_index : end_index, start_index : end_index]\n",
    "    im_i = image_i[start_index : end_index, start_index : end_index]\n",
    "    im_z = image_z[start_index : end_index, start_index : end_index]\n",
    "    im_y = image_y[start_index : end_index, start_index : end_index]\n",
    "    \n",
    "    five_band_image.append(im_g)\n",
    "    five_band_image.append(im_r)\n",
    "    five_band_image.append(im_i)\n",
    "    five_band_image.append(im_z)\n",
    "    five_band_image.append(im_y)\n",
    "\n",
    "    # Update five_band_image_reshape to store central 64x64 sections\n",
    "    five_band_image_reshape = np.reshape(np.array(five_band_image), [1, 5, 64, 64])\n",
    "    \n",
    "    # plt.imshow(five_band_image_reshape[0][0])\n",
    "\n",
    "    specz = np.asarray(hf_original['specz_redshift'][i : i + 1])[0]\n",
    "    specz_reshape = np.reshape(specz, [1, 1])\n",
    "\n",
    "    if i == 0:\n",
    "\n",
    "        for (columnName, columnData) in photozdata.iteritems():\n",
    "\n",
    "            if columnName == 'specz_name' or columnName == 'coord':\n",
    "\n",
    "                hf.create_dataset(columnName, data = np.asarray(hf_original[columnName][i : i + 1]).astype('S')[0], maxshape = (None, ))\n",
    "\n",
    "            else:\n",
    "\n",
    "                hf.create_dataset(columnName, data = np.asarray(hf_original[columnName][i : i + 1]), maxshape = (None, ))\n",
    "\n",
    "        hf.create_dataset('image', data = five_band_image_reshape, chunks = True, maxshape = (None, 5, 64, 64))\n",
    "\n",
    "    else:\n",
    "\n",
    "        for (columnName, columnData) in photozdata.iteritems():\n",
    "\n",
    "            hf[columnName].resize((hf[columnName].shape[0] + 1), axis = 0)\n",
    "\n",
    "            if columnName == 'specz_name' or columnName == 'coord':\n",
    "\n",
    "                hf[columnName][hf[columnName].shape[0] - 1] = np.asarray(hf_original[columnName][i : i + 1]).astype('S')[0]\n",
    "\n",
    "            else:\n",
    "\n",
    "                hf[columnName][hf[columnName].shape[0] - 1] = np.asarray(hf_original[columnName][i : i + 1])[0]\n",
    "\n",
    "        hf['image'].resize((hf['image'].shape[0] + 1), axis = 0)\n",
    "        hf['image'][hf['image'].shape[0] - 1, :, :, :] = five_band_image_reshape\n",
    "\n",
    "hf.close()"
   ]
  },
  {
   "cell_type": "code",
   "execution_count": null,
   "id": "8807f98b-9ecb-4c2c-b174-1094384ca856",
   "metadata": {},
   "outputs": [],
   "source": [
    "# Check data correctness\n",
    "hf = h5py.File('/data/HSC/HSC_v6/temp/64x64/5x64x64.hdf5', 'r')\n",
    "for (columnName, columnData) in tqdm(photozdata.iteritems()):\n",
    "    # print(np.asarray(hf_original[columnName])[..., None][0:2])\n",
    "    for i in range(0, 100):\n",
    "        if np.asarray(hf[columnName])[..., None][i] != np.asarray(hf_original[columnName])[..., None][i]:\n",
    "            print('error')"
   ]
  },
  {
   "cell_type": "code",
   "execution_count": 7,
   "id": "3038358c-ef05-4c82-9c1a-9ff51606be92",
   "metadata": {},
   "outputs": [
    {
     "data": {
      "image/png": "[encoded data removed]",
      "text/plain": [
       "<Figure size 640x480 with 2 Axes>"
      ]
     },
     "metadata": {},
     "output_type": "display_data"
    }
   ],
   "source": [
    "index_to_show = 4\n",
    "fig, axes = plt.subplots(1, 2)  # 1 row, 2 columns\n",
    "\n",
    "axes[0].imshow(hf['image'][index_to_show][0], vmin = 0, vmax = 4.16)\n",
    "axes[0].axis('off')\n",
    "\n",
    "axes[1].imshow(hf_original['image'][index_to_show][0], vmin = 0, vmax = 4.16)\n",
    "axes[1].axis('off')\n",
    "\n",
    "plt.tight_layout()\n",
    "plt.show()"
   ]
  },
  {
   "cell_type": "code",
   "execution_count": 7,
   "id": "1473a207-13eb-4c9c-86c3-1b9baf40a4b4",
   "metadata": {},
   "outputs": [
    {
     "name": "stdout",
     "output_type": "stream",
     "text": [
      "75992\n"
     ]
    }
   ],
   "source": [
    "# key = np.random.randint(0, 100000)\n",
    "key = 75992\n",
    "print(key)"
   ]
  },
  {
   "cell_type": "code",
   "execution_count": 10,
   "id": "f83ae710-ed01-4783-acc6-840423b0fc36",
   "metadata": {},
   "outputs": [],
   "source": [
    "np.random.seed(key)"
   ]
  },
  {
   "cell_type": "code",
   "execution_count": 9,
   "id": "49ccedc2-b522-48f3-8dee-ec5553d4a182",
   "metadata": {},
   "outputs": [],
   "source": [
    "ntrain = 204573\n",
    "ntest = 40914\n",
    "nval = 40914\n",
    "if ntrain + ntest + nval != size:\n",
    "    print('error!')"
   ]
  },
  {
   "cell_type": "code",
   "execution_count": 11,
   "id": "ec6432f7-3266-4a4f-916b-7db24d5ee0c5",
   "metadata": {},
   "outputs": [],
   "source": [
    "indices = random.sample(list(np.arange(size)), ntrain + ntest + nval)"
   ]
  },
  {
   "cell_type": "code",
   "execution_count": 13,
   "id": "8b202f8f-f595-4fd8-beab-6a3aba7cc770",
   "metadata": {},
   "outputs": [],
   "source": [
    "# np.save('datasplit_indices.npy', indices)"
   ]
  },
  {
   "cell_type": "code",
   "execution_count": 14,
   "id": "e7033c33-0c53-4ff4-acd1-c0883dadb303",
   "metadata": {},
   "outputs": [],
   "source": [
    "indices = np.load('datasplit_indices.npy')"
   ]
  },
  {
   "cell_type": "code",
   "execution_count": 16,
   "id": "1cee7e53-cd7c-46e5-a30c-14b9f5a9ba31",
   "metadata": {},
   "outputs": [],
   "source": [
    "inds_train = np.sort(indices[: ntrain])\n",
    "inds_test = np.sort(indices[ntrain : ntrain + ntest])\n",
    "inds_val = np.sort(indices[ntrain + ntest :])"
   ]
  },
  {
   "cell_type": "code",
   "execution_count": 17,
   "id": "7816ae4e-b5e6-4d6d-8f31-edfd5285daf8",
   "metadata": {},
   "outputs": [],
   "source": [
    "hf_split = h5py.File('/data/HSC/HSC_v6/temp/64x64/5x64x64.hdf5', 'r')\n",
    "dataset_length = len(hf_split['image'])\n",
    "if dataset_length != size:\n",
    "    print('error!')"
   ]
  },
  {
   "cell_type": "code",
   "execution_count": 20,
   "id": "294db3f4-a6d3-4922-9bd1-92f2f37c7bc0",
   "metadata": {},
   "outputs": [
    {
     "name": "stderr",
     "output_type": "stream",
     "text": [
      "204573it [00:21, 9334.23it/s]\n",
      "204573it [00:13, 15253.62it/s]\n",
      "204573it [00:13, 15404.18it/s]\n",
      "204573it [00:15, 13201.72it/s]\n",
      "204573it [00:13, 15161.55it/s]\n",
      "204573it [00:17, 11443.76it/s]\n",
      "204573it [04:01, 848.02it/s] \n",
      "204573it [00:12, 15750.71it/s]\n",
      "204573it [00:23, 8757.10it/s] \n",
      "204573it [00:20, 9858.95it/s] \n",
      "204573it [00:21, 9687.52it/s] \n",
      "204573it [00:13, 15694.05it/s]\n",
      "204573it [00:28, 7199.33it/s] \n",
      "204573it [00:22, 9038.21it/s]\n",
      "204573it [00:13, 15427.58it/s]\n",
      "204573it [00:22, 9079.47it/s]\n",
      "204573it [00:13, 14819.83it/s]\n",
      "204573it [00:13, 15292.89it/s]\n",
      "204573it [00:13, 15276.38it/s]\n",
      "204573it [00:20, 10137.76it/s]\n",
      "204573it [00:27, 7526.66it/s] \n",
      "204573it [00:14, 14506.45it/s]\n",
      "204573it [00:13, 15111.64it/s]\n",
      "40914it [00:12, 3278.24it/s]\n",
      "40914it [00:02, 14754.78it/s]\n",
      "40914it [00:03, 12368.28it/s]\n",
      "40914it [00:03, 10591.30it/s]\n",
      "40914it [00:02, 14806.14it/s]\n",
      "40914it [00:03, 12140.67it/s]\n",
      "40914it [02:03, 330.60it/s]\n",
      "40914it [00:02, 15631.77it/s]\n",
      "40914it [00:02, 14803.67it/s]\n",
      "40914it [00:02, 15061.59it/s]\n",
      "40914it [00:02, 15340.79it/s]\n",
      "40914it [00:02, 16381.51it/s]\n",
      "40914it [00:02, 15259.49it/s]\n",
      "40914it [00:04, 9182.52it/s]\n",
      "40914it [00:02, 15057.34it/s]\n",
      "40914it [00:04, 9528.22it/s]\n",
      "40914it [00:02, 15489.14it/s]\n",
      "40914it [00:02, 15244.42it/s]\n",
      "40914it [00:02, 15154.99it/s]\n",
      "40914it [00:02, 15116.94it/s]\n",
      "40914it [00:02, 15462.12it/s]\n",
      "40914it [00:02, 14945.56it/s]\n",
      "40914it [00:02, 15381.51it/s]\n",
      "40914it [00:10, 3869.17it/s]\n",
      "40914it [00:02, 15387.72it/s]\n",
      "40914it [00:03, 13048.09it/s]\n",
      "40914it [00:03, 12433.98it/s]\n",
      "40914it [00:02, 15243.59it/s]\n",
      "40914it [00:03, 12390.60it/s]\n",
      "40914it [01:44, 391.14it/s] \n",
      "40914it [00:02, 15743.96it/s]\n",
      "40914it [00:02, 14859.01it/s]\n",
      "40914it [00:02, 14425.69it/s]\n",
      "40914it [00:02, 15090.07it/s]\n",
      "40914it [00:02, 16207.94it/s]\n",
      "40914it [00:02, 14960.75it/s]\n",
      "40914it [00:04, 9049.09it/s]\n",
      "40914it [00:02, 15119.23it/s]\n",
      "40914it [00:04, 9275.01it/s]\n",
      "40914it [00:02, 14788.09it/s]\n",
      "40914it [00:02, 14849.33it/s]\n",
      "40914it [00:02, 14832.13it/s]\n",
      "40914it [00:02, 14772.79it/s]\n",
      "40914it [00:02, 14849.06it/s]\n",
      "40914it [00:02, 14815.62it/s]\n",
      "40914it [00:02, 14796.88it/s]\n"
     ]
    }
   ],
   "source": [
    "subsizes = [ntrain, ntest, nval]\n",
    "file_ends = ['_training', '_testing', '_validation']\n",
    "inds_list = [inds_train, inds_test, inds_val]\n",
    "\n",
    "for subsize, file_end, inds in zip(subsizes, file_ends, inds_list):\n",
    "    hf_write = h5py.File('/data/HSC/HSC_v6/temp/64x64/5x64x64' + file_end + '.hdf5', 'w')\n",
    "    for k in hf_split.keys():\n",
    "        tmp = hf_split[k]\n",
    "        subshape = list(np.shape(tmp))\n",
    "        subshape[0] = subsize\n",
    "        dataset = hf_write.create_dataset(k, shape = subshape, dtype = tmp.dtype)\n",
    "        for i, index in tqdm(enumerate(inds)):\n",
    "            dataset[i] = tmp[index]\n",
    "        tmp = None\n",
    "\n",
    "hf_split.close()\n",
    "hf_write.close()"
   ]
  },
  {
   "cell_type": "code",
   "execution_count": 21,
   "id": "1a95c258-3d7d-4603-ab74-aca82bb727d8",
   "metadata": {},
   "outputs": [],
   "source": [
    "hf_split = h5py.File('/data/HSC/HSC_v6/temp/127x127/5x127x127.hdf5', 'r')\n",
    "dataset_length = len(hf_split['image'])\n",
    "if dataset_length != size:\n",
    "    print('error!')"
   ]
  },
  {
   "cell_type": "code",
   "execution_count": 22,
   "id": "6b4630fe-19df-43b3-a9d0-0272facb61aa",
   "metadata": {},
   "outputs": [
    {
     "name": "stderr",
     "output_type": "stream",
     "text": [
      "204573it [00:14, 14165.24it/s]\n",
      "204573it [00:09, 21660.50it/s]\n",
      "204573it [00:09, 21681.15it/s]\n",
      "204573it [00:09, 21902.67it/s]\n",
      "204573it [00:09, 21827.24it/s]\n",
      "204573it [00:09, 21792.52it/s]\n",
      "204573it [14:27, 235.86it/s]\n",
      "204573it [00:08, 23016.85it/s]\n",
      "204573it [00:09, 21867.88it/s]\n",
      "204573it [00:09, 21754.87it/s]\n",
      "204573it [00:09, 21837.45it/s]\n",
      "204573it [00:09, 22463.43it/s]\n",
      "204573it [00:09, 21814.92it/s]\n",
      "204573it [00:15, 12967.24it/s]\n",
      "204573it [00:09, 21773.37it/s]\n",
      "204573it [00:14, 14056.57it/s]\n",
      "204573it [00:09, 21743.03it/s]\n",
      "204573it [00:09, 22278.71it/s]\n",
      "204573it [00:09, 21763.46it/s]\n",
      "204573it [00:09, 21721.66it/s]\n",
      "204573it [00:09, 20895.86it/s]\n",
      "204573it [00:09, 20925.16it/s]\n",
      "204573it [00:09, 21754.46it/s]\n",
      "40914it [00:02, 14432.01it/s]\n",
      "40914it [00:02, 20366.57it/s]\n",
      "40914it [00:01, 21071.81it/s]\n",
      "40914it [00:01, 21427.73it/s]\n",
      "40914it [00:01, 22049.64it/s]\n",
      "40914it [00:01, 21691.69it/s]\n",
      "40914it [07:09, 95.16it/s] \n",
      "40914it [00:01, 22156.98it/s]\n",
      "40914it [00:01, 22023.09it/s]\n",
      "40914it [00:01, 21823.95it/s]\n",
      "40914it [00:01, 21784.33it/s]\n",
      "40914it [00:01, 22118.25it/s]\n",
      "40914it [00:01, 22463.22it/s]\n",
      "40914it [00:03, 12935.86it/s]\n",
      "40914it [00:01, 21145.20it/s]\n",
      "40914it [00:02, 14518.70it/s]\n",
      "40914it [00:01, 23200.96it/s]\n",
      "40914it [00:01, 23253.11it/s]\n",
      "40914it [00:01, 22583.04it/s]\n",
      "40914it [00:01, 22274.14it/s]\n",
      "40914it [00:01, 22358.77it/s]\n",
      "40914it [00:01, 23170.04it/s]\n",
      "40914it [00:01, 22032.14it/s]\n",
      "40914it [00:02, 14253.29it/s]\n",
      "40914it [00:01, 21845.62it/s]\n",
      "40914it [00:01, 21816.16it/s]\n",
      "40914it [00:01, 21979.81it/s]\n",
      "40914it [00:01, 21907.41it/s]\n",
      "40914it [00:01, 22141.37it/s]\n",
      "40914it [06:54, 98.61it/s] \n",
      "40914it [00:01, 23013.14it/s]\n",
      "40914it [00:01, 22322.80it/s]\n",
      "40914it [00:01, 22149.93it/s]\n",
      "40914it [00:01, 21893.82it/s]\n",
      "40914it [00:01, 21965.76it/s]\n",
      "40914it [00:01, 21482.98it/s]\n",
      "40914it [00:03, 12791.26it/s]\n",
      "40914it [00:01, 21537.40it/s]\n",
      "40914it [00:02, 14309.21it/s]\n",
      "40914it [00:01, 21891.71it/s]\n",
      "40914it [00:01, 21457.51it/s]\n",
      "40914it [00:01, 21736.55it/s]\n",
      "40914it [00:01, 21496.00it/s]\n",
      "40914it [00:01, 21830.64it/s]\n",
      "40914it [00:01, 21860.51it/s]\n",
      "40914it [00:01, 22069.06it/s]\n"
     ]
    }
   ],
   "source": [
    "subsizes = [ntrain, ntest, nval]\n",
    "file_ends = ['_training', '_testing', '_validation']\n",
    "inds_list = [inds_train, inds_test, inds_val]\n",
    "\n",
    "for subsize, file_end, inds in zip(subsizes, file_ends, inds_list):\n",
    "    hf_write = h5py.File('/data/HSC/HSC_v6/temp/127x127/5x127x127' + file_end + '.hdf5', 'w')\n",
    "    for k in hf_split.keys():\n",
    "        tmp = hf_split[k]\n",
    "        subshape = list(np.shape(tmp))\n",
    "        subshape[0] = subsize\n",
    "        dataset = hf_write.create_dataset(k, shape = subshape, dtype = tmp.dtype)\n",
    "        for i, index in tqdm(enumerate(inds)):\n",
    "            dataset[i] = tmp[index]\n",
    "        tmp = None\n",
    "\n",
    "hf_split.close()\n",
    "hf_write.close()"
   ]
  },
  {
   "cell_type": "code",
   "execution_count": null,
   "id": "1d1456ec-c77b-445a-b918-6a75616f8aaf",
   "metadata": {},
   "outputs": [],
   "source": [
    "# END"
   ]
  }
 ],
 "metadata": {
  "kernelspec": {
   "display_name": "Python 3 (ipykernel)",
   "language": "python",
   "name": "python3"
  },
  "language_info": {
   "codemirror_mode": {
    "name": "ipython",
    "version": 3
   },
   "file_extension": ".py",
   "mimetype": "text/x-python",
   "name": "python",
   "nbconvert_exporter": "python",
   "pygments_lexer": "ipython3",
   "version": "3.10.10"
  }
 },
 "nbformat": 4,
 "nbformat_minor": 5
}
