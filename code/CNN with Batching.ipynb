{
 "cells": [
  {
   "cell_type": "markdown",
   "id": "efd0a46f",
   "metadata": {},
   "source": [
    "# CNN with Batching\n",
    "\n",
    "2022-07-14\n",
    "\n",
    "Zooey Nguyen\n",
    "\n",
    "Our simple CNN model with batching."
   ]
  },
  {
   "cell_type": "markdown",
   "id": "266cc1e0",
   "metadata": {},
   "source": [
    "## Setup"
   ]
  },
  {
   "cell_type": "code",
   "execution_count": null,
   "id": "d23f862b",
   "metadata": {},
   "outputs": [],
   "source": [
    "import os\n",
    "import h5py\n",
    "import numpy as np\n",
    "import tensorflow as tf\n",
    "from DataMaker import *"
   ]
  },
  {
   "cell_type": "code",
   "execution_count": null,
   "id": "3a0b55be",
   "metadata": {},
   "outputs": [],
   "source": [
    "LATENT_DIM = 16\n",
    "IMAGE_SHAPE = (5, 127, 127)\n",
    "BATCH_SIZE = 128\n",
    "EPOCHS = 10\n",
    "GB_LIMIT = 5"
   ]
  },
  {
   "cell_type": "markdown",
   "id": "2feddde7",
   "metadata": {},
   "source": [
    "## Allocate GPU\n",
    "\n",
    "Make sure to check others' current usage on Aurora in terminal using `watch nvidia-smi`. Set your `GB_LIMIT` accordingly, in gigabytes. Aurora has 50GB of memory."
   ]
  },
  {
   "cell_type": "code",
   "execution_count": 2,
   "id": "3a44e7a5",
   "metadata": {},
   "outputs": [
    {
     "name": "stdout",
     "output_type": "stream",
     "text": [
      "1 Physical GPUs, 1 Logical GPUs\n"
     ]
    }
   ],
   "source": [
    "gpus = tf.config.list_physical_devices('GPU')\n",
    "if gpus:\n",
    "    try:\n",
    "        tf.config.experimental.set_virtual_device_configuration(\n",
    "            gpus[0],\n",
    "            [tf.config.experimental.VirtualDeviceConfiguration(memory_limit=GB_LIMIT*1000)])\n",
    "        logical_gpus = tf.config.experimental.list_logical_devices('GPU')\n",
    "        print(len(gpus), \"Physical GPUs,\", len(logical_gpus), \"Logical GPUs\")\n",
    "    except RuntimeError as e:\n",
    "        print(e)"
   ]
  },
  {
   "cell_type": "markdown",
   "id": "2a4e37b0",
   "metadata": {},
   "source": [
    "## Data processing"
   ]
  },
  {
   "cell_type": "code",
   "execution_count": 3,
   "id": "8f974bf4",
   "metadata": {},
   "outputs": [],
   "source": [
    "args_gen = {'X_key': 'image',\n",
    "    'y_key': 'specz_redshift',\n",
    "    'scaler': False,\n",
    "    'labels_encoding': False,\n",
    "    'batch_size': 32,\n",
    "    'mode': 'train'}\n",
    "\n",
    "start_path = \"/data/HSC/HSC_v6/step2A/127x127/five_band_image127x127_\"\n",
    "end_path = \"_with_metadata_with_scaled.hdf5\"\n",
    "TRAIN_PATH = start_path + \"training\" + end_path\n",
    "VAL_PATH = start_path + \"validation\" + end_path\n",
    "TEST_PATH = start_path + \"testing\" + end_path"
   ]
  },
  {
   "cell_type": "code",
   "execution_count": 4,
   "id": "5796575d",
   "metadata": {},
   "outputs": [
    {
     "name": "stdout",
     "output_type": "stream",
     "text": [
      "['coord', 'dec', 'g_cmodel_mag', 'g_cmodel_magsigma', 'i_cmodel_mag', 'i_cmodel_magsigma', 'image', 'object_id', 'r_cmodel_mag', 'r_cmodel_magsigma', 'ra', 'scaled_mags', 'skymap_id', 'specz_dec', 'specz_flag_homogeneous', 'specz_mag_i', 'specz_name', 'specz_ra', 'specz_redshift', 'specz_redshift_err', 'y_cmodel_mag', 'y_cmodel_magsigma', 'z_cmodel_mag', 'z_cmodel_magsigma']\n",
      "(229120, 5, 127, 127)\n"
     ]
    }
   ],
   "source": [
    "train_hf = h5py.File(TRAIN_PATH)\n",
    "print(list(train_hf.keys()))\n",
    "print(train_hf['image'].shape)"
   ]
  },
  {
   "cell_type": "code",
   "execution_count": 5,
   "id": "3c1c87d4",
   "metadata": {},
   "outputs": [],
   "source": [
    "train_gen = HDF5ImageGenerator(src=TRAIN_PATH, **args_gen)\n",
    "val_gen = HDF5ImageGenerator(src=VAL_PATH, **args_gen)\n",
    "test_gen = HDF5ImageGenerator(src=TEST_PATH, **args_gen)"
   ]
  },
  {
   "cell_type": "markdown",
   "id": "1645a486",
   "metadata": {},
   "source": [
    "## Simple CNN"
   ]
  },
  {
   "cell_type": "code",
   "execution_count": 6,
   "id": "74e64628",
   "metadata": {},
   "outputs": [],
   "source": [
    "from tensorflow.keras.models import Sequential\n",
    "from tensorflow.keras.layers import Dense, Flatten, InputLayer\n",
    "from tensorflow.keras.layers import Conv2D, MaxPooling2D"
   ]
  },
  {
   "cell_type": "markdown",
   "id": "25ae506a",
   "metadata": {},
   "source": [
    "### Define model"
   ]
  },
  {
   "cell_type": "code",
   "execution_count": 7,
   "id": "fe7e3a3e",
   "metadata": {},
   "outputs": [],
   "source": [
    "model = Sequential()\n",
    "model.add(InputLayer(input_shape=IMAGE_SHAPE))\n",
    "model.add(Conv2D(32, kernel_size=(3, 3), activation='tanh', padding='same', data_format='channels_first'))\n",
    "model.add(MaxPooling2D(pool_size = (2,2)))\n",
    "model.add(Conv2D(32, kernel_size=(2,2),activation='tanh', padding='same', data_format='channels_first'))\n",
    "model.add(MaxPooling2D(pool_size = (2,2)))\n",
    "model.add(Conv2D(32, kernel_size=(3,3),activation='relu', padding='same', data_format='channels_first'))\n",
    "model.add(Conv2D(32, kernel_size=(2,2),activation='relu', padding='same', data_format='channels_first'))\n",
    "model.add(Flatten())\n",
    "model.add(Dense(500, activation=\"tanh\"))\n",
    "model.add(Dense(100, activation=\"tanh\"))\n",
    "model.add(Dense(1))"
   ]
  },
  {
   "cell_type": "code",
   "execution_count": 8,
   "id": "028f6892",
   "metadata": {},
   "outputs": [
    {
     "name": "stdout",
     "output_type": "stream",
     "text": [
      "Model: \"sequential\"\n",
      "_________________________________________________________________\n",
      "Layer (type)                 Output Shape              Param #   \n",
      "=================================================================\n",
      "conv2d (Conv2D)              (None, 32, 127, 127)      1472      \n",
      "_________________________________________________________________\n",
      "max_pooling2d (MaxPooling2D) (None, 16, 63, 127)       0         \n",
      "_________________________________________________________________\n",
      "conv2d_1 (Conv2D)            (None, 32, 63, 127)       2080      \n",
      "_________________________________________________________________\n",
      "max_pooling2d_1 (MaxPooling2 (None, 16, 31, 127)       0         \n",
      "_________________________________________________________________\n",
      "conv2d_2 (Conv2D)            (None, 32, 31, 127)       4640      \n",
      "_________________________________________________________________\n",
      "conv2d_3 (Conv2D)            (None, 32, 31, 127)       4128      \n",
      "_________________________________________________________________\n",
      "flatten (Flatten)            (None, 125984)            0         \n",
      "_________________________________________________________________\n",
      "dense (Dense)                (None, 500)               62992500  \n",
      "_________________________________________________________________\n",
      "dense_1 (Dense)              (None, 100)               50100     \n",
      "_________________________________________________________________\n",
      "dense_2 (Dense)              (None, 1)                 101       \n",
      "=================================================================\n",
      "Total params: 63,055,021\n",
      "Trainable params: 63,055,021\n",
      "Non-trainable params: 0\n",
      "_________________________________________________________________\n"
     ]
    }
   ],
   "source": [
    "model.compile(optimizer='Adam', loss=\"mse\",metrics=[tf.keras.metrics.MeanAbsoluteError()])\n",
    "model.summary()"
   ]
  },
  {
   "cell_type": "markdown",
   "id": "d634e880",
   "metadata": {},
   "source": [
    "###  Train model"
   ]
  },
  {
   "cell_type": "code",
   "execution_count": 10,
   "id": "15273663",
   "metadata": {},
   "outputs": [
    {
     "name": "stdout",
     "output_type": "stream",
     "text": [
      "Epoch 1/10\n",
      "7160/7160 [==============================] - 761s 73ms/step - loss: 0.3687 - mean_absolute_error: 0.3860\n",
      "Epoch 2/10\n",
      "7160/7160 [==============================] - 6048s 845ms/step - loss: 0.3301 - mean_absolute_error: 0.3757\n",
      "Epoch 3/10\n",
      "  39/7160 [..............................] - ETA: 1:26:17 - loss: 0.2923 - mean_absolute_error: 0.3578"
     ]
    },
    {
     "name": "stderr",
     "output_type": "stream",
     "text": [
      "IOPub message rate exceeded.\n",
      "The notebook server will temporarily stop sending output\n",
      "to the client in order to avoid crashing it.\n",
      "To change this limit, set the config variable\n",
      "`--NotebookApp.iopub_msg_rate_limit`.\n",
      "\n",
      "Current values:\n",
      "NotebookApp.iopub_msg_rate_limit=1000.0 (msgs/sec)\n",
      "NotebookApp.rate_limit_window=3.0 (secs)\n",
      "\n"
     ]
    },
    {
     "name": "stdout",
     "output_type": "stream",
     "text": [
      "7160/7160 [==============================] - 5639s 788ms/step - loss: 0.3305 - mean_absolute_error: 0.3761\n",
      "Epoch 5/10\n",
      "7160/7160 [==============================] - 5546s 775ms/step - loss: 0.3303 - mean_absolute_error: 0.3760\n",
      "Epoch 6/10\n",
      "7160/7160 [==============================] - 5444s 760ms/step - loss: 0.3303 - mean_absolute_error: 0.3756\n",
      "Epoch 7/10\n",
      "7160/7160 [==============================] - 5591s 781ms/step - loss: 0.3300 - mean_absolute_error: 0.3756\n",
      "Epoch 8/10\n",
      "7160/7160 [==============================] - 5487s 766ms/step - loss: 0.3302 - mean_absolute_error: 0.3759\n",
      "Epoch 9/10\n",
      "7160/7160 [==============================] - 5472s 764ms/step - loss: 0.3301 - mean_absolute_error: 0.3758\n",
      "Epoch 10/10\n",
      "7160/7160 [==============================] - 5817s 812ms/step - loss: 0.3304 - mean_absolute_error: 0.3761\n"
     ]
    },
    {
     "data": {
      "text/plain": [
       "<tensorflow.python.keras.callbacks.History at 0x7f214019ce20>"
      ]
     },
     "execution_count": 10,
     "metadata": {},
     "output_type": "execute_result"
    }
   ],
   "source": [
    "model.fit(train_gen, epochs=EPOCHS, verbose=1)"
   ]
  },
  {
   "cell_type": "markdown",
   "id": "3996c583",
   "metadata": {},
   "source": [
    "### Save model"
   ]
  },
  {
   "cell_type": "code",
   "execution_count": null,
   "id": "47e6e402",
   "metadata": {},
   "outputs": [],
   "source": [
    "MODEL_PATH = \"/data/HSC/HSC_v6/models_zooey\"\n",
    "MODEL_NAME = \"CNN\"\n",
    "MODEL_VERSION = \"1\""
   ]
  },
  {
   "cell_type": "code",
   "execution_count": null,
   "id": "cd26dc2c",
   "metadata": {},
   "outputs": [],
   "source": [
    "model_file = MODEL_PATH + '/' + MODEL_NAME +\\\n",
    "    '_v' + MODEL_VERSION +\\\n",
    "    '_batch' + str(BATCH_SIZE) +\\\n",
    "    '_epoch' + str(EPOCHS)\n",
    "print(model_file)"
   ]
  },
  {
   "cell_type": "code",
   "execution_count": 25,
   "id": "d680ff25",
   "metadata": {},
   "outputs": [
    {
     "name": "stdout",
     "output_type": "stream",
     "text": [
      "INFO:tensorflow:Assets written to: trained_models/cnn_batch128_epochs10/assets\n"
     ]
    }
   ],
   "source": [
    "model.save(model, model_file)"
   ]
  },
  {
   "cell_type": "markdown",
   "id": "00f52805",
   "metadata": {},
   "source": [
    "### Evaluate model"
   ]
  },
  {
   "cell_type": "code",
   "execution_count": 27,
   "id": "75336df2",
   "metadata": {},
   "outputs": [
    {
     "name": "stdout",
     "output_type": "stream",
     "text": [
      "896/896 [==============================] - 58s 65ms/step - loss: 0.3257 - mean_absolute_error: 0.3675\n"
     ]
    }
   ],
   "source": [
    "results = model.evaluate(val_gen)"
   ]
  },
  {
   "cell_type": "code",
   "execution_count": 57,
   "id": "c237bb12",
   "metadata": {},
   "outputs": [],
   "source": [
    "val_preds = model.predict(val_gen)"
   ]
  }
 ],
 "metadata": {
  "kernelspec": {
   "display_name": "Python 3",
   "language": "python",
   "name": "python3"
  },
  "language_info": {
   "codemirror_mode": {
    "name": "ipython",
    "version": 3
   },
   "file_extension": ".py",
   "mimetype": "text/x-python",
   "name": "python",
   "nbconvert_exporter": "python",
   "pygments_lexer": "ipython3",
   "version": "3.8.10"
  }
 },
 "nbformat": 4,
 "nbformat_minor": 5
}
