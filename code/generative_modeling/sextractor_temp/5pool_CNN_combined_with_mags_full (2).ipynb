{
 "cells": [
  {
   "cell_type": "code",
   "execution_count": 1,
   "id": "8a9195a9",
   "metadata": {},
   "outputs": [
    {
     "name": "stderr",
     "output_type": "stream",
     "text": [
      "2023-08-26 15:47:48.375938: I tensorflow/core/platform/cpu_feature_guard.cc:193] This TensorFlow binary is optimized with oneAPI Deep Neural Network Library (oneDNN) to use the following CPU instructions in performance-critical operations:  AVX2 FMA\n",
      "To enable them in other operations, rebuild TensorFlow with the appropriate compiler flags.\n",
      "2023-08-26 15:47:48.917154: W tensorflow/compiler/xla/stream_executor/platform/default/dso_loader.cc:64] Could not load dynamic library 'libnvinfer.so.7'; dlerror: libnvinfer.so.7: cannot open shared object file: No such file or directory\n",
      "2023-08-26 15:47:48.917198: W tensorflow/compiler/xla/stream_executor/platform/default/dso_loader.cc:64] Could not load dynamic library 'libnvinfer_plugin.so.7'; dlerror: libnvinfer_plugin.so.7: cannot open shared object file: No such file or directory\n",
      "2023-08-26 15:47:48.917202: W tensorflow/compiler/tf2tensorrt/utils/py_utils.cc:38] TF-TRT Warning: Cannot dlopen some TensorRT libraries. If you would like to use Nvidia GPU with TensorRT, please make sure the missing libraries mentioned above are installed properly.\n"
     ]
    }
   ],
   "source": [
    "import tensorflow as tf\n",
    "import tensorflow_probability as tfp\n",
    "import pandas as pd\n",
    "import numpy as np\n",
    "import matplotlib.pyplot as plt\n",
    "import h5py\n",
    "import keras\n",
    "import os\n",
    "import tensorboard\n",
    "from tensorflow.keras.models import Sequential, Model\n",
    "from tensorflow.keras.layers import Dense, Conv2D, MaxPooling2D, GlobalMaxPooling2D, Dropout, Input, Concatenate\n",
    "from tensorflow.keras.regularizers import L2\n",
    "from tensorflow.keras.optimizers import Adam\n",
    "from sklearn.preprocessing import StandardScaler\n",
    "from tensorboard.plugins.hparams import api as hp\n",
    "\n",
    "from photoz_utils import *\n",
    "from DataMakerPlus import *"
   ]
  },
  {
   "cell_type": "code",
   "execution_count": 2,
   "id": "1e0276b4",
   "metadata": {},
   "outputs": [],
   "source": [
    "GB_LIMIT = 10"
   ]
  },
  {
   "cell_type": "code",
   "execution_count": 3,
   "id": "399daa8b",
   "metadata": {},
   "outputs": [
    {
     "name": "stdout",
     "output_type": "stream",
     "text": [
      "1 Physical GPUs, 1 Logical GPUs\n"
     ]
    }
   ],
   "source": [
    "gpus = tf.config.list_physical_devices('GPU')\n",
    "if gpus:\n",
    "    try:\n",
    "        tf.config.experimental.set_virtual_device_configuration(\n",
    "            gpus[0],\n",
    "            [tf.config.experimental.VirtualDeviceConfiguration(GB_LIMIT*1000)])\n",
    "        logical_gpus = tf.config.experimental.list_logical_devices('GPU')\n",
    "        print(len(gpus), \"Physical GPUs,\", len(logical_gpus), \"Logical GPUs\")\n",
    "    except RuntimeError as e:\n",
    "        print(e)"
   ]
  },
  {
   "cell_type": "code",
   "execution_count": 4,
   "id": "c193e0a6",
   "metadata": {},
   "outputs": [],
   "source": [
    "IMAGE_SHAPE = (5, 127, 127)\n",
    "NUM_DENSE_UNITS = 200\n",
    "BATCH_SIZE = 256\n",
    "NUM_EPOCHS = 100\n",
    "LEARNING_RATE = 0.0001\n",
    "Z_MAX = 4\n",
    "hparams = {\n",
    "    'num_dense_units': NUM_DENSE_UNITS,\n",
    "    'batch_size': BATCH_SIZE,\n",
    "    'num_epochs': NUM_EPOCHS,\n",
    "    'learning_rate': LEARNING_RATE,\n",
    "    'z_max': Z_MAX\n",
    "}"
   ]
  },
  {
   "cell_type": "code",
   "execution_count": 5,
   "id": "ab5fe813",
   "metadata": {},
   "outputs": [],
   "source": [
    "TRAIN_PATH = f'/data/HSC/HSC_v6/step2A/127x127/5x127x127_training.hdf5'\n",
    "VAL_PATH = f'/data/HSC/HSC_v6/step2A/127x127/5x127x127_validation.hdf5'\n",
    "TEST_PATH = f'/data/HSC/HSC_v6/step2A/127x127/5x127x127_testing.hdf5'"
   ]
  },
  {
   "cell_type": "code",
   "execution_count": 6,
   "id": "d0707677-e504-49b6-85fa-d117b00d0e82",
   "metadata": {},
   "outputs": [],
   "source": [
    "# param_names = []\n",
    "# for i in ['g', 'r', 'i', 'z', 'y']:\n",
    "#     for j in ['cmodel_mag', 'isophotal_area', 'half_light_radius', 'major_axis', 'minor_axis', 'ellipticity', 'sersic_index', 'peak_surface_brightness']:\n",
    "#         param_names.append(i + '_' + j)\n",
    "# v17\n",
    "\n",
    "param_names = []\n",
    "for i in ['g', 'r', 'i', 'z', 'y']:\n",
    "    for j in ['cmodel_mag']:\n",
    "        param_names.append(i + '_' + j)\n",
    "        # v19"
   ]
  },
  {
   "cell_type": "code",
   "execution_count": 7,
   "id": "37f177ac-bba7-49f8-8b92-089e8d6159f9",
   "metadata": {},
   "outputs": [
    {
     "data": {
      "text/plain": [
       "['g_cmodel_mag',\n",
       " 'r_cmodel_mag',\n",
       " 'i_cmodel_mag',\n",
       " 'z_cmodel_mag',\n",
       " 'y_cmodel_mag']"
      ]
     },
     "execution_count": 7,
     "metadata": {},
     "output_type": "execute_result"
    }
   ],
   "source": [
    "param_names"
   ]
  },
  {
   "cell_type": "code",
   "execution_count": 8,
   "id": "5c819380-4242-4601-8e21-d8c0ca082768",
   "metadata": {},
   "outputs": [],
   "source": [
    "gen_args = {\n",
    "    'image_key': 'image',\n",
    "    'numerical_keys': param_names,\n",
    "    'y_key': 'specz_redshift',\n",
    "    'scaler': True,\n",
    "    'labels_encoding': False,\n",
    "    'batch_size': hparams['batch_size'],\n",
    "    'shuffle': False}"
   ]
  },
  {
   "cell_type": "code",
   "execution_count": 9,
   "id": "dab2417c-c644-4a5a-86a4-bef945c9b3fe",
   "metadata": {},
   "outputs": [],
   "source": [
    "train_gen = HDF5DataGenerator(TRAIN_PATH, mode='train', **gen_args)\n",
    "val_gen = HDF5DataGenerator(VAL_PATH, mode='train', **gen_args)\n",
    "test_gen = HDF5DataGenerator(TEST_PATH, mode='test', **gen_args)"
   ]
  },
  {
   "cell_type": "code",
   "execution_count": 10,
   "id": "6053b02c",
   "metadata": {},
   "outputs": [],
   "source": [
    "import keras.backend as K\n",
    "\n",
    "def calculate_loss(z_photo, z_spec):\n",
    "    \"\"\"\n",
    "    HSC METRIC. Returns an array. Loss is accuracy metric defined by HSC, meant\n",
    "    to capture the effects of bias, scatter, and outlier all in one. This has\n",
    "    uses for both point and density estimation.\n",
    "    z_photo: array\n",
    "        Photometric or predicted redshifts.\n",
    "    z_spec: array\n",
    "        Spectroscopic or actual redshifts.\n",
    "    \"\"\"\n",
    "    dz = delz(z_photo, z_spec)\n",
    "    gamma = 0.15\n",
    "    denominator = 1.0 + K.square(dz/gamma)\n",
    "    loss = 1 - 1.0 / denominator\n",
    "    return loss"
   ]
  },
  {
   "cell_type": "code",
   "execution_count": 11,
   "id": "e1b768da",
   "metadata": {},
   "outputs": [],
   "source": [
    "input_cnn = Input(shape=(5,127,127))\n",
    "input_nn = Input(shape=(len(param_names),)) # don't forget to change this\n",
    "\n",
    "# CNN\n",
    "conv1 = Conv2D(32, kernel_size=(3, 3), activation='tanh', padding='same', data_format='channels_first')(input_cnn)\n",
    "pool1 = MaxPooling2D(pool_size = (2,2), data_format='channels_first')(conv1)\n",
    "conv2 = Conv2D(64, kernel_size=(3, 3), activation='tanh', padding='same', data_format='channels_first')(pool1)\n",
    "pool2 = MaxPooling2D(pool_size = (2,2), data_format='channels_first')(conv2)\n",
    "conv3 = Conv2D(128, kernel_size=(3, 3), activation='tanh', padding='same', data_format='channels_first')(pool2)\n",
    "pool3 = MaxPooling2D(pool_size = (2,2), data_format='channels_first')(conv3)\n",
    "conv4 = Conv2D(256, kernel_size=(3, 3), activation='tanh', padding='same', data_format='channels_first')(pool3)\n",
    "pool4 = MaxPooling2D(pool_size = (2,2), data_format='channels_first')(conv4)\n",
    "conv5 = Conv2D(256, kernel_size=(3, 3), activation='tanh', padding='same', data_format='channels_first')(pool4)\n",
    "pool5 = MaxPooling2D(pool_size = (2,2), data_format='channels_first')(conv5)\n",
    "conv6 = Conv2D(512, kernel_size=(3, 3),activation='relu', padding='same', data_format='channels_first')(pool5)\n",
    "conv7 = Conv2D(512, kernel_size=(3, 3),activation='relu', padding='same', data_format='channels_first')(conv6)\n",
    "flatten = GlobalMaxPooling2D(data_format='channels_first')(conv7)\n",
    "dense1 = Dense(512, activation='tanh')(flatten)\n",
    "dense2 = Dense(128, activation='tanh')(dense1)\n",
    "dense3 = Dense(32, activation='tanh')(dense2)\n",
    "\n",
    "# NN\n",
    "hidden1 = Dense(hparams['num_dense_units'], activation=\"relu\")(input_nn)\n",
    "hidden2 = Dense(hparams['num_dense_units'], activation=\"relu\")(hidden1)\n",
    "hidden3 = Dense(hparams['num_dense_units'], activation=\"relu\")(hidden2)\n",
    "hidden4 = Dense(hparams['num_dense_units'], activation=\"relu\")(hidden3)\n",
    "hidden5 = Dense(hparams['num_dense_units'], activation=\"relu\")(hidden4)\n",
    "hidden6 = Dense(hparams['num_dense_units'], activation=\"relu\")(hidden5)\n",
    "\n",
    "# Concat & Output\n",
    "concat = Concatenate()([dense3, hidden6])\n",
    "output = Dense(1)(concat)\n",
    "model = Model(inputs=[input_cnn, input_nn], outputs=[output])"
   ]
  },
  {
   "cell_type": "code",
   "execution_count": 12,
   "id": "51b40cc1",
   "metadata": {},
   "outputs": [
    {
     "name": "stdout",
     "output_type": "stream",
     "text": [
      "Model: \"model\"\n",
      "__________________________________________________________________________________________________\n",
      " Layer (type)                   Output Shape         Param #     Connected to                     \n",
      "==================================================================================================\n",
      " input_1 (InputLayer)           [(None, 5, 127, 127  0           []                               \n",
      "                                )]                                                                \n",
      "                                                                                                  \n",
      " conv2d (Conv2D)                (None, 32, 127, 127  1472        ['input_1[0][0]']                \n",
      "                                )                                                                 \n",
      "                                                                                                  \n",
      " max_pooling2d (MaxPooling2D)   (None, 32, 63, 63)   0           ['conv2d[0][0]']                 \n",
      "                                                                                                  \n",
      " conv2d_1 (Conv2D)              (None, 64, 63, 63)   18496       ['max_pooling2d[0][0]']          \n",
      "                                                                                                  \n",
      " max_pooling2d_1 (MaxPooling2D)  (None, 64, 31, 31)  0           ['conv2d_1[0][0]']               \n",
      "                                                                                                  \n",
      " conv2d_2 (Conv2D)              (None, 128, 31, 31)  73856       ['max_pooling2d_1[0][0]']        \n",
      "                                                                                                  \n",
      " max_pooling2d_2 (MaxPooling2D)  (None, 128, 15, 15)  0          ['conv2d_2[0][0]']               \n",
      "                                                                                                  \n",
      " conv2d_3 (Conv2D)              (None, 256, 15, 15)  295168      ['max_pooling2d_2[0][0]']        \n",
      "                                                                                                  \n",
      " max_pooling2d_3 (MaxPooling2D)  (None, 256, 7, 7)   0           ['conv2d_3[0][0]']               \n",
      "                                                                                                  \n",
      " conv2d_4 (Conv2D)              (None, 256, 7, 7)    590080      ['max_pooling2d_3[0][0]']        \n",
      "                                                                                                  \n",
      " max_pooling2d_4 (MaxPooling2D)  (None, 256, 3, 3)   0           ['conv2d_4[0][0]']               \n",
      "                                                                                                  \n",
      " input_2 (InputLayer)           [(None, 5)]          0           []                               \n",
      "                                                                                                  \n",
      " conv2d_5 (Conv2D)              (None, 512, 3, 3)    1180160     ['max_pooling2d_4[0][0]']        \n",
      "                                                                                                  \n",
      " dense_3 (Dense)                (None, 200)          1200        ['input_2[0][0]']                \n",
      "                                                                                                  \n",
      " conv2d_6 (Conv2D)              (None, 512, 3, 3)    2359808     ['conv2d_5[0][0]']               \n",
      "                                                                                                  \n",
      " dense_4 (Dense)                (None, 200)          40200       ['dense_3[0][0]']                \n",
      "                                                                                                  \n",
      " global_max_pooling2d (GlobalMa  (None, 512)         0           ['conv2d_6[0][0]']               \n",
      " xPooling2D)                                                                                      \n",
      "                                                                                                  \n",
      " dense_5 (Dense)                (None, 200)          40200       ['dense_4[0][0]']                \n",
      "                                                                                                  \n",
      " dense (Dense)                  (None, 512)          262656      ['global_max_pooling2d[0][0]']   \n",
      "                                                                                                  \n",
      " dense_6 (Dense)                (None, 200)          40200       ['dense_5[0][0]']                \n",
      "                                                                                                  \n",
      " dense_1 (Dense)                (None, 128)          65664       ['dense[0][0]']                  \n",
      "                                                                                                  \n",
      " dense_7 (Dense)                (None, 200)          40200       ['dense_6[0][0]']                \n",
      "                                                                                                  \n",
      " dense_2 (Dense)                (None, 32)           4128        ['dense_1[0][0]']                \n",
      "                                                                                                  \n",
      " dense_8 (Dense)                (None, 200)          40200       ['dense_7[0][0]']                \n",
      "                                                                                                  \n",
      " concatenate (Concatenate)      (None, 232)          0           ['dense_2[0][0]',                \n",
      "                                                                  'dense_8[0][0]']                \n",
      "                                                                                                  \n",
      " dense_9 (Dense)                (None, 1)            233         ['concatenate[0][0]']            \n",
      "                                                                                                  \n",
      "==================================================================================================\n",
      "Total params: 5,053,921\n",
      "Trainable params: 5,053,921\n",
      "Non-trainable params: 0\n",
      "__________________________________________________________________________________________________\n"
     ]
    }
   ],
   "source": [
    "model.summary()"
   ]
  },
  {
   "cell_type": "code",
   "execution_count": 13,
   "id": "0f180343",
   "metadata": {},
   "outputs": [],
   "source": [
    "model.compile(optimizer=Adam(learning_rate=hparams['learning_rate']), loss=calculate_loss, metrics='mse')"
   ]
  },
  {
   "cell_type": "code",
   "execution_count": 14,
   "id": "83073425",
   "metadata": {},
   "outputs": [],
   "source": [
    "model_name = 'HSC_v6_NN_neurips_combined_with_5pool_v25'\n",
    "\n",
    "checkpoint_filepath = f'/data2/models/{model_name}/checkpoints/cp.ckpt'\n",
    "checkpoint_dir = os.path.dirname(checkpoint_filepath)\n",
    "log_dir = os.path.join('/data2/logs/', model_name)\n",
    "\n",
    "model_checkpoint_callback = tf.keras.callbacks.ModelCheckpoint(\n",
    "    filepath=checkpoint_filepath,\n",
    "    save_weights_only=True,\n",
    "    monitor='loss',\n",
    "    mode='min',\n",
    "    save_freq='epoch',\n",
    "    save_best_only=True,\n",
    "    verbose=True)\n",
    "\n",
    "tensorboard_callback = tf.keras.callbacks.TensorBoard(log_dir=log_dir, histogram_freq=1)\n",
    "\n",
    "hparam_callback = hp.KerasCallback(log_dir, hparams)"
   ]
  },
  {
   "cell_type": "code",
   "execution_count": 15,
   "id": "f9d84ce7",
   "metadata": {
    "scrolled": true
   },
   "outputs": [
    {
     "name": "stdout",
     "output_type": "stream",
     "text": [
      "Epoch 1/100\n",
      "784/784 [==============================] - ETA: 0s - loss: 0.2624 - mse: 0.2370\n",
      "Epoch 1: loss improved from inf to 0.26243, saving model to /data2/models/HSC_v6_NN_neurips_combined_with_5pool_v25/checkpoints/cp.ckpt\n",
      "784/784 [==============================] - 588s 742ms/step - loss: 0.2624 - mse: 0.2370 - val_loss: 0.2538 - val_mse: 0.1474\n",
      "Epoch 2/100\n",
      "784/784 [==============================] - ETA: 0s - loss: 0.1858 - mse: 0.1096\n",
      "Epoch 2: loss improved from 0.26243 to 0.18581, saving model to /data2/models/HSC_v6_NN_neurips_combined_with_5pool_v25/checkpoints/cp.ckpt\n",
      "784/784 [==============================] - 610s 779ms/step - loss: 0.1858 - mse: 0.1096 - val_loss: 0.1736 - val_mse: 0.0968\n",
      "Epoch 3/100\n",
      "784/784 [==============================] - ETA: 0s - loss: 0.1610 - mse: 0.1010\n",
      "Epoch 3: loss improved from 0.18581 to 0.16099, saving model to /data2/models/HSC_v6_NN_neurips_combined_with_5pool_v25/checkpoints/cp.ckpt\n",
      "784/784 [==============================] - 639s 815ms/step - loss: 0.1610 - mse: 0.1010 - val_loss: 0.1455 - val_mse: 0.0968\n",
      "Epoch 4/100\n",
      "784/784 [==============================] - ETA: 0s - loss: 0.1434 - mse: 0.0987\n",
      "Epoch 4: loss improved from 0.16099 to 0.14338, saving model to /data2/models/HSC_v6_NN_neurips_combined_with_5pool_v25/checkpoints/cp.ckpt\n",
      "784/784 [==============================] - 732s 934ms/step - loss: 0.1434 - mse: 0.0987 - val_loss: 0.1286 - val_mse: 0.0954\n",
      "Epoch 5/100\n",
      "784/784 [==============================] - ETA: 0s - loss: 0.1301 - mse: 0.0931\n",
      "Epoch 5: loss improved from 0.14338 to 0.13008, saving model to /data2/models/HSC_v6_NN_neurips_combined_with_5pool_v25/checkpoints/cp.ckpt\n",
      "784/784 [==============================] - 785s 1s/step - loss: 0.1301 - mse: 0.0931 - val_loss: 0.1214 - val_mse: 0.0882\n",
      "Epoch 6/100\n",
      "784/784 [==============================] - ETA: 0s - loss: 0.1067 - mse: 0.0835\n",
      "Epoch 9: loss improved from 0.10950 to 0.10674, saving model to /data2/models/HSC_v6_NN_neurips_combined_with_5pool_v25/checkpoints/cp.ckpt\n",
      "784/784 [==============================] - 839s 1s/step - loss: 0.1067 - mse: 0.0835 - val_loss: 0.1069 - val_mse: 0.0829\n",
      "Epoch 10/100\n",
      "784/784 [==============================] - ETA: 0s - loss: 0.1027 - mse: 0.0845\n",
      "Epoch 10: loss improved from 0.10674 to 0.10269, saving model to /data2/models/HSC_v6_NN_neurips_combined_with_5pool_v25/checkpoints/cp.ckpt\n",
      "784/784 [==============================] - 755s 963ms/step - loss: 0.1027 - mse: 0.0845 - val_loss: 0.0974 - val_mse: 0.0809\n",
      "Epoch 11/100\n",
      "784/784 [==============================] - ETA: 0s - loss: 0.0933 - mse: 0.0827\n",
      "Epoch 11: loss improved from 0.10269 to 0.09332, saving model to /data2/models/HSC_v6_NN_neurips_combined_with_5pool_v25/checkpoints/cp.ckpt\n",
      "784/784 [==============================] - 774s 987ms/step - loss: 0.0933 - mse: 0.0827 - val_loss: 0.0940 - val_mse: 0.0818\n",
      "Epoch 12/100\n",
      "784/784 [==============================] - ETA: 0s - loss: 0.0911 - mse: 0.0828\n",
      "Epoch 12: loss improved from 0.09332 to 0.09108, saving model to /data2/models/HSC_v6_NN_neurips_combined_with_5pool_v25/checkpoints/cp.ckpt\n",
      "784/784 [==============================] - 802s 1s/step - loss: 0.0911 - mse: 0.0828 - val_loss: 0.0997 - val_mse: 0.0813\n",
      "Epoch 13/100\n",
      "784/784 [==============================] - ETA: 0s - loss: 0.0865 - mse: 0.0811\n",
      "Epoch 13: loss improved from 0.09108 to 0.08646, saving model to /data2/models/HSC_v6_NN_neurips_combined_with_5pool_v25/checkpoints/cp.ckpt\n",
      "784/784 [==============================] - 718s 916ms/step - loss: 0.0865 - mse: 0.0811 - val_loss: 0.1142 - val_mse: 0.0876\n",
      "Epoch 14/100\n",
      "784/784 [==============================] - ETA: 0s - loss: 0.0856 - mse: 0.0824\n",
      "Epoch 14: loss improved from 0.08646 to 0.08563, saving model to /data2/models/HSC_v6_NN_neurips_combined_with_5pool_v25/checkpoints/cp.ckpt\n",
      "784/784 [==============================] - 846s 1s/step - loss: 0.0856 - mse: 0.0824 - val_loss: 0.0912 - val_mse: 0.0828\n",
      "Epoch 15/100\n",
      "784/784 [==============================] - ETA: 0s - loss: 0.0808 - mse: 0.0813\n",
      "Epoch 15: loss improved from 0.08563 to 0.08084, saving model to /data2/models/HSC_v6_NN_neurips_combined_with_5pool_v25/checkpoints/cp.ckpt\n",
      "784/784 [==============================] - 770s 982ms/step - loss: 0.0808 - mse: 0.0813 - val_loss: 0.0875 - val_mse: 0.0800\n",
      "Epoch 16/100\n",
      "784/784 [==============================] - ETA: 0s - loss: 0.0777 - mse: 0.0801\n",
      "Epoch 16: loss improved from 0.08084 to 0.07772, saving model to /data2/models/HSC_v6_NN_neurips_combined_with_5pool_v25/checkpoints/cp.ckpt\n",
      "784/784 [==============================] - 725s 925ms/step - loss: 0.0777 - mse: 0.0801 - val_loss: 0.0812 - val_mse: 0.0816\n",
      "Epoch 17/100\n",
      "784/784 [==============================] - ETA: 0s - loss: 0.0759 - mse: 0.0795\n",
      "Epoch 17: loss improved from 0.07772 to 0.07593, saving model to /data2/models/HSC_v6_NN_neurips_combined_with_5pool_v25/checkpoints/cp.ckpt\n",
      "784/784 [==============================] - 734s 936ms/step - loss: 0.0759 - mse: 0.0795 - val_loss: 0.0885 - val_mse: 0.0824\n",
      "Epoch 18/100\n",
      "784/784 [==============================] - ETA: 0s - loss: 0.0759 - mse: 0.0796\n",
      "Epoch 18: loss improved from 0.07593 to 0.07592, saving model to /data2/models/HSC_v6_NN_neurips_combined_with_5pool_v25/checkpoints/cp.ckpt\n",
      "784/784 [==============================] - 719s 917ms/step - loss: 0.0759 - mse: 0.0796 - val_loss: 0.0964 - val_mse: 0.0838\n",
      "Epoch 19/100\n",
      "784/784 [==============================] - ETA: 0s - loss: 0.0739 - mse: 0.0785\n",
      "Epoch 19: loss improved from 0.07592 to 0.07393, saving model to /data2/models/HSC_v6_NN_neurips_combined_with_5pool_v25/checkpoints/cp.ckpt\n",
      "784/784 [==============================] - 729s 929ms/step - loss: 0.0739 - mse: 0.0785 - val_loss: 0.0809 - val_mse: 0.0776\n",
      "Epoch 20/100\n",
      "784/784 [==============================] - ETA: 0s - loss: 0.0712 - mse: 0.0772\n",
      "Epoch 20: loss improved from 0.07393 to 0.07117, saving model to /data2/models/HSC_v6_NN_neurips_combined_with_5pool_v25/checkpoints/cp.ckpt\n",
      "784/784 [==============================] - 709s 904ms/step - loss: 0.0712 - mse: 0.0772 - val_loss: 0.0751 - val_mse: 0.0772\n",
      "Epoch 21/100\n",
      "784/784 [==============================] - ETA: 0s - loss: 0.0693 - mse: 0.0759\n",
      "Epoch 21: loss improved from 0.07117 to 0.06926, saving model to /data2/models/HSC_v6_NN_neurips_combined_with_5pool_v25/checkpoints/cp.ckpt\n",
      "784/784 [==============================] - 717s 914ms/step - loss: 0.0693 - mse: 0.0759 - val_loss: 0.0786 - val_mse: 0.0815\n",
      "Epoch 22/100\n",
      "784/784 [==============================] - ETA: 0s - loss: 0.0691 - mse: 0.0745\n",
      "Epoch 22: loss improved from 0.06926 to 0.06914, saving model to /data2/models/HSC_v6_NN_neurips_combined_with_5pool_v25/checkpoints/cp.ckpt\n",
      "784/784 [==============================] - 698s 890ms/step - loss: 0.0691 - mse: 0.0745 - val_loss: 0.0793 - val_mse: 0.0774\n",
      "Epoch 23/100\n",
      "784/784 [==============================] - ETA: 0s - loss: 0.0669 - mse: 0.0760\n",
      "Epoch 23: loss improved from 0.06914 to 0.06695, saving model to /data2/models/HSC_v6_NN_neurips_combined_with_5pool_v25/checkpoints/cp.ckpt\n",
      "784/784 [==============================] - 773s 986ms/step - loss: 0.0669 - mse: 0.0760 - val_loss: 0.0745 - val_mse: 0.0779\n",
      "Epoch 24/100\n",
      "784/784 [==============================] - ETA: 0s - loss: 0.0669 - mse: 0.0753\n",
      "Epoch 24: loss improved from 0.06695 to 0.06687, saving model to /data2/models/HSC_v6_NN_neurips_combined_with_5pool_v25/checkpoints/cp.ckpt\n",
      "784/784 [==============================] - 736s 938ms/step - loss: 0.0669 - mse: 0.0753 - val_loss: 0.0756 - val_mse: 0.0741\n",
      "Epoch 25/100\n",
      "784/784 [==============================] - ETA: 0s - loss: 0.0642 - mse: 0.0725\n",
      "Epoch 25: loss improved from 0.06687 to 0.06416, saving model to /data2/models/HSC_v6_NN_neurips_combined_with_5pool_v25/checkpoints/cp.ckpt\n",
      "784/784 [==============================] - 721s 920ms/step - loss: 0.0642 - mse: 0.0725 - val_loss: 0.0750 - val_mse: 0.0724\n",
      "Epoch 26/100\n",
      "784/784 [==============================] - ETA: 0s - loss: 0.0620 - mse: 0.0721\n",
      "Epoch 26: loss improved from 0.06416 to 0.06203, saving model to /data2/models/HSC_v6_NN_neurips_combined_with_5pool_v25/checkpoints/cp.ckpt\n",
      "784/784 [==============================] - 742s 947ms/step - loss: 0.0620 - mse: 0.0721 - val_loss: 0.0715 - val_mse: 0.0757\n",
      "Epoch 27/100\n",
      "784/784 [==============================] - ETA: 0s - loss: 0.0646 - mse: 0.0723\n",
      "Epoch 27: loss did not improve from 0.06203\n",
      "784/784 [==============================] - 728s 929ms/step - loss: 0.0646 - mse: 0.0723 - val_loss: 0.0773 - val_mse: 0.0721\n",
      "Epoch 28/100\n",
      "784/784 [==============================] - ETA: 0s - loss: 0.0609 - mse: 0.0706\n",
      "Epoch 28: loss improved from 0.06203 to 0.06089, saving model to /data2/models/HSC_v6_NN_neurips_combined_with_5pool_v25/checkpoints/cp.ckpt\n",
      "784/784 [==============================] - 782s 997ms/step - loss: 0.0609 - mse: 0.0706 - val_loss: 0.0737 - val_mse: 0.0827\n",
      "Epoch 29/100\n",
      "784/784 [==============================] - ETA: 0s - loss: 0.0598 - mse: 0.0699\n",
      "Epoch 29: loss improved from 0.06089 to 0.05975, saving model to /data2/models/HSC_v6_NN_neurips_combined_with_5pool_v25/checkpoints/cp.ckpt\n",
      "784/784 [==============================] - 660s 842ms/step - loss: 0.0598 - mse: 0.0699 - val_loss: 0.0693 - val_mse: 0.0701\n",
      "Epoch 30/100\n",
      "784/784 [==============================] - ETA: 0s - loss: 0.0582 - mse: 0.0683\n",
      "Epoch 30: loss improved from 0.05975 to 0.05815, saving model to /data2/models/HSC_v6_NN_neurips_combined_with_5pool_v25/checkpoints/cp.ckpt\n",
      "784/784 [==============================] - 669s 853ms/step - loss: 0.0582 - mse: 0.0683 - val_loss: 0.0733 - val_mse: 0.0704\n",
      "Epoch 31/100\n",
      "784/784 [==============================] - ETA: 0s - loss: 0.0585 - mse: 0.0686\n",
      "Epoch 31: loss did not improve from 0.05815\n",
      "784/784 [==============================] - 612s 781ms/step - loss: 0.0585 - mse: 0.0686 - val_loss: 0.0720 - val_mse: 0.0743\n",
      "Epoch 32/100\n",
      "784/784 [==============================] - ETA: 0s - loss: 0.0565 - mse: 0.0664\n",
      "Epoch 32: loss improved from 0.05815 to 0.05648, saving model to /data2/models/HSC_v6_NN_neurips_combined_with_5pool_v25/checkpoints/cp.ckpt\n",
      "784/784 [==============================] - 682s 869ms/step - loss: 0.0565 - mse: 0.0664 - val_loss: 0.0692 - val_mse: 0.0691\n",
      "Epoch 33/100\n",
      "376/784 [=============>................] - ETA: 5:05 - loss: 0.0517 - mse: 0.0626"
     ]
    },
    {
     "name": "stderr",
     "output_type": "stream",
     "text": [
      "IOPub message rate exceeded.\n",
      "The Jupyter server will temporarily stop sending output\n",
      "to the client in order to avoid crashing it.\n",
      "To change this limit, set the config variable\n",
      "`--ServerApp.iopub_msg_rate_limit`.\n",
      "\n",
      "Current values:\n",
      "ServerApp.iopub_msg_rate_limit=1000.0 (msgs/sec)\n",
      "ServerApp.rate_limit_window=3.0 (secs)\n",
      "\n"
     ]
    },
    {
     "name": "stdout",
     "output_type": "stream",
     "text": [
      "\n",
      "Epoch 33: loss improved from 0.05648 to 0.05431, saving model to /data2/models/HSC_v6_NN_neurips_combined_with_5pool_v25/checkpoints/cp.ckpt\n",
      "784/784 [==============================] - 689s 879ms/step - loss: 0.0543 - mse: 0.0664 - val_loss: 0.0659 - val_mse: 0.0699\n",
      "Epoch 34/100\n",
      "784/784 [==============================] - ETA: 0s - loss: 0.0598 - mse: 0.0667\n",
      "Epoch 34: loss did not improve from 0.05431\n",
      "784/784 [==============================] - 682s 870ms/step - loss: 0.0598 - mse: 0.0667 - val_loss: 0.0654 - val_mse: 0.0702\n",
      "Epoch 35/100\n",
      "784/784 [==============================] - ETA: 0s - loss: 0.0517 - mse: 0.0645\n",
      "Epoch 35: loss improved from 0.05431 to 0.05169, saving model to /data2/models/HSC_v6_NN_neurips_combined_with_5pool_v25/checkpoints/cp.ckpt\n",
      "784/784 [==============================] - 663s 846ms/step - loss: 0.0517 - mse: 0.0645 - val_loss: 0.0620 - val_mse: 0.0656\n",
      "Epoch 36/100\n",
      "784/784 [==============================] - ETA: 0s - loss: 0.0501 - mse: 0.0627\n",
      "Epoch 36: loss improved from 0.05169 to 0.05006, saving model to /data2/models/HSC_v6_NN_neurips_combined_with_5pool_v25/checkpoints/cp.ckpt\n",
      "784/784 [==============================] - 695s 886ms/step - loss: 0.0501 - mse: 0.0627 - val_loss: 0.0661 - val_mse: 0.0737\n",
      "Epoch 37/100\n",
      "784/784 [==============================] - ETA: 0s - loss: 0.0508 - mse: 0.0636\n",
      "Epoch 37: loss did not improve from 0.05006\n",
      "784/784 [==============================] - 709s 905ms/step - loss: 0.0508 - mse: 0.0636 - val_loss: 0.0615 - val_mse: 0.0649\n",
      "Epoch 38/100\n",
      "784/784 [==============================] - ETA: 0s - loss: 0.0536 - mse: 0.0654\n",
      "Epoch 38: loss did not improve from 0.05006\n",
      "784/784 [==============================] - 715s 911ms/step - loss: 0.0536 - mse: 0.0654 - val_loss: 0.0638 - val_mse: 0.0675\n",
      "Epoch 39/100\n",
      "784/784 [==============================] - ETA: 0s - loss: 0.0488 - mse: 0.0633\n",
      "Epoch 39: loss improved from 0.05006 to 0.04883, saving model to /data2/models/HSC_v6_NN_neurips_combined_with_5pool_v25/checkpoints/cp.ckpt\n",
      "784/784 [==============================] - 677s 864ms/step - loss: 0.0488 - mse: 0.0633 - val_loss: 0.0648 - val_mse: 0.0662\n",
      "Epoch 40/100\n",
      "784/784 [==============================] - ETA: 0s - loss: 0.0482 - mse: 0.0617\n",
      "Epoch 40: loss improved from 0.04883 to 0.04825, saving model to /data2/models/HSC_v6_NN_neurips_combined_with_5pool_v25/checkpoints/cp.ckpt\n",
      "784/784 [==============================] - 708s 903ms/step - loss: 0.0482 - mse: 0.0617 - val_loss: 0.0643 - val_mse: 0.0725\n",
      "Epoch 41/100\n",
      "238/784 [========>.....................] - ETA: 6:48 - loss: 0.0447 - mse: 0.0553"
     ]
    },
    {
     "name": "stderr",
     "output_type": "stream",
     "text": [
      "IOPub message rate exceeded.\n",
      "The Jupyter server will temporarily stop sending output\n",
      "to the client in order to avoid crashing it.\n",
      "To change this limit, set the config variable\n",
      "`--ServerApp.iopub_msg_rate_limit`.\n",
      "\n",
      "Current values:\n",
      "ServerApp.iopub_msg_rate_limit=1000.0 (msgs/sec)\n",
      "ServerApp.rate_limit_window=3.0 (secs)\n",
      "\n"
     ]
    },
    {
     "name": "stdout",
     "output_type": "stream",
     "text": [
      "784/784 [==============================] - ETA: 0s - loss: 0.0352 - mse: 0.0416\n",
      "Epoch 61: loss improved from 0.03684 to 0.03519, saving model to /data2/models/HSC_v6_NN_neurips_combined_with_5pool_v25/checkpoints/cp.ckpt\n",
      "784/784 [==============================] - 614s 784ms/step - loss: 0.0352 - mse: 0.0416 - val_loss: 0.0601 - val_mse: 0.0569\n",
      "Epoch 62/100\n",
      "784/784 [==============================] - ETA: 0s - loss: 0.0340 - mse: 0.0416\n",
      "Epoch 62: loss improved from 0.03519 to 0.03403, saving model to /data2/models/HSC_v6_NN_neurips_combined_with_5pool_v25/checkpoints/cp.ckpt\n",
      "784/784 [==============================] - 641s 817ms/step - loss: 0.0340 - mse: 0.0416 - val_loss: 0.0583 - val_mse: 0.0537\n",
      "Epoch 63/100\n",
      "784/784 [==============================] - ETA: 0s - loss: 0.0382 - mse: 0.0440\n",
      "Epoch 63: loss did not improve from 0.03403\n",
      "784/784 [==============================] - 638s 813ms/step - loss: 0.0382 - mse: 0.0440 - val_loss: 0.0597 - val_mse: 0.0583\n",
      "Epoch 64/100\n",
      "687/784 [=========================>....] - ETA: 1:03 - loss: 0.0344 - mse: 0.0440"
     ]
    },
    {
     "name": "stderr",
     "output_type": "stream",
     "text": [
      "IOPub message rate exceeded.\n",
      "The Jupyter server will temporarily stop sending output\n",
      "to the client in order to avoid crashing it.\n",
      "To change this limit, set the config variable\n",
      "`--ServerApp.iopub_msg_rate_limit`.\n",
      "\n",
      "Current values:\n",
      "ServerApp.iopub_msg_rate_limit=1000.0 (msgs/sec)\n",
      "ServerApp.rate_limit_window=3.0 (secs)\n",
      "\n"
     ]
    },
    {
     "name": "stdout",
     "output_type": "stream",
     "text": [
      "784/784 [==============================] - ETA: 0s - loss: 0.0252 - mse: 0.0320\n",
      "Epoch 83: loss improved from 0.02643 to 0.02523, saving model to /data2/models/HSC_v6_NN_neurips_combined_with_5pool_v25/checkpoints/cp.ckpt\n",
      "784/784 [==============================] - 671s 855ms/step - loss: 0.0252 - mse: 0.0320 - val_loss: 0.0578 - val_mse: 0.0529\n",
      "Epoch 84/100\n",
      "784/784 [==============================] - ETA: 0s - loss: 0.0257 - mse: 0.0329\n",
      "Epoch 84: loss did not improve from 0.02523\n",
      "784/784 [==============================] - 721s 919ms/step - loss: 0.0257 - mse: 0.0329 - val_loss: 0.0585 - val_mse: 0.0552\n",
      "Epoch 85/100\n",
      "784/784 [==============================] - ETA: 0s - loss: 0.0263 - mse: 0.0333\n",
      "Epoch 85: loss did not improve from 0.02523\n",
      "784/784 [==============================] - 664s 847ms/step - loss: 0.0263 - mse: 0.0333 - val_loss: 0.0593 - val_mse: 0.0549\n",
      "Epoch 86/100\n",
      "784/784 [==============================] - ETA: 0s - loss: 0.0281 - mse: 0.0336\n",
      "Epoch 86: loss did not improve from 0.02523\n",
      "784/784 [==============================] - 646s 824ms/step - loss: 0.0281 - mse: 0.0336 - val_loss: 0.0584 - val_mse: 0.0526\n",
      "Epoch 87/100\n",
      "784/784 [==============================] - ETA: 0s - loss: 0.0243 - mse: 0.0312\n",
      "Epoch 87: loss improved from 0.02523 to 0.02432, saving model to /data2/models/HSC_v6_NN_neurips_combined_with_5pool_v25/checkpoints/cp.ckpt\n",
      "784/784 [==============================] - 623s 794ms/step - loss: 0.0243 - mse: 0.0312 - val_loss: 0.0561 - val_mse: 0.0506\n",
      "Epoch 88/100\n",
      "784/784 [==============================] - ETA: 0s - loss: 0.0226 - mse: 0.0301\n",
      "Epoch 88: loss improved from 0.02432 to 0.02259, saving model to /data2/models/HSC_v6_NN_neurips_combined_with_5pool_v25/checkpoints/cp.ckpt\n",
      "784/784 [==============================] - 624s 795ms/step - loss: 0.0226 - mse: 0.0301 - val_loss: 0.0569 - val_mse: 0.0522\n",
      "Epoch 89/100\n",
      "784/784 [==============================] - ETA: 0s - loss: 0.0230 - mse: 0.0295\n",
      "Epoch 89: loss did not improve from 0.02259\n",
      "784/784 [==============================] - 633s 807ms/step - loss: 0.0230 - mse: 0.0295 - val_loss: 0.0570 - val_mse: 0.0509\n",
      "Epoch 90/100\n",
      "732/784 [===========================>..] - ETA: 33s - loss: 0.0248 - mse: 0.0318"
     ]
    },
    {
     "name": "stderr",
     "output_type": "stream",
     "text": [
      "IOPub message rate exceeded.\n",
      "The Jupyter server will temporarily stop sending output\n",
      "to the client in order to avoid crashing it.\n",
      "To change this limit, set the config variable\n",
      "`--ServerApp.iopub_msg_rate_limit`.\n",
      "\n",
      "Current values:\n",
      "ServerApp.iopub_msg_rate_limit=1000.0 (msgs/sec)\n",
      "ServerApp.rate_limit_window=3.0 (secs)\n",
      "\n"
     ]
    }
   ],
   "source": [
    "model.fit(train_gen, batch_size=hparams['batch_size'], epochs=hparams['num_epochs'], shuffle=True, verbose=1, validation_data=val_gen, callbacks=[tensorboard_callback, model_checkpoint_callback, hparam_callback])"
   ]
  },
  {
   "cell_type": "code",
   "execution_count": 16,
   "id": "98fcc3e5-7c65-43d0-95c5-4bd291986438",
   "metadata": {},
   "outputs": [],
   "source": [
    "# might take too much memory, use PCA on morphology"
   ]
  },
  {
   "cell_type": "code",
   "execution_count": 17,
   "id": "3519a288",
   "metadata": {},
   "outputs": [
    {
     "data": {
      "text/plain": [
       "<tensorflow.python.checkpoint.checkpoint.CheckpointLoadStatus at 0x7f3dc7c25870>"
      ]
     },
     "execution_count": 17,
     "metadata": {},
     "output_type": "execute_result"
    }
   ],
   "source": [
    "model.load_weights(checkpoint_filepath)"
   ]
  },
  {
   "cell_type": "code",
   "execution_count": 18,
   "id": "91426254",
   "metadata": {},
   "outputs": [
    {
     "name": "stdout",
     "output_type": "stream",
     "text": [
      "168/168 [==============================] - 118s 696ms/step\n"
     ]
    }
   ],
   "source": [
    "pred = model.predict(test_gen)"
   ]
  },
  {
   "cell_type": "code",
   "execution_count": 19,
   "id": "4a2de867",
   "metadata": {},
   "outputs": [],
   "source": [
    "with h5py.File(TEST_PATH, 'r') as file:\n",
    "    y_test = np.asarray(file['specz_redshift'][:])\n",
    "    oid_test = np.asarray(file['object_id'][:])"
   ]
  },
  {
   "cell_type": "code",
   "execution_count": 20,
   "id": "66950f70",
   "metadata": {},
   "outputs": [
    {
     "data": {
      "image/png": "[encoded data removed]",
      "text/plain": [
       "<Figure size 1000x1000 with 2 Axes>"
      ]
     },
     "metadata": {},
     "output_type": "display_data"
    }
   ],
   "source": [
    "plot_predictions(np.ravel(pred), y_test)"
   ]
  },
  {
   "cell_type": "code",
   "execution_count": 21,
   "id": "e70f4f0c",
   "metadata": {},
   "outputs": [],
   "source": [
    "metrics = get_point_metrics(pd.Series(np.ravel(pred)), pd.Series(y_test), binned=False)"
   ]
  },
  {
   "cell_type": "code",
   "execution_count": 22,
   "id": "0d7cf11f",
   "metadata": {},
   "outputs": [
    {
     "data": {
      "text/html": [
       "<div>\n",
       "<style scoped>\n",
       "    .dataframe tbody tr th:only-of-type {\n",
       "        vertical-align: middle;\n",
       "    }\n",
       "\n",
       "    .dataframe tbody tr th {\n",
       "        vertical-align: top;\n",
       "    }\n",
       "\n",
       "    .dataframe thead th {\n",
       "        text-align: right;\n",
       "    }\n",
       "</style>\n",
       "<table border=\"1\" class=\"dataframe\">\n",
       "  <thead>\n",
       "    <tr style=\"text-align: right;\">\n",
       "      <th></th>\n",
       "      <th>zspec_bin</th>\n",
       "      <th>count</th>\n",
       "      <th>L</th>\n",
       "      <th>bias_bw</th>\n",
       "      <th>bias_conv</th>\n",
       "      <th>scatter_bw</th>\n",
       "      <th>scatter_conv</th>\n",
       "      <th>outlier_bw</th>\n",
       "      <th>outlier_conv</th>\n",
       "      <th>mse</th>\n",
       "    </tr>\n",
       "  </thead>\n",
       "  <tbody>\n",
       "    <tr>\n",
       "      <th>0</th>\n",
       "      <td>(0.0, 4.0]</td>\n",
       "      <td>42960</td>\n",
       "      <td>0.055949</td>\n",
       "      <td>-0.002591</td>\n",
       "      <td>-0.00255</td>\n",
       "      <td>0.019724</td>\n",
       "      <td>0.016768</td>\n",
       "      <td>0.14183</td>\n",
       "      <td>0.035847</td>\n",
       "      <td>0.049169</td>\n",
       "    </tr>\n",
       "  </tbody>\n",
       "</table>\n",
       "</div>"
      ],
      "text/plain": [
       "    zspec_bin  count         L   bias_bw  bias_conv  scatter_bw  scatter_conv  \\\n",
       "0  (0.0, 4.0]  42960  0.055949 -0.002591   -0.00255    0.019724      0.016768   \n",
       "\n",
       "   outlier_bw  outlier_conv       mse  \n",
       "0     0.14183      0.035847  0.049169  "
      ]
     },
     "execution_count": 22,
     "metadata": {},
     "output_type": "execute_result"
    }
   ],
   "source": [
    "metrics"
   ]
  },
  {
   "cell_type": "code",
   "execution_count": 23,
   "id": "e4b14400",
   "metadata": {},
   "outputs": [],
   "source": [
    "df = pd.DataFrame(pred, columns=['photoz'])\n",
    "df['specz'] = pd.Series(y_test)\n",
    "df['object_id'] = pd.Series(oid_test)\n",
    "os.makedirs(f'/data2/predictions/{model_name}', exist_ok=True)\n",
    "df.to_csv(f'/data2/predictions/{model_name}/testing_predictions.csv', index=False)\n",
    "metrics.to_csv(f'/data2/predictions/{model_name}/testing_metrics.csv', index=False)"
   ]
  },
  {
   "cell_type": "code",
   "execution_count": null,
   "id": "0975da5d-1711-4205-a0fe-3cbbaea7aed2",
   "metadata": {},
   "outputs": [],
   "source": []
  }
 ],
 "metadata": {
  "kernelspec": {
   "display_name": "Python 3 (ipykernel)",
   "language": "python",
   "name": "python3"
  },
  "language_info": {
   "codemirror_mode": {
    "name": "ipython",
    "version": 3
   },
   "file_extension": ".py",
   "mimetype": "text/x-python",
   "name": "python",
   "nbconvert_exporter": "python",
   "pygments_lexer": "ipython3",
   "version": "3.10.10"
  }
 },
 "nbformat": 4,
 "nbformat_minor": 5
}
