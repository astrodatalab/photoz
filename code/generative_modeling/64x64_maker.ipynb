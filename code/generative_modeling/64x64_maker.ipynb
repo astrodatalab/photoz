{
 "cells": [
  {
   "cell_type": "code",
   "execution_count": 13,
   "id": "cd510940-b248-4aef-89e8-f8ea0b8168bd",
   "metadata": {},
   "outputs": [],
   "source": [
    "import os\n",
    "import h5py\n",
    "import numpy as np\n",
    "import pandas as pd\n",
    "import tensorflow as tf\n",
    "import matplotlib.pyplot as plt\n",
    "from sys import stdout\n",
    "from datetime import datetime\n",
    "# import neptune.new as neptune\n",
    "# from neptune.new.integrations.tensorflow_keras import NeptuneCallback\n",
    "from astropy.io import fits\n",
    "from tqdm import tqdm\n",
    "import random"
   ]
  },
  {
   "cell_type": "code",
   "execution_count": 4,
   "id": "5075741f-5252-411e-8297-d4a44b75c283",
   "metadata": {},
   "outputs": [],
   "source": [
    "from tensorflow.keras.models import Model\n",
    "from tensorflow.keras.layers import Cropping2D, ZeroPadding2D\n",
    "from tensorflow.keras.layers import Conv2D, Conv2DTranspose\n",
    "from tensorflow.keras.layers import Input, Flatten, Dense, Reshape\n",
    "import tensorflow_probability as tfp\n",
    "from tensorflow_probability import layers as tfpl\n",
    "from tensorflow_probability import distributions as tfd\n",
    "from tensorflow.nn import leaky_relu\n",
    "from tensorflow.keras.callbacks import TensorBoard, ModelCheckpoint, ReduceLROnPlateau"
   ]
  },
  {
   "cell_type": "code",
   "execution_count": 5,
   "id": "5a9d9499-5748-464e-86c8-7094ead55f67",
   "metadata": {},
   "outputs": [
    {
     "ename": "KeyboardInterrupt",
     "evalue": "",
     "output_type": "error",
     "traceback": [
      "\u001b[0;31m---------------------------------------------------------------------------\u001b[0m",
      "\u001b[0;31mKeyboardInterrupt\u001b[0m                         Traceback (most recent call last)",
      "Cell \u001b[0;32mIn[5], line 1\u001b[0m\n\u001b[0;32m----> 1\u001b[0m image_list_g \u001b[38;5;241m=\u001b[39m \u001b[38;5;28msorted\u001b[39m(\u001b[43mos\u001b[49m\u001b[38;5;241;43m.\u001b[39;49m\u001b[43mlistdir\u001b[49m\u001b[43m(\u001b[49m\u001b[38;5;124;43m\"\u001b[39;49m\u001b[38;5;124;43m/data/HSC/HSC_v6/step1/g_band\u001b[39;49m\u001b[38;5;124;43m\"\u001b[39;49m\u001b[43m)\u001b[49m)\n\u001b[1;32m      2\u001b[0m image_list_r \u001b[38;5;241m=\u001b[39m \u001b[38;5;28msorted\u001b[39m(os\u001b[38;5;241m.\u001b[39mlistdir(\u001b[38;5;124m\"\u001b[39m\u001b[38;5;124m/data/HSC/HSC_v6/step1/r_band\u001b[39m\u001b[38;5;124m\"\u001b[39m))\n\u001b[1;32m      3\u001b[0m image_list_i \u001b[38;5;241m=\u001b[39m \u001b[38;5;28msorted\u001b[39m(os\u001b[38;5;241m.\u001b[39mlistdir(\u001b[38;5;124m\"\u001b[39m\u001b[38;5;124m/data/HSC/HSC_v6/step1/i_band\u001b[39m\u001b[38;5;124m\"\u001b[39m))\n",
      "\u001b[0;31mKeyboardInterrupt\u001b[0m: "
     ]
    }
   ],
   "source": [
    "image_list_g = sorted(os.listdir(\"/data/HSC/HSC_v6/step1/g_band\"))\n",
    "image_list_r = sorted(os.listdir(\"/data/HSC/HSC_v6/step1/r_band\"))\n",
    "image_list_i = sorted(os.listdir(\"/data/HSC/HSC_v6/step1/i_band\"))\n",
    "image_list_z = sorted(os.listdir(\"/data/HSC/HSC_v6/step1/z_band\"))\n",
    "image_list_y = sorted(os.listdir(\"/data/HSC/HSC_v6/step1/y_band\"))\n",
    "\n",
    "photozdata = pd.read_csv('/data/HSC/HSC_v6/HSC_v6.csv')\n",
    "photozdata.describe()\n",
    "\n",
    "b = np.argsort(photozdata['object_id'])\n",
    "sorted_photozdata = photozdata.iloc[b][:]\n",
    "photozdata = sorted_photozdata\n",
    "\n",
    "hf = h5py.File('/data/HSC/HSC_v6/step3/64x64.hdf5', 'a')"
   ]
  },
  {
   "cell_type": "code",
   "execution_count": 7,
   "id": "f8c3d239-3b12-4bb8-a46e-96696a0ba123",
   "metadata": {},
   "outputs": [],
   "source": [
    "photozdata = pd.read_csv('/data/HSC/HSC_v6/HSC_v6.csv')"
   ]
  },
  {
   "cell_type": "code",
   "execution_count": 9,
   "id": "a83b13af-4c8d-48a8-a010-46120abfacc5",
   "metadata": {},
   "outputs": [
    {
     "name": "stdout",
     "output_type": "stream",
     "text": [
      "object_id\n",
      "specz_redshift_err\n",
      "specz_redshift\n",
      "specz_mag_i\n",
      "specz_name\n",
      "specz_ra\n",
      "specz_dec\n",
      "specz_flag_homogeneous\n",
      "ra\n",
      "dec\n",
      "coord\n",
      "skymap_id\n",
      "g_cmodel_mag\n",
      "r_cmodel_mag\n",
      "i_cmodel_mag\n",
      "z_cmodel_mag\n",
      "y_cmodel_mag\n",
      "g_cmodel_magsigma\n",
      "r_cmodel_magsigma\n",
      "i_cmodel_magsigma\n",
      "z_cmodel_magsigma\n",
      "y_cmodel_magsigma\n"
     ]
    },
    {
     "name": "stderr",
     "output_type": "stream",
     "text": [
      "/tmp/ipykernel_3908204/3463937130.py:1: FutureWarning: iteritems is deprecated and will be removed in a future version. Use .items instead.\n",
      "  for (columnName, columnData) in photozdata.iteritems():\n"
     ]
    }
   ],
   "source": [
    "for (columnName, columnData) in photozdata.iteritems():\n",
    "    print(columnName)"
   ]
  },
  {
   "cell_type": "code",
   "execution_count": 5,
   "id": "c167d14f-ec54-40ea-830e-14c0ff862cb9",
   "metadata": {},
   "outputs": [
    {
     "name": "stderr",
     "output_type": "stream",
     "text": [
      "  0%|          | 0/286401 [00:00<?, ?it/s]/tmp/ipykernel_3964677/478952715.py:51: FutureWarning: iteritems is deprecated and will be removed in a future version. Use .items instead.\n",
      "  for (columnName, columnData) in photozdata.iteritems():\n",
      "  0%|          | 0/286401 [00:00<?, ?it/s]\n"
     ]
    },
    {
     "ename": "ValueError",
     "evalue": "Unable to create dataset (name already exists)",
     "output_type": "error",
     "traceback": [
      "\u001b[0;31m---------------------------------------------------------------------------\u001b[0m",
      "\u001b[0;31mValueError\u001b[0m                                Traceback (most recent call last)",
      "Cell \u001b[0;32mIn[5], line 59\u001b[0m\n\u001b[1;32m     55\u001b[0m             hf\u001b[38;5;241m.\u001b[39mcreate_dataset(columnName, data\u001b[38;5;241m=\u001b[39mnp\u001b[38;5;241m.\u001b[39mreshape(np\u001b[38;5;241m.\u001b[39marray(photozdata[columnName])\u001b[38;5;241m.\u001b[39mastype(\u001b[38;5;28mstr\u001b[39m), [\u001b[38;5;241m286401\u001b[39m, \u001b[38;5;241m1\u001b[39m])\u001b[38;5;241m.\u001b[39mastype(\u001b[38;5;124m'\u001b[39m\u001b[38;5;124mS\u001b[39m\u001b[38;5;124m'\u001b[39m)[i], maxshape\u001b[38;5;241m=\u001b[39m(\u001b[38;5;28;01mNone\u001b[39;00m,))\n\u001b[1;32m     57\u001b[0m         \u001b[38;5;28;01melse\u001b[39;00m:\n\u001b[0;32m---> 59\u001b[0m             \u001b[43mhf\u001b[49m\u001b[38;5;241;43m.\u001b[39;49m\u001b[43mcreate_dataset\u001b[49m\u001b[43m(\u001b[49m\u001b[43mcolumnName\u001b[49m\u001b[43m,\u001b[49m\u001b[43m \u001b[49m\u001b[43mdata\u001b[49m\u001b[38;5;241;43m=\u001b[39;49m\u001b[43mphotozdata\u001b[49m\u001b[43m[\u001b[49m\u001b[43mcolumnName\u001b[49m\u001b[43m]\u001b[49m\u001b[43m[\u001b[49m\u001b[43mi\u001b[49m\u001b[43m:\u001b[49m\u001b[43m \u001b[49m\u001b[43mi\u001b[49m\u001b[43m \u001b[49m\u001b[38;5;241;43m+\u001b[39;49m\u001b[43m \u001b[49m\u001b[38;5;241;43m1\u001b[39;49m\u001b[43m]\u001b[49m\u001b[43m,\u001b[49m\u001b[43m \u001b[49m\u001b[43mmaxshape\u001b[49m\u001b[38;5;241;43m=\u001b[39;49m\u001b[43m(\u001b[49m\u001b[38;5;28;43;01mNone\u001b[39;49;00m\u001b[43m,\u001b[49m\u001b[43m)\u001b[49m\u001b[43m)\u001b[49m\n\u001b[1;32m     61\u001b[0m     hf\u001b[38;5;241m.\u001b[39mcreate_dataset(\u001b[38;5;124m'\u001b[39m\u001b[38;5;124mimage\u001b[39m\u001b[38;5;124m'\u001b[39m, data\u001b[38;5;241m=\u001b[39mfive_band_image_reshape, chunks\u001b[38;5;241m=\u001b[39m\u001b[38;5;28;01mTrue\u001b[39;00m, maxshape\u001b[38;5;241m=\u001b[39m(\u001b[38;5;28;01mNone\u001b[39;00m, \u001b[38;5;241m5\u001b[39m, \u001b[38;5;241m64\u001b[39m, \u001b[38;5;241m64\u001b[39m))\n\u001b[1;32m     63\u001b[0m \u001b[38;5;28;01melse\u001b[39;00m:\n",
      "File \u001b[0;32m~/miniconda3/envs/Diffusion/lib/python3.9/site-packages/h5py/_hl/group.py:183\u001b[0m, in \u001b[0;36mGroup.create_dataset\u001b[0;34m(self, name, shape, dtype, data, **kwds)\u001b[0m\n\u001b[1;32m    180\u001b[0m         parent_path, name \u001b[38;5;241m=\u001b[39m name\u001b[38;5;241m.\u001b[39mrsplit(\u001b[38;5;124mb\u001b[39m\u001b[38;5;124m'\u001b[39m\u001b[38;5;124m/\u001b[39m\u001b[38;5;124m'\u001b[39m, \u001b[38;5;241m1\u001b[39m)\n\u001b[1;32m    181\u001b[0m         group \u001b[38;5;241m=\u001b[39m \u001b[38;5;28mself\u001b[39m\u001b[38;5;241m.\u001b[39mrequire_group(parent_path)\n\u001b[0;32m--> 183\u001b[0m dsid \u001b[38;5;241m=\u001b[39m \u001b[43mdataset\u001b[49m\u001b[38;5;241;43m.\u001b[39;49m\u001b[43mmake_new_dset\u001b[49m\u001b[43m(\u001b[49m\u001b[43mgroup\u001b[49m\u001b[43m,\u001b[49m\u001b[43m \u001b[49m\u001b[43mshape\u001b[49m\u001b[43m,\u001b[49m\u001b[43m \u001b[49m\u001b[43mdtype\u001b[49m\u001b[43m,\u001b[49m\u001b[43m \u001b[49m\u001b[43mdata\u001b[49m\u001b[43m,\u001b[49m\u001b[43m \u001b[49m\u001b[43mname\u001b[49m\u001b[43m,\u001b[49m\u001b[43m \u001b[49m\u001b[38;5;241;43m*\u001b[39;49m\u001b[38;5;241;43m*\u001b[39;49m\u001b[43mkwds\u001b[49m\u001b[43m)\u001b[49m\n\u001b[1;32m    184\u001b[0m dset \u001b[38;5;241m=\u001b[39m dataset\u001b[38;5;241m.\u001b[39mDataset(dsid)\n\u001b[1;32m    185\u001b[0m \u001b[38;5;28;01mreturn\u001b[39;00m dset\n",
      "File \u001b[0;32m~/miniconda3/envs/Diffusion/lib/python3.9/site-packages/h5py/_hl/dataset.py:165\u001b[0m, in \u001b[0;36mmake_new_dset\u001b[0;34m(parent, shape, dtype, data, name, chunks, compression, shuffle, fletcher32, maxshape, compression_opts, fillvalue, scaleoffset, track_times, external, track_order, dcpl, dapl, efile_prefix, virtual_prefix, allow_unknown_filter, rdcc_nslots, rdcc_nbytes, rdcc_w0)\u001b[0m\n\u001b[1;32m    162\u001b[0m \u001b[38;5;28;01melse\u001b[39;00m:\n\u001b[1;32m    163\u001b[0m     sid \u001b[38;5;241m=\u001b[39m h5s\u001b[38;5;241m.\u001b[39mcreate_simple(shape, maxshape)\n\u001b[0;32m--> 165\u001b[0m dset_id \u001b[38;5;241m=\u001b[39m \u001b[43mh5d\u001b[49m\u001b[38;5;241;43m.\u001b[39;49m\u001b[43mcreate\u001b[49m\u001b[43m(\u001b[49m\u001b[43mparent\u001b[49m\u001b[38;5;241;43m.\u001b[39;49m\u001b[43mid\u001b[49m\u001b[43m,\u001b[49m\u001b[43m \u001b[49m\u001b[43mname\u001b[49m\u001b[43m,\u001b[49m\u001b[43m \u001b[49m\u001b[43mtid\u001b[49m\u001b[43m,\u001b[49m\u001b[43m \u001b[49m\u001b[43msid\u001b[49m\u001b[43m,\u001b[49m\u001b[43m \u001b[49m\u001b[43mdcpl\u001b[49m\u001b[38;5;241;43m=\u001b[39;49m\u001b[43mdcpl\u001b[49m\u001b[43m,\u001b[49m\u001b[43m \u001b[49m\u001b[43mdapl\u001b[49m\u001b[38;5;241;43m=\u001b[39;49m\u001b[43mdapl\u001b[49m\u001b[43m)\u001b[49m\n\u001b[1;32m    167\u001b[0m \u001b[38;5;28;01mif\u001b[39;00m (data \u001b[38;5;129;01mis\u001b[39;00m \u001b[38;5;129;01mnot\u001b[39;00m \u001b[38;5;28;01mNone\u001b[39;00m) \u001b[38;5;129;01mand\u001b[39;00m (\u001b[38;5;129;01mnot\u001b[39;00m \u001b[38;5;28misinstance\u001b[39m(data, Empty)):\n\u001b[1;32m    168\u001b[0m     dset_id\u001b[38;5;241m.\u001b[39mwrite(h5s\u001b[38;5;241m.\u001b[39mALL, h5s\u001b[38;5;241m.\u001b[39mALL, data)\n",
      "File \u001b[0;32mh5py/_objects.pyx:54\u001b[0m, in \u001b[0;36mh5py._objects.with_phil.wrapper\u001b[0;34m()\u001b[0m\n",
      "File \u001b[0;32mh5py/_objects.pyx:55\u001b[0m, in \u001b[0;36mh5py._objects.with_phil.wrapper\u001b[0;34m()\u001b[0m\n",
      "File \u001b[0;32mh5py/h5d.pyx:135\u001b[0m, in \u001b[0;36mh5py.h5d.create\u001b[0;34m()\u001b[0m\n",
      "\u001b[0;31mValueError\u001b[0m: Unable to create dataset (name already exists)"
     ]
    },
    {
     "data": {
      "image/png": "[encoded data removed]",
      "text/plain": [
       "<Figure size 640x480 with 1 Axes>"
      ]
     },
     "metadata": {},
     "output_type": "display_data"
    }
   ],
   "source": [
    "count = 0\n",
    "size = len(image_list_g)\n",
    "for i in tqdm(range(size)):\n",
    "\n",
    "    object_id = image_list_g[i][0:17]\n",
    "\n",
    "    five_band_image = []\n",
    "\n",
    "    image_g = fits.open(\"/data/HSC/HSC_v6/step1/g_band/\" + image_list_g[i])\n",
    "    image_r = fits.open(\"/data/HSC/HSC_v6/step1/r_band/\" + image_list_r[i])\n",
    "    image_i = fits.open(\"/data/HSC/HSC_v6/step1/i_band/\" + image_list_i[i])\n",
    "    image_z = fits.open(\"/data/HSC/HSC_v6/step1/z_band/\" + image_list_z[i])\n",
    "    image_y = fits.open(\"/data/HSC/HSC_v6/step1/y_band/\" + image_list_y[i])\n",
    "\n",
    "    image_g_data = image_g[1].data\n",
    "    image_r_data = image_r[1].data\n",
    "    image_i_data = image_i[1].data\n",
    "    image_z_data = image_z[1].data\n",
    "    image_y_data = image_y[1].data\n",
    "    \n",
    "    # Update the pad values to extract the central 64x64 section\n",
    "    pad1 = int((120 - 64) / 2)\n",
    "    pad2 = 120 - 64 - pad1\n",
    "    pad3 = int((120 - 64) / 2)\n",
    "    pad4 = 120 - 64 - pad3\n",
    "\n",
    "    im_g = image_g_data[pad1:pad1 + 64, pad3:pad3 + 64]\n",
    "    im_r = image_r_data[pad1:pad1 + 64, pad3:pad3 + 64]\n",
    "    im_i = image_i_data[pad1:pad1 + 64, pad3:pad3 + 64]\n",
    "    im_z = image_z_data[pad1:pad1 + 64, pad3:pad3 + 64]\n",
    "    im_y = image_y_data[pad1:pad1 + 64, pad3:pad3 + 64]\n",
    "    \n",
    "    five_band_image.append(im_g)\n",
    "    five_band_image.append(im_r)\n",
    "    five_band_image.append(im_i)\n",
    "    five_band_image.append(im_z)\n",
    "    five_band_image.append(im_y)\n",
    "\n",
    "    # Update five_band_image_reshape to store central 64x64 sections\n",
    "    five_band_image_reshape = np.reshape(np.array(five_band_image), [1, 5, 64, 64])\n",
    "    \n",
    "    # plt.imshow(five_band_image_reshape[0][0])\n",
    "\n",
    "    photozdata_subset = photozdata.iloc[i]\n",
    "\n",
    "    specz = photozdata_subset['specz_redshift']\n",
    "    specz_reshape = np.reshape(specz, [1, 1])\n",
    "\n",
    "    if count == 0:\n",
    "\n",
    "        for (columnName, columnData) in photozdata.iteritems():\n",
    "\n",
    "            if columnName == 'specz_name' or columnName == 'coord':\n",
    "\n",
    "                hf.create_dataset(columnName, data=np.reshape(np.array(photozdata[columnName]).astype(str), [286401, 1]).astype('S')[i], maxshape=(None,))\n",
    "\n",
    "            else:\n",
    "\n",
    "                hf.create_dataset(columnName, data=photozdata[columnName][i: i + 1], maxshape=(None,))\n",
    "\n",
    "        hf.create_dataset('image', data=five_band_image_reshape, chunks=True, maxshape=(None, 5, 64, 64))\n",
    "\n",
    "    else:\n",
    "\n",
    "        for (columnName, columnData) in photozdata.iteritems():\n",
    "\n",
    "            hf[columnName].resize((hf[columnName].shape[0] + 1), axis=0)\n",
    "\n",
    "            if columnName == 'specz_name' or columnName == 'coord':\n",
    "\n",
    "                hf[columnName][hf[columnName].shape[0] - 1] = np.reshape(np.array(photozdata[columnName]).astype(str), [286401, 1]).astype('S')[i]\n",
    "\n",
    "            else:\n",
    "\n",
    "                hf[columnName][hf[columnName].shape[0] - 1] = photozdata[columnName][i: i + 1]\n",
    "\n",
    "        hf['image'].resize((hf['image'].shape[0] + 1), axis=0)\n",
    "        hf['image'][hf['image'].shape[0] - 1, :, :, :] = five_band_image_reshape\n",
    "\n",
    "    count = count + 1\n",
    "\n",
    "    image_g.close()\n",
    "    image_r.close()\n",
    "    image_i.close()\n",
    "    image_z.close()\n",
    "    image_y.close()\n",
    "\n",
    "hf.close()"
   ]
  },
  {
   "cell_type": "code",
   "execution_count": 11,
   "id": "7d6dab2e-b442-4d19-a2a6-934b26234c1c",
   "metadata": {},
   "outputs": [],
   "source": [
    "def make_hsc_v6_large_double(ntrain=204573,ntest=40914,nvalidation=40914):\n",
    "    inputfile_1 = '5x64x64.hdf5'\n",
    "    inputfile_2 = '5x127x127.hdf5'\n",
    "    directory_1 = '/data/HSC/HSC_v6/temp/'\n",
    "    directory_2 = '/data/HSC/HSC_v6/temp/'\n",
    "    current_file_1 = os.path.join(directory_1, inputfile_1)\n",
    "    current_file_2 = os.path.join(directory_2, inputfile_2)\n",
    "    hf_1 = h5py.File(current_file_1,'r')\n",
    "    hf_2 = h5py.File(current_file_2,'r')\n",
    "    \n",
    "    length_1 = len(hf_1['image'])\n",
    "    length_2 = len(hf_2['image'])\n",
    "    print(length_1)\n",
    "    print(length_2)\n",
    "    if length_1 != length_2:\n",
    "        stop\n",
    "    inds = random.sample(list(np.arange(length_1)),ntrain+ntest+nvalidation)\n",
    "    inds_train = np.sort(inds[:ntrain])\n",
    "    inds_test = np.sort(inds[ntrain:ntrain+ntest])\n",
    "    inds_validation = np.sort(inds[ntrain+ntest:])\n",
    "\n",
    "    part_1 = os.path.splitext(current_file_1)\n",
    "    part_2 = os.path.splitext(current_file_2)\n",
    "    subsizes = [ntrain, ntest, nvalidation]\n",
    "    file_ends = ['_training', '_testing', '_validation']\n",
    "    ind_list = [inds_train, inds_test, inds_validation]\n",
    "    \n",
    "    for subsize, file_end, ind in zip(subsizes, file_ends, ind_list):\n",
    "        f_1 = h5py.File(part_1[0] + file_end + part_1[1], 'w')\n",
    "        f_2 = h5py.File(part_2[0] + file_end + part_2[1], 'w')\n",
    "        for k in hf_1.keys():\n",
    "            tmp = hf_1[k]\n",
    "            subshape = list(np.shape(tmp))\n",
    "            subshape[0] = subsize\n",
    "            dataset = f_1.create_dataset(k,shape=subshape,dtype=tmp.dtype)\n",
    "            for i, index in enumerate(ind):\n",
    "                dataset[i] = tmp[index]\n",
    "            tmp = None\n",
    "        for k in hf_2.keys():\n",
    "            tmp = hf_2[k]\n",
    "            subshape = list(np.shape(tmp))\n",
    "            subshape[0] = subsize\n",
    "            dataset = f_2.create_dataset(k,shape=subshape,dtype=tmp.dtype)\n",
    "            for i, index in enumerate(ind):\n",
    "                dataset[i] = tmp[index]\n",
    "            tmp = None\n",
    "        f_1.close()\n",
    "        f_2.close()\n",
    "    hf_1.close()\n",
    "    hf_2.close()"
   ]
  },
  {
   "cell_type": "code",
   "execution_count": 8,
   "id": "f5ff1379-4773-4833-b5f9-f00f18eec5f8",
   "metadata": {},
   "outputs": [],
   "source": [
    "import sys,os\n",
    "import numpy as np\n",
    "import pandas as pd\n",
    "import random\n",
    "import h5py"
   ]
  },
  {
   "cell_type": "code",
   "execution_count": 14,
   "id": "c9ef2794-6f4d-46e0-aa4e-c83c90a29ec4",
   "metadata": {},
   "outputs": [
    {
     "name": "stdout",
     "output_type": "stream",
     "text": [
      "286401\n",
      "286401\n"
     ]
    }
   ],
   "source": [
    "make_hsc_v6_large_double()"
   ]
  },
  {
   "cell_type": "code",
   "execution_count": null,
   "id": "5dad12bc-42b6-4daa-8999-6c0643933438",
   "metadata": {},
   "outputs": [],
   "source": [
    "DONE"
   ]
  }
 ],
 "metadata": {
  "kernelspec": {
   "display_name": "Diffusion",
   "language": "python",
   "name": "diffusion"
  },
  "language_info": {
   "codemirror_mode": {
    "name": "ipython",
    "version": 3
   },
   "file_extension": ".py",
   "mimetype": "text/x-python",
   "name": "python",
   "nbconvert_exporter": "python",
   "pygments_lexer": "ipython3",
   "version": "3.9.16"
  }
 },
 "nbformat": 4,
 "nbformat_minor": 5
}
