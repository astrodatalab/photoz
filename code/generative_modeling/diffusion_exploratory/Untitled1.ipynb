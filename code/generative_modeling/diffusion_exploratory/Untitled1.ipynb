{
 "cells": [
  {
   "cell_type": "code",
   "execution_count": 3,
   "id": "05caf3be-0a62-48f8-a87a-52f0d7d04a0d",
   "metadata": {},
   "outputs": [],
   "source": [
    "from PIL import Image\n",
    "\n",
    "# Paths to your images\n",
    "image_paths = ['ddpm_galaxy_examples_selected_3.png', 'ddpm_galaxy_examples_selected_4.png', 'cvae_galaxy_examples_selected_2.png', 'cvae_galaxy_examples_selected.png', 'real_galaxy_examples_selected_2.png']\n",
    "\n",
    "# Load all the images\n",
    "images = [Image.open(image) for image in image_paths]\n",
    "\n",
    "# Calculate total width and max height\n",
    "total_width = sum(image.width for image in images)\n",
    "max_height = max(image.height for image in images)\n",
    "\n",
    "# Create a new blank image with the appropriate size\n",
    "combined_image = Image.new('RGBA', (total_width, max_height))\n",
    "\n",
    "# Paste images side by side\n",
    "x_offset = 0\n",
    "for image in images:\n",
    "    combined_image.paste(image, (x_offset, 0))\n",
    "    x_offset += image.width\n",
    "\n",
    "# Save the combined image\n",
    "combined_image.save('combined_image.png')"
   ]
  },
  {
   "cell_type": "code",
   "execution_count": null,
   "id": "1c892ca0-94f7-4ba5-a043-5708a7d4bd20",
   "metadata": {},
   "outputs": [],
   "source": []
  }
 ],
 "metadata": {
  "kernelspec": {
   "display_name": "Python 3 (ipykernel)",
   "language": "python",
   "name": "python3"
  },
  "language_info": {
   "codemirror_mode": {
    "name": "ipython",
    "version": 3
   },
   "file_extension": ".py",
   "mimetype": "text/x-python",
   "name": "python",
   "nbconvert_exporter": "python",
   "pygments_lexer": "ipython3",
   "version": "3.10.10"
  }
 },
 "nbformat": 4,
 "nbformat_minor": 5
}
