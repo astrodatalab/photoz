{
 "cells": [
  {
   "cell_type": "code",
   "execution_count": 1,
   "id": "9283d945-f776-4dfa-8797-c72920ae317a",
   "metadata": {},
   "outputs": [],
   "source": [
    "write = True # log this version as new\n",
    "MODEL_DESCRIPTION = \"Combined Diffusion/CVAE\""
   ]
  },
  {
   "cell_type": "code",
   "execution_count": 33,
   "id": "1c1bfa2c-3a01-408a-b11d-89858b2f1680",
   "metadata": {},
   "outputs": [
    {
     "name": "stderr",
     "output_type": "stream",
     "text": [
      "2023-07-31 07:32:19.174743: I tensorflow/core/platform/cpu_feature_guard.cc:182] This TensorFlow binary is optimized to use available CPU instructions in performance-critical operations.\n",
      "To enable the following instructions: AVX2 FMA, in other operations, rebuild TensorFlow with the appropriate compiler flags.\n",
      "2023-07-31 07:32:19.677097: W tensorflow/compiler/tf2tensorrt/utils/py_utils.cc:38] TF-TRT Warning: Could not find TensorRT\n",
      "/home/billyli/miniconda3/envs/Diffusion/lib/python3.9/site-packages/tensorflow_addons/utils/tfa_eol_msg.py:23: UserWarning: \n",
      "\n",
      "TensorFlow Addons (TFA) has ended development and introduction of new features.\n",
      "TFA has entered a minimal maintenance and release mode until a planned end of life in May 2024.\n",
      "Please modify downstream libraries to take dependencies from other repositories in our TensorFlow community (e.g. Keras, Keras-CV, and Keras-NLP). \n",
      "\n",
      "For more information see: https://github.com/tensorflow/addons/issues/2807 \n",
      "\n",
      "  warnings.warn(\n",
      "/home/billyli/miniconda3/envs/Diffusion/lib/python3.9/site-packages/tqdm/auto.py:21: TqdmWarning: IProgress not found. Please update jupyter and ipywidgets. See https://ipywidgets.readthedocs.io/en/stable/user_install.html\n",
      "  from .autonotebook import tqdm as notebook_tqdm\n"
     ]
    }
   ],
   "source": [
    "import sys, os\n",
    "import numpy as np\n",
    "import pandas as pd\n",
    "import random\n",
    "import h5py\n",
    "import matplotlib.pyplot as plt\n",
    "from tqdm import tqdm\n",
    "import math\n",
    "from PIL import Image\n",
    "\n",
    "import tensorflow as tf\n",
    "import tensorflow_probability as tfp\n",
    "from tensorflow_probability import layers as tfpl\n",
    "from tensorflow_probability import distributions as tfd\n",
    "from tensorflow import keras, einsum\n",
    "from tensorflow.keras import Model, Sequential\n",
    "from tensorflow.keras.layers import Layer\n",
    "import tensorflow.keras.layers as nn\n",
    "import tensorflow_addons as tfa\n",
    "import tensorflow_datasets as tfds\n",
    "from tensorflow.keras.callbacks import ReduceLROnPlateau\n",
    "from tensorflow.keras.layers import Conv2D, Conv2DTranspose\n",
    "from tensorflow.keras.layers import Input, Flatten, Dense, Reshape\n",
    "\n",
    "from einops import rearrange\n",
    "from einops.layers.tensorflow import Rearrange\n",
    "from functools import partial\n",
    "from inspect import isfunction\n",
    "\n",
    "from astropy.io import fits\n",
    "from datetime import datetime\n",
    "import neptune as neptune\n",
    "from neptune.integrations.tensorflow_keras import NeptuneCallback\n",
    "from DataMakerPlus import *"
   ]
  },
  {
   "cell_type": "code",
   "execution_count": 3,
   "id": "de6d405b-5c95-4cb5-b98a-13ccb02f3ce3",
   "metadata": {},
   "outputs": [
    {
     "name": "stdout",
     "output_type": "stream",
     "text": [
      "1 Physical GPUs, 1 Logical GPUs\n"
     ]
    },
    {
     "name": "stderr",
     "output_type": "stream",
     "text": [
      "2023-07-31 07:32:20.951371: I tensorflow/compiler/xla/stream_executor/cuda/cuda_gpu_executor.cc:996] successful NUMA node read from SysFS had negative value (-1), but there must be at least one NUMA node, so returning NUMA node zero. See more at https://github.com/torvalds/linux/blob/v6.0/Documentation/ABI/testing/sysfs-bus-pci#L344-L355\n",
      "2023-07-31 07:32:20.971477: I tensorflow/compiler/xla/stream_executor/cuda/cuda_gpu_executor.cc:996] successful NUMA node read from SysFS had negative value (-1), but there must be at least one NUMA node, so returning NUMA node zero. See more at https://github.com/torvalds/linux/blob/v6.0/Documentation/ABI/testing/sysfs-bus-pci#L344-L355\n",
      "2023-07-31 07:32:20.971673: I tensorflow/compiler/xla/stream_executor/cuda/cuda_gpu_executor.cc:996] successful NUMA node read from SysFS had negative value (-1), but there must be at least one NUMA node, so returning NUMA node zero. See more at https://github.com/torvalds/linux/blob/v6.0/Documentation/ABI/testing/sysfs-bus-pci#L344-L355\n",
      "2023-07-31 07:32:20.973618: I tensorflow/compiler/xla/stream_executor/cuda/cuda_gpu_executor.cc:996] successful NUMA node read from SysFS had negative value (-1), but there must be at least one NUMA node, so returning NUMA node zero. See more at https://github.com/torvalds/linux/blob/v6.0/Documentation/ABI/testing/sysfs-bus-pci#L344-L355\n",
      "2023-07-31 07:32:20.973761: I tensorflow/compiler/xla/stream_executor/cuda/cuda_gpu_executor.cc:996] successful NUMA node read from SysFS had negative value (-1), but there must be at least one NUMA node, so returning NUMA node zero. See more at https://github.com/torvalds/linux/blob/v6.0/Documentation/ABI/testing/sysfs-bus-pci#L344-L355\n",
      "2023-07-31 07:32:20.973886: I tensorflow/compiler/xla/stream_executor/cuda/cuda_gpu_executor.cc:996] successful NUMA node read from SysFS had negative value (-1), but there must be at least one NUMA node, so returning NUMA node zero. See more at https://github.com/torvalds/linux/blob/v6.0/Documentation/ABI/testing/sysfs-bus-pci#L344-L355\n",
      "2023-07-31 07:32:21.453457: I tensorflow/compiler/xla/stream_executor/cuda/cuda_gpu_executor.cc:996] successful NUMA node read from SysFS had negative value (-1), but there must be at least one NUMA node, so returning NUMA node zero. See more at https://github.com/torvalds/linux/blob/v6.0/Documentation/ABI/testing/sysfs-bus-pci#L344-L355\n",
      "2023-07-31 07:32:21.453654: I tensorflow/compiler/xla/stream_executor/cuda/cuda_gpu_executor.cc:996] successful NUMA node read from SysFS had negative value (-1), but there must be at least one NUMA node, so returning NUMA node zero. See more at https://github.com/torvalds/linux/blob/v6.0/Documentation/ABI/testing/sysfs-bus-pci#L344-L355\n",
      "2023-07-31 07:32:21.453780: I tensorflow/compiler/xla/stream_executor/cuda/cuda_gpu_executor.cc:996] successful NUMA node read from SysFS had negative value (-1), but there must be at least one NUMA node, so returning NUMA node zero. See more at https://github.com/torvalds/linux/blob/v6.0/Documentation/ABI/testing/sysfs-bus-pci#L344-L355\n",
      "2023-07-31 07:32:21.453885: I tensorflow/core/common_runtime/gpu/gpu_device.cc:1635] Created device /job:localhost/replica:0/task:0/device:GPU:0 with 20000 MB memory:  -> device: 0, name: NVIDIA RTX A6000, pci bus id: 0000:61:00.0, compute capability: 8.6\n"
     ]
    }
   ],
   "source": [
    "gpus = tf.config.list_physical_devices('GPU');\n",
    "if gpus:\n",
    "    try:\n",
    "        tf.config.experimental.set_virtual_device_configuration(\n",
    "            gpus[0],\n",
    "            [tf.config.experimental.VirtualDeviceConfiguration(memory_limit = 20000)]);\n",
    "        logical_gpus = tf.config.experimental.list_logical_devices('GPU');\n",
    "        print(len(gpus), \"Physical GPUs,\", len(logical_gpus), \"Logical GPUs\")\n",
    "    except RuntimeError as e:\n",
    "        print(e)"
   ]
  },
  {
   "cell_type": "code",
   "execution_count": 4,
   "id": "fab505d9-931b-4e44-aed5-dbe6e8222da4",
   "metadata": {},
   "outputs": [],
   "source": [
    "now = datetime.now()\n",
    "\n",
    "DATASET_NAME = \"HSC_v6\"\n",
    "MODEL_TYPE = \"Combined Diffusion/CVAE\"\n",
    "MODEL_VERSION = \"v1.0\"\n",
    "MODEL_SUBVERSION = \"v1.0.\" + now.strftime(\"%Y%m%d_%H_%M_%S\")\n",
    "\n",
    "model_id = '_'.join([DATASET_NAME, MODEL_TYPE, MODEL_VERSION])\n",
    "model_path = os.path.join('/data3/Billy/models', model_id, MODEL_SUBVERSION, 'model')\n",
    "checkpoints_path = os.path.join('/data3/Billy/models', model_id, MODEL_SUBVERSION, 'checkpoints')\n",
    "logs_path = os.path.join('/data3/Billy/logs', model_id, MODEL_SUBVERSION)\n",
    "predictions_path = os.path.join('/data3/Billy/predictions', model_id, MODEL_SUBVERSION)\n",
    "weights_path = model_path + '/data3/Billy/Diffusion/weights.h5'\n",
    "\n",
    "os.makedirs(model_path, exist_ok = True)\n",
    "os.makedirs(checkpoints_path, exist_ok = True)\n",
    "os.makedirs(logs_path, exist_ok = True)\n",
    "os.makedirs(predictions_path, exist_ok = True)\n",
    "\n",
    "if write == True:\n",
    "    with open(\"/data3/Billy/models/README.md\", \"a\") as myfile:\n",
    "        myfile.write(MODEL_TYPE + \" \" + MODEL_SUBVERSION + \" - \" + MODEL_DESCRIPTION + \" - B. Li\" + \"\\n\")\n",
    "else:\n",
    "    with open(\"/data3/Billy/models/README.md\", \"a\") as myfile:\n",
    "        myfile.write(MODEL_TYPE + \" \" + MODEL_SUBVERSION + \" - ... \"+ \" - B. Li\" + \"\\n\")"
   ]
  },
  {
   "cell_type": "code",
   "execution_count": 5,
   "id": "012f172d-5656-4ae7-9dc8-b968d14bf8b6",
   "metadata": {},
   "outputs": [],
   "source": [
    "CHANNELS = 5\n",
    "IMAGE_DIM = 64"
   ]
  },
  {
   "cell_type": "code",
   "execution_count": 12,
   "id": "b4f8c94a-de45-49b2-81fb-8577afa7fa62",
   "metadata": {},
   "outputs": [],
   "source": [
    "hf_train = h5py.File('/data/HSC/HSC_v6/step3A/64x64_training_z_less_than_2_small.hdf5', 'r')\n",
    "hf_validation = h5py.File('/data/HSC/HSC_v6/step3A/64x64_validation_z_less_than_2_small.hdf5', 'r')\n",
    "x_train = np.asarray(hf_train['image'][0:])\n",
    "x_validation = np.asarray(hf_validation['image'][0:])\n",
    "y_train = np.asarray(hf_train['specz_redshift'][0:])[..., None]\n",
    "y_validation = np.asarray(hf_validation['specz_redshift'][0:])[..., None]\n",
    "hf_train.close()\n",
    "hf_validation.close()"
   ]
  },
  {
   "cell_type": "code",
   "execution_count": 13,
   "id": "3d20237a-18ca-4cd5-9d11-e213f9f9c59f",
   "metadata": {},
   "outputs": [],
   "source": [
    "from keras.layers import Dense, Dropout, Flatten, InputLayer, BatchNormalization\n",
    "from keras.layers import Conv2D, MaxPooling2D"
   ]
  },
  {
   "cell_type": "code",
   "execution_count": 14,
   "id": "a4690e9e-ef9f-4944-8455-15f02df20199",
   "metadata": {},
   "outputs": [
    {
     "name": "stdout",
     "output_type": "stream",
     "text": [
      "Model: \"sequential_1\"\n",
      "_________________________________________________________________\n",
      " Layer (type)                Output Shape              Param #   \n",
      "=================================================================\n",
      " conv2d_3 (Conv2D)           (None, 32, 64, 64)        1472      \n",
      "                                                                 \n",
      " max_pooling2d_2 (MaxPooling  (None, 32, 32, 32)       0         \n",
      " 2D)                                                             \n",
      "                                                                 \n",
      " conv2d_4 (Conv2D)           (None, 64, 32, 32)        18496     \n",
      "                                                                 \n",
      " max_pooling2d_3 (MaxPooling  (None, 64, 16, 16)       0         \n",
      " 2D)                                                             \n",
      "                                                                 \n",
      " conv2d_5 (Conv2D)           (None, 128, 16, 16)       73856     \n",
      "                                                                 \n",
      " flatten_1 (Flatten)         (None, 32768)             0         \n",
      "                                                                 \n",
      " dense_3 (Dense)             (None, 128)               4194432   \n",
      "                                                                 \n",
      " dense_4 (Dense)             (None, 128)               16512     \n",
      "                                                                 \n",
      " dense_5 (Dense)             (None, 1)                 129       \n",
      "                                                                 \n",
      "=================================================================\n",
      "Total params: 4,304,897\n",
      "Trainable params: 4,304,897\n",
      "Non-trainable params: 0\n",
      "_________________________________________________________________\n"
     ]
    }
   ],
   "source": [
    "cnn_model = Sequential([\n",
    "    InputLayer(input_shape = (CHANNELS, IMAGE_DIM, IMAGE_DIM)),\n",
    "    Conv2D(32, kernel_size = (3, 3), strides = 1, activation = 'relu', padding = 'same', data_format = 'channels_first'),\n",
    "    MaxPooling2D(2, 2, data_format = 'channels_first'),\n",
    "    Conv2D(64, kernel_size = (3, 3), strides = 1, activation = 'relu', padding = 'same', data_format = 'channels_first'),\n",
    "    MaxPooling2D(2, 2, data_format = 'channels_first'),\n",
    "    Conv2D(128, kernel_size = (3, 3), strides = 1, activation = 'relu', padding = 'same', data_format = 'channels_first'),\n",
    "    Flatten(),\n",
    "    Dense(128),\n",
    "    Dense(128),\n",
    "    Dense(1),\n",
    "])\n",
    "\n",
    "cnn_model.build((10000, CHANNELS, IMAGE_DIM, IMAGE_DIM))\n",
    "\n",
    "cnn_model.summary()"
   ]
  },
  {
   "cell_type": "code",
   "execution_count": 15,
   "id": "c10ef917-f991-4004-a475-a42d086b993c",
   "metadata": {},
   "outputs": [],
   "source": [
    "cnn_model.compile(optimizer = tf.keras.optimizers.Adam(learning_rate = 0.001), loss = \"mse\")"
   ]
  },
  {
   "cell_type": "code",
   "execution_count": 16,
   "id": "9d31afea-a9d7-4c86-8da6-5b7fe4173797",
   "metadata": {},
   "outputs": [
    {
     "name": "stdout",
     "output_type": "stream",
     "text": [
      "https://app.neptune.ai/astro-data-lab/VAE/e/VAE-159\n"
     ]
    }
   ],
   "source": [
    "run = neptune.init_run(\n",
    "    name = MODEL_SUBVERSION,\n",
    "    project = \"astro-data-lab/VAE\",\n",
    "    api_token = \"eyJhcGlfYWRkcmVzcyI6Imh0dHBzOi8vYXBwLm5lcHR1bmUuYWkiLCJhcGlfdXJsIjoiaHR0cHM6Ly9hcHAubmVwdHVuZS5haSIsImFwaV9rZXkiOiIxOGFlZGMxOC04MWU5LTQ2NDctYjlhZS05NGE2NGQ0NmIzMmEifQ==\",\n",
    ")  # your credentials\n",
    "\n",
    "neptune_callback = NeptuneCallback(run = run)\n",
    "\n",
    "LR_callback = ReduceLROnPlateau()"
   ]
  },
  {
   "cell_type": "code",
   "execution_count": 17,
   "id": "fcc8d906-ac0d-48ce-b391-3528609720ec",
   "metadata": {},
   "outputs": [
    {
     "name": "stderr",
     "output_type": "stream",
     "text": [
      "2023-07-31 07:34:55.980202: I tensorflow/compiler/xla/stream_executor/cuda/cuda_dnn.cc:424] Loaded cuDNN version 8600\n",
      "2023-07-31 07:34:56.438066: I tensorflow/tsl/platform/default/subprocess.cc:304] Start cannot spawn child process: No such file or directory\n",
      "2023-07-31 07:34:56.498780: I tensorflow/compiler/xla/stream_executor/cuda/cuda_blas.cc:637] TensorFloat-32 will be used for the matrix multiplication. This will only be logged once.\n",
      "2023-07-31 07:34:56.500280: I tensorflow/compiler/xla/service/service.cc:169] XLA service 0x21ce5e00 initialized for platform CUDA (this does not guarantee that XLA will be used). Devices:\n",
      "2023-07-31 07:34:56.500292: I tensorflow/compiler/xla/service/service.cc:177]   StreamExecutor device (0): NVIDIA RTX A6000, Compute Capability 8.6\n",
      "2023-07-31 07:34:56.503972: I tensorflow/compiler/mlir/tensorflow/utils/dump_mlir_util.cc:269] disabling MLIR crash reproducer, set env var `MLIR_CRASH_REPRODUCER_DIRECTORY` to enable.\n",
      "2023-07-31 07:34:56.560835: I tensorflow/tsl/platform/default/subprocess.cc:304] Start cannot spawn child process: No such file or directory\n",
      "2023-07-31 07:34:56.611712: I ./tensorflow/compiler/jit/device_compiler.h:180] Compiled cluster using XLA!  This line is logged at most once for the lifetime of the process.\n"
     ]
    },
    {
     "data": {
      "text/plain": [
       "<keras.callbacks.History at 0x7faaed5cb3d0>"
      ]
     },
     "execution_count": 17,
     "metadata": {},
     "output_type": "execute_result"
    }
   ],
   "source": [
    "cnn_model.fit(x_train, y_train, epochs = 300, shuffle = True, verbose = 0, validation_data = (x_validation, y_validation), callbacks = [neptune_callback, LR_callback])"
   ]
  },
  {
   "cell_type": "code",
   "execution_count": 18,
   "id": "52ecf3cb-353e-4634-aaa5-5606735c15a1",
   "metadata": {},
   "outputs": [],
   "source": [
    "photoz = cnn_model(x_validation)"
   ]
  },
  {
   "cell_type": "code",
   "execution_count": 19,
   "id": "df0b0199-306c-4112-a912-1005d28c2a84",
   "metadata": {},
   "outputs": [
    {
     "data": {
      "image/png": "[encoded data removed]",
      "text/plain": [
       "<Figure size 1000x1000 with 2 Axes>"
      ]
     },
     "metadata": {},
     "output_type": "display_data"
    }
   ],
   "source": [
    "import seaborn as sns\n",
    "z_max = 4\n",
    "sns.set(rc={'figure.figsize': (10, 10), 'lines.markersize': 20})\n",
    "plt.rcParams.update({'font.size': 40})\n",
    "fig, ax = plt.subplots()\n",
    "scatter_plot = ax.scatter(y_validation, photoz, s = 1, edgecolor = None)\n",
    "plt.colorbar(scatter_plot, label = 'Density')\n",
    "plt.title('Prediction')\n",
    "plt.xlabel('spectroscopic redshift')\n",
    "plt.ylabel('photo z')\n",
    "plt.plot([0, 2], [0, 2], color = 'black')\n",
    "plt.xlim([0, 2])\n",
    "plt.ylim([0, 2])\n",
    "plt.show()"
   ]
  },
  {
   "cell_type": "code",
   "execution_count": 20,
   "id": "021fcc33-ca10-4f18-9964-f4baed0b9953",
   "metadata": {},
   "outputs": [],
   "source": [
    "from DataMaker import *"
   ]
  },
  {
   "cell_type": "code",
   "execution_count": 21,
   "id": "fe0f5a4a-d5e8-4a25-a813-7795f9c6b523",
   "metadata": {},
   "outputs": [],
   "source": [
    "BATCH_SIZE = 512\n",
    "\n",
    "args_gen = {'X_key': 'image',\n",
    "    'y_key': 'specz_redshift',\n",
    "    'scaler': False,\n",
    "    'labels_encoding': False,\n",
    "    'batch_size': BATCH_SIZE,\n",
    "    'mode': 'train',\n",
    "    'shuffle': False}\n",
    "\n",
    "train_gen = HDF5ImageGenerator(src = '/data/HSC/HSC_v6/step3A/64x64_training_z_less_than_2.hdf5', **args_gen)\n",
    "test_gen = HDF5ImageGenerator(src = '/data/HSC/HSC_v6/step3A/64x64_testing_z_less_than_2.hdf5', **args_gen)\n",
    "val_gen = HDF5ImageGenerator(src = '/data/HSC/HSC_v6/step3A/64x64_validation_z_less_than_2.hdf5', **args_gen)"
   ]
  },
  {
   "cell_type": "code",
   "execution_count": 22,
   "id": "90a952bb-519a-41d0-b0d4-b78a4f0c54f1",
   "metadata": {},
   "outputs": [],
   "source": [
    "cnn_model_clone = tf.keras.models.clone_model(cnn_model, clone_function=lambda layer: layer)"
   ]
  },
  {
   "cell_type": "code",
   "execution_count": 23,
   "id": "345d4397-7dfd-4dfb-8639-1c81d785b27a",
   "metadata": {},
   "outputs": [],
   "source": [
    "LATENT_DIM = 256\n",
    "BASE_DEPTH = 8\n",
    "IMAGE_SHAPE = (CHANNELS, IMAGE_DIM, IMAGE_DIM)\n",
    "EPOCHS = 250\n",
    "KL_WEIGHT = 1e-3"
   ]
  },
  {
   "cell_type": "code",
   "execution_count": 24,
   "id": "2d1fe2fe-2201-4bbb-9996-b82ad625ad7f",
   "metadata": {},
   "outputs": [
    {
     "name": "stdout",
     "output_type": "stream",
     "text": [
      "WARNING:tensorflow:Please fix your imports. Module tensorflow.python.training.tracking.data_structures has been moved to tensorflow.python.trackable.data_structures. The old module will be deleted in version 2.11.\n"
     ]
    }
   ],
   "source": [
    "prior = tfd.Independent(tfd.Normal(loc = tf.zeros(LATENT_DIM), scale = 1.0), reinterpreted_batch_ndims = 1)\n",
    "\n",
    "# Encoder\n",
    "images = Input(shape = IMAGE_SHAPE)\n",
    "redshifts = Input(shape = (1,))\n",
    "conv1 = Conv2D(BASE_DEPTH, 3, strides = 1, activation = tf.nn.leaky_relu, padding = 'same', data_format = 'channels_first')(images)\n",
    "conv2 = Conv2D(BASE_DEPTH, 3, strides = 1, activation = tf.nn.leaky_relu, padding = 'same', data_format = 'channels_first')(conv1)\n",
    "flatten = Flatten()(conv2)\n",
    "dense1 = Dense(1024, activation = \"relu\")(flatten)\n",
    "dense2 = tf.keras.layers.Dense(128, activation = \"relu\")(redshifts)\n",
    "concat = tf.keras.layers.Concatenate()([dense1, dense2])\n",
    "dense3 = Dense(tfpl.MultivariateNormalTriL.params_size(LATENT_DIM), activation = None)(concat)\n",
    "z = tfpl.MultivariateNormalTriL(LATENT_DIM, activity_regularizer=tfpl.KLDivergenceRegularizer(prior, weight = KL_WEIGHT))(dense3)\n",
    "encoder = Model([images, redshifts], z)"
   ]
  },
  {
   "cell_type": "code",
   "execution_count": 25,
   "id": "39837c44-e712-4390-ab0d-ecbba6ffbe54",
   "metadata": {},
   "outputs": [],
   "source": [
    "zc = Input(shape = (LATENT_DIM + 1, ))\n",
    "dense4 = Dense(4 * LATENT_DIM * 16 * 16, activation = \"relu\")(zc) # Size of the dense layer changed\n",
    "reshape = Reshape((4 * LATENT_DIM, 16, 16))(dense4) # Reshape size changed\n",
    "conv3 = Conv2DTranspose(BASE_DEPTH, 3, strides = 2, activation = tf.nn.leaky_relu, padding = 'same', data_format = 'channels_first')(reshape)\n",
    "conv4 = Conv2DTranspose(BASE_DEPTH, 3, strides = 2, activation = tf.nn.leaky_relu, padding = 'same', data_format = 'channels_first')(conv3)\n",
    "conv5 = Conv2D(IMAGE_SHAPE[0], 3, strides = 1, activation = None, padding = 'same', data_format = 'channels_first')(conv4)\n",
    "outputs = Reshape(IMAGE_SHAPE)(conv5)\n",
    "decoder = Model(zc, outputs)"
   ]
  },
  {
   "cell_type": "code",
   "execution_count": 26,
   "id": "cd935169-5a6e-4112-93e8-b69acc3ddc81",
   "metadata": {},
   "outputs": [],
   "source": [
    "z = encoder([images, redshifts])\n",
    "zc = tf.keras.layers.Concatenate()([z, redshifts])  # Assuming you want to concat the output of encoder and redshifts\n",
    "decoder_output = decoder(zc)\n",
    "\n",
    "model = Model(inputs=[images, redshifts], outputs=decoder_output)"
   ]
  },
  {
   "cell_type": "code",
   "execution_count": 27,
   "id": "76e9994c-3ddf-47c6-bf30-8a06a368929a",
   "metadata": {},
   "outputs": [],
   "source": [
    "def custom_loss(y_true, y_pred, z_true, z_pred):\n",
    "    # Get the redshift value from y_true\n",
    "\n",
    "    # Compute the difference between the true and predicted redshift\n",
    "    redshift_loss = tf.reduce_mean(tf.square(z_true - z_pred))\n",
    "\n",
    "    # Compute the usual VAE loss (reconstruction loss and KL divergence)\n",
    "    # Here, y_pred will be the generated image and y_true the original image (without the redshift channel)\n",
    "    reconstruction_loss = tf.reduce_mean(tf.square(y_true - y_pred)) \n",
    "\n",
    "    return reconstruction_loss + redshift_loss"
   ]
  },
  {
   "cell_type": "code",
   "execution_count": null,
   "id": "666a44d2-fc00-4b9c-a01c-6269b744e931",
   "metadata": {},
   "outputs": [],
   "source": [
    "def train_step(y_batch, z_batch, condition):\n",
    "    \n",
    "    y_pred = model(y_true, z_true)\n",
    "    \n",
    "    z_pred = cnn_model(y_pred)\n",
    "    \n",
    "    with tf.GradientTape() as tape:\n",
    "        prediction = unet(noised_image, timestep_values, condition)\n",
    "        \n",
    "        loss_value = loss_fn(noise, prediction)\n",
    "    \n",
    "    gradients = tape.gradient(loss_value, model.trainable_variables)\n",
    "    optimizer.apply_gradients(zip(gradients, model.trainable_variables))"
   ]
  },
  {
   "cell_type": "code",
   "execution_count": 28,
   "id": "e9eb1af7-565c-439e-8495-f5a5c466a38a",
   "metadata": {},
   "outputs": [],
   "source": [
    "cnn_model_clone.trainable = False"
   ]
  },
  {
   "cell_type": "code",
   "execution_count": 29,
   "id": "25074464-73de-40f6-96cc-ff2b4a2361df",
   "metadata": {},
   "outputs": [],
   "source": [
    "optimizer = tf.keras.optimizers.Adam(learning_rate = 0.0001)\n",
    "model.compile(optimizer = optimizer, loss = custom_loss)"
   ]
  },
  {
   "cell_type": "code",
   "execution_count": 30,
   "id": "20b5a9a9-08f6-4c74-aba6-dd1a5947186e",
   "metadata": {},
   "outputs": [],
   "source": [
    "LR_callback = ReduceLROnPlateau()"
   ]
  },
  {
   "cell_type": "code",
   "execution_count": 38,
   "id": "e828b4a5-f408-4990-bc89-3c8d105f74e4",
   "metadata": {},
   "outputs": [
    {
     "data": {
      "text/plain": [
       "350"
      ]
     },
     "execution_count": 38,
     "metadata": {},
     "output_type": "execute_result"
    }
   ],
   "source": [
    "len(train_gen)"
   ]
  },
  {
   "cell_type": "code",
   "execution_count": 31,
   "id": "6db90ce1-e2bf-40a4-aedc-1c7cd76699cb",
   "metadata": {},
   "outputs": [
    {
     "name": "stdout",
     "output_type": "stream",
     "text": [
      "Epoch 1/500\n"
     ]
    },
    {
     "name": "stderr",
     "output_type": "stream",
     "text": [
      "2023-07-31 07:46:35.285158: I tensorflow/core/common_runtime/executor.cc:1197] [/device:CPU:0] (DEBUG INFO) Executor start aborting (this does not indicate an error and you can ignore this message): INVALID_ARGUMENT: You must feed a value for placeholder tensor 'Placeholder/_0' with dtype int32\n",
      "\t [[{{node Placeholder/_0}}]]\n"
     ]
    },
    {
     "name": "stdout",
     "output_type": "stream",
     "text": [
      "(None, None, None, None)\n",
      "(None, None, None, None)\n"
     ]
    },
    {
     "name": "stderr",
     "output_type": "stream",
     "text": [
      "2023-07-31 07:46:38.010599: W tensorflow/core/framework/op_kernel.cc:1818] INVALID_ARGUMENT: required broadcastable shapes\n",
      "2023-07-31 07:46:38.010628: I tensorflow/core/common_runtime/executor.cc:1197] [/job:localhost/replica:0/task:0/device:GPU:0] (DEBUG INFO) Executor start aborting (this does not indicate an error and you can ignore this message): INVALID_ARGUMENT: required broadcastable shapes\n",
      "\t [[{{node custom_loss/sub}}]]\n"
     ]
    },
    {
     "ename": "InvalidArgumentError",
     "evalue": "Graph execution error:\n\nDetected at node 'custom_loss/sub' defined at (most recent call last):\n    File \"/home/billyli/miniconda3/envs/Diffusion/lib/python3.9/runpy.py\", line 197, in _run_module_as_main\n      return _run_code(code, main_globals, None,\n    File \"/home/billyli/miniconda3/envs/Diffusion/lib/python3.9/runpy.py\", line 87, in _run_code\n      exec(code, run_globals)\n    File \"/home/billyli/miniconda3/envs/Diffusion/lib/python3.9/site-packages/ipykernel_launcher.py\", line 17, in <module>\n      app.launch_new_instance()\n    File \"/home/billyli/miniconda3/envs/Diffusion/lib/python3.9/site-packages/traitlets/config/application.py\", line 992, in launch_instance\n      app.start()\n    File \"/home/billyli/miniconda3/envs/Diffusion/lib/python3.9/site-packages/ipykernel/kernelapp.py\", line 711, in start\n      self.io_loop.start()\n    File \"/home/billyli/miniconda3/envs/Diffusion/lib/python3.9/site-packages/tornado/platform/asyncio.py\", line 215, in start\n      self.asyncio_loop.run_forever()\n    File \"/home/billyli/miniconda3/envs/Diffusion/lib/python3.9/asyncio/base_events.py\", line 601, in run_forever\n      self._run_once()\n    File \"/home/billyli/miniconda3/envs/Diffusion/lib/python3.9/asyncio/base_events.py\", line 1905, in _run_once\n      handle._run()\n    File \"/home/billyli/miniconda3/envs/Diffusion/lib/python3.9/asyncio/events.py\", line 80, in _run\n      self._context.run(self._callback, *self._args)\n    File \"/home/billyli/miniconda3/envs/Diffusion/lib/python3.9/site-packages/ipykernel/kernelbase.py\", line 510, in dispatch_queue\n      await self.process_one()\n    File \"/home/billyli/miniconda3/envs/Diffusion/lib/python3.9/site-packages/ipykernel/kernelbase.py\", line 499, in process_one\n      await dispatch(*args)\n    File \"/home/billyli/miniconda3/envs/Diffusion/lib/python3.9/site-packages/ipykernel/kernelbase.py\", line 406, in dispatch_shell\n      await result\n    File \"/home/billyli/miniconda3/envs/Diffusion/lib/python3.9/site-packages/ipykernel/kernelbase.py\", line 729, in execute_request\n      reply_content = await reply_content\n    File \"/home/billyli/miniconda3/envs/Diffusion/lib/python3.9/site-packages/ipykernel/ipkernel.py\", line 411, in do_execute\n      res = shell.run_cell(\n    File \"/home/billyli/miniconda3/envs/Diffusion/lib/python3.9/site-packages/ipykernel/zmqshell.py\", line 531, in run_cell\n      return super().run_cell(*args, **kwargs)\n    File \"/home/billyli/miniconda3/envs/Diffusion/lib/python3.9/site-packages/IPython/core/interactiveshell.py\", line 2945, in run_cell\n      result = self._run_cell(\n    File \"/home/billyli/miniconda3/envs/Diffusion/lib/python3.9/site-packages/IPython/core/interactiveshell.py\", line 3000, in _run_cell\n      return runner(coro)\n    File \"/home/billyli/miniconda3/envs/Diffusion/lib/python3.9/site-packages/IPython/core/async_helpers.py\", line 129, in _pseudo_sync_runner\n      coro.send(None)\n    File \"/home/billyli/miniconda3/envs/Diffusion/lib/python3.9/site-packages/IPython/core/interactiveshell.py\", line 3203, in run_cell_async\n      has_raised = await self.run_ast_nodes(code_ast.body, cell_name,\n    File \"/home/billyli/miniconda3/envs/Diffusion/lib/python3.9/site-packages/IPython/core/interactiveshell.py\", line 3382, in run_ast_nodes\n      if await self.run_code(code, result, async_=asy):\n    File \"/home/billyli/miniconda3/envs/Diffusion/lib/python3.9/site-packages/IPython/core/interactiveshell.py\", line 3442, in run_code\n      exec(code_obj, self.user_global_ns, self.user_ns)\n    File \"/tmp/ipykernel_3342105/486983839.py\", line 1, in <module>\n      model.fit(train_gen, epochs = 500, callbacks = [LR_callback], verbose = 1)\n    File \"/home/billyli/miniconda3/envs/Diffusion/lib/python3.9/site-packages/keras/utils/traceback_utils.py\", line 65, in error_handler\n      return fn(*args, **kwargs)\n    File \"/home/billyli/miniconda3/envs/Diffusion/lib/python3.9/site-packages/keras/engine/training.py\", line 1685, in fit\n      tmp_logs = self.train_function(iterator)\n    File \"/home/billyli/miniconda3/envs/Diffusion/lib/python3.9/site-packages/keras/engine/training.py\", line 1284, in train_function\n      return step_function(self, iterator)\n    File \"/home/billyli/miniconda3/envs/Diffusion/lib/python3.9/site-packages/keras/engine/training.py\", line 1268, in step_function\n      outputs = model.distribute_strategy.run(run_step, args=(data,))\n    File \"/home/billyli/miniconda3/envs/Diffusion/lib/python3.9/site-packages/keras/engine/training.py\", line 1249, in run_step\n      outputs = model.train_step(data)\n    File \"/home/billyli/miniconda3/envs/Diffusion/lib/python3.9/site-packages/keras/engine/training.py\", line 1051, in train_step\n      loss = self.compute_loss(x, y, y_pred, sample_weight)\n    File \"/home/billyli/miniconda3/envs/Diffusion/lib/python3.9/site-packages/keras/engine/training.py\", line 1109, in compute_loss\n      return self.compiled_loss(\n    File \"/home/billyli/miniconda3/envs/Diffusion/lib/python3.9/site-packages/keras/engine/compile_utils.py\", line 265, in __call__\n      loss_value = loss_obj(y_t, y_p, sample_weight=sw)\n    File \"/home/billyli/miniconda3/envs/Diffusion/lib/python3.9/site-packages/keras/losses.py\", line 142, in __call__\n      losses = call_fn(y_true, y_pred)\n    File \"/home/billyli/miniconda3/envs/Diffusion/lib/python3.9/site-packages/keras/losses.py\", line 268, in call\n      return ag_fn(y_true, y_pred, **self._fn_kwargs)\n    File \"/tmp/ipykernel_3342105/509958738.py\", line 10, in custom_loss\n      redshift_loss = tf.reduce_mean(tf.square(z_true - z_pred))\nNode: 'custom_loss/sub'\nrequired broadcastable shapes\n\t [[{{node custom_loss/sub}}]] [Op:__inference_train_function_352097]",
     "output_type": "error",
     "traceback": [
      "\u001b[0;31m---------------------------------------------------------------------------\u001b[0m",
      "\u001b[0;31mInvalidArgumentError\u001b[0m                      Traceback (most recent call last)",
      "Cell \u001b[0;32mIn[31], line 1\u001b[0m\n\u001b[0;32m----> 1\u001b[0m \u001b[43mmodel\u001b[49m\u001b[38;5;241;43m.\u001b[39;49m\u001b[43mfit\u001b[49m\u001b[43m(\u001b[49m\u001b[43mtrain_gen\u001b[49m\u001b[43m,\u001b[49m\u001b[43m \u001b[49m\u001b[43mepochs\u001b[49m\u001b[43m \u001b[49m\u001b[38;5;241;43m=\u001b[39;49m\u001b[43m \u001b[49m\u001b[38;5;241;43m500\u001b[39;49m\u001b[43m,\u001b[49m\u001b[43m \u001b[49m\u001b[43mcallbacks\u001b[49m\u001b[43m \u001b[49m\u001b[38;5;241;43m=\u001b[39;49m\u001b[43m \u001b[49m\u001b[43m[\u001b[49m\u001b[43mLR_callback\u001b[49m\u001b[43m]\u001b[49m\u001b[43m,\u001b[49m\u001b[43m \u001b[49m\u001b[43mverbose\u001b[49m\u001b[43m \u001b[49m\u001b[38;5;241;43m=\u001b[39;49m\u001b[43m \u001b[49m\u001b[38;5;241;43m1\u001b[39;49m\u001b[43m)\u001b[49m\n",
      "File \u001b[0;32m~/miniconda3/envs/Diffusion/lib/python3.9/site-packages/keras/utils/traceback_utils.py:70\u001b[0m, in \u001b[0;36mfilter_traceback.<locals>.error_handler\u001b[0;34m(*args, **kwargs)\u001b[0m\n\u001b[1;32m     67\u001b[0m     filtered_tb \u001b[38;5;241m=\u001b[39m _process_traceback_frames(e\u001b[38;5;241m.\u001b[39m__traceback__)\n\u001b[1;32m     68\u001b[0m     \u001b[38;5;66;03m# To get the full stack trace, call:\u001b[39;00m\n\u001b[1;32m     69\u001b[0m     \u001b[38;5;66;03m# `tf.debugging.disable_traceback_filtering()`\u001b[39;00m\n\u001b[0;32m---> 70\u001b[0m     \u001b[38;5;28;01mraise\u001b[39;00m e\u001b[38;5;241m.\u001b[39mwith_traceback(filtered_tb) \u001b[38;5;28;01mfrom\u001b[39;00m \u001b[38;5;28mNone\u001b[39m\n\u001b[1;32m     71\u001b[0m \u001b[38;5;28;01mfinally\u001b[39;00m:\n\u001b[1;32m     72\u001b[0m     \u001b[38;5;28;01mdel\u001b[39;00m filtered_tb\n",
      "File \u001b[0;32m~/miniconda3/envs/Diffusion/lib/python3.9/site-packages/tensorflow/python/eager/execute.py:52\u001b[0m, in \u001b[0;36mquick_execute\u001b[0;34m(op_name, num_outputs, inputs, attrs, ctx, name)\u001b[0m\n\u001b[1;32m     50\u001b[0m \u001b[38;5;28;01mtry\u001b[39;00m:\n\u001b[1;32m     51\u001b[0m   ctx\u001b[38;5;241m.\u001b[39mensure_initialized()\n\u001b[0;32m---> 52\u001b[0m   tensors \u001b[38;5;241m=\u001b[39m pywrap_tfe\u001b[38;5;241m.\u001b[39mTFE_Py_Execute(ctx\u001b[38;5;241m.\u001b[39m_handle, device_name, op_name,\n\u001b[1;32m     53\u001b[0m                                       inputs, attrs, num_outputs)\n\u001b[1;32m     54\u001b[0m \u001b[38;5;28;01mexcept\u001b[39;00m core\u001b[38;5;241m.\u001b[39m_NotOkStatusException \u001b[38;5;28;01mas\u001b[39;00m e:\n\u001b[1;32m     55\u001b[0m   \u001b[38;5;28;01mif\u001b[39;00m name \u001b[38;5;129;01mis\u001b[39;00m \u001b[38;5;129;01mnot\u001b[39;00m \u001b[38;5;28;01mNone\u001b[39;00m:\n",
      "\u001b[0;31mInvalidArgumentError\u001b[0m: Graph execution error:\n\nDetected at node 'custom_loss/sub' defined at (most recent call last):\n    File \"/home/billyli/miniconda3/envs/Diffusion/lib/python3.9/runpy.py\", line 197, in _run_module_as_main\n      return _run_code(code, main_globals, None,\n    File \"/home/billyli/miniconda3/envs/Diffusion/lib/python3.9/runpy.py\", line 87, in _run_code\n      exec(code, run_globals)\n    File \"/home/billyli/miniconda3/envs/Diffusion/lib/python3.9/site-packages/ipykernel_launcher.py\", line 17, in <module>\n      app.launch_new_instance()\n    File \"/home/billyli/miniconda3/envs/Diffusion/lib/python3.9/site-packages/traitlets/config/application.py\", line 992, in launch_instance\n      app.start()\n    File \"/home/billyli/miniconda3/envs/Diffusion/lib/python3.9/site-packages/ipykernel/kernelapp.py\", line 711, in start\n      self.io_loop.start()\n    File \"/home/billyli/miniconda3/envs/Diffusion/lib/python3.9/site-packages/tornado/platform/asyncio.py\", line 215, in start\n      self.asyncio_loop.run_forever()\n    File \"/home/billyli/miniconda3/envs/Diffusion/lib/python3.9/asyncio/base_events.py\", line 601, in run_forever\n      self._run_once()\n    File \"/home/billyli/miniconda3/envs/Diffusion/lib/python3.9/asyncio/base_events.py\", line 1905, in _run_once\n      handle._run()\n    File \"/home/billyli/miniconda3/envs/Diffusion/lib/python3.9/asyncio/events.py\", line 80, in _run\n      self._context.run(self._callback, *self._args)\n    File \"/home/billyli/miniconda3/envs/Diffusion/lib/python3.9/site-packages/ipykernel/kernelbase.py\", line 510, in dispatch_queue\n      await self.process_one()\n    File \"/home/billyli/miniconda3/envs/Diffusion/lib/python3.9/site-packages/ipykernel/kernelbase.py\", line 499, in process_one\n      await dispatch(*args)\n    File \"/home/billyli/miniconda3/envs/Diffusion/lib/python3.9/site-packages/ipykernel/kernelbase.py\", line 406, in dispatch_shell\n      await result\n    File \"/home/billyli/miniconda3/envs/Diffusion/lib/python3.9/site-packages/ipykernel/kernelbase.py\", line 729, in execute_request\n      reply_content = await reply_content\n    File \"/home/billyli/miniconda3/envs/Diffusion/lib/python3.9/site-packages/ipykernel/ipkernel.py\", line 411, in do_execute\n      res = shell.run_cell(\n    File \"/home/billyli/miniconda3/envs/Diffusion/lib/python3.9/site-packages/ipykernel/zmqshell.py\", line 531, in run_cell\n      return super().run_cell(*args, **kwargs)\n    File \"/home/billyli/miniconda3/envs/Diffusion/lib/python3.9/site-packages/IPython/core/interactiveshell.py\", line 2945, in run_cell\n      result = self._run_cell(\n    File \"/home/billyli/miniconda3/envs/Diffusion/lib/python3.9/site-packages/IPython/core/interactiveshell.py\", line 3000, in _run_cell\n      return runner(coro)\n    File \"/home/billyli/miniconda3/envs/Diffusion/lib/python3.9/site-packages/IPython/core/async_helpers.py\", line 129, in _pseudo_sync_runner\n      coro.send(None)\n    File \"/home/billyli/miniconda3/envs/Diffusion/lib/python3.9/site-packages/IPython/core/interactiveshell.py\", line 3203, in run_cell_async\n      has_raised = await self.run_ast_nodes(code_ast.body, cell_name,\n    File \"/home/billyli/miniconda3/envs/Diffusion/lib/python3.9/site-packages/IPython/core/interactiveshell.py\", line 3382, in run_ast_nodes\n      if await self.run_code(code, result, async_=asy):\n    File \"/home/billyli/miniconda3/envs/Diffusion/lib/python3.9/site-packages/IPython/core/interactiveshell.py\", line 3442, in run_code\n      exec(code_obj, self.user_global_ns, self.user_ns)\n    File \"/tmp/ipykernel_3342105/486983839.py\", line 1, in <module>\n      model.fit(train_gen, epochs = 500, callbacks = [LR_callback], verbose = 1)\n    File \"/home/billyli/miniconda3/envs/Diffusion/lib/python3.9/site-packages/keras/utils/traceback_utils.py\", line 65, in error_handler\n      return fn(*args, **kwargs)\n    File \"/home/billyli/miniconda3/envs/Diffusion/lib/python3.9/site-packages/keras/engine/training.py\", line 1685, in fit\n      tmp_logs = self.train_function(iterator)\n    File \"/home/billyli/miniconda3/envs/Diffusion/lib/python3.9/site-packages/keras/engine/training.py\", line 1284, in train_function\n      return step_function(self, iterator)\n    File \"/home/billyli/miniconda3/envs/Diffusion/lib/python3.9/site-packages/keras/engine/training.py\", line 1268, in step_function\n      outputs = model.distribute_strategy.run(run_step, args=(data,))\n    File \"/home/billyli/miniconda3/envs/Diffusion/lib/python3.9/site-packages/keras/engine/training.py\", line 1249, in run_step\n      outputs = model.train_step(data)\n    File \"/home/billyli/miniconda3/envs/Diffusion/lib/python3.9/site-packages/keras/engine/training.py\", line 1051, in train_step\n      loss = self.compute_loss(x, y, y_pred, sample_weight)\n    File \"/home/billyli/miniconda3/envs/Diffusion/lib/python3.9/site-packages/keras/engine/training.py\", line 1109, in compute_loss\n      return self.compiled_loss(\n    File \"/home/billyli/miniconda3/envs/Diffusion/lib/python3.9/site-packages/keras/engine/compile_utils.py\", line 265, in __call__\n      loss_value = loss_obj(y_t, y_p, sample_weight=sw)\n    File \"/home/billyli/miniconda3/envs/Diffusion/lib/python3.9/site-packages/keras/losses.py\", line 142, in __call__\n      losses = call_fn(y_true, y_pred)\n    File \"/home/billyli/miniconda3/envs/Diffusion/lib/python3.9/site-packages/keras/losses.py\", line 268, in call\n      return ag_fn(y_true, y_pred, **self._fn_kwargs)\n    File \"/tmp/ipykernel_3342105/509958738.py\", line 10, in custom_loss\n      redshift_loss = tf.reduce_mean(tf.square(z_true - z_pred))\nNode: 'custom_loss/sub'\nrequired broadcastable shapes\n\t [[{{node custom_loss/sub}}]] [Op:__inference_train_function_352097]"
     ]
    },
    {
     "name": "stderr",
     "output_type": "stream",
     "text": [
      "Exception in thread NeptuneWebhooks:\n",
      "Traceback (most recent call last):\n",
      "  File \"/home/billyli/miniconda3/envs/Diffusion/lib/python3.9/site-packages/websocket/_socket.py\", line 108, in recv\n",
      "Exception in thread NeptuneWebhooks:\n",
      "Traceback (most recent call last):\n",
      "  File \"/home/billyli/miniconda3/envs/Diffusion/lib/python3.9/site-packages/websocket/_socket.py\", line 108, in recv\n",
      "    bytes_ = _recv()\n",
      "  File \"/home/billyli/miniconda3/envs/Diffusion/lib/python3.9/site-packages/websocket/_socket.py\", line 87, in _recv\n",
      "    bytes_ = _recv()\n",
      "  File \"/home/billyli/miniconda3/envs/Diffusion/lib/python3.9/site-packages/websocket/_socket.py\", line 87, in _recv\n",
      "    return sock.recv(bufsize)\n",
      "  File \"/home/billyli/miniconda3/envs/Diffusion/lib/python3.9/ssl.py\", line 1227, in recv\n",
      "    return sock.recv(bufsize)\n",
      "  File \"/home/billyli/miniconda3/envs/Diffusion/lib/python3.9/ssl.py\", line 1227, in recv\n",
      "    return self.read(buflen)\n",
      "  File \"/home/billyli/miniconda3/envs/Diffusion/lib/python3.9/ssl.py\", line 1102, in read\n",
      "    return self.read(buflen)\n",
      "  File \"/home/billyli/miniconda3/envs/Diffusion/lib/python3.9/ssl.py\", line 1102, in read\n",
      "    return self._sslobj.read(len)\n",
      "TimeoutError: [Errno 110] Connection timed out\n",
      "\n",
      "During handling of the above exception, another exception occurred:\n",
      "\n",
      "Traceback (most recent call last):\n",
      "  File \"/home/billyli/miniconda3/envs/Diffusion/lib/python3.9/threading.py\", line 980, in _bootstrap_inner\n",
      "    return self._sslobj.read(len)\n",
      "TimeoutError: [Errno 110] Connection timed out\n",
      "\n",
      "During handling of the above exception, another exception occurred:\n",
      "\n",
      "Traceback (most recent call last):\n",
      "  File \"/home/billyli/miniconda3/envs/Diffusion/lib/python3.9/threading.py\", line 980, in _bootstrap_inner\n",
      "    self.run()\n",
      "  File \"/home/billyli/miniconda3/envs/Diffusion/lib/python3.9/site-packages/neptune/internal/threading/daemon.py\", line 53, in run\n",
      "    self.work()\n",
      "  File \"/home/billyli/miniconda3/envs/Diffusion/lib/python3.9/site-packages/neptune/internal/websockets/websocket_signals_background_job.py\", line 79, in work\n",
      "    self.run()\n",
      "  File \"/home/billyli/miniconda3/envs/Diffusion/lib/python3.9/site-packages/neptune/internal/threading/daemon.py\", line 53, in run\n",
      "    raw_message = self._ws_client.recv()\n",
      "  File \"/home/billyli/miniconda3/envs/Diffusion/lib/python3.9/site-packages/neptune/common/websockets/reconnecting_websocket.py\", line 51, in recv\n",
      "    data = self.client.recv()\n",
      "  File \"/home/billyli/miniconda3/envs/Diffusion/lib/python3.9/site-packages/neptune/common/websockets/websocket_client_adapter.py\", line 63, in recv\n",
      "    self.work()\n",
      "  File \"/home/billyli/miniconda3/envs/Diffusion/lib/python3.9/site-packages/neptune/internal/websockets/websocket_signals_background_job.py\", line 79, in work\n",
      "    opcode, data = self._ws_client.recv_data()\n",
      "  File \"/home/billyli/miniconda3/envs/Diffusion/lib/python3.9/site-packages/websocket/_core.py\", line 385, in recv_data\n",
      "    raw_message = self._ws_client.recv()\n",
      "  File \"/home/billyli/miniconda3/envs/Diffusion/lib/python3.9/site-packages/neptune/common/websockets/reconnecting_websocket.py\", line 51, in recv\n",
      "    data = self.client.recv()\n",
      "  File \"/home/billyli/miniconda3/envs/Diffusion/lib/python3.9/site-packages/neptune/common/websockets/websocket_client_adapter.py\", line 63, in recv\n",
      "    opcode, frame = self.recv_data_frame(control_frame)\n",
      "  File \"/home/billyli/miniconda3/envs/Diffusion/lib/python3.9/site-packages/websocket/_core.py\", line 406, in recv_data_frame\n",
      "    frame = self.recv_frame()\n",
      "  File \"/home/billyli/miniconda3/envs/Diffusion/lib/python3.9/site-packages/websocket/_core.py\", line 445, in recv_frame\n",
      "    return self.frame_buffer.recv_frame()\n",
      "  File \"/home/billyli/miniconda3/envs/Diffusion/lib/python3.9/site-packages/websocket/_abnf.py\", line 338, in recv_frame\n",
      "    opcode, data = self._ws_client.recv_data()\n",
      "  File \"/home/billyli/miniconda3/envs/Diffusion/lib/python3.9/site-packages/websocket/_core.py\", line 385, in recv_data\n",
      "    self.recv_header()\n",
      "  File \"/home/billyli/miniconda3/envs/Diffusion/lib/python3.9/site-packages/websocket/_abnf.py\", line 294, in recv_header\n",
      "    header = self.recv_strict(2)\n",
      "  File \"/home/billyli/miniconda3/envs/Diffusion/lib/python3.9/site-packages/websocket/_abnf.py\", line 373, in recv_strict\n",
      "    bytes_ = self.recv(min(16384, shortage))\n",
      "  File \"/home/billyli/miniconda3/envs/Diffusion/lib/python3.9/site-packages/websocket/_core.py\", line 529, in _recv\n",
      "    opcode, frame = self.recv_data_frame(control_frame)\n",
      "  File \"/home/billyli/miniconda3/envs/Diffusion/lib/python3.9/site-packages/websocket/_core.py\", line 406, in recv_data_frame\n",
      "    return recv(self.sock, bufsize)\n",
      "  File \"/home/billyli/miniconda3/envs/Diffusion/lib/python3.9/site-packages/websocket/_socket.py\", line 110, in recv\n",
      "    raise WebSocketTimeoutException(\"Connection timed out\")\n",
      "websocket._exceptions.WebSocketTimeoutException: Connection timed out\n",
      "    frame = self.recv_frame()\n",
      "  File \"/home/billyli/miniconda3/envs/Diffusion/lib/python3.9/site-packages/websocket/_core.py\", line 445, in recv_frame\n",
      "    return self.frame_buffer.recv_frame()\n",
      "  File \"/home/billyli/miniconda3/envs/Diffusion/lib/python3.9/site-packages/websocket/_abnf.py\", line 338, in recv_frame\n",
      "    self.recv_header()\n",
      "  File \"/home/billyli/miniconda3/envs/Diffusion/lib/python3.9/site-packages/websocket/_abnf.py\", line 294, in recv_header\n",
      "    header = self.recv_strict(2)\n",
      "  File \"/home/billyli/miniconda3/envs/Diffusion/lib/python3.9/site-packages/websocket/_abnf.py\", line 373, in recv_strict\n",
      "    bytes_ = self.recv(min(16384, shortage))\n",
      "  File \"/home/billyli/miniconda3/envs/Diffusion/lib/python3.9/site-packages/websocket/_core.py\", line 529, in _recv\n",
      "    return recv(self.sock, bufsize)\n",
      "  File \"/home/billyli/miniconda3/envs/Diffusion/lib/python3.9/site-packages/websocket/_socket.py\", line 110, in recv\n",
      "    raise WebSocketTimeoutException(\"Connection timed out\")\n",
      "websocket._exceptions.WebSocketTimeoutException: Connection timed out\n"
     ]
    }
   ],
   "source": [
    "model.fit(train_gen, epochs = 500, callbacks = [LR_callback], verbose = 1)"
   ]
  },
  {
   "cell_type": "code",
   "execution_count": null,
   "id": "0eca26a3-d4a2-4687-a963-bd4d49ab8b45",
   "metadata": {},
   "outputs": [],
   "source": []
  }
 ],
 "metadata": {
  "kernelspec": {
   "display_name": "Python (photoz)",
   "language": "python",
   "name": "photoz"
  },
  "language_info": {
   "codemirror_mode": {
    "name": "ipython",
    "version": 3
   },
   "file_extension": ".py",
   "mimetype": "text/x-python",
   "name": "python",
   "nbconvert_exporter": "python",
   "pygments_lexer": "ipython3",
   "version": "3.10.12"
  }
 },
 "nbformat": 4,
 "nbformat_minor": 5
}
