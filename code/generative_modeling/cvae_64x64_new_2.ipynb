{
 "cells": [
  {
   "cell_type": "code",
   "execution_count": 1,
   "id": "4d56f26f-0259-4940-9ab2-7d3689d30b1a",
   "metadata": {},
   "outputs": [
    {
     "name": "stderr",
     "output_type": "stream",
     "text": [
      "2023-12-03 23:28:09.706890: I tensorflow/core/platform/cpu_feature_guard.cc:182] This TensorFlow binary is optimized to use available CPU instructions in performance-critical operations.\n",
      "To enable the following instructions: AVX2 FMA, in other operations, rebuild TensorFlow with the appropriate compiler flags.\n",
      "2023-12-03 23:28:10.435934: W tensorflow/compiler/tf2tensorrt/utils/py_utils.cc:38] TF-TRT Warning: Could not find TensorRT\n"
     ]
    }
   ],
   "source": [
    "import sys, os\n",
    "import numpy as np\n",
    "import h5py\n",
    "import random\n",
    "import neptune\n",
    "import matplotlib.pyplot as plt\n",
    "import tensorflow as tf\n",
    "import tensorflow_probability as tfp\n",
    "\n",
    "from tqdm import tqdm\n",
    "from tensorflow import keras\n",
    "from tensorflow_probability import layers as tfpl\n",
    "from tensorflow_probability import distributions as tfd\n",
    "from tensorflow.keras import Sequential\n",
    "from tensorflow.keras.models import Model\n",
    "from tensorflow.keras.callbacks import TensorBoard, ModelCheckpoint, ReduceLROnPlateau\n",
    "from tensorflow.keras.layers import UpSampling2D, Cropping2D, Concatenate, Input, MaxPooling2D, Conv2D, Conv2DTranspose, Flatten, Dropout, Dense, BatchNormalization, Activation, Reshape, LeakyReLU\n",
    "from tensorflow.keras.optimizers import Adam\n",
    "from tensorflow_probability.python.distributions import kl_divergence\n",
    "from neptune.integrations.tensorflow_keras import NeptuneCallback\n",
    "from DataMakerCVAE import *"
   ]
  },
  {
   "cell_type": "code",
   "execution_count": 2,
   "id": "998ecdb5-f513-44b2-ba6d-235a2450e2d3",
   "metadata": {},
   "outputs": [],
   "source": [
    "LATENT_DIM = 128\n",
    "IMAGE_SHAPE = (5, 127, 127)\n",
    "BATCH_SIZE = 512\n",
    "EPOCHS = 250\n",
    "CHECKPOINTS_TO_SAVE = 4\n",
    "KL_WEIGHT = 1e-4"
   ]
  },
  {
   "cell_type": "code",
   "execution_count": 3,
   "id": "3a44e7a5",
   "metadata": {},
   "outputs": [
    {
     "name": "stdout",
     "output_type": "stream",
     "text": [
      "1 Physical GPUs, 1 Logical GPUs\n"
     ]
    },
    {
     "name": "stderr",
     "output_type": "stream",
     "text": [
      "2023-12-03 23:28:11.854135: I tensorflow/compiler/xla/stream_executor/cuda/cuda_gpu_executor.cc:996] successful NUMA node read from SysFS had negative value (-1), but there must be at least one NUMA node, so returning NUMA node zero. See more at https://github.com/torvalds/linux/blob/v6.0/Documentation/ABI/testing/sysfs-bus-pci#L344-L355\n",
      "2023-12-03 23:28:11.882638: I tensorflow/compiler/xla/stream_executor/cuda/cuda_gpu_executor.cc:996] successful NUMA node read from SysFS had negative value (-1), but there must be at least one NUMA node, so returning NUMA node zero. See more at https://github.com/torvalds/linux/blob/v6.0/Documentation/ABI/testing/sysfs-bus-pci#L344-L355\n",
      "2023-12-03 23:28:11.882888: I tensorflow/compiler/xla/stream_executor/cuda/cuda_gpu_executor.cc:996] successful NUMA node read from SysFS had negative value (-1), but there must be at least one NUMA node, so returning NUMA node zero. See more at https://github.com/torvalds/linux/blob/v6.0/Documentation/ABI/testing/sysfs-bus-pci#L344-L355\n",
      "2023-12-03 23:28:11.885909: I tensorflow/compiler/xla/stream_executor/cuda/cuda_gpu_executor.cc:996] successful NUMA node read from SysFS had negative value (-1), but there must be at least one NUMA node, so returning NUMA node zero. See more at https://github.com/torvalds/linux/blob/v6.0/Documentation/ABI/testing/sysfs-bus-pci#L344-L355\n",
      "2023-12-03 23:28:11.886108: I tensorflow/compiler/xla/stream_executor/cuda/cuda_gpu_executor.cc:996] successful NUMA node read from SysFS had negative value (-1), but there must be at least one NUMA node, so returning NUMA node zero. See more at https://github.com/torvalds/linux/blob/v6.0/Documentation/ABI/testing/sysfs-bus-pci#L344-L355\n",
      "2023-12-03 23:28:11.886288: I tensorflow/compiler/xla/stream_executor/cuda/cuda_gpu_executor.cc:996] successful NUMA node read from SysFS had negative value (-1), but there must be at least one NUMA node, so returning NUMA node zero. See more at https://github.com/torvalds/linux/blob/v6.0/Documentation/ABI/testing/sysfs-bus-pci#L344-L355\n",
      "2023-12-03 23:28:11.966139: I tensorflow/compiler/xla/stream_executor/cuda/cuda_gpu_executor.cc:996] successful NUMA node read from SysFS had negative value (-1), but there must be at least one NUMA node, so returning NUMA node zero. See more at https://github.com/torvalds/linux/blob/v6.0/Documentation/ABI/testing/sysfs-bus-pci#L344-L355\n",
      "2023-12-03 23:28:11.966375: I tensorflow/compiler/xla/stream_executor/cuda/cuda_gpu_executor.cc:996] successful NUMA node read from SysFS had negative value (-1), but there must be at least one NUMA node, so returning NUMA node zero. See more at https://github.com/torvalds/linux/blob/v6.0/Documentation/ABI/testing/sysfs-bus-pci#L344-L355\n",
      "2023-12-03 23:28:11.966559: I tensorflow/compiler/xla/stream_executor/cuda/cuda_gpu_executor.cc:996] successful NUMA node read from SysFS had negative value (-1), but there must be at least one NUMA node, so returning NUMA node zero. See more at https://github.com/torvalds/linux/blob/v6.0/Documentation/ABI/testing/sysfs-bus-pci#L344-L355\n",
      "2023-12-03 23:28:11.966708: I tensorflow/core/common_runtime/gpu/gpu_device.cc:1635] Created device /job:localhost/replica:0/task:0/device:GPU:0 with 10000 MB memory:  -> device: 0, name: NVIDIA RTX A6000, pci bus id: 0000:61:00.0, compute capability: 8.6\n"
     ]
    }
   ],
   "source": [
    "gpus = tf.config.list_physical_devices('GPU');\n",
    "if gpus:\n",
    "    try:\n",
    "        tf.config.experimental.set_virtual_device_configuration(\n",
    "            gpus[0],\n",
    "            [tf.config.experimental.VirtualDeviceConfiguration(memory_limit = 10000)]);\n",
    "        logical_gpus = tf.config.experimental.list_logical_devices('GPU');\n",
    "        print(len(gpus), \"Physical GPUs,\", len(logical_gpus), \"Logical GPUs\")\n",
    "    except RuntimeError as e:\n",
    "        print(e)"
   ]
  },
  {
   "cell_type": "code",
   "execution_count": 4,
   "id": "8bb7cabe",
   "metadata": {},
   "outputs": [],
   "source": [
    "args_gen = {'X_key' : 'image',\n",
    "    'y_key' : 'specz_redshift',\n",
    "    'scaler' : False,\n",
    "    'labels_encoding' : False,\n",
    "    'batch_size': BATCH_SIZE,\n",
    "    'mode' : 'train',\n",
    "    'shuffle' : False}\n",
    "\n",
    "train_gen = HDF5ImageGenerator(src = '/data/HSC/HSC_v6/step2A/127x127/5x127x127_training.hdf5', **args_gen)\n",
    "test_gen = HDF5ImageGenerator(src = '/data/HSC/HSC_v6/step2A/127x127/5x127x127_testing.hdf5', **args_gen)\n",
    "val_gen = HDF5ImageGenerator(src = '/data/HSC/HSC_v6/step2A/127x127/5x127x127_validation.hdf5', **args_gen)"
   ]
  },
  {
   "cell_type": "code",
   "execution_count": 5,
   "id": "d31d75f2",
   "metadata": {},
   "outputs": [
    {
     "name": "stdout",
     "output_type": "stream",
     "text": [
      "WARNING:tensorflow:Please fix your imports. Module tensorflow.python.training.tracking.data_structures has been moved to tensorflow.python.trackable.data_structures. The old module will be deleted in version 2.11.\n"
     ]
    }
   ],
   "source": [
    "# Prior\n",
    "prior = tfd.Independent(tfd.Normal(loc = tf.zeros(LATENT_DIM), scale = 1.0), reinterpreted_batch_ndims = 1)\n",
    "\n",
    "# Encoder\n",
    "images = Input(shape = IMAGE_SHAPE)\n",
    "redshifts = Input(shape = (1,))\n",
    "conv1 = Conv2D(32, 3, strides = 2, activation = \"relu\", padding = 'same', data_format = 'channels_first')(images)\n",
    "conv2 = Conv2D(64, 3, strides = 2, activation = \"relu\", padding = 'same', data_format = 'channels_first')(conv1)\n",
    "conv3 = Conv2D(128, 2, strides = 1, activation = \"relu\", padding = 'same', data_format = 'channels_first')(conv2)\n",
    "flatten1 = Flatten()(conv1)\n",
    "flatten2 = Flatten()(conv2)\n",
    "flatten3 = Flatten()(conv3)\n",
    "x = tf.keras.layers.Concatenate()([flatten1, flatten2, flatten3, redshifts])\n",
    "x = Dense(256, activation = \"relu\")(x)\n",
    "x = Dense(256, activation = \"relu\")(x)\n",
    "x = Dense(tfpl.MultivariateNormalTriL.params_size(LATENT_DIM), activation = None)(x)\n",
    "z = tfpl.MultivariateNormalTriL(LATENT_DIM, activity_regularizer = tfpl.KLDivergenceRegularizer(prior, weight=KL_WEIGHT))(x)\n",
    "\n",
    "encoder = Model([images, redshifts], z)"
   ]
  },
  {
   "cell_type": "code",
   "execution_count": 6,
   "id": "525c1af7-7566-4454-accf-d1ce08e32cb2",
   "metadata": {},
   "outputs": [
    {
     "name": "stdout",
     "output_type": "stream",
     "text": [
      "Model: \"model\"\n",
      "__________________________________________________________________________________________________\n",
      " Layer (type)                   Output Shape         Param #     Connected to                     \n",
      "==================================================================================================\n",
      " input_1 (InputLayer)           [(None, 5, 127, 127  0           []                               \n",
      "                                )]                                                                \n",
      "                                                                                                  \n",
      " conv2d (Conv2D)                (None, 32, 64, 64)   1472        ['input_1[0][0]']                \n",
      "                                                                                                  \n",
      " conv2d_1 (Conv2D)              (None, 64, 32, 32)   18496       ['conv2d[0][0]']                 \n",
      "                                                                                                  \n",
      " conv2d_2 (Conv2D)              (None, 128, 32, 32)  32896       ['conv2d_1[0][0]']               \n",
      "                                                                                                  \n",
      " flatten (Flatten)              (None, 131072)       0           ['conv2d[0][0]']                 \n",
      "                                                                                                  \n",
      " flatten_1 (Flatten)            (None, 65536)        0           ['conv2d_1[0][0]']               \n",
      "                                                                                                  \n",
      " flatten_2 (Flatten)            (None, 131072)       0           ['conv2d_2[0][0]']               \n",
      "                                                                                                  \n",
      " input_2 (InputLayer)           [(None, 1)]          0           []                               \n",
      "                                                                                                  \n",
      " concatenate (Concatenate)      (None, 327681)       0           ['flatten[0][0]',                \n",
      "                                                                  'flatten_1[0][0]',              \n",
      "                                                                  'flatten_2[0][0]',              \n",
      "                                                                  'input_2[0][0]']                \n",
      "                                                                                                  \n",
      " dense (Dense)                  (None, 256)          83886592    ['concatenate[0][0]']            \n",
      "                                                                                                  \n",
      " dense_1 (Dense)                (None, 256)          65792       ['dense[0][0]']                  \n",
      "                                                                                                  \n",
      " dense_2 (Dense)                (None, 8384)         2154688     ['dense_1[0][0]']                \n",
      "                                                                                                  \n",
      " multivariate_normal_tri_l (Mul  ((None, 128),       0           ['dense_2[0][0]']                \n",
      " tivariateNormalTriL)            (None, 128))                                                     \n",
      "                                                                                                  \n",
      "==================================================================================================\n",
      "Total params: 86,159,936\n",
      "Trainable params: 86,159,936\n",
      "Non-trainable params: 0\n",
      "__________________________________________________________________________________________________\n"
     ]
    }
   ],
   "source": [
    "encoder.summary()"
   ]
  },
  {
   "cell_type": "code",
   "execution_count": 7,
   "id": "b25f1d7d",
   "metadata": {},
   "outputs": [],
   "source": [
    "zc = Input(shape = (LATENT_DIM + 1,))\n",
    "x = Dense(256, activation = \"relu\")(zc)\n",
    "x = Dense(256, activation = \"relu\")(x)\n",
    "x = Dense(128 * 32 * 32 + 64 * 32 * 32 + 32 * 64 * 64, activation = \"relu\")(x)\n",
    "dense1, dense2, dense3 = tf.split(x, [128 * 32 * 32, 64 * 32 * 32, 32 * 64 * 64], axis = 1)\n",
    "\n",
    "reshape1 = Reshape((128, 32, 32))(dense1)\n",
    "reshape2 = Reshape((64, 32, 32))(dense2)\n",
    "reshape3 = Reshape((32, 64, 64))(dense3)\n",
    "\n",
    "# Replace deconvolution with Upsample + Convolution\n",
    "upsample1 = UpSampling2D(size = (1, 1), data_format = 'channels_first')(reshape1)\n",
    "conv1 = Conv2D(64, 2, activation = \"relu\", padding = 'same', data_format = 'channels_first')(upsample1)\n",
    "\n",
    "upsample2 = UpSampling2D(size = (2, 2), data_format = 'channels_first')(reshape2 + conv1)\n",
    "conv2 = Conv2D(32, 3, activation = \"relu\", padding = 'same', data_format = 'channels_first')(upsample2)\n",
    "\n",
    "upsample3 = UpSampling2D(size = (2, 2), data_format = 'channels_first')(reshape3 + conv2)\n",
    "conv3 = Conv2D(5, 3, activation = \"relu\", padding = 'same', data_format = 'channels_first')(upsample3)\n",
    "\n",
    "cropping = Cropping2D(cropping = ((0, 1), (0, 1)), data_format = 'channels_first')(conv3)\n",
    "outputs = Reshape(IMAGE_SHAPE)(cropping)\n",
    "\n",
    "decoder = Model(zc, outputs)"
   ]
  },
  {
   "cell_type": "code",
   "execution_count": 8,
   "id": "e036f6f2",
   "metadata": {},
   "outputs": [],
   "source": [
    "z = encoder([images, redshifts])\n",
    "zc = tf.keras.layers.Concatenate()([z, redshifts])  # Assuming you want to concat the output of encoder and redshifts\n",
    "decoder_output = decoder(zc)\n",
    "\n",
    "model = Model(inputs = [images, redshifts], outputs = decoder_output)"
   ]
  },
  {
   "cell_type": "code",
   "execution_count": 9,
   "id": "c25fe180",
   "metadata": {},
   "outputs": [
    {
     "name": "stdout",
     "output_type": "stream",
     "text": [
      "Model: \"model\"\n",
      "__________________________________________________________________________________________________\n",
      " Layer (type)                   Output Shape         Param #     Connected to                     \n",
      "==================================================================================================\n",
      " input_1 (InputLayer)           [(None, 5, 127, 127  0           []                               \n",
      "                                )]                                                                \n",
      "                                                                                                  \n",
      " conv2d (Conv2D)                (None, 32, 64, 64)   1472        ['input_1[0][0]']                \n",
      "                                                                                                  \n",
      " conv2d_1 (Conv2D)              (None, 64, 32, 32)   18496       ['conv2d[0][0]']                 \n",
      "                                                                                                  \n",
      " conv2d_2 (Conv2D)              (None, 128, 32, 32)  32896       ['conv2d_1[0][0]']               \n",
      "                                                                                                  \n",
      " flatten (Flatten)              (None, 131072)       0           ['conv2d[0][0]']                 \n",
      "                                                                                                  \n",
      " flatten_1 (Flatten)            (None, 65536)        0           ['conv2d_1[0][0]']               \n",
      "                                                                                                  \n",
      " flatten_2 (Flatten)            (None, 131072)       0           ['conv2d_2[0][0]']               \n",
      "                                                                                                  \n",
      " input_2 (InputLayer)           [(None, 1)]          0           []                               \n",
      "                                                                                                  \n",
      " concatenate (Concatenate)      (None, 327681)       0           ['flatten[0][0]',                \n",
      "                                                                  'flatten_1[0][0]',              \n",
      "                                                                  'flatten_2[0][0]',              \n",
      "                                                                  'input_2[0][0]']                \n",
      "                                                                                                  \n",
      " dense (Dense)                  (None, 256)          83886592    ['concatenate[0][0]']            \n",
      "                                                                                                  \n",
      " dense_1 (Dense)                (None, 256)          65792       ['dense[0][0]']                  \n",
      "                                                                                                  \n",
      " dense_2 (Dense)                (None, 8384)         2154688     ['dense_1[0][0]']                \n",
      "                                                                                                  \n",
      " multivariate_normal_tri_l (Mul  ((None, 128),       0           ['dense_2[0][0]']                \n",
      " tivariateNormalTriL)            (None, 128))                                                     \n",
      "                                                                                                  \n",
      "==================================================================================================\n",
      "Total params: 86,159,936\n",
      "Trainable params: 86,159,936\n",
      "Non-trainable params: 0\n",
      "__________________________________________________________________________________________________\n",
      "Model: \"model_1\"\n",
      "__________________________________________________________________________________________________\n",
      " Layer (type)                   Output Shape         Param #     Connected to                     \n",
      "==================================================================================================\n",
      " input_3 (InputLayer)           [(None, 129)]        0           []                               \n",
      "                                                                                                  \n",
      " dense_3 (Dense)                (None, 256)          33280       ['input_3[0][0]']                \n",
      "                                                                                                  \n",
      " dense_4 (Dense)                (None, 256)          65792       ['dense_3[0][0]']                \n",
      "                                                                                                  \n",
      " dense_5 (Dense)                (None, 327680)       84213760    ['dense_4[0][0]']                \n",
      "                                                                                                  \n",
      " tf.split (TFOpLambda)          [(None, 131072),     0           ['dense_5[0][0]']                \n",
      "                                 (None, 65536),                                                   \n",
      "                                 (None, 131072)]                                                  \n",
      "                                                                                                  \n",
      " reshape (Reshape)              (None, 128, 32, 32)  0           ['tf.split[0][0]']               \n",
      "                                                                                                  \n",
      " up_sampling2d (UpSampling2D)   (None, 128, 32, 32)  0           ['reshape[0][0]']                \n",
      "                                                                                                  \n",
      " reshape_1 (Reshape)            (None, 64, 32, 32)   0           ['tf.split[0][1]']               \n",
      "                                                                                                  \n",
      " conv2d_3 (Conv2D)              (None, 64, 32, 32)   32832       ['up_sampling2d[0][0]']          \n",
      "                                                                                                  \n",
      " tf.__operators__.add (TFOpLamb  (None, 64, 32, 32)  0           ['reshape_1[0][0]',              \n",
      " da)                                                              'conv2d_3[0][0]']               \n",
      "                                                                                                  \n",
      " up_sampling2d_1 (UpSampling2D)  (None, 64, 64, 64)  0           ['tf.__operators__.add[0][0]']   \n",
      "                                                                                                  \n",
      " reshape_2 (Reshape)            (None, 32, 64, 64)   0           ['tf.split[0][2]']               \n",
      "                                                                                                  \n",
      " conv2d_4 (Conv2D)              (None, 32, 64, 64)   18464       ['up_sampling2d_1[0][0]']        \n",
      "                                                                                                  \n",
      " tf.__operators__.add_1 (TFOpLa  (None, 32, 64, 64)  0           ['reshape_2[0][0]',              \n",
      " mbda)                                                            'conv2d_4[0][0]']               \n",
      "                                                                                                  \n",
      " up_sampling2d_2 (UpSampling2D)  (None, 32, 128, 128  0          ['tf.__operators__.add_1[0][0]'] \n",
      "                                )                                                                 \n",
      "                                                                                                  \n",
      " conv2d_5 (Conv2D)              (None, 5, 128, 128)  1445        ['up_sampling2d_2[0][0]']        \n",
      "                                                                                                  \n",
      " cropping2d (Cropping2D)        (None, 5, 127, 127)  0           ['conv2d_5[0][0]']               \n",
      "                                                                                                  \n",
      " reshape_3 (Reshape)            (None, 5, 127, 127)  0           ['cropping2d[0][0]']             \n",
      "                                                                                                  \n",
      "==================================================================================================\n",
      "Total params: 84,365,573\n",
      "Trainable params: 84,365,573\n",
      "Non-trainable params: 0\n",
      "__________________________________________________________________________________________________\n",
      "Model: \"model_2\"\n",
      "__________________________________________________________________________________________________\n",
      " Layer (type)                   Output Shape         Param #     Connected to                     \n",
      "==================================================================================================\n",
      " input_1 (InputLayer)           [(None, 5, 127, 127  0           []                               \n",
      "                                )]                                                                \n",
      "                                                                                                  \n",
      " input_2 (InputLayer)           [(None, 1)]          0           []                               \n",
      "                                                                                                  \n",
      " model (Functional)             (None, 128)          86159936    ['input_1[0][0]',                \n",
      "                                                                  'input_2[0][0]']                \n",
      "                                                                                                  \n",
      " concatenate_1 (Concatenate)    (None, 129)          0           ['model[0][0]',                  \n",
      "                                                                  'input_2[0][0]']                \n",
      "                                                                                                  \n",
      " model_1 (Functional)           (None, 5, 127, 127)  84365573    ['concatenate_1[0][0]']          \n",
      "                                                                                                  \n",
      "==================================================================================================\n",
      "Total params: 170,525,509\n",
      "Trainable params: 170,525,509\n",
      "Non-trainable params: 0\n",
      "__________________________________________________________________________________________________\n"
     ]
    }
   ],
   "source": [
    "encoder.summary()\n",
    "decoder.summary()\n",
    "model.summary()"
   ]
  },
  {
   "cell_type": "code",
   "execution_count": 10,
   "id": "d463c7d8",
   "metadata": {},
   "outputs": [],
   "source": [
    "optimizer = Adam(learning_rate = 0.001)\n",
    "model.compile(optimizer = optimizer, loss = 'mse')"
   ]
  },
  {
   "cell_type": "code",
   "execution_count": 11,
   "id": "fcbb9c52",
   "metadata": {},
   "outputs": [
    {
     "name": "stderr",
     "output_type": "stream",
     "text": [
      "/tmp/ipykernel_3656235/936981884.py:1: NeptuneWarning: To avoid unintended consumption of logging hours during interactive sessions, the following monitoring options are disabled unless set to 'True' when initializing the run: 'capture_stdout', 'capture_stderr', and 'capture_hardware_metrics'.\n",
      "  run = neptune.init_run(\n"
     ]
    },
    {
     "name": "stdout",
     "output_type": "stream",
     "text": [
      "https://app.neptune.ai/astro-data-lab/VAE/e/VAE-252\n"
     ]
    }
   ],
   "source": [
    "run = neptune.init_run(\n",
    "    name = \"CVAE\",\n",
    "    project = \"astro-data-lab/VAE\",\n",
    "    api_token = \"eyJhcGlfYWRkcmVzcyI6Imh0dHBzOi8vYXBwLm5lcHR1bmUuYWkiLCJhcGlfdXJsIjoiaHR0cHM6Ly9hcHAubmVwdHVuZS5haSIsImFwaV9rZXkiOiIxOGFlZGMxOC04MWU5LTQ2NDctYjlhZS05NGE2NGQ0NmIzMmEifQ==\",\n",
    ")  # your credentials\n",
    "\n",
    "model_name = 'cvae_127_upsample'\n",
    "\n",
    "weights_path = os.path.join('/data3/Billy/models/', model_name) + '/weights'\n",
    "\n",
    "neptune_callback = NeptuneCallback(run = run)\n",
    "\n",
    "LR_callback = ReduceLROnPlateau()"
   ]
  },
  {
   "cell_type": "code",
   "execution_count": 12,
   "id": "a667a1c3",
   "metadata": {},
   "outputs": [
    {
     "name": "stdout",
     "output_type": "stream",
     "text": [
      "Epoch 1/25\n"
     ]
    },
    {
     "name": "stderr",
     "output_type": "stream",
     "text": [
      "2023-12-03 23:28:17.433640: W tensorflow/tsl/framework/cpu_allocator_impl.cc:83] Allocation of 165160960 exceeds 10% of free system memory.\n",
      "2023-12-03 23:28:17.554139: W tensorflow/tsl/framework/cpu_allocator_impl.cc:83] Allocation of 165160960 exceeds 10% of free system memory.\n",
      "2023-12-03 23:28:17.736768: I tensorflow/core/common_runtime/executor.cc:1197] [/device:CPU:0] (DEBUG INFO) Executor start aborting (this does not indicate an error and you can ignore this message): INVALID_ARGUMENT: You must feed a value for placeholder tensor 'Placeholder/_0' with dtype int32\n",
      "\t [[{{node Placeholder/_0}}]]\n",
      "2023-12-03 23:28:21.193120: W tensorflow/tsl/framework/cpu_allocator_impl.cc:83] Allocation of 165160960 exceeds 10% of free system memory.\n",
      "2023-12-03 23:28:21.276638: W tensorflow/tsl/framework/cpu_allocator_impl.cc:83] Allocation of 165160960 exceeds 10% of free system memory.\n",
      "2023-12-03 23:28:21.535093: I tensorflow/compiler/xla/stream_executor/cuda/cuda_dnn.cc:424] Loaded cuDNN version 8600\n",
      "2023-12-03 23:28:21.674557: I tensorflow/tsl/platform/default/subprocess.cc:304] Start cannot spawn child process: No such file or directory\n",
      "2023-12-03 23:28:21.859171: I tensorflow/compiler/xla/stream_executor/cuda/cuda_blas.cc:637] TensorFloat-32 will be used for the matrix multiplication. This will only be logged once.\n",
      "2023-12-03 23:28:22.315859: W tensorflow/tsl/framework/bfc_allocator.cc:296] Allocator (GPU_0_bfc) ran out of memory trying to allocate 1.02GiB with freed_by_count=0. The caller indicates that this is not a failure, but this may mean that there could be performance gains if more memory were available.\n",
      "2023-12-03 23:28:22.315886: W tensorflow/core/kernels/gpu_utils.cc:50] Failed to allocate memory for convolution redzone checking; skipping this check. This is benign and only means that we won't check cudnn for out-of-bounds reads and writes. This message will only be printed once.\n",
      "2023-12-03 23:28:22.377770: W tensorflow/tsl/framework/bfc_allocator.cc:296] Allocator (GPU_0_bfc) ran out of memory trying to allocate 1.27GiB with freed_by_count=0. The caller indicates that this is not a failure, but this may mean that there could be performance gains if more memory were available.\n",
      "2023-12-03 23:28:22.396156: W tensorflow/tsl/framework/bfc_allocator.cc:296] Allocator (GPU_0_bfc) ran out of memory trying to allocate 1.27GiB with freed_by_count=0. The caller indicates that this is not a failure, but this may mean that there could be performance gains if more memory were available.\n",
      "2023-12-03 23:28:22.414984: W tensorflow/tsl/framework/bfc_allocator.cc:296] Allocator (GPU_0_bfc) ran out of memory trying to allocate 1.27GiB with freed_by_count=0. The caller indicates that this is not a failure, but this may mean that there could be performance gains if more memory were available.\n",
      "2023-12-03 23:28:22.418454: W tensorflow/tsl/framework/bfc_allocator.cc:296] Allocator (GPU_0_bfc) ran out of memory trying to allocate 1.27GiB with freed_by_count=0. The caller indicates that this is not a failure, but this may mean that there could be performance gains if more memory were available.\n",
      "2023-12-03 23:28:22.418473: W tensorflow/tsl/framework/bfc_allocator.cc:296] Allocator (GPU_0_bfc) ran out of memory trying to allocate 1.27GiB with freed_by_count=0. The caller indicates that this is not a failure, but this may mean that there could be performance gains if more memory were available.\n",
      "2023-12-03 23:28:22.418487: W tensorflow/tsl/framework/bfc_allocator.cc:296] Allocator (GPU_0_bfc) ran out of memory trying to allocate 1.27GiB with freed_by_count=0. The caller indicates that this is not a failure, but this may mean that there could be performance gains if more memory were available.\n",
      "2023-12-03 23:28:22.418501: W tensorflow/tsl/framework/bfc_allocator.cc:296] Allocator (GPU_0_bfc) ran out of memory trying to allocate 1.27GiB with freed_by_count=0. The caller indicates that this is not a failure, but this may mean that there could be performance gains if more memory were available.\n",
      "2023-12-03 23:28:22.418515: W tensorflow/tsl/framework/bfc_allocator.cc:296] Allocator (GPU_0_bfc) ran out of memory trying to allocate 1.27GiB with freed_by_count=0. The caller indicates that this is not a failure, but this may mean that there could be performance gains if more memory were available.\n",
      "2023-12-03 23:28:22.418529: W tensorflow/tsl/framework/bfc_allocator.cc:296] Allocator (GPU_0_bfc) ran out of memory trying to allocate 1.27GiB with freed_by_count=0. The caller indicates that this is not a failure, but this may mean that there could be performance gains if more memory were available.\n",
      "2023-12-03 23:28:23.626800: I tensorflow/compiler/xla/service/service.cc:169] XLA service 0x7f0184c805f0 initialized for platform CUDA (this does not guarantee that XLA will be used). Devices:\n",
      "2023-12-03 23:28:23.626825: I tensorflow/compiler/xla/service/service.cc:177]   StreamExecutor device (0): NVIDIA RTX A6000, Compute Capability 8.6\n",
      "2023-12-03 23:28:23.645132: I tensorflow/compiler/mlir/tensorflow/utils/dump_mlir_util.cc:269] disabling MLIR crash reproducer, set env var `MLIR_CRASH_REPRODUCER_DIRECTORY` to enable.\n",
      "2023-12-03 23:28:23.902252: W tensorflow/tsl/framework/cpu_allocator_impl.cc:83] Allocation of 165160960 exceeds 10% of free system memory.\n",
      "2023-12-03 23:28:23.955278: I tensorflow/tsl/platform/default/subprocess.cc:304] Start cannot spawn child process: No such file or directory\n",
      "2023-12-03 23:28:24.015665: I ./tensorflow/compiler/jit/device_compiler.h:180] Compiled cluster using XLA!  This line is logged at most once for the lifetime of the process.\n"
     ]
    },
    {
     "name": "stdout",
     "output_type": "stream",
     "text": [
      "400/400 [==============================] - ETA: 0s - loss: 2.6346"
     ]
    },
    {
     "name": "stderr",
     "output_type": "stream",
     "text": [
      "2023-12-03 23:40:56.318650: I tensorflow/core/common_runtime/executor.cc:1197] [/device:CPU:0] (DEBUG INFO) Executor start aborting (this does not indicate an error and you can ignore this message): INVALID_ARGUMENT: You must feed a value for placeholder tensor 'Placeholder/_0' with dtype int32\n",
      "\t [[{{node Placeholder/_0}}]]\n"
     ]
    },
    {
     "name": "stdout",
     "output_type": "stream",
     "text": [
      "400/400 [==============================] - 908s 2s/step - loss: 2.6346 - val_loss: 2.1910 - lr: 0.0010\n",
      "Epoch 2/25\n",
      "400/400 [==============================] - 875s 2s/step - loss: 2.4102 - val_loss: 2.2637 - lr: 0.0010\n",
      "Epoch 3/25\n",
      "400/400 [==============================] - 1000s 3s/step - loss: 2.7251 - val_loss: 2.1671 - lr: 0.0010\n",
      "Epoch 4/25\n",
      "400/400 [==============================] - 1000s 3s/step - loss: 2.3658 - val_loss: 2.0966 - lr: 0.0010\n",
      "Epoch 5/25\n",
      "400/400 [==============================] - 918s 2s/step - loss: 2.3139 - val_loss: 2.0453 - lr: 0.0010\n",
      "Epoch 6/25\n",
      "400/400 [==============================] - 1052s 3s/step - loss: 2.2977 - val_loss: 2.0593 - lr: 0.0010\n",
      "Epoch 7/25\n",
      "400/400 [==============================] - 1030s 3s/step - loss: 2.2482 - val_loss: 1.9656 - lr: 0.0010\n",
      "Epoch 8/25\n",
      "400/400 [==============================] - 989s 2s/step - loss: 2.1879 - val_loss: 1.9005 - lr: 0.0010\n",
      "Epoch 9/25\n",
      "400/400 [==============================] - 988s 2s/step - loss: 2.1256 - val_loss: 1.9179 - lr: 0.0010\n",
      "Epoch 10/25\n",
      "400/400 [==============================] - 928s 2s/step - loss: 2.1076 - val_loss: 1.8697 - lr: 0.0010\n",
      "Epoch 11/25\n",
      "400/400 [==============================] - 922s 2s/step - loss: 2.1280 - val_loss: 1.8448 - lr: 0.0010\n",
      "Epoch 12/25\n",
      "400/400 [==============================] - 973s 2s/step - loss: 2.0042 - val_loss: 1.7422 - lr: 0.0010\n",
      "Epoch 13/25\n",
      "400/400 [==============================] - 1001s 3s/step - loss: 1.9243 - val_loss: 1.6971 - lr: 0.0010\n",
      "Epoch 14/25\n",
      "400/400 [==============================] - 1026s 3s/step - loss: 1.8966 - val_loss: 2.0483 - lr: 0.0010\n",
      "Epoch 15/25\n",
      "400/400 [==============================] - 1011s 3s/step - loss: 1.8216 - val_loss: 1.6049 - lr: 0.0010\n",
      "Epoch 16/25\n",
      "400/400 [==============================] - 1026s 3s/step - loss: 1.7812 - val_loss: 1.5582 - lr: 0.0010\n",
      "Epoch 17/25\n",
      "400/400 [==============================] - 1036s 3s/step - loss: 1.6853 - val_loss: 1.6796 - lr: 0.0010\n",
      "Epoch 18/25\n",
      "400/400 [==============================] - 999s 2s/step - loss: 1.7105 - val_loss: 1.4928 - lr: 0.0010\n",
      "Epoch 19/25\n",
      "400/400 [==============================] - 1012s 3s/step - loss: 1.6077 - val_loss: 1.4719 - lr: 0.0010\n",
      "Epoch 20/25\n",
      "400/400 [==============================] - 1037s 3s/step - loss: 1.5657 - val_loss: 1.4455 - lr: 0.0010\n",
      "Epoch 21/25\n",
      "400/400 [==============================] - 1005s 3s/step - loss: 1.5317 - val_loss: 1.3796 - lr: 0.0010\n",
      "Epoch 22/25\n",
      "400/400 [==============================] - 1000s 2s/step - loss: 1.6094 - val_loss: 1.4008 - lr: 0.0010\n",
      "Epoch 23/25\n",
      "400/400 [==============================] - 950s 2s/step - loss: 1.5249 - val_loss: 1.3894 - lr: 0.0010\n",
      "Epoch 24/25\n",
      "400/400 [==============================] - 993s 2s/step - loss: 1.5987 - val_loss: 1.3726 - lr: 0.0010\n",
      "Epoch 25/25\n",
      "400/400 [==============================] - 1062s 3s/step - loss: 1.4228 - val_loss: 1.3229 - lr: 0.0010\n"
     ]
    }
   ],
   "source": [
    "history = model.fit(train_gen, epochs = 25, callbacks = [neptune_callback, LR_callback], validation_data = val_gen, verbose = 1)"
   ]
  },
  {
   "cell_type": "code",
   "execution_count": null,
   "id": "9a15f899",
   "metadata": {},
   "outputs": [],
   "source": [
    "model.save_weights(weights_path)"
   ]
  },
  {
   "cell_type": "code",
   "execution_count": null,
   "id": "6736025f",
   "metadata": {},
   "outputs": [],
   "source": [
    "model.load_weights(weights_path)"
   ]
  },
  {
   "cell_type": "code",
   "execution_count": 13,
   "id": "3527142f",
   "metadata": {},
   "outputs": [
    {
     "name": "stdout",
     "output_type": "stream",
     "text": [
      "z = 0.0843899995\n"
     ]
    },
    {
     "data": {
      "image/png": "[encoded data removed]",
      "text/plain": [
       "<Figure size 1000x500 with 3 Axes>"
      ]
     },
     "metadata": {},
     "output_type": "display_data"
    }
   ],
   "source": [
    "lib = 3\n",
    "index = 466\n",
    "z = test_gen[lib][0][1][index]\n",
    "z_shifted = 2\n",
    "band = 0\n",
    "print(f'z = {z}')\n",
    "str = np.asarray(encoder([np.array([test_gen[lib][0][0][index]]), np.array([test_gen[lib][0][1][index]])])[0])\n",
    "str = np.concatenate((str, np.array([z])))\n",
    "str = str.reshape(1, LATENT_DIM + 1)\n",
    "str_shifted = np.asarray(encoder([np.array([test_gen[lib][0][0][index]]), np.array([test_gen[lib][0][1][index]])])[0])\n",
    "str_shifted = np.concatenate((str_shifted, np.array([z_shifted])))\n",
    "str_shifted = str_shifted.reshape(1, LATENT_DIM + 1)\n",
    "fig, axes = plt.subplots(nrows = 1, ncols = 3, figsize = (10, 5))\n",
    "axes[0].imshow(test_gen[lib][0][0][index][band], cmap = 'afmhot')\n",
    "axes[1].imshow(decoder([str])[0][band], cmap = 'afmhot')\n",
    "axes[2].imshow(decoder([str_shifted])[0][band], cmap = 'afmhot')\n",
    "axes[0].axis('off')\n",
    "axes[1].axis('off')\n",
    "axes[2].axis('off')\n",
    "axes[0].set_title(\"Original\")\n",
    "axes[1].set_title(\"Regenerated\")\n",
    "axes[2].set_title(\"Regenerated Far\")\n",
    "plt.show()"
   ]
  },
  {
   "cell_type": "code",
   "execution_count": 63,
   "id": "534af846",
   "metadata": {},
   "outputs": [
    {
     "data": {
      "image/png": "[encoded data removed]",
      "text/plain": [
       "<Figure size 1000x500 with 2 Axes>"
      ]
     },
     "metadata": {},
     "output_type": "display_data"
    }
   ],
   "source": [
    "band = 0\n",
    "str = prior.sample(1)[0]\n",
    "strlo = np.concatenate((str, np.array([0.1])))\n",
    "strlo = strlo.reshape(1, LATENT_DIM + 1)\n",
    "strhi = np.concatenate((str, np.array([2])))\n",
    "strhi = strhi.reshape(1, LATENT_DIM + 1)\n",
    "fig, axes = plt.subplots(nrows = 1, ncols = 2, figsize = (10, 5))\n",
    "axes[0].imshow(decoder([strlo])[0][band], cmap = 'afmhot')\n",
    "axes[1].imshow(decoder([strhi])[0][band], cmap = 'afmhot')\n",
    "axes[0].axis('off')\n",
    "axes[1].axis('off')\n",
    "axes[0].set_title(\"Low z\")\n",
    "axes[1].set_title(\"High z\")\n",
    "plt.show()"
   ]
  },
  {
   "cell_type": "code",
   "execution_count": 64,
   "id": "ac51c596-a0d9-4051-9c71-6854fd53208a",
   "metadata": {},
   "outputs": [
    {
     "data": {
      "image/png": "[encoded data removed]",
      "text/plain": [
       "<Figure size 640x480 with 1 Axes>"
      ]
     },
     "metadata": {},
     "output_type": "display_data"
    },
    {
     "name": "stdout",
     "output_type": "stream",
     "text": [
      "Shutting down background jobs, please wait a moment...\n",
      "Done!\n",
      "All 0 operations synced, thanks for waiting!\n",
      "Explore the metadata in the Neptune app:\n",
      "https://app.neptune.ai/astro-data-lab/VAE/e/VAE-252/metadata\n"
     ]
    }
   ],
   "source": [
    "for band in range(0, 5):\n",
    "    plt.scatter([band], [np.amax(decoder([strlo])[0][band])], c = 'blue')\n",
    "    plt.scatter([band], [np.amax(decoder([strhi])[0][band])], c = 'red')"
   ]
  },
  {
   "cell_type": "code",
   "execution_count": 54,
   "id": "e7be0653-983b-46f7-8ab0-8d26c07e1d9c",
   "metadata": {},
   "outputs": [],
   "source": [
    "str = np.array([ 0.05596729, -0.28698522,  0.47068328,  0.9576142 ,  0.25347024,\n",
    "       -2.0348175 , -0.22719654, -1.0766746 ,  1.0530509 , -0.6912644 ,\n",
    "        0.5340117 , -2.5164733 ,  1.3746058 ,  0.03232088,  0.796693  ,\n",
    "       -1.1099806 ,  1.1225357 ,  1.7850176 ,  0.37083212, -0.8871417 ,\n",
    "       -0.13683051,  1.0851984 , -2.136771  ,  0.7812236 , -0.10742863,\n",
    "       -0.36285734,  0.5679639 , -1.5350505 , -0.39914587, -0.27871802,\n",
    "       -0.61281115, -0.8458113 , -0.60746086, -0.60331017,  1.0929799 ,\n",
    "       -1.5286074 , -0.41737887,  0.33642498,  0.1591734 ,  0.8378636 ,\n",
    "       -0.12351301,  1.5894996 ,  0.10211289,  1.7527423 ,  1.1846886 ,\n",
    "        1.2163078 , -0.88419574,  0.07180394,  0.6868778 ,  0.25201747,\n",
    "        1.3193548 ,  0.10453591,  0.81000644, -0.5210227 , -0.48471102,\n",
    "       -1.2733583 ,  0.330187  ,  0.03272587, -0.2025472 ,  0.5944895 ,\n",
    "       -0.9472332 ,  0.11237265, -0.3898702 , -0.94294757,  0.1504917 ,\n",
    "       -0.5533818 ,  0.5450222 ,  1.3944644 ,  0.07832097,  1.0637481 ,\n",
    "       -0.52124655,  0.6316452 , -0.6755049 ,  0.843181  , -0.22453503,\n",
    "        0.7938819 ,  0.45145452, -0.1637966 ,  1.6498234 , -1.5565917 ,\n",
    "       -1.4165611 , -0.05073655,  0.12054098,  1.1615409 , -1.3551794 ,\n",
    "        2.1826553 , -0.9177428 ,  0.94036365, -0.6275898 ,  0.25956374,\n",
    "       -1.2507204 , -0.18950078,  0.74372774,  0.12509248, -0.30544132,\n",
    "        0.15468822, -0.3524611 ,  0.79196113, -1.2925656 , -0.57499474,\n",
    "        0.06967983, -0.20002827,  0.25878328,  0.19179098, -0.1454081 ,\n",
    "       -0.84033084, -1.1623763 , -2.2475593 , -0.63114417,  0.5914993 ,\n",
    "        0.11789946,  0.2977315 ,  0.84051675,  0.61171174, -0.8287679 ,\n",
    "        0.29969832, -0.8058083 ,  1.9714884 , -0.09551698, -0.16469176,\n",
    "       -1.0291612 , -1.5229195 ,  0.70817107,  0.15388972, -0.2878179 ,\n",
    "        0.15436473, -0.13568975, -0.20010532])"
   ]
  },
  {
   "cell_type": "code",
   "execution_count": 55,
   "id": "11fd8509-12a2-497a-a692-8456e1e383c8",
   "metadata": {},
   "outputs": [
    {
     "data": {
      "image/png": "[encoded data removed]",
      "text/plain": [
       "<Figure size 1000x500 with 10 Axes>"
      ]
     },
     "metadata": {},
     "output_type": "display_data"
    }
   ],
   "source": [
    "band = 1\n",
    "# str = prior.sample(1)[0]\n",
    "strlo = np.concatenate((str, np.array([0.1])))\n",
    "strlo = strlo.reshape(1, LATENT_DIM + 1)\n",
    "strhi = np.concatenate((str, np.array([5])))\n",
    "strhi = strhi.reshape(1, LATENT_DIM + 1)\n",
    "fig, axes = plt.subplots(nrows = 2, ncols = 5, figsize = (10, 5))\n",
    "for band in range(0, 5):\n",
    "    axes[0, band].imshow(decoder([strlo])[0][band], cmap = 'afmhot')\n",
    "    axes[1, band].imshow(decoder([strhi])[0][band], cmap = 'afmhot')\n",
    "    axes[0, band].axis('off')\n",
    "    axes[1, band].axis('off')\n",
    "    # axes[0, i].set_title(\"Low z\")\n",
    "    # axes[1, i].set_title(\"High z\")\n",
    "\n",
    "plt.show()"
   ]
  },
  {
   "cell_type": "markdown",
   "id": "35f9b6f1-5c04-43c2-be92-e73c12ec603b",
   "metadata": {},
   "source": [
    "for j in range(3, 80):\n",
    "    for i in range(0, 512):\n",
    "        if test_gen[j][0][1][i] <= 0.1:\n",
    "            print(j)\n",
    "            print(i)"
   ]
  },
  {
   "cell_type": "code",
   "execution_count": null,
   "id": "e207b9cd-6a04-443f-b56f-8ba3b3bf56ff",
   "metadata": {},
   "outputs": [],
   "source": [
    "hf = h5py.File('/data/HSC_generated/HSC_generated_v1/step1/127x127/5x127x127_testing.hdf5', 'a')\n",
    "str = prior.sample(1)[0]\n",
    "str = np.concatenate((str, np.array([0.1])))\n",
    "str = str.reshape(1, LATENT_DIM + 1)\n",
    "output_image = decoder([str])[0]\n",
    "image_g = output_image[0]\n",
    "image_r = output_image[1]\n",
    "image_i = output_image[2]\n",
    "image_z = output_image[3]\n",
    "image_y = output_image[4]\n",
    "five_band_image = []\n",
    "five_band_image.append(image_g)\n",
    "five_band_image.append(image_r)\n",
    "five_band_image.append(image_i)\n",
    "five_band_image.append(image_z)\n",
    "five_band_image.append(image_y)\n",
    "five_band_image_reshape = np.reshape(np.array(five_band_image), [1, 5, 127, 127])\n",
    "hf.create_dataset('image', data = five_band_image_reshape, chunks = True, maxshape = (None, 5, 127, 127))\n",
    "hf.create_dataset('specz_redshift', data = [0.1], chunks = True, maxshape = (None, ))\n",
    "for i in tqdm(range(40913)):\n",
    "    z = random.uniform(0, 2)\n",
    "    str = prior.sample(1)[0]\n",
    "    str = np.concatenate((str, np.array([z])))\n",
    "    str = str.reshape(1, LATENT_DIM + 1)\n",
    "    output_image = decoder([str])[0]\n",
    "    image_g = output_image[0]\n",
    "    image_r = output_image[1]\n",
    "    image_i = output_image[2]\n",
    "    image_z = output_image[3]\n",
    "    image_y = output_image[4]\n",
    "    five_band_image = []\n",
    "    five_band_image.append(image_g)\n",
    "    five_band_image.append(image_r)\n",
    "    five_band_image.append(image_i)\n",
    "    five_band_image.append(image_z)\n",
    "    five_band_image.append(image_y)\n",
    "    five_band_image_reshape = np.reshape(np.array(five_band_image), [1, 5, 127, 127])\n",
    "    hf['specz_redshift'].resize((hf['specz_redshift'].shape[0] + 1), axis = 0)\n",
    "    hf['specz_redshift'][hf['specz_redshift'].shape[0] - 1] = [z]\n",
    "    hf['image'].resize((hf['image'].shape[0] + 1), axis = 0)\n",
    "    hf['image'][hf['image'].shape[0] - 1, :, :, :] = five_band_image\n",
    "hf.close()"
   ]
  },
  {
   "cell_type": "code",
   "execution_count": null,
   "id": "868f05c1-19e5-4f0e-be74-d00b83842bd7",
   "metadata": {},
   "outputs": [],
   "source": [
    "hf = h5py.File('/data/HSC_generated/HSC_generated_v1/step1/127x127/5x127x127_training.hdf5', 'a')\n",
    "str = prior.sample(1)[0]\n",
    "str = np.concatenate((str, np.array([0.1])))\n",
    "str = str.reshape(1, LATENT_DIM + 1)\n",
    "output_image = decoder([str])[0]\n",
    "image_g = output_image[0]\n",
    "image_r = output_image[1]\n",
    "image_i = output_image[2]\n",
    "image_z = output_image[3]\n",
    "image_y = output_image[4]\n",
    "five_band_image = []\n",
    "five_band_image.append(image_g)\n",
    "five_band_image.append(image_r)\n",
    "five_band_image.append(image_i)\n",
    "five_band_image.append(image_z)\n",
    "five_band_image.append(image_y)\n",
    "five_band_image_reshape = np.reshape(np.array(five_band_image), [1, 5, 127, 127])\n",
    "hf.create_dataset('image', data = five_band_image_reshape, chunks = True, maxshape = (None, 5, 127, 127))\n",
    "hf.create_dataset('specz_redshift', data = [0.1], chunks = True, maxshape = (None, ))\n",
    "for i in tqdm(range(204572)):\n",
    "    z = random.uniform(0, 2)\n",
    "    str = prior.sample(1)[0]\n",
    "    str = np.concatenate((str, np.array([z])))\n",
    "    str = str.reshape(1, LATENT_DIM + 1)\n",
    "    output_image = decoder([str])[0]\n",
    "    image_g = output_image[0]\n",
    "    image_r = output_image[1]\n",
    "    image_i = output_image[2]\n",
    "    image_z = output_image[3]\n",
    "    image_y = output_image[4]\n",
    "    five_band_image = []\n",
    "    five_band_image.append(image_g)\n",
    "    five_band_image.append(image_r)\n",
    "    five_band_image.append(image_i)\n",
    "    five_band_image.append(image_z)\n",
    "    five_band_image.append(image_y)\n",
    "    five_band_image_reshape = np.reshape(np.array(five_band_image), [1, 5, 127, 127])\n",
    "    hf['specz_redshift'].resize((hf['specz_redshift'].shape[0] + 1), axis = 0)\n",
    "    hf['specz_redshift'][hf['specz_redshift'].shape[0] - 1] = [z]\n",
    "    hf['image'].resize((hf['image'].shape[0] + 1), axis = 0)\n",
    "    hf['image'][hf['image'].shape[0] - 1, :, :, :] = five_band_image\n",
    "hf.close()"
   ]
  },
  {
   "cell_type": "code",
   "execution_count": null,
   "id": "f67b03f3-8003-45e7-89b1-931186cd845c",
   "metadata": {},
   "outputs": [],
   "source": [
    "hf = h5py.File('/data/HSC_generated/HSC_generated_v1/step1/127x127/5x127x127_validation.hdf5', 'a')\n",
    "str = prior.sample(1)[0]\n",
    "str = np.concatenate((str, np.array([0.1])))\n",
    "str = str.reshape(1, LATENT_DIM + 1)\n",
    "output_image = decoder([str])[0]\n",
    "image_g = output_image[0]\n",
    "image_r = output_image[1]\n",
    "image_i = output_image[2]\n",
    "image_z = output_image[3]\n",
    "image_y = output_image[4]\n",
    "five_band_image = []\n",
    "five_band_image.append(image_g)\n",
    "five_band_image.append(image_r)\n",
    "five_band_image.append(image_i)\n",
    "five_band_image.append(image_z)\n",
    "five_band_image.append(image_y)\n",
    "five_band_image_reshape = np.reshape(np.array(five_band_image), [1, 5, 127, 127])\n",
    "hf.create_dataset('image', data = five_band_image_reshape, chunks = True, maxshape = (None, 5, 127, 127))\n",
    "hf.create_dataset('specz_redshift', data = [0.1], chunks = True, maxshape = (None, ))\n",
    "for i in tqdm(range(40913)):\n",
    "    z = random.uniform(0, 2)\n",
    "    str = prior.sample(1)[0]\n",
    "    str = np.concatenate((str, np.array([z])))\n",
    "    str = str.reshape(1, LATENT_DIM + 1)\n",
    "    output_image = decoder([str])[0]\n",
    "    image_g = output_image[0]\n",
    "    image_r = output_image[1]\n",
    "    image_i = output_image[2]\n",
    "    image_z = output_image[3]\n",
    "    image_y = output_image[4]\n",
    "    five_band_image = []\n",
    "    five_band_image.append(image_g)\n",
    "    five_band_image.append(image_r)\n",
    "    five_band_image.append(image_i)\n",
    "    five_band_image.append(image_z)\n",
    "    five_band_image.append(image_y)\n",
    "    five_band_image_reshape = np.reshape(np.array(five_band_image), [1, 5, 127, 127])\n",
    "    hf['specz_redshift'].resize((hf['specz_redshift'].shape[0] + 1), axis = 0)\n",
    "    hf['specz_redshift'][hf['specz_redshift'].shape[0] - 1] = [z]\n",
    "    hf['image'].resize((hf['image'].shape[0] + 1), axis = 0)\n",
    "    hf['image'][hf['image'].shape[0] - 1, :, :, :] = five_band_image\n",
    "hf.close()"
   ]
  },
  {
   "cell_type": "code",
   "execution_count": null,
   "id": "50ccccae",
   "metadata": {},
   "outputs": [],
   "source": [
    "# END"
   ]
  }
 ],
 "metadata": {
  "kernelspec": {
   "display_name": "Diffusion",
   "language": "python",
   "name": "diffusion"
  },
  "language_info": {
   "codemirror_mode": {
    "name": "ipython",
    "version": 3
   },
   "file_extension": ".py",
   "mimetype": "text/x-python",
   "name": "python",
   "nbconvert_exporter": "python",
   "pygments_lexer": "ipython3",
   "version": "3.9.16"
  }
 },
 "nbformat": 4,
 "nbformat_minor": 5
}
