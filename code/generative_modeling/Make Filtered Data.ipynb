{
 "cells": [
  {
   "cell_type": "code",
   "execution_count": 1,
   "id": "9110656c",
   "metadata": {},
   "outputs": [],
   "source": [
    "import make_data"
   ]
  },
  {
   "cell_type": "code",
   "execution_count": null,
   "id": "4d87bcc1",
   "metadata": {},
   "outputs": [
    {
     "name": "stdout",
     "output_type": "stream",
     "text": [
      "256415\n"
     ]
    }
   ],
   "source": [
    "make_data.make_hsc_v6_large()"
   ]
  },
  {
   "cell_type": "code",
   "execution_count": null,
   "id": "05838316",
   "metadata": {},
   "outputs": [],
   "source": [
    "make_data.make_hsc_v6_small_hdf()"
   ]
  },
  {
   "cell_type": "code",
   "execution_count": null,
   "id": "e6f46d02",
   "metadata": {},
   "outputs": [],
   "source": [
    "make_data.make_hsc_v6_small_hdf_single()"
   ]
  }
 ],
 "metadata": {
  "kernelspec": {
   "display_name": "Python 3",
   "language": "python",
   "name": "python3"
  },
  "language_info": {
   "codemirror_mode": {
    "name": "ipython",
    "version": 3
   },
   "file_extension": ".py",
   "mimetype": "text/x-python",
   "name": "python",
   "nbconvert_exporter": "python",
   "pygments_lexer": "ipython3",
   "version": "3.8.10"
  }
 },
 "nbformat": 4,
 "nbformat_minor": 5
}
