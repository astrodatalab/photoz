{
 "cells": [
  {
   "cell_type": "code",
   "execution_count": 1,
   "id": "9110656c",
   "metadata": {},
   "outputs": [],
   "source": [
    "import make_data"
   ]
  },
  {
   "cell_type": "code",
   "execution_count": 2,
   "id": "2dcc5793",
   "metadata": {},
   "outputs": [
    {
     "name": "stdout",
     "output_type": "stream",
     "text": [
      "output /mnt/data/HSC/HSC_v6/step3/5x127x127_training_min_2.hdf5\n"
     ]
    }
   ],
   "source": [
    "make_data.make_hsc_v6_large_z(cap = 2)"
   ]
  },
  {
   "cell_type": "code",
   "execution_count": 3,
   "id": "af4efbb9",
   "metadata": {},
   "outputs": [
    {
     "name": "stdout",
     "output_type": "stream",
     "text": [
      "output /mnt/data/HSC/HSC_v6/step3/5x127x127_training_min_3.hdf5\n"
     ]
    }
   ],
   "source": [
    "make_data.make_hsc_v6_large_z(cap = 3)"
   ]
  },
  {
   "cell_type": "code",
   "execution_count": null,
   "id": "4d87bcc1",
   "metadata": {},
   "outputs": [],
   "source": [
    "make_data.make_hsc_v6_large()"
   ]
  },
  {
   "cell_type": "code",
   "execution_count": null,
   "id": "05838316",
   "metadata": {},
   "outputs": [],
   "source": [
    "make_data.make_hsc_v6_small_hdf()"
   ]
  },
  {
   "cell_type": "code",
   "execution_count": null,
   "id": "e6f46d02",
   "metadata": {},
   "outputs": [],
   "source": [
    "make_data.make_hsc_v6_small_hdf_single()"
   ]
  },
  {
   "cell_type": "code",
   "execution_count": null,
   "id": "75b282e7",
   "metadata": {},
   "outputs": [],
   "source": [
    "# END"
   ]
  }
 ],
 "metadata": {
  "kernelspec": {
   "display_name": "Python 3",
   "language": "python",
   "name": "python3"
  },
  "language_info": {
   "codemirror_mode": {
    "name": "ipython",
    "version": 3
   },
   "file_extension": ".py",
   "mimetype": "text/x-python",
   "name": "python",
   "nbconvert_exporter": "python",
   "pygments_lexer": "ipython3",
   "version": "3.8.10"
  }
 },
 "nbformat": 4,
 "nbformat_minor": 5
}
