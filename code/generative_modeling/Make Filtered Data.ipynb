{
 "cells": [
  {
   "cell_type": "code",
   "execution_count": 1,
   "id": "9110656c",
   "metadata": {},
   "outputs": [],
   "source": [
    "import make_data"
   ]
  },
  {
   "cell_type": "code",
   "execution_count": null,
   "id": "4d87bcc1",
   "metadata": {},
   "outputs": [],
   "source": [
    "make_data.make_hsc_v6_large()"
   ]
  },
  {
   "cell_type": "code",
   "execution_count": 2,
   "id": "05838316",
   "metadata": {},
   "outputs": [
    {
     "name": "stdout",
     "output_type": "stream",
     "text": [
      "/data/HSC/HSC_v6/step3/127x127_in_training.hdf5 nsamples 10000\n",
      "output /data/HSC/HSC_v6/step3/127x127_in_training_small.hdf5\n",
      "coord 10000 |S60\n",
      "dec 10000 float64\n",
      "g_cmodel_mag 10000 float64\n",
      "g_cmodel_magsigma 10000 float64\n",
      "i_cmodel_mag 10000 float64\n",
      "i_cmodel_magsigma 10000 float64\n",
      "image 10000 float32\n",
      "object_id 10000 int64\n",
      "r_cmodel_mag 10000 float64\n",
      "r_cmodel_magsigma 10000 float64\n",
      "ra 10000 float64\n",
      "skymap_id 10000 int64\n",
      "specz_dec 10000 float64\n",
      "specz_flag_homogeneous 10000 bool\n",
      "specz_mag_i 10000 float64\n",
      "specz_name 10000 |S64\n",
      "specz_ra 10000 float64\n",
      "specz_redshift 10000 float64\n",
      "specz_redshift_err 10000 float64\n",
      "y_cmodel_mag 10000 float64\n",
      "y_cmodel_magsigma 10000 float64\n",
      "z_cmodel_mag 10000 float64\n",
      "z_cmodel_magsigma 10000 float64\n",
      "/data/HSC/HSC_v6/step3/127x127_in_testing.hdf5 nsamples 2000\n",
      "output /data/HSC/HSC_v6/step3/127x127_in_testing_small.hdf5\n",
      "coord 2000 |S60\n",
      "dec 2000 float64\n",
      "g_cmodel_mag 2000 float64\n",
      "g_cmodel_magsigma 2000 float64\n",
      "i_cmodel_mag 2000 float64\n",
      "i_cmodel_magsigma 2000 float64\n",
      "image 2000 float32\n",
      "object_id 2000 int64\n",
      "r_cmodel_mag 2000 float64\n",
      "r_cmodel_magsigma 2000 float64\n",
      "ra 2000 float64\n",
      "skymap_id 2000 int64\n",
      "specz_dec 2000 float64\n",
      "specz_flag_homogeneous 2000 bool\n",
      "specz_mag_i 2000 float64\n",
      "specz_name 2000 |S64\n",
      "specz_ra 2000 float64\n",
      "specz_redshift 2000 float64\n",
      "specz_redshift_err 2000 float64\n",
      "y_cmodel_mag 2000 float64\n",
      "y_cmodel_magsigma 2000 float64\n",
      "z_cmodel_mag 2000 float64\n",
      "z_cmodel_magsigma 2000 float64\n",
      "/data/HSC/HSC_v6/step3/127x127_in_validation.hdf5 nsamples 2000\n",
      "output /data/HSC/HSC_v6/step3/127x127_in_validation_small.hdf5\n",
      "coord 2000 |S60\n",
      "dec 2000 float64\n",
      "g_cmodel_mag 2000 float64\n",
      "g_cmodel_magsigma 2000 float64\n",
      "i_cmodel_mag 2000 float64\n",
      "i_cmodel_magsigma 2000 float64\n",
      "image 2000 float32\n",
      "object_id 2000 int64\n",
      "r_cmodel_mag 2000 float64\n",
      "r_cmodel_magsigma 2000 float64\n",
      "ra 2000 float64\n",
      "skymap_id 2000 int64\n",
      "specz_dec 2000 float64\n",
      "specz_flag_homogeneous 2000 bool\n",
      "specz_mag_i 2000 float64\n",
      "specz_name 2000 |S64\n",
      "specz_ra 2000 float64\n",
      "specz_redshift 2000 float64\n",
      "specz_redshift_err 2000 float64\n",
      "y_cmodel_mag 2000 float64\n",
      "y_cmodel_magsigma 2000 float64\n",
      "z_cmodel_mag 2000 float64\n",
      "z_cmodel_magsigma 2000 float64\n"
     ]
    }
   ],
   "source": [
    "make_data.make_hsc_v6_small_hdf()"
   ]
  },
  {
   "cell_type": "code",
   "execution_count": null,
   "id": "3fafe0d7",
   "metadata": {},
   "outputs": [],
   "source": []
  }
 ],
 "metadata": {
  "kernelspec": {
   "display_name": "Python 3",
   "language": "python",
   "name": "python3"
  },
  "language_info": {
   "codemirror_mode": {
    "name": "ipython",
    "version": 3
   },
   "file_extension": ".py",
   "mimetype": "text/x-python",
   "name": "python",
   "nbconvert_exporter": "python",
   "pygments_lexer": "ipython3",
   "version": "3.8.10"
  }
 },
 "nbformat": 4,
 "nbformat_minor": 5
}
