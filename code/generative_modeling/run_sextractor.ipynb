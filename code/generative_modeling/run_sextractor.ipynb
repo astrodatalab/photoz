{
 "cells": [
  {
   "cell_type": "code",
   "execution_count": 2,
   "id": "24c47913-7699-45b0-bb3c-2a74beb41df6",
   "metadata": {},
   "outputs": [],
   "source": [
    "import subprocess\n",
    "import os\n",
    "import pandas as pd\n",
    "from tqdm import tqdm\n",
    "obj_ids = range(1, 2001)"
   ]
  },
  {
   "cell_type": "code",
   "execution_count": 3,
   "id": "f98f7527-f445-40e7-ad17-b47164845bed",
   "metadata": {},
   "outputs": [
    {
     "name": "stdout",
     "output_type": "stream",
     "text": [
      "source-extractor ddpm_g_band_1.fits -c default2.sex -CATALOG_NAME test_petro_1.cat -PARAMETERS_NAME default2.param -CHECKIMAGE_NAME test_segmented_1.fits\n",
      "source-extractor ddpm_g_band_2.fits -c default2.sex -CATALOG_NAME test_petro_2.cat -PARAMETERS_NAME default2.param -CHECKIMAGE_NAME test_segmented_2.fits\n",
      "source-extractor ddpm_g_band_3.fits -c default2.sex -CATALOG_NAME test_petro_3.cat -PARAMETERS_NAME default2.param -CHECKIMAGE_NAME test_segmented_3.fits\n",
      "source-extractor ddpm_g_band_4.fits -c default2.sex -CATALOG_NAME test_petro_4.cat -PARAMETERS_NAME default2.param -CHECKIMAGE_NAME test_segmented_4.fits\n",
      "source-extractor ddpm_g_band_5.fits -c default2.sex -CATALOG_NAME test_petro_5.cat -PARAMETERS_NAME default2.param -CHECKIMAGE_NAME test_segmented_5.fits\n",
      "source-extractor ddpm_g_band_6.fits -c default2.sex -CATALOG_NAME test_petro_6.cat -PARAMETERS_NAME default2.param -CHECKIMAGE_NAME test_segmented_6.fits\n",
      "source-extractor ddpm_g_band_7.fits -c default2.sex -CATALOG_NAME test_petro_7.cat -PARAMETERS_NAME default2.param -CHECKIMAGE_NAME test_segmented_7.fits\n",
      "source-extractor ddpm_g_band_8.fits -c default2.sex -CATALOG_NAME test_petro_8.cat -PARAMETERS_NAME default2.param -CHECKIMAGE_NAME test_segmented_8.fits\n",
      "source-extractor ddpm_g_band_9.fits -c default2.sex -CATALOG_NAME test_petro_9.cat -PARAMETERS_NAME default2.param -CHECKIMAGE_NAME test_segmented_9.fits\n",
      "source-extractor ddpm_g_band_10.fits -c default2.sex -CATALOG_NAME test_petro_10.cat -PARAMETERS_NAME default2.param -CHECKIMAGE_NAME test_segmented_10.fits\n",
      "source-extractor ddpm_g_band_11.fits -c default2.sex -CATALOG_NAME test_petro_11.cat -PARAMETERS_NAME default2.param -CHECKIMAGE_NAME test_segmented_11.fits\n",
      "source-extractor ddpm_g_band_12.fits -c default2.sex -CATALOG_NAME test_petro_12.cat -PARAMETERS_NAME default2.param -CHECKIMAGE_NAME test_segmented_12.fits\n",
      "source-extractor ddpm_g_band_13.fits -c default2.sex -CATALOG_NAME test_petro_13.cat -PARAMETERS_NAME default2.param -CHECKIMAGE_NAME test_segmented_13.fits\n",
      "source-extractor ddpm_g_band_14.fits -c default2.sex -CATALOG_NAME test_petro_14.cat -PARAMETERS_NAME default2.param -CHECKIMAGE_NAME test_segmented_14.fits\n",
      "source-extractor ddpm_g_band_15.fits -c default2.sex -CATALOG_NAME test_petro_15.cat -PARAMETERS_NAME default2.param -CHECKIMAGE_NAME test_segmented_15.fits\n",
      "source-extractor ddpm_g_band_16.fits -c default2.sex -CATALOG_NAME test_petro_16.cat -PARAMETERS_NAME default2.param -CHECKIMAGE_NAME test_segmented_16.fits\n",
      "source-extractor ddpm_g_band_17.fits -c default2.sex -CATALOG_NAME test_petro_17.cat -PARAMETERS_NAME default2.param -CHECKIMAGE_NAME test_segmented_17.fits\n",
      "source-extractor ddpm_g_band_18.fits -c default2.sex -CATALOG_NAME test_petro_18.cat -PARAMETERS_NAME default2.param -CHECKIMAGE_NAME test_segmented_18.fits\n"
     ]
    },
    {
     "ename": "KeyboardInterrupt",
     "evalue": "",
     "output_type": "error",
     "traceback": [
      "\u001b[0;31m---------------------------------------------------------------------------\u001b[0m",
      "\u001b[0;31mKeyboardInterrupt\u001b[0m                         Traceback (most recent call last)",
      "Cell \u001b[0;32mIn[3], line 9\u001b[0m\n\u001b[1;32m      6\u001b[0m command \u001b[38;5;241m=\u001b[39m \u001b[38;5;124mf\u001b[39m\u001b[38;5;124m\"\u001b[39m\u001b[38;5;124msource-extractor \u001b[39m\u001b[38;5;132;01m{\u001b[39;00mfile_name\u001b[38;5;132;01m}\u001b[39;00m\u001b[38;5;124m -c default2.sex -CATALOG_NAME test_petro_\u001b[39m\u001b[38;5;132;01m{\u001b[39;00mobj_id\u001b[38;5;132;01m}\u001b[39;00m\u001b[38;5;124m.cat -PARAMETERS_NAME default2.param -CHECKIMAGE_NAME test_segmented_\u001b[39m\u001b[38;5;132;01m{\u001b[39;00mobj_id\u001b[38;5;132;01m}\u001b[39;00m\u001b[38;5;124m.fits\u001b[39m\u001b[38;5;124m\"\u001b[39m\n\u001b[1;32m      7\u001b[0m \u001b[38;5;28mprint\u001b[39m(command)\n\u001b[0;32m----> 9\u001b[0m result \u001b[38;5;241m=\u001b[39m \u001b[43msubprocess\u001b[49m\u001b[38;5;241;43m.\u001b[39;49m\u001b[43mrun\u001b[49m\u001b[43m(\u001b[49m\u001b[43mcommand\u001b[49m\u001b[43m,\u001b[49m\u001b[43m \u001b[49m\u001b[43mshell\u001b[49m\u001b[38;5;241;43m=\u001b[39;49m\u001b[38;5;28;43;01mTrue\u001b[39;49;00m\u001b[43m,\u001b[49m\u001b[43m \u001b[49m\u001b[43mcwd\u001b[49m\u001b[38;5;241;43m=\u001b[39;49m\u001b[43mdirectory\u001b[49m\u001b[43m,\u001b[49m\u001b[43m \u001b[49m\u001b[43mstdout\u001b[49m\u001b[38;5;241;43m=\u001b[39;49m\u001b[43msubprocess\u001b[49m\u001b[38;5;241;43m.\u001b[39;49m\u001b[43mPIPE\u001b[49m\u001b[43m,\u001b[49m\u001b[43m \u001b[49m\u001b[43mstderr\u001b[49m\u001b[38;5;241;43m=\u001b[39;49m\u001b[43msubprocess\u001b[49m\u001b[38;5;241;43m.\u001b[39;49m\u001b[43mPIPE\u001b[49m\u001b[43m)\u001b[49m\n",
      "File \u001b[0;32m~/miniconda3/envs/Diffusion/lib/python3.9/subprocess.py:505\u001b[0m, in \u001b[0;36mrun\u001b[0;34m(input, capture_output, timeout, check, *popenargs, **kwargs)\u001b[0m\n\u001b[1;32m    502\u001b[0m     kwargs[\u001b[38;5;124m'\u001b[39m\u001b[38;5;124mstdout\u001b[39m\u001b[38;5;124m'\u001b[39m] \u001b[38;5;241m=\u001b[39m PIPE\n\u001b[1;32m    503\u001b[0m     kwargs[\u001b[38;5;124m'\u001b[39m\u001b[38;5;124mstderr\u001b[39m\u001b[38;5;124m'\u001b[39m] \u001b[38;5;241m=\u001b[39m PIPE\n\u001b[0;32m--> 505\u001b[0m \u001b[38;5;28;01mwith\u001b[39;00m \u001b[43mPopen\u001b[49m\u001b[43m(\u001b[49m\u001b[38;5;241;43m*\u001b[39;49m\u001b[43mpopenargs\u001b[49m\u001b[43m,\u001b[49m\u001b[43m \u001b[49m\u001b[38;5;241;43m*\u001b[39;49m\u001b[38;5;241;43m*\u001b[39;49m\u001b[43mkwargs\u001b[49m\u001b[43m)\u001b[49m \u001b[38;5;28;01mas\u001b[39;00m process:\n\u001b[1;32m    506\u001b[0m     \u001b[38;5;28;01mtry\u001b[39;00m:\n\u001b[1;32m    507\u001b[0m         stdout, stderr \u001b[38;5;241m=\u001b[39m process\u001b[38;5;241m.\u001b[39mcommunicate(\u001b[38;5;28minput\u001b[39m, timeout\u001b[38;5;241m=\u001b[39mtimeout)\n",
      "File \u001b[0;32m~/miniconda3/envs/Diffusion/lib/python3.9/subprocess.py:951\u001b[0m, in \u001b[0;36mPopen.__init__\u001b[0;34m(self, args, bufsize, executable, stdin, stdout, stderr, preexec_fn, close_fds, shell, cwd, env, universal_newlines, startupinfo, creationflags, restore_signals, start_new_session, pass_fds, user, group, extra_groups, encoding, errors, text, umask)\u001b[0m\n\u001b[1;32m    947\u001b[0m         \u001b[38;5;28;01mif\u001b[39;00m \u001b[38;5;28mself\u001b[39m\u001b[38;5;241m.\u001b[39mtext_mode:\n\u001b[1;32m    948\u001b[0m             \u001b[38;5;28mself\u001b[39m\u001b[38;5;241m.\u001b[39mstderr \u001b[38;5;241m=\u001b[39m io\u001b[38;5;241m.\u001b[39mTextIOWrapper(\u001b[38;5;28mself\u001b[39m\u001b[38;5;241m.\u001b[39mstderr,\n\u001b[1;32m    949\u001b[0m                     encoding\u001b[38;5;241m=\u001b[39mencoding, errors\u001b[38;5;241m=\u001b[39merrors)\n\u001b[0;32m--> 951\u001b[0m     \u001b[38;5;28;43mself\u001b[39;49m\u001b[38;5;241;43m.\u001b[39;49m\u001b[43m_execute_child\u001b[49m\u001b[43m(\u001b[49m\u001b[43margs\u001b[49m\u001b[43m,\u001b[49m\u001b[43m \u001b[49m\u001b[43mexecutable\u001b[49m\u001b[43m,\u001b[49m\u001b[43m \u001b[49m\u001b[43mpreexec_fn\u001b[49m\u001b[43m,\u001b[49m\u001b[43m \u001b[49m\u001b[43mclose_fds\u001b[49m\u001b[43m,\u001b[49m\n\u001b[1;32m    952\u001b[0m \u001b[43m                        \u001b[49m\u001b[43mpass_fds\u001b[49m\u001b[43m,\u001b[49m\u001b[43m \u001b[49m\u001b[43mcwd\u001b[49m\u001b[43m,\u001b[49m\u001b[43m \u001b[49m\u001b[43menv\u001b[49m\u001b[43m,\u001b[49m\n\u001b[1;32m    953\u001b[0m \u001b[43m                        \u001b[49m\u001b[43mstartupinfo\u001b[49m\u001b[43m,\u001b[49m\u001b[43m \u001b[49m\u001b[43mcreationflags\u001b[49m\u001b[43m,\u001b[49m\u001b[43m \u001b[49m\u001b[43mshell\u001b[49m\u001b[43m,\u001b[49m\n\u001b[1;32m    954\u001b[0m \u001b[43m                        \u001b[49m\u001b[43mp2cread\u001b[49m\u001b[43m,\u001b[49m\u001b[43m \u001b[49m\u001b[43mp2cwrite\u001b[49m\u001b[43m,\u001b[49m\n\u001b[1;32m    955\u001b[0m \u001b[43m                        \u001b[49m\u001b[43mc2pread\u001b[49m\u001b[43m,\u001b[49m\u001b[43m \u001b[49m\u001b[43mc2pwrite\u001b[49m\u001b[43m,\u001b[49m\n\u001b[1;32m    956\u001b[0m \u001b[43m                        \u001b[49m\u001b[43merrread\u001b[49m\u001b[43m,\u001b[49m\u001b[43m \u001b[49m\u001b[43merrwrite\u001b[49m\u001b[43m,\u001b[49m\n\u001b[1;32m    957\u001b[0m \u001b[43m                        \u001b[49m\u001b[43mrestore_signals\u001b[49m\u001b[43m,\u001b[49m\n\u001b[1;32m    958\u001b[0m \u001b[43m                        \u001b[49m\u001b[43mgid\u001b[49m\u001b[43m,\u001b[49m\u001b[43m \u001b[49m\u001b[43mgids\u001b[49m\u001b[43m,\u001b[49m\u001b[43m \u001b[49m\u001b[43muid\u001b[49m\u001b[43m,\u001b[49m\u001b[43m \u001b[49m\u001b[43mumask\u001b[49m\u001b[43m,\u001b[49m\n\u001b[1;32m    959\u001b[0m \u001b[43m                        \u001b[49m\u001b[43mstart_new_session\u001b[49m\u001b[43m)\u001b[49m\n\u001b[1;32m    960\u001b[0m \u001b[38;5;28;01mexcept\u001b[39;00m:\n\u001b[1;32m    961\u001b[0m     \u001b[38;5;66;03m# Cleanup if the child failed starting.\u001b[39;00m\n\u001b[1;32m    962\u001b[0m     \u001b[38;5;28;01mfor\u001b[39;00m f \u001b[38;5;129;01min\u001b[39;00m \u001b[38;5;28mfilter\u001b[39m(\u001b[38;5;28;01mNone\u001b[39;00m, (\u001b[38;5;28mself\u001b[39m\u001b[38;5;241m.\u001b[39mstdin, \u001b[38;5;28mself\u001b[39m\u001b[38;5;241m.\u001b[39mstdout, \u001b[38;5;28mself\u001b[39m\u001b[38;5;241m.\u001b[39mstderr)):\n",
      "File \u001b[0;32m~/miniconda3/envs/Diffusion/lib/python3.9/subprocess.py:1777\u001b[0m, in \u001b[0;36mPopen._execute_child\u001b[0;34m(self, args, executable, preexec_fn, close_fds, pass_fds, cwd, env, startupinfo, creationflags, shell, p2cread, p2cwrite, c2pread, c2pwrite, errread, errwrite, restore_signals, gid, gids, uid, umask, start_new_session)\u001b[0m\n\u001b[1;32m   1775\u001b[0m errpipe_data \u001b[38;5;241m=\u001b[39m \u001b[38;5;28mbytearray\u001b[39m()\n\u001b[1;32m   1776\u001b[0m \u001b[38;5;28;01mwhile\u001b[39;00m \u001b[38;5;28;01mTrue\u001b[39;00m:\n\u001b[0;32m-> 1777\u001b[0m     part \u001b[38;5;241m=\u001b[39m \u001b[43mos\u001b[49m\u001b[38;5;241;43m.\u001b[39;49m\u001b[43mread\u001b[49m\u001b[43m(\u001b[49m\u001b[43merrpipe_read\u001b[49m\u001b[43m,\u001b[49m\u001b[43m \u001b[49m\u001b[38;5;241;43m50000\u001b[39;49m\u001b[43m)\u001b[49m\n\u001b[1;32m   1778\u001b[0m     errpipe_data \u001b[38;5;241m+\u001b[39m\u001b[38;5;241m=\u001b[39m part\n\u001b[1;32m   1779\u001b[0m     \u001b[38;5;28;01mif\u001b[39;00m \u001b[38;5;129;01mnot\u001b[39;00m part \u001b[38;5;129;01mor\u001b[39;00m \u001b[38;5;28mlen\u001b[39m(errpipe_data) \u001b[38;5;241m>\u001b[39m \u001b[38;5;241m50000\u001b[39m:\n",
      "\u001b[0;31mKeyboardInterrupt\u001b[0m: "
     ]
    }
   ],
   "source": [
    "directory = '/data/HSC_generated/HSC_generated_v1/ddpm/g_band_ddpm'\n",
    "\n",
    "for obj_id in obj_ids:\n",
    "    file_name = f'ddpm_g_band_{obj_id}.fits'\n",
    "    file_path = os.path.join(directory, file_name)\n",
    "    command = f\"source-extractor {file_name} -c default2.sex -CATALOG_NAME test_petro_{obj_id}.cat -PARAMETERS_NAME default2.param -CHECKIMAGE_NAME test_segmented_{obj_id}.fits\"\n",
    "    print(command)\n",
    "    \n",
    "    result = subprocess.run(command, shell=True, cwd=directory, stdout=subprocess.PIPE, stderr=subprocess.PIPE)\n",
    "    # print(\"Output:\", result.stdout.decode())\n",
    "    # print(\"Error:\", result.stderr.decode())"
   ]
  },
  {
   "cell_type": "code",
   "execution_count": 10,
   "id": "54787131-1aaa-4137-a9db-9fd7cb6d4134",
   "metadata": {},
   "outputs": [],
   "source": [
    "directory = '/data/HSC_generated/HSC_generated_v1/ddpm/r_band_ddpm'\n",
    "\n",
    "for obj_id in obj_ids:\n",
    "    file_name = f'ddpm_r_band_{obj_id}.fits'\n",
    "    file_path = os.path.join(directory, file_name)\n",
    "    command = f\"source-extractor {file_name} -c default2.sex -CATALOG_NAME test_petro_{obj_id}.cat -PARAMETERS_NAME default2.param -CHECKIMAGE_NAME test_segmented_{obj_id}.fits\"\n",
    "    # print(command)\n",
    "    \n",
    "    result = subprocess.run(command, shell=True, cwd=directory, stdout=subprocess.PIPE, stderr=subprocess.PIPE)\n",
    "    # print(\"Output:\", result.stdout.decode())\n",
    "    # print(\"Error:\", result.stderr.decode())"
   ]
  },
  {
   "cell_type": "code",
   "execution_count": 11,
   "id": "f3c017b9-5eb9-41fb-9e06-3c8e929611c7",
   "metadata": {},
   "outputs": [],
   "source": [
    "directory = '/data/HSC_generated/HSC_generated_v1/ddpm/i_band_ddpm'\n",
    "\n",
    "for obj_id in obj_ids:\n",
    "    file_name = f'ddpm_i_band_{obj_id}.fits'\n",
    "    file_path = os.path.join(directory, file_name)\n",
    "    command = f\"source-extractor {file_name} -c default2.sex -CATALOG_NAME test_petro_{obj_id}.cat -PARAMETERS_NAME default2.param -CHECKIMAGE_NAME test_segmented_{obj_id}.fits\"\n",
    "    # print(command)\n",
    "    \n",
    "    result = subprocess.run(command, shell=True, cwd=directory, stdout=subprocess.PIPE, stderr=subprocess.PIPE)\n",
    "    # print(\"Output:\", result.stdout.decode())\n",
    "    # print(\"Error:\", result.stderr.decode())"
   ]
  },
  {
   "cell_type": "code",
   "execution_count": 12,
   "id": "9e156026-2957-49af-963f-150086988595",
   "metadata": {},
   "outputs": [],
   "source": [
    "directory = '/data/HSC_generated/HSC_generated_v1/ddpm/z_band_ddpm'\n",
    "\n",
    "for obj_id in obj_ids:\n",
    "    file_name = f'ddpm_z_band_{obj_id}.fits'\n",
    "    file_path = os.path.join(directory, file_name)\n",
    "    command = f\"source-extractor {file_name} -c default2.sex -CATALOG_NAME test_petro_{obj_id}.cat -PARAMETERS_NAME default2.param -CHECKIMAGE_NAME test_segmented_{obj_id}.fits\"\n",
    "    # print(command)\n",
    "    \n",
    "    result = subprocess.run(command, shell=True, cwd=directory, stdout=subprocess.PIPE, stderr=subprocess.PIPE)\n",
    "    # print(\"Output:\", result.stdout.decode())\n",
    "    # print(\"Error:\", result.stderr.decode())"
   ]
  },
  {
   "cell_type": "code",
   "execution_count": 13,
   "id": "b1788c94-73f3-458d-a9df-3808aa860d98",
   "metadata": {},
   "outputs": [],
   "source": [
    "directory = '/data/HSC_generated/HSC_generated_v1/ddpm/y_band_ddpm'\n",
    "\n",
    "for obj_id in obj_ids:\n",
    "    file_name = f'ddpm_y_band_{obj_id}.fits'\n",
    "    file_path = os.path.join(directory, file_name)\n",
    "    command = f\"source-extractor {file_name} -c default2.sex -CATALOG_NAME test_petro_{obj_id}.cat -PARAMETERS_NAME default2.param -CHECKIMAGE_NAME test_segmented_{obj_id}.fits\"\n",
    "    # print(command)\n",
    "    \n",
    "    result = subprocess.run(command, shell=True, cwd=directory, stdout=subprocess.PIPE, stderr=subprocess.PIPE)\n",
    "    # print(\"Output:\", result.stdout.decode())\n",
    "    # print(\"Error:\", result.stderr.decode())"
   ]
  },
  {
   "cell_type": "code",
   "execution_count": 4,
   "id": "021efa30-c3ee-4cd0-8b70-321650cc00cb",
   "metadata": {},
   "outputs": [],
   "source": [
    "directory = '/data/HSC_generated/HSC_generated_v1/cvae/g_band_cvae'\n",
    "\n",
    "for obj_id in obj_ids:\n",
    "    file_name = f'cvae_g_band_{obj_id}.fits'\n",
    "    file_path = os.path.join(directory, file_name)\n",
    "    command = f\"source-extractor {file_name} -c default2.sex -CATALOG_NAME test_petro_{obj_id}.cat -PARAMETERS_NAME default2.param -CHECKIMAGE_NAME test_segmented_{obj_id}.fits\"\n",
    "    # print(command)\n",
    "    \n",
    "    result = subprocess.run(command, shell=True, cwd=directory, stdout=subprocess.PIPE, stderr=subprocess.PIPE)\n",
    "    # print(\"Output:\", result.stdout.decode())\n",
    "    # print(\"Error:\", result.stderr.decode())"
   ]
  },
  {
   "cell_type": "code",
   "execution_count": 2,
   "id": "030f1e80-7d76-4dc1-8358-3d22fb25c5d9",
   "metadata": {},
   "outputs": [
    {
     "name": "stderr",
     "output_type": "stream",
     "text": [
      "100%|██████████| 42960/42960 [1:18:32<00:00,  9.12it/s]\n"
     ]
    }
   ],
   "source": [
    "df = pd.read_csv('/data2/predictions/HSC_v6_NN_neurips_combined_with_5pool_v11/testing_predictions.csv')\n",
    "directory = '/data/HSC_generated/HSC_generated_v1/g_band'\n",
    "obj_ids = df['object_id']\n",
    "\n",
    "for obj_id in tqdm(obj_ids):\n",
    "    file_name = f'{obj_id}_step1.fits'\n",
    "    file_path = os.path.join(directory, file_name)\n",
    "    command = f\"source-extractor {file_name} -c default2.sex -CATALOG_NAME test_petro_{obj_id}.cat -PARAMETERS_NAME default2.param -CHECKIMAGE_NAME test_segmented_{obj_id}.fits\"\n",
    "    # print(command)\n",
    "    \n",
    "    result = subprocess.run(command, shell=True, cwd=directory, stdout=subprocess.PIPE, stderr=subprocess.PIPE)\n",
    "    # print(\"Output:\", result.stdout.decode())\n",
    "    # print(\"Error:\", result.stderr.decode())"
   ]
  },
  {
   "cell_type": "code",
   "execution_count": 3,
   "id": "7c8350e2-8922-495f-bbf9-b04bad7ea139",
   "metadata": {},
   "outputs": [],
   "source": [
    "df = pd.read_csv('/data2/predictions/HSC_v6_NN_neurips_combined_with_5pool_v11/testing_predictions.csv')\n",
    "directory = '/data/HSC_generated/HSC_generated_v1/g_band'\n",
    "obj_ids = df['object_id']"
   ]
  },
  {
   "cell_type": "code",
   "execution_count": 4,
   "id": "e770e34b-17fa-4408-bf99-73cfc8c19f3d",
   "metadata": {},
   "outputs": [
    {
     "name": "stdout",
     "output_type": "stream",
     "text": [
      "0        36407046198803509\n",
      "1        36407046198804043\n",
      "2        36407050493759629\n",
      "3        36407050493773284\n",
      "4        36407054788744371\n",
      "               ...        \n",
      "42955    74649160124473935\n",
      "42956    74649160124493654\n",
      "42957    74649160124502454\n",
      "42958    74649164419466433\n",
      "42959    74649168714406416\n",
      "Name: object_id, Length: 42960, dtype: int64\n"
     ]
    }
   ],
   "source": [
    "print(obj_ids)"
   ]
  },
  {
   "cell_type": "code",
   "execution_count": null,
   "id": "45c4354e-fd3d-4e44-a54c-735b19cd5134",
   "metadata": {},
   "outputs": [],
   "source": []
  }
 ],
 "metadata": {
  "kernelspec": {
   "display_name": "Diffusion",
   "language": "python",
   "name": "diffusion"
  },
  "language_info": {
   "codemirror_mode": {
    "name": "ipython",
    "version": 3
   },
   "file_extension": ".py",
   "mimetype": "text/x-python",
   "name": "python",
   "nbconvert_exporter": "python",
   "pygments_lexer": "ipython3",
   "version": "3.9.16"
  }
 },
 "nbformat": 4,
 "nbformat_minor": 5
}
