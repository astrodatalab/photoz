{
 "cells": [
  {
   "cell_type": "code",
   "execution_count": 1,
   "id": "d23f862b",
   "metadata": {},
   "outputs": [],
   "source": [
    "import sys, os\n",
    "import numpy as np\n",
    "import h5py\n",
    "import random\n",
    "import neptune\n",
    "import matplotlib.pyplot as plt\n",
    "import tensorflow as tf\n",
    "import tensorflow_probability as tfp\n",
    "\n",
    "from tensorflow import keras\n",
    "from tensorflow_probability import layers as tfpl\n",
    "from tensorflow_probability import distributions as tfd\n",
    "from tqdm.notebook import tqdm\n",
    "from tensorflow.keras import Sequential\n",
    "from tensorflow.keras.models import Model\n",
    "from tensorflow.keras.callbacks import TensorBoard, ModelCheckpoint, ReduceLROnPlateau\n",
    "from tensorflow.keras.layers import Input, RepeatVector, MaxPooling2D, Conv2D, Concatenate, UpSampling2D, Conv2DTranspose, Flatten, Dropout, Dense, BatchNormalization, Activation, Reshape, LeakyReLU\n",
    "from tensorflow.keras.optimizers import Adam\n",
    "from tensorflow_probability.python.distributions import kl_divergence\n",
    "from neptune.integrations.tensorflow_keras import NeptuneCallback\n",
    "from DataMakerPlus import *"
   ]
  },
  {
   "cell_type": "code",
   "execution_count": 2,
   "id": "82e0800d",
   "metadata": {},
   "outputs": [],
   "source": [
    "LATENT_DIM = 16\n",
    "BASE_DEPTH = 8\n",
    "CHANNELS = 5\n",
    "IMAGE_SHAPE = (CHANNELS, 64, 64)\n",
    "BATCH_SIZE = 1024\n",
    "EPOCHS = 250\n",
    "CHECKPOINTS_TO_SAVE = 4\n",
    "KL_WEIGHT = 1e-2"
   ]
  },
  {
   "cell_type": "code",
   "execution_count": 3,
   "id": "3a44e7a5",
   "metadata": {},
   "outputs": [
    {
     "name": "stdout",
     "output_type": "stream",
     "text": [
      "2 Physical GPUs, 2 Logical GPUs\n"
     ]
    }
   ],
   "source": [
    "gpus = tf.config.list_physical_devices('GPU');\n",
    "if gpus:\n",
    "    try:\n",
    "        tf.config.experimental.set_virtual_device_configuration(\n",
    "            gpus[0],\n",
    "            [tf.config.experimental.VirtualDeviceConfiguration(memory_limit = 20000)]);\n",
    "        logical_gpus = tf.config.experimental.list_logical_devices('GPU');\n",
    "        print(len(gpus), \"Physical GPUs,\", len(logical_gpus), \"Logical GPUs\")\n",
    "    except RuntimeError as e:\n",
    "        print(e)"
   ]
  },
  {
   "cell_type": "code",
   "execution_count": 4,
   "id": "cbc0eecd",
   "metadata": {},
   "outputs": [
    {
     "name": "stdout",
     "output_type": "stream",
     "text": [
      "(1024, 5, 64, 64)\n",
      "(1024,)\n"
     ]
    }
   ],
   "source": [
    "TRAIN_PATH = f'/data/tuando/data/HSC/HSC_v6/step3A/64x64/5x64x64_training_z_less_than_2.hdf5'\n",
    "TEST_PATH = f'/data/tuando/data/HSC/HSC_v6/step3A/64x64/5x64x64_testing_z_less_than_2.hdf5'\n",
    "\n",
    "gen_args = {\n",
    "    'image_key': 'image',\n",
    "    'numerical_keys': None,\n",
    "    'y_key': 'specz_redshift',\n",
    "    'scaler': False,\n",
    "    'labels_encoding': False,\n",
    "    'batch_size': BATCH_SIZE,\n",
    "    'shuffle': False}\n",
    "train_gen = HDF5DataGenerator(TRAIN_PATH, mode = 'train', **gen_args)\n",
    "test_gen = HDF5DataGenerator(TEST_PATH, mode = 'train', **gen_args)\n",
    "print(train_gen[0][0].shape) # a batch of images\n",
    "print(train_gen[0][1].shape) # a batch of corresponding redshifts"
   ]
  },
  {
   "cell_type": "code",
   "execution_count": 5,
   "id": "bbf416fd-e625-4f31-9a7d-1ccde69b7591",
   "metadata": {},
   "outputs": [],
   "source": [
    "batch_count = 0\n",
    "def next_batch():\n",
    "    global batch_count\n",
    "    x_train = np.asarray(train_gen[batch_count][0])\n",
    "    y_train = np.asarray(train_gen[batch_count][1]).reshape((BATCH_SIZE, 1))\n",
    "    batch_count = batch_count + 1\n",
    "    if batch_count == len(train_gen) - 1:\n",
    "        batch_count = 0\n",
    "    return x_train, y_train"
   ]
  },
  {
   "cell_type": "code",
   "execution_count": 6,
   "id": "3446dc25-6d3c-4f10-80f3-a308c6265422",
   "metadata": {},
   "outputs": [],
   "source": [
    "def build_generator(LATENT_DIM):\n",
    "    noise = Input(shape = (LATENT_DIM,))\n",
    "    label = Input(shape = (1,), dtype = 'float32')\n",
    "    label_embedding = Dense(LATENT_DIM)(label)\n",
    "    model_input = Concatenate()([noise, label_embedding])\n",
    "    \n",
    "    x = Dense(1024, activation = \"relu\")(model_input)\n",
    "    x = Dense(1024, activation = \"relu\")(x) # Size of the dense layer changed\n",
    "    x = Dense(256 * 16 * 16, activation = \"relu\")(x) # Size of the dense layer changed\n",
    "    x = Reshape((256, 16, 16))(x) # Reshape size changed\n",
    "    x = Conv2DTranspose(128, 2, strides = 1, activation = \"relu\", padding = 'same', data_format = 'channels_first')(x)\n",
    "    x = Conv2DTranspose(64, 2, strides = 1, activation = \"relu\", padding = 'same', data_format = 'channels_first')(x)\n",
    "    x = Conv2DTranspose(32, 3, strides = 2, activation = \"relu\", padding = 'same', data_format = 'channels_first')(x)\n",
    "    x = Conv2DTranspose(CHANNELS, 3, strides = 2, activation = \"relu\", padding = 'same', data_format = 'channels_first')(x)\n",
    "    outputs = Reshape(IMAGE_SHAPE)(x)\n",
    "    \n",
    "    model = Model([noise, label], outputs)\n",
    "    return model"
   ]
  },
  {
   "cell_type": "code",
   "execution_count": 7,
   "id": "c3d19e8c-1ff2-4dba-8ac8-d92d09a948dc",
   "metadata": {},
   "outputs": [],
   "source": [
    "def build_discriminator(IMAGE_SHAPE):\n",
    "    img = Input(shape = IMAGE_SHAPE)\n",
    "    label = Input(shape = (1,), dtype = 'float32')\n",
    "\n",
    "    label_embedding = Dense(np.prod(IMAGE_SHAPE))(label)\n",
    "    label_embedding = Reshape(IMAGE_SHAPE)(label_embedding)\n",
    "    \n",
    "    merged_input = Concatenate(axis = 1)([img, label_embedding]) # Concatenate along channels\n",
    "\n",
    "    x = Conv2D(32, kernel_size = (3, 3), strides = 1, padding = 'same', data_format = 'channels_first')(merged_input)\n",
    "    x = LeakyReLU(alpha = 0.01)(x)\n",
    "    x = MaxPooling2D(2, 2, data_format = 'channels_first')(x)\n",
    "    x = Conv2D(64, kernel_size = (3, 3), strides = 1, padding = 'same', data_format = 'channels_first')(x)\n",
    "    x = LeakyReLU(alpha = 0.01)(x)\n",
    "    x = MaxPooling2D(2, 2, data_format = 'channels_first')(x)\n",
    "    x = Conv2D(128, kernel_size = (3, 3), strides = 1, padding = 'same', data_format = 'channels_first')(x)\n",
    "    x = LeakyReLU(alpha = 0.01)(x)\n",
    "    x = Flatten()(x)\n",
    "    x = Dense(128)(x)\n",
    "    x = Dense(128)(x)\n",
    "    outputs = Dense(1, activation = 'sigmoid')(x)\n",
    "\n",
    "    model = Model([img, label], outputs)\n",
    "    return model"
   ]
  },
  {
   "cell_type": "code",
   "execution_count": 8,
   "id": "ac0656b3-3405-4c91-a58a-20072034b3d9",
   "metadata": {},
   "outputs": [],
   "source": [
    "def build_gan(generator, discriminator):\n",
    "    \n",
    "    discriminator.compile(optimizer = Adam(learning_rate = 0.0001), loss = 'binary_crossentropy', metrics = ['accuracy'])\n",
    "    discriminator.trainable = False\n",
    "\n",
    "    noise = Input(shape = (LATENT_DIM,))\n",
    "    label = Input(shape = (1,))\n",
    "    img = generator([noise, label])\n",
    "    fake_pred = discriminator([img, label])\n",
    "\n",
    "    combined_model = Model([noise, label], fake_pred)\n",
    "    combined_model.compile(optimizer = Adam(learning_rate = 0.0001), loss = 'binary_crossentropy')\n",
    "    return combined_model"
   ]
  },
  {
   "cell_type": "code",
   "execution_count": 9,
   "id": "612784c9-bb37-4e44-acd0-ec361412827c",
   "metadata": {},
   "outputs": [],
   "source": [
    "generator = build_generator(LATENT_DIM)\n",
    "discriminator = build_discriminator(IMAGE_SHAPE)\n",
    "gan = build_gan(generator, discriminator)"
   ]
  },
  {
   "cell_type": "code",
   "execution_count": 10,
   "id": "98160f52-98a9-47c7-9bc1-dd9f3ff429e1",
   "metadata": {},
   "outputs": [
    {
     "name": "stdout",
     "output_type": "stream",
     "text": [
      "Model: \"model\"\n",
      "__________________________________________________________________________________________________\n",
      " Layer (type)                   Output Shape         Param #     Connected to                     \n",
      "==================================================================================================\n",
      " input_2 (InputLayer)           [(None, 1)]          0           []                               \n",
      "                                                                                                  \n",
      " input_1 (InputLayer)           [(None, 16)]         0           []                               \n",
      "                                                                                                  \n",
      " dense (Dense)                  (None, 16)           32          ['input_2[0][0]']                \n",
      "                                                                                                  \n",
      " concatenate (Concatenate)      (None, 32)           0           ['input_1[0][0]',                \n",
      "                                                                  'dense[0][0]']                  \n",
      "                                                                                                  \n",
      " dense_1 (Dense)                (None, 1024)         33792       ['concatenate[0][0]']            \n",
      "                                                                                                  \n",
      " dense_2 (Dense)                (None, 1024)         1049600     ['dense_1[0][0]']                \n",
      "                                                                                                  \n",
      " dense_3 (Dense)                (None, 65536)        67174400    ['dense_2[0][0]']                \n",
      "                                                                                                  \n",
      " reshape (Reshape)              (None, 256, 16, 16)  0           ['dense_3[0][0]']                \n",
      "                                                                                                  \n",
      " conv2d_transpose (Conv2DTransp  (None, 128, 16, 16)  131200     ['reshape[0][0]']                \n",
      " ose)                                                                                             \n",
      "                                                                                                  \n",
      " conv2d_transpose_1 (Conv2DTran  (None, 64, 16, 16)  32832       ['conv2d_transpose[0][0]']       \n",
      " spose)                                                                                           \n",
      "                                                                                                  \n",
      " conv2d_transpose_2 (Conv2DTran  (None, 32, 32, 32)  18464       ['conv2d_transpose_1[0][0]']     \n",
      " spose)                                                                                           \n",
      "                                                                                                  \n",
      " conv2d_transpose_3 (Conv2DTran  (None, 5, 64, 64)   1445        ['conv2d_transpose_2[0][0]']     \n",
      " spose)                                                                                           \n",
      "                                                                                                  \n",
      " reshape_1 (Reshape)            (None, 5, 64, 64)    0           ['conv2d_transpose_3[0][0]']     \n",
      "                                                                                                  \n",
      "==================================================================================================\n",
      "Total params: 68,441,765\n",
      "Trainable params: 68,441,765\n",
      "Non-trainable params: 0\n",
      "__________________________________________________________________________________________________\n",
      "Model: \"model_1\"\n",
      "__________________________________________________________________________________________________\n",
      " Layer (type)                   Output Shape         Param #     Connected to                     \n",
      "==================================================================================================\n",
      " input_4 (InputLayer)           [(None, 1)]          0           []                               \n",
      "                                                                                                  \n",
      " dense_4 (Dense)                (None, 20480)        40960       ['input_4[0][0]']                \n",
      "                                                                                                  \n",
      " input_3 (InputLayer)           [(None, 5, 64, 64)]  0           []                               \n",
      "                                                                                                  \n",
      " reshape_2 (Reshape)            (None, 5, 64, 64)    0           ['dense_4[0][0]']                \n",
      "                                                                                                  \n",
      " concatenate_1 (Concatenate)    (None, 10, 64, 64)   0           ['input_3[0][0]',                \n",
      "                                                                  'reshape_2[0][0]']              \n",
      "                                                                                                  \n",
      " conv2d (Conv2D)                (None, 32, 64, 64)   2912        ['concatenate_1[0][0]']          \n",
      "                                                                                                  \n",
      " leaky_re_lu (LeakyReLU)        (None, 32, 64, 64)   0           ['conv2d[0][0]']                 \n",
      "                                                                                                  \n",
      " max_pooling2d (MaxPooling2D)   (None, 32, 32, 32)   0           ['leaky_re_lu[0][0]']            \n",
      "                                                                                                  \n",
      " conv2d_1 (Conv2D)              (None, 64, 32, 32)   18496       ['max_pooling2d[0][0]']          \n",
      "                                                                                                  \n",
      " leaky_re_lu_1 (LeakyReLU)      (None, 64, 32, 32)   0           ['conv2d_1[0][0]']               \n",
      "                                                                                                  \n",
      " max_pooling2d_1 (MaxPooling2D)  (None, 64, 16, 16)  0           ['leaky_re_lu_1[0][0]']          \n",
      "                                                                                                  \n",
      " conv2d_2 (Conv2D)              (None, 128, 16, 16)  73856       ['max_pooling2d_1[0][0]']        \n",
      "                                                                                                  \n",
      " leaky_re_lu_2 (LeakyReLU)      (None, 128, 16, 16)  0           ['conv2d_2[0][0]']               \n",
      "                                                                                                  \n",
      " flatten (Flatten)              (None, 32768)        0           ['leaky_re_lu_2[0][0]']          \n",
      "                                                                                                  \n",
      " dense_5 (Dense)                (None, 128)          4194432     ['flatten[0][0]']                \n",
      "                                                                                                  \n",
      " dense_6 (Dense)                (None, 128)          16512       ['dense_5[0][0]']                \n",
      "                                                                                                  \n",
      " dense_7 (Dense)                (None, 1)            129         ['dense_6[0][0]']                \n",
      "                                                                                                  \n",
      "==================================================================================================\n",
      "Total params: 4,347,297\n",
      "Trainable params: 0\n",
      "Non-trainable params: 4,347,297\n",
      "__________________________________________________________________________________________________\n"
     ]
    }
   ],
   "source": [
    "generator.summary()\n",
    "discriminator.summary()"
   ]
  },
  {
   "cell_type": "markdown",
   "id": "2f13b1f3-1942-429c-b713-344c7f304b6b",
   "metadata": {},
   "source": [
    "class DummyFile(object):\n",
    "    def write(self, x): pass\n",
    "\n",
    "# Save the original standard output\n",
    "original_stdout = sys.stdout\n",
    "\n",
    "# Redirect standard output to the dummy file\n",
    "sys.stdout = DummyFile()\n",
    "\n",
    "sys.stdout = original_stdout\n",
    "print(\"1\")\n",
    "# Redirect standard output back to the dummy file\n",
    "sys.stdout = DummyFile()\n",
    "\n",
    "# Training code\n",
    "epochs = 1000\n",
    "\n",
    "for epoch in range(epochs):\n",
    "    \n",
    "    # Train Discriminator\n",
    "    noise = np.random.normal(0, 1, (BATCH_SIZE, LATENT_DIM))\n",
    "    fake_redshift = np.random.uniform(0, 2, (BATCH_SIZE, 1))\n",
    "    fake_labels = np.zeros((BATCH_SIZE, 1))\n",
    "    \n",
    "    sys.stdout = original_stdout\n",
    "    print(\"1\")\n",
    "    # Redirect standard output back to the dummy file\n",
    "    sys.stdout = DummyFile()\n",
    "    \n",
    "    fake_images = generator.predict([noise, fake_redshift])\n",
    "    \n",
    "    sys.stdout = original_stdout\n",
    "    print(\"1\")\n",
    "    # Redirect standard output back to the dummy file\n",
    "    sys.stdout = DummyFile()\n",
    "    \n",
    "    real_images, real_redshift = next_batch() # Get a batch of real images\n",
    "    real_labels = np.ones((BATCH_SIZE, 1))\n",
    "    \n",
    "    labels = np.vstack([real_labels, fake_labels])\n",
    "    redshifts = np.vstack([real_redshift, fake_redshift])\n",
    "    images = np.vstack([real_images, fake_images])\n",
    "    \n",
    "    sys.stdout = original_stdout\n",
    "    print(\"1\")\n",
    "    # Redirect standard output back to the dummy file\n",
    "    sys.stdout = DummyFile()\n",
    "\n",
    "    d_loss = discriminator.train_on_batch([images, redshifts], labels);\n",
    "    \n",
    "    sys.stdout = original_stdout\n",
    "    print(\"1\")\n",
    "    # Redirect standard output back to the dummy file\n",
    "    sys.stdout = DummyFile()\n",
    "    \n",
    "    # Train Generator\n",
    "    noise = np.random.normal(0, 1, (BATCH_SIZE, LATENT_DIM))\n",
    "    fake_redshift = np.random.uniform(0, 2, (BATCH_SIZE, 1)) # a vector of fake redshift to input the generator\n",
    "    g_loss = gan.train_on_batch([noise, fake_redshift], real_labels); # train the generator\n",
    "    \n",
    "    if True: # epoch % 5 == 0:\n",
    "        # Restore original standard output for printing\n",
    "        sys.stdout = original_stdout\n",
    "        print(f\"Epoch {epoch}, Discriminator Loss: {d_loss}, Generator Loss: {g_loss}\")\n",
    "        # Redirect standard output back to the dummy file\n",
    "        sys.stdout = DummyFile()\n",
    "\n",
    "# Restore original standard output after training\n",
    "sys.stdout = original_stdout"
   ]
  },
  {
   "cell_type": "code",
   "execution_count": 41,
   "id": "d1be3ce1-0783-4f66-bcc0-f2869edb34cc",
   "metadata": {},
   "outputs": [
    {
     "name": "stdout",
     "output_type": "stream",
     "text": [
      "32/32 [==============================] - 0s 1ms/step\n",
      "Epoch 0, Discriminator Loss: [0.08813095837831497, 0.97802734375], Generator Loss: 6.17331075668335\n",
      "32/32 [==============================] - 0s 1ms/step\n",
      "32/32 [==============================] - 0s 1ms/step\n",
      "32/32 [==============================] - 0s 1ms/step\n",
      "32/32 [==============================] - 0s 1ms/step\n",
      "32/32 [==============================] - 0s 1ms/step\n",
      "Epoch 5, Discriminator Loss: [0.05035630241036415, 0.99609375], Generator Loss: 3.6215410232543945\n",
      "32/32 [==============================] - 0s 1ms/step\n",
      "32/32 [==============================] - 0s 1ms/step\n",
      "32/32 [==============================] - 0s 1ms/step\n",
      "32/32 [==============================] - 0s 1ms/step\n",
      "32/32 [==============================] - 0s 1ms/step\n",
      "Epoch 10, Discriminator Loss: [0.0594935417175293, 0.97998046875], Generator Loss: 5.097879409790039\n",
      "32/32 [==============================] - 0s 1ms/step\n",
      "32/32 [==============================] - 0s 1ms/step\n",
      "32/32 [==============================] - 0s 1ms/step\n",
      "32/32 [==============================] - 0s 1ms/step\n",
      "32/32 [==============================] - 0s 1ms/step\n",
      "Epoch 15, Discriminator Loss: [0.0662131980061531, 0.99658203125], Generator Loss: 4.005736351013184\n",
      "32/32 [==============================] - 0s 1ms/step\n",
      "32/32 [==============================] - 0s 1ms/step\n",
      "32/32 [==============================] - 0s 1ms/step\n",
      "32/32 [==============================] - 0s 1ms/step\n",
      "32/32 [==============================] - 0s 1ms/step\n",
      "Epoch 20, Discriminator Loss: [0.055432114750146866, 0.99072265625], Generator Loss: 4.696082592010498\n",
      "32/32 [==============================] - 0s 1ms/step\n",
      "32/32 [==============================] - 0s 1ms/step\n",
      "32/32 [==============================] - 0s 1ms/step\n",
      "32/32 [==============================] - 0s 1ms/step\n",
      "32/32 [==============================] - 0s 1ms/step\n",
      "Epoch 25, Discriminator Loss: [0.03539407253265381, 0.99462890625], Generator Loss: 4.51845645904541\n",
      "32/32 [==============================] - 0s 1ms/step\n",
      "32/32 [==============================] - 0s 1ms/step\n",
      "32/32 [==============================] - 0s 1ms/step\n",
      "32/32 [==============================] - 0s 1ms/step\n",
      "32/32 [==============================] - 0s 1ms/step\n",
      "Epoch 30, Discriminator Loss: [0.03567967936396599, 0.99169921875], Generator Loss: 5.292403697967529\n",
      "32/32 [==============================] - 0s 1ms/step\n",
      "32/32 [==============================] - 0s 1ms/step\n",
      "32/32 [==============================] - 0s 1ms/step\n",
      "32/32 [==============================] - 0s 1ms/step\n",
      "32/32 [==============================] - 0s 1ms/step\n",
      "Epoch 35, Discriminator Loss: [0.013106773607432842, 0.99951171875], Generator Loss: 5.950825214385986\n",
      "32/32 [==============================] - 0s 1ms/step\n",
      "32/32 [==============================] - 0s 1ms/step\n",
      "32/32 [==============================] - 0s 1ms/step\n",
      "32/32 [==============================] - 0s 1ms/step\n",
      "32/32 [==============================] - 0s 1ms/step\n",
      "Epoch 40, Discriminator Loss: [0.04539847746491432, 0.9892578125], Generator Loss: 5.164876937866211\n",
      "32/32 [==============================] - 0s 1ms/step\n",
      "32/32 [==============================] - 0s 1ms/step\n",
      "32/32 [==============================] - 0s 1ms/step\n",
      "32/32 [==============================] - 0s 1ms/step\n",
      "32/32 [==============================] - 0s 1ms/step\n",
      "Epoch 45, Discriminator Loss: [0.03396862745285034, 0.99609375], Generator Loss: 4.86686897277832\n",
      "32/32 [==============================] - 0s 1ms/step\n",
      "32/32 [==============================] - 0s 1ms/step\n",
      "32/32 [==============================] - 0s 1ms/step\n",
      "32/32 [==============================] - 0s 1ms/step\n",
      "32/32 [==============================] - 0s 1ms/step\n",
      "Epoch 50, Discriminator Loss: [0.00901231449097395, 0.9970703125], Generator Loss: 6.112246513366699\n",
      "32/32 [==============================] - 0s 1ms/step\n",
      "32/32 [==============================] - 0s 1ms/step\n",
      "32/32 [==============================] - 0s 1ms/step\n",
      "32/32 [==============================] - 0s 1ms/step\n",
      "32/32 [==============================] - 0s 1ms/step\n",
      "Epoch 55, Discriminator Loss: [0.034469325095415115, 0.99072265625], Generator Loss: 3.670315980911255\n",
      "32/32 [==============================] - 0s 1ms/step\n",
      "32/32 [==============================] - 0s 1ms/step\n",
      "32/32 [==============================] - 0s 1ms/step\n",
      "32/32 [==============================] - 0s 1ms/step\n",
      "32/32 [==============================] - 0s 1ms/step\n",
      "Epoch 60, Discriminator Loss: [0.07719924300909042, 0.9765625], Generator Loss: 5.246342182159424\n",
      "32/32 [==============================] - 0s 1ms/step\n",
      "32/32 [==============================] - 0s 1ms/step\n",
      "32/32 [==============================] - 0s 1ms/step\n",
      "32/32 [==============================] - 0s 1ms/step\n",
      "32/32 [==============================] - 0s 1ms/step\n",
      "Epoch 65, Discriminator Loss: [0.027757350355386734, 0.99658203125], Generator Loss: 4.354099750518799\n",
      "32/32 [==============================] - 0s 1ms/step\n",
      "32/32 [==============================] - 0s 1ms/step\n",
      "32/32 [==============================] - 0s 1ms/step\n",
      "32/32 [==============================] - 0s 1ms/step\n",
      "32/32 [==============================] - 0s 1ms/step\n",
      "Epoch 70, Discriminator Loss: [0.009241290390491486, 0.99755859375], Generator Loss: 6.266473770141602\n",
      "32/32 [==============================] - 0s 1ms/step\n",
      "32/32 [==============================] - 0s 1ms/step\n",
      "32/32 [==============================] - 0s 1ms/step\n",
      "32/32 [==============================] - 0s 1ms/step\n",
      "32/32 [==============================] - 0s 1ms/step\n",
      "Epoch 75, Discriminator Loss: [0.13234975934028625, 0.966796875], Generator Loss: 2.0469164848327637\n",
      "32/32 [==============================] - 0s 1ms/step\n",
      "32/32 [==============================] - 0s 1ms/step\n",
      "32/32 [==============================] - 0s 1ms/step\n",
      "32/32 [==============================] - 0s 1ms/step\n",
      "32/32 [==============================] - 0s 1ms/step\n",
      "Epoch 80, Discriminator Loss: [0.07108017057180405, 0.96875], Generator Loss: 7.493327617645264\n",
      "32/32 [==============================] - 0s 1ms/step\n",
      "32/32 [==============================] - 0s 1ms/step\n",
      "32/32 [==============================] - 0s 1ms/step\n",
      "32/32 [==============================] - 0s 1ms/step\n",
      "32/32 [==============================] - 0s 1ms/step\n",
      "Epoch 85, Discriminator Loss: [0.030437937006354332, 1.0], Generator Loss: 3.420396566390991\n",
      "32/32 [==============================] - 0s 1ms/step\n",
      "32/32 [==============================] - 0s 1ms/step\n",
      "32/32 [==============================] - 0s 1ms/step\n",
      "32/32 [==============================] - 0s 1ms/step\n",
      "32/32 [==============================] - 0s 1ms/step\n",
      "Epoch 90, Discriminator Loss: [0.023886432871222496, 0.9912109375], Generator Loss: 5.879701137542725\n",
      "32/32 [==============================] - 0s 1ms/step\n",
      "32/32 [==============================] - 0s 1ms/step\n",
      "32/32 [==============================] - 0s 1ms/step\n",
      "32/32 [==============================] - 0s 1ms/step\n",
      "32/32 [==============================] - 0s 1ms/step\n",
      "Epoch 95, Discriminator Loss: [0.03084401972591877, 0.99658203125], Generator Loss: 3.8362481594085693\n",
      "32/32 [==============================] - 0s 1ms/step\n",
      "32/32 [==============================] - 0s 1ms/step\n",
      "32/32 [==============================] - 0s 1ms/step\n",
      "32/32 [==============================] - 0s 1ms/step\n"
     ]
    },
    {
     "data": {
      "text/plain": [
       "<matplotlib.image.AxesImage at 0x154c902c1b70>"
      ]
     },
     "execution_count": 41,
     "metadata": {},
     "output_type": "execute_result"
    },
    {
     "data": {
      "image/png": "[encoded data removed]",
      "text/plain": [
       "<Figure size 640x480 with 1 Axes>"
      ]
     },
     "metadata": {},
     "output_type": "display_data"
    }
   ],
   "source": [
    "epochs = 100\n",
    "\n",
    "for epoch in range(epochs):\n",
    "    \n",
    "    # Train Discriminator\n",
    "    noise = np.random.normal(0, 1, (BATCH_SIZE, LATENT_DIM))\n",
    "    \n",
    "    fake_redshift = np.random.uniform(0, 2, (BATCH_SIZE, 1))\n",
    "    fake_labels = np.zeros((BATCH_SIZE, 1))\n",
    "    fake_images = generator.predict([noise, fake_redshift])\n",
    "    \n",
    "    real_images, real_redshift = next_batch() # Get a batch of real images\n",
    "    real_labels = np.ones((BATCH_SIZE, 1))\n",
    "    \n",
    "    labels = np.vstack([real_labels, fake_labels])\n",
    "    redshifts = np.vstack([real_redshift, fake_redshift])\n",
    "    images = np.vstack([real_images, fake_images])\n",
    "    \n",
    "    d_loss = discriminator.train_on_batch([images, redshifts], labels);\n",
    "    \n",
    "    # Train Generator\n",
    "    noise = np.random.normal(0, 1, (BATCH_SIZE, LATENT_DIM))\n",
    "    fake_redshift = np.random.uniform(0, 2, (BATCH_SIZE, 1)) # a vector of fake redshift to input the generator\n",
    "    g_loss = gan.train_on_batch([noise, fake_redshift], real_labels); # train the generator\n",
    "    \n",
    "    if epoch % 5 == 0:\n",
    "        print(f\"Epoch {epoch}, Discriminator Loss: {d_loss}, Generator Loss: {g_loss}\")\n",
    "        \n",
    "plt.imshow(fake_images[0][4])"
   ]
  },
  {
   "cell_type": "code",
   "execution_count": 42,
   "id": "3665cc85-365d-4100-b1f8-f903d1700585",
   "metadata": {},
   "outputs": [],
   "source": [
    "model_name = 'gan'\n",
    "\n",
    "weights_path = os.path.join('/data/tuando/models/', model_name) + '/weights'"
   ]
  },
  {
   "cell_type": "code",
   "execution_count": 43,
   "id": "0a660ffa-3a95-4939-8d1a-6d1f5fc6566e",
   "metadata": {},
   "outputs": [],
   "source": [
    "gan.save_weights(weights_path)"
   ]
  },
  {
   "cell_type": "code",
   "execution_count": 44,
   "id": "6cc0b28f-846a-434d-9ec0-8cf03f1baa3a",
   "metadata": {},
   "outputs": [
    {
     "data": {
      "text/plain": [
       "<tensorflow.python.training.tracking.util.CheckpointLoadStatus at 0x154d39545900>"
      ]
     },
     "execution_count": 44,
     "metadata": {},
     "output_type": "execute_result"
    }
   ],
   "source": [
    "gan.load_weights(weights_path)"
   ]
  },
  {
   "cell_type": "code",
   "execution_count": 45,
   "id": "63042c4d-6123-4f21-b4f7-52ef8c2fb98b",
   "metadata": {},
   "outputs": [],
   "source": [
    "model_name = 'discriminator'\n",
    "\n",
    "weights_path = os.path.join('/data/tuando/models/', model_name) + '/weights'"
   ]
  },
  {
   "cell_type": "code",
   "execution_count": 46,
   "id": "efbfd77f-e729-4f66-8d74-48139ffe2828",
   "metadata": {},
   "outputs": [],
   "source": [
    "discriminator.save_weights(weights_path)"
   ]
  },
  {
   "cell_type": "code",
   "execution_count": 47,
   "id": "96062427-c157-4b89-9d7f-d2d8c93e5e84",
   "metadata": {},
   "outputs": [
    {
     "data": {
      "text/plain": [
       "<tensorflow.python.training.tracking.util.CheckpointLoadStatus at 0x154c89b341c0>"
      ]
     },
     "execution_count": 47,
     "metadata": {},
     "output_type": "execute_result"
    }
   ],
   "source": [
    "discriminator.load_weights(weights_path)"
   ]
  },
  {
   "cell_type": "code",
   "execution_count": 12,
   "id": "50ccccae",
   "metadata": {},
   "outputs": [],
   "source": [
    "# END"
   ]
  }
 ],
 "metadata": {
  "kernelspec": {
   "display_name": "Python (photoz)",
   "language": "python",
   "name": "photoz"
  },
  "language_info": {
   "codemirror_mode": {
    "name": "ipython",
    "version": 3
   },
   "file_extension": ".py",
   "mimetype": "text/x-python",
   "name": "python",
   "nbconvert_exporter": "python",
   "pygments_lexer": "ipython3",
   "version": "3.10.12"
  }
 },
 "nbformat": 4,
 "nbformat_minor": 5
}
