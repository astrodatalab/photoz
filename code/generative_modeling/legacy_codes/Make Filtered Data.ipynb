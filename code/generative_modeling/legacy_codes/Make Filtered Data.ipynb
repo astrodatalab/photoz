{
 "cells": [
  {
   "cell_type": "code",
   "execution_count": 4,
   "id": "9110656c",
   "metadata": {},
   "outputs": [],
   "source": [
    "import sys,os\n",
    "import numpy as np\n",
    "import pandas as pd\n",
    "import photoz_utils\n",
    "import random\n",
    "import h5py\n",
    "import make_data"
   ]
  },
  {
   "cell_type": "code",
   "execution_count": 5,
   "id": "9da0a58f-60cd-461e-8e79-d7c2bdc10511",
   "metadata": {},
   "outputs": [
    {
     "name": "stdout",
     "output_type": "stream",
     "text": [
      "output /data/HSC/HSC_v6/step3A/64x64_training_z_less_than_2_normalized.hdf5\n",
      "(178741, 5, 64, 64)\n"
     ]
    }
   ],
   "source": [
    "def make_hsc_v6_normalized():\n",
    "    current_file = '/data/HSC/HSC_v6/step3A/64x64_training_z_less_than_2.hdf5'\n",
    "    hf = h5py.File(current_file, 'r')\n",
    "    y_train = np.asarray(hf['specz_redshift'][0 : ])[..., None]\n",
    "    inds = np.arange(len(y_train)) # Use np.arange instead of manually building inds\n",
    "    outfile = f'/data/HSC/HSC_v6/step3A/64x64_training_z_less_than_2_normalized.hdf5'\n",
    "\n",
    "    f = h5py.File(outfile, 'a')\n",
    "    print('output', outfile)\n",
    "    for k in hf.keys():\n",
    "        tmp = np.array(hf[k]) # Convert to numpy array to allow modification\n",
    "\n",
    "        if k == 'image':\n",
    "            print(tmp.shape)\n",
    "            l = len(tmp)\n",
    "            for i in range(0, l):\n",
    "                min_val = np.amin(tmp[i])\n",
    "                max_val = np.amax(tmp[i])\n",
    "                range_val = max_val - min_val\n",
    "                if range_val != 0:  # Avoid division by zero\n",
    "                    tmp[i] = (tmp[i] - min_val) / range_val\n",
    "\n",
    "        s = list(tmp.shape)\n",
    "        s[0] = len(inds)\n",
    "        dset = f.create_dataset(k, shape=s, dtype=tmp.dtype)\n",
    "        dset.write_direct(tmp[inds])\n",
    "\n",
    "    f.close()\n",
    "\n",
    "make_hsc_v6_normalized()"
   ]
  },
  {
   "cell_type": "code",
   "execution_count": 6,
   "id": "0ce65c7f-a2f3-4ca3-a6f8-758b493ab557",
   "metadata": {},
   "outputs": [
    {
     "name": "stdout",
     "output_type": "stream",
     "text": [
      "output /data/HSC/HSC_v6/step3A/64x64_testing_z_less_than_2_normalized.hdf5\n",
      "(35687, 5, 64, 64)\n"
     ]
    }
   ],
   "source": [
    "def make_hsc_v6_normalized():\n",
    "    current_file = '/data/HSC/HSC_v6/step3A/64x64_testing_z_less_than_2.hdf5'\n",
    "    hf = h5py.File(current_file, 'r')\n",
    "    y_train = np.asarray(hf['specz_redshift'][0 : ])[..., None]\n",
    "    inds = np.arange(len(y_train)) # Use np.arange instead of manually building inds\n",
    "    outfile = f'/data/HSC/HSC_v6/step3A/64x64_testing_z_less_than_2_normalized.hdf5'\n",
    "\n",
    "    f = h5py.File(outfile, 'a')\n",
    "    print('output', outfile)\n",
    "    for k in hf.keys():\n",
    "        tmp = np.array(hf[k]) # Convert to numpy array to allow modification\n",
    "\n",
    "        if k == 'image':\n",
    "            print(tmp.shape)\n",
    "            l = len(tmp)\n",
    "            for i in range(0, l):\n",
    "                min_val = np.amin(tmp[i])\n",
    "                max_val = np.amax(tmp[i])\n",
    "                range_val = max_val - min_val\n",
    "                if range_val != 0:  # Avoid division by zero\n",
    "                    tmp[i] = (tmp[i] - min_val) / range_val\n",
    "\n",
    "        s = list(tmp.shape)\n",
    "        s[0] = len(inds)\n",
    "        dset = f.create_dataset(k, shape=s, dtype=tmp.dtype)\n",
    "        dset.write_direct(tmp[inds])\n",
    "\n",
    "    f.close()\n",
    "\n",
    "make_hsc_v6_normalized()"
   ]
  },
  {
   "cell_type": "code",
   "execution_count": 7,
   "id": "0ac6e406-ff95-4714-8bb6-cc174e9b189a",
   "metadata": {},
   "outputs": [
    {
     "name": "stdout",
     "output_type": "stream",
     "text": [
      "output /data/HSC/HSC_v6/step3A/64x64_validation_z_less_than_2_normalized.hdf5\n",
      "(35798, 5, 64, 64)\n"
     ]
    }
   ],
   "source": [
    "def make_hsc_v6_normalized():\n",
    "    current_file = '/data/HSC/HSC_v6/step3A/64x64_validation_z_less_than_2.hdf5'\n",
    "    hf = h5py.File(current_file, 'r')\n",
    "    y_train = np.asarray(hf['specz_redshift'][0 : ])[..., None]\n",
    "    inds = np.arange(len(y_train)) # Use np.arange instead of manually building inds\n",
    "    outfile = f'/data/HSC/HSC_v6/step3A/64x64_validation_z_less_than_2_normalized.hdf5'\n",
    "\n",
    "    f = h5py.File(outfile, 'a')\n",
    "    print('output', outfile)\n",
    "    for k in hf.keys():\n",
    "        tmp = np.array(hf[k]) # Convert to numpy array to allow modification\n",
    "\n",
    "        if k == 'image':\n",
    "            print(tmp.shape)\n",
    "            l = len(tmp)\n",
    "            for i in range(0, l):\n",
    "                min_val = np.amin(tmp[i])\n",
    "                max_val = np.amax(tmp[i])\n",
    "                range_val = max_val - min_val\n",
    "                if range_val != 0:  # Avoid division by zero\n",
    "                    tmp[i] = (tmp[i] - min_val) / range_val\n",
    "\n",
    "        s = list(tmp.shape)\n",
    "        s[0] = len(inds)\n",
    "        dset = f.create_dataset(k, shape=s, dtype=tmp.dtype)\n",
    "        dset.write_direct(tmp[inds])\n",
    "\n",
    "    f.close()\n",
    "\n",
    "make_hsc_v6_normalized()"
   ]
  },
  {
   "cell_type": "code",
   "execution_count": null,
   "id": "2dcc5793",
   "metadata": {},
   "outputs": [],
   "source": [
    "make_data.make_hsc_v6_small_z(2)"
   ]
  },
  {
   "cell_type": "code",
   "execution_count": null,
   "id": "aa03495f-3968-41f6-8a37-4b9534d8cd7a",
   "metadata": {},
   "outputs": [],
   "source": [
    "make_data.make_hsc_v6_large_z(2)"
   ]
  },
  {
   "cell_type": "code",
   "execution_count": null,
   "id": "af4efbb9",
   "metadata": {},
   "outputs": [],
   "source": [
    "make_data.make_hsc_v6_large_z(cap = 3)"
   ]
  },
  {
   "cell_type": "code",
   "execution_count": null,
   "id": "4d87bcc1",
   "metadata": {},
   "outputs": [],
   "source": [
    "make_data.make_hsc_v6_large()"
   ]
  },
  {
   "cell_type": "code",
   "execution_count": null,
   "id": "05838316",
   "metadata": {},
   "outputs": [],
   "source": [
    "make_data.make_hsc_v6_small_hdf()"
   ]
  },
  {
   "cell_type": "code",
   "execution_count": null,
   "id": "e6f46d02",
   "metadata": {},
   "outputs": [],
   "source": [
    "make_data.make_hsc_v6_small_hdf_single()"
   ]
  },
  {
   "cell_type": "code",
   "execution_count": null,
   "id": "75b282e7",
   "metadata": {},
   "outputs": [],
   "source": [
    "# END"
   ]
  }
 ],
 "metadata": {
  "kernelspec": {
   "display_name": "Python 3 (ipykernel)",
   "language": "python",
   "name": "python3"
  },
  "language_info": {
   "codemirror_mode": {
    "name": "ipython",
    "version": 3
   },
   "file_extension": ".py",
   "mimetype": "text/x-python",
   "name": "python",
   "nbconvert_exporter": "python",
   "pygments_lexer": "ipython3",
   "version": "3.10.10"
  }
 },
 "nbformat": 4,
 "nbformat_minor": 5
}
