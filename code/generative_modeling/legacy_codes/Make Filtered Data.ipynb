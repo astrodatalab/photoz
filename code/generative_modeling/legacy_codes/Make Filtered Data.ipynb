{
 "cells": [
  {
   "cell_type": "code",
   "execution_count": 1,
   "id": "9110656c",
   "metadata": {},
   "outputs": [],
   "source": [
    "import make_data"
   ]
  },
  {
   "cell_type": "code",
   "execution_count": 3,
   "id": "2dcc5793",
   "metadata": {},
   "outputs": [
    {
     "name": "stdout",
     "output_type": "stream",
     "text": [
      "output /data/HSC/HSC_v6/step3/5x127x127_training_max_2.hdf5\n"
     ]
    }
   ],
   "source": [
    "make_data.make_hsc_v6_large_z_max(2)"
   ]
  },
  {
   "cell_type": "code",
   "execution_count": 4,
   "id": "aa03495f-3968-41f6-8a37-4b9534d8cd7a",
   "metadata": {},
   "outputs": [
    {
     "name": "stdout",
     "output_type": "stream",
     "text": [
      "output /data/HSC/HSC_v6/step3/5x127x127_testing_max_2.hdf5\n"
     ]
    }
   ],
   "source": [
    "make_data.make_hsc_v6_small_z_testing(2)"
   ]
  },
  {
   "cell_type": "code",
   "execution_count": null,
   "id": "af4efbb9",
   "metadata": {},
   "outputs": [],
   "source": [
    "make_data.make_hsc_v6_large_z(cap = 3)"
   ]
  },
  {
   "cell_type": "code",
   "execution_count": null,
   "id": "4d87bcc1",
   "metadata": {},
   "outputs": [],
   "source": [
    "make_data.make_hsc_v6_large()"
   ]
  },
  {
   "cell_type": "code",
   "execution_count": null,
   "id": "05838316",
   "metadata": {},
   "outputs": [],
   "source": [
    "make_data.make_hsc_v6_small_hdf()"
   ]
  },
  {
   "cell_type": "code",
   "execution_count": null,
   "id": "e6f46d02",
   "metadata": {},
   "outputs": [],
   "source": [
    "make_data.make_hsc_v6_small_hdf_single()"
   ]
  },
  {
   "cell_type": "code",
   "execution_count": null,
   "id": "75b282e7",
   "metadata": {},
   "outputs": [],
   "source": [
    "# END"
   ]
  }
 ],
 "metadata": {
  "kernelspec": {
   "display_name": "Python 3 (ipykernel)",
   "language": "python",
   "name": "python3"
  },
  "language_info": {
   "codemirror_mode": {
    "name": "ipython",
    "version": 3
   },
   "file_extension": ".py",
   "mimetype": "text/x-python",
   "name": "python",
   "nbconvert_exporter": "python",
   "pygments_lexer": "ipython3",
   "version": "3.10.10"
  }
 },
 "nbformat": 4,
 "nbformat_minor": 5
}
