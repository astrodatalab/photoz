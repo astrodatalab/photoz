{
 "cells": [
  {
   "cell_type": "code",
   "execution_count": 1,
   "id": "9110656c",
   "metadata": {},
   "outputs": [],
   "source": [
    "import make_data"
   ]
  },
  {
   "cell_type": "code",
   "execution_count": null,
   "id": "2dcc5793",
   "metadata": {},
   "outputs": [],
   "source": [
    "make_data.make_hsc_v6_small_z(2)"
   ]
  },
  {
   "cell_type": "code",
   "execution_count": null,
   "id": "aa03495f-3968-41f6-8a37-4b9534d8cd7a",
   "metadata": {},
   "outputs": [],
   "source": [
    "make_data.make_hsc_v6_large_z(2)"
   ]
  },
  {
   "cell_type": "code",
   "execution_count": null,
   "id": "af4efbb9",
   "metadata": {},
   "outputs": [],
   "source": [
    "make_data.make_hsc_v6_large_z(cap = 3)"
   ]
  },
  {
   "cell_type": "code",
   "execution_count": null,
   "id": "4d87bcc1",
   "metadata": {},
   "outputs": [],
   "source": [
    "make_data.make_hsc_v6_large()"
   ]
  },
  {
   "cell_type": "code",
   "execution_count": 2,
   "id": "05838316",
   "metadata": {},
   "outputs": [
    {
     "name": "stdout",
     "output_type": "stream",
     "text": [
      "/data/HSC/HSC_v6/step3A/64x64_training_z_less_than_2.hdf5 nsamples 10000\n",
      "output /data/HSC/HSC_v6/step3A/64x64_training_z_less_than_2_small.hdf5\n",
      "coord 10000 |S60\n",
      "dec 10000 float64\n",
      "g_cmodel_mag 10000 float64\n",
      "g_cmodel_magsigma 10000 float64\n",
      "i_cmodel_mag 10000 float64\n",
      "i_cmodel_magsigma 10000 float64\n",
      "image 10000 float32\n",
      "object_id 10000 int64\n",
      "r_cmodel_mag 10000 float64\n",
      "r_cmodel_magsigma 10000 float64\n",
      "ra 10000 float64\n",
      "skymap_id 10000 int64\n",
      "specz_dec 10000 float64\n",
      "specz_flag_homogeneous 10000 bool\n",
      "specz_mag_i 10000 float64\n",
      "specz_name 10000 |S64\n",
      "specz_ra 10000 float64\n",
      "specz_redshift 10000 float64\n",
      "specz_redshift_err 10000 float64\n",
      "y_cmodel_mag 10000 float64\n",
      "y_cmodel_magsigma 10000 float64\n",
      "z_cmodel_mag 10000 float64\n",
      "z_cmodel_magsigma 10000 float64\n",
      "/data/HSC/HSC_v6/step3A/64x64_testing_z_less_than_2.hdf5 nsamples 2000\n",
      "output /data/HSC/HSC_v6/step3A/64x64_testing_z_less_than_2_small.hdf5\n",
      "coord 2000 |S60\n",
      "dec 2000 float64\n",
      "g_cmodel_mag 2000 float64\n",
      "g_cmodel_magsigma 2000 float64\n",
      "i_cmodel_mag 2000 float64\n",
      "i_cmodel_magsigma 2000 float64\n",
      "image 2000 float32\n",
      "object_id 2000 int64\n",
      "r_cmodel_mag 2000 float64\n",
      "r_cmodel_magsigma 2000 float64\n",
      "ra 2000 float64\n",
      "skymap_id 2000 int64\n",
      "specz_dec 2000 float64\n",
      "specz_flag_homogeneous 2000 bool\n",
      "specz_mag_i 2000 float64\n",
      "specz_name 2000 |S64\n",
      "specz_ra 2000 float64\n",
      "specz_redshift 2000 float64\n",
      "specz_redshift_err 2000 float64\n",
      "y_cmodel_mag 2000 float64\n",
      "y_cmodel_magsigma 2000 float64\n",
      "z_cmodel_mag 2000 float64\n",
      "z_cmodel_magsigma 2000 float64\n",
      "/data/HSC/HSC_v6/step3A/64x64_validation_z_less_than_2.hdf5 nsamples 2000\n",
      "output /data/HSC/HSC_v6/step3A/64x64_validation_z_less_than_2_small.hdf5\n",
      "coord 2000 |S60\n",
      "dec 2000 float64\n",
      "g_cmodel_mag 2000 float64\n",
      "g_cmodel_magsigma 2000 float64\n",
      "i_cmodel_mag 2000 float64\n",
      "i_cmodel_magsigma 2000 float64\n",
      "image 2000 float32\n",
      "object_id 2000 int64\n",
      "r_cmodel_mag 2000 float64\n",
      "r_cmodel_magsigma 2000 float64\n",
      "ra 2000 float64\n",
      "skymap_id 2000 int64\n",
      "specz_dec 2000 float64\n",
      "specz_flag_homogeneous 2000 bool\n",
      "specz_mag_i 2000 float64\n",
      "specz_name 2000 |S64\n",
      "specz_ra 2000 float64\n",
      "specz_redshift 2000 float64\n",
      "specz_redshift_err 2000 float64\n",
      "y_cmodel_mag 2000 float64\n",
      "y_cmodel_magsigma 2000 float64\n",
      "z_cmodel_mag 2000 float64\n",
      "z_cmodel_magsigma 2000 float64\n"
     ]
    }
   ],
   "source": [
    "make_data.make_hsc_v6_small_hdf()"
   ]
  },
  {
   "cell_type": "code",
   "execution_count": null,
   "id": "e6f46d02",
   "metadata": {},
   "outputs": [],
   "source": [
    "make_data.make_hsc_v6_small_hdf_single()"
   ]
  },
  {
   "cell_type": "code",
   "execution_count": null,
   "id": "75b282e7",
   "metadata": {},
   "outputs": [],
   "source": [
    "# END"
   ]
  }
 ],
 "metadata": {
  "kernelspec": {
   "display_name": "Python 3 (ipykernel)",
   "language": "python",
   "name": "python3"
  },
  "language_info": {
   "codemirror_mode": {
    "name": "ipython",
    "version": 3
   },
   "file_extension": ".py",
   "mimetype": "text/x-python",
   "name": "python",
   "nbconvert_exporter": "python",
   "pygments_lexer": "ipython3",
   "version": "3.10.10"
  }
 },
 "nbformat": 4,
 "nbformat_minor": 5
}
