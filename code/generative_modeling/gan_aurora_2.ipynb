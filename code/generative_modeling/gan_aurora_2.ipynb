{
 "cells": [
  {
   "cell_type": "code",
   "execution_count": 1,
   "id": "d23f862b",
   "metadata": {},
   "outputs": [
    {
     "name": "stderr",
     "output_type": "stream",
     "text": [
      "2023-10-21 16:34:08.590766: I tensorflow/core/platform/cpu_feature_guard.cc:182] This TensorFlow binary is optimized to use available CPU instructions in performance-critical operations.\n",
      "To enable the following instructions: AVX2 FMA, in other operations, rebuild TensorFlow with the appropriate compiler flags.\n",
      "2023-10-21 16:34:09.143378: W tensorflow/compiler/tf2tensorrt/utils/py_utils.cc:38] TF-TRT Warning: Could not find TensorRT\n"
     ]
    }
   ],
   "source": [
    "import sys, os\n",
    "import numpy as np\n",
    "import h5py\n",
    "import random\n",
    "import neptune\n",
    "import matplotlib.pyplot as plt\n",
    "import tensorflow as tf\n",
    "import tensorflow_probability as tfp\n",
    "\n",
    "from tensorflow import keras\n",
    "from tensorflow_probability import layers as tfpl\n",
    "from tensorflow_probability import distributions as tfd\n",
    "from tqdm.notebook import tqdm\n",
    "from tensorflow.keras import Sequential\n",
    "from tensorflow.keras import backend as K\n",
    "from tensorflow.keras.regularizers import l2\n",
    "from tensorflow.keras.models import Model\n",
    "from tensorflow.keras.callbacks import TensorBoard, ModelCheckpoint, ReduceLROnPlateau\n",
    "from tensorflow.keras.layers import Input, RepeatVector, MaxPooling2D, Conv2D, Concatenate, UpSampling2D, Conv2DTranspose, Flatten, Dropout, Dense, BatchNormalization, Activation, Reshape, LeakyReLU\n",
    "from tensorflow.keras.optimizers import Adam\n",
    "from tensorflow.keras.losses import binary_crossentropy\n",
    "from tensorflow_probability.python.distributions import kl_divergence\n",
    "from neptune.integrations.tensorflow_keras import NeptuneCallback\n",
    "from DataMaker import *"
   ]
  },
  {
   "cell_type": "code",
   "execution_count": 4,
   "id": "82e0800d",
   "metadata": {},
   "outputs": [],
   "source": [
    "LATENT_DIM = 128\n",
    "BASE_DEPTH = 8\n",
    "CHANNELS = 5\n",
    "IMAGE_SHAPE = (CHANNELS, 64, 64)\n",
    "BATCH_SIZE = 32 * 10\n",
    "EPOCHS = 250"
   ]
  },
  {
   "cell_type": "code",
   "execution_count": 3,
   "id": "3a44e7a5",
   "metadata": {},
   "outputs": [
    {
     "name": "stdout",
     "output_type": "stream",
     "text": [
      "1 Physical GPUs, 1 Logical GPUs\n"
     ]
    },
    {
     "name": "stderr",
     "output_type": "stream",
     "text": [
      "2023-10-21 16:34:10.153871: I tensorflow/compiler/xla/stream_executor/cuda/cuda_gpu_executor.cc:996] successful NUMA node read from SysFS had negative value (-1), but there must be at least one NUMA node, so returning NUMA node zero. See more at https://github.com/torvalds/linux/blob/v6.0/Documentation/ABI/testing/sysfs-bus-pci#L344-L355\n",
      "2023-10-21 16:34:10.179184: I tensorflow/compiler/xla/stream_executor/cuda/cuda_gpu_executor.cc:996] successful NUMA node read from SysFS had negative value (-1), but there must be at least one NUMA node, so returning NUMA node zero. See more at https://github.com/torvalds/linux/blob/v6.0/Documentation/ABI/testing/sysfs-bus-pci#L344-L355\n",
      "2023-10-21 16:34:10.179388: I tensorflow/compiler/xla/stream_executor/cuda/cuda_gpu_executor.cc:996] successful NUMA node read from SysFS had negative value (-1), but there must be at least one NUMA node, so returning NUMA node zero. See more at https://github.com/torvalds/linux/blob/v6.0/Documentation/ABI/testing/sysfs-bus-pci#L344-L355\n",
      "2023-10-21 16:34:10.181327: I tensorflow/compiler/xla/stream_executor/cuda/cuda_gpu_executor.cc:996] successful NUMA node read from SysFS had negative value (-1), but there must be at least one NUMA node, so returning NUMA node zero. See more at https://github.com/torvalds/linux/blob/v6.0/Documentation/ABI/testing/sysfs-bus-pci#L344-L355\n",
      "2023-10-21 16:34:10.181524: I tensorflow/compiler/xla/stream_executor/cuda/cuda_gpu_executor.cc:996] successful NUMA node read from SysFS had negative value (-1), but there must be at least one NUMA node, so returning NUMA node zero. See more at https://github.com/torvalds/linux/blob/v6.0/Documentation/ABI/testing/sysfs-bus-pci#L344-L355\n",
      "2023-10-21 16:34:10.181716: I tensorflow/compiler/xla/stream_executor/cuda/cuda_gpu_executor.cc:996] successful NUMA node read from SysFS had negative value (-1), but there must be at least one NUMA node, so returning NUMA node zero. See more at https://github.com/torvalds/linux/blob/v6.0/Documentation/ABI/testing/sysfs-bus-pci#L344-L355\n",
      "2023-10-21 16:34:10.697883: I tensorflow/compiler/xla/stream_executor/cuda/cuda_gpu_executor.cc:996] successful NUMA node read from SysFS had negative value (-1), but there must be at least one NUMA node, so returning NUMA node zero. See more at https://github.com/torvalds/linux/blob/v6.0/Documentation/ABI/testing/sysfs-bus-pci#L344-L355\n",
      "2023-10-21 16:34:10.698104: I tensorflow/compiler/xla/stream_executor/cuda/cuda_gpu_executor.cc:996] successful NUMA node read from SysFS had negative value (-1), but there must be at least one NUMA node, so returning NUMA node zero. See more at https://github.com/torvalds/linux/blob/v6.0/Documentation/ABI/testing/sysfs-bus-pci#L344-L355\n",
      "2023-10-21 16:34:10.698244: I tensorflow/compiler/xla/stream_executor/cuda/cuda_gpu_executor.cc:996] successful NUMA node read from SysFS had negative value (-1), but there must be at least one NUMA node, so returning NUMA node zero. See more at https://github.com/torvalds/linux/blob/v6.0/Documentation/ABI/testing/sysfs-bus-pci#L344-L355\n",
      "2023-10-21 16:34:10.698354: I tensorflow/core/common_runtime/gpu/gpu_device.cc:1635] Created device /job:localhost/replica:0/task:0/device:GPU:0 with 20000 MB memory:  -> device: 0, name: NVIDIA RTX A6000, pci bus id: 0000:61:00.0, compute capability: 8.6\n"
     ]
    }
   ],
   "source": [
    "gpus = tf.config.list_physical_devices('GPU');\n",
    "if gpus:\n",
    "    try:\n",
    "        tf.config.experimental.set_virtual_device_configuration(\n",
    "            gpus[0],\n",
    "            [tf.config.experimental.VirtualDeviceConfiguration(memory_limit = 20000)]);\n",
    "        logical_gpus = tf.config.experimental.list_logical_devices('GPU');\n",
    "        print(len(gpus), \"Physical GPUs,\", len(logical_gpus), \"Logical GPUs\")\n",
    "    except RuntimeError as e:\n",
    "        print(e)"
   ]
  },
  {
   "cell_type": "code",
   "execution_count": 5,
   "id": "cbc0eecd",
   "metadata": {},
   "outputs": [
    {
     "name": "stdout",
     "output_type": "stream",
     "text": [
      "(320, 5, 64, 64)\n",
      "(320,)\n"
     ]
    }
   ],
   "source": [
    "channels = 5\n",
    "BATCH_SIZE = 32\n",
    "\n",
    "TRAIN_PATH = f'/data/HSC/HSC_v6/step2A/64x64/5x64x64_training.hdf5'\n",
    "TEST_PATH = f'/data/HSC/HSC_v6/step2A/64x64/5x64x64_testing.hdf5'\n",
    "\n",
    "gen_args = {\n",
    "    'X_key': 'image',\n",
    "    'y_key': 'specz_redshift',\n",
    "    'scaler': False,\n",
    "    'labels_encoding': False,\n",
    "    'batch_size': BATCH_SIZE,\n",
    "    'shuffle': False}\n",
    "\n",
    "train_gen = HDF5ImageGenerator(TRAIN_PATH, mode = 'train', **gen_args)\n",
    "test_gen = HDF5ImageGenerator(TEST_PATH, mode = 'train', **gen_args)\n",
    "print(train_gen[0][0].shape) # a batch of images\n",
    "print(train_gen[0][1].shape) # a batch of corresponding redshifts"
   ]
  },
  {
   "cell_type": "code",
   "execution_count": 7,
   "id": "bbf416fd-e625-4f31-9a7d-1ccde69b7591",
   "metadata": {},
   "outputs": [],
   "source": [
    "batch_count = 0\n",
    "def next_batch():\n",
    "    global batch_count\n",
    "    train_set = train_gen[batch_count]\n",
    "    x_train = np.asarray(train_set[0])\n",
    "    y_train = train_set[1]\n",
    "    batch_count = batch_count + 1\n",
    "    if batch_count == len(train_gen) - 1:\n",
    "        batch_count = 0\n",
    "    return x_train, y_train"
   ]
  },
  {
   "cell_type": "code",
   "execution_count": 8,
   "id": "3446dc25-6d3c-4f10-80f3-a308c6265422",
   "metadata": {},
   "outputs": [],
   "source": [
    "def build_generator(LATENT_DIM):\n",
    "    noise = Input(shape = (LATENT_DIM,))\n",
    "    label = Input(shape = (1,), dtype = 'float32')\n",
    "    label_embedding = Dense(LATENT_DIM)(label)\n",
    "    model_input = Concatenate()([noise, label_embedding])\n",
    "    \n",
    "    x = Dense(512, activation = \"relu\", kernel_regularizer = l2(0.01))(model_input)\n",
    "    x = Dropout(0.2)(x)\n",
    "    x = Dense(512, activation = \"relu\", kernel_regularizer = l2(0.01))(x)\n",
    "    x = Dropout(0.2)(x)\n",
    "    x = Dense(128 * 16 * 16 + 64 * 16 * 16 + 32 * 32 * 32, activation = \"relu\")(x)\n",
    "    x = Dropout(0.2)(x)\n",
    "    dense1, dense2, dense3 = tf.split(x, [128 * 16 * 16, 64 * 16 * 16, 32 * 32 * 32], axis = 1)\n",
    "    reshape1 = Reshape((128, 16, 16))(dense1)\n",
    "    reshape2 = Reshape((64, 16, 16))(dense2)\n",
    "    reshape3 = Reshape((32, 32, 32))(dense3)\n",
    "    reshape1 = Dropout(0.2)(reshape1)\n",
    "    reshape2 = Dropout(0.2)(reshape2)\n",
    "    reshape3 = Dropout(0.2)(reshape3)\n",
    "    up1 = UpSampling2D(size = (2, 2), data_format = 'channels_first')(reshape1)\n",
    "    up1 = Dropout(0.2)(up1)\n",
    "    conv1 = Conv2D(64, (3, 3), activation = 'relu', padding = 'same', data_format = 'channels_first', kernel_regularizer = l2(0.001))(up1)\n",
    "    conv1 = Dropout(0.3)(conv1)\n",
    "    up2 = UpSampling2D(size = (2, 2), data_format = 'channels_first')(reshape2)\n",
    "    up2 = Dropout(0.2)(up2)\n",
    "    conv2 = Conv2D(32, (3, 3), activation = 'relu', padding = 'same', data_format = 'channels_first', kernel_regularizer = l2(0.001))(up2 + conv1)\n",
    "    conv2 = Dropout(0.3)(conv2)\n",
    "    up3 = UpSampling2D(size = (2, 2), data_format = 'channels_first')(reshape3 + conv2)\n",
    "    up3 = Dropout(0.2)(up3)\n",
    "    conv3 = Conv2D(5, (3, 3), activation = 'relu', padding = 'same', data_format = 'channels_first', kernel_regularizer = l2(0.001))(up3)\n",
    "    conv3 = Dropout(0.3)(conv3)\n",
    "    \n",
    "    outputs = Reshape(IMAGE_SHAPE)(conv3)\n",
    "    \n",
    "    model = Model([noise, label], outputs)\n",
    "    return model"
   ]
  },
  {
   "cell_type": "code",
   "execution_count": 9,
   "id": "c3d19e8c-1ff2-4dba-8ac8-d92d09a948dc",
   "metadata": {},
   "outputs": [],
   "source": [
    "def build_discriminator(IMAGE_SHAPE):\n",
    "    img = Input(shape = IMAGE_SHAPE)\n",
    "    label = Input(shape = (1,), dtype = 'float32')\n",
    "\n",
    "    label_embedding = Dense(np.prod(IMAGE_SHAPE))(label)\n",
    "    label_embedding = Reshape(IMAGE_SHAPE)(label_embedding)\n",
    "    \n",
    "    merged_input = Concatenate(axis = 1)([img, label_embedding]) # Concatenate along channels\n",
    "\n",
    "    conv1 = Conv2D(32, 3, strides = 2, padding = 'same', data_format = 'channels_first', kernel_regularizer = l2(0.001))(merged_input)\n",
    "    conv1 = BatchNormalization()(conv1)\n",
    "    conv1 = LeakyReLU(alpha = 0.2)(conv1)\n",
    "    conv1 = Dropout(0.2)(conv1)\n",
    "    conv2 = Conv2D(64, 3, strides = 2, padding = 'same', data_format = 'channels_first', kernel_regularizer = l2(0.001))(conv1)\n",
    "    conv2 = BatchNormalization()(conv2)\n",
    "    conv2 = LeakyReLU(alpha = 0.2)(conv2)\n",
    "    conv2 = Dropout(0.2)(conv2)\n",
    "    conv3 = Conv2D(128, 2, strides = 1, padding = 'same', data_format = 'channels_first', kernel_regularizer = l2(0.001))(conv2)\n",
    "    conv3 = BatchNormalization()(conv3)\n",
    "    conv3 = LeakyReLU(alpha = 0.2)(conv3)\n",
    "    conv3 = Dropout(0.2)(conv3)\n",
    "    flatten1 = Flatten()(conv1)\n",
    "    flatten2 = Flatten()(conv2)\n",
    "    flatten3 = Flatten()(conv3)\n",
    "    flatten1 = Dropout(0.2)(flatten1)\n",
    "    flatten2 = Dropout(0.2)(flatten2)\n",
    "    flatten3 = Dropout(0.2)(flatten3)\n",
    "    concat = Concatenate()([flatten1, flatten2, flatten3])\n",
    "    x = Dense(512, activation = \"relu\", kernel_regularizer = l2(0.001))(concat)\n",
    "    x = Dropout(0.2)(x)\n",
    "    x = Dense(512, activation = \"relu\", kernel_regularizer = l2(0.001))(x)\n",
    "    x = Dropout(0.2)(x)\n",
    "    outputs = Dense(1, activation = 'sigmoid')(x)\n",
    "\n",
    "    model = Model([img, label], outputs)\n",
    "    return model"
   ]
  },
  {
   "cell_type": "code",
   "execution_count": 10,
   "id": "ac0656b3-3405-4c91-a58a-20072034b3d9",
   "metadata": {},
   "outputs": [],
   "source": [
    "def build_gan(generator, discriminator):\n",
    "    \n",
    "    discriminator.compile(optimizer = Adam(learning_rate = 1e-5), loss = 'binary_crossentropy', metrics = ['accuracy'])\n",
    "    discriminator.trainable = False\n",
    "\n",
    "    noise = Input(shape = (LATENT_DIM,))\n",
    "    label = Input(shape = (1,))\n",
    "    img = generator([noise, label])\n",
    "    fake_pred = discriminator([img, label])\n",
    "\n",
    "    combined_model = Model([noise, label], fake_pred)\n",
    "    combined_model.compile(optimizer = Adam(learning_rate = 1e-5), loss = 'binary_crossentropy')\n",
    "    return combined_model"
   ]
  },
  {
   "cell_type": "code",
   "execution_count": 11,
   "id": "612784c9-bb37-4e44-acd0-ec361412827c",
   "metadata": {},
   "outputs": [],
   "source": [
    "generator = build_generator(LATENT_DIM)\n",
    "discriminator = build_discriminator(IMAGE_SHAPE)\n",
    "gan = build_gan(generator, discriminator)"
   ]
  },
  {
   "cell_type": "code",
   "execution_count": 12,
   "id": "98160f52-98a9-47c7-9bc1-dd9f3ff429e1",
   "metadata": {},
   "outputs": [
    {
     "name": "stdout",
     "output_type": "stream",
     "text": [
      "Model: \"model\"\n",
      "__________________________________________________________________________________________________\n",
      " Layer (type)                   Output Shape         Param #     Connected to                     \n",
      "==================================================================================================\n",
      " input_2 (InputLayer)           [(None, 1)]          0           []                               \n",
      "                                                                                                  \n",
      " input_1 (InputLayer)           [(None, 128)]        0           []                               \n",
      "                                                                                                  \n",
      " dense (Dense)                  (None, 128)          256         ['input_2[0][0]']                \n",
      "                                                                                                  \n",
      " concatenate (Concatenate)      (None, 256)          0           ['input_1[0][0]',                \n",
      "                                                                  'dense[0][0]']                  \n",
      "                                                                                                  \n",
      " dense_1 (Dense)                (None, 512)          131584      ['concatenate[0][0]']            \n",
      "                                                                                                  \n",
      " dropout (Dropout)              (None, 512)          0           ['dense_1[0][0]']                \n",
      "                                                                                                  \n",
      " dense_2 (Dense)                (None, 512)          262656      ['dropout[0][0]']                \n",
      "                                                                                                  \n",
      " dropout_1 (Dropout)            (None, 512)          0           ['dense_2[0][0]']                \n",
      "                                                                                                  \n",
      " dense_3 (Dense)                (None, 81920)        42024960    ['dropout_1[0][0]']              \n",
      "                                                                                                  \n",
      " dropout_2 (Dropout)            (None, 81920)        0           ['dense_3[0][0]']                \n",
      "                                                                                                  \n",
      " tf.split (TFOpLambda)          [(None, 32768),      0           ['dropout_2[0][0]']              \n",
      "                                 (None, 16384),                                                   \n",
      "                                 (None, 32768)]                                                   \n",
      "                                                                                                  \n",
      " reshape (Reshape)              (None, 128, 16, 16)  0           ['tf.split[0][0]']               \n",
      "                                                                                                  \n",
      " dropout_3 (Dropout)            (None, 128, 16, 16)  0           ['reshape[0][0]']                \n",
      "                                                                                                  \n",
      " reshape_1 (Reshape)            (None, 64, 16, 16)   0           ['tf.split[0][1]']               \n",
      "                                                                                                  \n",
      " up_sampling2d (UpSampling2D)   (None, 128, 32, 32)  0           ['dropout_3[0][0]']              \n",
      "                                                                                                  \n",
      " dropout_4 (Dropout)            (None, 64, 16, 16)   0           ['reshape_1[0][0]']              \n",
      "                                                                                                  \n",
      " dropout_6 (Dropout)            (None, 128, 32, 32)  0           ['up_sampling2d[0][0]']          \n",
      "                                                                                                  \n",
      " up_sampling2d_1 (UpSampling2D)  (None, 64, 32, 32)  0           ['dropout_4[0][0]']              \n",
      "                                                                                                  \n",
      " conv2d (Conv2D)                (None, 64, 32, 32)   73792       ['dropout_6[0][0]']              \n",
      "                                                                                                  \n",
      " dropout_8 (Dropout)            (None, 64, 32, 32)   0           ['up_sampling2d_1[0][0]']        \n",
      "                                                                                                  \n",
      " dropout_7 (Dropout)            (None, 64, 32, 32)   0           ['conv2d[0][0]']                 \n",
      "                                                                                                  \n",
      " tf.__operators__.add (TFOpLamb  (None, 64, 32, 32)  0           ['dropout_8[0][0]',              \n",
      " da)                                                              'dropout_7[0][0]']              \n",
      "                                                                                                  \n",
      " reshape_2 (Reshape)            (None, 32, 32, 32)   0           ['tf.split[0][2]']               \n",
      "                                                                                                  \n",
      " conv2d_1 (Conv2D)              (None, 32, 32, 32)   18464       ['tf.__operators__.add[0][0]']   \n",
      "                                                                                                  \n",
      " dropout_5 (Dropout)            (None, 32, 32, 32)   0           ['reshape_2[0][0]']              \n",
      "                                                                                                  \n",
      " dropout_9 (Dropout)            (None, 32, 32, 32)   0           ['conv2d_1[0][0]']               \n",
      "                                                                                                  \n",
      " tf.__operators__.add_1 (TFOpLa  (None, 32, 32, 32)  0           ['dropout_5[0][0]',              \n",
      " mbda)                                                            'dropout_9[0][0]']              \n",
      "                                                                                                  \n",
      " up_sampling2d_2 (UpSampling2D)  (None, 32, 64, 64)  0           ['tf.__operators__.add_1[0][0]'] \n",
      "                                                                                                  \n",
      " dropout_10 (Dropout)           (None, 32, 64, 64)   0           ['up_sampling2d_2[0][0]']        \n",
      "                                                                                                  \n",
      " conv2d_2 (Conv2D)              (None, 5, 64, 64)    1445        ['dropout_10[0][0]']             \n",
      "                                                                                                  \n",
      " dropout_11 (Dropout)           (None, 5, 64, 64)    0           ['conv2d_2[0][0]']               \n",
      "                                                                                                  \n",
      " reshape_3 (Reshape)            (None, 5, 64, 64)    0           ['dropout_11[0][0]']             \n",
      "                                                                                                  \n",
      "==================================================================================================\n",
      "Total params: 42,513,157\n",
      "Trainable params: 42,513,157\n",
      "Non-trainable params: 0\n",
      "__________________________________________________________________________________________________\n",
      "Model: \"model_1\"\n",
      "__________________________________________________________________________________________________\n",
      " Layer (type)                   Output Shape         Param #     Connected to                     \n",
      "==================================================================================================\n",
      " input_4 (InputLayer)           [(None, 1)]          0           []                               \n",
      "                                                                                                  \n",
      " dense_4 (Dense)                (None, 20480)        40960       ['input_4[0][0]']                \n",
      "                                                                                                  \n",
      " input_3 (InputLayer)           [(None, 5, 64, 64)]  0           []                               \n",
      "                                                                                                  \n",
      " reshape_4 (Reshape)            (None, 5, 64, 64)    0           ['dense_4[0][0]']                \n",
      "                                                                                                  \n",
      " concatenate_1 (Concatenate)    (None, 10, 64, 64)   0           ['input_3[0][0]',                \n",
      "                                                                  'reshape_4[0][0]']              \n",
      "                                                                                                  \n",
      " conv2d_3 (Conv2D)              (None, 32, 32, 32)   2912        ['concatenate_1[0][0]']          \n",
      "                                                                                                  \n",
      " batch_normalization (BatchNorm  (None, 32, 32, 32)  128         ['conv2d_3[0][0]']               \n",
      " alization)                                                                                       \n",
      "                                                                                                  \n",
      " leaky_re_lu (LeakyReLU)        (None, 32, 32, 32)   0           ['batch_normalization[0][0]']    \n",
      "                                                                                                  \n",
      " dropout_12 (Dropout)           (None, 32, 32, 32)   0           ['leaky_re_lu[0][0]']            \n",
      "                                                                                                  \n",
      " conv2d_4 (Conv2D)              (None, 64, 16, 16)   18496       ['dropout_12[0][0]']             \n",
      "                                                                                                  \n",
      " batch_normalization_1 (BatchNo  (None, 64, 16, 16)  64          ['conv2d_4[0][0]']               \n",
      " rmalization)                                                                                     \n",
      "                                                                                                  \n",
      " leaky_re_lu_1 (LeakyReLU)      (None, 64, 16, 16)   0           ['batch_normalization_1[0][0]']  \n",
      "                                                                                                  \n",
      " dropout_13 (Dropout)           (None, 64, 16, 16)   0           ['leaky_re_lu_1[0][0]']          \n",
      "                                                                                                  \n",
      " conv2d_5 (Conv2D)              (None, 128, 16, 16)  32896       ['dropout_13[0][0]']             \n",
      "                                                                                                  \n",
      " batch_normalization_2 (BatchNo  (None, 128, 16, 16)  64         ['conv2d_5[0][0]']               \n",
      " rmalization)                                                                                     \n",
      "                                                                                                  \n",
      " leaky_re_lu_2 (LeakyReLU)      (None, 128, 16, 16)  0           ['batch_normalization_2[0][0]']  \n",
      "                                                                                                  \n",
      " dropout_14 (Dropout)           (None, 128, 16, 16)  0           ['leaky_re_lu_2[0][0]']          \n",
      "                                                                                                  \n",
      " flatten (Flatten)              (None, 32768)        0           ['dropout_12[0][0]']             \n",
      "                                                                                                  \n",
      " flatten_1 (Flatten)            (None, 16384)        0           ['dropout_13[0][0]']             \n",
      "                                                                                                  \n",
      " flatten_2 (Flatten)            (None, 32768)        0           ['dropout_14[0][0]']             \n",
      "                                                                                                  \n",
      " dropout_15 (Dropout)           (None, 32768)        0           ['flatten[0][0]']                \n",
      "                                                                                                  \n",
      " dropout_16 (Dropout)           (None, 16384)        0           ['flatten_1[0][0]']              \n",
      "                                                                                                  \n",
      " dropout_17 (Dropout)           (None, 32768)        0           ['flatten_2[0][0]']              \n",
      "                                                                                                  \n",
      " concatenate_2 (Concatenate)    (None, 81920)        0           ['dropout_15[0][0]',             \n",
      "                                                                  'dropout_16[0][0]',             \n",
      "                                                                  'dropout_17[0][0]']             \n",
      "                                                                                                  \n",
      " dense_5 (Dense)                (None, 512)          41943552    ['concatenate_2[0][0]']          \n",
      "                                                                                                  \n",
      " dropout_18 (Dropout)           (None, 512)          0           ['dense_5[0][0]']                \n",
      "                                                                                                  \n",
      " dense_6 (Dense)                (None, 512)          262656      ['dropout_18[0][0]']             \n",
      "                                                                                                  \n",
      " dropout_19 (Dropout)           (None, 512)          0           ['dense_6[0][0]']                \n",
      "                                                                                                  \n",
      " dense_7 (Dense)                (None, 1)            513         ['dropout_19[0][0]']             \n",
      "                                                                                                  \n",
      "==================================================================================================\n",
      "Total params: 42,302,241\n",
      "Trainable params: 0\n",
      "Non-trainable params: 42,302,241\n",
      "__________________________________________________________________________________________________\n"
     ]
    }
   ],
   "source": [
    "generator.summary()\n",
    "discriminator.summary()"
   ]
  },
  {
   "cell_type": "code",
   "execution_count": 13,
   "id": "d1be3ce1-0783-4f66-bcc0-f2869edb34cc",
   "metadata": {},
   "outputs": [
    {
     "data": {
      "application/vnd.jupyter.widget-view+json": {
       "model_id": "c78933b47d2a47bf95f716507888b2d0",
       "version_major": 2,
       "version_minor": 0
      },
      "text/plain": [
       "  0%|          | 0/10 [00:00<?, ?it/s]"
      ]
     },
     "metadata": {},
     "output_type": "display_data"
    },
    {
     "name": "stderr",
     "output_type": "stream",
     "text": [
      "2023-10-21 16:27:50.803578: I tensorflow/compiler/xla/stream_executor/cuda/cuda_blas.cc:637] TensorFloat-32 will be used for the matrix multiplication. This will only be logged once.\n",
      "2023-10-21 16:27:50.925084: I tensorflow/compiler/xla/stream_executor/cuda/cuda_dnn.cc:424] Loaded cuDNN version 8600\n",
      "2023-10-21 16:27:51.622321: I tensorflow/tsl/platform/default/subprocess.cc:304] Start cannot spawn child process: No such file or directory\n",
      "2023-10-21 16:27:52.683243: E tensorflow/core/grappler/optimizers/meta_optimizer.cc:954] layout failed: INVALID_ARGUMENT: Size of values 0 does not match size of permutation 4 @ fanin shape inmodel_1/dropout_12/dropout/SelectV2-2-TransposeNHWCToNCHW-LayoutOptimizer\n",
      "2023-10-21 16:27:53.030355: I tensorflow/compiler/xla/service/service.cc:169] XLA service 0x7f12d4157fa0 initialized for platform CUDA (this does not guarantee that XLA will be used). Devices:\n",
      "2023-10-21 16:27:53.030376: I tensorflow/compiler/xla/service/service.cc:177]   StreamExecutor device (0): NVIDIA RTX A6000, Compute Capability 8.6\n",
      "2023-10-21 16:27:53.034301: I tensorflow/compiler/mlir/tensorflow/utils/dump_mlir_util.cc:269] disabling MLIR crash reproducer, set env var `MLIR_CRASH_REPRODUCER_DIRECTORY` to enable.\n",
      "2023-10-21 16:27:53.096746: I tensorflow/tsl/platform/default/subprocess.cc:304] Start cannot spawn child process: No such file or directory\n",
      "2023-10-21 16:27:53.148212: I ./tensorflow/compiler/jit/device_compiler.h:180] Compiled cluster using XLA!  This line is logged at most once for the lifetime of the process.\n",
      "2023-10-21 16:27:57.376567: E tensorflow/core/grappler/optimizers/meta_optimizer.cc:954] layout failed: INVALID_ARGUMENT: Size of values 0 does not match size of permutation 4 @ fanin shape inmodel_2/model_1/dropout_12/dropout/SelectV2-2-TransposeNHWCToNCHW-LayoutOptimizer\n"
     ]
    },
    {
     "data": {
      "text/plain": [
       "<matplotlib.image.AxesImage at 0x7f1b37fa7850>"
      ]
     },
     "execution_count": 13,
     "metadata": {},
     "output_type": "execute_result"
    },
    {
     "data": {
      "image/png": "[encoded data removed]",
      "text/plain": [
       "<Figure size 640x480 with 1 Axes>"
      ]
     },
     "metadata": {},
     "output_type": "display_data"
    }
   ],
   "source": [
    "epochs = 10\n",
    "\n",
    "for epoch in tqdm(range(epochs)):\n",
    "    \n",
    "    # Train Discriminator\n",
    "    noise = np.random.normal(0, 1, (BATCH_SIZE, LATENT_DIM))\n",
    "    \n",
    "    fake_redshift = np.random.uniform(0, 4, (BATCH_SIZE, 1))\n",
    "    \n",
    "    fake_labels = np.ones((BATCH_SIZE, 1)) * 0.1\n",
    "    indices_to_change = np.random.choice(BATCH_SIZE, size = int(0.30 * BATCH_SIZE), replace = False)\n",
    "    fake_labels[indices_to_change] = 0.9\n",
    "    \n",
    "    fake_images = generator.predict([noise, fake_redshift], verbose = 0)\n",
    "    \n",
    "    # print(fake_images.shape)\n",
    "    \n",
    "    real_images, real_redshift = next_batch() # Get a batch of real images\n",
    "    real_redshift = np.expand_dims(real_redshift, axis = 1)\n",
    "    \n",
    "    real_labels = np.ones((BATCH_SIZE, 1)) * 0.9\n",
    "    indices_to_change = np.random.choice(BATCH_SIZE, size = int(0.30 * BATCH_SIZE), replace = False)\n",
    "    real_labels[indices_to_change] = 0.1\n",
    "    \n",
    "    # print(real_images.shape)\n",
    "    \n",
    "    labels = np.vstack([real_labels, fake_labels])\n",
    "    # print(real_redshift.shape)\n",
    "    # print(fake_redshift.shape)\n",
    "    redshifts = np.vstack([real_redshift, fake_redshift])\n",
    "    # print(real_images.shape)\n",
    "    # print(fake_images.shape)\n",
    "    images = np.vstack([real_images, fake_images])\n",
    "    \n",
    "    # print(images.shape)\n",
    "    \n",
    "    d_loss = discriminator.fit([images, redshifts], labels, batch_size = 32, epochs = 5, shuffle = True, verbose = 0)\n",
    "    \n",
    "    real_labels = np.ones((BATCH_SIZE, 1)) * 0.9\n",
    "    indices_to_change = np.random.choice(BATCH_SIZE, size = int(0.30 * BATCH_SIZE), replace = False)\n",
    "    real_labels[indices_to_change] = 0.1\n",
    "    \n",
    "    # Train Generator\n",
    "    noise = np.random.normal(0, 1, (BATCH_SIZE, LATENT_DIM))\n",
    "    fake_redshift = np.random.uniform(0, 2, (BATCH_SIZE, 1)) # a vector of fake redshift to input the generator\n",
    "    g_loss = gan.fit([noise, fake_redshift], real_labels, batch_size = 32, epochs = 1, shuffle = True, verbose = 0) # train the generator\n",
    "    \n",
    "    # if epoch % 5 == 0:\n",
    "        # print(f\"Epoch {epoch}, Discriminator Loss: {d_loss}, Generator Loss: {g_loss}\")\n",
    "        \n",
    "plt.imshow(fake_images[0][4])"
   ]
  },
  {
   "cell_type": "code",
   "execution_count": 12,
   "id": "f023d8e6-c115-4c3f-af88-bdf27ac4e5a7",
   "metadata": {},
   "outputs": [
    {
     "ename": "SyntaxError",
     "evalue": "invalid syntax (4067800170.py, line 1)",
     "output_type": "error",
     "traceback": [
      "\u001b[0;36m  Cell \u001b[0;32mIn[12], line 1\u001b[0;36m\u001b[0m\n\u001b[0;31m    stop here\u001b[0m\n\u001b[0m         ^\u001b[0m\n\u001b[0;31mSyntaxError\u001b[0m\u001b[0;31m:\u001b[0m invalid syntax\n"
     ]
    }
   ],
   "source": [
    "stop here"
   ]
  },
  {
   "cell_type": "code",
   "execution_count": 14,
   "id": "90e46853-2145-4bb2-8aea-6c4f0a0f6c88",
   "metadata": {},
   "outputs": [
    {
     "name": "stdout",
     "output_type": "stream",
     "text": [
      "63/63 [==============================] - 0s 3ms/step\n"
     ]
    },
    {
     "data": {
      "application/vnd.jupyter.widget-view+json": {
       "model_id": "a83c2940f9ff4963a81d22897a7acd8c",
       "version_major": 2,
       "version_minor": 0
      },
      "text/plain": [
       "  0%|          | 0/1999 [00:00<?, ?it/s]"
      ]
     },
     "metadata": {},
     "output_type": "display_data"
    }
   ],
   "source": [
    "hf = h5py.File('/data/HSC_generated/HSC_generated_v1/step1/64x64/5x64x64_gan_generated_light.hdf5', 'a')\n",
    "fake_redshift = np.random.uniform(0, 4, (2000, 1))\n",
    "noise = np.random.normal(0, 1, (2000, LATENT_DIM))\n",
    "fake_images = generator.predict([noise, fake_redshift])\n",
    "\n",
    "image_g = fake_images[0][0]\n",
    "image_r = fake_images[0][1]\n",
    "image_i = fake_images[0][2]\n",
    "image_z = fake_images[0][3]\n",
    "image_y = fake_images[0][4]\n",
    "    \n",
    "five_band_image = []\n",
    "five_band_image.append(image_g)\n",
    "five_band_image.append(image_r)\n",
    "five_band_image.append(image_i)\n",
    "five_band_image.append(image_z)\n",
    "five_band_image.append(image_y)\n",
    "    \n",
    "five_band_image_reshape = np.reshape(np.array(five_band_image), [1, 5, 64, 64])\n",
    "\n",
    "hf.create_dataset('image', data = five_band_image_reshape, chunks = True, maxshape = (None, 5, 64, 64))\n",
    "hf.create_dataset('specz_redshift', data = fake_redshift[0], chunks = True, maxshape = (None, ))\n",
    "\n",
    "for i in tqdm(range(1, 2000)):\n",
    "    \n",
    "    image_g = fake_images[i][0]\n",
    "    image_r = fake_images[i][1]\n",
    "    image_i = fake_images[i][2]\n",
    "    image_z = fake_images[i][3]\n",
    "    image_y = fake_images[i][4]\n",
    "    \n",
    "    five_band_image = []\n",
    "    five_band_image.append(image_g)\n",
    "    five_band_image.append(image_r)\n",
    "    five_band_image.append(image_i)\n",
    "    five_band_image.append(image_z)\n",
    "    five_band_image.append(image_y)\n",
    "\n",
    "    hf['specz_redshift'].resize((hf['specz_redshift'].shape[0] + 1), axis = 0)\n",
    "    hf['specz_redshift'][hf['specz_redshift'].shape[0] - 1] = [fake_redshift[i]]\n",
    "    hf['image'].resize((hf['image'].shape[0] + 1), axis = 0)\n",
    "    hf['image'][hf['image'].shape[0] - 1, :, :, :] = five_band_image\n",
    "hf.close()"
   ]
  },
  {
   "cell_type": "code",
   "execution_count": 373,
   "id": "128a138e-d8f8-46ec-91a5-7f66b8a64795",
   "metadata": {},
   "outputs": [
    {
     "name": "stdout",
     "output_type": "stream",
     "text": [
      "10/10 [==============================] - 0s 2ms/step\n"
     ]
    }
   ],
   "source": [
    "fake_redshift = np.random.uniform(0, 4, (BATCH_SIZE, 1))\n",
    "noise = np.random.normal(0, 1, (BATCH_SIZE, LATENT_DIM))\n",
    "fake_images = generator.predict([noise, fake_redshift])"
   ]
  },
  {
   "cell_type": "code",
   "execution_count": 374,
   "id": "6edbbc90-d303-4091-822f-4dfbbd417cf4",
   "metadata": {},
   "outputs": [
    {
     "data": {
      "text/plain": [
       "<matplotlib.lines.Line2D at 0x7fe2cc082250>"
      ]
     },
     "execution_count": 374,
     "metadata": {},
     "output_type": "execute_result"
    },
    {
     "data": {
      "image/png": "[encoded data removed]",
      "text/plain": [
       "<Figure size 640x480 with 1 Axes>"
      ]
     },
     "metadata": {},
     "output_type": "display_data"
    }
   ],
   "source": [
    "plt.plot(fake_images[2][4][31] / fake_images[3][4][31])\n",
    "plt.axhline(y = fake_redshift[2][0] / fake_redshift[3][0], xmin=0, xmax=64, color='r')"
   ]
  },
  {
   "cell_type": "code",
   "execution_count": 375,
   "id": "a14d2d80-59d8-40b1-87e6-b23bf1244d1e",
   "metadata": {},
   "outputs": [
    {
     "data": {
      "text/plain": [
       "[<matplotlib.lines.Line2D at 0x7fe2cbccdf70>]"
      ]
     },
     "execution_count": 375,
     "metadata": {},
     "output_type": "execute_result"
    },
    {
     "data": {
      "image/png": "[encoded data removed]",
      "text/plain": [
       "<Figure size 640x480 with 1 Axes>"
      ]
     },
     "metadata": {},
     "output_type": "display_data"
    }
   ],
   "source": [
    "plt.plot(fake_images[2][4][31]-fake_images[3][4][31])"
   ]
  },
  {
   "cell_type": "code",
   "execution_count": 390,
   "id": "1eeff52f-cda7-4ae6-9832-b339d9422ac5",
   "metadata": {},
   "outputs": [
    {
     "data": {
      "text/plain": [
       "<matplotlib.image.AxesImage at 0x7fe2c95c21c0>"
      ]
     },
     "execution_count": 390,
     "metadata": {},
     "output_type": "execute_result"
    },
    {
     "data": {
      "image/png": "[encoded data removed]",
      "text/plain": [
       "<Figure size 640x480 with 1 Axes>"
      ]
     },
     "metadata": {},
     "output_type": "display_data"
    }
   ],
   "source": [
    "plt.imshow(fake_images[90][3])"
   ]
  },
  {
   "cell_type": "code",
   "execution_count": 136,
   "id": "380068a1-f396-47f7-9ee1-11b20fdb21ab",
   "metadata": {},
   "outputs": [
    {
     "name": "stdout",
     "output_type": "stream",
     "text": [
      "You must install pydot (`pip install pydot`) and install graphviz (see instructions at https://graphviz.gitlab.io/download/) for plot_model to work.\n"
     ]
    }
   ],
   "source": [
    "from keras.utils.vis_utils import plot_model\n",
    "\n",
    "plot_model(generator, to_file='generator_plot.png', show_shapes=True, show_layer_names=True)"
   ]
  },
  {
   "cell_type": "code",
   "execution_count": 137,
   "id": "bb11c0ba-3770-448c-b90d-c6b368d7e107",
   "metadata": {},
   "outputs": [
    {
     "name": "stdout",
     "output_type": "stream",
     "text": [
      "You must install pydot (`pip install pydot`) and install graphviz (see instructions at https://graphviz.gitlab.io/download/) for plot_model to work.\n"
     ]
    }
   ],
   "source": [
    "plot_model(discriminator, to_file='discriminator_plot.png', show_shapes=True, show_layer_names=True)"
   ]
  },
  {
   "cell_type": "code",
   "execution_count": null,
   "id": "ffa699ab-8e4b-43eb-a8d4-d532776a3c1d",
   "metadata": {},
   "outputs": [],
   "source": [
    "stop here"
   ]
  },
  {
   "cell_type": "code",
   "execution_count": null,
   "id": "3665cc85-365d-4100-b1f8-f903d1700585",
   "metadata": {},
   "outputs": [],
   "source": [
    "model_name = 'gan'\n",
    "\n",
    "weights_path = os.path.join('/data/tuando/models/', model_name) + '/weights'"
   ]
  },
  {
   "cell_type": "code",
   "execution_count": null,
   "id": "0a660ffa-3a95-4939-8d1a-6d1f5fc6566e",
   "metadata": {},
   "outputs": [],
   "source": [
    "gan.save_weights(weights_path)"
   ]
  },
  {
   "cell_type": "code",
   "execution_count": null,
   "id": "6cc0b28f-846a-434d-9ec0-8cf03f1baa3a",
   "metadata": {},
   "outputs": [],
   "source": [
    "gan.load_weights(weights_path)"
   ]
  },
  {
   "cell_type": "code",
   "execution_count": null,
   "id": "63042c4d-6123-4f21-b4f7-52ef8c2fb98b",
   "metadata": {},
   "outputs": [],
   "source": [
    "model_name = 'discriminator'\n",
    "\n",
    "weights_path = os.path.join('/data/tuando/models/', model_name) + '/weights'"
   ]
  },
  {
   "cell_type": "code",
   "execution_count": null,
   "id": "efbfd77f-e729-4f66-8d74-48139ffe2828",
   "metadata": {},
   "outputs": [],
   "source": [
    "discriminator.save_weights(weights_path)"
   ]
  },
  {
   "cell_type": "code",
   "execution_count": null,
   "id": "96062427-c157-4b89-9d7f-d2d8c93e5e84",
   "metadata": {},
   "outputs": [],
   "source": [
    "discriminator.load_weights(weights_path)"
   ]
  },
  {
   "cell_type": "code",
   "execution_count": null,
   "id": "50ccccae",
   "metadata": {},
   "outputs": [],
   "source": [
    "# END"
   ]
  }
 ],
 "metadata": {
  "kernelspec": {
   "display_name": "Diffusion",
   "language": "python",
   "name": "diffusion"
  },
  "language_info": {
   "codemirror_mode": {
    "name": "ipython",
    "version": 3
   },
   "file_extension": ".py",
   "mimetype": "text/x-python",
   "name": "python",
   "nbconvert_exporter": "python",
   "pygments_lexer": "ipython3",
   "version": "3.9.16"
  }
 },
 "nbformat": 4,
 "nbformat_minor": 5
}
