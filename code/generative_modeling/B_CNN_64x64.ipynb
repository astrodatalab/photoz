{
 "cells": [
  {
   "cell_type": "code",
   "execution_count": 1,
   "id": "1091fe3f",
   "metadata": {},
   "outputs": [
    {
     "name": "stderr",
     "output_type": "stream",
     "text": [
      "2023-07-27 03:45:14.012253: I tensorflow/core/platform/cpu_feature_guard.cc:182] This TensorFlow binary is optimized to use available CPU instructions in performance-critical operations.\n",
      "To enable the following instructions: AVX2 FMA, in other operations, rebuild TensorFlow with the appropriate compiler flags.\n",
      "2023-07-27 03:45:14.553147: W tensorflow/compiler/tf2tensorrt/utils/py_utils.cc:38] TF-TRT Warning: Could not find TensorRT\n"
     ]
    }
   ],
   "source": [
    "import os\n",
    "import numpy as np\n",
    "import matplotlib.pyplot as plt\n",
    "from astropy.io import fits\n",
    "import tensorflow as tf\n",
    "import tensorflow_probability as tfp\n",
    "import h5py\n",
    "import random\n",
    "from sklearn.model_selection import train_test_split\n",
    "import pandas as pd\n",
    "from tensorflow.keras.callbacks import TensorBoard, ModelCheckpoint, ReduceLROnPlateau\n",
    "\n",
    "import sys,os\n",
    "import numpy as np\n",
    "import pandas as pd\n",
    "import random\n",
    "import h5py"
   ]
  },
  {
   "cell_type": "code",
   "execution_count": 2,
   "id": "50b6b1d4",
   "metadata": {},
   "outputs": [],
   "source": [
    "tfpl = tfp.layers\n",
    "tf1 = tf.compat.v1\n",
    "tfd = tfp.distributions"
   ]
  },
  {
   "cell_type": "code",
   "execution_count": 3,
   "id": "3d2c3541",
   "metadata": {},
   "outputs": [],
   "source": [
    "from tensorflow_probability.python.distributions import kl_divergence"
   ]
  },
  {
   "cell_type": "code",
   "execution_count": 4,
   "id": "5eabda23-62aa-4403-a4b7-74a6e75a827f",
   "metadata": {},
   "outputs": [
    {
     "name": "stdout",
     "output_type": "stream",
     "text": [
      "1 Physical GPUs, 1 Logical GPUs\n"
     ]
    },
    {
     "name": "stderr",
     "output_type": "stream",
     "text": [
      "2023-07-27 03:45:15.566017: I tensorflow/compiler/xla/stream_executor/cuda/cuda_gpu_executor.cc:996] successful NUMA node read from SysFS had negative value (-1), but there must be at least one NUMA node, so returning NUMA node zero. See more at https://github.com/torvalds/linux/blob/v6.0/Documentation/ABI/testing/sysfs-bus-pci#L344-L355\n",
      "2023-07-27 03:45:15.584138: I tensorflow/compiler/xla/stream_executor/cuda/cuda_gpu_executor.cc:996] successful NUMA node read from SysFS had negative value (-1), but there must be at least one NUMA node, so returning NUMA node zero. See more at https://github.com/torvalds/linux/blob/v6.0/Documentation/ABI/testing/sysfs-bus-pci#L344-L355\n",
      "2023-07-27 03:45:15.584338: I tensorflow/compiler/xla/stream_executor/cuda/cuda_gpu_executor.cc:996] successful NUMA node read from SysFS had negative value (-1), but there must be at least one NUMA node, so returning NUMA node zero. See more at https://github.com/torvalds/linux/blob/v6.0/Documentation/ABI/testing/sysfs-bus-pci#L344-L355\n",
      "2023-07-27 03:45:15.586052: I tensorflow/compiler/xla/stream_executor/cuda/cuda_gpu_executor.cc:996] successful NUMA node read from SysFS had negative value (-1), but there must be at least one NUMA node, so returning NUMA node zero. See more at https://github.com/torvalds/linux/blob/v6.0/Documentation/ABI/testing/sysfs-bus-pci#L344-L355\n",
      "2023-07-27 03:45:15.586200: I tensorflow/compiler/xla/stream_executor/cuda/cuda_gpu_executor.cc:996] successful NUMA node read from SysFS had negative value (-1), but there must be at least one NUMA node, so returning NUMA node zero. See more at https://github.com/torvalds/linux/blob/v6.0/Documentation/ABI/testing/sysfs-bus-pci#L344-L355\n",
      "2023-07-27 03:45:15.586329: I tensorflow/compiler/xla/stream_executor/cuda/cuda_gpu_executor.cc:996] successful NUMA node read from SysFS had negative value (-1), but there must be at least one NUMA node, so returning NUMA node zero. See more at https://github.com/torvalds/linux/blob/v6.0/Documentation/ABI/testing/sysfs-bus-pci#L344-L355\n",
      "2023-07-27 03:45:16.032619: I tensorflow/compiler/xla/stream_executor/cuda/cuda_gpu_executor.cc:996] successful NUMA node read from SysFS had negative value (-1), but there must be at least one NUMA node, so returning NUMA node zero. See more at https://github.com/torvalds/linux/blob/v6.0/Documentation/ABI/testing/sysfs-bus-pci#L344-L355\n",
      "2023-07-27 03:45:16.032810: I tensorflow/compiler/xla/stream_executor/cuda/cuda_gpu_executor.cc:996] successful NUMA node read from SysFS had negative value (-1), but there must be at least one NUMA node, so returning NUMA node zero. See more at https://github.com/torvalds/linux/blob/v6.0/Documentation/ABI/testing/sysfs-bus-pci#L344-L355\n",
      "2023-07-27 03:45:16.032946: I tensorflow/compiler/xla/stream_executor/cuda/cuda_gpu_executor.cc:996] successful NUMA node read from SysFS had negative value (-1), but there must be at least one NUMA node, so returning NUMA node zero. See more at https://github.com/torvalds/linux/blob/v6.0/Documentation/ABI/testing/sysfs-bus-pci#L344-L355\n",
      "2023-07-27 03:45:16.033054: I tensorflow/core/common_runtime/gpu/gpu_device.cc:1635] Created device /job:localhost/replica:0/task:0/device:GPU:0 with 10000 MB memory:  -> device: 0, name: NVIDIA RTX A6000, pci bus id: 0000:61:00.0, compute capability: 8.6\n"
     ]
    }
   ],
   "source": [
    "gpus = tf.config.list_physical_devices('GPU')\n",
    "\n",
    "if gpus:\n",
    "  # Restrict TensorFlow to only allocate 10GB of memory on the first GPU\n",
    "  try:\n",
    "    tf.config.experimental.set_virtual_device_configuration(\n",
    "        gpus[0],\n",
    "        [tf.config.experimental.VirtualDeviceConfiguration(memory_limit = 10000)])\n",
    "    logical_gpus = tf.config.experimental.list_logical_devices('GPU')\n",
    "    print(len(gpus), \"Physical GPUs,\", len(logical_gpus), \"Logical GPUs\")\n",
    "  except RuntimeError as e:\n",
    "    # Virtual devices must be set before GPUs have been initialized\n",
    "    print(e)"
   ]
  },
  {
   "cell_type": "code",
   "execution_count": 5,
   "id": "3da0b6bc",
   "metadata": {},
   "outputs": [],
   "source": [
    "n = 10000\n",
    "t = 2000\n",
    "v = 2000"
   ]
  },
  {
   "cell_type": "code",
   "execution_count": 6,
   "id": "fa248053",
   "metadata": {},
   "outputs": [],
   "source": [
    "hf_train = h5py.File('/data/HSC/HSC_v6/step3/64x64_training_small.hdf5', 'r')\n",
    "# hf_test = h5py.File('/data3/Diffusion/127x127_diffusion_regenerated_light.hdf5', 'r')\n",
    "# hf_test = h5py.File('/data/HSC/HSC_v6/step3/127x127_generated_train.hdf5', 'r')\\\n",
    "hf_test = h5py.File('/data3/Diffusion/64x64_diffusion_generated_normalized.hdf5', 'r')\n",
    "# hf_test = h5py.File('/data/HSC/HSC_v6/step2A/127x127/5x127x127_testing_small.hdf5', 'r')\n",
    "hf_validation = h5py.File('/data/HSC/HSC_v6/step3/64x64_validation_small.hdf5', 'r')\n",
    "x_train = np.asarray(np.transpose(hf_train['image'][0:],(0,2,3,1)))\n",
    "x_test = np.asarray(np.transpose(hf_test['image'][0:],(0,2,3,1)))\n",
    "x_validation = np.asarray(np.transpose(hf_validation['image'][0:],(0,2,3,1)))\n",
    "t = len(x_test)\n",
    "max_value = 4.16\n",
    "x_train = np.true_divide(x_train, max_value)\n",
    "x_test = np.true_divide(x_test, 1)\n",
    "x_validation = np.true_divide(x_validation, max_value)\n",
    "y_train = np.asarray(hf_train['specz_redshift'][0:])[..., None]\n",
    "y_test = np.asarray(hf_test['specz_redshift'][0:])[..., None]\n",
    "y_validation = np.asarray(hf_validation['specz_redshift'][0:])[..., None]\n",
    "hf_train.close()\n",
    "hf_test.close()\n",
    "hf_validation.close()"
   ]
  },
  {
   "cell_type": "code",
   "execution_count": 7,
   "id": "0f187c79",
   "metadata": {},
   "outputs": [],
   "source": [
    "def posterior_mean_field(kernel_size: int, bias_size: int, dtype: any) -> tf.keras.Model:\n",
    "    \"\"\"Specify the surrogate posterior over `keras.layers.Dense` `kernel` and `bias`.\"\"\"\n",
    "    n = kernel_size + bias_size\n",
    "    c = np.log(np.expm1(1.))\n",
    "\n",
    "    return tf.keras.Sequential([\n",
    "        tfp.layers.VariableLayer(2 * n, dtype = dtype, initializer = lambda shape, dtype: random_gaussian_initializer(shape, dtype), trainable = True),\n",
    "        tfp.layers.DistributionLambda(lambda t: tfd.Independent(\n",
    "            tfd.Normal(loc = t[ ..., : n],\n",
    "                       scale = tf.nn.softplus(c + t[..., n:])),\n",
    "            reinterpreted_batch_ndims = 1)),\n",
    "    ])\n",
    "\n",
    "def prior_trainable(kernel_size: int, bias_size: int, dtype: any) -> tf.keras.Model:\n",
    "    \"\"\"Specify the prior over `keras.layers.Dense` `kernel` and `bias`.\"\"\"\n",
    "    n = kernel_size + bias_size\n",
    "\n",
    "    return tf.keras.Sequential([\n",
    "        tfp.layers.VariableLayer(n, dtype = dtype),  # Returns a trainable variable of shape n, regardless of input\n",
    "        tfp.layers.DistributionLambda(lambda t: tfd.Independent(\n",
    "            tfd.Normal(loc = t, scale = 0.01),\n",
    "            reinterpreted_batch_ndims = 1)),\n",
    "    ])\n",
    "\n",
    "def random_gaussian_initializer(shape, dtype):\n",
    "    n = int(shape / 2)\n",
    "    loc_norm = tf.random_normal_initializer(mean = 0., stddev = 0.03)\n",
    "    loc = tf.Variable(\n",
    "        initial_value = loc_norm(shape = (n, ), dtype = dtype)\n",
    "    )\n",
    "    scale_norm = tf.random_normal_initializer(mean = -3., stddev = 0.1)\n",
    "    scale = tf.Variable(\n",
    "        initial_value = scale_norm(shape = (n, ), dtype = dtype)\n",
    "    )\n",
    "    return tf.concat([loc, scale], 0)\n",
    "\n",
    "kl_divergence_function = lambda q, p, _: kl_divergence(q, p) / n"
   ]
  },
  {
   "cell_type": "code",
   "execution_count": 8,
   "id": "69ccd934",
   "metadata": {},
   "outputs": [],
   "source": [
    "import keras\n",
    "from keras.models import Model\n",
    "from tensorflow.keras.models import Sequential\n",
    "from keras.layers import Dense, Dropout, Flatten, InputLayer, BatchNormalization\n",
    "from keras.layers import Conv2D, MaxPooling2D"
   ]
  },
  {
   "cell_type": "code",
   "execution_count": 9,
   "id": "2beada9e",
   "metadata": {},
   "outputs": [
    {
     "name": "stdout",
     "output_type": "stream",
     "text": [
      "WARNING:tensorflow:Please fix your imports. Module tensorflow.python.training.tracking.data_structures has been moved to tensorflow.python.trackable.data_structures. The old module will be deleted in version 2.11.\n"
     ]
    },
    {
     "name": "stderr",
     "output_type": "stream",
     "text": [
      "/home/billyli/miniconda3/envs/Diffusion/lib/python3.9/site-packages/tensorflow_probability/python/layers/util.py:99: UserWarning: `layer.add_variable` is deprecated and will be removed in a future version. Please use the `layer.add_weight()` method instead.\n",
      "  loc = add_variable_fn(\n",
      "/home/billyli/miniconda3/envs/Diffusion/lib/python3.9/site-packages/tensorflow_probability/python/layers/util.py:109: UserWarning: `layer.add_variable` is deprecated and will be removed in a future version. Please use the `layer.add_weight()` method instead.\n",
      "  untransformed_scale = add_variable_fn(\n"
     ]
    },
    {
     "name": "stdout",
     "output_type": "stream",
     "text": [
      "Model: \"sequential\"\n",
      "_________________________________________________________________\n",
      " Layer (type)                Output Shape              Param #   \n",
      "=================================================================\n",
      " conv2d_flipout (Conv2DFlipo  (None, 62, 62, 32)       2912      \n",
      " ut)                                                             \n",
      "                                                                 \n",
      " max_pooling2d (MaxPooling2D  (None, 31, 31, 32)       0         \n",
      " )                                                               \n",
      "                                                                 \n",
      " conv2d (Conv2D)             (None, 30, 30, 32)        4128      \n",
      "                                                                 \n",
      " max_pooling2d_1 (MaxPooling  (None, 15, 15, 32)       0         \n",
      " 2D)                                                             \n",
      "                                                                 \n",
      " conv2d_1 (Conv2D)           (None, 13, 13, 32)        9248      \n",
      "                                                                 \n",
      " conv2d_2 (Conv2D)           (None, 12, 12, 32)        4128      \n",
      "                                                                 \n",
      " flatten (Flatten)           (None, 4608)              0         \n",
      "                                                                 \n",
      " dropout (Dropout)           (None, 4608)              0         \n",
      "                                                                 \n",
      " dense_variational (DenseVar  (None, 128)              1769856   \n",
      " iational)                                                       \n",
      "                                                                 \n",
      " dense_variational_1 (DenseV  (None, 128)              49536     \n",
      " ariational)                                                     \n",
      "                                                                 \n",
      " dense (Dense)               (None, 2)                 258       \n",
      "                                                                 \n",
      " independent_normal (Indepen  ((None, 1),              0         \n",
      " dentNormal)                  (None, 1))                         \n",
      "                                                                 \n",
      "=================================================================\n",
      "Total params: 1,840,066\n",
      "Trainable params: 1,840,066\n",
      "Non-trainable params: 0\n",
      "_________________________________________________________________\n"
     ]
    }
   ],
   "source": [
    "model_variational = Sequential([\n",
    "    InputLayer(input_shape = (64, 64, 5)),\n",
    "    tfpl.Convolution2DFlipout(32, kernel_size=(3, 3), activation = 'tanh', kernel_divergence_fn = kl_divergence_function),\n",
    "    MaxPooling2D(2, 2),\n",
    "    Conv2D(32, kernel_size = (2, 2), activation = 'tanh'),\n",
    "    MaxPooling2D(2, 2),\n",
    "    Conv2D(32, kernel_size = (3, 3), activation = 'relu'),\n",
    "    Conv2D(32, kernel_size = (2, 2), activation = 'relu'),\n",
    "    Flatten(),\n",
    "    Dropout(0.2),\n",
    "    tfpl.DenseVariational(128, \n",
    "                                      make_posterior_fn = posterior_mean_field,\n",
    "                                      make_prior_fn = prior_trainable,\n",
    "                                      kl_weight = 1 / n),\n",
    "    tfpl.DenseVariational(128, \n",
    "                                      make_posterior_fn = posterior_mean_field,\n",
    "                                      make_prior_fn = prior_trainable,\n",
    "                                      kl_weight = 1 / n),\n",
    "    Dense(tfpl.IndependentNormal.params_size(1)),\n",
    "    tfpl.IndependentNormal(1)\n",
    "])\n",
    "\n",
    "model_variational.build((10000, 127, 127, 5))\n",
    "\n",
    "model_variational.summary()"
   ]
  },
  {
   "cell_type": "code",
   "execution_count": 10,
   "id": "de5fcf3a",
   "metadata": {},
   "outputs": [],
   "source": [
    "def loss_function(targets, estimated_distribution):\n",
    "    return - estimated_distribution.log_prob(targets)\n",
    "\n",
    "model_variational.compile(optimizer = tf.keras.optimizers.Adam(learning_rate = 0.001), loss = loss_function, metrics = [keras.metrics.RootMeanSquaredError()])"
   ]
  },
  {
   "cell_type": "code",
   "execution_count": 11,
   "id": "42841133",
   "metadata": {},
   "outputs": [],
   "source": [
    "import tensorboard\n",
    "\n",
    "model_name = 'HSC_v6_BCNN_v5'\n",
    "\n",
    "checkpoint_filepath = os.path.join('/models/', model_name) + '/' + model_name\n",
    "\n",
    "weights_path = os.path.join('/models/', model_name) + '/weights'\n",
    "\n",
    "log_dir = os.path.join('/logs/', model_name)\n",
    "\n",
    "cp_callback = tf.keras.callbacks.ModelCheckpoint(filepath = checkpoint_filepath, save_weights_only = True, verbose = 1, save_freq = 150*250)\n",
    "\n",
    "tensorboard_callback = tf.keras.callbacks.TensorBoard(log_dir = log_dir, histogram_freq = 1)\n",
    "\n",
    "LR_callback = ReduceLROnPlateau()"
   ]
  },
  {
   "cell_type": "code",
   "execution_count": 12,
   "id": "ed21918a",
   "metadata": {
    "scrolled": true
   },
   "outputs": [
    {
     "name": "stdout",
     "output_type": "stream",
     "text": [
      "Epoch 1/60\n"
     ]
    },
    {
     "name": "stderr",
     "output_type": "stream",
     "text": [
      "2023-07-27 03:45:36.799289: I tensorflow/compiler/xla/stream_executor/cuda/cuda_dnn.cc:424] Loaded cuDNN version 8600\n",
      "2023-07-27 03:45:37.493907: I tensorflow/tsl/platform/default/subprocess.cc:304] Start cannot spawn child process: No such file or directory\n",
      "2023-07-27 03:45:37.569665: I tensorflow/compiler/xla/service/service.cc:169] XLA service 0x7f494867df70 initialized for platform CUDA (this does not guarantee that XLA will be used). Devices:\n",
      "2023-07-27 03:45:37.569688: I tensorflow/compiler/xla/service/service.cc:177]   StreamExecutor device (0): NVIDIA RTX A6000, Compute Capability 8.6\n",
      "2023-07-27 03:45:37.572992: I tensorflow/compiler/mlir/tensorflow/utils/dump_mlir_util.cc:269] disabling MLIR crash reproducer, set env var `MLIR_CRASH_REPRODUCER_DIRECTORY` to enable.\n",
      "2023-07-27 03:45:37.627897: I tensorflow/tsl/platform/default/subprocess.cc:304] Start cannot spawn child process: No such file or directory\n",
      "2023-07-27 03:45:37.674517: I ./tensorflow/compiler/jit/device_compiler.h:180] Compiled cluster using XLA!  This line is logged at most once for the lifetime of the process.\n",
      "2023-07-27 03:45:37.807217: I tensorflow/compiler/xla/stream_executor/cuda/cuda_blas.cc:637] TensorFloat-32 will be used for the matrix multiplication. This will only be logged once.\n"
     ]
    },
    {
     "name": "stdout",
     "output_type": "stream",
     "text": [
      "313/313 [==============================] - 8s 11ms/step - loss: 1656.2441 - root_mean_squared_error: 0.9304 - val_loss: 1376.3864 - val_root_mean_squared_error: 0.6984 - lr: 0.0010\n",
      "Epoch 2/60\n",
      "313/313 [==============================] - 3s 8ms/step - loss: 1184.5217 - root_mean_squared_error: 0.7165 - val_loss: 1015.8373 - val_root_mean_squared_error: 0.5913 - lr: 0.0010\n",
      "Epoch 3/60\n",
      "313/313 [==============================] - 3s 8ms/step - loss: 886.4349 - root_mean_squared_error: 0.7246 - val_loss: 770.3458 - val_root_mean_squared_error: 0.5371 - lr: 0.0010\n",
      "Epoch 4/60\n",
      "313/313 [==============================] - 3s 8ms/step - loss: 679.8166 - root_mean_squared_error: 0.6563 - val_loss: 597.2362 - val_root_mean_squared_error: 0.5862 - lr: 0.0010\n",
      "Epoch 5/60\n",
      "313/313 [==============================] - 3s 9ms/step - loss: 531.0334 - root_mean_squared_error: 0.7919 - val_loss: 469.8432 - val_root_mean_squared_error: 0.6516 - lr: 0.0010\n",
      "Epoch 6/60\n",
      "313/313 [==============================] - 3s 8ms/step - loss: 419.9661 - root_mean_squared_error: 0.6642 - val_loss: 373.8405 - val_root_mean_squared_error: 0.7865 - lr: 0.0010\n",
      "Epoch 7/60\n",
      "313/313 [==============================] - 3s 8ms/step - loss: 335.6613 - root_mean_squared_error: 0.8588 - val_loss: 300.1309 - val_root_mean_squared_error: 0.6521 - lr: 0.0010\n",
      "Epoch 8/60\n",
      "313/313 [==============================] - 3s 8ms/step - loss: 270.2104 - root_mean_squared_error: 0.7298 - val_loss: 242.0819 - val_root_mean_squared_error: 0.4534 - lr: 0.0010\n",
      "Epoch 9/60\n",
      "313/313 [==============================] - 3s 8ms/step - loss: 218.7543 - root_mean_squared_error: 0.9092 - val_loss: 196.4933 - val_root_mean_squared_error: 0.5276 - lr: 0.0010\n",
      "Epoch 10/60\n",
      "313/313 [==============================] - 3s 8ms/step - loss: 177.3651 - root_mean_squared_error: 0.6234 - val_loss: 159.5576 - val_root_mean_squared_error: 0.8697 - lr: 0.0010\n",
      "Epoch 11/60\n",
      "313/313 [==============================] - 3s 9ms/step - loss: 144.1060 - root_mean_squared_error: 0.7933 - val_loss: 129.4078 - val_root_mean_squared_error: 0.5071 - lr: 0.0010\n",
      "Epoch 12/60\n",
      "313/313 [==============================] - 3s 8ms/step - loss: 117.1126 - root_mean_squared_error: 0.8559 - val_loss: 105.2765 - val_root_mean_squared_error: 0.5491 - lr: 0.0010\n",
      "Epoch 13/60\n",
      "313/313 [==============================] - 2s 7ms/step - loss: 95.0551 - root_mean_squared_error: 0.5785 - val_loss: 85.5504 - val_root_mean_squared_error: 0.3819 - lr: 0.0010\n",
      "Epoch 14/60\n",
      "313/313 [==============================] - 2s 8ms/step - loss: 77.0551 - root_mean_squared_error: 0.5553 - val_loss: 69.2290 - val_root_mean_squared_error: 0.4438 - lr: 0.0010\n",
      "Epoch 15/60\n",
      "313/313 [==============================] - 3s 8ms/step - loss: 62.3992 - root_mean_squared_error: 0.7310 - val_loss: 55.8977 - val_root_mean_squared_error: 0.4741 - lr: 0.0010\n",
      "Epoch 16/60\n",
      "313/313 [==============================] - 3s 8ms/step - loss: 50.2591 - root_mean_squared_error: 0.5743 - val_loss: 45.0917 - val_root_mean_squared_error: 0.7724 - lr: 0.0010\n",
      "Epoch 17/60\n",
      "313/313 [==============================] - 2s 8ms/step - loss: 40.3300 - root_mean_squared_error: 0.5293 - val_loss: 36.1131 - val_root_mean_squared_error: 0.5090 - lr: 0.0010\n",
      "Epoch 18/60\n",
      "313/313 [==============================] - 2s 8ms/step - loss: 32.2365 - root_mean_squared_error: 0.5456 - val_loss: 28.7742 - val_root_mean_squared_error: 0.4591 - lr: 0.0010\n",
      "Epoch 19/60\n",
      "313/313 [==============================] - 3s 8ms/step - loss: 25.7183 - root_mean_squared_error: 0.6010 - val_loss: 23.2945 - val_root_mean_squared_error: 0.3975 - lr: 0.0010\n",
      "Epoch 20/60\n",
      "313/313 [==============================] - 2s 8ms/step - loss: 20.3781 - root_mean_squared_error: 0.4843 - val_loss: 18.1030 - val_root_mean_squared_error: 0.4566 - lr: 0.0010\n",
      "Epoch 21/60\n",
      "313/313 [==============================] - 2s 8ms/step - loss: 16.0780 - root_mean_squared_error: 0.5416 - val_loss: 14.3290 - val_root_mean_squared_error: 0.5130 - lr: 0.0010\n",
      "Epoch 22/60\n",
      "313/313 [==============================] - 2s 8ms/step - loss: 12.6944 - root_mean_squared_error: 0.5284 - val_loss: 11.2864 - val_root_mean_squared_error: 0.5354 - lr: 0.0010\n",
      "Epoch 23/60\n",
      "313/313 [==============================] - 3s 9ms/step - loss: 9.9796 - root_mean_squared_error: 0.5053 - val_loss: 8.8670 - val_root_mean_squared_error: 0.4544 - lr: 0.0010\n",
      "Epoch 24/60\n",
      "313/313 [==============================] - 3s 8ms/step - loss: 7.9090 - root_mean_squared_error: 0.4967 - val_loss: 7.0741 - val_root_mean_squared_error: 0.4921 - lr: 0.0010\n",
      "Epoch 25/60\n",
      "313/313 [==============================] - 3s 8ms/step - loss: 6.3294 - root_mean_squared_error: 0.7168 - val_loss: 5.7689 - val_root_mean_squared_error: 0.6792 - lr: 0.0010\n",
      "Epoch 26/60\n",
      "313/313 [==============================] - 2s 8ms/step - loss: 5.0885 - root_mean_squared_error: 0.4841 - val_loss: 4.6471 - val_root_mean_squared_error: 0.4288 - lr: 0.0010\n",
      "Epoch 27/60\n",
      "313/313 [==============================] - 3s 8ms/step - loss: 4.2007 - root_mean_squared_error: 0.4637 - val_loss: 4.0213 - val_root_mean_squared_error: 0.4827 - lr: 0.0010\n",
      "Epoch 28/60\n",
      "313/313 [==============================] - 2s 8ms/step - loss: 3.6639 - root_mean_squared_error: 1.0513 - val_loss: 3.4566 - val_root_mean_squared_error: 0.9092 - lr: 0.0010\n",
      "Epoch 29/60\n",
      "313/313 [==============================] - 3s 8ms/step - loss: 3.1807 - root_mean_squared_error: 0.6924 - val_loss: 3.3239 - val_root_mean_squared_error: 0.5918 - lr: 0.0010\n",
      "Epoch 30/60\n",
      "313/313 [==============================] - 2s 8ms/step - loss: 2.8224 - root_mean_squared_error: 0.6364 - val_loss: 2.8186 - val_root_mean_squared_error: 0.4772 - lr: 0.0010\n",
      "Epoch 31/60\n",
      "313/313 [==============================] - 3s 8ms/step - loss: 2.5498 - root_mean_squared_error: 0.4794 - val_loss: 2.5376 - val_root_mean_squared_error: 0.3966 - lr: 0.0010\n",
      "Epoch 32/60\n",
      "313/313 [==============================] - 2s 8ms/step - loss: 2.3934 - root_mean_squared_error: 0.4638 - val_loss: 2.4795 - val_root_mean_squared_error: 0.4755 - lr: 0.0010\n",
      "Epoch 33/60\n",
      "313/313 [==============================] - 3s 8ms/step - loss: 2.3036 - root_mean_squared_error: 0.4977 - val_loss: 2.5541 - val_root_mean_squared_error: 0.3011 - lr: 0.0010\n",
      "Epoch 34/60\n",
      "313/313 [==============================] - 3s 8ms/step - loss: 2.2386 - root_mean_squared_error: 0.4799 - val_loss: 2.3415 - val_root_mean_squared_error: 0.5429 - lr: 0.0010\n",
      "Epoch 35/60\n",
      "313/313 [==============================] - 3s 8ms/step - loss: 2.2187 - root_mean_squared_error: 0.4808 - val_loss: 2.3604 - val_root_mean_squared_error: 0.4198 - lr: 0.0010\n",
      "Epoch 36/60\n",
      "313/313 [==============================] - 3s 8ms/step - loss: 2.2469 - root_mean_squared_error: 0.5205 - val_loss: 2.4423 - val_root_mean_squared_error: 0.5926 - lr: 0.0010\n",
      "Epoch 37/60\n",
      "313/313 [==============================] - 2s 8ms/step - loss: 2.3187 - root_mean_squared_error: 0.6473 - val_loss: 2.3719 - val_root_mean_squared_error: 0.3410 - lr: 0.0010\n",
      "Epoch 38/60\n",
      "313/313 [==============================] - 3s 8ms/step - loss: 2.1928 - root_mean_squared_error: 0.4720 - val_loss: 2.3176 - val_root_mean_squared_error: 0.4493 - lr: 0.0010\n",
      "Epoch 39/60\n",
      "313/313 [==============================] - 2s 8ms/step - loss: 2.1967 - root_mean_squared_error: 0.4724 - val_loss: 2.4705 - val_root_mean_squared_error: 0.5607 - lr: 0.0010\n",
      "Epoch 40/60\n",
      "313/313 [==============================] - 2s 8ms/step - loss: 2.2073 - root_mean_squared_error: 0.4483 - val_loss: 2.3816 - val_root_mean_squared_error: 0.4301 - lr: 0.0010\n",
      "Epoch 41/60\n",
      "313/313 [==============================] - 3s 8ms/step - loss: 2.2606 - root_mean_squared_error: 0.6215 - val_loss: 2.5280 - val_root_mean_squared_error: 0.4375 - lr: 0.0010\n",
      "Epoch 42/60\n",
      "313/313 [==============================] - 2s 8ms/step - loss: 2.1736 - root_mean_squared_error: 0.4699 - val_loss: 2.4036 - val_root_mean_squared_error: 0.5370 - lr: 0.0010\n",
      "Epoch 43/60\n",
      "313/313 [==============================] - 2s 8ms/step - loss: 2.1670 - root_mean_squared_error: 0.4172 - val_loss: 2.2768 - val_root_mean_squared_error: 0.3932 - lr: 0.0010\n",
      "Epoch 44/60\n",
      "313/313 [==============================] - 3s 8ms/step - loss: 2.1596 - root_mean_squared_error: 0.4263 - val_loss: 2.3136 - val_root_mean_squared_error: 0.4876 - lr: 0.0010\n",
      "Epoch 45/60\n",
      "313/313 [==============================] - 2s 7ms/step - loss: 2.2772 - root_mean_squared_error: 0.7171 - val_loss: 2.3762 - val_root_mean_squared_error: 0.5816 - lr: 0.0010\n",
      "Epoch 46/60\n",
      "313/313 [==============================] - 2s 8ms/step - loss: 2.1794 - root_mean_squared_error: 0.4983 - val_loss: 2.4335 - val_root_mean_squared_error: 0.3681 - lr: 0.0010\n",
      "Epoch 47/60\n",
      "313/313 [==============================] - 3s 8ms/step - loss: 2.1548 - root_mean_squared_error: 0.4800 - val_loss: 2.3639 - val_root_mean_squared_error: 0.5943 - lr: 0.0010\n",
      "Epoch 48/60\n",
      "313/313 [==============================] - 3s 8ms/step - loss: 2.1404 - root_mean_squared_error: 0.4399 - val_loss: 2.4249 - val_root_mean_squared_error: 0.3660 - lr: 0.0010\n",
      "Epoch 49/60\n",
      "313/313 [==============================] - 3s 8ms/step - loss: 2.1543 - root_mean_squared_error: 0.4611 - val_loss: 2.5408 - val_root_mean_squared_error: 0.3498 - lr: 0.0010\n",
      "Epoch 50/60\n",
      "313/313 [==============================] - 3s 10ms/step - loss: 2.1079 - root_mean_squared_error: 0.4597 - val_loss: 2.4768 - val_root_mean_squared_error: 0.3961 - lr: 0.0010\n",
      "Epoch 51/60\n",
      "313/313 [==============================] - 4s 12ms/step - loss: 2.1144 - root_mean_squared_error: 0.4372 - val_loss: 2.4786 - val_root_mean_squared_error: 1.4845 - lr: 0.0010\n",
      "Epoch 52/60\n",
      "313/313 [==============================] - 4s 12ms/step - loss: 2.1480 - root_mean_squared_error: 0.5575 - val_loss: 2.3535 - val_root_mean_squared_error: 0.3902 - lr: 0.0010\n",
      "Epoch 53/60\n",
      "313/313 [==============================] - 4s 12ms/step - loss: 2.1027 - root_mean_squared_error: 0.4471 - val_loss: 2.3913 - val_root_mean_squared_error: 0.4847 - lr: 0.0010\n",
      "Epoch 54/60\n",
      "313/313 [==============================] - 4s 12ms/step - loss: -0.3567 - root_mean_squared_error: 0.4077 - val_loss: -0.1577 - val_root_mean_squared_error: 0.3564 - lr: 1.0000e-04\n",
      "Epoch 55/60\n",
      "313/313 [==============================] - 4s 12ms/step - loss: -0.6474 - root_mean_squared_error: 0.3953 - val_loss: -0.2668 - val_root_mean_squared_error: 0.3908 - lr: 1.0000e-04\n",
      "Epoch 56/60\n",
      "313/313 [==============================] - 4s 12ms/step - loss: -0.6474 - root_mean_squared_error: 0.3609 - val_loss: -0.2865 - val_root_mean_squared_error: 0.3216 - lr: 1.0000e-04\n",
      "Epoch 57/60\n",
      "313/313 [==============================] - 4s 12ms/step - loss: -0.6626 - root_mean_squared_error: 0.3802 - val_loss: -0.2191 - val_root_mean_squared_error: 0.3871 - lr: 1.0000e-04\n",
      "Epoch 58/60\n",
      "313/313 [==============================] - 4s 12ms/step - loss: -0.6591 - root_mean_squared_error: 0.3761 - val_loss: -0.2465 - val_root_mean_squared_error: 0.3482 - lr: 1.0000e-04\n",
      "Epoch 59/60\n",
      "313/313 [==============================] - 3s 9ms/step - loss: -0.6738 - root_mean_squared_error: 0.3903 - val_loss: -0.2177 - val_root_mean_squared_error: 0.3646 - lr: 1.0000e-04\n",
      "Epoch 60/60\n",
      "313/313 [==============================] - 3s 9ms/step - loss: -0.6769 - root_mean_squared_error: 0.3854 - val_loss: -0.2259 - val_root_mean_squared_error: 0.3347 - lr: 1.0000e-04\n"
     ]
    },
    {
     "data": {
      "text/plain": [
       "<keras.callbacks.History at 0x7f4f90180700>"
      ]
     },
     "execution_count": 12,
     "metadata": {},
     "output_type": "execute_result"
    }
   ],
   "source": [
    "model_variational.fit(x = x_train, y = y_train, epochs = 60, shuffle = True, verbose = 1, validation_data = (x_validation, y_validation), callbacks = [LR_callback])"
   ]
  },
  {
   "cell_type": "markdown",
   "id": "2c3af37b-3968-4a52-8c11-6eaeb9330575",
   "metadata": {},
   "source": [
    "# hf_test = h5py.File('/data3/Diffusion/127x127_diffusion_regenerated_light.hdf5', 'r')\n",
    "hf_test = h5py.File('/data3/Diffusion/127x127_diffusion_generated_1.hdf5', 'r')\n",
    "# hf_test = h5py.File('/data/HSC/HSC_v6/step3/127x127_generated_max_1.hdf5', 'r')\n",
    "# hf_test = h5py.File('/data/HSC/HSC_v6/step2A/127x127/5x127x127_testing_small.hdf5', 'r')\n",
    "x_test = np.asarray(np.transpose(hf_test['image'][0:],(0,2,3,1)))\n",
    "t = len(x_test)\n",
    "max_value = 1\n",
    "x_test = np.true_divide(x_test, max_value)[0:t]\n",
    "y_test = np.asarray(hf_test['specz_redshift'][0:])[..., None][0:t]\n",
    "hf_test.close()"
   ]
  },
  {
   "cell_type": "code",
   "execution_count": 13,
   "id": "9f5b1434",
   "metadata": {},
   "outputs": [],
   "source": [
    "photoz = []\n",
    "\n",
    "for i in range(t):\n",
    "    photoz.append(model_variational(np.array([x_test[i]])).mean()[0][0])\n",
    "\n",
    "photoz = np.asarray(photoz).astype('float32')"
   ]
  },
  {
   "cell_type": "code",
   "execution_count": 14,
   "id": "5aaca9e4",
   "metadata": {},
   "outputs": [],
   "source": [
    "specz = np.asarray(y_test)[:,0]"
   ]
  },
  {
   "cell_type": "code",
   "execution_count": 15,
   "id": "c8f2d907",
   "metadata": {},
   "outputs": [],
   "source": [
    "photoz_err = []\n",
    "\n",
    "for i in range(t):\n",
    "    photoz_err.append(model_variational(np.array([x_test[i]])).stddev()[0][0])"
   ]
  },
  {
   "cell_type": "code",
   "execution_count": 16,
   "id": "4aca0c11",
   "metadata": {},
   "outputs": [],
   "source": [
    "from scipy.stats import gaussian_kde\n",
    "xy = np.asarray(np.vstack([specz, photoz])).astype('float32')\n",
    "z = gaussian_kde(xy)(xy)"
   ]
  },
  {
   "cell_type": "code",
   "execution_count": 17,
   "id": "2d080369",
   "metadata": {},
   "outputs": [
    {
     "data": {
      "image/png": "[encoded data removed]",
      "text/plain": [
       "<Figure size 1000x1000 with 2 Axes>"
      ]
     },
     "metadata": {},
     "output_type": "display_data"
    }
   ],
   "source": [
    "import seaborn as sns\n",
    "z_max = 4\n",
    "sns.set(rc={'figure.figsize': (10, 10), 'lines.markersize': 20})\n",
    "plt.rcParams.update({'font.size': 40})\n",
    "fig, ax = plt.subplots()\n",
    "scatter_plot = ax.scatter(specz, photoz, c = z, s = 1, edgecolor = None)\n",
    "plt.colorbar(scatter_plot, label = 'Density')\n",
    "plt.title('Prediction')\n",
    "plt.xlabel('spectroscopic redshift')\n",
    "plt.ylabel('photo z')\n",
    "plt.plot([0, z_max], [0, z_max],color = 'black')\n",
    "plt.xlim([0, z_max])\n",
    "plt.ylim([0, z_max])\n",
    "plt.show()"
   ]
  },
  {
   "cell_type": "code",
   "execution_count": 18,
   "id": "66beb4be-7a73-4212-8ae5-4b013d4fda0d",
   "metadata": {},
   "outputs": [
    {
     "ename": "IndexError",
     "evalue": "index 100 is out of bounds for axis 0 with size 100",
     "output_type": "error",
     "traceback": [
      "\u001b[0;31m---------------------------------------------------------------------------\u001b[0m",
      "\u001b[0;31mIndexError\u001b[0m                                Traceback (most recent call last)",
      "Cell \u001b[0;32mIn[18], line 1\u001b[0m\n\u001b[0;32m----> 1\u001b[0m plt\u001b[38;5;241m.\u001b[39mimshow(\u001b[43mx_test\u001b[49m\u001b[43m[\u001b[49m\u001b[38;5;241;43m100\u001b[39;49m\u001b[43m]\u001b[49m[:,:,\u001b[38;5;241m4\u001b[39m])\n",
      "\u001b[0;31mIndexError\u001b[0m: index 100 is out of bounds for axis 0 with size 100"
     ]
    }
   ],
   "source": [
    "plt.imshow(x_test[100][:,:,4])"
   ]
  },
  {
   "cell_type": "markdown",
   "id": "258bc2ea",
   "metadata": {},
   "source": [
    "sns.set(rc={'figure.figsize':(10, 10), 'lines.markersize':20})\n",
    "plt.rcParams.update({'font.size': 100})\n",
    "sns.set(font_scale=3)\n",
    "\n",
    "data = {'BCNN':10.7, 'BNN':19.7, 'Mizuki':27.4,\n",
    "        'DEmP':25}\n",
    "models_list = list(data.keys())\n",
    "outlier_rates = list(data.values())\n",
    "\n",
    "plt.bar(models_list, outlier_rates, color=('blue', 'red', 'red', 'red'))\n",
    "plt.plot([-.5, 3.5], [15, 15], color = 'black', linestyle = 'dashed')\n",
    "plt.title(\"Outlier Rates\")\n",
    "plt.ylabel(\"% Outlier Rate\")\n",
    "plt.xlabel(\"Model Type\")\n",
    "plt.show()"
   ]
  },
  {
   "cell_type": "code",
   "execution_count": null,
   "id": "2b34aa74",
   "metadata": {},
   "outputs": [],
   "source": [
    "overlap_variational = 0\n",
    "overlap_array_variational = []\n",
    "for i in range(0,t):\n",
    "    if np.abs(specz[i]-photoz[i])<=photoz_err[i]:\n",
    "        overlap_variational += 1\n",
    "        overlap_array_variational.append(1)\n",
    "    else:\n",
    "        overlap_array_variational.append(0)"
   ]
  },
  {
   "cell_type": "code",
   "execution_count": null,
   "id": "ce4218c2",
   "metadata": {},
   "outputs": [],
   "source": [
    "sns.set(rc={'figure.figsize':(5, 5), 'lines.markersize':40})\n",
    "plt.rcParams.update({'font.size': 40})\n",
    "fig, ax = plt.subplots()\n",
    "display_size = 1000\n",
    "scatter_plot = ax.scatter(specz[:display_size], photoz[:display_size], c = z[:display_size], s = 4, edgecolor = None, zorder = 2)\n",
    "error_plot = ax.errorbar(specz[:display_size], photoz[:display_size], yerr = photoz_err[:display_size], fmt = \"o\", markersize = 0, color = 'blue', elinewidth = 1, zorder = 1)\n",
    "plt.title('Prediction With Error')\n",
    "plt.xlabel('Spectroscopic Redshift')\n",
    "plt.ylabel('Photometric Redshift')\n",
    "plt.plot([0, z_max], [0, z_max], color = 'black')\n",
    "plt.xlim([0, z_max])\n",
    "plt.ylim([0, z_max])\n",
    "print(\"Coverage: \"+str(overlap_variational/t))"
   ]
  },
  {
   "cell_type": "code",
   "execution_count": null,
   "id": "5c5eee06",
   "metadata": {},
   "outputs": [],
   "source": [
    "combined_array_variational = np.transpose(np.vstack((specz, photoz, photoz_err, overlap_array_variational))) "
   ]
  },
  {
   "cell_type": "code",
   "execution_count": null,
   "id": "fb236386",
   "metadata": {},
   "outputs": [],
   "source": [
    "sorted_combined_array_variational = sorted(combined_array_variational, key=lambda x: x[0])"
   ]
  },
  {
   "cell_type": "code",
   "execution_count": null,
   "id": "ebecb5bb",
   "metadata": {},
   "outputs": [],
   "source": [
    "bins_variational = int(z_max*5)\n",
    "splitted_sorted_combined_array_variational = np.array_split(sorted_combined_array_variational, bins_variational)\n",
    "coverage_variational = []\n",
    "for i in range(0, bins_variational):\n",
    "    bins_count_variational = 0\n",
    "    for j in range(0,len(splitted_sorted_combined_array_variational[i])):\n",
    "        if splitted_sorted_combined_array_variational[i][j][3] == 1:\n",
    "            bins_count_variational += 1\n",
    "    coverage_variational.append(bins_count_variational/len(splitted_sorted_combined_array_variational[i])/0.6827)\n",
    "x_array = np.arange(0, z_max, z_max/bins_variational)"
   ]
  },
  {
   "cell_type": "code",
   "execution_count": null,
   "id": "f06c57bf",
   "metadata": {
    "scrolled": true
   },
   "outputs": [],
   "source": [
    "plt.plot(x_array, coverage_variational, c = 'red')\n",
    "plt.title('Coverage')\n",
    "plt.xlabel('Spectroscopic Redshift')\n",
    "plt.ylabel('Coverage')\n",
    "plt.ylim([0, 1.5])\n",
    "plt.plot([0, 4], [1, 1], color = 'black', linestyle = 'dashed')\n",
    "plt.annotate(\"Underconfident\", xy = (0, 1.06), color = 'black', size = 12)\n",
    "plt.annotate(\"Overconfident\", xy = (0, 0.9), color = 'black', size = 12)\n",
    "print(\"Coverage: \"+str(overlap_variational/t))"
   ]
  },
  {
   "cell_type": "code",
   "execution_count": null,
   "id": "c7375ddb",
   "metadata": {},
   "outputs": [],
   "source": [
    "mean_array = []\n",
    "for i in range(0, bins_variational):\n",
    "    total = 0\n",
    "    for j in range(0, len(splitted_sorted_combined_array_variational[i])):\n",
    "        bias = (splitted_sorted_combined_array_variational[i][j][1]-splitted_sorted_combined_array_variational[i][j][0])/(1 + splitted_sorted_combined_array_variational[i][j][0])\n",
    "        total += bias/(1 + splitted_sorted_combined_array_variational[i][j][0])\n",
    "    mean_array.append(total/len(splitted_sorted_combined_array_variational[i]))\n",
    "x_array = np.arange(0, z_max, z_max/bins_variational)"
   ]
  },
  {
   "cell_type": "code",
   "execution_count": null,
   "id": "76b7ef6e",
   "metadata": {},
   "outputs": [],
   "source": [
    "error_array = []\n",
    "for i in range(0, bins_variational):\n",
    "    error_total = 0\n",
    "    for j in range(0,len(splitted_sorted_combined_array_variational[i])):\n",
    "        error_total += splitted_sorted_combined_array_variational[i][j][2]\n",
    "    error_array.append(error_total/len(splitted_sorted_combined_array_variational[i]))"
   ]
  },
  {
   "cell_type": "code",
   "execution_count": null,
   "id": "8652e4b9",
   "metadata": {},
   "outputs": [],
   "source": [
    "sns.set(rc={'figure.figsize':(5, 5), 'lines.markersize':40})\n",
    "plt.rcParams.update({'font.size': 40})\n",
    "plt.scatter(x_array, mean_array, marker='o', color = 'blue', s = 4)\n",
    "# plt.errorbar(x_array, mean_array, yerr = error_array, fmt = \"o\", color = 'blue', markersize = 4, elinewidth = 2)\n",
    "plt.title('Bias Plot for Probabilistic Model')\n",
    "plt.xlabel('True Redshift')\n",
    "plt.ylabel('Bias: (Predicted - True)/(1 + True)')\n",
    "plt.plot([0, z_max], [0, 0], color = 'black')\n",
    "plt.plot([0, z_max], [0.003, 0.003], color = 'black', linestyle = 'dashed')\n",
    "plt.plot([0, z_max], [-0.003, -0.003], color = 'black', linestyle = 'dashed')\n",
    "plt.ylim([-0.1, 0.1])\n",
    "plt.show()"
   ]
  },
  {
   "cell_type": "code",
   "execution_count": null,
   "id": "83c7443e",
   "metadata": {},
   "outputs": [],
   "source": [
    "combined_outlier_array = np.transpose(np.vstack((specz, photoz, photoz_err)))\n",
    "sorted_combined_outlier_array = sorted(combined_outlier_array, key=lambda x: x[0])\n",
    "bins_outlier = int(z_max*20)\n",
    "splitted_sorted_combined_outlier_array = np.array_split(sorted_combined_outlier_array,bins_outlier)\n",
    "outlier_array = []\n",
    "outlier_count_total = 0\n",
    "for i in range(0,bins_outlier):\n",
    "    outlier_count = 0\n",
    "    for j in range(0,len(splitted_sorted_combined_outlier_array[i])):\n",
    "        if np.abs(splitted_sorted_combined_outlier_array[i][j][1] - splitted_sorted_combined_outlier_array[i][j][0]) >= 3 * splitted_sorted_combined_outlier_array[i][j][2]:\n",
    "            outlier_count += 1\n",
    "            outlier_count_total += 1\n",
    "    outlier_array.append(outlier_count/len(specz)*bins_outlier)\n",
    "x_array_outlier = np.arange(0,z_max,z_max/bins_outlier)\n",
    "plt.plot(x_array_outlier, outlier_array, c = 'blue')\n",
    "plt.title('Outlier Rate')\n",
    "plt.xlabel('spec z')\n",
    "plt.ylabel('outlier rate')\n",
    "plt.xlim([0,z_max])\n",
    "plt.ylim([0,1/2])\n",
    "plt.show()"
   ]
  },
  {
   "cell_type": "code",
   "execution_count": null,
   "id": "16ee12a0",
   "metadata": {},
   "outputs": [],
   "source": [
    "combined_outlier_array = np.transpose(np.vstack((specz,np.subtract(photoz, specz))))\n",
    "sorted_combined_outlier_array = sorted(combined_outlier_array, key=lambda x: x[0])\n",
    "bins_outlier = int(z_max*10)\n",
    "splitted_sorted_combined_outlier_array = np.array_split(sorted_combined_outlier_array,bins_outlier)\n",
    "outlier_array = []\n",
    "outlier_count_total = 0\n",
    "for i in range(0,bins_outlier):\n",
    "    outlier_count = 0\n",
    "    for j in range(0,len(splitted_sorted_combined_outlier_array[i])):\n",
    "        if np.abs(splitted_sorted_combined_outlier_array[i][j][1]/(splitted_sorted_combined_outlier_array[i][j][0] + 1)) >= .15:\n",
    "            outlier_count += 1\n",
    "            outlier_count_total += 1\n",
    "    outlier_array.append(outlier_count/len(specz)*bins_outlier)\n",
    "x_array_outlier = np.arange(0,z_max,z_max/bins_outlier)\n",
    "plt.plot(x_array_outlier, outlier_array, c = 'blue')\n",
    "plt.title('Outlier Rate')\n",
    "plt.xlabel('spec z')\n",
    "plt.ylabel('outlier rate')\n",
    "plt.xlim([0,z_max])\n",
    "plt.ylim([0,1])\n",
    "plt.show()\n",
    "\n",
    "# print(\"Outlier Rate: \"+str(outlier_count_total/len(specz)))"
   ]
  },
  {
   "cell_type": "code",
   "execution_count": null,
   "id": "d8ae84b8",
   "metadata": {},
   "outputs": [],
   "source": [
    "uncertains = []\n",
    "for i in range(0, len(photoz_err)):\n",
    "    if photoz_err[i].numpy() >= 1:\n",
    "        uncertains.append(i)\n",
    "        print(\"Spectro_z: \" + str(specz[i]) + \", Photo_z: \" + str(photoz[i]) + \", Photo_z_err: \" + str(photoz_err[i].numpy()))"
   ]
  },
  {
   "cell_type": "code",
   "execution_count": null,
   "id": "36c89c41",
   "metadata": {},
   "outputs": [],
   "source": [
    "check = 2\n",
    "current = uncertains[check]\n",
    "print(\"Spectro_z: \" + str(specz[current]) + \", Photo_z: \" + str(photoz[current]) + \", Photo_z_err: \" + str(photoz_err[current].numpy()))\n",
    "plt.imshow(x_test[current][:,:,0])\n",
    "plt.grid(False)"
   ]
  },
  {
   "cell_type": "code",
   "execution_count": null,
   "id": "54921336",
   "metadata": {},
   "outputs": [],
   "source": [
    "biases = []\n",
    "for i in range(0, len(photoz)):\n",
    "    if np.abs(photoz[i]-specz[i]) >= 1 and photoz_err[i].numpy() <= 0.5:\n",
    "        biases.append(i)\n",
    "        print(\"Spectro_z: \" + str(specz[i]) + \", Photo_z: \" + str(photoz[i]) + \", Photo_z_err: \" + str(photoz_err[i].numpy()))"
   ]
  },
  {
   "cell_type": "code",
   "execution_count": null,
   "id": "6d860045",
   "metadata": {},
   "outputs": [],
   "source": [
    "check_bias = 3\n",
    "current_bias = biases[check_bias]\n",
    "print(\"Spectro_z: \" + str(specz[current_bias]) + \", Photo_z: \" + str(photoz[current_bias]) + \", Photo_z_err: \" + str(photoz_err[current_bias].numpy()))\n",
    "plt.imshow(x_test[current_bias][:,:,0])\n",
    "plt.grid(False)"
   ]
  },
  {
   "cell_type": "code",
   "execution_count": null,
   "id": "c1a2511a-bb30-4ae7-8009-7764ded63a33",
   "metadata": {},
   "outputs": [],
   "source": [
    "a = 988\n",
    "b = 264\n",
    "c = 1198\n",
    "d = 112\n",
    "e = 241\n",
    "fig, axes = plt.subplots(nrows = 1, ncols = 5, figsize = (10, 5))\n",
    "axes[0].imshow(x_test[a][:,:,0], cmap = 'afmhot')\n",
    "axes[1].imshow(x_test[b][:,:,0], cmap = 'afmhot')\n",
    "axes[2].imshow(x_test[c][:,:,0], cmap = 'afmhot')\n",
    "axes[3].imshow(x_test[d][:,:,0], cmap = 'afmhot')\n",
    "axes[4].imshow(x_test[e][:,:,0], cmap = 'afmhot')\n",
    "axes[0].axis('off')\n",
    "axes[1].axis('off')\n",
    "axes[2].axis('off')\n",
    "axes[3].axis('off')\n",
    "axes[4].axis('off')\n",
    "# plt.title(\"Generated g Band Images\")\n",
    "# axes[0].set_title(\"Generated g Band Image 1\", size = 5)\n",
    "# axes[1].set_title(\"Generated g Band Image 2\", size = 5)\n",
    "# axes[2].set_title(\"Generated g Band Image 3\", size = 5)\n",
    "# axes[3].set_title(\"Generated g Band Image 4\", size = 5)\n",
    "# axes[4].set_title(\"Generated g Band Image 5\", size = 5)\n",
    "axes[0].annotate(f\"z = {np.round(y_test[a][0], 3)}\", xy = (10, 10), color = 'white', size = 10)\n",
    "axes[1].annotate(f\"z = {np.round(y_test[b][0], 3)}\", xy = (10, 10), color = 'white', size = 10)\n",
    "axes[2].annotate(f\"z = {np.round(y_test[c][0], 3)}\", xy = (10, 10), color = 'white', size = 10)\n",
    "axes[3].annotate(f\"z = {np.round(y_test[d][0], 3)}\", xy = (10, 10), color = 'white', size = 10)\n",
    "axes[4].annotate(f\"z = {np.round(y_test[e][0], 3)}\", xy = (10, 10), color = 'white', size = 10)\n",
    "plt.show()"
   ]
  },
  {
   "cell_type": "code",
   "execution_count": null,
   "id": "79c8f3a5-052d-458e-9373-063ff0b46614",
   "metadata": {},
   "outputs": [],
   "source": [
    "a = 24\n",
    "b = 15\n",
    "c = 10\n",
    "d = 96\n",
    "e = 1868\n",
    "fig, axes = plt.subplots(nrows = 1, ncols = 5, figsize = (10, 5))\n",
    "axes[0].imshow(x_train[a][:,:,0], cmap = 'afmhot')\n",
    "axes[1].imshow(x_train[b][:,:,0], cmap = 'afmhot')\n",
    "axes[2].imshow(x_train[c][:,:,0], cmap = 'afmhot')\n",
    "axes[3].imshow(x_train[d][:,:,0], cmap = 'afmhot')\n",
    "axes[4].imshow(x_train[e][:,:,0], cmap = 'afmhot')\n",
    "axes[0].axis('off')\n",
    "axes[1].axis('off')\n",
    "axes[2].axis('off')\n",
    "axes[3].axis('off')\n",
    "axes[4].axis('off')\n",
    "# plt.title(\"Generated g Band Images\")\n",
    "# axes[0].set_title(\"Generated g Band Image 1\", size = 5)\n",
    "# axes[1].set_title(\"Generated g Band Image 2\", size = 5)\n",
    "# axes[2].set_title(\"Generated g Band Image 3\", size = 5)\n",
    "# axes[3].set_title(\"Generated g Band Image 4\", size = 5)\n",
    "# axes[4].set_title(\"Generated g Band Image 5\", size = 5)\n",
    "axes[0].annotate(f\"z = {np.round(y_train[a][0], 3)}\", xy = (10, 10), color = 'white', size = 10)\n",
    "axes[1].annotate(f\"z = {np.round(y_train[b][0], 3)}\", xy = (10, 10), color = 'white', size = 10)\n",
    "axes[2].annotate(f\"z = {np.round(y_train[c][0], 3)}\", xy = (10, 10), color = 'white', size = 10)\n",
    "axes[3].annotate(f\"z = {np.round(y_train[d][0], 3)}\", xy = (10, 10), color = 'white', size = 10)\n",
    "axes[4].annotate(f\"z = {np.round(y_train[e][0], 3)}\", xy = (10, 10), color = 'white', size = 10)\n",
    "plt.show()"
   ]
  },
  {
   "cell_type": "code",
   "execution_count": null,
   "id": "b6f8bc11-e81a-4d55-b219-f46cbc608b0a",
   "metadata": {},
   "outputs": [],
   "source": [
    "for i in range(10000):\n",
    "    if np.abs(y_train[i][0]-4)<0.1:\n",
    "        print(i)"
   ]
  },
  {
   "cell_type": "code",
   "execution_count": null,
   "id": "8ec169d4",
   "metadata": {},
   "outputs": [],
   "source": [
    "# END"
   ]
  }
 ],
 "metadata": {
  "kernelspec": {
   "display_name": "Diffusion",
   "language": "python",
   "name": "diffusion"
  },
  "language_info": {
   "codemirror_mode": {
    "name": "ipython",
    "version": 3
   },
   "file_extension": ".py",
   "mimetype": "text/x-python",
   "name": "python",
   "nbconvert_exporter": "python",
   "pygments_lexer": "ipython3",
   "version": "3.9.16"
  }
 },
 "nbformat": 4,
 "nbformat_minor": 5
}
