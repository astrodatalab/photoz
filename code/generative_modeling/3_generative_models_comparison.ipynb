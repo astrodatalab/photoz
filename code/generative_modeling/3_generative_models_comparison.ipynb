{
 "cells": [
  {
   "cell_type": "code",
   "execution_count": 1,
   "id": "775d9ce8-fb55-421e-aef1-b5806e109d92",
   "metadata": {},
   "outputs": [
    {
     "name": "stderr",
     "output_type": "stream",
     "text": [
      "2023-10-17 19:27:32.178182: I tensorflow/core/platform/cpu_feature_guard.cc:182] This TensorFlow binary is optimized to use available CPU instructions in performance-critical operations.\n",
      "To enable the following instructions: AVX2 FMA, in other operations, rebuild TensorFlow with the appropriate compiler flags.\n",
      "2023-10-17 19:27:32.852126: W tensorflow/compiler/tf2tensorrt/utils/py_utils.cc:38] TF-TRT Warning: Could not find TensorRT\n"
     ]
    }
   ],
   "source": [
    "import sys, os\n",
    "import numpy as np\n",
    "import h5py\n",
    "import matplotlib.pyplot as plt\n",
    "import tensorflow as tf\n",
    "import tensorflow_probability as tfp\n",
    "import cv2\n",
    "\n",
    "from tqdm import tqdm\n",
    "from scipy.special import kl_div\n",
    "from scipy.stats import entropy\n",
    "from tensorflow import keras\n",
    "from tensorflow_probability import layers as tfpl\n",
    "from tensorflow_probability import distributions as tfd\n",
    "from tensorflow.keras import Sequential\n",
    "from tensorflow.keras.callbacks import TensorBoard, ModelCheckpoint, ReduceLROnPlateau\n",
    "from tensorflow.keras.layers import InputLayer, MaxPooling2D, Conv2D, Flatten, Dropout, Dense, BatchNormalization, Activation\n",
    "from tensorflow.keras.optimizers import Adam\n",
    "from tensorflow_probability.python.distributions import kl_divergence\n",
    "from tensorflow.keras.applications import InceptionV3"
   ]
  },
  {
   "cell_type": "code",
   "execution_count": 2,
   "id": "bf1cfee5-97bf-4119-a635-35671c635729",
   "metadata": {},
   "outputs": [
    {
     "name": "stdout",
     "output_type": "stream",
     "text": [
      "1 Physical GPUs, 1 Logical GPUs\n"
     ]
    },
    {
     "name": "stderr",
     "output_type": "stream",
     "text": [
      "2023-10-17 19:27:34.300139: I tensorflow/compiler/xla/stream_executor/cuda/cuda_gpu_executor.cc:996] successful NUMA node read from SysFS had negative value (-1), but there must be at least one NUMA node, so returning NUMA node zero. See more at https://github.com/torvalds/linux/blob/v6.0/Documentation/ABI/testing/sysfs-bus-pci#L344-L355\n",
      "2023-10-17 19:27:34.362164: I tensorflow/compiler/xla/stream_executor/cuda/cuda_gpu_executor.cc:996] successful NUMA node read from SysFS had negative value (-1), but there must be at least one NUMA node, so returning NUMA node zero. See more at https://github.com/torvalds/linux/blob/v6.0/Documentation/ABI/testing/sysfs-bus-pci#L344-L355\n",
      "2023-10-17 19:27:34.362355: I tensorflow/compiler/xla/stream_executor/cuda/cuda_gpu_executor.cc:996] successful NUMA node read from SysFS had negative value (-1), but there must be at least one NUMA node, so returning NUMA node zero. See more at https://github.com/torvalds/linux/blob/v6.0/Documentation/ABI/testing/sysfs-bus-pci#L344-L355\n",
      "2023-10-17 19:27:34.364717: I tensorflow/compiler/xla/stream_executor/cuda/cuda_gpu_executor.cc:996] successful NUMA node read from SysFS had negative value (-1), but there must be at least one NUMA node, so returning NUMA node zero. See more at https://github.com/torvalds/linux/blob/v6.0/Documentation/ABI/testing/sysfs-bus-pci#L344-L355\n",
      "2023-10-17 19:27:34.364861: I tensorflow/compiler/xla/stream_executor/cuda/cuda_gpu_executor.cc:996] successful NUMA node read from SysFS had negative value (-1), but there must be at least one NUMA node, so returning NUMA node zero. See more at https://github.com/torvalds/linux/blob/v6.0/Documentation/ABI/testing/sysfs-bus-pci#L344-L355\n",
      "2023-10-17 19:27:34.364987: I tensorflow/compiler/xla/stream_executor/cuda/cuda_gpu_executor.cc:996] successful NUMA node read from SysFS had negative value (-1), but there must be at least one NUMA node, so returning NUMA node zero. See more at https://github.com/torvalds/linux/blob/v6.0/Documentation/ABI/testing/sysfs-bus-pci#L344-L355\n",
      "2023-10-17 19:27:34.979531: I tensorflow/compiler/xla/stream_executor/cuda/cuda_gpu_executor.cc:996] successful NUMA node read from SysFS had negative value (-1), but there must be at least one NUMA node, so returning NUMA node zero. See more at https://github.com/torvalds/linux/blob/v6.0/Documentation/ABI/testing/sysfs-bus-pci#L344-L355\n",
      "2023-10-17 19:27:34.979717: I tensorflow/compiler/xla/stream_executor/cuda/cuda_gpu_executor.cc:996] successful NUMA node read from SysFS had negative value (-1), but there must be at least one NUMA node, so returning NUMA node zero. See more at https://github.com/torvalds/linux/blob/v6.0/Documentation/ABI/testing/sysfs-bus-pci#L344-L355\n",
      "2023-10-17 19:27:34.979848: I tensorflow/compiler/xla/stream_executor/cuda/cuda_gpu_executor.cc:996] successful NUMA node read from SysFS had negative value (-1), but there must be at least one NUMA node, so returning NUMA node zero. See more at https://github.com/torvalds/linux/blob/v6.0/Documentation/ABI/testing/sysfs-bus-pci#L344-L355\n",
      "2023-10-17 19:27:34.980054: I tensorflow/core/common_runtime/gpu/gpu_device.cc:1635] Created device /job:localhost/replica:0/task:0/device:GPU:0 with 20000 MB memory:  -> device: 0, name: NVIDIA RTX A6000, pci bus id: 0000:61:00.0, compute capability: 8.6\n"
     ]
    }
   ],
   "source": [
    "gpus = tf.config.list_physical_devices('GPU')\n",
    "\n",
    "if gpus:\n",
    "  # Restrict TensorFlow to only allocate 10GB of memory on the first GPU\n",
    "  try:\n",
    "    tf.config.experimental.set_virtual_device_configuration(\n",
    "        gpus[0],\n",
    "        [tf.config.experimental.VirtualDeviceConfiguration(memory_limit = 20000)])\n",
    "    logical_gpus = tf.config.experimental.list_logical_devices('GPU')\n",
    "    print(len(gpus), \"Physical GPUs,\", len(logical_gpus), \"Logical GPUs\")\n",
    "  except RuntimeError as e:\n",
    "    # Virtual devices must be set before GPUs have been initialized\n",
    "    print(e)"
   ]
  },
  {
   "cell_type": "code",
   "execution_count": 3,
   "id": "08bfdee5-5bf4-4a63-8ffb-c9d3f2060add",
   "metadata": {},
   "outputs": [],
   "source": [
    "hf_test = h5py.File('/data/HSC/HSC_v6/step2A/64x64/5x64x64_testing_small.hdf5', 'r')\n",
    "x_test = np.asarray(hf_test['image'][0 : ])\n",
    "\n",
    "hf_val = h5py.File('/data/HSC/HSC_v6/step2A/64x64/5x64x64_validation_small.hdf5', 'r')\n",
    "x_val = np.asarray(hf_val['image'][0 : ])\n",
    "\n",
    "hf_cvae = h5py.File('/data3/Billy/64x64_cvae_generated_13.hdf5', 'r')\n",
    "x_cvae = np.asarray(hf_cvae['image'][0 : ])"
   ]
  },
  {
   "cell_type": "code",
   "execution_count": 4,
   "id": "95ea2e30-9a7e-4f79-95bb-7941a1e70112",
   "metadata": {},
   "outputs": [
    {
     "data": {
      "text/plain": [
       "<matplotlib.image.AxesImage at 0x7fb5e7fcb070>"
      ]
     },
     "execution_count": 4,
     "metadata": {},
     "output_type": "execute_result"
    },
    {
     "data": {
      "image/png": "[encoded data removed]",
      "text/plain": [
       "<Figure size 640x480 with 1 Axes>"
      ]
     },
     "metadata": {},
     "output_type": "display_data"
    }
   ],
   "source": [
    "plt.imshow(x_test[29][0], cmap = 'afmhot')"
   ]
  },
  {
   "cell_type": "code",
   "execution_count": 5,
   "id": "2757ed2f-0577-43ee-bb46-3d25b88bcc9b",
   "metadata": {},
   "outputs": [],
   "source": [
    "inception = InceptionV3(include_top = False, pooling = 'avg', input_shape = (299, 299, 3))"
   ]
  },
  {
   "cell_type": "code",
   "execution_count": 6,
   "id": "9e63d7e7-573a-42b4-a889-a7354d376f9e",
   "metadata": {},
   "outputs": [
    {
     "name": "stderr",
     "output_type": "stream",
     "text": [
      "100%|██████████| 2000/2000 [00:01<00:00, 1034.27it/s]\n",
      "100%|██████████| 2000/2000 [00:01<00:00, 1044.86it/s]\n",
      "100%|██████████| 2000/2000 [00:01<00:00, 1056.08it/s]\n",
      "100%|██████████| 2000/2000 [00:01<00:00, 1066.93it/s]\n",
      "100%|██████████| 2000/2000 [00:01<00:00, 1058.91it/s]\n"
     ]
    }
   ],
   "source": [
    "five_band_images_cvae = np.zeros((5, 2000, 299, 299, 3))\n",
    "\n",
    "for band in range(5):\n",
    "    \n",
    "    # Iterate through bands, and length of image array\n",
    "    \n",
    "    for i in tqdm(range(2000)):\n",
    "        \n",
    "        resized_image = cv2.resize(x_cvae[i][band], (299, 299))\n",
    "        stacked_image = np.nan_to_num(np.stack([resized_image] * 3, axis = -1))\n",
    "        five_band_images_cvae[band][i] = stacked_image"
   ]
  },
  {
   "cell_type": "code",
   "execution_count": 7,
   "id": "659095f9-ddc3-49d1-a272-b58de5ede624",
   "metadata": {},
   "outputs": [
    {
     "name": "stderr",
     "output_type": "stream",
     "text": [
      "100%|██████████| 2000/2000 [00:01<00:00, 1061.67it/s]\n",
      "100%|██████████| 2000/2000 [00:01<00:00, 1065.26it/s]\n",
      "100%|██████████| 2000/2000 [00:01<00:00, 1075.10it/s]\n",
      "100%|██████████| 2000/2000 [00:01<00:00, 1066.14it/s]\n",
      "100%|██████████| 2000/2000 [00:01<00:00, 1062.37it/s]\n"
     ]
    }
   ],
   "source": [
    "five_band_images_test = np.zeros((5, 2000, 299, 299, 3))\n",
    "\n",
    "for band in range(5):\n",
    "    \n",
    "    # Iterate through bands, and length of image array\n",
    "    \n",
    "    for i in tqdm(range(2000)):\n",
    "        \n",
    "        resized_image = cv2.resize(x_test[i][band], (299, 299))\n",
    "        stacked_image = np.nan_to_num(np.stack([resized_image] * 3, axis = -1))\n",
    "        five_band_images_test[band][i] = stacked_image"
   ]
  },
  {
   "cell_type": "code",
   "execution_count": 8,
   "id": "f6e9ad60-c9bf-4b68-a49b-b5c166eaae52",
   "metadata": {},
   "outputs": [
    {
     "name": "stderr",
     "output_type": "stream",
     "text": [
      "100%|██████████| 2000/2000 [00:01<00:00, 1066.91it/s]\n",
      "100%|██████████| 2000/2000 [00:01<00:00, 1079.73it/s]\n",
      "100%|██████████| 2000/2000 [00:01<00:00, 1039.24it/s]\n",
      "100%|██████████| 2000/2000 [00:05<00:00, 364.36it/s]\n",
      "100%|██████████| 2000/2000 [00:03<00:00, 519.38it/s]\n"
     ]
    }
   ],
   "source": [
    "five_band_images_val = np.zeros((5, 2000, 299, 299, 3))\n",
    "\n",
    "for band in range(5):\n",
    "    \n",
    "    # Iterate through bands, and length of image array\n",
    "    \n",
    "    for i in tqdm(range(2000)):\n",
    "        \n",
    "        resized_image = cv2.resize(x_val[i][band], (299, 299))\n",
    "        stacked_image = np.nan_to_num(np.stack([resized_image] * 3, axis = -1))\n",
    "        five_band_images_val[band][i] = stacked_image"
   ]
  },
  {
   "cell_type": "code",
   "execution_count": 9,
   "id": "c178dcbf-3b95-4540-9356-5b803eac42f7",
   "metadata": {},
   "outputs": [],
   "source": [
    "def calculate_inception_score(images, inception_model):\n",
    "    \n",
    "    # Get predictions for the images\n",
    "    preds = inception_model.predict(images)\n",
    "    \n",
    "    # For numerical stability, subtract the maximum value from predictions\n",
    "    preds = preds - np.max(preds, axis=1, keepdims=True)\n",
    "    \n",
    "    # Compute the probabilities using softmax in a numerically stable way\n",
    "    exp_preds = np.exp(preds)\n",
    "    sum_exp_preds = np.sum(exp_preds, axis=1, keepdims=True)\n",
    "    preds = exp_preds / sum_exp_preds\n",
    "    \n",
    "    # Add a small constant epsilon to avoid log(0)\n",
    "    epsilon = 1e-10\n",
    "    preds = np.clip(preds, epsilon, 1. - epsilon)\n",
    "    \n",
    "    # Compute the KL divergence for each image\n",
    "    mean_preds = np.mean(preds, axis=0)\n",
    "    kl_divergences = preds * (np.log(preds) - np.log(np.expand_dims(mean_preds, 0)))\n",
    "    \n",
    "    # Compute the mean KL divergence\n",
    "    sum_kl_divergences = np.sum(kl_divergences, axis=1)\n",
    "    avg_kl_divergence = np.mean(sum_kl_divergences)\n",
    "    \n",
    "    # Compute the inception score\n",
    "    inception_score = np.exp(avg_kl_divergence)\n",
    "    \n",
    "    return inception_score"
   ]
  },
  {
   "cell_type": "code",
   "execution_count": 9,
   "id": "b04ad840-9e18-4b35-b71e-4fe75faf3106",
   "metadata": {},
   "outputs": [],
   "source": [
    "def calculate_inception_score_five_band(images, inception_model):\n",
    "    \n",
    "    # Get predictions for the images\n",
    "    \n",
    "    total_score = 0\n",
    "    \n",
    "    for i in range(0, 5):\n",
    "    \n",
    "        # Get predictions for the images\n",
    "        preds = inception_model.predict(images[i])\n",
    "    \n",
    "        # For numerical stability, subtract the maximum value from predictions\n",
    "        preds = preds - np.max(preds, axis = 1, keepdims = True)\n",
    "    \n",
    "        # Compute the probabilities using softmax in a numerically stable way\n",
    "        exp_preds = np.exp(preds)\n",
    "        sum_exp_preds = np.sum(exp_preds, axis = 1, keepdims = True)\n",
    "        preds = exp_preds / sum_exp_preds\n",
    "    \n",
    "        # Add a small constant epsilon to avoid log(0)\n",
    "        epsilon = 1e-10\n",
    "        preds = np.clip(preds, epsilon, 1. - epsilon)\n",
    "    \n",
    "        # Compute the KL divergence for each image\n",
    "        mean_preds = np.mean(preds, axis = 0)\n",
    "        kl_divergences = preds * (np.log(preds) - np.log(np.expand_dims(mean_preds, 0)))\n",
    "    \n",
    "        # Compute the mean KL divergence\n",
    "        sum_kl_divergences = np.sum(kl_divergences, axis = 1)\n",
    "        avg_kl_divergence = np.mean(sum_kl_divergences)\n",
    "    \n",
    "        # Compute the inception score\n",
    "        inception_score = np.exp(avg_kl_divergence)\n",
    "        \n",
    "        print(inception_score)\n",
    "        \n",
    "        total_score += inception_score / 5\n",
    "    \n",
    "    return total_score"
   ]
  },
  {
   "cell_type": "code",
   "execution_count": 13,
   "id": "b9ef702a-ec35-45e2-aabf-5b69c6adb45f",
   "metadata": {},
   "outputs": [
    {
     "name": "stdout",
     "output_type": "stream",
     "text": [
      "63/63 [==============================] - 2s 25ms/step\n",
      "1.1738341\n",
      "63/63 [==============================] - 2s 25ms/step\n",
      "1.5232509\n",
      "63/63 [==============================] - 2s 25ms/step\n",
      "1.8744445\n",
      "63/63 [==============================] - 2s 25ms/step\n",
      "1.9732213\n",
      "63/63 [==============================] - 2s 25ms/step\n",
      "2.0629294\n"
     ]
    },
    {
     "data": {
      "text/plain": [
       "1.7215360403060913"
      ]
     },
     "execution_count": 13,
     "metadata": {},
     "output_type": "execute_result"
    }
   ],
   "source": [
    "calculate_inception_score_five_band(five_band_images_test, inception)"
   ]
  },
  {
   "cell_type": "code",
   "execution_count": 11,
   "id": "484d538f-68c6-4a25-a6d2-f8ccceee473d",
   "metadata": {},
   "outputs": [
    {
     "name": "stdout",
     "output_type": "stream",
     "text": [
      "63/63 [==============================] - 2s 25ms/step\n",
      "1.1922252\n",
      "63/63 [==============================] - 2s 25ms/step\n",
      "1.508336\n",
      "63/63 [==============================] - 2s 25ms/step\n",
      "1.854462\n",
      "63/63 [==============================] - 2s 25ms/step\n",
      "1.9727914\n",
      "63/63 [==============================] - 2s 25ms/step\n",
      "2.0719173\n"
     ]
    },
    {
     "data": {
      "text/plain": [
       "1.7199463844299316"
      ]
     },
     "execution_count": 11,
     "metadata": {},
     "output_type": "execute_result"
    }
   ],
   "source": [
    "calculate_inception_score_five_band(five_band_images_val, inception)"
   ]
  },
  {
   "cell_type": "code",
   "execution_count": 10,
   "id": "531cf2fd-31c8-424b-8c95-b77969984c64",
   "metadata": {},
   "outputs": [
    {
     "name": "stderr",
     "output_type": "stream",
     "text": [
      "2023-10-17 19:28:36.451347: I tensorflow/compiler/xla/stream_executor/cuda/cuda_dnn.cc:424] Loaded cuDNN version 8600\n",
      "2023-10-17 19:28:37.360844: I tensorflow/tsl/platform/default/subprocess.cc:304] Start cannot spawn child process: No such file or directory\n",
      "2023-10-17 19:28:37.580737: I tensorflow/compiler/xla/stream_executor/cuda/cuda_blas.cc:637] TensorFloat-32 will be used for the matrix multiplication. This will only be logged once.\n"
     ]
    },
    {
     "name": "stdout",
     "output_type": "stream",
     "text": [
      "63/63 [==============================] - 7s 34ms/step\n",
      "1.2063245\n",
      "63/63 [==============================] - 2s 25ms/step\n",
      "1.3602586\n",
      "63/63 [==============================] - 2s 25ms/step\n",
      "1.6662041\n",
      "63/63 [==============================] - 2s 25ms/step\n",
      "1.7182252\n",
      "63/63 [==============================] - 2s 25ms/step\n",
      "1.7817332\n"
     ]
    },
    {
     "data": {
      "text/plain": [
       "1.546549105644226"
      ]
     },
     "execution_count": 10,
     "metadata": {},
     "output_type": "execute_result"
    }
   ],
   "source": [
    "calculate_inception_score_five_band(five_band_images_cvae, inception)"
   ]
  },
  {
   "cell_type": "code",
   "execution_count": 14,
   "id": "4db708c4-5ccc-4a14-b7df-4bbb1ccbba64",
   "metadata": {},
   "outputs": [
    {
     "name": "stdout",
     "output_type": "stream",
     "text": [
      "63/63 [==============================] - 2s 25ms/step\n",
      "63/63 [==============================] - 2s 25ms/step\n",
      "63/63 [==============================] - 2s 25ms/step\n",
      "126.39901199911651\n",
      "11.007508656460097\n"
     ]
    }
   ],
   "source": [
    "from scipy.linalg import sqrtm\n",
    "\n",
    "def calculate_fid(real_features, generated_features):\n",
    "    mu1, sigma1 = real_features.mean(axis = 0), np.cov(real_features, rowvar = False)\n",
    "    mu2, sigma2 = generated_features.mean(axis = 0), np.cov(generated_features, rowvar = False)\n",
    "    ssdiff = np.sum((mu1 - mu2) ** 2.0)\n",
    "    covmean = sqrtm(sigma1.dot(sigma2))\n",
    "    if np.iscomplexobj(covmean):\n",
    "        covmean = covmean.real\n",
    "    fid = ssdiff + np.trace(sigma1 + sigma2 - 2.0 * covmean)\n",
    "    return fid\n",
    "\n",
    "# Calculate feature vectors for real and generated images\n",
    "test_features = inception.predict(five_band_images_test[0])\n",
    "cvae_features = inception.predict(five_band_images_cvae[0])\n",
    "val_features = inception.predict(five_band_images_val[0])\n",
    "\n",
    "fid_score_cvae = calculate_fid(test_features, cvae_features)\n",
    "fid_score_val = calculate_fid(test_features, val_features)\n",
    "\n",
    "print(fid_score_cvae)\n",
    "print(fid_score_val)"
   ]
  },
  {
   "cell_type": "code",
   "execution_count": null,
   "id": "49d9ac73-68d3-45b9-a365-23d18ff667ea",
   "metadata": {},
   "outputs": [],
   "source": [
    "five_band_images.shape"
   ]
  },
  {
   "cell_type": "code",
   "execution_count": null,
   "id": "fe60dc85-ff97-4cd6-9c0a-e0c2924c2e91",
   "metadata": {},
   "outputs": [],
   "source": [
    "inception_scores = np.array([])\n",
    "\n",
    "for i in range(1): \n",
    "    \n",
    "    resized_g_image = np.expand_dims(cv2.resize(x_cvae[i][0], (299, 299)), axis = 0)\n",
    "    resized_r_image = np.expand_dims(cv2.resize(x_cvae[i][1], (299, 299)), axis = 0)\n",
    "    resized_i_image = np.expand_dims(cv2.resize(x_cvae[i][2], (299, 299)), axis = 0)\n",
    "    resized_z_image = np.expand_dims(cv2.resize(x_cvae[i][3], (299, 299)), axis = 0)\n",
    "    resized_y_image = np.expand_dims(cv2.resize(x_cvae[i][4], (299, 299)), axis = 0)\n",
    "    \n",
    "    plt.imshow(resized_g_image[0])\n",
    "    \n",
    "    stacked_g_image = np.expand_dims(np.transpose(np.vstack([resized_g_image, resized_g_image, resized_g_image]), (1, 2, 0)), axis = 0)\n",
    "    stacked_r_image = np.expand_dims(np.transpose(np.vstack([resized_r_image, resized_r_image, resized_r_image]), (1, 2, 0)), axis = 0)\n",
    "    stacked_i_image = np.expand_dims(np.transpose(np.vstack([resized_i_image, resized_i_image, resized_i_image]), (1, 2, 0)), axis = 0)\n",
    "    stacked_z_image = np.expand_dims(np.transpose(np.vstack([resized_z_image, resized_z_image, resized_z_image]), (1, 2, 0)), axis = 0)\n",
    "    stacked_y_image = np.expand_dims(np.transpose(np.vstack([resized_y_image, resized_y_image, resized_y_image]), (1, 2, 0)), axis = 0)\n",
    "    \n",
    "    # print(stacked_g_image.shape)\n",
    "    \n",
    "    inception_score_g = calculate_inception_score(stacked_g_image)\n",
    "    inception_score_r = calculate_inception_score(stacked_r_image)\n",
    "    inception_score_i = calculate_inception_score(stacked_i_image)\n",
    "    inception_score_z = calculate_inception_score(stacked_z_image)\n",
    "    inception_score_y = calculate_inception_score(stacked_y_image)\n",
    "    \n",
    "    inception_score = (inception_score_g + inception_score_r + inception_score_i + inception_score_z + inception_score_y) / 5\n",
    "    \n",
    "    inception_scores = np.append(inception_scores, inception_score)"
   ]
  },
  {
   "cell_type": "code",
   "execution_count": null,
   "id": "cd4ca4be-40c2-49b6-8841-fa0fde251d57",
   "metadata": {},
   "outputs": [],
   "source": [
    "inception_scores = np.array([])\n",
    "\n",
    "for i in range(len(hf_cvae)): \n",
    "    \n",
    "    resized_g_image = np.expand_dims(cv2.resize(x_cvae[i][0], (299, 299)), axis = 0)\n",
    "    resized_r_image = np.expand_dims(cv2.resize(x_cvae[i][1], (299, 299)), axis = 0)\n",
    "    resized_i_image = np.expand_dims(cv2.resize(x_cvae[i][2], (299, 299)), axis = 0)\n",
    "    resized_z_image = np.expand_dims(cv2.resize(x_cvae[i][3], (299, 299)), axis = 0)\n",
    "    resized_y_image = np.expand_dims(cv2.resize(x_cvae[i][4], (299, 299)), axis = 0)\n",
    "    \n",
    "    stacked_g_image = np.expand_dims(np.transpose(resized_g_image, (1, 2, 0)), axis = 0)\n",
    "    stacked_r_image = np.expand_dims(np.transpose(resized_r_image, (1, 2, 0)), axis = 0)\n",
    "    stacked_i_image = np.expand_dims(np.transpose(resized_i_image, (1, 2, 0)), axis = 0)\n",
    "    stacked_z_image = np.expand_dims(np.transpose(resized_z_image, (1, 2, 0)), axis = 0)\n",
    "    stacked_y_image = np.expand_dims(np.transpose(resized_y_image, (1, 2, 0)), axis = 0)\n",
    "    \n",
    "    # print(stacked_g_image.shape)\n",
    "    \n",
    "    inception_score_g = inception_score(stacked_g_image, inception)\n",
    "    inception_score_r = inception_score(stacked_r_image, inception)\n",
    "    inception_score_i = inception_score(stacked_i_image, inception)\n",
    "    inception_score_z = inception_score(stacked_z_image, inception)\n",
    "    inception_score_y = inception_score(stacked_y_image, inception)\n",
    "    \n",
    "    inception_score = (inception_score_g + inception_score_r + inception_score_i + inception_score_z + inception_score_y) / 5\n",
    "    \n",
    "    np.append([inception_scores, inception_score])"
   ]
  },
  {
   "cell_type": "code",
   "execution_count": null,
   "id": "8921025f-edfd-4961-bd01-38949e105457",
   "metadata": {},
   "outputs": [],
   "source": []
  },
  {
   "cell_type": "code",
   "execution_count": null,
   "id": "4e750916-ef6a-408d-80f4-922b98a9f085",
   "metadata": {},
   "outputs": [],
   "source": []
  }
 ],
 "metadata": {
  "kernelspec": {
   "display_name": "Diffusion",
   "language": "python",
   "name": "diffusion"
  },
  "language_info": {
   "codemirror_mode": {
    "name": "ipython",
    "version": 3
   },
   "file_extension": ".py",
   "mimetype": "text/x-python",
   "name": "python",
   "nbconvert_exporter": "python",
   "pygments_lexer": "ipython3",
   "version": "3.9.16"
  }
 },
 "nbformat": 4,
 "nbformat_minor": 5
}
