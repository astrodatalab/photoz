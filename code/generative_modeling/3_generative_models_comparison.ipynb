{
 "cells": [
  {
   "cell_type": "code",
   "execution_count": 1,
   "id": "775d9ce8-fb55-421e-aef1-b5806e109d92",
   "metadata": {},
   "outputs": [
    {
     "name": "stderr",
     "output_type": "stream",
     "text": [
      "2024-08-04 10:48:47.499651: I tensorflow/core/platform/cpu_feature_guard.cc:182] This TensorFlow binary is optimized to use available CPU instructions in performance-critical operations.\n",
      "To enable the following instructions: AVX2 FMA, in other operations, rebuild TensorFlow with the appropriate compiler flags.\n",
      "2024-08-04 10:48:48.181278: W tensorflow/compiler/tf2tensorrt/utils/py_utils.cc:38] TF-TRT Warning: Could not find TensorRT\n"
     ]
    }
   ],
   "source": [
    "import sys, os\n",
    "import numpy as np\n",
    "import h5py\n",
    "import matplotlib.pyplot as plt\n",
    "import tensorflow as tf\n",
    "import tensorflow_probability as tfp\n",
    "import cv2\n",
    "\n",
    "from tqdm import tqdm\n",
    "from scipy.special import kl_div\n",
    "from scipy.stats import entropy\n",
    "from tensorflow import keras\n",
    "from tensorflow_probability import layers as tfpl\n",
    "from tensorflow_probability import distributions as tfd\n",
    "from tensorflow.keras import Sequential\n",
    "from tensorflow.keras.callbacks import TensorBoard, ModelCheckpoint, ReduceLROnPlateau\n",
    "from tensorflow.keras.layers import InputLayer, MaxPooling2D, Conv2D, Flatten, Dropout, Dense, BatchNormalization, Activation\n",
    "from tensorflow.keras.optimizers import Adam\n",
    "from tensorflow_probability.python.distributions import kl_divergence\n",
    "from tensorflow.keras.applications import InceptionV3"
   ]
  },
  {
   "cell_type": "code",
   "execution_count": 2,
   "id": "bf1cfee5-97bf-4119-a635-35671c635729",
   "metadata": {},
   "outputs": [
    {
     "name": "stdout",
     "output_type": "stream",
     "text": [
      "1 Physical GPUs, 1 Logical GPUs\n"
     ]
    },
    {
     "name": "stderr",
     "output_type": "stream",
     "text": [
      "2024-08-04 10:48:49.535934: I tensorflow/compiler/xla/stream_executor/cuda/cuda_gpu_executor.cc:996] successful NUMA node read from SysFS had negative value (-1), but there must be at least one NUMA node, so returning NUMA node zero. See more at https://github.com/torvalds/linux/blob/v6.0/Documentation/ABI/testing/sysfs-bus-pci#L344-L355\n",
      "2024-08-04 10:48:49.561994: I tensorflow/compiler/xla/stream_executor/cuda/cuda_gpu_executor.cc:996] successful NUMA node read from SysFS had negative value (-1), but there must be at least one NUMA node, so returning NUMA node zero. See more at https://github.com/torvalds/linux/blob/v6.0/Documentation/ABI/testing/sysfs-bus-pci#L344-L355\n",
      "2024-08-04 10:48:49.562265: I tensorflow/compiler/xla/stream_executor/cuda/cuda_gpu_executor.cc:996] successful NUMA node read from SysFS had negative value (-1), but there must be at least one NUMA node, so returning NUMA node zero. See more at https://github.com/torvalds/linux/blob/v6.0/Documentation/ABI/testing/sysfs-bus-pci#L344-L355\n",
      "2024-08-04 10:48:49.565646: I tensorflow/compiler/xla/stream_executor/cuda/cuda_gpu_executor.cc:996] successful NUMA node read from SysFS had negative value (-1), but there must be at least one NUMA node, so returning NUMA node zero. See more at https://github.com/torvalds/linux/blob/v6.0/Documentation/ABI/testing/sysfs-bus-pci#L344-L355\n",
      "2024-08-04 10:48:49.565851: I tensorflow/compiler/xla/stream_executor/cuda/cuda_gpu_executor.cc:996] successful NUMA node read from SysFS had negative value (-1), but there must be at least one NUMA node, so returning NUMA node zero. See more at https://github.com/torvalds/linux/blob/v6.0/Documentation/ABI/testing/sysfs-bus-pci#L344-L355\n",
      "2024-08-04 10:48:49.566039: I tensorflow/compiler/xla/stream_executor/cuda/cuda_gpu_executor.cc:996] successful NUMA node read from SysFS had negative value (-1), but there must be at least one NUMA node, so returning NUMA node zero. See more at https://github.com/torvalds/linux/blob/v6.0/Documentation/ABI/testing/sysfs-bus-pci#L344-L355\n",
      "2024-08-04 10:48:49.639399: I tensorflow/compiler/xla/stream_executor/cuda/cuda_gpu_executor.cc:996] successful NUMA node read from SysFS had negative value (-1), but there must be at least one NUMA node, so returning NUMA node zero. See more at https://github.com/torvalds/linux/blob/v6.0/Documentation/ABI/testing/sysfs-bus-pci#L344-L355\n",
      "2024-08-04 10:48:49.639634: I tensorflow/compiler/xla/stream_executor/cuda/cuda_gpu_executor.cc:996] successful NUMA node read from SysFS had negative value (-1), but there must be at least one NUMA node, so returning NUMA node zero. See more at https://github.com/torvalds/linux/blob/v6.0/Documentation/ABI/testing/sysfs-bus-pci#L344-L355\n",
      "2024-08-04 10:48:49.639825: I tensorflow/compiler/xla/stream_executor/cuda/cuda_gpu_executor.cc:996] successful NUMA node read from SysFS had negative value (-1), but there must be at least one NUMA node, so returning NUMA node zero. See more at https://github.com/torvalds/linux/blob/v6.0/Documentation/ABI/testing/sysfs-bus-pci#L344-L355\n",
      "2024-08-04 10:48:49.639980: I tensorflow/core/common_runtime/gpu/gpu_device.cc:1635] Created device /job:localhost/replica:0/task:0/device:GPU:0 with 20000 MB memory:  -> device: 0, name: NVIDIA RTX A6000, pci bus id: 0000:61:00.0, compute capability: 8.6\n"
     ]
    }
   ],
   "source": [
    "gpus = tf.config.list_physical_devices('GPU')\n",
    "\n",
    "if gpus:\n",
    "  # Restrict TensorFlow to only allocate 10GB of memory on the first GPU\n",
    "  try:\n",
    "    tf.config.experimental.set_virtual_device_configuration(\n",
    "        gpus[0],\n",
    "        [tf.config.experimental.VirtualDeviceConfiguration(memory_limit = 20000)])\n",
    "    logical_gpus = tf.config.experimental.list_logical_devices('GPU')\n",
    "    print(len(gpus), \"Physical GPUs,\", len(logical_gpus), \"Logical GPUs\")\n",
    "  except RuntimeError as e:\n",
    "    # Virtual devices must be set before GPUs have been initialized\n",
    "    print(e)"
   ]
  },
  {
   "cell_type": "code",
   "execution_count": 3,
   "id": "8505570c-68d2-4f90-9fea-71630ead274b",
   "metadata": {},
   "outputs": [],
   "source": [
    "inception = InceptionV3(include_top = False, pooling = 'avg', input_shape = (299, 299, 3))"
   ]
  },
  {
   "cell_type": "code",
   "execution_count": 4,
   "id": "0a3f2e76-ac65-4cdf-902a-5905cb2b2a67",
   "metadata": {},
   "outputs": [],
   "source": [
    "hf_test = h5py.File('/data/HSC/HSC_v6/temp/64x64/5x64x64_testing_small_uniform.hdf5', 'r')\n",
    "x_test = np.asarray(hf_test['image'][0 : ])\n",
    "\n",
    "for i in range(len(x_test)): \n",
    "    x_test[i] = x_test[i] / np.amax(x_test[i])"
   ]
  },
  {
   "cell_type": "code",
   "execution_count": 5,
   "id": "2048710a-2a70-47cb-97b7-db33b6e79599",
   "metadata": {},
   "outputs": [],
   "source": [
    "hf_val = h5py.File('/data/HSC/HSC_v6/temp/64x64/5x64x64_validation_small_uniform.hdf5', 'r')\n",
    "x_val = np.asarray(hf_val['image'][0 : ])\n",
    "\n",
    "for i in range(len(x_val)): \n",
    "    x_val[i] = x_val[i] / np.amax(x_val[i])"
   ]
  },
  {
   "cell_type": "code",
   "execution_count": 6,
   "id": "fc86eeac-287e-4962-bb03-451418e2e651",
   "metadata": {},
   "outputs": [],
   "source": [
    "hf_cvae = h5py.File('/data/HSC_generated/HSC_generated_v1/cvae/64x64/5x64x64_testing.hdf5', 'r')\n",
    "x_cvae = np.asarray(hf_cvae['image'][0 : ])\n",
    "\n",
    "for i in range(len(x_cvae)): \n",
    "    x_cvae[i] = x_cvae[i] / np.amax(x_cvae[i])"
   ]
  },
  {
   "cell_type": "code",
   "execution_count": 7,
   "id": "644764d6-cef1-4137-96f1-272026443626",
   "metadata": {},
   "outputs": [
    {
     "name": "stdout",
     "output_type": "stream",
     "text": [
      "1.0 -1.0\n"
     ]
    }
   ],
   "source": [
    "hf_diffusion = h5py.File('/data/HSC_generated/HSC_generated_v1/ddpm/64x64/5x64x64_testing.hdf5', 'r')\n",
    "x_diffusion = np.asarray(hf_diffusion['image'][0 : ])\n",
    "\n",
    "# Normalize each image in the dataset\n",
    "for i in range(len(x_diffusion)):\n",
    "    img_min = np.min(x_diffusion[i])\n",
    "    img_max = np.max(x_diffusion[i])\n",
    "\n",
    "    if img_max - img_min != 0:\n",
    "        x_diffusion[i] = ((x_diffusion[i] - img_min) / (img_max - img_min)) * 2 - 1\n",
    "    else:\n",
    "        x_diffusion[i] = x_diffusion[i] - img_min\n",
    "\n",
    "print(np.max(x_diffusion), np.min(x_diffusion))"
   ]
  },
  {
   "cell_type": "markdown",
   "id": "cb66a847-4f27-4792-a07d-34d43bc136d6",
   "metadata": {},
   "source": [
    "hf_gan = h5py.File('/data/HSC_generated/HSC_generated_v1/step1/64x64/5x64x64_gan_generated.hdf5', 'r')\n",
    "x_gan = np.asarray(hf_gan['image'][0 : ])\n",
    "\n",
    "for i in range(len(x_gan)): \n",
    "    x_gan[i] = x_gan[i] / np.amax(x_gan[i])"
   ]
  },
  {
   "cell_type": "code",
   "execution_count": 8,
   "id": "95ea2e30-9a7e-4f79-95bb-7941a1e70112",
   "metadata": {},
   "outputs": [
    {
     "data": {
      "text/plain": [
       "<matplotlib.image.AxesImage at 0x76e5e42e2250>"
      ]
     },
     "execution_count": 8,
     "metadata": {},
     "output_type": "execute_result"
    },
    {
     "data": {
      "image/png": "[encoded data removed]",
      "text/plain": [
       "<Figure size 640x480 with 1 Axes>"
      ]
     },
     "metadata": {},
     "output_type": "display_data"
    }
   ],
   "source": [
    "plt.imshow(x_diffusion[29][0], cmap = 'afmhot')"
   ]
  },
  {
   "cell_type": "code",
   "execution_count": 9,
   "id": "9e63d7e7-573a-42b4-a889-a7354d376f9e",
   "metadata": {},
   "outputs": [
    {
     "name": "stderr",
     "output_type": "stream",
     "text": [
      "100%|██████████| 2000/2000 [00:04<00:00, 427.41it/s]\n",
      "100%|██████████| 2000/2000 [00:04<00:00, 481.03it/s]\n",
      "100%|██████████| 2000/2000 [00:03<00:00, 532.64it/s]\n",
      "100%|██████████| 2000/2000 [00:03<00:00, 536.58it/s]\n",
      "100%|██████████| 2000/2000 [00:03<00:00, 663.63it/s]\n"
     ]
    }
   ],
   "source": [
    "five_band_images_cvae = np.zeros((5, 2000, 299, 299, 3))\n",
    "\n",
    "for band in range(5):\n",
    "    \n",
    "    # Iterate through bands, and length of image array\n",
    "    \n",
    "    for i in tqdm(range(2000)):\n",
    "        \n",
    "        resized_image = cv2.resize(x_cvae[i][band], (299, 299))\n",
    "        stacked_image = np.nan_to_num(np.stack([resized_image] * 3, axis = -1))\n",
    "        five_band_images_cvae[band][i] = stacked_image"
   ]
  },
  {
   "cell_type": "markdown",
   "id": "254b556a-cbe4-4b44-be4e-2a9a3d86974e",
   "metadata": {},
   "source": [
    "five_band_images_gan = np.zeros((5, 2000, 299, 299, 3))\n",
    "\n",
    "for band in range(5):\n",
    "    \n",
    "    # Iterate through bands, and length of image array\n",
    "    \n",
    "    for i in tqdm(range(2000)):\n",
    "        \n",
    "        resized_image = cv2.resize(x_gan[i][band], (299, 299))\n",
    "        stacked_image = np.nan_to_num(np.stack([resized_image] * 3, axis = -1))\n",
    "        five_band_images_gan[band][i] = stacked_image"
   ]
  },
  {
   "cell_type": "code",
   "execution_count": 10,
   "id": "11a71221-7d1a-41e5-9fca-df189923c741",
   "metadata": {},
   "outputs": [
    {
     "name": "stderr",
     "output_type": "stream",
     "text": [
      "100%|██████████| 2000/2000 [00:03<00:00, 626.12it/s]\n",
      "100%|██████████| 2000/2000 [00:03<00:00, 651.76it/s]\n",
      "100%|██████████| 2000/2000 [00:03<00:00, 542.16it/s]\n",
      "100%|██████████| 2000/2000 [00:03<00:00, 584.35it/s]\n",
      "100%|██████████| 2000/2000 [00:03<00:00, 557.33it/s]\n"
     ]
    }
   ],
   "source": [
    "five_band_images_diffusion = np.zeros((5, 2000, 299, 299, 3))\n",
    "\n",
    "for band in range(5):\n",
    "    \n",
    "    # Iterate through bands, and length of image array\n",
    "    \n",
    "    for i in tqdm(range(2000)):\n",
    "        \n",
    "        resized_image = cv2.resize(x_diffusion[i][band], (299, 299))\n",
    "        stacked_image = np.nan_to_num(np.stack([resized_image] * 3, axis = -1))\n",
    "        five_band_images_diffusion[band][i] = stacked_image"
   ]
  },
  {
   "cell_type": "code",
   "execution_count": 11,
   "id": "659095f9-ddc3-49d1-a272-b58de5ede624",
   "metadata": {},
   "outputs": [
    {
     "name": "stderr",
     "output_type": "stream",
     "text": [
      "100%|██████████| 1806/1806 [00:03<00:00, 592.14it/s]\n",
      "100%|██████████| 1806/1806 [00:02<00:00, 669.05it/s]\n",
      "100%|██████████| 1806/1806 [00:03<00:00, 467.99it/s]\n",
      "100%|██████████| 1806/1806 [00:04<00:00, 419.64it/s]\n",
      "100%|██████████| 1806/1806 [00:07<00:00, 245.94it/s]\n"
     ]
    }
   ],
   "source": [
    "five_band_images_test = np.zeros((5, 2000, 299, 299, 3))\n",
    "\n",
    "for band in range(5):\n",
    "    \n",
    "    # Iterate through bands, and length of image array\n",
    "    \n",
    "    for i in tqdm(range(1806)):\n",
    "        \n",
    "        resized_image = cv2.resize(x_test[i][band], (299, 299))\n",
    "        stacked_image = np.nan_to_num(np.stack([resized_image] * 3, axis = -1))\n",
    "        five_band_images_test[band][i] = stacked_image"
   ]
  },
  {
   "cell_type": "code",
   "execution_count": 12,
   "id": "f6e9ad60-c9bf-4b68-a49b-b5c166eaae52",
   "metadata": {},
   "outputs": [
    {
     "name": "stderr",
     "output_type": "stream",
     "text": [
      "100%|██████████| 1782/1782 [00:04<00:00, 385.07it/s]\n",
      "100%|██████████| 1782/1782 [00:04<00:00, 382.46it/s]\n",
      "100%|██████████| 1782/1782 [00:04<00:00, 393.05it/s]\n",
      "100%|██████████| 1782/1782 [00:04<00:00, 376.13it/s]\n",
      "100%|██████████| 1782/1782 [00:04<00:00, 401.51it/s]\n"
     ]
    }
   ],
   "source": [
    "five_band_images_val = np.zeros((5, 2000, 299, 299, 3))\n",
    "\n",
    "for band in range(5):\n",
    "    \n",
    "    # Iterate through bands, and length of image array\n",
    "    \n",
    "    for i in tqdm(range(1782)):\n",
    "        \n",
    "        resized_image = cv2.resize(x_val[i][band], (299, 299))\n",
    "        stacked_image = np.nan_to_num(np.stack([resized_image] * 3, axis = -1))\n",
    "        five_band_images_val[band][i] = stacked_image"
   ]
  },
  {
   "cell_type": "code",
   "execution_count": 14,
   "id": "c178dcbf-3b95-4540-9356-5b803eac42f7",
   "metadata": {},
   "outputs": [],
   "source": [
    "def calculate_inception_score(images, inception_model):\n",
    "\n",
    "    preds = inception_model.predict(images)\n",
    "    preds = preds - np.max(preds, axis = 1, keepdims = True)\n",
    "\n",
    "    exp_preds = np.exp(preds)\n",
    "    sum_exp_preds = np.sum(exp_preds, axis=1, keepdims=True)\n",
    "    preds = exp_preds / sum_exp_preds\n",
    "    \n",
    "    epsilon = 1e-10\n",
    "    preds = np.clip(preds, epsilon, 1. - epsilon)\n",
    "    \n",
    "    mean_preds = np.mean(preds, axis=0)\n",
    "    kl_divergences = preds * (np.log(preds) - np.log(np.expand_dims(mean_preds, 0)))\n",
    "    \n",
    "    sum_kl_divergences = np.sum(kl_divergences, axis=1)\n",
    "    avg_kl_divergence = np.mean(sum_kl_divergences)\n",
    "\n",
    "    inception_score = np.exp(avg_kl_divergence)\n",
    "    return inception_score"
   ]
  },
  {
   "cell_type": "code",
   "execution_count": 13,
   "id": "b04ad840-9e18-4b35-b71e-4fe75faf3106",
   "metadata": {},
   "outputs": [],
   "source": [
    "def calculate_inception_score_five_band(images, inception_model):\n",
    "    \n",
    "    total_score = 0\n",
    "    \n",
    "    for i in range(0, 5):\n",
    "    \n",
    "        preds = inception_model.predict(images[i])\n",
    "        preds = preds - np.max(preds, axis = 1, keepdims = True)\n",
    "\n",
    "        exp_preds = np.exp(preds)\n",
    "        sum_exp_preds = np.sum(exp_preds, axis = 1, keepdims = True)\n",
    "        preds = exp_preds / sum_exp_preds\n",
    "    \n",
    "        epsilon = 1e-10\n",
    "        preds = np.clip(preds, epsilon, 1. - epsilon)\n",
    "    \n",
    "        mean_preds = np.mean(preds, axis = 0)\n",
    "        kl_divergences = preds * (np.log(preds) - np.log(np.expand_dims(mean_preds, 0)))\n",
    "\n",
    "        sum_kl_divergences = np.sum(kl_divergences, axis = 1)\n",
    "        avg_kl_divergence = np.mean(sum_kl_divergences)\n",
    "    \n",
    "        inception_score = np.exp(avg_kl_divergence)\n",
    "        total_score += inception_score / 5\n",
    "    \n",
    "    return total_score"
   ]
  },
  {
   "cell_type": "code",
   "execution_count": 15,
   "id": "b9ef702a-ec35-45e2-aabf-5b69c6adb45f",
   "metadata": {},
   "outputs": [
    {
     "name": "stderr",
     "output_type": "stream",
     "text": [
      "2024-08-04 10:51:48.659083: W tensorflow/tsl/framework/cpu_allocator_impl.cc:83] Allocation of 2145624000 exceeds 10% of free system memory.\n",
      "2024-08-04 10:51:51.861143: W tensorflow/tsl/framework/cpu_allocator_impl.cc:83] Allocation of 2145624000 exceeds 10% of free system memory.\n",
      "2024-08-04 10:51:54.809632: I tensorflow/compiler/xla/stream_executor/cuda/cuda_dnn.cc:424] Loaded cuDNN version 8600\n",
      "2024-08-04 10:51:55.191637: I tensorflow/tsl/platform/default/subprocess.cc:304] Start cannot spawn child process: No such file or directory\n",
      "2024-08-04 10:51:55.694285: I tensorflow/compiler/xla/stream_executor/cuda/cuda_blas.cc:637] TensorFloat-32 will be used for the matrix multiplication. This will only be logged once.\n"
     ]
    },
    {
     "name": "stdout",
     "output_type": "stream",
     "text": [
      "63/63 [==============================] - 6s 37ms/step\n"
     ]
    },
    {
     "name": "stderr",
     "output_type": "stream",
     "text": [
      "2024-08-04 10:52:02.944942: W tensorflow/tsl/framework/cpu_allocator_impl.cc:83] Allocation of 2145624000 exceeds 10% of free system memory.\n",
      "2024-08-04 10:52:05.379418: W tensorflow/tsl/framework/cpu_allocator_impl.cc:83] Allocation of 2145624000 exceeds 10% of free system memory.\n"
     ]
    },
    {
     "name": "stdout",
     "output_type": "stream",
     "text": [
      "63/63 [==============================] - 2s 25ms/step\n"
     ]
    },
    {
     "name": "stderr",
     "output_type": "stream",
     "text": [
      "2024-08-04 10:52:10.918960: W tensorflow/tsl/framework/cpu_allocator_impl.cc:83] Allocation of 2145624000 exceeds 10% of free system memory.\n"
     ]
    },
    {
     "name": "stdout",
     "output_type": "stream",
     "text": [
      "63/63 [==============================] - 2s 25ms/step\n",
      "63/63 [==============================] - 2s 25ms/step\n",
      "63/63 [==============================] - 2s 26ms/step\n"
     ]
    },
    {
     "data": {
      "text/plain": [
       "1.0507938385009765"
      ]
     },
     "execution_count": 15,
     "metadata": {},
     "output_type": "execute_result"
    }
   ],
   "source": [
    "calculate_inception_score_five_band(five_band_images_test, inception)"
   ]
  },
  {
   "cell_type": "code",
   "execution_count": 16,
   "id": "484d538f-68c6-4a25-a6d2-f8ccceee473d",
   "metadata": {},
   "outputs": [
    {
     "name": "stdout",
     "output_type": "stream",
     "text": [
      "63/63 [==============================] - 2s 25ms/step\n",
      "63/63 [==============================] - 2s 25ms/step\n",
      "63/63 [==============================] - 2s 25ms/step\n",
      "63/63 [==============================] - 2s 25ms/step\n",
      "63/63 [==============================] - 2s 26ms/step\n"
     ]
    },
    {
     "data": {
      "text/plain": [
       "1.0513185024261475"
      ]
     },
     "execution_count": 16,
     "metadata": {},
     "output_type": "execute_result"
    }
   ],
   "source": [
    "calculate_inception_score_five_band(five_band_images_val, inception)"
   ]
  },
  {
   "cell_type": "code",
   "execution_count": null,
   "id": "531cf2fd-31c8-424b-8c95-b77969984c64",
   "metadata": {},
   "outputs": [
    {
     "name": "stdout",
     "output_type": "stream",
     "text": [
      "63/63 [==============================] - 2s 25ms/step\n"
     ]
    }
   ],
   "source": [
    "calculate_inception_score_five_band(five_band_images_cvae, inception)"
   ]
  },
  {
   "cell_type": "code",
   "execution_count": null,
   "id": "8d7d10ee-f1c0-4389-a341-3f444b8b8640",
   "metadata": {},
   "outputs": [],
   "source": [
    "calculate_inception_score_five_band(five_band_images_diffusion, inception)"
   ]
  },
  {
   "cell_type": "code",
   "execution_count": null,
   "id": "f3fe4c89-28b2-4d64-9884-91e6c0208eb9",
   "metadata": {},
   "outputs": [],
   "source": [
    "calculate_inception_score_five_band(five_band_images_gan, inception)"
   ]
  },
  {
   "cell_type": "code",
   "execution_count": null,
   "id": "4db708c4-5ccc-4a14-b7df-4bbb1ccbba64",
   "metadata": {},
   "outputs": [],
   "source": [
    "from scipy.linalg import sqrtm\n",
    "\n",
    "def calculate_fid(real_features, generated_features):\n",
    "    \n",
    "    mu1, sigma1 = real_features.mean(axis = 0), np.cov(real_features, rowvar = False)\n",
    "    mu2, sigma2 = generated_features.mean(axis = 0), np.cov(generated_features, rowvar = False)\n",
    "    \n",
    "    ssdiff = np.sum((mu1 - mu2) ** 2.0)\n",
    "    \n",
    "    covmean = sqrtm(sigma1.dot(sigma2))\n",
    "    \n",
    "    if np.iscomplexobj(covmean):\n",
    "        covmean = covmean.real\n",
    "    \n",
    "    fid = ssdiff + np.trace(sigma1 + sigma2 - 2.0 * covmean)\n",
    "    \n",
    "    return fid"
   ]
  },
  {
   "cell_type": "code",
   "execution_count": null,
   "id": "cce9ca06-53ff-4751-b4b6-ec9e838e74e0",
   "metadata": {},
   "outputs": [],
   "source": [
    "def calculate_fid(real_features, generated_features):\n",
    "    \n",
    "    mu1, sigma1 = real_features.mean(axis=0), np.cov(real_features, rowvar=False)\n",
    "    mu2, sigma2 = generated_features.mean(axis=0), np.cov(generated_features, rowvar=False)\n",
    "    \n",
    "    ssdiff = np.sum((mu1 - mu2)**2.0)\n",
    "    \n",
    "    covmean = sqrtm(sigma1.dot(sigma2))\n",
    "    \n",
    "    if np.iscomplexobj(covmean):\n",
    "        covmean = covmean.real\n",
    "    \n",
    "    fid = ssdiff + np.trace(sigma1 + sigma2 - 2.0 * covmean)\n",
    "    \n",
    "    return fid"
   ]
  },
  {
   "cell_type": "code",
   "execution_count": null,
   "id": "08aadb30-cb4b-4739-9caf-683b2a81548e",
   "metadata": {},
   "outputs": [],
   "source": [
    "test_features = inception.predict(five_band_images_test[0])\n",
    "cvae_features = inception.predict(five_band_images_cvae[0])\n",
    "fid_score_cvae = calculate_fid(test_features, cvae_features)\n",
    "print(fid_score_cvae)"
   ]
  },
  {
   "cell_type": "code",
   "execution_count": null,
   "id": "b99be797-00aa-45da-9468-de0519404de5",
   "metadata": {},
   "outputs": [],
   "source": [
    "test_features = inception.predict(five_band_images_test[0])\n",
    "val_features = inception.predict(five_band_images_val[0])\n",
    "fid_score_val = calculate_fid(test_features, val_features)\n",
    "print(fid_score_val)"
   ]
  },
  {
   "cell_type": "code",
   "execution_count": null,
   "id": "73e35f8f-850c-4a2d-9a3f-64db2774704b",
   "metadata": {},
   "outputs": [],
   "source": [
    "test_features = inception.predict(five_band_images_test[0])\n",
    "diffusion_features = inception.predict(five_band_images_diffusion[0])\n",
    "fid_score_diffusion = calculate_fid(test_features, diffusion_features)\n",
    "print(fid_score_diffusion)"
   ]
  },
  {
   "cell_type": "code",
   "execution_count": null,
   "id": "d85f2ab1-ce91-4238-83ff-7289971f8f95",
   "metadata": {},
   "outputs": [],
   "source": [
    "test_features = inception.predict(five_band_images_test[0])\n",
    "gan_features = inception.predict(five_band_images_gan[0])\n",
    "fid_score_gan = calculate_fid(test_features, gan_features)\n",
    "print(fid_score_gan)"
   ]
  },
  {
   "cell_type": "code",
   "execution_count": 18,
   "id": "ca0b384a-84eb-4c81-9bfe-788a381566bb",
   "metadata": {},
   "outputs": [
    {
     "data": {
      "image/png": "[encoded data removed]",
      "text/plain": [
       "<Figure size 640x480 with 1 Axes>"
      ]
     },
     "metadata": {},
     "output_type": "display_data"
    }
   ],
   "source": [
    "labels = ['Validation', 'cVAE', 'Diffusion', 'cGAN']\n",
    "values = [11.01, 261.96, 282.86, 215.93]\n",
    "\n",
    "# Create figure and axes\n",
    "fig, ax = plt.subplots()\n",
    "\n",
    "# Generate the bars\n",
    "bars = plt.bar(labels, values, color=['red', 'green', 'blue', 'purple'])\n",
    "\n",
    "# Add some text for labels, title, and custom x-axis tick labels, etc.\n",
    "ax.set_ylabel('FID Score (Difference Between Real and Generated Data)')\n",
    "ax.set_title('FID Score vs Model')\n",
    "ax.set_xticks(np.arange(len(labels)))\n",
    "ax.set_xticklabels(labels)\n",
    "\n",
    "# Label the bars with their values\n",
    "for bar in bars:\n",
    "    height = bar.get_height()\n",
    "    ax.annotate(f'{height}',\n",
    "                xy=(bar.get_x() + bar.get_width() / 2, height),\n",
    "                xytext=(0, 3),  # 3 points vertical offset\n",
    "                textcoords=\"offset points\",\n",
    "                ha='center', va='bottom')\n",
    "\n",
    "plt.show()"
   ]
  },
  {
   "cell_type": "code",
   "execution_count": 21,
   "id": "705d5af9-45f2-4f6a-b9af-18f859ee8dc2",
   "metadata": {},
   "outputs": [
    {
     "data": {
      "image/png": "[encoded data removed]",
      "text/plain": [
       "<Figure size 640x480 with 1 Axes>"
      ]
     },
     "metadata": {},
     "output_type": "display_data"
    }
   ],
   "source": [
    "labels = ['Testing', 'Validation', 'cVAE', 'Diffusion', 'cGAN']\n",
    "values = [1.721, 1.72, 1.547, 1.867, 1.004]\n",
    "\n",
    "# Create figure and axes\n",
    "fig, ax = plt.subplots()\n",
    "\n",
    "# Generate the bars\n",
    "bars = plt.bar(labels, values, color=['red', 'green', 'blue', 'purple'])\n",
    "\n",
    "# Add some text for labels, title, and custom x-axis tick labels, etc.\n",
    "ax.set_ylabel('Inception Score (Visual Fidelity)')\n",
    "ax.set_title('Inception Score vs Model')\n",
    "ax.set_xticks(np.arange(len(labels)))\n",
    "ax.set_xticklabels(labels)\n",
    "\n",
    "# Label the bars with their values\n",
    "for bar in bars:\n",
    "    height = bar.get_height()\n",
    "    ax.annotate(f'{height}',\n",
    "                xy=(bar.get_x() + bar.get_width() / 2, height),\n",
    "                xytext=(0, 3),  # 3 points vertical offset\n",
    "                textcoords=\"offset points\",\n",
    "                ha='center', va='bottom')\n",
    "\n",
    "plt.ylim(1, 2)    \n",
    "\n",
    "plt.show()"
   ]
  },
  {
   "cell_type": "code",
   "execution_count": null,
   "id": "4e750916-ef6a-408d-80f4-922b98a9f085",
   "metadata": {},
   "outputs": [],
   "source": [
    "# END"
   ]
  }
 ],
 "metadata": {
  "kernelspec": {
   "display_name": "Diffusion",
   "language": "python",
   "name": "diffusion"
  },
  "language_info": {
   "codemirror_mode": {
    "name": "ipython",
    "version": 3
   },
   "file_extension": ".py",
   "mimetype": "text/x-python",
   "name": "python",
   "nbconvert_exporter": "python",
   "pygments_lexer": "ipython3",
   "version": "3.9.16"
  }
 },
 "nbformat": 4,
 "nbformat_minor": 5
}
