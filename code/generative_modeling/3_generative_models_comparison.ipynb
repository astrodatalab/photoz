{
 "cells": [
  {
   "cell_type": "code",
   "execution_count": 1,
   "id": "775d9ce8-fb55-421e-aef1-b5806e109d92",
   "metadata": {},
   "outputs": [
    {
     "name": "stderr",
     "output_type": "stream",
     "text": [
      "2023-10-21 15:11:27.878778: I tensorflow/core/platform/cpu_feature_guard.cc:182] This TensorFlow binary is optimized to use available CPU instructions in performance-critical operations.\n",
      "To enable the following instructions: AVX2 FMA, in other operations, rebuild TensorFlow with the appropriate compiler flags.\n",
      "2023-10-21 15:11:28.562178: W tensorflow/compiler/tf2tensorrt/utils/py_utils.cc:38] TF-TRT Warning: Could not find TensorRT\n"
     ]
    }
   ],
   "source": [
    "import sys, os\n",
    "import numpy as np\n",
    "import h5py\n",
    "import matplotlib.pyplot as plt\n",
    "import tensorflow as tf\n",
    "import tensorflow_probability as tfp\n",
    "import cv2\n",
    "\n",
    "from tqdm import tqdm\n",
    "from scipy.special import kl_div\n",
    "from scipy.stats import entropy\n",
    "from tensorflow import keras\n",
    "from tensorflow_probability import layers as tfpl\n",
    "from tensorflow_probability import distributions as tfd\n",
    "from tensorflow.keras import Sequential\n",
    "from tensorflow.keras.callbacks import TensorBoard, ModelCheckpoint, ReduceLROnPlateau\n",
    "from tensorflow.keras.layers import InputLayer, MaxPooling2D, Conv2D, Flatten, Dropout, Dense, BatchNormalization, Activation\n",
    "from tensorflow.keras.optimizers import Adam\n",
    "from tensorflow_probability.python.distributions import kl_divergence\n",
    "from tensorflow.keras.applications import InceptionV3"
   ]
  },
  {
   "cell_type": "code",
   "execution_count": 2,
   "id": "bf1cfee5-97bf-4119-a635-35671c635729",
   "metadata": {},
   "outputs": [
    {
     "name": "stdout",
     "output_type": "stream",
     "text": [
      "1 Physical GPUs, 1 Logical GPUs\n"
     ]
    },
    {
     "name": "stderr",
     "output_type": "stream",
     "text": [
      "2023-10-21 15:11:29.912256: I tensorflow/compiler/xla/stream_executor/cuda/cuda_gpu_executor.cc:996] successful NUMA node read from SysFS had negative value (-1), but there must be at least one NUMA node, so returning NUMA node zero. See more at https://github.com/torvalds/linux/blob/v6.0/Documentation/ABI/testing/sysfs-bus-pci#L344-L355\n",
      "2023-10-21 15:11:29.976465: I tensorflow/compiler/xla/stream_executor/cuda/cuda_gpu_executor.cc:996] successful NUMA node read from SysFS had negative value (-1), but there must be at least one NUMA node, so returning NUMA node zero. See more at https://github.com/torvalds/linux/blob/v6.0/Documentation/ABI/testing/sysfs-bus-pci#L344-L355\n",
      "2023-10-21 15:11:29.976663: I tensorflow/compiler/xla/stream_executor/cuda/cuda_gpu_executor.cc:996] successful NUMA node read from SysFS had negative value (-1), but there must be at least one NUMA node, so returning NUMA node zero. See more at https://github.com/torvalds/linux/blob/v6.0/Documentation/ABI/testing/sysfs-bus-pci#L344-L355\n",
      "2023-10-21 15:11:29.978913: I tensorflow/compiler/xla/stream_executor/cuda/cuda_gpu_executor.cc:996] successful NUMA node read from SysFS had negative value (-1), but there must be at least one NUMA node, so returning NUMA node zero. See more at https://github.com/torvalds/linux/blob/v6.0/Documentation/ABI/testing/sysfs-bus-pci#L344-L355\n",
      "2023-10-21 15:11:29.979079: I tensorflow/compiler/xla/stream_executor/cuda/cuda_gpu_executor.cc:996] successful NUMA node read from SysFS had negative value (-1), but there must be at least one NUMA node, so returning NUMA node zero. See more at https://github.com/torvalds/linux/blob/v6.0/Documentation/ABI/testing/sysfs-bus-pci#L344-L355\n",
      "2023-10-21 15:11:29.979207: I tensorflow/compiler/xla/stream_executor/cuda/cuda_gpu_executor.cc:996] successful NUMA node read from SysFS had negative value (-1), but there must be at least one NUMA node, so returning NUMA node zero. See more at https://github.com/torvalds/linux/blob/v6.0/Documentation/ABI/testing/sysfs-bus-pci#L344-L355\n",
      "2023-10-21 15:11:30.683712: I tensorflow/compiler/xla/stream_executor/cuda/cuda_gpu_executor.cc:996] successful NUMA node read from SysFS had negative value (-1), but there must be at least one NUMA node, so returning NUMA node zero. See more at https://github.com/torvalds/linux/blob/v6.0/Documentation/ABI/testing/sysfs-bus-pci#L344-L355\n",
      "2023-10-21 15:11:30.683906: I tensorflow/compiler/xla/stream_executor/cuda/cuda_gpu_executor.cc:996] successful NUMA node read from SysFS had negative value (-1), but there must be at least one NUMA node, so returning NUMA node zero. See more at https://github.com/torvalds/linux/blob/v6.0/Documentation/ABI/testing/sysfs-bus-pci#L344-L355\n",
      "2023-10-21 15:11:30.684044: I tensorflow/compiler/xla/stream_executor/cuda/cuda_gpu_executor.cc:996] successful NUMA node read from SysFS had negative value (-1), but there must be at least one NUMA node, so returning NUMA node zero. See more at https://github.com/torvalds/linux/blob/v6.0/Documentation/ABI/testing/sysfs-bus-pci#L344-L355\n",
      "2023-10-21 15:11:30.684255: I tensorflow/core/common_runtime/gpu/gpu_device.cc:1635] Created device /job:localhost/replica:0/task:0/device:GPU:0 with 20000 MB memory:  -> device: 0, name: NVIDIA RTX A6000, pci bus id: 0000:61:00.0, compute capability: 8.6\n"
     ]
    }
   ],
   "source": [
    "gpus = tf.config.list_physical_devices('GPU')\n",
    "\n",
    "if gpus:\n",
    "  # Restrict TensorFlow to only allocate 10GB of memory on the first GPU\n",
    "  try:\n",
    "    tf.config.experimental.set_virtual_device_configuration(\n",
    "        gpus[0],\n",
    "        [tf.config.experimental.VirtualDeviceConfiguration(memory_limit = 20000)])\n",
    "    logical_gpus = tf.config.experimental.list_logical_devices('GPU')\n",
    "    print(len(gpus), \"Physical GPUs,\", len(logical_gpus), \"Logical GPUs\")\n",
    "  except RuntimeError as e:\n",
    "    # Virtual devices must be set before GPUs have been initialized\n",
    "    print(e)"
   ]
  },
  {
   "cell_type": "code",
   "execution_count": 3,
   "id": "8505570c-68d2-4f90-9fea-71630ead274b",
   "metadata": {},
   "outputs": [],
   "source": [
    "inception = InceptionV3(include_top = False, pooling = 'avg', input_shape = (299, 299, 3))"
   ]
  },
  {
   "cell_type": "code",
   "execution_count": 5,
   "id": "0a3f2e76-ac65-4cdf-902a-5905cb2b2a67",
   "metadata": {},
   "outputs": [],
   "source": [
    "hf_test = h5py.File('/data/HSC/HSC_v6/step2A/64x64/5x64x64_testing_small.hdf5', 'r')\n",
    "x_test = np.asarray(hf_test['image'][0 : ])\n",
    "\n",
    "for i in range(len(x_test)): \n",
    "    x_test[i] = x_test[i] / np.amax(x_test[i])"
   ]
  },
  {
   "cell_type": "code",
   "execution_count": null,
   "id": "2048710a-2a70-47cb-97b7-db33b6e79599",
   "metadata": {},
   "outputs": [],
   "source": [
    "hf_val = h5py.File('/data/HSC/HSC_v6/step2A/64x64/5x64x64_validation_small.hdf5', 'r')\n",
    "x_val = np.asarray(hf_val['image'][0 : ])\n",
    "\n",
    "for i in range(len(x_val)): \n",
    "    x_val[i] = x_val[i] / np.amax(x_val[i])"
   ]
  },
  {
   "cell_type": "code",
   "execution_count": 40,
   "id": "fc86eeac-287e-4962-bb03-451418e2e651",
   "metadata": {},
   "outputs": [],
   "source": [
    "hf_cvae = h5py.File('/data3/Billy/64x64_cvae_generated_13.hdf5', 'r')\n",
    "x_cvae = np.asarray(hf_cvae['image'][0 : ])\n",
    "\n",
    "for i in range(len(x_cvae)): \n",
    "    x_cvae[i] = x_cvae[i] / np.amax(x_cvae[i])"
   ]
  },
  {
   "cell_type": "code",
   "execution_count": 33,
   "id": "644764d6-cef1-4137-96f1-272026443626",
   "metadata": {},
   "outputs": [],
   "source": [
    "hf_diffusion = h5py.File('/data/HSC_generated/HSC_generated_v1/step1/64x64/5x64x64_diffusion_generated.hdf5', 'r')\n",
    "x_diffusion = np.asarray(hf_diffusion['image'][0 : ])\n",
    "\n",
    "for i in range(len(x_diffusion)): \n",
    "    x_diffusion[i] = x_diffusion[i] / np.amax(x_diffusion[i])"
   ]
  },
  {
   "cell_type": "code",
   "execution_count": 4,
   "id": "e19d4177-7336-450f-83bd-498416aaf855",
   "metadata": {},
   "outputs": [],
   "source": [
    "hf_gan = h5py.File('/data/HSC_generated/HSC_generated_v1/step1/64x64/5x64x64_gan_generated.hdf5', 'r')\n",
    "x_gan = np.asarray(hf_gan['image'][0 : ])\n",
    "\n",
    "for i in range(len(x_gan)): \n",
    "    x_gan[i] = x_gan[i] / np.amax(x_gan[i])"
   ]
  },
  {
   "cell_type": "code",
   "execution_count": 34,
   "id": "95ea2e30-9a7e-4f79-95bb-7941a1e70112",
   "metadata": {},
   "outputs": [
    {
     "data": {
      "text/plain": [
       "<matplotlib.image.AxesImage at 0x7f790c0fc490>"
      ]
     },
     "execution_count": 34,
     "metadata": {},
     "output_type": "execute_result"
    },
    {
     "data": {
      "image/png": "[encoded data removed]",
      "text/plain": [
       "<Figure size 640x480 with 1 Axes>"
      ]
     },
     "metadata": {},
     "output_type": "display_data"
    }
   ],
   "source": [
    "plt.imshow(x_diffusion[29][0], cmap = 'afmhot')"
   ]
  },
  {
   "cell_type": "code",
   "execution_count": 35,
   "id": "92564213-e996-4ce8-942e-18727ba95e1a",
   "metadata": {},
   "outputs": [
    {
     "data": {
      "text/plain": [
       "1.0"
      ]
     },
     "execution_count": 35,
     "metadata": {},
     "output_type": "execute_result"
    }
   ],
   "source": [
    "np.max(x_diffusion)"
   ]
  },
  {
   "cell_type": "code",
   "execution_count": 39,
   "id": "c94dd2a8-04ad-4f36-9d90-efbee5d1b618",
   "metadata": {},
   "outputs": [
    {
     "data": {
      "text/plain": [
       "184.6129"
      ]
     },
     "execution_count": 39,
     "metadata": {},
     "output_type": "execute_result"
    }
   ],
   "source": [
    "np.max(x_cvae)"
   ]
  },
  {
   "cell_type": "code",
   "execution_count": 41,
   "id": "9e63d7e7-573a-42b4-a889-a7354d376f9e",
   "metadata": {},
   "outputs": [
    {
     "name": "stderr",
     "output_type": "stream",
     "text": [
      "100%|██████████| 2000/2000 [00:02<00:00, 936.16it/s]\n",
      "100%|██████████| 2000/2000 [00:02<00:00, 782.84it/s]\n",
      "100%|██████████| 2000/2000 [00:03<00:00, 596.77it/s]\n",
      "100%|██████████| 2000/2000 [00:03<00:00, 509.57it/s]\n",
      "100%|██████████| 2000/2000 [00:03<00:00, 517.28it/s]\n"
     ]
    }
   ],
   "source": [
    "five_band_images_cvae = np.zeros((5, 2000, 299, 299, 3))\n",
    "\n",
    "for band in range(5):\n",
    "    \n",
    "    # Iterate through bands, and length of image array\n",
    "    \n",
    "    for i in tqdm(range(2000)):\n",
    "        \n",
    "        resized_image = cv2.resize(x_cvae[i][band], (299, 299))\n",
    "        stacked_image = np.nan_to_num(np.stack([resized_image] * 3, axis = -1))\n",
    "        five_band_images_cvae[band][i] = stacked_image"
   ]
  },
  {
   "cell_type": "code",
   "execution_count": 6,
   "id": "a7a0e4f8-337d-4a92-962e-c6311156ee3d",
   "metadata": {},
   "outputs": [
    {
     "name": "stderr",
     "output_type": "stream",
     "text": [
      "100%|██████████| 2000/2000 [00:02<00:00, 841.76it/s]\n",
      "100%|██████████| 2000/2000 [00:02<00:00, 850.55it/s]\n",
      "100%|██████████| 2000/2000 [00:02<00:00, 873.14it/s]\n",
      "100%|██████████| 2000/2000 [00:02<00:00, 844.73it/s]\n",
      "100%|██████████| 2000/2000 [00:02<00:00, 826.86it/s]\n"
     ]
    }
   ],
   "source": [
    "five_band_images_gan = np.zeros((5, 2000, 299, 299, 3))\n",
    "\n",
    "for band in range(5):\n",
    "    \n",
    "    # Iterate through bands, and length of image array\n",
    "    \n",
    "    for i in tqdm(range(2000)):\n",
    "        \n",
    "        resized_image = cv2.resize(x_gan[i][band], (299, 299))\n",
    "        stacked_image = np.nan_to_num(np.stack([resized_image] * 3, axis = -1))\n",
    "        five_band_images_gan[band][i] = stacked_image"
   ]
  },
  {
   "cell_type": "code",
   "execution_count": 36,
   "id": "11a71221-7d1a-41e5-9fca-df189923c741",
   "metadata": {},
   "outputs": [
    {
     "name": "stderr",
     "output_type": "stream",
     "text": [
      "100%|██████████| 2000/2000 [00:01<00:00, 1013.02it/s]\n",
      "100%|██████████| 2000/2000 [00:01<00:00, 1062.04it/s]\n",
      "100%|██████████| 2000/2000 [00:01<00:00, 1074.82it/s]\n",
      "100%|██████████| 2000/2000 [00:01<00:00, 1012.62it/s]\n",
      "100%|██████████| 2000/2000 [00:02<00:00, 877.97it/s]\n"
     ]
    }
   ],
   "source": [
    "five_band_images_diffusion = np.zeros((5, 2000, 299, 299, 3))\n",
    "\n",
    "for band in range(5):\n",
    "    \n",
    "    # Iterate through bands, and length of image array\n",
    "    \n",
    "    for i in tqdm(range(2000)):\n",
    "        \n",
    "        resized_image = cv2.resize(x_diffusion[i][band], (299, 299))\n",
    "        stacked_image = np.nan_to_num(np.stack([resized_image] * 3, axis = -1))\n",
    "        five_band_images_diffusion[band][i] = stacked_image"
   ]
  },
  {
   "cell_type": "code",
   "execution_count": 14,
   "id": "659095f9-ddc3-49d1-a272-b58de5ede624",
   "metadata": {},
   "outputs": [
    {
     "name": "stderr",
     "output_type": "stream",
     "text": [
      "100%|██████████| 2000/2000 [00:02<00:00, 885.71it/s]\n",
      "100%|██████████| 2000/2000 [00:02<00:00, 902.48it/s]\n",
      "100%|██████████| 2000/2000 [00:02<00:00, 941.37it/s]\n",
      "100%|██████████| 2000/2000 [00:02<00:00, 816.61it/s]\n",
      "100%|██████████| 2000/2000 [00:02<00:00, 671.77it/s]\n"
     ]
    }
   ],
   "source": [
    "five_band_images_test = np.zeros((5, 2000, 299, 299, 3))\n",
    "\n",
    "for band in range(5):\n",
    "    \n",
    "    # Iterate through bands, and length of image array\n",
    "    \n",
    "    for i in tqdm(range(2000)):\n",
    "        \n",
    "        resized_image = cv2.resize(x_test[i][band], (299, 299))\n",
    "        stacked_image = np.nan_to_num(np.stack([resized_image] * 3, axis = -1))\n",
    "        five_band_images_test[band][i] = stacked_image"
   ]
  },
  {
   "cell_type": "code",
   "execution_count": 8,
   "id": "f6e9ad60-c9bf-4b68-a49b-b5c166eaae52",
   "metadata": {},
   "outputs": [
    {
     "name": "stderr",
     "output_type": "stream",
     "text": [
      "100%|██████████| 2000/2000 [00:02<00:00, 988.62it/s] \n",
      "100%|██████████| 2000/2000 [00:02<00:00, 986.10it/s] \n",
      "100%|██████████| 2000/2000 [00:02<00:00, 959.55it/s]\n",
      "100%|██████████| 2000/2000 [00:04<00:00, 426.72it/s]\n",
      "100%|██████████| 2000/2000 [00:04<00:00, 468.94it/s]\n"
     ]
    }
   ],
   "source": [
    "five_band_images_val = np.zeros((5, 2000, 299, 299, 3))\n",
    "\n",
    "for band in range(5):\n",
    "    \n",
    "    # Iterate through bands, and length of image array\n",
    "    \n",
    "    for i in tqdm(range(2000)):\n",
    "        \n",
    "        resized_image = cv2.resize(x_val[i][band], (299, 299))\n",
    "        stacked_image = np.nan_to_num(np.stack([resized_image] * 3, axis = -1))\n",
    "        five_band_images_val[band][i] = stacked_image"
   ]
  },
  {
   "cell_type": "code",
   "execution_count": 7,
   "id": "c178dcbf-3b95-4540-9356-5b803eac42f7",
   "metadata": {},
   "outputs": [],
   "source": [
    "def calculate_inception_score(images, inception_model):\n",
    "    \n",
    "    # Get predictions for the images\n",
    "    preds = inception_model.predict(images)\n",
    "    \n",
    "    # For numerical stability, subtract the maximum value from predictions\n",
    "    preds = preds - np.max(preds, axis=1, keepdims=True)\n",
    "    \n",
    "    # Compute the probabilities using softmax in a numerically stable way\n",
    "    exp_preds = np.exp(preds)\n",
    "    sum_exp_preds = np.sum(exp_preds, axis=1, keepdims=True)\n",
    "    preds = exp_preds / sum_exp_preds\n",
    "    \n",
    "    # Add a small constant epsilon to avoid log(0)\n",
    "    epsilon = 1e-10\n",
    "    preds = np.clip(preds, epsilon, 1. - epsilon)\n",
    "    \n",
    "    # Compute the KL divergence for each image\n",
    "    mean_preds = np.mean(preds, axis=0)\n",
    "    kl_divergences = preds * (np.log(preds) - np.log(np.expand_dims(mean_preds, 0)))\n",
    "    \n",
    "    # Compute the mean KL divergence\n",
    "    sum_kl_divergences = np.sum(kl_divergences, axis=1)\n",
    "    avg_kl_divergence = np.mean(sum_kl_divergences)\n",
    "    \n",
    "    # Compute the inception score\n",
    "    inception_score = np.exp(avg_kl_divergence)\n",
    "    \n",
    "    return inception_score"
   ]
  },
  {
   "cell_type": "code",
   "execution_count": 8,
   "id": "b04ad840-9e18-4b35-b71e-4fe75faf3106",
   "metadata": {},
   "outputs": [],
   "source": [
    "def calculate_inception_score_five_band(images, inception_model):\n",
    "    \n",
    "    # Get predictions for the images\n",
    "    \n",
    "    total_score = 0\n",
    "    \n",
    "    for i in range(0, 5):\n",
    "    \n",
    "        # Get predictions for the images\n",
    "        preds = inception_model.predict(images[i])\n",
    "    \n",
    "        # For numerical stability, subtract the maximum value from predictions\n",
    "        preds = preds - np.max(preds, axis = 1, keepdims = True)\n",
    "    \n",
    "        # Compute the probabilities using softmax in a numerically stable way\n",
    "        exp_preds = np.exp(preds)\n",
    "        sum_exp_preds = np.sum(exp_preds, axis = 1, keepdims = True)\n",
    "        preds = exp_preds / sum_exp_preds\n",
    "    \n",
    "        # Add a small constant epsilon to avoid log(0)\n",
    "        epsilon = 1e-10\n",
    "        preds = np.clip(preds, epsilon, 1. - epsilon)\n",
    "    \n",
    "        # Compute the KL divergence for each image\n",
    "        mean_preds = np.mean(preds, axis = 0)\n",
    "        kl_divergences = preds * (np.log(preds) - np.log(np.expand_dims(mean_preds, 0)))\n",
    "    \n",
    "        # Compute the mean KL divergence\n",
    "        sum_kl_divergences = np.sum(kl_divergences, axis = 1)\n",
    "        avg_kl_divergence = np.mean(sum_kl_divergences)\n",
    "    \n",
    "        # Compute the inception score\n",
    "        inception_score = np.exp(avg_kl_divergence)\n",
    "        \n",
    "        print(inception_score)\n",
    "        \n",
    "        total_score += inception_score / 5\n",
    "    \n",
    "    return total_score"
   ]
  },
  {
   "cell_type": "code",
   "execution_count": 11,
   "id": "b9ef702a-ec35-45e2-aabf-5b69c6adb45f",
   "metadata": {},
   "outputs": [
    {
     "name": "stderr",
     "output_type": "stream",
     "text": [
      "2023-10-20 10:24:30.296873: W tensorflow/tsl/framework/cpu_allocator_impl.cc:83] Allocation of 2145624000 exceeds 10% of free system memory.\n",
      "2023-10-20 10:24:32.824582: W tensorflow/tsl/framework/cpu_allocator_impl.cc:83] Allocation of 2145624000 exceeds 10% of free system memory.\n",
      "2023-10-20 10:24:36.305023: I tensorflow/compiler/xla/stream_executor/cuda/cuda_dnn.cc:424] Loaded cuDNN version 8600\n",
      "2023-10-20 10:24:37.266082: I tensorflow/tsl/platform/default/subprocess.cc:304] Start cannot spawn child process: No such file or directory\n",
      "2023-10-20 10:24:37.504310: I tensorflow/compiler/xla/stream_executor/cuda/cuda_blas.cc:637] TensorFloat-32 will be used for the matrix multiplication. This will only be logged once.\n"
     ]
    },
    {
     "name": "stdout",
     "output_type": "stream",
     "text": [
      "63/63 [==============================] - 7s 35ms/step\n",
      "1.1738338\n"
     ]
    },
    {
     "name": "stderr",
     "output_type": "stream",
     "text": [
      "2023-10-20 10:24:47.042039: W tensorflow/tsl/framework/cpu_allocator_impl.cc:83] Allocation of 2145624000 exceeds 10% of free system memory.\n",
      "2023-10-20 10:24:49.328927: W tensorflow/tsl/framework/cpu_allocator_impl.cc:83] Allocation of 2145624000 exceeds 10% of free system memory.\n"
     ]
    },
    {
     "name": "stdout",
     "output_type": "stream",
     "text": [
      "63/63 [==============================] - 2s 25ms/step\n",
      "1.5232527\n"
     ]
    },
    {
     "name": "stderr",
     "output_type": "stream",
     "text": [
      "2023-10-20 10:25:00.380745: W tensorflow/tsl/framework/cpu_allocator_impl.cc:83] Allocation of 2145624000 exceeds 10% of free system memory.\n"
     ]
    },
    {
     "name": "stdout",
     "output_type": "stream",
     "text": [
      "63/63 [==============================] - 2s 25ms/step\n",
      "1.8744447\n",
      "63/63 [==============================] - 2s 25ms/step\n",
      "1.9732214\n",
      "63/63 [==============================] - 2s 25ms/step\n",
      "2.0629318\n"
     ]
    },
    {
     "data": {
      "text/plain": [
       "1.721536898612976"
      ]
     },
     "execution_count": 11,
     "metadata": {},
     "output_type": "execute_result"
    }
   ],
   "source": [
    "calculate_inception_score_five_band(five_band_images_test, inception)"
   ]
  },
  {
   "cell_type": "code",
   "execution_count": 12,
   "id": "484d538f-68c6-4a25-a6d2-f8ccceee473d",
   "metadata": {},
   "outputs": [
    {
     "name": "stdout",
     "output_type": "stream",
     "text": [
      "63/63 [==============================] - 2s 25ms/step\n",
      "1.1922272\n",
      "63/63 [==============================] - 2s 25ms/step\n",
      "1.5083381\n",
      "63/63 [==============================] - 2s 25ms/step\n",
      "1.8544817\n",
      "63/63 [==============================] - 2s 25ms/step\n",
      "1.9728076\n",
      "63/63 [==============================] - 2s 25ms/step\n",
      "2.0718918\n"
     ]
    },
    {
     "data": {
      "text/plain": [
       "1.7199492931365967"
      ]
     },
     "execution_count": 12,
     "metadata": {},
     "output_type": "execute_result"
    }
   ],
   "source": [
    "calculate_inception_score_five_band(five_band_images_val, inception)"
   ]
  },
  {
   "cell_type": "code",
   "execution_count": 8,
   "id": "531cf2fd-31c8-424b-8c95-b77969984c64",
   "metadata": {},
   "outputs": [
    {
     "name": "stderr",
     "output_type": "stream",
     "text": [
      "2023-10-20 10:32:30.350871: I tensorflow/compiler/xla/stream_executor/cuda/cuda_dnn.cc:424] Loaded cuDNN version 8600\n",
      "2023-10-20 10:32:30.804840: I tensorflow/tsl/platform/default/subprocess.cc:304] Start cannot spawn child process: No such file or directory\n",
      "2023-10-20 10:32:31.005809: I tensorflow/compiler/xla/stream_executor/cuda/cuda_blas.cc:637] TensorFloat-32 will be used for the matrix multiplication. This will only be logged once.\n"
     ]
    },
    {
     "name": "stdout",
     "output_type": "stream",
     "text": [
      "63/63 [==============================] - 5s 34ms/step\n",
      "1.2063286\n",
      "63/63 [==============================] - 2s 25ms/step\n",
      "1.3602604\n",
      "63/63 [==============================] - 2s 25ms/step\n",
      "1.6662036\n",
      "63/63 [==============================] - 2s 25ms/step\n",
      "1.7182112\n",
      "63/63 [==============================] - 2s 25ms/step\n",
      "1.7817289\n"
     ]
    },
    {
     "data": {
      "text/plain": [
       "1.546546530723572"
      ]
     },
     "execution_count": 8,
     "metadata": {},
     "output_type": "execute_result"
    }
   ],
   "source": [
    "calculate_inception_score_five_band(five_band_images_cvae, inception)"
   ]
  },
  {
   "cell_type": "code",
   "execution_count": 14,
   "id": "8d7d10ee-f1c0-4389-a341-3f444b8b8640",
   "metadata": {},
   "outputs": [
    {
     "name": "stdout",
     "output_type": "stream",
     "text": [
      "63/63 [==============================] - 2s 25ms/step\n",
      "1.0\n",
      "63/63 [==============================] - 2s 25ms/step\n",
      "1.0\n",
      "63/63 [==============================] - 2s 25ms/step\n",
      "3.471015\n",
      "63/63 [==============================] - 2s 25ms/step\n",
      "1.9789748\n",
      "63/63 [==============================] - 2s 25ms/step\n",
      "1.884097\n"
     ]
    },
    {
     "data": {
      "text/plain": [
       "1.8668173551559448"
      ]
     },
     "execution_count": 14,
     "metadata": {},
     "output_type": "execute_result"
    }
   ],
   "source": [
    "calculate_inception_score_five_band(five_band_images_diffusion, inception)"
   ]
  },
  {
   "cell_type": "code",
   "execution_count": 9,
   "id": "f3fe4c89-28b2-4d64-9884-91e6c0208eb9",
   "metadata": {},
   "outputs": [
    {
     "name": "stderr",
     "output_type": "stream",
     "text": [
      "2023-10-21 15:13:02.628363: W tensorflow/tsl/framework/cpu_allocator_impl.cc:83] Allocation of 2145624000 exceeds 10% of free system memory.\n",
      "2023-10-21 15:13:03.802255: W tensorflow/tsl/framework/cpu_allocator_impl.cc:83] Allocation of 2145624000 exceeds 10% of free system memory.\n",
      "2023-10-21 15:13:06.623540: I tensorflow/compiler/xla/stream_executor/cuda/cuda_dnn.cc:424] Loaded cuDNN version 8600\n",
      "2023-10-21 15:13:07.594505: I tensorflow/tsl/platform/default/subprocess.cc:304] Start cannot spawn child process: No such file or directory\n",
      "2023-10-21 15:13:07.962000: I tensorflow/compiler/xla/stream_executor/cuda/cuda_blas.cc:637] TensorFloat-32 will be used for the matrix multiplication. This will only be logged once.\n"
     ]
    },
    {
     "name": "stdout",
     "output_type": "stream",
     "text": [
      "63/63 [==============================] - 8s 55ms/step\n",
      "1.004633\n"
     ]
    },
    {
     "name": "stderr",
     "output_type": "stream",
     "text": [
      "2023-10-21 15:13:21.049143: W tensorflow/tsl/framework/cpu_allocator_impl.cc:83] Allocation of 2145624000 exceeds 10% of free system memory.\n",
      "2023-10-21 15:13:22.157326: W tensorflow/tsl/framework/cpu_allocator_impl.cc:83] Allocation of 2145624000 exceeds 10% of free system memory.\n"
     ]
    },
    {
     "name": "stdout",
     "output_type": "stream",
     "text": [
      "63/63 [==============================] - 2s 33ms/step\n",
      "1.0046881\n"
     ]
    },
    {
     "name": "stderr",
     "output_type": "stream",
     "text": [
      "2023-10-21 15:13:31.353894: W tensorflow/tsl/framework/cpu_allocator_impl.cc:83] Allocation of 2145624000 exceeds 10% of free system memory.\n"
     ]
    },
    {
     "name": "stdout",
     "output_type": "stream",
     "text": [
      "63/63 [==============================] - 2s 33ms/step\n",
      "1.0026469\n",
      "63/63 [==============================] - 2s 33ms/step\n",
      "1.0032113\n",
      "63/63 [==============================] - 2s 33ms/step\n",
      "1.0026242\n"
     ]
    },
    {
     "data": {
      "text/plain": [
       "1.00356068611145"
      ]
     },
     "execution_count": 9,
     "metadata": {},
     "output_type": "execute_result"
    }
   ],
   "source": [
    "calculate_inception_score_five_band(five_band_images_gan, inception)"
   ]
  },
  {
   "cell_type": "code",
   "execution_count": 10,
   "id": "4db708c4-5ccc-4a14-b7df-4bbb1ccbba64",
   "metadata": {},
   "outputs": [],
   "source": [
    "from scipy.linalg import sqrtm\n",
    "\n",
    "def calculate_fid(real_features, generated_features):\n",
    "    \n",
    "    # row_sums = np.sum(real_features, axis = 1)[:, np.newaxis]  # Sum along each row and keep dimensions with np.newaxis\n",
    "    # real_features = real_features / row_sums\n",
    "    \n",
    "    # row_sums = np.sum(generated_features, axis = 1)[:, np.newaxis]  # Sum along each row and keep dimensions with np.newaxis\n",
    "    # generated_features = generated_features / row_sums\n",
    "    \n",
    "    mu1, sigma1 = real_features.mean(axis = 0), np.cov(real_features, rowvar = False)\n",
    "    mu2, sigma2 = generated_features.mean(axis = 0), np.cov(generated_features, rowvar = False)\n",
    "    \n",
    "    ssdiff = np.sum((mu1 - mu2) ** 2.0)\n",
    "    \n",
    "    covmean = sqrtm(sigma1.dot(sigma2))\n",
    "    \n",
    "    if np.iscomplexobj(covmean):\n",
    "        covmean = covmean.real\n",
    "    \n",
    "    fid = ssdiff + np.trace(sigma1 + sigma2 - 2.0 * covmean)\n",
    "    \n",
    "    return fid"
   ]
  },
  {
   "cell_type": "code",
   "execution_count": 12,
   "id": "cce9ca06-53ff-4751-b4b6-ec9e838e74e0",
   "metadata": {},
   "outputs": [],
   "source": [
    "def calculate_fid(real_features, generated_features):\n",
    "    \n",
    "    # Debugging info\n",
    "    # print(\"Real features shape:\", real_features.shape)\n",
    "    # print(\"Generated features shape:\", generated_features.shape)\n",
    "    \n",
    "    # print(\"Real features mean:\", np.mean(real_features))\n",
    "    # print(\"Generated features mean:\", np.mean(generated_features))\n",
    "    \n",
    "    mu1, sigma1 = real_features.mean(axis=0), np.cov(real_features, rowvar=False)\n",
    "    mu2, sigma2 = generated_features.mean(axis=0), np.cov(generated_features, rowvar=False)\n",
    "    \n",
    "    # More debugging info\n",
    "    # print(\"Sigma1:\", sigma1)\n",
    "    # print(\"Sigma2:\", sigma2)\n",
    "    \n",
    "    ssdiff = np.sum((mu1 - mu2)**2.0)\n",
    "    \n",
    "    covmean = sqrtm(sigma1.dot(sigma2))\n",
    "    \n",
    "    if np.iscomplexobj(covmean):\n",
    "        covmean = covmean.real\n",
    "    \n",
    "    fid = ssdiff + np.trace(sigma1 + sigma2 - 2.0 * covmean)\n",
    "    \n",
    "    return fid"
   ]
  },
  {
   "cell_type": "code",
   "execution_count": 42,
   "id": "08aadb30-cb4b-4739-9caf-683b2a81548e",
   "metadata": {},
   "outputs": [
    {
     "name": "stdout",
     "output_type": "stream",
     "text": [
      "63/63 [==============================] - 2s 27ms/step\n",
      "63/63 [==============================] - 2s 26ms/step\n",
      "Real features shape: (2000, 2048)\n",
      "Generated features shape: (2000, 2048)\n",
      "Real features mean: 0.2560726\n",
      "Generated features mean: 0.22202638\n",
      "Sigma1: [[ 1.64063192e-01 -1.38221482e-02  5.59571111e-03 ...  1.17116872e-01\n",
      "   1.39992090e-01 -2.17738575e-03]\n",
      " [-1.38221482e-02  7.14885081e-03  4.24374187e-05 ... -1.05649026e-02\n",
      "  -1.22622204e-02  2.06145278e-03]\n",
      " [ 5.59571111e-03  4.24374187e-05  1.50279823e-02 ... -7.76723150e-03\n",
      "  -8.19561830e-04  2.49716782e-03]\n",
      " ...\n",
      " [ 1.17116872e-01 -1.05649026e-02 -7.76723150e-03 ...  1.83857692e-01\n",
      "   1.17411618e-01 -9.58997478e-03]\n",
      " [ 1.39992090e-01 -1.22622204e-02 -8.19561830e-04 ...  1.17411618e-01\n",
      "   1.60998077e-01  1.66623792e-03]\n",
      " [-2.17738575e-03  2.06145278e-03  2.49716782e-03 ... -9.58997478e-03\n",
      "   1.66623792e-03  1.83470596e-02]]\n",
      "Sigma2: [[ 0.04156686  0.0010412  -0.00610675 ... -0.02073397  0.02033764\n",
      "   0.00577331]\n",
      " [ 0.0010412   0.00049821 -0.00030832 ... -0.00134407 -0.0004976\n",
      "   0.00056694]\n",
      " [-0.00610675 -0.00030832  0.0050166  ...  0.00585195 -0.00311953\n",
      "  -0.00170633]\n",
      " ...\n",
      " [-0.02073397 -0.00134407  0.00585195 ...  0.03632215 -0.002866\n",
      "  -0.00389304]\n",
      " [ 0.02033764 -0.0004976  -0.00311953 ... -0.002866    0.04695457\n",
      "  -0.00056786]\n",
      " [ 0.00577331  0.00056694 -0.00170633 ... -0.00389304 -0.00056786\n",
      "   0.00485572]]\n",
      "261.9549750817655\n"
     ]
    }
   ],
   "source": [
    "test_features = inception.predict(five_band_images_test[0])\n",
    "cvae_features = inception.predict(five_band_images_cvae[0])\n",
    "fid_score_cvae = calculate_fid(test_features, cvae_features)\n",
    "print(fid_score_cvae)"
   ]
  },
  {
   "cell_type": "code",
   "execution_count": 16,
   "id": "b99be797-00aa-45da-9468-de0519404de5",
   "metadata": {},
   "outputs": [
    {
     "name": "stdout",
     "output_type": "stream",
     "text": [
      "63/63 [==============================] - 2s 25ms/step\n",
      "63/63 [==============================] - 2s 25ms/step\n",
      "11.009589802463598\n"
     ]
    }
   ],
   "source": [
    "test_features = inception.predict(five_band_images_test[0])\n",
    "val_features = inception.predict(five_band_images_val[0])\n",
    "fid_score_val = calculate_fid(test_features, val_features)\n",
    "print(fid_score_val)"
   ]
  },
  {
   "cell_type": "code",
   "execution_count": 37,
   "id": "73e35f8f-850c-4a2d-9a3f-64db2774704b",
   "metadata": {},
   "outputs": [
    {
     "name": "stdout",
     "output_type": "stream",
     "text": [
      "63/63 [==============================] - 3s 39ms/step\n",
      "63/63 [==============================] - 3s 40ms/step\n",
      "Real features shape: (2000, 2048)\n",
      "Generated features shape: (2000, 2048)\n",
      "Real features mean: 0.2560726\n",
      "Generated features mean: 0.23123448\n",
      "Sigma1: [[ 1.64063192e-01 -1.38221482e-02  5.59571111e-03 ...  1.17116872e-01\n",
      "   1.39992090e-01 -2.17738575e-03]\n",
      " [-1.38221482e-02  7.14885081e-03  4.24374187e-05 ... -1.05649026e-02\n",
      "  -1.22622204e-02  2.06145278e-03]\n",
      " [ 5.59571111e-03  4.24374187e-05  1.50279823e-02 ... -7.76723150e-03\n",
      "  -8.19561830e-04  2.49716782e-03]\n",
      " ...\n",
      " [ 1.17116872e-01 -1.05649026e-02 -7.76723150e-03 ...  1.83857692e-01\n",
      "   1.17411618e-01 -9.58997478e-03]\n",
      " [ 1.39992090e-01 -1.22622204e-02 -8.19561830e-04 ...  1.17411618e-01\n",
      "   1.60998077e-01  1.66623792e-03]\n",
      " [-2.17738575e-03  2.06145278e-03  2.49716782e-03 ... -9.58997478e-03\n",
      "   1.66623792e-03  1.83470596e-02]]\n",
      "Sigma2: [[ 0.02481096  0.00209207  0.01005373 ...  0.02895244  0.01003474\n",
      "   0.01711846]\n",
      " [ 0.00209207  0.00181755  0.00047814 ...  0.00369496 -0.00015507\n",
      "   0.00197238]\n",
      " [ 0.01005373  0.00047814  0.00742213 ...  0.0126893   0.00455909\n",
      "   0.00660517]\n",
      " ...\n",
      " [ 0.02895244  0.00369496  0.0126893  ...  0.05641006  0.01598178\n",
      "   0.02720687]\n",
      " [ 0.01003474 -0.00015507  0.00455909 ...  0.01598178  0.01321552\n",
      "   0.00825434]\n",
      " [ 0.01711846  0.00197238  0.00660517 ...  0.02720687  0.00825434\n",
      "   0.02352281]]\n",
      "282.8599570011087\n"
     ]
    }
   ],
   "source": [
    "test_features = inception.predict(five_band_images_test[0])\n",
    "diffusion_features = inception.predict(five_band_images_diffusion[0])\n",
    "fid_score_diffusion = calculate_fid(test_features, diffusion_features)\n",
    "print(fid_score_diffusion)"
   ]
  },
  {
   "cell_type": "code",
   "execution_count": 15,
   "id": "d85f2ab1-ce91-4238-83ff-7289971f8f95",
   "metadata": {},
   "outputs": [
    {
     "name": "stdout",
     "output_type": "stream",
     "text": [
      "63/63 [==============================] - 2s 33ms/step\n",
      "63/63 [==============================] - 2s 31ms/step\n",
      "215.92554625962978\n"
     ]
    }
   ],
   "source": [
    "test_features = inception.predict(five_band_images_test[0])\n",
    "gan_features = inception.predict(five_band_images_gan[0])\n",
    "fid_score_gan = calculate_fid(test_features, gan_features)\n",
    "print(fid_score_gan)"
   ]
  },
  {
   "cell_type": "code",
   "execution_count": 18,
   "id": "ca0b384a-84eb-4c81-9bfe-788a381566bb",
   "metadata": {},
   "outputs": [
    {
     "data": {
      "image/png": "[encoded data removed]",
      "text/plain": [
       "<Figure size 640x480 with 1 Axes>"
      ]
     },
     "metadata": {},
     "output_type": "display_data"
    }
   ],
   "source": [
    "labels = ['Validation', 'cVAE', 'Diffusion', 'cGAN']\n",
    "values = [11.01, 261.96, 282.86, 215.93]\n",
    "\n",
    "# Create figure and axes\n",
    "fig, ax = plt.subplots()\n",
    "\n",
    "# Generate the bars\n",
    "bars = plt.bar(labels, values, color=['red', 'green', 'blue', 'purple'])\n",
    "\n",
    "# Add some text for labels, title, and custom x-axis tick labels, etc.\n",
    "ax.set_ylabel('FID Score (Difference Between Real and Generated Data)')\n",
    "ax.set_title('FID Score vs Model')\n",
    "ax.set_xticks(np.arange(len(labels)))\n",
    "ax.set_xticklabels(labels)\n",
    "\n",
    "# Label the bars with their values\n",
    "for bar in bars:\n",
    "    height = bar.get_height()\n",
    "    ax.annotate(f'{height}',\n",
    "                xy=(bar.get_x() + bar.get_width() / 2, height),\n",
    "                xytext=(0, 3),  # 3 points vertical offset\n",
    "                textcoords=\"offset points\",\n",
    "                ha='center', va='bottom')\n",
    "\n",
    "plt.show()"
   ]
  },
  {
   "cell_type": "code",
   "execution_count": 21,
   "id": "705d5af9-45f2-4f6a-b9af-18f859ee8dc2",
   "metadata": {},
   "outputs": [
    {
     "data": {
      "image/png": "[encoded data removed]",
      "text/plain": [
       "<Figure size 640x480 with 1 Axes>"
      ]
     },
     "metadata": {},
     "output_type": "display_data"
    }
   ],
   "source": [
    "labels = ['Testing', 'Validation', 'cVAE', 'Diffusion', 'cGAN']\n",
    "values = [1.721, 1.72, 1.547, 1.867, 1.004]\n",
    "\n",
    "# Create figure and axes\n",
    "fig, ax = plt.subplots()\n",
    "\n",
    "# Generate the bars\n",
    "bars = plt.bar(labels, values, color=['red', 'green', 'blue', 'purple'])\n",
    "\n",
    "# Add some text for labels, title, and custom x-axis tick labels, etc.\n",
    "ax.set_ylabel('Inception Score (Visual Fidelity)')\n",
    "ax.set_title('Inception Score vs Model')\n",
    "ax.set_xticks(np.arange(len(labels)))\n",
    "ax.set_xticklabels(labels)\n",
    "\n",
    "# Label the bars with their values\n",
    "for bar in bars:\n",
    "    height = bar.get_height()\n",
    "    ax.annotate(f'{height}',\n",
    "                xy=(bar.get_x() + bar.get_width() / 2, height),\n",
    "                xytext=(0, 3),  # 3 points vertical offset\n",
    "                textcoords=\"offset points\",\n",
    "                ha='center', va='bottom')\n",
    "\n",
    "plt.ylim(1, 2)    \n",
    "\n",
    "plt.show()"
   ]
  },
  {
   "cell_type": "code",
   "execution_count": null,
   "id": "4e750916-ef6a-408d-80f4-922b98a9f085",
   "metadata": {},
   "outputs": [],
   "source": [
    "# END"
   ]
  }
 ],
 "metadata": {
  "kernelspec": {
   "display_name": "Diffusion",
   "language": "python",
   "name": "diffusion"
  },
  "language_info": {
   "codemirror_mode": {
    "name": "ipython",
    "version": 3
   },
   "file_extension": ".py",
   "mimetype": "text/x-python",
   "name": "python",
   "nbconvert_exporter": "python",
   "pygments_lexer": "ipython3",
   "version": "3.9.16"
  }
 },
 "nbformat": 4,
 "nbformat_minor": 5
}
