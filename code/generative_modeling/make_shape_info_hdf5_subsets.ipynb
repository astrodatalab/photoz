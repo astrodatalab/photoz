{
 "cells": [
  {
   "cell_type": "code",
   "execution_count": 1,
   "id": "1fcbf71f-ed6a-40a5-bd1d-a65648d32743",
   "metadata": {},
   "outputs": [
    {
     "name": "stderr",
     "output_type": "stream",
     "text": [
      "2024-01-22 23:20:43.979870: I tensorflow/core/platform/cpu_feature_guard.cc:182] This TensorFlow binary is optimized to use available CPU instructions in performance-critical operations.\n",
      "To enable the following instructions: AVX2 FMA, in other operations, rebuild TensorFlow with the appropriate compiler flags.\n",
      "2024-01-22 23:20:44.462288: W tensorflow/compiler/tf2tensorrt/utils/py_utils.cc:38] TF-TRT Warning: Could not find TensorRT\n"
     ]
    }
   ],
   "source": [
    "import h5py\n",
    "import pandas as pd\n",
    "import shutil\n",
    "import tensorflow as tf"
   ]
  },
  {
   "cell_type": "code",
   "execution_count": 2,
   "id": "69a6963c-21e1-45ce-b2ce-d94b6bd7f9af",
   "metadata": {},
   "outputs": [
    {
     "name": "stdout",
     "output_type": "stream",
     "text": [
      "1 Physical GPUs, 1 Logical GPUs\n"
     ]
    },
    {
     "name": "stderr",
     "output_type": "stream",
     "text": [
      "2024-01-22 23:20:45.077867: I tensorflow/compiler/xla/stream_executor/cuda/cuda_gpu_executor.cc:996] successful NUMA node read from SysFS had negative value (-1), but there must be at least one NUMA node, so returning NUMA node zero. See more at https://github.com/torvalds/linux/blob/v6.0/Documentation/ABI/testing/sysfs-bus-pci#L344-L355\n",
      "2024-01-22 23:20:45.104753: I tensorflow/compiler/xla/stream_executor/cuda/cuda_gpu_executor.cc:996] successful NUMA node read from SysFS had negative value (-1), but there must be at least one NUMA node, so returning NUMA node zero. See more at https://github.com/torvalds/linux/blob/v6.0/Documentation/ABI/testing/sysfs-bus-pci#L344-L355\n",
      "2024-01-22 23:20:45.105001: I tensorflow/compiler/xla/stream_executor/cuda/cuda_gpu_executor.cc:996] successful NUMA node read from SysFS had negative value (-1), but there must be at least one NUMA node, so returning NUMA node zero. See more at https://github.com/torvalds/linux/blob/v6.0/Documentation/ABI/testing/sysfs-bus-pci#L344-L355\n",
      "2024-01-22 23:20:45.108295: I tensorflow/compiler/xla/stream_executor/cuda/cuda_gpu_executor.cc:996] successful NUMA node read from SysFS had negative value (-1), but there must be at least one NUMA node, so returning NUMA node zero. See more at https://github.com/torvalds/linux/blob/v6.0/Documentation/ABI/testing/sysfs-bus-pci#L344-L355\n",
      "2024-01-22 23:20:45.108479: I tensorflow/compiler/xla/stream_executor/cuda/cuda_gpu_executor.cc:996] successful NUMA node read from SysFS had negative value (-1), but there must be at least one NUMA node, so returning NUMA node zero. See more at https://github.com/torvalds/linux/blob/v6.0/Documentation/ABI/testing/sysfs-bus-pci#L344-L355\n",
      "2024-01-22 23:20:45.108646: I tensorflow/compiler/xla/stream_executor/cuda/cuda_gpu_executor.cc:996] successful NUMA node read from SysFS had negative value (-1), but there must be at least one NUMA node, so returning NUMA node zero. See more at https://github.com/torvalds/linux/blob/v6.0/Documentation/ABI/testing/sysfs-bus-pci#L344-L355\n",
      "2024-01-22 23:20:45.203823: I tensorflow/compiler/xla/stream_executor/cuda/cuda_gpu_executor.cc:996] successful NUMA node read from SysFS had negative value (-1), but there must be at least one NUMA node, so returning NUMA node zero. See more at https://github.com/torvalds/linux/blob/v6.0/Documentation/ABI/testing/sysfs-bus-pci#L344-L355\n",
      "2024-01-22 23:20:45.204037: I tensorflow/compiler/xla/stream_executor/cuda/cuda_gpu_executor.cc:996] successful NUMA node read from SysFS had negative value (-1), but there must be at least one NUMA node, so returning NUMA node zero. See more at https://github.com/torvalds/linux/blob/v6.0/Documentation/ABI/testing/sysfs-bus-pci#L344-L355\n",
      "2024-01-22 23:20:45.204206: I tensorflow/compiler/xla/stream_executor/cuda/cuda_gpu_executor.cc:996] successful NUMA node read from SysFS had negative value (-1), but there must be at least one NUMA node, so returning NUMA node zero. See more at https://github.com/torvalds/linux/blob/v6.0/Documentation/ABI/testing/sysfs-bus-pci#L344-L355\n",
      "2024-01-22 23:20:45.204348: I tensorflow/core/common_runtime/gpu/gpu_device.cc:1635] Created device /job:localhost/replica:0/task:0/device:GPU:0 with 20000 MB memory:  -> device: 0, name: NVIDIA RTX A6000, pci bus id: 0000:61:00.0, compute capability: 8.6\n"
     ]
    }
   ],
   "source": [
    "gpus = tf.config.list_physical_devices('GPU')\n",
    "if gpus:\n",
    "    try:\n",
    "        tf.config.experimental.set_virtual_device_configuration(\n",
    "            gpus[0],\n",
    "            [tf.config.experimental.VirtualDeviceConfiguration(20*1000)])\n",
    "        logical_gpus = tf.config.experimental.list_logical_devices('GPU')\n",
    "        print(len(gpus), \"Physical GPUs,\", len(logical_gpus), \"Logical GPUs\")\n",
    "    except RuntimeError as e:\n",
    "        print(e)"
   ]
  },
  {
   "cell_type": "code",
   "execution_count": null,
   "id": "043c23fb-478f-4d42-823c-2574a390501d",
   "metadata": {},
   "outputs": [],
   "source": [
    "TRAIN_OLD = f'/data/HSC/HSC_v6/step2A/127x127/5x127x127_training.hdf5'\n",
    "VAL_OLD = f'/data/HSC/HSC_v6/step2A/127x127/5x127x127_validation.hdf5'\n",
    "TEST_OLD = f'/data/HSC/HSC_v6/step2A/127x127/5x127x127_testing.hdf5'\n",
    "TRAIN_NEW = f'/data/HSC/HSC_v6/step2A/127x127/5x127x127_training_with_morphology.hdf5'\n",
    "VAL_NEW = f'/data/HSC/HSC_v6/step2A/127x127/5x127x127_validation_with_morphology.hdf5'\n",
    "TEST_NEW = f'/data/HSC/HSC_v6/step2A/127x127/5x127x127_testing_with_morphology.hdf5'\n",
    "with h5py.File(TRAIN_OLD, 'r') as f:\n",
    "    shutil.copyfile(TRAIN_OLD, TRAIN_NEW)\n",
    "with h5py.File(VAL_OLD, 'r') as f:\n",
    "    shutil.copyfile(VAL_OLD, VAL_NEW)\n",
    "with h5py.File(TEST_OLD, 'r') as f:\n",
    "    shutil.copyfile(TEST_OLD, TEST_NEW)"
   ]
  },
  {
   "cell_type": "code",
   "execution_count": null,
   "id": "d4f8a5cd-eda2-40ce-ac9f-23f2783fec51",
   "metadata": {},
   "outputs": [],
   "source": [
    "TRAIN_OLD = f'/data/HSC/HSC_v6/step2A/64x64/5x64x64_training.hdf5'\n",
    "VAL_OLD = f'/data/HSC/HSC_v6/step2A/64x64/5x64x64_validation.hdf5'\n",
    "TEST_OLD = f'/data/HSC/HSC_v6/step2A/64x64/5x64x64_testing.hdf5'\n",
    "TRAIN_NEW = f'/data/HSC/HSC_v6/step2A/64x64/5x64x64_training_with_morphology.hdf5'\n",
    "VAL_NEW = f'/data/HSC/HSC_v6/step2A/64x64/5x64x64_validation_with_morphology.hdf5'\n",
    "TEST_NEW = f'/data/HSC/HSC_v6/step2A/64x64/5x64x64_testing_with_morphology.hdf5'\n",
    "with h5py.File(TRAIN_OLD, 'r') as f:\n",
    "    shutil.copyfile(TRAIN_OLD, TRAIN_NEW)\n",
    "with h5py.File(VAL_OLD, 'r') as f:\n",
    "    shutil.copyfile(VAL_OLD, VAL_NEW)\n",
    "with h5py.File(TEST_OLD, 'r') as f:\n",
    "    shutil.copyfile(TEST_OLD, TEST_NEW)"
   ]
  },
  {
   "cell_type": "code",
   "execution_count": 4,
   "id": "a2a9956a-2c6a-40aa-a2a3-96750420705c",
   "metadata": {},
   "outputs": [],
   "source": [
    "TEST_OLD = f'/data/HSC_generated/HSC_generated_v1/ddpm/64x64/5x64x64_testing.hdf5'\n",
    "TEST_NEW = f'/data/HSC_generated/HSC_generated_v1/ddpm/64x64/5x64x64_testing_with_morphology.hdf5'\n",
    "with h5py.File(TEST_OLD, 'r') as f:\n",
    "    shutil.copyfile(TEST_OLD, TEST_NEW)"
   ]
  },
  {
   "cell_type": "code",
   "execution_count": null,
   "id": "639c4f63-0fdf-477f-a53b-50dade51ec81",
   "metadata": {},
   "outputs": [],
   "source": [
    "g_df = pd.read_csv('/data/HSC/HSC_v6/step1/g_band_sextractor/shape_parameters.csv')\n",
    "r_df = pd.read_csv('/data/HSC/HSC_v6/step1/r_band_sextractor/shape_parameters.csv')\n",
    "i_df = pd.read_csv('/data/HSC/HSC_v6/step1/i_band_sextractor/shape_parameters.csv')\n",
    "z_df = pd.read_csv('/data/HSC/HSC_v6/step1/z_band_sextractor/shape_parameters.csv')\n",
    "y_df = pd.read_csv('/data/HSC/HSC_v6/step1/y_band_sextractor/shape_parameters.csv')"
   ]
  },
  {
   "cell_type": "code",
   "execution_count": 8,
   "id": "601c076a-7fa7-4c18-8bbe-5e5ec99aaf83",
   "metadata": {},
   "outputs": [
    {
     "name": "stdout",
     "output_type": "stream",
     "text": [
      "['ISOAREA_WORLD', 'NUMBER', 'THETA_WORLD', 'XMAX_IMAGE', 'XMIN_IMAGE', 'YMAX_IMAGE', 'YMIN_IMAGE', 'distance_from_center', 'g_central_image_pop_10px_rad', 'g_central_image_pop_15px_rad', 'g_central_image_pop_5px_rad', 'g_ellipticity', 'g_half_light_radius', 'g_isophotal_area', 'g_major_axis', 'g_minor_axis', 'g_peak_surface_brightness', 'g_petro_rad', 'g_pos_angle', 'g_sersic_index', 'image', 'object_id', 'specz_redshift', 'x_coord', 'y_coord']\n"
     ]
    }
   ],
   "source": [
    "g_df = pd.read_csv('/data/HSC_generated/HSC_generated_v1/ddpm/g_band_ddpm/shape_parameters.csv')\n",
    "g_df.rename(columns={'X_IMAGE': 'x_coord', 'Y_IMAGE': 'y_coord', 'PETRO_RADIUS': 'g_petro_rad', 'ISOAREA_IMAGE': 'g_isophotal_area', 'A_IMAGE': 'g_major_axis', 'B_IMAGE': 'g_minor_axis', 'THETA_IMAGE': 'g_pos_angle', 'MU_MAX': 'g_peak_surface_brightness', 'ELLIPTICITY': 'g_ellipticity', 'FLUX_RADIUS': 'g_half_light_radius', 'SPHEROID_SERSICN': 'g_sersic_index', 'NUMBER_IN_CENTER_30PX_DIAMETER': 'g_central_image_pop_15px_rad', 'NUMBER_IN_CENTER_20PX_DIAMETER': 'g_central_image_pop_10px_rad', 'NUMBER_IN_CENTER_10PX_DIAMETER': 'g_central_image_pop_5px_rad'}, inplace=True)\n",
    "df = g_df\n",
    "df.drop(columns='specz', inplace=True)\n",
    "\n",
    "with h5py.File(TEST_NEW, 'r') as f:\n",
    "    test_oid = list(f['object_id'][:])\n",
    "test_oid_df = pd.DataFrame({'object_id': test_oid, 'index_pos': range(len(test_oid))})\n",
    "merged_test = pd.merge(df, test_oid_df, on='object_id', how='inner')\n",
    "sorted_test = merged_test.sort_values('index_pos')\n",
    "sorted_test = sorted_test.drop(columns=['object_id', 'index_pos'], axis=1)\n",
    "\n",
    "with h5py.File(TEST_NEW, 'a') as f:\n",
    "    column_names = sorted_test.columns.tolist()\n",
    "    for column_name in column_names:\n",
    "        column_data = sorted_test[column_name].values\n",
    "        try:\n",
    "            f[column_name] = column_data\n",
    "        except:\n",
    "            continue\n",
    "            \n",
    "with h5py.File(TEST_NEW, 'a') as f:\n",
    "    print(list(f.keys()))"
   ]
  },
  {
   "cell_type": "code",
   "execution_count": null,
   "id": "210b842a-d8ef-4ca4-b804-25a8e4b3be80",
   "metadata": {},
   "outputs": [],
   "source": [
    "g_df = g_df[['object_id', 'specz', 'X_IMAGE', 'Y_IMAGE', 'g_cmodel_mag', 'PETRO_RADIUS', 'ISOAREA_IMAGE', 'A_IMAGE', 'B_IMAGE', 'THETA_IMAGE', 'MU_MAX', 'ELLIPTICITY', 'FLUX_RADIUS', 'SPHEROID_SERSICN', 'NUMBER_IN_CENTER_30PX_DIAMETER', 'NUMBER_IN_CENTER_20PX_DIAMETER', 'NUMBER_IN_CENTER_10PX_DIAMETER']]\n",
    "r_df = r_df[['object_id', 'specz', 'X_IMAGE', 'Y_IMAGE', 'r_cmodel_mag', 'PETRO_RADIUS', 'ISOAREA_IMAGE', 'A_IMAGE', 'B_IMAGE', 'THETA_IMAGE', 'MU_MAX', 'ELLIPTICITY', 'FLUX_RADIUS', 'SPHEROID_SERSICN', 'NUMBER_IN_CENTER_30PX_DIAMETER', 'NUMBER_IN_CENTER_20PX_DIAMETER', 'NUMBER_IN_CENTER_10PX_DIAMETER']]\n",
    "i_df = i_df[['object_id', 'specz', 'X_IMAGE', 'Y_IMAGE', 'i_cmodel_mag', 'PETRO_RADIUS', 'ISOAREA_IMAGE', 'A_IMAGE', 'B_IMAGE', 'THETA_IMAGE', 'MU_MAX', 'ELLIPTICITY', 'FLUX_RADIUS', 'SPHEROID_SERSICN', 'NUMBER_IN_CENTER_30PX_DIAMETER', 'NUMBER_IN_CENTER_20PX_DIAMETER', 'NUMBER_IN_CENTER_10PX_DIAMETER']]\n",
    "z_df = z_df[['object_id', 'specz', 'X_IMAGE', 'Y_IMAGE', 'z_cmodel_mag', 'PETRO_RADIUS', 'ISOAREA_IMAGE', 'A_IMAGE', 'B_IMAGE', 'THETA_IMAGE', 'MU_MAX', 'ELLIPTICITY', 'FLUX_RADIUS', 'SPHEROID_SERSICN', 'NUMBER_IN_CENTER_30PX_DIAMETER', 'NUMBER_IN_CENTER_20PX_DIAMETER', 'NUMBER_IN_CENTER_10PX_DIAMETER']]\n",
    "y_df = y_df[['object_id', 'specz', 'X_IMAGE', 'Y_IMAGE', 'y_cmodel_mag', 'PETRO_RADIUS', 'ISOAREA_IMAGE', 'A_IMAGE', 'B_IMAGE', 'THETA_IMAGE', 'MU_MAX', 'ELLIPTICITY', 'FLUX_RADIUS', 'SPHEROID_SERSICN', 'NUMBER_IN_CENTER_30PX_DIAMETER', 'NUMBER_IN_CENTER_20PX_DIAMETER', 'NUMBER_IN_CENTER_10PX_DIAMETER']]"
   ]
  },
  {
   "cell_type": "code",
   "execution_count": null,
   "id": "65f7b800-1246-4e36-89b7-83eb5498801e",
   "metadata": {},
   "outputs": [],
   "source": [
    "g_df.rename(columns={'X_IMAGE': 'x_coord', 'Y_IMAGE': 'y_coord', 'PETRO_RADIUS': 'g_petro_rad', 'ISOAREA_IMAGE': 'g_isophotal_area', 'A_IMAGE': 'g_major_axis', 'B_IMAGE': 'g_minor_axis', 'THETA_IMAGE': 'g_pos_angle', 'MU_MAX': 'g_peak_surface_brightness', 'ELLIPTICITY': 'g_ellipticity', 'FLUX_RADIUS': 'g_half_light_radius', 'SPHEROID_SERSICN': 'g_sersic_index', 'NUMBER_IN_CENTER_30PX_DIAMETER': 'g_central_image_pop_15px_rad', 'NUMBER_IN_CENTER_20PX_DIAMETER': 'g_central_image_pop_10px_rad', 'NUMBER_IN_CENTER_10PX_DIAMETER': 'g_central_image_pop_5px_rad'}, inplace=True)\n",
    "r_df.rename(columns={'X_IMAGE': 'x_coord', 'Y_IMAGE': 'y_coord', 'PETRO_RADIUS': 'r_petro_rad', 'ISOAREA_IMAGE': 'r_isophotal_area', 'A_IMAGE': 'r_major_axis', 'B_IMAGE': 'r_minor_axis', 'THETA_IMAGE': 'r_pos_angle', 'MU_MAX': 'r_peak_surface_brightness', 'ELLIPTICITY': 'r_ellipticity', 'FLUX_RADIUS': 'r_half_light_radius', 'SPHEROID_SERSICN': 'r_sersic_index', 'NUMBER_IN_CENTER_30PX_DIAMETER': 'r_central_image_pop_15px_rad', 'NUMBER_IN_CENTER_20PX_DIAMETER': 'r_central_image_pop_10px_rad', 'NUMBER_IN_CENTER_10PX_DIAMETER': 'r_central_image_pop_5px_rad'}, inplace=True)\n",
    "i_df.rename(columns={'X_IMAGE': 'x_coord', 'Y_IMAGE': 'y_coord', 'PETRO_RADIUS': 'i_petro_rad', 'ISOAREA_IMAGE': 'i_isophotal_area', 'A_IMAGE': 'i_major_axis', 'B_IMAGE': 'i_minor_axis', 'THETA_IMAGE': 'i_pos_angle', 'MU_MAX': 'i_peak_surface_brightness', 'ELLIPTICITY': 'i_ellipticity', 'FLUX_RADIUS': 'i_half_light_radius', 'SPHEROID_SERSICN': 'i_sersic_index', 'NUMBER_IN_CENTER_30PX_DIAMETER': 'i_central_image_pop_15px_rad', 'NUMBER_IN_CENTER_20PX_DIAMETER': 'i_central_image_pop_10px_rad', 'NUMBER_IN_CENTER_10PX_DIAMETER': 'i_central_image_pop_5px_rad'}, inplace=True)\n",
    "z_df.rename(columns={'X_IMAGE': 'x_coord', 'Y_IMAGE': 'y_coord', 'PETRO_RADIUS': 'z_petro_rad', 'ISOAREA_IMAGE': 'z_isophotal_area', 'A_IMAGE': 'z_major_axis', 'B_IMAGE': 'z_minor_axis', 'THETA_IMAGE': 'z_pos_angle', 'MU_MAX': 'z_peak_surface_brightness', 'ELLIPTICITY': 'z_ellipticity', 'FLUX_RADIUS': 'z_half_light_radius', 'SPHEROID_SERSICN': 'z_sersic_index', 'NUMBER_IN_CENTER_30PX_DIAMETER': 'z_central_image_pop_15px_rad', 'NUMBER_IN_CENTER_20PX_DIAMETER': 'z_central_image_pop_10px_rad', 'NUMBER_IN_CENTER_10PX_DIAMETER': 'z_central_image_pop_5px_rad'}, inplace=True)\n",
    "y_df.rename(columns={'X_IMAGE': 'x_coord', 'Y_IMAGE': 'y_coord', 'PETRO_RADIUS': 'y_petro_rad', 'ISOAREA_IMAGE': 'y_isophotal_area', 'A_IMAGE': 'y_major_axis', 'B_IMAGE': 'y_minor_axis', 'THETA_IMAGE': 'y_pos_angle', 'MU_MAX': 'y_peak_surface_brightness', 'ELLIPTICITY': 'y_ellipticity', 'FLUX_RADIUS': 'y_half_light_radius', 'SPHEROID_SERSICN': 'y_sersic_index', 'NUMBER_IN_CENTER_30PX_DIAMETER': 'y_central_image_pop_15px_rad', 'NUMBER_IN_CENTER_20PX_DIAMETER': 'y_central_image_pop_10px_rad', 'NUMBER_IN_CENTER_10PX_DIAMETER': 'y_central_image_pop_5px_rad'}, inplace=True)"
   ]
  },
  {
   "cell_type": "code",
   "execution_count": null,
   "id": "32a9d4b7-a325-43cb-99c6-e0201bdd5b22",
   "metadata": {},
   "outputs": [],
   "source": [
    "df = pd.merge(g_df, r_df, on=['object_id', 'specz'])\n",
    "df = pd.merge(i_df, df, on=['object_id', 'specz'])\n",
    "df = pd.merge(z_df, df, on=['object_id', 'specz'])\n",
    "df = pd.merge(y_df, df, on=['object_id', 'specz'])"
   ]
  },
  {
   "cell_type": "code",
   "execution_count": null,
   "id": "5d0b7447-4071-436e-9d75-dff3a9559def",
   "metadata": {},
   "outputs": [],
   "source": [
    "df"
   ]
  },
  {
   "cell_type": "code",
   "execution_count": null,
   "id": "2ff812be-1a86-4b27-b56b-c9696a235683",
   "metadata": {},
   "outputs": [],
   "source": [
    "df.drop(columns='specz', inplace=True)"
   ]
  },
  {
   "cell_type": "code",
   "execution_count": null,
   "id": "36f8e6eb-1d71-4b1b-932b-8a0658d4c61b",
   "metadata": {},
   "outputs": [],
   "source": [
    "with h5py.File(TRAIN_NEW, 'r') as f:\n",
    "    train_oid = list(f['object_id'][:])\n",
    "train_oid_df = pd.DataFrame({'object_id': train_oid, 'index_pos': range(len(train_oid))})\n",
    "merged_train = pd.merge(df, train_oid_df, on='object_id', how='inner')\n",
    "sorted_train = merged_train.sort_values('index_pos')\n",
    "sorted_train = sorted_train.drop(columns=['object_id', 'g_cmodel_mag', 'r_cmodel_mag', 'i_cmodel_mag', 'z_cmodel_mag', 'y_cmodel_mag', 'index_pos'], axis=1)"
   ]
  },
  {
   "cell_type": "code",
   "execution_count": null,
   "id": "459a1107-d615-470c-be9b-4220628586d8",
   "metadata": {},
   "outputs": [],
   "source": [
    "with h5py.File(VAL_NEW, 'r') as f:\n",
    "    val_oid = list(f['object_id'][:])\n",
    "val_oid_df = pd.DataFrame({'object_id': val_oid, 'index_pos': range(len(val_oid))})\n",
    "merged_val = pd.merge(df, val_oid_df, on='object_id', how='inner')\n",
    "sorted_val = merged_val.sort_values('index_pos')\n",
    "sorted_val = sorted_val.drop(columns=['object_id', 'g_cmodel_mag', 'r_cmodel_mag', 'i_cmodel_mag', 'z_cmodel_mag', 'y_cmodel_mag', 'index_pos'], axis=1)"
   ]
  },
  {
   "cell_type": "code",
   "execution_count": null,
   "id": "ef5e3b47-1a5a-4aba-9d37-8814885f85e9",
   "metadata": {},
   "outputs": [],
   "source": [
    "with h5py.File(TEST_NEW, 'r') as f:\n",
    "    test_oid = list(f['object_id'][:])\n",
    "test_oid_df = pd.DataFrame({'object_id': test_oid, 'index_pos': range(len(test_oid))})\n",
    "merged_test = pd.merge(df, test_oid_df, on='object_id', how='inner')\n",
    "sorted_test = merged_test.sort_values('index_pos')\n",
    "sorted_test = sorted_test.drop(columns=['object_id', 'g_cmodel_mag', 'r_cmodel_mag', 'i_cmodel_mag', 'z_cmodel_mag', 'y_cmodel_mag', 'index_pos'], axis=1)"
   ]
  },
  {
   "cell_type": "code",
   "execution_count": null,
   "id": "b814d92f-c225-43db-b27c-8c5e5dc8d0e2",
   "metadata": {},
   "outputs": [],
   "source": [
    "with h5py.File(TRAIN_NEW, 'a') as f:\n",
    "    column_names = sorted_train.columns.tolist()\n",
    "    for column_name in column_names:\n",
    "        column_data = sorted_train[column_name].values\n",
    "        try:\n",
    "            f[column_name] = column_data\n",
    "        except:\n",
    "            continue"
   ]
  },
  {
   "cell_type": "code",
   "execution_count": null,
   "id": "fc6c8eec-4de5-44f7-8c75-8e2b6c530fa2",
   "metadata": {},
   "outputs": [],
   "source": [
    "with h5py.File(VAL_NEW, 'a') as f:\n",
    "    column_names = sorted_val.columns.tolist()\n",
    "    for column_name in column_names:\n",
    "        column_data = sorted_val[column_name].values\n",
    "        try:\n",
    "            f[column_name] = column_data\n",
    "        except:\n",
    "            continue"
   ]
  },
  {
   "cell_type": "code",
   "execution_count": null,
   "id": "4ea0b49e-0ee5-4b57-adde-d0008304a209",
   "metadata": {},
   "outputs": [],
   "source": [
    "with h5py.File(TEST_NEW, 'a') as f:\n",
    "    column_names = sorted_test.columns.tolist()\n",
    "    for column_name in column_names:\n",
    "        column_data = sorted_test[column_name].values\n",
    "        try:\n",
    "            f[column_name] = column_data\n",
    "        except:\n",
    "            continue"
   ]
  },
  {
   "cell_type": "code",
   "execution_count": null,
   "id": "9f98f018-259c-45fe-bf3d-ab9dc1c4e3f1",
   "metadata": {},
   "outputs": [],
   "source": [
    "with h5py.File(TEST_NEW, 'a') as f:\n",
    "    print(list(f.keys()))"
   ]
  },
  {
   "cell_type": "code",
   "execution_count": null,
   "id": "313ea9f5-1829-4fa0-9cfe-8cc0d9dac680",
   "metadata": {},
   "outputs": [],
   "source": [
    "# make this for the 5 bands?\n",
    "# come up with names for the shape parameters if needed\n",
    "# if this goes in the data, make others have input on this"
   ]
  },
  {
   "cell_type": "code",
   "execution_count": null,
   "id": "ee07184e-9244-4e26-bfbe-727a65d1196d",
   "metadata": {},
   "outputs": [],
   "source": [
    "# ISOAREA_IMAGE -> isophotal_area\n",
    "# A_IMAGE -> major_axis\n",
    "# B_IMAGE -> minor_axis\n",
    "# FLUX_RADIUS -> half_light_rad\n",
    "# PETRO_RADIUS -> petro_rad\n",
    "# THETA_WORLD -> pos_angle\n",
    "# SPHEROID_SERSICN -> sersic_index\n",
    "# ELLIPTICITY -> ellipticity\n",
    "# MU_MAX -> peak_surfance_brightness"
   ]
  }
 ],
 "metadata": {
  "kernelspec": {
   "display_name": "Python 3 (ipykernel)",
   "language": "python",
   "name": "python3"
  },
  "language_info": {
   "codemirror_mode": {
    "name": "ipython",
    "version": 3
   },
   "file_extension": ".py",
   "mimetype": "text/x-python",
   "name": "python",
   "nbconvert_exporter": "python",
   "pygments_lexer": "ipython3",
   "version": "3.10.10"
  }
 },
 "nbformat": 4,
 "nbformat_minor": 5
}
