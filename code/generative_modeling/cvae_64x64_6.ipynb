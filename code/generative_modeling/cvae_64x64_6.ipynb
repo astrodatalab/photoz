{
 "cells": [
  {
   "cell_type": "code",
   "execution_count": 1,
   "id": "4d56f26f-0259-4940-9ab2-7d3689d30b1a",
   "metadata": {},
   "outputs": [
    {
     "name": "stderr",
     "output_type": "stream",
     "text": [
      "2023-10-04 20:39:32.753794: I tensorflow/core/platform/cpu_feature_guard.cc:182] This TensorFlow binary is optimized to use available CPU instructions in performance-critical operations.\n",
      "To enable the following instructions: AVX2 FMA, in other operations, rebuild TensorFlow with the appropriate compiler flags.\n",
      "2023-10-04 20:39:33.420384: W tensorflow/compiler/tf2tensorrt/utils/py_utils.cc:38] TF-TRT Warning: Could not find TensorRT\n"
     ]
    }
   ],
   "source": [
    "import sys, os\n",
    "import numpy as np\n",
    "import h5py\n",
    "import random\n",
    "import neptune\n",
    "import matplotlib.pyplot as plt\n",
    "import tensorflow as tf\n",
    "import tensorflow_probability as tfp\n",
    "\n",
    "from tqdm import tqdm\n",
    "from tensorflow import keras\n",
    "from tensorflow_probability import layers as tfpl\n",
    "from tensorflow_probability import distributions as tfd\n",
    "from tensorflow.keras import Sequential\n",
    "from tensorflow.keras.models import Model\n",
    "from tensorflow.keras.callbacks import TensorBoard, ModelCheckpoint, ReduceLROnPlateau\n",
    "from tensorflow.keras.layers import Concatenate, Input, MaxPooling2D, Conv2D, Conv2DTranspose, Flatten, Dropout, Dense, BatchNormalization, Activation, Reshape, LeakyReLU\n",
    "from tensorflow.keras.optimizers import Adam\n",
    "from tensorflow_probability.python.distributions import kl_divergence\n",
    "from neptune.integrations.tensorflow_keras import NeptuneCallback\n",
    "from DataMakerCVAE import *"
   ]
  },
  {
   "cell_type": "code",
   "execution_count": 2,
   "id": "998ecdb5-f513-44b2-ba6d-235a2450e2d3",
   "metadata": {},
   "outputs": [],
   "source": [
    "LATENT_DIM = 128\n",
    "IMAGE_SHAPE = (5, 64, 64)\n",
    "BATCH_SIZE = 512\n",
    "EPOCHS = 250\n",
    "CHECKPOINTS_TO_SAVE = 4\n",
    "KL_WEIGHT = 1e-3"
   ]
  },
  {
   "cell_type": "code",
   "execution_count": 3,
   "id": "3a44e7a5",
   "metadata": {},
   "outputs": [
    {
     "name": "stdout",
     "output_type": "stream",
     "text": [
      "1 Physical GPUs, 1 Logical GPUs\n"
     ]
    },
    {
     "name": "stderr",
     "output_type": "stream",
     "text": [
      "2023-10-04 20:39:34.558748: I tensorflow/compiler/xla/stream_executor/cuda/cuda_gpu_executor.cc:996] successful NUMA node read from SysFS had negative value (-1), but there must be at least one NUMA node, so returning NUMA node zero. See more at https://github.com/torvalds/linux/blob/v6.0/Documentation/ABI/testing/sysfs-bus-pci#L344-L355\n",
      "2023-10-04 20:39:34.616866: I tensorflow/compiler/xla/stream_executor/cuda/cuda_gpu_executor.cc:996] successful NUMA node read from SysFS had negative value (-1), but there must be at least one NUMA node, so returning NUMA node zero. See more at https://github.com/torvalds/linux/blob/v6.0/Documentation/ABI/testing/sysfs-bus-pci#L344-L355\n",
      "2023-10-04 20:39:34.617069: I tensorflow/compiler/xla/stream_executor/cuda/cuda_gpu_executor.cc:996] successful NUMA node read from SysFS had negative value (-1), but there must be at least one NUMA node, so returning NUMA node zero. See more at https://github.com/torvalds/linux/blob/v6.0/Documentation/ABI/testing/sysfs-bus-pci#L344-L355\n",
      "2023-10-04 20:39:34.618887: I tensorflow/compiler/xla/stream_executor/cuda/cuda_gpu_executor.cc:996] successful NUMA node read from SysFS had negative value (-1), but there must be at least one NUMA node, so returning NUMA node zero. See more at https://github.com/torvalds/linux/blob/v6.0/Documentation/ABI/testing/sysfs-bus-pci#L344-L355\n",
      "2023-10-04 20:39:34.619039: I tensorflow/compiler/xla/stream_executor/cuda/cuda_gpu_executor.cc:996] successful NUMA node read from SysFS had negative value (-1), but there must be at least one NUMA node, so returning NUMA node zero. See more at https://github.com/torvalds/linux/blob/v6.0/Documentation/ABI/testing/sysfs-bus-pci#L344-L355\n",
      "2023-10-04 20:39:34.619179: I tensorflow/compiler/xla/stream_executor/cuda/cuda_gpu_executor.cc:996] successful NUMA node read from SysFS had negative value (-1), but there must be at least one NUMA node, so returning NUMA node zero. See more at https://github.com/torvalds/linux/blob/v6.0/Documentation/ABI/testing/sysfs-bus-pci#L344-L355\n",
      "2023-10-04 20:39:35.229776: I tensorflow/compiler/xla/stream_executor/cuda/cuda_gpu_executor.cc:996] successful NUMA node read from SysFS had negative value (-1), but there must be at least one NUMA node, so returning NUMA node zero. See more at https://github.com/torvalds/linux/blob/v6.0/Documentation/ABI/testing/sysfs-bus-pci#L344-L355\n",
      "2023-10-04 20:39:35.229970: I tensorflow/compiler/xla/stream_executor/cuda/cuda_gpu_executor.cc:996] successful NUMA node read from SysFS had negative value (-1), but there must be at least one NUMA node, so returning NUMA node zero. See more at https://github.com/torvalds/linux/blob/v6.0/Documentation/ABI/testing/sysfs-bus-pci#L344-L355\n",
      "2023-10-04 20:39:35.230108: I tensorflow/compiler/xla/stream_executor/cuda/cuda_gpu_executor.cc:996] successful NUMA node read from SysFS had negative value (-1), but there must be at least one NUMA node, so returning NUMA node zero. See more at https://github.com/torvalds/linux/blob/v6.0/Documentation/ABI/testing/sysfs-bus-pci#L344-L355\n",
      "2023-10-04 20:39:35.230216: I tensorflow/core/common_runtime/gpu/gpu_device.cc:1635] Created device /job:localhost/replica:0/task:0/device:GPU:0 with 20000 MB memory:  -> device: 0, name: NVIDIA RTX A6000, pci bus id: 0000:61:00.0, compute capability: 8.6\n"
     ]
    }
   ],
   "source": [
    "gpus = tf.config.list_physical_devices('GPU');\n",
    "if gpus:\n",
    "    try:\n",
    "        tf.config.experimental.set_virtual_device_configuration(\n",
    "            gpus[0],\n",
    "            [tf.config.experimental.VirtualDeviceConfiguration(memory_limit = 20000)]);\n",
    "        logical_gpus = tf.config.experimental.list_logical_devices('GPU');\n",
    "        print(len(gpus), \"Physical GPUs,\", len(logical_gpus), \"Logical GPUs\")\n",
    "    except RuntimeError as e:\n",
    "        print(e)"
   ]
  },
  {
   "cell_type": "code",
   "execution_count": 4,
   "id": "8bb7cabe",
   "metadata": {},
   "outputs": [],
   "source": [
    "args_gen = {'X_key' : 'image',\n",
    "    'y_key' : 'specz_redshift',\n",
    "    'scaler' : False,\n",
    "    'labels_encoding' : False,\n",
    "    'batch_size': BATCH_SIZE,\n",
    "    'mode' : 'train',\n",
    "    'shuffle' : False}\n",
    "\n",
    "train_gen = HDF5ImageGenerator(src = '/data/HSC/HSC_v6/step2A/64x64/5x64x64_training_z_less_than_2.hdf5', **args_gen)\n",
    "test_gen = HDF5ImageGenerator(src = '/data/HSC/HSC_v6/step2A/64x64/5x64x64_testing_z_less_than_2.hdf5', **args_gen)\n",
    "val_gen = HDF5ImageGenerator(src = '/data/HSC/HSC_v6/step2A/64x64/5x64x64_validation_z_less_than_2.hdf5', **args_gen)"
   ]
  },
  {
   "cell_type": "code",
   "execution_count": 6,
   "id": "d31d75f2",
   "metadata": {},
   "outputs": [
    {
     "name": "stdout",
     "output_type": "stream",
     "text": [
      "WARNING:tensorflow:Please fix your imports. Module tensorflow.python.training.tracking.data_structures has been moved to tensorflow.python.trackable.data_structures. The old module will be deleted in version 2.11.\n"
     ]
    }
   ],
   "source": [
    "# Prior\n",
    "prior = tfd.Independent(tfd.Normal(loc = tf.zeros(LATENT_DIM), scale = 1.0), reinterpreted_batch_ndims = 1)\n",
    "\n",
    "# Encoder\n",
    "images = Input(shape = IMAGE_SHAPE)\n",
    "redshifts = Input(shape = (1,))\n",
    "x = Conv2D(32, 3, strides = 2, activation = \"relu\", padding = 'same', data_format = 'channels_first')(images)\n",
    "x = Conv2D(64, 3, strides = 2, activation = \"relu\", padding = 'same', data_format = 'channels_first')(x)\n",
    "x = Conv2D(128, 2, strides = 1, activation = \"relu\", padding = 'same', data_format = 'channels_first')(x)\n",
    "# x = Conv2D(256, 2, strides=1, activation=\"relu\", padding='same', data_format='channels_first')(x)\n",
    "x = Flatten()(x)\n",
    "x = tf.keras.layers.Concatenate()([x, redshifts])\n",
    "x = Dense(1024, activation = \"relu\")(x)\n",
    "x = Dense(1024, activation = \"relu\")(x)\n",
    "x = Dense(tfpl.MultivariateNormalTriL.params_size(LATENT_DIM), activation = None)(x)\n",
    "z = tfpl.MultivariateNormalTriL(LATENT_DIM, activity_regularizer = tfpl.KLDivergenceRegularizer(prior, weight=KL_WEIGHT))(x)\n",
    "\n",
    "encoder = Model([images, redshifts], z)"
   ]
  },
  {
   "cell_type": "code",
   "execution_count": 7,
   "id": "b25f1d7d",
   "metadata": {},
   "outputs": [],
   "source": [
    "zc = Input(shape=(LATENT_DIM + 1,))\n",
    "x = Dense(1024, activation = \"relu\")(zc)\n",
    "x = Dense(1024, activation = \"relu\")(x)\n",
    "x = Dense(128 * 16 * 16, activation = \"relu\")(x)\n",
    "x = Reshape((128, 16, 16))(x)\n",
    "# x = Conv2DTranspose(128, 2, strides=1, activation=\"relu\", padding='same', data_format='channels_first')(x)\n",
    "x = Conv2DTranspose(64, 2, strides = 1, activation = \"relu\", padding = 'same', data_format = 'channels_first')(x)\n",
    "x = Conv2DTranspose(32, 3, strides = 2, activation = \"relu\", padding = 'same', data_format = 'channels_first')(x)\n",
    "x = Conv2DTranspose(5, 3, strides = 2, activation = \"sigmoid\", padding = 'same', data_format = 'channels_first')(x)\n",
    "outputs = Reshape(IMAGE_SHAPE)(x)\n",
    "\n",
    "decoder = Model(zc, outputs)"
   ]
  },
  {
   "cell_type": "code",
   "execution_count": 8,
   "id": "e036f6f2",
   "metadata": {},
   "outputs": [],
   "source": [
    "z = encoder([images, redshifts])\n",
    "zc = tf.keras.layers.Concatenate()([z, redshifts])  # Assuming you want to concat the output of encoder and redshifts\n",
    "decoder_output = decoder(zc)\n",
    "\n",
    "model = Model(inputs = [images, redshifts], outputs = decoder_output)"
   ]
  },
  {
   "cell_type": "code",
   "execution_count": 9,
   "id": "c25fe180",
   "metadata": {},
   "outputs": [
    {
     "name": "stdout",
     "output_type": "stream",
     "text": [
      "Model: \"model\"\n",
      "__________________________________________________________________________________________________\n",
      " Layer (type)                   Output Shape         Param #     Connected to                     \n",
      "==================================================================================================\n",
      " input_3 (InputLayer)           [(None, 5, 64, 64)]  0           []                               \n",
      "                                                                                                  \n",
      " conv2d_2 (Conv2D)              (None, 32, 32, 32)   1472        ['input_3[0][0]']                \n",
      "                                                                                                  \n",
      " conv2d_3 (Conv2D)              (None, 64, 16, 16)   18496       ['conv2d_2[0][0]']               \n",
      "                                                                                                  \n",
      " conv2d_4 (Conv2D)              (None, 128, 16, 16)  32896       ['conv2d_3[0][0]']               \n",
      "                                                                                                  \n",
      " flatten (Flatten)              (None, 32768)        0           ['conv2d_4[0][0]']               \n",
      "                                                                                                  \n",
      " input_4 (InputLayer)           [(None, 1)]          0           []                               \n",
      "                                                                                                  \n",
      " concatenate (Concatenate)      (None, 32769)        0           ['flatten[0][0]',                \n",
      "                                                                  'input_4[0][0]']                \n",
      "                                                                                                  \n",
      " dense (Dense)                  (None, 1024)         33556480    ['concatenate[0][0]']            \n",
      "                                                                                                  \n",
      " dense_1 (Dense)                (None, 1024)         1049600     ['dense[0][0]']                  \n",
      "                                                                                                  \n",
      " dense_2 (Dense)                (None, 8384)         8593600     ['dense_1[0][0]']                \n",
      "                                                                                                  \n",
      " multivariate_normal_tri_l (Mul  ((None, 128),       0           ['dense_2[0][0]']                \n",
      " tivariateNormalTriL)            (None, 128))                                                     \n",
      "                                                                                                  \n",
      "==================================================================================================\n",
      "Total params: 43,252,544\n",
      "Trainable params: 43,252,544\n",
      "Non-trainable params: 0\n",
      "__________________________________________________________________________________________________\n",
      "Model: \"model_1\"\n",
      "_________________________________________________________________\n",
      " Layer (type)                Output Shape              Param #   \n",
      "=================================================================\n",
      " input_5 (InputLayer)        [(None, 129)]             0         \n",
      "                                                                 \n",
      " dense_3 (Dense)             (None, 1024)              133120    \n",
      "                                                                 \n",
      " dense_4 (Dense)             (None, 1024)              1049600   \n",
      "                                                                 \n",
      " dense_5 (Dense)             (None, 32768)             33587200  \n",
      "                                                                 \n",
      " reshape (Reshape)           (None, 128, 16, 16)       0         \n",
      "                                                                 \n",
      " conv2d_transpose (Conv2DTra  (None, 64, 16, 16)       32832     \n",
      " nspose)                                                         \n",
      "                                                                 \n",
      " conv2d_transpose_1 (Conv2DT  (None, 32, 32, 32)       18464     \n",
      " ranspose)                                                       \n",
      "                                                                 \n",
      " conv2d_transpose_2 (Conv2DT  (None, 5, 64, 64)        1445      \n",
      " ranspose)                                                       \n",
      "                                                                 \n",
      " reshape_1 (Reshape)         (None, 5, 64, 64)         0         \n",
      "                                                                 \n",
      "=================================================================\n",
      "Total params: 34,822,661\n",
      "Trainable params: 34,822,661\n",
      "Non-trainable params: 0\n",
      "_________________________________________________________________\n",
      "Model: \"model_2\"\n",
      "__________________________________________________________________________________________________\n",
      " Layer (type)                   Output Shape         Param #     Connected to                     \n",
      "==================================================================================================\n",
      " input_3 (InputLayer)           [(None, 5, 64, 64)]  0           []                               \n",
      "                                                                                                  \n",
      " input_4 (InputLayer)           [(None, 1)]          0           []                               \n",
      "                                                                                                  \n",
      " model (Functional)             (None, 128)          43252544    ['input_3[0][0]',                \n",
      "                                                                  'input_4[0][0]']                \n",
      "                                                                                                  \n",
      " concatenate_1 (Concatenate)    (None, 129)          0           ['model[0][0]',                  \n",
      "                                                                  'input_4[0][0]']                \n",
      "                                                                                                  \n",
      " model_1 (Functional)           (None, 5, 64, 64)    34822661    ['concatenate_1[0][0]']          \n",
      "                                                                                                  \n",
      "==================================================================================================\n",
      "Total params: 78,075,205\n",
      "Trainable params: 78,075,205\n",
      "Non-trainable params: 0\n",
      "__________________________________________________________________________________________________\n"
     ]
    }
   ],
   "source": [
    "encoder.summary()\n",
    "decoder.summary()\n",
    "model.summary()"
   ]
  },
  {
   "cell_type": "code",
   "execution_count": 27,
   "id": "d463c7d8",
   "metadata": {},
   "outputs": [],
   "source": [
    "optimizer = Adam(learning_rate = 0.001)\n",
    "model.compile(optimizer = optimizer, loss = 'mse')"
   ]
  },
  {
   "cell_type": "code",
   "execution_count": 28,
   "id": "fcbb9c52",
   "metadata": {},
   "outputs": [
    {
     "name": "stdout",
     "output_type": "stream",
     "text": [
      "https://app.neptune.ai/astro-data-lab/VAE/e/VAE-214\n"
     ]
    }
   ],
   "source": [
    "run = neptune.init_run(\n",
    "    name = \"CVAE\",\n",
    "    project = \"astro-data-lab/VAE\",\n",
    "    api_token = \"eyJhcGlfYWRkcmVzcyI6Imh0dHBzOi8vYXBwLm5lcHR1bmUuYWkiLCJhcGlfdXJsIjoiaHR0cHM6Ly9hcHAubmVwdHVuZS5haSIsImFwaV9rZXkiOiIxOGFlZGMxOC04MWU5LTQ2NDctYjlhZS05NGE2NGQ0NmIzMmEifQ==\",\n",
    ")  # your credentials\n",
    "\n",
    "model_name = 'cvae'\n",
    "\n",
    "weights_path = os.path.join('/data3/Billy/models/', model_name) + '/weights'\n",
    "\n",
    "neptune_callback = NeptuneCallback(run = run)\n",
    "\n",
    "LR_callback = ReduceLROnPlateau()"
   ]
  },
  {
   "cell_type": "code",
   "execution_count": null,
   "id": "a667a1c3",
   "metadata": {},
   "outputs": [
    {
     "name": "stdout",
     "output_type": "stream",
     "text": [
      "Epoch 1/200\n"
     ]
    },
    {
     "name": "stderr",
     "output_type": "stream",
     "text": [
      "2023-10-02 18:59:07.939745: I tensorflow/core/common_runtime/executor.cc:1197] [/device:CPU:0] (DEBUG INFO) Executor start aborting (this does not indicate an error and you can ignore this message): INVALID_ARGUMENT: You must feed a value for placeholder tensor 'Placeholder/_0' with dtype int32\n",
      "\t [[{{node Placeholder/_0}}]]\n"
     ]
    },
    {
     "name": "stdout",
     "output_type": "stream",
     "text": [
      "380/380 [==============================] - ETA: 0s - loss: 9.7041"
     ]
    },
    {
     "name": "stderr",
     "output_type": "stream",
     "text": [
      "2023-10-02 18:59:43.756886: I tensorflow/core/common_runtime/executor.cc:1197] [/device:CPU:0] (DEBUG INFO) Executor start aborting (this does not indicate an error and you can ignore this message): INVALID_ARGUMENT: You must feed a value for placeholder tensor 'Placeholder/_0' with dtype int32\n",
      "\t [[{{node Placeholder/_0}}]]\n"
     ]
    },
    {
     "name": "stdout",
     "output_type": "stream",
     "text": [
      "380/380 [==============================] - 42s 101ms/step - loss: 9.7041 - val_loss: 9.2773 - lr: 0.0010\n",
      "Epoch 2/200\n",
      "380/380 [==============================] - 36s 94ms/step - loss: 9.6434 - val_loss: 9.2826 - lr: 0.0010\n",
      "Epoch 3/200\n",
      "380/380 [==============================] - 35s 92ms/step - loss: 9.6414 - val_loss: 9.2746 - lr: 0.0010\n",
      "Epoch 4/200\n",
      "380/380 [==============================] - 35s 93ms/step - loss: 9.6410 - val_loss: 9.2742 - lr: 0.0010\n",
      "Epoch 5/200\n",
      "380/380 [==============================] - 36s 94ms/step - loss: 9.6403 - val_loss: 9.2731 - lr: 0.0010\n",
      "Epoch 6/200\n",
      "380/380 [==============================] - 36s 94ms/step - loss: 9.6381 - val_loss: 9.2722 - lr: 0.0010\n",
      "Epoch 7/200\n",
      "380/380 [==============================] - 36s 94ms/step - loss: 9.6369 - val_loss: 9.2718 - lr: 0.0010\n",
      "Epoch 8/200\n",
      "380/380 [==============================] - 36s 94ms/step - loss: 9.6365 - val_loss: 9.2712 - lr: 0.0010\n",
      "Epoch 9/200\n",
      "380/380 [==============================] - 36s 94ms/step - loss: 9.6362 - val_loss: 9.2705 - lr: 0.0010\n",
      "Epoch 10/200\n",
      "380/380 [==============================] - 36s 94ms/step - loss: 9.6365 - val_loss: 9.2713 - lr: 0.0010\n",
      "Epoch 11/200\n",
      "380/380 [==============================] - 36s 94ms/step - loss: 9.6356 - val_loss: 9.2712 - lr: 0.0010\n",
      "Epoch 12/200\n",
      "380/380 [==============================] - 36s 94ms/step - loss: 9.6356 - val_loss: 9.2706 - lr: 0.0010\n",
      "Epoch 13/200\n",
      "380/380 [==============================] - 36s 93ms/step - loss: 9.6355 - val_loss: 9.2704 - lr: 0.0010\n",
      "Epoch 14/200\n",
      "380/380 [==============================] - 36s 94ms/step - loss: 9.6319 - val_loss: 9.2638 - lr: 0.0010\n",
      "Epoch 15/200\n",
      "380/380 [==============================] - 36s 94ms/step - loss: 9.6282 - val_loss: 9.2619 - lr: 0.0010\n",
      "Epoch 16/200\n",
      "380/380 [==============================] - 36s 94ms/step - loss: 9.6269 - val_loss: 9.2608 - lr: 0.0010\n",
      "Epoch 17/200\n",
      "380/380 [==============================] - 36s 94ms/step - loss: 9.6260 - val_loss: 9.2603 - lr: 0.0010\n",
      "Epoch 18/200\n",
      "380/380 [==============================] - 36s 93ms/step - loss: 9.6254 - val_loss: 9.2595 - lr: 0.0010\n",
      "Epoch 19/200\n",
      "380/380 [==============================] - 36s 94ms/step - loss: 9.6244 - val_loss: 9.2593 - lr: 0.0010\n",
      "Epoch 20/200\n",
      "380/380 [==============================] - 36s 94ms/step - loss: 9.6242 - val_loss: 9.2582 - lr: 0.0010\n",
      "Epoch 21/200\n",
      "380/380 [==============================] - 36s 94ms/step - loss: 9.6236 - val_loss: 9.2580 - lr: 0.0010\n",
      "Epoch 22/200\n",
      "380/380 [==============================] - 36s 94ms/step - loss: 9.6787 - val_loss: 9.2578 - lr: 0.0010\n",
      "Epoch 23/200\n",
      "380/380 [==============================] - 36s 93ms/step - loss: 9.6229 - val_loss: 9.2569 - lr: 0.0010\n",
      "Epoch 24/200\n",
      "380/380 [==============================] - 35s 93ms/step - loss: 9.6219 - val_loss: 9.2562 - lr: 0.0010\n",
      "Epoch 25/200\n",
      "380/380 [==============================] - 36s 94ms/step - loss: 9.6212 - val_loss: 9.2563 - lr: 0.0010\n",
      "Epoch 26/200\n",
      "380/380 [==============================] - 35s 93ms/step - loss: 9.6206 - val_loss: 9.2548 - lr: 0.0010\n",
      "Epoch 27/200\n",
      "380/380 [==============================] - 35s 93ms/step - loss: 9.6198 - val_loss: 9.2539 - lr: 0.0010\n",
      "Epoch 28/200\n",
      "380/380 [==============================] - 37s 98ms/step - loss: 9.6187 - val_loss: 9.2540 - lr: 0.0010\n",
      "Epoch 29/200\n",
      "380/380 [==============================] - 35s 93ms/step - loss: 9.6181 - val_loss: 9.2526 - lr: 0.0010\n",
      "Epoch 30/200\n",
      "380/380 [==============================] - 36s 94ms/step - loss: 9.6175 - val_loss: 9.2527 - lr: 0.0010\n",
      "Epoch 31/200\n",
      "380/380 [==============================] - 36s 95ms/step - loss: 9.6175 - val_loss: 9.2520 - lr: 0.0010\n",
      "Epoch 32/200\n",
      "380/380 [==============================] - 36s 95ms/step - loss: 9.6172 - val_loss: 9.2514 - lr: 0.0010\n",
      "Epoch 33/200\n",
      "380/380 [==============================] - 36s 94ms/step - loss: 9.6167 - val_loss: 9.2516 - lr: 0.0010\n",
      "Epoch 34/200\n",
      "380/380 [==============================] - 36s 95ms/step - loss: 9.6162 - val_loss: 9.2515 - lr: 0.0010\n",
      "Epoch 35/200\n",
      "380/380 [==============================] - 36s 95ms/step - loss: 9.6160 - val_loss: 9.2505 - lr: 0.0010\n",
      "Epoch 36/200\n",
      "380/380 [==============================] - 39s 101ms/step - loss: 9.6155 - val_loss: 9.2517 - lr: 0.0010\n",
      "Epoch 37/200\n",
      "380/380 [==============================] - 38s 100ms/step - loss: 9.6156 - val_loss: 9.2501 - lr: 0.0010\n",
      "Epoch 38/200\n",
      "380/380 [==============================] - 38s 99ms/step - loss: 9.6150 - val_loss: 9.2501 - lr: 0.0010\n",
      "Epoch 39/200\n",
      "380/380 [==============================] - 37s 96ms/step - loss: 9.6150 - val_loss: 9.2500 - lr: 0.0010\n",
      "Epoch 40/200\n",
      "380/380 [==============================] - 36s 95ms/step - loss: 9.6149 - val_loss: 9.2497 - lr: 0.0010\n",
      "Epoch 41/200\n",
      "380/380 [==============================] - 40s 106ms/step - loss: 9.6149 - val_loss: 9.2495 - lr: 0.0010\n",
      "Epoch 42/200\n",
      "380/380 [==============================] - 35s 93ms/step - loss: 9.6146 - val_loss: 9.2494 - lr: 0.0010\n",
      "Epoch 43/200\n",
      "380/380 [==============================] - 36s 94ms/step - loss: 9.6145 - val_loss: 9.2496 - lr: 0.0010\n",
      "Epoch 44/200\n",
      "380/380 [==============================] - 35s 93ms/step - loss: 9.6145 - val_loss: 9.2494 - lr: 0.0010\n",
      "Epoch 45/200\n",
      "380/380 [==============================] - 36s 94ms/step - loss: 9.6142 - val_loss: 9.2491 - lr: 0.0010\n",
      "Epoch 46/200\n",
      "380/380 [==============================] - 36s 94ms/step - loss: 9.6142 - val_loss: 9.2493 - lr: 0.0010\n",
      "Epoch 47/200\n",
      "380/380 [==============================] - 36s 94ms/step - loss: 9.6143 - val_loss: 9.2493 - lr: 0.0010\n",
      "Epoch 48/200\n",
      "380/380 [==============================] - 36s 94ms/step - loss: 9.6140 - val_loss: 9.2492 - lr: 0.0010\n",
      "Epoch 49/200\n",
      "380/380 [==============================] - 36s 94ms/step - loss: 9.6140 - val_loss: 9.2490 - lr: 0.0010\n",
      "Epoch 50/200\n",
      "380/380 [==============================] - 36s 93ms/step - loss: 9.6144 - val_loss: 9.2492 - lr: 0.0010\n",
      "Epoch 51/200\n",
      "380/380 [==============================] - 36s 95ms/step - loss: 9.6140 - val_loss: 9.2490 - lr: 0.0010\n",
      "Epoch 52/200\n",
      "380/380 [==============================] - 36s 95ms/step - loss: 9.6138 - val_loss: 9.2489 - lr: 0.0010\n",
      "Epoch 53/200\n",
      "380/380 [==============================] - 36s 94ms/step - loss: 9.6137 - val_loss: 9.2492 - lr: 0.0010\n",
      "Epoch 54/200\n",
      "380/380 [==============================] - 36s 94ms/step - loss: 9.6137 - val_loss: 9.2489 - lr: 0.0010\n",
      "Epoch 55/200\n",
      "380/380 [==============================] - 36s 94ms/step - loss: 9.6143 - val_loss: 9.2491 - lr: 0.0010\n",
      "Epoch 56/200\n",
      "380/380 [==============================] - 36s 94ms/step - loss: 9.6136 - val_loss: 9.2489 - lr: 0.0010\n",
      "Epoch 57/200\n",
      "380/380 [==============================] - 36s 95ms/step - loss: 9.6140 - val_loss: 9.2488 - lr: 0.0010\n",
      "Epoch 58/200\n",
      "380/380 [==============================] - 36s 94ms/step - loss: 9.6140 - val_loss: 9.2488 - lr: 0.0010\n",
      "Epoch 59/200\n",
      "380/380 [==============================] - 36s 95ms/step - loss: 9.6136 - val_loss: 9.2489 - lr: 0.0010\n",
      "Epoch 60/200\n",
      "380/380 [==============================] - 36s 94ms/step - loss: 9.6138 - val_loss: 9.2489 - lr: 0.0010\n",
      "Epoch 61/200\n",
      "380/380 [==============================] - 36s 94ms/step - loss: 9.6136 - val_loss: 9.2488 - lr: 0.0010\n",
      "Epoch 62/200\n",
      "380/380 [==============================] - 36s 94ms/step - loss: 9.6135 - val_loss: 9.2486 - lr: 0.0010\n",
      "Epoch 63/200\n",
      "380/380 [==============================] - 36s 95ms/step - loss: 9.6140 - val_loss: 9.2496 - lr: 0.0010\n",
      "Epoch 64/200\n",
      "380/380 [==============================] - 36s 95ms/step - loss: 9.6135 - val_loss: 9.2488 - lr: 0.0010\n",
      "Epoch 65/200\n",
      "380/380 [==============================] - 36s 95ms/step - loss: 9.6133 - val_loss: 9.2489 - lr: 0.0010\n",
      "Epoch 66/200\n",
      "380/380 [==============================] - 36s 95ms/step - loss: 9.6135 - val_loss: 9.2490 - lr: 0.0010\n",
      "Epoch 67/200\n",
      "380/380 [==============================] - 36s 94ms/step - loss: 9.6133 - val_loss: 9.2489 - lr: 0.0010\n",
      "Epoch 68/200\n",
      "380/380 [==============================] - 36s 94ms/step - loss: 9.6134 - val_loss: 9.2485 - lr: 0.0010\n",
      "Epoch 69/200\n",
      "380/380 [==============================] - 36s 94ms/step - loss: 9.6132 - val_loss: 9.2484 - lr: 0.0010\n",
      "Epoch 70/200\n",
      "380/380 [==============================] - 36s 94ms/step - loss: 9.6137 - val_loss: 9.2487 - lr: 0.0010\n",
      "Epoch 71/200\n",
      "380/380 [==============================] - 36s 95ms/step - loss: 9.6133 - val_loss: 9.2491 - lr: 0.0010\n",
      "Epoch 72/200\n",
      "380/380 [==============================] - 36s 94ms/step - loss: 9.6132 - val_loss: 9.2485 - lr: 0.0010\n",
      "Epoch 73/200\n",
      "380/380 [==============================] - 36s 95ms/step - loss: 9.6131 - val_loss: 9.2484 - lr: 0.0010\n",
      "Epoch 74/200\n",
      "380/380 [==============================] - 37s 97ms/step - loss: 9.6132 - val_loss: 9.2489 - lr: 0.0010\n",
      "Epoch 75/200\n",
      "380/380 [==============================] - 38s 99ms/step - loss: 9.6134 - val_loss: 9.2487 - lr: 0.0010\n",
      "Epoch 76/200\n",
      "380/380 [==============================] - 38s 100ms/step - loss: 9.6132 - val_loss: 9.2486 - lr: 0.0010\n",
      "Epoch 77/200\n",
      "380/380 [==============================] - 36s 95ms/step - loss: 9.6130 - val_loss: 9.2488 - lr: 0.0010\n",
      "Epoch 78/200\n",
      "380/380 [==============================] - 36s 95ms/step - loss: 9.6131 - val_loss: 9.2484 - lr: 0.0010\n",
      "Epoch 79/200\n",
      "380/380 [==============================] - 36s 94ms/step - loss: 9.6133 - val_loss: 9.2485 - lr: 0.0010\n",
      "Epoch 80/200\n",
      "380/380 [==============================] - 36s 94ms/step - loss: 9.6123 - val_loss: 9.2477 - lr: 1.0000e-04\n",
      "Epoch 81/200\n",
      "380/380 [==============================] - 35s 93ms/step - loss: 9.6120 - val_loss: 9.2476 - lr: 1.0000e-04\n",
      "Epoch 82/200\n",
      "380/380 [==============================] - 35s 93ms/step - loss: 9.6120 - val_loss: 9.2476 - lr: 1.0000e-04\n",
      "Epoch 83/200\n",
      "380/380 [==============================] - 35s 93ms/step - loss: 9.6119 - val_loss: 9.2476 - lr: 1.0000e-04\n",
      "Epoch 84/200\n",
      "380/380 [==============================] - 36s 95ms/step - loss: 9.6119 - val_loss: 9.2475 - lr: 1.0000e-04\n",
      "Epoch 85/200\n",
      "380/380 [==============================] - 36s 94ms/step - loss: 9.6119 - val_loss: 9.2475 - lr: 1.0000e-04\n",
      "Epoch 86/200\n",
      "380/380 [==============================] - 36s 94ms/step - loss: 9.6118 - val_loss: 9.2475 - lr: 1.0000e-04\n",
      "Epoch 87/200\n",
      "380/380 [==============================] - 35s 93ms/step - loss: 9.6118 - val_loss: 9.2475 - lr: 1.0000e-04\n",
      "Epoch 88/200\n",
      "380/380 [==============================] - 35s 93ms/step - loss: 9.6118 - val_loss: 9.2475 - lr: 1.0000e-04\n",
      "Epoch 89/200\n",
      "380/380 [==============================] - 36s 93ms/step - loss: 9.6118 - val_loss: 9.2475 - lr: 1.0000e-04\n",
      "Epoch 90/200\n",
      "380/380 [==============================] - 36s 93ms/step - loss: 9.6118 - val_loss: 9.2475 - lr: 1.0000e-04\n",
      "Epoch 91/200\n",
      "380/380 [==============================] - 40s 106ms/step - loss: 9.6118 - val_loss: 9.2474 - lr: 1.0000e-04\n",
      "Epoch 92/200\n",
      "380/380 [==============================] - 468s 1s/step - loss: 9.6117 - val_loss: 9.2475 - lr: 1.0000e-04\n",
      "Epoch 93/200\n",
      "380/380 [==============================] - 611s 2s/step - loss: 9.6117 - val_loss: 9.2474 - lr: 1.0000e-04\n",
      "Epoch 94/200\n",
      "380/380 [==============================] - 475s 1s/step - loss: 9.6117 - val_loss: 9.2475 - lr: 1.0000e-04\n",
      "Epoch 95/200\n",
      "380/380 [==============================] - 445s 1s/step - loss: 9.6117 - val_loss: 9.2475 - lr: 1.0000e-04\n",
      "Epoch 96/200\n",
      "380/380 [==============================] - 505s 1s/step - loss: 9.6117 - val_loss: 9.2474 - lr: 1.0000e-04\n",
      "Epoch 97/200\n",
      "380/380 [==============================] - 308s 808ms/step - loss: 9.6116 - val_loss: 9.2474 - lr: 1.0000e-05\n",
      "Epoch 98/200\n",
      "380/380 [==============================] - 159s 420ms/step - loss: 9.6116 - val_loss: 9.2474 - lr: 1.0000e-05\n",
      "Epoch 99/200\n",
      "380/380 [==============================] - 148s 390ms/step - loss: 9.6116 - val_loss: 9.2474 - lr: 1.0000e-05\n",
      "Epoch 100/200\n",
      "380/380 [==============================] - 140s 369ms/step - loss: 9.6116 - val_loss: 9.2474 - lr: 1.0000e-05\n",
      "Epoch 101/200\n",
      "380/380 [==============================] - 54s 143ms/step - loss: 9.6116 - val_loss: 9.2474 - lr: 1.0000e-05\n",
      "Epoch 102/200\n",
      "380/380 [==============================] - 212s 559ms/step - loss: 9.6116 - val_loss: 9.2474 - lr: 1.0000e-05\n",
      "Epoch 103/200\n",
      "380/380 [==============================] - 174s 458ms/step - loss: 9.6116 - val_loss: 9.2474 - lr: 1.0000e-05\n",
      "Epoch 104/200\n",
      "289/380 [=====================>........] - ETA: 39s - loss: 9.5397"
     ]
    }
   ],
   "source": [
    "history = model.fit(train_gen, epochs = 200, callbacks = [neptune_callback, LR_callback], validation_data = val_gen, verbose = 1)"
   ]
  },
  {
   "cell_type": "code",
   "execution_count": null,
   "id": "9a15f899",
   "metadata": {},
   "outputs": [],
   "source": [
    "model.save_weights(weights_path)"
   ]
  },
  {
   "cell_type": "code",
   "execution_count": null,
   "id": "6736025f",
   "metadata": {},
   "outputs": [],
   "source": [
    "model.load_weights(weights_path)"
   ]
  },
  {
   "cell_type": "code",
   "execution_count": 14,
   "id": "3527142f",
   "metadata": {},
   "outputs": [
    {
     "name": "stdout",
     "output_type": "stream",
     "text": [
      "z = 0.805610001\n"
     ]
    },
    {
     "data": {
      "image/png": "[encoded data removed]",
      "text/plain": [
       "<Figure size 1000x500 with 3 Axes>"
      ]
     },
     "metadata": {},
     "output_type": "display_data"
    }
   ],
   "source": [
    "lib = 3\n",
    "index = 466\n",
    "z = test_gen[lib][0][1][index]\n",
    "z_shifted = 2\n",
    "band = 0\n",
    "print(f'z = {z}')\n",
    "str = np.asarray(encoder([np.array([test_gen[lib][0][0][index]]), np.array([test_gen[lib][0][1][index]])])[0])\n",
    "str = np.concatenate((str, np.array([z])))\n",
    "str = str.reshape(1, LATENT_DIM + 1)\n",
    "str_shifted = np.asarray(encoder([np.array([test_gen[lib][0][0][index]]), np.array([test_gen[lib][0][1][index]])])[0])\n",
    "str_shifted = np.concatenate((str_shifted, np.array([z_shifted])))\n",
    "str_shifted = str_shifted.reshape(1, LATENT_DIM + 1)\n",
    "fig, axes = plt.subplots(nrows = 1, ncols = 3, figsize = (10, 5))\n",
    "axes[0].imshow(test_gen[lib][0][0][index][band], cmap = 'afmhot')\n",
    "axes[1].imshow(decoder([str])[0][band], cmap = 'afmhot')\n",
    "axes[2].imshow(decoder([str_shifted])[0][band], cmap = 'afmhot')\n",
    "axes[0].axis('off')\n",
    "axes[1].axis('off')\n",
    "axes[2].axis('off')\n",
    "axes[0].set_title(\"Original\")\n",
    "axes[1].set_title(\"Regenerated\")\n",
    "axes[2].set_title(\"Regenerated Far\")\n",
    "plt.show()"
   ]
  },
  {
   "cell_type": "code",
   "execution_count": 15,
   "id": "2840186a",
   "metadata": {},
   "outputs": [
    {
     "name": "stdout",
     "output_type": "stream",
     "text": [
      "z = 0.447369993\n"
     ]
    },
    {
     "data": {
      "image/png": "[encoded data removed]",
      "text/plain": [
       "<Figure size 1000x500 with 3 Axes>"
      ]
     },
     "metadata": {},
     "output_type": "display_data"
    }
   ],
   "source": [
    "lib = 5\n",
    "index = 273\n",
    "z = test_gen[lib][0][1][index]\n",
    "z_shifted = 0.1\n",
    "band = 0\n",
    "print(f'z = {z}')\n",
    "str = np.asarray(encoder([np.array([test_gen[lib][0][0][index]]), np.array([test_gen[lib][0][1][index]])])[0])\n",
    "str = np.concatenate((str, np.array([z])))\n",
    "str = str.reshape(1, LATENT_DIM + 1)\n",
    "str_shifted = np.asarray(encoder([np.array([test_gen[lib][0][0][index]]), np.array([test_gen[lib][0][1][index]])])[0])\n",
    "str_shifted = np.concatenate((str_shifted, np.array([z_shifted])))\n",
    "str_shifted = str_shifted.reshape(1, LATENT_DIM + 1)\n",
    "fig, axes = plt.subplots(nrows = 1, ncols = 3, figsize = (10, 5))\n",
    "axes[0].imshow(test_gen[lib][0][0][index][band], cmap = 'afmhot')\n",
    "axes[1].imshow(decoder([str])[0][band], cmap = 'afmhot')\n",
    "axes[2].imshow(decoder([str_shifted])[0][band], cmap = 'afmhot')\n",
    "axes[0].axis('off')\n",
    "axes[1].axis('off')\n",
    "axes[2].axis('off')\n",
    "axes[0].set_title(\"Original\")\n",
    "axes[1].set_title(\"Regenerated\")\n",
    "axes[2].set_title(\"Regenerated Close\")\n",
    "plt.show()"
   ]
  },
  {
   "cell_type": "code",
   "execution_count": null,
   "id": "534af846",
   "metadata": {},
   "outputs": [],
   "source": [
    "band = 0\n",
    "str = prior.sample(1)[0]\n",
    "strlo = np.concatenate((str, np.array([0.1])))\n",
    "strlo = strlo.reshape(1, LATENT_DIM + 1)\n",
    "strhi = np.concatenate((str, np.array([2])))\n",
    "strhi = strhi.reshape(1, LATENT_DIM + 1)\n",
    "fig, axes = plt.subplots(nrows = 1, ncols = 2, figsize = (10, 5))\n",
    "axes[0].imshow(decoder([strlo])[0][band], cmap = 'afmhot')\n",
    "axes[1].imshow(decoder([strhi])[0][band], cmap = 'afmhot')\n",
    "axes[0].axis('off')\n",
    "axes[1].axis('off')\n",
    "axes[0].set_title(\"Low z\")\n",
    "axes[1].set_title(\"High z\")\n",
    "plt.show()"
   ]
  },
  {
   "cell_type": "markdown",
   "id": "933e3dd1",
   "metadata": {},
   "source": [
    "fig, axes = plt.subplots(nrows = 1, ncols = 2, figsize = (10, 5))\n",
    "x_array = np.arange(5)\n",
    "lo_array = np.array([])\n",
    "hi_array = np.array([])\n",
    "for j in range(0, 5):\n",
    "    lo_array = np.append(lo_array, decoder([strlo])[0][j][63][63])\n",
    "    hi_array = np.append(hi_array, decoder([strhi])[0][j][63][63])\n",
    "axes[0].scatter(x_array, lo_array, c = 'blue', label = 'Low')\n",
    "axes[1].scatter(x_array, hi_array, c = 'red', label = 'High')\n",
    "axes[0].set_xlabel(\"Bands\")\n",
    "axes[0].set_ylabel(\"Central Pixel Value\")\n",
    "axes[0].legend()\n",
    "axes[1].legend()"
   ]
  },
  {
   "cell_type": "code",
   "execution_count": 17,
   "id": "75ff7ca1",
   "metadata": {},
   "outputs": [
    {
     "data": {
      "text/plain": [
       "<matplotlib.legend.Legend at 0x7fe4dfe2fc40>"
      ]
     },
     "execution_count": 17,
     "metadata": {},
     "output_type": "execute_result"
    },
    {
     "data": {
      "image/png": "[encoded data removed]",
      "text/plain": [
       "<Figure size 500x500 with 1 Axes>"
      ]
     },
     "metadata": {},
     "output_type": "display_data"
    }
   ],
   "source": [
    "fig, axes = plt.subplots(nrows = 1, ncols = 1, figsize = (5, 5))\n",
    "x_array = np.arange(5)\n",
    "lo_array = np.array([])\n",
    "hi_array = np.array([])\n",
    "for j in range(0, 5):\n",
    "    lo_array = np.append(lo_array, np.amax(np.transpose(np.asarray(decoder([strlo])[0][j][60:67]))[60:67].flatten()))\n",
    "    hi_array = np.append(hi_array, np.amax(np.transpose(np.asarray(decoder([strhi])[0][j][60:67]))[60:67].flatten()))\n",
    "axes.scatter(x_array, lo_array, c = 'blue', label = 'Low')\n",
    "axes.scatter(x_array, hi_array, c = 'red', label = 'High')\n",
    "axes.set_xlabel(\"Bands\")\n",
    "axes.set_ylabel(\"Max Pixel Value Near Center\")\n",
    "axes.legend()\n",
    "axes.legend()"
   ]
  },
  {
   "cell_type": "markdown",
   "id": "35f9b6f1-5c04-43c2-be92-e73c12ec603b",
   "metadata": {},
   "source": [
    "for j in range(3, 80):\n",
    "    for i in range(0, 512):\n",
    "        if test_gen[j][0][1][i] <= 0.1:\n",
    "            print(j)\n",
    "            print(i)"
   ]
  },
  {
   "cell_type": "code",
   "execution_count": null,
   "id": "166f1bf6",
   "metadata": {},
   "outputs": [],
   "source": [
    "for j in range(3, 80):\n",
    "    for i in range(0, 512):\n",
    "        if test_gen[j][0][1][i] >= 3.5:\n",
    "            print(j)\n",
    "            print(i)"
   ]
  },
  {
   "cell_type": "code",
   "execution_count": null,
   "id": "9448c282",
   "metadata": {},
   "outputs": [],
   "source": [
    "for i in range(0, 84):\n",
    "    l = 512\n",
    "    if i == 83:\n",
    "        l = 464\n",
    "    for j in range(0, l):\n",
    "        index = i * BATCH_SIZE + j + 1\n",
    "        stdout.write(\"\\rChecking %d samples of \" % (index) + \"42960\")\n",
    "        z = test_gen[i][0][1][j]\n",
    "        str = np.asarray(encoder([np.array([test_gen[i][0][0][j]]), np.array([test_gen[i][0][1][j]])])[0])\n",
    "        str = np.concatenate((str, np.array([z])))\n",
    "        str = str.reshape(1, LATENT_DIM + 1)\n",
    "        hdul = fits.PrimaryHDU(data = test_gen[i][0][0][j])\n",
    "        string = f\"/data/CVAE Generated/Full/Original Galaxy #{index}.fits\"\n",
    "        hdul.writeto(string, overwrite = True)\n",
    "        hdul = fits.PrimaryHDU(data = decoder([str])[0])\n",
    "        string = f\"/data/CVAE Generated/Full/Reconstructed Galaxy #{index}.fits\"\n",
    "        hdul.writeto(string, overwrite = True)"
   ]
  },
  {
   "cell_type": "code",
   "execution_count": null,
   "id": "4d8092e1",
   "metadata": {},
   "outputs": [],
   "source": [
    "def scatter_bands_max_near_center(num_to_show = 10, index = 0):\n",
    "    fig, axes = plt.subplots(nrows = int(num_to_show / 5), ncols = 5, figsize = (20, int(num_to_show)))\n",
    "    for i in range(index, index + num_to_show):\n",
    "        x_array = np.arange(5)\n",
    "        true_array = np.array([])\n",
    "        pred_array = np.array([])\n",
    "        for j in range(0, 5):\n",
    "            true_array = np.append(true_array, np.amax(np.array([test_gen[0][0][0][i][j]])))\n",
    "            pred_array = np.append(pred_array, np.amax(np.transpose(np.asarray(model([np.array([test_gen[0][0][0][i]]), np.array([test_gen[0][0][1][i]])])[0][j][60:67]))[60:67].flatten()))\n",
    "        axes[int((i - index) / 5)][int((i - index) % 5)].scatter(x_array, true_array, c = 'blue', label = 'True')\n",
    "        axes[int((i - index) / 5)][int((i - index) % 5)].scatter(x_array, pred_array, c = 'red', label = 'Predicted')\n",
    "        axes[int((i - index) / 5)][int((i - index) % 5)].set_xlabel(\"Bands\")\n",
    "        axes[int((i - index) / 5)][int((i - index) % 5)].set_ylabel(f\"Maximum normalized pixel value z = {np.array([test_gen[0][0][1][i]])[0]}\")\n",
    "        axes[int((i - index) / 5)][int((i - index) % 5)].legend()\n",
    "\n",
    "def scatter_bands_max(num_to_show = 10, index = 0):\n",
    "    fig, axes = plt.subplots(nrows = int(num_to_show / 5), ncols = 5, figsize = (20, int(num_to_show)))\n",
    "    for i in range(index, index + num_to_show):\n",
    "        x_array = np.arange(5)\n",
    "        true_array = np.array([])\n",
    "        pred_array = np.array([])\n",
    "        for j in range(0, 5):\n",
    "            true_array = np.append(true_array, np.amax(np.array([test_gen[0][0][0][i][j]])))\n",
    "            pred_array = np.append(pred_array, np.amax(np.array([model([np.array([test_gen[0][0][0][i]]), np.array([test_gen[0][0][1][i]])])[0][j]])))\n",
    "        axes[int((i - index) / 5)][int((i - index) % 5)].scatter(x_array, true_array, c = 'blue', label = 'True')\n",
    "        axes[int((i - index) / 5)][int((i - index) % 5)].scatter(x_array, pred_array, c = 'red', label = 'Predicted')\n",
    "        axes[int((i - index) / 5)][int((i - index) % 5)].set_xlabel(\"Bands\")\n",
    "        axes[int((i - index) / 5)][int((i - index) % 5)].set_ylabel(\"Maximum normalized pixel value\")\n",
    "        axes[int((i - index) / 5)][int((i - index) % 5)].legend()\n",
    "        \n",
    "def scatter_bands_center(num_to_show = 10, index = 0):\n",
    "    fig, axes = plt.subplots(nrows = int(num_to_show / 5), ncols = 5, figsize = (20, int(num_to_show)))\n",
    "    for i in range(index, index + num_to_show):\n",
    "        x_array = np.arange(5)\n",
    "        true_array = np.array([])\n",
    "        pred_array = np.array([])\n",
    "        for j in range(0, 5):\n",
    "            true_array = np.append(true_array, np.array([test_gen[0][0][0][i][j]])[0][63][63])\n",
    "            pred_array = np.append(pred_array, model([np.array([test_gen[0][0][0][i]]), np.array([test_gen[0][0][1][i]])])[0][j][63][63])\n",
    "        axes[int((i - index) / 5)][int((i - index) % 5)].scatter(x_array, true_array, c = 'blue', label = 'True')\n",
    "        axes[int((i - index) / 5)][int((i - index) % 5)].scatter(x_array, pred_array, c = 'red', label = 'Predicted')\n",
    "        axes[int((i - index) / 5)][int((i - index) % 5)].set_xlabel(\"Bands\")\n",
    "        axes[int((i - index) / 5)][int((i - index) % 5)].set_ylabel(f\"Central pixel value z = {np.array([test_gen[0][0][1][i]])}\")\n",
    "        axes[int((i - index) / 5)][int((i - index) % 5)].legend()\n",
    "        \n",
    "def scatter_bands_center_shift(lib = 3, i = 37, z = 1):\n",
    "    print(z)\n",
    "    fig, axes = plt.subplots(nrows = 1, ncols = 1, figsize = (5, 5))\n",
    "    x_array = np.arange(5)\n",
    "    true_array = np.array([])\n",
    "    pred_array = np.array([])\n",
    "    for j in range(0, 5):\n",
    "        true_array = np.append(true_array, np.array([test_gen[lib][0][0][i][j]])[0][63][63])\n",
    "        pred_array = np.append(pred_array, model([np.array([test_gen[lib][0][0][i]]), np.array([z])])[0][j][63][63])\n",
    "    axes.scatter(x_array, true_array, c = 'blue', label = 'True')\n",
    "    axes.scatter(x_array, pred_array, c = 'red', label = 'Predicted')\n",
    "    axes.set_xlabel(\"Bands\")\n",
    "    axes.set_ylabel(\"Central pixel value\")\n",
    "    axes.legend()\n",
    "    \n",
    "def scatter_bands_max_shift(lib = 3, i = 37, z = 1):\n",
    "    print(z)\n",
    "    fig, axes = plt.subplots(nrows = 1, ncols = 1, figsize = (5, 5))\n",
    "    x_array = np.arange(5)\n",
    "    true_array = np.array([])\n",
    "    pred_array = np.array([])\n",
    "    for j in range(0, 5):\n",
    "        true_array = np.append(true_array, np.amax(np.array([test_gen[lib][0][0][i][j]])))\n",
    "        pred_array = np.append(pred_array, np.amax(np.array([model([np.array([test_gen[lib][0][0][i]]), np.array([z])])[0][j]])))\n",
    "    axes.scatter(x_array, true_array, c = 'blue', label = 'True')\n",
    "    axes.scatter(x_array, pred_array, c = 'red', label = 'Predicted')\n",
    "    axes.set_xlabel(\"Bands\")\n",
    "    axes.set_ylabel(\"Central pixel value\")\n",
    "    axes.legend()\n",
    "\n",
    "def scatter_bands_percentile(percentile = 90, num_to_show = 10, index = 0):\n",
    "    fig, axes = plt.subplots(nrows = int(num_to_show /  5), ncols = 5, figsize = (20, int(num_to_show)))\n",
    "    for i in range(index, index + num_to_show):\n",
    "        x_array = np.arange(5)\n",
    "        true_array = np.array([])\n",
    "        pred_array = np.array([])\n",
    "        for j in range(0, 5):\n",
    "            true_90 = np.percentile(np.array([test_gen[0][0][0][i][j]]).flatten(), percentile)\n",
    "            pred_90 = np.percentile(np.asarray(model([np.array([test_gen[0][0][0][i]]), np.array([test_gen[0][0][1][i]])])[0][j]).flatten(), percentile)\n",
    "            true_array = np.append(true_array, true_90)\n",
    "            pred_array = np.append(pred_array, pred_90)\n",
    "        axes[int((i - index) / 5)][int((i - index) % 5)].scatter(x_array, true_array, c = 'blue', label = 'True')\n",
    "        axes[int((i - index) / 5)][int((i - index) % 5)].scatter(x_array, pred_array, c = 'red', label = 'Predicted')\n",
    "        axes[int((i - index) / 5)][int((i - index) % 5)].set_xlabel('Bands')\n",
    "        axes[int((i - index) / 5)][int((i - index) % 5)].set_ylabel(f'{percentile}th percentile normalized pixel value')\n",
    "        axes[int((i - index) / 5)][int((i - index) % 5)].legend()\n",
    "\n",
    "def scatter_bands_mean(num_to_show = 10, index = 0):\n",
    "    fig, axes = plt.subplots(nrows = int(num_to_show / 5), ncols = 5, figsize = (20, int(num_to_show)))\n",
    "    for i in range(index, index + num_to_show):\n",
    "        x_array = np.arange(5)\n",
    "        true_array = np.array([])\n",
    "        pred_array = np.array([])\n",
    "        for j in range(0, 5):\n",
    "            true_mean = np.mean(np.array([test_gen[0][0][0][i][j]]).flatten())\n",
    "            pred_mean = np.mean(np.asarray(model([np.array([test_gen[0][0][0][i]]), np.array([test_gen[0][0][1][i]])])[0][j]).flatten())\n",
    "            true_array = np.append(true_array, true_mean)\n",
    "            pred_array = np.append(pred_array, pred_mean)\n",
    "        axes[int((i - index) / 5)][int((i - index) % 5)].scatter(x_array, true_array, c = 'blue', label = 'True')\n",
    "        axes[int((i - index) / 5)][int((i - index) % 5)].scatter(x_array, pred_array, c = 'red', label = 'Predicted')\n",
    "        axes[int((i - index) / 5)][int((i - index) % 5)].set_xlabel('Bands')\n",
    "        axes[int((i - index) / 5)][int((i - index) % 5)].set_ylabel('Mean normalized pixel value')\n",
    "        axes[int((i - index) / 5)][int((i - index) % 5)].legend()\n",
    "\n",
    "def display_histograms(num_to_show = 2, index = 0):\n",
    "    fig, axes = plt.subplots(nrows = num_to_show, ncols = 5, figsize = (20, int(num_to_show)))\n",
    "    for i in range(index, index + num_to_show):\n",
    "        x_array = np.arange(5)\n",
    "        for j in range(0, 5):\n",
    "            true_arr = sorted(np.array([test_gen[0][0][0][i][j]]).flatten())\n",
    "            pred_arr = sorted(np.asarray(model([np.array([test_gen[0][0][0][i]]), np.array([test_gen[0][0][1][i]])])[0][j]).flatten())\n",
    "            true_arr = true_arr[0 : int(len(true_arr) * .99)]\n",
    "            pred_arr = pred_arr[0 : int(len(pred_arr) * .99)]\n",
    "            axes[i][j].hist(true_arr, 100, color = 'blue', label = 'True', alpha = 0.5)\n",
    "            axes[i][j].hist(pred_arr, 100, color = 'red', label = 'Predicted', alpha = 0.5)\n",
    "            axes[i][j].set_xlabel(\"Pixel Values\")\n",
    "            axes[i][j].set_ylabel(\"Count\")\n",
    "            axes[i][j].legend()\n",
    "    fig.suptitle('Histograms of Predicted vs. True Image, Horizontal are Bands')\n",
    "    \n",
    "def display_5_bands(index):\n",
    "    fig, axes = plt.subplots(nrows = 2, ncols = 5, figsize = (20, 10))\n",
    "    loss = round(model.evaluate([np.array([test_gen[0][0][0][index]]), np.array([test_gen[0][0][1][index]])], np.array([test_gen[0][0][0][index]]), verbose = 0), 2)\n",
    "    for i in range(0, 5):\n",
    "        axes[0][i].imshow(np.array([test_gen[0][0][0][index]])[0][i], cmap = 'afmhot')\n",
    "        max_pixel_true = round(np.amax(np.array([test_gen[0][0][0][index]])[0][i]), 2)\n",
    "        # axes[0][i].set_title(f'True band {i} max = {max_pixel_true}')\n",
    "        pred = model([np.array([test_gen[0][0][0][index]]), np.array([test_gen[0][0][1][index]])])[0][i]\n",
    "        axes[1][i].imshow(pred, cmap = 'afmhot')\n",
    "        max_pixel_pred = round(np.amax(pred), 2)\n",
    "        axes[1][i].set_title(f'\\n loss = {loss}') # f'Pred band {i} max = {max_pixel_pred}' + \n",
    "        \n",
    "def display_high_loss(num_to_show, min_loss):\n",
    "    fig, axes = plt.subplots(nrows = num_to_show, ncols = 5, figsize = (20, 5 * num_to_show))\n",
    "    r = 0\n",
    "    for i in range(BATCH_SIZE):\n",
    "        loss = round(model.evaluate([np.array([test_gen[0][0][0][i]]), np.array([test_gen[0][0][1][i]])], np.array([test_gen[0][0][0][i]]), verbose = 0), 2)\n",
    "        if loss >= min_loss:\n",
    "            print(i)\n",
    "            for j in range(0, 5):\n",
    "                axes[r][j].imshow(np.array([test_gen[0][0][0][i]])[0][j], cmap = 'afmhot')\n",
    "                axes[r][j].set_title(f'Loss = {loss}')\n",
    "            r += 1\n",
    "        if r >= num_to_show:\n",
    "            break"
   ]
  },
  {
   "cell_type": "code",
   "execution_count": null,
   "id": "77067c0a",
   "metadata": {},
   "outputs": [],
   "source": [
    "scatter_bands_max_near_center(num_to_show = 10, index = 10)"
   ]
  },
  {
   "cell_type": "code",
   "execution_count": null,
   "id": "f61c4266",
   "metadata": {},
   "outputs": [],
   "source": [
    "x_array = np.array([])\n",
    "y_array = np.array([])\n",
    "l = len(test_gen[0][0][0])\n",
    "print(l)\n",
    "for i in range(0, l):\n",
    "    x_array = np.append(x_array, np.amax(np.array([test_gen[0][0][0][i][4]])))\n",
    "    y_array = np.append(y_array, np.array([test_gen[0][0][1][i]])[0])\n",
    "    print(i)\n",
    "plt.scatter(y_array, x_array)"
   ]
  },
  {
   "cell_type": "code",
   "execution_count": null,
   "id": "81015273",
   "metadata": {},
   "outputs": [],
   "source": [
    "from scipy.stats import gaussian_kde\n",
    "xy = np.asarray(np.vstack([y_array, x_array])).astype('float32')\n",
    "z = gaussian_kde(xy)(xy)\n",
    "plt.scatter(y_array, x_array, s = 5, c = z)\n",
    "plt.xlim(0,4)\n",
    "plt.ylim(0, 80)\n",
    "plt.xlabel(\"z\")\n",
    "plt.ylabel(\"Maximum Pixel Value near the Center\")\n",
    "plt.show()"
   ]
  },
  {
   "cell_type": "code",
   "execution_count": null,
   "id": "cac674f0",
   "metadata": {},
   "outputs": [],
   "source": [
    "scatter_bands_center_shift(lib = 3, i = 267, z = 40)"
   ]
  },
  {
   "cell_type": "code",
   "execution_count": null,
   "id": "f4dcc7a6",
   "metadata": {},
   "outputs": [],
   "source": [
    "scatter_bands_max_shift(lib = 3, i = 37, z = test_gen[3][0][1][37])"
   ]
  },
  {
   "cell_type": "code",
   "execution_count": null,
   "id": "d9aa5bd1",
   "metadata": {},
   "outputs": [],
   "source": [
    "scatter_bands_max_shift(lib = 3, i = 37, z = 0.1)"
   ]
  },
  {
   "cell_type": "code",
   "execution_count": null,
   "id": "2457f830",
   "metadata": {},
   "outputs": [],
   "source": [
    "scatter_bands_max()"
   ]
  },
  {
   "cell_type": "code",
   "execution_count": null,
   "id": "8ba2ce5e",
   "metadata": {},
   "outputs": [],
   "source": [
    "scatter_bands_center()"
   ]
  },
  {
   "cell_type": "code",
   "execution_count": null,
   "id": "3ebd5814",
   "metadata": {},
   "outputs": [],
   "source": [
    "scatter_bands_mean(10, 0)"
   ]
  },
  {
   "cell_type": "code",
   "execution_count": null,
   "id": "30c48efe",
   "metadata": {},
   "outputs": [],
   "source": [
    "scatter_bands_percentile()"
   ]
  },
  {
   "cell_type": "code",
   "execution_count": null,
   "id": "3369ab68",
   "metadata": {},
   "outputs": [],
   "source": [
    "# display_histograms()"
   ]
  },
  {
   "cell_type": "code",
   "execution_count": null,
   "id": "26eeb40e",
   "metadata": {},
   "outputs": [],
   "source": [
    "display_5_bands(38)"
   ]
  },
  {
   "cell_type": "code",
   "execution_count": null,
   "id": "785b7232",
   "metadata": {},
   "outputs": [],
   "source": [
    "display_high_loss(10, 1)"
   ]
  },
  {
   "cell_type": "code",
   "execution_count": null,
   "id": "4d688ff7-5416-4f2d-8c46-f9d20a2fb1e9",
   "metadata": {},
   "outputs": [],
   "source": [
    "from tqdm import tqdm"
   ]
  },
  {
   "cell_type": "code",
   "execution_count": null,
   "id": "e207b9cd-6a04-443f-b56f-8ba3b3bf56ff",
   "metadata": {},
   "outputs": [],
   "source": [
    "hf = h5py.File('/data3/Billy/64x64_cvae_generated_11.hdf5', 'a')\n",
    "str = prior.sample(1)[0]\n",
    "str = np.concatenate((str, np.array([0.1])))\n",
    "str = str.reshape(1, LATENT_DIM + 1)\n",
    "image_g = decoder([str])[0][0]\n",
    "image_r = decoder([str])[0][1]\n",
    "image_i = decoder([str])[0][2]\n",
    "image_z = decoder([str])[0][3]\n",
    "image_y = decoder([str])[0][4]\n",
    "five_band_image = []\n",
    "five_band_image.append(image_g)\n",
    "five_band_image.append(image_r)\n",
    "five_band_image.append(image_i)\n",
    "five_band_image.append(image_z)\n",
    "five_band_image.append(image_y)\n",
    "five_band_image_reshape = np.reshape(np.array(five_band_image), [1, 5, 64, 64])\n",
    "hf.create_dataset('image', data = five_band_image_reshape, chunks = True, maxshape = (None, 5, 64, 64))\n",
    "hf.create_dataset('specz_redshift', data = [0.1], chunks = True, maxshape = (None, ))\n",
    "for i in tqdm(range(1999)):\n",
    "    z = random.uniform(0, 2)\n",
    "    str = prior.sample(1)[0]\n",
    "    str = np.concatenate((str, np.array([z])))\n",
    "    str = str.reshape(1, LATENT_DIM + 1)\n",
    "    image_g = decoder([str])[0][0]\n",
    "    image_r = decoder([str])[0][1]\n",
    "    image_i = decoder([str])[0][2]\n",
    "    image_z = decoder([str])[0][3]\n",
    "    image_y = decoder([str])[0][4]\n",
    "    five_band_image = []\n",
    "    five_band_image.append(image_g)\n",
    "    five_band_image.append(image_r)\n",
    "    five_band_image.append(image_i)\n",
    "    five_band_image.append(image_z)\n",
    "    five_band_image.append(image_y)\n",
    "    five_band_image_reshape = np.reshape(np.array(five_band_image), [1, 5, 64, 64])\n",
    "    hf['specz_redshift'].resize((hf['specz_redshift'].shape[0] + 1), axis = 0)\n",
    "    hf['specz_redshift'][hf['specz_redshift'].shape[0] - 1] = [z]\n",
    "    hf['image'].resize((hf['image'].shape[0] + 1), axis = 0)\n",
    "    hf['image'][hf['image'].shape[0] - 1, :, :, :] = five_band_image\n",
    "hf.close()"
   ]
  },
  {
   "cell_type": "code",
   "execution_count": null,
   "id": "50ccccae",
   "metadata": {},
   "outputs": [],
   "source": [
    "# END"
   ]
  }
 ],
 "metadata": {
  "kernelspec": {
   "display_name": "Diffusion",
   "language": "python",
   "name": "diffusion"
  },
  "language_info": {
   "codemirror_mode": {
    "name": "ipython",
    "version": 3
   },
   "file_extension": ".py",
   "mimetype": "text/x-python",
   "name": "python",
   "nbconvert_exporter": "python",
   "pygments_lexer": "ipython3",
   "version": "3.9.16"
  }
 },
 "nbformat": 4,
 "nbformat_minor": 5
}
