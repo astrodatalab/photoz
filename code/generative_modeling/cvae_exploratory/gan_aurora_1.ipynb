{
 "cells": [
  {
   "cell_type": "code",
   "execution_count": 651,
   "id": "d23f862b",
   "metadata": {},
   "outputs": [],
   "source": [
    "import sys, os\n",
    "import numpy as np\n",
    "import h5py\n",
    "import random\n",
    "import neptune\n",
    "import matplotlib.pyplot as plt\n",
    "import tensorflow as tf\n",
    "import tensorflow_probability as tfp\n",
    "\n",
    "from tensorflow import keras\n",
    "from tensorflow_probability import layers as tfpl\n",
    "from tensorflow_probability import distributions as tfd\n",
    "from tqdm.notebook import tqdm\n",
    "from tensorflow.keras import Sequential\n",
    "from tensorflow.keras import backend as K\n",
    "from tensorflow.keras.regularizers import l2\n",
    "from tensorflow.keras.models import Model\n",
    "from tensorflow.keras.callbacks import TensorBoard, ModelCheckpoint, ReduceLROnPlateau\n",
    "from tensorflow.keras.layers import Input, RepeatVector, MaxPooling2D, Conv2D, Concatenate, UpSampling2D, Conv2DTranspose, Flatten, Dropout, Dense, BatchNormalization, Activation, Reshape, LeakyReLU\n",
    "from tensorflow.keras.optimizers import Adam\n",
    "from tensorflow.keras.losses import binary_crossentropy\n",
    "from tensorflow_probability.python.distributions import kl_divergence\n",
    "from neptune.integrations.tensorflow_keras import NeptuneCallback\n",
    "from DataMaker import *"
   ]
  },
  {
   "cell_type": "code",
   "execution_count": 32,
   "id": "82e0800d",
   "metadata": {},
   "outputs": [],
   "source": [
    "LATENT_DIM = 128\n",
    "BASE_DEPTH = 8\n",
    "CHANNELS = 5\n",
    "IMAGE_SHAPE = (CHANNELS, 64, 64)\n",
    "BATCH_SIZE = 32 * 10\n",
    "EPOCHS = 250\n",
    "CHECKPOINTS_TO_SAVE = 4\n",
    "KL_WEIGHT = 1e-2"
   ]
  },
  {
   "cell_type": "code",
   "execution_count": 33,
   "id": "3a44e7a5",
   "metadata": {},
   "outputs": [
    {
     "name": "stdout",
     "output_type": "stream",
     "text": [
      "1 Physical GPUs, 1 Logical GPUs\n"
     ]
    }
   ],
   "source": [
    "gpus = tf.config.list_physical_devices('GPU');\n",
    "if gpus:\n",
    "    try:\n",
    "        tf.config.experimental.set_virtual_device_configuration(\n",
    "            gpus[0],\n",
    "            [tf.config.experimental.VirtualDeviceConfiguration(memory_limit = 20000)]);\n",
    "        logical_gpus = tf.config.experimental.list_logical_devices('GPU');\n",
    "        print(len(gpus), \"Physical GPUs,\", len(logical_gpus), \"Logical GPUs\")\n",
    "    except RuntimeError as e:\n",
    "        print(e)"
   ]
  },
  {
   "cell_type": "code",
   "execution_count": 34,
   "id": "cbc0eecd",
   "metadata": {},
   "outputs": [
    {
     "name": "stdout",
     "output_type": "stream",
     "text": [
      "(320, 5, 64, 64)\n",
      "(320,)\n"
     ]
    }
   ],
   "source": [
    "TRAIN_PATH = f'/data/HSC/HSC_v6/step2A/64x64/5x64x64_training.hdf5'\n",
    "TEST_PATH = f'/data/HSC/HSC_v6/step2A/64x64/5x64x64_testing.hdf5'\n",
    "\n",
    "gen_args = {\n",
    "    'X_key': 'image',\n",
    "    'y_key': 'specz_redshift',\n",
    "    'scaler': False,\n",
    "    'labels_encoding': False,\n",
    "    'batch_size': BATCH_SIZE,\n",
    "    'shuffle': False}\n",
    "\n",
    "train_gen = HDF5ImageGenerator(TRAIN_PATH, mode = 'train', **gen_args)\n",
    "test_gen = HDF5ImageGenerator(TEST_PATH, mode = 'train', **gen_args)\n",
    "print(train_gen[0][0].shape) # a batch of images\n",
    "print(train_gen[0][1].shape) # a batch of corresponding redshifts"
   ]
  },
  {
   "cell_type": "code",
   "execution_count": 35,
   "id": "bbf416fd-e625-4f31-9a7d-1ccde69b7591",
   "metadata": {},
   "outputs": [],
   "source": [
    "batch_count = 0\n",
    "def next_batch():\n",
    "    global batch_count\n",
    "    train_set = train_gen[batch_count]\n",
    "    x_train = np.asarray(train_set[0])\n",
    "    y_train = train_set[1]\n",
    "    batch_count = batch_count + 1\n",
    "    if batch_count == len(train_gen) - 1:\n",
    "        batch_count = 0\n",
    "    return x_train, y_train"
   ]
  },
  {
   "cell_type": "code",
   "execution_count": 652,
   "id": "3446dc25-6d3c-4f10-80f3-a308c6265422",
   "metadata": {},
   "outputs": [],
   "source": [
    "def build_generator(LATENT_DIM):\n",
    "    noise = Input(shape = (LATENT_DIM,))\n",
    "    label = Input(shape = (1,), dtype = 'float32')\n",
    "    label_embedding = Dense(LATENT_DIM)(label)\n",
    "    model_input = Concatenate()([noise, label_embedding])\n",
    "    \n",
    "    x = Dense(512, activation = \"relu\", kernel_regularizer = l2(0.001))(model_input)\n",
    "    x = Dropout(0.2)(x)\n",
    "    x = Dense(512, activation = \"relu\", kernel_regularizer = l2(0.001))(x)\n",
    "    x = Dropout(0.2)(x)\n",
    "    x = Dense(128 * 16 * 16 + 64 * 16 * 16 + 32 * 32 * 32, activation = \"relu\")(x)\n",
    "    dense1, dense2, dense3 = tf.split(x, [128 * 16 * 16, 64 * 16 * 16, 32 * 32 * 32], axis = 1)\n",
    "    reshape1 = Reshape((128, 16, 16))(dense1)\n",
    "    reshape2 = Reshape((64, 16, 16))(dense2)\n",
    "    reshape3 = Reshape((32, 32, 32))(dense3)\n",
    "    up1 = UpSampling2D(size = (2, 2), data_format = 'channels_first')(reshape1)\n",
    "    conv1 = Conv2D(64, (3, 3), activation = 'relu', padding = 'same', data_format = 'channels_first')(up1)\n",
    "    up2 = UpSampling2D(size = (2, 2), data_format = 'channels_first')(reshape2)\n",
    "    conv2 = Conv2D(32, (3, 3), activation = 'relu', padding = 'same', data_format = 'channels_first')(up2 + conv1)\n",
    "    up3 = UpSampling2D(size = (2, 2), data_format = 'channels_first')(reshape3 + conv2)\n",
    "    conv3 = Conv2D(5, (3, 3), activation = 'relu', padding = 'same', data_format = 'channels_first')(up3)\n",
    "\n",
    "    outputs = Reshape(IMAGE_SHAPE)(conv3)\n",
    "    \n",
    "    model = Model([noise, label], outputs)\n",
    "    return model"
   ]
  },
  {
   "cell_type": "code",
   "execution_count": 653,
   "id": "5eb87605-4c88-4301-9ea2-0e9da688134e",
   "metadata": {},
   "outputs": [],
   "source": [
    "def minibatch_discrimination(x, B, C):\n",
    "    ''' Minibatch discrimination layer\n",
    "        x: tensor, input feature vectors\n",
    "        B & C: int, dimensions of the tensor T\n",
    "    '''\n",
    "    T = Dense(B * C, kernel_initializer = 'glorot_uniform')(x)  # Step 1\n",
    "    T = Reshape((B, C))(T)\n",
    "    \n",
    "    diffs = K.expand_dims(T, 3) - K.expand_dims(K.permute_dimensions(T, [1, 2, 0]), 0)\n",
    "    abs_diffs = K.sum(K.abs(diffs), axis = 2)\n",
    "    \n",
    "    mb_disc = K.sum(K.exp(-abs_diffs), axis = 2)  # Step 3\n",
    "    \n",
    "    return mb_disc"
   ]
  },
  {
   "cell_type": "code",
   "execution_count": 654,
   "id": "c3d19e8c-1ff2-4dba-8ac8-d92d09a948dc",
   "metadata": {},
   "outputs": [],
   "source": [
    "def build_discriminator(IMAGE_SHAPE):\n",
    "    img = Input(shape = IMAGE_SHAPE)\n",
    "    label = Input(shape = (1,), dtype = 'float32')\n",
    "\n",
    "    label_embedding = Dense(np.prod(IMAGE_SHAPE))(label)\n",
    "    label_embedding = Reshape(IMAGE_SHAPE)(label_embedding)\n",
    "    \n",
    "    merged_input = Concatenate(axis = 1)([img, label_embedding]) # Concatenate along channels\n",
    "\n",
    "    conv1 = Conv2D(32, 3, strides = 2, padding = 'same', data_format = 'channels_first')(merged_input)\n",
    "    conv1 = BatchNormalization()(conv1)\n",
    "    conv1 = LeakyReLU(alpha = 0.2)(conv1)\n",
    "    conv2 = Conv2D(64, 3, strides = 2, padding = 'same', data_format = 'channels_first')(conv1)\n",
    "    conv2 = BatchNormalization()(conv2)\n",
    "    conv2 = LeakyReLU(alpha = 0.2)(conv2)\n",
    "    conv3 = Conv2D(128, 2, strides = 1, padding = 'same', data_format = 'channels_first')(conv2)\n",
    "    conv3 = BatchNormalization()(conv3)\n",
    "    conv3 = LeakyReLU(alpha = 0.2)(conv3)\n",
    "    \n",
    "    flatten1 = Flatten()(conv1)\n",
    "    flatten2 = Flatten()(conv2)\n",
    "    flatten3 = Flatten()(conv3)\n",
    "    # mb_disc = minibatch_discrimination(flatten3, B = 100, C = 5)\n",
    "    concat = Concatenate()([flatten1, flatten2, flatten3])\n",
    "\n",
    "    x = Dense(512, activation = \"relu\")(concat)\n",
    "    x = Dropout(0.2)(x)\n",
    "    x = Dense(512, activation = \"relu\")(x)\n",
    "    x = Dropout(0.2)(x)\n",
    "    outputs = Dense(1, activation = 'sigmoid')(x)\n",
    "\n",
    "    model = Model([img, label], outputs)\n",
    "    return model"
   ]
  },
  {
   "cell_type": "code",
   "execution_count": 699,
   "id": "5c6e5474-141b-482c-8704-0f74a683deea",
   "metadata": {},
   "outputs": [],
   "source": [
    "class CustomDiscriminator(tf.keras.Model):\n",
    "    def __init__(self, discriminator_model):\n",
    "        super(CustomDiscriminator, self).__init__()\n",
    "        self.discriminator = discriminator_model\n",
    "\n",
    "    def call(self, inputs, training = None, mask = None):\n",
    "        return self.discriminator(inputs)\n",
    "\n",
    "    def compile(self, optimizer, discriminator_loss_fn):\n",
    "        super(CustomDiscriminator, self).compile()\n",
    "        self.optimizer = optimizer\n",
    "        self.discriminator_loss_fn = discriminator_loss_fn\n",
    "\n",
    "    def train_step(self, data):\n",
    "        # Unpack the data\n",
    "        (images, redshifts), labels = data\n",
    "\n",
    "        with tf.GradientTape() as tape:\n",
    "            # Forward pass\n",
    "            preds = self.discriminator([images, redshifts])\n",
    "\n",
    "            # Compute the loss value\n",
    "            # (the loss function is configured in `compile`)\n",
    "            loss = self.discriminator_loss_fn(labels, preds, images)\n",
    "\n",
    "        # Compute gradients\n",
    "        trainable_vars = self.discriminator.trainable_variables\n",
    "        gradients = tape.gradient(loss, trainable_vars)\n",
    "\n",
    "        # Update weights\n",
    "        self.optimizer.apply_gradients(zip(gradients, trainable_vars))\n",
    "\n",
    "        # Return a dict mapping metric names to current value\n",
    "        return {\"loss\": loss}"
   ]
  },
  {
   "cell_type": "code",
   "execution_count": 700,
   "id": "53899f07-c0ff-4ccc-9ace-74fbf1abe5c9",
   "metadata": {},
   "outputs": [],
   "source": [
    "def calculate_pairwise_distances(batch_images):\n",
    "    # Reshape images to vectors for simpler distance calculation\n",
    "    image_vectors = tf.reshape(batch_images, (tf.shape(batch_images)[0], -1))\n",
    "    \n",
    "    # Calculate pairwise distances\n",
    "    r = tf.reduce_sum(image_vectors * image_vectors, axis = 1, keepdims = True)\n",
    "    distances = r - 2 * tf.matmul(image_vectors, tf.transpose(image_vectors)) + tf.transpose(r)\n",
    "    \n",
    "    return distances"
   ]
  },
  {
   "cell_type": "code",
   "execution_count": 787,
   "id": "5081b085-5182-4dbb-938f-bff51a73b111",
   "metadata": {},
   "outputs": [],
   "source": [
    "def discriminator_loss(y_true, y_pred, batch_images):\n",
    "    # Original loss (e.g., binary cross-entropy)\n",
    "    original_loss = binary_crossentropy(y_true, y_pred)\n",
    "    \n",
    "    # Calculate pairwise distances in batch (simplified)\n",
    "    # You can use more complex methods\n",
    "    distances = calculate_pairwise_distances(batch_images)\n",
    "    \n",
    "    # Create a uniqueness penalty term\n",
    "    uniqueness_penalty = K.sum(K.exp(-distances))\n",
    "    \n",
    "    # Add penalty term to original loss\n",
    "    total_loss = original_loss + 0.1 * uniqueness_penalty\n",
    "    \n",
    "    return total_loss"
   ]
  },
  {
   "cell_type": "code",
   "execution_count": 788,
   "id": "ac0656b3-3405-4c91-a58a-20072034b3d9",
   "metadata": {},
   "outputs": [],
   "source": [
    "def build_gan(generator, discriminator):\n",
    "    \n",
    "    # discriminator.compile(optimizer = Adam(learning_rate = 0.0001), loss = discriminator_loss, metrics = ['accuracy'])\n",
    "    \n",
    "    discriminator.compile(optimizer = tf.keras.optimizers.Adam(), discriminator_loss_fn = discriminator_loss)\n",
    "    \n",
    "    discriminator.trainable = False\n",
    "    \n",
    "    noise = Input(shape = (LATENT_DIM,))\n",
    "    label = Input(shape = (1,))\n",
    "    img = generator([noise, label])\n",
    "    fake_pred = discriminator([img, label])\n",
    "\n",
    "    combined_model = Model([noise, label], fake_pred)\n",
    "    combined_model.compile(optimizer = Adam(learning_rate = 0.00005), loss = 'binary_crossentropy')\n",
    "    return combined_model"
   ]
  },
  {
   "cell_type": "code",
   "execution_count": 789,
   "id": "612784c9-bb37-4e44-acd0-ec361412827c",
   "metadata": {},
   "outputs": [],
   "source": [
    "generator = build_generator(LATENT_DIM)\n",
    "\n",
    "# discriminator = build_discriminator(IMAGE_SHAPE) # Your original function\n",
    "discriminator_model = build_discriminator(IMAGE_SHAPE) # Your original function\n",
    "discriminator = CustomDiscriminator(discriminator_model)\n",
    "\n",
    "\n",
    "gan = build_gan(generator, discriminator)"
   ]
  },
  {
   "cell_type": "code",
   "execution_count": 790,
   "id": "98160f52-98a9-47c7-9bc1-dd9f3ff429e1",
   "metadata": {},
   "outputs": [
    {
     "name": "stdout",
     "output_type": "stream",
     "text": [
      "Model: \"model_111\"\n",
      "__________________________________________________________________________________________________\n",
      " Layer (type)                   Output Shape         Param #     Connected to                     \n",
      "==================================================================================================\n",
      " input_234 (InputLayer)         [(None, 1)]          0           []                               \n",
      "                                                                                                  \n",
      " input_233 (InputLayer)         [(None, 128)]        0           []                               \n",
      "                                                                                                  \n",
      " dense_311 (Dense)              (None, 128)          256         ['input_234[0][0]']              \n",
      "                                                                                                  \n",
      " concatenate_117 (Concatenate)  (None, 256)          0           ['input_233[0][0]',              \n",
      "                                                                  'dense_311[0][0]']              \n",
      "                                                                                                  \n",
      " dense_312 (Dense)              (None, 512)          131584      ['concatenate_117[0][0]']        \n",
      "                                                                                                  \n",
      " dropout_154 (Dropout)          (None, 512)          0           ['dense_312[0][0]']              \n",
      "                                                                                                  \n",
      " dense_313 (Dense)              (None, 512)          262656      ['dropout_154[0][0]']            \n",
      "                                                                                                  \n",
      " dropout_155 (Dropout)          (None, 512)          0           ['dense_313[0][0]']              \n",
      "                                                                                                  \n",
      " dense_314 (Dense)              (None, 81920)        42024960    ['dropout_155[0][0]']            \n",
      "                                                                                                  \n",
      " tf.split_39 (TFOpLambda)       [(None, 32768),      0           ['dense_314[0][0]']              \n",
      "                                 (None, 16384),                                                   \n",
      "                                 (None, 32768)]                                                   \n",
      "                                                                                                  \n",
      " reshape_197 (Reshape)          (None, 128, 16, 16)  0           ['tf.split_39[0][0]']            \n",
      "                                                                                                  \n",
      " reshape_198 (Reshape)          (None, 64, 16, 16)   0           ['tf.split_39[0][1]']            \n",
      "                                                                                                  \n",
      " up_sampling2d_117 (UpSampling2  (None, 128, 32, 32)  0          ['reshape_197[0][0]']            \n",
      " D)                                                                                               \n",
      "                                                                                                  \n",
      " up_sampling2d_118 (UpSampling2  (None, 64, 32, 32)  0           ['reshape_198[0][0]']            \n",
      " D)                                                                                               \n",
      "                                                                                                  \n",
      " conv2d_234 (Conv2D)            (None, 64, 32, 32)   73792       ['up_sampling2d_117[0][0]']      \n",
      "                                                                                                  \n",
      " tf.__operators__.add_78 (TFOpL  (None, 64, 32, 32)  0           ['up_sampling2d_118[0][0]',      \n",
      " ambda)                                                           'conv2d_234[0][0]']             \n",
      "                                                                                                  \n",
      " reshape_199 (Reshape)          (None, 32, 32, 32)   0           ['tf.split_39[0][2]']            \n",
      "                                                                                                  \n",
      " conv2d_235 (Conv2D)            (None, 32, 32, 32)   18464       ['tf.__operators__.add_78[0][0]']\n",
      "                                                                                                  \n",
      " tf.__operators__.add_79 (TFOpL  (None, 32, 32, 32)  0           ['reshape_199[0][0]',            \n",
      " ambda)                                                           'conv2d_235[0][0]']             \n",
      "                                                                                                  \n",
      " up_sampling2d_119 (UpSampling2  (None, 32, 64, 64)  0           ['tf.__operators__.add_79[0][0]']\n",
      " D)                                                                                               \n",
      "                                                                                                  \n",
      " conv2d_236 (Conv2D)            (None, 5, 64, 64)    1445        ['up_sampling2d_119[0][0]']      \n",
      "                                                                                                  \n",
      " reshape_200 (Reshape)          (None, 5, 64, 64)    0           ['conv2d_236[0][0]']             \n",
      "                                                                                                  \n",
      "==================================================================================================\n",
      "Total params: 42,513,157\n",
      "Trainable params: 42,513,157\n",
      "Non-trainable params: 0\n",
      "__________________________________________________________________________________________________\n",
      "Model: \"custom_discriminator_15\"\n",
      "_________________________________________________________________\n",
      " Layer (type)                Output Shape              Param #   \n",
      "=================================================================\n",
      " model_112 (Functional)      (None, 1)                 42302241  \n",
      "                                                                 \n",
      "=================================================================\n",
      "Total params: 42,302,241\n",
      "Trainable params: 0\n",
      "Non-trainable params: 42,302,241\n",
      "_________________________________________________________________\n"
     ]
    }
   ],
   "source": [
    "generator.summary()\n",
    "discriminator.summary()"
   ]
  },
  {
   "cell_type": "code",
   "execution_count": 807,
   "id": "d1be3ce1-0783-4f66-bcc0-f2869edb34cc",
   "metadata": {},
   "outputs": [
    {
     "data": {
      "application/vnd.jupyter.widget-view+json": {
       "model_id": "f44e0feab1ce4e72bac8e70f8c63e7b2",
       "version_major": 2,
       "version_minor": 0
      },
      "text/plain": [
       "  0%|          | 0/10 [00:00<?, ?it/s]"
      ]
     },
     "metadata": {},
     "output_type": "display_data"
    },
    {
     "data": {
      "text/plain": [
       "<matplotlib.image.AxesImage at 0x7efdc96f3190>"
      ]
     },
     "execution_count": 807,
     "metadata": {},
     "output_type": "execute_result"
    },
    {
     "data": {
      "image/png": "[encoded data removed]",
      "text/plain": [
       "<Figure size 640x480 with 1 Axes>"
      ]
     },
     "metadata": {},
     "output_type": "display_data"
    }
   ],
   "source": [
    "epochs = 10\n",
    "\n",
    "for epoch in tqdm(range(epochs)):\n",
    "    \n",
    "    # Train Discriminator\n",
    "    noise = np.random.normal(0, 1, (BATCH_SIZE, LATENT_DIM))\n",
    "    \n",
    "    fake_redshift = np.random.uniform(0, 2, (BATCH_SIZE, 1))\n",
    "    \n",
    "    fake_labels = np.ones((BATCH_SIZE, 1)) * 0.1\n",
    "    indices_to_change = np.random.choice(BATCH_SIZE, size = int(0.20 * BATCH_SIZE), replace = False)\n",
    "    fake_labels[indices_to_change] = 0.1\n",
    "    \n",
    "    fake_images = generator.predict([noise, fake_redshift], verbose = 0)\n",
    "    \n",
    "    # print(fake_images.shape)\n",
    "    \n",
    "    real_images, real_redshift = next_batch() # Get a batch of real images\n",
    "    real_redshift = np.expand_dims(real_redshift, axis = 1)\n",
    "    \n",
    "    real_labels = np.ones((BATCH_SIZE, 1)) * 0.9\n",
    "    indices_to_change = np.random.choice(BATCH_SIZE, size = int(0.20 * BATCH_SIZE), replace = False)\n",
    "    real_labels[indices_to_change] = 0.1\n",
    "    \n",
    "    # print(real_images.shape)\n",
    "    \n",
    "    labels = np.vstack([real_labels, fake_labels])\n",
    "    # print(real_redshift.shape)\n",
    "    # print(fake_redshift.shape)\n",
    "    redshifts = np.vstack([real_redshift, fake_redshift])\n",
    "    # print(real_images.shape)\n",
    "    # print(fake_images.shape)\n",
    "    images = np.vstack([real_images, fake_images])\n",
    "    \n",
    "    # print(images.shape)\n",
    "    \n",
    "    d_loss = discriminator.fit([images, redshifts], labels, batch_size = 32, epochs = 10, shuffle = True, verbose = 0)\n",
    "    \n",
    "    real_labels = np.ones((BATCH_SIZE, 1)) * 0.9\n",
    "    indices_to_change = np.random.choice(BATCH_SIZE, size = int(0.50 * BATCH_SIZE), replace = False)\n",
    "    real_labels[indices_to_change] = 0.1\n",
    "    \n",
    "    # Train Generator\n",
    "    noise = np.random.normal(0, 1, (BATCH_SIZE, LATENT_DIM))\n",
    "    fake_redshift = np.random.uniform(0, 2, (BATCH_SIZE, 1)) # a vector of fake redshift to input the generator\n",
    "    g_loss = gan.fit([noise, fake_redshift], real_labels, batch_size = 64, epochs = 1, shuffle = True, verbose = 0) # train the generator\n",
    "    \n",
    "    # print(f\"Epoch {epoch}, Discriminator Loss: {d_loss}, Generator Loss: {g_loss}\")\n",
    "        \n",
    "plt.imshow(fake_images[0][4])"
   ]
  },
  {
   "cell_type": "code",
   "execution_count": 792,
   "id": "f023d8e6-c115-4c3f-af88-bdf27ac4e5a7",
   "metadata": {},
   "outputs": [
    {
     "ename": "SyntaxError",
     "evalue": "invalid syntax (4067800170.py, line 1)",
     "output_type": "error",
     "traceback": [
      "\u001b[0;36m  Cell \u001b[0;32mIn[792], line 1\u001b[0;36m\u001b[0m\n\u001b[0;31m    stop here\u001b[0m\n\u001b[0m         ^\u001b[0m\n\u001b[0;31mSyntaxError\u001b[0m\u001b[0;31m:\u001b[0m invalid syntax\n"
     ]
    }
   ],
   "source": [
    "stop here"
   ]
  },
  {
   "cell_type": "code",
   "execution_count": 13,
   "id": "90e46853-2145-4bb2-8aea-6c4f0a0f6c88",
   "metadata": {},
   "outputs": [
    {
     "ename": "NameError",
     "evalue": "name 'prior' is not defined",
     "output_type": "error",
     "traceback": [
      "\u001b[0;31m---------------------------------------------------------------------------\u001b[0m",
      "\u001b[0;31mNameError\u001b[0m                                 Traceback (most recent call last)",
      "Cell \u001b[0;32mIn[13], line 2\u001b[0m\n\u001b[1;32m      1\u001b[0m hf \u001b[38;5;241m=\u001b[39m h5py\u001b[38;5;241m.\u001b[39mFile(\u001b[38;5;124m'\u001b[39m\u001b[38;5;124m/data/HSC_generated/HSC_generated_v1/step1/64x64/5x64x64_gan_generated.hdf5\u001b[39m\u001b[38;5;124m'\u001b[39m, \u001b[38;5;124m'\u001b[39m\u001b[38;5;124ma\u001b[39m\u001b[38;5;124m'\u001b[39m)\n\u001b[0;32m----> 2\u001b[0m \u001b[38;5;28mstr\u001b[39m \u001b[38;5;241m=\u001b[39m \u001b[43mprior\u001b[49m\u001b[38;5;241m.\u001b[39msample(\u001b[38;5;241m1\u001b[39m)[\u001b[38;5;241m0\u001b[39m]\n\u001b[1;32m      3\u001b[0m \u001b[38;5;28mstr\u001b[39m \u001b[38;5;241m=\u001b[39m np\u001b[38;5;241m.\u001b[39mconcatenate((\u001b[38;5;28mstr\u001b[39m, np\u001b[38;5;241m.\u001b[39marray([\u001b[38;5;241m0.1\u001b[39m])))\n\u001b[1;32m      4\u001b[0m \u001b[38;5;28mstr\u001b[39m \u001b[38;5;241m=\u001b[39m \u001b[38;5;28mstr\u001b[39m\u001b[38;5;241m.\u001b[39mreshape(\u001b[38;5;241m1\u001b[39m, LATENT_DIM \u001b[38;5;241m+\u001b[39m \u001b[38;5;241m1\u001b[39m)\n",
      "\u001b[0;31mNameError\u001b[0m: name 'prior' is not defined"
     ]
    }
   ],
   "source": [
    "hf = h5py.File('/data/HSC_generated/HSC_generated_v1/step1/64x64/5x64x64_gan_generated.hdf5', 'a')\n",
    "str = prior.sample(1)[0]\n",
    "str = np.concatenate((str, np.array([0.1])))\n",
    "str = str.reshape(1, LATENT_DIM + 1)\n",
    "image_g = decoder([str])[0][0]\n",
    "image_r = decoder([str])[0][1]\n",
    "image_i = decoder([str])[0][2]\n",
    "image_z = decoder([str])[0][3]\n",
    "image_y = decoder([str])[0][4]\n",
    "five_band_image = []\n",
    "five_band_image.append(image_g)\n",
    "five_band_image.append(image_r)\n",
    "five_band_image.append(image_i)\n",
    "five_band_image.append(image_z)\n",
    "five_band_image.append(image_y)\n",
    "five_band_image_reshape = np.reshape(np.array(five_band_image), [1, 5, 64, 64])\n",
    "hf.create_dataset('image', data = five_band_image_reshape, chunks = True, maxshape = (None, 5, 64, 64))\n",
    "hf.create_dataset('specz_redshift', data = [0.1], chunks = True, maxshape = (None, ))\n",
    "for i in tqdm(range(1999)):\n",
    "    z = random.uniform(0, 4)\n",
    "    str = prior.sample(1)[0]\n",
    "    str = np.concatenate((str, np.array([z])))\n",
    "    str = str.reshape(1, LATENT_DIM + 1)\n",
    "    image_g = decoder([str])[0][0]\n",
    "    image_r = decoder([str])[0][1]\n",
    "    image_i = decoder([str])[0][2]\n",
    "    image_z = decoder([str])[0][3]\n",
    "    image_y = decoder([str])[0][4]\n",
    "    five_band_image = []\n",
    "    five_band_image.append(image_g)\n",
    "    five_band_image.append(image_r)\n",
    "    five_band_image.append(image_i)\n",
    "    five_band_image.append(image_z)\n",
    "    five_band_image.append(image_y)\n",
    "    five_band_image_reshape = np.reshape(np.array(five_band_image), [1, 5, 64, 64])\n",
    "    hf['specz_redshift'].resize((hf['specz_redshift'].shape[0] + 1), axis = 0)\n",
    "    hf['specz_redshift'][hf['specz_redshift'].shape[0] - 1] = [z]\n",
    "    hf['image'].resize((hf['image'].shape[0] + 1), axis = 0)\n",
    "    hf['image'][hf['image'].shape[0] - 1, :, :, :] = five_band_image\n",
    "hf.close()"
   ]
  },
  {
   "cell_type": "code",
   "execution_count": 804,
   "id": "128a138e-d8f8-46ec-91a5-7f66b8a64795",
   "metadata": {},
   "outputs": [
    {
     "name": "stdout",
     "output_type": "stream",
     "text": [
      "10/10 [==============================] - 0s 2ms/step\n"
     ]
    }
   ],
   "source": [
    "fake_redshift = np.random.uniform(0, 2, (BATCH_SIZE, 1))\n",
    "noise = np.random.normal(0, 1, (BATCH_SIZE, LATENT_DIM))\n",
    "fake_labels = np.zeros((BATCH_SIZE, 1))\n",
    "fake_images = generator.predict([noise, fake_redshift])"
   ]
  },
  {
   "cell_type": "code",
   "execution_count": 805,
   "id": "1eeff52f-cda7-4ae6-9832-b339d9422ac5",
   "metadata": {},
   "outputs": [
    {
     "data": {
      "text/plain": [
       "<matplotlib.image.AxesImage at 0x7efdc974e2b0>"
      ]
     },
     "execution_count": 805,
     "metadata": {},
     "output_type": "execute_result"
    },
    {
     "data": {
      "image/png": "[encoded data removed]",
      "text/plain": [
       "<Figure size 640x480 with 1 Axes>"
      ]
     },
     "metadata": {},
     "output_type": "display_data"
    }
   ],
   "source": [
    "plt.imshow(fake_images[35][4])"
   ]
  },
  {
   "cell_type": "code",
   "execution_count": null,
   "id": "ba37784f-5074-4cc4-a4f0-6dce8d7edfec",
   "metadata": {},
   "outputs": [],
   "source": [
    "print(discriminator([fake_images, fake_redshift]))"
   ]
  },
  {
   "cell_type": "code",
   "execution_count": null,
   "id": "d9267c2d-3739-45f8-b0b8-809829dc801f",
   "metadata": {},
   "outputs": [],
   "source": []
  },
  {
   "cell_type": "code",
   "execution_count": null,
   "id": "380068a1-f396-47f7-9ee1-11b20fdb21ab",
   "metadata": {},
   "outputs": [],
   "source": [
    "from keras.utils.vis_utils import plot_model\n",
    "\n",
    "plot_model(generator, to_file='generator_plot.png', show_shapes=True, show_layer_names=True)"
   ]
  },
  {
   "cell_type": "code",
   "execution_count": null,
   "id": "bb11c0ba-3770-448c-b90d-c6b368d7e107",
   "metadata": {},
   "outputs": [],
   "source": [
    "plot_model(discriminator, to_file='discriminator_plot.png', show_shapes=True, show_layer_names=True)"
   ]
  },
  {
   "cell_type": "code",
   "execution_count": null,
   "id": "ffa699ab-8e4b-43eb-a8d4-d532776a3c1d",
   "metadata": {},
   "outputs": [],
   "source": [
    "stop here"
   ]
  },
  {
   "cell_type": "code",
   "execution_count": null,
   "id": "3665cc85-365d-4100-b1f8-f903d1700585",
   "metadata": {},
   "outputs": [],
   "source": [
    "model_name = 'gan'\n",
    "\n",
    "weights_path = os.path.join('/data/tuando/models/', model_name) + '/weights'"
   ]
  },
  {
   "cell_type": "code",
   "execution_count": null,
   "id": "0a660ffa-3a95-4939-8d1a-6d1f5fc6566e",
   "metadata": {},
   "outputs": [],
   "source": [
    "gan.save_weights(weights_path)"
   ]
  },
  {
   "cell_type": "code",
   "execution_count": null,
   "id": "6cc0b28f-846a-434d-9ec0-8cf03f1baa3a",
   "metadata": {},
   "outputs": [],
   "source": [
    "gan.load_weights(weights_path)"
   ]
  },
  {
   "cell_type": "code",
   "execution_count": null,
   "id": "63042c4d-6123-4f21-b4f7-52ef8c2fb98b",
   "metadata": {},
   "outputs": [],
   "source": [
    "model_name = 'discriminator'\n",
    "\n",
    "weights_path = os.path.join('/data/tuando/models/', model_name) + '/weights'"
   ]
  },
  {
   "cell_type": "code",
   "execution_count": null,
   "id": "efbfd77f-e729-4f66-8d74-48139ffe2828",
   "metadata": {},
   "outputs": [],
   "source": [
    "discriminator.save_weights(weights_path)"
   ]
  },
  {
   "cell_type": "code",
   "execution_count": null,
   "id": "96062427-c157-4b89-9d7f-d2d8c93e5e84",
   "metadata": {},
   "outputs": [],
   "source": [
    "discriminator.load_weights(weights_path)"
   ]
  },
  {
   "cell_type": "code",
   "execution_count": null,
   "id": "50ccccae",
   "metadata": {},
   "outputs": [],
   "source": [
    "# END"
   ]
  }
 ],
 "metadata": {
  "kernelspec": {
   "display_name": "Diffusion",
   "language": "python",
   "name": "diffusion"
  },
  "language_info": {
   "codemirror_mode": {
    "name": "ipython",
    "version": 3
   },
   "file_extension": ".py",
   "mimetype": "text/x-python",
   "name": "python",
   "nbconvert_exporter": "python",
   "pygments_lexer": "ipython3",
   "version": "3.9.16"
  }
 },
 "nbformat": 4,
 "nbformat_minor": 5
}
