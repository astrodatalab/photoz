{
 "cells": [
  {
   "cell_type": "code",
   "execution_count": 9,
   "id": "156e47f8",
   "metadata": {},
   "outputs": [],
   "source": [
    "import os\n",
    "import pandas as pd\n",
    "import numpy as np\n",
    "from astropy.io import fits\n",
    "import matplotlib.pyplot as plt"
   ]
  },
  {
   "cell_type": "code",
   "execution_count": 10,
   "id": "57845b58",
   "metadata": {},
   "outputs": [],
   "source": [
    "directory = '/data/HSC_generated/HSC_generated_v1/ddpm/g_band_ddpm'\n",
    "window = '20px_diameter'"
   ]
  },
  {
   "cell_type": "code",
   "execution_count": 11,
   "id": "5b1b3864",
   "metadata": {},
   "outputs": [],
   "source": [
    "df = pd.read_csv(f'/data/HSC_generated/HSC_generated_v1/ddpm/g_band_ddpm/{window}_test_set_subset/segmented_image_data_v1.csv')\n",
    "obj_ids = np.unique(df['object_id'])"
   ]
  },
  {
   "cell_type": "code",
   "execution_count": 13,
   "id": "d7b86cc9",
   "metadata": {},
   "outputs": [
    {
     "data": {
      "text/plain": [
       "array([   1,    2,    3, ..., 1998, 1999, 2000])"
      ]
     },
     "execution_count": 13,
     "metadata": {},
     "output_type": "execute_result"
    }
   ],
   "source": [
    "obj_ids # automatically sorted"
   ]
  },
  {
   "cell_type": "code",
   "execution_count": 14,
   "id": "80dda5cc",
   "metadata": {},
   "outputs": [],
   "source": [
    "# initialize an empty list to store the data\n",
    "data = []\n",
    "\n",
    "# loop through each object id\n",
    "for obj_id in obj_ids:\n",
    "    # load the segmented image for this object\n",
    "    img_filename = f'{directory}/test_segmented_{obj_id}.fits'\n",
    "    img = fits.getdata(img_filename)\n",
    "\n",
    "    # loop through each unique object label in the image\n",
    "    for obj_label in np.unique(img):\n",
    "        # skip over the background label (which should be 0)\n",
    "        if obj_label == 0:\n",
    "            continue\n",
    "\n",
    "        # count the number of pixels with this label\n",
    "        num_pixels = np.sum(img == obj_label)\n",
    "\n",
    "        # store the data in a tuple\n",
    "        row = (obj_id, obj_label, num_pixels)\n",
    "\n",
    "        # append the tuple to the data list\n",
    "        data.append(row)\n",
    "\n",
    "# convert the data list to a Pandas DataFrame\n",
    "area_df = pd.DataFrame(data, columns=['object_id', 'NUMBER', 'PIXEL_AREA'])"
   ]
  },
  {
   "cell_type": "code",
   "execution_count": 15,
   "id": "f41fd539",
   "metadata": {},
   "outputs": [
    {
     "data": {
      "text/html": [
       "<div>\n",
       "<style scoped>\n",
       "    .dataframe tbody tr th:only-of-type {\n",
       "        vertical-align: middle;\n",
       "    }\n",
       "\n",
       "    .dataframe tbody tr th {\n",
       "        vertical-align: top;\n",
       "    }\n",
       "\n",
       "    .dataframe thead th {\n",
       "        text-align: right;\n",
       "    }\n",
       "</style>\n",
       "<table border=\"1\" class=\"dataframe\">\n",
       "  <thead>\n",
       "    <tr style=\"text-align: right;\">\n",
       "      <th></th>\n",
       "      <th>object_id</th>\n",
       "      <th>NUMBER</th>\n",
       "      <th>PIXEL_AREA</th>\n",
       "    </tr>\n",
       "  </thead>\n",
       "  <tbody>\n",
       "    <tr>\n",
       "      <th>0</th>\n",
       "      <td>1</td>\n",
       "      <td>1</td>\n",
       "      <td>216</td>\n",
       "    </tr>\n",
       "    <tr>\n",
       "      <th>1</th>\n",
       "      <td>2</td>\n",
       "      <td>1</td>\n",
       "      <td>554</td>\n",
       "    </tr>\n",
       "    <tr>\n",
       "      <th>2</th>\n",
       "      <td>2</td>\n",
       "      <td>2</td>\n",
       "      <td>276</td>\n",
       "    </tr>\n",
       "    <tr>\n",
       "      <th>3</th>\n",
       "      <td>2</td>\n",
       "      <td>3</td>\n",
       "      <td>28</td>\n",
       "    </tr>\n",
       "    <tr>\n",
       "      <th>4</th>\n",
       "      <td>2</td>\n",
       "      <td>4</td>\n",
       "      <td>97</td>\n",
       "    </tr>\n",
       "    <tr>\n",
       "      <th>...</th>\n",
       "      <td>...</td>\n",
       "      <td>...</td>\n",
       "      <td>...</td>\n",
       "    </tr>\n",
       "    <tr>\n",
       "      <th>4193</th>\n",
       "      <td>1998</td>\n",
       "      <td>2</td>\n",
       "      <td>53</td>\n",
       "    </tr>\n",
       "    <tr>\n",
       "      <th>4194</th>\n",
       "      <td>1998</td>\n",
       "      <td>3</td>\n",
       "      <td>25</td>\n",
       "    </tr>\n",
       "    <tr>\n",
       "      <th>4195</th>\n",
       "      <td>1998</td>\n",
       "      <td>4</td>\n",
       "      <td>246</td>\n",
       "    </tr>\n",
       "    <tr>\n",
       "      <th>4196</th>\n",
       "      <td>1999</td>\n",
       "      <td>1</td>\n",
       "      <td>58</td>\n",
       "    </tr>\n",
       "    <tr>\n",
       "      <th>4197</th>\n",
       "      <td>2000</td>\n",
       "      <td>1</td>\n",
       "      <td>75</td>\n",
       "    </tr>\n",
       "  </tbody>\n",
       "</table>\n",
       "<p>4198 rows × 3 columns</p>\n",
       "</div>"
      ],
      "text/plain": [
       "      object_id  NUMBER  PIXEL_AREA\n",
       "0             1       1         216\n",
       "1             2       1         554\n",
       "2             2       2         276\n",
       "3             2       3          28\n",
       "4             2       4          97\n",
       "...         ...     ...         ...\n",
       "4193       1998       2          53\n",
       "4194       1998       3          25\n",
       "4195       1998       4         246\n",
       "4196       1999       1          58\n",
       "4197       2000       1          75\n",
       "\n",
       "[4198 rows x 3 columns]"
      ]
     },
     "execution_count": 15,
     "metadata": {},
     "output_type": "execute_result"
    }
   ],
   "source": [
    "area_df"
   ]
  },
  {
   "cell_type": "code",
   "execution_count": 16,
   "id": "de1a91c8",
   "metadata": {},
   "outputs": [],
   "source": [
    "full_df = pd.merge(df, area_df, on=['object_id', 'NUMBER'])"
   ]
  },
  {
   "cell_type": "code",
   "execution_count": 17,
   "id": "d2904951",
   "metadata": {},
   "outputs": [
    {
     "data": {
      "text/plain": [
       "Index(['object_id', 'NUMBER_IN_CENTER', 'NUMBER', 'PETRO_RADIUS', 'X_IMAGE',\n",
       "       'Y_IMAGE', 'XMIN_IMAGE', 'XMAX_IMAGE', 'YMIN_IMAGE', 'YMAX_IMAGE',\n",
       "       'ISOAREA_IMAGE', 'ISOAREA_WORLD', 'A_IMAGE', 'B_IMAGE', 'ERRCXX_IMAGE',\n",
       "       'ERRCYY_IMAGE', 'ERRCXY_IMAGE', 'THETA_IMAGE', 'THETA_WORLD', 'MU_MAX',\n",
       "       'ELLIPTICITY', 'FLUX_RADIUS', 'SPHEROID_SERSICN', 'PIXEL_AREA'],\n",
       "      dtype='object')"
      ]
     },
     "execution_count": 17,
     "metadata": {},
     "output_type": "execute_result"
    }
   ],
   "source": [
    "full_df.columns"
   ]
  },
  {
   "cell_type": "code",
   "execution_count": 18,
   "id": "583782bf",
   "metadata": {},
   "outputs": [],
   "source": [
    "full_df.to_csv(f'/data/HSC_generated/HSC_generated_v1/ddpm/g_band_ddpm/{window}_test_set_subset/processed_data_v1.csv', index=False)"
   ]
  },
  {
   "cell_type": "code",
   "execution_count": null,
   "id": "a10cfe46-d2d5-4bc0-8e9a-ccc38dd51558",
   "metadata": {},
   "outputs": [],
   "source": []
  }
 ],
 "metadata": {
  "kernelspec": {
   "display_name": "Python 3 (ipykernel)",
   "language": "python",
   "name": "python3"
  },
  "language_info": {
   "codemirror_mode": {
    "name": "ipython",
    "version": 3
   },
   "file_extension": ".py",
   "mimetype": "text/x-python",
   "name": "python",
   "nbconvert_exporter": "python",
   "pygments_lexer": "ipython3",
   "version": "3.10.10"
  }
 },
 "nbformat": 4,
 "nbformat_minor": 5
}
