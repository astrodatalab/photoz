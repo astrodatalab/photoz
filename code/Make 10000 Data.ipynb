{
 "cells": [
  {
   "cell_type": "code",
   "execution_count": 1,
   "id": "6c8d2e0a",
   "metadata": {},
   "outputs": [],
   "source": [
    "import os\n",
    "import numpy as np\n",
    "import matplotlib.pyplot as plt\n",
    "from astropy.io import fits\n",
    "import tensorflow as tf\n",
    "import tensorflow_probability as tfp\n",
    "import h5py\n",
    "import random\n",
    "from sklearn.model_selection import train_test_split\n",
    "from keras.preprocessing.image import ImageDataGenerator"
   ]
  },
  {
   "cell_type": "code",
   "execution_count": 2,
   "id": "38d261bc",
   "metadata": {},
   "outputs": [],
   "source": [
    "tfpl = tfp.layers\n",
    "tf1 = tf.compat.v1\n",
    "tfd = tfp.distributions"
   ]
  },
  {
   "cell_type": "code",
   "execution_count": 3,
   "id": "01a52e05",
   "metadata": {},
   "outputs": [
    {
     "name": "stdout",
     "output_type": "stream",
     "text": [
      "1 Physical GPUs, 1 Logical GPUs\n"
     ]
    }
   ],
   "source": [
    "gpus = tf.config.list_physical_devices('GPU')\n",
    "\n",
    "if gpus:\n",
    "  # Restrict TensorFlow to only allocate 10GB of memory on the first GPU\n",
    "  try:\n",
    "    tf.config.experimental.set_virtual_device_configuration(\n",
    "        gpus[0],\n",
    "        [tf.config.experimental.VirtualDeviceConfiguration(memory_limit=5000)])\n",
    "    logical_gpus = tf.config.experimental.list_logical_devices('GPU')\n",
    "    print(len(gpus), \"Physical GPUs,\", len(logical_gpus), \"Logical GPUs\")\n",
    "  except RuntimeError as e:\n",
    "    # Virtual devices must be set before GPUs have been initialized\n",
    "    print(e)"
   ]
  },
  {
   "cell_type": "code",
   "execution_count": 4,
   "id": "e56dac95",
   "metadata": {},
   "outputs": [],
   "source": [
    "hf = h5py.File('/mnt/data/HSC/HSC_v6/step2/127x127/five_band_image127x127_with_metadata.hdf5', 'r')\n",
    "n = 10000\n",
    "x = []\n",
    "y = []\n",
    "r = random.sample(range(len(hf[\"specz_redshift\"])), n)\n",
    "oid = [hf['object_id'][i] for i in r]\n",
    "x = [hf['image'][i] for i in r]\n",
    "y = np.asarray([hf['specz_redshift'][i] for i in r])\n",
    "x = np.transpose(x,(0,2,3,1))\n",
    "max_value = np.max(x)\n",
    "x_new = np.true_divide(x,max_value)\n",
    "hf.close()"
   ]
  },
  {
   "cell_type": "code",
   "execution_count": 5,
   "id": "b8a0e552",
   "metadata": {},
   "outputs": [],
   "source": [
    "oid_train, oid_test, x_train, x_test, y_train, y_test = train_test_split(oid, x_new, y, test_size = 0.2)"
   ]
  },
  {
   "cell_type": "code",
   "execution_count": 8,
   "id": "44616490",
   "metadata": {},
   "outputs": [],
   "source": [
    "hf_train = h5py.File('/mnt/data/HSC/HSC_v6/step3/127x127/training_8000_linear.hdf5', 'w')"
   ]
  },
  {
   "cell_type": "code",
   "execution_count": 9,
   "id": "7d949d5e",
   "metadata": {},
   "outputs": [
    {
     "data": {
      "text/plain": [
       "<HDF5 dataset \"object_id\": shape (8000,), type \"<i8\">"
      ]
     },
     "execution_count": 9,
     "metadata": {},
     "output_type": "execute_result"
    }
   ],
   "source": [
    "hf_train.create_dataset('image', data = x_train)\n",
    "hf_train.create_dataset('specz', data = y_train)\n",
    "hf_train.create_dataset('object_id', data = oid_train)"
   ]
  },
  {
   "cell_type": "code",
   "execution_count": 10,
   "id": "677a6b8c",
   "metadata": {},
   "outputs": [],
   "source": [
    "hf_train.close()"
   ]
  },
  {
   "cell_type": "code",
   "execution_count": 11,
   "id": "c729db32",
   "metadata": {},
   "outputs": [],
   "source": [
    "hf_test = h5py.File('/mnt/data/HSC/HSC_v6/step3/127x127/testing_2000_linear.hdf5', 'w')"
   ]
  },
  {
   "cell_type": "code",
   "execution_count": 12,
   "id": "33aa83a4",
   "metadata": {},
   "outputs": [
    {
     "data": {
      "text/plain": [
       "<HDF5 dataset \"object_id\": shape (2000,), type \"<i8\">"
      ]
     },
     "execution_count": 12,
     "metadata": {},
     "output_type": "execute_result"
    }
   ],
   "source": [
    "hf_test.create_dataset('image', data = x_test)\n",
    "hf_test.create_dataset('specz', data = y_test)\n",
    "hf_test.create_dataset('object_id', data = oid_test)"
   ]
  },
  {
   "cell_type": "code",
   "execution_count": 13,
   "id": "1d9df666",
   "metadata": {},
   "outputs": [],
   "source": [
    "hf_test.close()"
   ]
  },
  {
   "cell_type": "code",
   "execution_count": null,
   "id": "e1829eb0",
   "metadata": {},
   "outputs": [],
   "source": [
    "# END"
   ]
  }
 ],
 "metadata": {
  "kernelspec": {
   "display_name": "Python 3",
   "language": "python",
   "name": "python3"
  },
  "language_info": {
   "codemirror_mode": {
    "name": "ipython",
    "version": 3
   },
   "file_extension": ".py",
   "mimetype": "text/x-python",
   "name": "python",
   "nbconvert_exporter": "python",
   "pygments_lexer": "ipython3",
   "version": "3.8.10"
  }
 },
 "nbformat": 4,
 "nbformat_minor": 5
}
