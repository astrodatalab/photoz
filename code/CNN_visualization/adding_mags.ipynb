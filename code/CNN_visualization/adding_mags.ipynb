{
 "cells": [
  {
   "cell_type": "code",
   "execution_count": 1,
   "id": "6b03c288",
   "metadata": {},
   "outputs": [],
   "source": [
    "import pandas as pd\n",
    "import numpy as np\n",
    "import h5py"
   ]
  },
  {
   "cell_type": "code",
   "execution_count": 2,
   "id": "c20d758c",
   "metadata": {},
   "outputs": [],
   "source": [
    "window='30x30'\n",
    "df = pd.read_csv(f'/data/HSC/HSC_v6/step1/g_band_sextractor/{window}_10k_subset/segmented_image_data_v1.csv')"
   ]
  },
  {
   "cell_type": "code",
   "execution_count": 3,
   "id": "d2590773",
   "metadata": {},
   "outputs": [
    {
     "data": {
      "text/plain": [
       "<AxesSubplot:>"
      ]
     },
     "execution_count": 3,
     "metadata": {},
     "output_type": "execute_result"
    },
    {
     "data": {
      "image/png": "[encoded data removed]",
      "text/plain": [
       "<Figure size 432x288 with 1 Axes>"
      ]
     },
     "metadata": {
      "needs_background": "light"
     },
     "output_type": "display_data"
    }
   ],
   "source": [
    "df['NUMBER_IN_CENTER'].hist()"
   ]
  },
  {
   "cell_type": "code",
   "execution_count": 4,
   "id": "7ac64ffe",
   "metadata": {},
   "outputs": [
    {
     "data": {
      "text/plain": [
       "<AxesSubplot:>"
      ]
     },
     "execution_count": 4,
     "metadata": {},
     "output_type": "execute_result"
    },
    {
     "data": {
      "image/png": "[encoded data removed]",
      "text/plain": [
       "<Figure size 432x288 with 1 Axes>"
      ]
     },
     "metadata": {
      "needs_background": "light"
     },
     "output_type": "display_data"
    }
   ],
   "source": [
    "df['PETRO_RADIUS'].hist()"
   ]
  },
  {
   "cell_type": "code",
   "execution_count": 5,
   "id": "8618a7de",
   "metadata": {},
   "outputs": [],
   "source": [
    "# match up g band mags"
   ]
  },
  {
   "cell_type": "code",
   "execution_count": 6,
   "id": "ea83e6c8",
   "metadata": {},
   "outputs": [],
   "source": [
    "mag_path = f'/data/HSC/HSC_v6/step2/127x127/five_band_image127x127_with_metadata.hdf5'\n",
    "mags_df = pd.DataFrame()\n",
    "with h5py.File(mag_path, 'r') as hf:\n",
    "    mags_df['object_id'] = pd.Series(hf['object_id'][:])\n",
    "    mags_df['g_cmodel_mag'] = pd.Series(hf['g_cmodel_mag'][:])\n",
    "        "
   ]
  },
  {
   "cell_type": "code",
   "execution_count": 7,
   "id": "99691ece",
   "metadata": {
    "scrolled": true
   },
   "outputs": [
    {
     "data": {
      "text/html": [
       "<div>\n",
       "<style scoped>\n",
       "    .dataframe tbody tr th:only-of-type {\n",
       "        vertical-align: middle;\n",
       "    }\n",
       "\n",
       "    .dataframe tbody tr th {\n",
       "        vertical-align: top;\n",
       "    }\n",
       "\n",
       "    .dataframe thead th {\n",
       "        text-align: right;\n",
       "    }\n",
       "</style>\n",
       "<table border=\"1\" class=\"dataframe\">\n",
       "  <thead>\n",
       "    <tr style=\"text-align: right;\">\n",
       "      <th></th>\n",
       "      <th>object_id</th>\n",
       "      <th>g_cmodel_mag</th>\n",
       "    </tr>\n",
       "  </thead>\n",
       "  <tbody>\n",
       "    <tr>\n",
       "      <th>0</th>\n",
       "      <td>42278833428106463</td>\n",
       "      <td>20.979572</td>\n",
       "    </tr>\n",
       "    <tr>\n",
       "      <th>1</th>\n",
       "      <td>42278695989150320</td>\n",
       "      <td>21.935928</td>\n",
       "    </tr>\n",
       "    <tr>\n",
       "      <th>2</th>\n",
       "      <td>41030088866680729</td>\n",
       "      <td>18.288635</td>\n",
       "    </tr>\n",
       "    <tr>\n",
       "      <th>3</th>\n",
       "      <td>41117487156191017</td>\n",
       "      <td>22.071690</td>\n",
       "    </tr>\n",
       "    <tr>\n",
       "      <th>4</th>\n",
       "      <td>41122709836425861</td>\n",
       "      <td>21.944164</td>\n",
       "    </tr>\n",
       "    <tr>\n",
       "      <th>...</th>\n",
       "      <td>...</td>\n",
       "      <td>...</td>\n",
       "    </tr>\n",
       "    <tr>\n",
       "      <th>286396</th>\n",
       "      <td>74648752102607194</td>\n",
       "      <td>24.583908</td>\n",
       "    </tr>\n",
       "    <tr>\n",
       "      <th>286397</th>\n",
       "      <td>74648752102580829</td>\n",
       "      <td>24.467262</td>\n",
       "    </tr>\n",
       "    <tr>\n",
       "      <th>286398</th>\n",
       "      <td>74648477224684554</td>\n",
       "      <td>23.475531</td>\n",
       "    </tr>\n",
       "    <tr>\n",
       "      <th>286399</th>\n",
       "      <td>74648618958598412</td>\n",
       "      <td>24.413773</td>\n",
       "    </tr>\n",
       "    <tr>\n",
       "      <th>286400</th>\n",
       "      <td>74648618958597143</td>\n",
       "      <td>25.108581</td>\n",
       "    </tr>\n",
       "  </tbody>\n",
       "</table>\n",
       "<p>286401 rows × 2 columns</p>\n",
       "</div>"
      ],
      "text/plain": [
       "                object_id  g_cmodel_mag\n",
       "0       42278833428106463     20.979572\n",
       "1       42278695989150320     21.935928\n",
       "2       41030088866680729     18.288635\n",
       "3       41117487156191017     22.071690\n",
       "4       41122709836425861     21.944164\n",
       "...                   ...           ...\n",
       "286396  74648752102607194     24.583908\n",
       "286397  74648752102580829     24.467262\n",
       "286398  74648477224684554     23.475531\n",
       "286399  74648618958598412     24.413773\n",
       "286400  74648618958597143     25.108581\n",
       "\n",
       "[286401 rows x 2 columns]"
      ]
     },
     "execution_count": 7,
     "metadata": {},
     "output_type": "execute_result"
    }
   ],
   "source": [
    "mags_df"
   ]
  },
  {
   "cell_type": "code",
   "execution_count": 8,
   "id": "7a1341e9",
   "metadata": {},
   "outputs": [],
   "source": [
    "df = pd.merge(df, mags_df, on='object_id')"
   ]
  },
  {
   "cell_type": "code",
   "execution_count": 9,
   "id": "b3e23bb4",
   "metadata": {},
   "outputs": [],
   "source": [
    "df.to_csv(f'/data/HSC/HSC_v6/step1/g_band_sextractor/{window}_10k_subset/segmented_mag_data_v1.csv', index=False)"
   ]
  }
 ],
 "metadata": {
  "kernelspec": {
   "display_name": "Python 3",
   "language": "python",
   "name": "python3"
  },
  "language_info": {
   "codemirror_mode": {
    "name": "ipython",
    "version": 3
   },
   "file_extension": ".py",
   "mimetype": "text/x-python",
   "name": "python",
   "nbconvert_exporter": "python",
   "pygments_lexer": "ipython3",
   "version": "3.8.10"
  }
 },
 "nbformat": 4,
 "nbformat_minor": 5
}
