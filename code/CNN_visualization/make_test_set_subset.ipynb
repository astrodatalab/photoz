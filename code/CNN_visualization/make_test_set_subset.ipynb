{
 "cells": [
  {
   "cell_type": "code",
   "execution_count": 1,
   "id": "f9b05664",
   "metadata": {},
   "outputs": [],
   "source": [
    "import os\n",
    "import pandas as pd\n",
    "import shutil"
   ]
  },
  {
   "cell_type": "code",
   "execution_count": 2,
   "id": "22c3d955",
   "metadata": {},
   "outputs": [],
   "source": [
    "df = pd.read_csv('/predictions/HSC_v6_NN_neurips_combined_with_5pool_v11/testing_predictions.csv')\n",
    "obj_ids = df['object_id']"
   ]
  },
  {
   "cell_type": "code",
   "execution_count": 3,
   "id": "be4a68b1",
   "metadata": {},
   "outputs": [],
   "source": [
    "src_dir = '/data/HSC/HSC_v6/step1/g_band_sextractor'\n",
    "dest_dir = '/data/HSC/HSC_v6/step1/g_band_sextractor/test_set_subset'\n",
    "\n",
    "if not os.path.exists(dest_dir):\n",
    "    os.makedirs(dest_dir)\n",
    "\n",
    "for obj_id in obj_ids:\n",
    "    filename = str(obj_id) + '_step1.fits'\n",
    "    src_file = os.path.join(src_dir, filename)\n",
    "    dest_file = os.path.join(dest_dir, filename)\n",
    "    shutil.copy2(src_file, dest_file)"
   ]
  },
  {
   "cell_type": "code",
   "execution_count": null,
   "id": "dd074241",
   "metadata": {},
   "outputs": [],
   "source": []
  }
 ],
 "metadata": {
  "kernelspec": {
   "display_name": "Python 3",
   "language": "python",
   "name": "python3"
  },
  "language_info": {
   "codemirror_mode": {
    "name": "ipython",
    "version": 3
   },
   "file_extension": ".py",
   "mimetype": "text/x-python",
   "name": "python",
   "nbconvert_exporter": "python",
   "pygments_lexer": "ipython3",
   "version": "3.8.10"
  }
 },
 "nbformat": 4,
 "nbformat_minor": 5
}
