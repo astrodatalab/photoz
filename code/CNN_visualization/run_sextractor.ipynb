{
 "cells": [
  {
   "cell_type": "code",
   "execution_count": null,
   "id": "795673c6",
   "metadata": {},
   "outputs": [],
   "source": [
    "import subprocess\n",
    "import os\n",
    "\n",
    "directory = '/data/HSC/HSC_v6/step1/g_band_sextractor/test_subset_10k'\n",
    "cap = 10000\n",
    "count = 0\n",
    "for filename in os.listdir(directory):\n",
    "        command = \"source-extractor {} -c default2.sex -CATALOG_NAME test_petro_{}.cat -PARAMETERS_NAME default2.param -CHECKIMAGE_NAME test_segmented_{}.fits\".format(filename, filename[:-4], filename[:-5])\n",
    "        print(command)\n",
    "        file_path = os.path.join(directory, filename)\n",
    "        count = count+1\n",
    "        subprocess.run(command + ' ' + file_path, shell=True)\n",
    "        if count == cap:\n",
    "                break"
   ]
  }
 ],
 "metadata": {
  "kernelspec": {
   "display_name": "Python 3",
   "language": "python",
   "name": "python3"
  },
  "language_info": {
   "codemirror_mode": {
    "name": "ipython",
    "version": 3
   },
   "file_extension": ".py",
   "mimetype": "text/x-python",
   "name": "python",
   "nbconvert_exporter": "python",
   "pygments_lexer": "ipython3",
   "version": "3.8.10"
  }
 },
 "nbformat": 4,
 "nbformat_minor": 5
}
