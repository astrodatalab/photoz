{
 "cells": [
  {
   "cell_type": "code",
   "execution_count": 1,
   "id": "156e47f8",
   "metadata": {},
   "outputs": [],
   "source": [
    "import os\n",
    "import pandas as pd\n",
    "import numpy as np\n",
    "from astropy.io import fits\n",
    "import matplotlib.pyplot as plt"
   ]
  },
  {
   "cell_type": "code",
   "execution_count": 2,
   "id": "57845b58",
   "metadata": {},
   "outputs": [],
   "source": [
    "directory = '/data/HSC/HSC_v6/step1/g_band_sextractor/test_set_subset'\n",
    "window = '10px_diameter'"
   ]
  },
  {
   "cell_type": "code",
   "execution_count": 3,
   "id": "5b1b3864",
   "metadata": {},
   "outputs": [],
   "source": [
    "df = pd.read_csv(f'/data/HSC/HSC_v6/step1/g_band_sextractor/{window}_test_set_subset/segmented_mag_data_v1.csv')\n",
    "obj_ids = np.unique(df['object_id'])"
   ]
  },
  {
   "cell_type": "code",
   "execution_count": 4,
   "id": "d7b86cc9",
   "metadata": {},
   "outputs": [
    {
     "data": {
      "text/plain": [
       "array([36407046198803509, 36407046198804043, 36407050493759629, ...,\n",
       "       74649160124502454, 74649164419466433, 74649168714406416])"
      ]
     },
     "execution_count": 4,
     "metadata": {},
     "output_type": "execute_result"
    }
   ],
   "source": [
    "obj_ids # automatically sorted"
   ]
  },
  {
   "cell_type": "code",
   "execution_count": 5,
   "id": "80dda5cc",
   "metadata": {},
   "outputs": [],
   "source": [
    "# initialize an empty list to store the data\n",
    "data = []\n",
    "\n",
    "# loop through each object id\n",
    "for obj_id in obj_ids:\n",
    "    # load the segmented image for this object\n",
    "    img_filename = f'{directory}/test_segmented_{obj_id}.fits'\n",
    "    img = fits.getdata(img_filename)\n",
    "\n",
    "    # loop through each unique object label in the image\n",
    "    for obj_label in np.unique(img):\n",
    "        # skip over the background label (which should be 0)\n",
    "        if obj_label == 0:\n",
    "            continue\n",
    "\n",
    "        # count the number of pixels with this label\n",
    "        num_pixels = np.sum(img == obj_label)\n",
    "\n",
    "        # store the data in a tuple\n",
    "        row = (obj_id, obj_label, num_pixels)\n",
    "\n",
    "        # append the tuple to the data list\n",
    "        data.append(row)\n",
    "\n",
    "# convert the data list to a Pandas DataFrame\n",
    "area_df = pd.DataFrame(data, columns=['object_id', 'NUMBER', 'PIXEL_AREA'])"
   ]
  },
  {
   "cell_type": "code",
   "execution_count": 6,
   "id": "f41fd539",
   "metadata": {},
   "outputs": [
    {
     "data": {
      "text/html": [
       "<div>\n",
       "<style scoped>\n",
       "    .dataframe tbody tr th:only-of-type {\n",
       "        vertical-align: middle;\n",
       "    }\n",
       "\n",
       "    .dataframe tbody tr th {\n",
       "        vertical-align: top;\n",
       "    }\n",
       "\n",
       "    .dataframe thead th {\n",
       "        text-align: right;\n",
       "    }\n",
       "</style>\n",
       "<table border=\"1\" class=\"dataframe\">\n",
       "  <thead>\n",
       "    <tr style=\"text-align: right;\">\n",
       "      <th></th>\n",
       "      <th>object_id</th>\n",
       "      <th>NUMBER</th>\n",
       "      <th>PIXEL_AREA</th>\n",
       "    </tr>\n",
       "  </thead>\n",
       "  <tbody>\n",
       "    <tr>\n",
       "      <th>0</th>\n",
       "      <td>36407046198803509</td>\n",
       "      <td>1</td>\n",
       "      <td>327</td>\n",
       "    </tr>\n",
       "    <tr>\n",
       "      <th>1</th>\n",
       "      <td>36407046198803509</td>\n",
       "      <td>2</td>\n",
       "      <td>8</td>\n",
       "    </tr>\n",
       "    <tr>\n",
       "      <th>2</th>\n",
       "      <td>36407046198803509</td>\n",
       "      <td>3</td>\n",
       "      <td>73</td>\n",
       "    </tr>\n",
       "    <tr>\n",
       "      <th>3</th>\n",
       "      <td>36407046198803509</td>\n",
       "      <td>4</td>\n",
       "      <td>179</td>\n",
       "    </tr>\n",
       "    <tr>\n",
       "      <th>4</th>\n",
       "      <td>36407046198804043</td>\n",
       "      <td>1</td>\n",
       "      <td>978</td>\n",
       "    </tr>\n",
       "    <tr>\n",
       "      <th>...</th>\n",
       "      <td>...</td>\n",
       "      <td>...</td>\n",
       "      <td>...</td>\n",
       "    </tr>\n",
       "    <tr>\n",
       "      <th>171443</th>\n",
       "      <td>74649164419466433</td>\n",
       "      <td>5</td>\n",
       "      <td>68</td>\n",
       "    </tr>\n",
       "    <tr>\n",
       "      <th>171444</th>\n",
       "      <td>74649168714406416</td>\n",
       "      <td>1</td>\n",
       "      <td>49</td>\n",
       "    </tr>\n",
       "    <tr>\n",
       "      <th>171445</th>\n",
       "      <td>74649168714406416</td>\n",
       "      <td>2</td>\n",
       "      <td>19</td>\n",
       "    </tr>\n",
       "    <tr>\n",
       "      <th>171446</th>\n",
       "      <td>74649168714406416</td>\n",
       "      <td>3</td>\n",
       "      <td>9</td>\n",
       "    </tr>\n",
       "    <tr>\n",
       "      <th>171447</th>\n",
       "      <td>74649168714406416</td>\n",
       "      <td>4</td>\n",
       "      <td>157</td>\n",
       "    </tr>\n",
       "  </tbody>\n",
       "</table>\n",
       "<p>171448 rows × 3 columns</p>\n",
       "</div>"
      ],
      "text/plain": [
       "                object_id  NUMBER  PIXEL_AREA\n",
       "0       36407046198803509       1         327\n",
       "1       36407046198803509       2           8\n",
       "2       36407046198803509       3          73\n",
       "3       36407046198803509       4         179\n",
       "4       36407046198804043       1         978\n",
       "...                   ...     ...         ...\n",
       "171443  74649164419466433       5          68\n",
       "171444  74649168714406416       1          49\n",
       "171445  74649168714406416       2          19\n",
       "171446  74649168714406416       3           9\n",
       "171447  74649168714406416       4         157\n",
       "\n",
       "[171448 rows x 3 columns]"
      ]
     },
     "execution_count": 6,
     "metadata": {},
     "output_type": "execute_result"
    }
   ],
   "source": [
    "area_df"
   ]
  },
  {
   "cell_type": "code",
   "execution_count": 7,
   "id": "de1a91c8",
   "metadata": {},
   "outputs": [],
   "source": [
    "full_df = pd.merge(df, area_df, on=['object_id', 'NUMBER'])"
   ]
  },
  {
   "cell_type": "code",
   "execution_count": 8,
   "id": "d2904951",
   "metadata": {},
   "outputs": [
    {
     "data": {
      "text/plain": [
       "Index(['object_id', 'NUMBER_IN_CENTER', 'NUMBER', 'PETRO_RADIUS', 'X_IMAGE',\n",
       "       'Y_IMAGE', 'XMIN_IMAGE', 'XMAX_IMAGE', 'YMIN_IMAGE', 'YMAX_IMAGE',\n",
       "       'ISOAREA_IMAGE', 'ISOAREA_WORLD', 'A_IMAGE', 'B_IMAGE', 'THETA_IMAGE',\n",
       "       'THETA_WORLD', 'MU_MAX', 'ELLIPTICITY', 'FLUX_RADIUS',\n",
       "       'SPHEROID_SERSICN', 'g_cmodel_mag', 'PIXEL_AREA'],\n",
       "      dtype='object')"
      ]
     },
     "execution_count": 8,
     "metadata": {},
     "output_type": "execute_result"
    }
   ],
   "source": [
    "full_df.columns"
   ]
  },
  {
   "cell_type": "code",
   "execution_count": 9,
   "id": "583782bf",
   "metadata": {},
   "outputs": [],
   "source": [
    "full_df.to_csv(f'/data/HSC/HSC_v6/step1/g_band_sextractor/{window}_test_set_subset/processed_data_v1.csv', index=False)"
   ]
  }
 ],
 "metadata": {
  "kernelspec": {
   "display_name": "Python 3",
   "language": "python",
   "name": "python3"
  },
  "language_info": {
   "codemirror_mode": {
    "name": "ipython",
    "version": 3
   },
   "file_extension": ".py",
   "mimetype": "text/x-python",
   "name": "python",
   "nbconvert_exporter": "python",
   "pygments_lexer": "ipython3",
   "version": "3.8.10"
  }
 },
 "nbformat": 4,
 "nbformat_minor": 5
}
