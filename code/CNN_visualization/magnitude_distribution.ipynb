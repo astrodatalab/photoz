{
 "cells": [
  {
   "cell_type": "code",
   "execution_count": 1,
   "id": "13bf3333",
   "metadata": {},
   "outputs": [],
   "source": [
    "import pandas as pd\n",
    "import numpy as np\n",
    "import matplotlib.pyplot as plt\n",
    "import seaborn as sns\n",
    "from photoz_utils import *"
   ]
  },
  {
   "cell_type": "code",
   "execution_count": 2,
   "id": "3998bb5e",
   "metadata": {},
   "outputs": [],
   "source": [
    "window='20x20' # 30x30 10x10\n",
    "df = pd.read_csv(f'/data/HSC/HSC_v6/step1/g_band_sextractor/{window}_10k_subset/segmented_mag_data_v1.csv')\n",
    "predictions = pd.read_csv('/predictions/HSC_v6_NN_neurips_combined_with_5pool_v11/testing_predictions.csv')"
   ]
  },
  {
   "cell_type": "code",
   "execution_count": 3,
   "id": "b74468cf",
   "metadata": {},
   "outputs": [],
   "source": [
    "full_df = pd.merge(df, predictions, on='object_id')"
   ]
  },
  {
   "cell_type": "code",
   "execution_count": 4,
   "id": "54a279f6",
   "metadata": {},
   "outputs": [],
   "source": [
    "full_df['bias'] = pd.Series([calculate_bias(i, j, conventional=True) for i, j in zip(full_df['photoz'], full_df['specz'])])\n",
    "full_df['outlier_rate'] = pd.Series([calculate_outlier_rate(i, j, conventional=True) for i, j in zip(full_df['photoz'], full_df['specz'])])\n",
    "full_df['loss'] = pd.Series([calculate_loss(i, j) for i, j in zip(full_df['photoz'], full_df['specz'])])"
   ]
  },
  {
   "cell_type": "code",
   "execution_count": 5,
   "id": "dbb5d6fa",
   "metadata": {},
   "outputs": [
    {
     "name": "stdout",
     "output_type": "stream",
     "text": [
      "Percentage of images with more than one object in a 20x20 central window: 13.90%\n"
     ]
    },
    {
     "data": {
      "image/png": "[encoded data removed]",
      "text/plain": [
       "<Figure size 432x288 with 1 Axes>"
      ]
     },
     "metadata": {
      "needs_background": "light"
     },
     "output_type": "display_data"
    }
   ],
   "source": [
    "full_df[\"NUMBER_IN_CENTER\"].hist(density=True)\n",
    "print(f'Percentage of images with more than one object in a {window} central window: {(len(df[df[\"NUMBER_IN_CENTER\"] > 1]) / len(df)):.2%}')"
   ]
  },
  {
   "cell_type": "code",
   "execution_count": 6,
   "id": "e8a954da",
   "metadata": {},
   "outputs": [
    {
     "name": "stdout",
     "output_type": "stream",
     "text": [
      "Average bias of crowded galaxy centers: -0.001166\n"
     ]
    }
   ],
   "source": [
    "print(f'Average bias of crowded galaxy centers: {np.mean(full_df[full_df[\"NUMBER_IN_CENTER\"] > 1][\"bias\"]):.6f}')"
   ]
  },
  {
   "cell_type": "code",
   "execution_count": 7,
   "id": "c1c2d78d",
   "metadata": {},
   "outputs": [
    {
     "name": "stdout",
     "output_type": "stream",
     "text": [
      "Average bias of lone galaxy centers: 0.000143\n"
     ]
    }
   ],
   "source": [
    "print(f'Average bias of lone galaxy centers: {np.mean(full_df[full_df[\"NUMBER_IN_CENTER\"] == 1][\"bias\"]):.6f}')"
   ]
  },
  {
   "cell_type": "code",
   "execution_count": 8,
   "id": "35bda720",
   "metadata": {},
   "outputs": [
    {
     "name": "stdout",
     "output_type": "stream",
     "text": [
      "Average loss of crowded galaxy centers: 0.040554\n"
     ]
    }
   ],
   "source": [
    "print(f'Average loss of crowded galaxy centers: {np.mean(full_df[full_df[\"NUMBER_IN_CENTER\"] > 1][\"loss\"]):.6f}')"
   ]
  },
  {
   "cell_type": "code",
   "execution_count": 9,
   "id": "1193ce3c",
   "metadata": {},
   "outputs": [
    {
     "name": "stdout",
     "output_type": "stream",
     "text": [
      "Average loss of lone galaxy centers: 0.057554\n"
     ]
    }
   ],
   "source": [
    "print(f'Average loss of lone galaxy centers: {np.mean(full_df[full_df[\"NUMBER_IN_CENTER\"] == 1][\"loss\"]):.6f}')"
   ]
  },
  {
   "cell_type": "code",
   "execution_count": 10,
   "id": "804043c9",
   "metadata": {},
   "outputs": [
    {
     "name": "stdout",
     "output_type": "stream",
     "text": [
      "Outlier rate of crowded galaxy centers: 1.78%\n"
     ]
    }
   ],
   "source": [
    "print(f'Outlier rate of crowded galaxy centers: {np.mean(full_df[full_df[\"NUMBER_IN_CENTER\"] > 1][\"outlier_rate\"]):.2%}')"
   ]
  },
  {
   "cell_type": "code",
   "execution_count": 11,
   "id": "eabce5a6",
   "metadata": {},
   "outputs": [
    {
     "name": "stdout",
     "output_type": "stream",
     "text": [
      "Outlier rate of lone galaxy centers: 3.74%\n"
     ]
    }
   ],
   "source": [
    "print(f'Outlier rate of lone galaxy centers: {np.mean(full_df[full_df[\"NUMBER_IN_CENTER\"] == 1][\"outlier_rate\"]):.2%}')"
   ]
  },
  {
   "cell_type": "code",
   "execution_count": 12,
   "id": "0431f534",
   "metadata": {},
   "outputs": [
    {
     "name": "stdout",
     "output_type": "stream",
     "text": [
      "Average g band magnitude of crowded galaxy centers: 22.379392\n"
     ]
    }
   ],
   "source": [
    "print(f'Average g band magnitude of crowded galaxy centers: {np.mean(full_df[full_df[\"NUMBER_IN_CENTER\"] > 1][\"g_cmodel_mag\"]):.6f}')"
   ]
  },
  {
   "cell_type": "code",
   "execution_count": 13,
   "id": "948e50b0",
   "metadata": {},
   "outputs": [
    {
     "name": "stdout",
     "output_type": "stream",
     "text": [
      "Average g band magnitude of lone galaxy centers: 21.430500\n"
     ]
    }
   ],
   "source": [
    "print(f'Average g band magnitude of lone galaxy centers: {np.mean(full_df[full_df[\"NUMBER_IN_CENTER\"] == 1][\"g_cmodel_mag\"]):.6f}')"
   ]
  },
  {
   "cell_type": "code",
   "execution_count": 14,
   "id": "5c201fdf",
   "metadata": {},
   "outputs": [
    {
     "name": "stdout",
     "output_type": "stream",
     "text": [
      "Average petrosian radius of crowded galaxy centers: 8.659169\n"
     ]
    }
   ],
   "source": [
    "print(f'Average petrosian radius of crowded galaxy centers: {np.mean(full_df[full_df[\"NUMBER_IN_CENTER\"] > 1][\"PETRO_RADIUS\"]):.6f}')"
   ]
  },
  {
   "cell_type": "code",
   "execution_count": 15,
   "id": "5bbdb562",
   "metadata": {},
   "outputs": [
    {
     "name": "stdout",
     "output_type": "stream",
     "text": [
      "Average petrosian radius of lone galaxy centers: 8.259684\n"
     ]
    }
   ],
   "source": [
    "print(f'Average petrosian radius of lone galaxy centers: {np.mean(full_df[full_df[\"NUMBER_IN_CENTER\"] == 1][\"PETRO_RADIUS\"]):.6f}')"
   ]
  },
  {
   "cell_type": "code",
   "execution_count": 16,
   "id": "d2b720ba",
   "metadata": {},
   "outputs": [
    {
     "data": {
      "text/plain": [
       "<matplotlib.legend.Legend at 0x7f3981febf40>"
      ]
     },
     "execution_count": 16,
     "metadata": {},
     "output_type": "execute_result"
    },
    {
     "data": {
      "image/png": "[encoded data removed]",
      "text/plain": [
       "<Figure size 432x288 with 1 Axes>"
      ]
     },
     "metadata": {
      "needs_background": "light"
     },
     "output_type": "display_data"
    }
   ],
   "source": [
    "df['g_cmodel_mag'].hist(density=True, label='Total', bins=50, alpha=.5)\n",
    "df[df['NUMBER_IN_CENTER'] > 1]['g_cmodel_mag'].hist(density=True, label='Crowded', bins=50, alpha=.5)\n",
    "plt.xlabel('Magnitude')\n",
    "plt.title(f'{window} Window')\n",
    "plt.legend()"
   ]
  },
  {
   "cell_type": "code",
   "execution_count": 17,
   "id": "aceb5692",
   "metadata": {},
   "outputs": [
    {
     "data": {
      "text/plain": [
       "<matplotlib.legend.Legend at 0x7f3981fd4700>"
      ]
     },
     "execution_count": 17,
     "metadata": {},
     "output_type": "execute_result"
    },
    {
     "data": {
      "image/png": "[encoded data removed]",
      "text/plain": [
       "<Figure size 432x288 with 1 Axes>"
      ]
     },
     "metadata": {
      "needs_background": "light"
     },
     "output_type": "display_data"
    }
   ],
   "source": [
    "df['PETRO_RADIUS'].hist(density=True, label='Total', bins=20, alpha=0.5)\n",
    "df[df['NUMBER_IN_CENTER'] > 1]['PETRO_RADIUS'].hist(density=True, label='Crowded', bins=20, alpha=.5)\n",
    "plt.xlabel('Petrosian Radius')\n",
    "plt.title(f'{window} Window')\n",
    "plt.legend()"
   ]
  },
  {
   "cell_type": "code",
   "execution_count": 18,
   "id": "8e3f80b3",
   "metadata": {},
   "outputs": [
    {
     "data": {
      "text/plain": [
       "<matplotlib.legend.Legend at 0x7f3981d63130>"
      ]
     },
     "execution_count": 18,
     "metadata": {},
     "output_type": "execute_result"
    },
    {
     "data": {
      "image/png": "[encoded data removed]",
      "text/plain": [
       "<Figure size 432x288 with 1 Axes>"
      ]
     },
     "metadata": {
      "needs_background": "light"
     },
     "output_type": "display_data"
    }
   ],
   "source": [
    "full_df['bias'].hist(density=True, label='Total', bins=30, alpha=.5)\n",
    "full_df[full_df['NUMBER_IN_CENTER'] > 1]['bias'].hist(density=True, label='Crowded', bins=30, alpha=.5)\n",
    "plt.xlabel('Bias')\n",
    "plt.title(f'{window} Window')\n",
    "plt.legend()"
   ]
  },
  {
   "cell_type": "code",
   "execution_count": 19,
   "id": "d4ed8ede",
   "metadata": {},
   "outputs": [
    {
     "data": {
      "text/plain": [
       "<matplotlib.legend.Legend at 0x7f3981cfdb20>"
      ]
     },
     "execution_count": 19,
     "metadata": {},
     "output_type": "execute_result"
    },
    {
     "data": {
      "image/png": "[encoded data removed]",
      "text/plain": [
       "<Figure size 432x288 with 1 Axes>"
      ]
     },
     "metadata": {
      "needs_background": "light"
     },
     "output_type": "display_data"
    }
   ],
   "source": [
    "full_df['loss'].hist(density=True, label='Total', bins=30, alpha=.5)\n",
    "full_df[full_df['NUMBER_IN_CENTER'] > 1]['loss'].hist(density=True, label='Crowded', bins=30, alpha=.5)\n",
    "plt.xlabel('Loss')\n",
    "plt.title(f'{window} Window')\n",
    "plt.legend()"
   ]
  },
  {
   "cell_type": "code",
   "execution_count": 20,
   "id": "36a10002",
   "metadata": {},
   "outputs": [
    {
     "data": {
      "text/plain": [
       "<matplotlib.legend.Legend at 0x7f3981b844f0>"
      ]
     },
     "execution_count": 20,
     "metadata": {},
     "output_type": "execute_result"
    },
    {
     "data": {
      "image/png": "[encoded data removed]",
      "text/plain": [
       "<Figure size 432x288 with 1 Axes>"
      ]
     },
     "metadata": {
      "needs_background": "light"
     },
     "output_type": "display_data"
    }
   ],
   "source": [
    "full_df['outlier_rate'].hist(density=True, label='Total', bins=30, alpha=.5)\n",
    "full_df[full_df['NUMBER_IN_CENTER'] > 1]['outlier_rate'].hist(density=True, label='Crowded', bins=30, alpha=.5)\n",
    "plt.xlabel('Outlier Rate')\n",
    "plt.title(f'{window} Window')\n",
    "plt.legend()"
   ]
  },
  {
   "cell_type": "code",
   "execution_count": 21,
   "id": "53794c8c",
   "metadata": {},
   "outputs": [
    {
     "data": {
      "text/plain": [
       "<AxesSubplot:xlabel='PETRO_RADIUS', ylabel='g_cmodel_mag'>"
      ]
     },
     "execution_count": 21,
     "metadata": {},
     "output_type": "execute_result"
    },
    {
     "data": {
      "image/png": "[encoded data removed]",
      "text/plain": [
       "<Figure size 432x288 with 1 Axes>"
      ]
     },
     "metadata": {
      "needs_background": "light"
     },
     "output_type": "display_data"
    }
   ],
   "source": [
    "sns.scatterplot(y=df['g_cmodel_mag'], x=df['PETRO_RADIUS'], hue=df['NUMBER_IN_CENTER'], palette='viridis')"
   ]
  },
  {
   "cell_type": "code",
   "execution_count": 22,
   "id": "f492e96b",
   "metadata": {},
   "outputs": [
    {
     "data": {
      "text/html": [
       "<div>\n",
       "<style scoped>\n",
       "    .dataframe tbody tr th:only-of-type {\n",
       "        vertical-align: middle;\n",
       "    }\n",
       "\n",
       "    .dataframe tbody tr th {\n",
       "        vertical-align: top;\n",
       "    }\n",
       "\n",
       "    .dataframe thead th {\n",
       "        text-align: right;\n",
       "    }\n",
       "</style>\n",
       "<table border=\"1\" class=\"dataframe\">\n",
       "  <thead>\n",
       "    <tr style=\"text-align: right;\">\n",
       "      <th></th>\n",
       "      <th>object_id</th>\n",
       "      <th>NUMBER_IN_CENTER</th>\n",
       "      <th>ITEM_INDEX</th>\n",
       "      <th>PETRO_RADIUS</th>\n",
       "      <th>X_IMAGE</th>\n",
       "      <th>Y_IMAGE</th>\n",
       "      <th>XMIN_IMAGE</th>\n",
       "      <th>XMAX_IMAGE</th>\n",
       "      <th>YMIN_IMAGE</th>\n",
       "      <th>YMAX_IMAGE</th>\n",
       "      <th>g_cmodel_mag</th>\n",
       "      <th>photoz</th>\n",
       "      <th>specz</th>\n",
       "      <th>bias</th>\n",
       "      <th>outlier_rate</th>\n",
       "      <th>loss</th>\n",
       "    </tr>\n",
       "  </thead>\n",
       "  <tbody>\n",
       "    <tr>\n",
       "      <th>0</th>\n",
       "      <td>42709992310082949</td>\n",
       "      <td>1</td>\n",
       "      <td>1</td>\n",
       "      <td>7.26</td>\n",
       "      <td>59.6118</td>\n",
       "      <td>60.2561</td>\n",
       "      <td>53</td>\n",
       "      <td>52</td>\n",
       "      <td>65</td>\n",
       "      <td>67</td>\n",
       "      <td>22.601219</td>\n",
       "      <td>0.794884</td>\n",
       "      <td>0.819175</td>\n",
       "      <td>-0.013352</td>\n",
       "      <td>0.0</td>\n",
       "      <td>0.007861</td>\n",
       "    </tr>\n",
       "    <tr>\n",
       "      <th>1</th>\n",
       "      <td>42709992310082949</td>\n",
       "      <td>1</td>\n",
       "      <td>2</td>\n",
       "      <td>9.24</td>\n",
       "      <td>54.4928</td>\n",
       "      <td>100.7437</td>\n",
       "      <td>51</td>\n",
       "      <td>97</td>\n",
       "      <td>60</td>\n",
       "      <td>104</td>\n",
       "      <td>22.601219</td>\n",
       "      <td>0.794884</td>\n",
       "      <td>0.819175</td>\n",
       "      <td>-0.013352</td>\n",
       "      <td>0.0</td>\n",
       "      <td>0.007861</td>\n",
       "    </tr>\n",
       "    <tr>\n",
       "      <th>2</th>\n",
       "      <td>42709992310082949</td>\n",
       "      <td>1</td>\n",
       "      <td>3</td>\n",
       "      <td>5.94</td>\n",
       "      <td>27.6016</td>\n",
       "      <td>93.3320</td>\n",
       "      <td>23</td>\n",
       "      <td>88</td>\n",
       "      <td>32</td>\n",
       "      <td>98</td>\n",
       "      <td>22.601219</td>\n",
       "      <td>0.794884</td>\n",
       "      <td>0.819175</td>\n",
       "      <td>-0.013352</td>\n",
       "      <td>0.0</td>\n",
       "      <td>0.007861</td>\n",
       "    </tr>\n",
       "    <tr>\n",
       "      <th>3</th>\n",
       "      <td>37494471788616312</td>\n",
       "      <td>1</td>\n",
       "      <td>1</td>\n",
       "      <td>10.56</td>\n",
       "      <td>77.8560</td>\n",
       "      <td>20.1041</td>\n",
       "      <td>75</td>\n",
       "      <td>17</td>\n",
       "      <td>80</td>\n",
       "      <td>23</td>\n",
       "      <td>23.141678</td>\n",
       "      <td>0.857280</td>\n",
       "      <td>0.890200</td>\n",
       "      <td>-0.017416</td>\n",
       "      <td>0.0</td>\n",
       "      <td>0.013301</td>\n",
       "    </tr>\n",
       "    <tr>\n",
       "      <th>4</th>\n",
       "      <td>37494471788616312</td>\n",
       "      <td>1</td>\n",
       "      <td>2</td>\n",
       "      <td>10.56</td>\n",
       "      <td>21.3930</td>\n",
       "      <td>94.8022</td>\n",
       "      <td>20</td>\n",
       "      <td>92</td>\n",
       "      <td>27</td>\n",
       "      <td>96</td>\n",
       "      <td>23.141678</td>\n",
       "      <td>0.857280</td>\n",
       "      <td>0.890200</td>\n",
       "      <td>-0.017416</td>\n",
       "      <td>0.0</td>\n",
       "      <td>0.013301</td>\n",
       "    </tr>\n",
       "    <tr>\n",
       "      <th>...</th>\n",
       "      <td>...</td>\n",
       "      <td>...</td>\n",
       "      <td>...</td>\n",
       "      <td>...</td>\n",
       "      <td>...</td>\n",
       "      <td>...</td>\n",
       "      <td>...</td>\n",
       "      <td>...</td>\n",
       "      <td>...</td>\n",
       "      <td>...</td>\n",
       "      <td>...</td>\n",
       "      <td>...</td>\n",
       "      <td>...</td>\n",
       "      <td>...</td>\n",
       "      <td>...</td>\n",
       "      <td>...</td>\n",
       "    </tr>\n",
       "    <tr>\n",
       "      <th>5891</th>\n",
       "      <td>70364500749976529</td>\n",
       "      <td>2</td>\n",
       "      <td>1</td>\n",
       "      <td>10.56</td>\n",
       "      <td>67.5000</td>\n",
       "      <td>43.9121</td>\n",
       "      <td>60</td>\n",
       "      <td>36</td>\n",
       "      <td>74</td>\n",
       "      <td>52</td>\n",
       "      <td>21.912723</td>\n",
       "      <td>0.527795</td>\n",
       "      <td>0.572640</td>\n",
       "      <td>-0.028516</td>\n",
       "      <td>0.0</td>\n",
       "      <td>0.034880</td>\n",
       "    </tr>\n",
       "    <tr>\n",
       "      <th>5892</th>\n",
       "      <td>70364500749976529</td>\n",
       "      <td>2</td>\n",
       "      <td>2</td>\n",
       "      <td>10.56</td>\n",
       "      <td>42.2756</td>\n",
       "      <td>36.2269</td>\n",
       "      <td>39</td>\n",
       "      <td>33</td>\n",
       "      <td>46</td>\n",
       "      <td>39</td>\n",
       "      <td>21.912723</td>\n",
       "      <td>0.527795</td>\n",
       "      <td>0.572640</td>\n",
       "      <td>-0.028516</td>\n",
       "      <td>0.0</td>\n",
       "      <td>0.034880</td>\n",
       "    </tr>\n",
       "    <tr>\n",
       "      <th>5893</th>\n",
       "      <td>70364500749976529</td>\n",
       "      <td>2</td>\n",
       "      <td>3</td>\n",
       "      <td>10.56</td>\n",
       "      <td>61.3630</td>\n",
       "      <td>83.6732</td>\n",
       "      <td>59</td>\n",
       "      <td>82</td>\n",
       "      <td>64</td>\n",
       "      <td>85</td>\n",
       "      <td>21.912723</td>\n",
       "      <td>0.527795</td>\n",
       "      <td>0.572640</td>\n",
       "      <td>-0.028516</td>\n",
       "      <td>0.0</td>\n",
       "      <td>0.034880</td>\n",
       "    </tr>\n",
       "    <tr>\n",
       "      <th>5894</th>\n",
       "      <td>70364500749976529</td>\n",
       "      <td>2</td>\n",
       "      <td>4</td>\n",
       "      <td>8.58</td>\n",
       "      <td>60.2286</td>\n",
       "      <td>61.1407</td>\n",
       "      <td>53</td>\n",
       "      <td>51</td>\n",
       "      <td>67</td>\n",
       "      <td>68</td>\n",
       "      <td>21.912723</td>\n",
       "      <td>0.527795</td>\n",
       "      <td>0.572640</td>\n",
       "      <td>-0.028516</td>\n",
       "      <td>0.0</td>\n",
       "      <td>0.034880</td>\n",
       "    </tr>\n",
       "    <tr>\n",
       "      <th>5895</th>\n",
       "      <td>70364500749976529</td>\n",
       "      <td>2</td>\n",
       "      <td>5</td>\n",
       "      <td>8.58</td>\n",
       "      <td>108.8873</td>\n",
       "      <td>88.2775</td>\n",
       "      <td>105</td>\n",
       "      <td>79</td>\n",
       "      <td>113</td>\n",
       "      <td>95</td>\n",
       "      <td>21.912723</td>\n",
       "      <td>0.527795</td>\n",
       "      <td>0.572640</td>\n",
       "      <td>-0.028516</td>\n",
       "      <td>0.0</td>\n",
       "      <td>0.034880</td>\n",
       "    </tr>\n",
       "  </tbody>\n",
       "</table>\n",
       "<p>5896 rows × 16 columns</p>\n",
       "</div>"
      ],
      "text/plain": [
       "              object_id  NUMBER_IN_CENTER  ITEM_INDEX  PETRO_RADIUS   X_IMAGE  \\\n",
       "0     42709992310082949                 1           1          7.26   59.6118   \n",
       "1     42709992310082949                 1           2          9.24   54.4928   \n",
       "2     42709992310082949                 1           3          5.94   27.6016   \n",
       "3     37494471788616312                 1           1         10.56   77.8560   \n",
       "4     37494471788616312                 1           2         10.56   21.3930   \n",
       "...                 ...               ...         ...           ...       ...   \n",
       "5891  70364500749976529                 2           1         10.56   67.5000   \n",
       "5892  70364500749976529                 2           2         10.56   42.2756   \n",
       "5893  70364500749976529                 2           3         10.56   61.3630   \n",
       "5894  70364500749976529                 2           4          8.58   60.2286   \n",
       "5895  70364500749976529                 2           5          8.58  108.8873   \n",
       "\n",
       "       Y_IMAGE  XMIN_IMAGE  XMAX_IMAGE  YMIN_IMAGE  YMAX_IMAGE  g_cmodel_mag  \\\n",
       "0      60.2561          53          52          65          67     22.601219   \n",
       "1     100.7437          51          97          60         104     22.601219   \n",
       "2      93.3320          23          88          32          98     22.601219   \n",
       "3      20.1041          75          17          80          23     23.141678   \n",
       "4      94.8022          20          92          27          96     23.141678   \n",
       "...        ...         ...         ...         ...         ...           ...   \n",
       "5891   43.9121          60          36          74          52     21.912723   \n",
       "5892   36.2269          39          33          46          39     21.912723   \n",
       "5893   83.6732          59          82          64          85     21.912723   \n",
       "5894   61.1407          53          51          67          68     21.912723   \n",
       "5895   88.2775         105          79         113          95     21.912723   \n",
       "\n",
       "        photoz     specz      bias  outlier_rate      loss  \n",
       "0     0.794884  0.819175 -0.013352           0.0  0.007861  \n",
       "1     0.794884  0.819175 -0.013352           0.0  0.007861  \n",
       "2     0.794884  0.819175 -0.013352           0.0  0.007861  \n",
       "3     0.857280  0.890200 -0.017416           0.0  0.013301  \n",
       "4     0.857280  0.890200 -0.017416           0.0  0.013301  \n",
       "...        ...       ...       ...           ...       ...  \n",
       "5891  0.527795  0.572640 -0.028516           0.0  0.034880  \n",
       "5892  0.527795  0.572640 -0.028516           0.0  0.034880  \n",
       "5893  0.527795  0.572640 -0.028516           0.0  0.034880  \n",
       "5894  0.527795  0.572640 -0.028516           0.0  0.034880  \n",
       "5895  0.527795  0.572640 -0.028516           0.0  0.034880  \n",
       "\n",
       "[5896 rows x 16 columns]"
      ]
     },
     "execution_count": 22,
     "metadata": {},
     "output_type": "execute_result"
    }
   ],
   "source": [
    "full_df"
   ]
  }
 ],
 "metadata": {
  "kernelspec": {
   "display_name": "Python 3",
   "language": "python",
   "name": "python3"
  },
  "language_info": {
   "codemirror_mode": {
    "name": "ipython",
    "version": 3
   },
   "file_extension": ".py",
   "mimetype": "text/x-python",
   "name": "python",
   "nbconvert_exporter": "python",
   "pygments_lexer": "ipython3",
   "version": "3.8.10"
  }
 },
 "nbformat": 4,
 "nbformat_minor": 5
}
