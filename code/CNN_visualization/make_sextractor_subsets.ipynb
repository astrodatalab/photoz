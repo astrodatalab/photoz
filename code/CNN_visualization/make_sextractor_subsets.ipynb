{
 "cells": [
  {
   "cell_type": "code",
   "execution_count": 1,
   "id": "3a9ab171-5185-4b32-93ef-530999e3c77a",
   "metadata": {},
   "outputs": [],
   "source": [
    "import os\n",
    "import pandas as pd\n",
    "import shutil\n",
    "import h5py"
   ]
  },
  {
   "cell_type": "code",
   "execution_count": 2,
   "id": "b81fb51c-857b-49eb-9ebb-e9e4e733dbf5",
   "metadata": {},
   "outputs": [],
   "source": [
    "img_dir = '/data/HSC/HSC_v6/step1/'\n",
    "bands = [i + '_band' for i in ['g', 'r', 'i', 'z', 'y']]"
   ]
  },
  {
   "cell_type": "code",
   "execution_count": 3,
   "id": "61718aae-4416-4f70-bd3a-a61040b5fc4a",
   "metadata": {},
   "outputs": [],
   "source": [
    "for band in bands:\n",
    "    if not os.path.exists(img_dir + band + '_sextractor/'):\n",
    "        os.makedirs(img_dir + band + '_sextractor')"
   ]
  },
  {
   "cell_type": "code",
   "execution_count": 4,
   "id": "75221e5b-b1d0-4956-983f-8311388ee6f8",
   "metadata": {},
   "outputs": [],
   "source": [
    "# copy over fits files from each band\n",
    "for band in bands[1:]:\n",
    "    for filename in os.listdir(img_dir + band):\n",
    "        if filename.endswith('_step1.fits'):\n",
    "            shutil.copy2(img_dir + band + '/' + filename, img_dir + band + '_sextractor/')"
   ]
  },
  {
   "cell_type": "code",
   "execution_count": 5,
   "id": "46d0ea1d-fb24-45b4-80b4-1a4302a66d10",
   "metadata": {},
   "outputs": [],
   "source": [
    "# copy over fits files from each subset for a given band\n",
    "subsets = ['training', 'testing', 'validation']"
   ]
  },
  {
   "cell_type": "code",
   "execution_count": 6,
   "id": "6aaa4e62-c1bc-42f3-9d81-b6ad1699bbb1",
   "metadata": {},
   "outputs": [],
   "source": [
    "obj_ids = {}\n",
    "for subset in subsets:\n",
    "    with h5py.File(f'/data/HSC/HSC_v6/step2A/127x127/5x127x127_{subset}.hdf5', 'r') as f:\n",
    "        obj_id_list = f['object_id'][:]\n",
    "        obj_ids[subset] = obj_id_list"
   ]
  },
  {
   "cell_type": "code",
   "execution_count": 7,
   "id": "d657434c-fe04-4bf8-80ed-fbac4398a134",
   "metadata": {},
   "outputs": [],
   "source": [
    "for band in bands:\n",
    "    for subset in subsets:\n",
    "        if not os.path.exists(img_dir + band + f'_sextractor/{subset}_set_subset/'):\n",
    "            os.makedirs(img_dir + band + f'_sextractor/{subset}_set_subset')"
   ]
  },
  {
   "cell_type": "code",
   "execution_count": 8,
   "id": "9df9ed3d-6aaa-4a3a-a953-769a65ac1b08",
   "metadata": {},
   "outputs": [],
   "source": [
    "for band in bands[1:]:\n",
    "    for subset in subsets:\n",
    "        for obj_id in obj_ids[subset]:\n",
    "            shutil.copy2(img_dir + band + f'_sextractor/{obj_id}_step1.fits', img_dir + band + f'_sextractor/{subset}_set_subset/')"
   ]
  },
  {
   "cell_type": "code",
   "execution_count": 12,
   "id": "4069277e-3e9d-4bc7-8d11-9d3f80477d0a",
   "metadata": {},
   "outputs": [],
   "source": [
    "# move over .conv files and default2.param, default2.sex, default.psf, and log file"
   ]
  },
  {
   "cell_type": "code",
   "execution_count": 20,
   "id": "8b50acee-d8ed-479e-8a99-8ec9645ff85d",
   "metadata": {},
   "outputs": [],
   "source": [
    "for subset in subsets:\n",
    "    for filename in os.listdir(img_dir + f'g_band_sextractor/{subset}_set_subset/'):\n",
    "        if filename.endswith('.conv') or filename in ['default2.param', 'default2.sex', 'default.psf', 'run_sextractor.py']:\n",
    "            for band in bands[1:]:\n",
    "                shutil.copy2(img_dir + f'g_band_sextractor/{subset}_set_subset/{filename}', img_dir + band + f'_sextractor/{subset}_set_subset/')"
   ]
  },
  {
   "cell_type": "code",
   "execution_count": 21,
   "id": "8d8371f4-6ab2-4a75-b2ef-9516c848b343",
   "metadata": {},
   "outputs": [],
   "source": [
    "# before running sextractor on all files, compare the y_band results to the g_band\n",
    "# like histograms and whatnot\n",
    "# run_sextractor.py in testing and validation folders are missing '/data2'"
   ]
  },
  {
   "cell_type": "code",
   "execution_count": null,
   "id": "9eecedc1-8344-4835-860b-8d8206195a56",
   "metadata": {},
   "outputs": [],
   "source": []
  }
 ],
 "metadata": {
  "kernelspec": {
   "display_name": "Python 3 (ipykernel)",
   "language": "python",
   "name": "python3"
  },
  "language_info": {
   "codemirror_mode": {
    "name": "ipython",
    "version": 3
   },
   "file_extension": ".py",
   "mimetype": "text/x-python",
   "name": "python",
   "nbconvert_exporter": "python",
   "pygments_lexer": "ipython3",
   "version": "3.10.10"
  }
 },
 "nbformat": 4,
 "nbformat_minor": 5
}
