{
 "cells": [
  {
   "cell_type": "markdown",
   "id": "d6314d3b",
   "metadata": {},
   "source": [
    "# XGBoost Example - HSC Photo-z\n",
    "\n",
    "Zooey Nguyen, 2021-08-10\n",
    "\n",
    "Adapted from `ML Template - HSC Photo-z`\n"
   ]
  },
  {
   "cell_type": "code",
   "execution_count": 1,
   "id": "4b51507f",
   "metadata": {},
   "outputs": [],
   "source": [
    "import numpy as np\n",
    "import pandas as pd\n",
    "import matplotlib.pyplot as plt\n",
    "import seaborn as sns\n",
    "from RedshiftModel import RedshiftModel"
   ]
  },
  {
   "cell_type": "markdown",
   "id": "a99215ae",
   "metadata": {},
   "source": [
    "# 1 Big Picture\n",
    "\n",
    "What is the problem you want to solve? How do you plan to use and benefit from the the machine learning model? What is your metric for success?"
   ]
  },
  {
   "cell_type": "markdown",
   "id": "0f99cbc0",
   "metadata": {},
   "source": [
    "Goal: develop a baseline set of characterization of the HSC v4 dataset. Systematically explore the dataset. "
   ]
  },
  {
   "cell_type": "markdown",
   "id": "17e5a070",
   "metadata": {},
   "source": [
    "# 2 Get the data\n",
    "\n",
    "What data are available to you for training your model? How will you access and download all the data? The type and quantity of data available will often impact your choice in the subsequent stages.\n",
    "\n"
   ]
  },
  {
   "cell_type": "code",
   "execution_count": 2,
   "id": "9b7d7bc3",
   "metadata": {},
   "outputs": [],
   "source": [
    "model = RedshiftModel()\n",
    "model.load_data(path='/data/HSC/HSC_v6/HSC_v6.csv')"
   ]
  },
  {
   "cell_type": "markdown",
   "id": "9b69ebf8",
   "metadata": {},
   "source": [
    "# 3 Explore the data\n",
    "\n",
    "Discover and visualize the data to gain insight. For example, how complete is the dataset? Are there more representatives of certain types of data than others?\n"
   ]
  },
  {
   "cell_type": "code",
   "execution_count": 3,
   "id": "32b737b5",
   "metadata": {},
   "outputs": [
    {
     "data": {
      "text/html": [
       "<div>\n",
       "<style scoped>\n",
       "    .dataframe tbody tr th:only-of-type {\n",
       "        vertical-align: middle;\n",
       "    }\n",
       "\n",
       "    .dataframe tbody tr th {\n",
       "        vertical-align: top;\n",
       "    }\n",
       "\n",
       "    .dataframe thead th {\n",
       "        text-align: right;\n",
       "    }\n",
       "</style>\n",
       "<table border=\"1\" class=\"dataframe\">\n",
       "  <thead>\n",
       "    <tr style=\"text-align: right;\">\n",
       "      <th></th>\n",
       "      <th>g_cmodel_mag</th>\n",
       "      <th>r_cmodel_mag</th>\n",
       "      <th>i_cmodel_mag</th>\n",
       "      <th>z_cmodel_mag</th>\n",
       "      <th>y_cmodel_mag</th>\n",
       "      <th>specz_redshift</th>\n",
       "    </tr>\n",
       "    <tr>\n",
       "      <th>object_id</th>\n",
       "      <th></th>\n",
       "      <th></th>\n",
       "      <th></th>\n",
       "      <th></th>\n",
       "      <th></th>\n",
       "      <th></th>\n",
       "    </tr>\n",
       "  </thead>\n",
       "  <tbody>\n",
       "    <tr>\n",
       "      <th>42278833428106463</th>\n",
       "      <td>20.979572</td>\n",
       "      <td>19.947130</td>\n",
       "      <td>19.067715</td>\n",
       "      <td>18.589880</td>\n",
       "      <td>18.398716</td>\n",
       "      <td>0.548910</td>\n",
       "    </tr>\n",
       "    <tr>\n",
       "      <th>42278695989150320</th>\n",
       "      <td>21.935928</td>\n",
       "      <td>20.279877</td>\n",
       "      <td>19.297018</td>\n",
       "      <td>18.870232</td>\n",
       "      <td>18.658607</td>\n",
       "      <td>0.548210</td>\n",
       "    </tr>\n",
       "    <tr>\n",
       "      <th>41030088866680729</th>\n",
       "      <td>18.288635</td>\n",
       "      <td>17.634911</td>\n",
       "      <td>17.292387</td>\n",
       "      <td>17.095787</td>\n",
       "      <td>16.931446</td>\n",
       "      <td>0.069250</td>\n",
       "    </tr>\n",
       "    <tr>\n",
       "      <th>41117487156191017</th>\n",
       "      <td>22.071690</td>\n",
       "      <td>20.442038</td>\n",
       "      <td>19.342354</td>\n",
       "      <td>18.947113</td>\n",
       "      <td>18.757706</td>\n",
       "      <td>0.565800</td>\n",
       "    </tr>\n",
       "    <tr>\n",
       "      <th>41122709836425861</th>\n",
       "      <td>21.944164</td>\n",
       "      <td>20.366680</td>\n",
       "      <td>19.581245</td>\n",
       "      <td>19.234711</td>\n",
       "      <td>19.079449</td>\n",
       "      <td>0.441510</td>\n",
       "    </tr>\n",
       "    <tr>\n",
       "      <th>...</th>\n",
       "      <td>...</td>\n",
       "      <td>...</td>\n",
       "      <td>...</td>\n",
       "      <td>...</td>\n",
       "      <td>...</td>\n",
       "      <td>...</td>\n",
       "    </tr>\n",
       "    <tr>\n",
       "      <th>74648752102607194</th>\n",
       "      <td>24.583908</td>\n",
       "      <td>22.849722</td>\n",
       "      <td>21.685707</td>\n",
       "      <td>21.253208</td>\n",
       "      <td>20.991869</td>\n",
       "      <td>0.679413</td>\n",
       "    </tr>\n",
       "    <tr>\n",
       "      <th>74648752102580829</th>\n",
       "      <td>24.467262</td>\n",
       "      <td>24.115664</td>\n",
       "      <td>23.644138</td>\n",
       "      <td>23.402760</td>\n",
       "      <td>23.475128</td>\n",
       "      <td>0.744444</td>\n",
       "    </tr>\n",
       "    <tr>\n",
       "      <th>74648477224684554</th>\n",
       "      <td>23.475531</td>\n",
       "      <td>22.753321</td>\n",
       "      <td>22.056278</td>\n",
       "      <td>21.713366</td>\n",
       "      <td>21.827911</td>\n",
       "      <td>0.777939</td>\n",
       "    </tr>\n",
       "    <tr>\n",
       "      <th>74648618958598412</th>\n",
       "      <td>24.413773</td>\n",
       "      <td>23.312382</td>\n",
       "      <td>22.863266</td>\n",
       "      <td>22.442661</td>\n",
       "      <td>22.421177</td>\n",
       "      <td>0.363510</td>\n",
       "    </tr>\n",
       "    <tr>\n",
       "      <th>74648618958597143</th>\n",
       "      <td>25.108581</td>\n",
       "      <td>24.705368</td>\n",
       "      <td>24.428604</td>\n",
       "      <td>24.023226</td>\n",
       "      <td>23.205606</td>\n",
       "      <td>0.780271</td>\n",
       "    </tr>\n",
       "  </tbody>\n",
       "</table>\n",
       "<p>286401 rows × 6 columns</p>\n",
       "</div>"
      ],
      "text/plain": [
       "                   g_cmodel_mag  r_cmodel_mag  i_cmodel_mag  z_cmodel_mag  \\\n",
       "object_id                                                                   \n",
       "42278833428106463     20.979572     19.947130     19.067715     18.589880   \n",
       "42278695989150320     21.935928     20.279877     19.297018     18.870232   \n",
       "41030088866680729     18.288635     17.634911     17.292387     17.095787   \n",
       "41117487156191017     22.071690     20.442038     19.342354     18.947113   \n",
       "41122709836425861     21.944164     20.366680     19.581245     19.234711   \n",
       "...                         ...           ...           ...           ...   \n",
       "74648752102607194     24.583908     22.849722     21.685707     21.253208   \n",
       "74648752102580829     24.467262     24.115664     23.644138     23.402760   \n",
       "74648477224684554     23.475531     22.753321     22.056278     21.713366   \n",
       "74648618958598412     24.413773     23.312382     22.863266     22.442661   \n",
       "74648618958597143     25.108581     24.705368     24.428604     24.023226   \n",
       "\n",
       "                   y_cmodel_mag  specz_redshift  \n",
       "object_id                                        \n",
       "42278833428106463     18.398716        0.548910  \n",
       "42278695989150320     18.658607        0.548210  \n",
       "41030088866680729     16.931446        0.069250  \n",
       "41117487156191017     18.757706        0.565800  \n",
       "41122709836425861     19.079449        0.441510  \n",
       "...                         ...             ...  \n",
       "74648752102607194     20.991869        0.679413  \n",
       "74648752102580829     23.475128        0.744444  \n",
       "74648477224684554     21.827911        0.777939  \n",
       "74648618958598412     22.421177        0.363510  \n",
       "74648618958597143     23.205606        0.780271  \n",
       "\n",
       "[286401 rows x 6 columns]"
      ]
     },
     "execution_count": 3,
     "metadata": {},
     "output_type": "execute_result"
    }
   ],
   "source": [
    "model.df"
   ]
  },
  {
   "cell_type": "code",
   "execution_count": 4,
   "id": "b276d631",
   "metadata": {},
   "outputs": [
    {
     "data": {
      "text/plain": [
       "array([[20.9795723, 19.9471302, 19.0677147, 18.58988  , 18.398716 ],\n",
       "       [21.9359283, 20.2798767, 19.2970181, 18.8702316, 18.6586075],\n",
       "       [18.2886353, 17.6349106, 17.292387 , 17.095787 , 16.9314461],\n",
       "       ...,\n",
       "       [23.4755306, 22.7533207, 22.0562782, 21.7133656, 21.8279114],\n",
       "       [24.4137726, 23.3123817, 22.863266 , 22.4426613, 22.4211769],\n",
       "       [25.1085815, 24.705368 , 24.4286041, 24.0232258, 23.2056065]])"
      ]
     },
     "execution_count": 4,
     "metadata": {},
     "output_type": "execute_result"
    }
   ],
   "source": [
    "model.X"
   ]
  },
  {
   "cell_type": "code",
   "execution_count": 5,
   "id": "e52a0ab2",
   "metadata": {},
   "outputs": [
    {
     "data": {
      "text/plain": [
       "array([0.54891002, 0.54821003, 0.06925   , ..., 0.77793932, 0.36351037,\n",
       "       0.78027099])"
      ]
     },
     "execution_count": 5,
     "metadata": {},
     "output_type": "execute_result"
    }
   ],
   "source": [
    "model.y"
   ]
  },
  {
   "cell_type": "markdown",
   "id": "4dde8ec9",
   "metadata": {},
   "source": [
    "## 3.1 Duplicates"
   ]
  },
  {
   "cell_type": "markdown",
   "id": "bf4e958f",
   "metadata": {},
   "source": [
    "## 3.2 Investigate matching"
   ]
  },
  {
   "cell_type": "markdown",
   "id": "ed1a9667",
   "metadata": {},
   "source": [
    "# 4 Prepare Data\n",
    "\n",
    "Machine learning algorithms often require data to be pre-processed in a certain way, such as scaling numerical values or map categories to other representations. You will also need to decide what data to use as training and as testing. You may also need to develop a strategy to deal with missing data.\n",
    "\n"
   ]
  },
  {
   "cell_type": "code",
   "execution_count": 6,
   "id": "9e7b4c72",
   "metadata": {},
   "outputs": [
    {
     "data": {
      "text/plain": [
       "(286401, 6)"
      ]
     },
     "execution_count": 6,
     "metadata": {},
     "output_type": "execute_result"
    }
   ],
   "source": [
    "model.clean_data(z_range=(0.01,4), dropna=True, scaled=True)\n",
    "model.clean_df.shape"
   ]
  },
  {
   "cell_type": "code",
   "execution_count": 7,
   "id": "6fa64430",
   "metadata": {},
   "outputs": [
    {
     "data": {
      "text/plain": [
       "array([[0.39049273, 0.34035032, 0.29763991, 0.27443301, 0.26514878],\n",
       "       [0.43693989, 0.35651075, 0.30877645, 0.28804879, 0.27777088],\n",
       "       [0.25980252, 0.2280532 , 0.21141792, 0.20186968, 0.19388817],\n",
       "       ...,\n",
       "       [0.51171346, 0.47663803, 0.4427849 , 0.42613073, 0.43169385],\n",
       "       [0.55728087, 0.50378984, 0.48197772, 0.46155029, 0.46050686],\n",
       "       [0.59102552, 0.57144273, 0.55800119, 0.53831326, 0.4986041 ]])"
      ]
     },
     "execution_count": 7,
     "metadata": {},
     "output_type": "execute_result"
    }
   ],
   "source": [
    "model.X"
   ]
  },
  {
   "cell_type": "code",
   "execution_count": 8,
   "id": "988559c0",
   "metadata": {},
   "outputs": [],
   "source": [
    "model.split_data()"
   ]
  },
  {
   "cell_type": "code",
   "execution_count": 9,
   "id": "2407f7be",
   "metadata": {},
   "outputs": [
    {
     "data": {
      "text/plain": [
       "(171840, 5)"
      ]
     },
     "execution_count": 9,
     "metadata": {},
     "output_type": "execute_result"
    }
   ],
   "source": [
    "model.X_train.shape"
   ]
  },
  {
   "cell_type": "code",
   "execution_count": 10,
   "id": "160ed292",
   "metadata": {},
   "outputs": [
    {
     "data": {
      "text/plain": [
       "(57280, 5)"
      ]
     },
     "execution_count": 10,
     "metadata": {},
     "output_type": "execute_result"
    }
   ],
   "source": [
    "model.X_val.shape"
   ]
  },
  {
   "cell_type": "code",
   "execution_count": 11,
   "id": "05073506",
   "metadata": {},
   "outputs": [
    {
     "data": {
      "text/plain": [
       "(57281, 5)"
      ]
     },
     "execution_count": 11,
     "metadata": {},
     "output_type": "execute_result"
    }
   ],
   "source": [
    "model.X_test.shape"
   ]
  },
  {
   "cell_type": "markdown",
   "id": "6c218566",
   "metadata": {},
   "source": [
    "# 5 Select a model and train it\n",
    "\n",
    "Based on the problem and the data, there are often a handful of algorithms to try. Here, experimentation and knowledge of the strengths and weaknesses of machine learning models will help you choose a model and train it.\n"
   ]
  },
  {
   "cell_type": "code",
   "execution_count": 12,
   "id": "7d275c60",
   "metadata": {},
   "outputs": [
    {
     "name": "stdout",
     "output_type": "stream",
     "text": [
      "Creating model instance.\n"
     ]
    }
   ],
   "source": [
    "from xgboost import XGBRegressor\n",
    "model.load(model=XGBRegressor)"
   ]
  },
  {
   "cell_type": "code",
   "execution_count": 13,
   "id": "6cbd0658",
   "metadata": {},
   "outputs": [
    {
     "name": "stdout",
     "output_type": "stream",
     "text": [
      "Fitting on training set.\n"
     ]
    }
   ],
   "source": [
    "model.fit()"
   ]
  },
  {
   "cell_type": "code",
   "execution_count": 14,
   "id": "82418914",
   "metadata": {},
   "outputs": [
    {
     "name": "stdout",
     "output_type": "stream",
     "text": [
      "Predicting on train set.\n"
     ]
    },
    {
     "data": {
      "text/plain": [
       "array([0.5736672 , 0.5528785 , 0.5811836 , ..., 0.2786813 , 0.50549376,\n",
       "       0.670767  ], dtype=float32)"
      ]
     },
     "execution_count": 14,
     "metadata": {},
     "output_type": "execute_result"
    }
   ],
   "source": [
    "model.predict(dataset='train')"
   ]
  },
  {
   "cell_type": "code",
   "execution_count": 15,
   "id": "943c8c42",
   "metadata": {},
   "outputs": [
    {
     "data": {
      "text/html": [
       "<div>\n",
       "<style scoped>\n",
       "    .dataframe tbody tr th:only-of-type {\n",
       "        vertical-align: middle;\n",
       "    }\n",
       "\n",
       "    .dataframe tbody tr th {\n",
       "        vertical-align: top;\n",
       "    }\n",
       "\n",
       "    .dataframe thead th {\n",
       "        text-align: right;\n",
       "    }\n",
       "</style>\n",
       "<table border=\"1\" class=\"dataframe\">\n",
       "  <thead>\n",
       "    <tr style=\"text-align: right;\">\n",
       "      <th></th>\n",
       "      <th>zspec_bin</th>\n",
       "      <th>count</th>\n",
       "      <th>L</th>\n",
       "      <th>bias_bw</th>\n",
       "      <th>bias_conv</th>\n",
       "      <th>scatter_bw</th>\n",
       "      <th>scatter_conv</th>\n",
       "      <th>outlier_bw</th>\n",
       "      <th>outlier_conv</th>\n",
       "      <th>mse</th>\n",
       "    </tr>\n",
       "  </thead>\n",
       "  <tbody>\n",
       "    <tr>\n",
       "      <th>0</th>\n",
       "      <td>(0.0, 4.0]</td>\n",
       "      <td>171840</td>\n",
       "      <td>0.140199</td>\n",
       "      <td>0.001632</td>\n",
       "      <td>0.002707</td>\n",
       "      <td>0.048654</td>\n",
       "      <td>0.04132</td>\n",
       "      <td>0.15348</td>\n",
       "      <td>0.100466</td>\n",
       "      <td>0.073489</td>\n",
       "    </tr>\n",
       "  </tbody>\n",
       "</table>\n",
       "</div>"
      ],
      "text/plain": [
       "    zspec_bin   count         L   bias_bw  bias_conv  scatter_bw  \\\n",
       "0  (0.0, 4.0]  171840  0.140199  0.001632   0.002707    0.048654   \n",
       "\n",
       "   scatter_conv  outlier_bw  outlier_conv       mse  \n",
       "0       0.04132     0.15348      0.100466  0.073489  "
      ]
     },
     "execution_count": 15,
     "metadata": {},
     "output_type": "execute_result"
    }
   ],
   "source": [
    "model.print_metrics(dataset='train')"
   ]
  },
  {
   "cell_type": "code",
   "execution_count": 16,
   "id": "2cc9d9f8",
   "metadata": {},
   "outputs": [
    {
     "data": {
      "image/png": "[encoded data removed]",
      "text/plain": [
       "<Figure size 1296x576 with 1 Axes>"
      ]
     },
     "metadata": {},
     "output_type": "display_data"
    }
   ],
   "source": [
    "model.plot_metrics(dataset='train')"
   ]
  },
  {
   "cell_type": "markdown",
   "id": "b5f18634",
   "metadata": {},
   "source": [
    "# 6 Fine tune the model\n",
    "\n",
    "Most machine learning algorithms will have hyperparameters that can be tuned to improve the performance of the model given the specific dataset. You may also want to visualize the results of model predictions to aid in tuning the model."
   ]
  },
  {
   "cell_type": "code",
   "execution_count": 17,
   "id": "34accfee",
   "metadata": {},
   "outputs": [
    {
     "name": "stdout",
     "output_type": "stream",
     "text": [
      "Predicting on val set.\n"
     ]
    },
    {
     "data": {
      "text/plain": [
       "array([0.2272361 , 0.5685792 , 0.45165202, ..., 0.17935754, 0.37709334,\n",
       "       0.71913314], dtype=float32)"
      ]
     },
     "execution_count": 17,
     "metadata": {},
     "output_type": "execute_result"
    }
   ],
   "source": [
    "model.predict(dataset='val')\n",
    "model.preds_val"
   ]
  },
  {
   "cell_type": "code",
   "execution_count": 18,
   "id": "29e25bb4",
   "metadata": {},
   "outputs": [
    {
     "ename": "AttributeError",
     "evalue": "'RedshiftModel' object has no attribute 'id'",
     "output_type": "error",
     "traceback": [
      "\u001b[0;31m---------------------------------------------------------------------------\u001b[0m",
      "\u001b[0;31mAttributeError\u001b[0m                            Traceback (most recent call last)",
      "\u001b[0;32m<ipython-input-18-0083e850a86d>\u001b[0m in \u001b[0;36m<module>\u001b[0;34m\u001b[0m\n\u001b[0;32m----> 1\u001b[0;31m \u001b[0mmodel\u001b[0m\u001b[0;34m.\u001b[0m\u001b[0mprint_predictions\u001b[0m\u001b[0;34m(\u001b[0m\u001b[0mdataset\u001b[0m\u001b[0;34m=\u001b[0m\u001b[0;34m'val'\u001b[0m\u001b[0;34m)\u001b[0m\u001b[0;34m\u001b[0m\u001b[0;34m\u001b[0m\u001b[0m\n\u001b[0m",
      "\u001b[0;32m~/photoz/code/RedshiftModel.py\u001b[0m in \u001b[0;36mprint_predictions\u001b[0;34m(self, y_pred, y_true, dataset)\u001b[0m\n\u001b[1;32m    342\u001b[0m             \u001b[0;32mif\u001b[0m \u001b[0;34m(\u001b[0m\u001b[0my_pred\u001b[0m \u001b[0;32mis\u001b[0m \u001b[0;32mNone\u001b[0m\u001b[0;34m)\u001b[0m\u001b[0;34m:\u001b[0m\u001b[0;34m\u001b[0m\u001b[0;34m\u001b[0m\u001b[0m\n\u001b[1;32m    343\u001b[0m                 \u001b[0msys\u001b[0m\u001b[0;34m.\u001b[0m\u001b[0mexit\u001b[0m\u001b[0;34m(\u001b[0m\u001b[0;34m\"Prediction has not been done on this set.\"\u001b[0m\u001b[0;34m)\u001b[0m\u001b[0;34m\u001b[0m\u001b[0;34m\u001b[0m\u001b[0m\n\u001b[0;32m--> 344\u001b[0;31m         \u001b[0moutput_dict\u001b[0m \u001b[0;34m=\u001b[0m \u001b[0;34m{\u001b[0m\u001b[0;34m'object_id'\u001b[0m\u001b[0;34m:\u001b[0m \u001b[0mself\u001b[0m\u001b[0;34m.\u001b[0m\u001b[0mid\u001b[0m\u001b[0;34m,\u001b[0m \u001b[0;34m'X'\u001b[0m\u001b[0;34m:\u001b[0m \u001b[0mself\u001b[0m\u001b[0;34m.\u001b[0m\u001b[0mX\u001b[0m\u001b[0;34m,\u001b[0m \u001b[0;34m'y_true'\u001b[0m\u001b[0;34m:\u001b[0m \u001b[0mself\u001b[0m\u001b[0;34m.\u001b[0m\u001b[0my\u001b[0m\u001b[0;34m,\u001b[0m \u001b[0;34m'y_pred'\u001b[0m\u001b[0;34m:\u001b[0m \u001b[0mself\u001b[0m\u001b[0;34m.\u001b[0m\u001b[0mpreds\u001b[0m\u001b[0;34m}\u001b[0m\u001b[0;34m\u001b[0m\u001b[0;34m\u001b[0m\u001b[0m\n\u001b[0m\u001b[1;32m    345\u001b[0m         \u001b[0moutput_df\u001b[0m \u001b[0;34m=\u001b[0m \u001b[0mpd\u001b[0m\u001b[0;34m.\u001b[0m\u001b[0mDataFrame\u001b[0m\u001b[0;34m(\u001b[0m\u001b[0moutput_dict\u001b[0m\u001b[0;34m)\u001b[0m\u001b[0;34m\u001b[0m\u001b[0;34m\u001b[0m\u001b[0m\n\u001b[1;32m    346\u001b[0m         \u001b[0;32mreturn\u001b[0m \u001b[0moutput_df\u001b[0m\u001b[0;34m\u001b[0m\u001b[0;34m\u001b[0m\u001b[0m\n",
      "\u001b[0;31mAttributeError\u001b[0m: 'RedshiftModel' object has no attribute 'id'"
     ]
    }
   ],
   "source": [
    "model.print_predictions(dataset='val')"
   ]
  },
  {
   "cell_type": "markdown",
   "id": "aebc63c3",
   "metadata": {},
   "source": [
    "# 7 Present your solution and apply it\n",
    "\n",
    "Here you will evaluate your model against the test set that was set aside in Step 2 to determine the final performance metrics. Your model is now ready to be applied to new data."
   ]
  },
  {
   "cell_type": "code",
   "execution_count": null,
   "id": "882d7264",
   "metadata": {},
   "outputs": [],
   "source": []
  }
 ],
 "metadata": {
  "kernelspec": {
   "display_name": "Python [conda env:jupyterhub_tfp]",
   "language": "python",
   "name": "conda-env-jupyterhub_tfp-py"
  },
  "language_info": {
   "codemirror_mode": {
    "name": "ipython",
    "version": 3
   },
   "file_extension": ".py",
   "mimetype": "text/x-python",
   "name": "python",
   "nbconvert_exporter": "python",
   "pygments_lexer": "ipython3",
   "version": "3.7.1"
  }
 },
 "nbformat": 4,
 "nbformat_minor": 5
}
