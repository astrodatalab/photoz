{
 "cells": [
  {
   "cell_type": "code",
   "execution_count": 1,
   "id": "3c8bd418",
   "metadata": {},
   "outputs": [],
   "source": [
    "from astropy.io import fits\n",
    "import matplotlib.pyplot as plt\n",
    "import h5py\n",
    "import numpy as np\n",
    "import os\n",
    "import pandas as pd"
   ]
  },
  {
   "cell_type": "code",
   "execution_count": 2,
   "id": "455a201c",
   "metadata": {},
   "outputs": [],
   "source": [
    "image_list_g = sorted(os.listdir(\"../../data/HSC/HSC_v6/image_renamed/g_band\"))\n",
    "image_list_r = sorted(os.listdir(\"../../data/HSC/HSC_v6/image_renamed/r_band\"))\n",
    "image_list_i = sorted(os.listdir(\"../../data/HSC/HSC_v6/image_renamed/i_band\"))\n",
    "image_list_z = sorted(os.listdir(\"../../data/HSC/HSC_v6/image_renamed/z_band\"))\n",
    "image_list_y = sorted(os.listdir(\"../../data/HSC/HSC_v6/image_renamed/y_band\"))"
   ]
  },
  {
   "cell_type": "code",
   "execution_count": 3,
   "id": "59d7ae6a",
   "metadata": {},
   "outputs": [],
   "source": [
    "photozdata = pd.read_csv('/mnt/data/HSC/HSC_v6/HSC_v6.csv')"
   ]
  },
  {
   "cell_type": "markdown",
   "id": "02e4c33e",
   "metadata": {},
   "source": [
    "127x127"
   ]
  },
  {
   "cell_type": "code",
   "execution_count": 25,
   "id": "eee4f2fa",
   "metadata": {},
   "outputs": [],
   "source": [
    "hf = h5py.File('../../data/HSC/HSC_v6/five_band_image127x127.hdf5', 'r')"
   ]
  },
  {
   "cell_type": "code",
   "execution_count": 26,
   "id": "1c3bdd14",
   "metadata": {},
   "outputs": [],
   "source": [
    "for i in range(len(image_list_g)):\n",
    "\n",
    "    object_id = image_list_g[i][0:17]\n",
    "\n",
    "    five_band_image = []\n",
    "\n",
    "    image_g = fits.open(\"../../data/HSC/HSC_v6/image_renamed/g_band/\"+image_list_g[i])\n",
    "    image_r = fits.open(\"../../data/HSC/HSC_v6/image_renamed/g_band/\"+image_list_r[i])\n",
    "    image_i = fits.open(\"../../data/HSC/HSC_v6/image_renamed/g_band/\"+image_list_i[i])\n",
    "    image_z = fits.open(\"../../data/HSC/HSC_v6/image_renamed/g_band/\"+image_list_z[i])\n",
    "    image_y = fits.open(\"../../data/HSC/HSC_v6/image_renamed/g_band/\"+image_list_y[i])\n",
    "\n",
    "    image_g_data = image_g[1].data\n",
    "    image_r_data = image_r[1].data\n",
    "    image_i_data = image_i[1].data\n",
    "    image_z_data = image_z[1].data\n",
    "    image_y_data = image_y[1].data\n",
    "\n",
    "    pad1 = int((127-len(image_g_data))/2)\n",
    "    pad2 = 127-len(image_g_data)-pad1\n",
    "    pad3 = int((127-len(image_g_data[0]))/2)\n",
    "    pad4 = 127-len(image_g_data[0])-pad3\n",
    "\n",
    "\n",
    "    im_g = np.pad(image_g_data,((pad1,pad2),(pad3,pad4)),\"constant\",constant_values = ((0,0),(0,0)))\n",
    "    im_r = np.pad(image_r_data,((pad1,pad2),(pad3,pad4)),\"constant\",constant_values = ((0,0),(0,0)))\n",
    "    im_i = np.pad(image_i_data,((pad1,pad2),(pad3,pad4)),\"constant\",constant_values = ((0,0),(0,0)))\n",
    "    im_z = np.pad(image_z_data,((pad1,pad2),(pad3,pad4)),\"constant\",constant_values = ((0,0),(0,0)))\n",
    "    im_y = np.pad(image_y_data,((pad1,pad2),(pad3,pad4)),\"constant\",constant_values = ((0,0),(0,0)))\n",
    "\n",
    "    five_band_image.append(im_g)\n",
    "    five_band_image.append(im_r)\n",
    "    five_band_image.append(im_i)\n",
    "    five_band_image.append(im_z)\n",
    "    five_band_image.append(im_y)\n",
    "\n",
    "    five_band_image_reshape = np.reshape(np.array(five_band_image),[1,5,127,127])\n",
    "\n",
    "    filt = photozdata[\"object_id\"] == int(object_id)\n",
    "    photozdata_subset = photozdata[filt]\n",
    "    \n",
    "    specz = np.array(photozdata_subset[\"specz_redshift\"])[0]\n",
    "    specz_reshape = np.reshape(specz,[1,1])\n",
    "\n",
    "    if i == 0:\n",
    "        hf.create_dataset(\"image\",data = five_band_image_reshape,chunks = True,maxshape = (None,5,127,127))\n",
    "        hf.create_dataset(\"specz\",data = specz_reshape,chunks = True,maxshape = (None,1))\n",
    "\n",
    "    else:\n",
    "        hf['image'].resize((hf['image'].shape[0]+1), axis=0)\n",
    "        hf['image'][hf[\"image\"].shape[0]-1,:,:,:] = five_band_image\n",
    "\n",
    "        hf['specz'].resize((hf['specz'].shape[0]+1), axis=0)\n",
    "        hf['specz'][hf[\"specz\"].shape[0]-1,:] = specz\n",
    "\n",
    "\n",
    "    image_g.close()\n",
    "    image_r.close()\n",
    "    image_i.close()\n",
    "    image_z.close()\n",
    "    image_y.close()\n",
    "    "
   ]
  },
  {
   "cell_type": "markdown",
   "id": "0459f55e",
   "metadata": {},
   "source": [
    "120x120"
   ]
  },
  {
   "cell_type": "code",
   "execution_count": 83,
   "id": "9a379497",
   "metadata": {},
   "outputs": [],
   "source": [
    "hf = h5py.File('../../data/HSC/HSC_v6/five_band_image64x64.hdf5', 'r')"
   ]
  },
  {
   "cell_type": "code",
   "execution_count": 84,
   "id": "5e850f0c",
   "metadata": {},
   "outputs": [],
   "source": [
    "for i in range(len(image_list_g)):\n",
    "\n",
    "    object_id = image_list_g[i][0:17]\n",
    "\n",
    "    five_band_image = []\n",
    "\n",
    "    image_g = fits.open(\"../../data/HSC/HSC_v6/image_renamed/g_band/\"+image_list_g[i])\n",
    "    image_r = fits.open(\"../../data/HSC/HSC_v6/image_renamed/g_band/\"+image_list_r[i])\n",
    "    image_i = fits.open(\"../../data/HSC/HSC_v6/image_renamed/g_band/\"+image_list_i[i])\n",
    "    image_z = fits.open(\"../../data/HSC/HSC_v6/image_renamed/g_band/\"+image_list_z[i])\n",
    "    image_y = fits.open(\"../../data/HSC/HSC_v6/image_renamed/g_band/\"+image_list_y[i])\n",
    "\n",
    "    image_g_data = image_g[1].data\n",
    "    image_r_data = image_r[1].data\n",
    "    image_i_data = image_i[1].data\n",
    "    image_z_data = image_z[1].data\n",
    "    image_y_data = image_y[1].data\n",
    "\n",
    "    pad1 = int((127-len(image_g_data))/2)\n",
    "    pad2 = 127-len(image_g_data)-pad1\n",
    "    pad3 = int((127-len(image_g_data[0]))/2)\n",
    "    pad4 = 127-len(image_g_data[0])-pad3\n",
    "\n",
    "    im_g = np.pad(image_g_data,((pad1,pad2),(pad3,pad4)),\"constant\",constant_values = ((0,0),(0,0)))\n",
    "    im_r = np.pad(image_r_data,((pad1,pad2),(pad3,pad4)),\"constant\",constant_values = ((0,0),(0,0)))\n",
    "    im_i = np.pad(image_i_data,((pad1,pad2),(pad3,pad4)),\"constant\",constant_values = ((0,0),(0,0)))\n",
    "    im_z = np.pad(image_z_data,((pad1,pad2),(pad3,pad4)),\"constant\",constant_values = ((0,0),(0,0)))\n",
    "    im_y = np.pad(image_y_data,((pad1,pad2),(pad3,pad4)),\"constant\",constant_values = ((0,0),(0,0)))\n",
    "    \n",
    "    im_g = im_g[31:95,31:95]\n",
    "    im_r = im_r[31:95,31:95]\n",
    "    im_i = im_i[31:95,31:95]\n",
    "    im_z = im_z[31:95,31:95]\n",
    "    im_y = im_y[31:95,31:95]\n",
    "\n",
    "\n",
    "    five_band_image.append(im_g)\n",
    "    five_band_image.append(im_r)\n",
    "    five_band_image.append(im_i)\n",
    "    five_band_image.append(im_z)\n",
    "    five_band_image.append(im_y)\n",
    "\n",
    "    five_band_image_reshape = np.reshape(np.array(five_band_image),[1,5,64,64])\n",
    "\n",
    "    filt = photozdata[\"object_id\"] == int(object_id)\n",
    "    photozdata_subset = photozdata[filt]\n",
    "    \n",
    "    specz = np.array(photozdata_subset[\"specz_redshift\"])[0]\n",
    "    specz_reshape = np.reshape(specz,[1,1])\n",
    "\n",
    "    if i == 0:\n",
    "        hf.create_dataset(\"image\",data = five_band_image_reshape,chunks = True,maxshape = (None,5,64,64))\n",
    "        hf.create_dataset(\"specz\",data = specz_reshape,chunks = True,maxshape = (None,1))\n",
    "\n",
    "    else:\n",
    "        hf['image'].resize((hf['image'].shape[0]+1), axis=0)\n",
    "        hf['image'][hf[\"image\"].shape[0]-1,:,:,:] = five_band_image\n",
    "\n",
    "        hf['specz'].resize((hf['specz'].shape[0]+1), axis=0)\n",
    "        hf['specz'][hf[\"specz\"].shape[0]-1,:] = specz\n",
    "\n",
    "\n",
    "    image_g.close()\n",
    "    image_r.close()\n",
    "    image_i.close()\n",
    "    image_z.close()\n",
    "    image_y.close()"
   ]
  },
  {
   "cell_type": "code",
   "execution_count": 86,
   "id": "91c782b8",
   "metadata": {},
   "outputs": [],
   "source": [
    "hf = h5py.File('../../data/HSC/HSC_v6/five_band_image64x64.hdf5', 'r')"
   ]
  },
  {
   "cell_type": "code",
   "execution_count": 87,
   "id": "7de25c75",
   "metadata": {},
   "outputs": [
    {
     "data": {
      "text/plain": [
       "<HDF5 dataset \"specz\": shape (286401, 1), type \"<f8\">"
      ]
     },
     "execution_count": 87,
     "metadata": {},
     "output_type": "execute_result"
    }
   ],
   "source": [
    "hf[\"specz\"]"
   ]
  },
  {
   "cell_type": "code",
   "execution_count": 88,
   "id": "d549d376",
   "metadata": {},
   "outputs": [
    {
     "data": {
      "text/plain": [
       "<HDF5 dataset \"image\": shape (286401, 5, 64, 64), type \"<f4\">"
      ]
     },
     "execution_count": 88,
     "metadata": {},
     "output_type": "execute_result"
    }
   ],
   "source": [
    "hf[\"image\"]"
   ]
  },
  {
   "cell_type": "code",
   "execution_count": 65,
   "id": "2771c519",
   "metadata": {},
   "outputs": [
    {
     "data": {
      "text/plain": [
       "array([[0., 0., 0., ..., 0., 0., 0.],\n",
       "       [0., 0., 0., ..., 0., 0., 0.],\n",
       "       [0., 0., 0., ..., 0., 0., 0.],\n",
       "       ...,\n",
       "       [0., 0., 0., ..., 0., 0., 0.],\n",
       "       [0., 0., 0., ..., 0., 0., 0.],\n",
       "       [0., 0., 0., ..., 0., 0., 0.]], dtype=float32)"
      ]
     },
     "execution_count": 65,
     "metadata": {},
     "output_type": "execute_result"
    }
   ],
   "source": [
    "image_g = fits.open(\"../../data/HSC/HSC_v6/image_renamed/g_band/\"+image_list_g[0])\n",
    "image_g_data = image_g[1].data\n"
   ]
  },
  {
   "cell_type": "code",
   "execution_count": 89,
   "id": "7e0a561c",
   "metadata": {},
   "outputs": [
    {
     "data": {
      "text/plain": [
       "<matplotlib.image.AxesImage at 0x7ffa45fb3cd0>"
      ]
     },
     "execution_count": 89,
     "metadata": {},
     "output_type": "execute_result"
    },
    {
     "data": {
      "image/png": "[encoded data removed]",
      "text/plain": [
       "<Figure size 432x288 with 1 Axes>"
      ]
     },
     "metadata": {
      "needs_background": "light"
     },
     "output_type": "display_data"
    }
   ],
   "source": [
    "plt.imshow(hf[\"image\"][0,0,:,:])"
   ]
  },
  {
   "cell_type": "code",
   "execution_count": 90,
   "id": "9c99fdc7",
   "metadata": {},
   "outputs": [],
   "source": [
    "hf.close()"
   ]
  },
  {
   "cell_type": "code",
   "execution_count": 374,
   "id": "fd15798d",
   "metadata": {},
   "outputs": [
    {
     "data": {
      "text/plain": [
       "120"
      ]
     },
     "execution_count": 374,
     "metadata": {},
     "output_type": "execute_result"
    }
   ],
   "source": [
    "image_g = fits.open(\"../../data/HSC/HSC_v6/image_renamed/g_band/36407054788744371.fits\")\n",
    "image_g_data = image_g[1].data\n",
    "im = image_g_data[0:120,0:120]\n",
    "len(im[0])"
   ]
  }
 ],
 "metadata": {
  "kernelspec": {
   "display_name": "Python 3",
   "language": "python",
   "name": "python3"
  },
  "language_info": {
   "codemirror_mode": {
    "name": "ipython",
    "version": 3
   },
   "file_extension": ".py",
   "mimetype": "text/x-python",
   "name": "python",
   "nbconvert_exporter": "python",
   "pygments_lexer": "ipython3",
   "version": "3.8.10"
  }
 },
 "nbformat": 4,
 "nbformat_minor": 5
}
