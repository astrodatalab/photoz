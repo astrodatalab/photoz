{
 "cells": [
  {
   "cell_type": "code",
   "execution_count": 31,
   "id": "5eb1d7d9",
   "metadata": {},
   "outputs": [
    {
     "name": "stdout",
     "output_type": "stream",
     "text": [
      "Num GPUs Available:  1\n"
     ]
    }
   ],
   "source": [
    "import tensorflow as tf\n",
    "import tensorflow_probability as tfp\n",
    "import pandas as pd\n",
    "import random\n",
    "print(\"Num GPUs Available: \", len(tf.config.list_physical_devices('GPU')))\n",
    "from sklearn.metrics import mean_squared_error\n",
    "import matplotlib.pyplot as plt\n",
    "\n",
    "import numpy as np\n",
    "from tensorflow import keras\n",
    "from sklearn.model_selection import train_test_split\n",
    "\n",
    "import keras\n",
    "from keras.models import Sequential,Input,Model\n",
    "from keras.layers import Dense, Dropout, Flatten"
   ]
  },
  {
   "cell_type": "code",
   "execution_count": 32,
   "id": "177bd8c5",
   "metadata": {},
   "outputs": [
    {
     "name": "stdout",
     "output_type": "stream",
     "text": [
      "1 Physical GPUs, 1 Logical GPUs\n"
     ]
    }
   ],
   "source": [
    "gpus = tf.config.list_physical_devices('GPU')\n",
    "if gpus:\n",
    "  # Restrict TensorFlow to only allocate 1GB of memory on the first GPU\n",
    "  try:\n",
    "    tf.config.experimental.set_virtual_device_configuration(\n",
    "        gpus[0],\n",
    "        [tf.config.experimental.VirtualDeviceConfiguration(memory_limit=5000)])\n",
    "    logical_gpus = tf.config.experimental.list_logical_devices('GPU')\n",
    "    print(len(gpus), \"Physical GPUs,\", len(logical_gpus), \"Logical GPUs\")\n",
    "  except RuntimeError as e:\n",
    "    # Virtual devices must be set before GPUs have been initialized\n",
    "    print(e)"
   ]
  },
  {
   "cell_type": "code",
   "execution_count": 33,
   "id": "481ff0df",
   "metadata": {},
   "outputs": [],
   "source": [
    "photozdata = pd.read_csv('/mnt/data/HSC/HSC_v6/HSC_v6.csv')"
   ]
  },
  {
   "cell_type": "code",
   "execution_count": 34,
   "id": "c77d1d2a",
   "metadata": {},
   "outputs": [],
   "source": [
    "# filter & duplicate drop from bayesian_nn\n",
    "z_max = 2.5\n",
    "filt = (photozdata['specz_redshift'] < z_max)\\\n",
    "& (photozdata['specz_redshift'] > 0.01)\\\n",
    "& (photozdata['specz_redshift_err'] > 0) \\\n",
    "& (photozdata['specz_redshift_err'] < 1)\\\n",
    "&(photozdata[\"specz_redshift_err\"]<0.005*(1+photozdata[\"specz_redshift\"]))\\\n",
    "&(photozdata['g_cmodel_mag'] >0)\\\n",
    "&(photozdata['r_cmodel_mag'] >0)\\\n",
    "&(photozdata['i_cmodel_mag'] >0)\\\n",
    "&(photozdata['z_cmodel_mag'] >0)\\\n",
    "&(photozdata['y_cmodel_mag'] >0)\\\n",
    "&(photozdata['g_cmodel_mag'] < 100)\\\n",
    "&(photozdata['r_cmodel_mag'] < 100)\\\n",
    "&(photozdata['i_cmodel_mag'] < 100)\\\n",
    "&(photozdata['z_cmodel_mag'] < 100)\\\n",
    "&(photozdata['y_cmodel_mag'] < 100)\\\n",
    "&(photozdata['specz_flag_homogeneous'] == True)\n",
    "photozdata.drop_duplicates(subset=['object_id'])\n",
    "photozdata_subset = np.asarray(photozdata[filt])"
   ]
  },
  {
   "cell_type": "code",
   "execution_count": 35,
   "id": "545abf32",
   "metadata": {},
   "outputs": [
    {
     "data": {
      "text/plain": [
       "Index(['object_id', 'specz_redshift_err', 'specz_redshift', 'specz_mag_i',\n",
       "       'specz_name', 'specz_ra', 'specz_dec', 'specz_flag_homogeneous', 'ra',\n",
       "       'dec', 'coord', 'skymap_id', 'g_cmodel_mag', 'r_cmodel_mag',\n",
       "       'i_cmodel_mag', 'z_cmodel_mag', 'y_cmodel_mag', 'g_cmodel_magsigma',\n",
       "       'r_cmodel_magsigma', 'i_cmodel_magsigma', 'z_cmodel_magsigma',\n",
       "       'y_cmodel_magsigma'],\n",
       "      dtype='object')"
      ]
     },
     "execution_count": 35,
     "metadata": {},
     "output_type": "execute_result"
    }
   ],
   "source": [
    "photozdata.columns"
   ]
  },
  {
   "cell_type": "code",
   "execution_count": 36,
   "id": "4b4d489b",
   "metadata": {},
   "outputs": [],
   "source": [
    "random.shuffle(photozdata_subset)\n",
    "random.shuffle(photozdata_subset)\n",
    "random.shuffle(photozdata_subset)\n",
    "random.shuffle(photozdata_subset)\n",
    "random.shuffle(photozdata_subset)\n",
    "# shuffle the data"
   ]
  },
  {
   "cell_type": "code",
   "execution_count": 37,
   "id": "5554ad62",
   "metadata": {},
   "outputs": [
    {
     "name": "stdout",
     "output_type": "stream",
     "text": [
      "280173\n"
     ]
    }
   ],
   "source": [
    "n = len(photozdata_subset)\n",
    "print(n)"
   ]
  },
  {
   "cell_type": "code",
   "execution_count": 38,
   "id": "a2d5cf99",
   "metadata": {},
   "outputs": [],
   "source": [
    "count = 6 # number of networks, including the BNN"
   ]
  },
  {
   "cell_type": "code",
   "execution_count": 39,
   "id": "b49f9d2b",
   "metadata": {},
   "outputs": [],
   "source": [
    "# split data into 6/7 bins of training sets of 40000 and 1 bin of testing set of 6401\n",
    "X = []\n",
    "y = []\n",
    "\n",
    "pre = 0\n",
    "per = 39999\n",
    "\n",
    "for i in range(0,count):\n",
    "    X.append(np.asarray(photozdata_subset[pre:per + 1][:,[12,13,14,15,16]]).astype('float32'))\n",
    "    y.append(np.asarray(photozdata_subset[pre:per + 1][:,2]).astype('float32'))\n",
    "    pre = per + 1\n",
    "    per = per + 40000\n",
    "\n",
    "X_test = np.asarray(photozdata_subset[pre : pre + 5000][:,[12,13,14,15,16]]).astype('float32')\n",
    "y_test = np.asarray(photozdata_subset[pre : pre + 5000][:,2]).astype('float32')\n",
    "\n",
    "X_pre = np.asarray(photozdata_subset[0 : pre][:,[12,13,14,15,16]]).astype('float32')\n",
    "y_pre = np.asarray(photozdata_subset[0 : pre][:,2]).astype('float32')"
   ]
  },
  {
   "cell_type": "code",
   "execution_count": 40,
   "id": "f4112cae",
   "metadata": {},
   "outputs": [],
   "source": [
    "models = []\n",
    "\n",
    "for i in range(1,count):\n",
    "    input_ = tf.keras.layers.Input(shape=X[0].shape[1:])\n",
    "    hidden1 = tf.keras.layers.Dense(200, activation=\"relu\")(input_)\n",
    "    hidden2 = tf.keras.layers.Dense(200, activation=\"relu\")(hidden1)\n",
    "    hidden3 = tf.keras.layers.Dense(200, activation=\"relu\")(hidden2)\n",
    "    hidden4 = tf.keras.layers.Dense(200, activation=\"relu\")(hidden3)\n",
    "    # hidden5 = tf.keras.layers.Dense(200, activation=\"relu\")(hidden4)\n",
    "    # hidden6 = tf.keras.layers.Dense(200, activation=\"relu\")(hidden5)\n",
    "    concat = tf.keras.layers.Concatenate()([input_, hidden4])\n",
    "    output = tf.keras.layers.Dense(1)(concat)\n",
    "    model = tf.keras.Model(inputs=[input_], outputs=[output])\n",
    "    model.compile(optimizer='Adam', loss=\"mse\",metrics=[tf.keras.metrics.MeanAbsoluteError()])\n",
    "    models.append(model)\n",
    "    \n",
    "input_ = tf.keras.layers.Input(shape=X[0].shape[1:])\n",
    "hidden1 = tf.keras.layers.Dense(200, activation=\"relu\")(input_)\n",
    "hidden2 = tf.keras.layers.Dense(200, activation=\"relu\")(hidden1)\n",
    "hidden3 = tf.keras.layers.Dense(200, activation=\"relu\")(hidden2)\n",
    "hidden4 = tf.keras.layers.Dense(200, activation=\"relu\")(hidden3)\n",
    "hidden5 = tf.keras.layers.Dense(200, activation=\"relu\")(hidden4)\n",
    "hidden6 = tf.keras.layers.Dense(200, activation=\"relu\")(hidden5)\n",
    "concat = tf.keras.layers.Concatenate()([input_, hidden6])\n",
    "output = tf.keras.layers.Dense(1)(concat)\n",
    "model_pre = tf.keras.Model(inputs=[input_], outputs=[output])\n",
    "model_pre.compile(optimizer='Adam', loss=\"mse\",metrics=[tf.keras.metrics.MeanAbsoluteError()])"
   ]
  },
  {
   "cell_type": "code",
   "execution_count": 41,
   "id": "41361cff",
   "metadata": {},
   "outputs": [],
   "source": [
    "# model_pre.fit(X_pre,y_pre,epochs=50,shuffle = True,verbose=1)"
   ]
  },
  {
   "cell_type": "code",
   "execution_count": 42,
   "id": "b89c8b1a",
   "metadata": {},
   "outputs": [
    {
     "name": "stdout",
     "output_type": "stream",
     "text": [
      "Epoch 1/25\n",
      "1250/1250 [==============================] - 2s 1ms/step - loss: 0.1413 - mean_absolute_error: 0.2586\n",
      "Epoch 2/25\n",
      "1250/1250 [==============================] - 2s 1ms/step - loss: 0.0726 - mean_absolute_error: 0.1597\n",
      "Epoch 3/25\n",
      "1250/1250 [==============================] - 2s 1ms/step - loss: 0.0614 - mean_absolute_error: 0.1364\n",
      "Epoch 4/25\n",
      "1250/1250 [==============================] - 2s 1ms/step - loss: 0.0595 - mean_absolute_error: 0.1339\n",
      "Epoch 5/25\n",
      "1250/1250 [==============================] - 2s 1ms/step - loss: 0.0600 - mean_absolute_error: 0.1340\n",
      "Epoch 6/25\n",
      "1250/1250 [==============================] - 2s 1ms/step - loss: 0.0576 - mean_absolute_error: 0.1271\n",
      "Epoch 7/25\n",
      "1250/1250 [==============================] - 2s 1ms/step - loss: 0.0564 - mean_absolute_error: 0.1267\n",
      "Epoch 8/25\n",
      "1250/1250 [==============================] - 2s 1ms/step - loss: 0.0565 - mean_absolute_error: 0.1255\n",
      "Epoch 9/25\n",
      "1250/1250 [==============================] - 2s 1ms/step - loss: 0.0551 - mean_absolute_error: 0.1211\n",
      "Epoch 10/25\n",
      "1250/1250 [==============================] - 2s 1ms/step - loss: 0.0548 - mean_absolute_error: 0.1199\n",
      "Epoch 11/25\n",
      "1250/1250 [==============================] - 2s 1ms/step - loss: 0.0546 - mean_absolute_error: 0.1184\n",
      "Epoch 12/25\n",
      "1250/1250 [==============================] - 2s 1ms/step - loss: 0.0546 - mean_absolute_error: 0.1198\n",
      "Epoch 13/25\n",
      "1250/1250 [==============================] - 2s 1ms/step - loss: 0.0548 - mean_absolute_error: 0.1205\n",
      "Epoch 14/25\n",
      "1250/1250 [==============================] - 2s 1ms/step - loss: 0.0557 - mean_absolute_error: 0.1225\n",
      "Epoch 15/25\n",
      "1250/1250 [==============================] - 2s 1ms/step - loss: 0.0539 - mean_absolute_error: 0.1178\n",
      "Epoch 16/25\n",
      "1250/1250 [==============================] - 2s 1ms/step - loss: 0.0543 - mean_absolute_error: 0.1184\n",
      "Epoch 17/25\n",
      "1250/1250 [==============================] - 2s 1ms/step - loss: 0.0548 - mean_absolute_error: 0.1203\n",
      "Epoch 18/25\n",
      "1250/1250 [==============================] - 2s 1ms/step - loss: 0.0817 - mean_absolute_error: 0.1529\n",
      "Epoch 19/25\n",
      "1250/1250 [==============================] - 2s 1ms/step - loss: 0.0704 - mean_absolute_error: 0.1505\n",
      "Epoch 20/25\n",
      "1250/1250 [==============================] - 2s 1ms/step - loss: 0.0639 - mean_absolute_error: 0.1410\n",
      "Epoch 21/25\n",
      "1250/1250 [==============================] - 2s 1ms/step - loss: 0.0599 - mean_absolute_error: 0.1295\n",
      "Epoch 22/25\n",
      "1250/1250 [==============================] - 2s 1ms/step - loss: 0.0567 - mean_absolute_error: 0.1177\n",
      "Epoch 23/25\n",
      "1250/1250 [==============================] - 2s 1ms/step - loss: 0.0552 - mean_absolute_error: 0.1122\n",
      "Epoch 24/25\n",
      "1250/1250 [==============================] - 2s 1ms/step - loss: 0.0539 - mean_absolute_error: 0.1110\n",
      "Epoch 25/25\n",
      "1250/1250 [==============================] - 2s 1ms/step - loss: 0.0548 - mean_absolute_error: 0.1120\n",
      "Epoch 1/25\n",
      "1250/1250 [==============================] - 2s 1ms/step - loss: 0.2126 - mean_absolute_error: 0.3008\n",
      "Epoch 2/25\n",
      "1250/1250 [==============================] - 2s 1ms/step - loss: 0.1067 - mean_absolute_error: 0.2123\n",
      "Epoch 3/25\n",
      "1250/1250 [==============================] - 2s 1ms/step - loss: 0.0857 - mean_absolute_error: 0.1701\n",
      "Epoch 4/25\n",
      "1250/1250 [==============================] - 2s 1ms/step - loss: 0.0781 - mean_absolute_error: 0.1530\n",
      "Epoch 5/25\n",
      "1250/1250 [==============================] - 2s 1ms/step - loss: 0.0748 - mean_absolute_error: 0.1430\n",
      "Epoch 6/25\n",
      "1250/1250 [==============================] - 2s 1ms/step - loss: 0.0733 - mean_absolute_error: 0.1414\n",
      "Epoch 7/25\n",
      "1250/1250 [==============================] - 2s 1ms/step - loss: 0.0820 - mean_absolute_error: 0.1605\n",
      "Epoch 8/25\n",
      "1250/1250 [==============================] - 2s 1ms/step - loss: 0.0738 - mean_absolute_error: 0.1425\n",
      "Epoch 9/25\n",
      "1250/1250 [==============================] - 2s 1ms/step - loss: 0.0730 - mean_absolute_error: 0.1405\n",
      "Epoch 10/25\n",
      "1250/1250 [==============================] - 2s 1ms/step - loss: 0.0699 - mean_absolute_error: 0.1337\n",
      "Epoch 11/25\n",
      "1250/1250 [==============================] - 2s 1ms/step - loss: 0.0688 - mean_absolute_error: 0.1323\n",
      "Epoch 12/25\n",
      "1250/1250 [==============================] - 2s 1ms/step - loss: 0.0683 - mean_absolute_error: 0.1311\n",
      "Epoch 13/25\n",
      "1250/1250 [==============================] - 2s 1ms/step - loss: 0.0690 - mean_absolute_error: 0.1330\n",
      "Epoch 14/25\n",
      "1250/1250 [==============================] - 2s 1ms/step - loss: 0.0689 - mean_absolute_error: 0.1321\n",
      "Epoch 15/25\n",
      "1250/1250 [==============================] - 2s 1ms/step - loss: 0.0671 - mean_absolute_error: 0.1278\n",
      "Epoch 16/25\n",
      "1250/1250 [==============================] - 2s 1ms/step - loss: 0.0675 - mean_absolute_error: 0.1301\n",
      "Epoch 17/25\n",
      "1250/1250 [==============================] - 2s 1ms/step - loss: 0.0676 - mean_absolute_error: 0.1289\n",
      "Epoch 18/25\n",
      "1250/1250 [==============================] - 2s 1ms/step - loss: 0.0672 - mean_absolute_error: 0.1267\n",
      "Epoch 19/25\n",
      "1250/1250 [==============================] - 2s 1ms/step - loss: 0.0684 - mean_absolute_error: 0.1303\n",
      "Epoch 20/25\n",
      "1250/1250 [==============================] - 2s 1ms/step - loss: 0.0691 - mean_absolute_error: 0.1326\n",
      "Epoch 21/25\n",
      "1250/1250 [==============================] - 2s 1ms/step - loss: 0.0678 - mean_absolute_error: 0.1304\n",
      "Epoch 22/25\n",
      "1250/1250 [==============================] - 2s 1ms/step - loss: 0.0681 - mean_absolute_error: 0.1309\n",
      "Epoch 23/25\n",
      "1250/1250 [==============================] - 2s 1ms/step - loss: 0.0669 - mean_absolute_error: 0.1262\n",
      "Epoch 24/25\n",
      "1250/1250 [==============================] - 2s 1ms/step - loss: 0.0680 - mean_absolute_error: 0.1272\n",
      "Epoch 25/25\n",
      "1250/1250 [==============================] - 2s 1ms/step - loss: 0.0675 - mean_absolute_error: 0.1283\n",
      "Epoch 1/25\n",
      "1250/1250 [==============================] - 2s 1ms/step - loss: 0.1678 - mean_absolute_error: 0.2747\n",
      "Epoch 2/25\n",
      "1250/1250 [==============================] - 2s 1ms/step - loss: 0.0941 - mean_absolute_error: 0.1768\n",
      "Epoch 3/25\n",
      "1250/1250 [==============================] - 2s 1ms/step - loss: 0.0862 - mean_absolute_error: 0.1521\n",
      "Epoch 4/25\n",
      "1250/1250 [==============================] - 2s 1ms/step - loss: 0.0812 - mean_absolute_error: 0.1435\n",
      "Epoch 5/25\n",
      "1250/1250 [==============================] - 2s 1ms/step - loss: 0.0785 - mean_absolute_error: 0.1387\n",
      "Epoch 6/25\n",
      "1250/1250 [==============================] - 2s 1ms/step - loss: 0.0783 - mean_absolute_error: 0.1395\n",
      "Epoch 7/25\n",
      "1250/1250 [==============================] - 2s 1ms/step - loss: 0.0792 - mean_absolute_error: 0.1425\n",
      "Epoch 8/25\n",
      "1250/1250 [==============================] - 2s 1ms/step - loss: 0.0780 - mean_absolute_error: 0.1392\n",
      "Epoch 9/25\n",
      "1250/1250 [==============================] - 2s 1ms/step - loss: 0.0748 - mean_absolute_error: 0.1384\n",
      "Epoch 10/25\n",
      "1250/1250 [==============================] - 2s 1ms/step - loss: 0.0750 - mean_absolute_error: 0.1387\n",
      "Epoch 11/25\n",
      "1250/1250 [==============================] - 2s 1ms/step - loss: 0.0749 - mean_absolute_error: 0.1361\n",
      "Epoch 12/25\n",
      "1250/1250 [==============================] - 2s 1ms/step - loss: 0.0741 - mean_absolute_error: 0.1350\n",
      "Epoch 13/25\n",
      "1250/1250 [==============================] - 2s 1ms/step - loss: 0.0741 - mean_absolute_error: 0.1350\n",
      "Epoch 14/25\n",
      "1250/1250 [==============================] - 2s 1ms/step - loss: 0.0736 - mean_absolute_error: 0.1336\n",
      "Epoch 15/25\n",
      "1250/1250 [==============================] - 2s 1ms/step - loss: 0.0731 - mean_absolute_error: 0.1359A: 0s - loss: 0.0696 - mean_absolute_err\n",
      "Epoch 16/25\n",
      "1250/1250 [==============================] - 2s 1ms/step - loss: 0.0738 - mean_absolute_error: 0.1349\n",
      "Epoch 17/25\n",
      "1250/1250 [==============================] - 2s 1ms/step - loss: 0.0713 - mean_absolute_error: 0.1317\n",
      "Epoch 18/25\n",
      "1250/1250 [==============================] - 2s 1ms/step - loss: 0.0709 - mean_absolute_error: 0.1329\n",
      "Epoch 19/25\n",
      "1250/1250 [==============================] - 2s 1ms/step - loss: 0.0715 - mean_absolute_error: 0.1317\n",
      "Epoch 20/25\n",
      "1250/1250 [==============================] - 2s 1ms/step - loss: 0.0732 - mean_absolute_error: 0.1336\n",
      "Epoch 21/25\n",
      "1250/1250 [==============================] - 2s 1ms/step - loss: 0.0725 - mean_absolute_error: 0.1331\n",
      "Epoch 22/25\n"
     ]
    },
    {
     "name": "stdout",
     "output_type": "stream",
     "text": [
      "1250/1250 [==============================] - 2s 1ms/step - loss: 0.0726 - mean_absolute_error: 0.1320\n",
      "Epoch 23/25\n",
      "1250/1250 [==============================] - 2s 1ms/step - loss: 0.0705 - mean_absolute_error: 0.1305\n",
      "Epoch 24/25\n",
      "1250/1250 [==============================] - 2s 1ms/step - loss: 0.0704 - mean_absolute_error: 0.1322\n",
      "Epoch 25/25\n",
      "1250/1250 [==============================] - 2s 1ms/step - loss: 0.0702 - mean_absolute_error: 0.1295\n",
      "Epoch 1/25\n",
      "1250/1250 [==============================] - 2s 1ms/step - loss: 0.1809 - mean_absolute_error: 0.2915\n",
      "Epoch 2/25\n",
      "1250/1250 [==============================] - 2s 1ms/step - loss: 0.1148 - mean_absolute_error: 0.2136\n",
      "Epoch 3/25\n",
      "1250/1250 [==============================] - 2s 1ms/step - loss: 0.0887 - mean_absolute_error: 0.1593\n",
      "Epoch 4/25\n",
      "1250/1250 [==============================] - 2s 1ms/step - loss: 0.0876 - mean_absolute_error: 0.1584\n",
      "Epoch 5/25\n",
      "1250/1250 [==============================] - 2s 1ms/step - loss: 0.0863 - mean_absolute_error: 0.1568\n",
      "Epoch 6/25\n",
      "1250/1250 [==============================] - 2s 1ms/step - loss: 0.0862 - mean_absolute_error: 0.1585\n",
      "Epoch 7/25\n",
      "1250/1250 [==============================] - 2s 1ms/step - loss: 0.0822 - mean_absolute_error: 0.1491\n",
      "Epoch 8/25\n",
      "1250/1250 [==============================] - 2s 1ms/step - loss: 0.0835 - mean_absolute_error: 0.1524\n",
      "Epoch 9/25\n",
      "1250/1250 [==============================] - 2s 1ms/step - loss: 0.0835 - mean_absolute_error: 0.1533\n",
      "Epoch 10/25\n",
      "1250/1250 [==============================] - 2s 1ms/step - loss: 0.0824 - mean_absolute_error: 0.1490\n",
      "Epoch 11/25\n",
      "1250/1250 [==============================] - 2s 1ms/step - loss: 0.0799 - mean_absolute_error: 0.1460\n",
      "Epoch 12/25\n",
      "1250/1250 [==============================] - 2s 1ms/step - loss: 0.0815 - mean_absolute_error: 0.1497\n",
      "Epoch 13/25\n",
      "1250/1250 [==============================] - 2s 1ms/step - loss: 0.0798 - mean_absolute_error: 0.1456\n",
      "Epoch 14/25\n",
      "1250/1250 [==============================] - 2s 1ms/step - loss: 0.0788 - mean_absolute_error: 0.1450\n",
      "Epoch 15/25\n",
      "1250/1250 [==============================] - 2s 1ms/step - loss: 0.0799 - mean_absolute_error: 0.1471\n",
      "Epoch 16/25\n",
      "1250/1250 [==============================] - 2s 1ms/step - loss: 0.0800 - mean_absolute_error: 0.1458\n",
      "Epoch 17/25\n",
      "1250/1250 [==============================] - 2s 1ms/step - loss: 0.0790 - mean_absolute_error: 0.1451\n",
      "Epoch 18/25\n",
      "1250/1250 [==============================] - 2s 1ms/step - loss: 0.0780 - mean_absolute_error: 0.1425\n",
      "Epoch 19/25\n",
      "1250/1250 [==============================] - 2s 1ms/step - loss: 0.0755 - mean_absolute_error: 0.1391\n",
      "Epoch 20/25\n",
      "1250/1250 [==============================] - 2s 1ms/step - loss: 0.0763 - mean_absolute_error: 0.1392\n",
      "Epoch 21/25\n",
      "1250/1250 [==============================] - 2s 1ms/step - loss: 0.0786 - mean_absolute_error: 0.1458\n",
      "Epoch 22/25\n",
      "1250/1250 [==============================] - 2s 1ms/step - loss: 0.0768 - mean_absolute_error: 0.1438\n",
      "Epoch 23/25\n",
      "1250/1250 [==============================] - 2s 1ms/step - loss: 0.0762 - mean_absolute_error: 0.1406\n",
      "Epoch 24/25\n",
      "1250/1250 [==============================] - 2s 1ms/step - loss: 0.0767 - mean_absolute_error: 0.1415\n",
      "Epoch 25/25\n",
      "1250/1250 [==============================] - 2s 1ms/step - loss: 0.0762 - mean_absolute_error: 0.1431\n",
      "Epoch 1/25\n",
      "1250/1250 [==============================] - 2s 1ms/step - loss: 0.2823 - mean_absolute_error: 0.3264\n",
      "Epoch 2/25\n",
      "1250/1250 [==============================] - 2s 1ms/step - loss: 0.1283 - mean_absolute_error: 0.2401\n",
      "Epoch 3/25\n",
      "1250/1250 [==============================] - 2s 1ms/step - loss: 0.1095 - mean_absolute_error: 0.2068\n",
      "Epoch 4/25\n",
      "1250/1250 [==============================] - 2s 1ms/step - loss: 0.0985 - mean_absolute_error: 0.1836\n",
      "Epoch 5/25\n",
      "1250/1250 [==============================] - 2s 1ms/step - loss: 0.0922 - mean_absolute_error: 0.1654\n",
      "Epoch 6/25\n",
      "1250/1250 [==============================] - 2s 1ms/step - loss: 0.0890 - mean_absolute_error: 0.1572\n",
      "Epoch 7/25\n",
      "1250/1250 [==============================] - 2s 1ms/step - loss: 0.0855 - mean_absolute_error: 0.1474\n",
      "Epoch 8/25\n",
      "1250/1250 [==============================] - 2s 1ms/step - loss: 0.0855 - mean_absolute_error: 0.1493\n",
      "Epoch 9/25\n",
      "1250/1250 [==============================] - 2s 1ms/step - loss: 0.0816 - mean_absolute_error: 0.1422\n",
      "Epoch 10/25\n",
      "1250/1250 [==============================] - 2s 1ms/step - loss: 0.0825 - mean_absolute_error: 0.1446\n",
      "Epoch 11/25\n",
      "1250/1250 [==============================] - 2s 1ms/step - loss: 0.0838 - mean_absolute_error: 0.1479\n",
      "Epoch 12/25\n",
      "1250/1250 [==============================] - 2s 1ms/step - loss: 0.0809 - mean_absolute_error: 0.1429\n",
      "Epoch 13/25\n",
      "1250/1250 [==============================] - 2s 1ms/step - loss: 0.0804 - mean_absolute_error: 0.1411\n",
      "Epoch 14/25\n",
      "1250/1250 [==============================] - 2s 1ms/step - loss: 0.0802 - mean_absolute_error: 0.1402\n",
      "Epoch 15/25\n",
      "1250/1250 [==============================] - 2s 1ms/step - loss: 0.0834 - mean_absolute_error: 0.1474\n",
      "Epoch 16/25\n",
      "1250/1250 [==============================] - 2s 1ms/step - loss: 0.0795 - mean_absolute_error: 0.1381\n",
      "Epoch 17/25\n",
      "1250/1250 [==============================] - 2s 1ms/step - loss: 0.0808 - mean_absolute_error: 0.1411\n",
      "Epoch 18/25\n",
      "1250/1250 [==============================] - 2s 1ms/step - loss: 0.0788 - mean_absolute_error: 0.1385\n",
      "Epoch 19/25\n",
      "1250/1250 [==============================] - 2s 1ms/step - loss: 0.0795 - mean_absolute_error: 0.1397\n",
      "Epoch 20/25\n",
      "1250/1250 [==============================] - 2s 1ms/step - loss: 0.0774 - mean_absolute_error: 0.1370\n",
      "Epoch 21/25\n",
      "1250/1250 [==============================] - 2s 1ms/step - loss: 0.0787 - mean_absolute_error: 0.1395\n",
      "Epoch 22/25\n",
      "1250/1250 [==============================] - 2s 1ms/step - loss: 0.0772 - mean_absolute_error: 0.1360\n",
      "Epoch 23/25\n",
      "1250/1250 [==============================] - 2s 1ms/step - loss: 0.0774 - mean_absolute_error: 0.1391\n",
      "Epoch 24/25\n",
      "1250/1250 [==============================] - 2s 1ms/step - loss: 0.0762 - mean_absolute_error: 0.1350\n",
      "Epoch 25/25\n",
      "1250/1250 [==============================] - 2s 1ms/step - loss: 0.0779 - mean_absolute_error: 0.1368\n"
     ]
    }
   ],
   "source": [
    "for i in range(0,count - 1):\n",
    "    models[i].fit(X[i],y[i],epochs=25,shuffle = True,verbose=1)"
   ]
  },
  {
   "cell_type": "markdown",
   "id": "4443bf6e",
   "metadata": {},
   "source": [
    "y_predict_pre = []\n",
    "for i in range(0,len(X_test)):\n",
    "        predicted = model_pre.predict(np.array([X_test[i]]))\n",
    "        y_predict_pre.append(float(predicted))"
   ]
  },
  {
   "cell_type": "code",
   "execution_count": 43,
   "id": "0dc5e850",
   "metadata": {},
   "outputs": [],
   "source": [
    "y_predict = []\n",
    "\n",
    "for i in range(0,count - 1):\n",
    "    y_predict_single = []\n",
    "    for j in range(0,len(X_test)):\n",
    "        predicted = models[i].predict(np.array([X_test[j]]))\n",
    "        y_predict_single.append(float(predicted))\n",
    "    y_predict.append(y_predict_single)\n",
    "    \n",
    "y_predict = np.transpose(y_predict)"
   ]
  },
  {
   "cell_type": "code",
   "execution_count": 44,
   "id": "f4708c1e",
   "metadata": {},
   "outputs": [],
   "source": [
    "mean_array = []\n",
    "std_array = []\n",
    "for i in range(0,len(X_test)):\n",
    "    mean = np.mean(y_predict[i])\n",
    "    std = np.std(y_predict[i])\n",
    "    mean_array.append(mean)\n",
    "    std_array.append(std)"
   ]
  },
  {
   "cell_type": "code",
   "execution_count": 45,
   "id": "972dba28",
   "metadata": {},
   "outputs": [],
   "source": [
    "from scipy.stats import gaussian_kde\n",
    "xy = np.vstack([y_test,mean_array])\n",
    "z = gaussian_kde(xy)(xy)"
   ]
  },
  {
   "cell_type": "markdown",
   "id": "5e3081df",
   "metadata": {},
   "source": [
    "xy_pre = np.vstack([y_test,y_predict_pre])\n",
    "z_pre = gaussian_kde(xy_pre)(xy_pre)"
   ]
  },
  {
   "cell_type": "markdown",
   "id": "b6635a7d",
   "metadata": {},
   "source": [
    "fig, ax = plt.subplots()\n",
    "scatter_plot = ax.scatter(y_test, y_predict_pre, c = z_pre, s = 1, edgecolor = None)\n",
    "plt.colorbar(scatter_plot)\n",
    "plt.xlabel('spectroscopic redshift')\n",
    "plt.ylabel('photo z')\n",
    "plt.plot([0, 1], [0, 1],color = 'black')"
   ]
  },
  {
   "cell_type": "code",
   "execution_count": 46,
   "id": "623ccca3",
   "metadata": {},
   "outputs": [
    {
     "data": {
      "text/plain": [
       "[<matplotlib.lines.Line2D at 0x7f3ed8775cd0>]"
      ]
     },
     "execution_count": 46,
     "metadata": {},
     "output_type": "execute_result"
    },
    {
     "data": {
      "image/png": "[encoded data removed]",
      "text/plain": [
       "<Figure size 432x288 with 2 Axes>"
      ]
     },
     "metadata": {
      "needs_background": "light"
     },
     "output_type": "display_data"
    }
   ],
   "source": [
    "import matplotlib.cm as cm\n",
    "import matplotlib\n",
    "fig, ax = plt.subplots()\n",
    "scatter_plot = ax.scatter(y_test, mean_array, c = z, s = 1, edgecolor = None)\n",
    "plt.colorbar(scatter_plot)\n",
    "plt.xlabel('spectroscopic redshift')\n",
    "plt.ylabel('photo z')\n",
    "plt.plot([0, 1], [0, 1],color = 'black')"
   ]
  },
  {
   "cell_type": "code",
   "execution_count": 47,
   "id": "70168bb1",
   "metadata": {},
   "outputs": [
    {
     "data": {
      "text/plain": [
       "[<matplotlib.lines.Line2D at 0x7f3f24659b20>]"
      ]
     },
     "execution_count": 47,
     "metadata": {},
     "output_type": "execute_result"
    },
    {
     "data": {
      "image/png": "[encoded data removed]",
      "text/plain": [
       "<Figure size 432x288 with 1 Axes>"
      ]
     },
     "metadata": {
      "needs_background": "light"
     },
     "output_type": "display_data"
    }
   ],
   "source": [
    "import matplotlib.cm as cm\n",
    "import matplotlib\n",
    "fig, ax = plt.subplots()\n",
    "error_plot = ax.errorbar(y_test, mean_array, yerr = std_array, fmt=\"o\")\n",
    "plt.xlabel('spectroscopic redshift')\n",
    "plt.ylabel('photo z')\n",
    "plt.plot([0, 2.5], [0, 2.5],color = 'black')"
   ]
  },
  {
   "cell_type": "code",
   "execution_count": 48,
   "id": "81f8c111",
   "metadata": {},
   "outputs": [
    {
     "name": "stdout",
     "output_type": "stream",
     "text": [
      "0.2522\n"
     ]
    }
   ],
   "source": [
    "overlap = 0\n",
    "overlap_array = []\n",
    "for i in range(0,len(X_test)):\n",
    "    if np.abs(y_test[i]-mean_array[i])<=std_array[i]:\n",
    "        overlap += 1\n",
    "        overlap_array.append(1)\n",
    "    else:\n",
    "        overlap_array.append(0)\n",
    "print(overlap/len(X_test))"
   ]
  },
  {
   "cell_type": "code",
   "execution_count": 49,
   "id": "445168a2",
   "metadata": {},
   "outputs": [],
   "source": [
    "combined_array = np.transpose(np.vstack((y_test,mean_array,std_array,overlap_array)))"
   ]
  },
  {
   "cell_type": "code",
   "execution_count": 50,
   "id": "889581b0",
   "metadata": {},
   "outputs": [],
   "source": [
    "sorted_combined_array = sorted(combined_array, key=lambda x: x[0])"
   ]
  },
  {
   "cell_type": "code",
   "execution_count": 54,
   "id": "a7e306b9",
   "metadata": {},
   "outputs": [],
   "source": [
    "bins = int(z_max*10)\n",
    "splitted_sorted_combined_array = np.array_split(sorted_combined_array,bins)\n",
    "coverage = []\n",
    "for i in range(0,bins):\n",
    "    count = 0\n",
    "    for j in range(0,len(splitted_sorted_combined_array[i])):\n",
    "        if splitted_sorted_combined_array[i][j][3] == 1:\n",
    "            count += 1\n",
    "    coverage.append(count/len(splitted_sorted_combined_array[i])/0.6827)\n",
    "x_array = np.arange(0,z_max,z_max/bins)"
   ]
  },
  {
   "cell_type": "code",
   "execution_count": 56,
   "id": "e1bb736b",
   "metadata": {},
   "outputs": [
    {
     "data": {
      "text/plain": [
       "(0.0, 1.5)"
      ]
     },
     "execution_count": 56,
     "metadata": {},
     "output_type": "execute_result"
    },
    {
     "data": {
      "image/png": "[encoded data removed]",
      "text/plain": [
       "<Figure size 432x288 with 1 Axes>"
      ]
     },
     "metadata": {
      "needs_background": "light"
     },
     "output_type": "display_data"
    }
   ],
   "source": [
    "plt.plot(x_array, coverage, c = 'red')\n",
    "plt.xlabel('spectroscopic redshift')\n",
    "plt.ylabel('coverage')\n",
    "plt.ylim([0,1.5]) # 1.5 indicates full coverage"
   ]
  }
 ],
 "metadata": {
  "kernelspec": {
   "display_name": "Python 3",
   "language": "python",
   "name": "python3"
  },
  "language_info": {
   "codemirror_mode": {
    "name": "ipython",
    "version": 3
   },
   "file_extension": ".py",
   "mimetype": "text/x-python",
   "name": "python",
   "nbconvert_exporter": "python",
   "pygments_lexer": "ipython3",
   "version": "3.8.10"
  }
 },
 "nbformat": 4,
 "nbformat_minor": 5
}
