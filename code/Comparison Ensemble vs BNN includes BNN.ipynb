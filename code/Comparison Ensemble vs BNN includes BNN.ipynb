{
 "cells": [
  {
   "cell_type": "code",
   "execution_count": 32,
   "id": "5eb1d7d9",
   "metadata": {},
   "outputs": [
    {
     "name": "stdout",
     "output_type": "stream",
     "text": [
      "Num GPUs Available:  1\n"
     ]
    }
   ],
   "source": [
    "import tensorflow as tf\n",
    "import tensorflow_probability as tfp\n",
    "import pandas as pd\n",
    "import random\n",
    "print(\"Num GPUs Available: \", len(tf.config.list_physical_devices('GPU')))\n",
    "from sklearn.metrics import mean_squared_error\n",
    "import matplotlib.pyplot as plt\n",
    "from IPython.display import clear_output\n",
    "\n",
    "import numpy as np\n",
    "from tensorflow import keras\n",
    "from sklearn.model_selection import train_test_split\n",
    "from sklearn import preprocessing\n",
    "tfd = tfp.distributions\n",
    "\n",
    "import keras\n",
    "from keras.models import Sequential,Input,Model\n",
    "from keras.layers import Dense, Dropout, Flatten"
   ]
  },
  {
   "cell_type": "code",
   "execution_count": 33,
   "id": "177bd8c5",
   "metadata": {},
   "outputs": [
    {
     "name": "stdout",
     "output_type": "stream",
     "text": [
      "1 Physical GPUs, 1 Logical GPUs\n"
     ]
    }
   ],
   "source": [
    "gpus = tf.config.list_physical_devices('GPU')\n",
    "if gpus:\n",
    "  # Restrict TensorFlow to only allocate 1GB of memory on the first GPU\n",
    "  try:\n",
    "    tf.config.experimental.set_virtual_device_configuration(\n",
    "        gpus[0],\n",
    "        [tf.config.experimental.VirtualDeviceConfiguration(memory_limit=5000)])\n",
    "    logical_gpus = tf.config.experimental.list_logical_devices('GPU')\n",
    "    print(len(gpus), \"Physical GPUs,\", len(logical_gpus), \"Logical GPUs\")\n",
    "  except RuntimeError as e:\n",
    "    # Virtual devices must be set before GPUs have been initialized\n",
    "    print(e)"
   ]
  },
  {
   "cell_type": "code",
   "execution_count": 34,
   "id": "481ff0df",
   "metadata": {},
   "outputs": [],
   "source": [
    "photozdata = pd.read_csv('/mnt/data/HSC/HSC_v6/HSC_v6.csv')"
   ]
  },
  {
   "cell_type": "code",
   "execution_count": 35,
   "id": "c77d1d2a",
   "metadata": {},
   "outputs": [],
   "source": [
    "# filter & duplicate drop from bayesian_nn\n",
    "z_max = 1\n",
    "filt = (photozdata['specz_redshift'] < z_max)\\\n",
    "& (photozdata['specz_redshift'] > 0.01)\\\n",
    "& (photozdata['specz_redshift_err'] > 0) \\\n",
    "& (photozdata['specz_redshift_err'] < 1)\\\n",
    "&(photozdata[\"specz_redshift_err\"]<0.005*(1+photozdata[\"specz_redshift\"]))\\\n",
    "&(photozdata['g_cmodel_mag'] >0)\\\n",
    "&(photozdata['r_cmodel_mag'] >0)\\\n",
    "&(photozdata['i_cmodel_mag'] >0)\\\n",
    "&(photozdata['z_cmodel_mag'] >0)\\\n",
    "&(photozdata['y_cmodel_mag'] >0)\\\n",
    "&(photozdata['g_cmodel_mag'] < 100)\\\n",
    "&(photozdata['r_cmodel_mag'] < 100)\\\n",
    "&(photozdata['i_cmodel_mag'] < 100)\\\n",
    "&(photozdata['z_cmodel_mag'] < 100)\\\n",
    "&(photozdata['y_cmodel_mag'] < 100)\\\n",
    "&(photozdata['specz_flag_homogeneous'] == True)\n",
    "photozdata.drop_duplicates(subset=['object_id'])\n",
    "photozdata_subset = np.asarray(photozdata[filt])"
   ]
  },
  {
   "cell_type": "code",
   "execution_count": 36,
   "id": "545abf32",
   "metadata": {},
   "outputs": [
    {
     "data": {
      "text/plain": [
       "Index(['object_id', 'specz_redshift_err', 'specz_redshift', 'specz_mag_i',\n",
       "       'specz_name', 'specz_ra', 'specz_dec', 'specz_flag_homogeneous', 'ra',\n",
       "       'dec', 'coord', 'skymap_id', 'g_cmodel_mag', 'r_cmodel_mag',\n",
       "       'i_cmodel_mag', 'z_cmodel_mag', 'y_cmodel_mag', 'g_cmodel_magsigma',\n",
       "       'r_cmodel_magsigma', 'i_cmodel_magsigma', 'z_cmodel_magsigma',\n",
       "       'y_cmodel_magsigma'],\n",
       "      dtype='object')"
      ]
     },
     "execution_count": 36,
     "metadata": {},
     "output_type": "execute_result"
    }
   ],
   "source": [
    "photozdata.columns"
   ]
  },
  {
   "cell_type": "code",
   "execution_count": 37,
   "id": "4b4d489b",
   "metadata": {},
   "outputs": [],
   "source": [
    "random.shuffle(photozdata_subset)\n",
    "random.shuffle(photozdata_subset)\n",
    "random.shuffle(photozdata_subset)\n",
    "random.shuffle(photozdata_subset)\n",
    "random.shuffle(photozdata_subset)\n",
    "# shuffle the data"
   ]
  },
  {
   "cell_type": "code",
   "execution_count": 38,
   "id": "5554ad62",
   "metadata": {},
   "outputs": [],
   "source": [
    "n = len(photozdata_subset)"
   ]
  },
  {
   "cell_type": "code",
   "execution_count": 39,
   "id": "8f99d6bb",
   "metadata": {},
   "outputs": [],
   "source": [
    "X_total = photozdata_subset[:,[12,13,14,15,16]]\n",
    "y_total = photozdata_subset[:,2]"
   ]
  },
  {
   "cell_type": "code",
   "execution_count": 40,
   "id": "523c6f59",
   "metadata": {},
   "outputs": [],
   "source": [
    "X_total = preprocessing.normalize(X_total)"
   ]
  },
  {
   "cell_type": "code",
   "execution_count": 41,
   "id": "a2d5cf99",
   "metadata": {},
   "outputs": [],
   "source": [
    "count = 11 # number of networks, including the BNN"
   ]
  },
  {
   "cell_type": "code",
   "execution_count": 42,
   "id": "b49f9d2b",
   "metadata": {},
   "outputs": [],
   "source": [
    "# split data into 6/7 bins of training sets of 40000 and 1 bin of testing set of 6401\n",
    "X = []\n",
    "y = []\n",
    "\n",
    "bin_size = 20000\n",
    "\n",
    "pre = 0\n",
    "per = bin_size - 1\n",
    "\n",
    "for i in range(0,count):\n",
    "    X.append(np.asarray(X_total[pre:per + 1]).astype('float32'))\n",
    "    y.append(np.asarray(y_total[pre:per + 1]).astype('float32'))\n",
    "    pre = pre + bin_size\n",
    "    per = per + bin_size\n",
    "\n",
    "X_test = np.asarray(X_total[pre : pre + 500]).astype('float32')\n",
    "y_test = np.asarray(y_total[pre : pre + 500]).astype('float32')\n",
    "\n",
    "# X_pre = np.asarray(X_total[0 : pre]).astype('float32')\n",
    "# y_pre = np.asarray(y_total[0 : pre]).astype('float32')"
   ]
  },
  {
   "cell_type": "code",
   "execution_count": 43,
   "id": "162070af",
   "metadata": {},
   "outputs": [],
   "source": [
    "models = []\n",
    "\n",
    "for i in range(1,count):\n",
    "    input_ = tf.keras.layers.Input(shape=X[0].shape[1:])\n",
    "    hidden1 = tf.keras.layers.Dense(200, activation=\"tanh\")(input_)\n",
    "    hidden2 = tf.keras.layers.Dense(200, activation=\"tanh\")(hidden1)\n",
    "    hidden3 = tf.keras.layers.Dense(200, activation=\"relu\")(hidden2)\n",
    "    hidden4 = tf.keras.layers.Dense(200, activation=\"relu\")(hidden3)\n",
    "    # hidden5 = tf.keras.layers.Dense(200, activation=\"relu\")(hidden4)\n",
    "    # hidden6 = tf.keras.layers.Dense(200, activation=\"relu\")(hidden5)\n",
    "    concat = tf.keras.layers.Concatenate()([input_, hidden4])\n",
    "    output = tf.keras.layers.Dense(1)(concat)\n",
    "    model = tf.keras.Model(inputs=[input_], outputs=[output])\n",
    "    model.compile(optimizer='Adam', loss=\"mse\",metrics=[tf.keras.metrics.MeanAbsoluteError()])\n",
    "    models.append(model)"
   ]
  },
  {
   "cell_type": "markdown",
   "id": "3f3f5df5",
   "metadata": {},
   "source": [
    "input_ = tf.keras.layers.Input(shape=X[0].shape[1:])\n",
    "hidden1 = tf.keras.layers.Dense(200, activation=\"relu\")(input_)\n",
    "hidden2 = tf.keras.layers.Dense(200, activation=\"relu\")(hidden1)\n",
    "hidden3 = tf.keras.layers.Dense(200, activation=\"relu\")(hidden2)\n",
    "hidden4 = tf.keras.layers.Dense(200, activation=\"relu\")(hidden3)\n",
    "hidden5 = tf.keras.layers.Dense(200, activation=\"relu\")(hidden4)\n",
    "hidden6 = tf.keras.layers.Dense(200, activation=\"relu\")(hidden5)\n",
    "concat = tf.keras.layers.Concatenate()([input_, hidden6])\n",
    "output = tf.keras.layers.Dense(1)(concat)\n",
    "model_pre = tf.keras.Model(inputs=[input_], outputs=[output])\n",
    "model_pre.compile(optimizer='Adam', loss='mse', metrics=[tf.keras.metrics.MeanAbsoluteError()])"
   ]
  },
  {
   "cell_type": "markdown",
   "id": "c05b44da",
   "metadata": {},
   "source": [
    "model_pre.fit(X_pre,y_pre,epochs=50,shuffle = True,verbose=1)"
   ]
  },
  {
   "cell_type": "code",
   "execution_count": 44,
   "id": "b89c8b1a",
   "metadata": {},
   "outputs": [
    {
     "name": "stdout",
     "output_type": "stream",
     "text": [
      "Epoch 1/25\n",
      "625/625 [==============================] - 1s 1ms/step - loss: 0.0341 - mean_absolute_error: 0.1524\n",
      "Epoch 2/25\n",
      "625/625 [==============================] - 1s 1ms/step - loss: 0.0230 - mean_absolute_error: 0.1157\n",
      "Epoch 3/25\n",
      "625/625 [==============================] - 1s 1ms/step - loss: 0.0210 - mean_absolute_error: 0.1083\n",
      "Epoch 4/25\n",
      "625/625 [==============================] - 1s 1ms/step - loss: 0.0204 - mean_absolute_error: 0.1050\n",
      "Epoch 5/25\n",
      "625/625 [==============================] - 1s 1ms/step - loss: 0.0187 - mean_absolute_error: 0.0971\n",
      "Epoch 6/25\n",
      "625/625 [==============================] - 1s 1ms/step - loss: 0.0190 - mean_absolute_error: 0.0998\n",
      "Epoch 7/25\n",
      "625/625 [==============================] - 1s 1ms/step - loss: 0.0181 - mean_absolute_error: 0.0954\n",
      "Epoch 8/25\n",
      "625/625 [==============================] - 1s 1ms/step - loss: 0.0167 - mean_absolute_error: 0.0881\n",
      "Epoch 9/25\n",
      "625/625 [==============================] - 1s 1ms/step - loss: 0.0174 - mean_absolute_error: 0.0906\n",
      "Epoch 10/25\n",
      "625/625 [==============================] - 1s 1ms/step - loss: 0.0170 - mean_absolute_error: 0.0894\n",
      "Epoch 11/25\n",
      "625/625 [==============================] - 1s 1ms/step - loss: 0.0157 - mean_absolute_error: 0.0844\n",
      "Epoch 12/25\n",
      "625/625 [==============================] - 1s 1ms/step - loss: 0.0160 - mean_absolute_error: 0.0852\n",
      "Epoch 13/25\n",
      "625/625 [==============================] - 1s 1ms/step - loss: 0.0158 - mean_absolute_error: 0.0844\n",
      "Epoch 14/25\n",
      "625/625 [==============================] - 1s 1ms/step - loss: 0.0162 - mean_absolute_error: 0.0859\n",
      "Epoch 15/25\n",
      "625/625 [==============================] - 1s 1ms/step - loss: 0.0158 - mean_absolute_error: 0.0849\n",
      "Epoch 16/25\n",
      "625/625 [==============================] - 1s 1ms/step - loss: 0.0159 - mean_absolute_error: 0.0848\n",
      "Epoch 17/25\n",
      "625/625 [==============================] - 1s 1ms/step - loss: 0.0156 - mean_absolute_error: 0.0839\n",
      "Epoch 18/25\n",
      "625/625 [==============================] - 1s 1ms/step - loss: 0.0153 - mean_absolute_error: 0.0822\n",
      "Epoch 19/25\n",
      "625/625 [==============================] - 1s 1ms/step - loss: 0.0155 - mean_absolute_error: 0.0840\n",
      "Epoch 20/25\n",
      "625/625 [==============================] - 1s 1ms/step - loss: 0.0165 - mean_absolute_error: 0.0874\n",
      "Epoch 21/25\n",
      "625/625 [==============================] - 1s 1ms/step - loss: 0.0151 - mean_absolute_error: 0.0823\n",
      "Epoch 22/25\n",
      "625/625 [==============================] - 1s 1ms/step - loss: 0.0163 - mean_absolute_error: 0.0865\n",
      "Epoch 23/25\n",
      "625/625 [==============================] - 1s 1ms/step - loss: 0.0146 - mean_absolute_error: 0.0799\n",
      "Epoch 24/25\n",
      "625/625 [==============================] - 1s 1ms/step - loss: 0.0160 - mean_absolute_error: 0.0853\n",
      "Epoch 25/25\n",
      "625/625 [==============================] - 1s 1ms/step - loss: 0.0147 - mean_absolute_error: 0.0797\n",
      "Epoch 1/25\n",
      "625/625 [==============================] - 1s 1ms/step - loss: 0.0352 - mean_absolute_error: 0.1539\n",
      "Epoch 2/25\n",
      "625/625 [==============================] - 1s 1ms/step - loss: 0.0235 - mean_absolute_error: 0.1146\n",
      "Epoch 3/25\n",
      "625/625 [==============================] - 1s 1ms/step - loss: 0.0196 - mean_absolute_error: 0.0993\n",
      "Epoch 4/25\n",
      "625/625 [==============================] - 1s 1ms/step - loss: 0.0193 - mean_absolute_error: 0.0979\n",
      "Epoch 5/25\n",
      "625/625 [==============================] - 1s 1ms/step - loss: 0.0179 - mean_absolute_error: 0.0923\n",
      "Epoch 6/25\n",
      "625/625 [==============================] - 1s 1ms/step - loss: 0.0188 - mean_absolute_error: 0.0959\n",
      "Epoch 7/25\n",
      "625/625 [==============================] - 1s 1ms/step - loss: 0.0185 - mean_absolute_error: 0.0949\n",
      "Epoch 8/25\n",
      "625/625 [==============================] - 1s 1ms/step - loss: 0.0181 - mean_absolute_error: 0.0936\n",
      "Epoch 9/25\n",
      "625/625 [==============================] - 1s 1ms/step - loss: 0.0179 - mean_absolute_error: 0.0918\n",
      "Epoch 10/25\n",
      "625/625 [==============================] - 1s 1ms/step - loss: 0.0180 - mean_absolute_error: 0.0927\n",
      "Epoch 11/25\n",
      "625/625 [==============================] - 1s 1ms/step - loss: 0.0174 - mean_absolute_error: 0.0897\n",
      "Epoch 12/25\n",
      "625/625 [==============================] - 1s 1ms/step - loss: 0.0172 - mean_absolute_error: 0.0894\n",
      "Epoch 13/25\n",
      "625/625 [==============================] - 1s 1ms/step - loss: 0.0170 - mean_absolute_error: 0.0881\n",
      "Epoch 14/25\n",
      "625/625 [==============================] - 1s 1ms/step - loss: 0.0163 - mean_absolute_error: 0.0849\n",
      "Epoch 15/25\n",
      "625/625 [==============================] - 1s 1ms/step - loss: 0.0169 - mean_absolute_error: 0.0876\n",
      "Epoch 16/25\n",
      "625/625 [==============================] - 1s 1ms/step - loss: 0.0166 - mean_absolute_error: 0.0868\n",
      "Epoch 17/25\n",
      "625/625 [==============================] - 1s 1ms/step - loss: 0.0166 - mean_absolute_error: 0.0862\n",
      "Epoch 18/25\n",
      "625/625 [==============================] - 1s 1ms/step - loss: 0.0169 - mean_absolute_error: 0.0876\n",
      "Epoch 19/25\n",
      "625/625 [==============================] - 1s 1ms/step - loss: 0.0171 - mean_absolute_error: 0.0891\n",
      "Epoch 20/25\n",
      "625/625 [==============================] - 1s 1ms/step - loss: 0.0165 - mean_absolute_error: 0.0862\n",
      "Epoch 21/25\n",
      "625/625 [==============================] - 1s 1ms/step - loss: 0.0165 - mean_absolute_error: 0.0866\n",
      "Epoch 22/25\n",
      "625/625 [==============================] - 1s 1ms/step - loss: 0.0165 - mean_absolute_error: 0.0862\n",
      "Epoch 23/25\n",
      "625/625 [==============================] - 1s 1ms/step - loss: 0.0158 - mean_absolute_error: 0.0838\n",
      "Epoch 24/25\n",
      "625/625 [==============================] - 1s 1ms/step - loss: 0.0156 - mean_absolute_error: 0.0826\n",
      "Epoch 25/25\n",
      "625/625 [==============================] - 1s 1ms/step - loss: 0.0156 - mean_absolute_error: 0.0826\n",
      "Epoch 1/25\n",
      "625/625 [==============================] - 1s 1ms/step - loss: 0.0347 - mean_absolute_error: 0.1525\n",
      "Epoch 2/25\n",
      "625/625 [==============================] - 1s 1ms/step - loss: 0.0216 - mean_absolute_error: 0.1074\n",
      "Epoch 3/25\n",
      "625/625 [==============================] - 1s 1ms/step - loss: 0.0213 - mean_absolute_error: 0.1056\n",
      "Epoch 4/25\n",
      "625/625 [==============================] - 1s 1ms/step - loss: 0.0204 - mean_absolute_error: 0.1019\n",
      "Epoch 5/25\n",
      "625/625 [==============================] - 1s 1ms/step - loss: 0.0187 - mean_absolute_error: 0.0945\n",
      "Epoch 6/25\n",
      "625/625 [==============================] - 1s 1ms/step - loss: 0.0187 - mean_absolute_error: 0.0949\n",
      "Epoch 7/25\n",
      "625/625 [==============================] - 1s 1ms/step - loss: 0.0187 - mean_absolute_error: 0.0951\n",
      "Epoch 8/25\n",
      "625/625 [==============================] - 1s 1ms/step - loss: 0.0178 - mean_absolute_error: 0.0915\n",
      "Epoch 9/25\n",
      "625/625 [==============================] - 1s 1ms/step - loss: 0.0195 - mean_absolute_error: 0.0980\n",
      "Epoch 10/25\n",
      "625/625 [==============================] - 1s 1ms/step - loss: 0.0185 - mean_absolute_error: 0.0941\n",
      "Epoch 11/25\n",
      "625/625 [==============================] - 1s 1ms/step - loss: 0.0177 - mean_absolute_error: 0.0913\n",
      "Epoch 12/25\n",
      "625/625 [==============================] - 1s 1ms/step - loss: 0.0176 - mean_absolute_error: 0.0903\n",
      "Epoch 13/25\n",
      "625/625 [==============================] - 1s 1ms/step - loss: 0.0172 - mean_absolute_error: 0.0886\n",
      "Epoch 14/25\n",
      "625/625 [==============================] - 1s 1ms/step - loss: 0.0176 - mean_absolute_error: 0.0911\n",
      "Epoch 15/25\n",
      "625/625 [==============================] - 1s 1ms/step - loss: 0.0178 - mean_absolute_error: 0.0908\n",
      "Epoch 16/25\n",
      "625/625 [==============================] - 1s 1ms/step - loss: 0.0172 - mean_absolute_error: 0.0889\n",
      "Epoch 17/25\n",
      "625/625 [==============================] - 1s 1ms/step - loss: 0.0168 - mean_absolute_error: 0.0872\n",
      "Epoch 18/25\n",
      "625/625 [==============================] - 1s 1ms/step - loss: 0.0173 - mean_absolute_error: 0.0888\n",
      "Epoch 19/25\n",
      "625/625 [==============================] - 1s 1ms/step - loss: 0.0175 - mean_absolute_error: 0.0900\n",
      "Epoch 20/25\n",
      "625/625 [==============================] - 1s 1ms/step - loss: 0.0171 - mean_absolute_error: 0.0888\n",
      "Epoch 21/25\n",
      "625/625 [==============================] - 1s 1ms/step - loss: 0.0169 - mean_absolute_error: 0.0878\n",
      "Epoch 22/25\n",
      "625/625 [==============================] - 1s 1ms/step - loss: 0.0164 - mean_absolute_error: 0.0859\n",
      "Epoch 23/25\n",
      "625/625 [==============================] - 1s 1ms/step - loss: 0.0170 - mean_absolute_error: 0.0880\n",
      "Epoch 24/25\n"
     ]
    },
    {
     "name": "stdout",
     "output_type": "stream",
     "text": [
      "625/625 [==============================] - 1s 1ms/step - loss: 0.0166 - mean_absolute_error: 0.0862\n",
      "Epoch 25/25\n",
      "625/625 [==============================] - 1s 1ms/step - loss: 0.0167 - mean_absolute_error: 0.0873\n",
      "Epoch 1/25\n",
      "625/625 [==============================] - 1s 1ms/step - loss: 0.0374 - mean_absolute_error: 0.1591\n",
      "Epoch 2/25\n",
      "625/625 [==============================] - 1s 1ms/step - loss: 0.0204 - mean_absolute_error: 0.1021\n",
      "Epoch 3/25\n",
      "625/625 [==============================] - 1s 1ms/step - loss: 0.0201 - mean_absolute_error: 0.1008\n",
      "Epoch 4/25\n",
      "625/625 [==============================] - 1s 1ms/step - loss: 0.0192 - mean_absolute_error: 0.0970\n",
      "Epoch 5/25\n",
      "625/625 [==============================] - 1s 1ms/step - loss: 0.0184 - mean_absolute_error: 0.0936\n",
      "Epoch 6/25\n",
      "625/625 [==============================] - 1s 1ms/step - loss: 0.0184 - mean_absolute_error: 0.0935\n",
      "Epoch 7/25\n",
      "625/625 [==============================] - 1s 1ms/step - loss: 0.0184 - mean_absolute_error: 0.0937\n",
      "Epoch 8/25\n",
      "625/625 [==============================] - 1s 1ms/step - loss: 0.0178 - mean_absolute_error: 0.0912\n",
      "Epoch 9/25\n",
      "625/625 [==============================] - 1s 1ms/step - loss: 0.0172 - mean_absolute_error: 0.0884\n",
      "Epoch 10/25\n",
      "625/625 [==============================] - 1s 1ms/step - loss: 0.0178 - mean_absolute_error: 0.0913\n",
      "Epoch 11/25\n",
      "625/625 [==============================] - 1s 1ms/step - loss: 0.0171 - mean_absolute_error: 0.0885\n",
      "Epoch 12/25\n",
      "625/625 [==============================] - 1s 1ms/step - loss: 0.0173 - mean_absolute_error: 0.0892\n",
      "Epoch 13/25\n",
      "625/625 [==============================] - 1s 1ms/step - loss: 0.0171 - mean_absolute_error: 0.0886\n",
      "Epoch 14/25\n",
      "625/625 [==============================] - 1s 1ms/step - loss: 0.0170 - mean_absolute_error: 0.0879\n",
      "Epoch 15/25\n",
      "625/625 [==============================] - 1s 1ms/step - loss: 0.0168 - mean_absolute_error: 0.0873\n",
      "Epoch 16/25\n",
      "625/625 [==============================] - 1s 1ms/step - loss: 0.0167 - mean_absolute_error: 0.0867\n",
      "Epoch 17/25\n",
      "625/625 [==============================] - 1s 1ms/step - loss: 0.0171 - mean_absolute_error: 0.0880\n",
      "Epoch 18/25\n",
      "625/625 [==============================] - 1s 1ms/step - loss: 0.0166 - mean_absolute_error: 0.0867\n",
      "Epoch 19/25\n",
      "625/625 [==============================] - 1s 1ms/step - loss: 0.0163 - mean_absolute_error: 0.0854\n",
      "Epoch 20/25\n",
      "625/625 [==============================] - 1s 1ms/step - loss: 0.0168 - mean_absolute_error: 0.0870\n",
      "Epoch 21/25\n",
      "625/625 [==============================] - 1s 1ms/step - loss: 0.0166 - mean_absolute_error: 0.0861\n",
      "Epoch 22/25\n",
      "625/625 [==============================] - 1s 1ms/step - loss: 0.0162 - mean_absolute_error: 0.0851\n",
      "Epoch 23/25\n",
      "625/625 [==============================] - 1s 1ms/step - loss: 0.0158 - mean_absolute_error: 0.0835\n",
      "Epoch 24/25\n",
      "625/625 [==============================] - 1s 1ms/step - loss: 0.0156 - mean_absolute_error: 0.0822\n",
      "Epoch 25/25\n",
      "625/625 [==============================] - 1s 1ms/step - loss: 0.0156 - mean_absolute_error: 0.0823\n",
      "Epoch 1/25\n",
      "625/625 [==============================] - 1s 1ms/step - loss: 0.0369 - mean_absolute_error: 0.1583\n",
      "Epoch 2/25\n",
      "625/625 [==============================] - 1s 1ms/step - loss: 0.0219 - mean_absolute_error: 0.1083\n",
      "Epoch 3/25\n",
      "625/625 [==============================] - 1s 1ms/step - loss: 0.0209 - mean_absolute_error: 0.1038\n",
      "Epoch 4/25\n",
      "625/625 [==============================] - 1s 1ms/step - loss: 0.0203 - mean_absolute_error: 0.1005\n",
      "Epoch 5/25\n",
      "625/625 [==============================] - 1s 1ms/step - loss: 0.0191 - mean_absolute_error: 0.0953\n",
      "Epoch 6/25\n",
      "625/625 [==============================] - 1s 1ms/step - loss: 0.0188 - mean_absolute_error: 0.0946\n",
      "Epoch 7/25\n",
      "625/625 [==============================] - 1s 1ms/step - loss: 0.0188 - mean_absolute_error: 0.0940\n",
      "Epoch 8/25\n",
      "625/625 [==============================] - 1s 1ms/step - loss: 0.0190 - mean_absolute_error: 0.0951\n",
      "Epoch 9/25\n",
      "625/625 [==============================] - 1s 1ms/step - loss: 0.0177 - mean_absolute_error: 0.0901\n",
      "Epoch 10/25\n",
      "625/625 [==============================] - 1s 1ms/step - loss: 0.0178 - mean_absolute_error: 0.0906\n",
      "Epoch 11/25\n",
      "625/625 [==============================] - 1s 1ms/step - loss: 0.0187 - mean_absolute_error: 0.0944\n",
      "Epoch 12/25\n",
      "625/625 [==============================] - 1s 1ms/step - loss: 0.0171 - mean_absolute_error: 0.0878\n",
      "Epoch 13/25\n",
      "625/625 [==============================] - 1s 1ms/step - loss: 0.0177 - mean_absolute_error: 0.0904\n",
      "Epoch 14/25\n",
      "625/625 [==============================] - 1s 1ms/step - loss: 0.0170 - mean_absolute_error: 0.0876\n",
      "Epoch 15/25\n",
      "625/625 [==============================] - 1s 1ms/step - loss: 0.0171 - mean_absolute_error: 0.0877\n",
      "Epoch 16/25\n",
      "625/625 [==============================] - 1s 1ms/step - loss: 0.0177 - mean_absolute_error: 0.0902\n",
      "Epoch 17/25\n",
      "625/625 [==============================] - 1s 1ms/step - loss: 0.0163 - mean_absolute_error: 0.0848\n",
      "Epoch 18/25\n",
      "625/625 [==============================] - 1s 1ms/step - loss: 0.0174 - mean_absolute_error: 0.0894\n",
      "Epoch 19/25\n",
      "625/625 [==============================] - 1s 1ms/step - loss: 0.0169 - mean_absolute_error: 0.0873\n",
      "Epoch 20/25\n",
      "625/625 [==============================] - 1s 1ms/step - loss: 0.0163 - mean_absolute_error: 0.0849\n",
      "Epoch 21/25\n",
      "625/625 [==============================] - 1s 1ms/step - loss: 0.0160 - mean_absolute_error: 0.0833\n",
      "Epoch 22/25\n",
      "625/625 [==============================] - 1s 1ms/step - loss: 0.0162 - mean_absolute_error: 0.0840\n",
      "Epoch 23/25\n",
      "625/625 [==============================] - 1s 1ms/step - loss: 0.0172 - mean_absolute_error: 0.0883\n",
      "Epoch 24/25\n",
      "625/625 [==============================] - 1s 1ms/step - loss: 0.0163 - mean_absolute_error: 0.0849\n",
      "Epoch 25/25\n",
      "625/625 [==============================] - 1s 1ms/step - loss: 0.0160 - mean_absolute_error: 0.0831\n",
      "Epoch 1/25\n",
      "625/625 [==============================] - 1s 1ms/step - loss: 0.0354 - mean_absolute_error: 0.1520\n",
      "Epoch 2/25\n",
      "625/625 [==============================] - 1s 1ms/step - loss: 0.0223 - mean_absolute_error: 0.1089\n",
      "Epoch 3/25\n",
      "625/625 [==============================] - 1s 1ms/step - loss: 0.0207 - mean_absolute_error: 0.1030\n",
      "Epoch 4/25\n",
      "625/625 [==============================] - 1s 1ms/step - loss: 0.0193 - mean_absolute_error: 0.0959\n",
      "Epoch 5/25\n",
      "625/625 [==============================] - 1s 1ms/step - loss: 0.0193 - mean_absolute_error: 0.0959\n",
      "Epoch 6/25\n",
      "625/625 [==============================] - 1s 1ms/step - loss: 0.0193 - mean_absolute_error: 0.0961\n",
      "Epoch 7/25\n",
      "625/625 [==============================] - 1s 1ms/step - loss: 0.0182 - mean_absolute_error: 0.0914\n",
      "Epoch 8/25\n",
      "625/625 [==============================] - 1s 1ms/step - loss: 0.0189 - mean_absolute_error: 0.0942\n",
      "Epoch 9/25\n",
      "625/625 [==============================] - 1s 1ms/step - loss: 0.0183 - mean_absolute_error: 0.0920\n",
      "Epoch 10/25\n",
      "625/625 [==============================] - 1s 1ms/step - loss: 0.0188 - mean_absolute_error: 0.0938\n",
      "Epoch 11/25\n",
      "625/625 [==============================] - 1s 1ms/step - loss: 0.0187 - mean_absolute_error: 0.0932\n",
      "Epoch 12/25\n",
      "625/625 [==============================] - 1s 1ms/step - loss: 0.0195 - mean_absolute_error: 0.0975\n",
      "Epoch 13/25\n",
      "625/625 [==============================] - 1s 1ms/step - loss: 0.0180 - mean_absolute_error: 0.0902\n",
      "Epoch 14/25\n",
      "625/625 [==============================] - 1s 1ms/step - loss: 0.0184 - mean_absolute_error: 0.0920\n",
      "Epoch 15/25\n",
      "625/625 [==============================] - 1s 1ms/step - loss: 0.0195 - mean_absolute_error: 0.0969\n",
      "Epoch 16/25\n",
      "625/625 [==============================] - 1s 1ms/step - loss: 0.0180 - mean_absolute_error: 0.0905\n",
      "Epoch 17/25\n",
      "625/625 [==============================] - 1s 1ms/step - loss: 0.0181 - mean_absolute_error: 0.0912\n",
      "Epoch 18/25\n",
      "625/625 [==============================] - 1s 1ms/step - loss: 0.0181 - mean_absolute_error: 0.0912\n",
      "Epoch 19/25\n",
      "625/625 [==============================] - 1s 1ms/step - loss: 0.0177 - mean_absolute_error: 0.0885\n",
      "Epoch 20/25\n",
      "625/625 [==============================] - 1s 1ms/step - loss: 0.0177 - mean_absolute_error: 0.0892\n",
      "Epoch 21/25\n",
      "625/625 [==============================] - 1s 1ms/step - loss: 0.0172 - mean_absolute_error: 0.0870\n",
      "Epoch 22/25\n"
     ]
    },
    {
     "name": "stdout",
     "output_type": "stream",
     "text": [
      "625/625 [==============================] - 1s 1ms/step - loss: 0.0174 - mean_absolute_error: 0.0881\n",
      "Epoch 23/25\n",
      "625/625 [==============================] - 1s 1ms/step - loss: 0.0180 - mean_absolute_error: 0.0903\n",
      "Epoch 24/25\n",
      "625/625 [==============================] - 1s 1ms/step - loss: 0.0175 - mean_absolute_error: 0.0882\n",
      "Epoch 25/25\n",
      "625/625 [==============================] - 1s 1ms/step - loss: 0.0171 - mean_absolute_error: 0.0864\n",
      "Epoch 1/25\n",
      "625/625 [==============================] - 1s 1ms/step - loss: 0.0345 - mean_absolute_error: 0.1483\n",
      "Epoch 2/25\n",
      "625/625 [==============================] - 1s 1ms/step - loss: 0.0231 - mean_absolute_error: 0.1107\n",
      "Epoch 3/25\n",
      "625/625 [==============================] - 1s 1ms/step - loss: 0.0217 - mean_absolute_error: 0.1046\n",
      "Epoch 4/25\n",
      "625/625 [==============================] - 1s 1ms/step - loss: 0.0202 - mean_absolute_error: 0.0985\n",
      "Epoch 5/25\n",
      "625/625 [==============================] - 1s 1ms/step - loss: 0.0209 - mean_absolute_error: 0.1013\n",
      "Epoch 6/25\n",
      "625/625 [==============================] - 1s 1ms/step - loss: 0.0189 - mean_absolute_error: 0.0930\n",
      "Epoch 7/25\n",
      "625/625 [==============================] - 1s 1ms/step - loss: 0.0192 - mean_absolute_error: 0.0944\n",
      "Epoch 8/25\n",
      "625/625 [==============================] - 1s 1ms/step - loss: 0.0189 - mean_absolute_error: 0.0929\n",
      "Epoch 9/25\n",
      "625/625 [==============================] - 1s 1ms/step - loss: 0.0193 - mean_absolute_error: 0.0949\n",
      "Epoch 10/25\n",
      "625/625 [==============================] - 1s 1ms/step - loss: 0.0185 - mean_absolute_error: 0.0920\n",
      "Epoch 11/25\n",
      "625/625 [==============================] - 1s 1ms/step - loss: 0.0187 - mean_absolute_error: 0.0930\n",
      "Epoch 12/25\n",
      "625/625 [==============================] - 1s 1ms/step - loss: 0.0191 - mean_absolute_error: 0.0939\n",
      "Epoch 13/25\n",
      "625/625 [==============================] - 1s 1ms/step - loss: 0.0182 - mean_absolute_error: 0.0902\n",
      "Epoch 14/25\n",
      "625/625 [==============================] - 1s 1ms/step - loss: 0.0181 - mean_absolute_error: 0.0900\n",
      "Epoch 15/25\n",
      "625/625 [==============================] - 1s 1ms/step - loss: 0.0179 - mean_absolute_error: 0.0896\n",
      "Epoch 16/25\n",
      "625/625 [==============================] - 1s 1ms/step - loss: 0.0179 - mean_absolute_error: 0.0900\n",
      "Epoch 17/25\n",
      "625/625 [==============================] - 1s 1ms/step - loss: 0.0180 - mean_absolute_error: 0.0900\n",
      "Epoch 18/25\n",
      "625/625 [==============================] - 1s 1ms/step - loss: 0.0183 - mean_absolute_error: 0.0915\n",
      "Epoch 19/25\n",
      "625/625 [==============================] - 1s 1ms/step - loss: 0.0175 - mean_absolute_error: 0.0876\n",
      "Epoch 20/25\n",
      "625/625 [==============================] - 1s 1ms/step - loss: 0.0174 - mean_absolute_error: 0.0879\n",
      "Epoch 21/25\n",
      "625/625 [==============================] - 1s 1ms/step - loss: 0.0178 - mean_absolute_error: 0.0891\n",
      "Epoch 22/25\n",
      "625/625 [==============================] - 1s 1ms/step - loss: 0.0183 - mean_absolute_error: 0.0911\n",
      "Epoch 23/25\n",
      "625/625 [==============================] - 1s 1ms/step - loss: 0.0177 - mean_absolute_error: 0.0889\n",
      "Epoch 24/25\n",
      "625/625 [==============================] - 1s 1ms/step - loss: 0.0180 - mean_absolute_error: 0.0901\n",
      "Epoch 25/25\n",
      "625/625 [==============================] - 1s 1ms/step - loss: 0.0169 - mean_absolute_error: 0.0858\n",
      "Epoch 1/25\n",
      "625/625 [==============================] - 1s 1ms/step - loss: 0.0360 - mean_absolute_error: 0.1551\n",
      "Epoch 2/25\n",
      "625/625 [==============================] - 1s 1ms/step - loss: 0.0214 - mean_absolute_error: 0.1054\n",
      "Epoch 3/25\n",
      "625/625 [==============================] - 1s 1ms/step - loss: 0.0204 - mean_absolute_error: 0.1010\n",
      "Epoch 4/25\n",
      "625/625 [==============================] - 1s 1ms/step - loss: 0.0203 - mean_absolute_error: 0.0998\n",
      "Epoch 5/25\n",
      "625/625 [==============================] - 1s 1ms/step - loss: 0.0200 - mean_absolute_error: 0.0983\n",
      "Epoch 6/25\n",
      "625/625 [==============================] - 1s 1ms/step - loss: 0.0197 - mean_absolute_error: 0.0974\n",
      "Epoch 7/25\n",
      "625/625 [==============================] - 1s 1ms/step - loss: 0.0191 - mean_absolute_error: 0.0943\n",
      "Epoch 8/25\n",
      "625/625 [==============================] - 1s 1ms/step - loss: 0.0189 - mean_absolute_error: 0.0941\n",
      "Epoch 9/25\n",
      "625/625 [==============================] - 1s 1ms/step - loss: 0.0195 - mean_absolute_error: 0.0965\n",
      "Epoch 10/25\n",
      "625/625 [==============================] - 1s 1ms/step - loss: 0.0191 - mean_absolute_error: 0.0947\n",
      "Epoch 11/25\n",
      "625/625 [==============================] - 1s 1ms/step - loss: 0.0187 - mean_absolute_error: 0.0929\n",
      "Epoch 12/25\n",
      "625/625 [==============================] - 1s 1ms/step - loss: 0.0187 - mean_absolute_error: 0.0932\n",
      "Epoch 13/25\n",
      "625/625 [==============================] - 1s 1ms/step - loss: 0.0185 - mean_absolute_error: 0.0924\n",
      "Epoch 14/25\n",
      "625/625 [==============================] - 1s 1ms/step - loss: 0.0184 - mean_absolute_error: 0.0917\n",
      "Epoch 15/25\n",
      "625/625 [==============================] - 1s 1ms/step - loss: 0.0185 - mean_absolute_error: 0.0923\n",
      "Epoch 16/25\n",
      "625/625 [==============================] - 1s 1ms/step - loss: 0.0183 - mean_absolute_error: 0.0913\n",
      "Epoch 17/25\n",
      "625/625 [==============================] - 1s 1ms/step - loss: 0.0184 - mean_absolute_error: 0.0920\n",
      "Epoch 18/25\n",
      "625/625 [==============================] - 1s 1ms/step - loss: 0.0179 - mean_absolute_error: 0.0898\n",
      "Epoch 19/25\n",
      "625/625 [==============================] - 1s 1ms/step - loss: 0.0188 - mean_absolute_error: 0.0934\n",
      "Epoch 20/25\n",
      "625/625 [==============================] - 1s 1ms/step - loss: 0.0177 - mean_absolute_error: 0.0890\n",
      "Epoch 21/25\n",
      "625/625 [==============================] - 1s 1ms/step - loss: 0.0189 - mean_absolute_error: 0.0931\n",
      "Epoch 22/25\n",
      "625/625 [==============================] - 1s 1ms/step - loss: 0.0182 - mean_absolute_error: 0.0910\n",
      "Epoch 23/25\n",
      "625/625 [==============================] - 1s 1ms/step - loss: 0.0177 - mean_absolute_error: 0.0887\n",
      "Epoch 24/25\n",
      "625/625 [==============================] - 1s 1ms/step - loss: 0.0178 - mean_absolute_error: 0.0892\n",
      "Epoch 25/25\n",
      "625/625 [==============================] - 1s 1ms/step - loss: 0.0182 - mean_absolute_error: 0.0909\n",
      "Epoch 1/25\n",
      "625/625 [==============================] - 1s 1ms/step - loss: 0.0395 - mean_absolute_error: 0.1630\n",
      "Epoch 2/25\n",
      "625/625 [==============================] - 1s 1ms/step - loss: 0.0249 - mean_absolute_error: 0.1171\n",
      "Epoch 3/25\n",
      "625/625 [==============================] - 1s 1ms/step - loss: 0.0215 - mean_absolute_error: 0.1030\n",
      "Epoch 4/25\n",
      "625/625 [==============================] - 1s 1ms/step - loss: 0.0219 - mean_absolute_error: 0.1044\n",
      "Epoch 5/25\n",
      "625/625 [==============================] - 1s 1ms/step - loss: 0.0216 - mean_absolute_error: 0.1031\n",
      "Epoch 6/25\n",
      "625/625 [==============================] - 1s 1ms/step - loss: 0.0205 - mean_absolute_error: 0.0983\n",
      "Epoch 7/25\n",
      "625/625 [==============================] - 1s 1ms/step - loss: 0.0212 - mean_absolute_error: 0.1009\n",
      "Epoch 8/25\n",
      "625/625 [==============================] - 1s 1ms/step - loss: 0.0212 - mean_absolute_error: 0.1009\n",
      "Epoch 9/25\n",
      "625/625 [==============================] - 1s 1ms/step - loss: 0.0205 - mean_absolute_error: 0.0987\n",
      "Epoch 10/25\n",
      "625/625 [==============================] - 1s 1ms/step - loss: 0.0202 - mean_absolute_error: 0.0972\n",
      "Epoch 11/25\n",
      "625/625 [==============================] - 1s 1ms/step - loss: 0.0203 - mean_absolute_error: 0.0976\n",
      "Epoch 12/25\n",
      "625/625 [==============================] - 1s 1ms/step - loss: 0.0200 - mean_absolute_error: 0.0969\n",
      "Epoch 13/25\n",
      "625/625 [==============================] - 1s 1ms/step - loss: 0.0197 - mean_absolute_error: 0.0951\n",
      "Epoch 14/25\n",
      "625/625 [==============================] - 1s 1ms/step - loss: 0.0200 - mean_absolute_error: 0.0966\n",
      "Epoch 15/25\n",
      "625/625 [==============================] - 1s 1ms/step - loss: 0.0199 - mean_absolute_error: 0.0963\n",
      "Epoch 16/25\n",
      "625/625 [==============================] - 1s 1ms/step - loss: 0.0196 - mean_absolute_error: 0.0947\n",
      "Epoch 17/25\n",
      "625/625 [==============================] - 1s 1ms/step - loss: 0.0203 - mean_absolute_error: 0.0978\n",
      "Epoch 18/25\n",
      "625/625 [==============================] - 1s 1ms/step - loss: 0.0189 - mean_absolute_error: 0.0915\n",
      "Epoch 19/25\n",
      "625/625 [==============================] - 1s 1ms/step - loss: 0.0199 - mean_absolute_error: 0.0961\n",
      "Epoch 20/25\n"
     ]
    },
    {
     "name": "stdout",
     "output_type": "stream",
     "text": [
      "625/625 [==============================] - 1s 1ms/step - loss: 0.0188 - mean_absolute_error: 0.0913\n",
      "Epoch 21/25\n",
      "625/625 [==============================] - 1s 1ms/step - loss: 0.0195 - mean_absolute_error: 0.0944\n",
      "Epoch 22/25\n",
      "625/625 [==============================] - 1s 1ms/step - loss: 0.0191 - mean_absolute_error: 0.0933\n",
      "Epoch 23/25\n",
      "625/625 [==============================] - 1s 1ms/step - loss: 0.0192 - mean_absolute_error: 0.0935\n",
      "Epoch 24/25\n",
      "625/625 [==============================] - 1s 1ms/step - loss: 0.0197 - mean_absolute_error: 0.0954\n",
      "Epoch 25/25\n",
      "625/625 [==============================] - 1s 1ms/step - loss: 0.0194 - mean_absolute_error: 0.0944\n",
      "Epoch 1/25\n",
      "625/625 [==============================] - 1s 1ms/step - loss: 0.0362 - mean_absolute_error: 0.1528\n",
      "Epoch 2/25\n",
      "625/625 [==============================] - 1s 1ms/step - loss: 0.0230 - mean_absolute_error: 0.1086\n",
      "Epoch 3/25\n",
      "625/625 [==============================] - 1s 1ms/step - loss: 0.0216 - mean_absolute_error: 0.1023\n",
      "Epoch 4/25\n",
      "625/625 [==============================] - 1s 1ms/step - loss: 0.0222 - mean_absolute_error: 0.1054\n",
      "Epoch 5/25\n",
      "625/625 [==============================] - 1s 1ms/step - loss: 0.0214 - mean_absolute_error: 0.1016\n",
      "Epoch 6/25\n",
      "625/625 [==============================] - 1s 1ms/step - loss: 0.0222 - mean_absolute_error: 0.1043\n",
      "Epoch 7/25\n",
      "625/625 [==============================] - 1s 1ms/step - loss: 0.0206 - mean_absolute_error: 0.0978\n",
      "Epoch 8/25\n",
      "625/625 [==============================] - 1s 1ms/step - loss: 0.0210 - mean_absolute_error: 0.0994\n",
      "Epoch 9/25\n",
      "625/625 [==============================] - 1s 1ms/step - loss: 0.0207 - mean_absolute_error: 0.0986\n",
      "Epoch 10/25\n",
      "625/625 [==============================] - 1s 1ms/step - loss: 0.0208 - mean_absolute_error: 0.0988\n",
      "Epoch 11/25\n",
      "625/625 [==============================] - 1s 1ms/step - loss: 0.0199 - mean_absolute_error: 0.0949\n",
      "Epoch 12/25\n",
      "625/625 [==============================] - 1s 1ms/step - loss: 0.0198 - mean_absolute_error: 0.0945\n",
      "Epoch 13/25\n",
      "625/625 [==============================] - 1s 1ms/step - loss: 0.0200 - mean_absolute_error: 0.0959\n",
      "Epoch 14/25\n",
      "625/625 [==============================] - 1s 1ms/step - loss: 0.0196 - mean_absolute_error: 0.0946\n",
      "Epoch 15/25\n",
      "625/625 [==============================] - 1s 1ms/step - loss: 0.0195 - mean_absolute_error: 0.0939\n",
      "Epoch 16/25\n",
      "625/625 [==============================] - 1s 1ms/step - loss: 0.0189 - mean_absolute_error: 0.0913\n",
      "Epoch 17/25\n",
      "625/625 [==============================] - 1s 1ms/step - loss: 0.0197 - mean_absolute_error: 0.0946\n",
      "Epoch 18/25\n",
      "625/625 [==============================] - 1s 1ms/step - loss: 0.0191 - mean_absolute_error: 0.0921\n",
      "Epoch 19/25\n",
      "625/625 [==============================] - 1s 1ms/step - loss: 0.0198 - mean_absolute_error: 0.0958\n",
      "Epoch 20/25\n",
      "625/625 [==============================] - 1s 1ms/step - loss: 0.0189 - mean_absolute_error: 0.0918\n",
      "Epoch 21/25\n",
      "625/625 [==============================] - 1s 1ms/step - loss: 0.0194 - mean_absolute_error: 0.0938\n",
      "Epoch 22/25\n",
      "625/625 [==============================] - 1s 1ms/step - loss: 0.0194 - mean_absolute_error: 0.0937\n",
      "Epoch 23/25\n",
      "625/625 [==============================] - 1s 1ms/step - loss: 0.0196 - mean_absolute_error: 0.0944\n",
      "Epoch 24/25\n",
      "625/625 [==============================] - 1s 1ms/step - loss: 0.0196 - mean_absolute_error: 0.0944\n",
      "Epoch 25/25\n",
      "625/625 [==============================] - 1s 1ms/step - loss: 0.0189 - mean_absolute_error: 0.0916\n"
     ]
    }
   ],
   "source": [
    "for i in range(0,count - 1):\n",
    "    models[i].fit(X[i],y[i],epochs=25,shuffle = True,verbose=1)"
   ]
  },
  {
   "cell_type": "markdown",
   "id": "4443bf6e",
   "metadata": {},
   "source": [
    "y_predict_pre = []\n",
    "for i in range(0,len(X_test)):\n",
    "        predicted = model_pre.predict(np.array([X_test[i]]))\n",
    "        y_predict_pre.append(float(predicted))"
   ]
  },
  {
   "cell_type": "code",
   "execution_count": 45,
   "id": "0dc5e850",
   "metadata": {},
   "outputs": [
    {
     "name": "stdout",
     "output_type": "stream",
     "text": [
      "9 499\n"
     ]
    }
   ],
   "source": [
    "y_predict = []\n",
    "\n",
    "for i in range(0,count - 1):\n",
    "    y_predict_single = []\n",
    "    for j in range(0,len(X_test)):\n",
    "        clear_output(wait=True)\n",
    "        print(str(i) + ' ' + str(j))\n",
    "        predicted = models[i].predict(np.array([X_test[j]]))\n",
    "        y_predict_single.append(float(predicted))\n",
    "    y_predict.append(y_predict_single)\n",
    "\n",
    "clear_output(wait=True)\n",
    "y_predict = np.transpose(y_predict)"
   ]
  },
  {
   "cell_type": "code",
   "execution_count": 46,
   "id": "f4708c1e",
   "metadata": {},
   "outputs": [],
   "source": [
    "mean_array = []\n",
    "std_array = []\n",
    "for i in range(0,len(X_test)):\n",
    "    mean = np.mean(y_predict[i])\n",
    "    std = np.std(y_predict[i])\n",
    "    mean_array.append(mean)\n",
    "    std_array.append(std)"
   ]
  },
  {
   "cell_type": "code",
   "execution_count": 47,
   "id": "972dba28",
   "metadata": {},
   "outputs": [],
   "source": [
    "from scipy.stats import gaussian_kde\n",
    "xy = np.vstack([y_test,mean_array])\n",
    "z = gaussian_kde(xy)(xy)"
   ]
  },
  {
   "cell_type": "markdown",
   "id": "5e3081df",
   "metadata": {},
   "source": [
    "xy_pre = np.vstack([y_test,y_predict_pre])\n",
    "z_pre = gaussian_kde(xy_pre)(xy_pre)"
   ]
  },
  {
   "cell_type": "markdown",
   "id": "b6635a7d",
   "metadata": {},
   "source": [
    "fig, ax = plt.subplots()\n",
    "scatter_plot = ax.scatter(y_test, y_predict_pre, c = z_pre, s = 1, edgecolor = None)\n",
    "plt.colorbar(scatter_plot)\n",
    "plt.xlabel('spectroscopic redshift')\n",
    "plt.ylabel('photo z')\n",
    "plt.plot([0, 1], [0, 1],color = 'black')"
   ]
  },
  {
   "cell_type": "code",
   "execution_count": 48,
   "id": "623ccca3",
   "metadata": {},
   "outputs": [
    {
     "data": {
      "text/plain": [
       "[<matplotlib.lines.Line2D at 0x7f23682ce2e0>]"
      ]
     },
     "execution_count": 48,
     "metadata": {},
     "output_type": "execute_result"
    },
    {
     "data": {
      "image/png": "[encoded data removed]",
      "text/plain": [
       "<Figure size 432x288 with 2 Axes>"
      ]
     },
     "metadata": {
      "needs_background": "light"
     },
     "output_type": "display_data"
    }
   ],
   "source": [
    "import matplotlib.cm as cm\n",
    "import matplotlib\n",
    "fig, ax = plt.subplots()\n",
    "scatter_plot = ax.scatter(y_test, mean_array, c = z, s = 1, edgecolor = None)\n",
    "plt.colorbar(scatter_plot)\n",
    "plt.xlabel('spectroscopic redshift')\n",
    "plt.ylabel('photo z')\n",
    "plt.plot([0, z_max], [0, z_max],color = 'black')"
   ]
  },
  {
   "cell_type": "code",
   "execution_count": 49,
   "id": "70168bb1",
   "metadata": {},
   "outputs": [
    {
     "data": {
      "text/plain": [
       "[<matplotlib.lines.Line2D at 0x7f2362f29670>]"
      ]
     },
     "execution_count": 49,
     "metadata": {},
     "output_type": "execute_result"
    },
    {
     "data": {
      "image/png": "[encoded data removed]",
      "text/plain": [
       "<Figure size 432x288 with 1 Axes>"
      ]
     },
     "metadata": {
      "needs_background": "light"
     },
     "output_type": "display_data"
    }
   ],
   "source": [
    "fig, ax = plt.subplots()\n",
    "error_plot = ax.errorbar(y_test, mean_array, yerr = std_array, fmt=\"o\" ,markersize=1)\n",
    "plt.xlabel('spectroscopic redshift')\n",
    "plt.ylabel('photo z')\n",
    "plt.plot([0, z_max], [0, z_max],color = 'black')"
   ]
  },
  {
   "cell_type": "code",
   "execution_count": 50,
   "id": "81f8c111",
   "metadata": {},
   "outputs": [
    {
     "name": "stdout",
     "output_type": "stream",
     "text": [
      "0.426\n"
     ]
    }
   ],
   "source": [
    "overlap = 0\n",
    "overlap_array = []\n",
    "for i in range(0,len(X_test)):\n",
    "    if np.abs(y_test[i]-mean_array[i])<=std_array[i]:\n",
    "        overlap += 1\n",
    "        overlap_array.append(1)\n",
    "    else:\n",
    "        overlap_array.append(0)\n",
    "print(overlap/len(X_test))"
   ]
  },
  {
   "cell_type": "code",
   "execution_count": 51,
   "id": "445168a2",
   "metadata": {},
   "outputs": [],
   "source": [
    "combined_array = np.transpose(np.vstack((y_test,mean_array,std_array,overlap_array)))"
   ]
  },
  {
   "cell_type": "code",
   "execution_count": 52,
   "id": "889581b0",
   "metadata": {},
   "outputs": [],
   "source": [
    "sorted_combined_array = sorted(combined_array, key=lambda x: x[0])"
   ]
  },
  {
   "cell_type": "code",
   "execution_count": 53,
   "id": "a7e306b9",
   "metadata": {},
   "outputs": [],
   "source": [
    "bins = int(z_max*10)\n",
    "splitted_sorted_combined_array = np.array_split(sorted_combined_array,bins)\n",
    "coverage = []\n",
    "for i in range(0,bins):\n",
    "    bins_count = 0\n",
    "    for j in range(0,len(splitted_sorted_combined_array[i])):\n",
    "        if splitted_sorted_combined_array[i][j][3] == 1:\n",
    "            bins_count += 1\n",
    "    coverage.append(bins_count/len(splitted_sorted_combined_array[i])/0.6827)\n",
    "x_array = np.arange(0,z_max,z_max/bins)"
   ]
  },
  {
   "cell_type": "code",
   "execution_count": 54,
   "id": "e1bb736b",
   "metadata": {},
   "outputs": [
    {
     "data": {
      "text/plain": [
       "(0.0, 1.5)"
      ]
     },
     "execution_count": 54,
     "metadata": {},
     "output_type": "execute_result"
    },
    {
     "data": {
      "image/png": "[encoded data removed]",
      "text/plain": [
       "<Figure size 432x288 with 1 Axes>"
      ]
     },
     "metadata": {
      "needs_background": "light"
     },
     "output_type": "display_data"
    }
   ],
   "source": [
    "plt.plot(x_array, coverage, c = 'red')\n",
    "plt.xlabel('spectroscopic redshift')\n",
    "plt.ylabel('coverage')\n",
    "plt.ylim([0,1.5]) # 1.5 indicates full coverage"
   ]
  },
  {
   "cell_type": "code",
   "execution_count": 55,
   "id": "4c6eb49a",
   "metadata": {},
   "outputs": [],
   "source": [
    "# from Evan's code, didn't completely understand this part\n",
    "def posterior_mean_field(kernel_size: int, bias_size: int, dtype: any) -> tf.keras.Model:\n",
    "    \"\"\"Specify the surrogate posterior over `keras.layers.Dense` `kernel` and `bias`.\"\"\"\n",
    "    n = kernel_size + bias_size\n",
    "    c = np.log(np.expm1(1.))\n",
    "\n",
    "    return tf.keras.Sequential([\n",
    "        tfp.layers.VariableLayer(2 * n, dtype=dtype, initializer=lambda shape, dtype: random_gaussian_initializer(shape, dtype), trainable=True),\n",
    "        tfp.layers.DistributionLambda(lambda t: tfd.Independent(\n",
    "            tfd.Normal(loc=t[..., :n],\n",
    "                       scale= + 10e-4*tf.nn.softplus(c + t[..., n:])),\n",
    "            reinterpreted_batch_ndims=1)),\n",
    "    ])\n",
    "\n",
    "def prior_trainable(kernel_size: int, bias_size: int, dtype: any) -> tf.keras.Model:\n",
    "    \"\"\"Specify the prior over `keras.layers.Dense` `kernel` and `bias`.\"\"\"\n",
    "    n = kernel_size + bias_size\n",
    "\n",
    "    return tf.keras.Sequential([\n",
    "        tfp.layers.VariableLayer(n, dtype=dtype),  # Returns a trainable variable of shape n, regardless of input\n",
    "        tfp.layers.DistributionLambda(lambda t: tfd.Independent(\n",
    "            tfd.Normal(loc=t, scale=1),\n",
    "            reinterpreted_batch_ndims=1)),\n",
    "    ])\n",
    "\n",
    "def random_gaussian_initializer(shape, dtype):\n",
    "    n = int(shape / 2)\n",
    "    loc_norm = tf.random_normal_initializer(mean=0., stddev=0.1)\n",
    "    loc = tf.Variable(\n",
    "        initial_value=loc_norm(shape=(n,), dtype=dtype)\n",
    "    )\n",
    "    scale_norm = tf.random_normal_initializer(mean=-3., stddev=0.1)\n",
    "    scale = tf.Variable(\n",
    "        initial_value=scale_norm(shape=(n,), dtype=dtype)\n",
    "    )\n",
    "    return tf.concat([loc, scale], 0)\n",
    "\n",
    "def negative_loglikelihood(targets, estimated_distribution):\n",
    "    return -estimated_distribution.log_prob(targets)"
   ]
  },
  {
   "cell_type": "code",
   "execution_count": 56,
   "id": "781138dc",
   "metadata": {},
   "outputs": [],
   "source": [
    "input_variational = tf.keras.layers.Input(shape=X[count - 1].shape[1:])\n",
    "hidden1_variational = tfp.layers.DenseVariational(200, activation='tanh', input_shape=(5,),\n",
    "                                      make_posterior_fn=posterior_mean_field,\n",
    "                                      make_prior_fn=prior_trainable,\n",
    "                                      kl_weight=1 / len(y[count - 1]))(input_variational)\n",
    "hidden2_variational = tfp.layers.DenseVariational(200, activation='tanh', input_shape=(5,),\n",
    "                                      make_posterior_fn=posterior_mean_field,\n",
    "                                      make_prior_fn=prior_trainable,\n",
    "                                      kl_weight=1 / len(y[count - 1]))(hidden1_variational)\n",
    "hidden3_variational = tfp.layers.DenseVariational(200, activation='relu', input_shape=(5,),\n",
    "                                      make_posterior_fn=posterior_mean_field,\n",
    "                                      make_prior_fn=prior_trainable,\n",
    "                                      kl_weight=1 / len(y[count - 1]))(hidden2_variational)\n",
    "hidden4_variational = tfp.layers.DenseVariational(200, activation='relu', input_shape=(5,),\n",
    "                                      make_posterior_fn=posterior_mean_field,\n",
    "                                      make_prior_fn=prior_trainable,\n",
    "                                      kl_weight=1 / len(y[count - 1]))(hidden3_variational)   \n",
    "\n",
    "concat_variational = tf.keras.layers.Concatenate()([input_variational, hidden4_variational])\n",
    "\n",
    "distribution_params_variational = tf.keras.layers.Dense(units=2)(concat_variational)\n",
    "\n",
    "output_variational = tfp.layers.IndependentNormal(1)(distribution_params_variational)\n",
    "\n",
    "model_variational = tf.keras.Model(inputs=[input_variational], outputs=[output_variational])\n",
    "\n",
    "model_variational.compile(optimizer='adam', loss=negative_loglikelihood,metrics=[keras.metrics.RootMeanSquaredError()])"
   ]
  },
  {
   "cell_type": "code",
   "execution_count": 57,
   "id": "218e7aec",
   "metadata": {},
   "outputs": [
    {
     "name": "stdout",
     "output_type": "stream",
     "text": [
      "Epoch 1/75\n",
      "625/625 [==============================] - 4s 3ms/step - loss: 52.3123 - root_mean_squared_error: 0.3203\n",
      "Epoch 2/75\n",
      "625/625 [==============================] - 2s 3ms/step - loss: 48.6855 - root_mean_squared_error: 0.2960\n",
      "Epoch 3/75\n",
      "625/625 [==============================] - 2s 3ms/step - loss: 45.4637 - root_mean_squared_error: 0.2902\n",
      "Epoch 4/75\n",
      "625/625 [==============================] - 2s 3ms/step - loss: 42.4938 - root_mean_squared_error: 0.2877\n",
      "Epoch 5/75\n",
      "625/625 [==============================] - 2s 3ms/step - loss: 39.9422 - root_mean_squared_error: 0.2824\n",
      "Epoch 6/75\n",
      "625/625 [==============================] - 2s 3ms/step - loss: 37.8480 - root_mean_squared_error: 0.2725\n",
      "Epoch 7/75\n",
      "625/625 [==============================] - 2s 3ms/step - loss: 36.1143 - root_mean_squared_error: 0.2645\n",
      "Epoch 8/75\n",
      "625/625 [==============================] - 2s 3ms/step - loss: 34.6499 - root_mean_squared_error: 0.2588\n",
      "Epoch 9/75\n",
      "625/625 [==============================] - 2s 3ms/step - loss: 33.4226 - root_mean_squared_error: 0.2540\n",
      "Epoch 10/75\n",
      "625/625 [==============================] - 2s 3ms/step - loss: 32.3499 - root_mean_squared_error: 0.2498\n",
      "Epoch 11/75\n",
      "625/625 [==============================] - 2s 3ms/step - loss: 31.4455 - root_mean_squared_error: 0.2466\n",
      "Epoch 12/75\n",
      "625/625 [==============================] - 2s 3ms/step - loss: 30.6011 - root_mean_squared_error: 0.2437\n",
      "Epoch 13/75\n",
      "625/625 [==============================] - 2s 3ms/step - loss: 29.8660 - root_mean_squared_error: 0.2411\n",
      "Epoch 14/75\n",
      "625/625 [==============================] - 2s 3ms/step - loss: 29.2056 - root_mean_squared_error: 0.2389\n",
      "Epoch 15/75\n",
      "625/625 [==============================] - 2s 3ms/step - loss: 28.5670 - root_mean_squared_error: 0.2370\n",
      "Epoch 16/75\n",
      "625/625 [==============================] - 2s 3ms/step - loss: 28.0143 - root_mean_squared_error: 0.2352\n",
      "Epoch 17/75\n",
      "625/625 [==============================] - 2s 3ms/step - loss: 27.4861 - root_mean_squared_error: 0.2337\n",
      "Epoch 18/75\n",
      "625/625 [==============================] - 2s 3ms/step - loss: 26.9973 - root_mean_squared_error: 0.2323\n",
      "Epoch 19/75\n",
      "625/625 [==============================] - 2s 3ms/step - loss: 26.5253 - root_mean_squared_error: 0.2310\n",
      "Epoch 20/75\n",
      "625/625 [==============================] - 2s 3ms/step - loss: 26.1265 - root_mean_squared_error: 0.2299\n",
      "Epoch 21/75\n",
      "625/625 [==============================] - 2s 3ms/step - loss: 25.7103 - root_mean_squared_error: 0.2290\n",
      "Epoch 22/75\n",
      "625/625 [==============================] - 2s 3ms/step - loss: 25.3290 - root_mean_squared_error: 0.2280\n",
      "Epoch 23/75\n",
      "625/625 [==============================] - 2s 3ms/step - loss: 24.9432 - root_mean_squared_error: 0.2271\n",
      "Epoch 24/75\n",
      "625/625 [==============================] - 2s 3ms/step - loss: 24.6152 - root_mean_squared_error: 0.2263\n",
      "Epoch 25/75\n",
      "625/625 [==============================] - 2s 3ms/step - loss: 24.2630 - root_mean_squared_error: 0.2256\n",
      "Epoch 26/75\n",
      "625/625 [==============================] - 2s 3ms/step - loss: 23.9677 - root_mean_squared_error: 0.2249\n",
      "Epoch 27/75\n",
      "625/625 [==============================] - 2s 3ms/step - loss: 23.6732 - root_mean_squared_error: 0.2242\n",
      "Epoch 28/75\n",
      "625/625 [==============================] - 2s 3ms/step - loss: 23.3647 - root_mean_squared_error: 0.2235\n",
      "Epoch 29/75\n",
      "625/625 [==============================] - 2s 3ms/step - loss: 23.0863 - root_mean_squared_error: 0.2228\n",
      "Epoch 30/75\n",
      "625/625 [==============================] - 2s 3ms/step - loss: 22.8404 - root_mean_squared_error: 0.2223\n",
      "Epoch 31/75\n",
      "625/625 [==============================] - 2s 3ms/step - loss: 22.5694 - root_mean_squared_error: 0.2217\n",
      "Epoch 32/75\n",
      "625/625 [==============================] - 2s 3ms/step - loss: 22.2858 - root_mean_squared_error: 0.2211\n",
      "Epoch 33/75\n",
      "625/625 [==============================] - 2s 3ms/step - loss: 22.0970 - root_mean_squared_error: 0.2204\n",
      "Epoch 34/75\n",
      "625/625 [==============================] - 2s 3ms/step - loss: 21.8369 - root_mean_squared_error: 0.2199\n",
      "Epoch 35/75\n",
      "625/625 [==============================] - 2s 3ms/step - loss: 21.6184 - root_mean_squared_error: 0.2192\n",
      "Epoch 36/75\n",
      "625/625 [==============================] - 2s 3ms/step - loss: 21.4677 - root_mean_squared_error: 0.2187\n",
      "Epoch 37/75\n",
      "625/625 [==============================] - 2s 3ms/step - loss: 21.2182 - root_mean_squared_error: 0.2182\n",
      "Epoch 38/75\n",
      "625/625 [==============================] - 2s 3ms/step - loss: 21.0312 - root_mean_squared_error: 0.2177\n",
      "Epoch 39/75\n",
      "625/625 [==============================] - 2s 3ms/step - loss: 20.9046 - root_mean_squared_error: 0.2174\n",
      "Epoch 40/75\n",
      "625/625 [==============================] - 2s 3ms/step - loss: 20.6872 - root_mean_squared_error: 0.2170\n",
      "Epoch 41/75\n",
      "625/625 [==============================] - 2s 3ms/step - loss: 20.5572 - root_mean_squared_error: 0.2166\n",
      "Epoch 42/75\n",
      "625/625 [==============================] - 2s 3ms/step - loss: 20.3162 - root_mean_squared_error: 0.2163\n",
      "Epoch 43/75\n",
      "625/625 [==============================] - 2s 3ms/step - loss: 20.1577 - root_mean_squared_error: 0.2158\n",
      "Epoch 44/75\n",
      "625/625 [==============================] - 2s 3ms/step - loss: 20.0231 - root_mean_squared_error: 0.2154\n",
      "Epoch 45/75\n",
      "625/625 [==============================] - 2s 3ms/step - loss: 19.8678 - root_mean_squared_error: 0.2150\n",
      "Epoch 46/75\n",
      "625/625 [==============================] - 2s 3ms/step - loss: 19.7238 - root_mean_squared_error: 0.2146\n",
      "Epoch 47/75\n",
      "625/625 [==============================] - 2s 3ms/step - loss: 19.5778 - root_mean_squared_error: 0.2142\n",
      "Epoch 48/75\n",
      "625/625 [==============================] - 2s 3ms/step - loss: 19.4163 - root_mean_squared_error: 0.2138\n",
      "Epoch 49/75\n",
      "625/625 [==============================] - 2s 3ms/step - loss: 19.2829 - root_mean_squared_error: 0.2135\n",
      "Epoch 50/75\n",
      "625/625 [==============================] - 2s 3ms/step - loss: 19.1402 - root_mean_squared_error: 0.2131\n",
      "Epoch 51/75\n",
      "625/625 [==============================] - 2s 3ms/step - loss: 18.9633 - root_mean_squared_error: 0.2128\n",
      "Epoch 52/75\n",
      "625/625 [==============================] - 2s 3ms/step - loss: 18.9011 - root_mean_squared_error: 0.2126\n",
      "Epoch 53/75\n",
      "625/625 [==============================] - 2s 3ms/step - loss: 18.8330 - root_mean_squared_error: 0.2123\n",
      "Epoch 54/75\n",
      "625/625 [==============================] - 2s 3ms/step - loss: 18.6352 - root_mean_squared_error: 0.2121\n",
      "Epoch 55/75\n",
      "625/625 [==============================] - 2s 3ms/step - loss: 18.4992 - root_mean_squared_error: 0.2118\n",
      "Epoch 56/75\n",
      "625/625 [==============================] - 2s 3ms/step - loss: 18.3774 - root_mean_squared_error: 0.2114\n",
      "Epoch 57/75\n",
      "625/625 [==============================] - 2s 3ms/step - loss: 18.2679 - root_mean_squared_error: 0.2111\n",
      "Epoch 58/75\n",
      "625/625 [==============================] - 2s 3ms/step - loss: 18.2210 - root_mean_squared_error: 0.2109\n",
      "Epoch 59/75\n",
      "625/625 [==============================] - 2s 3ms/step - loss: 18.1074 - root_mean_squared_error: 0.2108\n",
      "Epoch 60/75\n",
      "625/625 [==============================] - 2s 3ms/step - loss: 17.9151 - root_mean_squared_error: 0.2105\n",
      "Epoch 61/75\n",
      "625/625 [==============================] - 2s 3ms/step - loss: 17.8282 - root_mean_squared_error: 0.2102\n",
      "Epoch 62/75\n",
      "625/625 [==============================] - 2s 3ms/step - loss: 17.7594 - root_mean_squared_error: 0.2099\n",
      "Epoch 63/75\n",
      "625/625 [==============================] - 2s 3ms/step - loss: 17.6044 - root_mean_squared_error: 0.2098\n",
      "Epoch 64/75\n",
      "625/625 [==============================] - 2s 3ms/step - loss: 17.5084 - root_mean_squared_error: 0.2095\n",
      "Epoch 65/75\n",
      "625/625 [==============================] - 2s 3ms/step - loss: 17.5311 - root_mean_squared_error: 0.2094\n",
      "Epoch 66/75\n",
      "625/625 [==============================] - 2s 3ms/step - loss: 17.3776 - root_mean_squared_error: 0.2092\n",
      "Epoch 67/75\n",
      "625/625 [==============================] - 2s 3ms/step - loss: 17.2572 - root_mean_squared_error: 0.2090\n",
      "Epoch 68/75\n",
      "625/625 [==============================] - 2s 3ms/step - loss: 17.1752 - root_mean_squared_error: 0.2088\n",
      "Epoch 69/75\n",
      "625/625 [==============================] - 2s 3ms/step - loss: 17.0855 - root_mean_squared_error: 0.2086\n",
      "Epoch 70/75\n",
      "625/625 [==============================] - 2s 3ms/step - loss: 16.9946 - root_mean_squared_error: 0.2084\n",
      "Epoch 71/75\n"
     ]
    },
    {
     "name": "stdout",
     "output_type": "stream",
     "text": [
      "625/625 [==============================] - 2s 3ms/step - loss: 16.9420 - root_mean_squared_error: 0.2082\n",
      "Epoch 72/75\n",
      "625/625 [==============================] - 2s 3ms/step - loss: 16.8898 - root_mean_squared_error: 0.2082\n",
      "Epoch 73/75\n",
      "625/625 [==============================] - 2s 3ms/step - loss: 16.7314 - root_mean_squared_error: 0.2080\n",
      "Epoch 74/75\n",
      "625/625 [==============================] - 2s 3ms/step - loss: 16.7233 - root_mean_squared_error: 0.2079\n",
      "Epoch 75/75\n",
      "625/625 [==============================] - 2s 3ms/step - loss: 16.5974 - root_mean_squared_error: 0.2079\n"
     ]
    },
    {
     "data": {
      "text/plain": [
       "<tensorflow.python.keras.callbacks.History at 0x7f2371733340>"
      ]
     },
     "execution_count": 57,
     "metadata": {},
     "output_type": "execute_result"
    }
   ],
   "source": [
    "model_variational.fit(X[count - 1],y[count - 1],epochs=75,shuffle = True,verbose=1)"
   ]
  },
  {
   "cell_type": "code",
   "execution_count": 58,
   "id": "0695422e",
   "metadata": {},
   "outputs": [],
   "source": [
    "y_predict_variational = model_variational(X_test)"
   ]
  },
  {
   "cell_type": "code",
   "execution_count": 59,
   "id": "77565955",
   "metadata": {},
   "outputs": [],
   "source": [
    "y_predict_variational_mean = np.asarray(y_predict_variational.mean())[:,0]"
   ]
  },
  {
   "cell_type": "code",
   "execution_count": 60,
   "id": "852a97a6",
   "metadata": {},
   "outputs": [],
   "source": [
    "y_predict_variational_std = np.asarray(y_predict_variational.stddev())[:,0]"
   ]
  },
  {
   "cell_type": "code",
   "execution_count": 61,
   "id": "6132cc6d",
   "metadata": {},
   "outputs": [
    {
     "data": {
      "text/plain": [
       "[<matplotlib.lines.Line2D at 0x7f24942153d0>]"
      ]
     },
     "execution_count": 61,
     "metadata": {},
     "output_type": "execute_result"
    },
    {
     "data": {
      "image/png": "[encoded data removed]",
      "text/plain": [
       "<Figure size 432x288 with 2 Axes>"
      ]
     },
     "metadata": {
      "needs_background": "light"
     },
     "output_type": "display_data"
    }
   ],
   "source": [
    "xy_variational = np.vstack([y_test,y_predict_variational_mean])\n",
    "z_variational = gaussian_kde(xy_variational)(xy_variational)\n",
    "fig, ax = plt.subplots()\n",
    "scatter_plot = ax.scatter(y_test, y_predict_variational_mean, c = z_variational, s = 1, edgecolor = None)\n",
    "plt.colorbar(scatter_plot)\n",
    "plt.xlabel('spectroscopic redshift')\n",
    "plt.ylabel('photo z')\n",
    "plt.plot([0, z_max], [0, z_max],color = 'black')"
   ]
  },
  {
   "cell_type": "code",
   "execution_count": 62,
   "id": "c59c47be",
   "metadata": {},
   "outputs": [
    {
     "data": {
      "text/plain": [
       "[<matplotlib.lines.Line2D at 0x7f23717d6c70>]"
      ]
     },
     "execution_count": 62,
     "metadata": {},
     "output_type": "execute_result"
    },
    {
     "data": {
      "image/png": "[encoded data removed]",
      "text/plain": [
       "<Figure size 432x288 with 1 Axes>"
      ]
     },
     "metadata": {
      "needs_background": "light"
     },
     "output_type": "display_data"
    }
   ],
   "source": [
    "fig, ax = plt.subplots()\n",
    "error_plot = ax.errorbar(y_test, y_predict_variational_mean, yerr = y_predict_variational_std, fmt=\"o\", markersize=1)\n",
    "plt.xlabel('spectroscopic redshift')\n",
    "plt.ylabel('photo z')\n",
    "plt.plot([0, z_max], [0, z_max],color = 'black')"
   ]
  },
  {
   "cell_type": "code",
   "execution_count": 63,
   "id": "2540210c",
   "metadata": {},
   "outputs": [
    {
     "name": "stdout",
     "output_type": "stream",
     "text": [
      "0.748\n"
     ]
    }
   ],
   "source": [
    "overlap_variational = 0\n",
    "overlap_array_variational = []\n",
    "for i in range(0,len(X_test)):\n",
    "    if np.abs(y_test[i]-y_predict_variational_mean[i])<=y_predict_variational_std[i]:\n",
    "        overlap_variational += 1\n",
    "        overlap_array_variational.append(1)\n",
    "    else:\n",
    "        overlap_array_variational.append(0)\n",
    "print(overlap_variational/len(X_test))"
   ]
  },
  {
   "cell_type": "code",
   "execution_count": 64,
   "id": "5fa7d9f4",
   "metadata": {},
   "outputs": [],
   "source": [
    "combined_array_variational = np.transpose(np.vstack((y_test,y_predict_variational_mean,y_predict_variational_std,overlap_array_variational)))"
   ]
  },
  {
   "cell_type": "code",
   "execution_count": 65,
   "id": "600afabf",
   "metadata": {},
   "outputs": [],
   "source": [
    "sorted_combined_array_variational = sorted(combined_array_variational, key=lambda x: x[0])"
   ]
  },
  {
   "cell_type": "code",
   "execution_count": 66,
   "id": "99b576c1",
   "metadata": {},
   "outputs": [],
   "source": [
    "bins_variational = int(z_max*10)\n",
    "splitted_sorted_combined_array_variational = np.array_split(sorted_combined_array_variational,bins)\n",
    "coverage_variational = []\n",
    "for i in range(0,bins_variational):\n",
    "    bins_count_variational = 0\n",
    "    for j in range(0,len(splitted_sorted_combined_array_variational[i])):\n",
    "        if splitted_sorted_combined_array_variational[i][j][3] == 1:\n",
    "            bins_count_variational += 1\n",
    "    coverage_variational.append(bins_count_variational/len(splitted_sorted_combined_array_variational[i])/0.6827)\n",
    "x_array = np.arange(0,z_max,z_max/bins_variational)"
   ]
  },
  {
   "cell_type": "code",
   "execution_count": 67,
   "id": "69cc1605",
   "metadata": {},
   "outputs": [
    {
     "data": {
      "text/plain": [
       "(0.0, 1.5)"
      ]
     },
     "execution_count": 67,
     "metadata": {},
     "output_type": "execute_result"
    },
    {
     "data": {
      "image/png": "[encoded data removed]",
      "text/plain": [
       "<Figure size 432x288 with 1 Axes>"
      ]
     },
     "metadata": {
      "needs_background": "light"
     },
     "output_type": "display_data"
    }
   ],
   "source": [
    "plt.plot(x_array, coverage_variational, c = 'red')\n",
    "plt.xlabel('spectroscopic redshift')\n",
    "plt.ylabel('coverage')\n",
    "plt.ylim([0,1.5]) # 1.5 indicates full coverage"
   ]
  }
 ],
 "metadata": {
  "kernelspec": {
   "display_name": "Python 3",
   "language": "python",
   "name": "python3"
  },
  "language_info": {
   "codemirror_mode": {
    "name": "ipython",
    "version": 3
   },
   "file_extension": ".py",
   "mimetype": "text/x-python",
   "name": "python",
   "nbconvert_exporter": "python",
   "pygments_lexer": "ipython3",
   "version": "3.8.10"
  }
 },
 "nbformat": 4,
 "nbformat_minor": 5
}
