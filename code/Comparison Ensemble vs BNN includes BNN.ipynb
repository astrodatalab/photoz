{
 "cells": [
  {
   "cell_type": "code",
   "execution_count": 86,
   "id": "5eb1d7d9",
   "metadata": {},
   "outputs": [
    {
     "name": "stdout",
     "output_type": "stream",
     "text": [
      "Num GPUs Available:  1\n"
     ]
    }
   ],
   "source": [
    "import tensorflow as tf\n",
    "import tensorflow_probability as tfp\n",
    "import pandas as pd\n",
    "import random\n",
    "print(\"Num GPUs Available: \", len(tf.config.list_physical_devices('GPU')))\n",
    "from sklearn.metrics import mean_squared_error\n",
    "import matplotlib.pyplot as plt\n",
    "from IPython.display import clear_output\n",
    "\n",
    "import numpy as np\n",
    "from tensorflow import keras\n",
    "from sklearn.model_selection import train_test_split\n",
    "tfd = tfp.distributions\n",
    "\n",
    "import keras\n",
    "from keras.models import Sequential,Input,Model\n",
    "from keras.layers import Dense, Dropout, Flatten"
   ]
  },
  {
   "cell_type": "code",
   "execution_count": 87,
   "id": "177bd8c5",
   "metadata": {},
   "outputs": [
    {
     "name": "stdout",
     "output_type": "stream",
     "text": [
      "1 Physical GPUs, 1 Logical GPUs\n"
     ]
    }
   ],
   "source": [
    "gpus = tf.config.list_physical_devices('GPU')\n",
    "if gpus:\n",
    "  # Restrict TensorFlow to only allocate 1GB of memory on the first GPU\n",
    "  try:\n",
    "    tf.config.experimental.set_virtual_device_configuration(\n",
    "        gpus[0],\n",
    "        [tf.config.experimental.VirtualDeviceConfiguration(memory_limit=5000)])\n",
    "    logical_gpus = tf.config.experimental.list_logical_devices('GPU')\n",
    "    print(len(gpus), \"Physical GPUs,\", len(logical_gpus), \"Logical GPUs\")\n",
    "  except RuntimeError as e:\n",
    "    # Virtual devices must be set before GPUs have been initialized\n",
    "    print(e)"
   ]
  },
  {
   "cell_type": "code",
   "execution_count": 88,
   "id": "481ff0df",
   "metadata": {},
   "outputs": [],
   "source": [
    "photozdata = pd.read_csv('/mnt/data/HSC/HSC_v6/HSC_v6.csv')"
   ]
  },
  {
   "cell_type": "code",
   "execution_count": 89,
   "id": "c77d1d2a",
   "metadata": {},
   "outputs": [],
   "source": [
    "# filter & duplicate drop from bayesian_nn\n",
    "z_max = 1\n",
    "filt = (photozdata['specz_redshift'] < z_max)\\\n",
    "& (photozdata['specz_redshift'] > 0.01)\\\n",
    "& (photozdata['specz_redshift_err'] > 0) \\\n",
    "& (photozdata['specz_redshift_err'] < 1)\\\n",
    "&(photozdata[\"specz_redshift_err\"]<0.005*(1+photozdata[\"specz_redshift\"]))\\\n",
    "&(photozdata['g_cmodel_mag'] >0)\\\n",
    "&(photozdata['r_cmodel_mag'] >0)\\\n",
    "&(photozdata['i_cmodel_mag'] >0)\\\n",
    "&(photozdata['z_cmodel_mag'] >0)\\\n",
    "&(photozdata['y_cmodel_mag'] >0)\\\n",
    "&(photozdata['g_cmodel_mag'] < 100)\\\n",
    "&(photozdata['r_cmodel_mag'] < 100)\\\n",
    "&(photozdata['i_cmodel_mag'] < 100)\\\n",
    "&(photozdata['z_cmodel_mag'] < 100)\\\n",
    "&(photozdata['y_cmodel_mag'] < 100)\\\n",
    "&(photozdata['specz_flag_homogeneous'] == True)\n",
    "photozdata.drop_duplicates(subset=['object_id'])\n",
    "photozdata_subset = np.asarray(photozdata[filt])"
   ]
  },
  {
   "cell_type": "code",
   "execution_count": 90,
   "id": "545abf32",
   "metadata": {},
   "outputs": [
    {
     "data": {
      "text/plain": [
       "Index(['object_id', 'specz_redshift_err', 'specz_redshift', 'specz_mag_i',\n",
       "       'specz_name', 'specz_ra', 'specz_dec', 'specz_flag_homogeneous', 'ra',\n",
       "       'dec', 'coord', 'skymap_id', 'g_cmodel_mag', 'r_cmodel_mag',\n",
       "       'i_cmodel_mag', 'z_cmodel_mag', 'y_cmodel_mag', 'g_cmodel_magsigma',\n",
       "       'r_cmodel_magsigma', 'i_cmodel_magsigma', 'z_cmodel_magsigma',\n",
       "       'y_cmodel_magsigma'],\n",
       "      dtype='object')"
      ]
     },
     "execution_count": 90,
     "metadata": {},
     "output_type": "execute_result"
    }
   ],
   "source": [
    "photozdata.columns"
   ]
  },
  {
   "cell_type": "code",
   "execution_count": 91,
   "id": "4b4d489b",
   "metadata": {},
   "outputs": [],
   "source": [
    "random.shuffle(photozdata_subset)\n",
    "random.shuffle(photozdata_subset)\n",
    "random.shuffle(photozdata_subset)\n",
    "random.shuffle(photozdata_subset)\n",
    "random.shuffle(photozdata_subset)\n",
    "# shuffle the data"
   ]
  },
  {
   "cell_type": "code",
   "execution_count": 92,
   "id": "5554ad62",
   "metadata": {},
   "outputs": [],
   "source": [
    "n = len(photozdata_subset)"
   ]
  },
  {
   "cell_type": "code",
   "execution_count": 99,
   "id": "82cd81d7",
   "metadata": {},
   "outputs": [],
   "source": [
    "max_grizy = np.max(np.ndarray.flatten(photozdata_subset[0:len(photozdata_subset)][:,[12,13,14,15,16]]))\n",
    "min_grizy = np.min(np.ndarray.flatten(photozdata_subset[0:len(photozdata_subset)][:,[12,13,14,15,16]]))\n",
    "slope = 1/(max_grizy-min_grizy)\n",
    "def scale_func(grizy):\n",
    "    return (grizy-min_grizy)*slope"
   ]
  },
  {
   "cell_type": "code",
   "execution_count": 106,
   "id": "8ec2a67e",
   "metadata": {},
   "outputs": [],
   "source": [
    "for i in range(0,n):\n",
    "    grizy_array = photozdata_subset[:,[12,13,14,15,16]][i]\n",
    "    scaled_grizy_array = scale_func(grizy_array)\n",
    "    photozdata_subset[:,[12,13,14,15,16]][i] = scaled_grizy_array"
   ]
  },
  {
   "cell_type": "code",
   "execution_count": 107,
   "id": "8f99d6bb",
   "metadata": {},
   "outputs": [
    {
     "data": {
      "text/plain": [
       "array([18.2886353, 17.6349106, 17.292387, 17.095787, 16.9314461],\n",
       "      dtype=object)"
      ]
     },
     "execution_count": 107,
     "metadata": {},
     "output_type": "execute_result"
    }
   ],
   "source": [
    "photozdata_subset[:,[12,13,14,15,16]][117]"
   ]
  },
  {
   "cell_type": "code",
   "execution_count": 8,
   "id": "a2d5cf99",
   "metadata": {},
   "outputs": [],
   "source": [
    "count = 11 # number of networks, including the BNN"
   ]
  },
  {
   "cell_type": "code",
   "execution_count": 9,
   "id": "b49f9d2b",
   "metadata": {},
   "outputs": [],
   "source": [
    "# split data into 6/7 bins of training sets of 40000 and 1 bin of testing set of 6401\n",
    "X = []\n",
    "y = []\n",
    "\n",
    "bin_size = 20000\n",
    "\n",
    "pre = 0\n",
    "per = bin_size - 1\n",
    "\n",
    "for i in range(0,count):\n",
    "    X.append(np.asarray(photozdata_subset[pre:per + 1][:,[12,13,14,15,16]]).astype('float32'))\n",
    "    y.append(np.asarray(photozdata_subset[pre:per + 1][:,2]).astype('float32'))\n",
    "    pre = pre + bin_size\n",
    "    per = per + bin_size\n",
    "\n",
    "X_test = np.asarray(photozdata_subset[pre : pre + 500][:,[12,13,14,15,16]]).astype('float32')\n",
    "y_test = np.asarray(photozdata_subset[pre : pre + 500][:,2]).astype('float32')\n",
    "\n",
    "X_pre = np.asarray(photozdata_subset[0 : pre][:,[12,13,14,15,16]]).astype('float32')\n",
    "y_pre = np.asarray(photozdata_subset[0 : pre][:,2]).astype('float32')"
   ]
  },
  {
   "cell_type": "code",
   "execution_count": 10,
   "id": "162070af",
   "metadata": {},
   "outputs": [],
   "source": [
    "models = []\n",
    "\n",
    "for i in range(1,count):\n",
    "    input_ = tf.keras.layers.Input(shape=X[0].shape[1:])\n",
    "    hidden1 = tf.keras.layers.Dense(200, activation=\"tanh\")(input_)\n",
    "    hidden2 = tf.keras.layers.Dense(200, activation=\"tanh\")(hidden1)\n",
    "    hidden3 = tf.keras.layers.Dense(200, activation=\"relu\")(hidden2)\n",
    "    hidden4 = tf.keras.layers.Dense(200, activation=\"relu\")(hidden3)\n",
    "    # hidden5 = tf.keras.layers.Dense(200, activation=\"relu\")(hidden4)\n",
    "    # hidden6 = tf.keras.layers.Dense(200, activation=\"relu\")(hidden5)\n",
    "    concat = tf.keras.layers.Concatenate()([input_, hidden4])\n",
    "    output = tf.keras.layers.Dense(1)(concat)\n",
    "    model = tf.keras.Model(inputs=[input_], outputs=[output])\n",
    "    model.compile(optimizer='Adam', loss=\"mse\",metrics=[tf.keras.metrics.MeanAbsoluteError()])\n",
    "    models.append(model)"
   ]
  },
  {
   "cell_type": "markdown",
   "id": "3f3f5df5",
   "metadata": {},
   "source": [
    "input_ = tf.keras.layers.Input(shape=X[0].shape[1:])\n",
    "hidden1 = tf.keras.layers.Dense(200, activation=\"relu\")(input_)\n",
    "hidden2 = tf.keras.layers.Dense(200, activation=\"relu\")(hidden1)\n",
    "hidden3 = tf.keras.layers.Dense(200, activation=\"relu\")(hidden2)\n",
    "hidden4 = tf.keras.layers.Dense(200, activation=\"relu\")(hidden3)\n",
    "hidden5 = tf.keras.layers.Dense(200, activation=\"relu\")(hidden4)\n",
    "hidden6 = tf.keras.layers.Dense(200, activation=\"relu\")(hidden5)\n",
    "concat = tf.keras.layers.Concatenate()([input_, hidden6])\n",
    "output = tf.keras.layers.Dense(1)(concat)\n",
    "model_pre = tf.keras.Model(inputs=[input_], outputs=[output])\n",
    "model_pre.compile(optimizer='Adam', loss='mse', metrics=[tf.keras.metrics.MeanAbsoluteError()])"
   ]
  },
  {
   "cell_type": "markdown",
   "id": "c05b44da",
   "metadata": {},
   "source": [
    "model_pre.fit(X_pre,y_pre,epochs=50,shuffle = True,verbose=1)"
   ]
  },
  {
   "cell_type": "code",
   "execution_count": 11,
   "id": "b89c8b1a",
   "metadata": {},
   "outputs": [
    {
     "name": "stdout",
     "output_type": "stream",
     "text": [
      "Epoch 1/25\n",
      "625/625 [==============================] - 1s 1ms/step - loss: 0.0242 - mean_absolute_error: 0.0805\n",
      "Epoch 2/25\n",
      "625/625 [==============================] - 1s 1ms/step - loss: 0.0080 - mean_absolute_error: 0.0660\n",
      "Epoch 3/25\n",
      "625/625 [==============================] - 1s 1ms/step - loss: 0.0071 - mean_absolute_error: 0.0615\n",
      "Epoch 4/25\n",
      "625/625 [==============================] - 1s 1ms/step - loss: 0.0079 - mean_absolute_error: 0.0658\n",
      "Epoch 5/25\n",
      "625/625 [==============================] - 1s 1ms/step - loss: 0.0072 - mean_absolute_error: 0.0622\n",
      "Epoch 6/25\n",
      "625/625 [==============================] - 1s 1ms/step - loss: 0.0071 - mean_absolute_error: 0.0616\n",
      "Epoch 7/25\n",
      "625/625 [==============================] - 1s 1ms/step - loss: 0.0070 - mean_absolute_error: 0.0612\n",
      "Epoch 8/25\n",
      "625/625 [==============================] - 1s 1ms/step - loss: 0.0069 - mean_absolute_error: 0.0606\n",
      "Epoch 9/25\n",
      "625/625 [==============================] - 1s 1ms/step - loss: 0.0065 - mean_absolute_error: 0.0587\n",
      "Epoch 10/25\n",
      "625/625 [==============================] - 1s 1ms/step - loss: 0.0066 - mean_absolute_error: 0.0590\n",
      "Epoch 11/25\n",
      "625/625 [==============================] - 1s 1ms/step - loss: 0.0066 - mean_absolute_error: 0.0587\n",
      "Epoch 12/25\n",
      "625/625 [==============================] - 1s 1ms/step - loss: 0.0063 - mean_absolute_error: 0.0579\n",
      "Epoch 13/25\n",
      "625/625 [==============================] - 1s 1ms/step - loss: 0.0064 - mean_absolute_error: 0.0581\n",
      "Epoch 14/25\n",
      "625/625 [==============================] - 1s 1ms/step - loss: 0.0065 - mean_absolute_error: 0.0581\n",
      "Epoch 15/25\n",
      "625/625 [==============================] - 1s 1ms/step - loss: 0.0063 - mean_absolute_error: 0.0575\n",
      "Epoch 16/25\n",
      "625/625 [==============================] - 1s 1ms/step - loss: 0.0061 - mean_absolute_error: 0.0565\n",
      "Epoch 17/25\n",
      "625/625 [==============================] - 1s 1ms/step - loss: 0.0056 - mean_absolute_error: 0.0531\n",
      "Epoch 18/25\n",
      "625/625 [==============================] - 1s 1ms/step - loss: 0.0058 - mean_absolute_error: 0.0543\n",
      "Epoch 19/25\n",
      "625/625 [==============================] - 1s 1ms/step - loss: 0.0060 - mean_absolute_error: 0.0554\n",
      "Epoch 20/25\n",
      "625/625 [==============================] - 1s 1ms/step - loss: 0.0063 - mean_absolute_error: 0.0561\n",
      "Epoch 21/25\n",
      "625/625 [==============================] - 1s 1ms/step - loss: 0.0056 - mean_absolute_error: 0.0534\n",
      "Epoch 22/25\n",
      "625/625 [==============================] - 1s 1ms/step - loss: 0.0058 - mean_absolute_error: 0.0541\n",
      "Epoch 23/25\n",
      "625/625 [==============================] - 1s 1ms/step - loss: 0.0055 - mean_absolute_error: 0.0526\n",
      "Epoch 24/25\n",
      "625/625 [==============================] - 1s 1ms/step - loss: 0.0061 - mean_absolute_error: 0.0553\n",
      "Epoch 25/25\n",
      "625/625 [==============================] - 1s 1ms/step - loss: 0.0058 - mean_absolute_error: 0.0542\n",
      "Epoch 1/25\n",
      "625/625 [==============================] - 1s 1ms/step - loss: 0.0214 - mean_absolute_error: 0.0920\n",
      "Epoch 2/25\n",
      "625/625 [==============================] - 1s 1ms/step - loss: 0.0105 - mean_absolute_error: 0.0734\n",
      "Epoch 3/25\n",
      "625/625 [==============================] - 1s 1ms/step - loss: 0.0098 - mean_absolute_error: 0.0704\n",
      "Epoch 4/25\n",
      "625/625 [==============================] - 1s 1ms/step - loss: 0.0093 - mean_absolute_error: 0.0678\n",
      "Epoch 5/25\n",
      "625/625 [==============================] - 1s 1ms/step - loss: 0.0095 - mean_absolute_error: 0.0691\n",
      "Epoch 6/25\n",
      "625/625 [==============================] - 1s 1ms/step - loss: 0.0092 - mean_absolute_error: 0.0680\n",
      "Epoch 7/25\n",
      "625/625 [==============================] - 1s 1ms/step - loss: 0.0093 - mean_absolute_error: 0.0687\n",
      "Epoch 8/25\n",
      "625/625 [==============================] - 1s 1ms/step - loss: 0.0089 - mean_absolute_error: 0.0669\n",
      "Epoch 9/25\n",
      "625/625 [==============================] - 1s 1ms/step - loss: 0.0082 - mean_absolute_error: 0.0635\n",
      "Epoch 10/25\n",
      "625/625 [==============================] - 1s 1ms/step - loss: 0.0088 - mean_absolute_error: 0.0660\n",
      "Epoch 11/25\n",
      "625/625 [==============================] - 1s 1ms/step - loss: 0.0083 - mean_absolute_error: 0.0637\n",
      "Epoch 12/25\n",
      "625/625 [==============================] - 1s 1ms/step - loss: 0.0079 - mean_absolute_error: 0.0617\n",
      "Epoch 13/25\n",
      "625/625 [==============================] - 1s 1ms/step - loss: 0.0084 - mean_absolute_error: 0.0645\n",
      "Epoch 14/25\n",
      "625/625 [==============================] - 1s 1ms/step - loss: 0.0077 - mean_absolute_error: 0.0602\n",
      "Epoch 15/25\n",
      "625/625 [==============================] - 1s 1ms/step - loss: 0.0082 - mean_absolute_error: 0.0634\n",
      "Epoch 16/25\n",
      "625/625 [==============================] - 1s 1ms/step - loss: 0.0072 - mean_absolute_error: 0.0578\n",
      "Epoch 17/25\n",
      "625/625 [==============================] - 1s 1ms/step - loss: 0.0076 - mean_absolute_error: 0.0602\n",
      "Epoch 18/25\n",
      "625/625 [==============================] - 1s 1ms/step - loss: 0.0076 - mean_absolute_error: 0.0601\n",
      "Epoch 19/25\n",
      "625/625 [==============================] - 1s 1ms/step - loss: 0.0070 - mean_absolute_error: 0.0571\n",
      "Epoch 20/25\n",
      "625/625 [==============================] - 1s 1ms/step - loss: 0.0079 - mean_absolute_error: 0.0614\n",
      "Epoch 21/25\n",
      "625/625 [==============================] - 1s 1ms/step - loss: 0.0075 - mean_absolute_error: 0.0598\n",
      "Epoch 22/25\n",
      "625/625 [==============================] - 1s 1ms/step - loss: 0.0074 - mean_absolute_error: 0.0590\n",
      "Epoch 23/25\n",
      "625/625 [==============================] - 1s 1ms/step - loss: 0.0071 - mean_absolute_error: 0.0579\n",
      "Epoch 24/25\n",
      "625/625 [==============================] - 1s 1ms/step - loss: 0.0071 - mean_absolute_error: 0.0579\n",
      "Epoch 25/25\n",
      "625/625 [==============================] - 1s 1ms/step - loss: 0.0072 - mean_absolute_error: 0.0586\n",
      "Epoch 1/25\n",
      "625/625 [==============================] - 1s 1ms/step - loss: 0.0430 - mean_absolute_error: 0.1243\n",
      "Epoch 2/25\n",
      "625/625 [==============================] - 1s 1ms/step - loss: 0.0108 - mean_absolute_error: 0.0759\n",
      "Epoch 3/25\n",
      "625/625 [==============================] - 1s 1ms/step - loss: 0.0093 - mean_absolute_error: 0.0692\n",
      "Epoch 4/25\n",
      "625/625 [==============================] - 1s 1ms/step - loss: 0.0084 - mean_absolute_error: 0.0652\n",
      "Epoch 5/25\n",
      "625/625 [==============================] - 1s 1ms/step - loss: 0.0077 - mean_absolute_error: 0.0618\n",
      "Epoch 6/25\n",
      "625/625 [==============================] - 1s 1ms/step - loss: 0.0082 - mean_absolute_error: 0.0648\n",
      "Epoch 7/25\n",
      "625/625 [==============================] - 1s 1ms/step - loss: 0.0075 - mean_absolute_error: 0.0603\n",
      "Epoch 8/25\n",
      "625/625 [==============================] - 1s 1ms/step - loss: 0.0078 - mean_absolute_error: 0.0625\n",
      "Epoch 9/25\n",
      "625/625 [==============================] - 1s 1ms/step - loss: 0.0075 - mean_absolute_error: 0.0612\n",
      "Epoch 10/25\n",
      "625/625 [==============================] - 1s 1ms/step - loss: 0.0068 - mean_absolute_error: 0.0576\n",
      "Epoch 11/25\n",
      "625/625 [==============================] - 1s 1ms/step - loss: 0.0077 - mean_absolute_error: 0.0616\n",
      "Epoch 12/25\n",
      "625/625 [==============================] - 1s 1ms/step - loss: 0.0069 - mean_absolute_error: 0.0571\n",
      "Epoch 13/25\n",
      "625/625 [==============================] - 1s 1ms/step - loss: 0.0070 - mean_absolute_error: 0.0575\n",
      "Epoch 14/25\n",
      "625/625 [==============================] - 1s 1ms/step - loss: 0.0074 - mean_absolute_error: 0.0603\n",
      "Epoch 15/25\n",
      "625/625 [==============================] - 1s 1ms/step - loss: 0.0074 - mean_absolute_error: 0.0596\n",
      "Epoch 16/25\n",
      "625/625 [==============================] - 1s 1ms/step - loss: 0.0068 - mean_absolute_error: 0.0569\n",
      "Epoch 17/25\n",
      "625/625 [==============================] - 1s 1ms/step - loss: 0.0074 - mean_absolute_error: 0.0598\n",
      "Epoch 18/25\n",
      "625/625 [==============================] - 1s 1ms/step - loss: 0.0075 - mean_absolute_error: 0.0608\n",
      "Epoch 19/25\n",
      "625/625 [==============================] - 1s 1ms/step - loss: 0.0059 - mean_absolute_error: 0.0521\n",
      "Epoch 20/25\n",
      "625/625 [==============================] - 1s 1ms/step - loss: 0.0065 - mean_absolute_error: 0.0554\n",
      "Epoch 21/25\n",
      "625/625 [==============================] - 1s 1ms/step - loss: 0.0070 - mean_absolute_error: 0.0572\n",
      "Epoch 22/25\n",
      "625/625 [==============================] - 1s 1ms/step - loss: 0.0070 - mean_absolute_error: 0.0573\n",
      "Epoch 23/25\n",
      "625/625 [==============================] - 1s 1ms/step - loss: 0.0069 - mean_absolute_error: 0.0571\n",
      "Epoch 24/25\n"
     ]
    },
    {
     "name": "stdout",
     "output_type": "stream",
     "text": [
      "625/625 [==============================] - 1s 1ms/step - loss: 0.0064 - mean_absolute_error: 0.0554\n",
      "Epoch 25/25\n",
      "625/625 [==============================] - 1s 1ms/step - loss: 0.0068 - mean_absolute_error: 0.0562\n",
      "Epoch 1/25\n",
      "625/625 [==============================] - 1s 1ms/step - loss: 0.0192 - mean_absolute_error: 0.0915\n",
      "Epoch 2/25\n",
      "625/625 [==============================] - 1s 1ms/step - loss: 0.0114 - mean_absolute_error: 0.0788\n",
      "Epoch 3/25\n",
      "625/625 [==============================] - 1s 1ms/step - loss: 0.0102 - mean_absolute_error: 0.0722\n",
      "Epoch 4/25\n",
      "625/625 [==============================] - 1s 1ms/step - loss: 0.0104 - mean_absolute_error: 0.0732\n",
      "Epoch 5/25\n",
      "625/625 [==============================] - 1s 1ms/step - loss: 0.0100 - mean_absolute_error: 0.0715\n",
      "Epoch 6/25\n",
      "625/625 [==============================] - 1s 1ms/step - loss: 0.0097 - mean_absolute_error: 0.0697\n",
      "Epoch 7/25\n",
      "625/625 [==============================] - 1s 1ms/step - loss: 0.0100 - mean_absolute_error: 0.0727\n",
      "Epoch 8/25\n",
      "625/625 [==============================] - 1s 1ms/step - loss: 0.0086 - mean_absolute_error: 0.0655\n",
      "Epoch 9/25\n",
      "625/625 [==============================] - 1s 1ms/step - loss: 0.0090 - mean_absolute_error: 0.0671\n",
      "Epoch 10/25\n",
      "625/625 [==============================] - 1s 1ms/step - loss: 0.0083 - mean_absolute_error: 0.0639\n",
      "Epoch 11/25\n",
      "625/625 [==============================] - 1s 1ms/step - loss: 0.0082 - mean_absolute_error: 0.0635\n",
      "Epoch 12/25\n",
      "625/625 [==============================] - 1s 1ms/step - loss: 0.0082 - mean_absolute_error: 0.0636\n",
      "Epoch 13/25\n",
      "625/625 [==============================] - 1s 1ms/step - loss: 0.0082 - mean_absolute_error: 0.0635\n",
      "Epoch 14/25\n",
      "625/625 [==============================] - 1s 1ms/step - loss: 0.0075 - mean_absolute_error: 0.0601\n",
      "Epoch 15/25\n",
      "625/625 [==============================] - 1s 1ms/step - loss: 0.0077 - mean_absolute_error: 0.0605\n",
      "Epoch 16/25\n",
      "625/625 [==============================] - 1s 1ms/step - loss: 0.0080 - mean_absolute_error: 0.0621\n",
      "Epoch 17/25\n",
      "625/625 [==============================] - 1s 1ms/step - loss: 0.0082 - mean_absolute_error: 0.0631\n",
      "Epoch 18/25\n",
      "625/625 [==============================] - 1s 1ms/step - loss: 0.0077 - mean_absolute_error: 0.0605\n",
      "Epoch 19/25\n",
      "625/625 [==============================] - 1s 1ms/step - loss: 0.0076 - mean_absolute_error: 0.0609\n",
      "Epoch 20/25\n",
      "625/625 [==============================] - 1s 1ms/step - loss: 0.0075 - mean_absolute_error: 0.0603\n",
      "Epoch 21/25\n",
      "625/625 [==============================] - 1s 1ms/step - loss: 0.0073 - mean_absolute_error: 0.0593\n",
      "Epoch 22/25\n",
      "625/625 [==============================] - 1s 1ms/step - loss: 0.0075 - mean_absolute_error: 0.0595\n",
      "Epoch 23/25\n",
      "625/625 [==============================] - 1s 1ms/step - loss: 0.0074 - mean_absolute_error: 0.0596\n",
      "Epoch 24/25\n",
      "625/625 [==============================] - 1s 1ms/step - loss: 0.0070 - mean_absolute_error: 0.0580\n",
      "Epoch 25/25\n",
      "625/625 [==============================] - 1s 1ms/step - loss: 0.0071 - mean_absolute_error: 0.0578\n",
      "Epoch 1/25\n",
      "625/625 [==============================] - 1s 1ms/step - loss: 0.4700 - mean_absolute_error: 0.3094\n",
      "Epoch 2/25\n",
      "625/625 [==============================] - 1s 1ms/step - loss: 0.0178 - mean_absolute_error: 0.0992\n",
      "Epoch 3/25\n",
      "625/625 [==============================] - 1s 1ms/step - loss: 0.0179 - mean_absolute_error: 0.0988\n",
      "Epoch 4/25\n",
      "625/625 [==============================] - 1s 1ms/step - loss: 0.0175 - mean_absolute_error: 0.0984\n",
      "Epoch 5/25\n",
      "625/625 [==============================] - 1s 1ms/step - loss: 0.0153 - mean_absolute_error: 0.0915\n",
      "Epoch 6/25\n",
      "625/625 [==============================] - 1s 1ms/step - loss: 0.0127 - mean_absolute_error: 0.0810\n",
      "Epoch 7/25\n",
      "625/625 [==============================] - 1s 1ms/step - loss: 0.0133 - mean_absolute_error: 0.0841\n",
      "Epoch 8/25\n",
      "625/625 [==============================] - 1s 1ms/step - loss: 0.0108 - mean_absolute_error: 0.0749\n",
      "Epoch 9/25\n",
      "625/625 [==============================] - 1s 1ms/step - loss: 0.0107 - mean_absolute_error: 0.0742\n",
      "Epoch 10/25\n",
      "625/625 [==============================] - 1s 1ms/step - loss: 0.0115 - mean_absolute_error: 0.0788\n",
      "Epoch 11/25\n",
      "625/625 [==============================] - 1s 1ms/step - loss: 0.0096 - mean_absolute_error: 0.0702\n",
      "Epoch 12/25\n",
      "625/625 [==============================] - 1s 1ms/step - loss: 0.0097 - mean_absolute_error: 0.0707\n",
      "Epoch 13/25\n",
      "625/625 [==============================] - 1s 1ms/step - loss: 0.0094 - mean_absolute_error: 0.0694\n",
      "Epoch 14/25\n",
      "625/625 [==============================] - 1s 1ms/step - loss: 0.0094 - mean_absolute_error: 0.0686\n",
      "Epoch 15/25\n",
      "625/625 [==============================] - 1s 1ms/step - loss: 0.0082 - mean_absolute_error: 0.0615\n",
      "Epoch 16/25\n",
      "625/625 [==============================] - 1s 1ms/step - loss: 0.0077 - mean_absolute_error: 0.0601\n",
      "Epoch 17/25\n",
      "625/625 [==============================] - 1s 1ms/step - loss: 0.0081 - mean_absolute_error: 0.0611\n",
      "Epoch 18/25\n",
      "625/625 [==============================] - 1s 1ms/step - loss: 0.0084 - mean_absolute_error: 0.0628\n",
      "Epoch 19/25\n",
      "625/625 [==============================] - 1s 1ms/step - loss: 0.0072 - mean_absolute_error: 0.0576\n",
      "Epoch 20/25\n",
      "625/625 [==============================] - 1s 1ms/step - loss: 0.0081 - mean_absolute_error: 0.0613\n",
      "Epoch 21/25\n",
      "625/625 [==============================] - 1s 1ms/step - loss: 0.0081 - mean_absolute_error: 0.0609\n",
      "Epoch 22/25\n",
      "625/625 [==============================] - 1s 1ms/step - loss: 0.0075 - mean_absolute_error: 0.0589\n",
      "Epoch 23/25\n",
      "625/625 [==============================] - 1s 1ms/step - loss: 0.0072 - mean_absolute_error: 0.0580\n",
      "Epoch 24/25\n",
      "625/625 [==============================] - 1s 1ms/step - loss: 0.0069 - mean_absolute_error: 0.0560\n",
      "Epoch 25/25\n",
      "625/625 [==============================] - 1s 1ms/step - loss: 0.0081 - mean_absolute_error: 0.0620\n",
      "Epoch 1/25\n",
      "625/625 [==============================] - 1s 1ms/step - loss: 0.1734 - mean_absolute_error: 0.1992\n",
      "Epoch 2/25\n",
      "625/625 [==============================] - 1s 1ms/step - loss: 0.0154 - mean_absolute_error: 0.0923\n",
      "Epoch 3/25\n",
      "625/625 [==============================] - 1s 1ms/step - loss: 0.0124 - mean_absolute_error: 0.0793\n",
      "Epoch 4/25\n",
      "625/625 [==============================] - 1s 1ms/step - loss: 0.0131 - mean_absolute_error: 0.0826\n",
      "Epoch 5/25\n",
      "625/625 [==============================] - 1s 1ms/step - loss: 0.0113 - mean_absolute_error: 0.0768\n",
      "Epoch 6/25\n",
      "625/625 [==============================] - 1s 1ms/step - loss: 0.0107 - mean_absolute_error: 0.0746\n",
      "Epoch 7/25\n",
      "625/625 [==============================] - 1s 1ms/step - loss: 0.0100 - mean_absolute_error: 0.0713\n",
      "Epoch 8/25\n",
      "625/625 [==============================] - 1s 1ms/step - loss: 0.0091 - mean_absolute_error: 0.0668\n",
      "Epoch 9/25\n",
      "625/625 [==============================] - 1s 1ms/step - loss: 0.0093 - mean_absolute_error: 0.0674\n",
      "Epoch 10/25\n",
      "625/625 [==============================] - 1s 1ms/step - loss: 0.0083 - mean_absolute_error: 0.0625\n",
      "Epoch 11/25\n",
      "625/625 [==============================] - 1s 1ms/step - loss: 0.0080 - mean_absolute_error: 0.0614\n",
      "Epoch 12/25\n",
      "625/625 [==============================] - 1s 1ms/step - loss: 0.0078 - mean_absolute_error: 0.0595\n",
      "Epoch 13/25\n",
      "625/625 [==============================] - 1s 1ms/step - loss: 0.0081 - mean_absolute_error: 0.0616\n",
      "Epoch 14/25\n",
      "625/625 [==============================] - 1s 1ms/step - loss: 0.0093 - mean_absolute_error: 0.0665\n",
      "Epoch 15/25\n",
      "625/625 [==============================] - 1s 1ms/step - loss: 0.0084 - mean_absolute_error: 0.0628\n",
      "Epoch 16/25\n",
      "625/625 [==============================] - 1s 1ms/step - loss: 0.0082 - mean_absolute_error: 0.0618\n",
      "Epoch 17/25\n",
      "625/625 [==============================] - 1s 1ms/step - loss: 0.0084 - mean_absolute_error: 0.0624\n",
      "Epoch 18/25\n",
      "625/625 [==============================] - 1s 1ms/step - loss: 0.0083 - mean_absolute_error: 0.0620\n",
      "Epoch 19/25\n",
      "625/625 [==============================] - 1s 1ms/step - loss: 0.0077 - mean_absolute_error: 0.0593\n",
      "Epoch 20/25\n",
      "625/625 [==============================] - 1s 1ms/step - loss: 0.0079 - mean_absolute_error: 0.0608\n",
      "Epoch 21/25\n",
      "625/625 [==============================] - 1s 1ms/step - loss: 0.0077 - mean_absolute_error: 0.0591\n",
      "Epoch 22/25\n"
     ]
    },
    {
     "name": "stdout",
     "output_type": "stream",
     "text": [
      "625/625 [==============================] - 1s 1ms/step - loss: 0.0074 - mean_absolute_error: 0.0580\n",
      "Epoch 23/25\n",
      "625/625 [==============================] - 1s 1ms/step - loss: 0.0073 - mean_absolute_error: 0.0577\n",
      "Epoch 24/25\n",
      "625/625 [==============================] - 1s 1ms/step - loss: 0.0081 - mean_absolute_error: 0.0608\n",
      "Epoch 25/25\n",
      "625/625 [==============================] - 1s 1ms/step - loss: 0.0072 - mean_absolute_error: 0.0571\n",
      "Epoch 1/25\n",
      "625/625 [==============================] - 1s 1ms/step - loss: 0.1309 - mean_absolute_error: 0.1403\n",
      "Epoch 2/25\n",
      "625/625 [==============================] - 1s 1ms/step - loss: 0.0118 - mean_absolute_error: 0.0784\n",
      "Epoch 3/25\n",
      "625/625 [==============================] - 1s 1ms/step - loss: 0.0124 - mean_absolute_error: 0.0812\n",
      "Epoch 4/25\n",
      "625/625 [==============================] - 1s 1ms/step - loss: 0.0109 - mean_absolute_error: 0.0746\n",
      "Epoch 5/25\n",
      "625/625 [==============================] - 1s 1ms/step - loss: 0.0108 - mean_absolute_error: 0.0735\n",
      "Epoch 6/25\n",
      "625/625 [==============================] - 1s 1ms/step - loss: 0.0098 - mean_absolute_error: 0.0685\n",
      "Epoch 7/25\n",
      "625/625 [==============================] - 1s 1ms/step - loss: 0.0103 - mean_absolute_error: 0.0707\n",
      "Epoch 8/25\n",
      "625/625 [==============================] - 1s 1ms/step - loss: 0.0100 - mean_absolute_error: 0.0694\n",
      "Epoch 9/25\n",
      "625/625 [==============================] - 1s 1ms/step - loss: 0.0095 - mean_absolute_error: 0.0666\n",
      "Epoch 10/25\n",
      "625/625 [==============================] - 1s 1ms/step - loss: 0.0100 - mean_absolute_error: 0.0694\n",
      "Epoch 11/25\n",
      "625/625 [==============================] - 1s 1ms/step - loss: 0.0098 - mean_absolute_error: 0.0692\n",
      "Epoch 12/25\n",
      "625/625 [==============================] - 1s 1ms/step - loss: 0.0097 - mean_absolute_error: 0.0685\n",
      "Epoch 13/25\n",
      "625/625 [==============================] - 1s 1ms/step - loss: 0.0096 - mean_absolute_error: 0.0672\n",
      "Epoch 14/25\n",
      "625/625 [==============================] - 1s 1ms/step - loss: 0.0092 - mean_absolute_error: 0.0652\n",
      "Epoch 15/25\n",
      "625/625 [==============================] - 1s 1ms/step - loss: 0.0094 - mean_absolute_error: 0.0659\n",
      "Epoch 16/25\n",
      "625/625 [==============================] - 1s 1ms/step - loss: 0.0098 - mean_absolute_error: 0.0681\n",
      "Epoch 17/25\n",
      "625/625 [==============================] - 1s 1ms/step - loss: 0.0095 - mean_absolute_error: 0.0664\n",
      "Epoch 18/25\n",
      "625/625 [==============================] - 1s 1ms/step - loss: 0.0093 - mean_absolute_error: 0.0654\n",
      "Epoch 19/25\n",
      "625/625 [==============================] - 1s 1ms/step - loss: 0.0095 - mean_absolute_error: 0.0667\n",
      "Epoch 20/25\n",
      "625/625 [==============================] - 1s 1ms/step - loss: 0.0097 - mean_absolute_error: 0.0677\n",
      "Epoch 21/25\n",
      "625/625 [==============================] - 1s 1ms/step - loss: 0.0096 - mean_absolute_error: 0.0673\n",
      "Epoch 22/25\n",
      "625/625 [==============================] - 1s 1ms/step - loss: 0.0096 - mean_absolute_error: 0.0665\n",
      "Epoch 23/25\n",
      "625/625 [==============================] - 1s 1ms/step - loss: 0.0093 - mean_absolute_error: 0.0648\n",
      "Epoch 24/25\n",
      "625/625 [==============================] - 1s 1ms/step - loss: 0.0091 - mean_absolute_error: 0.0642\n",
      "Epoch 25/25\n",
      "625/625 [==============================] - 1s 1ms/step - loss: 0.0095 - mean_absolute_error: 0.0668\n",
      "Epoch 1/25\n",
      "625/625 [==============================] - 1s 1ms/step - loss: 0.0617 - mean_absolute_error: 0.1150\n",
      "Epoch 2/25\n",
      "625/625 [==============================] - 1s 1ms/step - loss: 0.0113 - mean_absolute_error: 0.0753\n",
      "Epoch 3/25\n",
      "625/625 [==============================] - 1s 1ms/step - loss: 0.0106 - mean_absolute_error: 0.0722A: 0s - loss: 0.0105 - mean_absolute_err\n",
      "Epoch 4/25\n",
      "625/625 [==============================] - 1s 1ms/step - loss: 0.0108 - mean_absolute_error: 0.0736\n",
      "Epoch 5/25\n",
      "625/625 [==============================] - 1s 1ms/step - loss: 0.0098 - mean_absolute_error: 0.0682\n",
      "Epoch 6/25\n",
      "625/625 [==============================] - 1s 1ms/step - loss: 0.0102 - mean_absolute_error: 0.0709\n",
      "Epoch 7/25\n",
      "625/625 [==============================] - 1s 1ms/step - loss: 0.0102 - mean_absolute_error: 0.0701A: 0s - loss: 0.0091 - mean_absolute_er\n",
      "Epoch 8/25\n",
      "625/625 [==============================] - 1s 1ms/step - loss: 0.0096 - mean_absolute_error: 0.0669\n",
      "Epoch 9/25\n",
      "625/625 [==============================] - 1s 1ms/step - loss: 0.0095 - mean_absolute_error: 0.0672\n",
      "Epoch 10/25\n",
      "625/625 [==============================] - 1s 1ms/step - loss: 0.0098 - mean_absolute_error: 0.0686\n",
      "Epoch 11/25\n",
      "625/625 [==============================] - 1s 1ms/step - loss: 0.0095 - mean_absolute_error: 0.0670\n",
      "Epoch 12/25\n",
      "625/625 [==============================] - 1s 1ms/step - loss: 0.0093 - mean_absolute_error: 0.0662\n",
      "Epoch 13/25\n",
      "625/625 [==============================] - 1s 1ms/step - loss: 0.0089 - mean_absolute_error: 0.0640\n",
      "Epoch 14/25\n",
      "625/625 [==============================] - 1s 1ms/step - loss: 0.0089 - mean_absolute_error: 0.0639\n",
      "Epoch 15/25\n",
      "625/625 [==============================] - 1s 1ms/step - loss: 0.0087 - mean_absolute_error: 0.0635\n",
      "Epoch 16/25\n",
      "625/625 [==============================] - 1s 1ms/step - loss: 0.0095 - mean_absolute_error: 0.0672\n",
      "Epoch 17/25\n",
      "625/625 [==============================] - 1s 1ms/step - loss: 0.0084 - mean_absolute_error: 0.0615\n",
      "Epoch 18/25\n",
      "625/625 [==============================] - 1s 1ms/step - loss: 0.0085 - mean_absolute_error: 0.0621\n",
      "Epoch 19/25\n",
      "625/625 [==============================] - 1s 1ms/step - loss: 0.0085 - mean_absolute_error: 0.0621\n",
      "Epoch 20/25\n",
      "625/625 [==============================] - 1s 1ms/step - loss: 0.0087 - mean_absolute_error: 0.0626\n",
      "Epoch 21/25\n",
      "625/625 [==============================] - 1s 1ms/step - loss: 0.0080 - mean_absolute_error: 0.0595\n",
      "Epoch 22/25\n",
      "625/625 [==============================] - 1s 1ms/step - loss: 0.0083 - mean_absolute_error: 0.0611\n",
      "Epoch 23/25\n",
      "625/625 [==============================] - 1s 1ms/step - loss: 0.0080 - mean_absolute_error: 0.0595\n",
      "Epoch 24/25\n",
      "625/625 [==============================] - 1s 1ms/step - loss: 0.0084 - mean_absolute_error: 0.0621\n",
      "Epoch 25/25\n",
      "625/625 [==============================] - 1s 1ms/step - loss: 0.0084 - mean_absolute_error: 0.0618\n",
      "Epoch 1/25\n",
      "625/625 [==============================] - 1s 1ms/step - loss: 0.0182 - mean_absolute_error: 0.0895\n",
      "Epoch 2/25\n",
      "625/625 [==============================] - 1s 1ms/step - loss: 0.0110 - mean_absolute_error: 0.0725\n",
      "Epoch 3/25\n",
      "625/625 [==============================] - 1s 1ms/step - loss: 0.0105 - mean_absolute_error: 0.0703\n",
      "Epoch 4/25\n",
      "625/625 [==============================] - 1s 1ms/step - loss: 0.0105 - mean_absolute_error: 0.0702\n",
      "Epoch 5/25\n",
      "625/625 [==============================] - 1s 1ms/step - loss: 0.0100 - mean_absolute_error: 0.0677\n",
      "Epoch 6/25\n",
      "625/625 [==============================] - 1s 1ms/step - loss: 0.0100 - mean_absolute_error: 0.0679\n",
      "Epoch 7/25\n",
      "625/625 [==============================] - 1s 1ms/step - loss: 0.0101 - mean_absolute_error: 0.0685\n",
      "Epoch 8/25\n",
      "625/625 [==============================] - 1s 1ms/step - loss: 0.0098 - mean_absolute_error: 0.0674\n",
      "Epoch 9/25\n",
      "625/625 [==============================] - 1s 1ms/step - loss: 0.0098 - mean_absolute_error: 0.0667\n",
      "Epoch 10/25\n",
      "625/625 [==============================] - 1s 1ms/step - loss: 0.0101 - mean_absolute_error: 0.0690\n",
      "Epoch 11/25\n",
      "625/625 [==============================] - 1s 1ms/step - loss: 0.0097 - mean_absolute_error: 0.0668\n",
      "Epoch 12/25\n",
      "625/625 [==============================] - 1s 1ms/step - loss: 0.0104 - mean_absolute_error: 0.0683\n",
      "Epoch 13/25\n",
      "625/625 [==============================] - 1s 1ms/step - loss: 0.0097 - mean_absolute_error: 0.0668\n",
      "Epoch 14/25\n",
      "625/625 [==============================] - 1s 1ms/step - loss: 0.0100 - mean_absolute_error: 0.0671\n",
      "Epoch 15/25\n",
      "625/625 [==============================] - 1s 1ms/step - loss: 0.0098 - mean_absolute_error: 0.0669\n",
      "Epoch 16/25\n",
      "625/625 [==============================] - 1s 1ms/step - loss: 0.0099 - mean_absolute_error: 0.0665\n",
      "Epoch 17/25\n",
      "625/625 [==============================] - 1s 1ms/step - loss: 0.0101 - mean_absolute_error: 0.0679\n",
      "Epoch 18/25\n",
      "625/625 [==============================] - 1s 1ms/step - loss: 0.0101 - mean_absolute_error: 0.0678\n",
      "Epoch 19/25\n"
     ]
    },
    {
     "name": "stdout",
     "output_type": "stream",
     "text": [
      "625/625 [==============================] - 1s 1ms/step - loss: 0.0099 - mean_absolute_error: 0.0667\n",
      "Epoch 20/25\n",
      "625/625 [==============================] - 1s 1ms/step - loss: 0.0102 - mean_absolute_error: 0.0674\n",
      "Epoch 21/25\n",
      "625/625 [==============================] - 1s 1ms/step - loss: 0.0098 - mean_absolute_error: 0.0667\n",
      "Epoch 22/25\n",
      "625/625 [==============================] - 1s 1ms/step - loss: 0.0097 - mean_absolute_error: 0.0659\n",
      "Epoch 23/25\n",
      "625/625 [==============================] - 1s 1ms/step - loss: 0.0096 - mean_absolute_error: 0.0655\n",
      "Epoch 24/25\n",
      "625/625 [==============================] - 1s 1ms/step - loss: 0.0099 - mean_absolute_error: 0.0665\n",
      "Epoch 25/25\n",
      "625/625 [==============================] - 1s 1ms/step - loss: 0.0097 - mean_absolute_error: 0.0658\n",
      "Epoch 1/25\n",
      "625/625 [==============================] - 1s 1ms/step - loss: 0.0563 - mean_absolute_error: 0.1346\n",
      "Epoch 2/25\n",
      "625/625 [==============================] - 1s 1ms/step - loss: 0.0121 - mean_absolute_error: 0.0784\n",
      "Epoch 3/25\n",
      "625/625 [==============================] - 1s 1ms/step - loss: 0.0102 - mean_absolute_error: 0.0701\n",
      "Epoch 4/25\n",
      "625/625 [==============================] - 1s 1ms/step - loss: 0.0096 - mean_absolute_error: 0.0674\n",
      "Epoch 5/25\n",
      "625/625 [==============================] - 1s 1ms/step - loss: 0.0095 - mean_absolute_error: 0.0655\n",
      "Epoch 6/25\n",
      "625/625 [==============================] - 1s 1ms/step - loss: 0.0097 - mean_absolute_error: 0.0660\n",
      "Epoch 7/25\n",
      "625/625 [==============================] - 1s 1ms/step - loss: 0.0096 - mean_absolute_error: 0.0665\n",
      "Epoch 8/25\n",
      "625/625 [==============================] - 1s 1ms/step - loss: 0.0096 - mean_absolute_error: 0.0657\n",
      "Epoch 9/25\n",
      "625/625 [==============================] - 1s 1ms/step - loss: 0.0100 - mean_absolute_error: 0.0683\n",
      "Epoch 10/25\n",
      "625/625 [==============================] - 1s 1ms/step - loss: 0.0095 - mean_absolute_error: 0.0660\n",
      "Epoch 11/25\n",
      "625/625 [==============================] - 1s 1ms/step - loss: 0.0096 - mean_absolute_error: 0.0666\n",
      "Epoch 12/25\n",
      "625/625 [==============================] - 1s 1ms/step - loss: 0.0098 - mean_absolute_error: 0.0670\n",
      "Epoch 13/25\n",
      "625/625 [==============================] - 1s 1ms/step - loss: 0.0097 - mean_absolute_error: 0.0670\n",
      "Epoch 14/25\n",
      "625/625 [==============================] - 1s 1ms/step - loss: 0.0098 - mean_absolute_error: 0.0667\n",
      "Epoch 15/25\n",
      "625/625 [==============================] - 1s 1ms/step - loss: 0.0098 - mean_absolute_error: 0.0664\n",
      "Epoch 16/25\n",
      "625/625 [==============================] - 1s 1ms/step - loss: 0.0095 - mean_absolute_error: 0.0659\n",
      "Epoch 17/25\n",
      "625/625 [==============================] - 1s 1ms/step - loss: 0.0097 - mean_absolute_error: 0.0668\n",
      "Epoch 18/25\n",
      "625/625 [==============================] - 1s 1ms/step - loss: 0.0096 - mean_absolute_error: 0.0660\n",
      "Epoch 19/25\n",
      "625/625 [==============================] - 1s 1ms/step - loss: 0.0093 - mean_absolute_error: 0.0644\n",
      "Epoch 20/25\n",
      "625/625 [==============================] - 1s 1ms/step - loss: 0.0091 - mean_absolute_error: 0.0642\n",
      "Epoch 21/25\n",
      "625/625 [==============================] - 1s 1ms/step - loss: 0.0096 - mean_absolute_error: 0.0651\n",
      "Epoch 22/25\n",
      "625/625 [==============================] - 1s 1ms/step - loss: 0.0092 - mean_absolute_error: 0.0640\n",
      "Epoch 23/25\n",
      "625/625 [==============================] - 1s 1ms/step - loss: 0.0090 - mean_absolute_error: 0.0626\n",
      "Epoch 24/25\n",
      "625/625 [==============================] - 1s 1ms/step - loss: 0.0099 - mean_absolute_error: 0.0662\n",
      "Epoch 25/25\n",
      "625/625 [==============================] - 1s 1ms/step - loss: 0.0093 - mean_absolute_error: 0.0643\n"
     ]
    }
   ],
   "source": [
    "for i in range(0,count - 1):\n",
    "    models[i].fit(X[i],y[i],epochs=25,shuffle = True,verbose=1)"
   ]
  },
  {
   "cell_type": "markdown",
   "id": "4443bf6e",
   "metadata": {},
   "source": [
    "y_predict_pre = []\n",
    "for i in range(0,len(X_test)):\n",
    "        predicted = model_pre.predict(np.array([X_test[i]]))\n",
    "        y_predict_pre.append(float(predicted))"
   ]
  },
  {
   "cell_type": "code",
   "execution_count": 12,
   "id": "0dc5e850",
   "metadata": {},
   "outputs": [
    {
     "name": "stdout",
     "output_type": "stream",
     "text": [
      "9 499\n"
     ]
    }
   ],
   "source": [
    "y_predict = []\n",
    "\n",
    "for i in range(0,count - 1):\n",
    "    y_predict_single = []\n",
    "    for j in range(0,len(X_test)):\n",
    "        clear_output(wait=True)\n",
    "        print(str(i) + ' ' + str(j))\n",
    "        predicted = models[i].predict(np.array([X_test[j]]))\n",
    "        y_predict_single.append(float(predicted))\n",
    "    y_predict.append(y_predict_single)\n",
    "\n",
    "clear_output(wait=True)\n",
    "y_predict = np.transpose(y_predict)"
   ]
  },
  {
   "cell_type": "code",
   "execution_count": 13,
   "id": "f4708c1e",
   "metadata": {},
   "outputs": [],
   "source": [
    "mean_array = []\n",
    "std_array = []\n",
    "for i in range(0,len(X_test)):\n",
    "    mean = np.mean(y_predict[i])\n",
    "    std = np.std(y_predict[i])\n",
    "    mean_array.append(mean)\n",
    "    std_array.append(std)"
   ]
  },
  {
   "cell_type": "code",
   "execution_count": 14,
   "id": "972dba28",
   "metadata": {},
   "outputs": [],
   "source": [
    "from scipy.stats import gaussian_kde\n",
    "xy = np.vstack([y_test,mean_array])\n",
    "z = gaussian_kde(xy)(xy)"
   ]
  },
  {
   "cell_type": "markdown",
   "id": "5e3081df",
   "metadata": {},
   "source": [
    "xy_pre = np.vstack([y_test,y_predict_pre])\n",
    "z_pre = gaussian_kde(xy_pre)(xy_pre)"
   ]
  },
  {
   "cell_type": "markdown",
   "id": "b6635a7d",
   "metadata": {},
   "source": [
    "fig, ax = plt.subplots()\n",
    "scatter_plot = ax.scatter(y_test, y_predict_pre, c = z_pre, s = 1, edgecolor = None)\n",
    "plt.colorbar(scatter_plot)\n",
    "plt.xlabel('spectroscopic redshift')\n",
    "plt.ylabel('photo z')\n",
    "plt.plot([0, 1], [0, 1],color = 'black')"
   ]
  },
  {
   "cell_type": "code",
   "execution_count": 15,
   "id": "623ccca3",
   "metadata": {},
   "outputs": [
    {
     "data": {
      "text/plain": [
       "[<matplotlib.lines.Line2D at 0x7fb30f3b4a60>]"
      ]
     },
     "execution_count": 15,
     "metadata": {},
     "output_type": "execute_result"
    },
    {
     "data": {
      "image/png": "[encoded data removed]",
      "text/plain": [
       "<Figure size 432x288 with 2 Axes>"
      ]
     },
     "metadata": {
      "needs_background": "light"
     },
     "output_type": "display_data"
    }
   ],
   "source": [
    "import matplotlib.cm as cm\n",
    "import matplotlib\n",
    "fig, ax = plt.subplots()\n",
    "scatter_plot = ax.scatter(y_test, mean_array, c = z, s = 1, edgecolor = None)\n",
    "plt.colorbar(scatter_plot)\n",
    "plt.xlabel('spectroscopic redshift')\n",
    "plt.ylabel('photo z')\n",
    "plt.plot([0, z_max], [0, z_max],color = 'black')"
   ]
  },
  {
   "cell_type": "code",
   "execution_count": 16,
   "id": "70168bb1",
   "metadata": {},
   "outputs": [
    {
     "data": {
      "text/plain": [
       "[<matplotlib.lines.Line2D at 0x7fb30fb98460>]"
      ]
     },
     "execution_count": 16,
     "metadata": {},
     "output_type": "execute_result"
    },
    {
     "data": {
      "image/png": "[encoded data removed]",
      "text/plain": [
       "<Figure size 432x288 with 1 Axes>"
      ]
     },
     "metadata": {
      "needs_background": "light"
     },
     "output_type": "display_data"
    }
   ],
   "source": [
    "fig, ax = plt.subplots()\n",
    "error_plot = ax.errorbar(y_test, mean_array, yerr = std_array, fmt=\"o\" ,markersize=1)\n",
    "plt.xlabel('spectroscopic redshift')\n",
    "plt.ylabel('photo z')\n",
    "plt.plot([0, z_max], [0, z_max],color = 'black')"
   ]
  },
  {
   "cell_type": "code",
   "execution_count": 17,
   "id": "81f8c111",
   "metadata": {},
   "outputs": [
    {
     "name": "stdout",
     "output_type": "stream",
     "text": [
      "0.602\n"
     ]
    }
   ],
   "source": [
    "overlap = 0\n",
    "overlap_array = []\n",
    "for i in range(0,len(X_test)):\n",
    "    if np.abs(y_test[i]-mean_array[i])<=std_array[i]:\n",
    "        overlap += 1\n",
    "        overlap_array.append(1)\n",
    "    else:\n",
    "        overlap_array.append(0)\n",
    "print(overlap/len(X_test))"
   ]
  },
  {
   "cell_type": "code",
   "execution_count": 18,
   "id": "445168a2",
   "metadata": {},
   "outputs": [],
   "source": [
    "combined_array = np.transpose(np.vstack((y_test,mean_array,std_array,overlap_array)))"
   ]
  },
  {
   "cell_type": "code",
   "execution_count": 19,
   "id": "889581b0",
   "metadata": {},
   "outputs": [],
   "source": [
    "sorted_combined_array = sorted(combined_array, key=lambda x: x[0])"
   ]
  },
  {
   "cell_type": "code",
   "execution_count": 20,
   "id": "a7e306b9",
   "metadata": {},
   "outputs": [],
   "source": [
    "bins = int(z_max*10)\n",
    "splitted_sorted_combined_array = np.array_split(sorted_combined_array,bins)\n",
    "coverage = []\n",
    "for i in range(0,bins):\n",
    "    bins_count = 0\n",
    "    for j in range(0,len(splitted_sorted_combined_array[i])):\n",
    "        if splitted_sorted_combined_array[i][j][3] == 1:\n",
    "            bins_count += 1\n",
    "    coverage.append(bins_count/len(splitted_sorted_combined_array[i])/0.6827)\n",
    "x_array = np.arange(0,z_max,z_max/bins)"
   ]
  },
  {
   "cell_type": "code",
   "execution_count": 21,
   "id": "e1bb736b",
   "metadata": {},
   "outputs": [
    {
     "data": {
      "text/plain": [
       "(0.0, 1.5)"
      ]
     },
     "execution_count": 21,
     "metadata": {},
     "output_type": "execute_result"
    },
    {
     "data": {
      "image/png": "[encoded data removed]",
      "text/plain": [
       "<Figure size 432x288 with 1 Axes>"
      ]
     },
     "metadata": {
      "needs_background": "light"
     },
     "output_type": "display_data"
    }
   ],
   "source": [
    "plt.plot(x_array, coverage, c = 'red')\n",
    "plt.xlabel('spectroscopic redshift')\n",
    "plt.ylabel('coverage')\n",
    "plt.ylim([0,1.5]) # 1.5 indicates full coverage"
   ]
  },
  {
   "cell_type": "code",
   "execution_count": 24,
   "id": "4c6eb49a",
   "metadata": {},
   "outputs": [],
   "source": [
    "# from Evan's code, didn't completely understand this part\n",
    "def posterior_mean_field(kernel_size: int, bias_size: int, dtype: any) -> tf.keras.Model:\n",
    "    \"\"\"Specify the surrogate posterior over `keras.layers.Dense` `kernel` and `bias`.\"\"\"\n",
    "    n = kernel_size + bias_size\n",
    "    c = np.log(np.expm1(1.))\n",
    "\n",
    "    return tf.keras.Sequential([\n",
    "        tfp.layers.VariableLayer(2 * n, dtype=dtype, initializer=lambda shape, dtype: random_gaussian_initializer(shape, dtype), trainable=True),\n",
    "        tfp.layers.DistributionLambda(lambda t: tfd.Independent(\n",
    "            tfd.Normal(loc=t[..., :n],\n",
    "                       scale= + 10e-4*tf.nn.softplus(c + t[..., n:])),\n",
    "            reinterpreted_batch_ndims=1)),\n",
    "    ])\n",
    "\n",
    "def prior_trainable(kernel_size: int, bias_size: int, dtype: any) -> tf.keras.Model:\n",
    "    \"\"\"Specify the prior over `keras.layers.Dense` `kernel` and `bias`.\"\"\"\n",
    "    n = kernel_size + bias_size\n",
    "\n",
    "    return tf.keras.Sequential([\n",
    "        tfp.layers.VariableLayer(n, dtype=dtype),  # Returns a trainable variable of shape n, regardless of input\n",
    "        tfp.layers.DistributionLambda(lambda t: tfd.Independent(\n",
    "            tfd.Normal(loc=t, scale=1),\n",
    "            reinterpreted_batch_ndims=1)),\n",
    "    ])\n",
    "\n",
    "def random_gaussian_initializer(shape, dtype):\n",
    "    n = int(shape / 2)\n",
    "    loc_norm = tf.random_normal_initializer(mean=0., stddev=0.1)\n",
    "    loc = tf.Variable(\n",
    "        initial_value=loc_norm(shape=(n,), dtype=dtype)\n",
    "    )\n",
    "    scale_norm = tf.random_normal_initializer(mean=-3., stddev=0.1)\n",
    "    scale = tf.Variable(\n",
    "        initial_value=scale_norm(shape=(n,), dtype=dtype)\n",
    "    )\n",
    "    return tf.concat([loc, scale], 0)\n",
    "\n",
    "def negative_loglikelihood(targets, estimated_distribution):\n",
    "    return -estimated_distribution.log_prob(targets)"
   ]
  },
  {
   "cell_type": "code",
   "execution_count": 55,
   "id": "781138dc",
   "metadata": {},
   "outputs": [],
   "source": [
    "input_variational = tf.keras.layers.Input(shape=X[count - 1].shape[1:])\n",
    "hidden1_variational = tfp.layers.DenseVariational(200, activation='tanh', input_shape=(5,),\n",
    "                                      make_posterior_fn=posterior_mean_field,\n",
    "                                      make_prior_fn=prior_trainable,\n",
    "                                      kl_weight=1 / len(y[count - 1]))(input_variational)\n",
    "hidden2_variational = tfp.layers.DenseVariational(200, activation='tanh', input_shape=(5,),\n",
    "                                      make_posterior_fn=posterior_mean_field,\n",
    "                                      make_prior_fn=prior_trainable,\n",
    "                                      kl_weight=1 / len(y[count - 1]))(hidden1_variational)\n",
    "hidden3_variational = tfp.layers.DenseVariational(200, activation='relu', input_shape=(5,),\n",
    "                                      make_posterior_fn=posterior_mean_field,\n",
    "                                      make_prior_fn=prior_trainable,\n",
    "                                      kl_weight=1 / len(y[count - 1]))(hidden2_variational)\n",
    "hidden4_variational = tfp.layers.DenseVariational(200, activation='relu', input_shape=(5,),\n",
    "                                      make_posterior_fn=posterior_mean_field,\n",
    "                                      make_prior_fn=prior_trainable,\n",
    "                                      kl_weight=1 / len(y[count - 1]))(hidden3_variational)   \n",
    "\n",
    "concat_variational = tf.keras.layers.Concatenate()([input_variational, hidden4_variational])\n",
    "\n",
    "distribution_params_variational = tf.keras.layers.Dense(units=2)(concat_variational)\n",
    "\n",
    "output_variational = tfp.layers.IndependentNormal(1)(distribution_params_variational)\n",
    "\n",
    "model_variational = tf.keras.Model(inputs=[input_variational], outputs=[output_variational])\n",
    "\n",
    "model_variational.compile(optimizer='adam', loss=negative_loglikelihood,metrics=[keras.metrics.RootMeanSquaredError()])"
   ]
  },
  {
   "cell_type": "code",
   "execution_count": 56,
   "id": "218e7aec",
   "metadata": {},
   "outputs": [
    {
     "name": "stdout",
     "output_type": "stream",
     "text": [
      "Epoch 1/75\n",
      "625/625 [==============================] - 3s 3ms/step - loss: 53.4704 - root_mean_squared_error: 1.4791\n",
      "Epoch 2/75\n",
      "625/625 [==============================] - 2s 3ms/step - loss: 50.6718 - root_mean_squared_error: 2.5803\n",
      "Epoch 3/75\n",
      "625/625 [==============================] - 2s 3ms/step - loss: 46.4985 - root_mean_squared_error: 2.2596\n",
      "Epoch 4/75\n",
      "625/625 [==============================] - 2s 3ms/step - loss: 43.4448 - root_mean_squared_error: 1.9389\n",
      "Epoch 5/75\n",
      "625/625 [==============================] - 2s 3ms/step - loss: 40.8001 - root_mean_squared_error: 1.7201\n",
      "Epoch 6/75\n",
      "625/625 [==============================] - 2s 3ms/step - loss: 38.6071 - root_mean_squared_error: 1.5627\n",
      "Epoch 7/75\n",
      "625/625 [==============================] - 2s 3ms/step - loss: 36.6402 - root_mean_squared_error: 1.4394\n",
      "Epoch 8/75\n",
      "625/625 [==============================] - 2s 3ms/step - loss: 35.1842 - root_mean_squared_error: 1.3411\n",
      "Epoch 9/75\n",
      "625/625 [==============================] - 2s 3ms/step - loss: 33.8420 - root_mean_squared_error: 1.2610\n",
      "Epoch 10/75\n",
      "625/625 [==============================] - 2s 3ms/step - loss: 32.7278 - root_mean_squared_error: 1.1937\n",
      "Epoch 11/75\n",
      "625/625 [==============================] - 2s 3ms/step - loss: 31.7187 - root_mean_squared_error: 1.1363\n",
      "Epoch 12/75\n",
      "625/625 [==============================] - 2s 3ms/step - loss: 30.8482 - root_mean_squared_error: 1.0867\n",
      "Epoch 13/75\n",
      "625/625 [==============================] - 2s 3ms/step - loss: 30.1123 - root_mean_squared_error: 1.0431\n",
      "Epoch 14/75\n",
      "625/625 [==============================] - 2s 3ms/step - loss: 29.4223 - root_mean_squared_error: 1.0047\n",
      "Epoch 15/75\n",
      "625/625 [==============================] - 2s 3ms/step - loss: 28.7134 - root_mean_squared_error: 0.9701\n",
      "Epoch 16/75\n",
      "625/625 [==============================] - 2s 3ms/step - loss: 28.1255 - root_mean_squared_error: 0.9390\n",
      "Epoch 17/75\n",
      "625/625 [==============================] - 2s 3ms/step - loss: 27.7738 - root_mean_squared_error: 0.9115\n",
      "Epoch 18/75\n",
      "625/625 [==============================] - 2s 3ms/step - loss: 27.1082 - root_mean_squared_error: 0.8869\n",
      "Epoch 19/75\n",
      "625/625 [==============================] - 2s 3ms/step - loss: 26.5913 - root_mean_squared_error: 0.8631\n",
      "Epoch 20/75\n",
      "625/625 [==============================] - 2s 3ms/step - loss: 26.1492 - root_mean_squared_error: 0.8413\n",
      "Epoch 21/75\n",
      "625/625 [==============================] - 2s 3ms/step - loss: 25.7122 - root_mean_squared_error: 0.8211\n",
      "Epoch 22/75\n",
      "625/625 [==============================] - 2s 3ms/step - loss: 25.3499 - root_mean_squared_error: 0.8023\n",
      "Epoch 23/75\n",
      "625/625 [==============================] - 2s 3ms/step - loss: 24.9357 - root_mean_squared_error: 0.7849\n",
      "Epoch 24/75\n",
      "625/625 [==============================] - 2s 3ms/step - loss: 24.5491 - root_mean_squared_error: 0.7685\n",
      "Epoch 25/75\n",
      "625/625 [==============================] - 2s 3ms/step - loss: 24.2479 - root_mean_squared_error: 0.7531\n",
      "Epoch 26/75\n",
      "625/625 [==============================] - 2s 3ms/step - loss: 23.8649 - root_mean_squared_error: 0.7387\n",
      "Epoch 27/75\n",
      "625/625 [==============================] - 2s 3ms/step - loss: 23.5869 - root_mean_squared_error: 0.7251\n",
      "Epoch 28/75\n",
      "625/625 [==============================] - 2s 3ms/step - loss: 23.3071 - root_mean_squared_error: 0.7123\n",
      "Epoch 29/75\n",
      "625/625 [==============================] - 2s 3ms/step - loss: 23.0111 - root_mean_squared_error: 0.7001\n",
      "Epoch 30/75\n",
      "625/625 [==============================] - 2s 3ms/step - loss: 22.7641 - root_mean_squared_error: 0.6886\n",
      "Epoch 31/75\n",
      "625/625 [==============================] - 2s 3ms/step - loss: 22.4410 - root_mean_squared_error: 0.6777\n",
      "Epoch 32/75\n",
      "625/625 [==============================] - 2s 3ms/step - loss: 22.1909 - root_mean_squared_error: 0.6673\n",
      "Epoch 33/75\n",
      "625/625 [==============================] - 2s 3ms/step - loss: 21.9426 - root_mean_squared_error: 0.6573\n",
      "Epoch 34/75\n",
      "625/625 [==============================] - 2s 3ms/step - loss: 21.8459 - root_mean_squared_error: 0.6480\n",
      "Epoch 35/75\n",
      "625/625 [==============================] - 2s 3ms/step - loss: 21.5046 - root_mean_squared_error: 0.6390\n",
      "Epoch 36/75\n",
      "625/625 [==============================] - 2s 3ms/step - loss: 21.2768 - root_mean_squared_error: 0.6303\n",
      "Epoch 37/75\n",
      "625/625 [==============================] - 2s 3ms/step - loss: 21.0867 - root_mean_squared_error: 0.6220\n",
      "Epoch 38/75\n",
      "625/625 [==============================] - 2s 3ms/step - loss: 20.8476 - root_mean_squared_error: 0.6140\n",
      "Epoch 39/75\n",
      "625/625 [==============================] - 2s 3ms/step - loss: 20.6520 - root_mean_squared_error: 0.6063\n",
      "Epoch 40/75\n",
      "625/625 [==============================] - 2s 3ms/step - loss: 20.4976 - root_mean_squared_error: 0.5990\n",
      "Epoch 41/75\n",
      "625/625 [==============================] - 2s 3ms/step - loss: 20.2623 - root_mean_squared_error: 0.5919\n",
      "Epoch 42/75\n",
      "625/625 [==============================] - 2s 3ms/step - loss: 20.0511 - root_mean_squared_error: 0.5851\n",
      "Epoch 43/75\n",
      "625/625 [==============================] - 2s 3ms/step - loss: 19.9007 - root_mean_squared_error: 0.5785\n",
      "Epoch 44/75\n",
      "625/625 [==============================] - 2s 3ms/step - loss: 19.7660 - root_mean_squared_error: 0.5722\n",
      "Epoch 45/75\n",
      "625/625 [==============================] - 2s 3ms/step - loss: 19.6440 - root_mean_squared_error: 0.5661\n",
      "Epoch 46/75\n",
      "625/625 [==============================] - 2s 3ms/step - loss: 19.4345 - root_mean_squared_error: 0.5602\n",
      "Epoch 47/75\n",
      "625/625 [==============================] - 2s 3ms/step - loss: 19.4879 - root_mean_squared_error: 0.5553\n",
      "Epoch 48/75\n",
      "625/625 [==============================] - 2s 3ms/step - loss: 19.1393 - root_mean_squared_error: 0.5498\n",
      "Epoch 49/75\n",
      "625/625 [==============================] - 2s 3ms/step - loss: 18.9937 - root_mean_squared_error: 0.5444\n",
      "Epoch 50/75\n",
      "625/625 [==============================] - 2s 3ms/step - loss: 18.8070 - root_mean_squared_error: 0.5392\n",
      "Epoch 51/75\n",
      "625/625 [==============================] - 2s 3ms/step - loss: 18.6395 - root_mean_squared_error: 0.5342\n",
      "Epoch 52/75\n",
      "625/625 [==============================] - 2s 3ms/step - loss: 18.5238 - root_mean_squared_error: 0.5293\n",
      "Epoch 53/75\n",
      "625/625 [==============================] - 2s 3ms/step - loss: 18.3581 - root_mean_squared_error: 0.5245\n",
      "Epoch 54/75\n",
      "625/625 [==============================] - 2s 3ms/step - loss: 18.2358 - root_mean_squared_error: 0.5199\n",
      "Epoch 55/75\n",
      "625/625 [==============================] - 2s 3ms/step - loss: 18.1116 - root_mean_squared_error: 0.5154\n",
      "Epoch 56/75\n",
      "625/625 [==============================] - 2s 3ms/step - loss: 18.0124 - root_mean_squared_error: 0.5111\n",
      "Epoch 57/75\n",
      "625/625 [==============================] - 2s 3ms/step - loss: 17.8958 - root_mean_squared_error: 0.5069\n",
      "Epoch 58/75\n",
      "625/625 [==============================] - 2s 3ms/step - loss: 17.6919 - root_mean_squared_error: 0.5027\n",
      "Epoch 59/75\n",
      "625/625 [==============================] - 2s 3ms/step - loss: 17.5776 - root_mean_squared_error: 0.4987\n",
      "Epoch 60/75\n",
      "625/625 [==============================] - 2s 3ms/step - loss: 17.5317 - root_mean_squared_error: 0.4948\n",
      "Epoch 61/75\n",
      "625/625 [==============================] - 2s 3ms/step - loss: 17.4130 - root_mean_squared_error: 0.4910\n",
      "Epoch 62/75\n",
      "625/625 [==============================] - 2s 3ms/step - loss: 17.2386 - root_mean_squared_error: 0.4873\n",
      "Epoch 63/75\n",
      "625/625 [==============================] - 2s 3ms/step - loss: 17.0944 - root_mean_squared_error: 0.4837\n",
      "Epoch 64/75\n",
      "625/625 [==============================] - 2s 3ms/step - loss: 17.1554 - root_mean_squared_error: 0.4801\n",
      "Epoch 65/75\n",
      "625/625 [==============================] - 2s 3ms/step - loss: 17.2262 - root_mean_squared_error: 0.4768\n",
      "Epoch 66/75\n",
      "625/625 [==============================] - 2s 3ms/step - loss: 17.1266 - root_mean_squared_error: 0.4735\n",
      "Epoch 67/75\n",
      "625/625 [==============================] - 2s 3ms/step - loss: 17.0897 - root_mean_squared_error: 0.4703\n",
      "Epoch 68/75\n",
      "625/625 [==============================] - 2s 3ms/step - loss: 16.9729 - root_mean_squared_error: 0.4674\n",
      "Epoch 69/75\n",
      "625/625 [==============================] - 2s 3ms/step - loss: 16.7421 - root_mean_squared_error: 0.4643\n",
      "Epoch 70/75\n",
      "625/625 [==============================] - 2s 3ms/step - loss: 16.7147 - root_mean_squared_error: 0.4613\n",
      "Epoch 71/75\n"
     ]
    },
    {
     "name": "stdout",
     "output_type": "stream",
     "text": [
      "625/625 [==============================] - 2s 3ms/step - loss: 16.5820 - root_mean_squared_error: 0.4584\n",
      "Epoch 72/75\n",
      "625/625 [==============================] - 2s 3ms/step - loss: 16.4075 - root_mean_squared_error: 0.4556\n",
      "Epoch 73/75\n",
      "625/625 [==============================] - 2s 3ms/step - loss: 16.2599 - root_mean_squared_error: 0.4527\n",
      "Epoch 74/75\n",
      "625/625 [==============================] - 2s 3ms/step - loss: 16.1365 - root_mean_squared_error: 0.4499\n",
      "Epoch 75/75\n",
      "625/625 [==============================] - 2s 3ms/step - loss: 16.0204 - root_mean_squared_error: 0.4471\n"
     ]
    },
    {
     "data": {
      "text/plain": [
       "<tensorflow.python.keras.callbacks.History at 0x7fb331f01940>"
      ]
     },
     "execution_count": 56,
     "metadata": {},
     "output_type": "execute_result"
    }
   ],
   "source": [
    "model_variational.fit(X[count - 1],y[count - 1],epochs=75,shuffle = True,verbose=1)"
   ]
  },
  {
   "cell_type": "code",
   "execution_count": 57,
   "id": "0695422e",
   "metadata": {},
   "outputs": [],
   "source": [
    "y_predict_variational = model_variational(X_test)"
   ]
  },
  {
   "cell_type": "code",
   "execution_count": 58,
   "id": "77565955",
   "metadata": {},
   "outputs": [],
   "source": [
    "y_predict_variational_mean = np.asarray(y_predict_variational.mean())[:,0]"
   ]
  },
  {
   "cell_type": "code",
   "execution_count": 59,
   "id": "852a97a6",
   "metadata": {},
   "outputs": [],
   "source": [
    "y_predict_variational_std = np.asarray(y_predict_variational.stddev())[:,0]"
   ]
  },
  {
   "cell_type": "code",
   "execution_count": 60,
   "id": "6132cc6d",
   "metadata": {},
   "outputs": [
    {
     "data": {
      "text/plain": [
       "[<matplotlib.lines.Line2D at 0x7fb315024ee0>]"
      ]
     },
     "execution_count": 60,
     "metadata": {},
     "output_type": "execute_result"
    },
    {
     "data": {
      "image/png": "[encoded data removed]",
      "text/plain": [
       "<Figure size 432x288 with 2 Axes>"
      ]
     },
     "metadata": {
      "needs_background": "light"
     },
     "output_type": "display_data"
    }
   ],
   "source": [
    "xy_variational = np.vstack([y_test,y_predict_variational_mean])\n",
    "z_variational = gaussian_kde(xy_variational)(xy_variational)\n",
    "fig, ax = plt.subplots()\n",
    "scatter_plot = ax.scatter(y_test, y_predict_variational_mean, c = z_variational, s = 1, edgecolor = None)\n",
    "plt.colorbar(scatter_plot)\n",
    "plt.xlabel('spectroscopic redshift')\n",
    "plt.ylabel('photo z')\n",
    "plt.plot([0, z_max], [0, z_max],color = 'black')"
   ]
  },
  {
   "cell_type": "code",
   "execution_count": 61,
   "id": "c59c47be",
   "metadata": {},
   "outputs": [
    {
     "data": {
      "text/plain": [
       "[<matplotlib.lines.Line2D at 0x7fb314e550a0>]"
      ]
     },
     "execution_count": 61,
     "metadata": {},
     "output_type": "execute_result"
    },
    {
     "data": {
      "image/png": "[encoded data removed]",
      "text/plain": [
       "<Figure size 432x288 with 1 Axes>"
      ]
     },
     "metadata": {
      "needs_background": "light"
     },
     "output_type": "display_data"
    }
   ],
   "source": [
    "fig, ax = plt.subplots()\n",
    "error_plot = ax.errorbar(y_test, y_predict_variational_mean, yerr = y_predict_variational_std, fmt=\"o\", markersize=1)\n",
    "plt.xlabel('spectroscopic redshift')\n",
    "plt.ylabel('photo z')\n",
    "plt.plot([0, z_max], [0, z_max],color = 'black')"
   ]
  },
  {
   "cell_type": "code",
   "execution_count": 62,
   "id": "2540210c",
   "metadata": {},
   "outputs": [
    {
     "name": "stdout",
     "output_type": "stream",
     "text": [
      "0.748\n"
     ]
    }
   ],
   "source": [
    "overlap_variational = 0\n",
    "overlap_array_variational = []\n",
    "for i in range(0,len(X_test)):\n",
    "    if np.abs(y_test[i]-y_predict_variational_mean[i])<=y_predict_variational_std[i]:\n",
    "        overlap_variational += 1\n",
    "        overlap_array_variational.append(1)\n",
    "    else:\n",
    "        overlap_array_variational.append(0)\n",
    "print(overlap_variational/len(X_test))"
   ]
  },
  {
   "cell_type": "code",
   "execution_count": 63,
   "id": "5fa7d9f4",
   "metadata": {},
   "outputs": [],
   "source": [
    "combined_array_variational = np.transpose(np.vstack((y_test,y_predict_variational_mean,y_predict_variational_std,overlap_array_variational)))"
   ]
  },
  {
   "cell_type": "code",
   "execution_count": 64,
   "id": "600afabf",
   "metadata": {},
   "outputs": [],
   "source": [
    "sorted_combined_array_variational = sorted(combined_array_variational, key=lambda x: x[0])"
   ]
  },
  {
   "cell_type": "code",
   "execution_count": 65,
   "id": "99b576c1",
   "metadata": {},
   "outputs": [],
   "source": [
    "bins_variational = int(z_max*10)\n",
    "splitted_sorted_combined_array_variational = np.array_split(sorted_combined_array_variational,bins)\n",
    "coverage_variational = []\n",
    "for i in range(0,bins_variational):\n",
    "    bins_count_variational = 0\n",
    "    for j in range(0,len(splitted_sorted_combined_array_variational[i])):\n",
    "        if splitted_sorted_combined_array_variational[i][j][3] == 1:\n",
    "            bins_count_variational += 1\n",
    "    coverage_variational.append(bins_count_variational/len(splitted_sorted_combined_array_variational[i])/0.6827)\n",
    "x_array = np.arange(0,z_max,z_max/bins_variational)"
   ]
  },
  {
   "cell_type": "code",
   "execution_count": 66,
   "id": "69cc1605",
   "metadata": {},
   "outputs": [
    {
     "data": {
      "text/plain": [
       "(0.0, 1.5)"
      ]
     },
     "execution_count": 66,
     "metadata": {},
     "output_type": "execute_result"
    },
    {
     "data": {
      "image/png": "[encoded data removed]",
      "text/plain": [
       "<Figure size 432x288 with 1 Axes>"
      ]
     },
     "metadata": {
      "needs_background": "light"
     },
     "output_type": "display_data"
    }
   ],
   "source": [
    "plt.plot(x_array, coverage_variational, c = 'red')\n",
    "plt.xlabel('spectroscopic redshift')\n",
    "plt.ylabel('coverage')\n",
    "plt.ylim([0,1.5]) # 1.5 indicates full coverage"
   ]
  }
 ],
 "metadata": {
  "kernelspec": {
   "display_name": "Python 3",
   "language": "python",
   "name": "python3"
  },
  "language_info": {
   "codemirror_mode": {
    "name": "ipython",
    "version": 3
   },
   "file_extension": ".py",
   "mimetype": "text/x-python",
   "name": "python",
   "nbconvert_exporter": "python",
   "pygments_lexer": "ipython3",
   "version": "3.8.10"
  }
 },
 "nbformat": 4,
 "nbformat_minor": 5
}
