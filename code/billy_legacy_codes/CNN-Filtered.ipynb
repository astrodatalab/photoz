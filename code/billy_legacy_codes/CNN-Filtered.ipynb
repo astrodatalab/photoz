{
 "cells": [
  {
   "cell_type": "code",
   "execution_count": 1,
   "id": "1091fe3f",
   "metadata": {},
   "outputs": [],
   "source": [
    "import os\n",
    "import numpy as np\n",
    "import matplotlib.pyplot as plt\n",
    "from astropy.io import fits\n",
    "import tensorflow as tf\n",
    "import tensorflow_probability as tfp\n",
    "import h5py\n",
    "import random\n",
    "from sklearn.model_selection import train_test_split\n",
    "import pandas as pd\n",
    "import neptune.new as neptune\n",
    "from neptune.new.integrations.tensorflow_keras import NeptuneCallback"
   ]
  },
  {
   "cell_type": "code",
   "execution_count": 2,
   "id": "50b6b1d4",
   "metadata": {},
   "outputs": [],
   "source": [
    "tfpl = tfp.layers\n",
    "tf1 = tf.compat.v1\n",
    "tfd = tfp.distributions"
   ]
  },
  {
   "cell_type": "code",
   "execution_count": 3,
   "id": "3d2c3541",
   "metadata": {},
   "outputs": [],
   "source": [
    "from tensorflow_probability.python.distributions import kl_divergence"
   ]
  },
  {
   "cell_type": "code",
   "execution_count": 4,
   "id": "1d8bd5ba",
   "metadata": {},
   "outputs": [
    {
     "name": "stdout",
     "output_type": "stream",
     "text": [
      "1 Physical GPUs, 1 Logical GPUs\n"
     ]
    }
   ],
   "source": [
    "gpus = tf.config.list_physical_devices('GPU')\n",
    "\n",
    "if gpus:\n",
    "  # Restrict TensorFlow to only allocate 10GB of memory on the first GPU\n",
    "  try:\n",
    "    tf.config.experimental.set_virtual_device_configuration(\n",
    "        gpus[0],\n",
    "        [tf.config.experimental.VirtualDeviceConfiguration(memory_limit = 20000)])\n",
    "    logical_gpus = tf.config.experimental.list_logical_devices('GPU')\n",
    "    print(len(gpus), \"Physical GPUs,\", len(logical_gpus), \"Logical GPUs\")\n",
    "  except RuntimeError as e:\n",
    "    # Virtual devices must be set before GPUs have been initialized\n",
    "    print(e)"
   ]
  },
  {
   "cell_type": "code",
   "execution_count": 5,
   "id": "1fde6f1e",
   "metadata": {},
   "outputs": [
    {
     "data": {
      "image/png": "[encoded data removed]",
      "text/plain": [
       "<Figure size 432x288 with 1 Axes>"
      ]
     },
     "metadata": {
      "needs_background": "light"
     },
     "output_type": "display_data"
    }
   ],
   "source": [
    "hf = h5py.File('/data/HSC/HSC_v6/step3/127x127_out.hdf5', 'r')\n",
    "y_array = np.asarray(hf['specz_redshift'][0:])[..., None]\n",
    "hf.close()\n",
    "plt.hist(y_array, bins = 100, color = 'red', alpha = 0.5)\n",
    "hf = h5py.File('/data/HSC/HSC_v6/step3/127x127_in.hdf5', 'r')\n",
    "y_array = np.asarray(hf['specz_redshift'][0:])[..., None]\n",
    "hf.close()\n",
    "plt.hist(y_array, bins = 100, color = 'blue', alpha = 0.5)\n",
    "plt.show()"
   ]
  },
  {
   "cell_type": "code",
   "execution_count": 6,
   "id": "63726d07",
   "metadata": {},
   "outputs": [
    {
     "data": {
      "image/png": "[encoded data removed]",
      "text/plain": [
       "<Figure size 432x288 with 1 Axes>"
      ]
     },
     "metadata": {
      "needs_background": "light"
     },
     "output_type": "display_data"
    },
    {
     "data": {
      "image/png": "[encoded data removed]",
      "text/plain": [
       "<Figure size 432x288 with 1 Axes>"
      ]
     },
     "metadata": {
      "needs_background": "light"
     },
     "output_type": "display_data"
    }
   ],
   "source": [
    "hf = h5py.File('/data/HSC/HSC_v6/step3/127x127_out.hdf5', 'r')\n",
    "y_array = np.asarray(hf['specz_redshift'][0:])[..., None]\n",
    "hf.close()\n",
    "plt.hist(y_array, bins = 100, color = 'red', alpha = 0.5)\n",
    "plt.show()\n",
    "hf = h5py.File('/data/HSC/HSC_v6/step3/127x127_in.hdf5', 'r')\n",
    "y_array = np.asarray(hf['specz_redshift'][0:])[..., None]\n",
    "hf.close()\n",
    "plt.hist(y_array, bins = 100, color = 'blue', alpha = 0.5)\n",
    "plt.show()"
   ]
  },
  {
   "cell_type": "code",
   "execution_count": 7,
   "id": "3da0b6bc",
   "metadata": {},
   "outputs": [],
   "source": [
    "n = 10000\n",
    "t = 2000\n",
    "v = 2000"
   ]
  },
  {
   "cell_type": "code",
   "execution_count": 8,
   "id": "fa248053",
   "metadata": {},
   "outputs": [],
   "source": [
    "hf_train = h5py.File('/data/HSC/HSC_v6/step3/127x127_0.2_in_training_small.hdf5', 'r')\n",
    "hf_test = h5py.File('/data/HSC/HSC_v6/step3/127x127_0.2_in_testing_small.hdf5', 'r')\n",
    "hf_validation = h5py.File('/data/HSC/HSC_v6/step3/127x127_0.2_in_validation_small.hdf5', 'r')\n",
    "x_train = np.asarray(np.transpose(hf_train['image'][0:], (0, 2, 3, 1)))\n",
    "x_test = np.asarray(np.transpose(hf_test['image'][0:], (0, 2, 3, 1)))\n",
    "x_validation = np.asarray(np.transpose(hf_validation['image'][0:], (0, 2, 3, 1)))\n",
    "max_value = 4.16\n",
    "x_train = np.true_divide(x_train, max_value)\n",
    "x_test = np.true_divide(x_test, max_value)\n",
    "x_validation = np.true_divide(x_validation, max_value)\n",
    "y_train = np.asarray(hf_train['specz_redshift'][0:])[..., None]\n",
    "y_test = np.asarray(hf_test['specz_redshift'][0:])[..., None]\n",
    "y_validation = np.asarray(hf_validation['specz_redshift'][0:])[..., None]\n",
    "object_id_train = np.asarray(hf_train['object_id'][0:])\n",
    "object_id = np.asarray(hf_test['object_id'][0:])\n",
    "object_id_validation = np.asarray(hf_validation['object_id'][0:])\n",
    "hf_train.close()\n",
    "hf_test.close()\n",
    "hf_validation.close()"
   ]
  },
  {
   "cell_type": "code",
   "execution_count": 9,
   "id": "7a2ca16b",
   "metadata": {},
   "outputs": [],
   "source": [
    "hf_train_2 = h5py.File('/data/HSC/HSC_v6/step3/127x127_0.2_out_training_small.hdf5', 'r')\n",
    "hf_test_2 = h5py.File('/data/HSC/HSC_v6/step3/127x127_0.2_out_testing_small.hdf5', 'r')\n",
    "hf_validation_2 = h5py.File('/data/HSC/HSC_v6/step3/127x127_0.2_out_validation_small.hdf5', 'r')\n",
    "x_train_2 = np.asarray(np.transpose(hf_train_2['image'][0:], (0, 2 ,3 ,1)))\n",
    "x_test_2 = np.asarray(np.transpose(hf_test_2['image'][0:], (0, 2, 3, 1)))\n",
    "x_validation_2 = np.asarray(np.transpose(hf_validation_2['image'][0:], (0, 2, 3, 1)))\n",
    "x_train_2 = np.true_divide(x_train_2, max_value)\n",
    "x_test_2 = np.true_divide(x_test_2, max_value)\n",
    "x_validation_2 = np.true_divide(x_validation_2, max_value)\n",
    "y_train_2 = np.asarray(hf_train_2['specz_redshift'][0:])[..., None]\n",
    "y_test_2 = np.asarray(hf_test_2['specz_redshift'][0:])[..., None]\n",
    "y_validation_2 = np.asarray(hf_validation_2['specz_redshift'][0:])[..., None]\n",
    "object_id_train_2 = np.asarray(hf_train_2['object_id'][0:])\n",
    "object_id_2 = np.asarray(hf_test_2['object_id'][0:])\n",
    "object_id_validation_2 = np.asarray(hf_validation_2['object_id'][0:])\n",
    "hf_train_2.close()\n",
    "hf_test_2.close()\n",
    "hf_validation_2.close()"
   ]
  },
  {
   "cell_type": "code",
   "execution_count": 10,
   "id": "0f187c79",
   "metadata": {},
   "outputs": [],
   "source": [
    "def posterior_mean_field(kernel_size: int, bias_size: int, dtype: any) -> tf.keras.Model:\n",
    "    \"\"\"Specify the surrogate posterior over `keras.layers.Dense` `kernel` and `bias`.\"\"\"\n",
    "    n = kernel_size + bias_size\n",
    "    c = np.log(np.expm1(1.))\n",
    "\n",
    "    return tf.keras.Sequential([\n",
    "        tfp.layers.VariableLayer(2 * n, dtype = dtype, initializer = lambda shape, dtype: random_gaussian_initializer(shape, dtype), trainable = True),\n",
    "        tfp.layers.DistributionLambda(lambda t: tfd.Independent(\n",
    "            tfd.Normal(loc = t[ ..., : n],\n",
    "                       scale = tf.nn.softplus(c + t[..., n:])),\n",
    "            reinterpreted_batch_ndims = 1)),\n",
    "    ])\n",
    "\n",
    "def prior_trainable(kernel_size: int, bias_size: int, dtype: any) -> tf.keras.Model:\n",
    "    \"\"\"Specify the prior over `keras.layers.Dense` `kernel` and `bias`.\"\"\"\n",
    "    n = kernel_size + bias_size\n",
    "\n",
    "    return tf.keras.Sequential([\n",
    "        tfp.layers.VariableLayer(n, dtype = dtype),  # Returns a trainable variable of shape n, regardless of input\n",
    "        tfp.layers.DistributionLambda(lambda t: tfd.Independent(\n",
    "            tfd.Normal(loc = t, scale = 0.01),\n",
    "            reinterpreted_batch_ndims = 1)),\n",
    "    ])\n",
    "\n",
    "def random_gaussian_initializer(shape, dtype):\n",
    "    n = int(shape / 2)\n",
    "    loc_norm = tf.random_normal_initializer(mean = 0., stddev = 0.03)\n",
    "    loc = tf.Variable(\n",
    "        initial_value = loc_norm(shape = (n, ), dtype = dtype)\n",
    "    )\n",
    "    scale_norm = tf.random_normal_initializer(mean = -3., stddev = 0.1)\n",
    "    scale = tf.Variable(\n",
    "        initial_value = scale_norm(shape = (n, ), dtype = dtype)\n",
    "    )\n",
    "    return tf.concat([loc, scale], 0)\n",
    "\n",
    "kl_divergence_function = lambda q, p, _: kl_divergence(q, p) / n"
   ]
  },
  {
   "cell_type": "code",
   "execution_count": 11,
   "id": "69ccd934",
   "metadata": {},
   "outputs": [],
   "source": [
    "import keras\n",
    "from keras.models import Model\n",
    "from tensorflow.keras.models import Sequential\n",
    "from keras.layers import Dense, Dropout, Flatten, InputLayer, BatchNormalization\n",
    "from keras.layers import Conv2D, MaxPooling2D\n",
    "from keras.callbacks import ReduceLROnPlateau"
   ]
  },
  {
   "cell_type": "code",
   "execution_count": 12,
   "id": "c9e78ce0",
   "metadata": {},
   "outputs": [
    {
     "name": "stdout",
     "output_type": "stream",
     "text": [
      "Model: \"sequential\"\n",
      "_________________________________________________________________\n",
      "Layer (type)                 Output Shape              Param #   \n",
      "=================================================================\n",
      "module_wrapper (ModuleWrappe (10000, 127, 127, 5)      0         \n",
      "_________________________________________________________________\n",
      "module_wrapper_1 (ModuleWrap (10000, 125, 125, 32)     1472      \n",
      "_________________________________________________________________\n",
      "module_wrapper_2 (ModuleWrap (10000, 62, 62, 32)       0         \n",
      "_________________________________________________________________\n",
      "module_wrapper_3 (ModuleWrap (10000, 61, 61, 32)       4128      \n",
      "_________________________________________________________________\n",
      "module_wrapper_4 (ModuleWrap (10000, 30, 30, 32)       0         \n",
      "_________________________________________________________________\n",
      "module_wrapper_5 (ModuleWrap (10000, 28, 28, 32)       9248      \n",
      "_________________________________________________________________\n",
      "module_wrapper_6 (ModuleWrap (10000, 27, 27, 32)       4128      \n",
      "_________________________________________________________________\n",
      "module_wrapper_7 (ModuleWrap (10000, 23328)            0         \n",
      "_________________________________________________________________\n",
      "module_wrapper_8 (ModuleWrap (10000, 512)              11944448  \n",
      "_________________________________________________________________\n",
      "module_wrapper_9 (ModuleWrap (10000, 128)              65664     \n",
      "_________________________________________________________________\n",
      "module_wrapper_10 (ModuleWra (10000, 1)                129       \n",
      "=================================================================\n",
      "Total params: 12,029,217\n",
      "Trainable params: 12,029,217\n",
      "Non-trainable params: 0\n",
      "_________________________________________________________________\n"
     ]
    }
   ],
   "source": [
    "model_1 = Sequential([\n",
    "    InputLayer(input_shape = (127, 127, 5)),\n",
    "    Conv2D(32, kernel_size = (3, 3), activation = 'tanh'),\n",
    "    MaxPooling2D(2, 2),\n",
    "    Conv2D(32, kernel_size = (2, 2), activation = 'tanh'),\n",
    "    MaxPooling2D(2, 2),\n",
    "    Conv2D(32, kernel_size = (3, 3), activation = 'relu'),\n",
    "    Conv2D(32, kernel_size = (2, 2), activation = 'relu'),\n",
    "    Flatten(),\n",
    "    Dense(512),\n",
    "    Dense(128),\n",
    "    Dense(1)\n",
    "])\n",
    "\n",
    "model_1.build((10000, 127, 127, 5))\n",
    "\n",
    "model_1.summary()"
   ]
  },
  {
   "cell_type": "code",
   "execution_count": 13,
   "id": "2beada9e",
   "metadata": {},
   "outputs": [
    {
     "name": "stdout",
     "output_type": "stream",
     "text": [
      "Model: \"sequential_1\"\n",
      "_________________________________________________________________\n",
      "Layer (type)                 Output Shape              Param #   \n",
      "=================================================================\n",
      "module_wrapper_11 (ModuleWra (10000, 127, 127, 5)      0         \n",
      "_________________________________________________________________\n",
      "module_wrapper_12 (ModuleWra (10000, 125, 125, 32)     1472      \n",
      "_________________________________________________________________\n",
      "module_wrapper_13 (ModuleWra (10000, 62, 62, 32)       0         \n",
      "_________________________________________________________________\n",
      "module_wrapper_14 (ModuleWra (10000, 61, 61, 32)       4128      \n",
      "_________________________________________________________________\n",
      "module_wrapper_15 (ModuleWra (10000, 30, 30, 32)       0         \n",
      "_________________________________________________________________\n",
      "module_wrapper_16 (ModuleWra (10000, 28, 28, 32)       9248      \n",
      "_________________________________________________________________\n",
      "module_wrapper_17 (ModuleWra (10000, 27, 27, 32)       4128      \n",
      "_________________________________________________________________\n",
      "module_wrapper_18 (ModuleWra (10000, 23328)            0         \n",
      "_________________________________________________________________\n",
      "module_wrapper_19 (ModuleWra (10000, 512)              11944448  \n",
      "_________________________________________________________________\n",
      "module_wrapper_20 (ModuleWra (10000, 128)              65664     \n",
      "_________________________________________________________________\n",
      "module_wrapper_21 (ModuleWra (10000, 1)                129       \n",
      "=================================================================\n",
      "Total params: 12,029,217\n",
      "Trainable params: 12,029,217\n",
      "Non-trainable params: 0\n",
      "_________________________________________________________________\n"
     ]
    }
   ],
   "source": [
    "model_2 = Sequential([\n",
    "    InputLayer(input_shape = (127, 127, 5)),\n",
    "    Conv2D(32, kernel_size = (3, 3), activation = 'tanh'),\n",
    "    MaxPooling2D(2, 2),\n",
    "    Conv2D(32, kernel_size = (2, 2), activation = 'tanh'),\n",
    "    MaxPooling2D(2, 2),\n",
    "    Conv2D(32, kernel_size = (3, 3), activation = 'relu'),\n",
    "    Conv2D(32, kernel_size = (2, 2), activation = 'relu'),\n",
    "    Flatten(),\n",
    "    Dense(512),\n",
    "    Dense(128),\n",
    "    Dense(1)\n",
    "])\n",
    "\n",
    "model_2.build((10000, 127, 127, 5))\n",
    "\n",
    "model_2.summary()"
   ]
  },
  {
   "cell_type": "code",
   "execution_count": 14,
   "id": "de5fcf3a",
   "metadata": {},
   "outputs": [],
   "source": [
    "model_1.compile(optimizer = tf.keras.optimizers.Adam(learning_rate = 0.001), loss = 'mse', metrics = [keras.metrics.RootMeanSquaredError()])\n",
    "model_2.compile(optimizer = tf.keras.optimizers.Adam(learning_rate = 0.001), loss = 'mse', metrics = [keras.metrics.RootMeanSquaredError()])"
   ]
  },
  {
   "cell_type": "code",
   "execution_count": 15,
   "id": "bc1ce517",
   "metadata": {},
   "outputs": [
    {
     "name": "stdout",
     "output_type": "stream",
     "text": [
      "https://app.neptune.ai/astro-data-lab/VAE/e/VAE-50\n"
     ]
    },
    {
     "name": "stderr",
     "output_type": "stream",
     "text": [
      "Info (NVML): RM has detected an NVML/RM version mismatch.. GPU usage metrics may not be reported. For more information, see https://docs.neptune.ai/you-should-know/what-can-you-log-and-display#hardware-consumption\n"
     ]
    },
    {
     "name": "stdout",
     "output_type": "stream",
     "text": [
      "Remember to stop your run once you’ve finished logging your metadata (https://docs.neptune.ai/api-reference/run#.stop). It will be stopped automatically only when the notebook kernel/interactive console is terminated.\n"
     ]
    }
   ],
   "source": [
    "run = neptune.init(\n",
    "    name = \"Filtered Data Test\",\n",
    "    project = \"astro-data-lab/VAE\",\n",
    "    api_token = \"eyJhcGlfYWRkcmVzcyI6Imh0dHBzOi8vYXBwLm5lcHR1bmUuYWkiLCJhcGlfdXJsIjoiaHR0cHM6Ly9hcHAubmVwdHVuZS5haSIsImFwaV9rZXkiOiIxOGFlZGMxOC04MWU5LTQ2NDctYjlhZS05NGE2NGQ0NmIzMmEifQ==\",\n",
    ")  # your credentials"
   ]
  },
  {
   "cell_type": "code",
   "execution_count": 16,
   "id": "42841133",
   "metadata": {},
   "outputs": [],
   "source": [
    "# import tensorboard\n",
    "\n",
    "# model_name = 'HSC_v6_BCNN_v5'\n",
    "\n",
    "# checkpoint_filepath = os.path.join('/models/', model_name) + '/' + model_name\n",
    "\n",
    "# weights_path = os.path.join('/models/', model_name) + '/weights'\n",
    "\n",
    "# log_dir = os.path.join('/logs/', model_name)\n",
    "\n",
    "# cp_callback = tf.keras.callbacks.ModelCheckpoint(filepath = checkpoint_filepath, save_weights_only = True, verbose = 1, save_freq = 150*250)\n",
    "\n",
    "# tensorboard_callback = tf.keras.callbacks.TensorBoard(log_dir = log_dir, histogram_freq = 1)\n",
    "\n",
    "lr_callback = ReduceLROnPlateau()\n",
    "\n",
    "neptune_callback = NeptuneCallback(run = run)"
   ]
  },
  {
   "cell_type": "code",
   "execution_count": null,
   "id": "ed21918a",
   "metadata": {
    "scrolled": true
   },
   "outputs": [
    {
     "name": "stdout",
     "output_type": "stream",
     "text": [
      "Epoch 1/600\n"
     ]
    }
   ],
   "source": [
    "model_1.fit(x = x_train, y = y_train, epochs = 600, shuffle = True, verbose = 1, validation_data = (x_validation, y_validation), callbacks = [neptune_callback, lr_callback])\n",
    "model_2.fit(x = x_train_2, y = y_train_2, epochs = 600, shuffle = True, verbose = 1, validation_data = (x_validation_2, y_validation_2), callbacks = [neptune_callback, lr_callback])"
   ]
  },
  {
   "cell_type": "code",
   "execution_count": null,
   "id": "3617d578",
   "metadata": {},
   "outputs": [],
   "source": [
    "# model_2.save_weights(weights_path.format(epoch = 900))"
   ]
  },
  {
   "cell_type": "code",
   "execution_count": null,
   "id": "12bb7b83",
   "metadata": {},
   "outputs": [],
   "source": [
    "# model_2.load_weights(weights_path)"
   ]
  },
  {
   "cell_type": "code",
   "execution_count": null,
   "id": "149a1f01",
   "metadata": {},
   "outputs": [],
   "source": [
    "photoz = []\n",
    "\n",
    "for i in range(t):\n",
    "    photoz.append(model_1.predict(np.array([x_test[i]]))[0][0])\n",
    "\n",
    "photoz = np.asarray(photoz).astype('float32')"
   ]
  },
  {
   "cell_type": "code",
   "execution_count": null,
   "id": "fd4cc0fc",
   "metadata": {},
   "outputs": [],
   "source": [
    "photoz_2 = []\n",
    "\n",
    "for i in range(t):\n",
    "    photoz_2.append(model_2.predict(np.array([x_test_2[i]]))[0][0])\n",
    "\n",
    "photoz_2 = np.asarray(photoz_2).astype('float32')"
   ]
  },
  {
   "cell_type": "markdown",
   "id": "864c3acc",
   "metadata": {},
   "source": [
    "photoz_train = []\n",
    "\n",
    "for i in range(n):\n",
    "    photoz_train.append(model_2(np.array([x_train[i]])).mean()[0][0])\n",
    "\n",
    "photoz_train = np.asarray(photoz_train).astype('float32')"
   ]
  },
  {
   "cell_type": "markdown",
   "id": "c94e1caa",
   "metadata": {},
   "source": [
    "photoz_validation = []\n",
    "\n",
    "for i in range(v):\n",
    "    photoz_validation.append(model_2(np.array([x_validation[i]])).mean()[0][0])\n",
    "\n",
    "photoz_validation = np.asarray(photoz_validation).astype('float32')"
   ]
  },
  {
   "cell_type": "code",
   "execution_count": null,
   "id": "5aaca9e4",
   "metadata": {},
   "outputs": [],
   "source": [
    "specz = np.asarray(y_test)[:,0]\n",
    "specz_2 = np.asarray(y_test_2)[:,0]\n",
    "# specz_train = np.asarray(y_train)[:,0]\n",
    "# specz_validation = np.asarray(y_validation)[:,0]"
   ]
  },
  {
   "cell_type": "code",
   "execution_count": null,
   "id": "d52fc788",
   "metadata": {},
   "outputs": [],
   "source": [
    "photoz_err = []\n",
    "\n",
    "for i in range(t):\n",
    "    photoz_err.append(model_1.predict(np.array([x_test[i]]))[0][0] / 2)"
   ]
  },
  {
   "cell_type": "code",
   "execution_count": null,
   "id": "c8f2d907",
   "metadata": {},
   "outputs": [],
   "source": [
    "photoz_err_2 = []\n",
    "\n",
    "for i in range(t):\n",
    "    photoz_err_2.append(model_2.predict(np.array([x_test_2[i]]))[0][0] / 2)"
   ]
  },
  {
   "cell_type": "markdown",
   "id": "ac83cff4",
   "metadata": {},
   "source": [
    "photoz_err_train = []\n",
    "\n",
    "for i in range(n):\n",
    "    photoz_err_train.append(model_2(np.array([x_train[i]])).stddev()[0][0])"
   ]
  },
  {
   "cell_type": "markdown",
   "id": "67f9e2ab",
   "metadata": {},
   "source": [
    "photoz_err_validation = []\n",
    "\n",
    "for i in range(v):\n",
    "    photoz_err_validation.append(model_2(np.array([x_validation[i]])).stddev()[0][0])"
   ]
  },
  {
   "cell_type": "code",
   "execution_count": null,
   "id": "4aca0c11",
   "metadata": {},
   "outputs": [],
   "source": [
    "from scipy.stats import gaussian_kde\n",
    "xy = np.asarray(np.vstack([specz, photoz])).astype('float32')\n",
    "z = gaussian_kde(xy)(xy)\n",
    "xy_2 = np.asarray(np.vstack([specz_2, photoz_2])).astype('float32')\n",
    "z_2 = gaussian_kde(xy_2)(xy_2)"
   ]
  },
  {
   "cell_type": "code",
   "execution_count": null,
   "id": "2d080369",
   "metadata": {},
   "outputs": [],
   "source": [
    "import seaborn as sns\n",
    "z_max = 4\n",
    "sns.set(rc = {'figure.figsize': (10, 10), 'lines.markersize': 20})\n",
    "plt.rcParams.update({'font.size': 40})\n",
    "fig, ax = plt.subplots()\n",
    "scatter_plot = ax.scatter(specz, photoz, c = z, s = 1, edgecolor = None)\n",
    "plt.colorbar(scatter_plot, label = 'Density')\n",
    "plt.title('Prediction')\n",
    "plt.xlabel('spectroscopic redshift')\n",
    "plt.ylabel('photo z')\n",
    "plt.plot([0, z_max], [0, z_max], color = 'black')\n",
    "plt.xlim([0, z_max])\n",
    "plt.ylim([0, z_max])\n",
    "plt.show()"
   ]
  },
  {
   "cell_type": "code",
   "execution_count": null,
   "id": "1e318865",
   "metadata": {},
   "outputs": [],
   "source": [
    "fig, ax = plt.subplots()\n",
    "scatter_plot = ax.scatter(specz_2, photoz_2, c = z_2, s = 1, edgecolor = None)\n",
    "plt.colorbar(scatter_plot, label = 'Density')\n",
    "plt.title('Prediction')\n",
    "plt.xlabel('spectroscopic redshift')\n",
    "plt.ylabel('photo z')\n",
    "plt.plot([0, z_max], [0, z_max], color = 'black')\n",
    "plt.xlim([0, z_max])\n",
    "plt.ylim([0, z_max])\n",
    "plt.show()"
   ]
  },
  {
   "cell_type": "markdown",
   "id": "258bc2ea",
   "metadata": {},
   "source": [
    "sns.set(rc={'figure.figsize':(10, 10), 'lines.markersize':20})\n",
    "plt.rcParams.update({'font.size': 100})\n",
    "sns.set(font_scale=3)\n",
    "\n",
    "data = {'BCNN':10.7, 'BNN':19.7, 'Mizuki':27.4,\n",
    "        'DEmP':25}\n",
    "models_list = list(data.keys())\n",
    "outlier_rates = list(data.values())\n",
    "\n",
    "plt.bar(models_list, outlier_rates, color=('blue', 'red', 'red', 'red'))\n",
    "plt.plot([-.5, 3.5], [15, 15], color = 'black', linestyle = 'dashed')\n",
    "plt.title(\"Outlier Rates\")\n",
    "plt.ylabel(\"% Outlier Rate\")\n",
    "plt.xlabel(\"Model Type\")\n",
    "plt.show()"
   ]
  },
  {
   "cell_type": "code",
   "execution_count": null,
   "id": "41f3bc4a",
   "metadata": {},
   "outputs": [],
   "source": [
    "overlap = 0\n",
    "overlap_array = []\n",
    "for i in range(0,t):\n",
    "    if np.abs(specz[i]-photoz[i])<=photoz_err[i]:\n",
    "        overlap += 1\n",
    "        overlap_array.append(1)\n",
    "    else:\n",
    "        overlap_array.append(0)"
   ]
  },
  {
   "cell_type": "code",
   "execution_count": null,
   "id": "2b34aa74",
   "metadata": {},
   "outputs": [],
   "source": [
    "overlap_2 = 0\n",
    "overlap_array_2 = []\n",
    "for i in range(0,t):\n",
    "    if np.abs(specz_2[i]-photoz_2[i])<=photoz_err[i]:\n",
    "        overlap_2 += 1\n",
    "        overlap_array_2.append(1)\n",
    "    else:\n",
    "        overlap_array_2.append(0)"
   ]
  },
  {
   "cell_type": "code",
   "execution_count": null,
   "id": "ce4218c2",
   "metadata": {},
   "outputs": [],
   "source": [
    "fig, ax = plt.subplots()\n",
    "display_size = 1000\n",
    "scatter_plot = ax.scatter(specz[:display_size], photoz[:display_size], c = z[:display_size], s = 4, edgecolor = None, zorder = 2)\n",
    "error_plot = ax.errorbar(specz[:display_size], photoz[:display_size], yerr = photoz_err[:display_size], fmt = \"o\", markersize = 0, color = 'blue', elinewidth = 1, zorder = 1)\n",
    "plt.title('Prediction with error, Bayesian')\n",
    "plt.xlabel('spectroscopic redshift')\n",
    "plt.ylabel('photo z')\n",
    "plt.plot([0, z_max], [0, z_max], color = 'black')\n",
    "plt.xlim([0, z_max])\n",
    "plt.ylim([0, z_max])\n",
    "print(\"Coverage: \"+str(overlap_2/t))"
   ]
  },
  {
   "cell_type": "code",
   "execution_count": null,
   "id": "5c5eee06",
   "metadata": {},
   "outputs": [],
   "source": [
    "combined_array = np.transpose(np.vstack((specz, photoz, photoz_err, overlap_array))) \n",
    "combined_array_2 = np.transpose(np.vstack((specz_2, photoz_2, photoz_err_2, overlap_array_2)))"
   ]
  },
  {
   "cell_type": "code",
   "execution_count": null,
   "id": "fb236386",
   "metadata": {},
   "outputs": [],
   "source": [
    "sorted_combined_array = sorted(combined_array, key=lambda x: x[0])\n",
    "sorted_combined_array_2 = sorted(combined_array_2, key=lambda x: x[0])"
   ]
  },
  {
   "cell_type": "code",
   "execution_count": null,
   "id": "ebecb5bb",
   "metadata": {},
   "outputs": [],
   "source": [
    "bins = int(z_max*5)\n",
    "splitted_sorted_combined_array = np.array_split(sorted_combined_array, bins)\n",
    "coverage = []\n",
    "for i in range(0, bins):\n",
    "    bins_count = 0\n",
    "    for j in range(0,len(splitted_sorted_combined_array[i])):\n",
    "        if splitted_sorted_combined_array[i][j][3] == 1:\n",
    "            bins_count += 1\n",
    "    coverage.append(bins_count/len(splitted_sorted_combined_array[i])/0.6827)"
   ]
  },
  {
   "cell_type": "code",
   "execution_count": null,
   "id": "2866cb10",
   "metadata": {},
   "outputs": [],
   "source": [
    "bins_2 = int(z_max*5)\n",
    "splitted_sorted_combined_array_2 = np.array_split(sorted_combined_array_2, bins_2)\n",
    "coverage_2 = []\n",
    "for i in range(0, bins_2):\n",
    "    bins_count_2 = 0\n",
    "    for j in range(0,len(splitted_sorted_combined_array_2[i])):\n",
    "        if splitted_sorted_combined_array_2[i][j][3] == 1:\n",
    "            bins_count_2 += 1\n",
    "    coverage_2.append(bins_count_2/len(splitted_sorted_combined_array_2[i])/0.6827)\n",
    "x_array = np.arange(0, z_max, z_max/bins_2)"
   ]
  },
  {
   "cell_type": "code",
   "execution_count": null,
   "id": "f06c57bf",
   "metadata": {
    "scrolled": true
   },
   "outputs": [],
   "source": [
    "plt.plot(x_array, coverage, c = 'blue')\n",
    "plt.plot(x_array, coverage_2, c = 'red')\n",
    "plt.title('Coverage')\n",
    "plt.xlabel('spectroscopic redshift')\n",
    "plt.ylabel('coverage')\n",
    "plt.ylim([0, 1.5])\n",
    "plt.plot([0, 4], [1, 1], color = 'black', linestyle = 'dashed')\n",
    "print(\"Filtered Coverage: \"+str(overlap/t))\n",
    "print(\"Coverage: \"+str(overlap_2/t))"
   ]
  },
  {
   "cell_type": "code",
   "execution_count": null,
   "id": "c7375ddb",
   "metadata": {},
   "outputs": [],
   "source": [
    "mean_array = []\n",
    "for i in range(0, bins):\n",
    "    total = 0\n",
    "    for j in range(0, len(splitted_sorted_combined_array[i])):\n",
    "        bias = (splitted_sorted_combined_array[i][j][1]-splitted_sorted_combined_array[i][j][0])/(1 + splitted_sorted_combined_array[i][j][0])\n",
    "        total += bias/(1 + splitted_sorted_combined_array[i][j][0])\n",
    "    mean_array.append(total/len(splitted_sorted_combined_array[i]))\n",
    "x_array = np.arange(0, z_max, z_max/bins)"
   ]
  },
  {
   "cell_type": "code",
   "execution_count": null,
   "id": "afdf36c8",
   "metadata": {},
   "outputs": [],
   "source": [
    "mean_array_2 = []\n",
    "for i in range(0, bins_2):\n",
    "    total_2 = 0\n",
    "    for j in range(0, len(splitted_sorted_combined_array_2[i])):\n",
    "        bias_2 = (splitted_sorted_combined_array_2[i][j][1]-splitted_sorted_combined_array_2[i][j][0])/(1 + splitted_sorted_combined_array_2[i][j][0])\n",
    "        total_2 += bias_2/(1 + splitted_sorted_combined_array_2[i][j][0])\n",
    "    mean_array_2.append(total_2/len(splitted_sorted_combined_array_2[i]))"
   ]
  },
  {
   "cell_type": "code",
   "execution_count": null,
   "id": "76b7ef6e",
   "metadata": {},
   "outputs": [],
   "source": [
    "error_array = []\n",
    "for i in range(0,bins):\n",
    "    error_total = 0\n",
    "    for j in range(0,len(splitted_sorted_combined_array[i])):\n",
    "        error_total += splitted_sorted_combined_array[i][j][2]\n",
    "    error_array.append(error_total/len(splitted_sorted_combined_array[i]))"
   ]
  },
  {
   "cell_type": "code",
   "execution_count": null,
   "id": "6bf3a9ed",
   "metadata": {},
   "outputs": [],
   "source": [
    "error_array_2 = []\n",
    "for i in range(0,bins_2):\n",
    "    error_total_2 = 0\n",
    "    for j in range(0,len(splitted_sorted_combined_array_2[i])):\n",
    "        error_total_2 += splitted_sorted_combined_array_2[i][j][2]\n",
    "    error_array_2.append(error_total_2/len(splitted_sorted_combined_array_2[i]))"
   ]
  },
  {
   "cell_type": "code",
   "execution_count": null,
   "id": "8652e4b9",
   "metadata": {},
   "outputs": [],
   "source": [
    "sns.set(rc={'figure.figsize':(5, 5), 'lines.markersize':40})\n",
    "plt.rcParams.update({'font.size': 40})\n",
    "plt.errorbar(x_array, mean_array, yerr = error_array, fmt = \"o\", color = 'blue', markersize = 4, elinewidth = 2)\n",
    "plt.errorbar(x_array, mean_array_2, yerr = error_array_2, fmt = \"o\", color = 'red', markersize = 4, elinewidth = 2)\n",
    "plt.title(' ')\n",
    "plt.xlabel('True Redshift')\n",
    "plt.ylabel('Bias (Predicted - True)')\n",
    "plt.plot([0, z_max], [0, 0], color = 'black')\n",
    "plt.plot([0, z_max], [0.003, 0.003], color = 'black', linestyle = 'dashed')\n",
    "plt.plot([0, z_max], [-0.003, -0.003], color = 'black', linestyle = 'dashed')\n",
    "plt.ylim([-0.1, 0.1])\n",
    "plt.show()"
   ]
  },
  {
   "cell_type": "code",
   "execution_count": null,
   "id": "83c7443e",
   "metadata": {},
   "outputs": [],
   "source": [
    "combined_outlier_array_2 = np.transpose(np.vstack((specz_2, photoz_2, photoz_err_2)))\n",
    "sorted_combined_outlier_array_2 = sorted(combined_outlier_array_2, key = lambda x: x[0])\n",
    "bins_outlier = int(z_max * 20)\n",
    "splitted_sorted_combined_outlier_array_2 = np.array_split(sorted_combined_outlier_array_2, bins_outlier)\n",
    "outlier_array_2 = []\n",
    "outlier_count_total_2 = 0\n",
    "for i in range(0, bins_outlier):\n",
    "    outlier_count_2 = 0\n",
    "    for j in range(0,len(splitted_sorted_combined_outlier_array_2[i])):\n",
    "        if np.abs(splitted_sorted_combined_outlier_array_2[i][j][1] - splitted_sorted_combined_outlier_array_2[i][j][0]) >= 3 * splitted_sorted_combined_outlier_array_2[i][j][2]:\n",
    "            outlier_count_2 += 1\n",
    "            outlier_count_total_2 += 1\n",
    "    outlier_array_2.append(outlier_count_2 / len(specz) * bins_outlier)\n",
    "\n",
    "combined_outlier_array = np.transpose(np.vstack((specz, photoz, photoz_err)))\n",
    "sorted_combined_outlier_array = sorted(combined_outlier_array, key = lambda x: x[0])\n",
    "splitted_sorted_combined_outlier_array = np.array_split(sorted_combined_outlier_array, bins_outlier)\n",
    "outlier_array = []\n",
    "outlier_count_total = 0\n",
    "for i in range(0, bins_outlier):\n",
    "    outlier_count = 0\n",
    "    for j in range(0,len(splitted_sorted_combined_outlier_array[i])):\n",
    "        if np.abs(splitted_sorted_combined_outlier_array[i][j][1] - splitted_sorted_combined_outlier_array[i][j][0]) >= 3 * splitted_sorted_combined_outlier_array[i][j][2]:\n",
    "            outlier_count += 1\n",
    "            outlier_count_total += 1\n",
    "    outlier_array.append(outlier_count / len(specz) * bins_outlier)\n",
    "\n",
    "x_array_outlier = np.arange(0, z_max, z_max / bins_outlier)\n",
    "plt.plot(x_array_outlier, outlier_array, c = 'blue')\n",
    "plt.plot(x_array_outlier, outlier_array_2, c = 'red')\n",
    "plt.title('')\n",
    "plt.xlabel('spec z')\n",
    "plt.ylabel('outlier rate')\n",
    "plt.xlim([0, z_max])\n",
    "plt.ylim([0, 1 / 2])\n",
    "plt.show()\n",
    "\n",
    "print(\"Outlier Rate Filtered: \"+str(outlier_count_total/len(specz)))\n",
    "print(\"Outlier Rate: \"+str(outlier_count_total_2/len(specz)))"
   ]
  },
  {
   "cell_type": "code",
   "execution_count": null,
   "id": "16ee12a0",
   "metadata": {},
   "outputs": [],
   "source": [
    "combined_outlier_array = np.transpose(np.vstack((specz, np.subtract(photoz, specz))))\n",
    "sorted_combined_outlier_array = sorted(combined_outlier_array, key = lambda x: x[0])\n",
    "splitted_sorted_combined_outlier_array = np.array_split(sorted_combined_outlier_array, bins_outlier)\n",
    "outlier_array = []\n",
    "outlier_count_total = 0\n",
    "for i in range(0, bins_outlier):\n",
    "    outlier_count = 0\n",
    "    for j in range(0,len(splitted_sorted_combined_outlier_array[i])):\n",
    "        if np.abs(splitted_sorted_combined_outlier_array[i][j][1] / (splitted_sorted_combined_outlier_array[i][j][0] + 1)) >= .15:\n",
    "            outlier_count += 1\n",
    "            outlier_count_total += 1\n",
    "    outlier_array.append(outlier_count / len(specz) * bins_outlier)\n",
    "\n",
    "combined_outlier_array_2 = np.transpose(np.vstack((specz_2, np.subtract(photoz_2, specz_2))))\n",
    "sorted_combined_outlier_array_2 = sorted(combined_outlier_array_2, key = lambda x: x[0])\n",
    "splitted_sorted_combined_outlier_array_2 = np.array_split(sorted_combined_outlier_array_2, bins_outlier)\n",
    "outlier_array_2 = []\n",
    "outlier_count_total_2 = 0\n",
    "for i in range(0, bins_outlier):\n",
    "    outlier_count_2 = 0\n",
    "    for j in range(0,len(splitted_sorted_combined_outlier_array_2[i])):\n",
    "        if np.abs(splitted_sorted_combined_outlier_array_2[i][j][1] / (splitted_sorted_combined_outlier_array_2[i][j][0] + 1)) >= .15:\n",
    "            outlier_count_2 += 1\n",
    "            outlier_count_total_2 += 1\n",
    "    outlier_array_2.append(outlier_count_2 / len(specz_2) * bins_outlier)\n",
    "\n",
    "plt.plot(x_array_outlier, outlier_array, c = 'blue')\n",
    "plt.plot(x_array_outlier, outlier_array_2, c = 'red')\n",
    "\n",
    "plt.title('')\n",
    "plt.xlabel('spec z')\n",
    "plt.ylabel('outlier rate')\n",
    "plt.xlim([0,z_max])\n",
    "plt.ylim([0,1/2])\n",
    "plt.show()\n",
    "\n",
    "print(\"Outlier Rate Filtered: \"+str(outlier_count_total/len(specz)))\n",
    "print(\"Outlier Rate: \"+str(outlier_count_total_2/len(specz)))"
   ]
  },
  {
   "cell_type": "markdown",
   "id": "6ad6db7a",
   "metadata": {},
   "source": [
    "uncertains = []\n",
    "for i in range(0, len(photoz_err)):\n",
    "    if photoz_err[i].numpy() >= 1:\n",
    "        uncertains.append(i)\n",
    "        print(\"Object ID: \" + str(object_id[i]) + \", Spectro_z: \" + str(specz[i]) + \", Photo_z: \" + str(photoz[i]) + \", Photo_z_err: \" + str(photoz_err[i].numpy()))"
   ]
  },
  {
   "cell_type": "code",
   "execution_count": null,
   "id": "bab3951b",
   "metadata": {},
   "outputs": [],
   "source": [
    "plt.imshow(x_train_2[6][:,:,0])"
   ]
  },
  {
   "cell_type": "markdown",
   "id": "e16f2c29",
   "metadata": {},
   "source": [
    "check = 2\n",
    "current = uncertains[check]\n",
    "print(\"Object ID: \" + str(object_id[current]) + \", Spectro_z: \" + str(specz[current]) + \", Photo_z: \" + str(photoz[current]) + \", Photo_z_err: \" + str(photoz_err[current].numpy()))\n",
    "plt.imshow(x_test[current][:,:,0])\n",
    "plt.grid(False)"
   ]
  },
  {
   "cell_type": "markdown",
   "id": "6ef606bc",
   "metadata": {},
   "source": [
    "biases = []\n",
    "for i in range(0, len(photoz)):\n",
    "    if np.abs(photoz[i]-specz[i]) >= 1 and photoz_err[i].numpy() <= 0.5:\n",
    "        biases.append(i)\n",
    "        print(\"Object ID: \" + str(object_id[i]) + \", Spectro_z: \" + str(specz[i]) + \", Photo_z: \" + str(photoz[i]) + \", Photo_z_err: \" + str(photoz_err[i].numpy()))"
   ]
  },
  {
   "cell_type": "markdown",
   "id": "bf984a04",
   "metadata": {},
   "source": [
    "check_bias = 3\n",
    "current_bias = biases[check_bias]\n",
    "print(\"Object ID: \" + str(object_id[current_bias]) + \", Spectro_z: \" + str(specz[current_bias]) + \", Photo_z: \" + str(photoz[current_bias]) + \", Photo_z_err: \" + str(photoz_err[current_bias].numpy()))\n",
    "plt.imshow(x_test[current_bias][:,:,0])\n",
    "plt.grid(False)"
   ]
  },
  {
   "cell_type": "code",
   "execution_count": null,
   "id": "8ec169d4",
   "metadata": {},
   "outputs": [],
   "source": [
    "# END"
   ]
  }
 ],
 "metadata": {
  "kernelspec": {
   "display_name": "Python 3",
   "language": "python",
   "name": "python3"
  },
  "language_info": {
   "codemirror_mode": {
    "name": "ipython",
    "version": 3
   },
   "file_extension": ".py",
   "mimetype": "text/x-python",
   "name": "python",
   "nbconvert_exporter": "python",
   "pygments_lexer": "ipython3",
   "version": "3.8.10"
  }
 },
 "nbformat": 4,
 "nbformat_minor": 5
}
