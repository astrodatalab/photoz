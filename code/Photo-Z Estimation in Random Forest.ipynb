{
 "cells": [
  {
   "cell_type": "markdown",
   "id": "9b6e0a0a",
   "metadata": {},
   "source": [
    "# Predicting galaxy redshift from band magnitudes with random forest\n",
    "\n",
    "Zooey Nguyen\n",
    "\n",
    "2021-07-08\n",
    "\n",
    "- 2021-07-16: Update with photoz_metrics and v3 crossmatched data\n",
    "\n",
    "- 2021-07-20: Update with new photoz_metrics metrics outputs"
   ]
  },
  {
   "cell_type": "code",
   "execution_count": 1,
   "id": "a9d30617",
   "metadata": {},
   "outputs": [],
   "source": [
    "from photoz_utils import *\n",
    "import pandas as pd\n",
    "import numpy as np\n",
    "import matplotlib.pyplot as plt\n",
    "import seaborn as sns"
   ]
  },
  {
   "cell_type": "markdown",
   "id": "57bb5bd2",
   "metadata": {},
   "source": [
    "## Setup data"
   ]
  },
  {
   "cell_type": "code",
   "execution_count": 2,
   "id": "b82fd3ee",
   "metadata": {},
   "outputs": [
    {
     "data": {
      "text/html": [
       "<div>\n",
       "<style scoped>\n",
       "    .dataframe tbody tr th:only-of-type {\n",
       "        vertical-align: middle;\n",
       "    }\n",
       "\n",
       "    .dataframe tbody tr th {\n",
       "        vertical-align: top;\n",
       "    }\n",
       "\n",
       "    .dataframe thead th {\n",
       "        text-align: right;\n",
       "    }\n",
       "</style>\n",
       "<table border=\"1\" class=\"dataframe\">\n",
       "  <thead>\n",
       "    <tr style=\"text-align: right;\">\n",
       "      <th></th>\n",
       "      <th>g_mag</th>\n",
       "      <th>r_mag</th>\n",
       "      <th>i_mag</th>\n",
       "      <th>z_mag</th>\n",
       "      <th>y_mag</th>\n",
       "      <th>z_spec</th>\n",
       "    </tr>\n",
       "  </thead>\n",
       "  <tbody>\n",
       "    <tr>\n",
       "      <th>1</th>\n",
       "      <td>22.610886</td>\n",
       "      <td>21.079186</td>\n",
       "      <td>20.253893</td>\n",
       "      <td>19.866356</td>\n",
       "      <td>19.743130</td>\n",
       "      <td>0.527950</td>\n",
       "    </tr>\n",
       "    <tr>\n",
       "      <th>2</th>\n",
       "      <td>21.891678</td>\n",
       "      <td>20.254738</td>\n",
       "      <td>19.048626</td>\n",
       "      <td>18.613430</td>\n",
       "      <td>18.380713</td>\n",
       "      <td>0.621500</td>\n",
       "    </tr>\n",
       "    <tr>\n",
       "      <th>3</th>\n",
       "      <td>21.656437</td>\n",
       "      <td>19.928366</td>\n",
       "      <td>18.916716</td>\n",
       "      <td>18.476753</td>\n",
       "      <td>18.291279</td>\n",
       "      <td>0.526540</td>\n",
       "    </tr>\n",
       "    <tr>\n",
       "      <th>4</th>\n",
       "      <td>21.724205</td>\n",
       "      <td>19.995935</td>\n",
       "      <td>19.013975</td>\n",
       "      <td>18.560516</td>\n",
       "      <td>18.372887</td>\n",
       "      <td>0.526540</td>\n",
       "    </tr>\n",
       "    <tr>\n",
       "      <th>5</th>\n",
       "      <td>21.748327</td>\n",
       "      <td>21.549549</td>\n",
       "      <td>21.588028</td>\n",
       "      <td>21.292486</td>\n",
       "      <td>21.126167</td>\n",
       "      <td>2.383940</td>\n",
       "    </tr>\n",
       "    <tr>\n",
       "      <th>...</th>\n",
       "      <td>...</td>\n",
       "      <td>...</td>\n",
       "      <td>...</td>\n",
       "      <td>...</td>\n",
       "      <td>...</td>\n",
       "      <td>...</td>\n",
       "    </tr>\n",
       "    <tr>\n",
       "      <th>801241</th>\n",
       "      <td>21.772613</td>\n",
       "      <td>20.585226</td>\n",
       "      <td>19.878244</td>\n",
       "      <td>19.573465</td>\n",
       "      <td>19.341536</td>\n",
       "      <td>0.508998</td>\n",
       "    </tr>\n",
       "    <tr>\n",
       "      <th>801242</th>\n",
       "      <td>25.315399</td>\n",
       "      <td>23.766863</td>\n",
       "      <td>22.617428</td>\n",
       "      <td>22.156572</td>\n",
       "      <td>21.976051</td>\n",
       "      <td>0.658518</td>\n",
       "    </tr>\n",
       "    <tr>\n",
       "      <th>801243</th>\n",
       "      <td>24.335815</td>\n",
       "      <td>23.585403</td>\n",
       "      <td>22.994476</td>\n",
       "      <td>22.861565</td>\n",
       "      <td>22.376507</td>\n",
       "      <td>0.654057</td>\n",
       "    </tr>\n",
       "    <tr>\n",
       "      <th>801244</th>\n",
       "      <td>24.495150</td>\n",
       "      <td>24.309818</td>\n",
       "      <td>24.181927</td>\n",
       "      <td>23.360998</td>\n",
       "      <td>23.462173</td>\n",
       "      <td>1.410675</td>\n",
       "    </tr>\n",
       "    <tr>\n",
       "      <th>801245</th>\n",
       "      <td>24.816973</td>\n",
       "      <td>24.296427</td>\n",
       "      <td>24.167778</td>\n",
       "      <td>23.654627</td>\n",
       "      <td>23.441498</td>\n",
       "      <td>0.019685</td>\n",
       "    </tr>\n",
       "  </tbody>\n",
       "</table>\n",
       "<p>760063 rows × 6 columns</p>\n",
       "</div>"
      ],
      "text/plain": [
       "            g_mag      r_mag      i_mag      z_mag      y_mag    z_spec\n",
       "1       22.610886  21.079186  20.253893  19.866356  19.743130  0.527950\n",
       "2       21.891678  20.254738  19.048626  18.613430  18.380713  0.621500\n",
       "3       21.656437  19.928366  18.916716  18.476753  18.291279  0.526540\n",
       "4       21.724205  19.995935  19.013975  18.560516  18.372887  0.526540\n",
       "5       21.748327  21.549549  21.588028  21.292486  21.126167  2.383940\n",
       "...           ...        ...        ...        ...        ...       ...\n",
       "801241  21.772613  20.585226  19.878244  19.573465  19.341536  0.508998\n",
       "801242  25.315399  23.766863  22.617428  22.156572  21.976051  0.658518\n",
       "801243  24.335815  23.585403  22.994476  22.861565  22.376507  0.654057\n",
       "801244  24.495150  24.309818  24.181927  23.360998  23.462173  1.410675\n",
       "801245  24.816973  24.296427  24.167778  23.654627  23.441498  0.019685\n",
       "\n",
       "[760063 rows x 6 columns]"
      ]
     },
     "execution_count": 2,
     "metadata": {},
     "output_type": "execute_result"
    }
   ],
   "source": [
    "df = import_photoz_data('/data/HSC/HSC_v3/all_specz_flag_forced_forced2_spec_z_matched_online.csv')\n",
    "df = clean_photoz_data(df, filters=[1,2])\n",
    "X_train, X_test, y_train, y_test = split_photoz_data(df)\n",
    "df"
   ]
  },
  {
   "cell_type": "markdown",
   "id": "9a214325",
   "metadata": {},
   "source": [
    "## Train random forest regression"
   ]
  },
  {
   "cell_type": "code",
   "execution_count": null,
   "id": "009a9054",
   "metadata": {},
   "outputs": [],
   "source": [
    "from sklearn.ensemble import RandomForestRegressor\n",
    "rf_model = RandomForestRegressor(n_estimators = 200)\n",
    "rf_model.fit(X_train, y_train)"
   ]
  },
  {
   "cell_type": "markdown",
   "id": "b1f93df7",
   "metadata": {},
   "source": [
    "## Evaluate training point estimates"
   ]
  },
  {
   "cell_type": "code",
   "execution_count": null,
   "id": "bdcae2cc",
   "metadata": {},
   "outputs": [],
   "source": [
    "y_train_pred = rf_model.predict(X_train)\n",
    "y_train_pred = pd.Series(y_train_pred, index=y_train.index)\n",
    "plot_predictions(y_train_pred, y_train)"
   ]
  },
  {
   "cell_type": "code",
   "execution_count": null,
   "id": "62a29cce",
   "metadata": {},
   "outputs": [],
   "source": [
    "metrics_agg = get_point_metrics(y_train_pred, y_train)\n",
    "metrics_binned = get_point_metrics(y_train_pred, y_train, binned=True)\n",
    "metrics_binned"
   ]
  },
  {
   "cell_type": "code",
   "execution_count": null,
   "id": "42b54ba2",
   "metadata": {},
   "outputs": [],
   "source": [
    "plot_point_metrics(metrics_binned)"
   ]
  },
  {
   "cell_type": "markdown",
   "id": "f470cb4e",
   "metadata": {},
   "source": [
    "## Evaluate training density estimates"
   ]
  },
  {
   "cell_type": "code",
   "execution_count": null,
   "id": "bb173c3b",
   "metadata": {},
   "outputs": [],
   "source": [
    "predictions = []\n",
    "for i in range (len(rf_model.estimators_)):\n",
    "    predictions.append(np.array(rf_model.estimators_[i].predict(X_train)))    \n",
    "y_train_densities = np.asarray(predictions).T"
   ]
  },
  {
   "cell_type": "code",
   "execution_count": null,
   "id": "b778837d",
   "metadata": {
    "scrolled": true
   },
   "outputs": [],
   "source": [
    "density_metrics = get_density_metrics(y_train_densities, y_train)"
   ]
  },
  {
   "cell_type": "code",
   "execution_count": null,
   "id": "d6310d91",
   "metadata": {},
   "outputs": [],
   "source": [
    "plot_density_metrics(density_metrics)"
   ]
  },
  {
   "cell_type": "markdown",
   "id": "90402e84",
   "metadata": {},
   "source": [
    "## Evaluate test point estimates"
   ]
  },
  {
   "cell_type": "code",
   "execution_count": null,
   "id": "94ce853d",
   "metadata": {},
   "outputs": [],
   "source": [
    "y_test_pred = rf_model.predict(X_test)\n",
    "y_test_pred = pd.Series(y_test_pred, index=y_test.index)\n",
    "plot_predictions(y_test_pred, y_test)"
   ]
  },
  {
   "cell_type": "code",
   "execution_count": null,
   "id": "8fd16641",
   "metadata": {},
   "outputs": [],
   "source": [
    "metrics_agg = get_point_metrics(y_test_pred, y_test)\n",
    "metrics_binned = get_point_metrics(y_test_pred, y_test, binned=True)\n",
    "metrics_binned"
   ]
  },
  {
   "cell_type": "code",
   "execution_count": null,
   "id": "5add8a48",
   "metadata": {},
   "outputs": [],
   "source": [
    "plot_point_metrics(metrics_binned)"
   ]
  },
  {
   "cell_type": "markdown",
   "id": "3fa2d79f",
   "metadata": {},
   "source": [
    "## Evaluate test density estimates"
   ]
  },
  {
   "cell_type": "code",
   "execution_count": null,
   "id": "75769010",
   "metadata": {},
   "outputs": [],
   "source": [
    "predictions = []\n",
    "for i in range (len(rf_model.estimators_)):\n",
    "    predictions.append(np.array(rf_model.estimators_[i].predict(X_test)))    \n",
    "y_test_densities = np.asarray(predictions).T"
   ]
  },
  {
   "cell_type": "code",
   "execution_count": null,
   "id": "f046c53b",
   "metadata": {},
   "outputs": [],
   "source": [
    "density_metrics = get_density_metrics(y_test_densities, y_test)"
   ]
  },
  {
   "cell_type": "code",
   "execution_count": null,
   "id": "f342c567",
   "metadata": {},
   "outputs": [],
   "source": [
    "PIT = density_metrics['PIT']\n",
    "CRPS = density_metrics['CRPS']"
   ]
  },
  {
   "cell_type": "code",
   "execution_count": null,
   "id": "07e0dd96",
   "metadata": {},
   "outputs": [],
   "source": [
    "plot_density_metrics(density_metrics)"
   ]
  }
 ],
 "metadata": {
  "kernelspec": {
   "display_name": "Python [conda env:jupyterhub_tfp]",
   "language": "python",
   "name": "conda-env-jupyterhub_tfp-py"
  },
  "language_info": {
   "codemirror_mode": {
    "name": "ipython",
    "version": 3
   },
   "file_extension": ".py",
   "mimetype": "text/x-python",
   "name": "python",
   "nbconvert_exporter": "python",
   "pygments_lexer": "ipython3",
   "version": "3.7.1"
  }
 },
 "nbformat": 4,
 "nbformat_minor": 5
}
