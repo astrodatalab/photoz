{
 "cells": [
  {
   "cell_type": "code",
   "execution_count": 161,
   "id": "5eb1d7d9",
   "metadata": {},
   "outputs": [
    {
     "name": "stdout",
     "output_type": "stream",
     "text": [
      "Num GPUs Available:  1\n"
     ]
    }
   ],
   "source": [
    "import tensorflow as tf\n",
    "import tensorflow_probability as tfp\n",
    "import pandas as pd\n",
    "import random\n",
    "print(\"Num GPUs Available: \", len(tf.config.list_physical_devices('GPU')))\n",
    "from sklearn.metrics import mean_squared_error\n",
    "import matplotlib.pyplot as plt\n",
    "import matplotlib.cm as cm\n",
    "from IPython.display import clear_output\n",
    "from scipy.interpolate import interp1d\n",
    "from datetime import datetime\n",
    "import os\n",
    "\n",
    "import numpy as np\n",
    "from tensorflow import keras\n",
    "from sklearn import preprocessing\n",
    "from sklearn.model_selection import train_test_split\n",
    "tfd = tfp.distributions\n",
    "\n",
    "import keras\n",
    "from keras.models import Sequential,Input,Model\n",
    "from keras.layers import Dense, Dropout, Flatten"
   ]
  },
  {
   "cell_type": "code",
   "execution_count": 162,
   "id": "177bd8c5",
   "metadata": {},
   "outputs": [
    {
     "name": "stdout",
     "output_type": "stream",
     "text": [
      "1 Physical GPUs, 1 Logical GPUs\n"
     ]
    }
   ],
   "source": [
    "gpus = tf.config.list_physical_devices('GPU')\n",
    "if gpus:\n",
    "  # Restrict TensorFlow to only allocate 1GB of memory on the first GPU\n",
    "  try:\n",
    "    tf.config.experimental.set_virtual_device_configuration(\n",
    "        gpus[0],\n",
    "        [tf.config.experimental.VirtualDeviceConfiguration(memory_limit=5000)])\n",
    "    logical_gpus = tf.config.experimental.list_logical_devices('GPU')\n",
    "    print(len(gpus), \"Physical GPUs,\", len(logical_gpus), \"Logical GPUs\")\n",
    "  except RuntimeError as e:\n",
    "    # Virtual devices must be set before GPUs have been initialized\n",
    "    print(e)"
   ]
  },
  {
   "cell_type": "code",
   "execution_count": 163,
   "id": "481ff0df",
   "metadata": {},
   "outputs": [],
   "source": [
    "photozdata = pd.read_csv('/mnt/data/HSC/HSC_v6/HSC_v6.csv')"
   ]
  },
  {
   "cell_type": "code",
   "execution_count": 164,
   "id": "c77d1d2a",
   "metadata": {},
   "outputs": [],
   "source": [
    "# filter & duplicate drop from bayesian_nn\n",
    "z_max = 2.5\n",
    "filt = (photozdata['specz_redshift'] < z_max)\\\n",
    "& (photozdata['specz_redshift'] > 0.01)\\\n",
    "& (photozdata['specz_redshift_err'] > 0) \\\n",
    "& (photozdata['specz_redshift_err'] < 1)\\\n",
    "&(photozdata[\"specz_redshift_err\"]<0.005*(1+photozdata[\"specz_redshift\"]))\\\n",
    "&(photozdata['g_cmodel_mag'] >0)\\\n",
    "&(photozdata['r_cmodel_mag'] >0)\\\n",
    "&(photozdata['i_cmodel_mag'] >0)\\\n",
    "&(photozdata['z_cmodel_mag'] >0)\\\n",
    "&(photozdata['y_cmodel_mag'] >0)\\\n",
    "&(photozdata['g_cmodel_mag'] < 100)\\\n",
    "&(photozdata['r_cmodel_mag'] < 100)\\\n",
    "&(photozdata['i_cmodel_mag'] < 100)\\\n",
    "&(photozdata['z_cmodel_mag'] < 100)\\\n",
    "&(photozdata['y_cmodel_mag'] < 100)\\\n",
    "&(photozdata['specz_flag_homogeneous'] == True)\n",
    "photozdata.drop_duplicates(subset=['object_id'])\n",
    "photozdata_subset = photozdata[filt]"
   ]
  },
  {
   "cell_type": "code",
   "execution_count": 165,
   "id": "545abf32",
   "metadata": {},
   "outputs": [
    {
     "data": {
      "text/plain": [
       "Index(['object_id', 'specz_redshift_err', 'specz_redshift', 'specz_mag_i',\n",
       "       'specz_name', 'specz_ra', 'specz_dec', 'specz_flag_homogeneous', 'ra',\n",
       "       'dec', 'coord', 'skymap_id', 'g_cmodel_mag', 'r_cmodel_mag',\n",
       "       'i_cmodel_mag', 'z_cmodel_mag', 'y_cmodel_mag', 'g_cmodel_magsigma',\n",
       "       'r_cmodel_magsigma', 'i_cmodel_magsigma', 'z_cmodel_magsigma',\n",
       "       'y_cmodel_magsigma'],\n",
       "      dtype='object')"
      ]
     },
     "execution_count": 165,
     "metadata": {},
     "output_type": "execute_result"
    }
   ],
   "source": [
    "photozdata.columns"
   ]
  },
  {
   "cell_type": "code",
   "execution_count": 166,
   "id": "12c77c04",
   "metadata": {},
   "outputs": [],
   "source": [
    "photozdata_trainset, photozdata_testset = train_test_split(photozdata_subset, test_size=0.2) # Already randomized"
   ]
  },
  {
   "cell_type": "code",
   "execution_count": 167,
   "id": "464bd08b",
   "metadata": {},
   "outputs": [],
   "source": [
    "photozdata_trainset.to_csv('/mnt/data/HSC/3_model_comparison/training_'+str(z_max)+'_v2.csv')\n",
    "photozdata_testset.to_csv('/mnt/data/HSC/3_model_comparison/testing_'+str(z_max)+'_v2.csv')"
   ]
  },
  {
   "cell_type": "code",
   "execution_count": 168,
   "id": "a5bf61ce",
   "metadata": {},
   "outputs": [],
   "source": [
    "train_array = np.asarray(photozdata_trainset)"
   ]
  },
  {
   "cell_type": "code",
   "execution_count": 169,
   "id": "5554ad62",
   "metadata": {},
   "outputs": [],
   "source": [
    "n = len(train_array)"
   ]
  },
  {
   "cell_type": "code",
   "execution_count": 170,
   "id": "a74ee1c3",
   "metadata": {},
   "outputs": [],
   "source": [
    "train_sorted = sorted(train_array, key=lambda x: x[2])"
   ]
  },
  {
   "cell_type": "code",
   "execution_count": 171,
   "id": "df1a3926",
   "metadata": {},
   "outputs": [
    {
     "data": {
      "text/plain": [
       "array([41601547150321034, 9.99999975e-06, 0.0100999996, 16.9960003,\n",
       "       'SDSS-DR12-1237656906348626261', 345.33543, -0.925957, True,\n",
       "       345.33555992089055, -0.9259759774764964,\n",
       "       '(199519.6875, -52210.6796875, -3333.368408203125)', 94590303,\n",
       "       22.2296257, 21.982687, 22.1828537, 23.84021, 23.0793934,\n",
       "       0.00695806509, 0.00607395219, 0.00986235403, 0.0989359617,\n",
       "       0.113840707], dtype=object)"
      ]
     },
     "execution_count": 171,
     "metadata": {},
     "output_type": "execute_result"
    }
   ],
   "source": [
    "train_sorted[0]"
   ]
  },
  {
   "cell_type": "code",
   "execution_count": 172,
   "id": "ef087fd2",
   "metadata": {},
   "outputs": [],
   "source": [
    "nstrata = 4\n",
    "stratas = []\n",
    "cur = z_max/nstrata\n",
    "pre = 0\n",
    "for i in range(0,n):\n",
    "    if train_sorted[i][2] >= cur:\n",
    "        stratas.append(train_sorted[pre:i])\n",
    "        pre = i\n",
    "        cur += z_max/nstrata\n",
    "    if i == n - 1:\n",
    "        stratas.append(train_sorted[pre:i])\n",
    "strata_lengths = []\n",
    "for i in range(0,nstrata):\n",
    "    random.shuffle(stratas[i])\n",
    "    strata_lengths.append(len(stratas[i]))"
   ]
  },
  {
   "cell_type": "code",
   "execution_count": 173,
   "id": "a2d5cf99",
   "metadata": {},
   "outputs": [],
   "source": [
    "nnetwork = 8"
   ]
  },
  {
   "cell_type": "code",
   "execution_count": 174,
   "id": "4970cd30",
   "metadata": {},
   "outputs": [
    {
     "name": "stdout",
     "output_type": "stream",
     "text": [
      "[157399, 51075, 8292, 7371]\n"
     ]
    }
   ],
   "source": [
    "print(strata_lengths)"
   ]
  },
  {
   "cell_type": "code",
   "execution_count": 175,
   "id": "53018c15",
   "metadata": {},
   "outputs": [],
   "source": [
    "def monte_carlo(sample_array):\n",
    "    sampled = random.sample(sample_array, 1)[0]\n",
    "    new = sampled\n",
    "    new[0] = 0\n",
    "    new[2] = np.random.normal(loc=sampled[2], scale=sampled[1], size=None) # New specz\n",
    "    new[12] = np.random.normal(loc=sampled[12], scale=sampled[17], size=None) # New g\n",
    "    new[13] = np.random.normal(loc=sampled[13], scale=sampled[18], size=None) # New r\n",
    "    new[14] = np.random.normal(loc=sampled[14], scale=sampled[19], size=None) # New i\n",
    "    new[15] = np.random.normal(loc=sampled[15], scale=sampled[20], size=None) # New z\n",
    "    new[16] = np.random.normal(loc=sampled[16], scale=sampled[21], size=None) # New y\n",
    "    return new"
   ]
  },
  {
   "cell_type": "code",
   "execution_count": 176,
   "id": "4140e13d",
   "metadata": {},
   "outputs": [],
   "source": [
    "sample_array = [1, 1, 1, 1]\n",
    "max_array = [max(strata_lengths)] * nstrata\n",
    "sample_size_array = [int(i*j) for i,j in zip(np.true_divide(sample_array,max(sample_array)), max_array)]\n",
    "generating_set_size = np.subtract(sample_size_array,strata_lengths)"
   ]
  },
  {
   "cell_type": "code",
   "execution_count": 177,
   "id": "f1847689",
   "metadata": {},
   "outputs": [
    {
     "data": {
      "text/plain": [
       "array([     0, 106324, 149107, 150028])"
      ]
     },
     "execution_count": 177,
     "metadata": {},
     "output_type": "execute_result"
    }
   ],
   "source": [
    "generating_set_size"
   ]
  },
  {
   "cell_type": "code",
   "execution_count": 178,
   "id": "b49f9d2b",
   "metadata": {},
   "outputs": [],
   "source": [
    "# Sampling training data from each strata\n",
    "\n",
    "for i in range(0, nstrata):\n",
    "    for j in range(0, generating_set_size[i]):\n",
    "        generated = monte_carlo(list(stratas[i]))\n",
    "        stratas[i].append(generated)"
   ]
  },
  {
   "cell_type": "code",
   "execution_count": 179,
   "id": "c275e8ab",
   "metadata": {},
   "outputs": [],
   "source": [
    "training_data = []\n",
    "for i in range(0, nnetwork):\n",
    "    training_data_bin = []\n",
    "    for j in range(0, nstrata):\n",
    "        training_data_bin += stratas[j]\n",
    "    random.shuffle(training_data_bin)\n",
    "    training_data.append(training_data_bin)"
   ]
  },
  {
   "cell_type": "code",
   "execution_count": 180,
   "id": "67d3efb0",
   "metadata": {},
   "outputs": [],
   "source": [
    "for i in range(1, nnetwork + 1):\n",
    "    df = pd.DataFrame(training_data[i - 1], columns=['object_id', 'specz_redshift_err', 'specz_redshift', 'specz_mag_i',\n",
    "       'specz_name', 'specz_ra', 'specz_dec', 'specz_flag_homogeneous', 'ra',\n",
    "       'dec', 'coord', 'skymap_id', 'g_cmodel_mag', 'r_cmodel_mag',\n",
    "       'i_cmodel_mag', 'z_cmodel_mag', 'y_cmodel_mag', 'g_cmodel_magsigma',\n",
    "       'r_cmodel_magsigma', 'i_cmodel_magsigma', 'z_cmodel_magsigma',\n",
    "       'y_cmodel_magsigma'])\n",
    "    df.to_csv('/mnt/data/HSC/3_model_comparison/training_set_'+str(z_max)+'_'+str(sample_array)+'#'+str(i)+'.csv')"
   ]
  },
  {
   "cell_type": "code",
   "execution_count": 181,
   "id": "c3fbf40a",
   "metadata": {},
   "outputs": [],
   "source": [
    "training_data_control = photozdata_trainset"
   ]
  },
  {
   "cell_type": "code",
   "execution_count": 182,
   "id": "40b65b93",
   "metadata": {},
   "outputs": [],
   "source": [
    "for i in range(1, nnetwork + 1):\n",
    "    df = pd.DataFrame(training_data_control, columns=['object_id', 'specz_redshift_err', 'specz_redshift', 'specz_mag_i',\n",
    "       'specz_name', 'specz_ra', 'specz_dec', 'specz_flag_homogeneous', 'ra',\n",
    "       'dec', 'coord', 'skymap_id', 'g_cmodel_mag', 'r_cmodel_mag',\n",
    "       'i_cmodel_mag', 'z_cmodel_mag', 'y_cmodel_mag', 'g_cmodel_magsigma',\n",
    "       'r_cmodel_magsigma', 'i_cmodel_magsigma', 'z_cmodel_magsigma',\n",
    "       'y_cmodel_magsigma'])\n",
    "    df.to_csv('/mnt/data/HSC/3_model_comparison/training_set_'+str(z_max)+'_control#'+str(i)+'.csv')"
   ]
  },
  {
   "cell_type": "code",
   "execution_count": 183,
   "id": "239f6e0f",
   "metadata": {},
   "outputs": [],
   "source": [
    "# END"
   ]
  }
 ],
 "metadata": {
  "kernelspec": {
   "display_name": "Python 3",
   "language": "python",
   "name": "python3"
  },
  "language_info": {
   "codemirror_mode": {
    "name": "ipython",
    "version": 3
   },
   "file_extension": ".py",
   "mimetype": "text/x-python",
   "name": "python",
   "nbconvert_exporter": "python",
   "pygments_lexer": "ipython3",
   "version": "3.8.10"
  }
 },
 "nbformat": 4,
 "nbformat_minor": 5
}
