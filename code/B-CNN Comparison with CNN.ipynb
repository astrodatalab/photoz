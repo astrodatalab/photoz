{
 "cells": [
  {
   "cell_type": "markdown",
   "id": "315d03f8",
   "metadata": {},
   "source": [
    "Importing library"
   ]
  },
  {
   "cell_type": "code",
   "execution_count": null,
   "id": "1091fe3f",
   "metadata": {},
   "outputs": [],
   "source": [
    "import os\n",
    "from astropy.io import fits\n",
    "import tensorflow as tf\n",
    "import numpy as np\n",
    "import matplotlib.pyplot as plt\n",
    "import h5py\n",
    "import random\n",
    "from sklearn.model_selection import train_test_split\n",
    "from keras.preprocessing.image import ImageDataGenerator"
   ]
  },
  {
   "cell_type": "code",
   "execution_count": null,
   "id": "50b6b1d4",
   "metadata": {},
   "outputs": [],
   "source": [
    "import os\n",
    "import tensorflow as tf\n",
    "import tensorflow_probability as tfp\n",
    "tfpl = tfp.layers\n",
    "tf1 = tf.compat.v1\n",
    "tfd = tfp.distributions\n",
    "import numpy as np\n",
    "import matplotlib.pyplot as plt\n",
    "from sklearn.model_selection import train_test_split\n",
    "from sklearn import preprocessing"
   ]
  },
  {
   "cell_type": "code",
   "execution_count": null,
   "id": "3d2c3541",
   "metadata": {},
   "outputs": [],
   "source": [
    "from tensorflow_probability.python.distributions import kl_divergence"
   ]
  },
  {
   "cell_type": "code",
   "execution_count": null,
   "id": "1d8bd5ba",
   "metadata": {},
   "outputs": [],
   "source": [
    "gpus = tf.config.list_physical_devices('GPU')\n",
    "\n",
    "if gpus:\n",
    "  # Restrict TensorFlow to only allocate 10GB of memory on the first GPU\n",
    "  try:\n",
    "    tf.config.experimental.set_virtual_device_configuration(\n",
    "        gpus[0],\n",
    "        [tf.config.experimental.VirtualDeviceConfiguration(memory_limit=5000)])\n",
    "    logical_gpus = tf.config.experimental.list_logical_devices('GPU')\n",
    "    print(len(gpus), \"Physical GPUs,\", len(logical_gpus), \"Logical GPUs\")\n",
    "  except RuntimeError as e:\n",
    "    # Virtual devices must be set before GPUs have been initialized\n",
    "    print(e)"
   ]
  },
  {
   "cell_type": "code",
   "execution_count": null,
   "id": "28deb299",
   "metadata": {},
   "outputs": [],
   "source": [
    "hf = h5py.File('/mnt/data/HSC/HSC_v6/extra_files/five_band_image127x127_full.hdf5', 'r')\n",
    "n = 10000\n",
    "x = []\n",
    "y = []\n",
    "r = random.sample(range(len(hf[\"specz\"])), n)\n",
    "x = [hf[\"image\"][i] for i in r]\n",
    "y = np.asarray([hf[\"specz\"][i] for i in r])\n",
    "x = np.transpose(x,(0,2,3,1))\n",
    "max_value = np.max(x)\n",
    "x_new = np.true_divide(x,max_value)\n",
    "hf.close()"
   ]
  },
  {
   "cell_type": "markdown",
   "id": "20a03d63",
   "metadata": {},
   "source": [
    "Importing data"
   ]
  },
  {
   "cell_type": "markdown",
   "id": "e661de4d",
   "metadata": {},
   "source": [
    "Image Augmentation"
   ]
  },
  {
   "cell_type": "code",
   "execution_count": null,
   "id": "0ed8f2ea",
   "metadata": {},
   "outputs": [],
   "source": [
    "##datagen = ImageDataGenerator(rotation_range=90)\n",
    "##it = datagen.flow(x_new, batch_size=1)"
   ]
  },
  {
   "cell_type": "code",
   "execution_count": null,
   "id": "ef45fee2",
   "metadata": {},
   "outputs": [],
   "source": [
    "x_train ,x_test,y_train,y_test = train_test_split(x_new,y,test_size=0.2)"
   ]
  },
  {
   "cell_type": "code",
   "execution_count": null,
   "id": "69ccd934",
   "metadata": {},
   "outputs": [],
   "source": [
    "import keras\n",
    "from keras.models import Model\n",
    "from tensorflow.keras.models import Sequential\n",
    "from keras.layers import Dense, Dropout, Flatten, Input, BatchNormalization\n",
    "from keras.layers import Conv2D, MaxPooling2D"
   ]
  },
  {
   "cell_type": "code",
   "execution_count": null,
   "id": "7ad8c04e",
   "metadata": {},
   "outputs": [],
   "source": [
    "model = Sequential()\n",
    "model.add(tf.keras.layers.Input(shape=(127,127,5)))\n",
    "model.add(Conv2D(32, kernel_size=(3, 3),activation='tanh'))\n",
    "model.add(MaxPooling2D(pool_size = (2,2)))\n",
    "model.add(Conv2D(32, kernel_size=(2,2),activation='tanh'))\n",
    "model.add(MaxPooling2D(pool_size = (2,2)))\n",
    "model.add(Conv2D(32, kernel_size=(3,3),activation='relu'))\n",
    "model.add(Conv2D(32, kernel_size=(2,2),activation='relu'))\n",
    "model.add(Flatten())\n",
    "model.add(Dense(500, activation=\"tanh\"))\n",
    "model.add(Dense(100, activation=\"tanh\"))\n",
    "model.add(Dense(1))\n",
    "\n",
    "model.build((127,127,5))\n",
    "model.summary()"
   ]
  },
  {
   "cell_type": "code",
   "execution_count": null,
   "id": "0f187c79",
   "metadata": {},
   "outputs": [],
   "source": [
    "# From Evan's code, didn't completely understand this part\n",
    "def posterior_mean_field(kernel_size: int, bias_size: int, dtype: any) -> tf.keras.Model:\n",
    "    \"\"\"Specify the surrogate posterior over `keras.layers.Dense` `kernel` and `bias`.\"\"\"\n",
    "    n = kernel_size + bias_size\n",
    "    c = np.log(np.expm1(1.))\n",
    "\n",
    "    return tf.keras.Sequential([\n",
    "        tfp.layers.VariableLayer(2 * n, dtype=dtype, initializer=lambda shape, dtype: random_gaussian_initializer(shape, dtype), trainable=True),\n",
    "        tfp.layers.DistributionLambda(lambda t: tfd.Independent(\n",
    "            tfd.Normal(loc=t[..., :n],\n",
    "                       scale= 0 + tf.nn.softplus(c + t[..., n:])),\n",
    "            reinterpreted_batch_ndims=1)),\n",
    "    ])\n",
    "\n",
    "def prior_trainable(kernel_size: int, bias_size: int, dtype: any) -> tf.keras.Model:\n",
    "    \"\"\"Specify the prior over `keras.layers.Dense` `kernel` and `bias`.\"\"\"\n",
    "    n = kernel_size + bias_size\n",
    "\n",
    "    return tf.keras.Sequential([\n",
    "        tfp.layers.VariableLayer(n, dtype=dtype),  # Returns a trainable variable of shape n, regardless of input\n",
    "        tfp.layers.DistributionLambda(lambda t: tfd.Independent(\n",
    "            tfd.Normal(loc=t, scale=0.1),\n",
    "            reinterpreted_batch_ndims=1)),\n",
    "    ])\n",
    "\n",
    "def random_gaussian_initializer(shape, dtype):\n",
    "    n = int(shape / 2)\n",
    "    loc_norm = tf.random_normal_initializer(mean=0., stddev=0.1)\n",
    "    loc = tf.Variable(\n",
    "        initial_value=loc_norm(shape=(n,), dtype=dtype)\n",
    "    )\n",
    "    scale_norm = tf.random_normal_initializer(mean=-3., stddev=0.1)\n",
    "    scale = tf.Variable(\n",
    "        initial_value=scale_norm(shape=(n,), dtype=dtype)\n",
    "    )\n",
    "    return tf.concat([loc, scale], 0)\n",
    "\n",
    "def negative_loglikelihood(targets, estimated_distribution):\n",
    "    return -estimated_distribution.log_prob(targets)\n",
    "\n",
    "kl_divergence_function = lambda q, p, _: kl_divergence(q, p) / n"
   ]
  },
  {
   "cell_type": "code",
   "execution_count": null,
   "id": "2beada9e",
   "metadata": {},
   "outputs": [],
   "source": [
    "model_variational = Sequential([\n",
    "    tf.keras.layers.Input(shape=(127,127,5)),\n",
    "    tfp.layers.Convolution2DFlipout(32, kernel_size=(2,2), activation='tanh', kernel_divergence_fn=kl_divergence_function),\n",
    "    MaxPooling2D(2,2),\n",
    "    Conv2D(32, kernel_size=(2,2),activation='tanh'),\n",
    "    MaxPooling2D(2,2),\n",
    "    Conv2D(32, kernel_size=(2,2),activation='relu'),\n",
    "    #tfp.layers.Convolution2DFlipout(32, kernel_size=(2,2), activation='relu', kernel_divergence_fn=kl_divergence_function),\n",
    "    Conv2D(32, kernel_size=(2,2),activation='relu'),\n",
    "    #tfp.layers.Convolution2DFlipout(32, kernel_size=(2,2), activation='relu', kernel_divergence_fn=kl_divergence_function),\n",
    "    tf.keras.layers.Flatten(),\n",
    "    Dropout(0.2),\n",
    "    # tfp.layers.DenseVariational(512, activation='tanh', make_posterior_fn=posterior_mean_field, make_prior_fn=prior_trainable, kl_weight=1/n),\n",
    "    tfp.layers.DenseVariational(64, \n",
    "                                      make_posterior_fn=posterior_mean_field,\n",
    "                                      make_prior_fn=prior_trainable,\n",
    "                                      kl_weight=1/n),\n",
    "    # tfp.layers.DenseVariational(128, activation='tanh', make_posterior_fn=posterior_mean_field, make_prior_fn=prior_trainable, kl_weight=1/n),\n",
    "    tfp.layers.DenseVariational(64, \n",
    "                                      make_posterior_fn=posterior_mean_field,\n",
    "                                      make_prior_fn=prior_trainable,\n",
    "                                      kl_weight=1/n),\n",
    "    # Dense(2)\n",
    "    Dense(tfpl.IndependentNormal.params_size(1)),\n",
    "    tfpl.IndependentNormal(1)\n",
    "])\n",
    "\n",
    "model_variational.summary()"
   ]
  },
  {
   "cell_type": "markdown",
   "id": "78ab0f82",
   "metadata": {},
   "source": [
    "model.compile(optimizer='Adam', loss=\"mse\",metrics=[tf.keras.metrics.MeanAbsoluteError()])\n",
    "\n",
    "model.fit(x_train,y_train,epochs=300,shuffle = True,verbose=1)\n"
   ]
  },
  {
   "cell_type": "code",
   "execution_count": null,
   "id": "2a5f37b6",
   "metadata": {},
   "outputs": [],
   "source": [
    "model.compile(optimizer=tf.keras.optimizers.Adam(learning_rate=0.001), loss=\"mse\",metrics=[keras.metrics.RootMeanSquaredError()])\n",
    "\n",
    "model.fit(x_train,y_train,epochs=300,shuffle = True,verbose=1)"
   ]
  },
  {
   "cell_type": "code",
   "execution_count": null,
   "id": "de5fcf3a",
   "metadata": {},
   "outputs": [],
   "source": [
    "def negative_loglikelihood(targets, estimated_distribution):\n",
    "    return -estimated_distribution.log_prob(targets)*1/(1 + targets)\n",
    "\n",
    "model_variational.compile(optimizer=tf.keras.optimizers.Adam(learning_rate=0.001), loss = negative_loglikelihood, metrics=[keras.metrics.RootMeanSquaredError()])"
   ]
  },
  {
   "cell_type": "markdown",
   "id": "454dfc11",
   "metadata": {},
   "source": [
    "model.compile(optimizer='Adam', loss=\"mse\",metrics=[tf.keras.metrics.MeanAbsoluteError()])"
   ]
  },
  {
   "cell_type": "code",
   "execution_count": null,
   "id": "ed21918a",
   "metadata": {
    "scrolled": true
   },
   "outputs": [],
   "source": [
    "model_variational.fit(x = x_train, y = y_train, epochs = 600, shuffle = True, verbose=1)"
   ]
  },
  {
   "cell_type": "code",
   "execution_count": null,
   "id": "9f5b1434",
   "metadata": {},
   "outputs": [],
   "source": [
    "y_test_prediction = []\n",
    "\n",
    "for i in range(len(y_test)):\n",
    "    y_test_prediction.append(model_variational(np.array([x_test[i]])).mean()[0][0])\n",
    "\n",
    "y_test_prediction = np.asarray(y_test_prediction).astype('float32')\n",
    "\n",
    "y_test_spectro = np.asarray(y_test[:,0])"
   ]
  },
  {
   "cell_type": "code",
   "execution_count": null,
   "id": "c240e4f7",
   "metadata": {},
   "outputs": [],
   "source": [
    "y_t_p = model.predict(x_test)\n",
    "y_t_p_cnn = []\n",
    "\n",
    "for i in range(len(y_test)):\n",
    "    y_t_p_cnn.append(y_t_p[i][0])\n",
    "\n",
    "y_t_p_cnn = np.asarray(y_t_p_cnn).astype('float32')"
   ]
  },
  {
   "cell_type": "code",
   "execution_count": null,
   "id": "c8f2d907",
   "metadata": {},
   "outputs": [],
   "source": [
    "y_test_std = []\n",
    "\n",
    "for i in range(len(y_test)):\n",
    "    y_test_std.append(model_variational(np.array([x_test[i]])).stddev()[0][0])"
   ]
  },
  {
   "cell_type": "markdown",
   "id": "13051b76",
   "metadata": {},
   "source": [
    "y_test_prediction = model.predict(x_test)[:,0]\n",
    "\n",
    "y_test_prediction = np.asarray(y_test_prediction).astype('float32')\n",
    "\n",
    "y_test_spectro = np.asarray(y_test[:,0])"
   ]
  },
  {
   "cell_type": "code",
   "execution_count": null,
   "id": "4aca0c11",
   "metadata": {},
   "outputs": [],
   "source": [
    "from scipy.stats import gaussian_kde\n",
    "xy = np.asarray(np.vstack([y_test_spectro, y_test_prediction])).astype('float32')\n",
    "z = gaussian_kde(xy)(xy)"
   ]
  },
  {
   "cell_type": "code",
   "execution_count": null,
   "id": "747b0c21",
   "metadata": {},
   "outputs": [],
   "source": [
    "xy_cnn = np.asarray(np.vstack([y_test_spectro, y_t_p_cnn])).astype('float32')\n",
    "z_cnn = gaussian_kde(xy_cnn)(xy_cnn)"
   ]
  },
  {
   "cell_type": "code",
   "execution_count": null,
   "id": "2d080369",
   "metadata": {},
   "outputs": [],
   "source": [
    "import seaborn as sns\n",
    "sns.set(rc={'figure.figsize':(10, 10), 'lines.markersize':20})\n",
    "plt.rcParams.update({'font.size': 40})\n",
    "fig, ax = plt.subplots()\n",
    "scatter_plot = ax.scatter(y_test_spectro, y_test_prediction, c = z, s = 1, edgecolor = None)\n",
    "plt.colorbar(scatter_plot, label = 'Density')\n",
    "plt.title('BNN Prediction')\n",
    "plt.xlabel('spectroscopic redshift')\n",
    "plt.ylabel('photo z')\n",
    "plt.plot([0, 2], [0, 2],color = 'black')\n",
    "plt.xlim([0, 2])\n",
    "plt.ylim([0, 2])\n",
    "plt.show()"
   ]
  },
  {
   "cell_type": "code",
   "execution_count": null,
   "id": "8a4a2a22",
   "metadata": {},
   "outputs": [],
   "source": [
    "fig, ax = plt.subplots()\n",
    "scatter_plot = ax.scatter(y_test_spectro, y_t_p_cnn, c = z_cnn, s = 1, edgecolor = None)\n",
    "plt.colorbar(scatter_plot, label = 'Density')\n",
    "plt.title('CNN Prediction')\n",
    "plt.xlabel('spectroscopic redshift')\n",
    "plt.ylabel('photo z')\n",
    "plt.plot([0, 2], [0, 2],color = 'black')\n",
    "plt.xlim([0, 2])\n",
    "plt.ylim([0, 2])\n",
    "plt.show()"
   ]
  },
  {
   "cell_type": "code",
   "execution_count": null,
   "id": "2b34aa74",
   "metadata": {},
   "outputs": [],
   "source": [
    "overlap_variational = 0\n",
    "overlap_array_variational = []\n",
    "for i in range(0,len(y_test)):\n",
    "    if np.abs(y_test_spectro[i]-y_test_prediction[i])<=y_test_std[i]:\n",
    "        overlap_variational += 1\n",
    "        overlap_array_variational.append(1)\n",
    "    else:\n",
    "        overlap_array_variational.append(0)"
   ]
  },
  {
   "cell_type": "code",
   "execution_count": null,
   "id": "ce4218c2",
   "metadata": {},
   "outputs": [],
   "source": [
    "fig, ax = plt.subplots()\n",
    "display_size = 300\n",
    "scatter_plot = ax.scatter(y_test_spectro[:display_size], y_test_prediction[:display_size], c = z[:display_size], s = 4, edgecolor = None, zorder = 2)\n",
    "error_plot = ax.errorbar(y_test_spectro[:display_size], y_test_prediction[:display_size], yerr = y_test_std[:display_size], fmt=\"o\", markersize=0, color = 'blue', elinewidth = 1, zorder = 1)\n",
    "plt.title('Prediction with error, Bayesian')\n",
    "plt.xlabel('spectroscopic redshift')\n",
    "plt.ylabel('photo z')\n",
    "plt.plot([0, 2], [0, 2],color = 'black')\n",
    "plt.xlim([0, 2])\n",
    "plt.ylim([0, 2])\n",
    "print(\"Coverage: \"+str(overlap_variational/len(y_test)))"
   ]
  },
  {
   "cell_type": "code",
   "execution_count": null,
   "id": "30018d86",
   "metadata": {},
   "outputs": [],
   "source": [
    "combined_array = np.transpose(np.vstack((y_test_spectro, y_t_p_cnn))) \n",
    "sorted_combined_array = sorted(combined_array, key=lambda x: x[0])"
   ]
  },
  {
   "cell_type": "code",
   "execution_count": null,
   "id": "5c5eee06",
   "metadata": {},
   "outputs": [],
   "source": [
    "combined_array_variational = np.transpose(np.vstack((y_test_spectro, y_test_prediction, y_test_std, overlap_array_variational))) "
   ]
  },
  {
   "cell_type": "code",
   "execution_count": null,
   "id": "fb236386",
   "metadata": {},
   "outputs": [],
   "source": [
    "sorted_combined_array_variational = sorted(combined_array_variational, key=lambda x: x[0])"
   ]
  },
  {
   "cell_type": "code",
   "execution_count": null,
   "id": "ebecb5bb",
   "metadata": {},
   "outputs": [],
   "source": [
    "z_max = 2\n",
    "bins_variational = int(z_max*5)\n",
    "splitted_sorted_combined_array = np.array_split(sorted_combined_array, bins_variational)\n",
    "splitted_sorted_combined_array_variational = np.array_split(sorted_combined_array_variational, bins_variational)\n",
    "coverage_variational = []\n",
    "for i in range(0, bins_variational):\n",
    "    bins_count_variational = 0\n",
    "    for j in range(0,len(splitted_sorted_combined_array_variational[i])):\n",
    "        if splitted_sorted_combined_array_variational[i][j][3] == 1:\n",
    "            bins_count_variational += 1\n",
    "    coverage_variational.append(bins_count_variational/len(splitted_sorted_combined_array_variational[i])/0.6827)\n",
    "x_array = np.arange(0, z_max, z_max/bins_variational)"
   ]
  },
  {
   "cell_type": "code",
   "execution_count": null,
   "id": "f06c57bf",
   "metadata": {},
   "outputs": [],
   "source": [
    "plt.plot(x_array, coverage_variational, c = 'red')\n",
    "plt.title('Coverage, Bayesian')\n",
    "plt.xlabel('spectroscopic redshift')\n",
    "plt.ylabel('coverage')\n",
    "plt.ylim([0, 1.5])\n",
    "print(\"Coverage: \"+str(overlap_variational/len(y_test)))"
   ]
  },
  {
   "cell_type": "code",
   "execution_count": null,
   "id": "c7375ddb",
   "metadata": {},
   "outputs": [],
   "source": [
    "mean_array = []\n",
    "for i in range(0, bins_variational):\n",
    "    total = 0\n",
    "    for j in range(0, len(splitted_sorted_combined_array_variational[i])):\n",
    "        bias = (splitted_sorted_combined_array_variational[i][j][1]-splitted_sorted_combined_array_variational[i][j][0])\n",
    "        total += bias\n",
    "    mean_array.append(total/len(splitted_sorted_combined_array_variational[i]))\n",
    "x_array = np.arange(0, z_max, z_max/bins_variational)"
   ]
  },
  {
   "cell_type": "code",
   "execution_count": null,
   "id": "5434b918",
   "metadata": {},
   "outputs": [],
   "source": [
    "mean_array_cnn = []\n",
    "for i in range(0, bins_variational):\n",
    "    total = 0\n",
    "    for j in range(0, len(splitted_sorted_combined_array[i])):\n",
    "        bias = (splitted_sorted_combined_array[i][j][1]-splitted_sorted_combined_array[i][j][0])\n",
    "        total += bias\n",
    "    mean_array_cnn.append(total/len(splitted_sorted_combined_array[i]))"
   ]
  },
  {
   "cell_type": "code",
   "execution_count": null,
   "id": "76b7ef6e",
   "metadata": {},
   "outputs": [],
   "source": [
    "error_array = []\n",
    "for i in range(0,bins_variational):\n",
    "    error_total = 0\n",
    "    for j in range(0,len(splitted_sorted_combined_array_variational[i])):\n",
    "        error_total += splitted_sorted_combined_array_variational[i][j][2]\n",
    "    error_array.append(error_total/len(splitted_sorted_combined_array_variational[i]))"
   ]
  },
  {
   "cell_type": "code",
   "execution_count": null,
   "id": "8652e4b9",
   "metadata": {},
   "outputs": [],
   "source": [
    "sns.set(rc={'figure.figsize':(5, 5), 'lines.markersize':40})\n",
    "plt.rcParams.update({'font.size': 40})\n",
    "plt.errorbar(x_array, mean_array, yerr = error_array, fmt = \"o\", color = 'blue', markersize = 4, elinewidth = 2, zorder = 1, label = 'Bayesian')\n",
    "plt.scatter(x_array, mean_array_cnn,  color = 'orange', s = 4, zorder = 2, label = 'CNN')\n",
    "plt.title('Bias Plot for Probabilistic Model')\n",
    "plt.xlabel('True Redshift')\n",
    "plt.ylabel('Bias (Predicted - True)')\n",
    "plt.plot([0, 2], [0, 0],color = 'black')\n",
    "plt.ylim([-1, 1])\n",
    "plt.legend()\n",
    "plt.show()"
   ]
  },
  {
   "cell_type": "code",
   "execution_count": null,
   "id": "8ec169d4",
   "metadata": {},
   "outputs": [],
   "source": [
    "# END"
   ]
  }
 ],
 "metadata": {
  "kernelspec": {
   "display_name": "Python 3",
   "language": "python",
   "name": "python3"
  },
  "language_info": {
   "codemirror_mode": {
    "name": "ipython",
    "version": 3
   },
   "file_extension": ".py",
   "mimetype": "text/x-python",
   "name": "python",
   "nbconvert_exporter": "python",
   "pygments_lexer": "ipython3",
   "version": "3.8.10"
  }
 },
 "nbformat": 4,
 "nbformat_minor": 5
}
