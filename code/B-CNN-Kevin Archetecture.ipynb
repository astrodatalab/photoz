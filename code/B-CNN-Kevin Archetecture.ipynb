{
 "cells": [
  {
   "cell_type": "code",
   "execution_count": 1,
   "id": "1091fe3f",
   "metadata": {},
   "outputs": [],
   "source": [
    "import os\n",
    "import numpy as np\n",
    "import matplotlib.pyplot as plt\n",
    "from astropy.io import fits\n",
    "import tensorflow as tf\n",
    "import tensorflow_probability as tfp\n",
    "import h5py\n",
    "import random\n",
    "from sklearn.model_selection import train_test_split\n",
    "import pandas as pd\n",
    "from DataMaker import HDF5ImageGenerator"
   ]
  },
  {
   "cell_type": "code",
   "execution_count": 2,
   "id": "dc18d45d",
   "metadata": {},
   "outputs": [],
   "source": [
    "import photoz_utils"
   ]
  },
  {
   "cell_type": "code",
   "execution_count": 3,
   "id": "50b6b1d4",
   "metadata": {},
   "outputs": [],
   "source": [
    "tfpl = tfp.layers\n",
    "tf1 = tf.compat.v1\n",
    "tfd = tfp.distributions"
   ]
  },
  {
   "cell_type": "code",
   "execution_count": 4,
   "id": "3d2c3541",
   "metadata": {},
   "outputs": [],
   "source": [
    "from tensorflow_probability.python.distributions import kl_divergence"
   ]
  },
  {
   "cell_type": "code",
   "execution_count": 5,
   "id": "1d8bd5ba",
   "metadata": {},
   "outputs": [
    {
     "name": "stdout",
     "output_type": "stream",
     "text": [
      "1 Physical GPUs, 1 Logical GPUs\n"
     ]
    },
    {
     "name": "stderr",
     "output_type": "stream",
     "text": [
      "2022-10-07 01:43:13.182792: I tensorflow/stream_executor/cuda/cuda_gpu_executor.cc:975] successful NUMA node read from SysFS had negative value (-1), but there must be at least one NUMA node, so returning NUMA node zero\n",
      "2022-10-07 01:43:13.193098: I tensorflow/stream_executor/cuda/cuda_gpu_executor.cc:975] successful NUMA node read from SysFS had negative value (-1), but there must be at least one NUMA node, so returning NUMA node zero\n",
      "2022-10-07 01:43:13.193721: I tensorflow/stream_executor/cuda/cuda_gpu_executor.cc:975] successful NUMA node read from SysFS had negative value (-1), but there must be at least one NUMA node, so returning NUMA node zero\n",
      "2022-10-07 01:43:13.194904: I tensorflow/core/platform/cpu_feature_guard.cc:193] This TensorFlow binary is optimized with oneAPI Deep Neural Network Library (oneDNN) to use the following CPU instructions in performance-critical operations:  AVX2 FMA\n",
      "To enable them in other operations, rebuild TensorFlow with the appropriate compiler flags.\n",
      "2022-10-07 01:43:13.196310: I tensorflow/stream_executor/cuda/cuda_gpu_executor.cc:975] successful NUMA node read from SysFS had negative value (-1), but there must be at least one NUMA node, so returning NUMA node zero\n",
      "2022-10-07 01:43:13.196905: I tensorflow/stream_executor/cuda/cuda_gpu_executor.cc:975] successful NUMA node read from SysFS had negative value (-1), but there must be at least one NUMA node, so returning NUMA node zero\n",
      "2022-10-07 01:43:13.197478: I tensorflow/stream_executor/cuda/cuda_gpu_executor.cc:975] successful NUMA node read from SysFS had negative value (-1), but there must be at least one NUMA node, so returning NUMA node zero\n",
      "2022-10-07 01:43:13.729987: I tensorflow/stream_executor/cuda/cuda_gpu_executor.cc:975] successful NUMA node read from SysFS had negative value (-1), but there must be at least one NUMA node, so returning NUMA node zero\n",
      "2022-10-07 01:43:13.730623: I tensorflow/stream_executor/cuda/cuda_gpu_executor.cc:975] successful NUMA node read from SysFS had negative value (-1), but there must be at least one NUMA node, so returning NUMA node zero\n",
      "2022-10-07 01:43:13.731204: I tensorflow/stream_executor/cuda/cuda_gpu_executor.cc:975] successful NUMA node read from SysFS had negative value (-1), but there must be at least one NUMA node, so returning NUMA node zero\n",
      "2022-10-07 01:43:13.731746: I tensorflow/core/common_runtime/gpu/gpu_device.cc:1532] Created device /job:localhost/replica:0/task:0/device:GPU:0 with 5000 MB memory:  -> device: 0, name: NVIDIA RTX A6000, pci bus id: 0000:61:00.0, compute capability: 8.6\n"
     ]
    }
   ],
   "source": [
    "gpus = tf.config.list_physical_devices('GPU')\n",
    "\n",
    "if gpus:\n",
    "  # Restrict TensorFlow to only allocate 10GB of memory on the first GPU\n",
    "  try:\n",
    "    tf.config.experimental.set_virtual_device_configuration(\n",
    "        gpus[0],\n",
    "        [tf.config.experimental.VirtualDeviceConfiguration(memory_limit = 5000)])\n",
    "    logical_gpus = tf.config.experimental.list_logical_devices('GPU')\n",
    "    print(len(gpus), \"Physical GPUs,\", len(logical_gpus), \"Logical GPUs\")\n",
    "  except RuntimeError as e:\n",
    "    # Virtual devices must be set before GPUs have been initialized\n",
    "    print(e)"
   ]
  },
  {
   "cell_type": "code",
   "execution_count": 6,
   "id": "3da0b6bc",
   "metadata": {},
   "outputs": [],
   "source": [
    "LATENT_DIM = 16\n",
    "IMAGE_SHAPE = (5, 127, 127)\n",
    "BATCH_SIZE = 128\n",
    "EPOCHS = 90\n",
    "GB_LIMIT = 30\n",
    "CHECKPOINTS_TO_SAVE = 1"
   ]
  },
  {
   "cell_type": "code",
   "execution_count": 7,
   "id": "8ee842a9",
   "metadata": {},
   "outputs": [],
   "source": [
    "args_gen = {'X_key': 'image',\n",
    "    'y_key': 'specz_redshift',\n",
    "    'scaler': True,\n",
    "    'labels_encoding': False,\n",
    "    'batch_size': BATCH_SIZE,\n",
    "    'mode': 'train',\n",
    "    'shuffle': True}\n",
    "\n",
    "train_gen = HDF5ImageGenerator(src='/data/HSC/HSC_v6/step2A/127x127/five_band_image127x127_with_metadata_corrected_training.hdf5', **args_gen)\n",
    "val_gen = HDF5ImageGenerator(src='/data/HSC/HSC_v6/step2A/127x127/five_band_image127x127_with_metadata_corrected_validation.hdf5', **args_gen)\n",
    "test_gen = HDF5ImageGenerator(src='/data/HSC/HSC_v6/step2A/127x127/five_band_image127x127_with_metadata_corrected_testing.hdf5', **args_gen)"
   ]
  },
  {
   "cell_type": "code",
   "execution_count": 8,
   "id": "928372fe",
   "metadata": {},
   "outputs": [],
   "source": [
    "n = BATCH_SIZE\n",
    "l = len(train_gen._indices)"
   ]
  },
  {
   "cell_type": "code",
   "execution_count": 9,
   "id": "0f187c79",
   "metadata": {},
   "outputs": [],
   "source": [
    "def posterior_mean_field(kernel_size: int, bias_size: int, dtype: any) -> tf.keras.Model:\n",
    "    \"\"\"Specify the surrogate posterior over `keras.layers.Dense` `kernel` and `bias`.\"\"\"\n",
    "    n = kernel_size + bias_size\n",
    "    c = np.log(np.expm1(1.))\n",
    "\n",
    "    return tf.keras.Sequential([\n",
    "        tfp.layers.VariableLayer(2 * n, dtype = dtype, initializer = lambda shape, dtype: random_gaussian_initializer(shape, dtype), trainable = True),\n",
    "        tfp.layers.DistributionLambda(lambda t: tfd.Independent(\n",
    "            tfd.Normal(loc = t[ ..., : n],\n",
    "                       scale = 0 + tf.nn.softplus(c + t[..., n:])),\n",
    "            reinterpreted_batch_ndims = 1)),\n",
    "    ])\n",
    "\n",
    "def prior_trainable(kernel_size: int, bias_size: int, dtype: any) -> tf.keras.Model:\n",
    "    \"\"\"Specify the prior over `keras.layers.Dense` `kernel` and `bias`.\"\"\"\n",
    "    n = kernel_size + bias_size\n",
    "\n",
    "    return tf.keras.Sequential([\n",
    "        tfp.layers.VariableLayer(n, dtype = dtype),  # Returns a trainable variable of shape n, regardless of input\n",
    "        tfp.layers.DistributionLambda(lambda t: tfd.Independent(\n",
    "            tfd.Normal(loc = t, scale = 0.1),\n",
    "            reinterpreted_batch_ndims = 1)),\n",
    "    ])\n",
    "\n",
    "def random_gaussian_initializer(shape, dtype):\n",
    "    n = int(shape / 2)\n",
    "    loc_norm = tf.random_normal_initializer(mean = 0., stddev = 0.001)\n",
    "    loc = tf.Variable(\n",
    "        initial_value = loc_norm(shape = (n, ), dtype = dtype)\n",
    "    )\n",
    "    scale_norm = tf.random_normal_initializer(mean = -3., stddev = 0.1)\n",
    "    scale = tf.Variable(\n",
    "        initial_value = scale_norm(shape = (n, ), dtype = dtype)\n",
    "    )\n",
    "    return tf.concat([loc, scale], 0)\n",
    "\n",
    "kl = 0\n",
    "\n",
    "kl_divergence_function = 0 # lambda q, p, _: kl_divergence(q, p) / n"
   ]
  },
  {
   "cell_type": "code",
   "execution_count": 10,
   "id": "69ccd934",
   "metadata": {},
   "outputs": [],
   "source": [
    "import keras\n",
    "from keras.models import Model\n",
    "from tensorflow.keras.models import Sequential\n",
    "from keras.layers import Dense, Dropout, Flatten, InputLayer, BatchNormalization\n",
    "from keras.layers import Conv2D, MaxPooling2D"
   ]
  },
  {
   "cell_type": "code",
   "execution_count": 17,
   "id": "2beada9e",
   "metadata": {},
   "outputs": [
    {
     "name": "stdout",
     "output_type": "stream",
     "text": [
      "Model: \"sequential_2\"\n",
      "_________________________________________________________________\n",
      " Layer (type)                Output Shape              Param #   \n",
      "=================================================================\n",
      " conv2d_14 (Conv2D)          (None, 32, 127, 127)      1472      \n",
      "                                                                 \n",
      " max_pooling2d_10 (MaxPoolin  (None, 32, 63, 63)       0         \n",
      " g2D)                                                            \n",
      "                                                                 \n",
      " conv2d_15 (Conv2D)          (None, 64, 63, 63)        8256      \n",
      "                                                                 \n",
      " max_pooling2d_11 (MaxPoolin  (None, 64, 31, 31)       0         \n",
      " g2D)                                                            \n",
      "                                                                 \n",
      " conv2d_16 (Conv2D)          (None, 128, 31, 31)       32896     \n",
      "                                                                 \n",
      " max_pooling2d_12 (MaxPoolin  (None, 128, 15, 15)      0         \n",
      " g2D)                                                            \n",
      "                                                                 \n",
      " conv2d_17 (Conv2D)          (None, 256, 15, 15)       131328    \n",
      "                                                                 \n",
      " max_pooling2d_13 (MaxPoolin  (None, 256, 7, 7)        0         \n",
      " g2D)                                                            \n",
      "                                                                 \n",
      " conv2d_18 (Conv2D)          (None, 256, 7, 7)         262400    \n",
      "                                                                 \n",
      " max_pooling2d_14 (MaxPoolin  (None, 256, 3, 3)        0         \n",
      " g2D)                                                            \n",
      "                                                                 \n",
      " conv2d_19 (Conv2D)          (None, 512, 3, 3)         1180160   \n",
      "                                                                 \n",
      " conv2d_20 (Conv2D)          (None, 512, 3, 3)         1049088   \n",
      "                                                                 \n",
      " flatten_2 (Flatten)         (None, 4608)              0         \n",
      "                                                                 \n",
      " dropout_2 (Dropout)         (None, 4608)              0         \n",
      "                                                                 \n",
      " dense_7 (Dense)             (None, 512)               2359808   \n",
      "                                                                 \n",
      " dense_8 (Dense)             (None, 256)               131328    \n",
      "                                                                 \n",
      " dense_9 (Dense)             (None, 64)                16448     \n",
      "                                                                 \n",
      " dense_10 (Dense)            (None, 2)                 130       \n",
      "                                                                 \n",
      " independent_normal_2 (Indep  ((None, 1),              0         \n",
      " endentNormal)                (None, 1))                         \n",
      "                                                                 \n",
      "=================================================================\n",
      "Total params: 5,173,314\n",
      "Trainable params: 5,173,314\n",
      "Non-trainable params: 0\n",
      "_________________________________________________________________\n"
     ]
    }
   ],
   "source": [
    "model_variational = Sequential([\n",
    "    InputLayer(input_shape = (5, 127, 127)),\n",
    "    Conv2D(32, kernel_size = (3, 3), activation = 'tanh', padding = 'same', data_format = 'channels_first'),\n",
    "    MaxPooling2D(pool_size = (2, 2), data_format = 'channels_first'),\n",
    "    Conv2D(64, kernel_size = (2, 2), activation = 'tanh', padding = 'same', data_format = 'channels_first'),\n",
    "    MaxPooling2D(pool_size = (2, 2), data_format = 'channels_first'),\n",
    "    Conv2D(128, kernel_size = (2, 2), activation = 'tanh', padding = 'same', data_format = 'channels_first'),\n",
    "    MaxPooling2D(pool_size = (2, 2), data_format = 'channels_first'),\n",
    "    Conv2D(256, kernel_size = (2, 2), activation = 'tanh', padding = 'same', data_format = 'channels_first'),\n",
    "    MaxPooling2D(pool_size = (2, 2), data_format = 'channels_first'),\n",
    "    Conv2D(256, kernel_size = (2, 2), activation = 'tanh', padding = 'same', data_format = 'channels_first'),\n",
    "    MaxPooling2D(pool_size = (2, 2), data_format = 'channels_first'),\n",
    "    Conv2D(512, kernel_size = (3, 3), activation = 'relu', padding = 'same', data_format = 'channels_first'),\n",
    "    Conv2D(512, kernel_size = (2, 2), activation = 'relu', padding = 'same', data_format = 'channels_first'),\n",
    "    Flatten(),\n",
    "    Dropout(0.2),\n",
    "    tfpl.DenseVariational(512, \n",
    "                                      make_posterior_fn = posterior_mean_field,\n",
    "                                      make_prior_fn = prior_trainable,\n",
    "                                      kl_weight = kl),\n",
    "    tfpl.DenseVariational(128, \n",
    "                                      make_posterior_fn = posterior_mean_field,\n",
    "                                      make_prior_fn = prior_trainable,\n",
    "                                      kl_weight = kl),\n",
    "    tfpl.DenseVariational(128, \n",
    "                                      make_posterior_fn = posterior_mean_field,\n",
    "                                      make_prior_fn = prior_trainable,\n",
    "                                      kl_weight = kl),\n",
    "    Dense(tfpl.IndependentNormal.params_size(1)),\n",
    "    tfpl.IndependentNormal(1)\n",
    "])\n",
    "\n",
    "model_variational.build((n, 5, 127, 127))\n",
    "\n",
    "model_variational.summary()"
   ]
  },
  {
   "cell_type": "code",
   "execution_count": 18,
   "id": "de5fcf3a",
   "metadata": {},
   "outputs": [],
   "source": [
    "def loss_function(targets, estimated_distribution):\n",
    "    return - estimated_distribution.log_prob(targets) / (1 + targets)\n",
    "\n",
    "model_variational.compile(optimizer = tf.keras.optimizers.Adam(learning_rate = 0.001), loss = loss_function, metrics = [keras.metrics.RootMeanSquaredError()])"
   ]
  },
  {
   "cell_type": "code",
   "execution_count": 19,
   "id": "42841133",
   "metadata": {},
   "outputs": [],
   "source": [
    "import tensorboard\n",
    "\n",
    "from tensorflow.keras.callbacks import TensorBoard, ModelCheckpoint, ReduceLROnPlateau\n",
    "\n",
    "model_name = 'HSC_v6_BCNN_v7_nobc'\n",
    "\n",
    "checkpoint_filepath = os.path.join('/models/', model_name)\n",
    "\n",
    "weights_path = os.path.join('/models/', model_name) + '_weights'\n",
    "\n",
    "log_directory = os.path.join('/logs/', model_name)\n",
    "\n",
    "logs_callback = TensorBoard(log_dir = log_directory)\n",
    "\n",
    "weights_callback = ModelCheckpoint(filepath = os.path.join(checkpoint_filepath, 'weights_epoch{epoch}.hdf5'),\n",
    "                                   save_freq = int(EPOCHS / CHECKPOINTS_TO_SAVE) * int(l / BATCH_SIZE),\n",
    "                                   save_weights_only = True, save_best_only = True)\n",
    "\n",
    "LR_callback = ReduceLROnPlateau()\n",
    "\n",
    "tensorboard_callback = tf.keras.callbacks.TensorBoard(log_dir = log_directory, histogram_freq = 1)"
   ]
  },
  {
   "cell_type": "code",
   "execution_count": 20,
   "id": "3929f409",
   "metadata": {},
   "outputs": [],
   "source": [
    "class KLCallback(keras.callbacks.Callback):\n",
    "    def on_epoch_begin(self, epoch, logs=None):\n",
    "        keys = list(logs.keys())\n",
    "        if epoch == 5:\n",
    "            kl = 1 / n\n",
    "        print(\"Start epoch {} of training; got log keys: {}\".format(epoch, keys))"
   ]
  },
  {
   "cell_type": "code",
   "execution_count": null,
   "id": "ed21918a",
   "metadata": {
    "scrolled": true
   },
   "outputs": [
    {
     "name": "stdout",
     "output_type": "stream",
     "text": [
      "Epoch 1/90\n",
      " 429/1567 [=======>......................] - ETA: 14:22 - loss: nan - root_mean_squared_error: nan"
     ]
    }
   ],
   "source": [
    "model_variational.fit(train_gen, epochs = EPOCHS, shuffle = True, verbose = 1, validation_data = val_gen, callbacks = [tensorboard_callback, logs_callback, LR_callback, weights_callback])"
   ]
  },
  {
   "cell_type": "code",
   "execution_count": null,
   "id": "3617d578",
   "metadata": {},
   "outputs": [],
   "source": [
    "model_variational.save_weights(weights_path.format(epoch = 5))"
   ]
  },
  {
   "cell_type": "code",
   "execution_count": null,
   "id": "9e6a645b",
   "metadata": {},
   "outputs": [],
   "source": [
    "model_variational.load_weights(weights_path)"
   ]
  },
  {
   "cell_type": "code",
   "execution_count": null,
   "id": "3c0995a4",
   "metadata": {},
   "outputs": [],
   "source": [
    "t = 2000"
   ]
  },
  {
   "cell_type": "markdown",
   "id": "b2fbeb80",
   "metadata": {},
   "source": [
    "hf_train = h5py.File('/data/HSC/HSC_v6/step2A/127x127/five_band_image127x127_with_metadata_corrected_training.hdf5', 'r')\n",
    "y_train = np.asarray(hf_train['specz_redshift'][0:])[..., None]\n",
    "object_id_train = np.asarray(hf_train['object_id'][0:])\n",
    "hf_train.close()"
   ]
  },
  {
   "cell_type": "code",
   "execution_count": null,
   "id": "9ec563ef",
   "metadata": {},
   "outputs": [],
   "source": [
    "hf_test = h5py.File('/data/HSC/HSC_v6/step2A/127x127/five_band_image127x127_with_metadata_corrected_testing.hdf5', 'r')\n",
    "x_test = np.asarray(np.transpose(hf_test['image'][0:],(0,1,2,3)))\n",
    "x_test = x_test[:t]\n",
    "x_test = np.true_divide(x_test, 4.16)\n",
    "y_test = np.asarray(hf_test['specz_redshift'][0:])[..., None][:t]\n",
    "object_id = np.asarray(hf_test['object_id'][0:])[:t]\n",
    "hf_test.close()"
   ]
  },
  {
   "cell_type": "markdown",
   "id": "a642528b",
   "metadata": {},
   "source": [
    "hf_validation = h5py.File('/data/HSC/HSC_v6/step2A/127x127/five_band_image127x127_with_metadata_corrected_validation.hdf5', 'r')\n",
    "y_validation = np.asarray(hf_validation['specz_redshift'][0:])[..., None]\n",
    "object_id_validation = np.asarray(hf_validation['object_id'][0:])\n",
    "hf_validation.close()"
   ]
  },
  {
   "cell_type": "code",
   "execution_count": null,
   "id": "67536dda",
   "metadata": {},
   "outputs": [],
   "source": [
    "photoz = []\n",
    "\n",
    "for i in range(t):\n",
    "    photoz.append(model_variational(np.expand_dims(x_test[i], axis = 0)).mean()[0][0])\n",
    "    print(i)\n",
    "\n",
    "photoz = np.asarray(photoz).astype('float32')"
   ]
  },
  {
   "cell_type": "code",
   "execution_count": null,
   "id": "a6c45c69",
   "metadata": {},
   "outputs": [],
   "source": [
    "photoz_err = []\n",
    "\n",
    "for i in range(t):\n",
    "    photoz_err.append(model_variational(np.expand_dims(x_test[i], axis = 0)).stddev()[0][0])\n",
    "    print(i)\n",
    "\n",
    "photoz_err = np.asarray(photoz_err).astype('float32')"
   ]
  },
  {
   "cell_type": "markdown",
   "id": "7c595a17",
   "metadata": {},
   "source": [
    "photoz = []\n",
    "\n",
    "for i in range(t):\n",
    "    photoz.append(model_variational(np.array([test_gen[int(i/BATCH_SIZE)][0][int(i%BATCH_SIZE)]])).mean()[0][0])\n",
    "\n",
    "photoz = np.asarray(photoz).astype('float32')"
   ]
  },
  {
   "cell_type": "markdown",
   "id": "77cd9113",
   "metadata": {},
   "source": [
    "photoz_train = []\n",
    "\n",
    "for i in range(n):\n",
    "    photoz_train.append(model_variational(np.array([train_gen[int(i/BATCH_SIZE)][0][int(i%BATCH_SIZE)]])).mean()[0][0])\n",
    "\n",
    "photoz_train = np.asarray(photoz_train).astype('float32')"
   ]
  },
  {
   "cell_type": "markdown",
   "id": "016e9ea9",
   "metadata": {},
   "source": [
    "photoz_validation = []\n",
    "\n",
    "for i in range(v):\n",
    "    photoz_validation.append(model_variational(np.array([val_gen[int(i/BATCH_SIZE)][0][int(i%BATCH_SIZE)]])).mean()[0][0])\n",
    "\n",
    "photoz_validation = np.asarray(photoz_validation).astype('float32')"
   ]
  },
  {
   "cell_type": "code",
   "execution_count": null,
   "id": "5aaca9e4",
   "metadata": {},
   "outputs": [],
   "source": [
    "specz = np.asarray(y_test)[:,0][:t]\n",
    "# specz_train = np.asarray(y_train)[:,0][:n]\n",
    "# specz_validation = np.asarray(y_validation)[:,0][:v]"
   ]
  },
  {
   "cell_type": "markdown",
   "id": "84e6c3af",
   "metadata": {},
   "source": [
    "photoz_err = []\n",
    "\n",
    "for i in range(t):\n",
    "    photoz_err.append(model_variational(np.array([test_gen[int(i/BATCH_SIZE)][0][int(i%BATCH_SIZE)]])).stddev()[0][0])"
   ]
  },
  {
   "cell_type": "markdown",
   "id": "b7072dbc",
   "metadata": {},
   "source": [
    "photoz_err_train = []\n",
    "\n",
    "for i in range(n):\n",
    "    photoz_err_train.append(model_variational(np.array([train_gen[int(i/BATCH_SIZE)][0][int(i%BATCH_SIZE)]])).stddev()[0][0])"
   ]
  },
  {
   "cell_type": "markdown",
   "id": "7e8429a8",
   "metadata": {},
   "source": [
    "photoz_err_validation = []\n",
    "\n",
    "for i in range(v):\n",
    "    photoz_err_validation.append(model_variational(np.array([val_gen[int(i/BATCH_SIZE)][0][int(i%BATCH_SIZE)]])).stddev()[0][0])"
   ]
  },
  {
   "cell_type": "code",
   "execution_count": null,
   "id": "4aca0c11",
   "metadata": {},
   "outputs": [],
   "source": [
    "from scipy.stats import gaussian_kde\n",
    "xy = np.asarray(np.vstack([specz, photoz])).astype('float32')\n",
    "z = gaussian_kde(xy)(xy)"
   ]
  },
  {
   "cell_type": "code",
   "execution_count": null,
   "id": "2d080369",
   "metadata": {},
   "outputs": [],
   "source": [
    "import seaborn as sns\n",
    "z_max = 4\n",
    "sns.set(rc={'figure.figsize': (10, 10), 'lines.markersize': 20})\n",
    "plt.rcParams.update({'font.size': 40})\n",
    "fig, ax = plt.subplots()\n",
    "scatter_plot = ax.scatter(specz, photoz, c = z, s = 1, edgecolor = None)\n",
    "plt.colorbar(scatter_plot, label = 'Density')\n",
    "plt.title('Prediction')\n",
    "plt.xlabel('spectroscopic redshift')\n",
    "plt.ylabel('photo z')\n",
    "plt.plot([0, z_max], [0, z_max],color = 'black')\n",
    "plt.xlim([0, z_max])\n",
    "plt.ylim([0, z_max])\n",
    "plt.show()"
   ]
  },
  {
   "cell_type": "markdown",
   "id": "258bc2ea",
   "metadata": {},
   "source": [
    "sns.set(rc={'figure.figsize':(10, 10), 'lines.markersize':20})\n",
    "plt.rcParams.update({'font.size': 100})\n",
    "sns.set(font_scale=3)\n",
    "\n",
    "data = {'BCNN':10.7, 'BNN':19.7, 'Mizuki':27.4,\n",
    "        'DEmP':25}\n",
    "models_list = list(data.keys())\n",
    "outlier_rates = list(data.values())\n",
    "\n",
    "plt.bar(models_list, outlier_rates, color=('blue', 'red', 'red', 'red'))\n",
    "plt.plot([-.5, 3.5], [15, 15], color = 'black', linestyle = 'dashed')\n",
    "plt.title(\"Outlier Rates\")\n",
    "plt.ylabel(\"% Outlier Rate\")\n",
    "plt.xlabel(\"Model Type\")\n",
    "plt.show()"
   ]
  },
  {
   "cell_type": "code",
   "execution_count": null,
   "id": "2b34aa74",
   "metadata": {},
   "outputs": [],
   "source": [
    "overlap_variational = 0\n",
    "overlap_array_variational = []\n",
    "for i in range(0,t):\n",
    "    if np.abs(specz[i]-photoz[i])<=photoz_err[i]:\n",
    "        overlap_variational += 1\n",
    "        overlap_array_variational.append(1)\n",
    "    else:\n",
    "        overlap_array_variational.append(0)"
   ]
  },
  {
   "cell_type": "code",
   "execution_count": null,
   "id": "ce4218c2",
   "metadata": {},
   "outputs": [],
   "source": [
    "fig, ax = plt.subplots()\n",
    "display_size = 1000\n",
    "scatter_plot = ax.scatter(specz[:display_size], photoz[:display_size], c = z[:display_size], s = 4, edgecolor = None, zorder = 2)\n",
    "error_plot = ax.errorbar(specz[:display_size], photoz[:display_size], yerr = photoz_err[:display_size], fmt = \"o\", markersize = 0, color = 'blue', elinewidth = 1, zorder = 1)\n",
    "plt.title('Prediction with error, Bayesian')\n",
    "plt.xlabel('spectroscopic redshift')\n",
    "plt.ylabel('photo z')\n",
    "plt.plot([0, z_max], [0, z_max], color = 'black')\n",
    "plt.xlim([0, z_max])\n",
    "plt.ylim([0, z_max])\n",
    "print(\"Coverage: \"+str(overlap_variational/t))"
   ]
  },
  {
   "cell_type": "code",
   "execution_count": null,
   "id": "5c5eee06",
   "metadata": {},
   "outputs": [],
   "source": [
    "combined_array_variational = np.transpose(np.vstack((specz, photoz, photoz_err, overlap_array_variational))) "
   ]
  },
  {
   "cell_type": "code",
   "execution_count": null,
   "id": "fb236386",
   "metadata": {},
   "outputs": [],
   "source": [
    "sorted_combined_array_variational = sorted(combined_array_variational, key=lambda x: x[0])"
   ]
  },
  {
   "cell_type": "code",
   "execution_count": null,
   "id": "ebecb5bb",
   "metadata": {},
   "outputs": [],
   "source": [
    "bins_variational = int(z_max*5)\n",
    "splitted_sorted_combined_array_variational = np.array_split(sorted_combined_array_variational, bins_variational)\n",
    "coverage_variational = []\n",
    "for i in range(0, bins_variational):\n",
    "    bins_count_variational = 0\n",
    "    for j in range(0,len(splitted_sorted_combined_array_variational[i])):\n",
    "        if splitted_sorted_combined_array_variational[i][j][3] == 1:\n",
    "            bins_count_variational += 1\n",
    "    coverage_variational.append(bins_count_variational/len(splitted_sorted_combined_array_variational[i])/0.6827)\n",
    "x_array = np.arange(0, z_max, z_max/bins_variational)"
   ]
  },
  {
   "cell_type": "code",
   "execution_count": null,
   "id": "f06c57bf",
   "metadata": {
    "scrolled": true
   },
   "outputs": [],
   "source": [
    "plt.plot(x_array, coverage_variational, c = 'red')\n",
    "plt.title('Coverage, Bayesian')\n",
    "plt.xlabel('spectroscopic redshift')\n",
    "plt.ylabel('coverage')\n",
    "plt.ylim([0, 1.5])\n",
    "plt.plot([0, 4], [1, 1], color = 'black', linestyle = 'dashed')\n",
    "print(\"Coverage: \"+str(overlap_variational/t))"
   ]
  },
  {
   "cell_type": "code",
   "execution_count": null,
   "id": "c7375ddb",
   "metadata": {},
   "outputs": [],
   "source": [
    "mean_array = []\n",
    "for i in range(0, bins_variational):\n",
    "    total = 0\n",
    "    for j in range(0, len(splitted_sorted_combined_array_variational[i])):\n",
    "        bias = (splitted_sorted_combined_array_variational[i][j][1] - splitted_sorted_combined_array_variational[i][j][0]) / (1 + splitted_sorted_combined_array_variational[i][j][0])\n",
    "        total += bias/(1 + splitted_sorted_combined_array_variational[i][j][0])\n",
    "    mean_array.append(total/len(splitted_sorted_combined_array_variational[i]))\n",
    "x_array = np.arange(0, z_max, z_max/bins_variational)"
   ]
  },
  {
   "cell_type": "code",
   "execution_count": null,
   "id": "76b7ef6e",
   "metadata": {},
   "outputs": [],
   "source": [
    "error_array = []\n",
    "for i in range(0,bins_variational):\n",
    "    error_total = 0\n",
    "    for j in range(0,len(splitted_sorted_combined_array_variational[i])):\n",
    "        error_total += splitted_sorted_combined_array_variational[i][j][2]\n",
    "    error_array.append(error_total/len(splitted_sorted_combined_array_variational[i]))"
   ]
  },
  {
   "cell_type": "code",
   "execution_count": null,
   "id": "8652e4b9",
   "metadata": {},
   "outputs": [],
   "source": [
    "sns.set(rc={'figure.figsize':(5, 5), 'lines.markersize':40})\n",
    "plt.rcParams.update({'font.size': 40})\n",
    "plt.errorbar(x_array, mean_array, yerr = error_array, fmt = \"o\", color = 'blue', markersize = 4, elinewidth = 2)\n",
    "plt.title('Bias Plot for Probabilistic Model')\n",
    "plt.xlabel('True Redshift')\n",
    "plt.ylabel('Bias (Predicted - True)')\n",
    "plt.plot([0, z_max], [0, 0], color = 'black')\n",
    "plt.plot([0, z_max], [0.003, 0.003], color = 'black', linestyle = 'dashed')\n",
    "plt.plot([0, z_max], [-0.003, -0.003], color = 'black', linestyle = 'dashed')\n",
    "plt.ylim([-0.1, 0.1])\n",
    "plt.show()"
   ]
  },
  {
   "cell_type": "code",
   "execution_count": null,
   "id": "740ad56d",
   "metadata": {},
   "outputs": [],
   "source": [
    "combined_outlier_array = np.transpose(np.vstack((specz, photoz, photoz_err)))\n",
    "sorted_combined_outlier_array = sorted(combined_outlier_array, key=lambda x: x[0])\n",
    "bins_outlier = int(z_max*20)\n",
    "splitted_sorted_combined_outlier_array = np.array_split(sorted_combined_outlier_array,bins_outlier)\n",
    "outlier_array = []\n",
    "outlier_count_total = 0\n",
    "for i in range(0,bins_outlier):\n",
    "    outlier_count = 0\n",
    "    for j in range(0,len(splitted_sorted_combined_outlier_array[i])):\n",
    "        if np.abs(splitted_sorted_combined_outlier_array[i][j][1] - splitted_sorted_combined_outlier_array[i][j][0]) >= 3 * splitted_sorted_combined_outlier_array[i][j][2]:\n",
    "            outlier_count += 1\n",
    "            outlier_count_total += 1\n",
    "    outlier_array.append(outlier_count/len(specz)*bins_outlier)\n",
    "x_array_outlier = np.arange(0,z_max,z_max/bins_outlier)\n",
    "plt.plot(x_array_outlier, outlier_array, c = 'blue')\n",
    "plt.title('Outlier Rate')\n",
    "plt.xlabel('spec z')\n",
    "plt.ylabel('outlier rate')\n",
    "plt.xlim([0,z_max])\n",
    "plt.ylim([0,1/2])\n",
    "plt.show()\n",
    "\n",
    "print(\"Outlier Rate: \"+str(outlier_count_total/len(specz)))"
   ]
  },
  {
   "cell_type": "code",
   "execution_count": null,
   "id": "16ee12a0",
   "metadata": {},
   "outputs": [],
   "source": [
    "combined_outlier_array = np.transpose(np.vstack((specz,np.subtract(photoz, specz))))\n",
    "sorted_combined_outlier_array = sorted(combined_outlier_array, key=lambda x: x[0])\n",
    "bins_outlier = int(z_max*10)\n",
    "splitted_sorted_combined_outlier_array = np.array_split(sorted_combined_outlier_array,bins_outlier)\n",
    "outlier_array = []\n",
    "outlier_count_total = 0\n",
    "for i in range(0,bins_outlier):\n",
    "    outlier_count = 0\n",
    "    for j in range(0,len(splitted_sorted_combined_outlier_array[i])):\n",
    "        if np.abs(splitted_sorted_combined_outlier_array[i][j][1]/(splitted_sorted_combined_outlier_array[i][j][0] + 1)) >= .15:\n",
    "            outlier_count += 1\n",
    "            outlier_count_total += 1\n",
    "    outlier_array.append(outlier_count/len(specz)*bins_outlier)\n",
    "x_array_outlier = np.arange(0,z_max,z_max/bins_outlier)\n",
    "plt.plot(x_array_outlier, outlier_array, c = 'blue')\n",
    "plt.title('Outlier Rate')\n",
    "plt.xlabel('spec z')\n",
    "plt.ylabel('outlier rate')\n",
    "plt.xlim([0,z_max])\n",
    "plt.ylim([0,1/2])\n",
    "plt.show()\n",
    "\n",
    "print(\"Outlier Rate: \"+str(outlier_count_total/len(specz)))"
   ]
  },
  {
   "cell_type": "code",
   "execution_count": null,
   "id": "938faefb",
   "metadata": {},
   "outputs": [],
   "source": [
    "photoz_utils.save_with_oid_std(model_name, object_id, specz, photoz, photoz_err)\n",
    "# photoz_utils.save_train_with_oid_std(model_name, object_id_train, specz_train, photoz_train, photoz_err_train)\n",
    "# photoz_utils.save_validation_with_oid_std(model_name, object_id_validation, specz_validation, photoz_validation, photoz_err_validation)"
   ]
  },
  {
   "cell_type": "code",
   "execution_count": null,
   "id": "d8ae84b8",
   "metadata": {},
   "outputs": [],
   "source": [
    "uncertains = []\n",
    "for i in range(0, len(photoz_err)):\n",
    "    if photoz_err[i].numpy() >= 1:\n",
    "        uncertains.append(i)\n",
    "        print(\"Object ID: \" + str(object_id[i]) + \", Spectro_z: \" + str(specz[i]) + \", Photo_z: \" + str(photoz[i]) + \", Photo_z_err: \" + str(photoz_err[i].numpy()))"
   ]
  },
  {
   "cell_type": "code",
   "execution_count": null,
   "id": "36c89c41",
   "metadata": {},
   "outputs": [],
   "source": [
    "check = 2\n",
    "current = uncertains[check]\n",
    "print(\"Object ID: \" + str(object_id[current]) + \", Spectro_z: \" + str(specz[current]) + \", Photo_z: \" + str(photoz[current]) + \", Photo_z_err: \" + str(photoz_err[current].numpy()))\n",
    "plt.imshow(x_test[current][:,:,0])\n",
    "plt.grid(False)"
   ]
  },
  {
   "cell_type": "code",
   "execution_count": null,
   "id": "54921336",
   "metadata": {},
   "outputs": [],
   "source": [
    "biases = []\n",
    "for i in range(0, len(photoz)):\n",
    "    if np.abs(photoz[i]-specz[i]) >= 1 and photoz_err[i].numpy() <= 0.5:\n",
    "        biases.append(i)\n",
    "        print(\"Object ID: \" + str(object_id[i]) + \", Spectro_z: \" + str(specz[i]) + \", Photo_z: \" + str(photoz[i]) + \", Photo_z_err: \" + str(photoz_err[i].numpy()))"
   ]
  },
  {
   "cell_type": "code",
   "execution_count": null,
   "id": "6d860045",
   "metadata": {},
   "outputs": [],
   "source": [
    "check_bias = 3\n",
    "current_bias = biases[check_bias]\n",
    "print(\"Object ID: \" + str(object_id[current_bias]) + \", Spectro_z: \" + str(specz[current_bias]) + \", Photo_z: \" + str(photoz[current_bias]) + \", Photo_z_err: \" + str(photoz_err[current_bias].numpy()))\n",
    "plt.imshow(x_test[current_bias][:,:,0])\n",
    "plt.grid(False)"
   ]
  },
  {
   "cell_type": "code",
   "execution_count": null,
   "id": "8ec169d4",
   "metadata": {},
   "outputs": [],
   "source": [
    "# END"
   ]
  }
 ],
 "metadata": {
  "kernelspec": {
   "display_name": "bnn",
   "language": "python",
   "name": "bnn"
  },
  "language_info": {
   "codemirror_mode": {
    "name": "ipython",
    "version": 3
   },
   "file_extension": ".py",
   "mimetype": "text/x-python",
   "name": "python",
   "nbconvert_exporter": "python",
   "pygments_lexer": "ipython3",
   "version": "3.9.12"
  }
 },
 "nbformat": 4,
 "nbformat_minor": 5
}
