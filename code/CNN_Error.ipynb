{
 "cells": [
  {
   "cell_type": "markdown",
   "id": "315d03f8",
   "metadata": {},
   "source": [
    "Importing library"
   ]
  },
  {
   "cell_type": "code",
   "execution_count": 63,
   "id": "1091fe3f",
   "metadata": {},
   "outputs": [],
   "source": [
    "import os\n",
    "from astropy.io import fits\n",
    "import tensorflow as tf\n",
    "import pandas as pd\n",
    "import numpy as np\n",
    "import matplotlib.pyplot as plt\n",
    "from sklearn.model_selection import train_test_split\n",
    "import h5py\n",
    "from keras.preprocessing.image import ImageDataGenerator"
   ]
  },
  {
   "cell_type": "code",
   "execution_count": 60,
   "id": "4d1b0482",
   "metadata": {},
   "outputs": [],
   "source": [
    "import os\n",
    "import tensorflow as tf\n",
    "import tensorflow_probability as tfp\n",
    "tfpl = tfp.layers\n",
    "tf1 = tf.compat.v1\n",
    "tfd = tfp.distributions\n",
    "import numpy as np\n",
    "import matplotlib.pyplot as plt\n",
    "import h5py\n",
    "from sklearn.model_selection import train_test_split\n",
    "from sklearn import preprocessing"
   ]
  },
  {
   "cell_type": "code",
   "execution_count": 61,
   "id": "90be4c9b",
   "metadata": {},
   "outputs": [],
   "source": [
    "from tensorflow_probability.python.distributions import kl_divergence"
   ]
  },
  {
   "cell_type": "code",
   "execution_count": 62,
   "id": "1502750a",
   "metadata": {},
   "outputs": [],
   "source": [
    "import keras\n",
    "from tensorflow.keras.models import Sequential\n",
    "from tensorflow.keras.layers import Dense, Conv2D, MaxPooling2D, Flatten, Dropout"
   ]
  },
  {
   "cell_type": "code",
   "execution_count": 64,
   "id": "1d8bd5ba",
   "metadata": {},
   "outputs": [
    {
     "name": "stdout",
     "output_type": "stream",
     "text": [
      "1 Physical GPUs, 1 Logical GPUs\n"
     ]
    }
   ],
   "source": [
    "gpus = tf.config.list_physical_devices('GPU')\n",
    "\n",
    "if gpus:\n",
    "  # Restrict TensorFlow to only allocate 10GB of memory on the first GPU\n",
    "  try:\n",
    "    tf.config.experimental.set_virtual_device_configuration(\n",
    "        gpus[0],\n",
    "        [tf.config.experimental.VirtualDeviceConfiguration(memory_limit=5000)])\n",
    "    logical_gpus = tf.config.experimental.list_logical_devices('GPU')\n",
    "    print(len(gpus), \"Physical GPUs,\", len(logical_gpus), \"Logical GPUs\")\n",
    "  except RuntimeError as e:\n",
    "    # Virtual devices must be set before GPUs have been initialized\n",
    "    print(e)"
   ]
  },
  {
   "cell_type": "markdown",
   "id": "20a03d63",
   "metadata": {},
   "source": [
    "Importing data"
   ]
  },
  {
   "cell_type": "code",
   "execution_count": 69,
   "id": "21d2cd5c",
   "metadata": {},
   "outputs": [],
   "source": [
    "hf = h5py.File('/mnt/data/HSC/HSC_v6/extra_files/five_band_image127x127_full.hdf5', 'r')"
   ]
  },
  {
   "cell_type": "code",
   "execution_count": 70,
   "id": "3327057d",
   "metadata": {},
   "outputs": [],
   "source": [
    "n = 5000"
   ]
  },
  {
   "cell_type": "code",
   "execution_count": 71,
   "id": "35717358",
   "metadata": {},
   "outputs": [],
   "source": [
    "x = hf[\"image\"][0:n]\n",
    "y = hf[\"specz\"][0:n]"
   ]
  },
  {
   "cell_type": "code",
   "execution_count": 72,
   "id": "1e5ab16e",
   "metadata": {},
   "outputs": [],
   "source": [
    "x = np.transpose(x,(0,2,3,1))"
   ]
  },
  {
   "cell_type": "code",
   "execution_count": 73,
   "id": "f5f31948",
   "metadata": {},
   "outputs": [
    {
     "data": {
      "text/plain": [
       "1108.394"
      ]
     },
     "execution_count": 73,
     "metadata": {},
     "output_type": "execute_result"
    }
   ],
   "source": [
    "## check this\n",
    "max_value = np.max(x)\n",
    "max_value"
   ]
  },
  {
   "cell_type": "code",
   "execution_count": 74,
   "id": "6d3a2bd2",
   "metadata": {},
   "outputs": [],
   "source": [
    "x_new = np.true_divide(x,max_value)"
   ]
  },
  {
   "cell_type": "code",
   "execution_count": 75,
   "id": "bae4245e",
   "metadata": {},
   "outputs": [],
   "source": [
    "hf.close()"
   ]
  },
  {
   "cell_type": "markdown",
   "id": "e661de4d",
   "metadata": {},
   "source": [
    "Image Augmentation"
   ]
  },
  {
   "cell_type": "code",
   "execution_count": 76,
   "id": "0ed8f2ea",
   "metadata": {},
   "outputs": [],
   "source": [
    "##datagen = ImageDataGenerator(rotation_range=90)\n",
    "##it = datagen.flow(x_new, batch_size=1)"
   ]
  },
  {
   "cell_type": "code",
   "execution_count": 77,
   "id": "ef45fee2",
   "metadata": {},
   "outputs": [],
   "source": [
    "x_train, x_test, y_train, y_test = train_test_split(x_new,y,test_size=0.2)"
   ]
  },
  {
   "cell_type": "code",
   "execution_count": 78,
   "id": "69ccd934",
   "metadata": {},
   "outputs": [],
   "source": [
    "import keras\n",
    "from keras.models import Sequential,Input,Model\n",
    "from keras.layers import Dense, Dropout, Flatten\n",
    "from keras.layers import Conv2D, MaxPooling2D\n",
    "from keras.layers.normalization import BatchNormalization\n",
    "from keras.layers.advanced_activations import LeakyReLU"
   ]
  },
  {
   "cell_type": "code",
   "execution_count": 79,
   "id": "5f70c495",
   "metadata": {},
   "outputs": [],
   "source": [
    "def posterior_mean_field(kernel_size: int, bias_size: int, dtype: any) -> tf.keras.Model:\n",
    "    \"\"\"Specify the surrogate posterior over `keras.layers.Dense` `kernel` and `bias`.\"\"\"\n",
    "    n = kernel_size + bias_size\n",
    "    c = np.log(np.expm1(1.))\n",
    "\n",
    "    return tf.keras.Sequential([\n",
    "        tfp.layers.VariableLayer(2 * n, dtype=dtype, initializer=lambda shape, dtype: random_gaussian_initializer(shape, dtype), trainable=True),\n",
    "        tfp.layers.DistributionLambda(lambda t: tfd.Independent(\n",
    "            tfd.Normal(loc=t[..., :n],\n",
    "                       scale= + 10e-4*tf.nn.softplus(c + t[..., n:])),\n",
    "            reinterpreted_batch_ndims=1)),\n",
    "    ])\n",
    "\n",
    "def prior_trainable(kernel_size: int, bias_size: int, dtype: any) -> tf.keras.Model:\n",
    "    \"\"\"Specify the prior over `keras.layers.Dense` `kernel` and `bias`.\"\"\"\n",
    "    n = kernel_size + bias_size\n",
    "\n",
    "    return tf.keras.Sequential([\n",
    "        tfp.layers.VariableLayer(n, dtype=dtype),  # Returns a trainable variable of shape n, regardless of input\n",
    "        tfp.layers.DistributionLambda(lambda t: tfd.Independent(\n",
    "            tfd.Normal(loc=t, scale=1),\n",
    "            reinterpreted_batch_ndims=1)),\n",
    "    ])\n",
    "\n",
    "def random_gaussian_initializer(shape, dtype):\n",
    "    n = int(shape / 2)\n",
    "    loc_norm = tf.random_normal_initializer(mean=0., stddev=0.1)\n",
    "    loc = tf.Variable(\n",
    "        initial_value=loc_norm(shape=(n,), dtype=dtype)\n",
    "    )\n",
    "    scale_norm = tf.random_normal_initializer(mean=-3., stddev=0.1)\n",
    "    scale = tf.Variable(\n",
    "        initial_value=scale_norm(shape=(n,), dtype=dtype)\n",
    "    )\n",
    "    return tf.concat([loc, scale], 0)\n",
    "\n",
    "def negative_loglikelihood(targets, estimated_distribution):\n",
    "    return -estimated_distribution.log_prob(targets)"
   ]
  },
  {
   "cell_type": "code",
   "execution_count": 82,
   "id": "3c7ff6d7",
   "metadata": {},
   "outputs": [
    {
     "name": "stdout",
     "output_type": "stream",
     "text": [
      "Model: \"sequential_7\"\n",
      "_________________________________________________________________\n",
      "Layer (type)                 Output Shape              Param #   \n",
      "=================================================================\n",
      "conv2d_16 (Conv2D)           (None, 125, 125, 32)      1472      \n",
      "_________________________________________________________________\n",
      "max_pooling2d_12 (MaxPooling (None, 62, 62, 32)        0         \n",
      "_________________________________________________________________\n",
      "conv2d_17 (Conv2D)           (None, 61, 61, 32)        4128      \n",
      "_________________________________________________________________\n",
      "max_pooling2d_13 (MaxPooling (None, 30, 30, 32)        0         \n",
      "_________________________________________________________________\n",
      "conv2d_18 (Conv2D)           (None, 28, 28, 32)        9248      \n",
      "_________________________________________________________________\n",
      "conv2d_19 (Conv2D)           (None, 27, 27, 32)        4128      \n",
      "_________________________________________________________________\n",
      "flatten_4 (Flatten)          (None, 23328)             0         \n",
      "_________________________________________________________________\n",
      "module_wrapper_2 (ModuleWrap (None, 512)               35833344  \n",
      "_________________________________________________________________\n",
      "module_wrapper_3 (ModuleWrap (None, 128)               196992    \n",
      "_________________________________________________________________\n",
      "dense_10 (Dense)             (None, 2)                 258       \n",
      "_________________________________________________________________\n",
      "module_wrapper_4 (ModuleWrap (None, 1)                 0         \n",
      "=================================================================\n",
      "Total params: 36,049,570\n",
      "Trainable params: 36,049,570\n",
      "Non-trainable params: 0\n",
      "_________________________________________________________________\n"
     ]
    }
   ],
   "source": [
    "from sklearn.model_selection import train_test_split\n",
    "\n",
    "\n",
    "\n",
    "model = Sequential()\n",
    "model.add(Conv2D(32, kernel_size=(3, 3),activation='tanh',input_shape=(127,127,5)))\n",
    "model.add(MaxPooling2D(pool_size = (2,2)))\n",
    "model.add(Conv2D(32, kernel_size=(2,2),activation='tanh'))\n",
    "model.add(MaxPooling2D(pool_size = (2,2)))\n",
    "model.add(Conv2D(32, kernel_size=(3,3),activation='relu'))\n",
    "model.add(Conv2D(32, kernel_size=(2,2),activation='relu'))\n",
    "model.add(Flatten())\n",
    "model.add(tfpl.DenseVariational(512, activation='tanh', make_posterior_fn=posterior_mean_field, make_prior_fn=prior_trainable, kl_weight=1/n))\n",
    "model.add(tfpl.DenseVariational(128, activation='tanh', make_posterior_fn=posterior_mean_field, make_prior_fn=prior_trainable, kl_weight=1/n))\n",
    "model.add(Dense(2))\n",
    "model.add(tfpl.IndependentNormal(1))\n",
    "\n",
    "\n",
    "\n",
    "#model.compile(optimizer='Adam', loss=\"mse\",metrics=[tf.keras.metrics.MeanAbsoluteError()])\n",
    "\n",
    "\n",
    "model.summary()"
   ]
  },
  {
   "cell_type": "code",
   "execution_count": 84,
   "id": "0caeef66",
   "metadata": {},
   "outputs": [],
   "source": [
    "def negative_loglikelihood(targets, estimated_distribution):\n",
    "    return -estimated_distribution.log_prob(targets)\n",
    "\n",
    "model.compile(optimizer='Adam', loss = negative_loglikelihood, metrics=[keras.metrics.RootMeanSquaredError()])"
   ]
  },
  {
   "cell_type": "code",
   "execution_count": null,
   "id": "71941a41",
   "metadata": {},
   "outputs": [
    {
     "name": "stdout",
     "output_type": "stream",
     "text": [
      "Epoch 1/300\n",
      "WARNING:tensorflow:Gradients do not exist for variables ['module_wrapper_2/dense_variational_2/constant:0', 'module_wrapper_3/dense_variational_3/constant:0'] when minimizing the loss.\n",
      "WARNING:tensorflow:Gradients do not exist for variables ['module_wrapper_2/dense_variational_2/constant:0', 'module_wrapper_3/dense_variational_3/constant:0'] when minimizing the loss.\n",
      "125/125 [==============================] - 49s 11ms/step - loss: 1.0378 - root_mean_squared_error: 0.9642\n",
      "Epoch 2/300\n",
      "125/125 [==============================] - 1s 11ms/step - loss: 0.8234 - root_mean_squared_error: 0.7866\n",
      "Epoch 3/300\n",
      "125/125 [==============================] - 1s 11ms/step - loss: 1.0993 - root_mean_squared_error: 1.0873\n",
      "Epoch 4/300\n",
      "125/125 [==============================] - 1s 11ms/step - loss: 0.9541 - root_mean_squared_error: 0.9304\n",
      "Epoch 5/300\n",
      "125/125 [==============================] - 1s 11ms/step - loss: 0.9603 - root_mean_squared_error: 1.0937\n",
      "Epoch 6/300\n",
      "125/125 [==============================] - 1s 11ms/step - loss: 0.6473 - root_mean_squared_error: 0.7276\n",
      "Epoch 7/300\n",
      "125/125 [==============================] - 1s 10ms/step - loss: -1.0232e-04 - root_mean_squared_error: 0.5671\n",
      "Epoch 8/300\n",
      "125/125 [==============================] - 1s 11ms/step - loss: -0.2529 - root_mean_squared_error: 0.5004\n",
      "Epoch 9/300\n",
      "125/125 [==============================] - 1s 11ms/step - loss: 0.7732 - root_mean_squared_error: 0.7771\n",
      "Epoch 10/300\n",
      "125/125 [==============================] - 1s 11ms/step - loss: 0.6985 - root_mean_squared_error: 0.7498\n",
      "Epoch 11/300\n",
      "125/125 [==============================] - 1s 11ms/step - loss: 0.3434 - root_mean_squared_error: 0.6332\n",
      "Epoch 12/300\n",
      "125/125 [==============================] - 1s 11ms/step - loss: -0.3202 - root_mean_squared_error: 0.5016\n",
      "Epoch 13/300\n",
      "125/125 [==============================] - 1s 11ms/step - loss: -0.3187 - root_mean_squared_error: 0.5112\n",
      "Epoch 14/300\n",
      "125/125 [==============================] - 1s 11ms/step - loss: -0.4046 - root_mean_squared_error: 0.4609\n",
      "Epoch 15/300\n",
      "125/125 [==============================] - 1s 11ms/step - loss: -0.4099 - root_mean_squared_error: 0.4978\n",
      "Epoch 16/300\n",
      "125/125 [==============================] - 1s 11ms/step - loss: -0.4913 - root_mean_squared_error: 0.4046\n",
      "Epoch 17/300\n",
      "125/125 [==============================] - 1s 11ms/step - loss: -0.4891 - root_mean_squared_error: 0.4543\n",
      "Epoch 18/300\n",
      "125/125 [==============================] - 1s 11ms/step - loss: -0.4843 - root_mean_squared_error: 0.4517\n",
      "Epoch 19/300\n",
      "125/125 [==============================] - 1s 11ms/step - loss: -0.4866 - root_mean_squared_error: 0.4607\n",
      "Epoch 20/300\n",
      "125/125 [==============================] - 1s 11ms/step - loss: -0.5640 - root_mean_squared_error: 0.4307\n",
      "Epoch 21/300\n",
      "125/125 [==============================] - 1s 11ms/step - loss: 0.9081 - root_mean_squared_error: 0.8892\n",
      "Epoch 22/300\n",
      "125/125 [==============================] - 1s 10ms/step - loss: 0.8311 - root_mean_squared_error: 0.8017\n",
      "Epoch 23/300\n",
      "125/125 [==============================] - 1s 11ms/step - loss: 0.8104 - root_mean_squared_error: 0.7867\n",
      "Epoch 24/300\n",
      "125/125 [==============================] - 1s 11ms/step - loss: 0.8201 - root_mean_squared_error: 0.7899\n",
      "Epoch 25/300\n",
      "125/125 [==============================] - 1s 10ms/step - loss: 0.8811 - root_mean_squared_error: 0.8044\n",
      "Epoch 26/300\n",
      "125/125 [==============================] - 1s 11ms/step - loss: 0.8224 - root_mean_squared_error: 0.7708\n",
      "Epoch 27/300\n",
      "125/125 [==============================] - 1s 11ms/step - loss: 0.8629 - root_mean_squared_error: 0.7872\n",
      "Epoch 28/300\n",
      "125/125 [==============================] - 1s 11ms/step - loss: 0.8282 - root_mean_squared_error: 0.7721\n",
      "Epoch 29/300\n",
      "125/125 [==============================] - 1s 11ms/step - loss: 0.8330 - root_mean_squared_error: 0.8040\n",
      "Epoch 30/300\n",
      "125/125 [==============================] - 1s 11ms/step - loss: 0.8277 - root_mean_squared_error: 0.7806\n",
      "Epoch 31/300\n",
      "125/125 [==============================] - 1s 11ms/step - loss: 0.8104 - root_mean_squared_error: 0.7828\n",
      "Epoch 32/300\n",
      "125/125 [==============================] - 1s 10ms/step - loss: 0.8205 - root_mean_squared_error: 0.7807\n",
      "Epoch 33/300\n",
      "125/125 [==============================] - 1s 11ms/step - loss: 0.8137 - root_mean_squared_error: 0.7820\n",
      "Epoch 34/300\n",
      "125/125 [==============================] - 1s 11ms/step - loss: 0.8594 - root_mean_squared_error: 0.8081\n",
      "Epoch 35/300\n",
      "125/125 [==============================] - 1s 11ms/step - loss: 0.8126 - root_mean_squared_error: 0.7780\n",
      "Epoch 36/300\n",
      "125/125 [==============================] - 1s 10ms/step - loss: 0.8355 - root_mean_squared_error: 0.8027\n",
      "Epoch 37/300\n",
      "125/125 [==============================] - 1s 10ms/step - loss: 0.8052 - root_mean_squared_error: 0.7449\n",
      "Epoch 38/300\n",
      "125/125 [==============================] - 1s 11ms/step - loss: 0.8478 - root_mean_squared_error: 0.8155\n",
      "Epoch 39/300\n",
      "125/125 [==============================] - 1s 10ms/step - loss: 0.8651 - root_mean_squared_error: 0.7953\n",
      "Epoch 40/300\n",
      "125/125 [==============================] - 1s 10ms/step - loss: 0.7996 - root_mean_squared_error: 0.7718\n",
      "Epoch 41/300\n",
      "125/125 [==============================] - 1s 11ms/step - loss: 0.8190 - root_mean_squared_error: 0.7923\n",
      "Epoch 42/300\n",
      "125/125 [==============================] - 1s 10ms/step - loss: 0.8684 - root_mean_squared_error: 0.8128\n",
      "Epoch 43/300\n",
      "125/125 [==============================] - 1s 11ms/step - loss: 0.8344 - root_mean_squared_error: 0.7936\n",
      "Epoch 44/300\n",
      "125/125 [==============================] - 1s 10ms/step - loss: 0.8400 - root_mean_squared_error: 0.7791\n",
      "Epoch 45/300\n",
      "125/125 [==============================] - 1s 10ms/step - loss: 0.8527 - root_mean_squared_error: 0.7930\n",
      "Epoch 46/300\n",
      "125/125 [==============================] - 1s 11ms/step - loss: 0.8513 - root_mean_squared_error: 0.7997\n",
      "Epoch 47/300\n",
      "125/125 [==============================] - 1s 10ms/step - loss: 0.8164 - root_mean_squared_error: 0.7669\n",
      "Epoch 48/300\n",
      "125/125 [==============================] - 1s 11ms/step - loss: 0.7996 - root_mean_squared_error: 0.7779\n",
      "Epoch 49/300\n",
      "125/125 [==============================] - 1s 10ms/step - loss: 0.8446 - root_mean_squared_error: 0.8068\n",
      "Epoch 50/300\n",
      "125/125 [==============================] - 1s 11ms/step - loss: 0.8414 - root_mean_squared_error: 0.8068\n",
      "Epoch 51/300\n",
      "125/125 [==============================] - 1s 10ms/step - loss: 0.8151 - root_mean_squared_error: 0.7713\n",
      "Epoch 52/300\n",
      "125/125 [==============================] - 1s 10ms/step - loss: 0.8280 - root_mean_squared_error: 0.7895\n",
      "Epoch 53/300\n",
      "125/125 [==============================] - 1s 11ms/step - loss: 0.8279 - root_mean_squared_error: 0.7836\n",
      "Epoch 54/300\n",
      "125/125 [==============================] - 1s 11ms/step - loss: 0.8226 - root_mean_squared_error: 0.7800\n",
      "Epoch 55/300\n",
      "125/125 [==============================] - 1s 11ms/step - loss: 0.8649 - root_mean_squared_error: 0.8209\n",
      "Epoch 56/300\n",
      "125/125 [==============================] - 1s 11ms/step - loss: 0.8087 - root_mean_squared_error: 0.7308\n",
      "Epoch 57/300\n",
      "125/125 [==============================] - 1s 11ms/step - loss: 0.8260 - root_mean_squared_error: 0.8178\n",
      "Epoch 58/300\n",
      "125/125 [==============================] - 1s 10ms/step - loss: 0.8413 - root_mean_squared_error: 0.7898\n",
      "Epoch 59/300\n",
      "125/125 [==============================] - 1s 11ms/step - loss: 0.8744 - root_mean_squared_error: 0.8125\n",
      "Epoch 60/300\n",
      "125/125 [==============================] - 1s 11ms/step - loss: 0.8544 - root_mean_squared_error: 0.8093\n",
      "Epoch 61/300\n",
      "125/125 [==============================] - 1s 11ms/step - loss: 0.8526 - root_mean_squared_error: 0.8026\n",
      "Epoch 62/300\n",
      "125/125 [==============================] - 1s 11ms/step - loss: 0.8998 - root_mean_squared_error: 0.8304\n",
      "Epoch 63/300\n",
      "125/125 [==============================] - 1s 11ms/step - loss: 0.8500 - root_mean_squared_error: 0.8097\n",
      "Epoch 64/300\n",
      "125/125 [==============================] - 1s 10ms/step - loss: 0.9334 - root_mean_squared_error: 0.8473\n",
      "Epoch 65/300\n",
      "125/125 [==============================] - 1s 11ms/step - loss: 0.8483 - root_mean_squared_error: 0.8100\n",
      "Epoch 66/300\n",
      "125/125 [==============================] - 1s 11ms/step - loss: 0.8269 - root_mean_squared_error: 0.7665\n",
      "Epoch 67/300\n"
     ]
    },
    {
     "name": "stdout",
     "output_type": "stream",
     "text": [
      "125/125 [==============================] - 1s 10ms/step - loss: 0.7854 - root_mean_squared_error: 0.7591\n",
      "Epoch 68/300\n",
      "125/125 [==============================] - 1s 11ms/step - loss: 0.8562 - root_mean_squared_error: 0.8106\n",
      "Epoch 69/300\n",
      "125/125 [==============================] - 1s 10ms/step - loss: 0.8743 - root_mean_squared_error: 0.8155\n",
      "Epoch 70/300\n",
      "125/125 [==============================] - 1s 10ms/step - loss: 0.8349 - root_mean_squared_error: 0.7771\n",
      "Epoch 71/300\n",
      "125/125 [==============================] - 1s 10ms/step - loss: 0.8364 - root_mean_squared_error: 0.7842\n",
      "Epoch 72/300\n",
      "125/125 [==============================] - 1s 11ms/step - loss: 0.8606 - root_mean_squared_error: 0.8160\n",
      "Epoch 73/300\n",
      "125/125 [==============================] - 1s 10ms/step - loss: 0.8211 - root_mean_squared_error: 0.7665\n",
      "Epoch 74/300\n",
      "125/125 [==============================] - 1s 10ms/step - loss: 0.8447 - root_mean_squared_error: 0.7689\n",
      "Epoch 75/300\n",
      "125/125 [==============================] - 1s 11ms/step - loss: 0.8101 - root_mean_squared_error: 0.7699\n",
      "Epoch 76/300\n",
      "125/125 [==============================] - 1s 10ms/step - loss: 0.8608 - root_mean_squared_error: 0.8233\n",
      "Epoch 77/300\n",
      "125/125 [==============================] - 1s 10ms/step - loss: 0.8668 - root_mean_squared_error: 0.8305\n",
      "Epoch 78/300\n",
      "125/125 [==============================] - 1s 10ms/step - loss: 0.8524 - root_mean_squared_error: 0.8042\n",
      "Epoch 79/300\n",
      "125/125 [==============================] - 1s 10ms/step - loss: 0.8520 - root_mean_squared_error: 0.7981\n",
      "Epoch 80/300\n",
      "125/125 [==============================] - 1s 11ms/step - loss: 0.8410 - root_mean_squared_error: 0.7854\n",
      "Epoch 81/300\n",
      "125/125 [==============================] - 1s 11ms/step - loss: 0.8556 - root_mean_squared_error: 0.8179\n",
      "Epoch 82/300\n",
      "125/125 [==============================] - 1s 10ms/step - loss: 0.8777 - root_mean_squared_error: 0.7953\n",
      "Epoch 83/300\n",
      "125/125 [==============================] - 1s 10ms/step - loss: 0.8692 - root_mean_squared_error: 0.8236\n",
      "Epoch 84/300\n",
      "125/125 [==============================] - 1s 10ms/step - loss: 0.8460 - root_mean_squared_error: 0.7950\n",
      "Epoch 85/300\n",
      "125/125 [==============================] - 1s 10ms/step - loss: 0.8273 - root_mean_squared_error: 0.7994\n",
      "Epoch 86/300\n",
      "125/125 [==============================] - 1s 10ms/step - loss: 0.8681 - root_mean_squared_error: 0.8163\n",
      "Epoch 87/300\n",
      "125/125 [==============================] - 1s 10ms/step - loss: 0.8514 - root_mean_squared_error: 0.7847\n",
      "Epoch 88/300\n",
      "125/125 [==============================] - 1s 10ms/step - loss: 0.8386 - root_mean_squared_error: 0.8012\n",
      "Epoch 89/300\n",
      "125/125 [==============================] - 1s 10ms/step - loss: 0.8998 - root_mean_squared_error: 0.8491\n",
      "Epoch 90/300\n",
      "125/125 [==============================] - 1s 11ms/step - loss: 0.8373 - root_mean_squared_error: 0.7917\n",
      "Epoch 91/300\n",
      "125/125 [==============================] - 1s 10ms/step - loss: 0.8689 - root_mean_squared_error: 0.8187\n",
      "Epoch 92/300\n",
      "125/125 [==============================] - 1s 11ms/step - loss: 0.8451 - root_mean_squared_error: 0.8050\n",
      "Epoch 93/300\n",
      "125/125 [==============================] - 1s 10ms/step - loss: 0.8413 - root_mean_squared_error: 0.8024\n",
      "Epoch 94/300\n",
      "125/125 [==============================] - 1s 11ms/step - loss: 0.8253 - root_mean_squared_error: 0.7892\n",
      "Epoch 95/300\n",
      "125/125 [==============================] - 1s 11ms/step - loss: 0.8570 - root_mean_squared_error: 0.8009\n",
      "Epoch 96/300\n",
      "125/125 [==============================] - 1s 11ms/step - loss: 0.8203 - root_mean_squared_error: 0.7825\n",
      "Epoch 97/300\n",
      "125/125 [==============================] - 1s 11ms/step - loss: 0.8143 - root_mean_squared_error: 0.7713\n",
      "Epoch 98/300\n",
      "125/125 [==============================] - 1s 10ms/step - loss: 0.8310 - root_mean_squared_error: 0.7838\n",
      "Epoch 99/300\n",
      "125/125 [==============================] - 1s 11ms/step - loss: 0.8338 - root_mean_squared_error: 0.7881\n",
      "Epoch 100/300\n",
      "125/125 [==============================] - 1s 10ms/step - loss: 0.8734 - root_mean_squared_error: 0.8527\n",
      "Epoch 101/300\n",
      "125/125 [==============================] - 1s 11ms/step - loss: 0.8199 - root_mean_squared_error: 0.7850\n",
      "Epoch 102/300\n",
      "125/125 [==============================] - 1s 11ms/step - loss: 0.8108 - root_mean_squared_error: 0.7780\n",
      "Epoch 103/300\n",
      "125/125 [==============================] - 1s 11ms/step - loss: 0.8764 - root_mean_squared_error: 0.8221\n",
      "Epoch 104/300\n",
      "125/125 [==============================] - 1s 11ms/step - loss: 0.8820 - root_mean_squared_error: 0.8081\n",
      "Epoch 105/300\n",
      "125/125 [==============================] - 1s 10ms/step - loss: 0.8797 - root_mean_squared_error: 0.8141\n",
      "Epoch 106/300\n",
      "125/125 [==============================] - 1s 10ms/step - loss: 0.8500 - root_mean_squared_error: 0.7878\n",
      "Epoch 107/300\n",
      "125/125 [==============================] - 1s 11ms/step - loss: 0.8403 - root_mean_squared_error: 0.7905\n",
      "Epoch 108/300\n",
      "125/125 [==============================] - 1s 11ms/step - loss: 0.8531 - root_mean_squared_error: 0.7814\n",
      "Epoch 109/300\n",
      "125/125 [==============================] - 1s 11ms/step - loss: 0.8801 - root_mean_squared_error: 0.8265\n",
      "Epoch 110/300\n",
      "125/125 [==============================] - 1s 11ms/step - loss: 0.8585 - root_mean_squared_error: 0.8105\n",
      "Epoch 111/300\n",
      "125/125 [==============================] - 1s 11ms/step - loss: 0.7901 - root_mean_squared_error: 0.7585\n",
      "Epoch 112/300\n",
      "125/125 [==============================] - 1s 11ms/step - loss: 0.8333 - root_mean_squared_error: 0.8064\n",
      "Epoch 113/300\n",
      "125/125 [==============================] - 1s 11ms/step - loss: 0.8429 - root_mean_squared_error: 0.7866\n",
      "Epoch 114/300\n",
      "125/125 [==============================] - 1s 11ms/step - loss: 0.8187 - root_mean_squared_error: 0.7816\n",
      "Epoch 115/300\n",
      "125/125 [==============================] - 1s 11ms/step - loss: 0.8313 - root_mean_squared_error: 0.7925\n",
      "Epoch 116/300\n",
      "125/125 [==============================] - 1s 10ms/step - loss: 0.8388 - root_mean_squared_error: 0.7878\n",
      "Epoch 117/300\n",
      "125/125 [==============================] - 1s 11ms/step - loss: 0.8518 - root_mean_squared_error: 0.8102\n",
      "Epoch 118/300\n",
      "125/125 [==============================] - 1s 11ms/step - loss: 0.8371 - root_mean_squared_error: 0.7815\n",
      "Epoch 119/300\n",
      "125/125 [==============================] - 1s 11ms/step - loss: 0.8207 - root_mean_squared_error: 0.7610\n",
      "Epoch 120/300\n",
      "125/125 [==============================] - 1s 11ms/step - loss: 0.8882 - root_mean_squared_error: 0.8331\n",
      "Epoch 121/300\n",
      "125/125 [==============================] - 1s 11ms/step - loss: 0.8322 - root_mean_squared_error: 0.7849\n",
      "Epoch 122/300\n",
      "125/125 [==============================] - 1s 11ms/step - loss: 0.8062 - root_mean_squared_error: 0.7520\n",
      "Epoch 123/300\n",
      "125/125 [==============================] - 1s 11ms/step - loss: 0.8778 - root_mean_squared_error: 0.8359\n",
      "Epoch 124/300\n",
      "125/125 [==============================] - 1s 11ms/step - loss: 0.8297 - root_mean_squared_error: 0.7943\n",
      "Epoch 125/300\n",
      "125/125 [==============================] - 1s 11ms/step - loss: 0.8370 - root_mean_squared_error: 0.7705\n",
      "Epoch 126/300\n",
      "125/125 [==============================] - 1s 11ms/step - loss: 0.8210 - root_mean_squared_error: 0.7846\n",
      "Epoch 127/300\n",
      "125/125 [==============================] - 1s 11ms/step - loss: 0.8367 - root_mean_squared_error: 0.7890\n",
      "Epoch 128/300\n",
      "125/125 [==============================] - 1s 11ms/step - loss: 0.8528 - root_mean_squared_error: 0.7889\n",
      "Epoch 129/300\n",
      "125/125 [==============================] - 1s 11ms/step - loss: 0.8121 - root_mean_squared_error: 0.7730\n",
      "Epoch 130/300\n",
      "125/125 [==============================] - 1s 10ms/step - loss: 0.7970 - root_mean_squared_error: 0.7586\n",
      "Epoch 131/300\n",
      "125/125 [==============================] - 1s 11ms/step - loss: 0.8377 - root_mean_squared_error: 0.7952\n",
      "Epoch 132/300\n",
      "125/125 [==============================] - 1s 11ms/step - loss: 0.8300 - root_mean_squared_error: 0.7711\n",
      "Epoch 133/300\n",
      "125/125 [==============================] - 1s 11ms/step - loss: 0.8391 - root_mean_squared_error: 0.7772\n",
      "Epoch 134/300\n",
      "125/125 [==============================] - 1s 11ms/step - loss: 0.8172 - root_mean_squared_error: 0.7706\n",
      "Epoch 135/300\n",
      "125/125 [==============================] - 1s 10ms/step - loss: 0.9117 - root_mean_squared_error: 0.8262\n",
      "Epoch 136/300\n"
     ]
    },
    {
     "name": "stdout",
     "output_type": "stream",
     "text": [
      "125/125 [==============================] - 1s 10ms/step - loss: 0.8806 - root_mean_squared_error: 0.8143\n",
      "Epoch 137/300\n",
      "125/125 [==============================] - 1s 10ms/step - loss: 0.8326 - root_mean_squared_error: 0.7741\n",
      "Epoch 138/300\n",
      "125/125 [==============================] - 1s 10ms/step - loss: 0.8461 - root_mean_squared_error: 0.8279\n",
      "Epoch 139/300\n",
      "125/125 [==============================] - 1s 10ms/step - loss: 0.8309 - root_mean_squared_error: 0.7796\n",
      "Epoch 140/300\n",
      "125/125 [==============================] - 1s 11ms/step - loss: 0.8423 - root_mean_squared_error: 0.7986\n",
      "Epoch 141/300\n",
      "125/125 [==============================] - 1s 10ms/step - loss: 0.8665 - root_mean_squared_error: 0.8052\n",
      "Epoch 142/300\n",
      "125/125 [==============================] - 1s 10ms/step - loss: 0.8520 - root_mean_squared_error: 0.7898\n",
      "Epoch 143/300\n",
      "125/125 [==============================] - 1s 10ms/step - loss: 0.8582 - root_mean_squared_error: 0.8232\n",
      "Epoch 144/300\n",
      "125/125 [==============================] - 1s 10ms/step - loss: 0.8607 - root_mean_squared_error: 0.8331\n",
      "Epoch 145/300\n",
      "125/125 [==============================] - 1s 10ms/step - loss: 0.8377 - root_mean_squared_error: 0.7845\n",
      "Epoch 146/300\n",
      "125/125 [==============================] - 1s 10ms/step - loss: 0.8255 - root_mean_squared_error: 0.7776\n",
      "Epoch 147/300\n",
      "125/125 [==============================] - 1s 10ms/step - loss: 0.8473 - root_mean_squared_error: 0.8195\n",
      "Epoch 148/300\n",
      "125/125 [==============================] - 1s 10ms/step - loss: 0.8565 - root_mean_squared_error: 0.8128\n",
      "Epoch 149/300\n",
      "125/125 [==============================] - 1s 10ms/step - loss: 0.7995 - root_mean_squared_error: 0.7695\n",
      "Epoch 150/300\n",
      "125/125 [==============================] - 1s 10ms/step - loss: 0.8258 - root_mean_squared_error: 0.7671\n",
      "Epoch 151/300\n",
      "125/125 [==============================] - 1s 11ms/step - loss: 0.8419 - root_mean_squared_error: 0.8128\n",
      "Epoch 152/300\n",
      "125/125 [==============================] - 1s 10ms/step - loss: 0.8258 - root_mean_squared_error: 0.7942\n",
      "Epoch 153/300\n",
      "125/125 [==============================] - 1s 10ms/step - loss: 0.8169 - root_mean_squared_error: 0.8011\n",
      "Epoch 154/300\n",
      "125/125 [==============================] - 1s 11ms/step - loss: 0.7907 - root_mean_squared_error: 0.7462\n",
      "Epoch 155/300\n",
      "125/125 [==============================] - 1s 11ms/step - loss: 0.8402 - root_mean_squared_error: 0.7924\n",
      "Epoch 156/300\n",
      "125/125 [==============================] - 1s 11ms/step - loss: 0.8577 - root_mean_squared_error: 0.8171\n",
      "Epoch 157/300\n",
      "125/125 [==============================] - 1s 10ms/step - loss: 0.8240 - root_mean_squared_error: 0.7742\n",
      "Epoch 158/300\n",
      "125/125 [==============================] - 1s 11ms/step - loss: 0.8487 - root_mean_squared_error: 0.7879\n",
      "Epoch 159/300\n",
      "125/125 [==============================] - 1s 11ms/step - loss: 0.8194 - root_mean_squared_error: 0.7871\n",
      "Epoch 160/300\n",
      "125/125 [==============================] - 1s 11ms/step - loss: 0.8587 - root_mean_squared_error: 0.8060\n",
      "Epoch 161/300\n",
      "125/125 [==============================] - 1s 11ms/step - loss: 0.8325 - root_mean_squared_error: 0.7828\n",
      "Epoch 162/300\n",
      "  6/125 [>.............................] - ETA: 1s - loss: 0.9320 - root_mean_squared_error: 0.8072"
     ]
    }
   ],
   "source": [
    "model.fit(x = x_train, y = y_train, epochs = 300, shuffle = True, verbose=1)"
   ]
  },
  {
   "cell_type": "code",
   "execution_count": 40,
   "id": "f28edd17",
   "metadata": {},
   "outputs": [],
   "source": [
    "y_test_prediction = []\n",
    "\n",
    "for i in range(len(y_test)):\n",
    "    y_test_prediction.append(model_variational(np.array([x_test[i]])).mean()[0][0])\n",
    "\n",
    "y_test_prediction = np.asarray(y_test_prediction)\n",
    "\n",
    "y_test_ = []\n",
    "\n",
    "for i in range(len(y_test)):\n",
    "    y_test_.append(y_test[i][0])\n",
    "\n",
    "y_test_ = np.asarray(y_test_)"
   ]
  },
  {
   "cell_type": "code",
   "execution_count": 41,
   "id": "acb8665f",
   "metadata": {},
   "outputs": [
    {
     "data": {
      "text/html": [
       "<div>\n",
       "<style scoped>\n",
       "    .dataframe tbody tr th:only-of-type {\n",
       "        vertical-align: middle;\n",
       "    }\n",
       "\n",
       "    .dataframe tbody tr th {\n",
       "        vertical-align: top;\n",
       "    }\n",
       "\n",
       "    .dataframe thead th {\n",
       "        text-align: right;\n",
       "    }\n",
       "</style>\n",
       "<table border=\"1\" class=\"dataframe\">\n",
       "  <thead>\n",
       "    <tr style=\"text-align: right;\">\n",
       "      <th></th>\n",
       "      <th>zspec_bin</th>\n",
       "      <th>count</th>\n",
       "      <th>L</th>\n",
       "      <th>bias_bw</th>\n",
       "      <th>bias_conv</th>\n",
       "      <th>scatter_bw</th>\n",
       "      <th>scatter_conv</th>\n",
       "      <th>outlier_bw</th>\n",
       "      <th>outlier_conv</th>\n",
       "      <th>mse</th>\n",
       "    </tr>\n",
       "  </thead>\n",
       "  <tbody>\n",
       "    <tr>\n",
       "      <th>0</th>\n",
       "      <td>(0.0, 4.0]</td>\n",
       "      <td>1000</td>\n",
       "      <td>0.227971</td>\n",
       "      <td>-0.006716</td>\n",
       "      <td>-0.005315</td>\n",
       "      <td>0.097117</td>\n",
       "      <td>0.077974</td>\n",
       "      <td>0.119</td>\n",
       "      <td>0.17</td>\n",
       "      <td>0.113042</td>\n",
       "    </tr>\n",
       "  </tbody>\n",
       "</table>\n",
       "</div>"
      ],
      "text/plain": [
       "    zspec_bin  count         L   bias_bw  bias_conv  scatter_bw  scatter_conv  \\\n",
       "0  (0.0, 4.0]   1000  0.227971 -0.006716  -0.005315    0.097117      0.077974   \n",
       "\n",
       "   outlier_bw  outlier_conv       mse  \n",
       "0       0.119          0.17  0.113042  "
      ]
     },
     "execution_count": 41,
     "metadata": {},
     "output_type": "execute_result"
    }
   ],
   "source": [
    "from photoz_utils import *\n",
    "y_test_new = pd.Series(y_test_)\n",
    "y_test_predict_new = pd.Series(y_test_prediction)\n",
    "get_point_metrics(y_test_predict_new,y_test_new)"
   ]
  },
  {
   "cell_type": "code",
   "execution_count": 42,
   "id": "5de613aa",
   "metadata": {},
   "outputs": [
    {
     "ename": "KeyError",
     "evalue": "Interval(3.6, 3.8, closed='right')",
     "output_type": "error",
     "traceback": [
      "\u001b[0;31m---------------------------------------------------------------------------\u001b[0m",
      "\u001b[0;31mKeyError\u001b[0m                                  Traceback (most recent call last)",
      "\u001b[0;32m<ipython-input-42-48aee8cdac5c>\u001b[0m in \u001b[0;36m<module>\u001b[0;34m\u001b[0m\n\u001b[0;32m----> 1\u001b[0;31m \u001b[0mbinned_metrics_test\u001b[0m \u001b[0;34m=\u001b[0m \u001b[0mget_point_metrics\u001b[0m\u001b[0;34m(\u001b[0m\u001b[0my_test_predict_new\u001b[0m\u001b[0;34m,\u001b[0m\u001b[0my_test_new\u001b[0m\u001b[0;34m,\u001b[0m\u001b[0mbinned\u001b[0m \u001b[0;34m=\u001b[0m \u001b[0;32mTrue\u001b[0m\u001b[0;34m)\u001b[0m\u001b[0;34m\u001b[0m\u001b[0;34m\u001b[0m\u001b[0m\n\u001b[0m\u001b[1;32m      2\u001b[0m \u001b[0mplot_point_metrics\u001b[0m\u001b[0;34m(\u001b[0m\u001b[0mbinned_metrics_test\u001b[0m\u001b[0;34m)\u001b[0m\u001b[0;34m\u001b[0m\u001b[0;34m\u001b[0m\u001b[0m\n",
      "\u001b[0;32m~/photoz/code/photoz_utils.py\u001b[0m in \u001b[0;36mget_point_metrics\u001b[0;34m(z_photo, z_spec, binned)\u001b[0m\n\u001b[1;32m    403\u001b[0m \u001b[0;34m\u001b[0m\u001b[0m\n\u001b[1;32m    404\u001b[0m         \u001b[0;31m# GET BIN'S PREDICTIONS\u001b[0m\u001b[0;34m\u001b[0m\u001b[0;34m\u001b[0m\u001b[0;34m\u001b[0m\u001b[0m\n\u001b[0;32m--> 405\u001b[0;31m         \u001b[0mbinned_z_true\u001b[0m \u001b[0;34m=\u001b[0m \u001b[0mtrue_grouped\u001b[0m\u001b[0;34m.\u001b[0m\u001b[0mget_group\u001b[0m\u001b[0;34m(\u001b[0m\u001b[0mzspec_bin\u001b[0m\u001b[0;34m)\u001b[0m\u001b[0;34m\u001b[0m\u001b[0;34m\u001b[0m\u001b[0m\n\u001b[0m\u001b[1;32m    406\u001b[0m         \u001b[0mbinned_z_pred\u001b[0m \u001b[0;34m=\u001b[0m \u001b[0mpred_grouped\u001b[0m\u001b[0;34m.\u001b[0m\u001b[0mget_group\u001b[0m\u001b[0;34m(\u001b[0m\u001b[0mzspec_bin\u001b[0m\u001b[0;34m)\u001b[0m\u001b[0;34m\u001b[0m\u001b[0;34m\u001b[0m\u001b[0m\n\u001b[1;32m    407\u001b[0m \u001b[0;34m\u001b[0m\u001b[0m\n",
      "\u001b[0;32m/opt/anaconda3/envs/jupyterhub/lib/python3.8/site-packages/pandas/core/groupby/groupby.py\u001b[0m in \u001b[0;36mget_group\u001b[0;34m(self, name, obj)\u001b[0m\n\u001b[1;32m    843\u001b[0m         \u001b[0minds\u001b[0m \u001b[0;34m=\u001b[0m \u001b[0mself\u001b[0m\u001b[0;34m.\u001b[0m\u001b[0m_get_index\u001b[0m\u001b[0;34m(\u001b[0m\u001b[0mname\u001b[0m\u001b[0;34m)\u001b[0m\u001b[0;34m\u001b[0m\u001b[0;34m\u001b[0m\u001b[0m\n\u001b[1;32m    844\u001b[0m         \u001b[0;32mif\u001b[0m \u001b[0;32mnot\u001b[0m \u001b[0mlen\u001b[0m\u001b[0;34m(\u001b[0m\u001b[0minds\u001b[0m\u001b[0;34m)\u001b[0m\u001b[0;34m:\u001b[0m\u001b[0;34m\u001b[0m\u001b[0;34m\u001b[0m\u001b[0m\n\u001b[0;32m--> 845\u001b[0;31m             \u001b[0;32mraise\u001b[0m \u001b[0mKeyError\u001b[0m\u001b[0;34m(\u001b[0m\u001b[0mname\u001b[0m\u001b[0;34m)\u001b[0m\u001b[0;34m\u001b[0m\u001b[0;34m\u001b[0m\u001b[0m\n\u001b[0m\u001b[1;32m    846\u001b[0m \u001b[0;34m\u001b[0m\u001b[0m\n\u001b[1;32m    847\u001b[0m         \u001b[0;32mreturn\u001b[0m \u001b[0mobj\u001b[0m\u001b[0;34m.\u001b[0m\u001b[0m_take_with_is_copy\u001b[0m\u001b[0;34m(\u001b[0m\u001b[0minds\u001b[0m\u001b[0;34m,\u001b[0m \u001b[0maxis\u001b[0m\u001b[0;34m=\u001b[0m\u001b[0mself\u001b[0m\u001b[0;34m.\u001b[0m\u001b[0maxis\u001b[0m\u001b[0;34m)\u001b[0m\u001b[0;34m\u001b[0m\u001b[0;34m\u001b[0m\u001b[0m\n",
      "\u001b[0;31mKeyError\u001b[0m: Interval(3.6, 3.8, closed='right')"
     ]
    }
   ],
   "source": [
    "binned_metrics_test = get_point_metrics(y_test_predict_new,y_test_new,binned = True)\n",
    "plot_point_metrics(binned_metrics_test)"
   ]
  },
  {
   "cell_type": "code",
   "execution_count": 43,
   "id": "b86d7edd",
   "metadata": {},
   "outputs": [],
   "source": [
    "y_train_predict = model_variational.predict(x_train)\n",
    "y_train_prediction = []\n",
    "\n",
    "for i in range(len(y_train)):\n",
    "    y_train_prediction.append(y_train_predict[i][0])\n",
    "\n",
    "y_train_prediction = np.asarray(y_train_prediction)\n",
    "\n",
    "y_train_ = []\n",
    "\n",
    "for i in range(len(y_train)):\n",
    "    y_train_.append(y_train[i][0])\n",
    "\n",
    "y_train_ = np.asarray(y_train_)"
   ]
  },
  {
   "cell_type": "code",
   "execution_count": 44,
   "id": "8978ff4f",
   "metadata": {},
   "outputs": [
    {
     "data": {
      "text/html": [
       "<div>\n",
       "<style scoped>\n",
       "    .dataframe tbody tr th:only-of-type {\n",
       "        vertical-align: middle;\n",
       "    }\n",
       "\n",
       "    .dataframe tbody tr th {\n",
       "        vertical-align: top;\n",
       "    }\n",
       "\n",
       "    .dataframe thead th {\n",
       "        text-align: right;\n",
       "    }\n",
       "</style>\n",
       "<table border=\"1\" class=\"dataframe\">\n",
       "  <thead>\n",
       "    <tr style=\"text-align: right;\">\n",
       "      <th></th>\n",
       "      <th>zspec_bin</th>\n",
       "      <th>count</th>\n",
       "      <th>L</th>\n",
       "      <th>bias_bw</th>\n",
       "      <th>bias_conv</th>\n",
       "      <th>scatter_bw</th>\n",
       "      <th>scatter_conv</th>\n",
       "      <th>outlier_bw</th>\n",
       "      <th>outlier_conv</th>\n",
       "      <th>mse</th>\n",
       "    </tr>\n",
       "  </thead>\n",
       "  <tbody>\n",
       "    <tr>\n",
       "      <th>0</th>\n",
       "      <td>(0.0, 4.0]</td>\n",
       "      <td>4000</td>\n",
       "      <td>0.061807</td>\n",
       "      <td>-0.009075</td>\n",
       "      <td>-0.008952</td>\n",
       "      <td>0.036757</td>\n",
       "      <td>0.031832</td>\n",
       "      <td>0.08075</td>\n",
       "      <td>0.00875</td>\n",
       "      <td>0.008155</td>\n",
       "    </tr>\n",
       "  </tbody>\n",
       "</table>\n",
       "</div>"
      ],
      "text/plain": [
       "    zspec_bin  count         L   bias_bw  bias_conv  scatter_bw  scatter_conv  \\\n",
       "0  (0.0, 4.0]   4000  0.061807 -0.009075  -0.008952    0.036757      0.031832   \n",
       "\n",
       "   outlier_bw  outlier_conv       mse  \n",
       "0     0.08075       0.00875  0.008155  "
      ]
     },
     "execution_count": 44,
     "metadata": {},
     "output_type": "execute_result"
    }
   ],
   "source": [
    "from photoz_utils import *\n",
    "y_train_new = pd.Series(y_train_)\n",
    "y_train_predict_new = pd.Series(y_train_prediction)\n",
    "get_point_metrics(y_train_predict_new,y_train_new)"
   ]
  },
  {
   "cell_type": "code",
   "execution_count": 45,
   "id": "aaf71912",
   "metadata": {},
   "outputs": [
    {
     "data": {
      "image/png": "[encoded data removed]",
      "text/plain": [
       "<Figure size 1296x576 with 1 Axes>"
      ]
     },
     "metadata": {},
     "output_type": "display_data"
    }
   ],
   "source": [
    "binned_metrics_train = get_point_metrics(y_train_predict_new,y_train_new,binned = True)\n",
    "plot_point_metrics(binned_metrics_train)"
   ]
  },
  {
   "cell_type": "code",
   "execution_count": 46,
   "id": "85259ada",
   "metadata": {},
   "outputs": [],
   "source": [
    "from scipy.stats import gaussian_kde\n",
    "xy = np.vstack([y_test_,y_test_prediction])\n",
    "z = gaussian_kde(xy)(xy)"
   ]
  },
  {
   "cell_type": "code",
   "execution_count": 47,
   "id": "47e42157",
   "metadata": {},
   "outputs": [
    {
     "data": {
      "text/plain": [
       "[<matplotlib.lines.Line2D at 0x7f60ec318580>]"
      ]
     },
     "execution_count": 47,
     "metadata": {},
     "output_type": "execute_result"
    },
    {
     "data": {
      "image/png": "[encoded data removed]",
      "text/plain": [
       "<Figure size 1296x576 with 2 Axes>"
      ]
     },
     "metadata": {},
     "output_type": "display_data"
    }
   ],
   "source": [
    "import matplotlib.cm as cm\n",
    "import matplotlib\n",
    "fig, ax = plt.subplots()\n",
    "ax_ = ax.scatter(y_test, y_test_prediction, c=z,s = 1,edgecolor=None, norm=matplotlib.colors.LogNorm())\n",
    "plt.colorbar(ax_)\n",
    "plt.xlabel('spectroscopic redshift')\n",
    "plt.ylabel('photo z')\n",
    "plt.plot([.18,1.6*2.4],[0,1.2*2.4], color='black')\n",
    "plt.plot([0, 1.6 * 2.4], [.15, 2 * 2.4],color = 'black')"
   ]
  }
 ],
 "metadata": {
  "kernelspec": {
   "display_name": "Python 3",
   "language": "python",
   "name": "python3"
  },
  "language_info": {
   "codemirror_mode": {
    "name": "ipython",
    "version": 3
   },
   "file_extension": ".py",
   "mimetype": "text/x-python",
   "name": "python",
   "nbconvert_exporter": "python",
   "pygments_lexer": "ipython3",
   "version": "3.8.10"
  }
 },
 "nbformat": 4,
 "nbformat_minor": 5
}
