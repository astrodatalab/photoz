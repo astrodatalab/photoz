{
 "cells": [
  {
   "cell_type": "code",
   "execution_count": 163,
   "id": "5eb1d7d9",
   "metadata": {},
   "outputs": [
    {
     "name": "stdout",
     "output_type": "stream",
     "text": [
      "Num GPUs Available:  1\n"
     ]
    }
   ],
   "source": [
    "import tensorflow as tf\n",
    "import tensorflow_probability as tfp\n",
    "import pandas as pd\n",
    "import random\n",
    "print(\"Num GPUs Available: \", len(tf.config.list_physical_devices('GPU')))\n",
    "from sklearn.metrics import mean_squared_error\n",
    "import matplotlib.pyplot as plt\n",
    "from IPython.display import clear_output\n",
    "\n",
    "import numpy as np\n",
    "from tensorflow import keras\n",
    "from sklearn.model_selection import train_test_split\n",
    "from sklearn import preprocessing\n",
    "tfd = tfp.distributions\n",
    "\n",
    "import keras\n",
    "from keras.models import Sequential,Input,Model\n",
    "from keras.layers import Dense, Dropout, Flatten"
   ]
  },
  {
   "cell_type": "code",
   "execution_count": 164,
   "id": "177bd8c5",
   "metadata": {},
   "outputs": [
    {
     "name": "stdout",
     "output_type": "stream",
     "text": [
      "1 Physical GPUs, 1 Logical GPUs\n"
     ]
    }
   ],
   "source": [
    "gpus = tf.config.list_physical_devices('GPU')\n",
    "if gpus:\n",
    "  # Restrict TensorFlow to only allocate 1GB of memory on the first GPU\n",
    "  try:\n",
    "    tf.config.experimental.set_virtual_device_configuration(\n",
    "        gpus[0],\n",
    "        [tf.config.experimental.VirtualDeviceConfiguration(memory_limit=5000)])\n",
    "    logical_gpus = tf.config.experimental.list_logical_devices('GPU')\n",
    "    print(len(gpus), \"Physical GPUs,\", len(logical_gpus), \"Logical GPUs\")\n",
    "  except RuntimeError as e:\n",
    "    # Virtual devices must be set before GPUs have been initialized\n",
    "    print(e)"
   ]
  },
  {
   "cell_type": "code",
   "execution_count": 165,
   "id": "481ff0df",
   "metadata": {},
   "outputs": [],
   "source": [
    "photozdata = pd.read_csv('/mnt/data/HSC/HSC_v6/HSC_v6.csv')"
   ]
  },
  {
   "cell_type": "code",
   "execution_count": 166,
   "id": "c77d1d2a",
   "metadata": {},
   "outputs": [],
   "source": [
    "# filter & duplicate drop from bayesian_nn\n",
    "z_max = 1\n",
    "filt = (photozdata['specz_redshift'] < z_max)\\\n",
    "& (photozdata['specz_redshift'] > 0.01)\\\n",
    "& (photozdata['specz_redshift_err'] > 0) \\\n",
    "& (photozdata['specz_redshift_err'] < 1)\\\n",
    "&(photozdata[\"specz_redshift_err\"]<0.005*(1+photozdata[\"specz_redshift\"]))\\\n",
    "&(photozdata['g_cmodel_mag'] >0)\\\n",
    "&(photozdata['r_cmodel_mag'] >0)\\\n",
    "&(photozdata['i_cmodel_mag'] >0)\\\n",
    "&(photozdata['z_cmodel_mag'] >0)\\\n",
    "&(photozdata['y_cmodel_mag'] >0)\\\n",
    "&(photozdata['g_cmodel_mag'] < 100)\\\n",
    "&(photozdata['r_cmodel_mag'] < 100)\\\n",
    "&(photozdata['i_cmodel_mag'] < 100)\\\n",
    "&(photozdata['z_cmodel_mag'] < 100)\\\n",
    "&(photozdata['y_cmodel_mag'] < 100)\\\n",
    "&(photozdata['specz_flag_homogeneous'] == True)\n",
    "photozdata.drop_duplicates(subset=['object_id'])\n",
    "photozdata_subset = np.asarray(photozdata[filt])"
   ]
  },
  {
   "cell_type": "code",
   "execution_count": 167,
   "id": "545abf32",
   "metadata": {},
   "outputs": [
    {
     "data": {
      "text/plain": [
       "Index(['object_id', 'specz_redshift_err', 'specz_redshift', 'specz_mag_i',\n",
       "       'specz_name', 'specz_ra', 'specz_dec', 'specz_flag_homogeneous', 'ra',\n",
       "       'dec', 'coord', 'skymap_id', 'g_cmodel_mag', 'r_cmodel_mag',\n",
       "       'i_cmodel_mag', 'z_cmodel_mag', 'y_cmodel_mag', 'g_cmodel_magsigma',\n",
       "       'r_cmodel_magsigma', 'i_cmodel_magsigma', 'z_cmodel_magsigma',\n",
       "       'y_cmodel_magsigma'],\n",
       "      dtype='object')"
      ]
     },
     "execution_count": 167,
     "metadata": {},
     "output_type": "execute_result"
    }
   ],
   "source": [
    "photozdata.columns"
   ]
  },
  {
   "cell_type": "code",
   "execution_count": 168,
   "id": "4b4d489b",
   "metadata": {},
   "outputs": [],
   "source": [
    "random.shuffle(photozdata_subset)\n",
    "random.shuffle(photozdata_subset)\n",
    "random.shuffle(photozdata_subset)\n",
    "random.shuffle(photozdata_subset)\n",
    "random.shuffle(photozdata_subset)\n",
    "# shuffle the data"
   ]
  },
  {
   "cell_type": "code",
   "execution_count": 169,
   "id": "5554ad62",
   "metadata": {},
   "outputs": [],
   "source": [
    "n = len(photozdata_subset)"
   ]
  },
  {
   "cell_type": "code",
   "execution_count": 212,
   "id": "8f99d6bb",
   "metadata": {},
   "outputs": [],
   "source": [
    "X_total = photozdata_subset[:,[12,13,14,15,16]]\n",
    "y_total = photozdata_subset[:,2]"
   ]
  },
  {
   "cell_type": "code",
   "execution_count": 171,
   "id": "523c6f59",
   "metadata": {},
   "outputs": [],
   "source": [
    "scaler = preprocessing.MinMaxScaler()\n",
    "scaler.fit(X_total)\n",
    "X_total = scaler.transform(X_total)"
   ]
  },
  {
   "cell_type": "code",
   "execution_count": 223,
   "id": "5fc384b1",
   "metadata": {},
   "outputs": [],
   "source": [
    "Xy_total = np.asarray(np.transpose(np.row_stack((np.transpose(X_total), y_total)))) # y on the last column"
   ]
  },
  {
   "cell_type": "code",
   "execution_count": 224,
   "id": "a2d5cf99",
   "metadata": {},
   "outputs": [],
   "source": [
    "count = 6 # number of networks, including the BNN"
   ]
  },
  {
   "cell_type": "code",
   "execution_count": 252,
   "id": "b49f9d2b",
   "metadata": {},
   "outputs": [],
   "source": [
    "# split data into 6/7 bins of training sets of 40000 and 1 bin of testing set of 6401\n",
    "X = []\n",
    "y = []\n",
    "\n",
    "bin_size = 80000\n",
    "\n",
    "train_total = Xy_total[0:3*bin_size]\n",
    "\n",
    "pre = 0\n",
    "per = bin_size - 1\n",
    "\n",
    "for i in range(0,count):\n",
    "    sampled = np.asarray(random.sample(list(train_total), bin_size)).astype('float32')\n",
    "    X.append(sampled[:,[0,1,2,3,4]])\n",
    "    y.append(sampled[:,5])\n",
    "\n",
    "X_test = np.asarray(X_total[3*bin_size : 3*bin_size + 5000]).astype('float32')\n",
    "y_test = np.asarray(y_total[3*bin_size : 3*bin_size + 5000]).astype('float32')\n",
    "\n",
    "# X_pre = np.asarray(X_total[0 : pre]).astype('float32')\n",
    "# y_pre = np.asarray(y_total[0 : pre]).astype('float32')"
   ]
  },
  {
   "cell_type": "code",
   "execution_count": 254,
   "id": "162070af",
   "metadata": {},
   "outputs": [],
   "source": [
    "models = []\n",
    "\n",
    "for i in range(1,count):\n",
    "    input_ = tf.keras.layers.Input(shape=X[0].shape[1:])\n",
    "    hidden1 = tf.keras.layers.Dense(200, activation=\"tanh\")(input_)\n",
    "    hidden2 = tf.keras.layers.Dense(200, activation=\"tanh\")(hidden1)\n",
    "    hidden3 = tf.keras.layers.Dense(200, activation=\"relu\")(hidden2)\n",
    "    hidden4 = tf.keras.layers.Dense(200, activation=\"relu\")(hidden3)\n",
    "    # hidden5 = tf.keras.layers.Dense(200, activation=\"relu\")(hidden4)\n",
    "    # hidden6 = tf.keras.layers.Dense(200, activation=\"relu\")(hidden5)\n",
    "    concat = tf.keras.layers.Concatenate()([input_, hidden4])\n",
    "    output = tf.keras.layers.Dense(1)(concat)\n",
    "    model = tf.keras.Model(inputs=[input_], outputs=[output])\n",
    "    model.compile(optimizer='Adam', loss=\"mse\",metrics=[tf.keras.metrics.MeanAbsoluteError()])\n",
    "    models.append(model)"
   ]
  },
  {
   "cell_type": "markdown",
   "id": "3f3f5df5",
   "metadata": {},
   "source": [
    "input_ = tf.keras.layers.Input(shape=X[0].shape[1:])\n",
    "hidden1 = tf.keras.layers.Dense(200, activation=\"relu\")(input_)\n",
    "hidden2 = tf.keras.layers.Dense(200, activation=\"relu\")(hidden1)\n",
    "hidden3 = tf.keras.layers.Dense(200, activation=\"relu\")(hidden2)\n",
    "hidden4 = tf.keras.layers.Dense(200, activation=\"relu\")(hidden3)\n",
    "hidden5 = tf.keras.layers.Dense(200, activation=\"relu\")(hidden4)\n",
    "hidden6 = tf.keras.layers.Dense(200, activation=\"relu\")(hidden5)\n",
    "concat = tf.keras.layers.Concatenate()([input_, hidden6])\n",
    "output = tf.keras.layers.Dense(1)(concat)\n",
    "model_pre = tf.keras.Model(inputs=[input_], outputs=[output])\n",
    "model_pre.compile(optimizer='Adam', loss='mse', metrics=[tf.keras.metrics.MeanAbsoluteError()])"
   ]
  },
  {
   "cell_type": "markdown",
   "id": "c05b44da",
   "metadata": {},
   "source": [
    "model_pre.fit(X_pre,y_pre,epochs=50,shuffle = True,verbose=1)"
   ]
  },
  {
   "cell_type": "code",
   "execution_count": 255,
   "id": "b89c8b1a",
   "metadata": {},
   "outputs": [
    {
     "name": "stdout",
     "output_type": "stream",
     "text": [
      "Epoch 1/25\n",
      "2500/2500 [==============================] - 3s 1ms/step - loss: 0.1907 - mean_absolute_error: 0.1594\n",
      "Epoch 2/25\n",
      "2500/2500 [==============================] - 3s 1ms/step - loss: 0.0157 - mean_absolute_error: 0.0938\n",
      "Epoch 3/25\n",
      "2500/2500 [==============================] - 3s 1ms/step - loss: 0.0121 - mean_absolute_error: 0.0813\n",
      "Epoch 4/25\n",
      "2500/2500 [==============================] - 3s 1ms/step - loss: 0.0103 - mean_absolute_error: 0.0734\n",
      "Epoch 5/25\n",
      "2500/2500 [==============================] - 3s 1ms/step - loss: 0.0090 - mean_absolute_error: 0.0669\n",
      "Epoch 6/25\n",
      "2500/2500 [==============================] - 3s 1ms/step - loss: 0.0086 - mean_absolute_error: 0.0646\n",
      "Epoch 7/25\n",
      "2500/2500 [==============================] - 3s 1ms/step - loss: 0.0086 - mean_absolute_error: 0.0637\n",
      "Epoch 8/25\n",
      "2500/2500 [==============================] - 3s 1ms/step - loss: 0.0081 - mean_absolute_error: 0.0615\n",
      "Epoch 9/25\n",
      "2500/2500 [==============================] - 3s 1ms/step - loss: 0.0081 - mean_absolute_error: 0.0613\n",
      "Epoch 10/25\n",
      "2500/2500 [==============================] - 3s 1ms/step - loss: 0.0080 - mean_absolute_error: 0.0610\n",
      "Epoch 11/25\n",
      "2500/2500 [==============================] - 3s 1ms/step - loss: 0.0080 - mean_absolute_error: 0.0604\n",
      "Epoch 12/25\n",
      "2500/2500 [==============================] - 3s 1ms/step - loss: 0.0081 - mean_absolute_error: 0.0613\n",
      "Epoch 13/25\n",
      "2500/2500 [==============================] - 3s 1ms/step - loss: 0.0076 - mean_absolute_error: 0.0589\n",
      "Epoch 14/25\n",
      "2500/2500 [==============================] - 3s 1ms/step - loss: 0.0081 - mean_absolute_error: 0.0612\n",
      "Epoch 15/25\n",
      "2500/2500 [==============================] - 3s 1ms/step - loss: 0.0077 - mean_absolute_error: 0.0593\n",
      "Epoch 16/25\n",
      "2500/2500 [==============================] - 3s 1ms/step - loss: 0.0073 - mean_absolute_error: 0.0575\n",
      "Epoch 17/25\n",
      "2500/2500 [==============================] - 3s 1ms/step - loss: 0.0070 - mean_absolute_error: 0.0558\n",
      "Epoch 18/25\n",
      "2500/2500 [==============================] - 3s 1ms/step - loss: 0.0070 - mean_absolute_error: 0.0555\n",
      "Epoch 19/25\n",
      "2500/2500 [==============================] - 3s 1ms/step - loss: 0.0068 - mean_absolute_error: 0.0548\n",
      "Epoch 20/25\n",
      "2500/2500 [==============================] - 3s 1ms/step - loss: 0.0065 - mean_absolute_error: 0.0537\n",
      "Epoch 21/25\n",
      "2500/2500 [==============================] - 3s 1ms/step - loss: 0.0063 - mean_absolute_error: 0.0519\n",
      "Epoch 22/25\n",
      "2500/2500 [==============================] - 3s 1ms/step - loss: 0.0061 - mean_absolute_error: 0.0510\n",
      "Epoch 23/25\n",
      "2500/2500 [==============================] - 3s 1ms/step - loss: 0.0059 - mean_absolute_error: 0.0501\n",
      "Epoch 24/25\n",
      "2500/2500 [==============================] - 3s 1ms/step - loss: 0.0061 - mean_absolute_error: 0.0509\n",
      "Epoch 25/25\n",
      "2500/2500 [==============================] - 3s 1ms/step - loss: 0.0063 - mean_absolute_error: 0.0521\n",
      "Epoch 1/25\n",
      "2500/2500 [==============================] - 4s 1ms/step - loss: 0.0157 - mean_absolute_error: 0.0807\n",
      "Epoch 2/25\n",
      "2500/2500 [==============================] - 3s 1ms/step - loss: 0.0089 - mean_absolute_error: 0.0652\n",
      "Epoch 3/25\n",
      "2500/2500 [==============================] - 3s 1ms/step - loss: 0.0085 - mean_absolute_error: 0.0639\n",
      "Epoch 4/25\n",
      "2500/2500 [==============================] - 3s 1ms/step - loss: 0.0078 - mean_absolute_error: 0.0604\n",
      "Epoch 5/25\n",
      "2500/2500 [==============================] - 3s 1ms/step - loss: 0.0074 - mean_absolute_error: 0.0582\n",
      "Epoch 6/25\n",
      "2500/2500 [==============================] - 3s 1ms/step - loss: 0.0075 - mean_absolute_error: 0.0587\n",
      "Epoch 7/25\n",
      "2500/2500 [==============================] - 3s 1ms/step - loss: 0.0071 - mean_absolute_error: 0.0565\n",
      "Epoch 8/25\n",
      "2500/2500 [==============================] - 3s 1ms/step - loss: 0.0070 - mean_absolute_error: 0.0559\n",
      "Epoch 9/25\n",
      "2500/2500 [==============================] - 3s 1ms/step - loss: 0.0071 - mean_absolute_error: 0.0559\n",
      "Epoch 10/25\n",
      "2500/2500 [==============================] - 3s 1ms/step - loss: 0.0072 - mean_absolute_error: 0.0563\n",
      "Epoch 11/25\n",
      "2500/2500 [==============================] - 3s 1ms/step - loss: 0.0067 - mean_absolute_error: 0.0544\n",
      "Epoch 12/25\n",
      "2500/2500 [==============================] - 3s 1ms/step - loss: 0.0067 - mean_absolute_error: 0.0539\n",
      "Epoch 13/25\n",
      "2500/2500 [==============================] - 3s 1ms/step - loss: 0.0064 - mean_absolute_error: 0.0522\n",
      "Epoch 14/25\n",
      "2500/2500 [==============================] - 3s 1ms/step - loss: 0.0063 - mean_absolute_error: 0.0519\n",
      "Epoch 15/25\n",
      "2500/2500 [==============================] - 3s 1ms/step - loss: 0.0065 - mean_absolute_error: 0.0529\n",
      "Epoch 16/25\n",
      "2500/2500 [==============================] - 3s 1ms/step - loss: 0.0068 - mean_absolute_error: 0.0541\n",
      "Epoch 17/25\n",
      "2500/2500 [==============================] - 3s 1ms/step - loss: 0.0071 - mean_absolute_error: 0.0555\n",
      "Epoch 18/25\n",
      "2500/2500 [==============================] - 3s 1ms/step - loss: 0.0069 - mean_absolute_error: 0.0545\n",
      "Epoch 19/25\n",
      "2500/2500 [==============================] - 3s 1ms/step - loss: 0.0064 - mean_absolute_error: 0.0524\n",
      "Epoch 20/25\n",
      "2500/2500 [==============================] - 3s 1ms/step - loss: 0.0067 - mean_absolute_error: 0.0538\n",
      "Epoch 21/25\n",
      "2500/2500 [==============================] - 3s 1ms/step - loss: 0.0064 - mean_absolute_error: 0.0526\n",
      "Epoch 22/25\n",
      "2500/2500 [==============================] - 3s 1ms/step - loss: 0.0063 - mean_absolute_error: 0.0514\n",
      "Epoch 23/25\n",
      "2500/2500 [==============================] - 3s 1ms/step - loss: 0.0067 - mean_absolute_error: 0.0532\n",
      "Epoch 24/25\n",
      "2500/2500 [==============================] - 3s 1ms/step - loss: 0.0066 - mean_absolute_error: 0.0538\n",
      "Epoch 25/25\n",
      "2500/2500 [==============================] - 3s 1ms/step - loss: 0.0061 - mean_absolute_error: 0.0513\n",
      "Epoch 1/25\n",
      "2500/2500 [==============================] - 3s 1ms/step - loss: 0.0121 - mean_absolute_error: 0.0725\n",
      "Epoch 2/25\n",
      "2500/2500 [==============================] - 3s 1ms/step - loss: 0.0088 - mean_absolute_error: 0.0645\n",
      "Epoch 3/25\n",
      "2500/2500 [==============================] - 3s 1ms/step - loss: 0.0083 - mean_absolute_error: 0.0614\n",
      "Epoch 4/25\n",
      "2500/2500 [==============================] - 3s 1ms/step - loss: 0.0079 - mean_absolute_error: 0.0600\n",
      "Epoch 5/25\n",
      "2500/2500 [==============================] - 3s 1ms/step - loss: 0.0079 - mean_absolute_error: 0.0598\n",
      "Epoch 6/25\n",
      "2500/2500 [==============================] - 3s 1ms/step - loss: 0.0076 - mean_absolute_error: 0.0585\n",
      "Epoch 7/25\n",
      "2500/2500 [==============================] - 3s 1ms/step - loss: 0.0077 - mean_absolute_error: 0.0590\n",
      "Epoch 8/25\n",
      "2500/2500 [==============================] - 3s 1ms/step - loss: 0.0075 - mean_absolute_error: 0.0580\n",
      "Epoch 9/25\n",
      "2500/2500 [==============================] - 3s 1ms/step - loss: 0.0076 - mean_absolute_error: 0.0580\n",
      "Epoch 10/25\n",
      "2500/2500 [==============================] - 3s 1ms/step - loss: 0.0074 - mean_absolute_error: 0.0563\n",
      "Epoch 11/25\n",
      "2500/2500 [==============================] - 3s 1ms/step - loss: 0.0073 - mean_absolute_error: 0.0567\n",
      "Epoch 12/25\n",
      "2500/2500 [==============================] - 3s 1ms/step - loss: 0.0074 - mean_absolute_error: 0.0563\n",
      "Epoch 13/25\n",
      "2500/2500 [==============================] - 3s 1ms/step - loss: 0.0074 - mean_absolute_error: 0.0564\n",
      "Epoch 14/25\n",
      "2500/2500 [==============================] - 3s 1ms/step - loss: 0.0074 - mean_absolute_error: 0.0570\n",
      "Epoch 15/25\n",
      "2500/2500 [==============================] - 3s 1ms/step - loss: 0.0075 - mean_absolute_error: 0.0573\n",
      "Epoch 16/25\n",
      "2500/2500 [==============================] - 3s 1ms/step - loss: 0.0074 - mean_absolute_error: 0.0569\n",
      "Epoch 17/25\n",
      "2500/2500 [==============================] - 3s 1ms/step - loss: 0.0075 - mean_absolute_error: 0.0576\n",
      "Epoch 18/25\n",
      "2500/2500 [==============================] - 3s 1ms/step - loss: 0.0073 - mean_absolute_error: 0.0564\n",
      "Epoch 19/25\n",
      "2500/2500 [==============================] - 3s 1ms/step - loss: 0.0073 - mean_absolute_error: 0.0565\n",
      "Epoch 20/25\n",
      "2500/2500 [==============================] - 3s 1ms/step - loss: 0.0074 - mean_absolute_error: 0.0570\n",
      "Epoch 21/25\n",
      "2500/2500 [==============================] - 3s 1ms/step - loss: 0.0070 - mean_absolute_error: 0.0556\n",
      "Epoch 22/25\n",
      "2500/2500 [==============================] - 3s 1ms/step - loss: 0.0074 - mean_absolute_error: 0.0563\n",
      "Epoch 23/25\n"
     ]
    },
    {
     "name": "stdout",
     "output_type": "stream",
     "text": [
      "2500/2500 [==============================] - 3s 1ms/step - loss: 0.0072 - mean_absolute_error: 0.0552\n",
      "Epoch 24/25\n",
      "2500/2500 [==============================] - 3s 1ms/step - loss: 0.0073 - mean_absolute_error: 0.0563\n",
      "Epoch 25/25\n",
      "2500/2500 [==============================] - 3s 1ms/step - loss: 0.0073 - mean_absolute_error: 0.0555\n",
      "Epoch 1/25\n",
      "2500/2500 [==============================] - 3s 1ms/step - loss: 0.0535 - mean_absolute_error: 0.1139\n",
      "Epoch 2/25\n",
      "2500/2500 [==============================] - 3s 1ms/step - loss: 0.0099 - mean_absolute_error: 0.0703\n",
      "Epoch 3/25\n",
      "2500/2500 [==============================] - 3s 1ms/step - loss: 0.0086 - mean_absolute_error: 0.0633\n",
      "Epoch 4/25\n",
      "2500/2500 [==============================] - 3s 1ms/step - loss: 0.0087 - mean_absolute_error: 0.0635\n",
      "Epoch 5/25\n",
      "2500/2500 [==============================] - 3s 1ms/step - loss: 0.0081 - mean_absolute_error: 0.0603\n",
      "Epoch 6/25\n",
      "2500/2500 [==============================] - 3s 1ms/step - loss: 0.0086 - mean_absolute_error: 0.0627\n",
      "Epoch 7/25\n",
      "2500/2500 [==============================] - 3s 1ms/step - loss: 0.0085 - mean_absolute_error: 0.0622\n",
      "Epoch 8/25\n",
      "2500/2500 [==============================] - 3s 1ms/step - loss: 0.0086 - mean_absolute_error: 0.0622\n",
      "Epoch 9/25\n",
      "2500/2500 [==============================] - 3s 1ms/step - loss: 0.0083 - mean_absolute_error: 0.0606\n",
      "Epoch 10/25\n",
      "2500/2500 [==============================] - 3s 1ms/step - loss: 0.0081 - mean_absolute_error: 0.0600\n",
      "Epoch 11/25\n",
      "2500/2500 [==============================] - 3s 1ms/step - loss: 0.0077 - mean_absolute_error: 0.0579\n",
      "Epoch 12/25\n",
      "2500/2500 [==============================] - 3s 1ms/step - loss: 0.0074 - mean_absolute_error: 0.0568\n",
      "Epoch 13/25\n",
      "2500/2500 [==============================] - 3s 1ms/step - loss: 0.0077 - mean_absolute_error: 0.0578\n",
      "Epoch 14/25\n",
      "2500/2500 [==============================] - 3s 1ms/step - loss: 0.0076 - mean_absolute_error: 0.0574\n",
      "Epoch 15/25\n",
      "2500/2500 [==============================] - 3s 1ms/step - loss: 0.0078 - mean_absolute_error: 0.0585\n",
      "Epoch 16/25\n",
      "2500/2500 [==============================] - 3s 1ms/step - loss: 0.0076 - mean_absolute_error: 0.0575\n",
      "Epoch 17/25\n",
      "2500/2500 [==============================] - 3s 1ms/step - loss: 0.0075 - mean_absolute_error: 0.0569\n",
      "Epoch 18/25\n",
      "2500/2500 [==============================] - 3s 1ms/step - loss: 0.0077 - mean_absolute_error: 0.0579\n",
      "Epoch 19/25\n",
      "2500/2500 [==============================] - 3s 1ms/step - loss: 0.0075 - mean_absolute_error: 0.0569\n",
      "Epoch 20/25\n",
      "2500/2500 [==============================] - 3s 1ms/step - loss: 0.0080 - mean_absolute_error: 0.0591\n",
      "Epoch 21/25\n",
      "2500/2500 [==============================] - 3s 1ms/step - loss: 0.0077 - mean_absolute_error: 0.0576\n",
      "Epoch 22/25\n",
      "2500/2500 [==============================] - 3s 1ms/step - loss: 0.0073 - mean_absolute_error: 0.0559\n",
      "Epoch 23/25\n",
      "2500/2500 [==============================] - 3s 1ms/step - loss: 0.0071 - mean_absolute_error: 0.0545\n",
      "Epoch 24/25\n",
      "2500/2500 [==============================] - 3s 1ms/step - loss: 0.0074 - mean_absolute_error: 0.0562\n",
      "Epoch 25/25\n",
      "2500/2500 [==============================] - 3s 1ms/step - loss: 0.0071 - mean_absolute_error: 0.0549\n",
      "Epoch 1/25\n",
      "2500/2500 [==============================] - 3s 1ms/step - loss: 0.0982 - mean_absolute_error: 0.1286\n",
      "Epoch 2/25\n",
      "2500/2500 [==============================] - 3s 1ms/step - loss: 0.0125 - mean_absolute_error: 0.0815\n",
      "Epoch 3/25\n",
      "2500/2500 [==============================] - 3s 1ms/step - loss: 0.0102 - mean_absolute_error: 0.0716\n",
      "Epoch 4/25\n",
      "2500/2500 [==============================] - 3s 1ms/step - loss: 0.0092 - mean_absolute_error: 0.0667\n",
      "Epoch 5/25\n",
      "2500/2500 [==============================] - 3s 1ms/step - loss: 0.0090 - mean_absolute_error: 0.0653\n",
      "Epoch 6/25\n",
      "2500/2500 [==============================] - 3s 1ms/step - loss: 0.0087 - mean_absolute_error: 0.0637\n",
      "Epoch 7/25\n",
      "2500/2500 [==============================] - 3s 1ms/step - loss: 0.0087 - mean_absolute_error: 0.0633\n",
      "Epoch 8/25\n",
      "2500/2500 [==============================] - 3s 1ms/step - loss: 0.0087 - mean_absolute_error: 0.0637\n",
      "Epoch 9/25\n",
      "2500/2500 [==============================] - 3s 1ms/step - loss: 0.0088 - mean_absolute_error: 0.0642\n",
      "Epoch 10/25\n",
      "2500/2500 [==============================] - 3s 1ms/step - loss: 0.0087 - mean_absolute_error: 0.0631\n",
      "Epoch 11/25\n",
      "2500/2500 [==============================] - 3s 1ms/step - loss: 0.0088 - mean_absolute_error: 0.0638\n",
      "Epoch 12/25\n",
      "2500/2500 [==============================] - 3s 1ms/step - loss: 0.0089 - mean_absolute_error: 0.0644\n",
      "Epoch 13/25\n",
      "2500/2500 [==============================] - 3s 1ms/step - loss: 0.0087 - mean_absolute_error: 0.0631\n",
      "Epoch 14/25\n",
      "2500/2500 [==============================] - 3s 1ms/step - loss: 0.0086 - mean_absolute_error: 0.0623\n",
      "Epoch 15/25\n",
      "2500/2500 [==============================] - 3s 1ms/step - loss: 0.0085 - mean_absolute_error: 0.0621\n",
      "Epoch 16/25\n",
      "2500/2500 [==============================] - 3s 1ms/step - loss: 0.0087 - mean_absolute_error: 0.0628\n",
      "Epoch 17/25\n",
      "2500/2500 [==============================] - 3s 1ms/step - loss: 0.0086 - mean_absolute_error: 0.0627\n",
      "Epoch 18/25\n",
      "2500/2500 [==============================] - 3s 1ms/step - loss: 0.0086 - mean_absolute_error: 0.0625\n",
      "Epoch 19/25\n",
      "2500/2500 [==============================] - 3s 1ms/step - loss: 0.0085 - mean_absolute_error: 0.0619\n",
      "Epoch 20/25\n",
      "2500/2500 [==============================] - 3s 1ms/step - loss: 0.0085 - mean_absolute_error: 0.0619\n",
      "Epoch 21/25\n",
      "2500/2500 [==============================] - 3s 1ms/step - loss: 0.0086 - mean_absolute_error: 0.0623\n",
      "Epoch 22/25\n",
      "2500/2500 [==============================] - 3s 1ms/step - loss: 0.0086 - mean_absolute_error: 0.0619\n",
      "Epoch 23/25\n",
      "2500/2500 [==============================] - 3s 1ms/step - loss: 0.0086 - mean_absolute_error: 0.0618\n",
      "Epoch 24/25\n",
      "2500/2500 [==============================] - 3s 1ms/step - loss: 0.0085 - mean_absolute_error: 0.0617\n",
      "Epoch 25/25\n",
      "2500/2500 [==============================] - 3s 1ms/step - loss: 0.0085 - mean_absolute_error: 0.0616\n"
     ]
    }
   ],
   "source": [
    "for i in range(0,count - 1):\n",
    "    models[i].fit(X[i],y[i],epochs=25,shuffle = True,verbose=1)"
   ]
  },
  {
   "cell_type": "markdown",
   "id": "4443bf6e",
   "metadata": {},
   "source": [
    "y_predict_pre = []\n",
    "for i in range(0,len(X_test)):\n",
    "        predicted = model_pre.predict(np.array([X_test[i]]))\n",
    "        y_predict_pre.append(float(predicted))"
   ]
  },
  {
   "cell_type": "code",
   "execution_count": null,
   "id": "0dc5e850",
   "metadata": {},
   "outputs": [
    {
     "name": "stdout",
     "output_type": "stream",
     "text": [
      "4 4137\n"
     ]
    }
   ],
   "source": [
    "y_predict = []\n",
    "\n",
    "for i in range(0,count - 1):\n",
    "    y_predict_single = []\n",
    "    for j in range(0,len(X_test)):\n",
    "        clear_output(wait=True)\n",
    "        print(str(i) + ' ' + str(j))\n",
    "        predicted = models[i].predict(np.array([X_test[j]]))\n",
    "        y_predict_single.append(float(predicted))\n",
    "    y_predict.append(y_predict_single)\n",
    "\n",
    "clear_output(wait=True)\n",
    "y_predict = np.transpose(y_predict)"
   ]
  },
  {
   "cell_type": "code",
   "execution_count": 273,
   "id": "f4708c1e",
   "metadata": {},
   "outputs": [],
   "source": [
    "mean_array = []\n",
    "std_array = []\n",
    "for i in range(0,len(X_test)):\n",
    "    mean = np.mean(y_predict[i])\n",
    "    std = np.std(y_predict[i])\n",
    "    mean_array.append(mean)\n",
    "    std_array.append(std)"
   ]
  },
  {
   "cell_type": "code",
   "execution_count": 274,
   "id": "972dba28",
   "metadata": {},
   "outputs": [],
   "source": [
    "from scipy.stats import gaussian_kde\n",
    "xy = np.vstack([y_test,mean_array])\n",
    "z = gaussian_kde(xy)(xy)"
   ]
  },
  {
   "cell_type": "markdown",
   "id": "5e3081df",
   "metadata": {},
   "source": [
    "xy_pre = np.vstack([y_test,y_predict_pre])\n",
    "z_pre = gaussian_kde(xy_pre)(xy_pre)"
   ]
  },
  {
   "cell_type": "markdown",
   "id": "b6635a7d",
   "metadata": {},
   "source": [
    "fig, ax = plt.subplots()\n",
    "scatter_plot = ax.scatter(y_test, y_predict_pre, c = z_pre, s = 1, edgecolor = None)\n",
    "plt.colorbar(scatter_plot)\n",
    "plt.xlabel('spectroscopic redshift')\n",
    "plt.ylabel('photo z')\n",
    "plt.plot([0, 1], [0, 1],color = 'black')"
   ]
  },
  {
   "cell_type": "code",
   "execution_count": 275,
   "id": "623ccca3",
   "metadata": {},
   "outputs": [
    {
     "data": {
      "text/plain": [
       "(0.0, 1.0)"
      ]
     },
     "execution_count": 275,
     "metadata": {},
     "output_type": "execute_result"
    },
    {
     "data": {
      "image/png": "[encoded data removed]",
      "text/plain": [
       "<Figure size 432x288 with 2 Axes>"
      ]
     },
     "metadata": {
      "needs_background": "light"
     },
     "output_type": "display_data"
    }
   ],
   "source": [
    "import matplotlib.cm as cm\n",
    "import matplotlib\n",
    "fig, ax = plt.subplots()\n",
    "scatter_plot = ax.scatter(y_test, mean_array, c = z, s = 1, edgecolor = None)\n",
    "plt.colorbar(scatter_plot)\n",
    "plt.xlabel('spectroscopic redshift')\n",
    "plt.ylabel('photo z')\n",
    "plt.plot([0, z_max], [0, z_max],color = 'black')\n",
    "plt.xlim([0, z_max])\n",
    "plt.ylim([0, z_max])"
   ]
  },
  {
   "cell_type": "code",
   "execution_count": 276,
   "id": "70168bb1",
   "metadata": {},
   "outputs": [
    {
     "data": {
      "text/plain": [
       "(0.0, 1.0)"
      ]
     },
     "execution_count": 276,
     "metadata": {},
     "output_type": "execute_result"
    },
    {
     "data": {
      "image/png": "[encoded data removed]",
      "text/plain": [
       "<Figure size 432x288 with 1 Axes>"
      ]
     },
     "metadata": {
      "needs_background": "light"
     },
     "output_type": "display_data"
    }
   ],
   "source": [
    "fig, ax = plt.subplots()\n",
    "error_plot = ax.errorbar(y_test, mean_array, yerr = std_array, fmt=\"o\" ,markersize=1)\n",
    "plt.xlabel('spectroscopic redshift')\n",
    "plt.ylabel('photo z')\n",
    "plt.plot([0, z_max], [0, z_max],color = 'black')\n",
    "plt.xlim([0, z_max])\n",
    "plt.ylim([0, z_max])"
   ]
  },
  {
   "cell_type": "code",
   "execution_count": 278,
   "id": "81f8c111",
   "metadata": {},
   "outputs": [
    {
     "name": "stdout",
     "output_type": "stream",
     "text": [
      "0.5684\n"
     ]
    }
   ],
   "source": [
    "overlap = 0\n",
    "overlap_array = []\n",
    "for i in range(0,len(X_test)):\n",
    "    if np.abs(y_test[i]-mean_array[i])<=std_array[i]:\n",
    "        overlap += 1\n",
    "        overlap_array.append(1)\n",
    "    else:\n",
    "        overlap_array.append(0)\n",
    "print(overlap/len(X_test))"
   ]
  },
  {
   "cell_type": "code",
   "execution_count": 279,
   "id": "445168a2",
   "metadata": {},
   "outputs": [],
   "source": [
    "combined_array = np.transpose(np.vstack((y_test,mean_array,std_array,overlap_array)))"
   ]
  },
  {
   "cell_type": "code",
   "execution_count": 280,
   "id": "889581b0",
   "metadata": {},
   "outputs": [],
   "source": [
    "sorted_combined_array = sorted(combined_array, key=lambda x: x[0])"
   ]
  },
  {
   "cell_type": "code",
   "execution_count": 281,
   "id": "a7e306b9",
   "metadata": {},
   "outputs": [],
   "source": [
    "bins = int(z_max*10)\n",
    "splitted_sorted_combined_array = np.array_split(sorted_combined_array,bins)\n",
    "coverage = []\n",
    "for i in range(0,bins):\n",
    "    bins_count = 0\n",
    "    for j in range(0,len(splitted_sorted_combined_array[i])):\n",
    "        if splitted_sorted_combined_array[i][j][3] == 1:\n",
    "            bins_count += 1\n",
    "    coverage.append(bins_count/len(splitted_sorted_combined_array[i])/0.6827)\n",
    "x_array = np.arange(0,z_max,z_max/bins)"
   ]
  },
  {
   "cell_type": "code",
   "execution_count": 282,
   "id": "e1bb736b",
   "metadata": {},
   "outputs": [
    {
     "data": {
      "text/plain": [
       "(0.0, 1.5)"
      ]
     },
     "execution_count": 282,
     "metadata": {},
     "output_type": "execute_result"
    },
    {
     "data": {
      "image/png": "[encoded data removed]",
      "text/plain": [
       "<Figure size 432x288 with 1 Axes>"
      ]
     },
     "metadata": {
      "needs_background": "light"
     },
     "output_type": "display_data"
    }
   ],
   "source": [
    "plt.plot(x_array, coverage, c = 'red')\n",
    "plt.xlabel('spectroscopic redshift')\n",
    "plt.ylabel('coverage')\n",
    "plt.ylim([0,1.5]) # 1.5 indicates full coverage"
   ]
  },
  {
   "cell_type": "code",
   "execution_count": 283,
   "id": "4c6eb49a",
   "metadata": {},
   "outputs": [],
   "source": [
    "# from Evan's code, didn't completely understand this part\n",
    "def posterior_mean_field(kernel_size: int, bias_size: int, dtype: any) -> tf.keras.Model:\n",
    "    \"\"\"Specify the surrogate posterior over `keras.layers.Dense` `kernel` and `bias`.\"\"\"\n",
    "    n = kernel_size + bias_size\n",
    "    c = np.log(np.expm1(1.))\n",
    "\n",
    "    return tf.keras.Sequential([\n",
    "        tfp.layers.VariableLayer(2 * n, dtype=dtype, initializer=lambda shape, dtype: random_gaussian_initializer(shape, dtype), trainable=True),\n",
    "        tfp.layers.DistributionLambda(lambda t: tfd.Independent(\n",
    "            tfd.Normal(loc=t[..., :n],\n",
    "                       scale= + 10e-4*tf.nn.softplus(c + t[..., n:])),\n",
    "            reinterpreted_batch_ndims=1)),\n",
    "    ])\n",
    "\n",
    "def prior_trainable(kernel_size: int, bias_size: int, dtype: any) -> tf.keras.Model:\n",
    "    \"\"\"Specify the prior over `keras.layers.Dense` `kernel` and `bias`.\"\"\"\n",
    "    n = kernel_size + bias_size\n",
    "\n",
    "    return tf.keras.Sequential([\n",
    "        tfp.layers.VariableLayer(n, dtype=dtype),  # Returns a trainable variable of shape n, regardless of input\n",
    "        tfp.layers.DistributionLambda(lambda t: tfd.Independent(\n",
    "            tfd.Normal(loc=t, scale=1),\n",
    "            reinterpreted_batch_ndims=1)),\n",
    "    ])\n",
    "\n",
    "def random_gaussian_initializer(shape, dtype):\n",
    "    n = int(shape / 2)\n",
    "    loc_norm = tf.random_normal_initializer(mean=0., stddev=0.1)\n",
    "    loc = tf.Variable(\n",
    "        initial_value=loc_norm(shape=(n,), dtype=dtype)\n",
    "    )\n",
    "    scale_norm = tf.random_normal_initializer(mean=-3., stddev=0.1)\n",
    "    scale = tf.Variable(\n",
    "        initial_value=scale_norm(shape=(n,), dtype=dtype)\n",
    "    )\n",
    "    return tf.concat([loc, scale], 0)\n",
    "\n",
    "def negative_loglikelihood(targets, estimated_distribution):\n",
    "    return -estimated_distribution.log_prob(targets)"
   ]
  },
  {
   "cell_type": "code",
   "execution_count": 295,
   "id": "781138dc",
   "metadata": {},
   "outputs": [],
   "source": [
    "input_variational = tf.keras.layers.Input(shape=X[count - 1].shape[1:])\n",
    "hidden1_variational = tfp.layers.DenseVariational(200, activation='tanh', input_shape=(5,),\n",
    "                                      make_posterior_fn=posterior_mean_field,\n",
    "                                      make_prior_fn=prior_trainable,\n",
    "                                      kl_weight=1 / len(y[count - 1]))(input_variational)\n",
    "hidden2_variational = tfp.layers.DenseVariational(200, activation='tanh', input_shape=(5,),\n",
    "                                      make_posterior_fn=posterior_mean_field,\n",
    "                                      make_prior_fn=prior_trainable,\n",
    "                                      kl_weight=1 / len(y[count - 1]))(hidden1_variational)\n",
    "hidden3_variational = tfp.layers.DenseVariational(200, activation='relu', input_shape=(5,),\n",
    "                                      make_posterior_fn=posterior_mean_field,\n",
    "                                      make_prior_fn=prior_trainable,\n",
    "                                      kl_weight=1 / len(y[count - 1]))(hidden2_variational)\n",
    "hidden4_variational = tfp.layers.DenseVariational(200, activation='relu', input_shape=(5,),\n",
    "                                      make_posterior_fn=posterior_mean_field,\n",
    "                                      make_prior_fn=prior_trainable,\n",
    "                                      kl_weight=1 / len(y[count - 1]))(hidden3_variational)   \n",
    "\n",
    "concat_variational = tf.keras.layers.Concatenate()([input_variational, hidden4_variational])\n",
    "\n",
    "distribution_params_variational = tf.keras.layers.Dense(units=2)(concat_variational)\n",
    "\n",
    "output_variational = tfp.layers.IndependentNormal(1)(distribution_params_variational)\n",
    "\n",
    "model_variational = tf.keras.Model(inputs=[input_variational], outputs=[output_variational])\n",
    "\n",
    "model_variational.compile(optimizer='adam', loss=negative_loglikelihood,metrics=[keras.metrics.RootMeanSquaredError()])"
   ]
  },
  {
   "cell_type": "code",
   "execution_count": 296,
   "id": "218e7aec",
   "metadata": {},
   "outputs": [
    {
     "name": "stdout",
     "output_type": "stream",
     "text": [
      "Epoch 1/25\n",
      "2500/2500 [==============================] - 9s 3ms/step - loss: 12.5151 - root_mean_squared_error: 1.1984\n",
      "Epoch 2/25\n",
      "2500/2500 [==============================] - 8s 3ms/step - loss: 9.5601 - root_mean_squared_error: 1.1464\n",
      "Epoch 3/25\n",
      "2500/2500 [==============================] - 8s 3ms/step - loss: 7.9166 - root_mean_squared_error: 0.8876\n",
      "Epoch 4/25\n",
      "2500/2500 [==============================] - 8s 3ms/step - loss: 6.9166 - root_mean_squared_error: 0.7524\n",
      "Epoch 5/25\n",
      "2500/2500 [==============================] - 8s 3ms/step - loss: 6.2258 - root_mean_squared_error: 0.6660\n",
      "Epoch 6/25\n",
      "2500/2500 [==============================] - 8s 3ms/step - loss: 5.7037 - root_mean_squared_error: 0.6046\n",
      "Epoch 7/25\n",
      "2500/2500 [==============================] - 8s 3ms/step - loss: 5.3017 - root_mean_squared_error: 0.5583\n",
      "Epoch 8/25\n",
      "2500/2500 [==============================] - 8s 3ms/step - loss: 4.9842 - root_mean_squared_error: 0.5217\n",
      "Epoch 9/25\n",
      "2500/2500 [==============================] - 8s 3ms/step - loss: 4.7162 - root_mean_squared_error: 0.4918\n",
      "Epoch 10/25\n",
      "2500/2500 [==============================] - 8s 3ms/step - loss: 4.4801 - root_mean_squared_error: 0.4669\n",
      "Epoch 11/25\n",
      "2500/2500 [==============================] - 8s 3ms/step - loss: 4.9523 - root_mean_squared_error: 0.4538\n",
      "Epoch 12/25\n",
      "2500/2500 [==============================] - 8s 3ms/step - loss: 4.3454 - root_mean_squared_error: 0.4390\n",
      "Epoch 13/25\n",
      "2500/2500 [==============================] - 8s 3ms/step - loss: 4.0766 - root_mean_squared_error: 0.4227\n",
      "Epoch 14/25\n",
      "2500/2500 [==============================] - 8s 3ms/step - loss: 3.8879 - root_mean_squared_error: 0.4082\n",
      "Epoch 15/25\n",
      "2500/2500 [==============================] - 8s 3ms/step - loss: 3.7411 - root_mean_squared_error: 0.3953\n",
      "Epoch 16/25\n",
      "2500/2500 [==============================] - 8s 3ms/step - loss: 3.5853 - root_mean_squared_error: 0.3838\n",
      "Epoch 17/25\n",
      "2500/2500 [==============================] - 8s 3ms/step - loss: 3.4622 - root_mean_squared_error: 0.3732\n",
      "Epoch 18/25\n",
      "2500/2500 [==============================] - 8s 3ms/step - loss: 3.4020 - root_mean_squared_error: 0.3636\n",
      "Epoch 19/25\n",
      "2500/2500 [==============================] - 8s 3ms/step - loss: 3.2812 - root_mean_squared_error: 0.3549\n",
      "Epoch 20/25\n",
      "2500/2500 [==============================] - 8s 3ms/step - loss: 3.2001 - root_mean_squared_error: 0.3469\n",
      "Epoch 21/25\n",
      "2500/2500 [==============================] - 8s 3ms/step - loss: 3.0966 - root_mean_squared_error: 0.3396\n",
      "Epoch 22/25\n",
      "2500/2500 [==============================] - 8s 3ms/step - loss: 3.0057 - root_mean_squared_error: 0.3327\n",
      "Epoch 23/25\n",
      "2500/2500 [==============================] - 8s 3ms/step - loss: 2.9240 - root_mean_squared_error: 0.3263\n",
      "Epoch 24/25\n",
      "2500/2500 [==============================] - 8s 3ms/step - loss: 2.8469 - root_mean_squared_error: 0.3203\n",
      "Epoch 25/25\n",
      "2500/2500 [==============================] - 8s 3ms/step - loss: 2.8055 - root_mean_squared_error: 0.3148\n"
     ]
    },
    {
     "data": {
      "text/plain": [
       "<tensorflow.python.keras.callbacks.History at 0x7f68bc68ba30>"
      ]
     },
     "execution_count": 296,
     "metadata": {},
     "output_type": "execute_result"
    }
   ],
   "source": [
    "model_variational.fit(X[count - 1],y[count - 1], epochs=25, shuffle = True, verbose=1)"
   ]
  },
  {
   "cell_type": "code",
   "execution_count": 297,
   "id": "0695422e",
   "metadata": {},
   "outputs": [],
   "source": [
    "y_predict_variational = model_variational(X_test)"
   ]
  },
  {
   "cell_type": "code",
   "execution_count": 298,
   "id": "77565955",
   "metadata": {},
   "outputs": [],
   "source": [
    "y_predict_variational_mean = np.asarray(y_predict_variational.mean())[:,0]"
   ]
  },
  {
   "cell_type": "code",
   "execution_count": 299,
   "id": "852a97a6",
   "metadata": {},
   "outputs": [],
   "source": [
    "y_predict_variational_std = np.asarray(y_predict_variational.stddev())[:,0]"
   ]
  },
  {
   "cell_type": "code",
   "execution_count": 300,
   "id": "6132cc6d",
   "metadata": {},
   "outputs": [
    {
     "data": {
      "text/plain": [
       "(0.0, 1.0)"
      ]
     },
     "execution_count": 300,
     "metadata": {},
     "output_type": "execute_result"
    },
    {
     "data": {
      "image/png": "[encoded data removed]",
      "text/plain": [
       "<Figure size 432x288 with 2 Axes>"
      ]
     },
     "metadata": {
      "needs_background": "light"
     },
     "output_type": "display_data"
    }
   ],
   "source": [
    "xy_variational = np.vstack([y_test,y_predict_variational_mean])\n",
    "z_variational = gaussian_kde(xy_variational)(xy_variational)\n",
    "fig, ax = plt.subplots()\n",
    "scatter_plot = ax.scatter(y_test, y_predict_variational_mean, c = z_variational, s = 1, edgecolor = None)\n",
    "plt.colorbar(scatter_plot)\n",
    "plt.xlabel('spectroscopic redshift')\n",
    "plt.ylabel('photo z')\n",
    "plt.plot([0, z_max], [0, z_max],color = 'black')\n",
    "plt.xlim([0, z_max])\n",
    "plt.ylim([0, z_max])"
   ]
  },
  {
   "cell_type": "code",
   "execution_count": 308,
   "id": "c59c47be",
   "metadata": {},
   "outputs": [
    {
     "data": {
      "text/plain": [
       "(0.0, 1.0)"
      ]
     },
     "execution_count": 308,
     "metadata": {},
     "output_type": "execute_result"
    },
    {
     "data": {
      "image/png": "[encoded data removed]",
      "text/plain": [
       "<Figure size 432x288 with 1 Axes>"
      ]
     },
     "metadata": {
      "needs_background": "light"
     },
     "output_type": "display_data"
    }
   ],
   "source": [
    "fig, ax = plt.subplots()\n",
    "error_plot = ax.errorbar(y_test[0:100], y_predict_variational_mean[0:100], yerr = y_predict_variational_std[0:100], fmt=\"o\", markersize=1)\n",
    "plt.xlabel('spectroscopic redshift')\n",
    "plt.ylabel('photo z')\n",
    "plt.plot([0, z_max], [0, z_max],color = 'black')\n",
    "plt.xlim([0, z_max])\n",
    "plt.ylim([0, z_max])"
   ]
  },
  {
   "cell_type": "code",
   "execution_count": 302,
   "id": "2540210c",
   "metadata": {},
   "outputs": [
    {
     "name": "stdout",
     "output_type": "stream",
     "text": [
      "0.7306\n"
     ]
    }
   ],
   "source": [
    "overlap_variational = 0\n",
    "overlap_array_variational = []\n",
    "for i in range(0,len(X_test)):\n",
    "    if np.abs(y_test[i]-y_predict_variational_mean[i])<=y_predict_variational_std[i]:\n",
    "        overlap_variational += 1\n",
    "        overlap_array_variational.append(1)\n",
    "    else:\n",
    "        overlap_array_variational.append(0)\n",
    "print(overlap_variational/len(X_test))"
   ]
  },
  {
   "cell_type": "code",
   "execution_count": 303,
   "id": "5fa7d9f4",
   "metadata": {},
   "outputs": [],
   "source": [
    "combined_array_variational = np.transpose(np.vstack((y_test,y_predict_variational_mean,y_predict_variational_std,overlap_array_variational)))"
   ]
  },
  {
   "cell_type": "code",
   "execution_count": 304,
   "id": "600afabf",
   "metadata": {},
   "outputs": [],
   "source": [
    "sorted_combined_array_variational = sorted(combined_array_variational, key=lambda x: x[0])"
   ]
  },
  {
   "cell_type": "code",
   "execution_count": 305,
   "id": "99b576c1",
   "metadata": {},
   "outputs": [],
   "source": [
    "bins_variational = int(z_max*10)\n",
    "splitted_sorted_combined_array_variational = np.array_split(sorted_combined_array_variational,bins)\n",
    "coverage_variational = []\n",
    "for i in range(0,bins_variational):\n",
    "    bins_count_variational = 0\n",
    "    for j in range(0,len(splitted_sorted_combined_array_variational[i])):\n",
    "        if splitted_sorted_combined_array_variational[i][j][3] == 1:\n",
    "            bins_count_variational += 1\n",
    "    coverage_variational.append(bins_count_variational/len(splitted_sorted_combined_array_variational[i])/0.6827)\n",
    "x_array = np.arange(0,z_max,z_max/bins_variational)"
   ]
  },
  {
   "cell_type": "code",
   "execution_count": 306,
   "id": "69cc1605",
   "metadata": {},
   "outputs": [
    {
     "data": {
      "text/plain": [
       "(0.0, 1.5)"
      ]
     },
     "execution_count": 306,
     "metadata": {},
     "output_type": "execute_result"
    },
    {
     "data": {
      "image/png": "[encoded data removed]",
      "text/plain": [
       "<Figure size 432x288 with 1 Axes>"
      ]
     },
     "metadata": {
      "needs_background": "light"
     },
     "output_type": "display_data"
    }
   ],
   "source": [
    "plt.plot(x_array, coverage_variational, c = 'red')\n",
    "plt.xlabel('spectroscopic redshift')\n",
    "plt.ylabel('coverage')\n",
    "plt.ylim([0,1.5]) # 1.5 indicates full coverage"
   ]
  },
  {
   "cell_type": "code",
   "execution_count": 307,
   "id": "6bccb5a9",
   "metadata": {},
   "outputs": [
    {
     "ename": "NameError",
     "evalue": "name 'true' is not defined",
     "output_type": "error",
     "traceback": [
      "\u001b[0;31m---------------------------------------------------------------------------\u001b[0m",
      "\u001b[0;31mNameError\u001b[0m                                 Traceback (most recent call last)",
      "\u001b[0;32m<ipython-input-307-3aa1755b2958>\u001b[0m in \u001b[0;36m<module>\u001b[0;34m\u001b[0m\n\u001b[0;32m----> 1\u001b[0;31m \u001b[0;34m(\u001b[0m\u001b[0mpredicted\u001b[0m \u001b[0;34m-\u001b[0m \u001b[0mtrue\u001b[0m\u001b[0;34m)\u001b[0m\u001b[0;34m/\u001b[0m\u001b[0;34m(\u001b[0m\u001b[0;36m1\u001b[0m \u001b[0;34m+\u001b[0m \u001b[0mtrue\u001b[0m\u001b[0;34m)\u001b[0m\u001b[0;34m\u001b[0m\u001b[0;34m\u001b[0m\u001b[0m\n\u001b[0m",
      "\u001b[0;31mNameError\u001b[0m: name 'true' is not defined"
     ]
    }
   ],
   "source": [
    "(predicted - true)/(1 + true)"
   ]
  }
 ],
 "metadata": {
  "kernelspec": {
   "display_name": "Python 3",
   "language": "python",
   "name": "python3"
  },
  "language_info": {
   "codemirror_mode": {
    "name": "ipython",
    "version": 3
   },
   "file_extension": ".py",
   "mimetype": "text/x-python",
   "name": "python",
   "nbconvert_exporter": "python",
   "pygments_lexer": "ipython3",
   "version": "3.8.10"
  }
 },
 "nbformat": 4,
 "nbformat_minor": 5
}
