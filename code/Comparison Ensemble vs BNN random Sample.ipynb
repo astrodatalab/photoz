{
 "cells": [
  {
   "cell_type": "code",
   "execution_count": 243,
   "id": "5eb1d7d9",
   "metadata": {},
   "outputs": [
    {
     "name": "stdout",
     "output_type": "stream",
     "text": [
      "Num GPUs Available:  1\n"
     ]
    }
   ],
   "source": [
    "import tensorflow as tf\n",
    "import tensorflow_probability as tfp\n",
    "import pandas as pd\n",
    "import random\n",
    "print(\"Num GPUs Available: \", len(tf.config.list_physical_devices('GPU')))\n",
    "from sklearn.metrics import mean_squared_error\n",
    "import matplotlib.pyplot as plt\n",
    "from IPython.display import clear_output\n",
    "\n",
    "import numpy as np\n",
    "from tensorflow import keras\n",
    "from sklearn.model_selection import StratifiedShuffleSplit\n",
    "from sklearn import preprocessing\n",
    "tfd = tfp.distributions\n",
    "\n",
    "import keras\n",
    "from keras.models import Sequential,Input,Model\n",
    "from keras.layers import Dense, Dropout, Flatten"
   ]
  },
  {
   "cell_type": "code",
   "execution_count": 244,
   "id": "177bd8c5",
   "metadata": {},
   "outputs": [
    {
     "name": "stdout",
     "output_type": "stream",
     "text": [
      "1 Physical GPUs, 1 Logical GPUs\n"
     ]
    }
   ],
   "source": [
    "gpus = tf.config.list_physical_devices('GPU')\n",
    "if gpus:\n",
    "  # Restrict TensorFlow to only allocate 1GB of memory on the first GPU\n",
    "  try:\n",
    "    tf.config.experimental.set_virtual_device_configuration(\n",
    "        gpus[0],\n",
    "        [tf.config.experimental.VirtualDeviceConfiguration(memory_limit=5000)])\n",
    "    logical_gpus = tf.config.experimental.list_logical_devices('GPU')\n",
    "    print(len(gpus), \"Physical GPUs,\", len(logical_gpus), \"Logical GPUs\")\n",
    "  except RuntimeError as e:\n",
    "    # Virtual devices must be set before GPUs have been initialized\n",
    "    print(e)"
   ]
  },
  {
   "cell_type": "code",
   "execution_count": 245,
   "id": "481ff0df",
   "metadata": {},
   "outputs": [],
   "source": [
    "photozdata = pd.read_csv('/mnt/data/HSC/HSC_v6/HSC_v6.csv')"
   ]
  },
  {
   "cell_type": "code",
   "execution_count": 246,
   "id": "c77d1d2a",
   "metadata": {},
   "outputs": [],
   "source": [
    "# filter & duplicate drop from bayesian_nn\n",
    "z_max = 2.5\n",
    "filt = (photozdata['specz_redshift'] < z_max)\\\n",
    "& (photozdata['specz_redshift'] > 0.01)\\\n",
    "& (photozdata['specz_redshift_err'] > 0) \\\n",
    "& (photozdata['specz_redshift_err'] < 1)\\\n",
    "&(photozdata[\"specz_redshift_err\"]<0.005*(1+photozdata[\"specz_redshift\"]))\\\n",
    "&(photozdata['g_cmodel_mag'] >0)\\\n",
    "&(photozdata['r_cmodel_mag'] >0)\\\n",
    "&(photozdata['i_cmodel_mag'] >0)\\\n",
    "&(photozdata['z_cmodel_mag'] >0)\\\n",
    "&(photozdata['y_cmodel_mag'] >0)\\\n",
    "&(photozdata['g_cmodel_mag'] < 100)\\\n",
    "&(photozdata['r_cmodel_mag'] < 100)\\\n",
    "&(photozdata['i_cmodel_mag'] < 100)\\\n",
    "&(photozdata['z_cmodel_mag'] < 100)\\\n",
    "&(photozdata['y_cmodel_mag'] < 100)\\\n",
    "&(photozdata['specz_flag_homogeneous'] == True)\n",
    "photozdata.drop_duplicates(subset=['object_id'])\n",
    "photozdata_subset = np.asarray(photozdata[filt])"
   ]
  },
  {
   "cell_type": "code",
   "execution_count": 247,
   "id": "545abf32",
   "metadata": {},
   "outputs": [
    {
     "data": {
      "text/plain": [
       "Index(['object_id', 'specz_redshift_err', 'specz_redshift', 'specz_mag_i',\n",
       "       'specz_name', 'specz_ra', 'specz_dec', 'specz_flag_homogeneous', 'ra',\n",
       "       'dec', 'coord', 'skymap_id', 'g_cmodel_mag', 'r_cmodel_mag',\n",
       "       'i_cmodel_mag', 'z_cmodel_mag', 'y_cmodel_mag', 'g_cmodel_magsigma',\n",
       "       'r_cmodel_magsigma', 'i_cmodel_magsigma', 'z_cmodel_magsigma',\n",
       "       'y_cmodel_magsigma'],\n",
       "      dtype='object')"
      ]
     },
     "execution_count": 247,
     "metadata": {},
     "output_type": "execute_result"
    }
   ],
   "source": [
    "photozdata.columns"
   ]
  },
  {
   "cell_type": "code",
   "execution_count": 248,
   "id": "82729223",
   "metadata": {},
   "outputs": [],
   "source": [
    "random.shuffle(photozdata_subset)\n",
    "# shuffle the data"
   ]
  },
  {
   "cell_type": "code",
   "execution_count": 249,
   "id": "5554ad62",
   "metadata": {},
   "outputs": [],
   "source": [
    "n = len(photozdata_subset)\n",
    "test_size = 500"
   ]
  },
  {
   "cell_type": "code",
   "execution_count": 250,
   "id": "8f99d6bb",
   "metadata": {},
   "outputs": [],
   "source": [
    "X_total = list(photozdata_subset[:,[12,13,14,15,16]])\n",
    "y_total = list(photozdata_subset[:,2])"
   ]
  },
  {
   "cell_type": "code",
   "execution_count": 251,
   "id": "523c6f59",
   "metadata": {},
   "outputs": [],
   "source": [
    "scaler = preprocessing.MinMaxScaler()\n",
    "scaler.fit(X_total)\n",
    "X_total = scaler.transform(X_total)"
   ]
  },
  {
   "cell_type": "code",
   "execution_count": 252,
   "id": "df9c88db",
   "metadata": {},
   "outputs": [],
   "source": [
    "X_test = X_total[n - test_size : n]\n",
    "y_test = y_total[n - test_size : n]"
   ]
  },
  {
   "cell_type": "code",
   "execution_count": 253,
   "id": "5fc384b1",
   "metadata": {},
   "outputs": [],
   "source": [
    "Xy_total = np.transpose(np.vstack((np.transpose(X_total), y_total))).tolist()[0:n-test_size] # y on the last column\n",
    "# Don't even think about touching the test set"
   ]
  },
  {
   "cell_type": "code",
   "execution_count": 254,
   "id": "f196ca3f",
   "metadata": {},
   "outputs": [],
   "source": [
    "Xy_sorted = sorted(Xy_total, key=lambda x: x[5])"
   ]
  },
  {
   "cell_type": "code",
   "execution_count": 255,
   "id": "ef087fd2",
   "metadata": {},
   "outputs": [],
   "source": [
    "strats = 8\n",
    "Xy_strats = []\n",
    "cur = z_max/strats\n",
    "pre = 0\n",
    "for i in range(0,n - test_size):\n",
    "    if Xy_sorted[i][5] >= cur:\n",
    "        Xy_strats.append(Xy_sorted[pre:i])\n",
    "        pre = i\n",
    "        cur += z_max/strats\n",
    "    if i == n - test_size -1:\n",
    "        Xy_strats.append(Xy_sorted[pre:i])"
   ]
  },
  {
   "cell_type": "code",
   "execution_count": 256,
   "id": "6e3a811e",
   "metadata": {},
   "outputs": [],
   "source": [
    "strat_length = []\n",
    "for i in range(0,strats):\n",
    "    random.shuffle(Xy_strats[i])\n",
    "    strat_length.append(len(Xy_strats[i]))"
   ]
  },
  {
   "cell_type": "code",
   "execution_count": 257,
   "id": "a2d5cf99",
   "metadata": {},
   "outputs": [],
   "source": [
    "count = 6 # number of networks, including the BNN"
   ]
  },
  {
   "cell_type": "code",
   "execution_count": 258,
   "id": "b49f9d2b",
   "metadata": {},
   "outputs": [],
   "source": [
    "# split data into 6/7 bins of training sets of 40000 and 1 bin of testing set of 6401\n",
    "X = []\n",
    "y = []\n",
    "\n",
    "sample_size = np.min(strat_length) # sampling training data from each strat\n",
    "bin_size = 8*sample_size # total amount of training data for each bin\n",
    "\n",
    "for i in range(0, count):\n",
    "    sampled = np.asarray(random.sample(Xy_strats[0], sample_size)).astype('float32')\n",
    "    X_bin = sampled[:,[0,1,2,3,4]]\n",
    "    y_bin = sampled[:,5]\n",
    "    for j in range(1, strats):\n",
    "        sampled = np.asarray(random.sample(Xy_strats[j], sample_size)).astype('float32')\n",
    "        X_bin = np.concatenate((X_bin, sampled[:,[0,1,2,3,4]]), axis=0)\n",
    "        y_bin =  np.concatenate((y_bin, sampled[:,5]), axis=0)\n",
    "    X.append(X_bin)\n",
    "    y.append(y_bin)\n",
    "\n",
    "# X_test = np.asarray(X_total[3*bin_size : 3*bin_size + 5000]).astype('float32')\n",
    "# y_test = np.asarray(y_total[3*bin_size : 3*bin_size + 5000]).astype('float32')\n",
    "\n",
    "# X_pre = np.asarray(X_total[0 : pre]).astype('float32')\n",
    "# y_pre = np.asarray(y_total[0 : pre]).astype('float32')"
   ]
  },
  {
   "cell_type": "code",
   "execution_count": 167,
   "id": "34137523",
   "metadata": {},
   "outputs": [
    {
     "data": {
      "text/plain": [
       "655"
      ]
     },
     "execution_count": 167,
     "metadata": {},
     "output_type": "execute_result"
    }
   ],
   "source": [
    "len(X[0])"
   ]
  },
  {
   "cell_type": "code",
   "execution_count": 259,
   "id": "162070af",
   "metadata": {},
   "outputs": [],
   "source": [
    "models = []\n",
    "\n",
    "for i in range(1,count):\n",
    "    input_ = tf.keras.layers.Input(shape=X[0].shape[1:])\n",
    "    hidden1 = tf.keras.layers.Dense(200, activation=\"tanh\")(input_)\n",
    "    hidden2 = tf.keras.layers.Dense(200, activation=\"tanh\")(hidden1)\n",
    "    hidden3 = tf.keras.layers.Dense(200, activation=\"relu\")(hidden2)\n",
    "    hidden4 = tf.keras.layers.Dense(200, activation=\"relu\")(hidden3)\n",
    "    # hidden5 = tf.keras.layers.Dense(200, activation=\"relu\")(hidden4)\n",
    "    # hidden6 = tf.keras.layers.Dense(200, activation=\"relu\")(hidden5)\n",
    "    concat = tf.keras.layers.Concatenate()([input_, hidden4])\n",
    "    output = tf.keras.layers.Dense(1)(concat)\n",
    "    model = tf.keras.Model(inputs=[input_], outputs=[output])\n",
    "    model.compile(optimizer='Adam', loss=\"mse\",metrics=[tf.keras.metrics.MeanAbsoluteError()])\n",
    "    models.append(model)"
   ]
  },
  {
   "cell_type": "markdown",
   "id": "3f3f5df5",
   "metadata": {},
   "source": [
    "input_ = tf.keras.layers.Input(shape=X[0].shape[1:])\n",
    "hidden1 = tf.keras.layers.Dense(200, activation=\"relu\")(input_)\n",
    "hidden2 = tf.keras.layers.Dense(200, activation=\"relu\")(hidden1)\n",
    "hidden3 = tf.keras.layers.Dense(200, activation=\"relu\")(hidden2)\n",
    "hidden4 = tf.keras.layers.Dense(200, activation=\"relu\")(hidden3)\n",
    "hidden5 = tf.keras.layers.Dense(200, activation=\"relu\")(hidden4)\n",
    "hidden6 = tf.keras.layers.Dense(200, activation=\"relu\")(hidden5)\n",
    "concat = tf.keras.layers.Concatenate()([input_, hidden6])\n",
    "output = tf.keras.layers.Dense(1)(concat)\n",
    "model_pre = tf.keras.Model(inputs=[input_], outputs=[output])\n",
    "model_pre.compile(optimizer='Adam', loss='mse', metrics=[tf.keras.metrics.MeanAbsoluteError()])"
   ]
  },
  {
   "cell_type": "markdown",
   "id": "c05b44da",
   "metadata": {},
   "source": [
    "model_pre.fit(X_pre,y_pre,epochs=50,shuffle = True,verbose=1)"
   ]
  },
  {
   "cell_type": "code",
   "execution_count": 260,
   "id": "b89c8b1a",
   "metadata": {},
   "outputs": [
    {
     "name": "stdout",
     "output_type": "stream",
     "text": [
      "Epoch 1/25\n",
      "930/930 [==============================] - 2s 2ms/step - loss: 0.1954 - mean_absolute_error: 0.3235\n",
      "Epoch 2/25\n",
      "930/930 [==============================] - 2s 2ms/step - loss: 0.1272 - mean_absolute_error: 0.2383\n",
      "Epoch 3/25\n",
      "930/930 [==============================] - 2s 2ms/step - loss: 0.1191 - mean_absolute_error: 0.2251\n",
      "Epoch 4/25\n",
      "930/930 [==============================] - 2s 2ms/step - loss: 0.1188 - mean_absolute_error: 0.2240\n",
      "Epoch 5/25\n",
      "930/930 [==============================] - 2s 2ms/step - loss: 0.1186 - mean_absolute_error: 0.2242\n",
      "Epoch 6/25\n",
      "930/930 [==============================] - 2s 2ms/step - loss: 0.1148 - mean_absolute_error: 0.2183\n",
      "Epoch 7/25\n",
      "930/930 [==============================] - 2s 2ms/step - loss: 0.1126 - mean_absolute_error: 0.2143\n",
      "Epoch 8/25\n",
      "930/930 [==============================] - 2s 2ms/step - loss: 0.1107 - mean_absolute_error: 0.2106\n",
      "Epoch 9/25\n",
      "930/930 [==============================] - 2s 2ms/step - loss: 0.1088 - mean_absolute_error: 0.2080\n",
      "Epoch 10/25\n",
      "930/930 [==============================] - 2s 2ms/step - loss: 0.1100 - mean_absolute_error: 0.2098\n",
      "Epoch 11/25\n",
      "930/930 [==============================] - 2s 2ms/step - loss: 0.1069 - mean_absolute_error: 0.2051\n",
      "Epoch 12/25\n",
      "930/930 [==============================] - 2s 2ms/step - loss: 0.1066 - mean_absolute_error: 0.2036\n",
      "Epoch 13/25\n",
      "930/930 [==============================] - 2s 2ms/step - loss: 0.1087 - mean_absolute_error: 0.2073\n",
      "Epoch 14/25\n",
      "930/930 [==============================] - 2s 2ms/step - loss: 0.1036 - mean_absolute_error: 0.1991\n",
      "Epoch 15/25\n",
      "930/930 [==============================] - 2s 2ms/step - loss: 0.1049 - mean_absolute_error: 0.2013\n",
      "Epoch 16/25\n",
      "930/930 [==============================] - 2s 2ms/step - loss: 0.1038 - mean_absolute_error: 0.1999\n",
      "Epoch 17/25\n",
      "930/930 [==============================] - 2s 2ms/step - loss: 0.1038 - mean_absolute_error: 0.1998\n",
      "Epoch 18/25\n",
      "930/930 [==============================] - 2s 2ms/step - loss: 0.1033 - mean_absolute_error: 0.1989\n",
      "Epoch 19/25\n",
      "930/930 [==============================] - 2s 2ms/step - loss: 0.1026 - mean_absolute_error: 0.1990\n",
      "Epoch 20/25\n",
      "930/930 [==============================] - 2s 2ms/step - loss: 0.1024 - mean_absolute_error: 0.1978\n",
      "Epoch 21/25\n",
      "930/930 [==============================] - 2s 2ms/step - loss: 0.1006 - mean_absolute_error: 0.1942\n",
      "Epoch 22/25\n",
      "930/930 [==============================] - 2s 2ms/step - loss: 0.1043 - mean_absolute_error: 0.1986\n",
      "Epoch 23/25\n",
      "930/930 [==============================] - 2s 2ms/step - loss: 0.1011 - mean_absolute_error: 0.1955\n",
      "Epoch 24/25\n",
      "930/930 [==============================] - 2s 2ms/step - loss: 0.0993 - mean_absolute_error: 0.1932\n",
      "Epoch 25/25\n",
      "930/930 [==============================] - 2s 2ms/step - loss: 0.0992 - mean_absolute_error: 0.1930\n",
      "Epoch 1/25\n",
      "930/930 [==============================] - 2s 2ms/step - loss: 0.2038 - mean_absolute_error: 0.3287\n",
      "Epoch 2/25\n",
      "930/930 [==============================] - 1s 2ms/step - loss: 0.1285 - mean_absolute_error: 0.2392\n",
      "Epoch 3/25\n",
      "930/930 [==============================] - 2s 2ms/step - loss: 0.1226 - mean_absolute_error: 0.2301\n",
      "Epoch 4/25\n",
      "930/930 [==============================] - 2s 2ms/step - loss: 0.1189 - mean_absolute_error: 0.2249\n",
      "Epoch 5/25\n",
      "930/930 [==============================] - 2s 2ms/step - loss: 0.1156 - mean_absolute_error: 0.2200\n",
      "Epoch 6/25\n",
      "930/930 [==============================] - 2s 2ms/step - loss: 0.1141 - mean_absolute_error: 0.2157\n",
      "Epoch 7/25\n",
      "930/930 [==============================] - 2s 2ms/step - loss: 0.1169 - mean_absolute_error: 0.2196\n",
      "Epoch 8/25\n",
      "930/930 [==============================] - 2s 2ms/step - loss: 0.1105 - mean_absolute_error: 0.2116\n",
      "Epoch 9/25\n",
      "930/930 [==============================] - 2s 2ms/step - loss: 0.1101 - mean_absolute_error: 0.2093\n",
      "Epoch 10/25\n",
      "930/930 [==============================] - 2s 2ms/step - loss: 0.1097 - mean_absolute_error: 0.2089\n",
      "Epoch 11/25\n",
      "930/930 [==============================] - 2s 2ms/step - loss: 0.1100 - mean_absolute_error: 0.2092\n",
      "Epoch 12/25\n",
      "930/930 [==============================] - 2s 2ms/step - loss: 0.1088 - mean_absolute_error: 0.2071A: 1s - loss: 0.1150 \n",
      "Epoch 13/25\n",
      "930/930 [==============================] - 2s 2ms/step - loss: 0.1089 - mean_absolute_error: 0.2072\n",
      "Epoch 14/25\n",
      "930/930 [==============================] - 2s 2ms/step - loss: 0.1057 - mean_absolute_error: 0.2041\n",
      "Epoch 15/25\n",
      "930/930 [==============================] - 2s 2ms/step - loss: 0.1075 - mean_absolute_error: 0.2042\n",
      "Epoch 16/25\n",
      "930/930 [==============================] - 2s 2ms/step - loss: 0.1051 - mean_absolute_error: 0.2019\n",
      "Epoch 17/25\n",
      "930/930 [==============================] - 2s 2ms/step - loss: 0.1092 - mean_absolute_error: 0.2068\n",
      "Epoch 18/25\n",
      "930/930 [==============================] - 2s 2ms/step - loss: 0.1029 - mean_absolute_error: 0.1984\n",
      "Epoch 19/25\n",
      "930/930 [==============================] - 2s 2ms/step - loss: 0.1042 - mean_absolute_error: 0.1994\n",
      "Epoch 20/25\n",
      "930/930 [==============================] - 2s 2ms/step - loss: 0.1040 - mean_absolute_error: 0.2003\n",
      "Epoch 21/25\n",
      "930/930 [==============================] - 2s 2ms/step - loss: 0.1021 - mean_absolute_error: 0.1965\n",
      "Epoch 22/25\n",
      "930/930 [==============================] - 2s 2ms/step - loss: 0.1012 - mean_absolute_error: 0.1958\n",
      "Epoch 23/25\n",
      "930/930 [==============================] - 2s 2ms/step - loss: 0.1051 - mean_absolute_error: 0.2006\n",
      "Epoch 24/25\n",
      "930/930 [==============================] - 2s 2ms/step - loss: 0.1037 - mean_absolute_error: 0.1991\n",
      "Epoch 25/25\n",
      "930/930 [==============================] - 2s 2ms/step - loss: 0.1041 - mean_absolute_error: 0.1998\n",
      "Epoch 1/25\n",
      "930/930 [==============================] - 2s 2ms/step - loss: 0.2071 - mean_absolute_error: 0.3334\n",
      "Epoch 2/25\n",
      "930/930 [==============================] - 1s 2ms/step - loss: 0.1383 - mean_absolute_error: 0.2525\n",
      "Epoch 3/25\n",
      "930/930 [==============================] - 1s 2ms/step - loss: 0.1249 - mean_absolute_error: 0.2341\n",
      "Epoch 4/25\n",
      "930/930 [==============================] - 1s 2ms/step - loss: 0.1246 - mean_absolute_error: 0.2320\n",
      "Epoch 5/25\n",
      "930/930 [==============================] - 1s 2ms/step - loss: 0.1234 - mean_absolute_error: 0.2274\n",
      "Epoch 6/25\n",
      "930/930 [==============================] - 2s 2ms/step - loss: 0.1164 - mean_absolute_error: 0.2185\n",
      "Epoch 7/25\n",
      "930/930 [==============================] - 2s 2ms/step - loss: 0.1164 - mean_absolute_error: 0.2177\n",
      "Epoch 8/25\n",
      "930/930 [==============================] - 2s 2ms/step - loss: 0.1169 - mean_absolute_error: 0.2178\n",
      "Epoch 9/25\n",
      "930/930 [==============================] - 2s 2ms/step - loss: 0.1154 - mean_absolute_error: 0.2151\n",
      "Epoch 10/25\n",
      "930/930 [==============================] - 2s 2ms/step - loss: 0.1133 - mean_absolute_error: 0.2122\n",
      "Epoch 11/25\n",
      "930/930 [==============================] - 1s 2ms/step - loss: 0.1135 - mean_absolute_error: 0.2119\n",
      "Epoch 12/25\n",
      "930/930 [==============================] - 1s 2ms/step - loss: 0.1123 - mean_absolute_error: 0.2107\n",
      "Epoch 13/25\n",
      "930/930 [==============================] - 2s 2ms/step - loss: 0.1129 - mean_absolute_error: 0.2115\n",
      "Epoch 14/25\n",
      "930/930 [==============================] - 1s 2ms/step - loss: 0.1115 - mean_absolute_error: 0.2098\n",
      "Epoch 15/25\n",
      "930/930 [==============================] - 1s 2ms/step - loss: 0.1103 - mean_absolute_error: 0.2082\n",
      "Epoch 16/25\n",
      "930/930 [==============================] - 1s 2ms/step - loss: 0.1098 - mean_absolute_error: 0.2059\n",
      "Epoch 17/25\n",
      "930/930 [==============================] - 2s 2ms/step - loss: 0.1088 - mean_absolute_error: 0.2051\n",
      "Epoch 18/25\n",
      "930/930 [==============================] - 1s 2ms/step - loss: 0.1074 - mean_absolute_error: 0.2028\n",
      "Epoch 19/25\n",
      "930/930 [==============================] - 1s 2ms/step - loss: 0.1070 - mean_absolute_error: 0.2026\n",
      "Epoch 20/25\n",
      "930/930 [==============================] - 1s 2ms/step - loss: 0.1074 - mean_absolute_error: 0.2033\n",
      "Epoch 21/25\n",
      "930/930 [==============================] - 2s 2ms/step - loss: 0.1062 - mean_absolute_error: 0.1995\n",
      "Epoch 22/25\n",
      "930/930 [==============================] - 1s 2ms/step - loss: 0.1054 - mean_absolute_error: 0.1988\n",
      "Epoch 23/25\n",
      "930/930 [==============================] - 1s 2ms/step - loss: 0.1049 - mean_absolute_error: 0.1985\n",
      "Epoch 24/25\n"
     ]
    },
    {
     "name": "stdout",
     "output_type": "stream",
     "text": [
      "930/930 [==============================] - 2s 2ms/step - loss: 0.1068 - mean_absolute_error: 0.2020\n",
      "Epoch 25/25\n",
      "930/930 [==============================] - 1s 2ms/step - loss: 0.1023 - mean_absolute_error: 0.1947\n",
      "Epoch 1/25\n",
      "930/930 [==============================] - 2s 2ms/step - loss: 0.2138 - mean_absolute_error: 0.3393\n",
      "Epoch 2/25\n",
      "930/930 [==============================] - 1s 2ms/step - loss: 0.1382 - mean_absolute_error: 0.2504\n",
      "Epoch 3/25\n",
      "930/930 [==============================] - 1s 2ms/step - loss: 0.1244 - mean_absolute_error: 0.2294\n",
      "Epoch 4/25\n",
      "930/930 [==============================] - 1s 2ms/step - loss: 0.1239 - mean_absolute_error: 0.2281\n",
      "Epoch 5/25\n",
      "930/930 [==============================] - 1s 2ms/step - loss: 0.1198 - mean_absolute_error: 0.2222\n",
      "Epoch 6/25\n",
      "930/930 [==============================] - 1s 2ms/step - loss: 0.1263 - mean_absolute_error: 0.2308\n",
      "Epoch 7/25\n",
      "930/930 [==============================] - 2s 2ms/step - loss: 0.1197 - mean_absolute_error: 0.2199\n",
      "Epoch 8/25\n",
      "930/930 [==============================] - 1s 2ms/step - loss: 0.1201 - mean_absolute_error: 0.2201\n",
      "Epoch 9/25\n",
      "930/930 [==============================] - 1s 2ms/step - loss: 0.1172 - mean_absolute_error: 0.2152\n",
      "Epoch 10/25\n",
      "930/930 [==============================] - 1s 2ms/step - loss: 0.1155 - mean_absolute_error: 0.2131\n",
      "Epoch 11/25\n",
      "930/930 [==============================] - 1s 2ms/step - loss: 0.1146 - mean_absolute_error: 0.2122\n",
      "Epoch 12/25\n",
      "930/930 [==============================] - 1s 2ms/step - loss: 0.1128 - mean_absolute_error: 0.2090\n",
      "Epoch 13/25\n",
      "930/930 [==============================] - 2s 2ms/step - loss: 0.1125 - mean_absolute_error: 0.2083\n",
      "Epoch 14/25\n",
      "930/930 [==============================] - 2s 2ms/step - loss: 0.1133 - mean_absolute_error: 0.2106\n",
      "Epoch 15/25\n",
      "930/930 [==============================] - 1s 2ms/step - loss: 0.1114 - mean_absolute_error: 0.2078\n",
      "Epoch 16/25\n",
      "930/930 [==============================] - 2s 2ms/step - loss: 0.1112 - mean_absolute_error: 0.2071\n",
      "Epoch 17/25\n",
      "930/930 [==============================] - 1s 2ms/step - loss: 0.1105 - mean_absolute_error: 0.2069\n",
      "Epoch 18/25\n",
      "930/930 [==============================] - 1s 2ms/step - loss: 0.1099 - mean_absolute_error: 0.2050\n",
      "Epoch 19/25\n",
      "930/930 [==============================] - 1s 2ms/step - loss: 0.1097 - mean_absolute_error: 0.2059\n",
      "Epoch 20/25\n",
      "930/930 [==============================] - 1s 2ms/step - loss: 0.1089 - mean_absolute_error: 0.2039\n",
      "Epoch 21/25\n",
      "930/930 [==============================] - 1s 2ms/step - loss: 0.1085 - mean_absolute_error: 0.2021\n",
      "Epoch 22/25\n",
      "930/930 [==============================] - 1s 2ms/step - loss: 0.1068 - mean_absolute_error: 0.2009\n",
      "Epoch 23/25\n",
      "930/930 [==============================] - 2s 2ms/step - loss: 0.1077 - mean_absolute_error: 0.2020\n",
      "Epoch 24/25\n",
      "930/930 [==============================] - 1s 2ms/step - loss: 0.1068 - mean_absolute_error: 0.1992\n",
      "Epoch 25/25\n",
      "930/930 [==============================] - 1s 2ms/step - loss: 0.1040 - mean_absolute_error: 0.1951\n",
      "Epoch 1/25\n",
      "930/930 [==============================] - 2s 2ms/step - loss: 0.2185 - mean_absolute_error: 0.3443\n",
      "Epoch 2/25\n",
      "930/930 [==============================] - 2s 2ms/step - loss: 0.1359 - mean_absolute_error: 0.2496\n",
      "Epoch 3/25\n",
      "930/930 [==============================] - 2s 2ms/step - loss: 0.1285 - mean_absolute_error: 0.2364\n",
      "Epoch 4/25\n",
      "930/930 [==============================] - 2s 2ms/step - loss: 0.1242 - mean_absolute_error: 0.2301\n",
      "Epoch 5/25\n",
      "930/930 [==============================] - 2s 2ms/step - loss: 0.1230 - mean_absolute_error: 0.2268\n",
      "Epoch 6/25\n",
      "930/930 [==============================] - 2s 2ms/step - loss: 0.1228 - mean_absolute_error: 0.2270\n",
      "Epoch 7/25\n",
      "930/930 [==============================] - 2s 2ms/step - loss: 0.1223 - mean_absolute_error: 0.2262\n",
      "Epoch 8/25\n",
      "930/930 [==============================] - 2s 2ms/step - loss: 0.1151 - mean_absolute_error: 0.2168\n",
      "Epoch 9/25\n",
      "930/930 [==============================] - 2s 2ms/step - loss: 0.1150 - mean_absolute_error: 0.2147\n",
      "Epoch 10/25\n",
      "930/930 [==============================] - 2s 2ms/step - loss: 0.1156 - mean_absolute_error: 0.2166\n",
      "Epoch 11/25\n",
      "930/930 [==============================] - 2s 2ms/step - loss: 0.1151 - mean_absolute_error: 0.2151\n",
      "Epoch 12/25\n",
      "930/930 [==============================] - 2s 2ms/step - loss: 0.1139 - mean_absolute_error: 0.2122\n",
      "Epoch 13/25\n",
      "930/930 [==============================] - 2s 2ms/step - loss: 0.1124 - mean_absolute_error: 0.2104\n",
      "Epoch 14/25\n",
      "930/930 [==============================] - 2s 2ms/step - loss: 0.1119 - mean_absolute_error: 0.2088\n",
      "Epoch 15/25\n",
      "930/930 [==============================] - 2s 2ms/step - loss: 0.1092 - mean_absolute_error: 0.2058\n",
      "Epoch 16/25\n",
      "930/930 [==============================] - 2s 2ms/step - loss: 0.1085 - mean_absolute_error: 0.2048\n",
      "Epoch 17/25\n",
      "930/930 [==============================] - 2s 2ms/step - loss: 0.1093 - mean_absolute_error: 0.2058\n",
      "Epoch 18/25\n",
      "930/930 [==============================] - 2s 2ms/step - loss: 0.1071 - mean_absolute_error: 0.2024\n",
      "Epoch 19/25\n",
      "930/930 [==============================] - 1s 2ms/step - loss: 0.1077 - mean_absolute_error: 0.2027\n",
      "Epoch 20/25\n",
      "930/930 [==============================] - 2s 2ms/step - loss: 0.1065 - mean_absolute_error: 0.2014\n",
      "Epoch 21/25\n",
      "930/930 [==============================] - 2s 2ms/step - loss: 0.1089 - mean_absolute_error: 0.2032\n",
      "Epoch 22/25\n",
      "930/930 [==============================] - 2s 2ms/step - loss: 0.1081 - mean_absolute_error: 0.2038\n",
      "Epoch 23/25\n",
      "930/930 [==============================] - 2s 2ms/step - loss: 0.1091 - mean_absolute_error: 0.2054\n",
      "Epoch 24/25\n",
      "930/930 [==============================] - 2s 2ms/step - loss: 0.1041 - mean_absolute_error: 0.1963\n",
      "Epoch 25/25\n",
      "930/930 [==============================] - 1s 2ms/step - loss: 0.1052 - mean_absolute_error: 0.1997\n"
     ]
    }
   ],
   "source": [
    "for i in range(0,count - 1):\n",
    "    models[i].fit(X[i],y[i],epochs=25,shuffle = True,verbose=1)"
   ]
  },
  {
   "cell_type": "markdown",
   "id": "4443bf6e",
   "metadata": {},
   "source": [
    "y_predict_pre = []\n",
    "for i in range(0,len(X_test)):\n",
    "        predicted = model_pre.predict(np.array([X_test[i]]))\n",
    "        y_predict_pre.append(float(predicted))"
   ]
  },
  {
   "cell_type": "code",
   "execution_count": 261,
   "id": "0dc5e850",
   "metadata": {},
   "outputs": [
    {
     "name": "stdout",
     "output_type": "stream",
     "text": [
      "5 500\n"
     ]
    }
   ],
   "source": [
    "y_predict = []\n",
    "\n",
    "for i in range(0,count - 1):\n",
    "    y_predict_single = []\n",
    "    for j in range(0,len(X_test)):\n",
    "        clear_output(wait=True)\n",
    "        print(str(i + 1) + ' ' + str(j + 1))\n",
    "        predicted = models[i].predict(np.array([X_test[j]]))\n",
    "        y_predict_single.append(float(predicted))\n",
    "    y_predict.append(y_predict_single)\n",
    "\n",
    "clear_output(wait=True)\n",
    "y_predict = np.transpose(y_predict)"
   ]
  },
  {
   "cell_type": "code",
   "execution_count": 262,
   "id": "f4708c1e",
   "metadata": {},
   "outputs": [],
   "source": [
    "mean_array = []\n",
    "std_array = []\n",
    "for i in range(0,len(X_test)):\n",
    "    mean = np.mean(y_predict[i])\n",
    "    std = np.std(y_predict[i])\n",
    "    mean_array.append(mean)\n",
    "    std_array.append(std)"
   ]
  },
  {
   "cell_type": "code",
   "execution_count": 263,
   "id": "972dba28",
   "metadata": {},
   "outputs": [],
   "source": [
    "from scipy.stats import gaussian_kde\n",
    "xy = np.vstack([y_test,mean_array])\n",
    "z = gaussian_kde(xy)(xy)"
   ]
  },
  {
   "cell_type": "markdown",
   "id": "5e3081df",
   "metadata": {},
   "source": [
    "xy_pre = np.vstack([y_test,y_predict_pre])\n",
    "z_pre = gaussian_kde(xy_pre)(xy_pre)"
   ]
  },
  {
   "cell_type": "markdown",
   "id": "b6635a7d",
   "metadata": {},
   "source": [
    "fig, ax = plt.subplots()\n",
    "scatter_plot = ax.scatter(y_test, y_predict_pre, c = z_pre, s = 1, edgecolor = None)\n",
    "plt.colorbar(scatter_plot)\n",
    "plt.xlabel('spectroscopic redshift')\n",
    "plt.ylabel('photo z')\n",
    "plt.plot([0, 1], [0, 1],color = 'black')"
   ]
  },
  {
   "cell_type": "code",
   "execution_count": 266,
   "id": "81f8c111",
   "metadata": {},
   "outputs": [
    {
     "name": "stdout",
     "output_type": "stream",
     "text": [
      "0.3\n"
     ]
    }
   ],
   "source": [
    "overlap = 0\n",
    "overlap_array = []\n",
    "for i in range(0,len(X_test)):\n",
    "    if np.abs(y_test[i]-mean_array[i])<=std_array[i]:\n",
    "        overlap += 1\n",
    "        overlap_array.append(1)\n",
    "    else:\n",
    "        overlap_array.append(0)\n",
    "print(overlap/len(X_test))"
   ]
  },
  {
   "cell_type": "code",
   "execution_count": 267,
   "id": "445168a2",
   "metadata": {},
   "outputs": [],
   "source": [
    "combined_array = np.transpose(np.vstack((y_test,mean_array,std_array,overlap_array)))"
   ]
  },
  {
   "cell_type": "code",
   "execution_count": 268,
   "id": "889581b0",
   "metadata": {},
   "outputs": [],
   "source": [
    "sorted_combined_array = sorted(combined_array, key=lambda x: x[0])"
   ]
  },
  {
   "cell_type": "code",
   "execution_count": 349,
   "id": "a7e306b9",
   "metadata": {},
   "outputs": [],
   "source": [
    "bins = int(z_max*10)\n",
    "splitted_sorted_combined_array = np.array_split(sorted_combined_array,bins)\n",
    "coverage = []\n",
    "for i in range(0,bins):\n",
    "    bins_count = 0\n",
    "    for j in range(0,len(splitted_sorted_combined_array[i])):\n",
    "        if splitted_sorted_combined_array[i][j][3] == 1:\n",
    "            bins_count += 1\n",
    "    coverage.append(bins_count/len(splitted_sorted_combined_array[i])/0.6827)\n",
    "x_array = np.arange(0,z_max,z_max/bins)"
   ]
  },
  {
   "cell_type": "code",
   "execution_count": 271,
   "id": "4c6eb49a",
   "metadata": {},
   "outputs": [],
   "source": [
    "# from Evan's code, didn't completely understand this part\n",
    "def posterior_mean_field(kernel_size: int, bias_size: int, dtype: any) -> tf.keras.Model:\n",
    "    \"\"\"Specify the surrogate posterior over `keras.layers.Dense` `kernel` and `bias`.\"\"\"\n",
    "    n = kernel_size + bias_size\n",
    "    c = np.log(np.expm1(1.))\n",
    "\n",
    "    return tf.keras.Sequential([\n",
    "        tfp.layers.VariableLayer(2 * n, dtype=dtype, initializer=lambda shape, dtype: random_gaussian_initializer(shape, dtype), trainable=True),\n",
    "        tfp.layers.DistributionLambda(lambda t: tfd.Independent(\n",
    "            tfd.Normal(loc=t[..., :n],\n",
    "                       scale= + 10e-4*tf.nn.softplus(c + t[..., n:])),\n",
    "            reinterpreted_batch_ndims=1)),\n",
    "    ])\n",
    "\n",
    "def prior_trainable(kernel_size: int, bias_size: int, dtype: any) -> tf.keras.Model:\n",
    "    \"\"\"Specify the prior over `keras.layers.Dense` `kernel` and `bias`.\"\"\"\n",
    "    n = kernel_size + bias_size\n",
    "\n",
    "    return tf.keras.Sequential([\n",
    "        tfp.layers.VariableLayer(n, dtype=dtype),  # Returns a trainable variable of shape n, regardless of input\n",
    "        tfp.layers.DistributionLambda(lambda t: tfd.Independent(\n",
    "            tfd.Normal(loc=t, scale=1),\n",
    "            reinterpreted_batch_ndims=1)),\n",
    "    ])\n",
    "\n",
    "def random_gaussian_initializer(shape, dtype):\n",
    "    n = int(shape / 2)\n",
    "    loc_norm = tf.random_normal_initializer(mean=0., stddev=0.1)\n",
    "    loc = tf.Variable(\n",
    "        initial_value=loc_norm(shape=(n,), dtype=dtype)\n",
    "    )\n",
    "    scale_norm = tf.random_normal_initializer(mean=-3., stddev=0.1)\n",
    "    scale = tf.Variable(\n",
    "        initial_value=scale_norm(shape=(n,), dtype=dtype)\n",
    "    )\n",
    "    return tf.concat([loc, scale], 0)\n",
    "\n",
    "def negative_loglikelihood(targets, estimated_distribution):\n",
    "    return -estimated_distribution.log_prob(targets)"
   ]
  },
  {
   "cell_type": "code",
   "execution_count": 285,
   "id": "781138dc",
   "metadata": {},
   "outputs": [],
   "source": [
    "input_variational = tf.keras.layers.Input(shape=X[count - 1].shape[1:])\n",
    "hidden1_variational = tfp.layers.DenseVariational(200, activation='tanh', input_shape=(5,),\n",
    "                                      make_posterior_fn=posterior_mean_field,\n",
    "                                      make_prior_fn=prior_trainable,\n",
    "                                      kl_weight=1 / len(y[count - 1]))(input_variational)\n",
    "hidden2_variational = tfp.layers.DenseVariational(200, activation='tanh', input_shape=(5,),\n",
    "                                      make_posterior_fn=posterior_mean_field,\n",
    "                                      make_prior_fn=prior_trainable,\n",
    "                                      kl_weight=1 / len(y[count - 1]))(hidden1_variational)\n",
    "hidden3_variational = tfp.layers.DenseVariational(200, activation='relu', input_shape=(5,),\n",
    "                                      make_posterior_fn=posterior_mean_field,\n",
    "                                      make_prior_fn=prior_trainable,\n",
    "                                      kl_weight=1 / len(y[count - 1]))(hidden2_variational)\n",
    "hidden4_variational = tfp.layers.DenseVariational(200, activation='relu', input_shape=(5,),\n",
    "                                      make_posterior_fn=posterior_mean_field,\n",
    "                                      make_prior_fn=prior_trainable,\n",
    "                                      kl_weight=1 / len(y[count - 1]))(hidden3_variational)   \n",
    "\n",
    "concat_variational = tf.keras.layers.Concatenate()([input_variational, hidden4_variational])\n",
    "\n",
    "distribution_params_variational = tf.keras.layers.Dense(units=2)(concat_variational)\n",
    "\n",
    "output_variational = tfp.layers.IndependentNormal(1)(distribution_params_variational)\n",
    "\n",
    "model_variational = tf.keras.Model(inputs=[input_variational], outputs=[output_variational])\n",
    "\n",
    "model_variational.compile(optimizer='adam', loss=negative_loglikelihood,metrics=[keras.metrics.RootMeanSquaredError()])"
   ]
  },
  {
   "cell_type": "code",
   "execution_count": 286,
   "id": "218e7aec",
   "metadata": {},
   "outputs": [
    {
     "name": "stdout",
     "output_type": "stream",
     "text": [
      "Epoch 1/35\n",
      "930/930 [==============================] - 4s 3ms/step - loss: 35.2052 - root_mean_squared_error: 0.7697\n",
      "Epoch 2/35\n",
      "930/930 [==============================] - 3s 3ms/step - loss: 31.7555 - root_mean_squared_error: 0.6420\n",
      "Epoch 3/35\n",
      "930/930 [==============================] - 3s 3ms/step - loss: 28.7812 - root_mean_squared_error: 0.6157\n",
      "Epoch 4/35\n",
      "930/930 [==============================] - 3s 3ms/step - loss: 26.4162 - root_mean_squared_error: 0.5955\n",
      "Epoch 5/35\n",
      "930/930 [==============================] - 3s 3ms/step - loss: 24.6314 - root_mean_squared_error: 0.5807\n",
      "Epoch 6/35\n",
      "930/930 [==============================] - 3s 3ms/step - loss: 23.2663 - root_mean_squared_error: 0.5696\n",
      "Epoch 7/35\n",
      "930/930 [==============================] - 3s 3ms/step - loss: 22.2398 - root_mean_squared_error: 0.5599\n",
      "Epoch 8/35\n",
      "930/930 [==============================] - 3s 3ms/step - loss: 21.3629 - root_mean_squared_error: 0.5537\n",
      "Epoch 9/35\n",
      "930/930 [==============================] - 3s 3ms/step - loss: 20.5874 - root_mean_squared_error: 0.5462\n",
      "Epoch 10/35\n",
      "930/930 [==============================] - 3s 3ms/step - loss: 19.9215 - root_mean_squared_error: 0.5399\n",
      "Epoch 11/35\n",
      "930/930 [==============================] - 3s 3ms/step - loss: 19.5980 - root_mean_squared_error: 0.5374\n",
      "Epoch 12/35\n",
      "930/930 [==============================] - 3s 3ms/step - loss: 19.5194 - root_mean_squared_error: 0.5523\n",
      "Epoch 13/35\n",
      "930/930 [==============================] - 3s 3ms/step - loss: 18.8346 - root_mean_squared_error: 0.5567\n",
      "Epoch 14/35\n",
      "930/930 [==============================] - 3s 3ms/step - loss: 18.6073 - root_mean_squared_error: 0.5552\n",
      "Epoch 15/35\n",
      "930/930 [==============================] - 3s 3ms/step - loss: 18.1611 - root_mean_squared_error: 0.5547\n",
      "Epoch 16/35\n",
      "930/930 [==============================] - 3s 3ms/step - loss: 17.8076 - root_mean_squared_error: 0.5526\n",
      "Epoch 17/35\n",
      "930/930 [==============================] - 3s 3ms/step - loss: 17.6026 - root_mean_squared_error: 0.5510\n",
      "Epoch 18/35\n",
      "930/930 [==============================] - 3s 3ms/step - loss: 17.4796 - root_mean_squared_error: 0.5514\n",
      "Epoch 19/35\n",
      "930/930 [==============================] - 3s 3ms/step - loss: 17.1028 - root_mean_squared_error: 0.5511\n",
      "Epoch 20/35\n",
      "930/930 [==============================] - 3s 3ms/step - loss: 16.9026 - root_mean_squared_error: 0.5504\n",
      "Epoch 21/35\n",
      "930/930 [==============================] - 3s 3ms/step - loss: 16.5915 - root_mean_squared_error: 0.5486\n",
      "Epoch 22/35\n",
      "930/930 [==============================] - 3s 3ms/step - loss: 16.3390 - root_mean_squared_error: 0.5460\n",
      "Epoch 23/35\n",
      "930/930 [==============================] - 3s 3ms/step - loss: 16.0912 - root_mean_squared_error: 0.5433\n",
      "Epoch 24/35\n",
      "930/930 [==============================] - 3s 3ms/step - loss: 15.9234 - root_mean_squared_error: 0.5414\n",
      "Epoch 25/35\n",
      "930/930 [==============================] - 3s 3ms/step - loss: 15.7423 - root_mean_squared_error: 0.5398\n",
      "Epoch 26/35\n",
      "930/930 [==============================] - 3s 3ms/step - loss: 15.4660 - root_mean_squared_error: 0.5381\n",
      "Epoch 27/35\n",
      "930/930 [==============================] - 3s 3ms/step - loss: 15.3493 - root_mean_squared_error: 0.5364\n",
      "Epoch 28/35\n",
      "930/930 [==============================] - 3s 3ms/step - loss: 15.2074 - root_mean_squared_error: 0.5353\n",
      "Epoch 29/35\n",
      "930/930 [==============================] - 3s 3ms/step - loss: 14.9917 - root_mean_squared_error: 0.5350\n",
      "Epoch 30/35\n",
      "930/930 [==============================] - 3s 3ms/step - loss: 14.8106 - root_mean_squared_error: 0.5337\n",
      "Epoch 31/35\n",
      "930/930 [==============================] - 3s 3ms/step - loss: 14.6966 - root_mean_squared_error: 0.5327\n",
      "Epoch 32/35\n",
      "930/930 [==============================] - 3s 3ms/step - loss: 14.6125 - root_mean_squared_error: 0.5318\n",
      "Epoch 33/35\n",
      "930/930 [==============================] - 3s 3ms/step - loss: 14.5335 - root_mean_squared_error: 0.5317\n",
      "Epoch 34/35\n",
      "930/930 [==============================] - 3s 3ms/step - loss: 14.2772 - root_mean_squared_error: 0.5316\n",
      "Epoch 35/35\n",
      "930/930 [==============================] - 3s 3ms/step - loss: 14.1618 - root_mean_squared_error: 0.5308\n"
     ]
    },
    {
     "data": {
      "text/plain": [
       "<tensorflow.python.keras.callbacks.History at 0x7f634d03ad00>"
      ]
     },
     "execution_count": 286,
     "metadata": {},
     "output_type": "execute_result"
    }
   ],
   "source": [
    "model_variational.fit(X[count - 1],y[count - 1], epochs=35, shuffle = True, verbose=1)"
   ]
  },
  {
   "cell_type": "code",
   "execution_count": 287,
   "id": "0695422e",
   "metadata": {},
   "outputs": [],
   "source": [
    "y_predict_variational = model_variational(X_test)"
   ]
  },
  {
   "cell_type": "code",
   "execution_count": 288,
   "id": "77565955",
   "metadata": {},
   "outputs": [],
   "source": [
    "y_predict_variational_mean = np.asarray(y_predict_variational.mean())[:,0]"
   ]
  },
  {
   "cell_type": "code",
   "execution_count": 289,
   "id": "852a97a6",
   "metadata": {},
   "outputs": [],
   "source": [
    "y_predict_variational_std = np.asarray(y_predict_variational.stddev())[:,0]"
   ]
  },
  {
   "cell_type": "code",
   "execution_count": 292,
   "id": "2540210c",
   "metadata": {},
   "outputs": [
    {
     "name": "stdout",
     "output_type": "stream",
     "text": [
      "0.666\n"
     ]
    }
   ],
   "source": [
    "overlap_variational = 0\n",
    "overlap_array_variational = []\n",
    "for i in range(0,len(X_test)):\n",
    "    if np.abs(y_test[i]-y_predict_variational_mean[i])<=y_predict_variational_std[i]:\n",
    "        overlap_variational += 1\n",
    "        overlap_array_variational.append(1)\n",
    "    else:\n",
    "        overlap_array_variational.append(0)\n",
    "print(overlap_variational/len(X_test))"
   ]
  },
  {
   "cell_type": "code",
   "execution_count": 293,
   "id": "5fa7d9f4",
   "metadata": {},
   "outputs": [],
   "source": [
    "combined_array_variational = np.transpose(np.vstack((y_test,y_predict_variational_mean,y_predict_variational_std,overlap_array_variational)))"
   ]
  },
  {
   "cell_type": "code",
   "execution_count": 294,
   "id": "600afabf",
   "metadata": {},
   "outputs": [],
   "source": [
    "sorted_combined_array_variational = sorted(combined_array_variational, key=lambda x: x[0])"
   ]
  },
  {
   "cell_type": "code",
   "execution_count": 351,
   "id": "99b576c1",
   "metadata": {},
   "outputs": [
    {
     "ename": "IndexError",
     "evalue": "list index out of range",
     "output_type": "error",
     "traceback": [
      "\u001b[0;31m---------------------------------------------------------------------------\u001b[0m",
      "\u001b[0;31mIndexError\u001b[0m                                Traceback (most recent call last)",
      "\u001b[0;32m<ipython-input-351-a53bcc506443>\u001b[0m in \u001b[0;36m<module>\u001b[0;34m\u001b[0m\n\u001b[1;32m      4\u001b[0m \u001b[0;32mfor\u001b[0m \u001b[0mi\u001b[0m \u001b[0;32min\u001b[0m \u001b[0mrange\u001b[0m\u001b[0;34m(\u001b[0m\u001b[0;36m0\u001b[0m\u001b[0;34m,\u001b[0m\u001b[0mbins_variational\u001b[0m\u001b[0;34m)\u001b[0m\u001b[0;34m:\u001b[0m\u001b[0;34m\u001b[0m\u001b[0;34m\u001b[0m\u001b[0m\n\u001b[1;32m      5\u001b[0m     \u001b[0mbins_count_variational\u001b[0m \u001b[0;34m=\u001b[0m \u001b[0;36m0\u001b[0m\u001b[0;34m\u001b[0m\u001b[0;34m\u001b[0m\u001b[0m\n\u001b[0;32m----> 6\u001b[0;31m     \u001b[0;32mfor\u001b[0m \u001b[0mj\u001b[0m \u001b[0;32min\u001b[0m \u001b[0mrange\u001b[0m\u001b[0;34m(\u001b[0m\u001b[0;36m0\u001b[0m\u001b[0;34m,\u001b[0m\u001b[0mlen\u001b[0m\u001b[0;34m(\u001b[0m\u001b[0msplitted_sorted_combined_array_variational\u001b[0m\u001b[0;34m[\u001b[0m\u001b[0mi\u001b[0m\u001b[0;34m]\u001b[0m\u001b[0;34m)\u001b[0m\u001b[0;34m)\u001b[0m\u001b[0;34m:\u001b[0m\u001b[0;34m\u001b[0m\u001b[0;34m\u001b[0m\u001b[0m\n\u001b[0m\u001b[1;32m      7\u001b[0m         \u001b[0;32mif\u001b[0m \u001b[0msplitted_sorted_combined_array_variational\u001b[0m\u001b[0;34m[\u001b[0m\u001b[0mi\u001b[0m\u001b[0;34m]\u001b[0m\u001b[0;34m[\u001b[0m\u001b[0mj\u001b[0m\u001b[0;34m]\u001b[0m\u001b[0;34m[\u001b[0m\u001b[0;36m3\u001b[0m\u001b[0;34m]\u001b[0m \u001b[0;34m==\u001b[0m \u001b[0;36m1\u001b[0m\u001b[0;34m:\u001b[0m\u001b[0;34m\u001b[0m\u001b[0;34m\u001b[0m\u001b[0m\n\u001b[1;32m      8\u001b[0m             \u001b[0mbins_count_variational\u001b[0m \u001b[0;34m+=\u001b[0m \u001b[0;36m1\u001b[0m\u001b[0;34m\u001b[0m\u001b[0;34m\u001b[0m\u001b[0m\n",
      "\u001b[0;31mIndexError\u001b[0m: list index out of range"
     ]
    }
   ],
   "source": [
    "bins_variational = int(z_max*10)\n",
    "splitted_sorted_combined_array_variational = np.array_split(sorted_combined_array_variational,bins)\n",
    "coverage_variational = []\n",
    "for i in range(0,bins_variational):\n",
    "    bins_count_variational = 0\n",
    "    for j in range(0,len(splitted_sorted_combined_array_variational[i])):\n",
    "        if splitted_sorted_combined_array_variational[i][j][3] == 1:\n",
    "            bins_count_variational += 1\n",
    "    coverage_variational.append(bins_count_variational/len(splitted_sorted_combined_array_variational[i])/0.6827)\n",
    "x_array = np.arange(0,z_max,z_max/bins_variational)"
   ]
  },
  {
   "cell_type": "code",
   "execution_count": 298,
   "id": "6bccb5a9",
   "metadata": {},
   "outputs": [],
   "source": [
    "def bias(predicted, true):\n",
    "    return (predicted - true)/(1 + true)"
   ]
  },
  {
   "cell_type": "code",
   "execution_count": 313,
   "id": "adb6d3dd",
   "metadata": {},
   "outputs": [],
   "source": [
    "bias_array = []\n",
    "for i in range(0,test_size):\n",
    "    bias_array.append(bias(y_test[i],mean_array[i]))"
   ]
  },
  {
   "cell_type": "code",
   "execution_count": null,
   "id": "096b8936",
   "metadata": {},
   "outputs": [],
   "source": [
    "combined_array_scatter = np.transpose(np.vstack((y_test,bias_array)))\n",
    "sorted_combined_array_scatter = sorted(combined_array_scatter, key=lambda x: x[0])\n",
    "bins_scatter = int(z_max*10)\n",
    "splitted_sorted_combined_array_scatter = np.array_split(sorted_combined_array_scatter,bins_scatter)\n",
    "scatter_array = []\n",
    "for i in range(0,bins_scatter):\n",
    "    scatter = np.std(splitted_sorted_combined_array_scatter[i])\n",
    "    scatter_array.append(scatter)\n",
    "x_array_scatter = np.arange(0,z_max,z_max/bins)\n",
    "# plt.plot(x_array_scatter, scatter_array, c = 'red')\n",
    "# plt.xlabel('spectroscopic redshift')\n",
    "# plt.ylabel('scatter')\n",
    "# plt.xlim([0,z_max])\n",
    "# plt.ylim([0,2])"
   ]
  },
  {
   "cell_type": "code",
   "execution_count": 353,
   "id": "2d553c28",
   "metadata": {},
   "outputs": [],
   "source": [
    "combined_array_outlier = np.transpose(np.vstack((y_test,bias_array)))\n",
    "sorted_combined_array_outlier = sorted(combined_array_outlier, key=lambda x: x[0])\n",
    "bins_outlier = int(z_max*10)\n",
    "splitted_sorted_combined_array_outlier = np.array_split(sorted_combined_array_outlier,bins_outlier)\n",
    "outlier_array = []\n",
    "for i in range(0,bins_scatter):\n",
    "    outlier_count = 0\n",
    "    for j in range(0,len(splitted_sorted_combined_array_outlier[i])):\n",
    "        if np.abs(splitted_sorted_combined_array_outlier[i][j][1]) >= 1/4:\n",
    "            outlier_count += 1\n",
    "    outlier_array.append(outlier_count)\n",
    "x_array_outlier = np.arange(0,z_max,z_max/bins)\n",
    "# plt.plot(x_array_outlier, outlier_array, c = 'red')\n",
    "# plt.xlabel('spectroscopic redshift')\n",
    "# plt.ylabel('outlier count')\n",
    "# plt.xlim([0,z_max])\n",
    "# plt.ylim([0,10])"
   ]
  },
  {
   "cell_type": "code",
   "execution_count": 332,
   "id": "cb2edf35",
   "metadata": {},
   "outputs": [],
   "source": [
    "bias_array_variational = []\n",
    "for i in range(0,test_size):\n",
    "    bias_array_variational.append(bias(y_test[i],y_predict_variational_mean[i]))"
   ]
  },
  {
   "cell_type": "code",
   "execution_count": 341,
   "id": "623ccca3",
   "metadata": {},
   "outputs": [
    {
     "data": {
      "text/plain": [
       "(0.0, 2.5)"
      ]
     },
     "execution_count": 341,
     "metadata": {},
     "output_type": "execute_result"
    },
    {
     "data": {
      "image/png": "[encoded data removed]",
      "text/plain": [
       "<Figure size 432x288 with 2 Axes>"
      ]
     },
     "metadata": {
      "needs_background": "light"
     },
     "output_type": "display_data"
    }
   ],
   "source": [
    "import matplotlib.cm as cm\n",
    "import matplotlib\n",
    "fig, ax = plt.subplots()\n",
    "scatter_plot = ax.scatter(y_test, mean_array, c = z, s = 1, edgecolor = None)\n",
    "plt.colorbar(scatter_plot, label = 'Density')\n",
    "plt.title('Prediction, Ensemble')\n",
    "plt.xlabel('spectroscopic redshift')\n",
    "plt.ylabel('photo z')\n",
    "plt.plot([0, z_max], [0, z_max],color = 'black')\n",
    "plt.xlim([0, z_max])\n",
    "plt.ylim([0, z_max])"
   ]
  },
  {
   "cell_type": "code",
   "execution_count": 290,
   "id": "6132cc6d",
   "metadata": {},
   "outputs": [
    {
     "data": {
      "text/plain": [
       "(0.0, 2.5)"
      ]
     },
     "execution_count": 290,
     "metadata": {},
     "output_type": "execute_result"
    },
    {
     "data": {
      "image/png": "[encoded data removed]",
      "text/plain": [
       "<Figure size 432x288 with 2 Axes>"
      ]
     },
     "metadata": {
      "needs_background": "light"
     },
     "output_type": "display_data"
    }
   ],
   "source": [
    "xy_variational = np.vstack([y_test,y_predict_variational_mean])\n",
    "z_variational = gaussian_kde(xy_variational)(xy_variational)\n",
    "fig, ax = plt.subplots()\n",
    "scatter_plot = ax.scatter(y_test, y_predict_variational_mean, c = z_variational, s = 1, edgecolor = None)\n",
    "plt.colorbar(scatter_plot, label = 'Density')\n",
    "plt.title('Prediction, Bayesian')\n",
    "plt.xlabel('spectroscopic redshift')\n",
    "plt.ylabel('photo z')\n",
    "plt.plot([0, z_max], [0, z_max],color = 'black')\n",
    "plt.xlim([0, z_max])\n",
    "plt.ylim([0, z_max])"
   ]
  },
  {
   "cell_type": "code",
   "execution_count": 342,
   "id": "70168bb1",
   "metadata": {},
   "outputs": [
    {
     "data": {
      "text/plain": [
       "(0.0, 2.5)"
      ]
     },
     "execution_count": 342,
     "metadata": {},
     "output_type": "execute_result"
    },
    {
     "data": {
      "image/png": "[encoded data removed]",
      "text/plain": [
       "<Figure size 432x288 with 1 Axes>"
      ]
     },
     "metadata": {
      "needs_background": "light"
     },
     "output_type": "display_data"
    }
   ],
   "source": [
    "fig, ax = plt.subplots()\n",
    "error_plot = ax.errorbar(y_test[0:100], mean_array[0:100], yerr = std_array[0:100], fmt=\"o\" ,markersize=1)\n",
    "plt.title('Prediction with error, Ensemble')\n",
    "plt.xlabel('spectroscopic redshift')\n",
    "plt.ylabel('photo z')\n",
    "plt.plot([0, z_max], [0, z_max],color = 'black')\n",
    "plt.xlim([0, z_max])\n",
    "plt.ylim([0, z_max])"
   ]
  },
  {
   "cell_type": "code",
   "execution_count": 343,
   "id": "c59c47be",
   "metadata": {},
   "outputs": [
    {
     "data": {
      "text/plain": [
       "(0.0, 2.5)"
      ]
     },
     "execution_count": 343,
     "metadata": {},
     "output_type": "execute_result"
    },
    {
     "data": {
      "image/png": "[encoded data removed]",
      "text/plain": [
       "<Figure size 432x288 with 1 Axes>"
      ]
     },
     "metadata": {
      "needs_background": "light"
     },
     "output_type": "display_data"
    }
   ],
   "source": [
    "fig, ax = plt.subplots()\n",
    "error_plot = ax.errorbar(y_test[0:100], y_predict_variational_mean[0:100], yerr = y_predict_variational_std[0:100], fmt=\"o\", markersize=1)\n",
    "plt.title('Prediction with error, Bayesian')\n",
    "plt.xlabel('spectroscopic redshift')\n",
    "plt.ylabel('photo z')\n",
    "plt.plot([0, z_max], [0, z_max],color = 'black')\n",
    "plt.xlim([0, z_max])\n",
    "plt.ylim([0, z_max])"
   ]
  },
  {
   "cell_type": "code",
   "execution_count": 350,
   "id": "e1bb736b",
   "metadata": {},
   "outputs": [
    {
     "data": {
      "text/plain": [
       "(0.0, 1.5)"
      ]
     },
     "execution_count": 350,
     "metadata": {},
     "output_type": "execute_result"
    },
    {
     "data": {
      "image/png": "[encoded data removed]",
      "text/plain": [
       "<Figure size 432x288 with 1 Axes>"
      ]
     },
     "metadata": {
      "needs_background": "light"
     },
     "output_type": "display_data"
    }
   ],
   "source": [
    "plt.plot(x_array, coverage, c = 'red')\n",
    "plt.title('Coverage, Ensemble')\n",
    "plt.xlabel('spectroscopic redshift')\n",
    "plt.ylabel('coverage')\n",
    "plt.ylim([0,1.5]) # 1.5 indicates full coverage"
   ]
  },
  {
   "cell_type": "code",
   "execution_count": 352,
   "id": "69cc1605",
   "metadata": {},
   "outputs": [
    {
     "data": {
      "text/plain": [
       "(0.0, 1.5)"
      ]
     },
     "execution_count": 352,
     "metadata": {},
     "output_type": "execute_result"
    },
    {
     "data": {
      "image/png": "[encoded data removed]",
      "text/plain": [
       "<Figure size 432x288 with 1 Axes>"
      ]
     },
     "metadata": {
      "needs_background": "light"
     },
     "output_type": "display_data"
    }
   ],
   "source": [
    "plt.plot(x_array, coverage_variational, c = 'red')\n",
    "plt.title('Coverage, Bayesian')\n",
    "plt.xlabel('spectroscopic redshift')\n",
    "plt.ylabel('coverage')\n",
    "plt.ylim([0,1.5]) # 1.5 indicates full coverage"
   ]
  },
  {
   "cell_type": "code",
   "execution_count": 339,
   "id": "b930e9dc",
   "metadata": {},
   "outputs": [
    {
     "data": {
      "text/plain": [
       "(-1.0, 1.0)"
      ]
     },
     "execution_count": 339,
     "metadata": {},
     "output_type": "execute_result"
    },
    {
     "data": {
      "image/png": "[encoded data removed]",
      "text/plain": [
       "<Figure size 432x288 with 2 Axes>"
      ]
     },
     "metadata": {
      "needs_background": "light"
     },
     "output_type": "display_data"
    }
   ],
   "source": [
    "xy_bias = np.vstack([y_test,bias_array])\n",
    "z_bias = gaussian_kde(xy_bias)(xy_bias)\n",
    "fig, ax = plt.subplots()\n",
    "scatter_plot = ax.scatter(y_test, bias_array, c = z_bias, s = 1, edgecolor = None, label = 'Data')\n",
    "plt.colorbar(scatter_plot, label = 'Density')\n",
    "plt.title('Bias Plot, Ensemble')\n",
    "plt.xlabel('spectroscopic redshift')\n",
    "plt.ylabel('bias')\n",
    "plt.plot([0, z_max], [0, 0], color = 'black')\n",
    "plt.xlim([0, z_max])\n",
    "plt.ylim([-1, 1])"
   ]
  },
  {
   "cell_type": "code",
   "execution_count": 338,
   "id": "4290fe4b",
   "metadata": {},
   "outputs": [
    {
     "data": {
      "text/plain": [
       "(-1.0, 1.0)"
      ]
     },
     "execution_count": 338,
     "metadata": {},
     "output_type": "execute_result"
    },
    {
     "data": {
      "image/png": "[encoded data removed]",
      "text/plain": [
       "<Figure size 432x288 with 2 Axes>"
      ]
     },
     "metadata": {
      "needs_background": "light"
     },
     "output_type": "display_data"
    }
   ],
   "source": [
    "xy_bias_variational = np.vstack([y_test,bias_array_variational])\n",
    "z_bias_variational = gaussian_kde(xy_bias_variational)(xy_bias_variational)\n",
    "fig, ax = plt.subplots()\n",
    "scatter_plot = ax.scatter(y_test, bias_array_variational, c = z_bias_variational, s = 1, edgecolor = None, label = 'Data')\n",
    "plt.colorbar(scatter_plot, label = 'Density')\n",
    "plt.title('Bias Plot, Bayesian')\n",
    "plt.xlabel('spectroscopic redshift')\n",
    "plt.ylabel('bias')\n",
    "plt.plot([0, z_max], [0, 0], color = 'black')\n",
    "plt.xlim([0, z_max])\n",
    "plt.ylim([-1, 1])"
   ]
  },
  {
   "cell_type": "code",
   "execution_count": 336,
   "id": "8cbee5c6",
   "metadata": {},
   "outputs": [
    {
     "data": {
      "text/plain": [
       "<matplotlib.legend.Legend at 0x7f6342983760>"
      ]
     },
     "execution_count": 336,
     "metadata": {},
     "output_type": "execute_result"
    },
    {
     "data": {
      "image/png": "[encoded data removed]",
      "text/plain": [
       "<Figure size 432x288 with 1 Axes>"
      ]
     },
     "metadata": {
      "needs_background": "light"
     },
     "output_type": "display_data"
    }
   ],
   "source": [
    "combined_array_scatter_variational = np.transpose(np.vstack((y_test,bias_array_variational)))\n",
    "sorted_combined_array_scatter_variational = sorted(combined_array_scatter_variational, key=lambda x: x[0])\n",
    "bins_scatter_variational = int(z_max*10)\n",
    "splitted_sorted_combined_array_scatter_variational = np.array_split(sorted_combined_array_scatter_variational,bins_scatter_variational)\n",
    "scatter_array_variational = []\n",
    "for i in range(0,bins_scatter_variational):\n",
    "    scatter_variational = np.std(splitted_sorted_combined_array_scatter_variational[i])\n",
    "    scatter_array_variational.append(scatter_variational)\n",
    "x_array_scatter = np.arange(0,z_max,z_max/bins)\n",
    "plt.plot(x_array_scatter, scatter_array_variational, c = 'red', label = 'Bayesian')\n",
    "plt.plot(x_array_scatter, scatter_array, c = 'blue', label = 'Ensemble')\n",
    "plt.title('Scatter Ensemble vs. Bayesian')\n",
    "plt.xlabel('spectroscopic redshift')\n",
    "plt.ylabel('scatter')\n",
    "plt.xlim([0,z_max])\n",
    "plt.ylim([0,2])\n",
    "plt.legend()"
   ]
  },
  {
   "cell_type": "code",
   "execution_count": 337,
   "id": "d06b694c",
   "metadata": {},
   "outputs": [
    {
     "data": {
      "text/plain": [
       "(0.0, 10.0)"
      ]
     },
     "execution_count": 337,
     "metadata": {},
     "output_type": "execute_result"
    },
    {
     "data": {
      "image/png": "[encoded data removed]",
      "text/plain": [
       "<Figure size 432x288 with 1 Axes>"
      ]
     },
     "metadata": {
      "needs_background": "light"
     },
     "output_type": "display_data"
    }
   ],
   "source": [
    "combined_array_outlier_variational = np.transpose(np.vstack((y_test,bias_array_variational)))\n",
    "sorted_combined_array_outlier_variational = sorted(combined_array_outlier_variational, key=lambda x: x[0])\n",
    "bins_outlier_variational = int(z_max*10)\n",
    "splitted_sorted_combined_array_outlier_variational = np.array_split(sorted_combined_array_outlier_variational,bins_outlier_variational)\n",
    "outlier_array_variational = []\n",
    "for i in range(0,bins_scatter_variational):\n",
    "    outlier_count_variational = 0\n",
    "    for j in range(0,len(splitted_sorted_combined_array_outlier_variational[i])):\n",
    "        if np.abs(splitted_sorted_combined_array_outlier_variational[i][j][1]) >= 1/4:\n",
    "            outlier_count_variational += 1\n",
    "    outlier_array_variational.append(outlier_count_variational)\n",
    "x_array_outlier = np.arange(0,z_max,z_max/bins)\n",
    "plt.plot(x_array_outlier, outlier_array_variational, c = 'red', label = 'Bayesian')\n",
    "plt.plot(x_array_outlier, outlier_array, c = 'blue', label = 'Ensemble')\n",
    "plt.title('Outlier Count Ensemble vs. Bayesian')\n",
    "plt.xlabel('spectroscopic redshift')\n",
    "plt.ylabel('outlier count')\n",
    "plt.xlim([0,z_max])\n",
    "plt.ylim([0,10])"
   ]
  }
 ],
 "metadata": {
  "kernelspec": {
   "display_name": "Python 3",
   "language": "python",
   "name": "python3"
  },
  "language_info": {
   "codemirror_mode": {
    "name": "ipython",
    "version": 3
   },
   "file_extension": ".py",
   "mimetype": "text/x-python",
   "name": "python",
   "nbconvert_exporter": "python",
   "pygments_lexer": "ipython3",
   "version": "3.8.10"
  }
 },
 "nbformat": 4,
 "nbformat_minor": 5
}
