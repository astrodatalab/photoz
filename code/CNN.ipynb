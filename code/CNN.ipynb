{
 "cells": [
  {
   "cell_type": "markdown",
   "id": "315d03f8",
   "metadata": {},
   "source": [
    "Importing library"
   ]
  },
  {
   "cell_type": "code",
   "execution_count": 1,
   "id": "1091fe3f",
   "metadata": {},
   "outputs": [],
   "source": [
    "import os\n",
    "from astropy.io import fits\n",
    "import tensorflow as tf\n",
    "import pandas as pd\n",
    "import numpy as np\n",
    "import matplotlib.pyplot as plt\n",
    "from sklearn.model_selection import train_test_split\n",
    "import h5py\n",
    "from keras.preprocessing.image import ImageDataGenerator"
   ]
  },
  {
   "cell_type": "code",
   "execution_count": 2,
   "id": "1d8bd5ba",
   "metadata": {},
   "outputs": [
    {
     "name": "stdout",
     "output_type": "stream",
     "text": [
      "1 Physical GPUs, 1 Logical GPUs\n"
     ]
    }
   ],
   "source": [
    "gpus = tf.config.list_physical_devices('GPU')\n",
    "\n",
    "if gpus:\n",
    "  # Restrict TensorFlow to only allocate 10GB of memory on the first GPU\n",
    "  try:\n",
    "    tf.config.experimental.set_virtual_device_configuration(\n",
    "        gpus[0],\n",
    "        [tf.config.experimental.VirtualDeviceConfiguration(memory_limit=5000)])\n",
    "    logical_gpus = tf.config.experimental.list_logical_devices('GPU')\n",
    "    print(len(gpus), \"Physical GPUs,\", len(logical_gpus), \"Logical GPUs\")\n",
    "  except RuntimeError as e:\n",
    "    # Virtual devices must be set before GPUs have been initialized\n",
    "    print(e)"
   ]
  },
  {
   "cell_type": "markdown",
   "id": "20a03d63",
   "metadata": {},
   "source": [
    "Importing data"
   ]
  },
  {
   "cell_type": "code",
   "execution_count": 3,
   "id": "21d2cd5c",
   "metadata": {},
   "outputs": [
    {
     "ename": "OSError",
     "evalue": "Unable to open file (unable to open file: name = '../../data/HSC/HSC_v6/five_band_image120x120.hdf5', errno = 2, error message = 'No such file or directory', flags = 0, o_flags = 0)",
     "output_type": "error",
     "traceback": [
      "\u001b[0;31m---------------------------------------------------------------------------\u001b[0m",
      "\u001b[0;31mOSError\u001b[0m                                   Traceback (most recent call last)",
      "\u001b[0;32m<ipython-input-3-dc7c6c65f315>\u001b[0m in \u001b[0;36m<module>\u001b[0;34m\u001b[0m\n\u001b[0;32m----> 1\u001b[0;31m \u001b[0mhf\u001b[0m \u001b[0;34m=\u001b[0m \u001b[0mh5py\u001b[0m\u001b[0;34m.\u001b[0m\u001b[0mFile\u001b[0m\u001b[0;34m(\u001b[0m\u001b[0;34m'../../data/HSC/HSC_v6/five_band_image120x120.hdf5'\u001b[0m\u001b[0;34m,\u001b[0m \u001b[0;34m'r'\u001b[0m\u001b[0;34m)\u001b[0m\u001b[0;34m\u001b[0m\u001b[0;34m\u001b[0m\u001b[0m\n\u001b[0m",
      "\u001b[0;32m/opt/anaconda3/envs/jupyterhub/lib/python3.8/site-packages/h5py/_hl/files.py\u001b[0m in \u001b[0;36m__init__\u001b[0;34m(self, name, mode, driver, libver, userblock_size, swmr, rdcc_nslots, rdcc_nbytes, rdcc_w0, track_order, fs_strategy, fs_persist, fs_threshold, **kwds)\u001b[0m\n\u001b[1;32m    422\u001b[0m             \u001b[0;32mwith\u001b[0m \u001b[0mphil\u001b[0m\u001b[0;34m:\u001b[0m\u001b[0;34m\u001b[0m\u001b[0;34m\u001b[0m\u001b[0m\n\u001b[1;32m    423\u001b[0m                 \u001b[0mfapl\u001b[0m \u001b[0;34m=\u001b[0m \u001b[0mmake_fapl\u001b[0m\u001b[0;34m(\u001b[0m\u001b[0mdriver\u001b[0m\u001b[0;34m,\u001b[0m \u001b[0mlibver\u001b[0m\u001b[0;34m,\u001b[0m \u001b[0mrdcc_nslots\u001b[0m\u001b[0;34m,\u001b[0m \u001b[0mrdcc_nbytes\u001b[0m\u001b[0;34m,\u001b[0m \u001b[0mrdcc_w0\u001b[0m\u001b[0;34m,\u001b[0m \u001b[0;34m**\u001b[0m\u001b[0mkwds\u001b[0m\u001b[0;34m)\u001b[0m\u001b[0;34m\u001b[0m\u001b[0;34m\u001b[0m\u001b[0m\n\u001b[0;32m--> 424\u001b[0;31m                 fid = make_fid(name, mode, userblock_size,\n\u001b[0m\u001b[1;32m    425\u001b[0m                                fapl, fcpl=make_fcpl(track_order=track_order, fs_strategy=fs_strategy,\n\u001b[1;32m    426\u001b[0m                                fs_persist=fs_persist, fs_threshold=fs_threshold),\n",
      "\u001b[0;32m/opt/anaconda3/envs/jupyterhub/lib/python3.8/site-packages/h5py/_hl/files.py\u001b[0m in \u001b[0;36mmake_fid\u001b[0;34m(name, mode, userblock_size, fapl, fcpl, swmr)\u001b[0m\n\u001b[1;32m    188\u001b[0m         \u001b[0;32mif\u001b[0m \u001b[0mswmr\u001b[0m \u001b[0;32mand\u001b[0m \u001b[0mswmr_support\u001b[0m\u001b[0;34m:\u001b[0m\u001b[0;34m\u001b[0m\u001b[0;34m\u001b[0m\u001b[0m\n\u001b[1;32m    189\u001b[0m             \u001b[0mflags\u001b[0m \u001b[0;34m|=\u001b[0m \u001b[0mh5f\u001b[0m\u001b[0;34m.\u001b[0m\u001b[0mACC_SWMR_READ\u001b[0m\u001b[0;34m\u001b[0m\u001b[0;34m\u001b[0m\u001b[0m\n\u001b[0;32m--> 190\u001b[0;31m         \u001b[0mfid\u001b[0m \u001b[0;34m=\u001b[0m \u001b[0mh5f\u001b[0m\u001b[0;34m.\u001b[0m\u001b[0mopen\u001b[0m\u001b[0;34m(\u001b[0m\u001b[0mname\u001b[0m\u001b[0;34m,\u001b[0m \u001b[0mflags\u001b[0m\u001b[0;34m,\u001b[0m \u001b[0mfapl\u001b[0m\u001b[0;34m=\u001b[0m\u001b[0mfapl\u001b[0m\u001b[0;34m)\u001b[0m\u001b[0;34m\u001b[0m\u001b[0;34m\u001b[0m\u001b[0m\n\u001b[0m\u001b[1;32m    191\u001b[0m     \u001b[0;32melif\u001b[0m \u001b[0mmode\u001b[0m \u001b[0;34m==\u001b[0m \u001b[0;34m'r+'\u001b[0m\u001b[0;34m:\u001b[0m\u001b[0;34m\u001b[0m\u001b[0;34m\u001b[0m\u001b[0m\n\u001b[1;32m    192\u001b[0m         \u001b[0mfid\u001b[0m \u001b[0;34m=\u001b[0m \u001b[0mh5f\u001b[0m\u001b[0;34m.\u001b[0m\u001b[0mopen\u001b[0m\u001b[0;34m(\u001b[0m\u001b[0mname\u001b[0m\u001b[0;34m,\u001b[0m \u001b[0mh5f\u001b[0m\u001b[0;34m.\u001b[0m\u001b[0mACC_RDWR\u001b[0m\u001b[0;34m,\u001b[0m \u001b[0mfapl\u001b[0m\u001b[0;34m=\u001b[0m\u001b[0mfapl\u001b[0m\u001b[0;34m)\u001b[0m\u001b[0;34m\u001b[0m\u001b[0;34m\u001b[0m\u001b[0m\n",
      "\u001b[0;32mh5py/_objects.pyx\u001b[0m in \u001b[0;36mh5py._objects.with_phil.wrapper\u001b[0;34m()\u001b[0m\n",
      "\u001b[0;32mh5py/_objects.pyx\u001b[0m in \u001b[0;36mh5py._objects.with_phil.wrapper\u001b[0;34m()\u001b[0m\n",
      "\u001b[0;32mh5py/h5f.pyx\u001b[0m in \u001b[0;36mh5py.h5f.open\u001b[0;34m()\u001b[0m\n",
      "\u001b[0;31mOSError\u001b[0m: Unable to open file (unable to open file: name = '../../data/HSC/HSC_v6/five_band_image120x120.hdf5', errno = 2, error message = 'No such file or directory', flags = 0, o_flags = 0)"
     ]
    }
   ],
   "source": [
    "hf = h5py.File('../../data/HSC/HSC_v6/five_band_image120x120.hdf5', 'r')"
   ]
  },
  {
   "cell_type": "code",
   "execution_count": null,
   "id": "35717358",
   "metadata": {},
   "outputs": [],
   "source": [
    "x = hf[\"image\"][0:5000]\n",
    "y = hf[\"specz\"][0:5000]"
   ]
  },
  {
   "cell_type": "code",
   "execution_count": null,
   "id": "1e5ab16e",
   "metadata": {},
   "outputs": [],
   "source": [
    "x = np.transpose(x,(0,2,3,1))"
   ]
  },
  {
   "cell_type": "code",
   "execution_count": null,
   "id": "f5f31948",
   "metadata": {},
   "outputs": [],
   "source": [
    "## check this\n",
    "max_value = np.max(x)\n",
    "max_value"
   ]
  },
  {
   "cell_type": "code",
   "execution_count": null,
   "id": "6d3a2bd2",
   "metadata": {},
   "outputs": [],
   "source": [
    "x_new = np.true_divide(x,max_value)"
   ]
  },
  {
   "cell_type": "code",
   "execution_count": null,
   "id": "bae4245e",
   "metadata": {},
   "outputs": [],
   "source": [
    "hf.close()"
   ]
  },
  {
   "cell_type": "markdown",
   "id": "e661de4d",
   "metadata": {},
   "source": [
    "Image Augmentation"
   ]
  },
  {
   "cell_type": "code",
   "execution_count": null,
   "id": "0ed8f2ea",
   "metadata": {},
   "outputs": [],
   "source": [
    "##datagen = ImageDataGenerator(rotation_range=90)\n",
    "##it = datagen.flow(x_new, batch_size=1)"
   ]
  },
  {
   "cell_type": "code",
   "execution_count": null,
   "id": "ef45fee2",
   "metadata": {},
   "outputs": [],
   "source": [
    "x_train ,x_test,y_train,y_test = train_test_split(x_new,y,test_size=0.2)"
   ]
  },
  {
   "cell_type": "code",
   "execution_count": null,
   "id": "69ccd934",
   "metadata": {},
   "outputs": [],
   "source": [
    "import keras\n",
    "from keras.models import Sequential,Input,Model\n",
    "from keras.layers import Dense, Dropout, Flatten\n",
    "from keras.layers import Conv2D, MaxPooling2D\n",
    "from keras.layers.normalization import BatchNormalization\n",
    "from keras.layers.advanced_activations import LeakyReLU"
   ]
  },
  {
   "cell_type": "code",
   "execution_count": null,
   "id": "3c7ff6d7",
   "metadata": {},
   "outputs": [],
   "source": [
    "from sklearn.model_selection import train_test_split\n",
    "\n",
    "\n",
    "\n",
    "model = Sequential()\n",
    "model.add(Conv2D(32, kernel_size=(3, 3),activation='tanh',input_shape=(120,120,5)))\n",
    "model.add(MaxPooling2D(pool_size = (2,2)))\n",
    "model.add(Conv2D(32, kernel_size=(2,2),activation='tanh'))\n",
    "model.add(MaxPooling2D(pool_size = (2,2)))\n",
    "model.add(Conv2D(32, kernel_size=(3,3),activation='relu'))\n",
    "model.add(Conv2D(32, kernel_size=(2,2),activation='relu'))\n",
    "model.add(Flatten())\n",
    "model.add(Dense(500, activation=\"tanh\"))\n",
    "model.add(Dense(100, activation=\"tanh\"))\n",
    "model.add(Dense(1))\n",
    "\n",
    "\n",
    "\n",
    "#model.compile(optimizer='Adam', loss=\"mse\",metrics=[tf.keras.metrics.MeanAbsoluteError()])\n",
    "\n",
    "\n",
    "model.summary()"
   ]
  },
  {
   "cell_type": "code",
   "execution_count": null,
   "id": "0caeef66",
   "metadata": {},
   "outputs": [],
   "source": [
    "model.compile(optimizer='Adam', loss=\"mse\",metrics=[tf.keras.metrics.MeanAbsoluteError()])\n",
    "\n",
    "model.fit(x_train,y_train,epochs=300,shuffle = True,verbose=1)\n"
   ]
  },
  {
   "cell_type": "code",
   "execution_count": null,
   "id": "f28edd17",
   "metadata": {},
   "outputs": [],
   "source": [
    "y_test_predict = model.predict(x_test)\n",
    "y_test_prediction = []\n",
    "\n",
    "for i in range(len(y_test)):\n",
    "    y_test_prediction.append(y_test_predict[i][0])\n",
    "\n",
    "y_test_prediction = np.asarray(y_test_prediction)\n",
    "\n",
    "y_test_ = []\n",
    "\n",
    "for i in range(len(y_test)):\n",
    "    y_test_.append(y_test[i][0])\n",
    "\n",
    "y_test_ = np.asarray(y_test_)"
   ]
  },
  {
   "cell_type": "code",
   "execution_count": null,
   "id": "acb8665f",
   "metadata": {},
   "outputs": [],
   "source": [
    "from photoz_utils import *\n",
    "y_test_new = pd.Series(y_test_)\n",
    "y_test_predict_new = pd.Series(y_test_prediction)\n",
    "get_point_metrics(y_test_predict_new,y_test_new)"
   ]
  },
  {
   "cell_type": "code",
   "execution_count": null,
   "id": "5de613aa",
   "metadata": {},
   "outputs": [],
   "source": [
    "binned_metrics_test = get_point_metrics(y_test_predict_new,y_test_new,binned = True)\n",
    "plot_point_metrics(binned_metrics_test)"
   ]
  },
  {
   "cell_type": "code",
   "execution_count": null,
   "id": "b86d7edd",
   "metadata": {},
   "outputs": [],
   "source": [
    "y_train_predict = model.predict(x_train)\n",
    "y_train_prediction = []\n",
    "\n",
    "for i in range(len(y_train)):\n",
    "    y_train_prediction.append(y_train_predict[i][0])\n",
    "\n",
    "y_train_prediction = np.asarray(y_train_prediction)\n",
    "\n",
    "y_train_ = []\n",
    "\n",
    "for i in range(len(y_train)):\n",
    "    y_train_.append(y_train[i][0])\n",
    "\n",
    "y_train_ = np.asarray(y_train_)"
   ]
  },
  {
   "cell_type": "code",
   "execution_count": null,
   "id": "8978ff4f",
   "metadata": {},
   "outputs": [],
   "source": [
    "from photoz_utils import *\n",
    "y_train_new = pd.Series(y_train_)\n",
    "y_train_predict_new = pd.Series(y_train_prediction)\n",
    "get_point_metrics(y_train_predict_new,y_train_new)"
   ]
  },
  {
   "cell_type": "code",
   "execution_count": null,
   "id": "aaf71912",
   "metadata": {},
   "outputs": [],
   "source": [
    "binned_metrics_train = get_point_metrics(y_train_predict_new,y_train_new,binned = True)\n",
    "plot_point_metrics(binned_metrics_train)"
   ]
  },
  {
   "cell_type": "code",
   "execution_count": null,
   "id": "85259ada",
   "metadata": {},
   "outputs": [],
   "source": [
    "from scipy.stats import gaussian_kde\n",
    "xy = np.vstack([y_test_,y_test_prediction])\n",
    "z = gaussian_kde(xy)(xy)"
   ]
  },
  {
   "cell_type": "code",
   "execution_count": null,
   "id": "47e42157",
   "metadata": {},
   "outputs": [],
   "source": [
    "import matplotlib.cm as cm\n",
    "import matplotlib\n",
    "fig, ax = plt.subplots()\n",
    "ax_ = ax.scatter(y_test, y_test_prediction, c=z,s = 1,edgecolor=None, norm=matplotlib.colors.LogNorm())\n",
    "plt.colorbar(ax_)\n",
    "plt.xlabel('spectroscopic redshift')\n",
    "plt.ylabel('photo z')\n",
    "plt.plot([.18,1.6*2.4],[0,1.2*2.4], color='black')\n",
    "plt.plot([0, 1.6 * 2.4], [.15, 2 * 2.4],color = 'black')"
   ]
  }
 ],
 "metadata": {
  "kernelspec": {
   "display_name": "Python 3",
   "language": "python",
   "name": "python3"
  },
  "language_info": {
   "codemirror_mode": {
    "name": "ipython",
    "version": 3
   },
   "file_extension": ".py",
   "mimetype": "text/x-python",
   "name": "python",
   "nbconvert_exporter": "python",
   "pygments_lexer": "ipython3",
   "version": "3.8.10"
  }
 },
 "nbformat": 4,
 "nbformat_minor": 5
}
