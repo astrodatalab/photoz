{
 "cells": [
  {
   "cell_type": "code",
   "execution_count": 24,
   "id": "ea2fe0a7",
   "metadata": {},
   "outputs": [],
   "source": [
    "#Import relevant libraries\n",
    "import pandas as pd\n",
    "import numpy as np\n",
    "import glob"
   ]
  },
  {
   "cell_type": "code",
   "execution_count": 25,
   "id": "06abfb9c",
   "metadata": {},
   "outputs": [],
   "source": [
    "#Get the file names with directory path for each field \n",
    "#Fields: XMM, HECTOMAP, VVDS, GAMA09H, GAMA015, WIDE12H\n",
    "csv_files = glob.glob('/data/HSC/shear_catalog/Fields/*.csv')"
   ]
  },
  {
   "cell_type": "code",
   "execution_count": 26,
   "id": "7f43c432",
   "metadata": {},
   "outputs": [],
   "source": [
    "# Read each field \n",
    "\n",
    "dfs = []\n",
    "for file in csv_files:\n",
    "    #Read CSV Files\n",
    "    df = pd.read_csv(file)\n",
    "    \n",
    "    #Renaming Object ID column: '# object_id' -> 'object_id'\n",
    "    df.rename(columns={'# object_id': 'object_id'}, inplace=True)\n",
    "    \n",
    "    #Adding a column to label the field for each galaxy\n",
    "    df['field'] = file.split('/')[-1].split('.')[0]\n",
    "    \n",
    "    #Add to collection of galaxies\n",
    "    dfs.append(df)\n",
    "#Collect all galaxies and add new indexes    \n",
    "combined_df = pd.concat(dfs, ignore_index=True)"
   ]
  },
  {
   "cell_type": "code",
   "execution_count": 28,
   "id": "afa2a78e",
   "metadata": {},
   "outputs": [],
   "source": [
    "#Compute the shape distortion magnitude and create a column for each galaxy\n",
    "e1 = combined_df['ishape_hsm_regauss_e1']\n",
    "e2 = combined_df['ishape_hsm_regauss_e2']\n",
    "\n",
    "combined_df['e'] = np.sqrt(e1**2+e2**2)"
   ]
  },
  {
   "cell_type": "code",
   "execution_count": 30,
   "id": "ddc3518a",
   "metadata": {},
   "outputs": [],
   "source": [
    "#Add data to collection of HSC under the folder shear_catalog\n",
    "combined_df.to_csv('/data/HSC/shear_catalog/hsc_shear_no_cuts.csv', index=False)"
   ]
  },
  {
   "cell_type": "code",
   "execution_count": null,
   "id": "10151b7a",
   "metadata": {},
   "outputs": [],
   "source": []
  }
 ],
 "metadata": {
  "kernelspec": {
   "display_name": "Python 3 (ipykernel)",
   "language": "python",
   "name": "python3"
  },
  "language_info": {
   "codemirror_mode": {
    "name": "ipython",
    "version": 3
   },
   "file_extension": ".py",
   "mimetype": "text/x-python",
   "name": "python",
   "nbconvert_exporter": "python",
   "pygments_lexer": "ipython3",
   "version": "3.10.10"
  }
 },
 "nbformat": 4,
 "nbformat_minor": 5
}
