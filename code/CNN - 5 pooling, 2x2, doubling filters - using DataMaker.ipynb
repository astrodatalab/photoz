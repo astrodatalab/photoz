{
 "cells": [
  {
   "cell_type": "code",
   "execution_count": 1,
   "id": "826ceced",
   "metadata": {},
   "outputs": [],
   "source": [
    "import tensorflow as tf\n",
    "import pandas as pd\n",
    "import numpy as np\n",
    "import matplotlib.pyplot as plt\n",
    "import h5py\n",
    "import keras\n",
    "import os\n",
    "from tensorflow.keras.models import Sequential, Model\n",
    "from tensorflow.keras.layers import Dense, Conv2D, MaxPooling2D, Flatten, Dropout, Input, Concatenate\n",
    "\n",
    "from photoz_utils import *\n",
    "from DataMaker import *"
   ]
  },
  {
   "cell_type": "code",
   "execution_count": 2,
   "id": "2806c408",
   "metadata": {},
   "outputs": [],
   "source": [
    "IMAGE_SHAPE = (5, 127, 127)\n",
    "BATCH_SIZE = 256\n",
    "EPOCHS = 5\n",
    "GB_LIMIT = 5"
   ]
  },
  {
   "cell_type": "code",
   "execution_count": 3,
   "id": "1b30607a",
   "metadata": {},
   "outputs": [
    {
     "name": "stdout",
     "output_type": "stream",
     "text": [
      "1 Physical GPUs, 1 Logical GPUs\n"
     ]
    }
   ],
   "source": [
    "gpus = tf.config.list_physical_devices('GPU')\n",
    "if gpus:\n",
    "    try:\n",
    "        tf.config.experimental.set_virtual_device_configuration(\n",
    "            gpus[0],\n",
    "            [tf.config.experimental.VirtualDeviceConfiguration(GB_LIMIT*1000)])\n",
    "        logical_gpus = tf.config.experimental.list_logical_devices('GPU')\n",
    "        print(len(gpus), \"Physical GPUs,\", len(logical_gpus), \"Logical GPUs\")\n",
    "    except RuntimeError as e:\n",
    "        print(e)"
   ]
  },
  {
   "cell_type": "code",
   "execution_count": 43,
   "id": "e844a8b0",
   "metadata": {},
   "outputs": [],
   "source": [
    "model_name = 'HSC_v6_CNNTrials_5_pooling_2x2_filters_doubled_v2'"
   ]
  },
  {
   "cell_type": "code",
   "execution_count": 4,
   "id": "fdd5936e",
   "metadata": {},
   "outputs": [],
   "source": [
    "args_gen = {'X_key': 'image',\n",
    "    'y_key': 'specz_redshift',\n",
    "    'scaler': True,\n",
    "    'labels_encoding': False,\n",
    "    'batch_size': BATCH_SIZE,\n",
    "    'mode': 'train',\n",
    "    'shuffle': True}\n",
    "\n",
    "TRAIN_PATH = '/data/HSC/HSC_v6/step2A/127x127/five_band_image127x127_with_metadata_corrected_training.hdf5'\n",
    "VAL_PATH = '/data/HSC/HSC_v6/step2A/127x127/five_band_image127x127_with_metadata_corrected_validation.hdf5'\n",
    "TEST_PATH = '/data/HSC/HSC_v6/step2A/127x127/five_band_image127x127_with_metadata_corrected_testing.hdf5'"
   ]
  },
  {
   "cell_type": "code",
   "execution_count": 5,
   "id": "3c8ac1b8",
   "metadata": {},
   "outputs": [],
   "source": [
    "train_gen = HDF5ImageGenerator(src=TRAIN_PATH, **args_gen)\n",
    "val_gen = HDF5ImageGenerator(src=VAL_PATH, **args_gen)\n",
    "test_gen = HDF5ImageGenerator(src=TEST_PATH, **args_gen)"
   ]
  },
  {
   "cell_type": "code",
   "execution_count": 6,
   "id": "105d3a3b",
   "metadata": {},
   "outputs": [
    {
     "name": "stdout",
     "output_type": "stream",
     "text": [
      "WARNING:tensorflow:Please add `keras.layers.InputLayer` instead of `keras.Input` to Sequential model. `keras.Input` is intended to be used by Functional model.\n",
      "Model: \"sequential\"\n",
      "_________________________________________________________________\n",
      "Layer (type)                 Output Shape              Param #   \n",
      "=================================================================\n",
      "conv2d (Conv2D)              (None, 32, 127, 127)      1472      \n",
      "_________________________________________________________________\n",
      "max_pooling2d (MaxPooling2D) (None, 32, 63, 63)        0         \n",
      "_________________________________________________________________\n",
      "conv2d_1 (Conv2D)            (None, 64, 63, 63)        8256      \n",
      "_________________________________________________________________\n",
      "max_pooling2d_1 (MaxPooling2 (None, 64, 31, 31)        0         \n",
      "_________________________________________________________________\n",
      "conv2d_2 (Conv2D)            (None, 128, 31, 31)       32896     \n",
      "_________________________________________________________________\n",
      "max_pooling2d_2 (MaxPooling2 (None, 128, 15, 15)       0         \n",
      "_________________________________________________________________\n",
      "conv2d_3 (Conv2D)            (None, 256, 15, 15)       131328    \n",
      "_________________________________________________________________\n",
      "max_pooling2d_3 (MaxPooling2 (None, 256, 7, 7)         0         \n",
      "_________________________________________________________________\n",
      "conv2d_4 (Conv2D)            (None, 256, 7, 7)         262400    \n",
      "_________________________________________________________________\n",
      "max_pooling2d_4 (MaxPooling2 (None, 256, 3, 3)         0         \n",
      "_________________________________________________________________\n",
      "conv2d_5 (Conv2D)            (None, 512, 3, 3)         1180160   \n",
      "_________________________________________________________________\n",
      "conv2d_6 (Conv2D)            (None, 512, 3, 3)         1049088   \n",
      "_________________________________________________________________\n",
      "flatten (Flatten)            (None, 4608)              0         \n",
      "_________________________________________________________________\n",
      "dense (Dense)                (None, 512)               2359808   \n",
      "_________________________________________________________________\n",
      "dense_1 (Dense)              (None, 128)               65664     \n",
      "_________________________________________________________________\n",
      "dense_2 (Dense)              (None, 32)                4128      \n",
      "_________________________________________________________________\n",
      "dense_3 (Dense)              (None, 1)                 33        \n",
      "=================================================================\n",
      "Total params: 5,095,233\n",
      "Trainable params: 5,095,233\n",
      "Non-trainable params: 0\n",
      "_________________________________________________________________\n"
     ]
    }
   ],
   "source": [
    "# model\n",
    "model = Sequential()\n",
    "model.add(Input(shape=(5,127,127)))\n",
    "model.add(Conv2D(32, kernel_size=(3, 3), activation='tanh', padding='same', data_format='channels_first'))\n",
    "model.add(MaxPooling2D(pool_size = (2,2), data_format='channels_first'))\n",
    "model.add(Conv2D(64, kernel_size=(2,2), activation='tanh', padding='same', data_format='channels_first'))\n",
    "model.add(MaxPooling2D(pool_size = (2,2), data_format='channels_first'))\n",
    "model.add(Conv2D(128, kernel_size=(2,2), activation='tanh', padding='same', data_format='channels_first'))\n",
    "model.add(MaxPooling2D(pool_size = (2,2), data_format='channels_first'))\n",
    "model.add(Conv2D(256, kernel_size=(2,2), activation='tanh', padding='same', data_format='channels_first'))\n",
    "model.add(MaxPooling2D(pool_size = (2,2), data_format='channels_first'))\n",
    "model.add(Conv2D(256, kernel_size=(2,2), activation='tanh', padding='same', data_format='channels_first'))\n",
    "model.add(MaxPooling2D(pool_size = (2,2), data_format='channels_first'))\n",
    "model.add(Conv2D(512, kernel_size=(3,3),activation='relu', padding='same', data_format='channels_first'))\n",
    "model.add(Conv2D(512, kernel_size=(2,2),activation='relu', padding='same', data_format='channels_first'))\n",
    "model.add(Flatten())\n",
    "model.add(Dense(512, activation='tanh'))\n",
    "model.add(Dense(128, activation='tanh'))\n",
    "model.add(Dense(32, activation='tanh'))\n",
    "model.add(Dense(1))\n",
    "\n",
    "model.summary()"
   ]
  },
  {
   "cell_type": "code",
   "execution_count": 7,
   "id": "5d8784a9",
   "metadata": {},
   "outputs": [],
   "source": [
    "model.compile(optimizer=tf.keras.optimizers.Adam(learning_rate=0.0001), loss=\"mse\",metrics=[tf.keras.metrics.MeanSquaredError()])"
   ]
  },
  {
   "cell_type": "code",
   "execution_count": 8,
   "id": "0038609c",
   "metadata": {},
   "outputs": [
    {
     "name": "stdout",
     "output_type": "stream",
     "text": [
      "Epoch 1/5\n",
      "784/784 [==============================] - 888s 620ms/step - loss: 0.1257 - mean_squared_error: 0.1257 - val_loss: 0.0837 - val_mean_squared_error: 0.0837\n",
      "Epoch 2/5\n",
      "784/784 [==============================] - 1933s 2s/step - loss: 0.0767 - mean_squared_error: 0.0767 - val_loss: 0.0738 - val_mean_squared_error: 0.0738\n",
      "Epoch 3/5\n",
      "784/784 [==============================] - 1993s 3s/step - loss: 0.0702 - mean_squared_error: 0.0702 - val_loss: 0.0715 - val_mean_squared_error: 0.0715\n",
      "Epoch 4/5\n",
      "784/784 [==============================] - 1969s 3s/step - loss: 0.0641 - mean_squared_error: 0.0641 - val_loss: 0.0642 - val_mean_squared_error: 0.0642\n",
      "Epoch 5/5\n",
      "784/784 [==============================] - 2071s 3s/step - loss: 0.0577 - mean_squared_error: 0.0577 - val_loss: 0.0597 - val_mean_squared_error: 0.0597\n"
     ]
    },
    {
     "data": {
      "text/plain": [
       "<tensorflow.python.keras.callbacks.History at 0x7f4bfc5e4a60>"
      ]
     },
     "execution_count": 8,
     "metadata": {},
     "output_type": "execute_result"
    }
   ],
   "source": [
    "model.fit(train_gen, epochs=EPOCHS, shuffle=True, verbose=1, validation_data=val_gen)"
   ]
  },
  {
   "cell_type": "code",
   "execution_count": 9,
   "id": "e5307e7c",
   "metadata": {},
   "outputs": [],
   "source": [
    "test_preds = model.predict(test_gen)"
   ]
  },
  {
   "cell_type": "code",
   "execution_count": 19,
   "id": "e318bafe",
   "metadata": {},
   "outputs": [
    {
     "data": {
      "text/plain": [
       "(42960, 1)"
      ]
     },
     "execution_count": 19,
     "metadata": {},
     "output_type": "execute_result"
    }
   ],
   "source": [
    "test_preds.shape"
   ]
  },
  {
   "cell_type": "code",
   "execution_count": 32,
   "id": "5cc0b045",
   "metadata": {},
   "outputs": [],
   "source": [
    "y_pred = np.reshape(test_preds, (1, 42960))"
   ]
  },
  {
   "cell_type": "code",
   "execution_count": 40,
   "id": "3414a5fd",
   "metadata": {},
   "outputs": [],
   "source": [
    "hf_test = h5py.File('/data/HSC/HSC_v6/step2A/127x127/five_band_image127x127_with_metadata_corrected_testing.hdf5', 'r')\n",
    "y_test = hf_test['specz_redshift'][np.sort(test_gen._indices)]\n",
    "objID_test = hf_test['object_id'][np.sort(test_gen._indices)]"
   ]
  },
  {
   "cell_type": "code",
   "execution_count": null,
   "id": "124a3f77",
   "metadata": {},
   "outputs": [],
   "source": [
    "hf_test.close()"
   ]
  },
  {
   "cell_type": "code",
   "execution_count": 24,
   "id": "5bdd15e0",
   "metadata": {},
   "outputs": [
    {
     "data": {
      "text/plain": [
       "array([0.43601999, 0.23209   , 0.56511003, ..., 0.67514002, 1.48161995,\n",
       "       0.88402998])"
      ]
     },
     "execution_count": 24,
     "metadata": {},
     "output_type": "execute_result"
    }
   ],
   "source": [
    "y_test"
   ]
  },
  {
   "cell_type": "code",
   "execution_count": 36,
   "id": "e5490908",
   "metadata": {},
   "outputs": [],
   "source": [
    "y_pred = np.ravel(y_pred) # to make ndim = 1"
   ]
  },
  {
   "cell_type": "code",
   "execution_count": 37,
   "id": "2a24d01b",
   "metadata": {},
   "outputs": [
    {
     "data": {
      "image/png": "[encoded data removed]",
      "text/plain": [
       "<Figure size 720x720 with 2 Axes>"
      ]
     },
     "metadata": {},
     "output_type": "display_data"
    }
   ],
   "source": [
    "plot_predictions(y_pred, y_test)"
   ]
  },
  {
   "cell_type": "code",
   "execution_count": 41,
   "id": "b85c13ad",
   "metadata": {},
   "outputs": [],
   "source": [
    "df = pd.DataFrame(y_pred, columns=['photoz'])\n",
    "df['specz'] = y_test\n",
    "df['object_id'] = objID_test"
   ]
  },
  {
   "cell_type": "code",
   "execution_count": 42,
   "id": "315fac02",
   "metadata": {},
   "outputs": [
    {
     "data": {
      "text/html": [
       "<div>\n",
       "<style scoped>\n",
       "    .dataframe tbody tr th:only-of-type {\n",
       "        vertical-align: middle;\n",
       "    }\n",
       "\n",
       "    .dataframe tbody tr th {\n",
       "        vertical-align: top;\n",
       "    }\n",
       "\n",
       "    .dataframe thead th {\n",
       "        text-align: right;\n",
       "    }\n",
       "</style>\n",
       "<table border=\"1\" class=\"dataframe\">\n",
       "  <thead>\n",
       "    <tr style=\"text-align: right;\">\n",
       "      <th></th>\n",
       "      <th>photoz</th>\n",
       "      <th>specz</th>\n",
       "      <th>object_id</th>\n",
       "    </tr>\n",
       "  </thead>\n",
       "  <tbody>\n",
       "    <tr>\n",
       "      <th>0</th>\n",
       "      <td>0.337060</td>\n",
       "      <td>0.43602</td>\n",
       "      <td>36407046198803509</td>\n",
       "    </tr>\n",
       "    <tr>\n",
       "      <th>1</th>\n",
       "      <td>0.276666</td>\n",
       "      <td>0.23209</td>\n",
       "      <td>36407046198804043</td>\n",
       "    </tr>\n",
       "    <tr>\n",
       "      <th>2</th>\n",
       "      <td>0.531272</td>\n",
       "      <td>0.56511</td>\n",
       "      <td>36407050493759629</td>\n",
       "    </tr>\n",
       "    <tr>\n",
       "      <th>3</th>\n",
       "      <td>0.536946</td>\n",
       "      <td>0.55775</td>\n",
       "      <td>36407050493773284</td>\n",
       "    </tr>\n",
       "    <tr>\n",
       "      <th>4</th>\n",
       "      <td>0.405591</td>\n",
       "      <td>0.44495</td>\n",
       "      <td>36407054788744371</td>\n",
       "    </tr>\n",
       "    <tr>\n",
       "      <th>...</th>\n",
       "      <td>...</td>\n",
       "      <td>...</td>\n",
       "      <td>...</td>\n",
       "    </tr>\n",
       "    <tr>\n",
       "      <th>42955</th>\n",
       "      <td>0.693535</td>\n",
       "      <td>0.76575</td>\n",
       "      <td>74649160124473935</td>\n",
       "    </tr>\n",
       "    <tr>\n",
       "      <th>42956</th>\n",
       "      <td>0.872707</td>\n",
       "      <td>0.98303</td>\n",
       "      <td>74649160124493654</td>\n",
       "    </tr>\n",
       "    <tr>\n",
       "      <th>42957</th>\n",
       "      <td>0.536456</td>\n",
       "      <td>0.67514</td>\n",
       "      <td>74649160124502454</td>\n",
       "    </tr>\n",
       "    <tr>\n",
       "      <th>42958</th>\n",
       "      <td>1.507261</td>\n",
       "      <td>1.48162</td>\n",
       "      <td>74649164419466433</td>\n",
       "    </tr>\n",
       "    <tr>\n",
       "      <th>42959</th>\n",
       "      <td>0.767277</td>\n",
       "      <td>0.88403</td>\n",
       "      <td>74649168714406416</td>\n",
       "    </tr>\n",
       "  </tbody>\n",
       "</table>\n",
       "<p>42960 rows × 3 columns</p>\n",
       "</div>"
      ],
      "text/plain": [
       "         photoz    specz          object_id\n",
       "0      0.337060  0.43602  36407046198803509\n",
       "1      0.276666  0.23209  36407046198804043\n",
       "2      0.531272  0.56511  36407050493759629\n",
       "3      0.536946  0.55775  36407050493773284\n",
       "4      0.405591  0.44495  36407054788744371\n",
       "...         ...      ...                ...\n",
       "42955  0.693535  0.76575  74649160124473935\n",
       "42956  0.872707  0.98303  74649160124493654\n",
       "42957  0.536456  0.67514  74649160124502454\n",
       "42958  1.507261  1.48162  74649164419466433\n",
       "42959  0.767277  0.88403  74649168714406416\n",
       "\n",
       "[42960 rows x 3 columns]"
      ]
     },
     "execution_count": 42,
     "metadata": {},
     "output_type": "execute_result"
    }
   ],
   "source": [
    "df"
   ]
  },
  {
   "cell_type": "code",
   "execution_count": 44,
   "id": "9134b463",
   "metadata": {},
   "outputs": [],
   "source": [
    "if os.path.exists(f'/predictions/{model_name}') == False:\n",
    "    os.makedirs(f'/predictions/{model_name}')\n",
    "    \n",
    "df.to_csv(f'/predictions/{model_name}/testing_predictions_big.csv', index=False)"
   ]
  },
  {
   "cell_type": "code",
   "execution_count": 45,
   "id": "ed12363e",
   "metadata": {},
   "outputs": [],
   "source": [
    "metrics = get_point_metrics(pd.Series(y_pred), pd.Series(y_test), zmax=2.5, binned=False)\n",
    "\n",
    "if os.path.exists(f'predictions/{model_name}') ==  False:\n",
    "    os.makedirs(f'predictions/{model_name}')\n",
    "    \n",
    "metrics.to_csv(f'/predictions/{model_name}/testing_metrics_big.csv', index=False)"
   ]
  },
  {
   "cell_type": "code",
   "execution_count": null,
   "id": "9b1cd1b4",
   "metadata": {},
   "outputs": [],
   "source": []
  }
 ],
 "metadata": {
  "kernelspec": {
   "display_name": "Python 3",
   "language": "python",
   "name": "python3"
  },
  "language_info": {
   "codemirror_mode": {
    "name": "ipython",
    "version": 3
   },
   "file_extension": ".py",
   "mimetype": "text/x-python",
   "name": "python",
   "nbconvert_exporter": "python",
   "pygments_lexer": "ipython3",
   "version": "3.8.10"
  }
 },
 "nbformat": 4,
 "nbformat_minor": 5
}
