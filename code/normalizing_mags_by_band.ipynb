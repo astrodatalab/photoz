{
 "cells": [
  {
   "cell_type": "code",
   "execution_count": 1,
   "id": "dd0c96c3",
   "metadata": {},
   "outputs": [
    {
     "name": "stderr",
     "output_type": "stream",
     "text": [
      "2023-08-16 10:38:23.319294: I tensorflow/core/platform/cpu_feature_guard.cc:193] This TensorFlow binary is optimized with oneAPI Deep Neural Network Library (oneDNN) to use the following CPU instructions in performance-critical operations:  AVX2 FMA\n",
      "To enable them in other operations, rebuild TensorFlow with the appropriate compiler flags.\n",
      "2023-08-16 10:38:23.991501: W tensorflow/compiler/xla/stream_executor/platform/default/dso_loader.cc:64] Could not load dynamic library 'libnvinfer.so.7'; dlerror: libnvinfer.so.7: cannot open shared object file: No such file or directory\n",
      "2023-08-16 10:38:23.991570: W tensorflow/compiler/xla/stream_executor/platform/default/dso_loader.cc:64] Could not load dynamic library 'libnvinfer_plugin.so.7'; dlerror: libnvinfer_plugin.so.7: cannot open shared object file: No such file or directory\n",
      "2023-08-16 10:38:23.991575: W tensorflow/compiler/tf2tensorrt/utils/py_utils.cc:38] TF-TRT Warning: Cannot dlopen some TensorRT libraries. If you would like to use Nvidia GPU with TensorRT, please make sure the missing libraries mentioned above are installed properly.\n"
     ]
    }
   ],
   "source": [
    "import h5py\n",
    "import pandas as pd\n",
    "import shutil\n",
    "import tensorflow as tf\n",
    "from sklearn.preprocessing import StandardScaler"
   ]
  },
  {
   "cell_type": "code",
   "execution_count": 2,
   "id": "dd4ffeba",
   "metadata": {},
   "outputs": [
    {
     "name": "stdout",
     "output_type": "stream",
     "text": [
      "1 Physical GPUs, 1 Logical GPUs\n"
     ]
    }
   ],
   "source": [
    "gpus = tf.config.list_physical_devices('GPU')\n",
    "if gpus:\n",
    "    try:\n",
    "        tf.config.experimental.set_virtual_device_configuration(\n",
    "            gpus[0],\n",
    "            [tf.config.experimental.VirtualDeviceConfiguration(10*1000)])\n",
    "        logical_gpus = tf.config.experimental.list_logical_devices('GPU')\n",
    "        print(len(gpus), \"Physical GPUs,\", len(logical_gpus), \"Logical GPUs\")\n",
    "    except RuntimeError as e:\n",
    "        print(e)"
   ]
  },
  {
   "cell_type": "code",
   "execution_count": 3,
   "id": "e10bda01",
   "metadata": {},
   "outputs": [],
   "source": [
    "TRAIN_OLD = f'/data/HSC/HSC_v6/step2A/127x127/5x127x127_training_with_mags_normalized.hdf5'\n",
    "VAL_OLD = f'/data/HSC/HSC_v6/step2A/127x127/5x127x127_validation_with_mags_normalized.hdf5'\n",
    "TEST_OLD = f'/data/HSC/HSC_v6/step2A/127x127/5x127x127_testing_with_mags_normalized.hdf5'\n",
    "TRAIN_NEW = f'/data/HSC/HSC_v6/step2A/127x127/5x127x127_training_with_mags_normalized_by_band.hdf5'\n",
    "VAL_NEW = f'/data/HSC/HSC_v6/step2A/127x127/5x127x127_validation_with_mags_normalized_by_band.hdf5'\n",
    "TEST_NEW = f'/data/HSC/HSC_v6/step2A/127x127/5x127x127_testing_with_mags_normalized_by_band.hdf5'\n",
    "with h5py.File(TRAIN_OLD, 'r') as f:\n",
    "    shutil.copyfile(TRAIN_OLD, TRAIN_NEW)\n",
    "with h5py.File(VAL_OLD, 'r') as f:\n",
    "    shutil.copyfile(VAL_OLD, VAL_NEW)\n",
    "with h5py.File(TEST_OLD, 'r') as f:\n",
    "    shutil.copyfile(TEST_OLD, TEST_NEW)"
   ]
  },
  {
   "cell_type": "code",
   "execution_count": null,
   "id": "b770364a",
   "metadata": {},
   "outputs": [],
   "source": [
    "with h5py.File(TRAIN_OLD, 'r') as f:\n",
    "    train_len = len(f['object_id'])\n",
    "with h5py.File(VAL_OLD, 'r') as f:\n",
    "    val_len = len(f['object_id'])\n",
    "with h5py.File(TEST_OLD, 'r') as f:\n",
    "    test_len = len(f['object_id'])"
   ]
  },
  {
   "cell_type": "code",
   "execution_count": null,
   "id": "0a1cd0f5",
   "metadata": {},
   "outputs": [],
   "source": [
    "train_len"
   ]
  },
  {
   "cell_type": "code",
   "execution_count": null,
   "id": "45bf9277",
   "metadata": {},
   "outputs": [],
   "source": [
    "scaler_list = [StandardScaler() for i in range(5)]"
   ]
  },
  {
   "cell_type": "code",
   "execution_count": null,
   "id": "978329ef",
   "metadata": {},
   "outputs": [],
   "source": [
    "feat_list = ['g_cmodel_mag', 'r_cmodel_mag', 'i_cmodel_mag', 'z_cmodel_mag', 'y_cmodel_mag']"
   ]
  },
  {
   "cell_type": "code",
   "execution_count": null,
   "id": "6834f990",
   "metadata": {},
   "outputs": [],
   "source": [
    "with h5py.File(TRAIN_NEW, 'a') as f:\n",
    "    for i, feat in enumerate(feat_list):\n",
    "        f[feat+'_normalized'] = scaler_list[i].fit_transform(f[feat][:].reshape(-1,1)).reshape(train_len)"
   ]
  },
  {
   "cell_type": "code",
   "execution_count": null,
   "id": "07320fd8",
   "metadata": {},
   "outputs": [],
   "source": [
    "with h5py.File(VAL_NEW, 'a') as f:\n",
    "    for i, feat in enumerate(feat_list):\n",
    "        f[feat+'_normalized'] = scaler_list[i].transform(f[feat][:].reshape(-1,1)).reshape(val_len)"
   ]
  },
  {
   "cell_type": "code",
   "execution_count": null,
   "id": "3f5a6fe0",
   "metadata": {},
   "outputs": [],
   "source": [
    "with h5py.File(TEST_NEW, 'a') as f:\n",
    "    for i, feat in enumerate(feat_list):\n",
    "        f[feat+'_normalized'] = scaler_list[i].transform(f[feat][:].reshape(-1,1)).reshape(test_len)"
   ]
  },
  {
   "cell_type": "code",
   "execution_count": null,
   "id": "5f8add12",
   "metadata": {},
   "outputs": [],
   "source": [
    "with h5py.File(TEST_NEW, 'r') as f:\n",
    "    print(f['g_cmodel_mag_normalized'][:])"
   ]
  },
  {
   "cell_type": "code",
   "execution_count": null,
   "id": "0dbd3633",
   "metadata": {},
   "outputs": [],
   "source": []
  }
 ],
 "metadata": {
  "kernelspec": {
   "display_name": "Python 3 (ipykernel)",
   "language": "python",
   "name": "python3"
  },
  "language_info": {
   "codemirror_mode": {
    "name": "ipython",
    "version": 3
   },
   "file_extension": ".py",
   "mimetype": "text/x-python",
   "name": "python",
   "nbconvert_exporter": "python",
   "pygments_lexer": "ipython3",
   "version": "3.10.10"
  }
 },
 "nbformat": 4,
 "nbformat_minor": 5
}
