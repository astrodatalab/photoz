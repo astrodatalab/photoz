{
 "cells": [
  {
   "cell_type": "code",
   "execution_count": 1,
   "id": "82d99750",
   "metadata": {},
   "outputs": [],
   "source": [
    "import matplotlib.pyplot as plt\n",
    "import numpy as np\n",
    "import pandas as pd\n",
    "import csv\n",
    "from sklearn.ensemble import RandomForestRegressor\n",
    "from sklearn.model_selection import train_test_split\n",
    "import astropy.stats as astrostats\n",
    "import scipy.stats as stats"
   ]
  },
  {
   "cell_type": "code",
   "execution_count": 2,
   "id": "de123b13",
   "metadata": {},
   "outputs": [],
   "source": [
    "def calculate_bias(predictions,true_values):\n",
    "    \n",
    "# calculate a systematic bias in delz\n",
    "\n",
    "# predictions is an array for point estimates of redshifts\n",
    "# true_values is an array for true values of redshifts\n",
    "\n",
    "    delz = (predictions-true_values)/(1+true_values)\n",
    "\n",
    "    bias = sum(delz)/len(delz)\n",
    "    return bias"
   ]
  },
  {
   "cell_type": "code",
   "execution_count": 3,
   "id": "2b399d6f",
   "metadata": {},
   "outputs": [],
   "source": [
    "def calculate_conv_disp(predictions, true_values):\n",
    "\n",
    "# calculate the conventional dispersion\n",
    "    \n",
    "    delz = (predictions-true_values)/(1+true_values)\n",
    "    MAD = stats.median_abs_deviation(delz)\n",
    "    disp = 1.48*MAD\n",
    "    \n",
    "    return disp"
   ]
  },
  {
   "cell_type": "code",
   "execution_count": 4,
   "id": "68faf96f",
   "metadata": {},
   "outputs": [],
   "source": [
    "def calculate_disp (predictions,true_values):\n",
    "    \n",
    "# calculate the dispersion using biweight statistics\n",
    "    \n",
    "    delz = (predictions-true_values)/(1+true_values)\n",
    "    filtered_delz = astrostats.sigma_clip(delz, sigma = 3)\n",
    "    filtered_delz = astrostats.sigma_clip(filtered_delz, sigma = 3)\n",
    "    filtered_delz = astrostats.sigma_clip(filtered_delz, sigma = 3)\n",
    "    \n",
    "    MAD = astrostats.median_absolute_deviation(filtered_delz)\n",
    "    disp = 1.48*MAD\n",
    "    \n",
    "    return disp\n"
   ]
  },
  {
   "cell_type": "code",
   "execution_count": 5,
   "id": "42fde75d",
   "metadata": {},
   "outputs": [],
   "source": [
    "def calculate_outlier_rate (predictions, true_values):\n",
    "\n",
    "#predictions and true_values should have the same length\n",
    "#the output of this function is the outlier rate of the predictions compared to the true values\n",
    "\n",
    "    delz = abs(predictions - true_values)-0.15*(1+true_values)\n",
    "    number_outlier_point = len(np.where(delz > 0)[0])\n",
    "\n",
    "    outlier_rate_point = number_outlier_point*1.0/len(true_values)\n",
    "\n",
    "    return outlier_rate_point"
   ]
  },
  {
   "cell_type": "code",
   "execution_count": 6,
   "id": "70412cf0",
   "metadata": {},
   "outputs": [],
   "source": [
    "def calculate_loss_function(predictions, true_values):\n",
    "    \n",
    "    delz = abs(predictions - true_values)-0.15*(1+true_values)\n",
    "    L = 1-(1/(1+(delz/0.15)**2))\n",
    "    \n",
    "    return L"
   ]
  },
  {
   "cell_type": "code",
   "execution_count": 7,
   "id": "bd042de5",
   "metadata": {},
   "outputs": [],
   "source": [
    "def generate_pdf_random_forest(number_estimator,X_train,y_train,X_test):\n",
    "\n",
    "#number_estimator is an integer for the number of estimators for the random forest model\n",
    "#X_train is an array for training set of inputs\n",
    "#y_train is an array for training set of true values\n",
    "#X_test is an array for testing set for inputs\n",
    "#the output of this function is the predictions of pdfs of the X_test.\n",
    "#output is a N x number_estimator array, where N is the number of elements in X_test. \n",
    "    \n",
    "    randomForest = RandomForestRegressor(n_estimators = number_estimator)\n",
    "    randomForest.fit(X_train, y_train)\n",
    "    \n",
    "    predictions = []\n",
    "    for i in range (number_estimator):\n",
    "        predictions.append(\n",
    "        np.array(\n",
    "        randomForest.estimators_[i].predict(X_test)))\n",
    "    \n",
    "    predictions = np.asarray(predictions).T\n",
    "    predictions = np.sort(predictions, axis = 1)\n",
    "    \n",
    "    return predictions"
   ]
  },
  {
   "cell_type": "code",
   "execution_count": 8,
   "id": "69464872",
   "metadata": {},
   "outputs": [],
   "source": [
    "def calculate_PIT(predictions,true_value):\n",
    "\n",
    "# predictions is a two dimentional array. Each row is a PDF for the estimation of redshift for a galaxy. \n",
    "# y_test is an array containing the true_value of redshift for all the galaxies. \n",
    "# the ouput of this function is a PIT distribution for all the PDFs. \n",
    "\n",
    "    PIT  = np.zeros(len(predictions))\n",
    "    \n",
    "    for i in range (len(predictions)):          \n",
    "        PIT[i] = len(np.where(predictions[i]<true_value[i])[0])*1.0/len(predictions[0])\n",
    "        \n",
    "    return PIT"
   ]
  },
  {
   "cell_type": "code",
   "execution_count": 9,
   "id": "9ea1383e",
   "metadata": {},
   "outputs": [],
   "source": [
    "def calculate_CRPS(predictions,true_values):\n",
    "    \n",
    "    length = len(predictions[0])\n",
    "    crps = np.zeros(len(predictions))\n",
    "    for i in range (len(predictions)):\n",
    "        for j in range (200):\n",
    "            z = 4.0*j/200\n",
    "            if z < true_values[i]:\n",
    "                crps[i] += ((len(np.where(predictions[i]<z)[0])*1.0/length)**2)*(4.0/200)\n",
    "            else:\n",
    "                crps[i] += ((len(np.where(predictions[i]<z)[0])*1.0/length-1)**2)*(4.0/200)\n",
    "    return crps"
   ]
  },
  {
   "cell_type": "code",
   "execution_count": 10,
   "id": "446f9b8c",
   "metadata": {},
   "outputs": [],
   "source": [
    "photozdata = pd.read_csv('/data/HSC/HSC_IMAGES_FIXED/HSC_photozdata_full_header_trimmed.csv')"
   ]
  },
  {
   "cell_type": "code",
   "execution_count": 11,
   "id": "f7db484a",
   "metadata": {},
   "outputs": [],
   "source": [
    "filt =(photozdata['specz_redshift_err'] >0)\\\n",
    "&(photozdata['specz_redshift_err'] < 1)\\\n",
    "&(photozdata[\"specz_redshift\"] > 0)\\\n",
    "&(photozdata[\"specz_redshift\"]<4)\n",
    "\n",
    "photozdata_subset = photozdata[filt]"
   ]
  },
  {
   "cell_type": "code",
   "execution_count": 12,
   "id": "5b640975",
   "metadata": {},
   "outputs": [],
   "source": [
    "y = photozdata_subset['specz_redshift']\n",
    "X = photozdata_subset[['g_cmodel_mag','r_cmodel_mag','i_cmodel_mag','z_cmodel_mag','y_cmodel_mag']]\n",
    "X_train,X_test,y_train,y_test = train_test_split(X,y,test_size=0.2)\n",
    "y_test = np.asarray(y_test)"
   ]
  },
  {
   "cell_type": "code",
   "execution_count": 13,
   "id": "3582e506",
   "metadata": {},
   "outputs": [
    {
     "data": {
      "text/plain": [
       "RandomForestRegressor()"
      ]
     },
     "execution_count": 13,
     "metadata": {},
     "output_type": "execute_result"
    }
   ],
   "source": [
    "randomForest = RandomForestRegressor()\n",
    "randomForest.fit(X_train, y_train)"
   ]
  },
  {
   "cell_type": "code",
   "execution_count": 14,
   "id": "4f05988e",
   "metadata": {},
   "outputs": [],
   "source": [
    "y_test_predict = randomForest.predict(X_test)"
   ]
  },
  {
   "cell_type": "code",
   "execution_count": 15,
   "id": "81fc71b8",
   "metadata": {},
   "outputs": [
    {
     "name": "stdout",
     "output_type": "stream",
     "text": [
      "0.03474311913367123\n",
      "0.0681739241633844\n",
      "0.08047461860730765\n",
      "0.2281969740772863\n",
      "[0.4538905  0.17089263 0.93905724 ... 0.55278074 0.60952835 0.77111103]\n"
     ]
    }
   ],
   "source": [
    "bias = calculate_bias(y_test_predict,y_test)\n",
    "disp = calculate_disp(y_test_predict,y_test)\n",
    "conv_disp = calculate_conv_disp(y_test_predict,y_test)\n",
    "outlier_rate = calculate_outlier_rate(y_test_predict,y_test)\n",
    "loss_function = calculate_loss_function(y_test_predict,y_test)\n",
    "\n",
    "\n",
    "print(bias)\n",
    "print(disp)\n",
    "print(conv_disp)\n",
    "print (outlier_rate)\n",
    "print (loss_function)"
   ]
  },
  {
   "cell_type": "code",
   "execution_count": null,
   "id": "3b2cce00",
   "metadata": {},
   "outputs": [],
   "source": [
    "predictions = generate_pdf_random_forest(200,X_train,y_train,X_test)"
   ]
  },
  {
   "cell_type": "code",
   "execution_count": null,
   "id": "aa0c6ebf",
   "metadata": {},
   "outputs": [],
   "source": [
    "PIT  = calculate_PIT(predictions,y_test)\n",
    "plt.hist(PIT, bins = 50)"
   ]
  },
  {
   "cell_type": "code",
   "execution_count": null,
   "id": "0811e513",
   "metadata": {},
   "outputs": [],
   "source": [
    "CRPS = calculate_CRPS(predictions,y_test)"
   ]
  },
  {
   "cell_type": "code",
   "execution_count": null,
   "id": "46169857",
   "metadata": {},
   "outputs": [],
   "source": [
    "plt.hist(CRPS,bins = 50)"
   ]
  }
 ],
 "metadata": {
  "kernelspec": {
   "display_name": "Python 3",
   "language": "python",
   "name": "python3"
  },
  "language_info": {
   "codemirror_mode": {
    "name": "ipython",
    "version": 3
   },
   "file_extension": ".py",
   "mimetype": "text/x-python",
   "name": "python",
   "nbconvert_exporter": "python",
   "pygments_lexer": "ipython3",
   "version": "3.8.10"
  }
 },
 "nbformat": 4,
 "nbformat_minor": 5
}
