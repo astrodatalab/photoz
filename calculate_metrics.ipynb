{
 "cells": [
  {
   "cell_type": "code",
   "execution_count": 129,
   "id": "82d99750",
   "metadata": {},
   "outputs": [],
   "source": [
    "import matplotlib.pyplot as plt\n",
    "import numpy as np\n",
    "import pandas as pd\n",
    "import csv\n",
    "from sklearn.ensemble import RandomForestRegressor\n",
    "from sklearn.model_selection import train_test_split\n",
    "import astropy.stats as astrostats\n",
    "import scipy.stats as stats"
   ]
  },
  {
   "cell_type": "code",
   "execution_count": 140,
   "id": "de123b13",
   "metadata": {},
   "outputs": [],
   "source": [
    "def calculate_bias(predictions,true_values):\n",
    "    \n",
    "# calculate a systematic bias in delz\n",
    "\n",
    "# predictions is an array for point estimates of redshifts\n",
    "# true_values is an array for true values of redshifts\n",
    "\n",
    "    delz = (predictions-true_values)/(1+true_values)\n",
    "\n",
    "    bias = sum(delz)/len(delz)\n",
    "    return bias"
   ]
  },
  {
   "cell_type": "code",
   "execution_count": 97,
   "id": "2b399d6f",
   "metadata": {},
   "outputs": [],
   "source": [
    "def calculate_conv_disp(predictions, true_values):\n",
    "\n",
    "# calculate the conventional dispersion\n",
    "    \n",
    "    delz = (predictions-true_values)/(1+true_values)\n",
    "    MAD = stats.median_abs_deviation(delz)\n",
    "    disp = 1.48*MAD\n",
    "    \n",
    "    return disp"
   ]
  },
  {
   "cell_type": "code",
   "execution_count": 101,
   "id": "68faf96f",
   "metadata": {},
   "outputs": [],
   "source": [
    "def calculate_disp (predictions,true_values):\n",
    "    \n",
    "# calculate the dispersion using biweight statistics\n",
    "    \n",
    "    delz = (predictions-true_values)/(1+true_values)\n",
    "    filtered_delz = astrostats.sigma_clip(delz, sigma = 3)\n",
    "    filtered_delz = astrostats.sigma_clip(filtered_delz, sigma = 3)\n",
    "    filtered_delz = astrostats.sigma_clip(filtered_delz, sigma = 3)\n",
    "    \n",
    "    MAD = astrostats.median_absolute_deviation(filtered_delz)\n",
    "    disp = 1.48*MAD\n",
    "    \n",
    "    return disp\n"
   ]
  },
  {
   "cell_type": "code",
   "execution_count": 120,
   "id": "42fde75d",
   "metadata": {},
   "outputs": [],
   "source": [
    "def calculate_outlier_rate (predictions, true_values):\n",
    "\n",
    "#predictions and true_values should have the same length\n",
    "#the output of this function is the outlier rate of the predictions compared to the true values\n",
    "\n",
    "    delz = abs(predictions - true_values)-0.15*(1+true_values)\n",
    "    number_outlier_point = len(np.where(delz > 0)[0])\n",
    "\n",
    "    outlier_rate_point = number_outlier_point*1.0/len(true_values)\n",
    "\n",
    "    return outlier_rate_point"
   ]
  },
  {
   "cell_type": "code",
   "execution_count": 146,
   "id": "70412cf0",
   "metadata": {},
   "outputs": [],
   "source": [
    "def calculate_loss_function(predictions, true_values):\n",
    "    \n",
    "    delz = abs(predictions - true_values)-0.15*(1+true_values)\n",
    "    L = 1-(1/(1+(delz/0.15)**2))\n",
    "    \n",
    "    return L"
   ]
  },
  {
   "cell_type": "code",
   "execution_count": null,
   "id": "bd042de5",
   "metadata": {},
   "outputs": [],
   "source": [
    "def generate_pdf_random_forest(number_estimator,X_train,y_train,X_test):\n",
    "\n",
    "#number_estimator is an integer for the number of estimators for the random forest model\n",
    "#X_train is an array for training set of inputs\n",
    "#y_train is an array for training set of true values\n",
    "#X_test is an array for testing set for inputs\n",
    "#the output of this function is the predictions of pdfs of the X_test.\n",
    "#output is a N x number_estimator array, where N is the number of elements in X_test. \n",
    "    \n",
    "    randomForest = RandomForestRegressor(n_estimators = number_estimator)\n",
    "    randomForest.fit(X_train, y_train)\n",
    "    \n",
    "    predictions = []\n",
    "    for i in range (number_estimator):\n",
    "        predictions.append(\n",
    "        np.array(\n",
    "        randomForest.estimators_[i].predict(X_test)))\n",
    "    \n",
    "    predictions = np.asarray(predictions).T\n",
    "    predictions = np.sort(predictions, axis = 1)\n",
    "    \n",
    "    return predictions"
   ]
  },
  {
   "cell_type": "code",
   "execution_count": 152,
   "id": "69464872",
   "metadata": {},
   "outputs": [],
   "source": [
    "def calculate_PIT(predictions,true_value):\n",
    "\n",
    "# predictions is a two dimentional array. Each row is a PDF for the estimation of redshift for a galaxy. \n",
    "# y_test is an array containing the true_value of redshift for all the galaxies. \n",
    "# the ouput of this function is a PIT distribution for all the PDFs. \n",
    "\n",
    "    PIT  = np.zeros(len(predictions))\n",
    "    \n",
    "    for i in range (len(predictions)):          \n",
    "        PIT[i] = len(np.where(predictions[i]<true_value[i])[0])*1.0/len(predictions[0])\n",
    "        \n",
    "    return PIT"
   ]
  },
  {
   "cell_type": "code",
   "execution_count": 154,
   "id": "9ea1383e",
   "metadata": {},
   "outputs": [],
   "source": [
    "def calculate_CRPS(predictions,true_values):\n",
    "    \n",
    "    length = len(predictions[0])\n",
    "    crps = np.zeros(len(predictions))\n",
    "    for i in range (len(predictions)):\n",
    "        for j in range (200):\n",
    "            z = 4.0*j/200\n",
    "            if z < true_values[i]:\n",
    "                crps[i] += ((len(np.where(predictions[i]<z)[0])*1.0/length)**2)*(4.0/200)\n",
    "            else:\n",
    "                crps[i] += ((len(np.where(predictions[i]<z)[0])*1.0/length-1)**2)*(4.0/200)\n",
    "    return crps"
   ]
  },
  {
   "cell_type": "code",
   "execution_count": 122,
   "id": "446f9b8c",
   "metadata": {},
   "outputs": [],
   "source": [
    "photozdata = pd.read_csv('/data/HSC/HSC_IMAGES_FIXED/HSC_photozdata_full_header_trimmed.csv')"
   ]
  },
  {
   "cell_type": "code",
   "execution_count": 123,
   "id": "f7db484a",
   "metadata": {},
   "outputs": [],
   "source": [
    "filt =(photozdata['specz_redshift_err'] >0)\\\n",
    "&(photozdata['specz_redshift_err'] < 1)\\\n",
    "&(photozdata[\"specz_redshift\"] > 0)\\\n",
    "&(photozdata[\"specz_redshift\"]<4)\n",
    "\n",
    "photozdata_subset = photozdata[filt]"
   ]
  },
  {
   "cell_type": "code",
   "execution_count": 124,
   "id": "5b640975",
   "metadata": {},
   "outputs": [],
   "source": [
    "y = photozdata_subset['specz_redshift']\n",
    "X = photozdata_subset[['g_cmodel_mag','r_cmodel_mag','i_cmodel_mag','z_cmodel_mag','y_cmodel_mag']]\n",
    "X_train,X_test,y_train,y_test = train_test_split(X,y,test_size=0.2)\n",
    "y_test = np.asarray(y_test)"
   ]
  },
  {
   "cell_type": "code",
   "execution_count": 125,
   "id": "3582e506",
   "metadata": {},
   "outputs": [
    {
     "data": {
      "text/plain": [
       "RandomForestRegressor()"
      ]
     },
     "execution_count": 125,
     "metadata": {},
     "output_type": "execute_result"
    }
   ],
   "source": [
    "randomForest = RandomForestRegressor()\n",
    "randomForest.fit(X_train, y_train)"
   ]
  },
  {
   "cell_type": "code",
   "execution_count": 126,
   "id": "4f05988e",
   "metadata": {},
   "outputs": [],
   "source": [
    "y_test_predict = randomForest.predict(X_test)"
   ]
  },
  {
   "cell_type": "code",
   "execution_count": 148,
   "id": "81fc71b8",
   "metadata": {},
   "outputs": [
    {
     "name": "stdout",
     "output_type": "stream",
     "text": [
      "0.036321402202446416\n",
      "0.0682913900783194\n",
      "0.0824698029698843\n",
      "0.22376409366869038\n",
      "[3.84382182e-01 4.78011921e-01 3.09490861e-01 ... 8.35513187e-01\n",
      " 6.00863262e-06 6.02542946e-01]\n"
     ]
    }
   ],
   "source": [
    "bias = calculate_bias(y_test_predict,y_test)\n",
    "disp = calculate_disp(y_test_predict,y_test)\n",
    "conv_disp = calculate_conv_disp(y_test_predict,y_test)\n",
    "outlier_rate = calculate_outlier_rate(y_test_predict,y_test)\n",
    "loss_function = calculate_loss_function(y_test_predict,y_test)\n",
    "\n",
    "\n",
    "print(bias)\n",
    "print(disp)\n",
    "print(conv_disp)\n",
    "print (outlier_rate)\n",
    "print (loss_function)"
   ]
  },
  {
   "cell_type": "code",
   "execution_count": 150,
   "id": "3b2cce00",
   "metadata": {},
   "outputs": [],
   "source": [
    "predictions = generate_pdf_random_forest(200,X_train,y_train,X_test)"
   ]
  },
  {
   "cell_type": "code",
   "execution_count": 153,
   "id": "aa0c6ebf",
   "metadata": {},
   "outputs": [
    {
     "data": {
      "text/plain": [
       "(array([293., 215., 201., 187., 204., 206., 190., 180., 182., 196., 215.,\n",
       "        199., 195., 204., 204., 202., 203., 208., 219., 197., 196., 195.,\n",
       "        222., 210., 201., 248., 198., 218., 223., 216., 224., 236., 228.,\n",
       "        204., 281., 148., 207., 182., 198., 215., 249., 134., 194., 191.,\n",
       "        166., 191., 227., 158., 168., 349.]),\n",
       " array([0.  , 0.02, 0.04, 0.06, 0.08, 0.1 , 0.12, 0.14, 0.16, 0.18, 0.2 ,\n",
       "        0.22, 0.24, 0.26, 0.28, 0.3 , 0.32, 0.34, 0.36, 0.38, 0.4 , 0.42,\n",
       "        0.44, 0.46, 0.48, 0.5 , 0.52, 0.54, 0.56, 0.58, 0.6 , 0.62, 0.64,\n",
       "        0.66, 0.68, 0.7 , 0.72, 0.74, 0.76, 0.78, 0.8 , 0.82, 0.84, 0.86,\n",
       "        0.88, 0.9 , 0.92, 0.94, 0.96, 0.98, 1.  ]),\n",
       " <BarContainer object of 50 artists>)"
      ]
     },
     "execution_count": 153,
     "metadata": {},
     "output_type": "execute_result"
    },
    {
     "data": {
      "image/png": "[encoded data removed]",
      "text/plain": [
       "<Figure size 432x288 with 1 Axes>"
      ]
     },
     "metadata": {
      "needs_background": "light"
     },
     "output_type": "display_data"
    }
   ],
   "source": [
    "PIT  = calculate_PIT(predictions,y_test)\n",
    "plt.hist(PIT, bins = 50)"
   ]
  },
  {
   "cell_type": "code",
   "execution_count": 158,
   "id": "0811e513",
   "metadata": {},
   "outputs": [],
   "source": [
    "CRPS = calculate_CRPS(predictions,y_test)"
   ]
  },
  {
   "cell_type": "code",
   "execution_count": 161,
   "id": "46169857",
   "metadata": {},
   "outputs": [
    {
     "data": {
      "text/plain": [
       "(array([5.559e+03, 1.946e+03, 8.960e+02, 4.790e+02, 3.360e+02, 2.340e+02,\n",
       "        1.770e+02, 1.520e+02, 1.200e+02, 8.800e+01, 7.600e+01, 5.300e+01,\n",
       "        3.100e+01, 2.600e+01, 1.700e+01, 1.800e+01, 1.500e+01, 1.500e+01,\n",
       "        6.000e+00, 1.300e+01, 1.100e+01, 7.000e+00, 6.000e+00, 9.000e+00,\n",
       "        3.000e+00, 4.000e+00, 9.000e+00, 9.000e+00, 3.000e+00, 5.000e+00,\n",
       "        6.000e+00, 7.000e+00, 5.000e+00, 5.000e+00, 5.000e+00, 3.000e+00,\n",
       "        4.000e+00, 0.000e+00, 3.000e+00, 2.000e+00, 3.000e+00, 1.000e+00,\n",
       "        3.000e+00, 3.000e+00, 1.000e+00, 0.000e+00, 0.000e+00, 2.000e+00,\n",
       "        0.000e+00, 1.000e+00]),\n",
       " array([2.31300000e-03, 6.93250500e-02, 1.36337100e-01, 2.03349150e-01,\n",
       "        2.70361200e-01, 3.37373250e-01, 4.04385300e-01, 4.71397350e-01,\n",
       "        5.38409400e-01, 6.05421450e-01, 6.72433500e-01, 7.39445550e-01,\n",
       "        8.06457600e-01, 8.73469650e-01, 9.40481700e-01, 1.00749375e+00,\n",
       "        1.07450580e+00, 1.14151785e+00, 1.20852990e+00, 1.27554195e+00,\n",
       "        1.34255400e+00, 1.40956605e+00, 1.47657810e+00, 1.54359015e+00,\n",
       "        1.61060220e+00, 1.67761425e+00, 1.74462630e+00, 1.81163835e+00,\n",
       "        1.87865040e+00, 1.94566245e+00, 2.01267450e+00, 2.07968655e+00,\n",
       "        2.14669860e+00, 2.21371065e+00, 2.28072270e+00, 2.34773475e+00,\n",
       "        2.41474680e+00, 2.48175885e+00, 2.54877090e+00, 2.61578295e+00,\n",
       "        2.68279500e+00, 2.74980705e+00, 2.81681910e+00, 2.88383115e+00,\n",
       "        2.95084320e+00, 3.01785525e+00, 3.08486730e+00, 3.15187935e+00,\n",
       "        3.21889140e+00, 3.28590345e+00, 3.35291550e+00]),\n",
       " <BarContainer object of 50 artists>)"
      ]
     },
     "execution_count": 161,
     "metadata": {},
     "output_type": "execute_result"
    },
    {
     "data": {
      "image/png": "[encoded data removed]",
      "text/plain": [
       "<Figure size 432x288 with 1 Axes>"
      ]
     },
     "metadata": {
      "needs_background": "light"
     },
     "output_type": "display_data"
    }
   ],
   "source": [
    "plt.hist(CRPS,bins = 50)"
   ]
  }
 ],
 "metadata": {
  "kernelspec": {
   "display_name": "Python 3",
   "language": "python",
   "name": "python3"
  },
  "language_info": {
   "codemirror_mode": {
    "name": "ipython",
    "version": 3
   },
   "file_extension": ".py",
   "mimetype": "text/x-python",
   "name": "python",
   "nbconvert_exporter": "python",
   "pygments_lexer": "ipython3",
   "version": "3.8.10"
  }
 },
 "nbformat": 4,
 "nbformat_minor": 5
}
